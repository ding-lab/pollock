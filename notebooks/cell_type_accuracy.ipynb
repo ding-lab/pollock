{
 "cells": [
  {
   "cell_type": "code",
   "execution_count": null,
   "metadata": {},
   "outputs": [],
   "source": [
    "import os\n",
    "import re\n",
    "from collections import Counter\n",
    "\n",
    "import pandas as pd\n",
    "import scanpy as sc\n",
    "import seaborn as sns\n",
    "import matplotlib.pyplot as plt"
   ]
  },
  {
   "cell_type": "code",
   "execution_count": null,
   "metadata": {},
   "outputs": [],
   "source": [
    "%load_ext autoreload"
   ]
  },
  {
   "cell_type": "code",
   "execution_count": null,
   "metadata": {},
   "outputs": [],
   "source": [
    "%autoreload 2"
   ]
  },
  {
   "cell_type": "code",
   "execution_count": null,
   "metadata": {},
   "outputs": [],
   "source": [
    "import pollock\n",
    "from pollock.models.model import PollockDataset, PollockModel"
   ]
  },
  {
   "cell_type": "code",
   "execution_count": null,
   "metadata": {},
   "outputs": [],
   "source": [
    "DATA_DIR = '/data/single_cell_classification'\n",
    "MODEL_DIR = '/models'"
   ]
  },
  {
   "cell_type": "code",
   "execution_count": null,
   "metadata": {},
   "outputs": [],
   "source": [
    "run_name = 'snCCRCC_immune_annotated_v0.1.0_v2'\n",
    "adata = sc.read_h5ad('/data/single_cell_classification/immune/snCCRCC/merged.h5ad')\n",
    "\n",
    "malignant_cell_type = 'Tumor'\n",
    "cell_type_key = 'cell_type'\n",
    "model_save_dir = os.path.join(MODEL_DIR, run_name)\n",
    "\n",
    "adata = adata[adata.obs['cell_type']!='Mixed myeloid/lymphoid']\n",
    "adata"
   ]
  },
  {
   "cell_type": "code",
   "execution_count": null,
   "metadata": {},
   "outputs": [],
   "source": []
  },
  {
   "cell_type": "code",
   "execution_count": null,
   "metadata": {},
   "outputs": [],
   "source": [
    "counts = Counter(adata.obs[cell_type_key])\n",
    "counts.most_common()"
   ]
  },
  {
   "cell_type": "code",
   "execution_count": null,
   "metadata": {},
   "outputs": [],
   "source": [
    "# !mkdir /models/figures"
   ]
  },
  {
   "cell_type": "code",
   "execution_count": null,
   "metadata": {},
   "outputs": [],
   "source": [
    "sns.countplot(adata.obs['cell_type'], color=sns.color_palette()[0])\n",
    "plt.yscale('log')\n",
    "plt.xticks(rotation=90)\n",
    "plt.tight_layout()\n",
    "plt.savefig('/models/figures/snCCRCC_cell_counts.pdf')"
   ]
  },
  {
   "cell_type": "code",
   "execution_count": null,
   "metadata": {},
   "outputs": [],
   "source": [
    "sc.settings. = '/models/figures/'"
   ]
  },
  {
   "cell_type": "code",
   "execution_count": null,
   "metadata": {},
   "outputs": [],
   "source": [
    "sc.pl.umap(adata, color=['cell_type'], save='_annotated_cell_types_snCCRCC.pdf')"
   ]
  },
  {
   "cell_type": "code",
   "execution_count": null,
   "metadata": {},
   "outputs": [],
   "source": [
    "pds = PollockDataset(adata.copy(), cell_type_key=cell_type_key, n_per_cell_type=1000,\n",
    "                    dataset_type='training')"
   ]
  },
  {
   "cell_type": "code",
   "execution_count": null,
   "metadata": {},
   "outputs": [],
   "source": [
    "pm = PollockModel(pds.cell_types, pds.train_adata.shape[1], alpha=.0001, latent_dim=25)"
   ]
  },
  {
   "cell_type": "code",
   "execution_count": null,
   "metadata": {},
   "outputs": [],
   "source": [
    "pm.fit(pds, epochs=13)"
   ]
  },
  {
   "cell_type": "code",
   "execution_count": null,
   "metadata": {},
   "outputs": [],
   "source": [
    "pm.save(pds, model_save_dir)"
   ]
  },
  {
   "cell_type": "code",
   "execution_count": null,
   "metadata": {},
   "outputs": [],
   "source": [
    "cdf = pd.DataFrame(data=pm.summary['validation']['confusion_matrix'], columns=pm.class_names,\n",
    "                  index=pm.class_names)\n",
    "print(pm.summary['validation']['metrics']['accuracy'])\n",
    "sns.heatmap(cdf, cmap='Blues')"
   ]
  },
  {
   "cell_type": "code",
   "execution_count": null,
   "metadata": {},
   "outputs": [],
   "source": [
    "pm.summary['model_parameters']"
   ]
  },
  {
   "cell_type": "code",
   "execution_count": null,
   "metadata": {},
   "outputs": [],
   "source": [
    "pm.summary['history'].keys()"
   ]
  },
  {
   "cell_type": "code",
   "execution_count": null,
   "metadata": {},
   "outputs": [],
   "source": [
    "loss, label, epoch = [], [], []\n",
    "for k in ['train_loss', 'validation_loss']:\n",
    "    loss += pm.summary['history'][k]\n",
    "    label += [k] * len(pm.summary['history'][k])\n",
    "    epoch += list(range(len(pm.summary['history'][k])))\n",
    "# pm.summary['history']['train_losses'] + pm.summary['history']['validation_losses']\n",
    "df = pd.DataFrame.from_dict({\n",
    "    'label': label,\n",
    "    'loss': loss,\n",
    "    'epoch': epoch\n",
    "})\n",
    "\n",
    "sns.lineplot(x='epoch', y='loss', data=df, hue='label')"
   ]
  },
  {
   "cell_type": "code",
   "execution_count": null,
   "metadata": {},
   "outputs": [],
   "source": [
    "loss, label, epoch = [], [], []\n",
    "for k in ['cell_type_train_loss', 'cell_type_val_loss']:\n",
    "    for cell_type, vals in pm.summary['history'][k].items():\n",
    "        loss += vals\n",
    "        label += [cell_type] * len(vals)\n",
    "        epoch += list(range(len(vals)))\n",
    "    \n",
    "df = pd.DataFrame.from_dict({\n",
    "    'label': label,\n",
    "    'loss': loss,\n",
    "    'epoch': epoch\n",
    "})\n",
    "palette = [c for ls in (sns.color_palette('tab20'), sns.color_palette('tab20b'), sns.color_palette('tab20c'))\n",
    "           for c in ls]\n",
    "print(len(palette))\n",
    "sns.lineplot(x='epoch', y='loss', data=df, hue='label')\n",
    "plt.legend(bbox_to_anchor=(1.05, 1))"
   ]
  },
  {
   "cell_type": "code",
   "execution_count": null,
   "metadata": {},
   "outputs": [],
   "source": [
    "loss, label, epoch = [], [], []\n",
    "for k in ['cell_type_val_f1']:\n",
    "    for cell_type, vals in pm.summary['history'][k].items():\n",
    "        loss += vals\n",
    "        label += [cell_type] * len(vals)\n",
    "        epoch += list(range(len(vals)))\n",
    "    \n",
    "df = pd.DataFrame.from_dict({\n",
    "    'label': label,\n",
    "    'F1 score': loss,\n",
    "    'epoch': epoch\n",
    "})\n",
    "\n",
    "sns.lineplot(x='epoch', y='F1 score', data=df, hue='label')\n",
    "plt.legend(bbox_to_anchor=(1.05, 1))"
   ]
  },
  {
   "cell_type": "code",
   "execution_count": null,
   "metadata": {},
   "outputs": [],
   "source": []
  },
  {
   "cell_type": "code",
   "execution_count": null,
   "metadata": {},
   "outputs": [],
   "source": []
  }
 ],
 "metadata": {
  "kernelspec": {
   "display_name": "Python 3",
   "language": "python",
   "name": "python3"
  },
  "language_info": {
   "codemirror_mode": {
    "name": "ipython",
    "version": 3
   },
   "file_extension": ".py",
   "mimetype": "text/x-python",
   "name": "python",
   "nbconvert_exporter": "python",
   "pygments_lexer": "ipython3",
   "version": "3.7.6"
  }
 },
 "nbformat": 4,
 "nbformat_minor": 4
}
