{
 "cells": [
  {
   "cell_type": "code",
   "execution_count": null,
   "metadata": {},
   "outputs": [],
   "source": [
    "from __future__ import absolute_import, division, print_function, unicode_literals\n",
    "import logging\n",
    "import os\n",
    "import random\n",
    "from collections import Counter\n",
    "from importlib import reload\n",
    "from pathlib import Path\n",
    "import json\n",
    "import time\n",
    "\n",
    "import anndata\n",
    "import numpy as np\n",
    "import pandas as pd\n",
    "import scanpy as sc\n",
    "import matplotlib.pyplot as plt\n",
    "import umap\n",
    "import scipy"
   ]
  },
  {
   "cell_type": "code",
   "execution_count": null,
   "metadata": {},
   "outputs": [],
   "source": [
    "import tensorflow as tf\n",
    "from tensorflow.keras import layers\n",
    "\n",
    "tf.keras.backend.clear_session()  # For easy reset of notebook state."
   ]
  },
  {
   "cell_type": "code",
   "execution_count": null,
   "metadata": {},
   "outputs": [],
   "source": [
    "DATA_DIR = '/data/single_cell_classification'\n",
    "MODEL_DIR = '/models'"
   ]
  },
  {
   "cell_type": "markdown",
   "metadata": {},
   "source": [
    "# just looking at known markers and trying to disintangle malignant cells"
   ]
  },
  {
   "cell_type": "markdown",
   "metadata": {},
   "source": [
    "#### tumor datasets"
   ]
  },
  {
   "cell_type": "code",
   "execution_count": null,
   "metadata": {},
   "outputs": [],
   "source": [
    "run_name = 'HTAN_breast_v5'\n",
    "adata = sc.read_h5ad('/data/single_cell_classification/tumor/BR/raw/houxiang_brca/merged.h5ad')\n",
    "\n",
    "malignant_cell_type = 'BR_Malignant'"
   ]
  },
  {
   "cell_type": "code",
   "execution_count": null,
   "metadata": {},
   "outputs": [],
   "source": [
    "run_name = 'ccrcc_v1'\n",
    "adata = sc.read_h5ad('/data/single_cell_classification/tumor/CCRCC/yige/adata.h5ad')\n",
    "\n",
    "malignant_cell_type = 'Malignant proximal tubule'"
   ]
  },
  {
   "cell_type": "code",
   "execution_count": null,
   "metadata": {},
   "outputs": [],
   "source": [
    "run_name = 'pdac_v2'\n",
    "adata = sc.read_h5ad('/data/single_cell_classification/tumor/PDAC/pdac.h5ad')\n",
    "\n",
    "malignant_cell_type = 'Ductal'"
   ]
  },
  {
   "cell_type": "code",
   "execution_count": null,
   "metadata": {},
   "outputs": [],
   "source": [
    "run_name = 'myeloma_v1'\n",
    "adata = sc.read_h5ad('/data/single_cell_classification/tumor/myeloma/processed.h5ad')\n",
    "\n",
    "malignant_cell_type = 'Plasma'"
   ]
  },
  {
   "cell_type": "code",
   "execution_count": null,
   "metadata": {},
   "outputs": [],
   "source": [
    "run_name = 'hnscc_v1'\n",
    "adata = sc.read_h5ad('/data/single_cell_classification/tumor/HNSC/processed.h5ad')\n",
    "\n",
    "malignant_cell_type = 'HNSC_Malignant/Epithelial'"
   ]
  },
  {
   "cell_type": "code",
   "execution_count": null,
   "metadata": {},
   "outputs": [],
   "source": [
    "run_name = 'cesc_v1'\n",
    "adata = sc.read_h5ad('/data/single_cell_classification/tumor/CESC/cesc.h5ad')\n",
    "\n",
    "malignant_cell_type = 'Malignant_Epithelial'"
   ]
  },
  {
   "cell_type": "code",
   "execution_count": null,
   "metadata": {},
   "outputs": [],
   "source": [
    "run_name = 'gbm_v1'\n",
    "adata = sc.read_h5ad('/data/single_cell_classification/tumor/gbm/gbm.h5ad')\n",
    "\n",
    "malignant_cell_type = 'Tumor'"
   ]
  },
  {
   "cell_type": "code",
   "execution_count": null,
   "metadata": {},
   "outputs": [],
   "source": [
    "# run_name = 'sc_cesc'\n",
    "\n",
    "# expression_fp = os.path.join(DATA_DIR, 'tumor', 'CESC', 'raw', 'cesc_yize_v2',\n",
    "#                             'Assigned_CESC_9_processed_cluster_review_final_gene_expression_format.tsv')\n",
    "# label_fp = os.path.join(DATA_DIR, 'tumor', 'CESC', 'raw', 'cesc_yize_v2',\n",
    "#                             'Assigned_CESC_9_processed_cluster_review_final_cell_metadata_format.tsv')\n",
    "\n",
    "# model_save_dir = os.path.join(MODEL_DIR, run_name)\n",
    "\n",
    "# sample_column = 'Genes'\n",
    "# sep='\\t'\n",
    "# cell_type_key = 'cell_type'\n",
    "\n",
    "# expression_df = pd.read_csv(expression_fp, sep=sep)\n",
    "# expression_df"
   ]
  },
  {
   "cell_type": "code",
   "execution_count": null,
   "metadata": {},
   "outputs": [],
   "source": [
    "# expression_df = expression_df.set_index('Genes')\n",
    "# expression_df = expression_df.transpose()\n",
    "# expression_df"
   ]
  },
  {
   "cell_type": "code",
   "execution_count": null,
   "metadata": {},
   "outputs": [],
   "source": [
    "# run_name = 'sc_hnsc'\n",
    "\n",
    "# expression_fp = os.path.join(DATA_DIR, 'tumor', 'HNSC', 'raw', 'hnsc_yize',\n",
    "#                             'Assigned_WUHN_15_processed_cluster_review_gene_expression_format_2.tsv')\n",
    "# label_fp = os.path.join(DATA_DIR, 'tumor', 'HNSC', 'raw', 'hnsc_yize',\n",
    "#                             'Assigned_WUHN_15_processed_cluster_review_cell_metadata_format_2.tsv')\n",
    "\n",
    "# model_save_dir = os.path.join(MODEL_DIR, run_name)\n",
    "\n",
    "# sample_column = 'Genes'\n",
    "# sep='\\t'\n",
    "# cell_type_key = 'cell_type'"
   ]
  },
  {
   "cell_type": "code",
   "execution_count": null,
   "metadata": {},
   "outputs": [],
   "source": [
    "# import h5py"
   ]
  },
  {
   "cell_type": "code",
   "execution_count": null,
   "metadata": {},
   "outputs": [],
   "source": [
    "# f = h5py.File(expression_fp)"
   ]
  },
  {
   "cell_type": "code",
   "execution_count": null,
   "metadata": {},
   "outputs": [],
   "source": [
    "# f.keys()"
   ]
  },
  {
   "cell_type": "code",
   "execution_count": null,
   "metadata": {},
   "outputs": [],
   "source": [
    "# df = pd.read_hdf(expression_fp.replace('.tsv', '.h5'), 'df')\n",
    "# df"
   ]
  },
  {
   "cell_type": "code",
   "execution_count": null,
   "metadata": {},
   "outputs": [],
   "source": [
    "# df"
   ]
  },
  {
   "cell_type": "code",
   "execution_count": null,
   "metadata": {},
   "outputs": [],
   "source": [
    "# label_df = pd.read_csv(\n",
    "#     label_fp,\n",
    "#     sep=sep\n",
    "#     )\n",
    "# label_df = label_df.set_index('cell_id')\n",
    "# label_df = label_df.loc[expression_df.index]\n",
    "# label_df"
   ]
  },
  {
   "cell_type": "code",
   "execution_count": null,
   "metadata": {},
   "outputs": [],
   "source": [
    "# adata = anndata.AnnData(X=expression_df.values, obs=label_df)\n",
    "# adata.obs.index = expression_df.index\n",
    "# adata.var.index = expression_df.columns\n",
    "# adata"
   ]
  },
  {
   "cell_type": "code",
   "execution_count": null,
   "metadata": {},
   "outputs": [],
   "source": []
  },
  {
   "cell_type": "code",
   "execution_count": null,
   "metadata": {},
   "outputs": [],
   "source": [
    "# adata.write_h5ad('/data/single_cell_classification/tumor/CESC/cesc.h5ad')"
   ]
  },
  {
   "cell_type": "code",
   "execution_count": null,
   "metadata": {},
   "outputs": [],
   "source": [
    "# adata.obs['cell_type'] = [x if 'Malignant' not in x else 'Malignant_Epithelial' for x in adata.obs['cell_type']]"
   ]
  },
  {
   "cell_type": "code",
   "execution_count": null,
   "metadata": {},
   "outputs": [],
   "source": []
  },
  {
   "cell_type": "code",
   "execution_count": null,
   "metadata": {},
   "outputs": [],
   "source": []
  },
  {
   "cell_type": "code",
   "execution_count": null,
   "metadata": {},
   "outputs": [],
   "source": [
    "set(adata.obs['cell_type'])"
   ]
  },
  {
   "cell_type": "code",
   "execution_count": null,
   "metadata": {},
   "outputs": [],
   "source": [
    "metadata = {}\n",
    "\n",
    "## set up figure directory structure\n",
    "run_root = f'/data/single_cell_classification/outputs/{run_name}'\n",
    "figure_root = run_root + '/figures'\n",
    "Path(figure_root).mkdir(parents=True, exist_ok=True)"
   ]
  },
  {
   "cell_type": "markdown",
   "metadata": {},
   "source": [
    "###### save a processed adata object with all the genes for later"
   ]
  },
  {
   "cell_type": "code",
   "execution_count": null,
   "metadata": {},
   "outputs": [],
   "source": [
    "## save a version of processed adata to use later that has all the genes\n",
    "adata_full = adata.copy()\n",
    "# sc.pp.filter_cells(adata_full, min_genes=200)\n",
    "# sc.pp.filter_genes(adata_full, min_cells=3)\n",
    "\n",
    "# mito_genes = adata_full.var_names.str.startswith('MT-')\n",
    "# # for each cell compute fraction of counts in mito genes vs. all genes\n",
    "# # the `.A1` is only necessary as X is sparse (to transform to a dense array after summing)\n",
    "# adata_full.obs['percent_mito'] = np.sum(\n",
    "#     adata_full[:, mito_genes].X, axis=1) / np.sum(adata_full.X, axis=1)\n",
    "# # add the total counts per cell as observations-annotation to adata\n",
    "# adata_full.obs['n_counts'] = adata_full.X.sum(axis=1)\n",
    "\n",
    "# sc.pl.scatter(adata_full, x='n_counts', y='percent_mito')\n",
    "# sc.pl.scatter(adata_full, x='n_counts', y='n_genes')"
   ]
  },
  {
   "cell_type": "code",
   "execution_count": null,
   "metadata": {},
   "outputs": [],
   "source": [
    "np.min(adata_full.X), np.max(adata_full.X)"
   ]
  },
  {
   "cell_type": "code",
   "execution_count": null,
   "metadata": {},
   "outputs": [],
   "source": [
    "# adata = adata[adata_full.obs.percent_mito < 0.2, :]\n",
    "# sc.pp.normalize_total(adata_full, target_sum=1e6)\n",
    "sc.pp.log1p(adata_full)\n",
    "adata_full.raw = adata_full\n",
    "sc.pp.scale(adata_full, max_value=None)\n",
    "adata_full"
   ]
  },
  {
   "cell_type": "code",
   "execution_count": null,
   "metadata": {},
   "outputs": [],
   "source": [
    "np.min(adata_full.raw.X), np.max(adata_full.raw.X)"
   ]
  },
  {
   "cell_type": "code",
   "execution_count": null,
   "metadata": {},
   "outputs": [],
   "source": []
  },
  {
   "cell_type": "code",
   "execution_count": null,
   "metadata": {},
   "outputs": [],
   "source": []
  },
  {
   "cell_type": "code",
   "execution_count": null,
   "metadata": {},
   "outputs": [],
   "source": []
  },
  {
   "cell_type": "markdown",
   "metadata": {},
   "source": [
    "#### stem dataset"
   ]
  },
  {
   "cell_type": "code",
   "execution_count": null,
   "metadata": {},
   "outputs": [],
   "source": [
    "stem_adata = sc.read_h5ad('/data/stemness/ERP016000/merged.h5ad')"
   ]
  },
  {
   "cell_type": "code",
   "execution_count": null,
   "metadata": {},
   "outputs": [],
   "source": [
    "stem_adata"
   ]
  },
  {
   "cell_type": "code",
   "execution_count": null,
   "metadata": {},
   "outputs": [],
   "source": []
  },
  {
   "cell_type": "code",
   "execution_count": null,
   "metadata": {},
   "outputs": [],
   "source": [
    "## go ahead and filter to make sure genes are in sych across datasets\n",
    "genes = set.intersection(set(adata.var.index), set(stem_adata.var.index))\n",
    "len(genes)"
   ]
  },
  {
   "cell_type": "code",
   "execution_count": null,
   "metadata": {},
   "outputs": [],
   "source": [
    "adata = adata[:, sorted(genes)]\n",
    "stem_adata = stem_adata[:, sorted(genes)]\n",
    "adata, stem_adata"
   ]
  },
  {
   "cell_type": "code",
   "execution_count": null,
   "metadata": {},
   "outputs": [],
   "source": [
    "## double check the normalization space for the stem data\n",
    "## should be already log transformed for ERP016000\n",
    "np.min(stem_adata.X), np.max(stem_adata.X)"
   ]
  },
  {
   "cell_type": "code",
   "execution_count": null,
   "metadata": {},
   "outputs": [],
   "source": [
    "## only needs to be run if you need to filter stem data\n",
    "\n",
    "# sc.pp.filter_cells(stem_adata, min_genes=200)\n",
    "# sc.pp.filter_genes(stem_adata, min_cells=3)\n",
    "\n",
    "# mito_genes = stem_adata.var_names.str.startswith('MT-')\n",
    "# # for each cell compute fraction of counts in mito genes vs. all genes\n",
    "# # the `.A1` is only necessary as X is sparse (to transform to a dense array after summing)\n",
    "# stem_adata.obs['percent_mito'] = np.sum(\n",
    "#     stem_adata[:, mito_genes].X, axis=1) / np.sum(stem_adata.X, axis=1)\n",
    "# # add the total counts per cell as observations-annotation to adata\n",
    "# stem_adata.obs['n_counts'] = stem_adata.X.sum(axis=1)\n",
    "\n",
    "# sc.pl.scatter(stem_adata, x='n_counts', y='percent_mito')\n",
    "# sc.pl.scatter(stem_adata, x='n_counts', y='n_genes')"
   ]
  },
  {
   "cell_type": "code",
   "execution_count": null,
   "metadata": {},
   "outputs": [],
   "source": [
    "## only run if you need to filter tumor cells\n",
    "\n",
    "# sc.pp.filter_cells(adata, min_genes=200)\n",
    "# sc.pp.filter_genes(adata, min_cells=3)\n",
    "\n",
    "# mito_genes = adata.var_names.str.startswith('MT-')\n",
    "# # for each cell compute fraction of counts in mito genes vs. all genes\n",
    "# # the `.A1` is only necessary as X is sparse (to transform to a dense array after summing)\n",
    "# adata.obs['percent_mito'] = np.sum(\n",
    "#     adata[:, mito_genes].X, axis=1) / np.sum(adata.X, axis=1)\n",
    "# # add the total counts per cell as observations-annotation to adata\n",
    "# adata.obs['n_counts'] = adata.X.sum(axis=1)\n",
    "\n",
    "# sc.pl.scatter(adata, x='n_counts', y='percent_mito')\n",
    "# sc.pl.scatter(adata, x='n_counts', y='n_genes')"
   ]
  },
  {
   "cell_type": "code",
   "execution_count": null,
   "metadata": {},
   "outputs": [],
   "source": [
    "# adata = adata[adata.obs.percent_mito < 0.2, :]\n",
    "# adata"
   ]
  },
  {
   "cell_type": "code",
   "execution_count": null,
   "metadata": {},
   "outputs": [],
   "source": [
    "# sc.pp.normalize_total(adata, target_sum=1e6)\n",
    "sc.pp.log1p(adata)\n",
    "adata.raw = adata\n",
    "adata"
   ]
  },
  {
   "cell_type": "code",
   "execution_count": null,
   "metadata": {},
   "outputs": [],
   "source": [
    "## check normalization space\n",
    "np.min(adata.raw.X), np.max(adata.raw.X)"
   ]
  },
  {
   "cell_type": "code",
   "execution_count": null,
   "metadata": {},
   "outputs": [],
   "source": [
    "## not going to filter out genes for now\n",
    "# sc.pp.highly_variable_genes(adata, min_mean=0.0, max_mean=10., min_disp=0.25)\n",
    "# sc.pl.highly_variable_genes(adata)"
   ]
  },
  {
   "cell_type": "code",
   "execution_count": null,
   "metadata": {},
   "outputs": [],
   "source": [
    "# np.count_nonzero(adata.var.highly_variable)"
   ]
  },
  {
   "cell_type": "code",
   "execution_count": null,
   "metadata": {},
   "outputs": [],
   "source": [
    "# adata = adata[:, adata.var.highly_variable]\n",
    "sc.pp.scale(adata, max_value=None)\n",
    "adata"
   ]
  },
  {
   "cell_type": "code",
   "execution_count": null,
   "metadata": {},
   "outputs": [],
   "source": [
    "stem_adata.raw = stem_adata\n",
    "sc.pp.scale(stem_adata, max_value=None)\n",
    "stem_adata"
   ]
  },
  {
   "cell_type": "code",
   "execution_count": null,
   "metadata": {},
   "outputs": [],
   "source": [
    "sc.tl.pca(adata, svd_solver='arpack')\n",
    "sc.pp.neighbors(adata, n_neighbors=10, n_pcs=30)\n",
    "sc.tl.umap(adata)"
   ]
  },
  {
   "cell_type": "code",
   "execution_count": null,
   "metadata": {},
   "outputs": [],
   "source": [
    "sc.tl.pca(stem_adata, svd_solver='arpack')\n",
    "sc.pp.neighbors(stem_adata, n_neighbors=10, n_pcs=30)\n",
    "sc.tl.umap(stem_adata)"
   ]
  },
  {
   "cell_type": "code",
   "execution_count": null,
   "metadata": {},
   "outputs": [],
   "source": [
    "## add gene count\n",
    "adata.obs['gene_count'] = np.count_nonzero(adata.raw.X, axis=1).flatten()\n",
    "stem_adata.obs['gene_count'] = np.count_nonzero(stem_adata.raw.X, axis=1).flatten()"
   ]
  },
  {
   "cell_type": "code",
   "execution_count": null,
   "metadata": {},
   "outputs": [],
   "source": [
    "\"\"\"\n",
    "SCA1: ATXN1\n",
    "CD29: ITGB1\n",
    "OCT4: POU5F1\n",
    "\"\"\"\n",
    "all_markers = ['CD24', 'ITGB1', 'EPCAM', 'CD44', 'ATXN1']\n",
    "## wnt signaling\n",
    "all_markers += ['AXIN2', 'PTN', 'WIF1']\n",
    "# more traditional stem markers\n",
    "all_markers += ['SOX2', 'POU5F1', 'GATA6', 'NANOG']\n",
    "\n",
    "print([m for m in all_markers if m not in genes])\n",
    "markers = [m for m in all_markers if m in genes]\n",
    "all_markers = [m for m in all_markers if m in adata_full.var.index]"
   ]
  },
  {
   "cell_type": "code",
   "execution_count": null,
   "metadata": {},
   "outputs": [],
   "source": [
    "figdir = os.path.join(figure_root, 'vanilla_umap')\n",
    "Path(figdir).mkdir(parents=True, exist_ok=True)\n",
    "sc.settings.figdir = figdir"
   ]
  },
  {
   "cell_type": "code",
   "execution_count": null,
   "metadata": {},
   "outputs": [],
   "source": [
    "colors = ['day', 'gene_count']\n",
    "colors += markers\n",
    "sc.pl.umap(stem_adata, color=colors, ncols=1, color_map='Reds', save='_stem.pdf')"
   ]
  },
  {
   "cell_type": "code",
   "execution_count": null,
   "metadata": {},
   "outputs": [],
   "source": [
    "set(adata.obs.columns)"
   ]
  },
  {
   "cell_type": "code",
   "execution_count": null,
   "metadata": {},
   "outputs": [],
   "source": [
    "set(adata.obs['cell_type'])"
   ]
  },
  {
   "cell_type": "code",
   "execution_count": null,
   "metadata": {},
   "outputs": [],
   "source": [
    "set(adata.obs['sample_id'])"
   ]
  },
  {
   "cell_type": "code",
   "execution_count": null,
   "metadata": {},
   "outputs": [],
   "source": [
    "# adata.obs['sample_id'] = list(adata.obs['orig.ident'])\n",
    "# adata.obs['sample_id_overall'] = [x for x in adata.obs['sample']]"
   ]
  },
  {
   "cell_type": "code",
   "execution_count": null,
   "metadata": {},
   "outputs": [],
   "source": [
    "## add macro sample id\n",
    "adata.obs['sample_id_overall'] = ['-'.join(x.split('-')[:-1]) for x in adata.obs['sample_id']]\n",
    "# adata.obs['sample_id_overall'] = [x for x in adata.obs['sample_id']]"
   ]
  },
  {
   "cell_type": "code",
   "execution_count": null,
   "metadata": {},
   "outputs": [],
   "source": []
  },
  {
   "cell_type": "code",
   "execution_count": null,
   "metadata": {},
   "outputs": [],
   "source": [
    "colors = ['sample_id', 'cell_type', 'sample_id_overall', 'gene_count']\n",
    "colors += markers\n",
    "sc.pl.umap(adata, color=colors, ncols=1, color_map='Reds', save='_tumor_all_cells.pdf')"
   ]
  },
  {
   "cell_type": "code",
   "execution_count": null,
   "metadata": {},
   "outputs": [],
   "source": [
    "cell_type_key = 'cell_type'\n",
    "tumor_adata = adata[adata.obs[cell_type_key]==malignant_cell_type].copy()\n",
    "tumor_adata"
   ]
  },
  {
   "cell_type": "code",
   "execution_count": null,
   "metadata": {},
   "outputs": [],
   "source": [
    "colors = ['sample_id_overall', 'sample_id', 'cell_type', 'gene_count']\n",
    "colors += markers\n",
    "sc.pl.umap(tumor_adata, color=colors, ncols=1, color_map='Reds', save='_tumor_only.pdf')"
   ]
  },
  {
   "cell_type": "code",
   "execution_count": null,
   "metadata": {},
   "outputs": [],
   "source": [
    "# sc.pl.dotplot(tumor_adata, markers, groupby='sample_id')"
   ]
  },
  {
   "cell_type": "code",
   "execution_count": null,
   "metadata": {},
   "outputs": [],
   "source": [
    "sample_id = 'all'\n",
    "# sample_id = 'TWCE-HT062B1-S1PAA1A1Z1B1'\n",
    "# sample_id = 'TWCE-HT065B1-S1H7A2A1Z1B1'\n",
    "colors = ['sample_id', 'cell_type', 'gene_count']\n",
    "colors += markers\n",
    "p_adata = tumor_adata[tumor_adata.obs['sample_id']==sample_id] if sample_id != 'all' else tumor_adata\n",
    "sc.pl.umap(p_adata, color=colors, ncols=1, color_map='Reds',\n",
    "          save=f'_tumor_{sample_id}.pdf')"
   ]
  },
  {
   "cell_type": "code",
   "execution_count": null,
   "metadata": {},
   "outputs": [],
   "source": [
    "if sample_id != 'all':\n",
    "    tumor_adata = tumor_adata[tumor_adata.obs['sample_id']==sample_id].copy()\n",
    "tumor_adata"
   ]
  },
  {
   "cell_type": "code",
   "execution_count": null,
   "metadata": {},
   "outputs": [],
   "source": [
    "metadata['tumor_sample_ids'] = sorted(set(tumor_adata.obs['sample_id']))\n",
    "metadata['tumor_num_samples'] = len(metadata['tumor_sample_ids'])\n",
    "metadata['tumor_cell_counts'] = Counter(tumor_adata.obs['cell_type'])\n",
    "metadata['tumor_sample_cell_counts'] = Counter(tumor_adata.obs['sample_id'])"
   ]
  },
  {
   "cell_type": "code",
   "execution_count": null,
   "metadata": {},
   "outputs": [],
   "source": [
    "# colors = [x for x in markers]\n",
    "colors = ['nanog_status', 'pou5f1_status', 'sox2_status']\n",
    "p_adata = tumor_adata.copy()\n",
    "\n",
    "if 'sparse' in str(type(tumor_adata.raw.X)):\n",
    "    p_adata.obs['nanog_status'] = (tumor_adata.raw[:, tumor_adata.var.index=='NANOG'].X > .1).toarray().flatten()\n",
    "    p_adata.obs['pou5f1_status'] = (tumor_adata.raw[:, tumor_adata.var.index=='POU5F1'].X > .1).toarray().flatten()\n",
    "    p_adata.obs['sox2_status'] = (tumor_adata.raw[:, tumor_adata.var.index=='SOX2'].X > .1).toarray().flatten()\n",
    "else:\n",
    "    p_adata.obs['nanog_status'] = (tumor_adata.raw[:, tumor_adata.var.index=='NANOG'].X > .1).flatten()\n",
    "    p_adata.obs['pou5f1_status'] = (tumor_adata.raw[:, tumor_adata.var.index=='POU5F1'].X > .1).flatten()\n",
    "    p_adata.obs['sox2_status'] = (tumor_adata.raw[:, tumor_adata.var.index=='SOX2'].X > .1).flatten()\n",
    "\n",
    "\n",
    "sc.pl.umap(p_adata,\n",
    "           color=colors, ncols=1, color_map='Reds', use_raw=True,\n",
    "          save=f'_tumor_{sample_id}_marker_status.pdf')"
   ]
  },
  {
   "cell_type": "code",
   "execution_count": null,
   "metadata": {},
   "outputs": [],
   "source": [
    "tumor_adata.obs['nanog_status'] = p_adata.obs['nanog_status']\n",
    "tumor_adata.obs['pou5f1_status'] = p_adata.obs['pou5f1_status']\n",
    "tumor_adata.obs['sox2_status'] = p_adata.obs['sox2_status']\n",
    "\n",
    "metadata['tumor_marker_counts'] = {'nanog': Counter(tumor_adata.obs['nanog_status']), \n",
    "         'pou5f1': Counter(tumor_adata.obs['pou5f1_status']), \n",
    "         'sox2': Counter(tumor_adata.obs['sox2_status'])}\n",
    "metadata['tumor_marker_counts']"
   ]
  },
  {
   "cell_type": "code",
   "execution_count": null,
   "metadata": {},
   "outputs": [],
   "source": [
    "import pollock\n",
    "nanog_cells = pollock.balancedish_training_generator(tumor_adata, 'nanog_status', 100)[0].obs.index\n",
    "pou5f1_cells = pollock.balancedish_training_generator(tumor_adata, 'pou5f1_status', 100)[0].obs.index\n",
    "sox2_cells = pollock.balancedish_training_generator(tumor_adata, 'sox2_status', 100)[0].obs.index\n",
    "\n",
    "nanog_cells, pou5f1_cells, sox2_cells"
   ]
  },
  {
   "cell_type": "code",
   "execution_count": null,
   "metadata": {},
   "outputs": [],
   "source": [
    "metadata['tumor_marker_training_cells'] = {\n",
    "    'nanog': list(nanog_cells),\n",
    "    'pou5f1': list(pou5f1_cells),\n",
    "    'sox2': list(sox2_cells),\n",
    "}"
   ]
  },
  {
   "cell_type": "code",
   "execution_count": null,
   "metadata": {},
   "outputs": [],
   "source": [
    "idxs = np.asarray(sorted(set(np.concatenate((nanog_cells, pou5f1_cells, sox2_cells)))))\n",
    "sc.pl.umap(tumor_adata[idxs], color=markers)"
   ]
  },
  {
   "cell_type": "code",
   "execution_count": null,
   "metadata": {},
   "outputs": [],
   "source": [
    "n = 200\n",
    "\n",
    "remaining_idxs = np.asarray(list(tumor_adata.obs.index))\n",
    "np.random.shuffle(remaining_idxs)\n",
    "\n",
    "remaining_idxs = np.asarray([x for x in remaining_idxs[:n] if x not in idxs])\n",
    "\n",
    "train_idxs = np.concatenate((idxs, remaining_idxs))\n",
    "\n",
    "val_idxs = np.asarray([i for i in tumor_adata.obs.index if i not in set(train_idxs)])\n",
    "\n",
    "tumor_train_adata = tumor_adata.copy()[train_idxs]\n",
    "tumor_val_adata = tumor_adata.copy()[val_idxs]\n",
    "\n",
    "\n",
    "tumor_train_adata, tumor_val_adata"
   ]
  },
  {
   "cell_type": "code",
   "execution_count": null,
   "metadata": {},
   "outputs": [],
   "source": [
    "len(set(tumor_train_adata.obs.index)), len(set(tumor_val_adata.obs.index))"
   ]
  },
  {
   "cell_type": "code",
   "execution_count": null,
   "metadata": {},
   "outputs": [],
   "source": [
    "stem_train_adata, stem_val_adata = pollock.balancedish_training_generator(stem_adata, 'day', 100)\n",
    "\n",
    "stem_train_adata, stem_val_adata"
   ]
  },
  {
   "cell_type": "code",
   "execution_count": null,
   "metadata": {},
   "outputs": [],
   "source": [
    "stem_train_adata.obs['dataset'], stem_val_adata.obs['dataset'] = 'stem', 'stem'\n",
    "tumor_train_adata.obs['dataset'], tumor_val_adata.obs['dataset'] = 'tumor', 'tumor'\n",
    "\n",
    "\n",
    "\n",
    "combined_train_adata = tumor_train_adata.concatenate(stem_train_adata)\n",
    "combined_val_adata = tumor_val_adata.concatenate(stem_val_adata)\n",
    "combined_train_adata, combined_val_adata"
   ]
  },
  {
   "cell_type": "code",
   "execution_count": null,
   "metadata": {},
   "outputs": [],
   "source": [
    "from sklearn.preprocessing import OneHotEncoder, MinMaxScaler\n",
    "\n",
    "X_train = np.copy(combined_train_adata.X)\n",
    "X_train_tumor = np.copy(combined_train_adata[combined_train_adata.obs['dataset']=='tumor'].X)\n",
    "X_train_stem = np.copy(combined_train_adata[combined_train_adata.obs['dataset']=='stem'].X)\n",
    "X_val = np.copy(combined_val_adata.X)\n",
    "X_val_tumor = np.copy(combined_val_adata[combined_val_adata.obs['dataset']=='tumor'].X)\n",
    "X_val_stem = np.copy(combined_val_adata[combined_val_adata.obs['dataset']=='stem'].X)\n",
    "\n",
    "scaler = MinMaxScaler(feature_range=(0, 1))\n",
    "X_train = scaler.fit_transform(X_train)\n",
    "X_val = scaler.transform(X_val)\n",
    "X_train_tumor = scaler.transform(X_train_tumor)\n",
    "X_train_stem = scaler.transform(X_train_stem)\n",
    "X_val_tumor = scaler.transform(X_val_tumor)\n",
    "X_val_stem = scaler.transform(X_val_stem)\n",
    "\n",
    "X_train.shape, X_val.shape"
   ]
  },
  {
   "cell_type": "code",
   "execution_count": null,
   "metadata": {},
   "outputs": [],
   "source": [
    "TRAIN_BUF = 10000\n",
    "BATCH_SIZE = 64\n",
    "\n",
    "train_dataset = tf.data.Dataset.from_tensor_slices(X_train).shuffle(TRAIN_BUF).batch(BATCH_SIZE)\n",
    "val_dataset = tf.data.Dataset.from_tensor_slices(X_val).batch(BATCH_SIZE)\n",
    "train_dataset_tumor = tf.data.Dataset.from_tensor_slices(X_train_tumor).batch(BATCH_SIZE)\n",
    "train_dataset_stem = tf.data.Dataset.from_tensor_slices(X_train_stem).batch(BATCH_SIZE)\n",
    "val_dataset_tumor = tf.data.Dataset.from_tensor_slices(X_val_tumor[:1000]).batch(BATCH_SIZE)\n",
    "val_dataset_stem = tf.data.Dataset.from_tensor_slices(X_val_stem[:1000]).batch(BATCH_SIZE)"
   ]
  },
  {
   "cell_type": "code",
   "execution_count": null,
   "metadata": {},
   "outputs": [],
   "source": [
    "class BVAE(tf.keras.Model):\n",
    "  def __init__(self, latent_dim, input_size):\n",
    "    super(BVAE, self).__init__()\n",
    "    self.latent_dim = latent_dim\n",
    "    self.input_size = input_size\n",
    "    self.inference_net = tf.keras.Sequential(\n",
    "      [\n",
    "          tf.keras.layers.InputLayer(input_shape=(input_size,)),\n",
    "          tf.keras.layers.Dense(800, activation='relu'),\n",
    "          tf.keras.layers.Dropout(.2),\n",
    "          tf.keras.layers.Dense(800, activation='relu'),\n",
    "          tf.keras.layers.Dropout(.2),\n",
    "          tf.keras.layers.Dense(latent_dim + latent_dim),\n",
    "      ]\n",
    "    )\n",
    "\n",
    "    self.generative_net = tf.keras.Sequential(\n",
    "        [\n",
    "          tf.keras.layers.InputLayer(input_shape=(latent_dim,)),\n",
    "          tf.keras.layers.Dense(800, activation='relu'),\n",
    "          tf.keras.layers.Dropout(.2),\n",
    "          tf.keras.layers.Dense(800, activation='relu'),\n",
    "          tf.keras.layers.Dropout(.2),\n",
    "          tf.keras.layers.Dense(input_size),\n",
    "        ]\n",
    "    )\n",
    "\n",
    "  @tf.function\n",
    "  def sample(self, eps=None):\n",
    "    if eps is None:\n",
    "      eps = tf.random.normal(shape=(100, self.latent_dim))\n",
    "    return self.decode(eps, apply_sigmoid=True)\n",
    "\n",
    "  def encode(self, x):\n",
    "    mean, logvar = tf.split(self.inference_net(x), num_or_size_splits=2, axis=1)\n",
    "    return mean, logvar\n",
    "\n",
    "  def reparameterize(self, mean, logvar):\n",
    "    eps = tf.random.normal(shape=mean.shape)\n",
    "    return eps * tf.exp(logvar * .5) + mean\n",
    "\n",
    "  def decode(self, z, apply_sigmoid=False):\n",
    "    logits = self.generative_net(z)\n",
    "    if apply_sigmoid:\n",
    "      probs = tf.sigmoid(logits)\n",
    "      return probs\n",
    "\n",
    "    return logits"
   ]
  },
  {
   "cell_type": "code",
   "execution_count": null,
   "metadata": {},
   "outputs": [],
   "source": [
    "optimizer = tf.keras.optimizers.Adam(1e-4)\n",
    "\n",
    "def log_normal_pdf(sample, mean, logvar, raxis=1):\n",
    "  log2pi = tf.math.log(2. * np.pi)\n",
    "  return tf.reduce_sum(\n",
    "      -.5 * ((sample - mean) ** 2. * tf.exp(-logvar) + logvar + log2pi),\n",
    "      axis=raxis)\n",
    "\n",
    "@tf.function\n",
    "def compute_loss(model, x, alpha=0.00005, boost_idxs=None, boost_value=2.):\n",
    "  mean, logvar = model.encode(x)\n",
    "  z = model.reparameterize(mean, logvar)\n",
    "  x_logit = model.decode(z)\n",
    "\n",
    "  kl_loss = .5 * tf.reduce_sum(tf.exp(logvar) + tf.square(mean) - 1. - logvar, axis=1)\n",
    "    \n",
    "  if boost_idxs is not None:\n",
    "#     diff = (x - x_logit) + (boost_value * (tf.gather(x, boost_idxs) - tf.gather(x_logit, boost_idxs)))\n",
    "    normal_reconstruction =  tf.reduce_sum(tf.square((x - x_logit)), axis=1)\n",
    "    boost_reconstruction = boost_value * tf.reduce_sum(tf.square(((tf.gather(x, boost_idxs, axis=1) - tf.gather(x_logit, boost_idxs, axis=1)))), axis=1)\n",
    "    reconstruction_loss = .5 * (normal_reconstruction + boost_reconstruction)\n",
    "#     diff = tf.square((x - x_logit)) + tf.square((boost_value * (tf.gather(x, boost_idxs, axis=1) - tf.gather(x_logit, boost_idxs, axis=1))))\n",
    "#     reconstruction_loss = .5 * tf.reduce_sum(tf.square(diff), axis=1)\n",
    "  else:\n",
    "    reconstruction_loss = .5 * tf.reduce_sum(tf.square((x - x_logit)), axis=1)\n",
    "\n",
    "  overall_loss = tf.reduce_mean(reconstruction_loss + alpha * kl_loss)\n",
    "  return overall_loss\n",
    "\n",
    "@tf.function\n",
    "def compute_apply_gradients(model, x, optimizer, alpha=.00005, boost_idxs=None, boost_value=None):\n",
    "  with tf.GradientTape() as tape:\n",
    "    loss = compute_loss(model, x, alpha=alpha, boost_idxs=boost_idxs, boost_value=boost_value)\n",
    "  gradients = tape.gradient(loss, model.trainable_variables)\n",
    "  optimizer.apply_gradients(zip(gradients, model.trainable_variables))\n",
    "    "
   ]
  },
  {
   "cell_type": "code",
   "execution_count": null,
   "metadata": {},
   "outputs": [],
   "source": [
    "epochs = 250\n",
    "latent_dim = 100\n",
    "alpha = 5.\n",
    "\n",
    "to_boost = ['SOX2', 'NANOG', 'POU5F1']\n",
    "boost_idxs = np.asarray([i for i, gene in enumerate(combined_train_adata.var.index)\n",
    "                            if gene in to_boost])\n",
    "boost_value = 1.\n",
    "\n",
    "model = BVAE(latent_dim, X_train.shape[1])"
   ]
  },
  {
   "cell_type": "code",
   "execution_count": null,
   "metadata": {},
   "outputs": [],
   "source": [
    "run_name\n",
    "metadata['training'] = {\n",
    "    'epochs': epochs,\n",
    "    'latent_dim': latent_dim,\n",
    "    'alpha': alpha,\n",
    "    'boost_value': boost_value,\n",
    "    'boost_genes': to_boost\n",
    "}"
   ]
  },
  {
   "cell_type": "code",
   "execution_count": null,
   "metadata": {
    "scrolled": true
   },
   "outputs": [],
   "source": [
    "# generate_and_save_images(model, 0, random_vector_for_generation)\n",
    "\n",
    "for epoch in range(1, epochs + 1):\n",
    "  start_time = time.time()\n",
    "  for train_x in train_dataset:\n",
    "    compute_apply_gradients(model, train_x, optimizer, alpha=alpha,\n",
    "                           boost_idxs=boost_idxs, boost_value=boost_value)\n",
    "  end_time = time.time()\n",
    "\n",
    "  if epoch % 1 == 0:\n",
    "    train_tumor_loss = tf.keras.metrics.Mean()\n",
    "    for x in train_dataset_tumor:\n",
    "        train_tumor_loss(compute_loss(model, x, alpha=alpha,\n",
    "                                     boost_idxs=boost_idxs, boost_value=boost_value))\n",
    "        \n",
    "    train_stem_loss = tf.keras.metrics.Mean()\n",
    "    for x in train_dataset_stem:\n",
    "        train_stem_loss(compute_loss(model, x, alpha=alpha,\n",
    "                                    boost_idxs=boost_idxs, boost_value=boost_value))\n",
    "        \n",
    "    val_tumor_loss = tf.keras.metrics.Mean()\n",
    "    for x in val_dataset_tumor:\n",
    "        val_tumor_loss(compute_loss(model, x, alpha=alpha,\n",
    "                                   boost_idxs=boost_idxs, boost_value=boost_value))\n",
    "        \n",
    "    nonboost_val_tumor_loss = tf.keras.metrics.Mean()\n",
    "    for x in val_dataset_tumor:\n",
    "        nonboost_val_tumor_loss(compute_loss(model, x, alpha=alpha,\n",
    "                                   boost_idxs=None, boost_value=None))\n",
    "        \n",
    "    val_stem_loss = tf.keras.metrics.Mean()\n",
    "    for x in val_dataset_stem:\n",
    "        val_stem_loss(compute_loss(model, x, alpha=alpha,\n",
    "                                  boost_idxs=boost_idxs, boost_value=boost_value))\n",
    "#     loss = tf.keras.metrics.Mean()\n",
    "#     for test_x in test_dataset:\n",
    "#       loss(compute_loss(model, test_x, alpha=alpha))\n",
    "#       break\n",
    "\n",
    "#     print(f'epoch: {epoch}, val loss: {compute_loss(model, next(iter(test_dataset)), alpha)}')\n",
    "    print(f'epoch: {epoch}, train tumor loss: {train_tumor_loss.result()}, \\\n",
    "train stem loss: {train_stem_loss.result()}, val tumor loss: {val_tumor_loss.result()}, \\\n",
    "val stem loss: {val_stem_loss.result()}, non-boosted val tumor loss: {nonboost_val_tumor_loss.result()}')"
   ]
  },
  {
   "cell_type": "code",
   "execution_count": null,
   "metadata": {},
   "outputs": [],
   "source": [
    "combined_adata = combined_train_adata.concatenate(combined_val_adata)\n",
    "mean, logvar = model.encode(combined_adata.X)\n",
    "cell_embeddings = model.reparameterize(mean, logvar).numpy()\n",
    "cell_embeddings.shape"
   ]
  },
  {
   "cell_type": "code",
   "execution_count": null,
   "metadata": {},
   "outputs": [],
   "source": [
    "combined_adata.obsm['cell_embeddings'] = cell_embeddings\n",
    "combined_adata.obsm['cell_embedding_umap'] = umap.UMAP().fit_transform(combined_adata.obsm['cell_embeddings'])\n",
    "combined_adata.obs['cell_embedding_umap1'] = combined_adata.obsm['cell_embedding_umap'][:, 0]\n",
    "combined_adata.obs['cell_embedding_umap2'] = combined_adata.obsm['cell_embedding_umap'][:, 1]\n",
    "\n",
    "combined_adata"
   ]
  },
  {
   "cell_type": "code",
   "execution_count": null,
   "metadata": {},
   "outputs": [],
   "source": [
    "figdir = os.path.join(figure_root, 'raw_bvae_cell_embeddings')\n",
    "Path(figdir).mkdir(parents=True, exist_ok=True)\n",
    "sc.settings.figdir = figdir"
   ]
  },
  {
   "cell_type": "code",
   "execution_count": null,
   "metadata": {},
   "outputs": [],
   "source": [
    "variables = ['dataset', 'day', 'gene_count']\n",
    "variables += markers\n",
    "for var in variables:\n",
    "#     if var in combined_adata.var.index or var in combined_adata.obs.columns:\n",
    "    sc.pl.scatter(combined_adata, x='cell_embedding_umap1', y='cell_embedding_umap2', color=var,\n",
    "                 frameon=False, color_map='Reds', save=f'_umap_{var}.pdf')\n",
    "    plt.show()"
   ]
  },
  {
   "cell_type": "code",
   "execution_count": null,
   "metadata": {
    "scrolled": true
   },
   "outputs": [],
   "source": [
    "variables = ['dataset', 'day', 'gene_count', 'sample_id_overall', 'sample_id']\n",
    "variables += markers\n",
    "for var in variables:\n",
    "#     if var in combined_adata.var.index or var in combined_adata.obs.columns:\n",
    "    sc.pl.scatter(combined_adata[combined_adata.obs['dataset']=='tumor'],\n",
    "                  x='cell_embedding_umap1', y='cell_embedding_umap2', color=var,\n",
    "                 frameon=False, color_map='Reds',\n",
    "                 save=f'_tumor_only_umap_{var}.pdf')\n",
    "    plt.show()"
   ]
  },
  {
   "cell_type": "code",
   "execution_count": null,
   "metadata": {},
   "outputs": [],
   "source": [
    "variables = ['dataset', 'day', 'gene_count']\n",
    "variables += markers\n",
    "for var in variables:\n",
    "#     if var in combined_adata.var.index or var in combined_adata.obs.columns:\n",
    "    sc.pl.scatter(combined_adata[combined_adata.obs['dataset']=='stem'],\n",
    "                  x='cell_embedding_umap1', y='cell_embedding_umap2', color=var,\n",
    "                 frameon=False, color_map='Reds',\n",
    "                 save=f'_stem_only_umap_{var}.pdf')\n",
    "    plt.show()"
   ]
  },
  {
   "cell_type": "code",
   "execution_count": null,
   "metadata": {},
   "outputs": [],
   "source": [
    "variables = ['dataset', 'sample_id_overall', 'gene_count', 'sample_id']\n",
    "variables += markers\n",
    "for sample in sorted(set(tumor_adata.obs['sample_id_overall'])):\n",
    "    for var in variables:\n",
    "    #     if var in combined_adata.var.index or var in combined_adata.obs.columns:\n",
    "        sc.pl.scatter(combined_adata[combined_adata.obs['sample_id_overall']==sample],\n",
    "                      x='cell_embedding_umap1', y='cell_embedding_umap2', color=var,\n",
    "                     frameon=False, color_map='Reds',\n",
    "                     save=f'_tumor_only_umap_{sample}_{var}.pdf')\n",
    "        plt.show()"
   ]
  },
  {
   "cell_type": "markdown",
   "metadata": {},
   "source": [
    "###### batch correct samples"
   ]
  },
  {
   "cell_type": "code",
   "execution_count": null,
   "metadata": {},
   "outputs": [],
   "source": [
    "sample_id_to_avg = {sample_id:np.mean(\n",
    "                    combined_adata[combined_adata.obs['sample_id']==sample_id].obsm['cell_embeddings'],\n",
    "                    axis=0)\n",
    "                    for sample_id in sorted(set(tumor_adata.obs['sample_id']))}\n",
    "\n",
    "overall_mean = np.mean(np.asarray(list(sample_id_to_avg.values())), axis=0)\n",
    "sample_id_to_delta = {sample_id:overall_mean - avg\n",
    "                     for sample_id, avg in sample_id_to_avg.items()}"
   ]
  },
  {
   "cell_type": "code",
   "execution_count": null,
   "metadata": {},
   "outputs": [],
   "source": [
    "def batch_correction_operation(latent, sample_id):\n",
    "    return latent + sample_id_to_delta[sample_id]\n",
    "#     if dataset == 'stem': return latent + stem_delta\n",
    "#     if dataset == 'tumor': return latent + tumor_delta\n",
    "\n",
    "\n",
    "corrected_embeddings = np.asarray([batch_correction_operation(latent, sid) if dataset=='tumor' else latent\n",
    "                           for latent, dataset, sid in zip(combined_adata.obsm['cell_embeddings'],\n",
    "                                                      combined_adata.obs['dataset'],\n",
    "                                                      combined_adata.obs['sample_id'])])\n",
    "\n",
    "combined_adata.obsm['corrected_embeddings'] = corrected_embeddings\n",
    "combined_adata.obsm['corrected_embeddings_umap'] = umap.UMAP(\n",
    "    ).fit_transform(combined_adata.obsm['corrected_embeddings'])\n",
    "combined_adata.obs['corrected_embeddings_umap1'] = combined_adata.obsm['corrected_embeddings_umap'][:, 0]\n",
    "combined_adata.obs['corrected_embeddings_umap2'] = combined_adata.obsm['corrected_embeddings_umap'][:, 1]\n",
    "\n",
    "combined_adata"
   ]
  },
  {
   "cell_type": "code",
   "execution_count": null,
   "metadata": {},
   "outputs": [],
   "source": [
    "figdir = os.path.join(figure_root, 'batch_corrected_bvae_cell_embeddings')\n",
    "Path(figdir).mkdir(parents=True, exist_ok=True)\n",
    "sc.settings.figdir = figdir"
   ]
  },
  {
   "cell_type": "code",
   "execution_count": null,
   "metadata": {},
   "outputs": [],
   "source": [
    "variables = ['dataset', 'day', 'gene_count']\n",
    "variables += markers\n",
    "for var in variables:\n",
    "#     if var in combined_adata.var.index or var in combined_adata.obs.columns:\n",
    "    sc.pl.scatter(combined_adata, x='corrected_embeddings_umap1', y='corrected_embeddings_umap2', color=var,\n",
    "                 frameon=False, color_map='Reds', save=f'_umap_{var}.pdf')\n",
    "    plt.show()"
   ]
  },
  {
   "cell_type": "code",
   "execution_count": null,
   "metadata": {},
   "outputs": [],
   "source": [
    "# combined_adata.uns.pop('sample_id_colors')"
   ]
  },
  {
   "cell_type": "code",
   "execution_count": null,
   "metadata": {},
   "outputs": [],
   "source": [
    "variables = ['dataset', 'day', 'gene_count', 'sample_id_overall', 'sample_id']\n",
    "variables += markers\n",
    "for var in variables:\n",
    "#     if var in combined_adata.var.index or var in combined_adata.obs.columns:\n",
    "    sc.pl.scatter(combined_adata[combined_adata.obs['dataset']=='tumor'],\n",
    "                  x='corrected_embeddings_umap1', y='corrected_embeddings_umap2', color=var,\n",
    "                 frameon=False, color_map='Reds',\n",
    "                 save=f'_tumor_only_umap_{var}.pdf')\n",
    "    plt.show()"
   ]
  },
  {
   "cell_type": "code",
   "execution_count": null,
   "metadata": {},
   "outputs": [],
   "source": [
    "variables = ['dataset', 'gene_count', 'sample_id_overall', 'sample_id']\n",
    "variables += markers\n",
    "for sample in sorted(set(tumor_adata.obs['sample_id_overall'])):\n",
    "    for var in variables:\n",
    "        sc.pl.scatter(combined_adata[combined_adata.obs['sample_id_overall']==sample],\n",
    "                      x='corrected_embeddings_umap1', y='corrected_embeddings_umap2', color=var,\n",
    "                     frameon=False, color_map='Reds',\n",
    "                     save=f'_tumor_only_umap_{sample}_{var}.pdf')\n",
    "        plt.show()"
   ]
  },
  {
   "cell_type": "code",
   "execution_count": null,
   "metadata": {},
   "outputs": [],
   "source": []
  },
  {
   "cell_type": "code",
   "execution_count": null,
   "metadata": {},
   "outputs": [],
   "source": []
  },
  {
   "cell_type": "code",
   "execution_count": null,
   "metadata": {},
   "outputs": [],
   "source": []
  },
  {
   "cell_type": "code",
   "execution_count": null,
   "metadata": {},
   "outputs": [],
   "source": []
  },
  {
   "cell_type": "code",
   "execution_count": null,
   "metadata": {},
   "outputs": [],
   "source": []
  },
  {
   "cell_type": "code",
   "execution_count": null,
   "metadata": {},
   "outputs": [],
   "source": []
  },
  {
   "cell_type": "code",
   "execution_count": null,
   "metadata": {},
   "outputs": [],
   "source": [
    "# from sklearn.decomposition import PCA\n",
    "# combined_adata.obsm['cell_embedding_pca'] = PCA().fit_transform(combined_adata.obsm['cell_embeddings'])\n",
    "# combined_adata.obsm['cell_embedding_pca'][combined_adata.obsm['cell_embedding_pca'] > 50] = 50\n",
    "# combined_adata.obsm['cell_embedding_pca'][combined_adata.obsm['cell_embedding_pca'] < -50] = -50\n",
    "# combined_adata.obs['cell_embedding_pca1'] = combined_adata.obsm['cell_embedding_pca'][:, 0]\n",
    "# combined_adata.obs['cell_embedding_pca2'] = combined_adata.obsm['cell_embedding_pca'][:, 3]\n",
    "\n",
    "# combined_adata"
   ]
  },
  {
   "cell_type": "code",
   "execution_count": null,
   "metadata": {},
   "outputs": [],
   "source": [
    "# variables = ['dataset', 'day']\n",
    "# variables += markers\n",
    "# for var in variables:\n",
    "# #     if var in combined_adata.var.index or var in combined_adata.obs.columns:\n",
    "#     sc.pl.scatter(combined_adata, x='cell_embedding_pca1', y='cell_embedding_pca2', color=var,\n",
    "#                  frameon=False, color_map='Reds', )\n",
    "\n",
    "#     plt.show()"
   ]
  },
  {
   "cell_type": "markdown",
   "metadata": {},
   "source": [
    "###### transofrm batch corrected embeddings"
   ]
  },
  {
   "cell_type": "code",
   "execution_count": null,
   "metadata": {},
   "outputs": [],
   "source": [
    "avg_tumor = np.mean(combined_adata[combined_adata.obs['dataset']=='tumor'].obsm['cell_embeddings'], axis=0)\n",
    "# avg_tumor = np.mean(combined_adata[combined_adata.obs['dataset']=='tumor'].obsm['corrected_embeddings'], axis=0)\n",
    "avg_stem = np.mean(combined_adata[combined_adata.obs['dataset']=='stem'].obsm['cell_embeddings'], axis=0)\n",
    "# avg_stem = np.mean(combined_adata[combined_adata.obs['dataset']=='stem'].obsm['corrected_embeddings'], axis=0)\n",
    "\n",
    "mean = np.mean(np.asarray([avg_stem, avg_tumor]), axis=0)\n",
    "\n",
    "stem_delta = mean - avg_stem\n",
    "tumor_delta = mean - avg_tumor\n",
    "\n",
    "delta = avg_stem - avg_tumor"
   ]
  },
  {
   "cell_type": "code",
   "execution_count": null,
   "metadata": {},
   "outputs": [],
   "source": [
    "def operation(latent, dataset):\n",
    "    if dataset == 'stem': return latent + stem_delta\n",
    "    if dataset == 'tumor': return latent + tumor_delta\n",
    "#     if dataset == 'normal': return latent + normal_delta\n",
    "    \n",
    "#     if dataset == 'tumor': return latent + delta\n",
    "#     return latent\n",
    "\n",
    "transformed_embeddings = np.asarray([operation(latent, dataset)\n",
    "#                            for latent, dataset in zip(combined_adata.obsm['cell_embeddings'],\n",
    "                            for latent, dataset in zip(combined_adata.obsm['corrected_embeddings'],\n",
    "                                                      combined_adata.obs['dataset'])])\n",
    "\n",
    "combined_adata.obsm['transformed_embeddings'] = transformed_embeddings\n",
    "combined_adata.obsm['transformed_embeddings_umap'] = umap.UMAP(\n",
    "    ).fit_transform(combined_adata.obsm['transformed_embeddings'])\n",
    "combined_adata.obs['transformed_embeddings_umap1'] = combined_adata.obsm['transformed_embeddings_umap'][:, 0]\n",
    "combined_adata.obs['transformed_embeddings_umap2'] = combined_adata.obsm['transformed_embeddings_umap'][:, 1]\n",
    "\n",
    "combined_adata"
   ]
  },
  {
   "cell_type": "code",
   "execution_count": null,
   "metadata": {},
   "outputs": [],
   "source": [
    "figdir = os.path.join(figure_root, 'batch_corrected_and_transformed_bvae_cell_embeddings')\n",
    "Path(figdir).mkdir(parents=True, exist_ok=True)\n",
    "sc.settings.figdir = figdir"
   ]
  },
  {
   "cell_type": "code",
   "execution_count": null,
   "metadata": {},
   "outputs": [],
   "source": [
    "variables = ['dataset', 'day', 'gene_count']\n",
    "variables += markers\n",
    "for var in variables:\n",
    "    sc.pl.scatter(combined_adata, x='transformed_embeddings_umap1', y='transformed_embeddings_umap2', color=var,\n",
    "                 frameon=False, color_map='Reds',\n",
    "                 save=f'_umap_{var}.pdf')\n",
    "    plt.show()"
   ]
  },
  {
   "cell_type": "code",
   "execution_count": null,
   "metadata": {
    "scrolled": true
   },
   "outputs": [],
   "source": [
    "variables = ['dataset', 'gene_count', 'sample_id_overall', 'sample_id']\n",
    "variables += markers\n",
    "for var in variables:\n",
    "    sc.pl.scatter(combined_adata[combined_adata.obs['dataset']=='tumor'],\n",
    "                  x='transformed_embeddings_umap1', y='transformed_embeddings_umap2', color=var,\n",
    "                 frameon=False, color_map='Reds',\n",
    "                 save=f'_tumor_only_umap_{var}.pdf')\n",
    "    plt.show()"
   ]
  },
  {
   "cell_type": "code",
   "execution_count": null,
   "metadata": {
    "scrolled": true
   },
   "outputs": [],
   "source": [
    "variables = ['dataset', 'gene_count', 'sample_id_overall', 'sample_id']\n",
    "variables += markers\n",
    "for sample in sorted(set(tumor_adata.obs['sample_id_overall'])):\n",
    "    for var in variables:\n",
    "        sc.pl.scatter(combined_adata[combined_adata.obs['sample_id_overall']==sample],\n",
    "                      x='transformed_embeddings_umap1', y='transformed_embeddings_umap2', color=var,\n",
    "                     frameon=False, color_map='Reds',\n",
    "                     save=f'_umap_{sample}_{var}.pdf')\n",
    "        plt.show()"
   ]
  },
  {
   "cell_type": "code",
   "execution_count": null,
   "metadata": {},
   "outputs": [],
   "source": [
    "json.dump(metadata, open(os.path.join(run_root, 'metadata.json'), 'w'))"
   ]
  },
  {
   "cell_type": "code",
   "execution_count": null,
   "metadata": {},
   "outputs": [],
   "source": []
  },
  {
   "cell_type": "code",
   "execution_count": null,
   "metadata": {},
   "outputs": [],
   "source": []
  },
  {
   "cell_type": "code",
   "execution_count": null,
   "metadata": {},
   "outputs": [],
   "source": []
  },
  {
   "cell_type": "markdown",
   "metadata": {},
   "source": [
    "### DEG"
   ]
  },
  {
   "cell_type": "code",
   "execution_count": null,
   "metadata": {},
   "outputs": [],
   "source": [
    "combined_subset = combined_adata[combined_adata.obs['dataset']=='tumor'].copy()\n",
    "combined_subset.obs.index = ['-'.join(x.split('-')[:-2]) for x in combined_subset.obs.index]\n",
    "# combined_subset.obs.index = ['-'.join(x.split('-')[:2]) for x in combined_subset.obs.index]\n",
    "# combined_subset.obs = combined_subset.obs.set_index('new_index')\n",
    "combined_subset"
   ]
  },
  {
   "cell_type": "code",
   "execution_count": null,
   "metadata": {},
   "outputs": [],
   "source": [
    "len(set(['-'.join(x.split('-'[:2])) for x in combined_subset.obs.index]))"
   ]
  },
  {
   "cell_type": "code",
   "execution_count": null,
   "metadata": {},
   "outputs": [],
   "source": [
    "combined_adata.obs.index"
   ]
  },
  {
   "cell_type": "code",
   "execution_count": null,
   "metadata": {},
   "outputs": [],
   "source": [
    "combined_subset.obs.index"
   ]
  },
  {
   "cell_type": "code",
   "execution_count": null,
   "metadata": {},
   "outputs": [],
   "source": [
    "# tumor_full = adata_full[adata_full.obs['cell_type']=='BR_Malignant'].copy()\n",
    "tumor_full = adata_full.copy()\n",
    "\n",
    "tumor_full = tumor_full[combined_subset.obs.index]\n",
    "tumor_full"
   ]
  },
  {
   "cell_type": "code",
   "execution_count": null,
   "metadata": {},
   "outputs": [],
   "source": [
    "tumor_full.obsm['cell_embeddings'] = np.copy(combined_subset.obsm['cell_embeddings'])\n",
    "tumor_full.obsm['cell_embedding_umap'] = np.copy(combined_subset.obsm['cell_embedding_umap'])\n",
    "tumor_full.obs['cell_embedding_umap1'] = list(tumor_full.obsm['cell_embedding_umap'][:, 0].flatten())\n",
    "tumor_full.obs['cell_embedding_umap2'] = list(tumor_full.obsm['cell_embedding_umap'][:, 1].flatten())\n",
    "tumor_full\n",
    "\n",
    "tumor_full.obsm['cell_embeddings_bc'] = np.copy(combined_subset.obsm['corrected_embeddings'])\n",
    "tumor_full.obsm['cell_embedding_bc_umap'] = np.copy(combined_subset.obsm['corrected_embeddings_umap'])\n",
    "tumor_full.obs['cell_embedding_bc_umap1'] = list(tumor_full.obsm['cell_embedding_bc_umap'][:, 0].flatten())\n",
    "tumor_full.obs['cell_embedding_bc_umap2'] = list(tumor_full.obsm['cell_embedding_bc_umap'][:, 1].flatten())\n",
    "tumor_full\n",
    "\n",
    "tumor_full.obsm['cell_embeddings_t'] = np.copy(combined_subset.obsm['transformed_embeddings'])\n",
    "tumor_full.obsm['cell_embedding_t_umap'] = np.copy(combined_subset.obsm['transformed_embeddings_umap'])\n",
    "tumor_full.obs['cell_embedding_t_umap1'] = list(tumor_full.obsm['cell_embedding_t_umap'][:, 0].flatten())\n",
    "tumor_full.obs['cell_embedding_t_umap2'] = list(tumor_full.obsm['cell_embedding_t_umap'][:, 1].flatten())\n",
    "tumor_full"
   ]
  },
  {
   "cell_type": "code",
   "execution_count": null,
   "metadata": {},
   "outputs": [],
   "source": [
    "tumor_full.obs['sample_id_overall'] = list(combined_subset.obs['sample_id_overall'])\n",
    "tumor_full.obs['sample_id'] = list(combined_subset.obs['sample_id'])\n",
    "tumor_full.obs['gene_count'] = np.count_nonzero(tumor_full.raw.X, axis=1).flatten()"
   ]
  },
  {
   "cell_type": "code",
   "execution_count": null,
   "metadata": {},
   "outputs": [],
   "source": [
    "cytotrace_results = pd.read_csv('/data/single_cell_classification/tumor/BR/cytotrace_results.txt',\n",
    "                               sep='\\t')\n",
    "cytotrace_results.columns = ['cytotrace']\n",
    "cytotrace_results.index = [x.replace('.', '-') for x in cytotrace_results.index]\n",
    "\n",
    "cytotrace_results"
   ]
  },
  {
   "cell_type": "code",
   "execution_count": null,
   "metadata": {},
   "outputs": [],
   "source": [
    "cell_to_cytotrace = {k:v for k, v in zip(cytotrace_results.index, cytotrace_results['cytotrace'])}"
   ]
  },
  {
   "cell_type": "code",
   "execution_count": null,
   "metadata": {},
   "outputs": [],
   "source": [
    "tumor_full.obs['cytotrace'] = [cell_to_cytotrace.get(x, np.nan) for x in tumor_full.obs.index]\n",
    "tumor_full"
   ]
  },
  {
   "cell_type": "code",
   "execution_count": null,
   "metadata": {},
   "outputs": [],
   "source": [
    "figdir = os.path.join(figure_root, 'analysis', 'full_gene_set_plots')\n",
    "Path(figdir).mkdir(parents=True, exist_ok=True)\n",
    "sc.settings.figdir = figdir"
   ]
  },
  {
   "cell_type": "code",
   "execution_count": null,
   "metadata": {},
   "outputs": [],
   "source": [
    "\"\"\"\n",
    "SCA1: ATXN1\n",
    "CD29: ITGB1\n",
    "OCT4: POU5F1\n",
    "\"\"\"\n",
    "marker_map = {\n",
    "    'general': ['sample_id_overall', 'sample_id', 'gene_count', 'cytotrace'],\n",
    "    'csc': ['CD24', 'ITGB1', 'EPCAM', 'CD44', 'ATXN1'],\n",
    "    'wnt_signaling': ['AXIN2', 'PTN', 'WIF1'],\n",
    "    'hedgehog_pathway': ['SHH', 'SMO', 'PTCH1'],\n",
    "    'notch_signaling': ['NOTCH1', 'NOTCH2', 'JAG2', 'DLL1'],\n",
    "    'quiecient stem cell': ['FGD5', 'HOXB5', 'MKI67'],\n",
    "    'canonical_stem': ['SOX2', 'POU5F1', 'GATA6', 'NANOG']\n",
    "}\n",
    "\n",
    "all_markers = [v for vs in marker_map.values() for v in vs]\n",
    "\n",
    "print([m for m in all_markers if m not in tumor_full.var.index])\n",
    "\n",
    "marker_map = {k:[v for v in vs if v in tumor_full.var.index]\n",
    "              for k, vs in marker_map.items()}\n",
    "marker_map['general'] = ['sample_id_overall', 'sample_id', 'gene_count', 'cytotrace']"
   ]
  },
  {
   "cell_type": "code",
   "execution_count": null,
   "metadata": {},
   "outputs": [],
   "source": [
    "# tumor_full.uns.keys()\n",
    "# tumor_full.uns.pop('')"
   ]
  },
  {
   "cell_type": "code",
   "execution_count": null,
   "metadata": {},
   "outputs": [],
   "source": [
    "tumor_full.obs['cytotrace']"
   ]
  },
  {
   "cell_type": "code",
   "execution_count": null,
   "metadata": {},
   "outputs": [],
   "source": [
    "for marker_type, markers in marker_map.items():\n",
    "    for var in markers:\n",
    "        sc.pl.scatter(tumor_full,\n",
    "                      x='cell_embedding_umap1', y='cell_embedding_umap2', color=var,\n",
    "                     frameon=False, color_map='Reds',\n",
    "                     save=f'_umap_{marker_type}_{var}.pdf')\n",
    "        plt.show()"
   ]
  },
  {
   "cell_type": "code",
   "execution_count": null,
   "metadata": {
    "scrolled": true
   },
   "outputs": [],
   "source": [
    "for marker_type, markers in marker_map.items():\n",
    "    for var in markers:\n",
    "        sc.pl.scatter(tumor_full,\n",
    "                      x='cell_embedding_t_umap1', y='cell_embedding_t_umap2', color=var,\n",
    "                     frameon=False, color_map='Reds',\n",
    "                     save=f'_umap_t_{marker_type}_{var}.pdf')\n",
    "        plt.show()"
   ]
  },
  {
   "cell_type": "code",
   "execution_count": null,
   "metadata": {},
   "outputs": [],
   "source": [
    "import seaborn as sns\n",
    "sns.scatterplot(x='gene_count', y='cytotrace', data=tumor_full.obs)"
   ]
  },
  {
   "cell_type": "code",
   "execution_count": null,
   "metadata": {},
   "outputs": [],
   "source": [
    "for marker_type, markers in marker_map.items():\n",
    "    for var in markers:\n",
    "        print(var)\n",
    "        p = tumor_full.obs.copy()\n",
    "        if var in tumor_full.var.index:\n",
    "            p[var] = tumor_full.raw[:, var].X.flatten()\n",
    "        sns.scatterplot(x=var, y='cytotrace', data=p)\n",
    "        plt.savefig(os.path.join(figure_root, 'analysis', f'_cytotrace_scatter_{var}.pdf'))\n",
    "        plt.show()"
   ]
  },
  {
   "cell_type": "code",
   "execution_count": null,
   "metadata": {},
   "outputs": [],
   "source": [
    "for marker_type, markers in marker_map.items():\n",
    "    for var in markers:\n",
    "        print(var)\n",
    "        p = tumor_full.obs.copy()\n",
    "        if var in tumor_full.var.index:\n",
    "            p[var] = tumor_full.raw[:, var].X.flatten()\n",
    "        sns.scatterplot(x=var, y='gene_count', data=p)\n",
    "        plt.savefig(os.path.join(figure_root, 'analysis', f'_gene_count_scatter_{var}.pdf'))\n",
    "        plt.show()"
   ]
  },
  {
   "cell_type": "code",
   "execution_count": null,
   "metadata": {},
   "outputs": [],
   "source": []
  },
  {
   "cell_type": "code",
   "execution_count": null,
   "metadata": {},
   "outputs": [],
   "source": []
  },
  {
   "cell_type": "code",
   "execution_count": null,
   "metadata": {},
   "outputs": [],
   "source": []
  },
  {
   "cell_type": "code",
   "execution_count": null,
   "metadata": {},
   "outputs": [],
   "source": [
    "import seaborn as sns"
   ]
  },
  {
   "cell_type": "code",
   "execution_count": null,
   "metadata": {},
   "outputs": [],
   "source": [
    "duplicate = tumor_full.copy()\n",
    "duplicate"
   ]
  },
  {
   "cell_type": "code",
   "execution_count": null,
   "metadata": {},
   "outputs": [],
   "source": [
    "# !conda install -y -c conda-forge leidenalg"
   ]
  },
  {
   "cell_type": "code",
   "execution_count": null,
   "metadata": {},
   "outputs": [],
   "source": [
    "sc.pp.pca(duplicate, n_comps=30)\n",
    "sc.pp.neighbors(duplicate, n_neighbors=15)\n",
    "# sc.pp.neighbors(duplicate, )\n",
    "sc.tl.umap(duplicate)\n",
    "sc.tl.leiden(duplicate)"
   ]
  },
  {
   "cell_type": "code",
   "execution_count": null,
   "metadata": {},
   "outputs": [],
   "source": [
    "sc.pl.umap(duplicate, color=marker_map['general'])"
   ]
  },
  {
   "cell_type": "code",
   "execution_count": null,
   "metadata": {},
   "outputs": [],
   "source": [
    "sc.pl.scatter(duplicate,\n",
    "                      x='cell_embedding_umap1', y='cell_embedding_umap2', color='leiden',\n",
    "                     frameon=False)"
   ]
  },
  {
   "cell_type": "code",
   "execution_count": null,
   "metadata": {},
   "outputs": [],
   "source": [
    "duplicate.obsm['X_umap_original'] = np.copy(duplicate.obsm['X_umap'])\n",
    "duplicate.obs['leiden_original'] = list(duplicate.obs['leiden'])"
   ]
  },
  {
   "cell_type": "code",
   "execution_count": null,
   "metadata": {},
   "outputs": [],
   "source": [
    "# sc.pp.pca(duplicate, n_comps=30)\n",
    "sc.pp.neighbors(duplicate, n_neighbors=15, use_rep='cell_embeddings_t')\n",
    "# sc.pp.neighbors(duplicate, )\n",
    "sc.tl.umap(duplicate, )"
   ]
  },
  {
   "cell_type": "code",
   "execution_count": null,
   "metadata": {},
   "outputs": [],
   "source": [
    "sc.tl.leiden(duplicate, resolution=1.)"
   ]
  },
  {
   "cell_type": "code",
   "execution_count": null,
   "metadata": {},
   "outputs": [],
   "source": [
    "figdir = os.path.join(figure_root, 'analysis', 'deg')\n",
    "Path(figdir).mkdir(parents=True, exist_ok=True)\n",
    "sc.settings.figdir = figdir"
   ]
  },
  {
   "cell_type": "code",
   "execution_count": null,
   "metadata": {},
   "outputs": [],
   "source": [
    "sc.pl.umap(duplicate, color=marker_map['general'], color_map='Reds')"
   ]
  },
  {
   "cell_type": "code",
   "execution_count": null,
   "metadata": {},
   "outputs": [],
   "source": [
    "sc.pl.umap(duplicate, color=marker_map['canonical_stem'], color_map='Reds')"
   ]
  },
  {
   "cell_type": "code",
   "execution_count": null,
   "metadata": {},
   "outputs": [],
   "source": [
    "sc.pl.umap(duplicate, color='leiden', color_map='Reds', save='_scanpy_leiden.pdf')"
   ]
  },
  {
   "cell_type": "code",
   "execution_count": null,
   "metadata": {},
   "outputs": [],
   "source": [
    "sc.pl.scatter(duplicate,\n",
    "                      x='cell_embedding_t_umap1', y='cell_embedding_t_umap2', color='leiden',\n",
    "                     frameon=False, save=f'_umap_leiden.pdf')"
   ]
  },
  {
   "cell_type": "code",
   "execution_count": null,
   "metadata": {},
   "outputs": [],
   "source": [
    "name_map = {\n",
    "    't1': ['5'],\n",
    "    't2': ['3'],\n",
    "    't3': ['1', '0', '4'],\n",
    "    't4': ['2'],\n",
    "    't5': ['6']\n",
    "}\n",
    "\n",
    "\n",
    "\n",
    "r_name_map = {v:k for k, vs in name_map.items() for v in vs}\n",
    "duplicate.obs['cluster'] = [r_name_map[x] for x in duplicate.obs['leiden']]"
   ]
  },
  {
   "cell_type": "code",
   "execution_count": null,
   "metadata": {},
   "outputs": [],
   "source": [
    "duplicate.uns.pop('cluster_colors')\n",
    "duplicate.uns.keys()"
   ]
  },
  {
   "cell_type": "code",
   "execution_count": null,
   "metadata": {},
   "outputs": [],
   "source": [
    "# sc.pl.scatter(duplicate,\n",
    "#                       x='cell_embedding_umap1', y='cell_embedding_umap2', color='cluster',\n",
    "#                      frameon=False, save=f'_umap_cluster_name.pdf')"
   ]
  },
  {
   "cell_type": "code",
   "execution_count": null,
   "metadata": {},
   "outputs": [],
   "source": [
    "sc.pl.scatter(duplicate,\n",
    "                      x='cell_embedding_t_umap1', y='cell_embedding_t_umap2', color='cluster',\n",
    "                     frameon=False, save=f'_umap_cluster_name.pdf')"
   ]
  },
  {
   "cell_type": "code",
   "execution_count": null,
   "metadata": {
    "scrolled": true
   },
   "outputs": [],
   "source": [
    "for marker_type, markers in marker_map.items():\n",
    "    for var in markers:\n",
    "        sc.pl.scatter(tumor_full,\n",
    "                      x='cell_embedding_t_umap1', y='cell_embedding_t_umap2', color=var,\n",
    "                     frameon=False, color_map='Reds',\n",
    "                     save=f'_umap_{marker_type}_{var}.pdf')\n",
    "        plt.show()"
   ]
  },
  {
   "cell_type": "code",
   "execution_count": null,
   "metadata": {},
   "outputs": [],
   "source": [
    "sc.tl.rank_genes_groups(duplicate, groupby='cluster', method='logreg')"
   ]
  },
  {
   "cell_type": "code",
   "execution_count": null,
   "metadata": {},
   "outputs": [],
   "source": [
    "sc.pl.rank_genes_groups_dotplot(duplicate, n_genes=10, save='_deg_all.pdf',\n",
    "                               groups=sorted(set(duplicate.obs['cluster'])), )"
   ]
  },
  {
   "cell_type": "code",
   "execution_count": null,
   "metadata": {},
   "outputs": [],
   "source": [
    "# sc.tl.rank_genes_groups(duplicate, groupby='cluster', method='logreg', groups=['t1', 't2'])"
   ]
  },
  {
   "cell_type": "code",
   "execution_count": null,
   "metadata": {},
   "outputs": [],
   "source": [
    "# sc.pl.rank_genes_groups_dotplot(duplicate, n_genes=15, save='_deg_t12.pdf')"
   ]
  },
  {
   "cell_type": "code",
   "execution_count": null,
   "metadata": {},
   "outputs": [],
   "source": [
    "# use marker genes as dict to group them\n",
    "sc.pl.dotplot(duplicate, {k:v for k, v in marker_map.items() if k != 'general'}, groupby='cluster',dot_max=.2,\n",
    "             save='_deg_marker_groups.pdf')"
   ]
  },
  {
   "cell_type": "code",
   "execution_count": null,
   "metadata": {},
   "outputs": [],
   "source": [
    "for marker_group, markers in marker_map.items():\n",
    "    if marker_group != 'general':\n",
    "        sc.pl.tracksplot(duplicate, markers, groupby='cluster',\n",
    "                        save=f'_trackplot_{marker_group}.pdf')"
   ]
  },
  {
   "cell_type": "code",
   "execution_count": null,
   "metadata": {},
   "outputs": [],
   "source": [
    "import seaborn as sns"
   ]
  },
  {
   "cell_type": "code",
   "execution_count": null,
   "metadata": {},
   "outputs": [],
   "source": [
    "sns.countplot(x='cluster', data=duplicate.obs, hue='sample_id_overall', )\n",
    "# plt.legend(loc='upper left')\n",
    "plt.legend(bbox_to_anchor=(1.0, 1.02))\n",
    "plt.tight_layout()\n",
    "plt.savefig(os.path.join(figdir, 'countplot_cluster_by_sample.pdf'))"
   ]
  },
  {
   "cell_type": "code",
   "execution_count": null,
   "metadata": {},
   "outputs": [],
   "source": [
    "sns.countplot(x='sample_id_overall', data=duplicate.obs, hue='cluster', )\n",
    "plt.xticks(rotation=90)\n",
    "plt.legend(bbox_to_anchor=(1.0, 1.02))\n",
    "plt.tight_layout()\n",
    "plt.savefig(os.path.join(figdir, 'countplot_sample_by_cluster.pdf'))"
   ]
  },
  {
   "cell_type": "code",
   "execution_count": null,
   "metadata": {},
   "outputs": [],
   "source": [
    "duplicate.write_h5ad(os.path.join(run_root, 'final.h5ad'))"
   ]
  },
  {
   "cell_type": "code",
   "execution_count": null,
   "metadata": {},
   "outputs": [],
   "source": []
  },
  {
   "cell_type": "code",
   "execution_count": null,
   "metadata": {},
   "outputs": [],
   "source": []
  },
  {
   "cell_type": "code",
   "execution_count": null,
   "metadata": {},
   "outputs": [],
   "source": []
  },
  {
   "cell_type": "code",
   "execution_count": null,
   "metadata": {},
   "outputs": [],
   "source": []
  },
  {
   "cell_type": "code",
   "execution_count": null,
   "metadata": {},
   "outputs": [],
   "source": []
  },
  {
   "cell_type": "code",
   "execution_count": null,
   "metadata": {},
   "outputs": [],
   "source": []
  },
  {
   "cell_type": "code",
   "execution_count": null,
   "metadata": {},
   "outputs": [],
   "source": []
  },
  {
   "cell_type": "code",
   "execution_count": null,
   "metadata": {},
   "outputs": [],
   "source": []
  },
  {
   "cell_type": "code",
   "execution_count": null,
   "metadata": {},
   "outputs": [],
   "source": []
  },
  {
   "cell_type": "code",
   "execution_count": null,
   "metadata": {},
   "outputs": [],
   "source": []
  },
  {
   "cell_type": "code",
   "execution_count": null,
   "metadata": {},
   "outputs": [],
   "source": []
  },
  {
   "cell_type": "code",
   "execution_count": null,
   "metadata": {},
   "outputs": [],
   "source": [
    "just_stem = duplicate[((duplicate.obs['cluster']=='t1')|(duplicate.obs['cluster']=='t2'))].copy()\n",
    "just_stem"
   ]
  },
  {
   "cell_type": "code",
   "execution_count": null,
   "metadata": {},
   "outputs": [],
   "source": [
    "just_stem.uns.pop('dendrogram_cluster')"
   ]
  },
  {
   "cell_type": "code",
   "execution_count": null,
   "metadata": {},
   "outputs": [],
   "source": [
    "sc.pp.neighbors(just_stem, n_neighbors=5, use_rep='cell_embeddings')\n",
    "sc.tl.umap(just_stem, min_dist=0)"
   ]
  },
  {
   "cell_type": "code",
   "execution_count": null,
   "metadata": {},
   "outputs": [],
   "source": [
    "sc.pl.umap(just_stem, color=['sample_id', 'NANOG', 'SOX2', 'cluster'], color_map='Reds', ncols=2)"
   ]
  },
  {
   "cell_type": "code",
   "execution_count": null,
   "metadata": {},
   "outputs": [],
   "source": [
    "sc.pl.umap(just_stem, color=['sample_id', 'NANOG', 'SOX2', 'cluster'], color_map='Reds', ncols=2)"
   ]
  },
  {
   "cell_type": "code",
   "execution_count": null,
   "metadata": {},
   "outputs": [],
   "source": [
    "sc.tl.rank_genes_groups(just_stem, groupby='cluster')"
   ]
  },
  {
   "cell_type": "code",
   "execution_count": null,
   "metadata": {},
   "outputs": [],
   "source": [
    "sc.pl.rank_genes_groups_dotplot(just_stem, n_genes=10)"
   ]
  },
  {
   "cell_type": "code",
   "execution_count": null,
   "metadata": {},
   "outputs": [],
   "source": []
  },
  {
   "cell_type": "code",
   "execution_count": null,
   "metadata": {},
   "outputs": [],
   "source": [
    "## save adata\n"
   ]
  },
  {
   "cell_type": "code",
   "execution_count": null,
   "metadata": {},
   "outputs": [],
   "source": []
  },
  {
   "cell_type": "code",
   "execution_count": null,
   "metadata": {},
   "outputs": [],
   "source": []
  },
  {
   "cell_type": "code",
   "execution_count": null,
   "metadata": {},
   "outputs": [],
   "source": []
  },
  {
   "cell_type": "code",
   "execution_count": null,
   "metadata": {},
   "outputs": [],
   "source": []
  },
  {
   "cell_type": "code",
   "execution_count": null,
   "metadata": {},
   "outputs": [],
   "source": []
  },
  {
   "cell_type": "code",
   "execution_count": null,
   "metadata": {},
   "outputs": [],
   "source": []
  },
  {
   "cell_type": "code",
   "execution_count": null,
   "metadata": {},
   "outputs": [],
   "source": []
  },
  {
   "cell_type": "code",
   "execution_count": null,
   "metadata": {},
   "outputs": [],
   "source": []
  },
  {
   "cell_type": "code",
   "execution_count": null,
   "metadata": {},
   "outputs": [],
   "source": []
  },
  {
   "cell_type": "code",
   "execution_count": null,
   "metadata": {},
   "outputs": [],
   "source": []
  },
  {
   "cell_type": "code",
   "execution_count": null,
   "metadata": {},
   "outputs": [],
   "source": []
  },
  {
   "cell_type": "code",
   "execution_count": null,
   "metadata": {},
   "outputs": [],
   "source": []
  },
  {
   "cell_type": "code",
   "execution_count": null,
   "metadata": {},
   "outputs": [],
   "source": []
  },
  {
   "cell_type": "code",
   "execution_count": null,
   "metadata": {},
   "outputs": [],
   "source": []
  },
  {
   "cell_type": "code",
   "execution_count": null,
   "metadata": {},
   "outputs": [],
   "source": []
  }
 ],
 "metadata": {
  "kernelspec": {
   "display_name": "Python 3",
   "language": "python",
   "name": "python3"
  },
  "language_info": {
   "codemirror_mode": {
    "name": "ipython",
    "version": 3
   },
   "file_extension": ".py",
   "mimetype": "text/x-python",
   "name": "python",
   "nbconvert_exporter": "python",
   "pygments_lexer": "ipython3",
   "version": "3.7.6"
  }
 },
 "nbformat": 4,
 "nbformat_minor": 4
}
