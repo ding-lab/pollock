{
 "cells": [
  {
   "cell_type": "code",
   "execution_count": 1,
   "metadata": {},
   "outputs": [
    {
     "name": "stderr",
     "output_type": "stream",
     "text": [
      "/home/estorrs/miniconda3/envs/pollock/lib/python3.7/site-packages/anndata/_core/anndata.py:21: FutureWarning: pandas.core.index is deprecated and will be removed in a future version.  The public classes are available in the top-level namespace.\n",
      "  from pandas.core.index import RangeIndex\n"
     ]
    }
   ],
   "source": [
    "import logging\n",
    "import os\n",
    "import random\n",
    "from collections import Counter\n",
    "from importlib import reload\n",
    "\n",
    "\n",
    "import anndata\n",
    "import numpy as np\n",
    "import pandas as pd\n",
    "import scanpy as sc\n",
    "import matplotlib.pyplot as plt\n",
    "\n",
    "import pollock\n",
    "from pollock.models.model import PollockDataset, PollockModel, load_from_directory\n",
    "import pollock.models.analysis as pollock_analysis"
   ]
  },
  {
   "cell_type": "code",
   "execution_count": 2,
   "metadata": {},
   "outputs": [],
   "source": [
    "import logging\n",
    "reload(logging)\n",
    "logging.basicConfig(format='%(asctime)s %(message)s', level=logging.INFO)"
   ]
  },
  {
   "cell_type": "code",
   "execution_count": 3,
   "metadata": {},
   "outputs": [],
   "source": [
    "%load_ext autoreload"
   ]
  },
  {
   "cell_type": "code",
   "execution_count": 4,
   "metadata": {},
   "outputs": [],
   "source": [
    "%autoreload 2"
   ]
  },
  {
   "cell_type": "code",
   "execution_count": 5,
   "metadata": {},
   "outputs": [],
   "source": [
    "# pollock.models.model.set_training_devices(['/device:XLA_GPU:0'])"
   ]
  },
  {
   "cell_type": "code",
   "execution_count": null,
   "metadata": {},
   "outputs": [],
   "source": [
    "# from importlib import reload\n",
    "# reload(pollock)\n",
    "# reload(pollock.models.model)"
   ]
  },
  {
   "cell_type": "code",
   "execution_count": 5,
   "metadata": {},
   "outputs": [
    {
     "data": {
      "text/plain": [
       "[name: \"/device:CPU:0\"\n",
       " device_type: \"CPU\"\n",
       " memory_limit: 268435456\n",
       " locality {\n",
       " }\n",
       " incarnation: 13525296768382337487,\n",
       " name: \"/device:XLA_CPU:0\"\n",
       " device_type: \"XLA_CPU\"\n",
       " memory_limit: 17179869184\n",
       " locality {\n",
       " }\n",
       " incarnation: 9550179822592911233\n",
       " physical_device_desc: \"device: XLA_CPU device\",\n",
       " name: \"/device:XLA_GPU:0\"\n",
       " device_type: \"XLA_GPU\"\n",
       " memory_limit: 17179869184\n",
       " locality {\n",
       " }\n",
       " incarnation: 17633174866615562201\n",
       " physical_device_desc: \"device: XLA_GPU device\",\n",
       " name: \"/device:XLA_GPU:1\"\n",
       " device_type: \"XLA_GPU\"\n",
       " memory_limit: 17179869184\n",
       " locality {\n",
       " }\n",
       " incarnation: 16251391668736141291\n",
       " physical_device_desc: \"device: XLA_GPU device\",\n",
       " name: \"/device:XLA_GPU:2\"\n",
       " device_type: \"XLA_GPU\"\n",
       " memory_limit: 17179869184\n",
       " locality {\n",
       " }\n",
       " incarnation: 13578491073211611333\n",
       " physical_device_desc: \"device: XLA_GPU device\",\n",
       " name: \"/device:XLA_GPU:3\"\n",
       " device_type: \"XLA_GPU\"\n",
       " memory_limit: 17179869184\n",
       " locality {\n",
       " }\n",
       " incarnation: 17494869130234769265\n",
       " physical_device_desc: \"device: XLA_GPU device\"]"
      ]
     },
     "execution_count": 5,
     "metadata": {},
     "output_type": "execute_result"
    }
   ],
   "source": [
    "from tensorflow.python.client import device_lib\n",
    "import tensorflow as tf\n",
    "device_lib.list_local_devices()"
   ]
  },
  {
   "cell_type": "code",
   "execution_count": 7,
   "metadata": {},
   "outputs": [],
   "source": [
    "# tf.config.list_physical_devices('XLA_GPU')"
   ]
  },
  {
   "cell_type": "code",
   "execution_count": 8,
   "metadata": {},
   "outputs": [],
   "source": [
    "# tf.keras.backend.clear_session()\n",
    "# tf.config.optimizer.set_jit(True)"
   ]
  },
  {
   "cell_type": "code",
   "execution_count": 9,
   "metadata": {},
   "outputs": [],
   "source": [
    "# mirrored_strategy = tf.distribute.MirroredStrategy(\n",
    "#     devices=[\"/device:XLA_GPU:0\"])"
   ]
  },
  {
   "cell_type": "markdown",
   "metadata": {},
   "source": [
    "## load in expression table and labels"
   ]
  },
  {
   "cell_type": "code",
   "execution_count": 6,
   "metadata": {},
   "outputs": [],
   "source": [
    "expression_fp = '/home/estorrs/data/single_cell_classification/Intra-dataset/Zheng 68K/Filtered_68K_PBMC_data.csv'\n",
    "label_fp = '/home/estorrs/data/single_cell_classification/Intra-dataset/Zheng 68K/Labels.csv'\n"
   ]
  },
  {
   "cell_type": "code",
   "execution_count": 10,
   "metadata": {},
   "outputs": [],
   "source": [
    "expression_fp = '/Volumes/timmy/ding/scRNAseq_classification_datasets/scRNAseq_benchmark/Intra-dataset/Zheng 68K/Filtered_68K_PBMC_data.csv'\n",
    "label_fp = '/Volumes/timmy/ding/scRNAseq_classification_datasets/scRNAseq_benchmark/Intra-dataset/Zheng 68K/Labels.csv'"
   ]
  },
  {
   "cell_type": "code",
   "execution_count": 7,
   "metadata": {},
   "outputs": [
    {
     "name": "stdout",
     "output_type": "stream",
     "text": [
      "CPU times: user 6min 14s, sys: 16.7 s, total: 6min 30s\n",
      "Wall time: 6min 28s\n"
     ]
    },
    {
     "data": {
      "text/html": [
       "<div>\n",
       "<style scoped>\n",
       "    .dataframe tbody tr th:only-of-type {\n",
       "        vertical-align: middle;\n",
       "    }\n",
       "\n",
       "    .dataframe tbody tr th {\n",
       "        vertical-align: top;\n",
       "    }\n",
       "\n",
       "    .dataframe thead th {\n",
       "        text-align: right;\n",
       "    }\n",
       "</style>\n",
       "<table border=\"1\" class=\"dataframe\">\n",
       "  <thead>\n",
       "    <tr style=\"text-align: right;\">\n",
       "      <th></th>\n",
       "      <th>Unnamed: 0</th>\n",
       "      <th>AL627309.1</th>\n",
       "      <th>AP006222.2</th>\n",
       "      <th>RP11-206L10.3</th>\n",
       "      <th>RP11-206L10.2</th>\n",
       "      <th>RP11-206L10.9</th>\n",
       "      <th>FAM87B</th>\n",
       "      <th>LINC00115</th>\n",
       "      <th>FAM41C</th>\n",
       "      <th>RP11-54O7.1</th>\n",
       "      <th>...</th>\n",
       "      <th>AC145212.1</th>\n",
       "      <th>MGC39584</th>\n",
       "      <th>AC011043.1</th>\n",
       "      <th>ZNF84.1</th>\n",
       "      <th>AL592183.1</th>\n",
       "      <th>AC011841.1</th>\n",
       "      <th>AL354822.1</th>\n",
       "      <th>KIR2DL2</th>\n",
       "      <th>PNRC2.1</th>\n",
       "      <th>SRSF10.1</th>\n",
       "    </tr>\n",
       "  </thead>\n",
       "  <tbody>\n",
       "    <tr>\n",
       "      <th>0</th>\n",
       "      <td>AAACATACACCCAA-1</td>\n",
       "      <td>0</td>\n",
       "      <td>0</td>\n",
       "      <td>0</td>\n",
       "      <td>0</td>\n",
       "      <td>0</td>\n",
       "      <td>0</td>\n",
       "      <td>0</td>\n",
       "      <td>0</td>\n",
       "      <td>0</td>\n",
       "      <td>...</td>\n",
       "      <td>0</td>\n",
       "      <td>0</td>\n",
       "      <td>0</td>\n",
       "      <td>0</td>\n",
       "      <td>0</td>\n",
       "      <td>0</td>\n",
       "      <td>0</td>\n",
       "      <td>0</td>\n",
       "      <td>1</td>\n",
       "      <td>0</td>\n",
       "    </tr>\n",
       "    <tr>\n",
       "      <th>1</th>\n",
       "      <td>AAACATACCCCTCA-1</td>\n",
       "      <td>0</td>\n",
       "      <td>0</td>\n",
       "      <td>0</td>\n",
       "      <td>0</td>\n",
       "      <td>0</td>\n",
       "      <td>0</td>\n",
       "      <td>0</td>\n",
       "      <td>0</td>\n",
       "      <td>0</td>\n",
       "      <td>...</td>\n",
       "      <td>0</td>\n",
       "      <td>0</td>\n",
       "      <td>0</td>\n",
       "      <td>0</td>\n",
       "      <td>0</td>\n",
       "      <td>0</td>\n",
       "      <td>0</td>\n",
       "      <td>0</td>\n",
       "      <td>0</td>\n",
       "      <td>0</td>\n",
       "    </tr>\n",
       "    <tr>\n",
       "      <th>2</th>\n",
       "      <td>AAACATACCGGAGA-1</td>\n",
       "      <td>0</td>\n",
       "      <td>0</td>\n",
       "      <td>0</td>\n",
       "      <td>0</td>\n",
       "      <td>0</td>\n",
       "      <td>0</td>\n",
       "      <td>0</td>\n",
       "      <td>0</td>\n",
       "      <td>0</td>\n",
       "      <td>...</td>\n",
       "      <td>0</td>\n",
       "      <td>0</td>\n",
       "      <td>0</td>\n",
       "      <td>0</td>\n",
       "      <td>0</td>\n",
       "      <td>0</td>\n",
       "      <td>0</td>\n",
       "      <td>0</td>\n",
       "      <td>0</td>\n",
       "      <td>0</td>\n",
       "    </tr>\n",
       "    <tr>\n",
       "      <th>3</th>\n",
       "      <td>AAACATACTAACCG-1</td>\n",
       "      <td>0</td>\n",
       "      <td>0</td>\n",
       "      <td>0</td>\n",
       "      <td>0</td>\n",
       "      <td>0</td>\n",
       "      <td>0</td>\n",
       "      <td>0</td>\n",
       "      <td>0</td>\n",
       "      <td>0</td>\n",
       "      <td>...</td>\n",
       "      <td>0</td>\n",
       "      <td>0</td>\n",
       "      <td>0</td>\n",
       "      <td>0</td>\n",
       "      <td>0</td>\n",
       "      <td>0</td>\n",
       "      <td>0</td>\n",
       "      <td>0</td>\n",
       "      <td>0</td>\n",
       "      <td>0</td>\n",
       "    </tr>\n",
       "    <tr>\n",
       "      <th>4</th>\n",
       "      <td>AAACATACTCTTCA-1</td>\n",
       "      <td>0</td>\n",
       "      <td>0</td>\n",
       "      <td>0</td>\n",
       "      <td>0</td>\n",
       "      <td>0</td>\n",
       "      <td>0</td>\n",
       "      <td>0</td>\n",
       "      <td>0</td>\n",
       "      <td>0</td>\n",
       "      <td>...</td>\n",
       "      <td>0</td>\n",
       "      <td>0</td>\n",
       "      <td>0</td>\n",
       "      <td>0</td>\n",
       "      <td>0</td>\n",
       "      <td>0</td>\n",
       "      <td>0</td>\n",
       "      <td>0</td>\n",
       "      <td>0</td>\n",
       "      <td>0</td>\n",
       "    </tr>\n",
       "    <tr>\n",
       "      <th>...</th>\n",
       "      <td>...</td>\n",
       "      <td>...</td>\n",
       "      <td>...</td>\n",
       "      <td>...</td>\n",
       "      <td>...</td>\n",
       "      <td>...</td>\n",
       "      <td>...</td>\n",
       "      <td>...</td>\n",
       "      <td>...</td>\n",
       "      <td>...</td>\n",
       "      <td>...</td>\n",
       "      <td>...</td>\n",
       "      <td>...</td>\n",
       "      <td>...</td>\n",
       "      <td>...</td>\n",
       "      <td>...</td>\n",
       "      <td>...</td>\n",
       "      <td>...</td>\n",
       "      <td>...</td>\n",
       "      <td>...</td>\n",
       "      <td>...</td>\n",
       "    </tr>\n",
       "    <tr>\n",
       "      <th>65938</th>\n",
       "      <td>TTTGCATGACACCA-8</td>\n",
       "      <td>0</td>\n",
       "      <td>0</td>\n",
       "      <td>0</td>\n",
       "      <td>0</td>\n",
       "      <td>0</td>\n",
       "      <td>0</td>\n",
       "      <td>0</td>\n",
       "      <td>0</td>\n",
       "      <td>0</td>\n",
       "      <td>...</td>\n",
       "      <td>0</td>\n",
       "      <td>0</td>\n",
       "      <td>0</td>\n",
       "      <td>0</td>\n",
       "      <td>0</td>\n",
       "      <td>0</td>\n",
       "      <td>0</td>\n",
       "      <td>0</td>\n",
       "      <td>0</td>\n",
       "      <td>0</td>\n",
       "    </tr>\n",
       "    <tr>\n",
       "      <th>65939</th>\n",
       "      <td>TTTGCATGAGCCTA-8</td>\n",
       "      <td>0</td>\n",
       "      <td>0</td>\n",
       "      <td>0</td>\n",
       "      <td>0</td>\n",
       "      <td>0</td>\n",
       "      <td>0</td>\n",
       "      <td>0</td>\n",
       "      <td>0</td>\n",
       "      <td>0</td>\n",
       "      <td>...</td>\n",
       "      <td>0</td>\n",
       "      <td>0</td>\n",
       "      <td>0</td>\n",
       "      <td>0</td>\n",
       "      <td>0</td>\n",
       "      <td>0</td>\n",
       "      <td>0</td>\n",
       "      <td>0</td>\n",
       "      <td>0</td>\n",
       "      <td>0</td>\n",
       "    </tr>\n",
       "    <tr>\n",
       "      <th>65940</th>\n",
       "      <td>TTTGCATGCTAGCA-8</td>\n",
       "      <td>0</td>\n",
       "      <td>0</td>\n",
       "      <td>0</td>\n",
       "      <td>0</td>\n",
       "      <td>0</td>\n",
       "      <td>0</td>\n",
       "      <td>0</td>\n",
       "      <td>0</td>\n",
       "      <td>0</td>\n",
       "      <td>...</td>\n",
       "      <td>0</td>\n",
       "      <td>0</td>\n",
       "      <td>0</td>\n",
       "      <td>0</td>\n",
       "      <td>0</td>\n",
       "      <td>0</td>\n",
       "      <td>0</td>\n",
       "      <td>0</td>\n",
       "      <td>0</td>\n",
       "      <td>0</td>\n",
       "    </tr>\n",
       "    <tr>\n",
       "      <th>65941</th>\n",
       "      <td>TTTGCATGCTGCAA-8</td>\n",
       "      <td>0</td>\n",
       "      <td>0</td>\n",
       "      <td>0</td>\n",
       "      <td>0</td>\n",
       "      <td>0</td>\n",
       "      <td>0</td>\n",
       "      <td>0</td>\n",
       "      <td>0</td>\n",
       "      <td>0</td>\n",
       "      <td>...</td>\n",
       "      <td>0</td>\n",
       "      <td>0</td>\n",
       "      <td>0</td>\n",
       "      <td>0</td>\n",
       "      <td>0</td>\n",
       "      <td>0</td>\n",
       "      <td>0</td>\n",
       "      <td>0</td>\n",
       "      <td>0</td>\n",
       "      <td>0</td>\n",
       "    </tr>\n",
       "    <tr>\n",
       "      <th>65942</th>\n",
       "      <td>TTTGCATGTGGTAC-8</td>\n",
       "      <td>0</td>\n",
       "      <td>0</td>\n",
       "      <td>0</td>\n",
       "      <td>0</td>\n",
       "      <td>0</td>\n",
       "      <td>0</td>\n",
       "      <td>0</td>\n",
       "      <td>0</td>\n",
       "      <td>0</td>\n",
       "      <td>...</td>\n",
       "      <td>0</td>\n",
       "      <td>0</td>\n",
       "      <td>0</td>\n",
       "      <td>0</td>\n",
       "      <td>0</td>\n",
       "      <td>0</td>\n",
       "      <td>0</td>\n",
       "      <td>0</td>\n",
       "      <td>1</td>\n",
       "      <td>0</td>\n",
       "    </tr>\n",
       "  </tbody>\n",
       "</table>\n",
       "<p>65943 rows × 20388 columns</p>\n",
       "</div>"
      ],
      "text/plain": [
       "             Unnamed: 0  AL627309.1  AP006222.2  RP11-206L10.3  RP11-206L10.2  \\\n",
       "0      AAACATACACCCAA-1           0           0              0              0   \n",
       "1      AAACATACCCCTCA-1           0           0              0              0   \n",
       "2      AAACATACCGGAGA-1           0           0              0              0   \n",
       "3      AAACATACTAACCG-1           0           0              0              0   \n",
       "4      AAACATACTCTTCA-1           0           0              0              0   \n",
       "...                 ...         ...         ...            ...            ...   \n",
       "65938  TTTGCATGACACCA-8           0           0              0              0   \n",
       "65939  TTTGCATGAGCCTA-8           0           0              0              0   \n",
       "65940  TTTGCATGCTAGCA-8           0           0              0              0   \n",
       "65941  TTTGCATGCTGCAA-8           0           0              0              0   \n",
       "65942  TTTGCATGTGGTAC-8           0           0              0              0   \n",
       "\n",
       "       RP11-206L10.9  FAM87B  LINC00115  FAM41C  RP11-54O7.1  ...  AC145212.1  \\\n",
       "0                  0       0          0       0            0  ...           0   \n",
       "1                  0       0          0       0            0  ...           0   \n",
       "2                  0       0          0       0            0  ...           0   \n",
       "3                  0       0          0       0            0  ...           0   \n",
       "4                  0       0          0       0            0  ...           0   \n",
       "...              ...     ...        ...     ...          ...  ...         ...   \n",
       "65938              0       0          0       0            0  ...           0   \n",
       "65939              0       0          0       0            0  ...           0   \n",
       "65940              0       0          0       0            0  ...           0   \n",
       "65941              0       0          0       0            0  ...           0   \n",
       "65942              0       0          0       0            0  ...           0   \n",
       "\n",
       "       MGC39584  AC011043.1  ZNF84.1  AL592183.1  AC011841.1  AL354822.1  \\\n",
       "0             0           0        0           0           0           0   \n",
       "1             0           0        0           0           0           0   \n",
       "2             0           0        0           0           0           0   \n",
       "3             0           0        0           0           0           0   \n",
       "4             0           0        0           0           0           0   \n",
       "...         ...         ...      ...         ...         ...         ...   \n",
       "65938         0           0        0           0           0           0   \n",
       "65939         0           0        0           0           0           0   \n",
       "65940         0           0        0           0           0           0   \n",
       "65941         0           0        0           0           0           0   \n",
       "65942         0           0        0           0           0           0   \n",
       "\n",
       "       KIR2DL2  PNRC2.1  SRSF10.1  \n",
       "0            0        1         0  \n",
       "1            0        0         0  \n",
       "2            0        0         0  \n",
       "3            0        0         0  \n",
       "4            0        0         0  \n",
       "...        ...      ...       ...  \n",
       "65938        0        0         0  \n",
       "65939        0        0         0  \n",
       "65940        0        0         0  \n",
       "65941        0        0         0  \n",
       "65942        0        1         0  \n",
       "\n",
       "[65943 rows x 20388 columns]"
      ]
     },
     "execution_count": 7,
     "metadata": {},
     "output_type": "execute_result"
    }
   ],
   "source": [
    "%%time\n",
    "expression_df = pd.read_csv(\n",
    "    expression_fp,\n",
    "    sep=',')\n",
    "expression_df"
   ]
  },
  {
   "cell_type": "code",
   "execution_count": 8,
   "metadata": {},
   "outputs": [
    {
     "data": {
      "text/html": [
       "<div>\n",
       "<style scoped>\n",
       "    .dataframe tbody tr th:only-of-type {\n",
       "        vertical-align: middle;\n",
       "    }\n",
       "\n",
       "    .dataframe tbody tr th {\n",
       "        vertical-align: top;\n",
       "    }\n",
       "\n",
       "    .dataframe thead th {\n",
       "        text-align: right;\n",
       "    }\n",
       "</style>\n",
       "<table border=\"1\" class=\"dataframe\">\n",
       "  <thead>\n",
       "    <tr style=\"text-align: right;\">\n",
       "      <th></th>\n",
       "      <th>AL627309.1</th>\n",
       "      <th>AP006222.2</th>\n",
       "      <th>RP11-206L10.3</th>\n",
       "      <th>RP11-206L10.2</th>\n",
       "      <th>RP11-206L10.9</th>\n",
       "      <th>FAM87B</th>\n",
       "      <th>LINC00115</th>\n",
       "      <th>FAM41C</th>\n",
       "      <th>RP11-54O7.1</th>\n",
       "      <th>SAMD11</th>\n",
       "      <th>...</th>\n",
       "      <th>AC145212.1</th>\n",
       "      <th>MGC39584</th>\n",
       "      <th>AC011043.1</th>\n",
       "      <th>ZNF84.1</th>\n",
       "      <th>AL592183.1</th>\n",
       "      <th>AC011841.1</th>\n",
       "      <th>AL354822.1</th>\n",
       "      <th>KIR2DL2</th>\n",
       "      <th>PNRC2.1</th>\n",
       "      <th>SRSF10.1</th>\n",
       "    </tr>\n",
       "    <tr>\n",
       "      <th>Unnamed: 0</th>\n",
       "      <th></th>\n",
       "      <th></th>\n",
       "      <th></th>\n",
       "      <th></th>\n",
       "      <th></th>\n",
       "      <th></th>\n",
       "      <th></th>\n",
       "      <th></th>\n",
       "      <th></th>\n",
       "      <th></th>\n",
       "      <th></th>\n",
       "      <th></th>\n",
       "      <th></th>\n",
       "      <th></th>\n",
       "      <th></th>\n",
       "      <th></th>\n",
       "      <th></th>\n",
       "      <th></th>\n",
       "      <th></th>\n",
       "      <th></th>\n",
       "      <th></th>\n",
       "    </tr>\n",
       "  </thead>\n",
       "  <tbody>\n",
       "    <tr>\n",
       "      <th>AAACATACACCCAA-1</th>\n",
       "      <td>0</td>\n",
       "      <td>0</td>\n",
       "      <td>0</td>\n",
       "      <td>0</td>\n",
       "      <td>0</td>\n",
       "      <td>0</td>\n",
       "      <td>0</td>\n",
       "      <td>0</td>\n",
       "      <td>0</td>\n",
       "      <td>0</td>\n",
       "      <td>...</td>\n",
       "      <td>0</td>\n",
       "      <td>0</td>\n",
       "      <td>0</td>\n",
       "      <td>0</td>\n",
       "      <td>0</td>\n",
       "      <td>0</td>\n",
       "      <td>0</td>\n",
       "      <td>0</td>\n",
       "      <td>1</td>\n",
       "      <td>0</td>\n",
       "    </tr>\n",
       "    <tr>\n",
       "      <th>AAACATACCCCTCA-1</th>\n",
       "      <td>0</td>\n",
       "      <td>0</td>\n",
       "      <td>0</td>\n",
       "      <td>0</td>\n",
       "      <td>0</td>\n",
       "      <td>0</td>\n",
       "      <td>0</td>\n",
       "      <td>0</td>\n",
       "      <td>0</td>\n",
       "      <td>0</td>\n",
       "      <td>...</td>\n",
       "      <td>0</td>\n",
       "      <td>0</td>\n",
       "      <td>0</td>\n",
       "      <td>0</td>\n",
       "      <td>0</td>\n",
       "      <td>0</td>\n",
       "      <td>0</td>\n",
       "      <td>0</td>\n",
       "      <td>0</td>\n",
       "      <td>0</td>\n",
       "    </tr>\n",
       "    <tr>\n",
       "      <th>AAACATACCGGAGA-1</th>\n",
       "      <td>0</td>\n",
       "      <td>0</td>\n",
       "      <td>0</td>\n",
       "      <td>0</td>\n",
       "      <td>0</td>\n",
       "      <td>0</td>\n",
       "      <td>0</td>\n",
       "      <td>0</td>\n",
       "      <td>0</td>\n",
       "      <td>0</td>\n",
       "      <td>...</td>\n",
       "      <td>0</td>\n",
       "      <td>0</td>\n",
       "      <td>0</td>\n",
       "      <td>0</td>\n",
       "      <td>0</td>\n",
       "      <td>0</td>\n",
       "      <td>0</td>\n",
       "      <td>0</td>\n",
       "      <td>0</td>\n",
       "      <td>0</td>\n",
       "    </tr>\n",
       "    <tr>\n",
       "      <th>AAACATACTAACCG-1</th>\n",
       "      <td>0</td>\n",
       "      <td>0</td>\n",
       "      <td>0</td>\n",
       "      <td>0</td>\n",
       "      <td>0</td>\n",
       "      <td>0</td>\n",
       "      <td>0</td>\n",
       "      <td>0</td>\n",
       "      <td>0</td>\n",
       "      <td>0</td>\n",
       "      <td>...</td>\n",
       "      <td>0</td>\n",
       "      <td>0</td>\n",
       "      <td>0</td>\n",
       "      <td>0</td>\n",
       "      <td>0</td>\n",
       "      <td>0</td>\n",
       "      <td>0</td>\n",
       "      <td>0</td>\n",
       "      <td>0</td>\n",
       "      <td>0</td>\n",
       "    </tr>\n",
       "    <tr>\n",
       "      <th>AAACATACTCTTCA-1</th>\n",
       "      <td>0</td>\n",
       "      <td>0</td>\n",
       "      <td>0</td>\n",
       "      <td>0</td>\n",
       "      <td>0</td>\n",
       "      <td>0</td>\n",
       "      <td>0</td>\n",
       "      <td>0</td>\n",
       "      <td>0</td>\n",
       "      <td>0</td>\n",
       "      <td>...</td>\n",
       "      <td>0</td>\n",
       "      <td>0</td>\n",
       "      <td>0</td>\n",
       "      <td>0</td>\n",
       "      <td>0</td>\n",
       "      <td>0</td>\n",
       "      <td>0</td>\n",
       "      <td>0</td>\n",
       "      <td>0</td>\n",
       "      <td>0</td>\n",
       "    </tr>\n",
       "    <tr>\n",
       "      <th>...</th>\n",
       "      <td>...</td>\n",
       "      <td>...</td>\n",
       "      <td>...</td>\n",
       "      <td>...</td>\n",
       "      <td>...</td>\n",
       "      <td>...</td>\n",
       "      <td>...</td>\n",
       "      <td>...</td>\n",
       "      <td>...</td>\n",
       "      <td>...</td>\n",
       "      <td>...</td>\n",
       "      <td>...</td>\n",
       "      <td>...</td>\n",
       "      <td>...</td>\n",
       "      <td>...</td>\n",
       "      <td>...</td>\n",
       "      <td>...</td>\n",
       "      <td>...</td>\n",
       "      <td>...</td>\n",
       "      <td>...</td>\n",
       "      <td>...</td>\n",
       "    </tr>\n",
       "    <tr>\n",
       "      <th>TTTGCATGACACCA-8</th>\n",
       "      <td>0</td>\n",
       "      <td>0</td>\n",
       "      <td>0</td>\n",
       "      <td>0</td>\n",
       "      <td>0</td>\n",
       "      <td>0</td>\n",
       "      <td>0</td>\n",
       "      <td>0</td>\n",
       "      <td>0</td>\n",
       "      <td>0</td>\n",
       "      <td>...</td>\n",
       "      <td>0</td>\n",
       "      <td>0</td>\n",
       "      <td>0</td>\n",
       "      <td>0</td>\n",
       "      <td>0</td>\n",
       "      <td>0</td>\n",
       "      <td>0</td>\n",
       "      <td>0</td>\n",
       "      <td>0</td>\n",
       "      <td>0</td>\n",
       "    </tr>\n",
       "    <tr>\n",
       "      <th>TTTGCATGAGCCTA-8</th>\n",
       "      <td>0</td>\n",
       "      <td>0</td>\n",
       "      <td>0</td>\n",
       "      <td>0</td>\n",
       "      <td>0</td>\n",
       "      <td>0</td>\n",
       "      <td>0</td>\n",
       "      <td>0</td>\n",
       "      <td>0</td>\n",
       "      <td>0</td>\n",
       "      <td>...</td>\n",
       "      <td>0</td>\n",
       "      <td>0</td>\n",
       "      <td>0</td>\n",
       "      <td>0</td>\n",
       "      <td>0</td>\n",
       "      <td>0</td>\n",
       "      <td>0</td>\n",
       "      <td>0</td>\n",
       "      <td>0</td>\n",
       "      <td>0</td>\n",
       "    </tr>\n",
       "    <tr>\n",
       "      <th>TTTGCATGCTAGCA-8</th>\n",
       "      <td>0</td>\n",
       "      <td>0</td>\n",
       "      <td>0</td>\n",
       "      <td>0</td>\n",
       "      <td>0</td>\n",
       "      <td>0</td>\n",
       "      <td>0</td>\n",
       "      <td>0</td>\n",
       "      <td>0</td>\n",
       "      <td>0</td>\n",
       "      <td>...</td>\n",
       "      <td>0</td>\n",
       "      <td>0</td>\n",
       "      <td>0</td>\n",
       "      <td>0</td>\n",
       "      <td>0</td>\n",
       "      <td>0</td>\n",
       "      <td>0</td>\n",
       "      <td>0</td>\n",
       "      <td>0</td>\n",
       "      <td>0</td>\n",
       "    </tr>\n",
       "    <tr>\n",
       "      <th>TTTGCATGCTGCAA-8</th>\n",
       "      <td>0</td>\n",
       "      <td>0</td>\n",
       "      <td>0</td>\n",
       "      <td>0</td>\n",
       "      <td>0</td>\n",
       "      <td>0</td>\n",
       "      <td>0</td>\n",
       "      <td>0</td>\n",
       "      <td>0</td>\n",
       "      <td>0</td>\n",
       "      <td>...</td>\n",
       "      <td>0</td>\n",
       "      <td>0</td>\n",
       "      <td>0</td>\n",
       "      <td>0</td>\n",
       "      <td>0</td>\n",
       "      <td>0</td>\n",
       "      <td>0</td>\n",
       "      <td>0</td>\n",
       "      <td>0</td>\n",
       "      <td>0</td>\n",
       "    </tr>\n",
       "    <tr>\n",
       "      <th>TTTGCATGTGGTAC-8</th>\n",
       "      <td>0</td>\n",
       "      <td>0</td>\n",
       "      <td>0</td>\n",
       "      <td>0</td>\n",
       "      <td>0</td>\n",
       "      <td>0</td>\n",
       "      <td>0</td>\n",
       "      <td>0</td>\n",
       "      <td>0</td>\n",
       "      <td>0</td>\n",
       "      <td>...</td>\n",
       "      <td>0</td>\n",
       "      <td>0</td>\n",
       "      <td>0</td>\n",
       "      <td>0</td>\n",
       "      <td>0</td>\n",
       "      <td>0</td>\n",
       "      <td>0</td>\n",
       "      <td>0</td>\n",
       "      <td>1</td>\n",
       "      <td>0</td>\n",
       "    </tr>\n",
       "  </tbody>\n",
       "</table>\n",
       "<p>65943 rows × 20387 columns</p>\n",
       "</div>"
      ],
      "text/plain": [
       "                  AL627309.1  AP006222.2  RP11-206L10.3  RP11-206L10.2  \\\n",
       "Unnamed: 0                                                               \n",
       "AAACATACACCCAA-1           0           0              0              0   \n",
       "AAACATACCCCTCA-1           0           0              0              0   \n",
       "AAACATACCGGAGA-1           0           0              0              0   \n",
       "AAACATACTAACCG-1           0           0              0              0   \n",
       "AAACATACTCTTCA-1           0           0              0              0   \n",
       "...                      ...         ...            ...            ...   \n",
       "TTTGCATGACACCA-8           0           0              0              0   \n",
       "TTTGCATGAGCCTA-8           0           0              0              0   \n",
       "TTTGCATGCTAGCA-8           0           0              0              0   \n",
       "TTTGCATGCTGCAA-8           0           0              0              0   \n",
       "TTTGCATGTGGTAC-8           0           0              0              0   \n",
       "\n",
       "                  RP11-206L10.9  FAM87B  LINC00115  FAM41C  RP11-54O7.1  \\\n",
       "Unnamed: 0                                                                \n",
       "AAACATACACCCAA-1              0       0          0       0            0   \n",
       "AAACATACCCCTCA-1              0       0          0       0            0   \n",
       "AAACATACCGGAGA-1              0       0          0       0            0   \n",
       "AAACATACTAACCG-1              0       0          0       0            0   \n",
       "AAACATACTCTTCA-1              0       0          0       0            0   \n",
       "...                         ...     ...        ...     ...          ...   \n",
       "TTTGCATGACACCA-8              0       0          0       0            0   \n",
       "TTTGCATGAGCCTA-8              0       0          0       0            0   \n",
       "TTTGCATGCTAGCA-8              0       0          0       0            0   \n",
       "TTTGCATGCTGCAA-8              0       0          0       0            0   \n",
       "TTTGCATGTGGTAC-8              0       0          0       0            0   \n",
       "\n",
       "                  SAMD11  ...  AC145212.1  MGC39584  AC011043.1  ZNF84.1  \\\n",
       "Unnamed: 0                ...                                              \n",
       "AAACATACACCCAA-1       0  ...           0         0           0        0   \n",
       "AAACATACCCCTCA-1       0  ...           0         0           0        0   \n",
       "AAACATACCGGAGA-1       0  ...           0         0           0        0   \n",
       "AAACATACTAACCG-1       0  ...           0         0           0        0   \n",
       "AAACATACTCTTCA-1       0  ...           0         0           0        0   \n",
       "...                  ...  ...         ...       ...         ...      ...   \n",
       "TTTGCATGACACCA-8       0  ...           0         0           0        0   \n",
       "TTTGCATGAGCCTA-8       0  ...           0         0           0        0   \n",
       "TTTGCATGCTAGCA-8       0  ...           0         0           0        0   \n",
       "TTTGCATGCTGCAA-8       0  ...           0         0           0        0   \n",
       "TTTGCATGTGGTAC-8       0  ...           0         0           0        0   \n",
       "\n",
       "                  AL592183.1  AC011841.1  AL354822.1  KIR2DL2  PNRC2.1  \\\n",
       "Unnamed: 0                                                               \n",
       "AAACATACACCCAA-1           0           0           0        0        1   \n",
       "AAACATACCCCTCA-1           0           0           0        0        0   \n",
       "AAACATACCGGAGA-1           0           0           0        0        0   \n",
       "AAACATACTAACCG-1           0           0           0        0        0   \n",
       "AAACATACTCTTCA-1           0           0           0        0        0   \n",
       "...                      ...         ...         ...      ...      ...   \n",
       "TTTGCATGACACCA-8           0           0           0        0        0   \n",
       "TTTGCATGAGCCTA-8           0           0           0        0        0   \n",
       "TTTGCATGCTAGCA-8           0           0           0        0        0   \n",
       "TTTGCATGCTGCAA-8           0           0           0        0        0   \n",
       "TTTGCATGTGGTAC-8           0           0           0        0        1   \n",
       "\n",
       "                  SRSF10.1  \n",
       "Unnamed: 0                  \n",
       "AAACATACACCCAA-1         0  \n",
       "AAACATACCCCTCA-1         0  \n",
       "AAACATACCGGAGA-1         0  \n",
       "AAACATACTAACCG-1         0  \n",
       "AAACATACTCTTCA-1         0  \n",
       "...                    ...  \n",
       "TTTGCATGACACCA-8         0  \n",
       "TTTGCATGAGCCTA-8         0  \n",
       "TTTGCATGCTAGCA-8         0  \n",
       "TTTGCATGCTGCAA-8         0  \n",
       "TTTGCATGTGGTAC-8         0  \n",
       "\n",
       "[65943 rows x 20387 columns]"
      ]
     },
     "execution_count": 8,
     "metadata": {},
     "output_type": "execute_result"
    }
   ],
   "source": [
    "expression_df = expression_df.set_index('Unnamed: 0')\n",
    "expression_df"
   ]
  },
  {
   "cell_type": "code",
   "execution_count": 9,
   "metadata": {},
   "outputs": [
    {
     "data": {
      "text/html": [
       "<div>\n",
       "<style scoped>\n",
       "    .dataframe tbody tr th:only-of-type {\n",
       "        vertical-align: middle;\n",
       "    }\n",
       "\n",
       "    .dataframe tbody tr th {\n",
       "        vertical-align: top;\n",
       "    }\n",
       "\n",
       "    .dataframe thead th {\n",
       "        text-align: right;\n",
       "    }\n",
       "</style>\n",
       "<table border=\"1\" class=\"dataframe\">\n",
       "  <thead>\n",
       "    <tr style=\"text-align: right;\">\n",
       "      <th></th>\n",
       "      <th>x</th>\n",
       "    </tr>\n",
       "  </thead>\n",
       "  <tbody>\n",
       "    <tr>\n",
       "      <th>0</th>\n",
       "      <td>CD8+ Cytotoxic T</td>\n",
       "    </tr>\n",
       "    <tr>\n",
       "      <th>1</th>\n",
       "      <td>CD8+/CD45RA+ Naive Cytotoxic</td>\n",
       "    </tr>\n",
       "    <tr>\n",
       "      <th>2</th>\n",
       "      <td>CD4+/CD45RO+ Memory</td>\n",
       "    </tr>\n",
       "    <tr>\n",
       "      <th>3</th>\n",
       "      <td>CD19+ B</td>\n",
       "    </tr>\n",
       "    <tr>\n",
       "      <th>4</th>\n",
       "      <td>CD4+/CD25 T Reg</td>\n",
       "    </tr>\n",
       "    <tr>\n",
       "      <th>...</th>\n",
       "      <td>...</td>\n",
       "    </tr>\n",
       "    <tr>\n",
       "      <th>65938</th>\n",
       "      <td>CD8+/CD45RA+ Naive Cytotoxic</td>\n",
       "    </tr>\n",
       "    <tr>\n",
       "      <th>65939</th>\n",
       "      <td>CD8+ Cytotoxic T</td>\n",
       "    </tr>\n",
       "    <tr>\n",
       "      <th>65940</th>\n",
       "      <td>CD8+/CD45RA+ Naive Cytotoxic</td>\n",
       "    </tr>\n",
       "    <tr>\n",
       "      <th>65941</th>\n",
       "      <td>CD8+ Cytotoxic T</td>\n",
       "    </tr>\n",
       "    <tr>\n",
       "      <th>65942</th>\n",
       "      <td>CD8+ Cytotoxic T</td>\n",
       "    </tr>\n",
       "  </tbody>\n",
       "</table>\n",
       "<p>65943 rows × 1 columns</p>\n",
       "</div>"
      ],
      "text/plain": [
       "                                  x\n",
       "0                  CD8+ Cytotoxic T\n",
       "1      CD8+/CD45RA+ Naive Cytotoxic\n",
       "2               CD4+/CD45RO+ Memory\n",
       "3                           CD19+ B\n",
       "4                   CD4+/CD25 T Reg\n",
       "...                             ...\n",
       "65938  CD8+/CD45RA+ Naive Cytotoxic\n",
       "65939              CD8+ Cytotoxic T\n",
       "65940  CD8+/CD45RA+ Naive Cytotoxic\n",
       "65941              CD8+ Cytotoxic T\n",
       "65942              CD8+ Cytotoxic T\n",
       "\n",
       "[65943 rows x 1 columns]"
      ]
     },
     "execution_count": 9,
     "metadata": {},
     "output_type": "execute_result"
    }
   ],
   "source": [
    "label_df = pd.read_csv(\n",
    "    label_fp,\n",
    "    sep=','\n",
    "    )\n",
    "label_df"
   ]
  },
  {
   "cell_type": "code",
   "execution_count": 125,
   "metadata": {},
   "outputs": [
    {
     "name": "stderr",
     "output_type": "stream",
     "text": [
      "Transforming to str index.\n"
     ]
    },
    {
     "data": {
      "text/plain": [
       "AnnData object with n_obs × n_vars = 65943 × 20387 \n",
       "    obs: 'x'"
      ]
     },
     "execution_count": 125,
     "metadata": {},
     "output_type": "execute_result"
    }
   ],
   "source": [
    "adata = anndata.AnnData(X=expression_df.values, obs=label_df)\n",
    "adata.obs.index = expression_df.index\n",
    "adata.var.index = expression_df.columns\n",
    "adata"
   ]
  },
  {
   "cell_type": "code",
   "execution_count": 126,
   "metadata": {},
   "outputs": [
    {
     "data": {
      "text/plain": [
       "5377519764"
      ]
     },
     "execution_count": 126,
     "metadata": {},
     "output_type": "execute_result"
    }
   ],
   "source": [
    "adata.X.nbytes"
   ]
  },
  {
   "cell_type": "code",
   "execution_count": 127,
   "metadata": {},
   "outputs": [
    {
     "data": {
      "text/plain": [
       "[('CD8+ Cytotoxic T', 20307),\n",
       " ('CD8+/CD45RA+ Naive Cytotoxic', 16361),\n",
       " ('CD56+ NK', 8522),\n",
       " ('CD4+/CD25 T Reg', 6116),\n",
       " ('CD19+ B', 5579),\n",
       " ('CD4+/CD45RO+ Memory', 3031),\n",
       " ('Dendritic', 1946),\n",
       " ('CD14+ Monocyte', 1944),\n",
       " ('CD4+/CD45RA+/CD25- Naive T', 1857),\n",
       " ('CD34+', 188),\n",
       " ('CD4+ T Helper2', 92)]"
      ]
     },
     "execution_count": 127,
     "metadata": {},
     "output_type": "execute_result"
    }
   ],
   "source": [
    "Counter(adata.obs['x']).most_common()"
   ]
  },
  {
   "cell_type": "code",
   "execution_count": 59,
   "metadata": {},
   "outputs": [],
   "source": [
    "## filter smartly\n",
    "cell_type_to_idxs = {}\n",
    "for cell_id, cell_type in zip(adata.obs.index, adata.obs['x']):\n",
    "    if cell_type not in cell_type_to_idxs:\n",
    "        cell_type_to_idxs[cell_type] = [cell_id]\n",
    "    else:\n",
    "        cell_type_to_idxs[cell_type].append(cell_id)\n",
    "        \n",
    "def temp(ls):\n",
    "    if len(ls) > 100:\n",
    "        return random.sample(ls, 100)\n",
    "    return ls\n",
    "\n",
    "cell_type_to_idxs = {k:temp(ls)\n",
    "                     for k, ls in cell_type_to_idxs.items()}\n",
    "\n",
    "idxs = np.asarray([x for ls in cell_type_to_idxs.values() for x in ls])\n",
    "adata = adata[idxs]"
   ]
  },
  {
   "cell_type": "code",
   "execution_count": 60,
   "metadata": {},
   "outputs": [],
   "source": [
    "# def make_safe_filename(s):\n",
    "#     def safe_char(c):\n",
    "#         if c.isalnum():\n",
    "#             return c\n",
    "#         else:\n",
    "#             return \"_\"\n",
    "#     return \"\".join(safe_char(c) for c in s).rstrip(\"_\")\n",
    "\n",
    "# adata.obs['x'] = [make_safe_filename(x) for x in adata.obs['x']]\n",
    "# adata"
   ]
  },
  {
   "cell_type": "code",
   "execution_count": 61,
   "metadata": {},
   "outputs": [
    {
     "data": {
      "text/plain": [
       "[('CD8+ Cytotoxic T', 100),\n",
       " ('CD8+/CD45RA+ Naive Cytotoxic', 100),\n",
       " ('CD4+/CD45RO+ Memory', 100),\n",
       " ('CD19+ B', 100),\n",
       " ('CD4+/CD25 T Reg', 100),\n",
       " ('CD56+ NK', 100),\n",
       " ('CD4+/CD45RA+/CD25- Naive T', 100),\n",
       " ('CD34+', 100),\n",
       " ('Dendritic', 100),\n",
       " ('CD14+ Monocyte', 100),\n",
       " ('CD4+ T Helper2', 92)]"
      ]
     },
     "execution_count": 61,
     "metadata": {},
     "output_type": "execute_result"
    }
   ],
   "source": [
    "Counter(adata.obs['x']).most_common()"
   ]
  },
  {
   "cell_type": "code",
   "execution_count": 17,
   "metadata": {},
   "outputs": [
    {
     "data": {
      "text/html": [
       "<div>\n",
       "<style scoped>\n",
       "    .dataframe tbody tr th:only-of-type {\n",
       "        vertical-align: middle;\n",
       "    }\n",
       "\n",
       "    .dataframe tbody tr th {\n",
       "        vertical-align: top;\n",
       "    }\n",
       "\n",
       "    .dataframe thead th {\n",
       "        text-align: right;\n",
       "    }\n",
       "</style>\n",
       "<table border=\"1\" class=\"dataframe\">\n",
       "  <thead>\n",
       "    <tr style=\"text-align: right;\">\n",
       "      <th></th>\n",
       "    </tr>\n",
       "  </thead>\n",
       "  <tbody>\n",
       "    <tr>\n",
       "      <th>AL627309.1</th>\n",
       "    </tr>\n",
       "    <tr>\n",
       "      <th>AP006222.2</th>\n",
       "    </tr>\n",
       "    <tr>\n",
       "      <th>RP11-206L10.3</th>\n",
       "    </tr>\n",
       "    <tr>\n",
       "      <th>RP11-206L10.2</th>\n",
       "    </tr>\n",
       "    <tr>\n",
       "      <th>RP11-206L10.9</th>\n",
       "    </tr>\n",
       "    <tr>\n",
       "      <th>...</th>\n",
       "    </tr>\n",
       "    <tr>\n",
       "      <th>AC011841.1</th>\n",
       "    </tr>\n",
       "    <tr>\n",
       "      <th>AL354822.1</th>\n",
       "    </tr>\n",
       "    <tr>\n",
       "      <th>KIR2DL2</th>\n",
       "    </tr>\n",
       "    <tr>\n",
       "      <th>PNRC2.1</th>\n",
       "    </tr>\n",
       "    <tr>\n",
       "      <th>SRSF10.1</th>\n",
       "    </tr>\n",
       "  </tbody>\n",
       "</table>\n",
       "<p>20387 rows × 0 columns</p>\n",
       "</div>"
      ],
      "text/plain": [
       "Empty DataFrame\n",
       "Columns: []\n",
       "Index: [AL627309.1, AP006222.2, RP11-206L10.3, RP11-206L10.2, RP11-206L10.9, FAM87B, LINC00115, FAM41C, RP11-54O7.1, SAMD11, NOC2L, KLHL17, PLEKHN1, C1orf170, RP11-54O7.17, HES4, RP11-54O7.11, ISG15, AGRN, RP11-54O7.18, C1orf159, RP11-465B22.5, TTLL10-AS1, TTLL10, TNFRSF18, TNFRSF4, SDF4, B3GALT6, FAM132A, RP5-902P8.12, UBE2J2, RP5-902P8.10, SCNN1D, ACAP3, PUSL1, CPSF3L, GLTPD1, TAS1R3, DVL1, MXRA8, AURKAIP1, CCNL2, RP4-758J18.2, MRPL20, RP4-758J18.13, ANKRD65, RP4-758J18.10, VWA1, ATAD3C, ATAD3B, ATAD3A, SSU72, AL645728.1, C1orf233, RP11-345P4.9, MIB2, MMP23B, CDK11B, RP11-345P4.10, SLC35E2B, RP11-345P4.7, CDK11A, SLC35E2, NADK, GNB1, RP1-140A9.1, CALML6, TMEM52, C1orf222, GABRD, PRKCZ, RP5-892K4.1, RP11-181G12.2, C1orf86, AL590822.2, AL590822.1, RP11-181G12.4, SKI, MORN1, RER1, PEX10, PLCH2, RP3-395M20.2, PANK4, HES5, RP3-395M20.12, TNFRSF14, RP3-395M20.7, RP3-395M20.9, FAM213B, MMEL1, TTC34, PRDM16, ARHGEF16, MEGF6, RP11-46F15.2, TPRG1L, WRAP73, TP73, RP5-1092A11.5, ...]\n",
       "\n",
       "[20387 rows x 0 columns]"
      ]
     },
     "execution_count": 17,
     "metadata": {},
     "output_type": "execute_result"
    }
   ],
   "source": [
    "adata.var"
   ]
  },
  {
   "cell_type": "code",
   "execution_count": 237,
   "metadata": {},
   "outputs": [],
   "source": [
    "# sc.tl.rank_genes_groups(adata, 'x', n_genes=100)"
   ]
  },
  {
   "cell_type": "code",
   "execution_count": 238,
   "metadata": {},
   "outputs": [],
   "source": [
    "# sc.pl.rank_genes_groups(adata)"
   ]
  },
  {
   "cell_type": "code",
   "execution_count": 239,
   "metadata": {},
   "outputs": [],
   "source": [
    "# sc.pp.scale(adata)"
   ]
  },
  {
   "cell_type": "code",
   "execution_count": 240,
   "metadata": {},
   "outputs": [],
   "source": [
    "# sc.tl.pca(adata, svd_solver='arpack')\n",
    "# sc.pl.pca(adata)"
   ]
  },
  {
   "cell_type": "code",
   "execution_count": 71,
   "metadata": {},
   "outputs": [
    {
     "data": {
      "image/png": "[encoded data removed]",
      "text/plain": [
       "<Figure size 432x288 with 1 Axes>"
      ]
     },
     "metadata": {},
     "output_type": "display_data"
    }
   ],
   "source": [
    "# sc.tl.umap(adata)\n",
    "# sc.pl.umap(adata, color='x', edges=True)"
   ]
  },
  {
   "cell_type": "code",
   "execution_count": 241,
   "metadata": {},
   "outputs": [],
   "source": [
    "# sc.pp.neighbors(adata, n_neighbors=15)"
   ]
  },
  {
   "cell_type": "code",
   "execution_count": 242,
   "metadata": {},
   "outputs": [],
   "source": [
    "# g_template, c_template = pollock.models.model.create_block_image_template(\n",
    "#         adata, key='x', block_shape=(4, 4), size=(128, 128), nn_threshold=.05)\n",
    "# g_template, c_template"
   ]
  },
  {
   "cell_type": "code",
   "execution_count": 243,
   "metadata": {},
   "outputs": [],
   "source": [
    "# sorted(set(c_template.flatten()))"
   ]
  },
  {
   "cell_type": "code",
   "execution_count": 244,
   "metadata": {},
   "outputs": [],
   "source": [
    "# plt.imshow(c_template=='')"
   ]
  },
  {
   "cell_type": "markdown",
   "metadata": {},
   "source": [
    "## train pollock model"
   ]
  },
  {
   "cell_type": "code",
   "execution_count": 131,
   "metadata": {},
   "outputs": [
    {
     "name": "stderr",
     "output_type": "stream",
     "text": [
      "2020-02-12 18:17:56,996 creating image templates\n",
      "Trying to set attribute `.uns` of view, copying.\n",
      "2020-02-12 18:18:12,922 setting up close groupings\n",
      "2020-02-12 18:18:12,924 calculating nearest neighbors\n",
      "/home/estorrs/miniconda3/envs/pollock/lib/python3.7/site-packages/numba/typed_passes.py:293: NumbaPerformanceWarning: \n",
      "The keyword argument 'parallel=True' was specified but no transformation for parallel execution was possible.\n",
      "\n",
      "To find out why, try turning on parallel diagnostics, see http://numba.pydata.org/numba-doc/latest/user/parallel.html#diagnostics for help.\n",
      "\n",
      "File \"../../miniconda3/envs/pollock/lib/python3.7/site-packages/umap/nndescent.py\", line 47:\n",
      "    @numba.njit(parallel=True)\n",
      "    def nn_descent(\n",
      "    ^\n",
      "\n",
      "  state.func_ir.loc))\n",
      "2020-02-12 18:18:22,147 calculating connectivities\n",
      "2020-02-12 18:19:28,793 calculating differential genes\n",
      "Trying to set attribute `.uns` of view, copying.\n",
      "Trying to set attribute `.uns` of view, copying.\n",
      "Trying to set attribute `.uns` of view, copying.\n",
      "Trying to set attribute `.uns` of view, copying.\n",
      "Trying to set attribute `.uns` of view, copying.\n",
      "Trying to set attribute `.uns` of view, copying.\n",
      "Trying to set attribute `.uns` of view, copying.\n",
      "Trying to set attribute `.uns` of view, copying.\n",
      "Trying to set attribute `.uns` of view, copying.\n",
      "Trying to set attribute `.uns` of view, copying.\n",
      "Trying to set attribute `.uns` of view, copying.\n",
      "Trying to set attribute `.uns` of view, copying.\n",
      "Trying to set attribute `.uns` of view, copying.\n",
      "Trying to set attribute `.uns` of view, copying.\n",
      "Trying to set attribute `.uns` of view, copying.\n",
      "Trying to set attribute `.uns` of view, copying.\n",
      "Trying to set attribute `.uns` of view, copying.\n",
      "Trying to set attribute `.uns` of view, copying.\n",
      "Trying to set attribute `.uns` of view, copying.\n",
      "Trying to set attribute `.uns` of view, copying.\n",
      "Trying to set attribute `.uns` of view, copying.\n",
      "2020-02-12 18:19:35,229 writing training images\n",
      "2020-02-12 18:19:35,232 writing images\n",
      "2020-02-12 18:19:35,233 0 cell images written\n",
      "2020-02-12 18:20:10,665 1000 cell images written\n",
      "2020-02-12 18:20:45,992 2000 cell images written\n",
      "2020-02-12 18:21:21,294 3000 cell images written\n",
      "2020-02-12 18:21:56,728 4000 cell images written\n",
      "2020-02-12 18:22:32,099 5000 cell images written\n",
      "2020-02-12 18:23:07,323 6000 cell images written\n",
      "2020-02-12 18:23:42,817 7000 cell images written\n",
      "2020-02-12 18:24:18,125 8000 cell images written\n",
      "2020-02-12 18:24:53,228 9000 cell images written\n",
      "2020-02-12 18:25:28,453 10000 cell images written\n",
      "2020-02-12 18:26:03,719 11000 cell images written\n",
      "2020-02-12 18:26:38,783 12000 cell images written\n",
      "2020-02-12 18:27:14,218 13000 cell images written\n",
      "2020-02-12 18:27:49,478 14000 cell images written\n",
      "2020-02-12 18:28:24,588 15000 cell images written\n",
      "2020-02-12 18:28:59,902 16000 cell images written\n",
      "2020-02-12 18:29:35,475 17000 cell images written\n",
      "2020-02-12 18:30:10,617 18000 cell images written\n",
      "2020-02-12 18:30:45,659 19000 cell images written\n",
      "2020-02-12 18:31:20,685 20000 cell images written\n",
      "2020-02-12 18:31:55,801 21000 cell images written\n",
      "2020-02-12 18:32:30,627 22000 cell images written\n",
      "2020-02-12 18:33:05,812 23000 cell images written\n",
      "2020-02-12 18:33:41,177 24000 cell images written\n",
      "2020-02-12 18:34:16,301 25000 cell images written\n",
      "2020-02-12 18:34:51,333 26000 cell images written\n",
      "2020-02-12 18:35:26,164 27000 cell images written\n",
      "2020-02-12 18:36:01,448 28000 cell images written\n",
      "2020-02-12 18:36:36,616 29000 cell images written\n",
      "2020-02-12 18:37:11,697 30000 cell images written\n",
      "2020-02-12 18:37:47,046 31000 cell images written\n",
      "2020-02-12 18:38:21,811 32000 cell images written\n",
      "2020-02-12 18:38:56,861 33000 cell images written\n",
      "2020-02-12 18:39:31,701 34000 cell images written\n",
      "2020-02-12 18:40:06,704 35000 cell images written\n",
      "2020-02-12 18:40:41,711 36000 cell images written\n",
      "2020-02-12 18:41:16,671 37000 cell images written\n",
      "2020-02-12 18:41:51,552 38000 cell images written\n",
      "2020-02-12 18:42:26,415 39000 cell images written\n",
      "2020-02-12 18:43:01,628 40000 cell images written\n",
      "2020-02-12 18:43:36,895 41000 cell images written\n",
      "2020-02-12 18:44:11,891 42000 cell images written\n",
      "2020-02-12 18:44:46,869 43000 cell images written\n",
      "2020-02-12 18:45:21,618 44000 cell images written\n",
      "2020-02-12 18:45:56,605 45000 cell images written\n",
      "2020-02-12 18:46:31,349 46000 cell images written\n",
      "2020-02-12 18:47:06,430 47000 cell images written\n",
      "2020-02-12 18:47:41,415 48000 cell images written\n",
      "2020-02-12 18:48:16,350 49000 cell images written\n",
      "2020-02-12 18:48:51,128 50000 cell images written\n",
      "2020-02-12 18:49:25,850 51000 cell images written\n",
      "2020-02-12 18:50:01,116 52000 cell images written\n",
      "2020-02-12 18:50:36,327 53000 cell images written\n",
      "2020-02-12 18:51:11,137 54000 cell images written\n",
      "2020-02-12 18:51:46,125 55000 cell images written\n",
      "2020-02-12 18:52:20,706 56000 cell images written\n",
      "2020-02-12 18:52:55,523 57000 cell images written\n",
      "2020-02-12 18:53:30,602 58000 cell images written\n",
      "2020-02-12 18:54:05,408 59000 cell images written\n",
      "2020-02-12 18:54:40,135 60000 cell images written\n",
      "2020-02-12 18:55:14,987 61000 cell images written\n",
      "2020-02-12 18:55:49,896 62000 cell images written\n",
      "2020-02-12 18:56:24,857 63000 cell images written\n",
      "2020-02-12 18:56:59,976 64000 cell images written\n",
      "2020-02-12 18:57:35,030 65000 cell images written\n",
      "2020-02-12 18:58:07,875 done writing images\n",
      "2020-02-12 18:58:12,395 creating training dataset\n",
      "2020-02-12 18:58:13,311 creating validation dataset\n"
     ]
    },
    {
     "name": "stdout",
     "output_type": "stream",
     "text": [
      "CPU times: user 45min 37s, sys: 46.8 s, total: 46min 24s\n",
      "Wall time: 40min 17s\n"
     ]
    }
   ],
   "source": [
    "%%time\n",
    "\n",
    "pollock_dataset = pollock.models.model.PollockDataset(adata, cell_type_key='x', dataset_type='training',\n",
    "                                image_root_dir='/home/estorrs/pollock/models/scratch/zheng_68k_unfiltered_training',\n",
    "                                n_per_cell_type=10000, max_val_per_cell_type=1000)"
   ]
  },
  {
   "cell_type": "code",
   "execution_count": 132,
   "metadata": {},
   "outputs": [
    {
     "data": {
      "text/plain": [
       "(TensorShape([64, 128, 128, 3]), TensorShape([64, 11]))"
      ]
     },
     "execution_count": 132,
     "metadata": {},
     "output_type": "execute_result"
    }
   ],
   "source": [
    "x,y = next(iter(pollock_dataset.train_ds))\n",
    "x.shape, y.shape"
   ]
  },
  {
   "cell_type": "code",
   "execution_count": 133,
   "metadata": {},
   "outputs": [
    {
     "data": {
      "image/png": "[encoded data removed]",
      "text/plain": [
       "<Figure size 432x288 with 1 Axes>"
      ]
     },
     "metadata": {
      "needs_background": "light"
     },
     "output_type": "display_data"
    }
   ],
   "source": [
    "cell_id = adata.obs.index[0]\n",
    "img = pollock_dataset.get_cell_image(cell_id)"
   ]
  },
  {
   "cell_type": "code",
   "execution_count": 134,
   "metadata": {},
   "outputs": [
    {
     "data": {
      "text/plain": [
       "(['CD14+ Monocyte',\n",
       "  'CD19+ B',\n",
       "  'CD34+',\n",
       "  'CD4+ T Helper2',\n",
       "  'CD4+/CD25 T Reg',\n",
       "  'CD4+/CD45RA+/CD25- Naive T',\n",
       "  'CD4+/CD45RO+ Memory',\n",
       "  'CD56+ NK',\n",
       "  'CD8+ Cytotoxic T',\n",
       "  'CD8+/CD45RA+ Naive Cytotoxic',\n",
       "  'Dendritic'],\n",
       " ['',\n",
       "  'CD14+ Monocyte',\n",
       "  'CD14+ Monocyte_diff_Dendritic',\n",
       "  'CD19+ B',\n",
       "  'CD19+ B_diff_CD4+ T Helper2',\n",
       "  'CD19+ B_diff_CD4+/CD45RA+/CD25- Naive T',\n",
       "  'CD19+ B_diff_CD8+/CD45RA+ Naive Cytotoxic',\n",
       "  'CD34+',\n",
       "  'CD4+ T Helper2',\n",
       "  'CD4+ T Helper2_diff_CD4+/CD25 T Reg',\n",
       "  'CD4+ T Helper2_diff_CD4+/CD45RA+/CD25- Naive T',\n",
       "  'CD4+ T Helper2_diff_CD4+/CD45RO+ Memory',\n",
       "  'CD4+ T Helper2_diff_CD8+ Cytotoxic T',\n",
       "  'CD4+ T Helper2_diff_CD8+/CD45RA+ Naive Cytotoxic',\n",
       "  'CD4+ T Helper2_diff_Dendritic',\n",
       "  'CD4+/CD25 T Reg',\n",
       "  'CD4+/CD25 T Reg_diff_CD4+/CD45RA+/CD25- Naive T',\n",
       "  'CD4+/CD25 T Reg_diff_CD4+/CD45RO+ Memory',\n",
       "  'CD4+/CD25 T Reg_diff_CD8+ Cytotoxic T',\n",
       "  'CD4+/CD25 T Reg_diff_CD8+/CD45RA+ Naive Cytotoxic',\n",
       "  'CD4+/CD45RA+/CD25- Naive T',\n",
       "  'CD4+/CD45RA+/CD25- Naive T_diff_CD4+/CD45RO+ Memory',\n",
       "  'CD4+/CD45RA+/CD25- Naive T_diff_CD8+ Cytotoxic T',\n",
       "  'CD4+/CD45RA+/CD25- Naive T_diff_CD8+/CD45RA+ Naive Cytotoxic',\n",
       "  'CD4+/CD45RO+ Memory',\n",
       "  'CD4+/CD45RO+ Memory_diff_CD8+ Cytotoxic T',\n",
       "  'CD4+/CD45RO+ Memory_diff_CD8+/CD45RA+ Naive Cytotoxic',\n",
       "  'CD56+ NK',\n",
       "  'CD56+ NK_diff_CD8+ Cytotoxic T',\n",
       "  'CD8+ Cytotoxic T',\n",
       "  'CD8+ Cytotoxic T_diff_CD8+/CD45RA+ Naive Cytotoxic',\n",
       "  'CD8+/CD45RA+ Naive Cytotoxic',\n",
       "  'Dendritic'])"
      ]
     },
     "execution_count": 134,
     "metadata": {},
     "output_type": "execute_result"
    }
   ],
   "source": [
    "pollock_dataset.cell_types, sorted(set(pollock_dataset.cell_type_template.flatten()))"
   ]
  },
  {
   "cell_type": "code",
   "execution_count": 136,
   "metadata": {},
   "outputs": [
    {
     "data": {
      "text/plain": [
       "<matplotlib.image.AxesImage at 0x7f1d63f118d0>"
      ]
     },
     "execution_count": 136,
     "metadata": {},
     "output_type": "execute_result"
    },
    {
     "data": {
      "image/png": "[encoded data removed]",
      "text/plain": [
       "<Figure size 432x288 with 1 Axes>"
      ]
     },
     "metadata": {
      "needs_background": "light"
     },
     "output_type": "display_data"
    }
   ],
   "source": [
    "plt.imshow(pollock_dataset.cell_type_template=='CD4+ T Helper2_diff_CD4+/CD25 T Reg')"
   ]
  },
  {
   "cell_type": "code",
   "execution_count": 145,
   "metadata": {},
   "outputs": [],
   "source": [
    "model = PollockModel(pollock_dataset.cell_types, model=None)"
   ]
  },
  {
   "cell_type": "code",
   "execution_count": 146,
   "metadata": {},
   "outputs": [
    {
     "name": "stdout",
     "output_type": "stream",
     "text": [
      "Model: \"sequential_5\"\n",
      "_________________________________________________________________\n",
      "Layer (type)                 Output Shape              Param #   \n",
      "=================================================================\n",
      "conv2d_15 (Conv2D)           (None, 128, 128, 16)      448       \n",
      "_________________________________________________________________\n",
      "max_pooling2d_15 (MaxPooling (None, 64, 64, 16)        0         \n",
      "_________________________________________________________________\n",
      "conv2d_16 (Conv2D)           (None, 64, 64, 32)        4640      \n",
      "_________________________________________________________________\n",
      "max_pooling2d_16 (MaxPooling (None, 32, 32, 32)        0         \n",
      "_________________________________________________________________\n",
      "conv2d_17 (Conv2D)           (None, 32, 32, 64)        18496     \n",
      "_________________________________________________________________\n",
      "max_pooling2d_17 (MaxPooling (None, 16, 16, 64)        0         \n",
      "_________________________________________________________________\n",
      "flatten_5 (Flatten)          (None, 16384)             0         \n",
      "_________________________________________________________________\n",
      "dropout_5 (Dropout)          (None, 16384)             0         \n",
      "_________________________________________________________________\n",
      "dense_10 (Dense)             (None, 512)               8389120   \n",
      "_________________________________________________________________\n",
      "dense_11 (Dense)             (None, 11)                5643      \n",
      "=================================================================\n",
      "Total params: 8,418,347\n",
      "Trainable params: 8,418,347\n",
      "Non-trainable params: 0\n",
      "_________________________________________________________________\n"
     ]
    }
   ],
   "source": [
    "model.model.summary()"
   ]
  },
  {
   "cell_type": "code",
   "execution_count": 147,
   "metadata": {},
   "outputs": [
    {
     "name": "stdout",
     "output_type": "stream",
     "text": [
      "Train for 1719 steps, validate for 107 steps\n",
      "Epoch 1/2\n",
      "1719/1719 [==============================] - 224s 130ms/step - loss: 0.7402 - accuracy: 0.7119 - val_loss: 0.7683 - val_accuracy: 0.7053\n",
      "Epoch 2/2\n",
      "1719/1719 [==============================] - 224s 130ms/step - loss: 0.5038 - accuracy: 0.8015 - val_loss: 0.7328 - val_accuracy: 0.7259\n"
     ]
    }
   ],
   "source": [
    "# with tf.device('/device:XLA_GPU:0'):\n",
    "\n",
    "model.fit(pollock_dataset, epochs=2)"
   ]
  },
  {
   "cell_type": "code",
   "execution_count": 148,
   "metadata": {},
   "outputs": [
    {
     "data": {
      "text/plain": [
       "6815"
      ]
     },
     "execution_count": 148,
     "metadata": {},
     "output_type": "execute_result"
    }
   ],
   "source": [
    "pollock_dataset.val_length"
   ]
  },
  {
   "cell_type": "code",
   "execution_count": 149,
   "metadata": {},
   "outputs": [],
   "source": [
    "# list(pollock_dataset.val_ds.unbatch())"
   ]
  },
  {
   "cell_type": "code",
   "execution_count": 150,
   "metadata": {},
   "outputs": [
    {
     "data": {
      "text/plain": [
       "((6815, 128, 128, 3), (6815,))"
      ]
     },
     "execution_count": 150,
     "metadata": {},
     "output_type": "execute_result"
    }
   ],
   "source": [
    "X_val, y_val = None, None\n",
    "for X, y in pollock_dataset.val_ds.take((pollock_dataset.val_length // 64) + 1):\n",
    "    if X_val is None:\n",
    "        X_val = X\n",
    "        y_val = y\n",
    "    else:\n",
    "        X_val = np.concatenate((X_val, X), axis=0)\n",
    "        y_val = np.concatenate((y_val, y), axis=0)\n",
    "        \n",
    "y_val = np.asarray([model.class_names[x] for x in np.argmax(y_val, axis=1).flatten()])\n",
    "X_val, y_val = X_val[:pollock_dataset.val_length], y_val[:pollock_dataset.val_length]\n",
    "        \n",
    "X_val.shape, y_val.shape"
   ]
  },
  {
   "cell_type": "code",
   "execution_count": 151,
   "metadata": {},
   "outputs": [
    {
     "data": {
      "text/plain": [
       "['CD14+ Monocyte',\n",
       " 'CD19+ B',\n",
       " 'CD34+',\n",
       " 'CD4+ T Helper2',\n",
       " 'CD4+/CD25 T Reg',\n",
       " 'CD4+/CD45RA+/CD25- Naive T',\n",
       " 'CD4+/CD45RO+ Memory',\n",
       " 'CD56+ NK',\n",
       " 'CD8+ Cytotoxic T',\n",
       " 'CD8+/CD45RA+ Naive Cytotoxic',\n",
       " 'Dendritic']"
      ]
     },
     "execution_count": 151,
     "metadata": {},
     "output_type": "execute_result"
    }
   ],
   "source": [
    "model.class_names"
   ]
  },
  {
   "cell_type": "code",
   "execution_count": null,
   "metadata": {},
   "outputs": [],
   "source": []
  },
  {
   "cell_type": "code",
   "execution_count": 152,
   "metadata": {},
   "outputs": [],
   "source": [
    "model.save(pollock_dataset, '/home/estorrs/pollock/models/zheng_68k_unfiltered',\n",
    "          X_val=X_val, y_val=y_val)"
   ]
  },
  {
   "cell_type": "code",
   "execution_count": 116,
   "metadata": {},
   "outputs": [
    {
     "data": {
      "image/png": "[encoded data removed]",
      "text/plain": [
       "<Figure size 576x576 with 2 Axes>"
      ]
     },
     "metadata": {
      "needs_background": "light"
     },
     "output_type": "display_data"
    }
   ],
   "source": [
    "pollock_analysis.show_history(model.history)"
   ]
  },
  {
   "cell_type": "code",
   "execution_count": 29,
   "metadata": {},
   "outputs": [
    {
     "name": "stderr",
     "output_type": "stream",
     "text": [
      "2020-02-12 14:52:24,813 writing images\n",
      "2020-02-12 14:52:24,814 0 cell images written\n",
      "2020-02-12 14:52:59,291 1000 cell images written\n",
      "2020-02-12 14:53:33,920 2000 cell images written\n",
      "2020-02-12 14:54:08,504 3000 cell images written\n",
      "2020-02-12 14:54:42,867 4000 cell images written\n",
      "2020-02-12 14:55:17,265 5000 cell images written\n",
      "2020-02-12 14:55:51,748 6000 cell images written\n",
      "2020-02-12 14:56:26,115 7000 cell images written\n",
      "2020-02-12 14:57:00,600 8000 cell images written\n",
      "2020-02-12 14:57:35,063 9000 cell images written\n",
      "2020-02-12 14:57:44,754 done writing images\n"
     ]
    },
    {
     "name": "stdout",
     "output_type": "stream",
     "text": [
      "Found 9280 images belonging to 1 classes.\n",
      "CPU times: user 5min 20s, sys: 1.6 s, total: 5min 21s\n",
      "Wall time: 5min 20s\n"
     ]
    }
   ],
   "source": [
    "%%time\n",
    "# prediction_dataset, model = load_from_directory(adata, '/home/estorrs/pollock/models/abm_3class',\n",
    "#         image_root_dir = '/home/estorrs/pollock/models/scratch/test_amb_prediction')\n",
    "\n",
    "prediction_dataset, model = load_from_directory(adata, '/home/estorrs/pollock/models/zheng_68k_unfiltered',\n",
    "        image_root_dir = '/home/estorrs/pollock/models/scratch/test_zheng_68k_unfiltered_prediction')"
   ]
  },
  {
   "cell_type": "code",
   "execution_count": 154,
   "metadata": {},
   "outputs": [
    {
     "data": {
      "text/plain": [
       "(6815, 11)"
      ]
     },
     "execution_count": 154,
     "metadata": {},
     "output_type": "execute_result"
    }
   ],
   "source": [
    "# probs = model.predict(prediction_dataset)\n",
    "probs = model.predict(X_val)\n",
    "\n",
    "probs.shape"
   ]
  },
  {
   "cell_type": "code",
   "execution_count": 155,
   "metadata": {},
   "outputs": [],
   "source": [
    "# [np.max(x) for x in probs]"
   ]
  },
  {
   "cell_type": "code",
   "execution_count": 176,
   "metadata": {},
   "outputs": [
    {
     "data": {
      "text/plain": [
       "(6815, array([ 5,  6,  8,  1, 10]))"
      ]
     },
     "execution_count": 176,
     "metadata": {},
     "output_type": "execute_result"
    }
   ],
   "source": [
    "predictions = np.argmax(probs, axis=1).flatten()\n",
    "max_prob = np.asarray([np.max(x) for x in probs])\n",
    "predicted_labels = [prediction_dataset.cell_types[i] for i in predictions]\n",
    "len(predictions), predictions[:5]"
   ]
  },
  {
   "cell_type": "code",
   "execution_count": null,
   "metadata": {},
   "outputs": [],
   "source": []
  },
  {
   "cell_type": "code",
   "execution_count": 177,
   "metadata": {},
   "outputs": [
    {
     "data": {
      "text/plain": [
       "(6815, [5, 6, 8, 1, 10])"
      ]
     },
     "execution_count": 177,
     "metadata": {},
     "output_type": "execute_result"
    }
   ],
   "source": [
    "# cell_type_to_index = {v:k for k, v in enumerate(prediction_dataset.cell_types)}\n",
    "# groundtruth = [cell_type_to_index[cell_type]\n",
    "#                for cell_type in adata[prediction_dataset.cell_ids, :].obs['x']]\n",
    "\n",
    "cell_type_to_index = {v:k for k, v in enumerate(pollock_dataset.cell_types)}\n",
    "groundtruth = [cell_type_to_index[cell_type]\n",
    "               for cell_type in y_val]\n",
    "len(groundtruth), groundtruth[:5]"
   ]
  },
  {
   "cell_type": "code",
   "execution_count": 178,
   "metadata": {},
   "outputs": [
    {
     "data": {
      "text/plain": [
       "(2678, 2678)"
      ]
     },
     "execution_count": 178,
     "metadata": {},
     "output_type": "execute_result"
    }
   ],
   "source": [
    "predictions, groundtruth = zip(*[(p, g) for p, g, prob in zip(predictions, groundtruth, max_prob)\n",
    "                                if prob > .9])\n",
    "len(predictions), len(groundtruth)"
   ]
  },
  {
   "cell_type": "code",
   "execution_count": 179,
   "metadata": {},
   "outputs": [
    {
     "data": {
      "text/plain": [
       "{'CD14+ Monocyte': {'precision': 0.848,\n",
       "  'recall': 0.9769585253456221,\n",
       "  'f1-score': 0.9079229122055674,\n",
       "  'support': 217},\n",
       " 'CD19+ B': {'precision': 0.990084985835694,\n",
       "  'recall': 0.9928977272727273,\n",
       "  'f1-score': 0.9914893617021275,\n",
       "  'support': 704},\n",
       " 'CD34+': {'precision': 1.0,\n",
       "  'recall': 0.8787878787878788,\n",
       "  'f1-score': 0.9354838709677419,\n",
       "  'support': 33},\n",
       " 'CD4+ T Helper2': {'precision': 0.0,\n",
       "  'recall': 0.0,\n",
       "  'f1-score': 0.0,\n",
       "  'support': 2},\n",
       " 'CD4+/CD25 T Reg': {'precision': 0.9310344827586207,\n",
       "  'recall': 0.75,\n",
       "  'f1-score': 0.8307692307692308,\n",
       "  'support': 108},\n",
       " 'CD4+/CD45RA+/CD25- Naive T': {'precision': 0.7674418604651163,\n",
       "  'recall': 0.9850746268656716,\n",
       "  'f1-score': 0.8627450980392157,\n",
       "  'support': 67},\n",
       " 'CD4+/CD45RO+ Memory': {'precision': 0.8120805369127517,\n",
       "  'recall': 0.9603174603174603,\n",
       "  'f1-score': 0.8800000000000001,\n",
       "  'support': 126},\n",
       " 'CD56+ NK': {'precision': 0.9754204398447607,\n",
       "  'recall': 0.9934123847167325,\n",
       "  'f1-score': 0.9843342036553525,\n",
       "  'support': 759},\n",
       " 'CD8+ Cytotoxic T': {'precision': 0.9764309764309764,\n",
       "  'recall': 0.8734939759036144,\n",
       "  'f1-score': 0.9220985691573926,\n",
       "  'support': 332},\n",
       " 'CD8+/CD45RA+ Naive Cytotoxic': {'precision': 0.967741935483871,\n",
       "  'recall': 0.967741935483871,\n",
       "  'f1-score': 0.967741935483871,\n",
       "  'support': 124},\n",
       " 'Dendritic': {'precision': 0.9647058823529412,\n",
       "  'recall': 0.7961165048543689,\n",
       "  'f1-score': 0.8723404255319148,\n",
       "  'support': 206},\n",
       " 'accuracy': 0.9469753547423451,\n",
       " 'macro avg': {'precision': 0.8393582818258847,\n",
       "  'recall': 0.8340728199589044,\n",
       "  'f1-score': 0.8322659643193103,\n",
       "  'support': 2678},\n",
       " 'weighted avg': {'precision': 0.9527919776887199,\n",
       "  'recall': 0.9469753547423451,\n",
       "  'f1-score': 0.9474437124775157,\n",
       "  'support': 2678}}"
      ]
     },
     "execution_count": 179,
     "metadata": {},
     "output_type": "execute_result"
    }
   ],
   "source": [
    "from sklearn.metrics import classification_report\n",
    "report = classification_report(groundtruth, predictions, target_names=pollock_dataset.cell_types,\n",
    "                               output_dict=True)\n",
    "report"
   ]
  },
  {
   "cell_type": "code",
   "execution_count": 171,
   "metadata": {},
   "outputs": [
    {
     "data": {
      "image/png": "[encoded data removed]",
      "text/plain": [
       "<Figure size 576x576 with 2 Axes>"
      ]
     },
     "metadata": {
      "needs_background": "light"
     },
     "output_type": "display_data"
    }
   ],
   "source": [
    "c_df = pollock_analysis.get_confusion_matrix(predictions, groundtruth, pollock_dataset.cell_types)"
   ]
  },
  {
   "cell_type": "code",
   "execution_count": 174,
   "metadata": {},
   "outputs": [
    {
     "name": "stderr",
     "output_type": "stream",
     "text": [
      "/home/estorrs/miniconda3/envs/pollock/lib/python3.7/site-packages/numba/typed_passes.py:293: NumbaPerformanceWarning: \n",
      "The keyword argument 'parallel=True' was specified but no transformation for parallel execution was possible.\n",
      "\n",
      "To find out why, try turning on parallel diagnostics, see http://numba.pydata.org/numba-doc/latest/user/parallel.html#diagnostics for help.\n",
      "\n",
      "File \"../../miniconda3/envs/pollock/lib/python3.7/site-packages/umap/nndescent.py\", line 47:\n",
      "    @numba.njit(parallel=True)\n",
      "    def nn_descent(\n",
      "    ^\n",
      "\n",
      "  state.func_ir.loc))\n"
     ]
    },
    {
     "data": {
      "text/plain": [
       "(6815, 2)"
      ]
     },
     "execution_count": 174,
     "metadata": {},
     "output_type": "execute_result"
    }
   ],
   "source": [
    "embedding = pollock_analysis.umap_final_layer(X_val, model.model)\n",
    "embedding.shape"
   ]
  },
  {
   "cell_type": "code",
   "execution_count": 175,
   "metadata": {},
   "outputs": [
    {
     "ename": "AttributeError",
     "evalue": "'PollockDataset' object has no attribute 'cell_ids'",
     "output_type": "error",
     "traceback": [
      "\u001b[0;31m---------------------------------------------------------------------------\u001b[0m",
      "\u001b[0;31mAttributeError\u001b[0m                            Traceback (most recent call last)",
      "\u001b[0;32m<ipython-input-175-dffe2646d643>\u001b[0m in \u001b[0;36m<module>\u001b[0;34m\u001b[0m\n\u001b[0;32m----> 1\u001b[0;31m \u001b[0mordered_adata\u001b[0m \u001b[0;34m=\u001b[0m \u001b[0madata\u001b[0m\u001b[0;34m[\u001b[0m\u001b[0mpollock_dataset\u001b[0m\u001b[0;34m.\u001b[0m\u001b[0mcell_ids\u001b[0m\u001b[0;34m,\u001b[0m \u001b[0;34m:\u001b[0m\u001b[0;34m]\u001b[0m\u001b[0;34m\u001b[0m\u001b[0;34m\u001b[0m\u001b[0m\n\u001b[0m\u001b[1;32m      2\u001b[0m \u001b[0mordered_adata\u001b[0m\u001b[0;34m.\u001b[0m\u001b[0mobsm\u001b[0m\u001b[0;34m[\u001b[0m\u001b[0;34m'X_umap'\u001b[0m\u001b[0;34m]\u001b[0m \u001b[0;34m=\u001b[0m \u001b[0membedding\u001b[0m\u001b[0;34m\u001b[0m\u001b[0;34m\u001b[0m\u001b[0m\n\u001b[1;32m      3\u001b[0m \u001b[0mordered_adata\u001b[0m\u001b[0;34m.\u001b[0m\u001b[0mobs\u001b[0m\u001b[0;34m[\u001b[0m\u001b[0;34m'predicted_cell_type'\u001b[0m\u001b[0;34m]\u001b[0m \u001b[0;34m=\u001b[0m \u001b[0mpredicted_labels\u001b[0m\u001b[0;34m\u001b[0m\u001b[0;34m\u001b[0m\u001b[0m\n\u001b[1;32m      4\u001b[0m \u001b[0msc\u001b[0m\u001b[0;34m.\u001b[0m\u001b[0mpl\u001b[0m\u001b[0;34m.\u001b[0m\u001b[0mumap\u001b[0m\u001b[0;34m(\u001b[0m\u001b[0mordered_adata\u001b[0m\u001b[0;34m,\u001b[0m \u001b[0mcolor\u001b[0m\u001b[0;34m=\u001b[0m\u001b[0;34m[\u001b[0m\u001b[0;34m'predicted_cell_type'\u001b[0m\u001b[0;34m,\u001b[0m \u001b[0;34m'x'\u001b[0m\u001b[0;34m]\u001b[0m\u001b[0;34m)\u001b[0m\u001b[0;34m\u001b[0m\u001b[0;34m\u001b[0m\u001b[0m\n",
      "\u001b[0;31mAttributeError\u001b[0m: 'PollockDataset' object has no attribute 'cell_ids'"
     ]
    }
   ],
   "source": [
    "ordered_adata = adata[pollock_dataset.cell_ids, :]\n",
    "ordered_adata.obsm['X_umap'] = embedding\n",
    "ordered_adata.obs['predicted_cell_type'] = predicted_labels\n",
    "sc.pl.umap(ordered_adata, color=['predicted_cell_type', 'x'])"
   ]
  },
  {
   "cell_type": "code",
   "execution_count": null,
   "metadata": {},
   "outputs": [],
   "source": []
  }
 ],
 "metadata": {
  "kernelspec": {
   "display_name": "Python 3",
   "language": "python",
   "name": "python3"
  },
  "language_info": {
   "codemirror_mode": {
    "name": "ipython",
    "version": 3
   },
   "file_extension": ".py",
   "mimetype": "text/x-python",
   "name": "python",
   "nbconvert_exporter": "python",
   "pygments_lexer": "ipython3",
   "version": "3.7.6"
  }
 },
 "nbformat": 4,
 "nbformat_minor": 4
}
