{
 "cells": [
  {
   "cell_type": "code",
   "execution_count": 11,
   "metadata": {},
   "outputs": [],
   "source": [
    "import os\n",
    "from collections import Counter\n",
    "from pathlib import Path\n",
    "import re\n",
    "\n",
    "import anndata\n",
    "import altair as alt\n",
    "import pandas as pd\n",
    "import numpy as np\n",
    "import scipy\n",
    "import scanpy as sc\n",
    "import seaborn as sns\n",
    "import umap\n",
    "from sklearn.preprocessing import StandardScaler\n",
    "\n",
    "\n",
    "import mgitools.os_helpers as os_helpers"
   ]
  },
  {
   "cell_type": "code",
   "execution_count": 18,
   "metadata": {},
   "outputs": [],
   "source": [
    "from pollock.models.model import predict_from_anndata, embed_from_anndata, balancedish_training_generator\n",
    "from pollock.models.explain import explain_predictions"
   ]
  },
  {
   "cell_type": "code",
   "execution_count": 14,
   "metadata": {},
   "outputs": [
    {
     "data": {
      "text/plain": [
       "{'scRNAseq': {'brca': '/home/estorrs/pollock/benchmarking/results/01272021_harmonized_v2/scRNAseq/brca/pollock_module',\n",
       "  'cesc': '/home/estorrs/pollock/benchmarking/results/01272021_harmonized_v2/scRNAseq/cesc/pollock_module',\n",
       "  'hnscc': '/home/estorrs/pollock/benchmarking/results/01272021_harmonized_v2/scRNAseq/hnscc/pollock_module',\n",
       "  'melanoma': '/home/estorrs/pollock/benchmarking/results/01272021_harmonized_v2/scRNAseq/melanoma/pollock_module',\n",
       "  'myeloma': '/home/estorrs/pollock/benchmarking/results/01272021_harmonized_v2/scRNAseq/myeloma/pollock_module',\n",
       "  'pdac': '/home/estorrs/pollock/benchmarking/results/01272021_harmonized_v2/scRNAseq/pdac/pollock_module'},\n",
       " 'snATACseq': {'brca_gene_activity': '/home/estorrs/pollock/benchmarking/results/01272021_harmonized_v2/snATACseq/brca_gene_activity/pollock_module',\n",
       "  'brca_motif': '/home/estorrs/pollock/benchmarking/results/01272021_harmonized_v2/snATACseq/brca_motif/pollock_module',\n",
       "  'ccrcc_gene_activity': '/home/estorrs/pollock/benchmarking/results/01272021_harmonized_v2/snATACseq/ccrcc_gene_activity/pollock_module',\n",
       "  'ccrcc_motif': '/home/estorrs/pollock/benchmarking/results/01272021_harmonized_v2/snATACseq/ccrcc_motif/pollock_module',\n",
       "  'gbm_gene_activity': '/home/estorrs/pollock/benchmarking/results/01272021_harmonized_v2/snATACseq/gbm_gene_activity/pollock_module',\n",
       "  'gbm_motif': '/home/estorrs/pollock/benchmarking/results/01272021_harmonized_v2/snATACseq/gbm_motif/pollock_module'},\n",
       " 'snRNAseq': {'brca': '/home/estorrs/pollock/benchmarking/results/01272021_harmonized_v2/snRNAseq/brca/pollock_module',\n",
       "  'gbm': '/home/estorrs/pollock/benchmarking/results/01272021_harmonized_v2/snRNAseq/gbm/pollock_module'}}"
      ]
     },
     "execution_count": 14,
     "metadata": {},
     "output_type": "execute_result"
    }
   ],
   "source": [
    "benchmarking_results = '/home/estorrs/pollock/benchmarking/results/01272021_harmonized_v2'\n",
    "fps = sorted(os_helpers.listfiles(benchmarking_results, regex=r'pollock_module$'))\n",
    "module_map = {fp.split('/')[-3]:{} for fp in fps}\n",
    "for fp in fps:\n",
    "    dtype = fp.split('/')[-3]\n",
    "    disease = fp.split('/')[-2]\n",
    "    module_map[dtype][disease] = fp\n",
    "module_map"
   ]
  },
  {
   "cell_type": "code",
   "execution_count": 12,
   "metadata": {},
   "outputs": [
    {
     "name": "stdout",
     "output_type": "stream",
     "text": [
      "scRNAseq brca\n",
      "scRNAseq cesc\n",
      "scRNAseq hnscc\n",
      "scRNAseq melanoma\n",
      "scRNAseq myeloma\n",
      "scRNAseq pdac\n",
      "snATACseq brca_gene_activity\n",
      "snATACseq brca_motif\n",
      "snATACseq brca\n",
      "snATACseq ccrcc_gene_activity\n",
      "snATACseq ccrcc_motif\n",
      "snATACseq ccrcc\n",
      "snATACseq gbm_gene_activity\n",
      "snATACseq gbm_motif\n",
      "snATACseq gbm\n",
      "snRNAseq brca\n",
      "snRNAseq ccrcc\n",
      "snRNAseq gbm\n"
     ]
    }
   ],
   "source": [
    "DATA_DIR = '/home/estorrs/pollock/benchmarking/data/01272021_harmonized/teir_1/'\n",
    "fps = sorted(os_helpers.listfiles(DATA_DIR, regex='.h5ad$'))\n",
    "adata_map = {fp.split('/')[-2]:{} for fp in fps}\n",
    "for fp in fps:\n",
    "    dtype = fp.split('/')[-2]\n",
    "    disease = re.sub(r'^(.*)((_train)|(_val)).h5ad$', r'\\1', fp.split('/')[-1])\n",
    "    if 'peaks' not in disease:\n",
    "        if disease not in adata_map[dtype] and '.h5ad' not in disease: adata_map[dtype][disease] = {}\n",
    "        if 'train.h5ad' in fp:\n",
    "            adata_map[dtype][disease]['train'] = fp\n",
    "        if 'val.h5ad' in fp:\n",
    "            adata_map[dtype][disease]['val'] = fp\n",
    "for dtype, d in adata_map.items():\n",
    "    for disease, m in d.items():\n",
    "        print(dtype, disease)"
   ]
  },
  {
   "cell_type": "code",
   "execution_count": 13,
   "metadata": {},
   "outputs": [
    {
     "data": {
      "text/plain": [
       "{'train': '/home/estorrs/pollock/benchmarking/data/01272021_harmonized/teir_1/snRNAseq/ccrcc_train.h5ad',\n",
       " 'val': '/home/estorrs/pollock/benchmarking/data/01272021_harmonized/teir_1/snRNAseq/ccrcc_val.h5ad'}"
      ]
     },
     "execution_count": 13,
     "metadata": {},
     "output_type": "execute_result"
    }
   ],
   "source": [
    "# only do it for scRNA, snRNA, and gene_activity\n",
    "adata_map['snATACseq'].pop('brca_motif')\n",
    "adata_map['snATACseq'].pop('brca')\n",
    "adata_map['snATACseq'].pop('ccrcc_motif')\n",
    "adata_map['snATACseq'].pop('ccrcc')\n",
    "adata_map['snATACseq'].pop('gbm_motif')\n",
    "adata_map['snATACseq'].pop('gbm')\n",
    "adata_map['snRNAseq'].pop('ccrcc')\n"
   ]
  },
  {
   "cell_type": "code",
   "execution_count": 17,
   "metadata": {},
   "outputs": [
    {
     "name": "stdout",
     "output_type": "stream",
     "text": [
      "scRNAseq brca\n",
      "scRNAseq cesc\n",
      "scRNAseq hnscc\n",
      "scRNAseq melanoma\n",
      "scRNAseq myeloma\n",
      "scRNAseq pdac\n",
      "snATACseq brca_gene_activity\n",
      "snATACseq ccrcc_gene_activity\n",
      "snATACseq gbm_gene_activity\n",
      "snRNAseq brca\n",
      "snRNAseq gbm\n"
     ]
    }
   ],
   "source": [
    "for k, v in adata_map.items():\n",
    "    for k2 in v.keys():\n",
    "        if k in module_map and k2 in module_map[k]:\n",
    "            print(k, k2)"
   ]
  },
  {
   "cell_type": "code",
   "execution_count": 21,
   "metadata": {
    "scrolled": true
   },
   "outputs": [
    {
     "name": "stdout",
     "output_type": "stream",
     "text": [
      "scRNAseq brca\n",
      "(325, 27131)\n",
      "Counter({'Endothelial': 25, 'CD4 T cell': 25, 'NK': 25, 'CD8 T cell': 25, 'Malignant': 25, 'Mast': 25, 'Monocyte': 25, 'Fibroblast': 25, 'B cell': 25, 'Dendritic': 25, 'Treg': 25, 'Plasma': 25, 'Erythrocyte': 25})\n",
      "brca (325, 27131)\n"
     ]
    },
    {
     "name": "stderr",
     "output_type": "stream",
     "text": [
      "is_categorical is deprecated and will be removed in a future version.  Use is_categorical_dtype instead\n",
      "is_categorical is deprecated and will be removed in a future version.  Use is_categorical_dtype instead\n",
      "2021-04-21 11:01:25,284 0 genes in training set are missing from prediction set\n",
      "2021-04-21 11:01:26,594 starting batch 1 of 1\n",
      "is_categorical is deprecated and will be removed in a future version.  Use is_categorical_dtype instead\n",
      "2021-04-21 11:01:26,717 0 genes in training set are missing from prediction set\n",
      "2021-04-21 11:01:28,249 0 genes in training set are missing from prediction set\n",
      "2021-04-21 11:01:28,983 (325, 27131)\n"
     ]
    },
    {
     "name": "stdout",
     "output_type": "stream",
     "text": [
      "scRNAseq cesc\n"
     ]
    },
    {
     "name": "stderr",
     "output_type": "stream",
     "text": [
      "is_categorical is deprecated and will be removed in a future version.  Use is_categorical_dtype instead\n"
     ]
    },
    {
     "name": "stdout",
     "output_type": "stream",
     "text": [
      "(264, 22928)\n",
      "Counter({'Monocyte': 25, 'Mast': 25, 'Fibroblast': 25, 'Endothelial': 25, 'CD8 T cell': 25, 'Epithelial': 25, 'Plasma': 25, 'CD4 T cell': 25, 'Malignant': 25, 'NK': 25, 'Erythrocyte': 14})\n",
      "cesc (264, 22928)\n"
     ]
    },
    {
     "name": "stderr",
     "output_type": "stream",
     "text": [
      "is_categorical is deprecated and will be removed in a future version.  Use is_categorical_dtype instead\n",
      "2021-04-21 11:22:04,837 0 genes in training set are missing from prediction set\n",
      "2021-04-21 11:22:05,261 starting batch 1 of 1\n",
      "is_categorical is deprecated and will be removed in a future version.  Use is_categorical_dtype instead\n",
      "2021-04-21 11:22:05,321 0 genes in training set are missing from prediction set\n",
      "2021-04-21 11:22:06,397 0 genes in training set are missing from prediction set\n",
      "2021-04-21 11:22:06,897 (264, 22928)\n"
     ]
    },
    {
     "name": "stdout",
     "output_type": "stream",
     "text": [
      "scRNAseq hnscc\n"
     ]
    },
    {
     "name": "stderr",
     "output_type": "stream",
     "text": [
      "is_categorical is deprecated and will be removed in a future version.  Use is_categorical_dtype instead\n"
     ]
    },
    {
     "name": "stdout",
     "output_type": "stream",
     "text": [
      "(275, 26929)\n",
      "Counter({'Monocyte': 25, 'CD4 T cell': 25, 'Plasma': 25, 'B cell': 25, 'Treg': 25, 'Malignant': 25, 'Mast': 25, 'Erythrocyte': 25, 'NK': 25, 'CD8 T cell': 25, 'Endothelial': 25})\n",
      "hnscc (275, 26929)\n"
     ]
    },
    {
     "name": "stderr",
     "output_type": "stream",
     "text": [
      "is_categorical is deprecated and will be removed in a future version.  Use is_categorical_dtype instead\n",
      "2021-04-21 11:48:14,080 0 genes in training set are missing from prediction set\n",
      "2021-04-21 11:48:14,647 starting batch 1 of 1\n",
      "is_categorical is deprecated and will be removed in a future version.  Use is_categorical_dtype instead\n",
      "2021-04-21 11:48:14,716 0 genes in training set are missing from prediction set\n",
      "2021-04-21 11:48:15,844 0 genes in training set are missing from prediction set\n",
      "2021-04-21 11:48:16,506 (275, 26929)\n"
     ]
    },
    {
     "name": "stdout",
     "output_type": "stream",
     "text": [
      "scRNAseq melanoma\n"
     ]
    },
    {
     "name": "stderr",
     "output_type": "stream",
     "text": [
      "is_categorical is deprecated and will be removed in a future version.  Use is_categorical_dtype instead\n"
     ]
    },
    {
     "name": "stdout",
     "output_type": "stream",
     "text": [
      "(250, 23452)\n",
      "Counter({'B cell': 25, 'NK': 25, 'CD8 T cell': 25, 'Treg': 25, 'Dendritic': 25, 'Fibroblast': 25, 'Monocyte': 25, 'CD4 T cell': 25, 'Plasma': 25, 'Malignant': 25})\n",
      "melanoma (250, 23452)\n"
     ]
    },
    {
     "name": "stderr",
     "output_type": "stream",
     "text": [
      "is_categorical is deprecated and will be removed in a future version.  Use is_categorical_dtype instead\n",
      "2021-04-21 12:09:49,540 0 genes in training set are missing from prediction set\n",
      "2021-04-21 12:09:50,023 starting batch 1 of 1\n",
      "is_categorical is deprecated and will be removed in a future version.  Use is_categorical_dtype instead\n",
      "2021-04-21 12:09:50,321 0 genes in training set are missing from prediction set\n",
      "2021-04-21 12:09:51,160 0 genes in training set are missing from prediction set\n",
      "2021-04-21 12:09:51,618 (250, 23452)\n"
     ]
    },
    {
     "name": "stdout",
     "output_type": "stream",
     "text": [
      "scRNAseq myeloma\n",
      "(208, 24020)\n",
      "Counter({'Malignant': 25, 'Monocyte': 25, 'Dendritic': 25, 'NK': 25, 'CD4 T cell': 25, 'CD8 T cell': 25, 'B cell': 25, 'Erythrocyte': 21, 'Mast': 4, 'Platlete': 4, 'Plasma': 4})\n",
      "myeloma (208, 24020)\n"
     ]
    },
    {
     "name": "stderr",
     "output_type": "stream",
     "text": [
      "is_categorical is deprecated and will be removed in a future version.  Use is_categorical_dtype instead\n",
      "is_categorical is deprecated and will be removed in a future version.  Use is_categorical_dtype instead\n",
      "2021-04-21 12:27:26,907 0 genes in training set are missing from prediction set\n",
      "2021-04-21 12:27:27,467 starting batch 1 of 1\n",
      "is_categorical is deprecated and will be removed in a future version.  Use is_categorical_dtype instead\n",
      "2021-04-21 12:27:27,555 0 genes in training set are missing from prediction set\n",
      "2021-04-21 12:27:28,372 0 genes in training set are missing from prediction set\n",
      "2021-04-21 12:27:28,900 (208, 24020)\n"
     ]
    },
    {
     "name": "stdout",
     "output_type": "stream",
     "text": [
      "scRNAseq pdac\n"
     ]
    },
    {
     "name": "stderr",
     "output_type": "stream",
     "text": [
      "is_categorical is deprecated and will be removed in a future version.  Use is_categorical_dtype instead\n"
     ]
    },
    {
     "name": "stdout",
     "output_type": "stream",
     "text": [
      "(425, 28756)\n",
      "Counter({'Tuft': 25, 'Epithelial': 25, 'Treg': 25, 'Plasma': 25, 'Dendritic': 25, 'NK': 25, 'Monocyte': 25, 'CD8 T cell': 25, 'Erythrocyte': 25, 'Islet': 25, 'Fibroblast': 25, 'Mast': 25, 'Endothelial': 25, 'CD4 T cell': 25, 'Malignant': 25, 'Acinar': 25, 'B cell': 25})\n",
      "pdac (425, 28756)\n"
     ]
    },
    {
     "name": "stderr",
     "output_type": "stream",
     "text": [
      "is_categorical is deprecated and will be removed in a future version.  Use is_categorical_dtype instead\n",
      "2021-04-21 13:08:24,523 0 genes in training set are missing from prediction set\n",
      "2021-04-21 13:08:25,157 starting batch 1 of 1\n",
      "is_categorical is deprecated and will be removed in a future version.  Use is_categorical_dtype instead\n",
      "2021-04-21 13:08:25,269 0 genes in training set are missing from prediction set\n",
      "2021-04-21 13:08:27,159 0 genes in training set are missing from prediction set\n",
      "2021-04-21 13:08:27,928 (425, 28756)\n"
     ]
    },
    {
     "name": "stdout",
     "output_type": "stream",
     "text": [
      "snATACseq brca_gene_activity\n"
     ]
    },
    {
     "name": "stderr",
     "output_type": "stream",
     "text": [
      "is_categorical is deprecated and will be removed in a future version.  Use is_categorical_dtype instead\n"
     ]
    },
    {
     "name": "stdout",
     "output_type": "stream",
     "text": [
      "(194, 19891)\n",
      "Counter({'Fibroblast': 25, 'Dendritic': 25, 'Monocyte': 25, 'T cells': 25, 'B cell': 25, 'Malignant': 25, 'Endothelial': 25, 'Mast': 19})\n",
      "brca_gene_activity (194, 19891)\n"
     ]
    },
    {
     "name": "stderr",
     "output_type": "stream",
     "text": [
      "is_categorical is deprecated and will be removed in a future version.  Use is_categorical_dtype instead\n",
      "2021-04-21 13:24:29,575 0 genes in training set are missing from prediction set\n",
      "2021-04-21 13:24:30,143 starting batch 1 of 1\n",
      "is_categorical is deprecated and will be removed in a future version.  Use is_categorical_dtype instead\n",
      "2021-04-21 13:24:30,207 0 genes in training set are missing from prediction set\n",
      "2021-04-21 13:24:31,248 0 genes in training set are missing from prediction set\n",
      "2021-04-21 13:24:31,706 (194, 19891)\n"
     ]
    },
    {
     "name": "stdout",
     "output_type": "stream",
     "text": [
      "snATACseq ccrcc_gene_activity\n",
      "(150, 19843)\n",
      "Counter({'Epithelial': 25, 'Monocyte': 25, 'Fibroblast': 25, 'Endothelial': 25, 'T cells': 25, 'Malignant': 25})\n",
      "ccrcc_gene_activity (150, 19843)\n"
     ]
    },
    {
     "name": "stderr",
     "output_type": "stream",
     "text": [
      "is_categorical is deprecated and will be removed in a future version.  Use is_categorical_dtype instead\n",
      "is_categorical is deprecated and will be removed in a future version.  Use is_categorical_dtype instead\n",
      "2021-04-21 13:36:33,675 0 genes in training set are missing from prediction set\n",
      "2021-04-21 13:36:34,236 starting batch 1 of 1\n",
      "is_categorical is deprecated and will be removed in a future version.  Use is_categorical_dtype instead\n",
      "2021-04-21 13:36:34,310 0 genes in training set are missing from prediction set\n",
      "2021-04-21 13:36:35,109 0 genes in training set are missing from prediction set\n",
      "2021-04-21 13:36:35,548 (150, 19843)\n"
     ]
    },
    {
     "name": "stdout",
     "output_type": "stream",
     "text": [
      "snATACseq gbm_gene_activity\n",
      "(200, 19891)\n",
      "Counter({'Malignant': 25, 'Fibroblast': 25, 'Oligodendrocytes': 25, 'T cells': 25, 'B cell': 25, 'Endothelial': 25, 'Microglia': 25, 'Neuron': 25})\n",
      "gbm_gene_activity (200, 19891)\n"
     ]
    },
    {
     "name": "stderr",
     "output_type": "stream",
     "text": [
      "is_categorical is deprecated and will be removed in a future version.  Use is_categorical_dtype instead\n",
      "is_categorical is deprecated and will be removed in a future version.  Use is_categorical_dtype instead\n",
      "2021-04-21 13:52:00,245 0 genes in training set are missing from prediction set\n",
      "2021-04-21 13:52:00,674 starting batch 1 of 1\n",
      "is_categorical is deprecated and will be removed in a future version.  Use is_categorical_dtype instead\n",
      "2021-04-21 13:52:01,076 0 genes in training set are missing from prediction set\n",
      "2021-04-21 13:52:02,044 0 genes in training set are missing from prediction set\n",
      "2021-04-21 13:52:02,401 (200, 19891)\n"
     ]
    },
    {
     "name": "stdout",
     "output_type": "stream",
     "text": [
      "snRNAseq brca\n"
     ]
    },
    {
     "name": "stderr",
     "output_type": "stream",
     "text": [
      "is_categorical is deprecated and will be removed in a future version.  Use is_categorical_dtype instead\n"
     ]
    },
    {
     "name": "stdout",
     "output_type": "stream",
     "text": [
      "(315, 29175)\n",
      "Counter({'NK': 25, 'Fibroblast': 25, 'Malignant': 25, 'Mast': 25, 'Endothelial': 25, 'Adipocyte': 25, 'Monocyte': 25, 'CD4 T cell': 25, 'Treg': 25, 'B cell': 25, 'CD8 T cell': 25, 'Plasma': 25, 'Dendritic': 15})\n",
      "brca (315, 29175)\n"
     ]
    },
    {
     "name": "stderr",
     "output_type": "stream",
     "text": [
      "is_categorical is deprecated and will be removed in a future version.  Use is_categorical_dtype instead\n",
      "2021-04-21 14:22:39,209 0 genes in training set are missing from prediction set\n",
      "2021-04-21 14:22:39,890 starting batch 1 of 1\n",
      "is_categorical is deprecated and will be removed in a future version.  Use is_categorical_dtype instead\n",
      "2021-04-21 14:22:39,972 0 genes in training set are missing from prediction set\n",
      "2021-04-21 14:22:41,294 0 genes in training set are missing from prediction set\n",
      "2021-04-21 14:22:42,098 (315, 29175)\n"
     ]
    },
    {
     "name": "stdout",
     "output_type": "stream",
     "text": [
      "snRNAseq gbm\n"
     ]
    },
    {
     "name": "stderr",
     "output_type": "stream",
     "text": [
      "is_categorical is deprecated and will be removed in a future version.  Use is_categorical_dtype instead\n"
     ]
    },
    {
     "name": "stdout",
     "output_type": "stream",
     "text": [
      "(225, 29748)\n",
      "Counter({'Malignant': 25, 'Microglia': 25, 'B cell': 25, 'Fibroblast': 25, 'Endothelial': 25, 'Neuron': 25, 'Oligodendrocytes': 25, 'T cells': 25, 'Monocyte': 25})\n",
      "gbm (225, 29748)\n"
     ]
    },
    {
     "name": "stderr",
     "output_type": "stream",
     "text": [
      "is_categorical is deprecated and will be removed in a future version.  Use is_categorical_dtype instead\n",
      "2021-04-21 14:44:24,150 0 genes in training set are missing from prediction set\n",
      "2021-04-21 14:44:24,730 starting batch 1 of 1\n",
      "is_categorical is deprecated and will be removed in a future version.  Use is_categorical_dtype instead\n",
      "2021-04-21 14:44:24,791 0 genes in training set are missing from prediction set\n",
      "2021-04-21 14:44:26,076 0 genes in training set are missing from prediction set\n",
      "2021-04-21 14:44:26,767 (225, 29748)\n"
     ]
    }
   ],
   "source": [
    "inputs = {}\n",
    "to_explained = {}\n",
    "for dtype, v in adata_map.items():\n",
    "    inputs[dtype] = {}\n",
    "    to_explained[dtype] = {}\n",
    "    for disease in v.keys():\n",
    "        if dtype in module_map and disease in module_map[dtype]:\n",
    "            print(dtype, disease)\n",
    "            adata = sc.read_h5ad(adata_map[dtype][disease]['val'])\n",
    "            explain, rest = balancedish_training_generator(adata, cell_type_key='cell_type',\n",
    "                                                   n_per_cell_type=25, oversample=False, split=1.)\n",
    "            background, _ = balancedish_training_generator(rest, cell_type_key='cell_type',\n",
    "                                                           n_per_cell_type=5, split=1.)\n",
    "            print(explain.shape)\n",
    "            print(Counter(explain.obs['cell_type']))\n",
    "\n",
    "            print(disease, explain.shape)\n",
    "            w = explain_predictions(explain.copy(), background.copy(), module_map[dtype][disease],\n",
    "                                    prediction_key='cell_type')\n",
    "            to_explained[dtype][disease] = w\n"
   ]
  },
  {
   "cell_type": "code",
   "execution_count": 22,
   "metadata": {},
   "outputs": [
    {
     "data": {
      "text/html": [
       "<div>\n",
       "<style scoped>\n",
       "    .dataframe tbody tr th:only-of-type {\n",
       "        vertical-align: middle;\n",
       "    }\n",
       "\n",
       "    .dataframe tbody tr th {\n",
       "        vertical-align: top;\n",
       "    }\n",
       "\n",
       "    .dataframe thead th {\n",
       "        text-align: right;\n",
       "    }\n",
       "</style>\n",
       "<table border=\"1\" class=\"dataframe\">\n",
       "  <thead>\n",
       "    <tr style=\"text-align: right;\">\n",
       "      <th></th>\n",
       "      <th>OR4F5</th>\n",
       "      <th>AL627309.1</th>\n",
       "      <th>AL627309.3</th>\n",
       "      <th>AL627309.4</th>\n",
       "      <th>AL669831.2</th>\n",
       "      <th>AL669831.5</th>\n",
       "      <th>FAM87B</th>\n",
       "      <th>LINC00115</th>\n",
       "      <th>FAM41C</th>\n",
       "      <th>AL645608.7</th>\n",
       "      <th>...</th>\n",
       "      <th>AL592183.1</th>\n",
       "      <th>AC007325.1</th>\n",
       "      <th>AC007325.4</th>\n",
       "      <th>AC007325.2</th>\n",
       "      <th>AL354822.1</th>\n",
       "      <th>AC023491.2</th>\n",
       "      <th>AC004556.1</th>\n",
       "      <th>AC233755.2</th>\n",
       "      <th>AC233755.1</th>\n",
       "      <th>AC240274.1</th>\n",
       "    </tr>\n",
       "  </thead>\n",
       "  <tbody>\n",
       "    <tr>\n",
       "      <th>HT056P_S1PA_AACAACCGTAGCGATG-1</th>\n",
       "      <td>0.0</td>\n",
       "      <td>0.0</td>\n",
       "      <td>0.0</td>\n",
       "      <td>0.0</td>\n",
       "      <td>0.0</td>\n",
       "      <td>0.000028</td>\n",
       "      <td>0.0</td>\n",
       "      <td>0.0</td>\n",
       "      <td>1.191398e-04</td>\n",
       "      <td>0.0</td>\n",
       "      <td>...</td>\n",
       "      <td>0.000038</td>\n",
       "      <td>0.0</td>\n",
       "      <td>0.000042</td>\n",
       "      <td>0.0</td>\n",
       "      <td>2.289906e-05</td>\n",
       "      <td>0.0</td>\n",
       "      <td>0.000000</td>\n",
       "      <td>0.0</td>\n",
       "      <td>0.0</td>\n",
       "      <td>0.0</td>\n",
       "    </tr>\n",
       "    <tr>\n",
       "      <th>HT056P_S1PA_AACAAGACACATTCGA-1</th>\n",
       "      <td>0.0</td>\n",
       "      <td>0.0</td>\n",
       "      <td>0.0</td>\n",
       "      <td>0.0</td>\n",
       "      <td>0.0</td>\n",
       "      <td>0.000061</td>\n",
       "      <td>0.0</td>\n",
       "      <td>0.0</td>\n",
       "      <td>2.237434e-05</td>\n",
       "      <td>0.0</td>\n",
       "      <td>...</td>\n",
       "      <td>0.000013</td>\n",
       "      <td>0.0</td>\n",
       "      <td>0.000023</td>\n",
       "      <td>0.0</td>\n",
       "      <td>1.348171e-05</td>\n",
       "      <td>0.0</td>\n",
       "      <td>0.000000</td>\n",
       "      <td>0.0</td>\n",
       "      <td>0.0</td>\n",
       "      <td>0.0</td>\n",
       "    </tr>\n",
       "    <tr>\n",
       "      <th>HT056P_S1PA_AACCTGATCCTACTGC-1</th>\n",
       "      <td>0.0</td>\n",
       "      <td>0.0</td>\n",
       "      <td>0.0</td>\n",
       "      <td>0.0</td>\n",
       "      <td>0.0</td>\n",
       "      <td>0.000005</td>\n",
       "      <td>0.0</td>\n",
       "      <td>0.0</td>\n",
       "      <td>1.166351e-05</td>\n",
       "      <td>0.0</td>\n",
       "      <td>...</td>\n",
       "      <td>0.000012</td>\n",
       "      <td>0.0</td>\n",
       "      <td>0.000014</td>\n",
       "      <td>0.0</td>\n",
       "      <td>1.256788e-06</td>\n",
       "      <td>0.0</td>\n",
       "      <td>0.000000</td>\n",
       "      <td>0.0</td>\n",
       "      <td>0.0</td>\n",
       "      <td>0.0</td>\n",
       "    </tr>\n",
       "    <tr>\n",
       "      <th>HT056P_S1PA_AAGGTAACAGGTTACT-1</th>\n",
       "      <td>0.0</td>\n",
       "      <td>0.0</td>\n",
       "      <td>0.0</td>\n",
       "      <td>0.0</td>\n",
       "      <td>0.0</td>\n",
       "      <td>0.000064</td>\n",
       "      <td>0.0</td>\n",
       "      <td>0.0</td>\n",
       "      <td>5.412656e-05</td>\n",
       "      <td>0.0</td>\n",
       "      <td>...</td>\n",
       "      <td>0.000143</td>\n",
       "      <td>0.0</td>\n",
       "      <td>0.000035</td>\n",
       "      <td>0.0</td>\n",
       "      <td>6.333377e-06</td>\n",
       "      <td>0.0</td>\n",
       "      <td>0.000000</td>\n",
       "      <td>0.0</td>\n",
       "      <td>0.0</td>\n",
       "      <td>0.0</td>\n",
       "    </tr>\n",
       "    <tr>\n",
       "      <th>HT056P_S1PA_ACGGGTCCAAGGTCTT-1</th>\n",
       "      <td>0.0</td>\n",
       "      <td>0.0</td>\n",
       "      <td>0.0</td>\n",
       "      <td>0.0</td>\n",
       "      <td>0.0</td>\n",
       "      <td>0.000011</td>\n",
       "      <td>0.0</td>\n",
       "      <td>0.0</td>\n",
       "      <td>1.349163e-05</td>\n",
       "      <td>0.0</td>\n",
       "      <td>...</td>\n",
       "      <td>0.000007</td>\n",
       "      <td>0.0</td>\n",
       "      <td>0.000008</td>\n",
       "      <td>0.0</td>\n",
       "      <td>3.071054e-08</td>\n",
       "      <td>0.0</td>\n",
       "      <td>0.000000</td>\n",
       "      <td>0.0</td>\n",
       "      <td>0.0</td>\n",
       "      <td>0.0</td>\n",
       "    </tr>\n",
       "    <tr>\n",
       "      <th>...</th>\n",
       "      <td>...</td>\n",
       "      <td>...</td>\n",
       "      <td>...</td>\n",
       "      <td>...</td>\n",
       "      <td>...</td>\n",
       "      <td>...</td>\n",
       "      <td>...</td>\n",
       "      <td>...</td>\n",
       "      <td>...</td>\n",
       "      <td>...</td>\n",
       "      <td>...</td>\n",
       "      <td>...</td>\n",
       "      <td>...</td>\n",
       "      <td>...</td>\n",
       "      <td>...</td>\n",
       "      <td>...</td>\n",
       "      <td>...</td>\n",
       "      <td>...</td>\n",
       "      <td>...</td>\n",
       "      <td>...</td>\n",
       "      <td>...</td>\n",
       "    </tr>\n",
       "    <tr>\n",
       "      <th>HT168P1_S1H3_TACACCCTCAACGAGG-1</th>\n",
       "      <td>0.0</td>\n",
       "      <td>0.0</td>\n",
       "      <td>0.0</td>\n",
       "      <td>0.0</td>\n",
       "      <td>0.0</td>\n",
       "      <td>0.000011</td>\n",
       "      <td>0.0</td>\n",
       "      <td>0.0</td>\n",
       "      <td>5.609338e-05</td>\n",
       "      <td>0.0</td>\n",
       "      <td>...</td>\n",
       "      <td>0.000072</td>\n",
       "      <td>0.0</td>\n",
       "      <td>0.000000</td>\n",
       "      <td>0.0</td>\n",
       "      <td>3.099980e-05</td>\n",
       "      <td>0.0</td>\n",
       "      <td>0.000000</td>\n",
       "      <td>0.0</td>\n",
       "      <td>0.0</td>\n",
       "      <td>0.0</td>\n",
       "    </tr>\n",
       "    <tr>\n",
       "      <th>HT168P1_S1H3_TAGTGCATCTCGACGG-1</th>\n",
       "      <td>0.0</td>\n",
       "      <td>0.0</td>\n",
       "      <td>0.0</td>\n",
       "      <td>0.0</td>\n",
       "      <td>0.0</td>\n",
       "      <td>0.000029</td>\n",
       "      <td>0.0</td>\n",
       "      <td>0.0</td>\n",
       "      <td>1.453364e-05</td>\n",
       "      <td>0.0</td>\n",
       "      <td>...</td>\n",
       "      <td>0.000011</td>\n",
       "      <td>0.0</td>\n",
       "      <td>0.000015</td>\n",
       "      <td>0.0</td>\n",
       "      <td>5.837398e-06</td>\n",
       "      <td>0.0</td>\n",
       "      <td>0.000000</td>\n",
       "      <td>0.0</td>\n",
       "      <td>0.0</td>\n",
       "      <td>0.0</td>\n",
       "    </tr>\n",
       "    <tr>\n",
       "      <th>HT168P1_S1H3_TCCGATCTCCATAGGT-1</th>\n",
       "      <td>0.0</td>\n",
       "      <td>0.0</td>\n",
       "      <td>0.0</td>\n",
       "      <td>0.0</td>\n",
       "      <td>0.0</td>\n",
       "      <td>0.000014</td>\n",
       "      <td>0.0</td>\n",
       "      <td>0.0</td>\n",
       "      <td>3.340290e-05</td>\n",
       "      <td>0.0</td>\n",
       "      <td>...</td>\n",
       "      <td>0.000039</td>\n",
       "      <td>0.0</td>\n",
       "      <td>0.000026</td>\n",
       "      <td>0.0</td>\n",
       "      <td>1.189619e-05</td>\n",
       "      <td>0.0</td>\n",
       "      <td>0.000000</td>\n",
       "      <td>0.0</td>\n",
       "      <td>0.0</td>\n",
       "      <td>0.0</td>\n",
       "    </tr>\n",
       "    <tr>\n",
       "      <th>HT168P1_S1H3_TCGACGGTCATGCATG-1</th>\n",
       "      <td>0.0</td>\n",
       "      <td>0.0</td>\n",
       "      <td>0.0</td>\n",
       "      <td>0.0</td>\n",
       "      <td>0.0</td>\n",
       "      <td>0.000013</td>\n",
       "      <td>0.0</td>\n",
       "      <td>0.0</td>\n",
       "      <td>4.039508e-05</td>\n",
       "      <td>0.0</td>\n",
       "      <td>...</td>\n",
       "      <td>0.000071</td>\n",
       "      <td>0.0</td>\n",
       "      <td>0.000005</td>\n",
       "      <td>0.0</td>\n",
       "      <td>3.094770e-06</td>\n",
       "      <td>0.0</td>\n",
       "      <td>0.000439</td>\n",
       "      <td>0.0</td>\n",
       "      <td>0.0</td>\n",
       "      <td>0.0</td>\n",
       "    </tr>\n",
       "    <tr>\n",
       "      <th>HT168P1_S1H3_TCTCAGCGTGATGGCA-1</th>\n",
       "      <td>0.0</td>\n",
       "      <td>0.0</td>\n",
       "      <td>0.0</td>\n",
       "      <td>0.0</td>\n",
       "      <td>0.0</td>\n",
       "      <td>0.000002</td>\n",
       "      <td>0.0</td>\n",
       "      <td>0.0</td>\n",
       "      <td>2.783117e-07</td>\n",
       "      <td>0.0</td>\n",
       "      <td>...</td>\n",
       "      <td>0.000015</td>\n",
       "      <td>0.0</td>\n",
       "      <td>0.000002</td>\n",
       "      <td>0.0</td>\n",
       "      <td>3.049227e-06</td>\n",
       "      <td>0.0</td>\n",
       "      <td>0.000000</td>\n",
       "      <td>0.0</td>\n",
       "      <td>0.0</td>\n",
       "      <td>0.0</td>\n",
       "    </tr>\n",
       "  </tbody>\n",
       "</table>\n",
       "<p>425 rows × 28756 columns</p>\n",
       "</div>"
      ],
      "text/plain": [
       "                                 OR4F5  AL627309.1  AL627309.3  AL627309.4  \\\n",
       "HT056P_S1PA_AACAACCGTAGCGATG-1     0.0         0.0         0.0         0.0   \n",
       "HT056P_S1PA_AACAAGACACATTCGA-1     0.0         0.0         0.0         0.0   \n",
       "HT056P_S1PA_AACCTGATCCTACTGC-1     0.0         0.0         0.0         0.0   \n",
       "HT056P_S1PA_AAGGTAACAGGTTACT-1     0.0         0.0         0.0         0.0   \n",
       "HT056P_S1PA_ACGGGTCCAAGGTCTT-1     0.0         0.0         0.0         0.0   \n",
       "...                                ...         ...         ...         ...   \n",
       "HT168P1_S1H3_TACACCCTCAACGAGG-1    0.0         0.0         0.0         0.0   \n",
       "HT168P1_S1H3_TAGTGCATCTCGACGG-1    0.0         0.0         0.0         0.0   \n",
       "HT168P1_S1H3_TCCGATCTCCATAGGT-1    0.0         0.0         0.0         0.0   \n",
       "HT168P1_S1H3_TCGACGGTCATGCATG-1    0.0         0.0         0.0         0.0   \n",
       "HT168P1_S1H3_TCTCAGCGTGATGGCA-1    0.0         0.0         0.0         0.0   \n",
       "\n",
       "                                 AL669831.2  AL669831.5  FAM87B  LINC00115  \\\n",
       "HT056P_S1PA_AACAACCGTAGCGATG-1          0.0    0.000028     0.0        0.0   \n",
       "HT056P_S1PA_AACAAGACACATTCGA-1          0.0    0.000061     0.0        0.0   \n",
       "HT056P_S1PA_AACCTGATCCTACTGC-1          0.0    0.000005     0.0        0.0   \n",
       "HT056P_S1PA_AAGGTAACAGGTTACT-1          0.0    0.000064     0.0        0.0   \n",
       "HT056P_S1PA_ACGGGTCCAAGGTCTT-1          0.0    0.000011     0.0        0.0   \n",
       "...                                     ...         ...     ...        ...   \n",
       "HT168P1_S1H3_TACACCCTCAACGAGG-1         0.0    0.000011     0.0        0.0   \n",
       "HT168P1_S1H3_TAGTGCATCTCGACGG-1         0.0    0.000029     0.0        0.0   \n",
       "HT168P1_S1H3_TCCGATCTCCATAGGT-1         0.0    0.000014     0.0        0.0   \n",
       "HT168P1_S1H3_TCGACGGTCATGCATG-1         0.0    0.000013     0.0        0.0   \n",
       "HT168P1_S1H3_TCTCAGCGTGATGGCA-1         0.0    0.000002     0.0        0.0   \n",
       "\n",
       "                                       FAM41C  AL645608.7  ...  AL592183.1  \\\n",
       "HT056P_S1PA_AACAACCGTAGCGATG-1   1.191398e-04         0.0  ...    0.000038   \n",
       "HT056P_S1PA_AACAAGACACATTCGA-1   2.237434e-05         0.0  ...    0.000013   \n",
       "HT056P_S1PA_AACCTGATCCTACTGC-1   1.166351e-05         0.0  ...    0.000012   \n",
       "HT056P_S1PA_AAGGTAACAGGTTACT-1   5.412656e-05         0.0  ...    0.000143   \n",
       "HT056P_S1PA_ACGGGTCCAAGGTCTT-1   1.349163e-05         0.0  ...    0.000007   \n",
       "...                                       ...         ...  ...         ...   \n",
       "HT168P1_S1H3_TACACCCTCAACGAGG-1  5.609338e-05         0.0  ...    0.000072   \n",
       "HT168P1_S1H3_TAGTGCATCTCGACGG-1  1.453364e-05         0.0  ...    0.000011   \n",
       "HT168P1_S1H3_TCCGATCTCCATAGGT-1  3.340290e-05         0.0  ...    0.000039   \n",
       "HT168P1_S1H3_TCGACGGTCATGCATG-1  4.039508e-05         0.0  ...    0.000071   \n",
       "HT168P1_S1H3_TCTCAGCGTGATGGCA-1  2.783117e-07         0.0  ...    0.000015   \n",
       "\n",
       "                                 AC007325.1  AC007325.4  AC007325.2  \\\n",
       "HT056P_S1PA_AACAACCGTAGCGATG-1          0.0    0.000042         0.0   \n",
       "HT056P_S1PA_AACAAGACACATTCGA-1          0.0    0.000023         0.0   \n",
       "HT056P_S1PA_AACCTGATCCTACTGC-1          0.0    0.000014         0.0   \n",
       "HT056P_S1PA_AAGGTAACAGGTTACT-1          0.0    0.000035         0.0   \n",
       "HT056P_S1PA_ACGGGTCCAAGGTCTT-1          0.0    0.000008         0.0   \n",
       "...                                     ...         ...         ...   \n",
       "HT168P1_S1H3_TACACCCTCAACGAGG-1         0.0    0.000000         0.0   \n",
       "HT168P1_S1H3_TAGTGCATCTCGACGG-1         0.0    0.000015         0.0   \n",
       "HT168P1_S1H3_TCCGATCTCCATAGGT-1         0.0    0.000026         0.0   \n",
       "HT168P1_S1H3_TCGACGGTCATGCATG-1         0.0    0.000005         0.0   \n",
       "HT168P1_S1H3_TCTCAGCGTGATGGCA-1         0.0    0.000002         0.0   \n",
       "\n",
       "                                   AL354822.1  AC023491.2  AC004556.1  \\\n",
       "HT056P_S1PA_AACAACCGTAGCGATG-1   2.289906e-05         0.0    0.000000   \n",
       "HT056P_S1PA_AACAAGACACATTCGA-1   1.348171e-05         0.0    0.000000   \n",
       "HT056P_S1PA_AACCTGATCCTACTGC-1   1.256788e-06         0.0    0.000000   \n",
       "HT056P_S1PA_AAGGTAACAGGTTACT-1   6.333377e-06         0.0    0.000000   \n",
       "HT056P_S1PA_ACGGGTCCAAGGTCTT-1   3.071054e-08         0.0    0.000000   \n",
       "...                                       ...         ...         ...   \n",
       "HT168P1_S1H3_TACACCCTCAACGAGG-1  3.099980e-05         0.0    0.000000   \n",
       "HT168P1_S1H3_TAGTGCATCTCGACGG-1  5.837398e-06         0.0    0.000000   \n",
       "HT168P1_S1H3_TCCGATCTCCATAGGT-1  1.189619e-05         0.0    0.000000   \n",
       "HT168P1_S1H3_TCGACGGTCATGCATG-1  3.094770e-06         0.0    0.000439   \n",
       "HT168P1_S1H3_TCTCAGCGTGATGGCA-1  3.049227e-06         0.0    0.000000   \n",
       "\n",
       "                                 AC233755.2  AC233755.1  AC240274.1  \n",
       "HT056P_S1PA_AACAACCGTAGCGATG-1          0.0         0.0         0.0  \n",
       "HT056P_S1PA_AACAAGACACATTCGA-1          0.0         0.0         0.0  \n",
       "HT056P_S1PA_AACCTGATCCTACTGC-1          0.0         0.0         0.0  \n",
       "HT056P_S1PA_AAGGTAACAGGTTACT-1          0.0         0.0         0.0  \n",
       "HT056P_S1PA_ACGGGTCCAAGGTCTT-1          0.0         0.0         0.0  \n",
       "...                                     ...         ...         ...  \n",
       "HT168P1_S1H3_TACACCCTCAACGAGG-1         0.0         0.0         0.0  \n",
       "HT168P1_S1H3_TAGTGCATCTCGACGG-1         0.0         0.0         0.0  \n",
       "HT168P1_S1H3_TCCGATCTCCATAGGT-1         0.0         0.0         0.0  \n",
       "HT168P1_S1H3_TCGACGGTCATGCATG-1         0.0         0.0         0.0  \n",
       "HT168P1_S1H3_TCTCAGCGTGATGGCA-1         0.0         0.0         0.0  \n",
       "\n",
       "[425 rows x 28756 columns]"
      ]
     },
     "execution_count": 22,
     "metadata": {},
     "output_type": "execute_result"
    }
   ],
   "source": [
    "to_explained['scRNAseq']['pdac']"
   ]
  },
  {
   "cell_type": "code",
   "execution_count": 23,
   "metadata": {},
   "outputs": [
    {
     "name": "stderr",
     "output_type": "stream",
     "text": [
      "is_categorical is deprecated and will be removed in a future version.  Use is_categorical_dtype instead\n"
     ]
    },
    {
     "data": {
      "text/plain": [
       "AnnData object with n_obs × n_vars = 2831 × 14136\n",
       "    obs: 'orig.ident', 'cell_type', 'disease', 'datatype'"
      ]
     },
     "execution_count": 23,
     "metadata": {},
     "output_type": "execute_result"
    }
   ],
   "source": [
    "import anndata\n",
    "explain = None\n",
    "adatas = []\n",
    "for dtype, d in to_explained.items():\n",
    "    for disease, df in d.items():\n",
    "        og = sc.read_h5ad(adata_map[dtype][disease]['val'])\n",
    "        og = og[df.index].copy()\n",
    "        new = anndata.AnnData(X=df.values, obs=og.obs)\n",
    "        new.var.index = df.columns\n",
    "        new.obs['disease'] = disease\n",
    "        new.obs['datatype'] = dtype\n",
    "        adatas.append(new)\n",
    "\n",
    "        feature_adata = new.copy()\n",
    "\n",
    "        if explain is None:\n",
    "            explain = feature_adata\n",
    "        else:\n",
    "            explain = anndata.concat((explain, feature_adata))\n",
    "\n",
    "explain\n",
    "    "
   ]
  },
  {
   "cell_type": "code",
   "execution_count": 24,
   "metadata": {},
   "outputs": [
    {
     "name": "stderr",
     "output_type": "stream",
     "text": [
      "is_categorical is deprecated and will be removed in a future version.  Use is_categorical_dtype instead\n",
      "... storing 'orig.ident' as categorical\n",
      "... storing 'cell_type' as categorical\n",
      "... storing 'disease' as categorical\n",
      "... storing 'datatype' as categorical\n"
     ]
    }
   ],
   "source": [
    "explain.write_h5ad('../benchmarking/sandbox/explain_042121.h5ad')"
   ]
  },
  {
   "cell_type": "code",
   "execution_count": 49,
   "metadata": {},
   "outputs": [
    {
     "data": {
      "text/plain": [
       "View of AnnData object with n_obs × n_vars = 425 × 14136\n",
       "    obs: 'orig.ident', 'cell_type', 'disease', 'datatype'"
      ]
     },
     "execution_count": 49,
     "metadata": {},
     "output_type": "execute_result"
    }
   ],
   "source": [
    "pdac = explain[explain.obs['disease']=='pdac']\n",
    "pdac"
   ]
  },
  {
   "cell_type": "code",
   "execution_count": 50,
   "metadata": {},
   "outputs": [
    {
     "name": "stdout",
     "output_type": "stream",
     "text": [
      "WARNING: You’re trying to run this on 14136 dimensions of `.X`, if you really want this, set `use_rep='X'`.\n",
      "         Falling back to preprocessing with `sc.pp.pca` and default params.\n"
     ]
    },
    {
     "data": {
      "text/plain": [
       "AnnData object with n_obs × n_vars = 425 × 14136\n",
       "    obs: 'orig.ident', 'cell_type', 'disease', 'datatype'\n",
       "    var: 'mean', 'std'\n",
       "    uns: 'neighbors', 'pca'\n",
       "    obsm: 'X_pca'\n",
       "    varm: 'PCs'\n",
       "    obsp: 'distances', 'connectivities'"
      ]
     },
     "execution_count": 50,
     "metadata": {},
     "output_type": "execute_result"
    }
   ],
   "source": [
    "feature_adata = pdac.copy()\n",
    "\n",
    "sc.pp.scale(feature_adata)\n",
    "sc.pp.neighbors(feature_adata)\n",
    "sc.pp.pca(feature_adata)\n",
    "\n",
    "feature_adata"
   ]
  },
  {
   "cell_type": "code",
   "execution_count": 51,
   "metadata": {},
   "outputs": [
    {
     "data": {
      "text/plain": [
       "{'Acinar',\n",
       " 'B cell',\n",
       " 'CD4 T cell',\n",
       " 'CD8 T cell',\n",
       " 'Dendritic',\n",
       " 'Endothelial',\n",
       " 'Epithelial',\n",
       " 'Erythrocyte',\n",
       " 'Fibroblast',\n",
       " 'Islet',\n",
       " 'Malignant',\n",
       " 'Mast',\n",
       " 'Monocyte',\n",
       " 'NK',\n",
       " 'Plasma',\n",
       " 'Treg',\n",
       " 'Tuft'}"
      ]
     },
     "execution_count": 51,
     "metadata": {},
     "output_type": "execute_result"
    }
   ],
   "source": [
    "set(feature_adata.obs['cell_type'])"
   ]
  },
  {
   "cell_type": "code",
   "execution_count": 52,
   "metadata": {},
   "outputs": [],
   "source": [
    "marker_genes = {\n",
    "    'Acinar': ['PRSS2'],\n",
    "    'B cell': ['MS4A1'],\n",
    "    'CD4 T cell': ['CD3G', 'CD4', 'IL7R'],\n",
    "    'CD8 T cell': ['CD3G', 'CD8A'],\n",
    "    'Dendritic': ['ITGAX','IDO1'],\n",
    "    'Endothelial': ['PECAM1'],\n",
    "    'Erythrocyte': ['HBD'],\n",
    "    'Fibroblast': ['ACTA2'],\n",
    "#     'Islet': ['CHGA'],\n",
    "    'Malignant/Epithelial': ['EPCAM', 'KRT18'],\n",
    "    'Mast': ['KIT', 'FCER1A'],\n",
    "    'Monocyte': ['CD14', 'FCGR3A', 'LYZ'],\n",
    "    'NK': ['GNLY', 'CD7'],\n",
    "    'Plasma': ['SDC1'],\n",
    "    'Treg': ['FOXP3'],\n",
    "}"
   ]
  },
  {
   "cell_type": "code",
   "execution_count": 82,
   "metadata": {},
   "outputs": [
    {
     "name": "stderr",
     "output_type": "stream",
     "text": [
      "is_categorical is deprecated and will be removed in a future version.  Use is_categorical_dtype instead\n"
     ]
    },
    {
     "data": {
      "image/png": "[encoded data removed]",
      "text/plain": [
       "<Figure size 720.72x500.4 with 4 Axes>"
      ]
     },
     "metadata": {
      "needs_background": "light"
     },
     "output_type": "display_data"
    }
   ],
   "source": [
    "sc.pl.matrixplot(feature_adata, marker_genes, groupby='cell_type', cmap='Reds')"
   ]
  },
  {
   "cell_type": "code",
   "execution_count": null,
   "metadata": {},
   "outputs": [],
   "source": []
  },
  {
   "cell_type": "code",
   "execution_count": null,
   "metadata": {},
   "outputs": [],
   "source": []
  },
  {
   "cell_type": "code",
   "execution_count": 74,
   "metadata": {},
   "outputs": [
    {
     "data": {
      "text/plain": [
       "AnnData object with n_obs × n_vars = 7823 × 28756\n",
       "    obs: 'orig.ident', 'nCount_RNA', 'nFeature_RNA', 'percent.mito', 'nCount_SCT', 'nFeature_SCT', 'SCT_snn_res.0.5', 'seurat_clusters', 'cell_type', 'sample', 'treatment', 'tissue', 'ident'\n",
       "    var: 'sct.detection_rate', 'sct.gmean', 'sct.variance', 'sct.residual_mean', 'sct.residual_variance', 'sct.variable'\n",
       "    obsm: 'X_pca', 'X_umap'\n",
       "    layers: 'logcounts'"
      ]
     },
     "execution_count": 74,
     "metadata": {},
     "output_type": "execute_result"
    }
   ],
   "source": [
    "adata = sc.read_h5ad(adata_map['scRNAseq']['pdac']['val'])\n",
    "adata"
   ]
  },
  {
   "cell_type": "code",
   "execution_count": 75,
   "metadata": {},
   "outputs": [
    {
     "name": "stderr",
     "output_type": "stream",
     "text": [
      "is_categorical is deprecated and will be removed in a future version.  Use is_categorical_dtype instead\n",
      "2021-04-21 15:43:34,343 0 genes in training set are missing from prediction set\n",
      "2021-04-21 15:43:34,889 starting batch 1 of 1\n",
      "is_categorical is deprecated and will be removed in a future version.  Use is_categorical_dtype instead\n",
      "2021-04-21 15:43:35,025 0 genes in training set are missing from prediction set\n"
     ]
    }
   ],
   "source": [
    "emb = embed_from_anndata(adata, module_map['scRNAseq']['pdac'])"
   ]
  },
  {
   "cell_type": "code",
   "execution_count": 76,
   "metadata": {},
   "outputs": [],
   "source": [
    "import umap\n",
    "adata.obsm['X_umap'] = umap.UMAP().fit_transform(emb.values)"
   ]
  },
  {
   "cell_type": "code",
   "execution_count": 77,
   "metadata": {},
   "outputs": [
    {
     "name": "stderr",
     "output_type": "stream",
     "text": [
      "is_categorical is deprecated and will be removed in a future version.  Use is_categorical_dtype instead\n",
      "2021-04-21 15:44:05,587 0 genes in training set are missing from prediction set\n",
      "2021-04-21 15:44:06,102 starting batch 1 of 1\n",
      "is_categorical is deprecated and will be removed in a future version.  Use is_categorical_dtype instead\n",
      "2021-04-21 15:44:06,240 0 genes in training set are missing from prediction set\n"
     ]
    }
   ],
   "source": [
    "pred = predict_from_anndata(adata, module_map['scRNAseq']['pdac'])"
   ]
  },
  {
   "cell_type": "code",
   "execution_count": 78,
   "metadata": {},
   "outputs": [],
   "source": [
    "adata.obs = pd.merge(adata.obs, pred, left_index=True, right_index=True)"
   ]
  },
  {
   "cell_type": "code",
   "execution_count": 81,
   "metadata": {},
   "outputs": [
    {
     "data": {
      "image/png": "[encoded data removed]",
      "text/plain": [
       "<Figure size 494.64x864 with 4 Axes>"
      ]
     },
     "metadata": {
      "needs_background": "light"
     },
     "output_type": "display_data"
    }
   ],
   "source": [
    "sc.pl.umap(adata, color=['cell_type', 'predicted_cell_type', 'cell_type_probability'], ncols=1,\n",
    "          frameon=False)"
   ]
  },
  {
   "cell_type": "code",
   "execution_count": null,
   "metadata": {},
   "outputs": [],
   "source": []
  },
  {
   "cell_type": "code",
   "execution_count": null,
   "metadata": {},
   "outputs": [],
   "source": []
  }
 ],
 "metadata": {
  "kernelspec": {
   "display_name": "Python 3",
   "language": "python",
   "name": "python3"
  },
  "language_info": {
   "codemirror_mode": {
    "name": "ipython",
    "version": 3
   },
   "file_extension": ".py",
   "mimetype": "text/x-python",
   "name": "python",
   "nbconvert_exporter": "python",
   "pygments_lexer": "ipython3",
   "version": "3.7.8"
  }
 },
 "nbformat": 4,
 "nbformat_minor": 4
}
