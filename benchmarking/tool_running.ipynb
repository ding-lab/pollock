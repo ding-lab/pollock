{
 "cells": [
  {
   "cell_type": "code",
   "execution_count": 31,
   "metadata": {},
   "outputs": [],
   "source": [
    "from pathlib import Path\n",
    "from collections import Counter\n",
    "import os\n",
    "import re\n",
    "import random\n",
    "import subprocess\n",
    "\n",
    "import anndata\n",
    "import scanpy as sc\n",
    "import pandas as pd\n",
    "import numpy as np\n",
    "\n",
    "import mgitools.os_helpers as os_helpers"
   ]
  },
  {
   "cell_type": "code",
   "execution_count": 32,
   "metadata": {},
   "outputs": [],
   "source": [
    "# !pip install git+https://github.com/estorrs/mgitools\n",
    "# !pip install tensorflow==2.1.0"
   ]
  },
  {
   "cell_type": "code",
   "execution_count": 33,
   "metadata": {},
   "outputs": [
    {
     "name": "stdout",
     "output_type": "stream",
     "text": [
      "The autoreload extension is already loaded. To reload it, use:\n",
      "  %reload_ext autoreload\n"
     ]
    }
   ],
   "source": [
    "%load_ext autoreload"
   ]
  },
  {
   "cell_type": "code",
   "execution_count": 34,
   "metadata": {},
   "outputs": [],
   "source": [
    "%autoreload 2"
   ]
  },
  {
   "cell_type": "code",
   "execution_count": 35,
   "metadata": {},
   "outputs": [],
   "source": [
    "# !pip install -e /home/estorrs/pollock/\n",
    "import pollock\n",
    "from pollock.models.model import PollockDataset, PollockModel, load_from_directory, predict_from_anndata"
   ]
  },
  {
   "cell_type": "code",
   "execution_count": 36,
   "metadata": {},
   "outputs": [],
   "source": [
    "# !conda install -y scanpy"
   ]
  },
  {
   "cell_type": "code",
   "execution_count": 37,
   "metadata": {},
   "outputs": [],
   "source": [
    "# !pip install git+https://github.com/estorrs/mgitools"
   ]
  },
  {
   "cell_type": "code",
   "execution_count": 93,
   "metadata": {},
   "outputs": [],
   "source": [
    "CELL_TYPE_KEY = 'cell_type'\n",
    "N_PER_CELL_TYPE = 200\n",
    "DATA_DIR = '/home/estorrs/pollock/benchmarking/data/10232020_harmonized/teir_1/'\n",
    "RESULTS_DIR = '/home/estorrs/pollock/benchmarking/results/10272020_teir1'\n",
    "RESULTS_CROSS_DISEASE_DIR = '/home/estorrs/pollock/benchmarking/results/10272020_teir1_cross_disease'\n",
    "RESULTS_CROSS_DTYPE_DIR = '/home/estorrs/pollock/benchmarking/results/10272020_teir1_cross_datatype'\n",
    "SANDBOX_DIR = '/home/estorrs/pollock/benchmarking/sandbox'\n",
    "\n",
    "Path(RESULTS_DIR).mkdir(parents=True, exist_ok=True)\n",
    "Path(RESULTS_CROSS_DISEASE_DIR).mkdir(parents=True, exist_ok=True)\n",
    "Path(RESULTS_CROSS_DTYPE_DIR).mkdir(parents=True, exist_ok=True)"
   ]
  },
  {
   "cell_type": "markdown",
   "metadata": {
    "heading_collapsed": true
   },
   "source": [
    "##### create training and validation datasets"
   ]
  },
  {
   "cell_type": "markdown",
   "metadata": {
    "hidden": true
   },
   "source": [
    "only run if you haven't created these datasets yet"
   ]
  },
  {
   "cell_type": "code",
   "execution_count": 23,
   "metadata": {
    "hidden": true
   },
   "outputs": [],
   "source": [
    "def cap_list(ls, n=100, split=.8, oversample=True):\n",
    "    \"\"\"\n",
    "    Grabs items from a pool.\n",
    "    \n",
    "    if split * pool size is greater than n, then just randomly sample 80% of the pool\n",
    "    otherwise sample 80% of the pool, then oversample so you end up with a final size of n\n",
    "    \"\"\"\n",
    "    # just return list if it is of length 1\n",
    "    if len(ls) <= 1: return ls\n",
    "    cap = int(len(ls) * split)\n",
    "    if cap > n:\n",
    "        return random.sample(ls, n)\n",
    "\n",
    "    if oversample:\n",
    "        pool = random.sample(ls, cap)\n",
    "        ## oversample to\n",
    "        return random.choices(pool, k=n)\n",
    "\n",
    "    return random.sample(ls, cap)\n",
    "\n",
    "def balancedish_training_generator(adata, cell_type_key, n_per_cell_type, oversample=True, split=.8):\n",
    "    \"\"\"\n",
    "    Return balanced train and validation sets\n",
    "    \"\"\"\n",
    "    cell_type_to_idxs = {}\n",
    "    for cell_id, cell_type in zip(adata.obs.index, adata.obs[cell_type_key]):\n",
    "        if cell_type not in cell_type_to_idxs:\n",
    "            cell_type_to_idxs[cell_type] = [cell_id]\n",
    "        else:\n",
    "            cell_type_to_idxs[cell_type].append(cell_id)\n",
    "\n",
    "    cell_type_to_idxs = {k:cap_list(ls, n_per_cell_type, oversample=oversample, split=split)\n",
    "                         for k, ls in cell_type_to_idxs.items()}\n",
    "\n",
    "    train_ids = np.asarray([x for ls in cell_type_to_idxs.values() for x in ls])\n",
    "    train_idxs = np.arange(adata.shape[0])[np.isin(np.asarray(adata.obs.index), train_ids)]\n",
    "    val_idxs = np.delete(np.arange(adata.shape[0]), train_idxs)\n",
    "\n",
    "    train_adata = adata[train_idxs, :]\n",
    "    val_adata = adata[val_idxs, :]\n",
    "\n",
    "    return train_adata, val_adata\n",
    "\n",
    "# def create_train_val_datasets(adata, cell_type_key, oversample=True):\n",
    "#     counts = Counter(adata.obs[cell_type_key])\n",
    "#     min_count = counts.most_common()[-1][1]\n",
    "#     n_per_cell_type = max(min_count, )\n",
    "#     train_adata, val_adata = balancedish_training_generator(adata, cell_type_key,\n",
    "#                                                             n_per_cell_type, oversample=oversample)\n",
    "#     return train_adata, val_adata"
   ]
  },
  {
   "cell_type": "code",
   "execution_count": 24,
   "metadata": {
    "hidden": true
   },
   "outputs": [
    {
     "data": {
      "text/plain": [
       "{'scRNAseq': {'brca': '/home/estorrs/pollock/benchmarking/data/10232020_harmonized/teir_2/scRNAseq/brca.h5ad',\n",
       "  'cesc': '/home/estorrs/pollock/benchmarking/data/10232020_harmonized/teir_2/scRNAseq/cesc.h5ad',\n",
       "  'hnscc': '/home/estorrs/pollock/benchmarking/data/10232020_harmonized/teir_2/scRNAseq/hnscc.h5ad',\n",
       "  'melanoma': '/home/estorrs/pollock/benchmarking/data/10232020_harmonized/teir_2/scRNAseq/melanoma.h5ad',\n",
       "  'pbmc': '/home/estorrs/pollock/benchmarking/data/10232020_harmonized/teir_2/scRNAseq/pbmc.h5ad',\n",
       "  'pdac': '/home/estorrs/pollock/benchmarking/data/10232020_harmonized/teir_2/scRNAseq/pdac.h5ad'},\n",
       " 'snATACseq': {'brca': '/home/estorrs/pollock/benchmarking/data/10232020_harmonized/teir_2/snATACseq/brca.h5ad',\n",
       "  'ccrcc': '/home/estorrs/pollock/benchmarking/data/10232020_harmonized/teir_2/snATACseq/ccrcc.h5ad',\n",
       "  'gbm': '/home/estorrs/pollock/benchmarking/data/10232020_harmonized/teir_2/snATACseq/gbm.h5ad'},\n",
       " 'snRNAseq': {'brca': '/home/estorrs/pollock/benchmarking/data/10232020_harmonized/teir_2/snRNAseq/brca.h5ad',\n",
       "  'ccrcc': '/home/estorrs/pollock/benchmarking/data/10232020_harmonized/teir_2/snRNAseq/ccrcc.h5ad',\n",
       "  'gbm': '/home/estorrs/pollock/benchmarking/data/10232020_harmonized/teir_2/snRNAseq/gbm.h5ad'}}"
      ]
     },
     "execution_count": 24,
     "metadata": {},
     "output_type": "execute_result"
    }
   ],
   "source": [
    "fps = sorted(os_helpers.listfiles(DATA_DIR, regex='.h5ad$'))\n",
    "fp_map = {fp.split('/')[-2]:{} for fp in fps}\n",
    "for fp in fps:\n",
    "    if '/_train.h5ad' not in fp and '/_val.h5ad' not in fp:\n",
    "        dtype = fp.split('/')[-2]\n",
    "        disease = fp.split('/')[-1].replace('.h5ad', '')\n",
    "        fp_map[dtype][disease] = fp\n",
    "fp_map"
   ]
  },
  {
   "cell_type": "code",
   "execution_count": 25,
   "metadata": {
    "hidden": true
   },
   "outputs": [
    {
     "name": "stdout",
     "output_type": "stream",
     "text": [
      "scRNAseq brca\n",
      "scRNAseq cesc\n",
      "scRNAseq hnscc\n",
      "scRNAseq melanoma\n",
      "scRNAseq pbmc\n",
      "scRNAseq pdac\n",
      "snATACseq brca\n",
      "snATACseq ccrcc\n",
      "snATACseq gbm\n",
      "snRNAseq brca\n",
      "snRNAseq ccrcc\n",
      "snRNAseq gbm\n"
     ]
    }
   ],
   "source": [
    "for dtype, d in fp_map.items():\n",
    "    for disease, fp in d.items():\n",
    "        print(dtype, disease)\n",
    "        adata = sc.read_h5ad(fp)\n",
    "        # check for cell type key\n",
    "        if CELL_TYPE_KEY not in adata.obs: raise RuntimeError(f'{CELL_TYPE_KEY} not in {fp}')\n",
    "        \n",
    "        train_adata, val_adata = balancedish_training_generator(adata, CELL_TYPE_KEY, N_PER_CELL_TYPE)\n",
    "        # resample validation data to make dataset smaller while keeping rare cell types\n",
    "        val_adata, _ = balancedish_training_generator(val_adata, CELL_TYPE_KEY, 1000, oversample=False,\n",
    "                                                     split=1.)\n",
    "        train_adata.write_h5ad(fp.replace('.h5ad', '_train.h5ad'))\n",
    "        val_adata.write_h5ad(fp.replace('.h5ad', '_val.h5ad'))\n",
    "        "
   ]
  },
  {
   "cell_type": "markdown",
   "metadata": {},
   "source": [
    "##### load in training and validation datasets"
   ]
  },
  {
   "cell_type": "code",
   "execution_count": 71,
   "metadata": {},
   "outputs": [
    {
     "name": "stdout",
     "output_type": "stream",
     "text": [
      "scRNAseq brca\n",
      "scRNAseq cesc\n",
      "scRNAseq hnscc\n",
      "scRNAseq melanoma\n",
      "scRNAseq pbmc\n",
      "scRNAseq pdac\n",
      "snATACseq brca\n",
      "snATACseq ccrcc\n",
      "snATACseq gbm\n",
      "snRNAseq brca\n",
      "snRNAseq ccrcc\n",
      "snRNAseq gbm\n"
     ]
    }
   ],
   "source": [
    "fps = sorted(os_helpers.listfiles(DATA_DIR, regex='.h5ad$'))\n",
    "adata_map = {fp.split('/')[-2]:{} for fp in fps}\n",
    "for fp in fps:\n",
    "    dtype = fp.split('/')[-2]\n",
    "    disease = re.sub(r'^(.*)((_train)|(_val)).h5ad$', r'\\1', fp.split('/')[-1])\n",
    "    if disease not in adata_map[dtype] and '.h5ad' not in disease: adata_map[dtype][disease] = {}\n",
    "    if 'train.h5ad' in fp:\n",
    "        adata_map[dtype][disease]['train'] = fp\n",
    "    if 'val.h5ad' in fp:\n",
    "        adata_map[dtype][disease]['val'] = fp\n",
    "for dtype, d in adata_map.items():\n",
    "    for disease, m in d.items():\n",
    "        print(dtype, disease)"
   ]
  },
  {
   "cell_type": "code",
   "execution_count": 72,
   "metadata": {},
   "outputs": [
    {
     "data": {
      "text/plain": [
       "{'train': '/home/estorrs/pollock/benchmarking/data/10232020_harmonized/teir_1/snATACseq/ccrcc_train.h5ad',\n",
       " 'val': '/home/estorrs/pollock/benchmarking/data/10232020_harmonized/teir_1/snATACseq/ccrcc_val.h5ad'}"
      ]
     },
     "execution_count": 72,
     "metadata": {},
     "output_type": "execute_result"
    }
   ],
   "source": [
    "adata_map['snATACseq'].pop('ccrcc')"
   ]
  },
  {
   "cell_type": "markdown",
   "metadata": {},
   "source": [
    "### run workflows"
   ]
  },
  {
   "cell_type": "code",
   "execution_count": 92,
   "metadata": {},
   "outputs": [],
   "source": [
    "def run_workflow_for_datasets(adata_map, workflow, workflow_identifier, output_dir):\n",
    "    for dtype, d in adata_map.items():\n",
    "#         if dtype != 'snATACseq':\n",
    "        for disease, m in d.items():\n",
    "            # make dir if doesnt exist yet\n",
    "            directory = os.path.join(output_dir, dtype, disease)\n",
    "            Path(directory).mkdir(parents=True, exist_ok=True)\n",
    "            train, val = sc.read_h5ad(m['train']), sc.read_h5ad(m['val'])\n",
    "\n",
    "            print(dtype, disease, train.shape, val.shape)\n",
    "            run_workflow(workflow, workflow_identifier,\n",
    "                train, val, directory)\n",
    "            \n",
    "def run_workflow_for_cross_disease(adata_map, workflow, workflow_identifier, output_dir):\n",
    "    for dtype, d in adata_map.items():\n",
    "        for disease1, m1 in d.items():\n",
    "            for disease2, m2 in d.items():\n",
    "                if disease1 != disease2:\n",
    "                    # make dir if doesnt exist yet\n",
    "                    directory = os.path.join(output_dir, dtype, f'{disease1}_train_{disease2}_val')\n",
    "                    Path(directory).mkdir(parents=True, exist_ok=True)\n",
    "                    train, val = sc.read_h5ad(m1['train']), sc.read_h5ad(m2['val'])\n",
    "\n",
    "                    print(dtype, f'{disease1}_train_{disease2}_val', train.shape, val.shape)\n",
    "                    run_workflow(workflow, workflow_identifier,\n",
    "                        train, val, directory)\n",
    "                    \n",
    "                    \n",
    "def run_workflow_for_cross_datatype(adata_map, workflow, workflow_identifier, output_dir):\n",
    "    for dtype1, d1 in adata_map.items():\n",
    "        for dtype2, d2 in adata_map.items():\n",
    "            for disease1, m1 in d1.items():\n",
    "                for disease2, m2 in d2.items():\n",
    "                    if dtype1 != dtype2:\n",
    "                        # make dir if doesnt exist yet\n",
    "                        directory = os.path.join(output_dir, dtype, f'{dtype1}_{disease1}_train_{dtype2}_{disease2}_val')\n",
    "                        Path(directory).mkdir(parents=True, exist_ok=True)\n",
    "                        train, val = sc.read_h5ad(m1['train']), sc.read_h5ad(m2['val'])\n",
    "\n",
    "                        print(dtype, f'{dtype1}_{disease1}_train_{dtype2}_{disease2}_val', train.shape, val.shape)\n",
    "                        run_workflow(workflow, workflow_identifier,\n",
    "                            train, val, directory)\n",
    "\n",
    "def run_workflow(workflow, workflow_identifier, train, val, output_dir):\n",
    "    \"\"\"\n",
    "    Run the workflow defined by the workflow function.\n",
    "    \n",
    "    workflow function takes a train adata and a val adata as inputs,\n",
    "    and returns dataframe with cell_id, groundtruth, predicted, and probability columns\n",
    "    \"\"\"\n",
    "    # if it is pollock it needs to know where to save the module\n",
    "    if workflow_identifier == 'pollock':\n",
    "        df = workflow(train, val, CELL_TYPE_KEY, os.path.join(output_dir, f'{workflow_identifier}_module'))\n",
    "    else:\n",
    "        df = workflow(train, val, CELL_TYPE_KEY)\n",
    "    df.to_csv(os.path.join(output_dir, f'{workflow_identifier}.tsv'), sep='\\t', index=False, header=True)"
   ]
  },
  {
   "cell_type": "markdown",
   "metadata": {},
   "source": [
    "##### pollock"
   ]
  },
  {
   "cell_type": "code",
   "execution_count": 86,
   "metadata": {},
   "outputs": [],
   "source": [
    "def run_pollock_workflow(train, val, cell_type_key, module_fp):\n",
    "    train.obs['is_validation'] = [False] * train.shape[0]\n",
    "    val.obs['is_validation'] = [True] * val.shape[0]\n",
    "    combined = train.concatenate(val)\n",
    "    \n",
    "    pds = PollockDataset(combined.copy(), cell_type_key=cell_type_key,\n",
    "                     dataset_type='training', validation_key='is_validation')\n",
    "    \n",
    "    pm = PollockModel(pds.cell_types, pds.train_adata.shape[1], alpha=.0001, latent_dim=25)\n",
    "    \n",
    "    pm.fit(pds, epochs=20)\n",
    "    \n",
    "    pm.save(pds, module_fp)\n",
    "\n",
    "    preds = predict_from_anndata(val.copy(), module_fp, adata_batch_size=10000)\n",
    "    \n",
    "    df = pd.DataFrame.from_dict({\n",
    "        'cell_id': preds.index.to_list(),\n",
    "        'groundtruth': val.obs.loc[preds.index][cell_type_key].to_list(),\n",
    "        'predicted': preds['predicted_cell_type'],\n",
    "        'probability': preds['cell_type_probability']\n",
    "    })\n",
    "\n",
    "    return df"
   ]
  },
  {
   "cell_type": "code",
   "execution_count": 30,
   "metadata": {
    "scrolled": true
   },
   "outputs": [
    {
     "name": "stdout",
     "output_type": "stream",
     "text": [
      "scRNAseq brca (2600, 27131) (11253, 27131)\n"
     ]
    },
    {
     "name": "stderr",
     "output_type": "stream",
     "text": [
      "2020-10-29 16:02:50,078 normalizing the expression counts for model training\n",
      "2020-10-29 16:03:07,475 input dataset shape: (13853, 27131)\n",
      "2020-10-29 16:03:07,478 possible cell types: ['B cell', 'CD4 T cell', 'CD8 T cell', 'Dendritic', 'Endothelial', 'Erythrocyte', 'Fibroblast', 'Macrophage', 'Malignant', 'Mast', 'NK', 'Plasma', 'Treg']\n",
      "2020-10-29 16:03:07,480 possible cell types: [('Endothelial', 1200), ('CD4 T cell', 1200), ('NK', 1200), ('Fibroblast', 1200), ('CD8 T cell', 1200), ('Macrophage', 1200), ('Malignant', 1200), ('Plasma', 1200), ('Treg', 1200), ('B cell', 1200), ('Mast', 746), ('Dendritic', 592), ('Erythrocyte', 515)]\n",
      "2020-10-29 16:03:14,346 training dataset shape: (6102, 27131)\n",
      "2020-10-29 16:03:14,348 validation dataset shape: (7751, 27131)\n",
      "2020-10-29 16:03:34,674 epoch: 1, train loss: 36.64873504638672, val loss: 38.795326232910156\n",
      "2020-10-29 16:03:51,631 epoch: 2, train loss: 35.816097259521484, val loss: 37.67295837402344\n",
      "2020-10-29 16:04:08,309 epoch: 3, train loss: 35.0948600769043, val loss: 36.97618865966797\n",
      "2020-10-29 16:04:25,092 epoch: 4, train loss: 34.72310256958008, val loss: 36.659034729003906\n",
      "2020-10-29 16:04:41,799 epoch: 5, train loss: 34.43080520629883, val loss: 36.47195816040039\n",
      "2020-10-29 16:04:58,517 epoch: 6, train loss: 34.25409698486328, val loss: 36.28585433959961\n",
      "2020-10-29 16:05:14,770 epoch: 7, train loss: 34.078678131103516, val loss: 36.14299392700195\n",
      "2020-10-29 16:05:31,295 epoch: 8, train loss: 33.90052032470703, val loss: 35.99033737182617\n",
      "2020-10-29 16:05:47,945 epoch: 9, train loss: 33.74544143676758, val loss: 35.86955261230469\n",
      "2020-10-29 16:06:04,771 epoch: 10, train loss: 33.64683151245117, val loss: 35.778778076171875\n",
      "2020-10-29 16:06:21,572 epoch: 11, train loss: 33.51705551147461, val loss: 35.71489715576172\n",
      "2020-10-29 16:06:38,293 epoch: 12, train loss: 33.40735626220703, val loss: 35.65973663330078\n",
      "2020-10-29 16:06:55,187 epoch: 13, train loss: 33.291831970214844, val loss: 35.60588073730469\n",
      "2020-10-29 16:07:12,086 epoch: 14, train loss: 33.20261001586914, val loss: 35.56267547607422\n",
      "2020-10-29 16:07:28,852 epoch: 15, train loss: 33.11207962036133, val loss: 35.53062438964844\n",
      "2020-10-29 16:07:45,714 epoch: 16, train loss: 32.98698043823242, val loss: 35.49513244628906\n",
      "2020-10-29 16:08:02,384 epoch: 17, train loss: 32.88819122314453, val loss: 35.46852111816406\n",
      "2020-10-29 16:08:19,261 epoch: 18, train loss: 32.76993942260742, val loss: 35.45713424682617\n",
      "2020-10-29 16:08:36,060 epoch: 19, train loss: 32.62105941772461, val loss: 35.43198776245117\n",
      "2020-10-29 16:08:52,873 epoch: 20, train loss: 32.54635238647461, val loss: 35.43013381958008\n",
      "2020-10-29 16:09:07,178 normalizing counts for prediction\n",
      "2020-10-29 16:09:07,179 filtering for genes in training set\n",
      "2020-10-29 16:09:07,190 0 genes in training set are missing from prediction set\n",
      "2020-10-29 16:09:07,672 starting batch 1 of 2\n",
      "2020-10-29 16:09:07,847 normalizing counts for prediction\n",
      "2020-10-29 16:09:07,847 filtering for genes in training set\n",
      "2020-10-29 16:09:07,856 0 genes in training set are missing from prediction set\n",
      "2020-10-29 16:09:31,883 starting batch 2 of 2\n",
      "2020-10-29 16:09:31,999 normalizing counts for prediction\n",
      "2020-10-29 16:09:31,999 filtering for genes in training set\n",
      "2020-10-29 16:09:32,011 0 genes in training set are missing from prediction set\n"
     ]
    },
    {
     "name": "stdout",
     "output_type": "stream",
     "text": [
      "scRNAseq cesc (1939, 22928) (8451, 22928)\n"
     ]
    },
    {
     "name": "stderr",
     "output_type": "stream",
     "text": [
      "2020-10-29 16:09:36,397 normalizing the expression counts for model training\n",
      "2020-10-29 16:09:42,886 input dataset shape: (10390, 22928)\n",
      "2020-10-29 16:09:42,887 possible cell types: ['CD4 T cell', 'CD8 T cell', 'Endothelial', 'Epithelial', 'Erythrocyte', 'Fibroblast', 'Malignant', 'Mast', 'Monocyte', 'NK', 'Plasma']\n",
      "2020-10-29 16:09:42,889 possible cell types: [('Fibroblast', 1200), ('Monocyte', 1200), ('CD8 T cell', 1200), ('Epithelial', 1200), ('NK', 1200), ('Malignant', 1200), ('Plasma', 1135), ('CD4 T cell', 1118), ('Endothelial', 732), ('Mast', 138), ('Erythrocyte', 67)]\n",
      "2020-10-29 16:09:45,684 training dataset shape: (4663, 22928)\n",
      "2020-10-29 16:09:45,685 validation dataset shape: (5727, 22928)\n",
      "2020-10-29 16:09:56,775 epoch: 1, train loss: 37.39118576049805, val loss: 33.17431640625\n",
      "2020-10-29 16:10:06,671 epoch: 2, train loss: 36.19399642944336, val loss: 32.364967346191406\n",
      "2020-10-29 16:10:16,554 epoch: 3, train loss: 35.4684944152832, val loss: 31.438339233398438\n",
      "2020-10-29 16:10:26,991 epoch: 4, train loss: 34.95967483520508, val loss: 30.926593780517578\n",
      "2020-10-29 16:10:37,085 epoch: 5, train loss: 34.6867790222168, val loss: 30.731359481811523\n",
      "2020-10-29 16:10:47,188 epoch: 6, train loss: 34.51985168457031, val loss: 30.610382080078125\n",
      "2020-10-29 16:10:57,450 epoch: 7, train loss: 34.37595748901367, val loss: 30.498916625976562\n",
      "2020-10-29 16:11:07,505 epoch: 8, train loss: 34.23540115356445, val loss: 30.398725509643555\n",
      "2020-10-29 16:11:17,823 epoch: 9, train loss: 34.117347717285156, val loss: 30.292888641357422\n",
      "2020-10-29 16:11:27,992 epoch: 10, train loss: 33.98704528808594, val loss: 30.189098358154297\n",
      "2020-10-29 16:11:38,187 epoch: 11, train loss: 33.87572479248047, val loss: 30.09112548828125\n",
      "2020-10-29 16:11:48,519 epoch: 12, train loss: 33.757171630859375, val loss: 30.014606475830078\n",
      "2020-10-29 16:11:58,695 epoch: 13, train loss: 33.64168167114258, val loss: 29.95485496520996\n",
      "2020-10-29 16:12:09,035 epoch: 14, train loss: 33.52769470214844, val loss: 29.894193649291992\n",
      "2020-10-29 16:12:19,397 epoch: 15, train loss: 33.39638137817383, val loss: 29.837337493896484\n",
      "2020-10-29 16:12:29,597 epoch: 16, train loss: 33.27322006225586, val loss: 29.796527862548828\n",
      "2020-10-29 16:12:39,956 epoch: 17, train loss: 33.148170471191406, val loss: 29.75106430053711\n",
      "2020-10-29 16:12:50,279 epoch: 18, train loss: 33.044647216796875, val loss: 29.71270751953125\n",
      "2020-10-29 16:13:00,528 epoch: 19, train loss: 32.94702911376953, val loss: 29.704877853393555\n",
      "2020-10-29 16:13:10,655 epoch: 20, train loss: 32.835140228271484, val loss: 29.681854248046875\n",
      "2020-10-29 16:13:20,449 normalizing counts for prediction\n",
      "2020-10-29 16:13:20,450 filtering for genes in training set\n",
      "2020-10-29 16:13:20,460 0 genes in training set are missing from prediction set\n",
      "2020-10-29 16:13:21,016 starting batch 1 of 1\n",
      "2020-10-29 16:13:21,166 normalizing counts for prediction\n",
      "2020-10-29 16:13:21,167 filtering for genes in training set\n",
      "2020-10-29 16:13:21,177 0 genes in training set are missing from prediction set\n"
     ]
    },
    {
     "name": "stdout",
     "output_type": "stream",
     "text": [
      "scRNAseq hnscc (2200, 26929) (10288, 26929)\n"
     ]
    },
    {
     "name": "stderr",
     "output_type": "stream",
     "text": [
      "2020-10-29 16:13:43,597 normalizing the expression counts for model training\n",
      "2020-10-29 16:13:52,696 input dataset shape: (12488, 26929)\n",
      "2020-10-29 16:13:52,700 possible cell types: ['B cell', 'CD4 T cell', 'CD8 T cell', 'Endothelial', 'Erythrocyte', 'Malignant', 'Mast', 'Monocyte', 'NK', 'Plasma', 'Treg']\n",
      "2020-10-29 16:13:52,702 possible cell types: [('Treg', 1200), ('Plasma', 1200), ('Mast', 1200), ('B cell', 1200), ('CD4 T cell', 1200), ('Malignant', 1200), ('CD8 T cell', 1200), ('Endothelial', 1200), ('Monocyte', 1200), ('NK', 1200), ('Erythrocyte', 488)]\n",
      "2020-10-29 16:13:56,412 training dataset shape: (5268, 26929)\n",
      "2020-10-29 16:13:56,413 validation dataset shape: (7220, 26929)\n",
      "2020-10-29 16:14:11,542 epoch: 1, train loss: 30.803085327148438, val loss: 16.803770065307617\n",
      "2020-10-29 16:14:25,990 epoch: 2, train loss: 29.932323455810547, val loss: 16.530471801757812\n",
      "2020-10-29 16:14:40,380 epoch: 3, train loss: 29.50837516784668, val loss: 16.330692291259766\n",
      "2020-10-29 16:14:54,867 epoch: 4, train loss: 29.254018783569336, val loss: 16.26865005493164\n",
      "2020-10-29 16:15:09,319 epoch: 5, train loss: 29.00770378112793, val loss: 16.210105895996094\n",
      "2020-10-29 16:15:23,922 epoch: 6, train loss: 28.785171508789062, val loss: 16.11096954345703\n",
      "2020-10-29 16:15:38,482 epoch: 7, train loss: 28.610980987548828, val loss: 16.062570571899414\n",
      "2020-10-29 16:15:52,991 epoch: 8, train loss: 28.44013214111328, val loss: 16.022254943847656\n",
      "2020-10-29 16:16:07,918 epoch: 9, train loss: 28.369510650634766, val loss: 15.984155654907227\n",
      "2020-10-29 16:16:22,530 epoch: 10, train loss: 28.21926498413086, val loss: 15.95577621459961\n",
      "2020-10-29 16:16:37,213 epoch: 11, train loss: 28.111709594726562, val loss: 15.926215171813965\n",
      "2020-10-29 16:16:52,124 epoch: 12, train loss: 28.036752700805664, val loss: 15.9054536819458\n",
      "2020-10-29 16:17:06,436 epoch: 13, train loss: 27.964126586914062, val loss: 15.882484436035156\n",
      "2020-10-29 16:17:21,061 epoch: 14, train loss: 27.813030242919922, val loss: 15.870465278625488\n",
      "2020-10-29 16:17:35,514 epoch: 15, train loss: 27.78537940979004, val loss: 15.862403869628906\n",
      "2020-10-29 16:17:50,100 epoch: 16, train loss: 27.648035049438477, val loss: 15.852729797363281\n",
      "2020-10-29 16:18:04,588 epoch: 17, train loss: 27.592994689941406, val loss: 15.850082397460938\n",
      "2020-10-29 16:18:19,226 epoch: 18, train loss: 27.526323318481445, val loss: 15.849648475646973\n",
      "2020-10-29 16:18:33,781 epoch: 19, train loss: 27.40068244934082, val loss: 15.840411186218262\n",
      "2020-10-29 16:18:48,525 epoch: 20, train loss: 27.39193344116211, val loss: 15.84196662902832\n",
      "2020-10-29 16:19:01,182 normalizing counts for prediction\n",
      "2020-10-29 16:19:01,183 filtering for genes in training set\n",
      "2020-10-29 16:19:01,196 0 genes in training set are missing from prediction set\n",
      "2020-10-29 16:19:01,842 starting batch 1 of 2\n",
      "2020-10-29 16:19:02,064 normalizing counts for prediction\n",
      "2020-10-29 16:19:02,065 filtering for genes in training set\n",
      "2020-10-29 16:19:02,073 0 genes in training set are missing from prediction set\n",
      "2020-10-29 16:19:26,744 starting batch 2 of 2\n",
      "2020-10-29 16:19:26,819 normalizing counts for prediction\n",
      "2020-10-29 16:19:26,820 filtering for genes in training set\n",
      "2020-10-29 16:19:26,829 0 genes in training set are missing from prediction set\n"
     ]
    },
    {
     "name": "stdout",
     "output_type": "stream",
     "text": [
      "scRNAseq melanoma (2824, 23452) (8028, 23452)\n"
     ]
    },
    {
     "name": "stderr",
     "output_type": "stream",
     "text": [
      "2020-10-29 16:19:28,964 normalizing the expression counts for model training\n",
      "2020-10-29 16:19:35,791 input dataset shape: (10852, 23452)\n",
      "2020-10-29 16:19:35,793 possible cell types: ['B cell', 'CD4 T cell naive', 'CD8 CTL', 'CD8 CTL exausted', 'CD8 follicular T-cell', 'Dendritic', 'Fibroblast', 'M1 Macrophage', 'M2 Macrophage', 'Malignant', 'Monocyte', 'NK', 'Plasma', 'Treg', 'pDC']\n",
      "2020-10-29 16:19:35,794 possible cell types: [('CD8 CTL', 1200), ('B cell', 1200), ('CD8 CTL exausted', 1200), ('M2 Macrophage', 1200), ('Malignant', 1200), ('CD4 T cell naive', 1200), ('Treg', 862), ('Monocyte', 539), ('NK', 538), ('pDC', 478), ('Fibroblast', 321), ('Plasma', 273), ('Dendritic', 263), ('M1 Macrophage', 200), ('CD8 follicular T-cell', 178)]\n",
      "2020-10-29 16:19:38,949 training dataset shape: (5289, 23452)\n",
      "2020-10-29 16:19:38,950 validation dataset shape: (5563, 23452)\n",
      "2020-10-29 16:19:51,993 epoch: 1, train loss: 35.766632080078125, val loss: 44.68608093261719\n",
      "2020-10-29 16:20:04,155 epoch: 2, train loss: 35.11302185058594, val loss: 43.87565231323242\n",
      "2020-10-29 16:20:16,437 epoch: 3, train loss: 34.26144027709961, val loss: 42.853797912597656\n",
      "2020-10-29 16:20:28,915 epoch: 4, train loss: 33.91318893432617, val loss: 42.46352005004883\n",
      "2020-10-29 16:20:41,100 epoch: 5, train loss: 33.707191467285156, val loss: 42.311920166015625\n",
      "2020-10-29 16:20:53,213 epoch: 6, train loss: 33.52660369873047, val loss: 42.21087646484375\n",
      "2020-10-29 16:21:05,586 epoch: 7, train loss: 33.34983444213867, val loss: 42.07263946533203\n",
      "2020-10-29 16:21:17,937 epoch: 8, train loss: 33.167537689208984, val loss: 41.973045349121094\n",
      "2020-10-29 16:21:30,277 epoch: 9, train loss: 33.01460266113281, val loss: 41.84784698486328\n",
      "2020-10-29 16:21:42,827 epoch: 10, train loss: 32.87617492675781, val loss: 41.78526306152344\n",
      "2020-10-29 16:21:54,968 epoch: 11, train loss: 32.74836730957031, val loss: 41.73044967651367\n",
      "2020-10-29 16:22:07,072 epoch: 12, train loss: 32.61457824707031, val loss: 41.685302734375\n",
      "2020-10-29 16:22:19,372 epoch: 13, train loss: 32.500160217285156, val loss: 41.65327835083008\n",
      "2020-10-29 16:22:31,671 epoch: 14, train loss: 32.38747024536133, val loss: 41.63983917236328\n",
      "2020-10-29 16:22:43,934 epoch: 15, train loss: 32.262603759765625, val loss: 41.61988067626953\n",
      "2020-10-29 16:22:56,060 epoch: 16, train loss: 32.14670944213867, val loss: 41.62724685668945\n",
      "2020-10-29 16:23:08,476 epoch: 17, train loss: 32.031803131103516, val loss: 41.60662078857422\n",
      "2020-10-29 16:23:20,466 epoch: 18, train loss: 31.906869888305664, val loss: 41.64200210571289\n",
      "2020-10-29 16:23:32,718 epoch: 19, train loss: 31.790559768676758, val loss: 41.67365264892578\n",
      "2020-10-29 16:23:45,108 epoch: 20, train loss: 31.657861709594727, val loss: 41.748443603515625\n",
      "2020-10-29 16:23:55,816 normalizing counts for prediction\n",
      "2020-10-29 16:23:55,818 filtering for genes in training set\n",
      "2020-10-29 16:23:55,832 0 genes in training set are missing from prediction set\n",
      "2020-10-29 16:23:56,447 starting batch 1 of 1\n",
      "2020-10-29 16:23:56,590 normalizing counts for prediction\n",
      "2020-10-29 16:23:56,591 filtering for genes in training set\n",
      "2020-10-29 16:23:56,601 0 genes in training set are missing from prediction set\n"
     ]
    },
    {
     "name": "stdout",
     "output_type": "stream",
     "text": [
      "scRNAseq pbmc (834, 32738) (1320, 32738)\n"
     ]
    },
    {
     "name": "stderr",
     "output_type": "stream",
     "text": [
      "2020-10-29 16:24:12,971 normalizing the expression counts for model training\n",
      "2020-10-29 16:24:14,895 input dataset shape: (2154, 32738)\n",
      "2020-10-29 16:24:14,896 possible cell types: ['B cell', 'CD4 T cell', 'CD8 T cell', 'Dendritic', 'FCGR3A Monocyte', 'Megakaryocyte', 'NK']\n",
      "2020-10-29 16:24:14,897 possible cell types: [('CD4 T cell', 1143), ('B cell', 341), ('CD8 T cell', 306), ('NK', 163), ('FCGR3A Monocyte', 150), ('Dendritic', 38), ('Megakaryocyte', 13)]\n",
      "2020-10-29 16:24:15,475 training dataset shape: (1220, 32738)\n",
      "2020-10-29 16:24:15,476 validation dataset shape: (934, 32738)\n"
     ]
    },
    {
     "name": "stdout",
     "output_type": "stream",
     "text": [
      "WARNING:tensorflow:5 out of the last 13 calls to <function compute_loss at 0x7f13991523b0> triggered tf.function retracing. Tracing is expensive and the excessive number of tracings is likely due to passing python objects instead of tensors. Also, tf.function has experimental_relax_shapes=True option that relaxes argument shapes that can avoid unnecessary retracing. Please refer to https://www.tensorflow.org/tutorials/customization/performance#python_or_tensor_args and https://www.tensorflow.org/api_docs/python/tf/function for more details.\n"
     ]
    },
    {
     "name": "stderr",
     "output_type": "stream",
     "text": [
      "2020-10-29 16:24:20,309 5 out of the last 13 calls to <function compute_loss at 0x7f13991523b0> triggered tf.function retracing. Tracing is expensive and the excessive number of tracings is likely due to passing python objects instead of tensors. Also, tf.function has experimental_relax_shapes=True option that relaxes argument shapes that can avoid unnecessary retracing. Please refer to https://www.tensorflow.org/tutorials/customization/performance#python_or_tensor_args and https://www.tensorflow.org/api_docs/python/tf/function for more details.\n"
     ]
    },
    {
     "name": "stdout",
     "output_type": "stream",
     "text": [
      "WARNING:tensorflow:5 out of the last 11 calls to <function compute_loss at 0x7f13991523b0> triggered tf.function retracing. Tracing is expensive and the excessive number of tracings is likely due to passing python objects instead of tensors. Also, tf.function has experimental_relax_shapes=True option that relaxes argument shapes that can avoid unnecessary retracing. Please refer to https://www.tensorflow.org/tutorials/customization/performance#python_or_tensor_args and https://www.tensorflow.org/api_docs/python/tf/function for more details.\n"
     ]
    },
    {
     "name": "stderr",
     "output_type": "stream",
     "text": [
      "2020-10-29 16:24:20,397 5 out of the last 11 calls to <function compute_loss at 0x7f13991523b0> triggered tf.function retracing. Tracing is expensive and the excessive number of tracings is likely due to passing python objects instead of tensors. Also, tf.function has experimental_relax_shapes=True option that relaxes argument shapes that can avoid unnecessary retracing. Please refer to https://www.tensorflow.org/tutorials/customization/performance#python_or_tensor_args and https://www.tensorflow.org/api_docs/python/tf/function for more details.\n"
     ]
    },
    {
     "name": "stdout",
     "output_type": "stream",
     "text": [
      "WARNING:tensorflow:6 out of the last 12 calls to <function compute_loss at 0x7f13991523b0> triggered tf.function retracing. Tracing is expensive and the excessive number of tracings is likely due to passing python objects instead of tensors. Also, tf.function has experimental_relax_shapes=True option that relaxes argument shapes that can avoid unnecessary retracing. Please refer to https://www.tensorflow.org/tutorials/customization/performance#python_or_tensor_args and https://www.tensorflow.org/api_docs/python/tf/function for more details.\n"
     ]
    },
    {
     "name": "stderr",
     "output_type": "stream",
     "text": [
      "2020-10-29 16:24:20,483 6 out of the last 12 calls to <function compute_loss at 0x7f13991523b0> triggered tf.function retracing. Tracing is expensive and the excessive number of tracings is likely due to passing python objects instead of tensors. Also, tf.function has experimental_relax_shapes=True option that relaxes argument shapes that can avoid unnecessary retracing. Please refer to https://www.tensorflow.org/tutorials/customization/performance#python_or_tensor_args and https://www.tensorflow.org/api_docs/python/tf/function for more details.\n"
     ]
    },
    {
     "name": "stdout",
     "output_type": "stream",
     "text": [
      "WARNING:tensorflow:7 out of the last 14 calls to <function compute_loss at 0x7f13991523b0> triggered tf.function retracing. Tracing is expensive and the excessive number of tracings is likely due to passing python objects instead of tensors. Also, tf.function has experimental_relax_shapes=True option that relaxes argument shapes that can avoid unnecessary retracing. Please refer to https://www.tensorflow.org/tutorials/customization/performance#python_or_tensor_args and https://www.tensorflow.org/api_docs/python/tf/function for more details.\n"
     ]
    },
    {
     "name": "stderr",
     "output_type": "stream",
     "text": [
      "2020-10-29 16:24:20,614 7 out of the last 14 calls to <function compute_loss at 0x7f13991523b0> triggered tf.function retracing. Tracing is expensive and the excessive number of tracings is likely due to passing python objects instead of tensors. Also, tf.function has experimental_relax_shapes=True option that relaxes argument shapes that can avoid unnecessary retracing. Please refer to https://www.tensorflow.org/tutorials/customization/performance#python_or_tensor_args and https://www.tensorflow.org/api_docs/python/tf/function for more details.\n",
      "2020-10-29 16:24:21,194 epoch: 1, train loss: 47.38005065917969, val loss: 48.97697448730469\n",
      "2020-10-29 16:24:25,415 epoch: 2, train loss: 45.49711608886719, val loss: 46.78955078125\n",
      "2020-10-29 16:24:29,654 epoch: 3, train loss: 45.3695068359375, val loss: 46.15694808959961\n",
      "2020-10-29 16:24:33,893 epoch: 4, train loss: 46.088008880615234, val loss: 45.939239501953125\n",
      "2020-10-29 16:24:38,090 epoch: 5, train loss: 45.7983283996582, val loss: 45.89154815673828\n",
      "2020-10-29 16:24:42,282 epoch: 6, train loss: 45.235084533691406, val loss: 45.87865447998047\n",
      "2020-10-29 16:24:46,597 epoch: 7, train loss: 45.21448516845703, val loss: 45.78720474243164\n",
      "2020-10-29 16:24:50,744 epoch: 8, train loss: 44.37274932861328, val loss: 45.64356231689453\n",
      "2020-10-29 16:24:54,911 epoch: 9, train loss: 45.39387893676758, val loss: 45.582969665527344\n",
      "2020-10-29 16:24:59,194 epoch: 10, train loss: 44.69259262084961, val loss: 45.552555084228516\n",
      "2020-10-29 16:25:03,292 epoch: 11, train loss: 43.57330322265625, val loss: 45.51705551147461\n",
      "2020-10-29 16:25:07,626 epoch: 12, train loss: 43.869476318359375, val loss: 45.49353790283203\n",
      "2020-10-29 16:25:11,952 epoch: 13, train loss: 44.129852294921875, val loss: 45.442073822021484\n",
      "2020-10-29 16:25:16,080 epoch: 14, train loss: 44.574737548828125, val loss: 45.41798782348633\n",
      "2020-10-29 16:25:20,229 epoch: 15, train loss: 43.43092727661133, val loss: 45.414146423339844\n",
      "2020-10-29 16:25:24,382 epoch: 16, train loss: 43.09816360473633, val loss: 45.382389068603516\n",
      "2020-10-29 16:25:28,785 epoch: 17, train loss: 43.51848220825195, val loss: 45.38694763183594\n",
      "2020-10-29 16:25:32,986 epoch: 18, train loss: 43.33462142944336, val loss: 45.436866760253906\n",
      "2020-10-29 16:25:37,231 epoch: 19, train loss: 43.328956604003906, val loss: 45.36065673828125\n",
      "2020-10-29 16:25:41,569 epoch: 20, train loss: 43.48333740234375, val loss: 45.32277297973633\n",
      "2020-10-29 16:25:44,893 normalizing counts for prediction\n",
      "2020-10-29 16:25:44,894 filtering for genes in training set\n",
      "2020-10-29 16:25:44,908 0 genes in training set are missing from prediction set\n",
      "2020-10-29 16:25:45,647 starting batch 1 of 1\n",
      "2020-10-29 16:25:45,698 normalizing counts for prediction\n",
      "2020-10-29 16:25:45,700 filtering for genes in training set\n",
      "2020-10-29 16:25:45,713 0 genes in training set are missing from prediction set\n"
     ]
    },
    {
     "name": "stdout",
     "output_type": "stream",
     "text": [
      "scRNAseq pdac (3703, 28756) (17428, 28756)\n"
     ]
    },
    {
     "name": "stderr",
     "output_type": "stream",
     "text": [
      "2020-10-29 16:25:51,707 normalizing the expression counts for model training\n",
      "2020-10-29 16:26:07,917 input dataset shape: (21131, 28756)\n",
      "2020-10-29 16:26:07,919 possible cell types: ['ADM', 'Acinar', 'B cell', 'CD4 T cell', 'CD4 T cell naive', 'CD8 T cell', 'Dendritic', 'Endothelial', 'Epithelial', 'Erythrocyte', 'Fibroblast', 'Islet', 'Macrophage', 'Malignant', 'Mast', 'NK', 'Plasma', 'Treg', 'Tuft']\n",
      "2020-10-29 16:26:07,921 possible cell types: [('Dendritic', 1200), ('CD4 T cell naive', 1200), ('Macrophage', 1200), ('NK', 1200), ('Plasma', 1200), ('CD8 T cell', 1200), ('Malignant', 1200), ('Treg', 1200), ('Fibroblast', 1200), ('Acinar', 1200), ('Islet', 1200), ('Endothelial', 1200), ('B cell', 1200), ('CD4 T cell', 1200), ('Mast', 1200), ('ADM', 1200), ('Epithelial', 1168), ('Erythrocyte', 612), ('Tuft', 151)]\n",
      "2020-10-29 16:26:16,050 training dataset shape: (8943, 28756)\n",
      "2020-10-29 16:26:16,051 validation dataset shape: (12188, 28756)\n",
      "2020-10-29 16:26:40,125 epoch: 1, train loss: 29.594036102294922, val loss: 29.98845100402832\n",
      "2020-10-29 16:27:03,052 epoch: 2, train loss: 28.532102584838867, val loss: 28.972333908081055\n",
      "2020-10-29 16:27:25,836 epoch: 3, train loss: 28.053813934326172, val loss: 28.546875\n",
      "2020-10-29 16:27:48,152 epoch: 4, train loss: 27.818349838256836, val loss: 28.37812042236328\n",
      "2020-10-29 16:28:11,199 epoch: 5, train loss: 27.647096633911133, val loss: 28.290712356567383\n",
      "2020-10-29 16:28:34,124 epoch: 6, train loss: 27.497285842895508, val loss: 28.142337799072266\n",
      "2020-10-29 16:28:57,351 epoch: 7, train loss: 27.352075576782227, val loss: 28.027956008911133\n",
      "2020-10-29 16:29:19,869 epoch: 8, train loss: 27.253406524658203, val loss: 27.932750701904297\n",
      "2020-10-29 16:29:42,382 epoch: 9, train loss: 27.144245147705078, val loss: 27.81976318359375\n",
      "2020-10-29 16:30:05,371 epoch: 10, train loss: 27.048105239868164, val loss: 27.715415954589844\n",
      "2020-10-29 16:30:28,389 epoch: 11, train loss: 26.969167709350586, val loss: 27.60640525817871\n",
      "2020-10-29 16:30:51,457 epoch: 12, train loss: 26.878944396972656, val loss: 27.524192810058594\n",
      "2020-10-29 16:31:15,107 epoch: 13, train loss: 26.801551818847656, val loss: 27.4566650390625\n",
      "2020-10-29 16:31:38,458 epoch: 14, train loss: 26.730621337890625, val loss: 27.411876678466797\n",
      "2020-10-29 16:32:01,469 epoch: 15, train loss: 26.651880264282227, val loss: 27.37677764892578\n",
      "2020-10-29 16:32:24,557 epoch: 16, train loss: 26.580001831054688, val loss: 27.354597091674805\n",
      "2020-10-29 16:32:47,741 epoch: 17, train loss: 26.503555297851562, val loss: 27.333139419555664\n",
      "2020-10-29 16:33:10,634 epoch: 18, train loss: 26.42627716064453, val loss: 27.32022476196289\n",
      "2020-10-29 16:33:33,918 epoch: 19, train loss: 26.35531234741211, val loss: 27.30548095703125\n",
      "2020-10-29 16:33:57,300 epoch: 20, train loss: 26.28415870666504, val loss: 27.302635192871094\n",
      "2020-10-29 16:34:19,381 normalizing counts for prediction\n",
      "2020-10-29 16:34:19,382 filtering for genes in training set\n",
      "2020-10-29 16:34:19,391 0 genes in training set are missing from prediction set\n",
      "2020-10-29 16:34:19,889 starting batch 1 of 2\n",
      "2020-10-29 16:34:20,075 normalizing counts for prediction\n",
      "2020-10-29 16:34:20,075 filtering for genes in training set\n",
      "2020-10-29 16:34:20,085 0 genes in training set are missing from prediction set\n",
      "2020-10-29 16:34:45,917 starting batch 2 of 2\n",
      "2020-10-29 16:34:46,281 normalizing counts for prediction\n",
      "2020-10-29 16:34:46,282 filtering for genes in training set\n",
      "2020-10-29 16:34:46,294 0 genes in training set are missing from prediction set\n"
     ]
    },
    {
     "name": "stdout",
     "output_type": "stream",
     "text": [
      "snATACseq brca (2552, 19891) (9304, 19891)\n"
     ]
    },
    {
     "name": "stderr",
     "output_type": "stream",
     "text": [
      "2020-10-29 16:35:06,960 normalizing the expression counts for model training\n",
      "2020-10-29 16:35:13,357 input dataset shape: (11856, 19891)\n",
      "2020-10-29 16:35:13,358 possible cell types: ['B cell', 'CD4 T cell', 'CD8 T cell', 'Endothelial', 'Macrophage', 'Malignant', 'Mast', 'NK', 'Treg', 'cCAF', 'cDC', 'mCAF', 'pDC', 'vCAF']\n",
      "2020-10-29 16:35:13,360 possible cell types: [('Malignant', 1200), ('mCAF', 1200), ('Macrophage', 1200), ('Endothelial', 1200), ('CD4 T cell', 1200), ('CD8 T cell', 1200), ('Treg', 1200), ('B cell', 1200), ('vCAF', 637), ('cDC', 519), ('pDC', 457), ('NK', 430), ('cCAF', 127), ('Mast', 86)]\n",
      "2020-10-29 16:35:16,451 training dataset shape: (5502, 19891)\n",
      "2020-10-29 16:35:16,452 validation dataset shape: (6354, 19891)\n",
      "2020-10-29 16:35:29,482 epoch: 1, train loss: 37.69630813598633, val loss: 43.788761138916016\n",
      "2020-10-29 16:35:41,436 epoch: 2, train loss: 37.37327194213867, val loss: 43.38957977294922\n",
      "2020-10-29 16:35:53,423 epoch: 3, train loss: 37.03084182739258, val loss: 43.08024597167969\n",
      "2020-10-29 16:36:05,385 epoch: 4, train loss: 36.7581901550293, val loss: 42.85714340209961\n",
      "2020-10-29 16:36:17,354 epoch: 5, train loss: 36.5737419128418, val loss: 42.715641021728516\n",
      "2020-10-29 16:36:29,419 epoch: 6, train loss: 36.47758102416992, val loss: 42.683982849121094\n",
      "2020-10-29 16:36:41,308 epoch: 7, train loss: 36.25856018066406, val loss: 42.466407775878906\n",
      "2020-10-29 16:36:53,563 epoch: 8, train loss: 36.127445220947266, val loss: 42.39442443847656\n",
      "2020-10-29 16:37:05,675 epoch: 9, train loss: 36.039772033691406, val loss: 42.37286376953125\n",
      "2020-10-29 16:37:17,823 epoch: 10, train loss: 35.96125793457031, val loss: 42.342620849609375\n",
      "2020-10-29 16:37:30,102 epoch: 11, train loss: 35.83303451538086, val loss: 42.259315490722656\n",
      "2020-10-29 16:37:42,194 epoch: 12, train loss: 35.899688720703125, val loss: 42.51783752441406\n",
      "2020-10-29 16:37:54,193 epoch: 13, train loss: 35.62050247192383, val loss: 42.265342712402344\n",
      "2020-10-29 16:38:06,425 epoch: 14, train loss: 35.414493560791016, val loss: 42.18931579589844\n",
      "2020-10-29 16:38:18,608 epoch: 15, train loss: 35.33607864379883, val loss: 42.245121002197266\n",
      "2020-10-29 16:38:30,649 epoch: 16, train loss: 35.172447204589844, val loss: 42.19993591308594\n",
      "2020-10-29 16:38:42,819 epoch: 17, train loss: 35.11769104003906, val loss: 42.19270706176758\n",
      "2020-10-29 16:38:54,919 epoch: 18, train loss: 35.016197204589844, val loss: 42.247398376464844\n",
      "2020-10-29 16:39:06,938 epoch: 19, train loss: 34.83606719970703, val loss: 42.23405456542969\n",
      "2020-10-29 16:39:18,819 epoch: 20, train loss: 34.691978454589844, val loss: 42.23775863647461\n",
      "2020-10-29 16:39:29,796 normalizing counts for prediction\n",
      "2020-10-29 16:39:29,797 filtering for genes in training set\n",
      "2020-10-29 16:39:29,808 0 genes in training set are missing from prediction set\n",
      "2020-10-29 16:39:30,317 starting batch 1 of 1\n",
      "2020-10-29 16:39:30,596 normalizing counts for prediction\n",
      "2020-10-29 16:39:30,597 filtering for genes in training set\n",
      "2020-10-29 16:39:30,603 0 genes in training set are missing from prediction set\n"
     ]
    },
    {
     "name": "stdout",
     "output_type": "stream",
     "text": [
      "snATACseq gbm (1316, 19891) (5650, 19891)\n"
     ]
    },
    {
     "name": "stderr",
     "output_type": "stream",
     "text": [
      "2020-10-29 16:40:08,714 normalizing the expression counts for model training\n",
      "2020-10-29 16:40:12,470 input dataset shape: (6966, 19891)\n",
      "2020-10-29 16:40:12,472 possible cell types: ['B cell', 'Endothelial', 'Fibroblast', 'Malignant', 'Microglia', 'Neuron', 'Oligodendrocytes', 'T cells']\n",
      "2020-10-29 16:40:12,473 possible cell types: [('Microglia', 1200), ('Neuron', 1200), ('Malignant', 1200), ('Oligodendrocytes', 1200), ('T cells', 1200), ('Fibroblast', 810), ('Endothelial', 101), ('B cell', 55)]\n",
      "2020-10-29 16:40:13,940 training dataset shape: (3124, 19891)\n",
      "2020-10-29 16:40:13,941 validation dataset shape: (3842, 19891)\n"
     ]
    },
    {
     "name": "stdout",
     "output_type": "stream",
     "text": [
      "WARNING:tensorflow:5 out of the last 54 calls to <function compute_loss at 0x7f13991523b0> triggered tf.function retracing. Tracing is expensive and the excessive number of tracings is likely due to passing python objects instead of tensors. Also, tf.function has experimental_relax_shapes=True option that relaxes argument shapes that can avoid unnecessary retracing. Please refer to https://www.tensorflow.org/tutorials/customization/performance#python_or_tensor_args and https://www.tensorflow.org/api_docs/python/tf/function for more details.\n"
     ]
    },
    {
     "name": "stderr",
     "output_type": "stream",
     "text": [
      "2020-10-29 16:40:21,281 5 out of the last 54 calls to <function compute_loss at 0x7f13991523b0> triggered tf.function retracing. Tracing is expensive and the excessive number of tracings is likely due to passing python objects instead of tensors. Also, tf.function has experimental_relax_shapes=True option that relaxes argument shapes that can avoid unnecessary retracing. Please refer to https://www.tensorflow.org/tutorials/customization/performance#python_or_tensor_args and https://www.tensorflow.org/api_docs/python/tf/function for more details.\n"
     ]
    },
    {
     "name": "stdout",
     "output_type": "stream",
     "text": [
      "WARNING:tensorflow:6 out of the last 55 calls to <function compute_loss at 0x7f13991523b0> triggered tf.function retracing. Tracing is expensive and the excessive number of tracings is likely due to passing python objects instead of tensors. Also, tf.function has experimental_relax_shapes=True option that relaxes argument shapes that can avoid unnecessary retracing. Please refer to https://www.tensorflow.org/tutorials/customization/performance#python_or_tensor_args and https://www.tensorflow.org/api_docs/python/tf/function for more details.\n"
     ]
    },
    {
     "name": "stderr",
     "output_type": "stream",
     "text": [
      "2020-10-29 16:40:21,373 6 out of the last 55 calls to <function compute_loss at 0x7f13991523b0> triggered tf.function retracing. Tracing is expensive and the excessive number of tracings is likely due to passing python objects instead of tensors. Also, tf.function has experimental_relax_shapes=True option that relaxes argument shapes that can avoid unnecessary retracing. Please refer to https://www.tensorflow.org/tutorials/customization/performance#python_or_tensor_args and https://www.tensorflow.org/api_docs/python/tf/function for more details.\n",
      "2020-10-29 16:40:22,452 epoch: 1, train loss: 44.33525085449219, val loss: 23.476886749267578\n",
      "2020-10-29 16:40:29,674 epoch: 2, train loss: 44.14936828613281, val loss: 23.278709411621094\n",
      "2020-10-29 16:40:36,817 epoch: 3, train loss: 43.8795280456543, val loss: 23.152862548828125\n",
      "2020-10-29 16:40:43,861 epoch: 4, train loss: 43.461429595947266, val loss: 23.063217163085938\n",
      "2020-10-29 16:40:50,911 epoch: 5, train loss: 43.23381042480469, val loss: 22.99054718017578\n",
      "2020-10-29 16:40:57,887 epoch: 6, train loss: 43.14479446411133, val loss: 22.982208251953125\n",
      "2020-10-29 16:41:04,868 epoch: 7, train loss: 42.79022979736328, val loss: 22.899829864501953\n",
      "2020-10-29 16:41:11,722 epoch: 8, train loss: 42.53595733642578, val loss: 22.867725372314453\n",
      "2020-10-29 16:41:18,584 epoch: 9, train loss: 42.330955505371094, val loss: 22.819311141967773\n",
      "2020-10-29 16:41:25,469 epoch: 10, train loss: 42.14524841308594, val loss: 22.79163932800293\n",
      "2020-10-29 16:41:32,359 epoch: 11, train loss: 41.98735427856445, val loss: 22.790882110595703\n",
      "2020-10-29 16:41:39,279 epoch: 12, train loss: 41.77195358276367, val loss: 22.768592834472656\n",
      "2020-10-29 16:41:46,108 epoch: 13, train loss: 41.61470031738281, val loss: 22.778533935546875\n",
      "2020-10-29 16:41:52,977 epoch: 14, train loss: 41.38120651245117, val loss: 22.77081298828125\n",
      "2020-10-29 16:41:59,856 epoch: 15, train loss: 41.37659454345703, val loss: 22.815570831298828\n",
      "2020-10-29 16:42:06,844 epoch: 16, train loss: 41.371856689453125, val loss: 22.893325805664062\n",
      "2020-10-29 16:42:13,831 epoch: 17, train loss: 40.80650329589844, val loss: 22.78122329711914\n",
      "2020-10-29 16:42:20,785 epoch: 18, train loss: 40.597015380859375, val loss: 22.76516342163086\n",
      "2020-10-29 16:42:27,614 epoch: 19, train loss: 40.42860794067383, val loss: 22.759004592895508\n",
      "2020-10-29 16:42:34,479 epoch: 20, train loss: 40.1353645324707, val loss: 22.75423812866211\n",
      "2020-10-29 16:42:40,877 normalizing counts for prediction\n",
      "2020-10-29 16:42:40,879 filtering for genes in training set\n",
      "2020-10-29 16:42:40,891 0 genes in training set are missing from prediction set\n",
      "2020-10-29 16:42:41,326 starting batch 1 of 1\n",
      "2020-10-29 16:42:41,507 normalizing counts for prediction\n",
      "2020-10-29 16:42:41,508 filtering for genes in training set\n",
      "2020-10-29 16:42:41,517 0 genes in training set are missing from prediction set\n"
     ]
    },
    {
     "name": "stdout",
     "output_type": "stream",
     "text": [
      "snRNAseq brca (2455, 29175) (9490, 29175)\n"
     ]
    },
    {
     "name": "stderr",
     "output_type": "stream",
     "text": [
      "2020-10-29 16:43:04,834 normalizing the expression counts for model training\n",
      "2020-10-29 16:43:14,110 input dataset shape: (11945, 29175)\n",
      "2020-10-29 16:43:14,112 possible cell types: ['Adipocyte', 'B cell', 'CD4 T cell', 'CD8 T cell', 'Dendritic', 'Endothelial', 'Fibroblast', 'Macrophage', 'Malignant', 'Mast', 'NK', 'Plasma', 'Treg']\n",
      "2020-10-29 16:43:14,114 possible cell types: [('Malignant', 1200), ('CD4 T cell', 1200), ('Endothelial', 1200), ('Fibroblast', 1200), ('CD8 T cell', 1200), ('Macrophage', 1200), ('B cell', 1200), ('Treg', 1200), ('Plasma', 1200), ('NK', 482), ('Mast', 318), ('Adipocyte', 273), ('Dendritic', 72)]\n",
      "2020-10-29 16:43:17,956 training dataset shape: (5247, 29175)\n",
      "2020-10-29 16:43:17,957 validation dataset shape: (6698, 29175)\n",
      "2020-10-29 16:43:33,817 epoch: 1, train loss: 39.688575744628906, val loss: 39.98768615722656\n",
      "2020-10-29 16:43:48,882 epoch: 2, train loss: 39.03700637817383, val loss: 39.365821838378906\n",
      "2020-10-29 16:44:03,968 epoch: 3, train loss: 38.410396575927734, val loss: 39.00123596191406\n",
      "2020-10-29 16:44:18,884 epoch: 4, train loss: 38.00253677368164, val loss: 38.79451370239258\n",
      "2020-10-29 16:44:33,826 epoch: 5, train loss: 37.74557113647461, val loss: 38.6587028503418\n",
      "2020-10-29 16:44:48,809 epoch: 6, train loss: 37.53438186645508, val loss: 38.55998992919922\n",
      "2020-10-29 16:45:04,103 epoch: 7, train loss: 37.362037658691406, val loss: 38.47416687011719\n",
      "2020-10-29 16:45:19,507 epoch: 8, train loss: 37.20846176147461, val loss: 38.39519500732422\n",
      "2020-10-29 16:45:34,531 epoch: 9, train loss: 37.07615280151367, val loss: 38.339263916015625\n",
      "2020-10-29 16:45:49,810 epoch: 10, train loss: 36.953086853027344, val loss: 38.289886474609375\n",
      "2020-10-29 16:46:04,948 epoch: 11, train loss: 36.83998107910156, val loss: 38.26863098144531\n",
      "2020-10-29 16:46:20,299 epoch: 12, train loss: 36.73271942138672, val loss: 38.23475646972656\n",
      "2020-10-29 16:46:35,669 epoch: 13, train loss: 36.60880661010742, val loss: 38.20606231689453\n",
      "2020-10-29 16:46:50,932 epoch: 14, train loss: 36.488624572753906, val loss: 38.171199798583984\n",
      "2020-10-29 16:47:06,337 epoch: 15, train loss: 36.36885070800781, val loss: 38.160118103027344\n",
      "2020-10-29 16:47:21,668 epoch: 16, train loss: 36.25281524658203, val loss: 38.141395568847656\n",
      "2020-10-29 16:47:37,109 epoch: 17, train loss: 36.13185501098633, val loss: 38.14171600341797\n",
      "2020-10-29 16:47:52,652 epoch: 18, train loss: 36.01603698730469, val loss: 38.14291763305664\n",
      "2020-10-29 16:48:07,770 epoch: 19, train loss: 35.87751770019531, val loss: 38.13323211669922\n",
      "2020-10-29 16:48:23,142 epoch: 20, train loss: 35.73862075805664, val loss: 38.13212966918945\n",
      "2020-10-29 16:48:36,306 normalizing counts for prediction\n",
      "2020-10-29 16:48:36,307 filtering for genes in training set\n",
      "2020-10-29 16:48:36,320 0 genes in training set are missing from prediction set\n",
      "2020-10-29 16:48:36,852 starting batch 1 of 1\n",
      "2020-10-29 16:48:36,957 normalizing counts for prediction\n",
      "2020-10-29 16:48:36,958 filtering for genes in training set\n",
      "2020-10-29 16:48:36,966 0 genes in training set are missing from prediction set\n"
     ]
    },
    {
     "name": "stdout",
     "output_type": "stream",
     "text": [
      "snRNAseq ccrcc (3867, 33538) (10444, 33538)\n"
     ]
    },
    {
     "name": "stderr",
     "output_type": "stream",
     "text": [
      "2020-10-29 16:49:05,670 normalizing the expression counts for model training\n",
      "2020-10-29 16:49:18,413 input dataset shape: (14311, 33538)\n",
      "2020-10-29 16:49:18,415 possible cell types: ['Basophil', 'CD4 CTL', 'CD4 T cell', 'CD4 T cell activated', 'CD4 T cell naive', 'CD4/CD8 proliferating', 'CD8 CTL', 'CD8 T cell preexhausted', 'Endothelial', 'Epithelial', 'Fibroblast', 'Macrophage', 'Macrophage proliferating', 'Malignant', 'NK cell strong', 'NK cell weak', 'Plasma', 'TRM', 'Treg', 'cDC', 'mCAF', 'pDC']\n",
      "2020-10-29 16:49:18,417 possible cell types: [('Malignant', 1200), ('Endothelial', 1200), ('mCAF', 1200), ('Macrophage', 1200), ('Epithelial', 1200), ('CD4 T cell', 1200), ('NK cell strong', 871), ('CD4 T cell activated', 791), ('CD4 T cell naive', 725), ('Fibroblast', 639), ('Treg', 574), ('TRM', 513), ('CD4/CD8 proliferating', 466), ('Macrophage proliferating', 466), ('cDC', 447), ('CD8 CTL', 439), ('NK cell weak', 409), ('CD4 CTL', 348), ('Plasma', 208), ('CD8 T cell preexhausted', 141), ('pDC', 43), ('Basophil', 31)]\n",
      "2020-10-29 16:49:24,203 training dataset shape: (7501, 33538)\n",
      "2020-10-29 16:49:24,204 validation dataset shape: (6810, 33538)\n"
     ]
    },
    {
     "name": "stdout",
     "output_type": "stream",
     "text": [
      "WARNING:tensorflow:5 out of the last 123 calls to <function compute_loss at 0x7f13991523b0> triggered tf.function retracing. Tracing is expensive and the excessive number of tracings is likely due to passing python objects instead of tensors. Also, tf.function has experimental_relax_shapes=True option that relaxes argument shapes that can avoid unnecessary retracing. Please refer to https://www.tensorflow.org/tutorials/customization/performance#python_or_tensor_args and https://www.tensorflow.org/api_docs/python/tf/function for more details.\n"
     ]
    },
    {
     "name": "stderr",
     "output_type": "stream",
     "text": [
      "2020-10-29 16:49:44,584 5 out of the last 123 calls to <function compute_loss at 0x7f13991523b0> triggered tf.function retracing. Tracing is expensive and the excessive number of tracings is likely due to passing python objects instead of tensors. Also, tf.function has experimental_relax_shapes=True option that relaxes argument shapes that can avoid unnecessary retracing. Please refer to https://www.tensorflow.org/tutorials/customization/performance#python_or_tensor_args and https://www.tensorflow.org/api_docs/python/tf/function for more details.\n",
      "2020-10-29 16:49:48,759 epoch: 1, train loss: 34.759559631347656, val loss: 50.450416564941406\n",
      "2020-10-29 16:50:12,131 epoch: 2, train loss: 34.12269592285156, val loss: 49.272796630859375\n",
      "2020-10-29 16:50:35,853 epoch: 3, train loss: 33.885658264160156, val loss: 48.648887634277344\n",
      "2020-10-29 16:50:59,535 epoch: 4, train loss: 33.5566291809082, val loss: 48.25336456298828\n",
      "2020-10-29 16:51:23,306 epoch: 5, train loss: 33.337772369384766, val loss: 47.949134826660156\n",
      "2020-10-29 16:51:47,379 epoch: 6, train loss: 33.17268371582031, val loss: 47.729736328125\n",
      "2020-10-29 16:52:11,993 epoch: 7, train loss: 33.026615142822266, val loss: 47.605316162109375\n",
      "2020-10-29 16:52:36,267 epoch: 8, train loss: 32.90724563598633, val loss: 47.515037536621094\n",
      "2020-10-29 16:53:00,803 epoch: 9, train loss: 32.83308410644531, val loss: 47.473426818847656\n",
      "2020-10-29 16:53:25,019 epoch: 10, train loss: 32.71847152709961, val loss: 47.41253662109375\n",
      "2020-10-29 16:53:49,491 epoch: 11, train loss: 32.65684127807617, val loss: 47.3516845703125\n",
      "2020-10-29 16:54:13,776 epoch: 12, train loss: 32.4649543762207, val loss: 47.359642028808594\n",
      "2020-10-29 16:54:38,078 epoch: 13, train loss: 32.3839225769043, val loss: 47.29639434814453\n",
      "2020-10-29 16:55:02,480 epoch: 14, train loss: 32.260074615478516, val loss: 47.25303268432617\n",
      "2020-10-29 16:55:26,870 epoch: 15, train loss: 32.30411148071289, val loss: 47.262367248535156\n",
      "2020-10-29 16:55:50,876 epoch: 16, train loss: 32.05318832397461, val loss: 47.24540328979492\n",
      "2020-10-29 16:56:14,892 epoch: 17, train loss: 31.95688819885254, val loss: 47.24498748779297\n",
      "2020-10-29 16:56:39,394 epoch: 18, train loss: 31.848459243774414, val loss: 47.267791748046875\n",
      "2020-10-29 16:57:03,766 epoch: 19, train loss: 31.759496688842773, val loss: 47.274131774902344\n",
      "2020-10-29 16:57:28,029 epoch: 20, train loss: 31.65078353881836, val loss: 47.323795318603516\n",
      "2020-10-29 16:57:46,499 normalizing counts for prediction\n",
      "2020-10-29 16:57:46,500 filtering for genes in training set\n",
      "2020-10-29 16:57:46,511 0 genes in training set are missing from prediction set\n",
      "2020-10-29 16:57:47,062 starting batch 1 of 2\n",
      "2020-10-29 16:57:47,524 normalizing counts for prediction\n",
      "2020-10-29 16:57:47,524 filtering for genes in training set\n",
      "2020-10-29 16:57:47,533 0 genes in training set are missing from prediction set\n",
      "2020-10-29 16:58:17,861 starting batch 2 of 2\n",
      "2020-10-29 16:58:18,020 normalizing counts for prediction\n",
      "2020-10-29 16:58:18,021 filtering for genes in training set\n",
      "2020-10-29 16:58:18,034 0 genes in training set are missing from prediction set\n"
     ]
    },
    {
     "name": "stdout",
     "output_type": "stream",
     "text": [
      "snRNAseq gbm (1692, 29748) (6807, 29748)\n"
     ]
    },
    {
     "name": "stderr",
     "output_type": "stream",
     "text": [
      "2020-10-29 16:58:21,082 normalizing the expression counts for model training\n",
      "2020-10-29 16:58:27,959 input dataset shape: (8499, 29748)\n",
      "2020-10-29 16:58:27,961 possible cell types: ['B cell', 'Endothelial', 'Fibroblast', 'Malignant', 'Microglia', 'Monocyte', 'Neuron', 'Oligodendrocytes', 'T cells']\n",
      "2020-10-29 16:58:27,962 possible cell types: [('Fibroblast', 1200), ('Neuron', 1200), ('Microglia', 1200), ('Oligodendrocytes', 1200), ('Malignant', 1200), ('T cells', 1200), ('Endothelial', 581), ('B cell', 578), ('Monocyte', 140)]\n",
      "2020-10-29 16:58:30,434 training dataset shape: (3723, 29748)\n",
      "2020-10-29 16:58:30,435 validation dataset shape: (4776, 29748)\n",
      "2020-10-29 16:58:41,820 epoch: 1, train loss: 45.88108825683594, val loss: 47.097232818603516\n",
      "2020-10-29 16:58:52,290 epoch: 2, train loss: 45.138607025146484, val loss: 46.600093841552734\n",
      "2020-10-29 16:59:02,919 epoch: 3, train loss: 44.354984283447266, val loss: 46.20143508911133\n",
      "2020-10-29 16:59:13,389 epoch: 4, train loss: 43.86900329589844, val loss: 45.875709533691406\n",
      "2020-10-29 16:59:23,762 epoch: 5, train loss: 43.49412536621094, val loss: 45.66602325439453\n",
      "2020-10-29 16:59:34,222 epoch: 6, train loss: 43.25929641723633, val loss: 45.56365966796875\n",
      "2020-10-29 16:59:44,671 epoch: 7, train loss: 43.137271881103516, val loss: 45.465782165527344\n",
      "2020-10-29 16:59:55,048 epoch: 8, train loss: 42.872947692871094, val loss: 45.39922332763672\n",
      "2020-10-29 17:00:05,484 epoch: 9, train loss: 42.7613410949707, val loss: 45.322242736816406\n",
      "2020-10-29 17:00:15,968 epoch: 10, train loss: 42.50483703613281, val loss: 45.27689743041992\n",
      "2020-10-29 17:00:26,383 epoch: 11, train loss: 42.39133834838867, val loss: 45.236427307128906\n",
      "2020-10-29 17:00:36,956 epoch: 12, train loss: 42.25358581542969, val loss: 45.207557678222656\n",
      "2020-10-29 17:00:47,536 epoch: 13, train loss: 42.06375503540039, val loss: 45.172698974609375\n",
      "2020-10-29 17:00:58,150 epoch: 14, train loss: 41.98573303222656, val loss: 45.17237091064453\n",
      "2020-10-29 17:01:08,603 epoch: 15, train loss: 41.86240768432617, val loss: 45.140625\n",
      "2020-10-29 17:01:19,319 epoch: 16, train loss: 41.62067413330078, val loss: 45.12571334838867\n",
      "2020-10-29 17:01:29,870 epoch: 17, train loss: 41.54057693481445, val loss: 45.1451301574707\n",
      "2020-10-29 17:01:40,696 epoch: 18, train loss: 41.376548767089844, val loss: 45.13019561767578\n",
      "2020-10-29 17:01:51,105 epoch: 19, train loss: 41.074642181396484, val loss: 45.139930725097656\n",
      "2020-10-29 17:02:01,838 epoch: 20, train loss: 40.997955322265625, val loss: 45.146461486816406\n",
      "2020-10-29 17:02:11,091 normalizing counts for prediction\n",
      "2020-10-29 17:02:11,092 filtering for genes in training set\n",
      "2020-10-29 17:02:11,106 0 genes in training set are missing from prediction set\n",
      "2020-10-29 17:02:11,835 starting batch 1 of 1\n",
      "2020-10-29 17:02:11,977 normalizing counts for prediction\n",
      "2020-10-29 17:02:11,979 filtering for genes in training set\n",
      "2020-10-29 17:02:11,992 0 genes in training set are missing from prediction set\n"
     ]
    }
   ],
   "source": [
    "run_workflow_for_datasets(adata_map, run_pollock_workflow, 'pollock', RESULTS_DIR)"
   ]
  },
  {
   "cell_type": "code",
   "execution_count": 90,
   "metadata": {},
   "outputs": [
    {
     "name": "stdout",
     "output_type": "stream",
     "text": [
      "scRNAseq brca_train_cesc_val (2600, 27131) (8449, 22928)\n"
     ]
    },
    {
     "name": "stderr",
     "output_type": "stream",
     "text": [
      "2020-11-03 10:05:32,144 normalizing the expression counts for model training\n",
      "2020-11-03 10:05:39,440 input dataset shape: (11049, 22662)\n",
      "2020-11-03 10:05:39,442 possible cell types: ['B cell', 'CD4 T cell', 'CD8 T cell', 'Dendritic', 'Endothelial', 'Epithelial', 'Erythrocyte', 'Fibroblast', 'Malignant', 'Mast', 'Monocyte', 'NK', 'Plasma', 'Treg']\n",
      "2020-11-03 10:05:39,444 possible cell types: [('NK', 1200), ('CD8 T cell', 1200), ('Fibroblast', 1200), ('Malignant', 1200), ('Monocyte', 1200), ('Plasma', 1135), ('CD4 T cell', 1118), ('Epithelial', 1000), ('Endothelial', 732), ('Mast', 249), ('Erythrocyte', 215), ('Treg', 200), ('B cell', 200), ('Dendritic', 200)]\n",
      "2020-11-03 10:05:42,660 training dataset shape: (5315, 22662)\n",
      "2020-11-03 10:05:42,662 validation dataset shape: (5734, 22662)\n",
      "2020-11-03 10:05:55,843 epoch: 1, train loss: 34.00298309326172, val loss: 22.467525482177734\n",
      "2020-11-03 10:06:07,968 epoch: 2, train loss: 32.6106071472168, val loss: 21.930818557739258\n",
      "2020-11-03 10:06:20,045 epoch: 3, train loss: 32.40802764892578, val loss: 21.716251373291016\n",
      "2020-11-03 10:06:32,107 epoch: 4, train loss: 31.90435791015625, val loss: 21.60125732421875\n",
      "2020-11-03 10:06:44,279 epoch: 5, train loss: 31.62221908569336, val loss: 21.513755798339844\n",
      "2020-11-03 10:06:56,048 epoch: 6, train loss: 31.748605728149414, val loss: 21.465164184570312\n",
      "2020-11-03 10:07:08,179 epoch: 7, train loss: 31.404029846191406, val loss: 21.405818939208984\n",
      "2020-11-03 10:07:20,245 epoch: 8, train loss: 31.419601440429688, val loss: 21.35858917236328\n",
      "2020-11-03 10:07:32,680 epoch: 9, train loss: 31.196712493896484, val loss: 21.299983978271484\n",
      "2020-11-03 10:07:45,233 epoch: 10, train loss: 31.092208862304688, val loss: 21.261917114257812\n",
      "2020-11-03 10:07:57,535 epoch: 11, train loss: 31.21627426147461, val loss: 21.271453857421875\n",
      "2020-11-03 10:08:09,810 epoch: 12, train loss: 30.760873794555664, val loss: 21.184917449951172\n",
      "2020-11-03 10:08:22,259 epoch: 13, train loss: 30.7459774017334, val loss: 21.15358543395996\n",
      "2020-11-03 10:08:34,660 epoch: 14, train loss: 30.678428649902344, val loss: 21.11815643310547\n",
      "2020-11-03 10:08:46,815 epoch: 15, train loss: 30.747486114501953, val loss: 21.100873947143555\n",
      "2020-11-03 10:08:59,107 epoch: 16, train loss: 30.460763931274414, val loss: 21.06581687927246\n",
      "2020-11-03 10:09:11,310 epoch: 17, train loss: 30.30426597595215, val loss: 21.05541229248047\n",
      "2020-11-03 10:09:23,730 epoch: 18, train loss: 30.25824546813965, val loss: 21.037874221801758\n",
      "2020-11-03 10:09:36,153 epoch: 19, train loss: 30.011714935302734, val loss: 21.022621154785156\n",
      "2020-11-03 10:09:48,693 epoch: 20, train loss: 29.94379234313965, val loss: 21.022994995117188\n",
      "2020-11-03 10:09:59,761 normalizing counts for prediction\n",
      "2020-11-03 10:09:59,762 filtering for genes in training set\n",
      "2020-11-03 10:09:59,772 0 genes in training set are missing from prediction set\n",
      "2020-11-03 10:10:00,329 starting batch 1 of 1\n",
      "2020-11-03 10:10:00,502 normalizing counts for prediction\n",
      "2020-11-03 10:10:00,503 filtering for genes in training set\n",
      "2020-11-03 10:10:00,514 0 genes in training set are missing from prediction set\n"
     ]
    },
    {
     "name": "stdout",
     "output_type": "stream",
     "text": [
      "scRNAseq brca_train_hnscc_val (2600, 27131) (10288, 26929)\n"
     ]
    },
    {
     "name": "stderr",
     "output_type": "stream",
     "text": [
      "2020-11-03 10:10:27,648 normalizing the expression counts for model training\n",
      "2020-11-03 10:10:37,265 input dataset shape: (12888, 25823)\n",
      "2020-11-03 10:10:37,267 possible cell types: ['B cell', 'CD4 T cell', 'CD8 T cell', 'Dendritic', 'Endothelial', 'Erythrocyte', 'Fibroblast', 'Malignant', 'Mast', 'Monocyte', 'NK', 'Plasma', 'Treg']\n",
      "2020-11-03 10:10:37,269 possible cell types: [('NK', 1200), ('CD8 T cell', 1200), ('Endothelial', 1200), ('CD4 T cell', 1200), ('Treg', 1200), ('Malignant', 1200), ('Monocyte', 1200), ('B cell', 1200), ('Mast', 1200), ('Plasma', 1200), ('Erythrocyte', 488), ('Fibroblast', 200), ('Dendritic', 200)]\n",
      "2020-11-03 10:10:41,132 training dataset shape: (5596, 25823)\n",
      "2020-11-03 10:10:41,134 validation dataset shape: (7292, 25823)\n",
      "2020-11-03 10:10:56,815 epoch: 1, train loss: 30.21483612060547, val loss: 24.32537078857422\n",
      "2020-11-03 10:11:11,807 epoch: 2, train loss: 29.540552139282227, val loss: 23.86591339111328\n",
      "2020-11-03 10:11:26,608 epoch: 3, train loss: 29.025232315063477, val loss: 23.64142417907715\n",
      "2020-11-03 10:11:41,525 epoch: 4, train loss: 28.784914016723633, val loss: 23.551746368408203\n",
      "2020-11-03 10:11:56,139 epoch: 5, train loss: 28.550310134887695, val loss: 23.45391845703125\n",
      "2020-11-03 10:12:10,866 epoch: 6, train loss: 28.384410858154297, val loss: 23.385040283203125\n",
      "2020-11-03 10:12:25,904 epoch: 7, train loss: 28.31096839904785, val loss: 23.340166091918945\n",
      "2020-11-03 10:12:40,752 epoch: 8, train loss: 28.140108108520508, val loss: 23.303951263427734\n",
      "2020-11-03 10:12:55,789 epoch: 9, train loss: 28.020965576171875, val loss: 23.279808044433594\n",
      "2020-11-03 10:13:11,018 epoch: 10, train loss: 27.954051971435547, val loss: 23.246971130371094\n",
      "2020-11-03 10:13:25,836 epoch: 11, train loss: 27.810789108276367, val loss: 23.209148406982422\n",
      "2020-11-03 10:13:40,935 epoch: 12, train loss: 27.709735870361328, val loss: 23.172231674194336\n",
      "2020-11-03 10:13:55,815 epoch: 13, train loss: 27.623279571533203, val loss: 23.139896392822266\n",
      "2020-11-03 10:14:10,907 epoch: 14, train loss: 27.527320861816406, val loss: 23.102596282958984\n",
      "2020-11-03 10:14:25,975 epoch: 15, train loss: 27.410921096801758, val loss: 23.07596206665039\n",
      "2020-11-03 10:14:41,118 epoch: 16, train loss: 27.349102020263672, val loss: 23.056560516357422\n",
      "2020-11-03 10:14:56,272 epoch: 17, train loss: 27.242170333862305, val loss: 23.042346954345703\n",
      "2020-11-03 10:15:11,302 epoch: 18, train loss: 27.168903350830078, val loss: 23.018142700195312\n",
      "2020-11-03 10:15:26,581 epoch: 19, train loss: 27.078454971313477, val loss: 23.005878448486328\n",
      "2020-11-03 10:15:41,435 epoch: 20, train loss: 27.016355514526367, val loss: 22.98989486694336\n",
      "2020-11-03 10:15:55,134 normalizing counts for prediction\n",
      "2020-11-03 10:15:55,135 filtering for genes in training set\n",
      "2020-11-03 10:15:55,145 0 genes in training set are missing from prediction set\n",
      "2020-11-03 10:15:55,527 starting batch 1 of 2\n",
      "2020-11-03 10:15:55,721 normalizing counts for prediction\n",
      "2020-11-03 10:15:55,722 filtering for genes in training set\n",
      "2020-11-03 10:15:55,732 0 genes in training set are missing from prediction set\n",
      "2020-11-03 10:16:21,625 starting batch 2 of 2\n",
      "2020-11-03 10:16:21,743 normalizing counts for prediction\n",
      "2020-11-03 10:16:21,744 filtering for genes in training set\n",
      "2020-11-03 10:16:21,755 0 genes in training set are missing from prediction set\n"
     ]
    },
    {
     "name": "stdout",
     "output_type": "stream",
     "text": [
      "scRNAseq brca_train_melanoma_val (2600, 27131) (6735, 23452)\n"
     ]
    },
    {
     "name": "stderr",
     "output_type": "stream",
     "text": [
      "2020-11-03 10:16:24,276 normalizing the expression counts for model training\n",
      "2020-11-03 10:16:30,130 input dataset shape: (9335, 21538)\n",
      "2020-11-03 10:16:30,132 possible cell types: ['B cell', 'CD4 T cell', 'CD8 T cell', 'Dendritic', 'Endothelial', 'Erythrocyte', 'Fibroblast', 'Malignant', 'Mast', 'Monocyte', 'NK', 'Plasma', 'Treg']\n",
      "2020-11-03 10:16:30,133 possible cell types: [('CD8 T cell', 1200), ('CD4 T cell', 1200), ('Malignant', 1200), ('Monocyte', 1200), ('B cell', 1200), ('Treg', 862), ('Dendritic', 741), ('NK', 538), ('Fibroblast', 321), ('Plasma', 273), ('Endothelial', 200), ('Mast', 200), ('Erythrocyte', 200)]\n",
      "2020-11-03 10:16:32,486 training dataset shape: (4676, 21538)\n",
      "2020-11-03 10:16:32,487 validation dataset shape: (4659, 21538)\n",
      "2020-11-03 10:16:43,964 epoch: 1, train loss: 36.257877349853516, val loss: 46.29212951660156\n",
      "2020-11-03 10:16:54,352 epoch: 2, train loss: 35.411956787109375, val loss: 45.69017791748047\n",
      "2020-11-03 10:17:04,734 epoch: 3, train loss: 34.414100646972656, val loss: 44.82820129394531\n",
      "2020-11-03 10:17:15,215 epoch: 4, train loss: 34.2485466003418, val loss: 44.558082580566406\n",
      "2020-11-03 10:17:25,619 epoch: 5, train loss: 33.88395690917969, val loss: 44.37346649169922\n",
      "2020-11-03 10:17:36,029 epoch: 6, train loss: 33.473846435546875, val loss: 44.219146728515625\n",
      "2020-11-03 10:17:46,585 epoch: 7, train loss: 33.6269645690918, val loss: 44.10765838623047\n",
      "2020-11-03 10:17:56,875 epoch: 8, train loss: 33.3357048034668, val loss: 43.984371185302734\n",
      "2020-11-03 10:18:07,283 epoch: 9, train loss: 33.01499557495117, val loss: 43.848968505859375\n",
      "2020-11-03 10:18:17,917 epoch: 10, train loss: 32.97789001464844, val loss: 43.734344482421875\n",
      "2020-11-03 10:18:28,471 epoch: 11, train loss: 32.74220275878906, val loss: 43.651336669921875\n",
      "2020-11-03 10:18:39,296 epoch: 12, train loss: 32.84859848022461, val loss: 43.56760025024414\n",
      "2020-11-03 10:18:49,961 epoch: 13, train loss: 32.527137756347656, val loss: 43.52665710449219\n",
      "2020-11-03 10:19:00,708 epoch: 14, train loss: 32.4800910949707, val loss: 43.46372985839844\n",
      "2020-11-03 10:19:11,399 epoch: 15, train loss: 32.37306213378906, val loss: 43.43970489501953\n",
      "2020-11-03 10:19:22,074 epoch: 16, train loss: 32.5491828918457, val loss: 43.61335754394531\n",
      "2020-11-03 10:19:32,757 epoch: 17, train loss: 32.141380310058594, val loss: 43.371334075927734\n",
      "2020-11-03 10:19:43,503 epoch: 18, train loss: 31.986774444580078, val loss: 43.36054229736328\n",
      "2020-11-03 10:19:54,049 epoch: 19, train loss: 31.9576473236084, val loss: 43.357261657714844\n",
      "2020-11-03 10:20:04,742 epoch: 20, train loss: 31.694671630859375, val loss: 43.306907653808594\n",
      "2020-11-03 10:20:13,803 normalizing counts for prediction\n",
      "2020-11-03 10:20:13,804 filtering for genes in training set\n",
      "2020-11-03 10:20:13,814 0 genes in training set are missing from prediction set\n",
      "2020-11-03 10:20:14,354 starting batch 1 of 1\n",
      "2020-11-03 10:20:14,473 normalizing counts for prediction\n",
      "2020-11-03 10:20:14,474 filtering for genes in training set\n",
      "2020-11-03 10:20:14,484 0 genes in training set are missing from prediction set\n"
     ]
    },
    {
     "name": "stdout",
     "output_type": "stream",
     "text": [
      "scRNAseq brca_train_pbmc_val (2600, 27131) (1698, 32738)\n"
     ]
    },
    {
     "name": "stderr",
     "output_type": "stream",
     "text": [
      "2020-11-03 10:20:27,546 normalizing the expression counts for model training\n",
      "2020-11-03 10:20:29,854 input dataset shape: (4298, 18511)\n",
      "2020-11-03 10:20:29,856 possible cell types: ['B cell', 'CD4 T cell', 'CD8 T cell', 'Dendritic', 'Endothelial', 'Erythrocyte', 'Fibroblast', 'Malignant', 'Mast', 'Megakaryocyte', 'Monocyte', 'NK', 'Plasma', 'Treg']\n",
      "2020-11-03 10:20:29,857 possible cell types: [('CD4 T cell', 1143), ('Monocyte', 634), ('B cell', 341), ('CD8 T cell', 306), ('NK', 263), ('Dendritic', 208), ('Endothelial', 200), ('Treg', 200), ('Fibroblast', 200), ('Malignant', 200), ('Mast', 200), ('Plasma', 200), ('Erythrocyte', 200), ('Megakaryocyte', 3)]\n",
      "2020-11-03 10:20:30,844 training dataset shape: (2857, 18511)\n",
      "2020-11-03 10:20:30,845 validation dataset shape: (1441, 18511)\n"
     ]
    },
    {
     "name": "stdout",
     "output_type": "stream",
     "text": [
      "WARNING:tensorflow:5 out of the last 14 calls to <function compute_loss at 0x7f13991523b0> triggered tf.function retracing. Tracing is expensive and the excessive number of tracings is likely due to passing python objects instead of tensors. Also, tf.function has experimental_relax_shapes=True option that relaxes argument shapes that can avoid unnecessary retracing. Please refer to https://www.tensorflow.org/tutorials/customization/performance#python_or_tensor_args and https://www.tensorflow.org/api_docs/python/tf/function for more details.\n"
     ]
    },
    {
     "name": "stderr",
     "output_type": "stream",
     "text": [
      "2020-11-03 10:20:37,022 5 out of the last 14 calls to <function compute_loss at 0x7f13991523b0> triggered tf.function retracing. Tracing is expensive and the excessive number of tracings is likely due to passing python objects instead of tensors. Also, tf.function has experimental_relax_shapes=True option that relaxes argument shapes that can avoid unnecessary retracing. Please refer to https://www.tensorflow.org/tutorials/customization/performance#python_or_tensor_args and https://www.tensorflow.org/api_docs/python/tf/function for more details.\n"
     ]
    },
    {
     "name": "stdout",
     "output_type": "stream",
     "text": [
      "WARNING:tensorflow:5 out of the last 12 calls to <function compute_loss at 0x7f13991523b0> triggered tf.function retracing. Tracing is expensive and the excessive number of tracings is likely due to passing python objects instead of tensors. Also, tf.function has experimental_relax_shapes=True option that relaxes argument shapes that can avoid unnecessary retracing. Please refer to https://www.tensorflow.org/tutorials/customization/performance#python_or_tensor_args and https://www.tensorflow.org/api_docs/python/tf/function for more details.\n"
     ]
    },
    {
     "name": "stderr",
     "output_type": "stream",
     "text": [
      "2020-11-03 10:20:37,199 5 out of the last 12 calls to <function compute_loss at 0x7f13991523b0> triggered tf.function retracing. Tracing is expensive and the excessive number of tracings is likely due to passing python objects instead of tensors. Also, tf.function has experimental_relax_shapes=True option that relaxes argument shapes that can avoid unnecessary retracing. Please refer to https://www.tensorflow.org/tutorials/customization/performance#python_or_tensor_args and https://www.tensorflow.org/api_docs/python/tf/function for more details.\n"
     ]
    },
    {
     "name": "stdout",
     "output_type": "stream",
     "text": [
      "WARNING:tensorflow:5 out of the last 11 calls to <function compute_loss at 0x7f13991523b0> triggered tf.function retracing. Tracing is expensive and the excessive number of tracings is likely due to passing python objects instead of tensors. Also, tf.function has experimental_relax_shapes=True option that relaxes argument shapes that can avoid unnecessary retracing. Please refer to https://www.tensorflow.org/tutorials/customization/performance#python_or_tensor_args and https://www.tensorflow.org/api_docs/python/tf/function for more details.\n"
     ]
    },
    {
     "name": "stderr",
     "output_type": "stream",
     "text": [
      "2020-11-03 10:20:37,303 5 out of the last 11 calls to <function compute_loss at 0x7f13991523b0> triggered tf.function retracing. Tracing is expensive and the excessive number of tracings is likely due to passing python objects instead of tensors. Also, tf.function has experimental_relax_shapes=True option that relaxes argument shapes that can avoid unnecessary retracing. Please refer to https://www.tensorflow.org/tutorials/customization/performance#python_or_tensor_args and https://www.tensorflow.org/api_docs/python/tf/function for more details.\n",
      "2020-11-03 10:20:38,505 epoch: 1, train loss: 36.03363800048828, val loss: 45.208377838134766\n",
      "2020-11-03 10:20:44,841 epoch: 2, train loss: 35.55154037475586, val loss: 44.70466232299805\n",
      "2020-11-03 10:20:51,518 epoch: 3, train loss: 35.25004959106445, val loss: 44.343505859375\n",
      "2020-11-03 10:20:57,978 epoch: 4, train loss: 34.761714935302734, val loss: 43.75205993652344\n",
      "2020-11-03 10:21:04,394 epoch: 5, train loss: 34.37222671508789, val loss: 43.4126091003418\n",
      "2020-11-03 10:21:10,731 epoch: 6, train loss: 34.10478591918945, val loss: 43.17301940917969\n",
      "2020-11-03 10:21:17,001 epoch: 7, train loss: 33.877193450927734, val loss: 42.886878967285156\n",
      "2020-11-03 10:21:23,336 epoch: 8, train loss: 33.60971450805664, val loss: 42.671653747558594\n",
      "2020-11-03 10:21:29,721 epoch: 9, train loss: 33.379981994628906, val loss: 42.47895050048828\n",
      "2020-11-03 10:21:36,065 epoch: 10, train loss: 33.251556396484375, val loss: 42.355438232421875\n",
      "2020-11-03 10:21:42,401 epoch: 11, train loss: 33.1485595703125, val loss: 42.25421905517578\n",
      "2020-11-03 10:21:48,840 epoch: 12, train loss: 33.01545333862305, val loss: 42.161563873291016\n",
      "2020-11-03 10:21:55,203 epoch: 13, train loss: 32.88321304321289, val loss: 42.0659065246582\n",
      "2020-11-03 10:22:01,554 epoch: 14, train loss: 32.7417106628418, val loss: 41.996150970458984\n",
      "2020-11-03 10:22:07,941 epoch: 15, train loss: 32.65563201904297, val loss: 41.91456604003906\n",
      "2020-11-03 10:22:14,294 epoch: 16, train loss: 32.5538330078125, val loss: 41.85480880737305\n",
      "2020-11-03 10:22:20,631 epoch: 17, train loss: 32.39444351196289, val loss: 41.782508850097656\n",
      "2020-11-03 10:22:26,936 epoch: 18, train loss: 32.317623138427734, val loss: 41.70886993408203\n",
      "2020-11-03 10:22:33,300 epoch: 19, train loss: 32.18136978149414, val loss: 41.637359619140625\n",
      "2020-11-03 10:22:39,610 epoch: 20, train loss: 32.11492919921875, val loss: 41.599449157714844\n",
      "2020-11-03 10:22:44,202 normalizing counts for prediction\n",
      "2020-11-03 10:22:44,204 filtering for genes in training set\n",
      "2020-11-03 10:22:44,214 0 genes in training set are missing from prediction set\n",
      "2020-11-03 10:22:44,573 starting batch 1 of 1\n",
      "2020-11-03 10:22:44,640 normalizing counts for prediction\n",
      "2020-11-03 10:22:44,641 filtering for genes in training set\n",
      "2020-11-03 10:22:44,650 0 genes in training set are missing from prediction set\n"
     ]
    },
    {
     "name": "stdout",
     "output_type": "stream",
     "text": [
      "scRNAseq brca_train_pdac_val (2600, 27131) (15435, 28756)\n"
     ]
    },
    {
     "name": "stderr",
     "output_type": "stream",
     "text": [
      "2020-11-03 10:22:50,884 normalizing the expression counts for model training\n",
      "2020-11-03 10:23:04,675 input dataset shape: (18035, 26833)\n",
      "2020-11-03 10:23:04,678 possible cell types: ['Acinar', 'B cell', 'CD4 T cell', 'CD8 T cell', 'Dendritic', 'Endothelial', 'Epithelial', 'Erythrocyte', 'Fibroblast', 'Islet', 'Malignant', 'Mast', 'Monocyte', 'NK', 'Plasma', 'Treg', 'Tuft']\n",
      "2020-11-03 10:23:04,681 possible cell types: [('NK', 1200), ('CD8 T cell', 1200), ('Endothelial', 1200), ('CD4 T cell', 1200), ('Treg', 1200), ('Fibroblast', 1200), ('Malignant', 1200), ('Monocyte', 1200), ('B cell', 1200), ('Mast', 1200), ('Plasma', 1200), ('Dendritic', 1200), ('Acinar', 1000), ('Islet', 1000), ('Epithelial', 968), ('Erythrocyte', 612), ('Tuft', 55)]\n",
      "2020-11-03 10:23:11,003 training dataset shape: (7848, 26833)\n",
      "2020-11-03 10:23:11,004 validation dataset shape: (10187, 26833)\n",
      "2020-11-03 10:23:32,593 epoch: 1, train loss: 30.22702980041504, val loss: 26.084396362304688\n",
      "2020-11-03 10:23:53,335 epoch: 2, train loss: 29.158714294433594, val loss: 25.445533752441406\n",
      "2020-11-03 10:24:14,130 epoch: 3, train loss: 28.72593879699707, val loss: 25.19190216064453\n",
      "2020-11-03 10:24:35,049 epoch: 4, train loss: 28.439956665039062, val loss: 25.054306030273438\n",
      "2020-11-03 10:24:55,848 epoch: 5, train loss: 28.226552963256836, val loss: 24.962913513183594\n",
      "2020-11-03 10:25:16,746 epoch: 6, train loss: 28.030033111572266, val loss: 24.8739070892334\n",
      "2020-11-03 10:25:37,850 epoch: 7, train loss: 27.87862205505371, val loss: 24.7972412109375\n",
      "2020-11-03 10:25:58,819 epoch: 8, train loss: 27.763113021850586, val loss: 24.728195190429688\n",
      "2020-11-03 10:26:20,237 epoch: 9, train loss: 27.630937576293945, val loss: 24.67269515991211\n",
      "2020-11-03 10:26:41,731 epoch: 10, train loss: 27.530929565429688, val loss: 24.62430763244629\n",
      "2020-11-03 10:27:02,828 epoch: 11, train loss: 27.423555374145508, val loss: 24.5867919921875\n",
      "2020-11-03 10:27:24,233 epoch: 12, train loss: 27.325517654418945, val loss: 24.549272537231445\n",
      "2020-11-03 10:27:45,625 epoch: 13, train loss: 27.256792068481445, val loss: 24.52173614501953\n",
      "2020-11-03 10:28:07,107 epoch: 14, train loss: 27.168317794799805, val loss: 24.487293243408203\n",
      "2020-11-03 10:28:28,466 epoch: 15, train loss: 27.082468032836914, val loss: 24.46090316772461\n",
      "2020-11-03 10:28:49,952 epoch: 16, train loss: 26.996871948242188, val loss: 24.438884735107422\n",
      "2020-11-03 10:29:11,619 epoch: 17, train loss: 26.911027908325195, val loss: 24.413707733154297\n",
      "2020-11-03 10:29:32,686 epoch: 18, train loss: 26.821300506591797, val loss: 24.404212951660156\n",
      "2020-11-03 10:29:53,838 epoch: 19, train loss: 26.74675750732422, val loss: 24.39522933959961\n",
      "2020-11-03 10:30:15,052 epoch: 20, train loss: 26.65162467956543, val loss: 24.385719299316406\n",
      "2020-11-03 10:30:33,992 normalizing counts for prediction\n",
      "2020-11-03 10:30:33,993 filtering for genes in training set\n",
      "2020-11-03 10:30:34,001 0 genes in training set are missing from prediction set\n",
      "2020-11-03 10:30:34,484 starting batch 1 of 2\n",
      "2020-11-03 10:30:34,662 normalizing counts for prediction\n",
      "2020-11-03 10:30:34,663 filtering for genes in training set\n",
      "2020-11-03 10:30:34,671 0 genes in training set are missing from prediction set\n",
      "2020-11-03 10:31:00,002 starting batch 2 of 2\n",
      "2020-11-03 10:31:00,488 normalizing counts for prediction\n",
      "2020-11-03 10:31:00,489 filtering for genes in training set\n",
      "2020-11-03 10:31:00,500 0 genes in training set are missing from prediction set\n"
     ]
    },
    {
     "name": "stdout",
     "output_type": "stream",
     "text": [
      "scRNAseq cesc_train_brca_val (1941, 22928) (11253, 27131)\n"
     ]
    },
    {
     "name": "stderr",
     "output_type": "stream",
     "text": [
      "2020-11-03 10:31:16,411 normalizing the expression counts for model training\n",
      "2020-11-03 10:31:25,071 input dataset shape: (13194, 22662)\n",
      "2020-11-03 10:31:25,073 possible cell types: ['B cell', 'CD4 T cell', 'CD8 T cell', 'Dendritic', 'Endothelial', 'Epithelial', 'Erythrocyte', 'Fibroblast', 'Malignant', 'Mast', 'Monocyte', 'NK', 'Plasma', 'Treg']\n",
      "2020-11-03 10:31:25,076 possible cell types: [('Fibroblast', 1200), ('Endothelial', 1200), ('Monocyte', 1200), ('CD8 T cell', 1200), ('CD4 T cell', 1200), ('Plasma', 1200), ('Malignant', 1200), ('NK', 1200), ('Treg', 1000), ('B cell', 1000), ('Mast', 635), ('Dendritic', 392), ('Erythrocyte', 367), ('Epithelial', 200)]\n",
      "2020-11-03 10:31:28,885 training dataset shape: (6135, 22662)\n",
      "2020-11-03 10:31:28,886 validation dataset shape: (7059, 22662)\n",
      "2020-11-03 10:31:43,517 epoch: 1, train loss: 30.561330795288086, val loss: 44.92002868652344\n",
      "2020-11-03 10:31:57,614 epoch: 2, train loss: 29.781095504760742, val loss: 43.5384521484375\n",
      "2020-11-03 10:32:11,571 epoch: 3, train loss: 29.348337173461914, val loss: 42.65824890136719\n",
      "2020-11-03 10:32:25,500 epoch: 4, train loss: 29.01628303527832, val loss: 42.24114227294922\n",
      "2020-11-03 10:32:39,416 epoch: 5, train loss: 28.781463623046875, val loss: 42.00334930419922\n",
      "2020-11-03 10:32:53,197 epoch: 6, train loss: 28.596961975097656, val loss: 41.86387634277344\n",
      "2020-11-03 10:33:07,168 epoch: 7, train loss: 28.453323364257812, val loss: 41.67985534667969\n",
      "2020-11-03 10:33:20,888 epoch: 8, train loss: 28.313026428222656, val loss: 41.54283905029297\n",
      "2020-11-03 10:33:34,799 epoch: 9, train loss: 28.193456649780273, val loss: 41.3958740234375\n",
      "2020-11-03 10:33:48,822 epoch: 10, train loss: 28.073423385620117, val loss: 41.27159118652344\n",
      "2020-11-03 10:34:02,497 epoch: 11, train loss: 27.967443466186523, val loss: 41.17281723022461\n",
      "2020-11-03 10:34:16,407 epoch: 12, train loss: 27.882749557495117, val loss: 41.099395751953125\n",
      "2020-11-03 10:34:30,503 epoch: 13, train loss: 27.776533126831055, val loss: 41.027488708496094\n",
      "2020-11-03 10:34:44,558 epoch: 14, train loss: 27.689485549926758, val loss: 40.997764587402344\n",
      "2020-11-03 10:34:58,882 epoch: 15, train loss: 27.58678436279297, val loss: 40.95411682128906\n",
      "2020-11-03 10:35:12,953 epoch: 16, train loss: 27.503618240356445, val loss: 40.94732666015625\n",
      "2020-11-03 10:35:26,991 epoch: 17, train loss: 27.415441513061523, val loss: 40.91548156738281\n",
      "2020-11-03 10:35:41,251 epoch: 18, train loss: 27.319913864135742, val loss: 40.88953399658203\n",
      "2020-11-03 10:35:55,392 epoch: 19, train loss: 27.223600387573242, val loss: 40.89900207519531\n",
      "2020-11-03 10:36:09,403 epoch: 20, train loss: 27.12407875061035, val loss: 40.89118957519531\n",
      "2020-11-03 10:36:22,269 normalizing counts for prediction\n",
      "2020-11-03 10:36:22,270 filtering for genes in training set\n",
      "2020-11-03 10:36:22,278 0 genes in training set are missing from prediction set\n",
      "2020-11-03 10:36:22,722 starting batch 1 of 2\n",
      "2020-11-03 10:36:22,868 normalizing counts for prediction\n",
      "2020-11-03 10:36:22,869 filtering for genes in training set\n",
      "2020-11-03 10:36:22,876 0 genes in training set are missing from prediction set\n",
      "2020-11-03 10:36:47,644 starting batch 2 of 2\n",
      "2020-11-03 10:36:47,778 normalizing counts for prediction\n",
      "2020-11-03 10:36:47,778 filtering for genes in training set\n",
      "2020-11-03 10:36:47,789 0 genes in training set are missing from prediction set\n"
     ]
    },
    {
     "name": "stdout",
     "output_type": "stream",
     "text": [
      "scRNAseq cesc_train_hnscc_val (1941, 22928) (10288, 26929)\n"
     ]
    },
    {
     "name": "stderr",
     "output_type": "stream",
     "text": [
      "2020-11-03 10:36:53,455 normalizing the expression counts for model training\n",
      "2020-11-03 10:37:01,370 input dataset shape: (12229, 22756)\n",
      "2020-11-03 10:37:01,372 possible cell types: ['B cell', 'CD4 T cell', 'CD8 T cell', 'Endothelial', 'Epithelial', 'Erythrocyte', 'Fibroblast', 'Malignant', 'Mast', 'Monocyte', 'NK', 'Plasma', 'Treg']\n",
      "2020-11-03 10:37:01,374 possible cell types: [('Endothelial', 1200), ('Monocyte', 1200), ('CD8 T cell', 1200), ('CD4 T cell', 1200), ('Plasma', 1200), ('Malignant', 1200), ('NK', 1200), ('Mast', 1089), ('Treg', 1000), ('B cell', 1000), ('Erythrocyte', 340), ('Fibroblast', 200), ('Epithelial', 200)]\n",
      "2020-11-03 10:37:04,833 training dataset shape: (5539, 22756)\n",
      "2020-11-03 10:37:04,834 validation dataset shape: (6690, 22756)\n",
      "2020-11-03 10:37:17,877 epoch: 1, train loss: 30.53839111328125, val loss: 37.41382598876953\n",
      "2020-11-03 10:37:29,689 epoch: 2, train loss: 29.597204208374023, val loss: 36.502113342285156\n",
      "2020-11-03 10:37:41,769 epoch: 3, train loss: 29.200725555419922, val loss: 35.994510650634766\n",
      "2020-11-03 10:37:54,029 epoch: 4, train loss: 29.004520416259766, val loss: 35.70256805419922\n",
      "2020-11-03 10:38:06,191 epoch: 5, train loss: 28.776308059692383, val loss: 35.51200485229492\n",
      "2020-11-03 10:38:18,139 epoch: 6, train loss: 28.56566619873047, val loss: 35.33577346801758\n",
      "2020-11-03 10:38:29,988 epoch: 7, train loss: 28.42563247680664, val loss: 35.16624450683594\n",
      "2020-11-03 10:38:42,150 epoch: 8, train loss: 28.263195037841797, val loss: 35.05047607421875\n",
      "2020-11-03 10:38:54,523 epoch: 9, train loss: 28.145191192626953, val loss: 34.9670524597168\n",
      "2020-11-03 10:39:06,713 epoch: 10, train loss: 28.039020538330078, val loss: 34.913818359375\n",
      "2020-11-03 10:39:18,764 epoch: 11, train loss: 27.97441864013672, val loss: 34.87379455566406\n",
      "2020-11-03 10:39:31,088 epoch: 12, train loss: 27.844707489013672, val loss: 34.78958511352539\n",
      "2020-11-03 10:39:43,423 epoch: 13, train loss: 27.748226165771484, val loss: 34.753326416015625\n",
      "2020-11-03 10:39:55,325 epoch: 14, train loss: 27.61557388305664, val loss: 34.71565246582031\n",
      "2020-11-03 10:40:07,336 epoch: 15, train loss: 27.548490524291992, val loss: 34.67732238769531\n",
      "2020-11-03 10:40:19,487 epoch: 16, train loss: 27.456239700317383, val loss: 34.6656379699707\n",
      "2020-11-03 10:40:31,775 epoch: 17, train loss: 27.3974552154541, val loss: 34.650360107421875\n",
      "2020-11-03 10:40:43,787 epoch: 18, train loss: 27.278017044067383, val loss: 34.590179443359375\n",
      "2020-11-03 10:40:56,145 epoch: 19, train loss: 27.22489356994629, val loss: 34.57331466674805\n",
      "2020-11-03 10:41:08,583 epoch: 20, train loss: 27.158449172973633, val loss: 34.57828140258789\n",
      "2020-11-03 10:41:20,424 normalizing counts for prediction\n",
      "2020-11-03 10:41:20,425 filtering for genes in training set\n",
      "2020-11-03 10:41:20,436 0 genes in training set are missing from prediction set\n",
      "2020-11-03 10:41:21,007 starting batch 1 of 2\n",
      "2020-11-03 10:41:21,490 normalizing counts for prediction\n",
      "2020-11-03 10:41:21,491 filtering for genes in training set\n",
      "2020-11-03 10:41:21,500 0 genes in training set are missing from prediction set\n",
      "2020-11-03 10:41:46,717 starting batch 2 of 2\n",
      "2020-11-03 10:41:46,814 normalizing counts for prediction\n",
      "2020-11-03 10:41:46,815 filtering for genes in training set\n",
      "2020-11-03 10:41:46,824 0 genes in training set are missing from prediction set\n"
     ]
    },
    {
     "name": "stdout",
     "output_type": "stream",
     "text": [
      "scRNAseq cesc_train_melanoma_val (1941, 22928) (6735, 23452)\n"
     ]
    },
    {
     "name": "stderr",
     "output_type": "stream",
     "text": [
      "2020-11-03 10:41:49,253 normalizing the expression counts for model training\n",
      "2020-11-03 10:41:54,263 input dataset shape: (8676, 20046)\n",
      "2020-11-03 10:41:54,265 possible cell types: ['B cell', 'CD4 T cell', 'CD8 T cell', 'Dendritic', 'Endothelial', 'Epithelial', 'Erythrocyte', 'Fibroblast', 'Malignant', 'Mast', 'Monocyte', 'NK', 'Plasma', 'Treg']\n",
      "2020-11-03 10:41:54,267 possible cell types: [('Monocyte', 1200), ('CD8 T cell', 1200), ('CD4 T cell', 1200), ('Malignant', 1200), ('B cell', 1000), ('Treg', 662), ('Dendritic', 541), ('NK', 538), ('Fibroblast', 321), ('Plasma', 273), ('Endothelial', 200), ('Epithelial', 200), ('Mast', 89), ('Erythrocyte', 52)]\n",
      "2020-11-03 10:41:56,423 training dataset shape: (4410, 20046)\n",
      "2020-11-03 10:41:56,424 validation dataset shape: (4266, 20046)\n"
     ]
    },
    {
     "name": "stdout",
     "output_type": "stream",
     "text": [
      "WARNING:tensorflow:5 out of the last 14 calls to <function compute_loss at 0x7f13991523b0> triggered tf.function retracing. Tracing is expensive and the excessive number of tracings is likely due to passing python objects instead of tensors. Also, tf.function has experimental_relax_shapes=True option that relaxes argument shapes that can avoid unnecessary retracing. Please refer to https://www.tensorflow.org/tutorials/customization/performance#python_or_tensor_args and https://www.tensorflow.org/api_docs/python/tf/function for more details.\n"
     ]
    },
    {
     "name": "stderr",
     "output_type": "stream",
     "text": [
      "2020-11-03 10:42:05,522 5 out of the last 14 calls to <function compute_loss at 0x7f13991523b0> triggered tf.function retracing. Tracing is expensive and the excessive number of tracings is likely due to passing python objects instead of tensors. Also, tf.function has experimental_relax_shapes=True option that relaxes argument shapes that can avoid unnecessary retracing. Please refer to https://www.tensorflow.org/tutorials/customization/performance#python_or_tensor_args and https://www.tensorflow.org/api_docs/python/tf/function for more details.\n"
     ]
    },
    {
     "name": "stdout",
     "output_type": "stream",
     "text": [
      "WARNING:tensorflow:5 out of the last 11 calls to <function compute_loss at 0x7f13991523b0> triggered tf.function retracing. Tracing is expensive and the excessive number of tracings is likely due to passing python objects instead of tensors. Also, tf.function has experimental_relax_shapes=True option that relaxes argument shapes that can avoid unnecessary retracing. Please refer to https://www.tensorflow.org/tutorials/customization/performance#python_or_tensor_args and https://www.tensorflow.org/api_docs/python/tf/function for more details.\n"
     ]
    },
    {
     "name": "stderr",
     "output_type": "stream",
     "text": [
      "2020-11-03 10:42:05,755 5 out of the last 11 calls to <function compute_loss at 0x7f13991523b0> triggered tf.function retracing. Tracing is expensive and the excessive number of tracings is likely due to passing python objects instead of tensors. Also, tf.function has experimental_relax_shapes=True option that relaxes argument shapes that can avoid unnecessary retracing. Please refer to https://www.tensorflow.org/tutorials/customization/performance#python_or_tensor_args and https://www.tensorflow.org/api_docs/python/tf/function for more details.\n",
      "2020-11-03 10:42:07,099 epoch: 1, train loss: 30.1329288482666, val loss: 45.5561637878418\n",
      "2020-11-03 10:42:16,659 epoch: 2, train loss: 29.309389114379883, val loss: 44.859954833984375\n",
      "2020-11-03 10:42:26,204 epoch: 3, train loss: 28.941333770751953, val loss: 44.25425720214844\n",
      "2020-11-03 10:42:35,777 epoch: 4, train loss: 28.483665466308594, val loss: 43.5316276550293\n",
      "2020-11-03 10:42:45,386 epoch: 5, train loss: 28.12422752380371, val loss: 42.98175811767578\n",
      "2020-11-03 10:42:55,128 epoch: 6, train loss: 27.921531677246094, val loss: 42.68946075439453\n",
      "2020-11-03 10:43:04,769 epoch: 7, train loss: 27.765005111694336, val loss: 42.4908332824707\n",
      "2020-11-03 10:43:14,493 epoch: 8, train loss: 27.630016326904297, val loss: 42.33545684814453\n",
      "2020-11-03 10:43:23,857 epoch: 9, train loss: 27.496583938598633, val loss: 42.24245834350586\n",
      "2020-11-03 10:43:33,478 epoch: 10, train loss: 27.396451950073242, val loss: 42.16236877441406\n",
      "2020-11-03 10:43:43,100 epoch: 11, train loss: 27.26919174194336, val loss: 42.058372497558594\n",
      "2020-11-03 10:43:52,830 epoch: 12, train loss: 27.14250373840332, val loss: 41.98051452636719\n",
      "2020-11-03 10:44:02,519 epoch: 13, train loss: 26.992578506469727, val loss: 41.86170196533203\n",
      "2020-11-03 10:44:12,414 epoch: 14, train loss: 26.86248207092285, val loss: 41.810813903808594\n",
      "2020-11-03 10:44:22,075 epoch: 15, train loss: 26.711374282836914, val loss: 41.75032043457031\n",
      "2020-11-03 10:44:31,665 epoch: 16, train loss: 26.597875595092773, val loss: 41.722679138183594\n",
      "2020-11-03 10:44:41,417 epoch: 17, train loss: 26.434207916259766, val loss: 41.83729934692383\n",
      "2020-11-03 10:44:51,006 epoch: 18, train loss: 26.282621383666992, val loss: 41.764991760253906\n",
      "2020-11-03 10:45:00,660 epoch: 19, train loss: 26.125566482543945, val loss: 41.87251281738281\n",
      "2020-11-03 10:45:10,239 epoch: 20, train loss: 25.982927322387695, val loss: 41.7919807434082\n",
      "2020-11-03 10:45:18,300 normalizing counts for prediction\n",
      "2020-11-03 10:45:18,302 filtering for genes in training set\n",
      "2020-11-03 10:45:18,312 0 genes in training set are missing from prediction set\n",
      "2020-11-03 10:45:18,831 starting batch 1 of 1\n",
      "2020-11-03 10:45:18,948 normalizing counts for prediction\n",
      "2020-11-03 10:45:18,949 filtering for genes in training set\n",
      "2020-11-03 10:45:18,959 0 genes in training set are missing from prediction set\n"
     ]
    },
    {
     "name": "stdout",
     "output_type": "stream",
     "text": [
      "scRNAseq cesc_train_pbmc_val (1941, 22928) (1698, 32738)\n"
     ]
    },
    {
     "name": "stderr",
     "output_type": "stream",
     "text": [
      "2020-11-03 10:45:32,969 normalizing the expression counts for model training\n",
      "2020-11-03 10:45:34,765 input dataset shape: (3639, 17080)\n",
      "2020-11-03 10:45:34,766 possible cell types: ['B cell', 'CD4 T cell', 'CD8 T cell', 'Dendritic', 'Endothelial', 'Epithelial', 'Erythrocyte', 'Fibroblast', 'Malignant', 'Mast', 'Megakaryocyte', 'Monocyte', 'NK', 'Plasma']\n",
      "2020-11-03 10:45:34,767 possible cell types: [('CD4 T cell', 1143), ('Monocyte', 634), ('CD8 T cell', 306), ('NK', 263), ('Fibroblast', 200), ('Endothelial', 200), ('Epithelial', 200), ('Plasma', 200), ('Malignant', 200), ('B cell', 141), ('Mast', 89), ('Erythrocyte', 52), ('Dendritic', 8), ('Megakaryocyte', 3)]\n",
      "2020-11-03 10:45:35,531 training dataset shape: (2395, 17080)\n",
      "2020-11-03 10:45:35,532 validation dataset shape: (1244, 17080)\n"
     ]
    },
    {
     "name": "stdout",
     "output_type": "stream",
     "text": [
      "WARNING:tensorflow:5 out of the last 47 calls to <function compute_loss at 0x7f13991523b0> triggered tf.function retracing. Tracing is expensive and the excessive number of tracings is likely due to passing python objects instead of tensors. Also, tf.function has experimental_relax_shapes=True option that relaxes argument shapes that can avoid unnecessary retracing. Please refer to https://www.tensorflow.org/tutorials/customization/performance#python_or_tensor_args and https://www.tensorflow.org/api_docs/python/tf/function for more details.\n"
     ]
    },
    {
     "name": "stderr",
     "output_type": "stream",
     "text": [
      "2020-11-03 10:45:40,405 5 out of the last 47 calls to <function compute_loss at 0x7f13991523b0> triggered tf.function retracing. Tracing is expensive and the excessive number of tracings is likely due to passing python objects instead of tensors. Also, tf.function has experimental_relax_shapes=True option that relaxes argument shapes that can avoid unnecessary retracing. Please refer to https://www.tensorflow.org/tutorials/customization/performance#python_or_tensor_args and https://www.tensorflow.org/api_docs/python/tf/function for more details.\n"
     ]
    },
    {
     "name": "stdout",
     "output_type": "stream",
     "text": [
      "WARNING:tensorflow:5 out of the last 11 calls to <function compute_loss at 0x7f13991523b0> triggered tf.function retracing. Tracing is expensive and the excessive number of tracings is likely due to passing python objects instead of tensors. Also, tf.function has experimental_relax_shapes=True option that relaxes argument shapes that can avoid unnecessary retracing. Please refer to https://www.tensorflow.org/tutorials/customization/performance#python_or_tensor_args and https://www.tensorflow.org/api_docs/python/tf/function for more details.\n"
     ]
    },
    {
     "name": "stderr",
     "output_type": "stream",
     "text": [
      "2020-11-03 10:45:40,489 5 out of the last 11 calls to <function compute_loss at 0x7f13991523b0> triggered tf.function retracing. Tracing is expensive and the excessive number of tracings is likely due to passing python objects instead of tensors. Also, tf.function has experimental_relax_shapes=True option that relaxes argument shapes that can avoid unnecessary retracing. Please refer to https://www.tensorflow.org/tutorials/customization/performance#python_or_tensor_args and https://www.tensorflow.org/api_docs/python/tf/function for more details.\n"
     ]
    },
    {
     "name": "stdout",
     "output_type": "stream",
     "text": [
      "WARNING:tensorflow:6 out of the last 13 calls to <function compute_loss at 0x7f13991523b0> triggered tf.function retracing. Tracing is expensive and the excessive number of tracings is likely due to passing python objects instead of tensors. Also, tf.function has experimental_relax_shapes=True option that relaxes argument shapes that can avoid unnecessary retracing. Please refer to https://www.tensorflow.org/tutorials/customization/performance#python_or_tensor_args and https://www.tensorflow.org/api_docs/python/tf/function for more details.\n"
     ]
    },
    {
     "name": "stderr",
     "output_type": "stream",
     "text": [
      "2020-11-03 10:45:40,605 6 out of the last 13 calls to <function compute_loss at 0x7f13991523b0> triggered tf.function retracing. Tracing is expensive and the excessive number of tracings is likely due to passing python objects instead of tensors. Also, tf.function has experimental_relax_shapes=True option that relaxes argument shapes that can avoid unnecessary retracing. Please refer to https://www.tensorflow.org/tutorials/customization/performance#python_or_tensor_args and https://www.tensorflow.org/api_docs/python/tf/function for more details.\n"
     ]
    },
    {
     "name": "stdout",
     "output_type": "stream",
     "text": [
      "WARNING:tensorflow:5 out of the last 12 calls to <function compute_loss at 0x7f13991523b0> triggered tf.function retracing. Tracing is expensive and the excessive number of tracings is likely due to passing python objects instead of tensors. Also, tf.function has experimental_relax_shapes=True option that relaxes argument shapes that can avoid unnecessary retracing. Please refer to https://www.tensorflow.org/tutorials/customization/performance#python_or_tensor_args and https://www.tensorflow.org/api_docs/python/tf/function for more details.\n"
     ]
    },
    {
     "name": "stderr",
     "output_type": "stream",
     "text": [
      "2020-11-03 10:45:40,749 5 out of the last 12 calls to <function compute_loss at 0x7f13991523b0> triggered tf.function retracing. Tracing is expensive and the excessive number of tracings is likely due to passing python objects instead of tensors. Also, tf.function has experimental_relax_shapes=True option that relaxes argument shapes that can avoid unnecessary retracing. Please refer to https://www.tensorflow.org/tutorials/customization/performance#python_or_tensor_args and https://www.tensorflow.org/api_docs/python/tf/function for more details.\n"
     ]
    },
    {
     "name": "stdout",
     "output_type": "stream",
     "text": [
      "WARNING:tensorflow:6 out of the last 13 calls to <function compute_loss at 0x7f13991523b0> triggered tf.function retracing. Tracing is expensive and the excessive number of tracings is likely due to passing python objects instead of tensors. Also, tf.function has experimental_relax_shapes=True option that relaxes argument shapes that can avoid unnecessary retracing. Please refer to https://www.tensorflow.org/tutorials/customization/performance#python_or_tensor_args and https://www.tensorflow.org/api_docs/python/tf/function for more details.\n"
     ]
    },
    {
     "name": "stderr",
     "output_type": "stream",
     "text": [
      "2020-11-03 10:45:40,837 6 out of the last 13 calls to <function compute_loss at 0x7f13991523b0> triggered tf.function retracing. Tracing is expensive and the excessive number of tracings is likely due to passing python objects instead of tensors. Also, tf.function has experimental_relax_shapes=True option that relaxes argument shapes that can avoid unnecessary retracing. Please refer to https://www.tensorflow.org/tutorials/customization/performance#python_or_tensor_args and https://www.tensorflow.org/api_docs/python/tf/function for more details.\n"
     ]
    },
    {
     "name": "stdout",
     "output_type": "stream",
     "text": [
      "WARNING:tensorflow:7 out of the last 15 calls to <function compute_loss at 0x7f13991523b0> triggered tf.function retracing. Tracing is expensive and the excessive number of tracings is likely due to passing python objects instead of tensors. Also, tf.function has experimental_relax_shapes=True option that relaxes argument shapes that can avoid unnecessary retracing. Please refer to https://www.tensorflow.org/tutorials/customization/performance#python_or_tensor_args and https://www.tensorflow.org/api_docs/python/tf/function for more details.\n"
     ]
    },
    {
     "name": "stderr",
     "output_type": "stream",
     "text": [
      "2020-11-03 10:45:40,959 7 out of the last 15 calls to <function compute_loss at 0x7f13991523b0> triggered tf.function retracing. Tracing is expensive and the excessive number of tracings is likely due to passing python objects instead of tensors. Also, tf.function has experimental_relax_shapes=True option that relaxes argument shapes that can avoid unnecessary retracing. Please refer to https://www.tensorflow.org/tutorials/customization/performance#python_or_tensor_args and https://www.tensorflow.org/api_docs/python/tf/function for more details.\n"
     ]
    },
    {
     "name": "stdout",
     "output_type": "stream",
     "text": [
      "WARNING:tensorflow:6 out of the last 11 calls to <function compute_loss at 0x7f13991523b0> triggered tf.function retracing. Tracing is expensive and the excessive number of tracings is likely due to passing python objects instead of tensors. Also, tf.function has experimental_relax_shapes=True option that relaxes argument shapes that can avoid unnecessary retracing. Please refer to https://www.tensorflow.org/tutorials/customization/performance#python_or_tensor_args and https://www.tensorflow.org/api_docs/python/tf/function for more details.\n"
     ]
    },
    {
     "name": "stderr",
     "output_type": "stream",
     "text": [
      "2020-11-03 10:45:41,077 6 out of the last 11 calls to <function compute_loss at 0x7f13991523b0> triggered tf.function retracing. Tracing is expensive and the excessive number of tracings is likely due to passing python objects instead of tensors. Also, tf.function has experimental_relax_shapes=True option that relaxes argument shapes that can avoid unnecessary retracing. Please refer to https://www.tensorflow.org/tutorials/customization/performance#python_or_tensor_args and https://www.tensorflow.org/api_docs/python/tf/function for more details.\n"
     ]
    },
    {
     "name": "stdout",
     "output_type": "stream",
     "text": [
      "WARNING:tensorflow:6 out of the last 11 calls to <function compute_loss at 0x7f13991523b0> triggered tf.function retracing. Tracing is expensive and the excessive number of tracings is likely due to passing python objects instead of tensors. Also, tf.function has experimental_relax_shapes=True option that relaxes argument shapes that can avoid unnecessary retracing. Please refer to https://www.tensorflow.org/tutorials/customization/performance#python_or_tensor_args and https://www.tensorflow.org/api_docs/python/tf/function for more details.\n"
     ]
    },
    {
     "name": "stderr",
     "output_type": "stream",
     "text": [
      "2020-11-03 10:45:41,187 6 out of the last 11 calls to <function compute_loss at 0x7f13991523b0> triggered tf.function retracing. Tracing is expensive and the excessive number of tracings is likely due to passing python objects instead of tensors. Also, tf.function has experimental_relax_shapes=True option that relaxes argument shapes that can avoid unnecessary retracing. Please refer to https://www.tensorflow.org/tutorials/customization/performance#python_or_tensor_args and https://www.tensorflow.org/api_docs/python/tf/function for more details.\n"
     ]
    },
    {
     "name": "stdout",
     "output_type": "stream",
     "text": [
      "WARNING:tensorflow:7 out of the last 13 calls to <function compute_loss at 0x7f13991523b0> triggered tf.function retracing. Tracing is expensive and the excessive number of tracings is likely due to passing python objects instead of tensors. Also, tf.function has experimental_relax_shapes=True option that relaxes argument shapes that can avoid unnecessary retracing. Please refer to https://www.tensorflow.org/tutorials/customization/performance#python_or_tensor_args and https://www.tensorflow.org/api_docs/python/tf/function for more details.\n"
     ]
    },
    {
     "name": "stderr",
     "output_type": "stream",
     "text": [
      "2020-11-03 10:45:41,300 7 out of the last 13 calls to <function compute_loss at 0x7f13991523b0> triggered tf.function retracing. Tracing is expensive and the excessive number of tracings is likely due to passing python objects instead of tensors. Also, tf.function has experimental_relax_shapes=True option that relaxes argument shapes that can avoid unnecessary retracing. Please refer to https://www.tensorflow.org/tutorials/customization/performance#python_or_tensor_args and https://www.tensorflow.org/api_docs/python/tf/function for more details.\n",
      "2020-11-03 10:45:42,294 epoch: 1, train loss: 34.411983489990234, val loss: 33.98374938964844\n",
      "2020-11-03 10:45:47,178 epoch: 2, train loss: 33.73344802856445, val loss: 33.42430877685547\n",
      "2020-11-03 10:45:52,255 epoch: 3, train loss: 33.35572052001953, val loss: 33.25275802612305\n",
      "2020-11-03 10:45:57,187 epoch: 4, train loss: 32.82532501220703, val loss: 32.734100341796875\n",
      "2020-11-03 10:46:02,075 epoch: 5, train loss: 32.31083297729492, val loss: 32.42579650878906\n",
      "2020-11-03 10:46:07,007 epoch: 6, train loss: 32.050071716308594, val loss: 32.221492767333984\n",
      "2020-11-03 10:46:11,814 epoch: 7, train loss: 31.518089294433594, val loss: 31.96352767944336\n",
      "2020-11-03 10:46:16,601 epoch: 8, train loss: 31.403615951538086, val loss: 31.76516342163086\n",
      "2020-11-03 10:46:21,636 epoch: 9, train loss: 31.14204216003418, val loss: 31.603261947631836\n",
      "2020-11-03 10:46:26,645 epoch: 10, train loss: 30.884235382080078, val loss: 31.49268913269043\n",
      "2020-11-03 10:46:31,580 epoch: 11, train loss: 30.892898559570312, val loss: 31.425329208374023\n",
      "2020-11-03 10:46:36,511 epoch: 12, train loss: 30.81878089904785, val loss: 31.37448501586914\n",
      "2020-11-03 10:46:41,423 epoch: 13, train loss: 30.740360260009766, val loss: 31.31631851196289\n",
      "2020-11-03 10:46:46,418 epoch: 14, train loss: 30.498470306396484, val loss: 31.281917572021484\n",
      "2020-11-03 10:46:51,372 epoch: 15, train loss: 30.386621475219727, val loss: 31.243867874145508\n",
      "2020-11-03 10:46:56,266 epoch: 16, train loss: 30.42744255065918, val loss: 31.20234489440918\n",
      "2020-11-03 10:47:01,297 epoch: 17, train loss: 30.242929458618164, val loss: 31.13137435913086\n",
      "2020-11-03 10:47:06,234 epoch: 18, train loss: 30.12816047668457, val loss: 31.079349517822266\n",
      "2020-11-03 10:47:11,201 epoch: 19, train loss: 30.078346252441406, val loss: 31.02483558654785\n",
      "2020-11-03 10:47:16,123 epoch: 20, train loss: 29.89959716796875, val loss: 30.96434211730957\n",
      "2020-11-03 10:47:19,743 normalizing counts for prediction\n",
      "2020-11-03 10:47:19,744 filtering for genes in training set\n",
      "2020-11-03 10:47:19,755 0 genes in training set are missing from prediction set\n",
      "2020-11-03 10:47:20,233 starting batch 1 of 1\n",
      "2020-11-03 10:47:20,662 normalizing counts for prediction\n",
      "2020-11-03 10:47:20,664 filtering for genes in training set\n",
      "2020-11-03 10:47:20,671 0 genes in training set are missing from prediction set\n"
     ]
    },
    {
     "name": "stdout",
     "output_type": "stream",
     "text": [
      "scRNAseq cesc_train_pdac_val (1941, 22928) (15435, 28756)\n"
     ]
    },
    {
     "name": "stderr",
     "output_type": "stream",
     "text": [
      "2020-11-03 10:47:26,742 normalizing the expression counts for model training\n",
      "2020-11-03 10:47:38,217 input dataset shape: (17376, 22794)\n",
      "2020-11-03 10:47:38,220 possible cell types: ['Acinar', 'B cell', 'CD4 T cell', 'CD8 T cell', 'Dendritic', 'Endothelial', 'Epithelial', 'Erythrocyte', 'Fibroblast', 'Islet', 'Malignant', 'Mast', 'Monocyte', 'NK', 'Plasma', 'Treg', 'Tuft']\n",
      "2020-11-03 10:47:38,222 possible cell types: [('Fibroblast', 1200), ('Endothelial', 1200), ('Monocyte', 1200), ('CD8 T cell', 1200), ('CD4 T cell', 1200), ('Plasma', 1200), ('Malignant', 1200), ('NK', 1200), ('Epithelial', 1168), ('Mast', 1089), ('Dendritic', 1000), ('Treg', 1000), ('B cell', 1000), ('Acinar', 1000), ('Islet', 1000), ('Erythrocyte', 464), ('Tuft', 55)]\n",
      "2020-11-03 10:47:43,918 training dataset shape: (7816, 22794)\n",
      "2020-11-03 10:47:43,919 validation dataset shape: (9560, 22794)\n",
      "2020-11-03 10:48:02,030 epoch: 1, train loss: 28.499753952026367, val loss: 43.17182159423828\n",
      "2020-11-03 10:48:19,174 epoch: 2, train loss: 27.507116317749023, val loss: 41.770809173583984\n",
      "2020-11-03 10:48:36,487 epoch: 3, train loss: 27.028701782226562, val loss: 41.29441452026367\n",
      "2020-11-03 10:48:54,376 epoch: 4, train loss: 26.782068252563477, val loss: 41.1339111328125\n",
      "2020-11-03 10:49:11,776 epoch: 5, train loss: 26.657630920410156, val loss: 40.93525695800781\n",
      "2020-11-03 10:49:29,192 epoch: 6, train loss: 26.462032318115234, val loss: 40.78853988647461\n",
      "2020-11-03 10:49:46,796 epoch: 7, train loss: 26.378707885742188, val loss: 40.63837814331055\n",
      "2020-11-03 10:50:04,542 epoch: 8, train loss: 26.208669662475586, val loss: 40.52483367919922\n",
      "2020-11-03 10:50:22,249 epoch: 9, train loss: 26.09224510192871, val loss: 40.42071533203125\n",
      "2020-11-03 10:50:39,891 epoch: 10, train loss: 26.06928253173828, val loss: 40.314903259277344\n",
      "2020-11-03 10:50:57,361 epoch: 11, train loss: 25.963363647460938, val loss: 40.26197052001953\n",
      "2020-11-03 10:51:15,041 epoch: 12, train loss: 25.84834098815918, val loss: 40.18791961669922\n",
      "2020-11-03 10:51:32,675 epoch: 13, train loss: 25.755632400512695, val loss: 40.13481140136719\n",
      "2020-11-03 10:51:50,345 epoch: 14, train loss: 25.66486358642578, val loss: 40.07445526123047\n",
      "2020-11-03 10:52:07,955 epoch: 15, train loss: 25.59751319885254, val loss: 40.02782440185547\n",
      "2020-11-03 10:52:25,690 epoch: 16, train loss: 25.526411056518555, val loss: 40.003448486328125\n",
      "2020-11-03 10:52:43,489 epoch: 17, train loss: 25.47441864013672, val loss: 39.9686164855957\n",
      "2020-11-03 10:53:01,140 epoch: 18, train loss: 25.414947509765625, val loss: 39.93495178222656\n",
      "2020-11-03 10:53:18,890 epoch: 19, train loss: 25.32383155822754, val loss: 39.9265022277832\n",
      "2020-11-03 10:53:36,423 epoch: 20, train loss: 25.215871810913086, val loss: 39.89630889892578\n",
      "2020-11-03 10:53:52,982 normalizing counts for prediction\n",
      "2020-11-03 10:53:52,983 filtering for genes in training set\n",
      "2020-11-03 10:53:52,995 0 genes in training set are missing from prediction set\n",
      "2020-11-03 10:53:53,425 starting batch 1 of 2\n",
      "2020-11-03 10:53:53,597 normalizing counts for prediction\n",
      "2020-11-03 10:53:53,598 filtering for genes in training set\n",
      "2020-11-03 10:53:53,606 0 genes in training set are missing from prediction set\n",
      "2020-11-03 10:54:19,505 starting batch 2 of 2\n",
      "2020-11-03 10:54:19,642 normalizing counts for prediction\n",
      "2020-11-03 10:54:19,643 filtering for genes in training set\n",
      "2020-11-03 10:54:19,652 0 genes in training set are missing from prediction set\n"
     ]
    },
    {
     "name": "stdout",
     "output_type": "stream",
     "text": [
      "scRNAseq hnscc_train_brca_val (2200, 26929) (11253, 27131)\n"
     ]
    },
    {
     "name": "stderr",
     "output_type": "stream",
     "text": [
      "2020-11-03 10:54:36,217 normalizing the expression counts for model training\n",
      "2020-11-03 10:54:46,215 input dataset shape: (13453, 25823)\n",
      "2020-11-03 10:54:46,217 possible cell types: ['B cell', 'CD4 T cell', 'CD8 T cell', 'Dendritic', 'Endothelial', 'Erythrocyte', 'Fibroblast', 'Malignant', 'Mast', 'Monocyte', 'NK', 'Plasma', 'Treg']\n",
      "2020-11-03 10:54:46,218 possible cell types: [('B cell', 1200), ('CD4 T cell', 1200), ('Endothelial', 1200), ('Treg', 1200), ('Plasma', 1200), ('CD8 T cell', 1200), ('Monocyte', 1200), ('Malignant', 1200), ('NK', 1200), ('Fibroblast', 1000), ('Mast', 746), ('Erythrocyte', 515), ('Dendritic', 392)]\n",
      "2020-11-03 10:54:50,213 training dataset shape: (6039, 25823)\n",
      "2020-11-03 10:54:50,213 validation dataset shape: (7414, 25823)\n",
      "2020-11-03 10:55:06,535 epoch: 1, train loss: 32.967586517333984, val loss: 24.706241607666016\n",
      "2020-11-03 10:55:22,279 epoch: 2, train loss: 32.22248077392578, val loss: 24.343902587890625\n",
      "2020-11-03 10:55:38,023 epoch: 3, train loss: 31.726606369018555, val loss: 24.118988037109375\n",
      "2020-11-03 10:55:53,838 epoch: 4, train loss: 31.387460708618164, val loss: 23.969074249267578\n",
      "2020-11-03 10:56:09,375 epoch: 5, train loss: 31.160114288330078, val loss: 23.885616302490234\n",
      "2020-11-03 10:56:25,039 epoch: 6, train loss: 30.999351501464844, val loss: 23.819726943969727\n",
      "2020-11-03 10:56:40,579 epoch: 7, train loss: 30.8977108001709, val loss: 23.785707473754883\n",
      "2020-11-03 10:56:56,236 epoch: 8, train loss: 30.727352142333984, val loss: 23.735618591308594\n",
      "2020-11-03 10:57:12,034 epoch: 9, train loss: 30.598682403564453, val loss: 23.701519012451172\n",
      "2020-11-03 10:57:27,809 epoch: 10, train loss: 30.462047576904297, val loss: 23.6553955078125\n",
      "2020-11-03 10:57:43,602 epoch: 11, train loss: 30.363178253173828, val loss: 23.632984161376953\n",
      "2020-11-03 10:57:59,795 epoch: 12, train loss: 30.264995574951172, val loss: 23.61504364013672\n",
      "2020-11-03 10:58:15,820 epoch: 13, train loss: 30.156064987182617, val loss: 23.597942352294922\n",
      "2020-11-03 10:58:31,561 epoch: 14, train loss: 30.072235107421875, val loss: 23.58226776123047\n",
      "2020-11-03 10:58:47,588 epoch: 15, train loss: 29.949871063232422, val loss: 23.56304931640625\n",
      "2020-11-03 10:59:03,417 epoch: 16, train loss: 29.80621910095215, val loss: 23.5738582611084\n",
      "2020-11-03 10:59:19,415 epoch: 17, train loss: 29.71047019958496, val loss: 23.548011779785156\n",
      "2020-11-03 10:59:35,360 epoch: 18, train loss: 29.593215942382812, val loss: 23.553470611572266\n",
      "2020-11-03 10:59:51,078 epoch: 19, train loss: 29.49885368347168, val loss: 23.55817413330078\n",
      "2020-11-03 11:00:06,972 epoch: 20, train loss: 29.377912521362305, val loss: 23.550811767578125\n",
      "2020-11-03 11:00:21,077 normalizing counts for prediction\n",
      "2020-11-03 11:00:21,078 filtering for genes in training set\n",
      "2020-11-03 11:00:21,086 0 genes in training set are missing from prediction set\n",
      "2020-11-03 11:00:21,523 starting batch 1 of 2\n",
      "2020-11-03 11:00:21,719 normalizing counts for prediction\n",
      "2020-11-03 11:00:21,720 filtering for genes in training set\n",
      "2020-11-03 11:00:21,731 0 genes in training set are missing from prediction set\n",
      "2020-11-03 11:00:46,948 starting batch 2 of 2\n",
      "2020-11-03 11:00:47,074 normalizing counts for prediction\n",
      "2020-11-03 11:00:47,075 filtering for genes in training set\n",
      "2020-11-03 11:00:47,086 0 genes in training set are missing from prediction set\n"
     ]
    },
    {
     "name": "stdout",
     "output_type": "stream",
     "text": [
      "scRNAseq hnscc_train_cesc_val (2200, 26929) (8449, 22928)\n"
     ]
    },
    {
     "name": "stderr",
     "output_type": "stream",
     "text": [
      "2020-11-03 11:00:52,856 normalizing the expression counts for model training\n",
      "2020-11-03 11:00:59,726 input dataset shape: (10649, 22756)\n",
      "2020-11-03 11:00:59,728 possible cell types: ['B cell', 'CD4 T cell', 'CD8 T cell', 'Endothelial', 'Epithelial', 'Erythrocyte', 'Fibroblast', 'Malignant', 'Mast', 'Monocyte', 'NK', 'Plasma', 'Treg']\n",
      "2020-11-03 11:00:59,730 possible cell types: [('CD8 T cell', 1200), ('Monocyte', 1200), ('Malignant', 1200), ('NK', 1200), ('Plasma', 1135), ('CD4 T cell', 1118), ('Fibroblast', 1000), ('Epithelial', 1000), ('Endothelial', 732), ('Mast', 249), ('Erythrocyte', 215), ('B cell', 200), ('Treg', 200)]\n",
      "2020-11-03 11:01:02,810 training dataset shape: (5137, 22756)\n",
      "2020-11-03 11:01:02,811 validation dataset shape: (5512, 22756)\n",
      "2020-11-03 11:01:14,759 epoch: 1, train loss: 34.82024002075195, val loss: 13.963593482971191\n",
      "2020-11-03 11:01:25,681 epoch: 2, train loss: 33.665592193603516, val loss: 13.61395263671875\n",
      "2020-11-03 11:01:36,782 epoch: 3, train loss: 33.012901306152344, val loss: 13.464933395385742\n",
      "2020-11-03 11:01:48,055 epoch: 4, train loss: 32.71372604370117, val loss: 13.398935317993164\n",
      "2020-11-03 11:01:59,257 epoch: 5, train loss: 32.481483459472656, val loss: 13.349157333374023\n",
      "2020-11-03 11:02:10,407 epoch: 6, train loss: 32.27295684814453, val loss: 13.303549766540527\n",
      "2020-11-03 11:02:21,662 epoch: 7, train loss: 32.163841247558594, val loss: 13.258987426757812\n",
      "2020-11-03 11:02:32,659 epoch: 8, train loss: 32.017112731933594, val loss: 13.222824096679688\n",
      "2020-11-03 11:02:43,785 epoch: 9, train loss: 31.893701553344727, val loss: 13.180295944213867\n",
      "2020-11-03 11:02:54,879 epoch: 10, train loss: 31.741472244262695, val loss: 13.154638290405273\n",
      "2020-11-03 11:03:06,393 epoch: 11, train loss: 31.670000076293945, val loss: 13.120763778686523\n",
      "2020-11-03 11:03:17,515 epoch: 12, train loss: 31.5119571685791, val loss: 13.091194152832031\n",
      "2020-11-03 11:03:28,859 epoch: 13, train loss: 31.45114517211914, val loss: 13.048784255981445\n",
      "2020-11-03 11:03:40,005 epoch: 14, train loss: 31.267925262451172, val loss: 13.016512870788574\n",
      "2020-11-03 11:03:51,241 epoch: 15, train loss: 31.16790199279785, val loss: 12.986163139343262\n",
      "2020-11-03 11:04:02,585 epoch: 16, train loss: 31.082271575927734, val loss: 12.972663879394531\n",
      "2020-11-03 11:04:13,804 epoch: 17, train loss: 31.067792892456055, val loss: 12.96252155303955\n",
      "2020-11-03 11:04:25,060 epoch: 18, train loss: 30.930891036987305, val loss: 12.957429885864258\n",
      "2020-11-03 11:04:36,156 epoch: 19, train loss: 30.825502395629883, val loss: 12.947834968566895\n",
      "2020-11-03 11:04:47,363 epoch: 20, train loss: 30.730131149291992, val loss: 12.941802024841309\n",
      "2020-11-03 11:04:57,929 normalizing counts for prediction\n",
      "2020-11-03 11:04:57,931 filtering for genes in training set\n",
      "2020-11-03 11:04:57,941 0 genes in training set are missing from prediction set\n",
      "2020-11-03 11:04:58,478 starting batch 1 of 1\n",
      "2020-11-03 11:04:58,590 normalizing counts for prediction\n",
      "2020-11-03 11:04:58,591 filtering for genes in training set\n",
      "2020-11-03 11:04:58,599 0 genes in training set are missing from prediction set\n"
     ]
    },
    {
     "name": "stdout",
     "output_type": "stream",
     "text": [
      "scRNAseq hnscc_train_melanoma_val (2200, 26929) (6735, 23452)\n"
     ]
    },
    {
     "name": "stderr",
     "output_type": "stream",
     "text": [
      "2020-11-03 11:05:24,346 normalizing the expression counts for model training\n",
      "2020-11-03 11:05:29,968 input dataset shape: (8935, 21555)\n",
      "2020-11-03 11:05:29,970 possible cell types: ['B cell', 'CD4 T cell', 'CD8 T cell', 'Dendritic', 'Endothelial', 'Erythrocyte', 'Fibroblast', 'Malignant', 'Mast', 'Monocyte', 'NK', 'Plasma', 'Treg']\n",
      "2020-11-03 11:05:29,972 possible cell types: [('B cell', 1200), ('CD4 T cell', 1200), ('CD8 T cell', 1200), ('Monocyte', 1200), ('Malignant', 1200), ('Treg', 862), ('Dendritic', 541), ('NK', 538), ('Plasma', 273), ('Endothelial', 200), ('Mast', 200), ('Erythrocyte', 200), ('Fibroblast', 121)]\n",
      "2020-11-03 11:05:32,174 training dataset shape: (4327, 21555)\n",
      "2020-11-03 11:05:32,175 validation dataset shape: (4608, 21555)\n"
     ]
    },
    {
     "name": "stdout",
     "output_type": "stream",
     "text": [
      "WARNING:tensorflow:5 out of the last 18 calls to <function compute_loss at 0x7f13991523b0> triggered tf.function retracing. Tracing is expensive and the excessive number of tracings is likely due to passing python objects instead of tensors. Also, tf.function has experimental_relax_shapes=True option that relaxes argument shapes that can avoid unnecessary retracing. Please refer to https://www.tensorflow.org/tutorials/customization/performance#python_or_tensor_args and https://www.tensorflow.org/api_docs/python/tf/function for more details.\n"
     ]
    },
    {
     "name": "stderr",
     "output_type": "stream",
     "text": [
      "2020-11-03 11:05:42,015 5 out of the last 18 calls to <function compute_loss at 0x7f13991523b0> triggered tf.function retracing. Tracing is expensive and the excessive number of tracings is likely due to passing python objects instead of tensors. Also, tf.function has experimental_relax_shapes=True option that relaxes argument shapes that can avoid unnecessary retracing. Please refer to https://www.tensorflow.org/tutorials/customization/performance#python_or_tensor_args and https://www.tensorflow.org/api_docs/python/tf/function for more details.\n",
      "2020-11-03 11:05:43,419 epoch: 1, train loss: 31.439708709716797, val loss: 28.568798065185547\n",
      "2020-11-03 11:05:53,627 epoch: 2, train loss: 30.749340057373047, val loss: 28.34649658203125\n",
      "2020-11-03 11:06:03,936 epoch: 3, train loss: 30.326318740844727, val loss: 28.044658660888672\n",
      "2020-11-03 11:06:14,121 epoch: 4, train loss: 29.89132308959961, val loss: 27.794782638549805\n",
      "2020-11-03 11:06:24,275 epoch: 5, train loss: 29.569271087646484, val loss: 27.6534423828125\n",
      "2020-11-03 11:06:34,265 epoch: 6, train loss: 29.33831787109375, val loss: 27.5644588470459\n",
      "2020-11-03 11:06:44,514 epoch: 7, train loss: 29.164878845214844, val loss: 27.48705291748047\n",
      "2020-11-03 11:06:54,565 epoch: 8, train loss: 29.01555633544922, val loss: 27.426353454589844\n",
      "2020-11-03 11:07:04,720 epoch: 9, train loss: 28.935739517211914, val loss: 27.390554428100586\n",
      "2020-11-03 11:07:14,834 epoch: 10, train loss: 28.740562438964844, val loss: 27.34406852722168\n",
      "2020-11-03 11:07:25,127 epoch: 11, train loss: 28.672683715820312, val loss: 27.312057495117188\n",
      "2020-11-03 11:07:35,323 epoch: 12, train loss: 28.538352966308594, val loss: 27.265260696411133\n",
      "2020-11-03 11:07:45,510 epoch: 13, train loss: 28.4223575592041, val loss: 27.25287628173828\n",
      "2020-11-03 11:07:55,698 epoch: 14, train loss: 28.279077529907227, val loss: 27.220420837402344\n",
      "2020-11-03 11:08:05,703 epoch: 15, train loss: 28.14927864074707, val loss: 27.200082778930664\n",
      "2020-11-03 11:08:15,680 epoch: 16, train loss: 28.009700775146484, val loss: 27.18740463256836\n",
      "2020-11-03 11:08:25,988 epoch: 17, train loss: 27.896564483642578, val loss: 27.192920684814453\n",
      "2020-11-03 11:08:36,298 epoch: 18, train loss: 27.723588943481445, val loss: 27.16714859008789\n",
      "2020-11-03 11:08:46,773 epoch: 19, train loss: 27.56877326965332, val loss: 27.167095184326172\n",
      "2020-11-03 11:08:57,048 epoch: 20, train loss: 27.44869613647461, val loss: 27.1717472076416\n",
      "2020-11-03 11:09:05,555 normalizing counts for prediction\n",
      "2020-11-03 11:09:05,556 filtering for genes in training set\n",
      "2020-11-03 11:09:05,567 0 genes in training set are missing from prediction set\n",
      "2020-11-03 11:09:06,001 starting batch 1 of 1\n",
      "2020-11-03 11:09:06,111 normalizing counts for prediction\n",
      "2020-11-03 11:09:06,112 filtering for genes in training set\n",
      "2020-11-03 11:09:06,121 0 genes in training set are missing from prediction set\n"
     ]
    },
    {
     "name": "stdout",
     "output_type": "stream",
     "text": [
      "scRNAseq hnscc_train_pbmc_val (2200, 26929) (1698, 32738)\n"
     ]
    },
    {
     "name": "stderr",
     "output_type": "stream",
     "text": [
      "2020-11-03 11:09:20,090 normalizing the expression counts for model training\n",
      "2020-11-03 11:09:22,212 input dataset shape: (3898, 18521)\n",
      "2020-11-03 11:09:22,213 possible cell types: ['B cell', 'CD4 T cell', 'CD8 T cell', 'Dendritic', 'Endothelial', 'Erythrocyte', 'Malignant', 'Mast', 'Megakaryocyte', 'Monocyte', 'NK', 'Plasma', 'Treg']\n",
      "2020-11-03 11:09:22,214 possible cell types: [('CD4 T cell', 1143), ('Monocyte', 634), ('B cell', 341), ('CD8 T cell', 306), ('NK', 263), ('Endothelial', 200), ('Treg', 200), ('Plasma', 200), ('Mast', 200), ('Malignant', 200), ('Erythrocyte', 200), ('Dendritic', 8), ('Megakaryocyte', 3)]\n",
      "2020-11-03 11:09:23,019 training dataset shape: (2576, 18521)\n",
      "2020-11-03 11:09:23,020 validation dataset shape: (1322, 18521)\n"
     ]
    },
    {
     "name": "stdout",
     "output_type": "stream",
     "text": [
      "WARNING:tensorflow:5 out of the last 13 calls to <function compute_loss at 0x7f13991523b0> triggered tf.function retracing. Tracing is expensive and the excessive number of tracings is likely due to passing python objects instead of tensors. Also, tf.function has experimental_relax_shapes=True option that relaxes argument shapes that can avoid unnecessary retracing. Please refer to https://www.tensorflow.org/tutorials/customization/performance#python_or_tensor_args and https://www.tensorflow.org/api_docs/python/tf/function for more details.\n"
     ]
    },
    {
     "name": "stderr",
     "output_type": "stream",
     "text": [
      "2020-11-03 11:09:28,548 5 out of the last 13 calls to <function compute_loss at 0x7f13991523b0> triggered tf.function retracing. Tracing is expensive and the excessive number of tracings is likely due to passing python objects instead of tensors. Also, tf.function has experimental_relax_shapes=True option that relaxes argument shapes that can avoid unnecessary retracing. Please refer to https://www.tensorflow.org/tutorials/customization/performance#python_or_tensor_args and https://www.tensorflow.org/api_docs/python/tf/function for more details.\n"
     ]
    },
    {
     "name": "stdout",
     "output_type": "stream",
     "text": [
      "WARNING:tensorflow:5 out of the last 12 calls to <function compute_loss at 0x7f13991523b0> triggered tf.function retracing. Tracing is expensive and the excessive number of tracings is likely due to passing python objects instead of tensors. Also, tf.function has experimental_relax_shapes=True option that relaxes argument shapes that can avoid unnecessary retracing. Please refer to https://www.tensorflow.org/tutorials/customization/performance#python_or_tensor_args and https://www.tensorflow.org/api_docs/python/tf/function for more details.\n"
     ]
    },
    {
     "name": "stderr",
     "output_type": "stream",
     "text": [
      "2020-11-03 11:09:28,666 5 out of the last 12 calls to <function compute_loss at 0x7f13991523b0> triggered tf.function retracing. Tracing is expensive and the excessive number of tracings is likely due to passing python objects instead of tensors. Also, tf.function has experimental_relax_shapes=True option that relaxes argument shapes that can avoid unnecessary retracing. Please refer to https://www.tensorflow.org/tutorials/customization/performance#python_or_tensor_args and https://www.tensorflow.org/api_docs/python/tf/function for more details.\n"
     ]
    },
    {
     "name": "stdout",
     "output_type": "stream",
     "text": [
      "WARNING:tensorflow:6 out of the last 16 calls to <function compute_loss at 0x7f13991523b0> triggered tf.function retracing. Tracing is expensive and the excessive number of tracings is likely due to passing python objects instead of tensors. Also, tf.function has experimental_relax_shapes=True option that relaxes argument shapes that can avoid unnecessary retracing. Please refer to https://www.tensorflow.org/tutorials/customization/performance#python_or_tensor_args and https://www.tensorflow.org/api_docs/python/tf/function for more details.\n"
     ]
    },
    {
     "name": "stderr",
     "output_type": "stream",
     "text": [
      "2020-11-03 11:09:28,832 6 out of the last 16 calls to <function compute_loss at 0x7f13991523b0> triggered tf.function retracing. Tracing is expensive and the excessive number of tracings is likely due to passing python objects instead of tensors. Also, tf.function has experimental_relax_shapes=True option that relaxes argument shapes that can avoid unnecessary retracing. Please refer to https://www.tensorflow.org/tutorials/customization/performance#python_or_tensor_args and https://www.tensorflow.org/api_docs/python/tf/function for more details.\n"
     ]
    },
    {
     "name": "stdout",
     "output_type": "stream",
     "text": [
      "WARNING:tensorflow:5 out of the last 11 calls to <function compute_loss at 0x7f13991523b0> triggered tf.function retracing. Tracing is expensive and the excessive number of tracings is likely due to passing python objects instead of tensors. Also, tf.function has experimental_relax_shapes=True option that relaxes argument shapes that can avoid unnecessary retracing. Please refer to https://www.tensorflow.org/tutorials/customization/performance#python_or_tensor_args and https://www.tensorflow.org/api_docs/python/tf/function for more details.\n"
     ]
    },
    {
     "name": "stderr",
     "output_type": "stream",
     "text": [
      "2020-11-03 11:09:28,954 5 out of the last 11 calls to <function compute_loss at 0x7f13991523b0> triggered tf.function retracing. Tracing is expensive and the excessive number of tracings is likely due to passing python objects instead of tensors. Also, tf.function has experimental_relax_shapes=True option that relaxes argument shapes that can avoid unnecessary retracing. Please refer to https://www.tensorflow.org/tutorials/customization/performance#python_or_tensor_args and https://www.tensorflow.org/api_docs/python/tf/function for more details.\n",
      "2020-11-03 11:09:29,964 epoch: 1, train loss: 32.29396057128906, val loss: 23.20221710205078\n",
      "2020-11-03 11:09:35,661 epoch: 2, train loss: 31.80658721923828, val loss: 22.73488998413086\n",
      "2020-11-03 11:09:41,380 epoch: 3, train loss: 31.429758071899414, val loss: 22.590343475341797\n",
      "2020-11-03 11:09:47,037 epoch: 4, train loss: 31.217084884643555, val loss: 22.506620407104492\n",
      "2020-11-03 11:09:52,747 epoch: 5, train loss: 31.052335739135742, val loss: 22.383813858032227\n",
      "2020-11-03 11:09:58,417 epoch: 6, train loss: 30.402084350585938, val loss: 22.164329528808594\n",
      "2020-11-03 11:10:04,015 epoch: 7, train loss: 29.929452896118164, val loss: 22.03668212890625\n",
      "2020-11-03 11:10:09,647 epoch: 8, train loss: 29.88640594482422, val loss: 21.972759246826172\n",
      "2020-11-03 11:10:15,212 epoch: 9, train loss: 29.728410720825195, val loss: 21.861602783203125\n",
      "2020-11-03 11:10:20,911 epoch: 10, train loss: 29.816131591796875, val loss: 21.762847900390625\n",
      "2020-11-03 11:10:26,540 epoch: 11, train loss: 29.458799362182617, val loss: 21.698760986328125\n",
      "2020-11-03 11:10:32,196 epoch: 12, train loss: 29.321773529052734, val loss: 21.624160766601562\n",
      "2020-11-03 11:10:37,875 epoch: 13, train loss: 29.208770751953125, val loss: 21.57655143737793\n",
      "2020-11-03 11:10:43,471 epoch: 14, train loss: 29.08701515197754, val loss: 21.503671646118164\n",
      "2020-11-03 11:10:49,118 epoch: 15, train loss: 28.848026275634766, val loss: 21.443273544311523\n",
      "2020-11-03 11:10:54,787 epoch: 16, train loss: 28.693796157836914, val loss: 21.39950942993164\n",
      "2020-11-03 11:11:00,450 epoch: 17, train loss: 28.758670806884766, val loss: 21.383474349975586\n",
      "2020-11-03 11:11:06,162 epoch: 18, train loss: 28.389455795288086, val loss: 21.361236572265625\n",
      "2020-11-03 11:11:11,904 epoch: 19, train loss: 28.427059173583984, val loss: 21.341522216796875\n",
      "2020-11-03 11:11:17,584 epoch: 20, train loss: 28.31989288330078, val loss: 21.350025177001953\n",
      "2020-11-03 11:11:21,673 normalizing counts for prediction\n",
      "2020-11-03 11:11:21,675 filtering for genes in training set\n",
      "2020-11-03 11:11:21,685 0 genes in training set are missing from prediction set\n",
      "2020-11-03 11:11:22,195 starting batch 1 of 1\n",
      "2020-11-03 11:11:22,268 normalizing counts for prediction\n",
      "2020-11-03 11:11:22,269 filtering for genes in training set\n",
      "2020-11-03 11:11:22,279 0 genes in training set are missing from prediction set\n"
     ]
    },
    {
     "name": "stdout",
     "output_type": "stream",
     "text": [
      "scRNAseq hnscc_train_pdac_val (2200, 26929) (15435, 28756)\n"
     ]
    },
    {
     "name": "stderr",
     "output_type": "stream",
     "text": [
      "2020-11-03 11:11:28,835 normalizing the expression counts for model training\n",
      "2020-11-03 11:11:42,322 input dataset shape: (17635, 26359)\n",
      "2020-11-03 11:11:42,324 possible cell types: ['Acinar', 'B cell', 'CD4 T cell', 'CD8 T cell', 'Dendritic', 'Endothelial', 'Epithelial', 'Erythrocyte', 'Fibroblast', 'Islet', 'Malignant', 'Mast', 'Monocyte', 'NK', 'Plasma', 'Treg', 'Tuft']\n",
      "2020-11-03 11:11:42,327 possible cell types: [('B cell', 1200), ('CD4 T cell', 1200), ('Endothelial', 1200), ('Treg', 1200), ('Plasma', 1200), ('CD8 T cell', 1200), ('Monocyte', 1200), ('Mast', 1200), ('Malignant', 1200), ('NK', 1200), ('Dendritic', 1000), ('Fibroblast', 1000), ('Acinar', 1000), ('Islet', 1000), ('Epithelial', 968), ('Erythrocyte', 612), ('Tuft', 55)]\n",
      "2020-11-03 11:11:48,354 training dataset shape: (7864, 26359)\n",
      "2020-11-03 11:11:48,355 validation dataset shape: (9771, 26359)\n",
      "2020-11-03 11:12:09,573 epoch: 1, train loss: 29.402570724487305, val loss: 19.21784210205078\n",
      "2020-11-03 11:12:29,790 epoch: 2, train loss: 28.40521812438965, val loss: 18.916797637939453\n",
      "2020-11-03 11:12:50,101 epoch: 3, train loss: 27.969947814941406, val loss: 18.821786880493164\n",
      "2020-11-03 11:13:10,683 epoch: 4, train loss: 27.709026336669922, val loss: 18.700672149658203\n",
      "2020-11-03 11:13:31,265 epoch: 5, train loss: 27.52479362487793, val loss: 18.625091552734375\n",
      "2020-11-03 11:13:51,932 epoch: 6, train loss: 27.372480392456055, val loss: 18.549453735351562\n",
      "2020-11-03 11:14:12,309 epoch: 7, train loss: 27.233797073364258, val loss: 18.517269134521484\n",
      "2020-11-03 11:14:33,222 epoch: 8, train loss: 27.111038208007812, val loss: 18.472076416015625\n",
      "2020-11-03 11:14:54,103 epoch: 9, train loss: 26.997770309448242, val loss: 18.431896209716797\n",
      "2020-11-03 11:15:14,672 epoch: 10, train loss: 26.888986587524414, val loss: 18.400903701782227\n",
      "2020-11-03 11:15:35,434 epoch: 11, train loss: 26.792098999023438, val loss: 18.369659423828125\n",
      "2020-11-03 11:15:56,215 epoch: 12, train loss: 26.704631805419922, val loss: 18.346677780151367\n",
      "2020-11-03 11:16:16,725 epoch: 13, train loss: 26.6253719329834, val loss: 18.32575035095215\n",
      "2020-11-03 11:16:37,410 epoch: 14, train loss: 26.541099548339844, val loss: 18.30257225036621\n",
      "2020-11-03 11:16:57,948 epoch: 15, train loss: 26.46759796142578, val loss: 18.287996292114258\n",
      "2020-11-03 11:17:18,569 epoch: 16, train loss: 26.392257690429688, val loss: 18.264537811279297\n",
      "2020-11-03 11:17:39,313 epoch: 17, train loss: 26.314781188964844, val loss: 18.24866485595703\n",
      "2020-11-03 11:18:00,095 epoch: 18, train loss: 26.233633041381836, val loss: 18.235248565673828\n",
      "2020-11-03 11:18:20,803 epoch: 19, train loss: 26.16530990600586, val loss: 18.228124618530273\n",
      "2020-11-03 11:18:41,466 epoch: 20, train loss: 26.09014320373535, val loss: 18.22570037841797\n",
      "2020-11-03 11:18:59,512 normalizing counts for prediction\n",
      "2020-11-03 11:18:59,513 filtering for genes in training set\n",
      "2020-11-03 11:18:59,521 0 genes in training set are missing from prediction set\n",
      "2020-11-03 11:19:00,080 starting batch 1 of 2\n",
      "2020-11-03 11:19:00,369 normalizing counts for prediction\n",
      "2020-11-03 11:19:00,370 filtering for genes in training set\n",
      "2020-11-03 11:19:00,378 0 genes in training set are missing from prediction set\n",
      "2020-11-03 11:19:28,410 starting batch 2 of 2\n",
      "2020-11-03 11:19:28,546 normalizing counts for prediction\n",
      "2020-11-03 11:19:28,547 filtering for genes in training set\n",
      "2020-11-03 11:19:28,558 0 genes in training set are missing from prediction set\n"
     ]
    },
    {
     "name": "stdout",
     "output_type": "stream",
     "text": [
      "scRNAseq melanoma_train_brca_val (2000, 23452) (11253, 27131)\n"
     ]
    },
    {
     "name": "stderr",
     "output_type": "stream",
     "text": [
      "2020-11-03 11:19:45,474 normalizing the expression counts for model training\n",
      "2020-11-03 11:19:53,700 input dataset shape: (13253, 21538)\n",
      "2020-11-03 11:19:53,702 possible cell types: ['B cell', 'CD4 T cell', 'CD8 T cell', 'Dendritic', 'Endothelial', 'Erythrocyte', 'Fibroblast', 'Malignant', 'Mast', 'Monocyte', 'NK', 'Plasma', 'Treg']\n",
      "2020-11-03 11:19:53,705 possible cell types: [('Malignant', 1200), ('Treg', 1200), ('Plasma', 1200), ('B cell', 1200), ('CD8 T cell', 1200), ('Fibroblast', 1200), ('CD4 T cell', 1200), ('NK', 1200), ('Monocyte', 1200), ('Endothelial', 1000), ('Dendritic', 592), ('Mast', 546), ('Erythrocyte', 315)]\n",
      "2020-11-03 11:19:57,413 training dataset shape: (5833, 21538)\n",
      "2020-11-03 11:19:57,414 validation dataset shape: (7420, 21538)\n",
      "2020-11-03 11:20:11,173 epoch: 1, train loss: 34.6512565612793, val loss: 32.0250244140625\n",
      "2020-11-03 11:20:23,836 epoch: 2, train loss: 33.83558654785156, val loss: 31.245752334594727\n",
      "2020-11-03 11:20:36,504 epoch: 3, train loss: 33.359344482421875, val loss: 30.877674102783203\n",
      "2020-11-03 11:20:49,451 epoch: 4, train loss: 32.983123779296875, val loss: 30.626266479492188\n",
      "2020-11-03 11:21:02,558 epoch: 5, train loss: 32.76435470581055, val loss: 30.488021850585938\n",
      "2020-11-03 11:21:15,334 epoch: 6, train loss: 32.507205963134766, val loss: 30.373279571533203\n",
      "2020-11-03 11:21:28,291 epoch: 7, train loss: 32.282230377197266, val loss: 30.21924591064453\n",
      "2020-11-03 11:21:41,048 epoch: 8, train loss: 32.21178436279297, val loss: 30.077558517456055\n",
      "2020-11-03 11:21:53,828 epoch: 9, train loss: 32.089073181152344, val loss: 29.938926696777344\n",
      "2020-11-03 11:22:06,730 epoch: 10, train loss: 31.9289493560791, val loss: 29.839828491210938\n",
      "2020-11-03 11:22:19,766 epoch: 11, train loss: 31.847497940063477, val loss: 29.733781814575195\n",
      "2020-11-03 11:22:32,749 epoch: 12, train loss: 31.75251579284668, val loss: 29.657453536987305\n",
      "2020-11-03 11:22:45,960 epoch: 13, train loss: 31.65545654296875, val loss: 29.611818313598633\n",
      "2020-11-03 11:22:58,973 epoch: 14, train loss: 31.563356399536133, val loss: 29.572166442871094\n",
      "2020-11-03 11:23:12,093 epoch: 15, train loss: 31.39451026916504, val loss: 29.53192901611328\n",
      "2020-11-03 11:23:25,202 epoch: 16, train loss: 31.393203735351562, val loss: 29.507816314697266\n",
      "2020-11-03 11:23:37,968 epoch: 17, train loss: 31.272418975830078, val loss: 29.466289520263672\n",
      "2020-11-03 11:23:50,827 epoch: 18, train loss: 31.14081382751465, val loss: 29.443157196044922\n",
      "2020-11-03 11:24:03,746 epoch: 19, train loss: 31.09457015991211, val loss: 29.413143157958984\n",
      "2020-11-03 11:24:16,750 epoch: 20, train loss: 30.903074264526367, val loss: 29.4075984954834\n",
      "2020-11-03 11:24:28,886 normalizing counts for prediction\n",
      "2020-11-03 11:24:28,887 filtering for genes in training set\n",
      "2020-11-03 11:24:28,896 0 genes in training set are missing from prediction set\n",
      "2020-11-03 11:24:29,332 starting batch 1 of 2\n",
      "2020-11-03 11:24:29,473 normalizing counts for prediction\n",
      "2020-11-03 11:24:29,474 filtering for genes in training set\n",
      "2020-11-03 11:24:29,482 0 genes in training set are missing from prediction set\n",
      "2020-11-03 11:24:50,287 starting batch 2 of 2\n",
      "2020-11-03 11:24:50,410 normalizing counts for prediction\n",
      "2020-11-03 11:24:50,411 filtering for genes in training set\n",
      "2020-11-03 11:24:50,423 0 genes in training set are missing from prediction set\n"
     ]
    },
    {
     "name": "stdout",
     "output_type": "stream",
     "text": [
      "scRNAseq melanoma_train_cesc_val (2000, 23452) (8449, 22928)\n"
     ]
    },
    {
     "name": "stderr",
     "output_type": "stream",
     "text": [
      "2020-11-03 11:24:55,684 normalizing the expression counts for model training\n",
      "2020-11-03 11:25:01,824 input dataset shape: (10449, 20046)\n",
      "2020-11-03 11:25:01,826 possible cell types: ['B cell', 'CD4 T cell', 'CD8 T cell', 'Dendritic', 'Endothelial', 'Epithelial', 'Erythrocyte', 'Fibroblast', 'Malignant', 'Mast', 'Monocyte', 'NK', 'Plasma', 'Treg']\n",
      "2020-11-03 11:25:01,828 possible cell types: [('Malignant', 1200), ('CD8 T cell', 1200), ('Fibroblast', 1200), ('NK', 1200), ('Monocyte', 1200), ('Plasma', 1135), ('CD4 T cell', 1118), ('Epithelial', 1000), ('Endothelial', 532), ('Treg', 200), ('B cell', 200), ('Dendritic', 200), ('Mast', 49), ('Erythrocyte', 15)]\n",
      "2020-11-03 11:25:04,677 training dataset shape: (4805, 20046)\n",
      "2020-11-03 11:25:04,678 validation dataset shape: (5644, 20046)\n"
     ]
    },
    {
     "name": "stdout",
     "output_type": "stream",
     "text": [
      "WARNING:tensorflow:5 out of the last 13 calls to <function compute_loss at 0x7f13991523b0> triggered tf.function retracing. Tracing is expensive and the excessive number of tracings is likely due to passing python objects instead of tensors. Also, tf.function has experimental_relax_shapes=True option that relaxes argument shapes that can avoid unnecessary retracing. Please refer to https://www.tensorflow.org/tutorials/customization/performance#python_or_tensor_args and https://www.tensorflow.org/api_docs/python/tf/function for more details.\n"
     ]
    },
    {
     "name": "stderr",
     "output_type": "stream",
     "text": [
      "2020-11-03 11:25:14,882 5 out of the last 13 calls to <function compute_loss at 0x7f13991523b0> triggered tf.function retracing. Tracing is expensive and the excessive number of tracings is likely due to passing python objects instead of tensors. Also, tf.function has experimental_relax_shapes=True option that relaxes argument shapes that can avoid unnecessary retracing. Please refer to https://www.tensorflow.org/tutorials/customization/performance#python_or_tensor_args and https://www.tensorflow.org/api_docs/python/tf/function for more details.\n",
      "2020-11-03 11:25:16,164 epoch: 1, train loss: 32.98252487182617, val loss: 20.59423828125\n",
      "2020-11-03 11:25:26,446 epoch: 2, train loss: 31.996253967285156, val loss: 20.15383529663086\n",
      "2020-11-03 11:25:36,789 epoch: 3, train loss: 31.346406936645508, val loss: 19.829742431640625\n",
      "2020-11-03 11:25:47,191 epoch: 4, train loss: 30.787559509277344, val loss: 19.63329315185547\n",
      "2020-11-03 11:25:57,530 epoch: 5, train loss: 30.610082626342773, val loss: 19.473175048828125\n",
      "2020-11-03 11:26:08,036 epoch: 6, train loss: 30.43548583984375, val loss: 19.373092651367188\n",
      "2020-11-03 11:26:18,524 epoch: 7, train loss: 30.251609802246094, val loss: 19.28801727294922\n",
      "2020-11-03 11:26:29,083 epoch: 8, train loss: 30.153362274169922, val loss: 19.2403621673584\n",
      "2020-11-03 11:26:39,609 epoch: 9, train loss: 29.899995803833008, val loss: 19.177318572998047\n",
      "2020-11-03 11:26:50,161 epoch: 10, train loss: 30.04789924621582, val loss: 19.135543823242188\n",
      "2020-11-03 11:27:00,809 epoch: 11, train loss: 29.835575103759766, val loss: 19.09484100341797\n",
      "2020-11-03 11:27:11,279 epoch: 12, train loss: 29.849767684936523, val loss: 19.031681060791016\n",
      "2020-11-03 11:27:21,956 epoch: 13, train loss: 29.547765731811523, val loss: 18.97163200378418\n",
      "2020-11-03 11:27:32,441 epoch: 14, train loss: 29.402935028076172, val loss: 18.928428649902344\n",
      "2020-11-03 11:27:43,007 epoch: 15, train loss: 29.537010192871094, val loss: 18.89866065979004\n",
      "2020-11-03 11:27:53,516 epoch: 16, train loss: 29.21624755859375, val loss: 18.839176177978516\n",
      "2020-11-03 11:28:04,070 epoch: 17, train loss: 29.221101760864258, val loss: 18.774497985839844\n",
      "2020-11-03 11:28:14,546 epoch: 18, train loss: 29.28089714050293, val loss: 18.711339950561523\n",
      "2020-11-03 11:28:25,165 epoch: 19, train loss: 28.928382873535156, val loss: 18.6473388671875\n",
      "2020-11-03 11:28:35,778 epoch: 20, train loss: 29.0146541595459, val loss: 18.60906410217285\n",
      "2020-11-03 11:28:45,493 normalizing counts for prediction\n",
      "2020-11-03 11:28:45,495 filtering for genes in training set\n",
      "2020-11-03 11:28:45,504 0 genes in training set are missing from prediction set\n",
      "2020-11-03 11:28:46,002 starting batch 1 of 1\n",
      "2020-11-03 11:28:46,163 normalizing counts for prediction\n",
      "2020-11-03 11:28:46,164 filtering for genes in training set\n",
      "2020-11-03 11:28:46,174 0 genes in training set are missing from prediction set\n"
     ]
    },
    {
     "name": "stdout",
     "output_type": "stream",
     "text": [
      "scRNAseq melanoma_train_hnscc_val (2000, 23452) (10288, 26929)\n"
     ]
    },
    {
     "name": "stderr",
     "output_type": "stream",
     "text": [
      "2020-11-03 11:29:10,802 normalizing the expression counts for model training\n",
      "2020-11-03 11:29:18,468 input dataset shape: (12288, 21555)\n",
      "2020-11-03 11:29:18,470 possible cell types: ['B cell', 'CD4 T cell', 'CD8 T cell', 'Dendritic', 'Endothelial', 'Erythrocyte', 'Fibroblast', 'Malignant', 'Mast', 'Monocyte', 'NK', 'Plasma', 'Treg']\n",
      "2020-11-03 11:29:18,471 possible cell types: [('Malignant', 1200), ('Treg', 1200), ('Plasma', 1200), ('B cell', 1200), ('CD8 T cell', 1200), ('CD4 T cell', 1200), ('NK', 1200), ('Monocyte', 1200), ('Mast', 1000), ('Endothelial', 1000), ('Erythrocyte', 288), ('Fibroblast', 200), ('Dendritic', 200)]\n",
      "2020-11-03 11:29:21,971 training dataset shape: (5504, 21555)\n",
      "2020-11-03 11:29:21,972 validation dataset shape: (6784, 21555)\n",
      "2020-11-03 11:29:35,555 epoch: 1, train loss: 28.969152450561523, val loss: 20.247398376464844\n",
      "2020-11-03 11:29:48,012 epoch: 2, train loss: 28.18299102783203, val loss: 19.865365982055664\n",
      "2020-11-03 11:30:00,663 epoch: 3, train loss: 27.728839874267578, val loss: 19.697845458984375\n",
      "2020-11-03 11:30:13,313 epoch: 4, train loss: 27.501314163208008, val loss: 19.571083068847656\n",
      "2020-11-03 11:30:25,677 epoch: 5, train loss: 27.27741813659668, val loss: 19.410120010375977\n",
      "2020-11-03 11:30:38,060 epoch: 6, train loss: 27.070236206054688, val loss: 19.277790069580078\n",
      "2020-11-03 11:30:50,690 epoch: 7, train loss: 26.939685821533203, val loss: 19.190467834472656\n",
      "2020-11-03 11:31:03,172 epoch: 8, train loss: 26.808395385742188, val loss: 19.10315704345703\n",
      "2020-11-03 11:31:15,721 epoch: 9, train loss: 26.696626663208008, val loss: 19.039798736572266\n",
      "2020-11-03 11:31:28,355 epoch: 10, train loss: 26.585351943969727, val loss: 18.984264373779297\n",
      "2020-11-03 11:31:40,992 epoch: 11, train loss: 26.483707427978516, val loss: 18.935585021972656\n",
      "2020-11-03 11:31:53,422 epoch: 12, train loss: 26.38614273071289, val loss: 18.890689849853516\n",
      "2020-11-03 11:32:06,047 epoch: 13, train loss: 26.30567741394043, val loss: 18.85672378540039\n",
      "2020-11-03 11:32:18,744 epoch: 14, train loss: 26.2161922454834, val loss: 18.8205509185791\n",
      "2020-11-03 11:32:31,400 epoch: 15, train loss: 26.13593292236328, val loss: 18.78103256225586\n",
      "2020-11-03 11:32:43,828 epoch: 16, train loss: 26.062891006469727, val loss: 18.767154693603516\n",
      "2020-11-03 11:32:56,285 epoch: 17, train loss: 25.991071701049805, val loss: 18.743907928466797\n",
      "2020-11-03 11:33:08,705 epoch: 18, train loss: 25.913816452026367, val loss: 18.726314544677734\n",
      "2020-11-03 11:33:21,319 epoch: 19, train loss: 25.826963424682617, val loss: 18.703353881835938\n",
      "2020-11-03 11:33:33,888 epoch: 20, train loss: 25.748336791992188, val loss: 18.682392120361328\n",
      "2020-11-03 11:33:45,594 normalizing counts for prediction\n",
      "2020-11-03 11:33:45,595 filtering for genes in training set\n",
      "2020-11-03 11:33:45,608 0 genes in training set are missing from prediction set\n",
      "2020-11-03 11:33:46,167 starting batch 1 of 2\n",
      "2020-11-03 11:33:46,366 normalizing counts for prediction\n",
      "2020-11-03 11:33:46,368 filtering for genes in training set\n",
      "2020-11-03 11:33:46,380 0 genes in training set are missing from prediction set\n",
      "2020-11-03 11:34:09,089 starting batch 2 of 2\n",
      "2020-11-03 11:34:09,196 normalizing counts for prediction\n",
      "2020-11-03 11:34:09,197 filtering for genes in training set\n",
      "2020-11-03 11:34:09,209 0 genes in training set are missing from prediction set\n"
     ]
    },
    {
     "name": "stdout",
     "output_type": "stream",
     "text": [
      "scRNAseq melanoma_train_pbmc_val (2000, 23452) (1698, 32738)\n"
     ]
    },
    {
     "name": "stderr",
     "output_type": "stream",
     "text": [
      "2020-11-03 11:34:10,616 normalizing the expression counts for model training\n",
      "2020-11-03 11:34:12,430 input dataset shape: (3698, 16804)\n",
      "2020-11-03 11:34:12,432 possible cell types: ['B cell', 'CD4 T cell', 'CD8 T cell', 'Dendritic', 'Fibroblast', 'Malignant', 'Megakaryocyte', 'Monocyte', 'NK', 'Plasma', 'Treg']\n",
      "2020-11-03 11:34:12,433 possible cell types: [('CD4 T cell', 1143), ('Monocyte', 634), ('B cell', 341), ('CD8 T cell', 306), ('NK', 263), ('Dendritic', 208), ('Malignant', 200), ('Treg', 200), ('Plasma', 200), ('Fibroblast', 200), ('Megakaryocyte', 3)]\n",
      "2020-11-03 11:34:13,113 training dataset shape: (2406, 16804)\n",
      "2020-11-03 11:34:13,115 validation dataset shape: (1292, 16804)\n"
     ]
    },
    {
     "name": "stdout",
     "output_type": "stream",
     "text": [
      "WARNING:tensorflow:5 out of the last 14 calls to <function compute_loss at 0x7f13991523b0> triggered tf.function retracing. Tracing is expensive and the excessive number of tracings is likely due to passing python objects instead of tensors. Also, tf.function has experimental_relax_shapes=True option that relaxes argument shapes that can avoid unnecessary retracing. Please refer to https://www.tensorflow.org/tutorials/customization/performance#python_or_tensor_args and https://www.tensorflow.org/api_docs/python/tf/function for more details.\n"
     ]
    },
    {
     "name": "stderr",
     "output_type": "stream",
     "text": [
      "2020-11-03 11:34:18,140 5 out of the last 14 calls to <function compute_loss at 0x7f13991523b0> triggered tf.function retracing. Tracing is expensive and the excessive number of tracings is likely due to passing python objects instead of tensors. Also, tf.function has experimental_relax_shapes=True option that relaxes argument shapes that can avoid unnecessary retracing. Please refer to https://www.tensorflow.org/tutorials/customization/performance#python_or_tensor_args and https://www.tensorflow.org/api_docs/python/tf/function for more details.\n",
      "2020-11-03 11:34:19,108 epoch: 1, train loss: 36.28264236450195, val loss: 44.78963088989258\n",
      "2020-11-03 11:34:23,906 epoch: 2, train loss: 35.32258224487305, val loss: 43.80751037597656\n",
      "2020-11-03 11:34:28,724 epoch: 3, train loss: 35.197113037109375, val loss: 43.63060760498047\n",
      "2020-11-03 11:34:33,520 epoch: 4, train loss: 34.8891716003418, val loss: 43.217071533203125\n",
      "2020-11-03 11:34:38,239 epoch: 5, train loss: 34.6039924621582, val loss: 42.92527770996094\n",
      "2020-11-03 11:34:42,911 epoch: 6, train loss: 34.36418151855469, val loss: 42.696617126464844\n",
      "2020-11-03 11:34:47,675 epoch: 7, train loss: 34.046966552734375, val loss: 42.43220520019531\n",
      "2020-11-03 11:34:52,446 epoch: 8, train loss: 33.7833137512207, val loss: 42.21363067626953\n",
      "2020-11-03 11:34:57,118 epoch: 9, train loss: 33.60986328125, val loss: 42.085784912109375\n",
      "2020-11-03 11:35:01,907 epoch: 10, train loss: 33.500274658203125, val loss: 41.99519729614258\n",
      "2020-11-03 11:35:06,711 epoch: 11, train loss: 33.36490249633789, val loss: 41.91229248046875\n",
      "2020-11-03 11:35:11,448 epoch: 12, train loss: 33.24718475341797, val loss: 41.84428787231445\n",
      "2020-11-03 11:35:16,144 epoch: 13, train loss: 33.15095520019531, val loss: 41.767189025878906\n",
      "2020-11-03 11:35:20,933 epoch: 14, train loss: 33.099365234375, val loss: 41.71955871582031\n",
      "2020-11-03 11:35:25,706 epoch: 15, train loss: 32.8935432434082, val loss: 41.69153594970703\n",
      "2020-11-03 11:35:30,433 epoch: 16, train loss: 32.72549057006836, val loss: 41.65263366699219\n",
      "2020-11-03 11:35:35,180 epoch: 17, train loss: 32.674827575683594, val loss: 41.61161422729492\n",
      "2020-11-03 11:35:39,961 epoch: 18, train loss: 32.44750213623047, val loss: 41.611412048339844\n",
      "2020-11-03 11:35:44,579 epoch: 19, train loss: 32.38814163208008, val loss: 41.58551025390625\n",
      "2020-11-03 11:35:49,375 epoch: 20, train loss: 32.199737548828125, val loss: 41.5798454284668\n",
      "2020-11-03 11:35:52,929 normalizing counts for prediction\n",
      "2020-11-03 11:35:52,930 filtering for genes in training set\n",
      "2020-11-03 11:35:52,940 0 genes in training set are missing from prediction set\n",
      "2020-11-03 11:35:53,408 starting batch 1 of 1\n",
      "2020-11-03 11:35:53,471 normalizing counts for prediction\n",
      "2020-11-03 11:35:53,472 filtering for genes in training set\n",
      "2020-11-03 11:35:53,481 0 genes in training set are missing from prediction set\n"
     ]
    },
    {
     "name": "stdout",
     "output_type": "stream",
     "text": [
      "scRNAseq melanoma_train_pdac_val (2000, 23452) (15435, 28756)\n"
     ]
    },
    {
     "name": "stderr",
     "output_type": "stream",
     "text": [
      "2020-11-03 11:35:59,139 normalizing the expression counts for model training\n",
      "2020-11-03 11:36:10,156 input dataset shape: (17435, 21725)\n",
      "2020-11-03 11:36:10,158 possible cell types: ['Acinar', 'B cell', 'CD4 T cell', 'CD8 T cell', 'Dendritic', 'Endothelial', 'Epithelial', 'Erythrocyte', 'Fibroblast', 'Islet', 'Malignant', 'Mast', 'Monocyte', 'NK', 'Plasma', 'Treg', 'Tuft']\n",
      "2020-11-03 11:36:10,161 possible cell types: [('Malignant', 1200), ('Treg', 1200), ('Plasma', 1200), ('B cell', 1200), ('CD8 T cell', 1200), ('Fibroblast', 1200), ('CD4 T cell', 1200), ('NK', 1200), ('Dendritic', 1200), ('Monocyte', 1200), ('Endothelial', 1000), ('Acinar', 1000), ('Islet', 1000), ('Mast', 1000), ('Epithelial', 968), ('Erythrocyte', 412), ('Tuft', 55)]\n",
      "2020-11-03 11:36:15,697 training dataset shape: (7800, 21725)\n",
      "2020-11-03 11:36:15,698 validation dataset shape: (9635, 21725)\n",
      "2020-11-03 11:36:33,746 epoch: 1, train loss: 29.12691307067871, val loss: 22.703203201293945\n",
      "2020-11-03 11:36:50,888 epoch: 2, train loss: 27.969955444335938, val loss: 22.230512619018555\n",
      "2020-11-03 11:37:08,019 epoch: 3, train loss: 27.45414161682129, val loss: 21.966777801513672\n",
      "2020-11-03 11:37:25,396 epoch: 4, train loss: 27.216459274291992, val loss: 21.832950592041016\n",
      "2020-11-03 11:37:42,964 epoch: 5, train loss: 27.04283332824707, val loss: 21.74622344970703\n",
      "2020-11-03 11:38:00,277 epoch: 6, train loss: 26.896257400512695, val loss: 21.671119689941406\n",
      "2020-11-03 11:38:17,996 epoch: 7, train loss: 26.76262664794922, val loss: 21.623008728027344\n",
      "2020-11-03 11:38:35,511 epoch: 8, train loss: 26.6420955657959, val loss: 21.563220977783203\n",
      "2020-11-03 11:38:52,949 epoch: 9, train loss: 26.533100128173828, val loss: 21.51613998413086\n",
      "2020-11-03 11:39:10,484 epoch: 10, train loss: 26.438142776489258, val loss: 21.47995376586914\n",
      "2020-11-03 11:39:27,706 epoch: 11, train loss: 26.341711044311523, val loss: 21.434968948364258\n",
      "2020-11-03 11:39:45,091 epoch: 12, train loss: 26.25718879699707, val loss: 21.37552833557129\n",
      "2020-11-03 11:40:02,438 epoch: 13, train loss: 26.183216094970703, val loss: 21.31793212890625\n",
      "2020-11-03 11:40:19,733 epoch: 14, train loss: 26.104215621948242, val loss: 21.279863357543945\n",
      "2020-11-03 11:40:37,066 epoch: 15, train loss: 26.032516479492188, val loss: 21.248733520507812\n",
      "2020-11-03 11:40:54,709 epoch: 16, train loss: 25.957109451293945, val loss: 21.215286254882812\n",
      "2020-11-03 11:41:11,963 epoch: 17, train loss: 25.887298583984375, val loss: 21.169391632080078\n",
      "2020-11-03 11:41:29,775 epoch: 18, train loss: 25.808380126953125, val loss: 21.133785247802734\n",
      "2020-11-03 11:41:47,152 epoch: 19, train loss: 25.729610443115234, val loss: 21.093996047973633\n",
      "2020-11-03 11:42:04,595 epoch: 20, train loss: 25.65508460998535, val loss: 21.066869735717773\n",
      "2020-11-03 11:42:21,327 normalizing counts for prediction\n",
      "2020-11-03 11:42:21,328 filtering for genes in training set\n",
      "2020-11-03 11:42:21,338 0 genes in training set are missing from prediction set\n",
      "2020-11-03 11:42:21,763 starting batch 1 of 2\n",
      "2020-11-03 11:42:21,959 normalizing counts for prediction\n",
      "2020-11-03 11:42:21,960 filtering for genes in training set\n",
      "2020-11-03 11:42:21,970 0 genes in training set are missing from prediction set\n",
      "2020-11-03 11:42:44,053 starting batch 2 of 2\n",
      "2020-11-03 11:42:44,255 normalizing counts for prediction\n",
      "2020-11-03 11:42:44,257 filtering for genes in training set\n",
      "2020-11-03 11:42:44,267 0 genes in training set are missing from prediction set\n"
     ]
    },
    {
     "name": "stdout",
     "output_type": "stream",
     "text": [
      "scRNAseq pbmc_train_brca_val (940, 32738) (11253, 27131)\n"
     ]
    },
    {
     "name": "stderr",
     "output_type": "stream",
     "text": [
      "2020-11-03 11:42:57,804 normalizing the expression counts for model training\n",
      "2020-11-03 11:43:04,400 input dataset shape: (12193, 18511)\n",
      "2020-11-03 11:43:04,402 possible cell types: ['B cell', 'CD4 T cell', 'CD8 T cell', 'Dendritic', 'Endothelial', 'Erythrocyte', 'Fibroblast', 'Malignant', 'Mast', 'Megakaryocyte', 'Monocyte', 'NK', 'Plasma', 'Treg']\n",
      "2020-11-03 11:43:04,404 possible cell types: [('CD4 T cell', 1200), ('B cell', 1200), ('CD8 T cell', 1200), ('Monocyte', 1200), ('NK', 1100), ('Endothelial', 1000), ('Treg', 1000), ('Malignant', 1000), ('Fibroblast', 1000), ('Plasma', 1000), ('Mast', 546), ('Dendritic', 422), ('Erythrocyte', 315), ('Megakaryocyte', 10)]\n",
      "2020-11-03 11:43:07,622 training dataset shape: (5770, 18511)\n",
      "2020-11-03 11:43:07,623 validation dataset shape: (6423, 18511)\n",
      "2020-11-03 11:43:20,093 epoch: 1, train loss: 29.70446014404297, val loss: 15.315662384033203\n",
      "2020-11-03 11:43:31,682 epoch: 2, train loss: 29.04641342163086, val loss: 15.071821212768555\n",
      "2020-11-03 11:43:43,191 epoch: 3, train loss: 28.55693817138672, val loss: 14.833984375\n",
      "2020-11-03 11:43:54,796 epoch: 4, train loss: 28.258256912231445, val loss: 14.689614295959473\n",
      "2020-11-03 11:44:06,393 epoch: 5, train loss: 28.103843688964844, val loss: 14.560483932495117\n",
      "2020-11-03 11:44:18,121 epoch: 6, train loss: 27.872432708740234, val loss: 14.424810409545898\n",
      "2020-11-03 11:44:29,777 epoch: 7, train loss: 27.708377838134766, val loss: 14.346439361572266\n",
      "2020-11-03 11:44:41,518 epoch: 8, train loss: 27.577293395996094, val loss: 14.272481918334961\n",
      "2020-11-03 11:44:53,600 epoch: 9, train loss: 27.419326782226562, val loss: 14.209924697875977\n",
      "2020-11-03 11:45:05,563 epoch: 10, train loss: 27.366838455200195, val loss: 14.154705047607422\n",
      "2020-11-03 11:45:17,488 epoch: 11, train loss: 27.288965225219727, val loss: 14.1088228225708\n",
      "2020-11-03 11:45:29,372 epoch: 12, train loss: 27.186246871948242, val loss: 14.06788158416748\n",
      "2020-11-03 11:45:41,274 epoch: 13, train loss: 27.094348907470703, val loss: 14.036761283874512\n",
      "2020-11-03 11:45:53,080 epoch: 14, train loss: 27.06954574584961, val loss: 14.019152641296387\n",
      "2020-11-03 11:46:05,058 epoch: 15, train loss: 26.99460792541504, val loss: 13.994309425354004\n",
      "2020-11-03 11:46:16,892 epoch: 16, train loss: 26.890382766723633, val loss: 13.981425285339355\n",
      "2020-11-03 11:46:28,815 epoch: 17, train loss: 26.776121139526367, val loss: 13.97272777557373\n",
      "2020-11-03 11:46:40,503 epoch: 18, train loss: 26.726675033569336, val loss: 13.960531234741211\n",
      "2020-11-03 11:46:52,490 epoch: 19, train loss: 26.67847442626953, val loss: 13.955472946166992\n",
      "2020-11-03 11:47:04,320 epoch: 20, train loss: 26.507041931152344, val loss: 13.953838348388672\n",
      "2020-11-03 11:47:15,210 normalizing counts for prediction\n",
      "2020-11-03 11:47:15,211 filtering for genes in training set\n",
      "2020-11-03 11:47:15,222 0 genes in training set are missing from prediction set\n",
      "2020-11-03 11:47:15,728 starting batch 1 of 2\n",
      "2020-11-03 11:47:15,932 normalizing counts for prediction\n",
      "2020-11-03 11:47:15,933 filtering for genes in training set\n",
      "2020-11-03 11:47:15,942 0 genes in training set are missing from prediction set\n",
      "2020-11-03 11:47:34,616 starting batch 2 of 2\n",
      "2020-11-03 11:47:34,702 normalizing counts for prediction\n",
      "2020-11-03 11:47:34,703 filtering for genes in training set\n",
      "2020-11-03 11:47:34,709 0 genes in training set are missing from prediction set\n"
     ]
    },
    {
     "name": "stdout",
     "output_type": "stream",
     "text": [
      "scRNAseq pbmc_train_cesc_val (940, 32738) (8449, 22928)\n"
     ]
    },
    {
     "name": "stderr",
     "output_type": "stream",
     "text": [
      "2020-11-03 11:47:38,882 normalizing the expression counts for model training\n",
      "2020-11-03 11:47:43,540 input dataset shape: (9389, 17080)\n",
      "2020-11-03 11:47:43,542 possible cell types: ['B cell', 'CD4 T cell', 'CD8 T cell', 'Dendritic', 'Endothelial', 'Epithelial', 'Erythrocyte', 'Fibroblast', 'Malignant', 'Mast', 'Megakaryocyte', 'Monocyte', 'NK', 'Plasma']\n",
      "2020-11-03 11:47:43,544 possible cell types: [('CD8 T cell', 1200), ('Monocyte', 1200), ('CD4 T cell', 1118), ('NK', 1100), ('Fibroblast', 1000), ('Epithelial', 1000), ('Malignant', 1000), ('Plasma', 935), ('Endothelial', 532), ('B cell', 200), ('Mast', 49), ('Dendritic', 30), ('Erythrocyte', 15), ('Megakaryocyte', 10)]\n",
      "2020-11-03 11:47:45,865 training dataset shape: (4531, 17080)\n",
      "2020-11-03 11:47:45,866 validation dataset shape: (4858, 17080)\n"
     ]
    },
    {
     "name": "stdout",
     "output_type": "stream",
     "text": [
      "WARNING:tensorflow:5 out of the last 80 calls to <function compute_loss at 0x7f13991523b0> triggered tf.function retracing. Tracing is expensive and the excessive number of tracings is likely due to passing python objects instead of tensors. Also, tf.function has experimental_relax_shapes=True option that relaxes argument shapes that can avoid unnecessary retracing. Please refer to https://www.tensorflow.org/tutorials/customization/performance#python_or_tensor_args and https://www.tensorflow.org/api_docs/python/tf/function for more details.\n"
     ]
    },
    {
     "name": "stderr",
     "output_type": "stream",
     "text": [
      "2020-11-03 11:47:53,829 5 out of the last 80 calls to <function compute_loss at 0x7f13991523b0> triggered tf.function retracing. Tracing is expensive and the excessive number of tracings is likely due to passing python objects instead of tensors. Also, tf.function has experimental_relax_shapes=True option that relaxes argument shapes that can avoid unnecessary retracing. Please refer to https://www.tensorflow.org/tutorials/customization/performance#python_or_tensor_args and https://www.tensorflow.org/api_docs/python/tf/function for more details.\n"
     ]
    },
    {
     "name": "stdout",
     "output_type": "stream",
     "text": [
      "WARNING:tensorflow:5 out of the last 11 calls to <function compute_loss at 0x7f13991523b0> triggered tf.function retracing. Tracing is expensive and the excessive number of tracings is likely due to passing python objects instead of tensors. Also, tf.function has experimental_relax_shapes=True option that relaxes argument shapes that can avoid unnecessary retracing. Please refer to https://www.tensorflow.org/tutorials/customization/performance#python_or_tensor_args and https://www.tensorflow.org/api_docs/python/tf/function for more details.\n"
     ]
    },
    {
     "name": "stderr",
     "output_type": "stream",
     "text": [
      "2020-11-03 11:47:53,915 5 out of the last 11 calls to <function compute_loss at 0x7f13991523b0> triggered tf.function retracing. Tracing is expensive and the excessive number of tracings is likely due to passing python objects instead of tensors. Also, tf.function has experimental_relax_shapes=True option that relaxes argument shapes that can avoid unnecessary retracing. Please refer to https://www.tensorflow.org/tutorials/customization/performance#python_or_tensor_args and https://www.tensorflow.org/api_docs/python/tf/function for more details.\n"
     ]
    },
    {
     "name": "stdout",
     "output_type": "stream",
     "text": [
      "WARNING:tensorflow:5 out of the last 13 calls to <function compute_loss at 0x7f13991523b0> triggered tf.function retracing. Tracing is expensive and the excessive number of tracings is likely due to passing python objects instead of tensors. Also, tf.function has experimental_relax_shapes=True option that relaxes argument shapes that can avoid unnecessary retracing. Please refer to https://www.tensorflow.org/tutorials/customization/performance#python_or_tensor_args and https://www.tensorflow.org/api_docs/python/tf/function for more details.\n"
     ]
    },
    {
     "name": "stderr",
     "output_type": "stream",
     "text": [
      "2020-11-03 11:47:54,204 5 out of the last 13 calls to <function compute_loss at 0x7f13991523b0> triggered tf.function retracing. Tracing is expensive and the excessive number of tracings is likely due to passing python objects instead of tensors. Also, tf.function has experimental_relax_shapes=True option that relaxes argument shapes that can avoid unnecessary retracing. Please refer to https://www.tensorflow.org/tutorials/customization/performance#python_or_tensor_args and https://www.tensorflow.org/api_docs/python/tf/function for more details.\n"
     ]
    },
    {
     "name": "stdout",
     "output_type": "stream",
     "text": [
      "WARNING:tensorflow:5 out of the last 13 calls to <function compute_loss at 0x7f13991523b0> triggered tf.function retracing. Tracing is expensive and the excessive number of tracings is likely due to passing python objects instead of tensors. Also, tf.function has experimental_relax_shapes=True option that relaxes argument shapes that can avoid unnecessary retracing. Please refer to https://www.tensorflow.org/tutorials/customization/performance#python_or_tensor_args and https://www.tensorflow.org/api_docs/python/tf/function for more details.\n"
     ]
    },
    {
     "name": "stderr",
     "output_type": "stream",
     "text": [
      "2020-11-03 11:47:54,515 5 out of the last 13 calls to <function compute_loss at 0x7f13991523b0> triggered tf.function retracing. Tracing is expensive and the excessive number of tracings is likely due to passing python objects instead of tensors. Also, tf.function has experimental_relax_shapes=True option that relaxes argument shapes that can avoid unnecessary retracing. Please refer to https://www.tensorflow.org/tutorials/customization/performance#python_or_tensor_args and https://www.tensorflow.org/api_docs/python/tf/function for more details.\n"
     ]
    },
    {
     "name": "stdout",
     "output_type": "stream",
     "text": [
      "WARNING:tensorflow:6 out of the last 14 calls to <function compute_loss at 0x7f13991523b0> triggered tf.function retracing. Tracing is expensive and the excessive number of tracings is likely due to passing python objects instead of tensors. Also, tf.function has experimental_relax_shapes=True option that relaxes argument shapes that can avoid unnecessary retracing. Please refer to https://www.tensorflow.org/tutorials/customization/performance#python_or_tensor_args and https://www.tensorflow.org/api_docs/python/tf/function for more details.\n"
     ]
    },
    {
     "name": "stderr",
     "output_type": "stream",
     "text": [
      "2020-11-03 11:47:54,600 6 out of the last 14 calls to <function compute_loss at 0x7f13991523b0> triggered tf.function retracing. Tracing is expensive and the excessive number of tracings is likely due to passing python objects instead of tensors. Also, tf.function has experimental_relax_shapes=True option that relaxes argument shapes that can avoid unnecessary retracing. Please refer to https://www.tensorflow.org/tutorials/customization/performance#python_or_tensor_args and https://www.tensorflow.org/api_docs/python/tf/function for more details.\n"
     ]
    },
    {
     "name": "stdout",
     "output_type": "stream",
     "text": [
      "WARNING:tensorflow:7 out of the last 15 calls to <function compute_loss at 0x7f13991523b0> triggered tf.function retracing. Tracing is expensive and the excessive number of tracings is likely due to passing python objects instead of tensors. Also, tf.function has experimental_relax_shapes=True option that relaxes argument shapes that can avoid unnecessary retracing. Please refer to https://www.tensorflow.org/tutorials/customization/performance#python_or_tensor_args and https://www.tensorflow.org/api_docs/python/tf/function for more details.\n"
     ]
    },
    {
     "name": "stderr",
     "output_type": "stream",
     "text": [
      "2020-11-03 11:47:54,687 7 out of the last 15 calls to <function compute_loss at 0x7f13991523b0> triggered tf.function retracing. Tracing is expensive and the excessive number of tracings is likely due to passing python objects instead of tensors. Also, tf.function has experimental_relax_shapes=True option that relaxes argument shapes that can avoid unnecessary retracing. Please refer to https://www.tensorflow.org/tutorials/customization/performance#python_or_tensor_args and https://www.tensorflow.org/api_docs/python/tf/function for more details.\n",
      "2020-11-03 11:47:55,755 epoch: 1, train loss: 30.160335540771484, val loss: 8.557684898376465\n",
      "2020-11-03 11:48:04,110 epoch: 2, train loss: 29.25855255126953, val loss: 8.365677833557129\n",
      "2020-11-03 11:48:12,494 epoch: 3, train loss: 28.73624610900879, val loss: 8.235435485839844\n",
      "2020-11-03 11:48:20,821 epoch: 4, train loss: 28.32094955444336, val loss: 8.191970825195312\n",
      "2020-11-03 11:48:29,227 epoch: 5, train loss: 28.01756477355957, val loss: 8.123988151550293\n",
      "2020-11-03 11:48:37,569 epoch: 6, train loss: 27.844833374023438, val loss: 8.028387069702148\n",
      "2020-11-03 11:48:45,971 epoch: 7, train loss: 27.708850860595703, val loss: 7.946276664733887\n",
      "2020-11-03 11:48:54,430 epoch: 8, train loss: 27.5872802734375, val loss: 7.895777702331543\n",
      "2020-11-03 11:49:02,837 epoch: 9, train loss: 27.475337982177734, val loss: 7.8604559898376465\n",
      "2020-11-03 11:49:11,218 epoch: 10, train loss: 27.365278244018555, val loss: 7.8252434730529785\n",
      "2020-11-03 11:49:19,586 epoch: 11, train loss: 27.2518367767334, val loss: 7.80557918548584\n",
      "2020-11-03 11:49:27,910 epoch: 12, train loss: 27.166418075561523, val loss: 7.783842086791992\n",
      "2020-11-03 11:49:36,303 epoch: 13, train loss: 27.075105667114258, val loss: 7.771322250366211\n",
      "2020-11-03 11:49:44,675 epoch: 14, train loss: 26.98947525024414, val loss: 7.762239456176758\n",
      "2020-11-03 11:49:52,970 epoch: 15, train loss: 26.899715423583984, val loss: 7.749511241912842\n",
      "2020-11-03 11:50:01,325 epoch: 16, train loss: 26.827268600463867, val loss: 7.741427421569824\n",
      "2020-11-03 11:50:09,802 epoch: 17, train loss: 26.74106216430664, val loss: 7.7360076904296875\n",
      "2020-11-03 11:50:18,233 epoch: 18, train loss: 26.646005630493164, val loss: 7.726006031036377\n",
      "2020-11-03 11:50:26,519 epoch: 19, train loss: 26.59319305419922, val loss: 7.7207746505737305\n",
      "2020-11-03 11:50:34,820 epoch: 20, train loss: 26.51012420654297, val loss: 7.720144748687744\n",
      "2020-11-03 11:50:43,221 normalizing counts for prediction\n",
      "2020-11-03 11:50:43,222 filtering for genes in training set\n",
      "2020-11-03 11:50:43,228 0 genes in training set are missing from prediction set\n",
      "2020-11-03 11:50:43,587 starting batch 1 of 1\n",
      "2020-11-03 11:50:43,682 normalizing counts for prediction\n",
      "2020-11-03 11:50:43,683 filtering for genes in training set\n",
      "2020-11-03 11:50:43,689 0 genes in training set are missing from prediction set\n"
     ]
    },
    {
     "name": "stdout",
     "output_type": "stream",
     "text": [
      "scRNAseq pbmc_train_hnscc_val (940, 32738) (10288, 26929)\n"
     ]
    },
    {
     "name": "stderr",
     "output_type": "stream",
     "text": [
      "2020-11-03 11:51:04,743 normalizing the expression counts for model training\n",
      "2020-11-03 11:51:10,811 input dataset shape: (11228, 18521)\n",
      "2020-11-03 11:51:10,813 possible cell types: ['B cell', 'CD4 T cell', 'CD8 T cell', 'Dendritic', 'Endothelial', 'Erythrocyte', 'Malignant', 'Mast', 'Megakaryocyte', 'Monocyte', 'NK', 'Plasma', 'Treg']\n",
      "2020-11-03 11:51:10,815 possible cell types: [('CD4 T cell', 1200), ('B cell', 1200), ('CD8 T cell', 1200), ('Monocyte', 1200), ('NK', 1100), ('Treg', 1000), ('Plasma', 1000), ('Mast', 1000), ('Endothelial', 1000), ('Malignant', 1000), ('Erythrocyte', 288), ('Dendritic', 30), ('Megakaryocyte', 10)]\n",
      "2020-11-03 11:51:13,602 training dataset shape: (5235, 18521)\n",
      "2020-11-03 11:51:13,603 validation dataset shape: (5993, 18521)\n",
      "2020-11-03 11:51:25,124 epoch: 1, train loss: 25.005624771118164, val loss: 9.906452178955078\n",
      "2020-11-03 11:51:35,644 epoch: 2, train loss: 24.4320011138916, val loss: 9.679719924926758\n",
      "2020-11-03 11:51:46,127 epoch: 3, train loss: 24.01212501525879, val loss: 9.61428451538086\n",
      "2020-11-03 11:51:56,724 epoch: 4, train loss: 23.759660720825195, val loss: 9.54769515991211\n",
      "2020-11-03 11:52:07,288 epoch: 5, train loss: 23.562068939208984, val loss: 9.478232383728027\n",
      "2020-11-03 11:52:17,797 epoch: 6, train loss: 23.391542434692383, val loss: 9.39845085144043\n",
      "2020-11-03 11:52:28,413 epoch: 7, train loss: 23.290220260620117, val loss: 9.349664688110352\n",
      "2020-11-03 11:52:38,965 epoch: 8, train loss: 23.183015823364258, val loss: 9.3060302734375\n",
      "2020-11-03 11:52:49,621 epoch: 9, train loss: 23.112443923950195, val loss: 9.267928123474121\n",
      "2020-11-03 11:53:00,408 epoch: 10, train loss: 22.996328353881836, val loss: 9.240581512451172\n",
      "2020-11-03 11:53:11,046 epoch: 11, train loss: 22.899093627929688, val loss: 9.20849609375\n",
      "2020-11-03 11:53:21,732 epoch: 12, train loss: 22.820863723754883, val loss: 9.174948692321777\n",
      "2020-11-03 11:53:32,492 epoch: 13, train loss: 22.74727439880371, val loss: 9.138437271118164\n",
      "2020-11-03 11:53:43,135 epoch: 14, train loss: 22.6721248626709, val loss: 9.113080978393555\n",
      "2020-11-03 11:53:53,886 epoch: 15, train loss: 22.592214584350586, val loss: 9.085676193237305\n",
      "2020-11-03 11:54:04,461 epoch: 16, train loss: 22.521404266357422, val loss: 9.070087432861328\n",
      "2020-11-03 11:54:15,139 epoch: 17, train loss: 22.450273513793945, val loss: 9.065536499023438\n",
      "2020-11-03 11:54:25,797 epoch: 18, train loss: 22.38123893737793, val loss: 9.05237102508545\n",
      "2020-11-03 11:54:36,455 epoch: 19, train loss: 22.318649291992188, val loss: 9.042452812194824\n",
      "2020-11-03 11:54:46,980 epoch: 20, train loss: 22.25679588317871, val loss: 9.034538269042969\n",
      "2020-11-03 11:54:56,912 normalizing counts for prediction\n",
      "2020-11-03 11:54:56,913 filtering for genes in training set\n",
      "2020-11-03 11:54:56,923 0 genes in training set are missing from prediction set\n",
      "2020-11-03 11:54:57,418 starting batch 1 of 2\n",
      "2020-11-03 11:54:57,614 normalizing counts for prediction\n",
      "2020-11-03 11:54:57,615 filtering for genes in training set\n",
      "2020-11-03 11:54:57,623 0 genes in training set are missing from prediction set\n",
      "2020-11-03 11:55:18,418 starting batch 2 of 2\n",
      "2020-11-03 11:55:18,523 normalizing counts for prediction\n",
      "2020-11-03 11:55:18,524 filtering for genes in training set\n",
      "2020-11-03 11:55:18,532 0 genes in training set are missing from prediction set\n"
     ]
    },
    {
     "name": "stdout",
     "output_type": "stream",
     "text": [
      "scRNAseq pbmc_train_melanoma_val (940, 32738) (6735, 23452)\n"
     ]
    },
    {
     "name": "stderr",
     "output_type": "stream",
     "text": [
      "2020-11-03 11:55:20,434 normalizing the expression counts for model training\n",
      "2020-11-03 11:55:24,198 input dataset shape: (7675, 16804)\n",
      "2020-11-03 11:55:24,200 possible cell types: ['B cell', 'CD4 T cell', 'CD8 T cell', 'Dendritic', 'Fibroblast', 'Malignant', 'Megakaryocyte', 'Monocyte', 'NK', 'Plasma', 'Treg']\n",
      "2020-11-03 11:55:24,201 possible cell types: [('CD4 T cell', 1200), ('B cell', 1200), ('CD8 T cell', 1200), ('Monocyte', 1200), ('Malignant', 1000), ('Treg', 662), ('Dendritic', 571), ('NK', 438), ('Fibroblast', 121), ('Plasma', 73), ('Megakaryocyte', 10)]\n",
      "2020-11-03 11:55:25,813 training dataset shape: (3720, 16804)\n",
      "2020-11-03 11:55:25,814 validation dataset shape: (3955, 16804)\n",
      "2020-11-03 11:55:33,907 epoch: 1, train loss: 29.658782958984375, val loss: 19.158100128173828\n",
      "2020-11-03 11:55:40,803 epoch: 2, train loss: 29.276447296142578, val loss: 18.959152221679688\n",
      "2020-11-03 11:55:47,619 epoch: 3, train loss: 28.84733772277832, val loss: 18.868236541748047\n",
      "2020-11-03 11:55:54,610 epoch: 4, train loss: 28.55411720275879, val loss: 18.77674102783203\n",
      "2020-11-03 11:56:01,450 epoch: 5, train loss: 28.208818435668945, val loss: 18.705089569091797\n",
      "2020-11-03 11:56:08,529 epoch: 6, train loss: 28.147499084472656, val loss: 18.671422958374023\n",
      "2020-11-03 11:56:15,469 epoch: 7, train loss: 27.846969604492188, val loss: 18.614023208618164\n",
      "2020-11-03 11:56:22,435 epoch: 8, train loss: 27.68825912475586, val loss: 18.541454315185547\n",
      "2020-11-03 11:56:29,627 epoch: 9, train loss: 27.734346389770508, val loss: 18.468120574951172\n",
      "2020-11-03 11:56:36,697 epoch: 10, train loss: 27.57151985168457, val loss: 18.403366088867188\n",
      "2020-11-03 11:56:43,811 epoch: 11, train loss: 27.4254093170166, val loss: 18.358074188232422\n",
      "2020-11-03 11:56:50,754 epoch: 12, train loss: 27.299470901489258, val loss: 18.32025718688965\n",
      "2020-11-03 11:56:57,717 epoch: 13, train loss: 27.177095413208008, val loss: 18.293270111083984\n",
      "2020-11-03 11:57:04,808 epoch: 14, train loss: 27.15044403076172, val loss: 18.287845611572266\n",
      "2020-11-03 11:57:11,968 epoch: 15, train loss: 26.984188079833984, val loss: 18.26346206665039\n",
      "2020-11-03 11:57:19,021 epoch: 16, train loss: 26.948314666748047, val loss: 18.248279571533203\n",
      "2020-11-03 11:57:25,985 epoch: 17, train loss: 26.973495483398438, val loss: 18.230188369750977\n",
      "2020-11-03 11:57:33,049 epoch: 18, train loss: 26.740983963012695, val loss: 18.215614318847656\n",
      "2020-11-03 11:57:40,042 epoch: 19, train loss: 26.583694458007812, val loss: 18.21198081970215\n",
      "2020-11-03 11:57:47,097 epoch: 20, train loss: 26.536441802978516, val loss: 18.188617706298828\n",
      "2020-11-03 11:57:53,534 normalizing counts for prediction\n",
      "2020-11-03 11:57:53,535 filtering for genes in training set\n",
      "2020-11-03 11:57:53,544 0 genes in training set are missing from prediction set\n",
      "2020-11-03 11:57:53,991 starting batch 1 of 1\n",
      "2020-11-03 11:57:54,096 normalizing counts for prediction\n",
      "2020-11-03 11:57:54,097 filtering for genes in training set\n",
      "2020-11-03 11:57:54,104 0 genes in training set are missing from prediction set\n"
     ]
    },
    {
     "name": "stdout",
     "output_type": "stream",
     "text": [
      "scRNAseq pbmc_train_pdac_val (940, 32738) (15435, 28756)\n"
     ]
    },
    {
     "name": "stderr",
     "output_type": "stream",
     "text": [
      "2020-11-03 11:58:07,151 normalizing the expression counts for model training\n",
      "2020-11-03 11:58:16,110 input dataset shape: (16375, 18993)\n",
      "2020-11-03 11:58:16,112 possible cell types: ['Acinar', 'B cell', 'CD4 T cell', 'CD8 T cell', 'Dendritic', 'Endothelial', 'Epithelial', 'Erythrocyte', 'Fibroblast', 'Islet', 'Malignant', 'Mast', 'Megakaryocyte', 'Monocyte', 'NK', 'Plasma', 'Treg', 'Tuft']\n",
      "2020-11-03 11:58:16,115 possible cell types: [('CD4 T cell', 1200), ('B cell', 1200), ('CD8 T cell', 1200), ('Monocyte', 1200), ('NK', 1100), ('Dendritic', 1030), ('Plasma', 1000), ('Endothelial', 1000), ('Treg', 1000), ('Malignant', 1000), ('Fibroblast', 1000), ('Acinar', 1000), ('Islet', 1000), ('Mast', 1000), ('Epithelial', 968), ('Erythrocyte', 412), ('Tuft', 55), ('Megakaryocyte', 10)]\n",
      "2020-11-03 11:58:20,871 training dataset shape: (7806, 18993)\n",
      "2020-11-03 11:58:20,872 validation dataset shape: (8569, 18993)\n",
      "2020-11-03 11:58:37,705 epoch: 1, train loss: 24.897624969482422, val loss: 11.995381355285645\n",
      "2020-11-03 11:58:53,432 epoch: 2, train loss: 24.046215057373047, val loss: 11.763954162597656\n",
      "2020-11-03 11:59:09,273 epoch: 3, train loss: 23.54117202758789, val loss: 11.567035675048828\n",
      "2020-11-03 11:59:25,138 epoch: 4, train loss: 23.299358367919922, val loss: 11.491475105285645\n",
      "2020-11-03 11:59:41,263 epoch: 5, train loss: 23.134458541870117, val loss: 11.413496017456055\n",
      "2020-11-03 11:59:57,386 epoch: 6, train loss: 22.975650787353516, val loss: 11.331401824951172\n",
      "2020-11-03 12:00:13,324 epoch: 7, train loss: 22.848310470581055, val loss: 11.277920722961426\n",
      "2020-11-03 12:00:29,336 epoch: 8, train loss: 22.739818572998047, val loss: 11.230230331420898\n",
      "2020-11-03 12:00:45,297 epoch: 9, train loss: 22.644392013549805, val loss: 11.194380760192871\n",
      "2020-11-03 12:01:01,375 epoch: 10, train loss: 22.55215072631836, val loss: 11.136673927307129\n",
      "2020-11-03 12:01:17,666 epoch: 11, train loss: 22.474266052246094, val loss: 11.093229293823242\n",
      "2020-11-03 12:01:34,245 epoch: 12, train loss: 22.394596099853516, val loss: 11.047720909118652\n",
      "2020-11-03 12:01:50,645 epoch: 13, train loss: 22.32268524169922, val loss: 11.002805709838867\n",
      "2020-11-03 12:02:07,365 epoch: 14, train loss: 22.256969451904297, val loss: 10.97178840637207\n",
      "2020-11-03 12:02:23,872 epoch: 15, train loss: 22.19044303894043, val loss: 10.943988800048828\n",
      "2020-11-03 12:02:40,311 epoch: 16, train loss: 22.125137329101562, val loss: 10.919713973999023\n",
      "2020-11-03 12:02:56,953 epoch: 17, train loss: 22.062931060791016, val loss: 10.903207778930664\n",
      "2020-11-03 12:03:13,225 epoch: 18, train loss: 22.004390716552734, val loss: 10.890552520751953\n",
      "2020-11-03 12:03:29,915 epoch: 19, train loss: 21.933637619018555, val loss: 10.877753257751465\n",
      "2020-11-03 12:03:46,423 epoch: 20, train loss: 21.87296485900879, val loss: 10.868629455566406\n",
      "2020-11-03 12:04:01,148 normalizing counts for prediction\n",
      "2020-11-03 12:04:01,149 filtering for genes in training set\n",
      "2020-11-03 12:04:01,156 0 genes in training set are missing from prediction set\n",
      "2020-11-03 12:04:01,556 starting batch 1 of 2\n",
      "2020-11-03 12:04:01,753 normalizing counts for prediction\n",
      "2020-11-03 12:04:01,754 filtering for genes in training set\n",
      "2020-11-03 12:04:01,760 0 genes in training set are missing from prediction set\n",
      "2020-11-03 12:04:22,036 starting batch 2 of 2\n",
      "2020-11-03 12:04:22,240 normalizing counts for prediction\n",
      "2020-11-03 12:04:22,241 filtering for genes in training set\n",
      "2020-11-03 12:04:22,250 0 genes in training set are missing from prediction set\n"
     ]
    },
    {
     "name": "stdout",
     "output_type": "stream",
     "text": [
      "scRNAseq pdac_train_brca_val (3296, 28756) (11253, 27131)\n"
     ]
    },
    {
     "name": "stderr",
     "output_type": "stream",
     "text": [
      "2020-11-03 12:04:35,787 normalizing the expression counts for model training\n",
      "2020-11-03 12:04:47,217 input dataset shape: (14549, 26833)\n",
      "2020-11-03 12:04:47,219 possible cell types: ['Acinar', 'B cell', 'CD4 T cell', 'CD8 T cell', 'Dendritic', 'Endothelial', 'Epithelial', 'Erythrocyte', 'Fibroblast', 'Islet', 'Malignant', 'Mast', 'Monocyte', 'NK', 'Plasma', 'Treg', 'Tuft']\n",
      "2020-11-03 12:04:47,221 possible cell types: [('Treg', 1200), ('Monocyte', 1200), ('NK', 1200), ('CD8 T cell', 1200), ('Plasma', 1200), ('Malignant', 1200), ('Fibroblast', 1200), ('Endothelial', 1200), ('B cell', 1200), ('CD4 T cell', 1200), ('Mast', 746), ('Dendritic', 592), ('Erythrocyte', 515), ('Epithelial', 200), ('Islet', 200), ('Acinar', 200), ('Tuft', 96)]\n",
      "2020-11-03 12:04:52,251 training dataset shape: (6632, 26833)\n",
      "2020-11-03 12:04:52,252 validation dataset shape: (7917, 26833)\n",
      "2020-11-03 12:05:11,270 epoch: 1, train loss: 33.965389251708984, val loss: 37.786781311035156\n",
      "2020-11-03 12:05:29,202 epoch: 2, train loss: 33.26385498046875, val loss: 37.0347900390625\n",
      "2020-11-03 12:05:47,125 epoch: 3, train loss: 32.5540657043457, val loss: 35.995853424072266\n",
      "2020-11-03 12:06:05,456 epoch: 4, train loss: 32.2210693359375, val loss: 35.645023345947266\n",
      "2020-11-03 12:06:23,561 epoch: 5, train loss: 31.99995231628418, val loss: 35.386558532714844\n",
      "2020-11-03 12:06:41,875 epoch: 6, train loss: 31.824514389038086, val loss: 35.27357482910156\n",
      "2020-11-03 12:07:00,002 epoch: 7, train loss: 31.656028747558594, val loss: 35.173439025878906\n",
      "2020-11-03 12:07:18,211 epoch: 8, train loss: 31.478872299194336, val loss: 35.07075500488281\n",
      "2020-11-03 12:07:36,523 epoch: 9, train loss: 31.33968162536621, val loss: 34.979759216308594\n",
      "2020-11-03 12:07:54,692 epoch: 10, train loss: 31.22371482849121, val loss: 34.911128997802734\n",
      "2020-11-03 12:08:12,810 epoch: 11, train loss: 31.105918884277344, val loss: 34.84588623046875\n",
      "2020-11-03 12:08:30,992 epoch: 12, train loss: 31.01161003112793, val loss: 34.77782440185547\n",
      "2020-11-03 12:08:49,339 epoch: 13, train loss: 30.903837203979492, val loss: 34.708518981933594\n",
      "2020-11-03 12:09:07,757 epoch: 14, train loss: 30.816017150878906, val loss: 34.66535949707031\n",
      "2020-11-03 12:09:25,964 epoch: 15, train loss: 30.731021881103516, val loss: 34.646053314208984\n",
      "2020-11-03 12:09:43,953 epoch: 16, train loss: 30.628196716308594, val loss: 34.611061096191406\n",
      "2020-11-03 12:10:02,002 epoch: 17, train loss: 30.523944854736328, val loss: 34.574623107910156\n",
      "2020-11-03 12:10:20,309 epoch: 18, train loss: 30.44032859802246, val loss: 34.54551315307617\n",
      "2020-11-03 12:10:38,713 epoch: 19, train loss: 30.343921661376953, val loss: 34.53885269165039\n",
      "2020-11-03 12:10:57,266 epoch: 20, train loss: 30.241016387939453, val loss: 34.528133392333984\n",
      "2020-11-03 12:11:12,949 normalizing counts for prediction\n",
      "2020-11-03 12:11:12,951 filtering for genes in training set\n",
      "2020-11-03 12:11:12,963 0 genes in training set are missing from prediction set\n",
      "2020-11-03 12:11:13,588 starting batch 1 of 2\n",
      "2020-11-03 12:11:13,810 normalizing counts for prediction\n",
      "2020-11-03 12:11:13,811 filtering for genes in training set\n",
      "2020-11-03 12:11:13,820 0 genes in training set are missing from prediction set\n",
      "2020-11-03 12:11:37,791 starting batch 2 of 2\n",
      "2020-11-03 12:11:37,936 normalizing counts for prediction\n",
      "2020-11-03 12:11:37,937 filtering for genes in training set\n",
      "2020-11-03 12:11:37,950 0 genes in training set are missing from prediction set\n"
     ]
    },
    {
     "name": "stdout",
     "output_type": "stream",
     "text": [
      "scRNAseq pdac_train_cesc_val (3296, 28756) (8449, 22928)\n"
     ]
    },
    {
     "name": "stderr",
     "output_type": "stream",
     "text": [
      "2020-11-03 12:11:44,062 normalizing the expression counts for model training\n",
      "2020-11-03 12:11:51,920 input dataset shape: (11745, 22794)\n",
      "2020-11-03 12:11:51,922 possible cell types: ['Acinar', 'B cell', 'CD4 T cell', 'CD8 T cell', 'Dendritic', 'Endothelial', 'Epithelial', 'Erythrocyte', 'Fibroblast', 'Islet', 'Malignant', 'Mast', 'Monocyte', 'NK', 'Plasma', 'Treg', 'Tuft']\n",
      "2020-11-03 12:11:51,924 possible cell types: [('Monocyte', 1200), ('NK', 1200), ('Epithelial', 1200), ('CD8 T cell', 1200), ('Malignant', 1200), ('Fibroblast', 1200), ('Plasma', 1135), ('CD4 T cell', 1118), ('Endothelial', 732), ('Mast', 249), ('Erythrocyte', 215), ('Treg', 200), ('Dendritic', 200), ('Islet', 200), ('Acinar', 200), ('B cell', 200), ('Tuft', 96)]\n",
      "2020-11-03 12:11:55,435 training dataset shape: (5684, 22794)\n",
      "2020-11-03 12:11:55,436 validation dataset shape: (6061, 22794)\n"
     ]
    },
    {
     "name": "stdout",
     "output_type": "stream",
     "text": [
      "WARNING:tensorflow:5 out of the last 95 calls to <function compute_loss at 0x7f13991523b0> triggered tf.function retracing. Tracing is expensive and the excessive number of tracings is likely due to passing python objects instead of tensors. Also, tf.function has experimental_relax_shapes=True option that relaxes argument shapes that can avoid unnecessary retracing. Please refer to https://www.tensorflow.org/tutorials/customization/performance#python_or_tensor_args and https://www.tensorflow.org/api_docs/python/tf/function for more details.\n"
     ]
    },
    {
     "name": "stderr",
     "output_type": "stream",
     "text": [
      "2020-11-03 12:12:07,574 5 out of the last 95 calls to <function compute_loss at 0x7f13991523b0> triggered tf.function retracing. Tracing is expensive and the excessive number of tracings is likely due to passing python objects instead of tensors. Also, tf.function has experimental_relax_shapes=True option that relaxes argument shapes that can avoid unnecessary retracing. Please refer to https://www.tensorflow.org/tutorials/customization/performance#python_or_tensor_args and https://www.tensorflow.org/api_docs/python/tf/function for more details.\n",
      "2020-11-03 12:12:10,123 epoch: 1, train loss: 33.60778045654297, val loss: 24.923023223876953\n",
      "2020-11-03 12:12:23,434 epoch: 2, train loss: 32.390785217285156, val loss: 24.20905876159668\n",
      "2020-11-03 12:12:36,951 epoch: 3, train loss: 31.826358795166016, val loss: 23.848529815673828\n",
      "2020-11-03 12:12:50,319 epoch: 4, train loss: 31.45301055908203, val loss: 23.639816284179688\n",
      "2020-11-03 12:13:03,552 epoch: 5, train loss: 31.230775833129883, val loss: 23.481159210205078\n",
      "2020-11-03 12:13:17,004 epoch: 6, train loss: 31.02415657043457, val loss: 23.32925796508789\n",
      "2020-11-03 12:13:30,732 epoch: 7, train loss: 30.869850158691406, val loss: 23.17935562133789\n",
      "2020-11-03 12:13:44,175 epoch: 8, train loss: 30.683679580688477, val loss: 23.04058074951172\n",
      "2020-11-03 12:13:57,826 epoch: 9, train loss: 30.546916961669922, val loss: 22.954437255859375\n",
      "2020-11-03 12:14:11,491 epoch: 10, train loss: 30.428855895996094, val loss: 22.887676239013672\n",
      "2020-11-03 12:14:25,088 epoch: 11, train loss: 30.318933486938477, val loss: 22.844213485717773\n",
      "2020-11-03 12:14:38,848 epoch: 12, train loss: 30.2033634185791, val loss: 22.8096923828125\n",
      "2020-11-03 12:14:52,284 epoch: 13, train loss: 30.08013343811035, val loss: 22.772830963134766\n",
      "2020-11-03 12:15:06,053 epoch: 14, train loss: 29.981138229370117, val loss: 22.753379821777344\n",
      "2020-11-03 12:15:19,721 epoch: 15, train loss: 29.879213333129883, val loss: 22.72899055480957\n",
      "2020-11-03 12:15:33,359 epoch: 16, train loss: 29.776369094848633, val loss: 22.69095230102539\n",
      "2020-11-03 12:15:47,014 epoch: 17, train loss: 29.695117950439453, val loss: 22.682401657104492\n",
      "2020-11-03 12:16:00,590 epoch: 18, train loss: 29.584617614746094, val loss: 22.657730102539062\n",
      "2020-11-03 12:16:14,229 epoch: 19, train loss: 29.481916427612305, val loss: 22.641204833984375\n",
      "2020-11-03 12:16:28,146 epoch: 20, train loss: 29.389528274536133, val loss: 22.629629135131836\n",
      "2020-11-03 12:16:40,115 normalizing counts for prediction\n",
      "2020-11-03 12:16:40,116 filtering for genes in training set\n",
      "2020-11-03 12:16:40,126 0 genes in training set are missing from prediction set\n",
      "2020-11-03 12:16:40,540 starting batch 1 of 1\n",
      "2020-11-03 12:16:40,664 normalizing counts for prediction\n",
      "2020-11-03 12:16:40,665 filtering for genes in training set\n",
      "2020-11-03 12:16:40,673 0 genes in training set are missing from prediction set\n"
     ]
    },
    {
     "name": "stdout",
     "output_type": "stream",
     "text": [
      "scRNAseq pdac_train_hnscc_val (3296, 28756) (10288, 26929)\n"
     ]
    },
    {
     "name": "stderr",
     "output_type": "stream",
     "text": [
      "2020-11-03 12:17:07,948 normalizing the expression counts for model training\n",
      "2020-11-03 12:17:18,165 input dataset shape: (13584, 26359)\n",
      "2020-11-03 12:17:18,166 possible cell types: ['Acinar', 'B cell', 'CD4 T cell', 'CD8 T cell', 'Dendritic', 'Endothelial', 'Epithelial', 'Erythrocyte', 'Fibroblast', 'Islet', 'Malignant', 'Mast', 'Monocyte', 'NK', 'Plasma', 'Treg', 'Tuft']\n",
      "2020-11-03 12:17:18,169 possible cell types: [('Treg', 1200), ('Monocyte', 1200), ('NK', 1200), ('CD8 T cell', 1200), ('Plasma', 1200), ('Malignant', 1200), ('Endothelial', 1200), ('B cell', 1200), ('Mast', 1200), ('CD4 T cell', 1200), ('Erythrocyte', 488), ('Dendritic', 200), ('Epithelial', 200), ('Fibroblast', 200), ('Islet', 200), ('Acinar', 200), ('Tuft', 96)]\n",
      "2020-11-03 12:17:22,564 training dataset shape: (6115, 26359)\n",
      "2020-11-03 12:17:22,565 validation dataset shape: (7469, 26359)\n",
      "2020-11-03 12:17:40,297 epoch: 1, train loss: 30.29351043701172, val loss: 25.943115234375\n",
      "2020-11-03 12:17:56,984 epoch: 2, train loss: 29.506309509277344, val loss: 25.38192367553711\n",
      "2020-11-03 12:18:13,822 epoch: 3, train loss: 29.029701232910156, val loss: 24.967988967895508\n",
      "2020-11-03 12:18:30,522 epoch: 4, train loss: 28.68445587158203, val loss: 24.69561767578125\n",
      "2020-11-03 12:18:47,362 epoch: 5, train loss: 28.461273193359375, val loss: 24.509014129638672\n",
      "2020-11-03 12:19:03,811 epoch: 6, train loss: 28.30450439453125, val loss: 24.41595458984375\n",
      "2020-11-03 12:19:20,617 epoch: 7, train loss: 28.15678596496582, val loss: 24.348590850830078\n",
      "2020-11-03 12:19:37,521 epoch: 8, train loss: 28.023344039916992, val loss: 24.282756805419922\n",
      "2020-11-03 12:19:54,288 epoch: 9, train loss: 27.90233612060547, val loss: 24.23360824584961\n",
      "2020-11-03 12:20:11,010 epoch: 10, train loss: 27.793434143066406, val loss: 24.16748809814453\n",
      "2020-11-03 12:20:27,879 epoch: 11, train loss: 27.67107391357422, val loss: 24.117774963378906\n",
      "2020-11-03 12:20:44,576 epoch: 12, train loss: 27.562177658081055, val loss: 24.0706844329834\n",
      "2020-11-03 12:21:01,152 epoch: 13, train loss: 27.478750228881836, val loss: 24.037582397460938\n",
      "2020-11-03 12:21:17,902 epoch: 14, train loss: 27.404226303100586, val loss: 24.026796340942383\n",
      "2020-11-03 12:21:34,743 epoch: 15, train loss: 27.341623306274414, val loss: 24.008466720581055\n",
      "2020-11-03 12:21:51,603 epoch: 16, train loss: 27.2044620513916, val loss: 23.986007690429688\n",
      "2020-11-03 12:22:08,663 epoch: 17, train loss: 27.163888931274414, val loss: 23.984577178955078\n",
      "2020-11-03 12:22:25,439 epoch: 18, train loss: 27.067224502563477, val loss: 23.96579933166504\n",
      "2020-11-03 12:22:41,891 epoch: 19, train loss: 26.985719680786133, val loss: 23.95619773864746\n",
      "2020-11-03 12:22:58,748 epoch: 20, train loss: 26.92519187927246, val loss: 23.95699119567871\n",
      "2020-11-03 12:23:13,240 normalizing counts for prediction\n",
      "2020-11-03 12:23:13,241 filtering for genes in training set\n",
      "2020-11-03 12:23:13,249 0 genes in training set are missing from prediction set\n",
      "2020-11-03 12:23:13,731 starting batch 1 of 2\n",
      "2020-11-03 12:23:13,891 normalizing counts for prediction\n",
      "2020-11-03 12:23:13,892 filtering for genes in training set\n",
      "2020-11-03 12:23:13,901 0 genes in training set are missing from prediction set\n",
      "2020-11-03 12:23:40,607 starting batch 2 of 2\n",
      "2020-11-03 12:23:40,742 normalizing counts for prediction\n",
      "2020-11-03 12:23:40,743 filtering for genes in training set\n",
      "2020-11-03 12:23:40,754 0 genes in training set are missing from prediction set\n"
     ]
    },
    {
     "name": "stdout",
     "output_type": "stream",
     "text": [
      "scRNAseq pdac_train_melanoma_val (3296, 28756) (6735, 23452)\n"
     ]
    },
    {
     "name": "stderr",
     "output_type": "stream",
     "text": [
      "2020-11-03 12:23:43,675 normalizing the expression counts for model training\n",
      "2020-11-03 12:23:50,057 input dataset shape: (10031, 21725)\n",
      "2020-11-03 12:23:50,058 possible cell types: ['Acinar', 'B cell', 'CD4 T cell', 'CD8 T cell', 'Dendritic', 'Endothelial', 'Epithelial', 'Erythrocyte', 'Fibroblast', 'Islet', 'Malignant', 'Mast', 'Monocyte', 'NK', 'Plasma', 'Treg', 'Tuft']\n",
      "2020-11-03 12:23:50,060 possible cell types: [('Monocyte', 1200), ('CD8 T cell', 1200), ('Malignant', 1200), ('B cell', 1200), ('CD4 T cell', 1200), ('Treg', 862), ('Dendritic', 741), ('NK', 538), ('Fibroblast', 321), ('Plasma', 273), ('Epithelial', 200), ('Erythrocyte', 200), ('Endothelial', 200), ('Islet', 200), ('Acinar', 200), ('Mast', 200), ('Tuft', 96)]\n",
      "2020-11-03 12:23:52,856 training dataset shape: (5210, 21725)\n",
      "2020-11-03 12:23:52,857 validation dataset shape: (4821, 21725)\n",
      "2020-11-03 12:24:06,155 epoch: 1, train loss: 33.75859451293945, val loss: 46.65168762207031\n",
      "2020-11-03 12:24:18,117 epoch: 2, train loss: 32.93013000488281, val loss: 45.48548889160156\n",
      "2020-11-03 12:24:30,370 epoch: 3, train loss: 32.14356994628906, val loss: 44.28351593017578\n",
      "2020-11-03 12:24:42,538 epoch: 4, train loss: 31.724998474121094, val loss: 43.75385284423828\n",
      "2020-11-03 12:24:54,841 epoch: 5, train loss: 31.390281677246094, val loss: 43.303009033203125\n",
      "2020-11-03 12:25:07,209 epoch: 6, train loss: 31.195615768432617, val loss: 43.04027557373047\n",
      "2020-11-03 12:25:19,604 epoch: 7, train loss: 31.019546508789062, val loss: 42.845726013183594\n",
      "2020-11-03 12:25:31,984 epoch: 8, train loss: 30.904836654663086, val loss: 42.7308349609375\n",
      "2020-11-03 12:25:44,377 epoch: 9, train loss: 30.730878829956055, val loss: 42.66320037841797\n",
      "2020-11-03 12:25:56,681 epoch: 10, train loss: 30.62082290649414, val loss: 42.569580078125\n",
      "2020-11-03 12:26:09,082 epoch: 11, train loss: 30.469276428222656, val loss: 42.48823928833008\n",
      "2020-11-03 12:26:21,495 epoch: 12, train loss: 30.36276626586914, val loss: 42.432579040527344\n",
      "2020-11-03 12:26:33,792 epoch: 13, train loss: 30.23750114440918, val loss: 42.37520217895508\n",
      "2020-11-03 12:26:46,094 epoch: 14, train loss: 30.203678131103516, val loss: 42.32307434082031\n",
      "2020-11-03 12:26:58,509 epoch: 15, train loss: 30.02436637878418, val loss: 42.251827239990234\n",
      "2020-11-03 12:27:10,998 epoch: 16, train loss: 29.862178802490234, val loss: 42.199317932128906\n",
      "2020-11-03 12:27:23,533 epoch: 17, train loss: 29.748205184936523, val loss: 42.15081787109375\n",
      "2020-11-03 12:27:36,042 epoch: 18, train loss: 29.633914947509766, val loss: 42.166412353515625\n",
      "2020-11-03 12:27:48,520 epoch: 19, train loss: 29.52900505065918, val loss: 42.10468292236328\n",
      "2020-11-03 12:28:01,008 epoch: 20, train loss: 29.394710540771484, val loss: 42.13134002685547\n",
      "2020-11-03 12:28:10,857 normalizing counts for prediction\n",
      "2020-11-03 12:28:10,858 filtering for genes in training set\n",
      "2020-11-03 12:28:10,870 0 genes in training set are missing from prediction set\n",
      "2020-11-03 12:28:11,409 starting batch 1 of 1\n",
      "2020-11-03 12:28:11,975 normalizing counts for prediction\n",
      "2020-11-03 12:28:11,976 filtering for genes in training set\n",
      "2020-11-03 12:28:11,984 0 genes in training set are missing from prediction set\n"
     ]
    },
    {
     "name": "stdout",
     "output_type": "stream",
     "text": [
      "scRNAseq pdac_train_pbmc_val (3296, 28756) (1698, 32738)\n"
     ]
    },
    {
     "name": "stderr",
     "output_type": "stream",
     "text": [
      "2020-11-03 12:28:25,423 normalizing the expression counts for model training\n",
      "2020-11-03 12:28:28,132 input dataset shape: (4994, 18993)\n",
      "2020-11-03 12:28:28,133 possible cell types: ['Acinar', 'B cell', 'CD4 T cell', 'CD8 T cell', 'Dendritic', 'Endothelial', 'Epithelial', 'Erythrocyte', 'Fibroblast', 'Islet', 'Malignant', 'Mast', 'Megakaryocyte', 'Monocyte', 'NK', 'Plasma', 'Treg', 'Tuft']\n",
      "2020-11-03 12:28:28,134 possible cell types: [('CD4 T cell', 1143), ('Monocyte', 634), ('B cell', 341), ('CD8 T cell', 306), ('NK', 263), ('Dendritic', 208), ('Treg', 200), ('Epithelial', 200), ('Plasma', 200), ('Erythrocyte', 200), ('Malignant', 200), ('Fibroblast', 200), ('Endothelial', 200), ('Islet', 200), ('Acinar', 200), ('Mast', 200), ('Tuft', 96), ('Megakaryocyte', 3)]\n",
      "2020-11-03 12:28:29,313 training dataset shape: (3395, 18993)\n",
      "2020-11-03 12:28:29,314 validation dataset shape: (1599, 18993)\n"
     ]
    },
    {
     "name": "stdout",
     "output_type": "stream",
     "text": [
      "WARNING:tensorflow:5 out of the last 20 calls to <function compute_loss at 0x7f13991523b0> triggered tf.function retracing. Tracing is expensive and the excessive number of tracings is likely due to passing python objects instead of tensors. Also, tf.function has experimental_relax_shapes=True option that relaxes argument shapes that can avoid unnecessary retracing. Please refer to https://www.tensorflow.org/tutorials/customization/performance#python_or_tensor_args and https://www.tensorflow.org/api_docs/python/tf/function for more details.\n"
     ]
    },
    {
     "name": "stderr",
     "output_type": "stream",
     "text": [
      "2020-11-03 12:28:36,601 5 out of the last 20 calls to <function compute_loss at 0x7f13991523b0> triggered tf.function retracing. Tracing is expensive and the excessive number of tracings is likely due to passing python objects instead of tensors. Also, tf.function has experimental_relax_shapes=True option that relaxes argument shapes that can avoid unnecessary retracing. Please refer to https://www.tensorflow.org/tutorials/customization/performance#python_or_tensor_args and https://www.tensorflow.org/api_docs/python/tf/function for more details.\n"
     ]
    },
    {
     "name": "stdout",
     "output_type": "stream",
     "text": [
      "WARNING:tensorflow:5 out of the last 12 calls to <function compute_loss at 0x7f13991523b0> triggered tf.function retracing. Tracing is expensive and the excessive number of tracings is likely due to passing python objects instead of tensors. Also, tf.function has experimental_relax_shapes=True option that relaxes argument shapes that can avoid unnecessary retracing. Please refer to https://www.tensorflow.org/tutorials/customization/performance#python_or_tensor_args and https://www.tensorflow.org/api_docs/python/tf/function for more details.\n"
     ]
    },
    {
     "name": "stderr",
     "output_type": "stream",
     "text": [
      "2020-11-03 12:28:36,854 5 out of the last 12 calls to <function compute_loss at 0x7f13991523b0> triggered tf.function retracing. Tracing is expensive and the excessive number of tracings is likely due to passing python objects instead of tensors. Also, tf.function has experimental_relax_shapes=True option that relaxes argument shapes that can avoid unnecessary retracing. Please refer to https://www.tensorflow.org/tutorials/customization/performance#python_or_tensor_args and https://www.tensorflow.org/api_docs/python/tf/function for more details.\n"
     ]
    },
    {
     "name": "stdout",
     "output_type": "stream",
     "text": [
      "WARNING:tensorflow:6 out of the last 13 calls to <function compute_loss at 0x7f13991523b0> triggered tf.function retracing. Tracing is expensive and the excessive number of tracings is likely due to passing python objects instead of tensors. Also, tf.function has experimental_relax_shapes=True option that relaxes argument shapes that can avoid unnecessary retracing. Please refer to https://www.tensorflow.org/tutorials/customization/performance#python_or_tensor_args and https://www.tensorflow.org/api_docs/python/tf/function for more details.\n"
     ]
    },
    {
     "name": "stderr",
     "output_type": "stream",
     "text": [
      "2020-11-03 12:28:36,959 6 out of the last 13 calls to <function compute_loss at 0x7f13991523b0> triggered tf.function retracing. Tracing is expensive and the excessive number of tracings is likely due to passing python objects instead of tensors. Also, tf.function has experimental_relax_shapes=True option that relaxes argument shapes that can avoid unnecessary retracing. Please refer to https://www.tensorflow.org/tutorials/customization/performance#python_or_tensor_args and https://www.tensorflow.org/api_docs/python/tf/function for more details.\n",
      "2020-11-03 12:28:38,556 epoch: 1, train loss: 33.290672302246094, val loss: 42.09599304199219\n",
      "2020-11-03 12:28:46,386 epoch: 2, train loss: 32.980953216552734, val loss: 41.671119689941406\n",
      "2020-11-03 12:28:54,212 epoch: 3, train loss: 32.21879196166992, val loss: 40.911109924316406\n",
      "2020-11-03 12:29:02,134 epoch: 4, train loss: 31.683059692382812, val loss: 40.265960693359375\n",
      "2020-11-03 12:29:09,939 epoch: 5, train loss: 30.941320419311523, val loss: 39.845550537109375\n",
      "2020-11-03 12:29:17,846 epoch: 6, train loss: 30.904802322387695, val loss: 39.55261993408203\n",
      "2020-11-03 12:29:25,700 epoch: 7, train loss: 31.149330139160156, val loss: 39.23242950439453\n",
      "2020-11-03 12:29:33,509 epoch: 8, train loss: 30.274837493896484, val loss: 39.02802276611328\n",
      "2020-11-03 12:29:41,416 epoch: 9, train loss: 30.3206787109375, val loss: 38.927555084228516\n",
      "2020-11-03 12:29:49,265 epoch: 10, train loss: 30.14317512512207, val loss: 38.87665557861328\n",
      "2020-11-03 12:29:57,103 epoch: 11, train loss: 30.41817283630371, val loss: 38.786216735839844\n",
      "2020-11-03 12:30:04,919 epoch: 12, train loss: 30.173946380615234, val loss: 38.73393249511719\n",
      "2020-11-03 12:30:12,733 epoch: 13, train loss: 29.80867576599121, val loss: 38.719337463378906\n",
      "2020-11-03 12:30:20,486 epoch: 14, train loss: 29.732938766479492, val loss: 38.61637878417969\n",
      "2020-11-03 12:30:28,426 epoch: 15, train loss: 29.803552627563477, val loss: 38.586448669433594\n",
      "2020-11-03 12:30:36,524 epoch: 16, train loss: 29.89510154724121, val loss: 38.54155349731445\n",
      "2020-11-03 12:30:44,515 epoch: 17, train loss: 29.43726348876953, val loss: 38.490753173828125\n",
      "2020-11-03 12:30:52,469 epoch: 18, train loss: 29.211008071899414, val loss: 38.54544448852539\n",
      "2020-11-03 12:31:00,476 epoch: 19, train loss: 29.34325408935547, val loss: 38.8712272644043\n",
      "2020-11-03 12:31:08,390 epoch: 20, train loss: 29.505369186401367, val loss: 38.44194030761719\n",
      "2020-11-03 12:31:13,647 normalizing counts for prediction\n",
      "2020-11-03 12:31:13,648 filtering for genes in training set\n",
      "2020-11-03 12:31:13,659 0 genes in training set are missing from prediction set\n",
      "2020-11-03 12:31:14,176 starting batch 1 of 1\n",
      "2020-11-03 12:31:14,265 normalizing counts for prediction\n",
      "2020-11-03 12:31:14,266 filtering for genes in training set\n",
      "2020-11-03 12:31:14,276 0 genes in training set are missing from prediction set\n"
     ]
    },
    {
     "name": "stdout",
     "output_type": "stream",
     "text": [
      "snATACseq brca_train_gbm_val (2064, 19891) (5650, 19891)\n"
     ]
    },
    {
     "name": "stderr",
     "output_type": "stream",
     "text": [
      "2020-11-03 12:31:19,219 normalizing the expression counts for model training\n",
      "2020-11-03 12:31:23,646 input dataset shape: (7714, 19891)\n",
      "2020-11-03 12:31:23,648 possible cell types: ['B cell', 'CD4 T cell', 'CD8 T cell', 'Dendritic', 'Endothelial', 'Fibroblast', 'Malignant', 'Mast', 'Microglia', 'Monocyte', 'NK', 'Neuron', 'Oligodendrocytes', 'T cells', 'Treg']\n",
      "2020-11-03 12:31:23,649 possible cell types: [('Malignant', 1200), ('Microglia', 1000), ('T cells', 1000), ('Oligodendrocytes', 1000), ('Neuron', 1000), ('Fibroblast', 810), ('Endothelial', 229), ('B cell', 211), ('NK', 200), ('CD8 T cell', 200), ('CD4 T cell', 200), ('Treg', 200), ('Monocyte', 200), ('Dendritic', 200), ('Mast', 64)]\n",
      "2020-11-03 12:31:25,526 training dataset shape: (4303, 19891)\n",
      "2020-11-03 12:31:25,527 validation dataset shape: (3411, 19891)\n"
     ]
    },
    {
     "name": "stdout",
     "output_type": "stream",
     "text": [
      "WARNING:tensorflow:5 out of the last 76 calls to <function compute_loss at 0x7f13991523b0> triggered tf.function retracing. Tracing is expensive and the excessive number of tracings is likely due to passing python objects instead of tensors. Also, tf.function has experimental_relax_shapes=True option that relaxes argument shapes that can avoid unnecessary retracing. Please refer to https://www.tensorflow.org/tutorials/customization/performance#python_or_tensor_args and https://www.tensorflow.org/api_docs/python/tf/function for more details.\n"
     ]
    },
    {
     "name": "stderr",
     "output_type": "stream",
     "text": [
      "2020-11-03 12:31:34,261 5 out of the last 76 calls to <function compute_loss at 0x7f13991523b0> triggered tf.function retracing. Tracing is expensive and the excessive number of tracings is likely due to passing python objects instead of tensors. Also, tf.function has experimental_relax_shapes=True option that relaxes argument shapes that can avoid unnecessary retracing. Please refer to https://www.tensorflow.org/tutorials/customization/performance#python_or_tensor_args and https://www.tensorflow.org/api_docs/python/tf/function for more details.\n",
      "2020-11-03 12:31:36,445 epoch: 1, train loss: 40.19789505004883, val loss: 52.695533752441406\n",
      "2020-11-03 12:31:46,012 epoch: 2, train loss: 40.18204879760742, val loss: 52.47862243652344\n",
      "2020-11-03 12:31:55,717 epoch: 3, train loss: 39.665016174316406, val loss: 51.95933532714844\n",
      "2020-11-03 12:32:05,381 epoch: 4, train loss: 39.574554443359375, val loss: 51.87075424194336\n",
      "2020-11-03 12:32:14,981 epoch: 5, train loss: 39.232078552246094, val loss: 51.65436935424805\n",
      "2020-11-03 12:32:24,653 epoch: 6, train loss: 39.01914978027344, val loss: 51.60716247558594\n",
      "2020-11-03 12:32:34,224 epoch: 7, train loss: 39.058807373046875, val loss: 51.64387512207031\n",
      "2020-11-03 12:32:44,046 epoch: 8, train loss: 38.70199966430664, val loss: 51.36616516113281\n",
      "2020-11-03 12:32:53,872 epoch: 9, train loss: 38.639400482177734, val loss: 51.34661102294922\n",
      "2020-11-03 12:33:03,775 epoch: 10, train loss: 38.338653564453125, val loss: 51.26136016845703\n",
      "2020-11-03 12:33:14,100 epoch: 11, train loss: 38.165321350097656, val loss: 51.164825439453125\n",
      "2020-11-03 12:33:23,895 epoch: 12, train loss: 38.30420684814453, val loss: 51.21126937866211\n",
      "2020-11-03 12:33:33,954 epoch: 13, train loss: 37.9977912902832, val loss: 51.127193450927734\n",
      "2020-11-03 12:33:43,943 epoch: 14, train loss: 37.88264465332031, val loss: 51.072200775146484\n",
      "2020-11-03 12:33:53,733 epoch: 15, train loss: 37.59107971191406, val loss: 51.05442810058594\n",
      "2020-11-03 12:34:03,508 epoch: 16, train loss: 37.85637664794922, val loss: 51.130287170410156\n",
      "2020-11-03 12:34:13,543 epoch: 17, train loss: 37.46092224121094, val loss: 50.99321746826172\n",
      "2020-11-03 12:34:23,428 epoch: 18, train loss: 37.175418853759766, val loss: 50.99513244628906\n",
      "2020-11-03 12:34:33,360 epoch: 19, train loss: 37.19179153442383, val loss: 51.07453918457031\n",
      "2020-11-03 12:34:43,314 epoch: 20, train loss: 36.96036148071289, val loss: 51.011070251464844\n",
      "2020-11-03 12:34:51,106 normalizing counts for prediction\n",
      "2020-11-03 12:34:51,108 filtering for genes in training set\n",
      "2020-11-03 12:34:51,117 0 genes in training set are missing from prediction set\n",
      "2020-11-03 12:34:51,610 starting batch 1 of 1\n",
      "2020-11-03 12:34:51,755 normalizing counts for prediction\n",
      "2020-11-03 12:34:51,756 filtering for genes in training set\n",
      "2020-11-03 12:34:51,762 0 genes in training set are missing from prediction set\n"
     ]
    },
    {
     "name": "stdout",
     "output_type": "stream",
     "text": [
      "snATACseq gbm_train_brca_val (1316, 19891) (9028, 19891)\n"
     ]
    },
    {
     "name": "stderr",
     "output_type": "stream",
     "text": [
      "2020-11-03 12:35:16,496 normalizing the expression counts for model training\n",
      "2020-11-03 12:35:22,380 input dataset shape: (10344, 19891)\n",
      "2020-11-03 12:35:22,382 possible cell types: ['B cell', 'CD4 T cell', 'CD8 T cell', 'Dendritic', 'Endothelial', 'Fibroblast', 'Malignant', 'Mast', 'Microglia', 'Monocyte', 'NK', 'Neuron', 'Oligodendrocytes', 'T cells', 'Treg']\n",
      "2020-11-03 12:35:22,384 possible cell types: [('Malignant', 1200), ('Fibroblast', 1200), ('Endothelial', 1072), ('B cell', 1044), ('Monocyte', 1000), ('Treg', 1000), ('CD8 T cell', 1000), ('CD4 T cell', 1000), ('Dendritic', 776), ('NK', 230), ('Neuron', 200), ('Microglia', 200), ('T cells', 200), ('Oligodendrocytes', 200), ('Mast', 22)]\n",
      "2020-11-03 12:35:24,941 training dataset shape: (5303, 19891)\n",
      "2020-11-03 12:35:24,942 validation dataset shape: (5041, 19891)\n",
      "2020-11-03 12:35:37,626 epoch: 1, train loss: 38.734806060791016, val loss: 25.552745819091797\n",
      "2020-11-03 12:35:49,183 epoch: 2, train loss: 38.45798873901367, val loss: 25.423641204833984\n",
      "2020-11-03 12:36:00,767 epoch: 3, train loss: 38.13990783691406, val loss: 25.28432846069336\n",
      "2020-11-03 12:36:12,360 epoch: 4, train loss: 37.935340881347656, val loss: 25.21904182434082\n",
      "2020-11-03 12:36:23,947 epoch: 5, train loss: 37.64234161376953, val loss: 25.07735824584961\n",
      "2020-11-03 12:36:35,549 epoch: 6, train loss: 37.47270202636719, val loss: 25.02472496032715\n",
      "2020-11-03 12:36:47,068 epoch: 7, train loss: 37.345001220703125, val loss: 24.983036041259766\n",
      "2020-11-03 12:36:58,576 epoch: 8, train loss: 37.26050567626953, val loss: 24.966434478759766\n",
      "2020-11-03 12:37:10,172 epoch: 9, train loss: 37.05351638793945, val loss: 24.900157928466797\n",
      "2020-11-03 12:37:21,828 epoch: 10, train loss: 36.99238586425781, val loss: 24.905624389648438\n",
      "2020-11-03 12:37:33,338 epoch: 11, train loss: 36.869441986083984, val loss: 24.923978805541992\n",
      "2020-11-03 12:37:44,936 epoch: 12, train loss: 36.81731033325195, val loss: 24.879501342773438\n",
      "2020-11-03 12:37:56,632 epoch: 13, train loss: 36.626007080078125, val loss: 24.872425079345703\n",
      "2020-11-03 12:38:08,369 epoch: 14, train loss: 36.522682189941406, val loss: 24.872547149658203\n",
      "2020-11-03 12:38:20,287 epoch: 15, train loss: 36.39665603637695, val loss: 24.865949630737305\n",
      "2020-11-03 12:38:31,849 epoch: 16, train loss: 36.27871322631836, val loss: 24.84351348876953\n",
      "2020-11-03 12:38:43,723 epoch: 17, train loss: 36.16978454589844, val loss: 24.86064910888672\n",
      "2020-11-03 12:38:55,582 epoch: 18, train loss: 35.99663543701172, val loss: 24.84482192993164\n",
      "2020-11-03 12:39:07,133 epoch: 19, train loss: 35.84762191772461, val loss: 24.860912322998047\n",
      "2020-11-03 12:39:18,780 epoch: 20, train loss: 35.75895309448242, val loss: 24.898147583007812\n",
      "2020-11-03 12:39:28,964 normalizing counts for prediction\n",
      "2020-11-03 12:39:28,966 filtering for genes in training set\n",
      "2020-11-03 12:39:28,976 0 genes in training set are missing from prediction set\n",
      "2020-11-03 12:39:29,483 starting batch 1 of 1\n",
      "2020-11-03 12:39:29,760 normalizing counts for prediction\n",
      "2020-11-03 12:39:29,760 filtering for genes in training set\n",
      "2020-11-03 12:39:29,768 0 genes in training set are missing from prediction set\n"
     ]
    },
    {
     "name": "stdout",
     "output_type": "stream",
     "text": [
      "snRNAseq brca_train_ccrcc_val (2455, 29175) (8605, 33538)\n"
     ]
    },
    {
     "name": "stderr",
     "output_type": "stream",
     "text": [
      "2020-11-03 12:40:09,366 normalizing the expression counts for model training\n",
      "2020-11-03 12:40:18,786 input dataset shape: (11060, 29175)\n",
      "2020-11-03 12:40:18,788 possible cell types: ['Adipocyte', 'B cell', 'CD4 T cell', 'CD8 T cell', 'Dendritic', 'Endothelial', 'Epithelial', 'Fibroblast', 'Malignant', 'Mast', 'Monocyte', 'NK', 'Plasma', 'Treg']\n",
      "2020-11-03 12:40:18,789 possible cell types: [('CD4 T cell', 1200), ('Endothelial', 1200), ('Malignant', 1200), ('NK', 1200), ('Monocyte', 1200), ('Fibroblast', 1200), ('CD8 T cell', 1046), ('Epithelial', 1000), ('Treg', 574), ('Dendritic', 345), ('Plasma', 295), ('Adipocyte', 200), ('B cell', 200), ('Mast', 200)]\n",
      "2020-11-03 12:40:22,267 training dataset shape: (5192, 29175)\n",
      "2020-11-03 12:40:22,268 validation dataset shape: (5868, 29175)\n",
      "2020-11-03 12:40:39,299 epoch: 1, train loss: 36.86466979980469, val loss: 43.19028091430664\n",
      "2020-11-03 12:40:54,906 epoch: 2, train loss: 36.16983413696289, val loss: 42.72496032714844\n",
      "2020-11-03 12:41:10,338 epoch: 3, train loss: 35.79815673828125, val loss: 42.516441345214844\n",
      "2020-11-03 12:41:26,182 epoch: 4, train loss: 35.35234069824219, val loss: 42.26718521118164\n",
      "2020-11-03 12:41:41,758 epoch: 5, train loss: 35.19303512573242, val loss: 42.046356201171875\n",
      "2020-11-03 12:41:57,358 epoch: 6, train loss: 34.907684326171875, val loss: 41.94942092895508\n",
      "2020-11-03 12:42:12,824 epoch: 7, train loss: 34.864234924316406, val loss: 41.82377243041992\n",
      "2020-11-03 12:42:28,427 epoch: 8, train loss: 34.71045684814453, val loss: 41.74687957763672\n",
      "2020-11-03 12:42:44,000 epoch: 9, train loss: 34.55868911743164, val loss: 41.68650817871094\n",
      "2020-11-03 12:42:59,460 epoch: 10, train loss: 34.45379638671875, val loss: 41.6420783996582\n",
      "2020-11-03 12:43:14,806 epoch: 11, train loss: 34.25355529785156, val loss: 41.59859085083008\n",
      "2020-11-03 12:43:30,217 epoch: 12, train loss: 34.14265823364258, val loss: 41.564552307128906\n",
      "2020-11-03 12:43:45,637 epoch: 13, train loss: 34.05244445800781, val loss: 41.52896499633789\n",
      "2020-11-03 12:44:01,435 epoch: 14, train loss: 33.78992462158203, val loss: 41.504695892333984\n",
      "2020-11-03 12:44:17,228 epoch: 15, train loss: 33.898624420166016, val loss: 41.48949432373047\n",
      "2020-11-03 12:44:32,907 epoch: 16, train loss: 33.730648040771484, val loss: 41.485164642333984\n",
      "2020-11-03 12:44:48,503 epoch: 17, train loss: 33.51493453979492, val loss: 41.470611572265625\n",
      "2020-11-03 12:45:04,138 epoch: 18, train loss: 33.40374755859375, val loss: 41.48479080200195\n",
      "2020-11-03 12:45:19,647 epoch: 19, train loss: 33.290489196777344, val loss: 41.4682502746582\n",
      "2020-11-03 12:45:35,238 epoch: 20, train loss: 33.12462615966797, val loss: 41.491302490234375\n",
      "2020-11-03 12:45:47,728 normalizing counts for prediction\n",
      "2020-11-03 12:45:47,729 filtering for genes in training set\n",
      "2020-11-03 12:45:47,741 0 genes in training set are missing from prediction set\n",
      "2020-11-03 12:45:48,266 starting batch 1 of 1\n",
      "2020-11-03 12:45:48,384 normalizing counts for prediction\n",
      "2020-11-03 12:45:48,385 filtering for genes in training set\n",
      "2020-11-03 12:45:48,393 0 genes in training set are missing from prediction set\n"
     ]
    },
    {
     "name": "stdout",
     "output_type": "stream",
     "text": [
      "snRNAseq brca_train_gbm_val (2455, 29175) (6810, 29748)\n"
     ]
    },
    {
     "name": "stderr",
     "output_type": "stream",
     "text": [
      "2020-11-03 12:46:15,542 normalizing the expression counts for model training\n",
      "2020-11-03 12:46:23,225 input dataset shape: (9265, 28713)\n",
      "2020-11-03 12:46:23,226 possible cell types: ['Adipocyte', 'B cell', 'CD4 T cell', 'CD8 T cell', 'Dendritic', 'Endothelial', 'Fibroblast', 'Malignant', 'Mast', 'Microglia', 'Monocyte', 'NK', 'Neuron', 'Oligodendrocytes', 'Plasma', 'T cells', 'Treg']\n",
      "2020-11-03 12:46:23,228 possible cell types: [('Malignant', 1200), ('Fibroblast', 1200), ('Microglia', 1000), ('Neuron', 1000), ('Oligodendrocytes', 1000), ('T cells', 1000), ('Endothelial', 581), ('B cell', 578), ('Monocyte', 251), ('CD4 T cell', 200), ('Treg', 200), ('NK', 200), ('Adipocyte', 200), ('Mast', 200), ('CD8 T cell', 200), ('Plasma', 200), ('Dendritic', 55)]\n",
      "2020-11-03 12:46:26,250 training dataset shape: (4900, 28713)\n",
      "2020-11-03 12:46:26,251 validation dataset shape: (4365, 28713)\n"
     ]
    },
    {
     "name": "stdout",
     "output_type": "stream",
     "text": [
      "WARNING:tensorflow:5 out of the last 13 calls to <function compute_loss at 0x7f13991523b0> triggered tf.function retracing. Tracing is expensive and the excessive number of tracings is likely due to passing python objects instead of tensors. Also, tf.function has experimental_relax_shapes=True option that relaxes argument shapes that can avoid unnecessary retracing. Please refer to https://www.tensorflow.org/tutorials/customization/performance#python_or_tensor_args and https://www.tensorflow.org/api_docs/python/tf/function for more details.\n"
     ]
    },
    {
     "name": "stderr",
     "output_type": "stream",
     "text": [
      "2020-11-03 12:46:39,715 5 out of the last 13 calls to <function compute_loss at 0x7f13991523b0> triggered tf.function retracing. Tracing is expensive and the excessive number of tracings is likely due to passing python objects instead of tensors. Also, tf.function has experimental_relax_shapes=True option that relaxes argument shapes that can avoid unnecessary retracing. Please refer to https://www.tensorflow.org/tutorials/customization/performance#python_or_tensor_args and https://www.tensorflow.org/api_docs/python/tf/function for more details.\n",
      "2020-11-03 12:46:42,190 epoch: 1, train loss: 43.06745910644531, val loss: 47.67670822143555\n",
      "2020-11-03 12:46:56,249 epoch: 2, train loss: 42.161346435546875, val loss: 47.07756805419922\n",
      "2020-11-03 12:47:10,547 epoch: 3, train loss: 41.5523681640625, val loss: 46.73456573486328\n",
      "2020-11-03 12:47:25,021 epoch: 4, train loss: 41.214176177978516, val loss: 46.42081069946289\n",
      "2020-11-03 12:47:39,502 epoch: 5, train loss: 40.92921829223633, val loss: 46.083560943603516\n",
      "2020-11-03 12:47:53,807 epoch: 6, train loss: 40.67934036254883, val loss: 45.809608459472656\n",
      "2020-11-03 12:48:08,113 epoch: 7, train loss: 40.480403900146484, val loss: 45.64820861816406\n",
      "2020-11-03 12:48:22,397 epoch: 8, train loss: 40.30493927001953, val loss: 45.53529357910156\n",
      "2020-11-03 12:48:36,836 epoch: 9, train loss: 40.1406364440918, val loss: 45.440093994140625\n",
      "2020-11-03 12:48:51,207 epoch: 10, train loss: 39.97225570678711, val loss: 45.36964416503906\n",
      "2020-11-03 12:49:05,523 epoch: 11, train loss: 39.82010269165039, val loss: 45.31298828125\n",
      "2020-11-03 12:49:20,099 epoch: 12, train loss: 39.652313232421875, val loss: 45.257354736328125\n",
      "2020-11-03 12:49:34,627 epoch: 13, train loss: 39.504058837890625, val loss: 45.21747589111328\n",
      "2020-11-03 12:49:49,006 epoch: 14, train loss: 39.356136322021484, val loss: 45.19420623779297\n",
      "2020-11-03 12:50:03,390 epoch: 15, train loss: 39.235252380371094, val loss: 45.18352508544922\n",
      "2020-11-03 12:50:17,752 epoch: 16, train loss: 39.09587478637695, val loss: 45.15187072753906\n",
      "2020-11-03 12:50:32,048 epoch: 17, train loss: 38.93013000488281, val loss: 45.14362335205078\n",
      "2020-11-03 12:50:46,493 epoch: 18, train loss: 38.77333450317383, val loss: 45.16699981689453\n",
      "2020-11-03 12:51:01,132 epoch: 19, train loss: 38.61497497558594, val loss: 45.16420364379883\n",
      "2020-11-03 12:51:15,371 epoch: 20, train loss: 38.417633056640625, val loss: 45.17547607421875\n",
      "2020-11-03 12:51:26,439 normalizing counts for prediction\n",
      "2020-11-03 12:51:26,440 filtering for genes in training set\n",
      "2020-11-03 12:51:26,455 0 genes in training set are missing from prediction set\n",
      "2020-11-03 12:51:27,061 starting batch 1 of 1\n",
      "2020-11-03 12:51:27,174 normalizing counts for prediction\n",
      "2020-11-03 12:51:27,175 filtering for genes in training set\n",
      "2020-11-03 12:51:27,184 0 genes in training set are missing from prediction set\n"
     ]
    },
    {
     "name": "stdout",
     "output_type": "stream",
     "text": [
      "snRNAseq ccrcc_train_brca_val (2113, 33538) (9490, 29175)\n"
     ]
    },
    {
     "name": "stderr",
     "output_type": "stream",
     "text": [
      "2020-11-03 12:51:49,051 normalizing the expression counts for model training\n",
      "2020-11-03 12:51:58,924 input dataset shape: (11603, 29175)\n",
      "2020-11-03 12:51:58,926 possible cell types: ['Adipocyte', 'B cell', 'CD4 T cell', 'CD8 T cell', 'Dendritic', 'Endothelial', 'Epithelial', 'Fibroblast', 'Malignant', 'Mast', 'Monocyte', 'NK', 'Plasma', 'Treg']\n",
      "2020-11-03 12:51:58,928 possible cell types: [('Endothelial', 1200), ('Malignant', 1200), ('Fibroblast', 1200), ('Monocyte', 1200), ('CD8 T cell', 1200), ('Treg', 1200), ('CD4 T cell', 1200), ('Plasma', 1113), ('B cell', 1000), ('NK', 482), ('Dendritic', 217), ('Epithelial', 200), ('Mast', 118), ('Adipocyte', 73)]\n",
      "2020-11-03 12:52:02,649 training dataset shape: (5243, 29175)\n",
      "2020-11-03 12:52:02,650 validation dataset shape: (6360, 29175)\n",
      "2020-11-03 12:52:19,010 epoch: 1, train loss: 37.67650604248047, val loss: 45.935394287109375\n",
      "2020-11-03 12:52:34,415 epoch: 2, train loss: 37.148136138916016, val loss: 45.11798858642578\n",
      "2020-11-03 12:52:49,974 epoch: 3, train loss: 36.68577194213867, val loss: 44.44227600097656\n",
      "2020-11-03 12:53:05,292 epoch: 4, train loss: 36.30207824707031, val loss: 43.8580322265625\n",
      "2020-11-03 12:53:20,548 epoch: 5, train loss: 36.01469421386719, val loss: 43.483097076416016\n",
      "2020-11-03 12:53:35,659 epoch: 6, train loss: 35.811641693115234, val loss: 43.29999542236328\n",
      "2020-11-03 12:53:51,147 epoch: 7, train loss: 35.63926315307617, val loss: 43.18527603149414\n",
      "2020-11-03 12:54:06,712 epoch: 8, train loss: 35.46836471557617, val loss: 43.078697204589844\n",
      "2020-11-03 12:54:22,186 epoch: 9, train loss: 35.31361770629883, val loss: 42.997161865234375\n",
      "2020-11-03 12:54:37,442 epoch: 10, train loss: 35.17561721801758, val loss: 42.90734100341797\n",
      "2020-11-03 12:54:52,953 epoch: 11, train loss: 35.04318618774414, val loss: 42.817535400390625\n",
      "2020-11-03 12:55:09,521 epoch: 12, train loss: 34.93048095703125, val loss: 42.74932098388672\n",
      "2020-11-03 12:55:25,564 epoch: 13, train loss: 34.83210372924805, val loss: 42.7073860168457\n",
      "2020-11-03 12:55:41,388 epoch: 14, train loss: 34.72632598876953, val loss: 42.65533447265625\n",
      "2020-11-03 12:55:57,240 epoch: 15, train loss: 34.62229537963867, val loss: 42.63785171508789\n",
      "2020-11-03 12:56:12,792 epoch: 16, train loss: 34.50129699707031, val loss: 42.59735107421875\n",
      "2020-11-03 12:56:28,754 epoch: 17, train loss: 34.3857307434082, val loss: 42.57373809814453\n",
      "2020-11-03 12:56:44,654 epoch: 18, train loss: 34.26655197143555, val loss: 42.57530212402344\n",
      "2020-11-03 12:57:00,545 epoch: 19, train loss: 34.15384292602539, val loss: 42.582366943359375\n",
      "2020-11-03 12:57:16,304 epoch: 20, train loss: 34.01092529296875, val loss: 42.59116744995117\n",
      "2020-11-03 12:57:29,034 normalizing counts for prediction\n",
      "2020-11-03 12:57:29,035 filtering for genes in training set\n",
      "2020-11-03 12:57:29,044 0 genes in training set are missing from prediction set\n",
      "2020-11-03 12:57:29,573 starting batch 1 of 1\n",
      "2020-11-03 12:57:29,692 normalizing counts for prediction\n",
      "2020-11-03 12:57:29,693 filtering for genes in training set\n",
      "2020-11-03 12:57:29,703 0 genes in training set are missing from prediction set\n"
     ]
    },
    {
     "name": "stdout",
     "output_type": "stream",
     "text": [
      "snRNAseq ccrcc_train_gbm_val (2113, 33538) (6810, 29748)\n"
     ]
    },
    {
     "name": "stderr",
     "output_type": "stream",
     "text": [
      "2020-11-03 12:57:58,695 normalizing the expression counts for model training\n",
      "2020-11-03 12:58:06,380 input dataset shape: (8923, 29748)\n",
      "2020-11-03 12:58:06,382 possible cell types: ['B cell', 'CD4 T cell', 'CD8 T cell', 'Dendritic', 'Endothelial', 'Epithelial', 'Fibroblast', 'Malignant', 'Microglia', 'Monocyte', 'NK', 'Neuron', 'Oligodendrocytes', 'Plasma', 'T cells', 'Treg']\n",
      "2020-11-03 12:58:06,384 possible cell types: [('Malignant', 1200), ('Fibroblast', 1200), ('Microglia', 1000), ('Neuron', 1000), ('Oligodendrocytes', 1000), ('T cells', 1000), ('Endothelial', 581), ('B cell', 378), ('Monocyte', 251), ('NK', 200), ('Dendritic', 200), ('CD8 T cell', 200), ('Treg', 200), ('Epithelial', 200), ('CD4 T cell', 200), ('Plasma', 113)]\n",
      "2020-11-03 12:58:09,201 training dataset shape: (4727, 29748)\n",
      "2020-11-03 12:58:09,202 validation dataset shape: (4196, 29748)\n"
     ]
    },
    {
     "name": "stdout",
     "output_type": "stream",
     "text": [
      "WARNING:tensorflow:5 out of the last 82 calls to <function compute_loss at 0x7f13991523b0> triggered tf.function retracing. Tracing is expensive and the excessive number of tracings is likely due to passing python objects instead of tensors. Also, tf.function has experimental_relax_shapes=True option that relaxes argument shapes that can avoid unnecessary retracing. Please refer to https://www.tensorflow.org/tutorials/customization/performance#python_or_tensor_args and https://www.tensorflow.org/api_docs/python/tf/function for more details.\n"
     ]
    },
    {
     "name": "stderr",
     "output_type": "stream",
     "text": [
      "2020-11-03 12:58:21,688 5 out of the last 82 calls to <function compute_loss at 0x7f13991523b0> triggered tf.function retracing. Tracing is expensive and the excessive number of tracings is likely due to passing python objects instead of tensors. Also, tf.function has experimental_relax_shapes=True option that relaxes argument shapes that can avoid unnecessary retracing. Please refer to https://www.tensorflow.org/tutorials/customization/performance#python_or_tensor_args and https://www.tensorflow.org/api_docs/python/tf/function for more details.\n",
      "2020-11-03 12:58:24,205 epoch: 1, train loss: 40.99190139770508, val loss: 46.22561264038086\n",
      "2020-11-03 12:58:37,676 epoch: 2, train loss: 40.16083908081055, val loss: 45.779083251953125\n",
      "2020-11-03 12:58:51,109 epoch: 3, train loss: 39.46126174926758, val loss: 44.96620178222656\n",
      "2020-11-03 12:59:04,392 epoch: 4, train loss: 39.17843246459961, val loss: 44.30904769897461\n",
      "2020-11-03 12:59:17,807 epoch: 5, train loss: 38.90746307373047, val loss: 43.75905990600586\n",
      "2020-11-03 12:59:31,333 epoch: 6, train loss: 38.661075592041016, val loss: 43.47736358642578\n",
      "2020-11-03 12:59:44,974 epoch: 7, train loss: 38.46202850341797, val loss: 43.32808303833008\n",
      "2020-11-03 12:59:58,400 epoch: 8, train loss: 38.30026626586914, val loss: 43.2348747253418\n",
      "2020-11-03 13:00:11,833 epoch: 9, train loss: 38.152015686035156, val loss: 43.1704216003418\n",
      "2020-11-03 13:00:25,330 epoch: 10, train loss: 38.01403045654297, val loss: 43.11913299560547\n",
      "2020-11-03 13:00:38,711 epoch: 11, train loss: 37.87870788574219, val loss: 43.06935119628906\n",
      "2020-11-03 13:00:52,137 epoch: 12, train loss: 37.7595329284668, val loss: 43.03794479370117\n",
      "2020-11-03 13:01:05,429 epoch: 13, train loss: 37.6231803894043, val loss: 43.007877349853516\n",
      "2020-11-03 13:01:18,759 epoch: 14, train loss: 37.4989128112793, val loss: 42.98937225341797\n",
      "2020-11-03 13:01:31,963 epoch: 15, train loss: 37.36178207397461, val loss: 42.949913024902344\n",
      "2020-11-03 13:01:45,389 epoch: 16, train loss: 37.23457717895508, val loss: 42.930198669433594\n",
      "2020-11-03 13:01:58,681 epoch: 17, train loss: 37.09796905517578, val loss: 42.93183898925781\n",
      "2020-11-03 13:02:11,982 epoch: 18, train loss: 36.96421813964844, val loss: 42.88118362426758\n",
      "2020-11-03 13:02:25,667 epoch: 19, train loss: 36.82453536987305, val loss: 42.88268280029297\n",
      "2020-11-03 13:02:39,175 epoch: 20, train loss: 36.68877029418945, val loss: 42.873477935791016\n",
      "2020-11-03 13:02:49,764 normalizing counts for prediction\n",
      "2020-11-03 13:02:49,766 filtering for genes in training set\n",
      "2020-11-03 13:02:49,780 0 genes in training set are missing from prediction set\n",
      "2020-11-03 13:02:50,486 starting batch 1 of 1\n",
      "2020-11-03 13:02:50,621 normalizing counts for prediction\n",
      "2020-11-03 13:02:50,622 filtering for genes in training set\n",
      "2020-11-03 13:02:50,635 0 genes in training set are missing from prediction set\n"
     ]
    },
    {
     "name": "stdout",
     "output_type": "stream",
     "text": [
      "snRNAseq gbm_train_brca_val (1689, 29748) (9490, 29175)\n"
     ]
    },
    {
     "name": "stderr",
     "output_type": "stream",
     "text": [
      "2020-11-03 13:03:12,890 normalizing the expression counts for model training\n",
      "2020-11-03 13:03:22,051 input dataset shape: (11179, 28713)\n",
      "2020-11-03 13:03:22,053 possible cell types: ['Adipocyte', 'B cell', 'CD4 T cell', 'CD8 T cell', 'Dendritic', 'Endothelial', 'Fibroblast', 'Malignant', 'Mast', 'Microglia', 'Monocyte', 'NK', 'Neuron', 'Oligodendrocytes', 'Plasma', 'T cells', 'Treg']\n",
      "2020-11-03 13:03:22,055 possible cell types: [('Malignant', 1200), ('Fibroblast', 1200), ('B cell', 1200), ('Endothelial', 1200), ('Monocyte', 1089), ('CD4 T cell', 1000), ('CD8 T cell', 1000), ('Treg', 1000), ('Plasma', 1000), ('NK', 282), ('Neuron', 200), ('Oligodendrocytes', 200), ('T cells', 200), ('Microglia', 200), ('Mast', 118), ('Adipocyte', 73), ('Dendritic', 17)]\n",
      "2020-11-03 13:03:25,745 training dataset shape: (5473, 28713)\n",
      "2020-11-03 13:03:25,746 validation dataset shape: (5706, 28713)\n"
     ]
    },
    {
     "name": "stdout",
     "output_type": "stream",
     "text": [
      "WARNING:tensorflow:5 out of the last 13 calls to <function compute_loss at 0x7f13991523b0> triggered tf.function retracing. Tracing is expensive and the excessive number of tracings is likely due to passing python objects instead of tensors. Also, tf.function has experimental_relax_shapes=True option that relaxes argument shapes that can avoid unnecessary retracing. Please refer to https://www.tensorflow.org/tutorials/customization/performance#python_or_tensor_args and https://www.tensorflow.org/api_docs/python/tf/function for more details.\n"
     ]
    },
    {
     "name": "stderr",
     "output_type": "stream",
     "text": [
      "2020-11-03 13:03:40,126 5 out of the last 13 calls to <function compute_loss at 0x7f13991523b0> triggered tf.function retracing. Tracing is expensive and the excessive number of tracings is likely due to passing python objects instead of tensors. Also, tf.function has experimental_relax_shapes=True option that relaxes argument shapes that can avoid unnecessary retracing. Please refer to https://www.tensorflow.org/tutorials/customization/performance#python_or_tensor_args and https://www.tensorflow.org/api_docs/python/tf/function for more details.\n",
      "2020-11-03 13:03:42,811 epoch: 1, train loss: 39.999752044677734, val loss: 42.07345962524414\n",
      "2020-11-03 13:03:58,761 epoch: 2, train loss: 39.36997985839844, val loss: 41.3254508972168\n",
      "2020-11-03 13:04:14,668 epoch: 3, train loss: 38.67570114135742, val loss: 40.84607696533203\n",
      "2020-11-03 13:04:30,473 epoch: 4, train loss: 38.24592590332031, val loss: 40.582401275634766\n",
      "2020-11-03 13:04:46,356 epoch: 5, train loss: 38.019981384277344, val loss: 40.42650604248047\n",
      "2020-11-03 13:05:02,483 epoch: 6, train loss: 37.82645797729492, val loss: 40.30968475341797\n",
      "2020-11-03 13:05:18,238 epoch: 7, train loss: 37.69232940673828, val loss: 40.21235275268555\n",
      "2020-11-03 13:05:35,069 epoch: 8, train loss: 37.535301208496094, val loss: 40.11520004272461\n",
      "2020-11-03 13:05:51,673 epoch: 9, train loss: 37.41991424560547, val loss: 40.06018829345703\n",
      "2020-11-03 13:06:08,084 epoch: 10, train loss: 37.25979232788086, val loss: 39.9958610534668\n",
      "2020-11-03 13:06:24,371 epoch: 11, train loss: 37.1522331237793, val loss: 39.96133804321289\n",
      "2020-11-03 13:06:40,448 epoch: 12, train loss: 37.016204833984375, val loss: 39.932289123535156\n",
      "2020-11-03 13:06:56,789 epoch: 13, train loss: 36.913211822509766, val loss: 39.90747833251953\n",
      "2020-11-03 13:07:13,247 epoch: 14, train loss: 36.775142669677734, val loss: 39.8851318359375\n",
      "2020-11-03 13:07:29,506 epoch: 15, train loss: 36.634498596191406, val loss: 39.877105712890625\n",
      "2020-11-03 13:07:45,977 epoch: 16, train loss: 36.50663757324219, val loss: 39.88139724731445\n",
      "2020-11-03 13:08:02,435 epoch: 17, train loss: 36.37704086303711, val loss: 39.88664245605469\n",
      "2020-11-03 13:08:19,010 epoch: 18, train loss: 36.2237663269043, val loss: 39.883697509765625\n",
      "2020-11-03 13:08:35,135 epoch: 19, train loss: 36.10306930541992, val loss: 39.913028717041016\n",
      "2020-11-03 13:08:51,342 epoch: 20, train loss: 35.93978500366211, val loss: 39.92774963378906\n",
      "2020-11-03 13:09:03,970 normalizing counts for prediction\n",
      "2020-11-03 13:09:03,971 filtering for genes in training set\n",
      "2020-11-03 13:09:03,982 0 genes in training set are missing from prediction set\n",
      "2020-11-03 13:09:04,659 starting batch 1 of 1\n",
      "2020-11-03 13:09:04,854 normalizing counts for prediction\n",
      "2020-11-03 13:09:04,855 filtering for genes in training set\n",
      "2020-11-03 13:09:04,866 0 genes in training set are missing from prediction set\n"
     ]
    },
    {
     "name": "stdout",
     "output_type": "stream",
     "text": [
      "snRNAseq gbm_train_ccrcc_val (1689, 29748) (8605, 33538)\n"
     ]
    },
    {
     "name": "stderr",
     "output_type": "stream",
     "text": [
      "2020-11-03 13:09:33,972 normalizing the expression counts for model training\n",
      "2020-11-03 13:09:42,906 input dataset shape: (10294, 29748)\n",
      "2020-11-03 13:09:42,908 possible cell types: ['B cell', 'CD4 T cell', 'CD8 T cell', 'Dendritic', 'Endothelial', 'Epithelial', 'Fibroblast', 'Malignant', 'Microglia', 'Monocyte', 'NK', 'Neuron', 'Oligodendrocytes', 'Plasma', 'T cells', 'Treg']\n",
      "2020-11-03 13:09:42,910 possible cell types: [('Malignant', 1200), ('Fibroblast', 1200), ('Endothelial', 1200), ('Monocyte', 1089), ('NK', 1000), ('CD4 T cell', 1000), ('Epithelial', 1000), ('CD8 T cell', 846), ('Treg', 374), ('Dendritic', 290), ('Neuron', 200), ('B cell', 200), ('Oligodendrocytes', 200), ('T cells', 200), ('Microglia', 200), ('Plasma', 95)]\n",
      "2020-11-03 13:09:46,239 training dataset shape: (5298, 29748)\n",
      "2020-11-03 13:09:46,240 validation dataset shape: (4996, 29748)\n",
      "2020-11-03 13:10:01,993 epoch: 1, train loss: 37.514373779296875, val loss: 46.715782165527344\n",
      "2020-11-03 13:10:16,178 epoch: 2, train loss: 36.694847106933594, val loss: 46.10951614379883\n",
      "2020-11-03 13:10:30,620 epoch: 3, train loss: 36.13135528564453, val loss: 45.69538879394531\n",
      "2020-11-03 13:10:45,295 epoch: 4, train loss: 35.893306732177734, val loss: 45.497093200683594\n",
      "2020-11-03 13:10:59,659 epoch: 5, train loss: 35.61888885498047, val loss: 45.35636520385742\n",
      "2020-11-03 13:11:14,329 epoch: 6, train loss: 35.39387130737305, val loss: 45.24232482910156\n",
      "2020-11-03 13:11:28,474 epoch: 7, train loss: 35.23910903930664, val loss: 45.14494323730469\n",
      "2020-11-03 13:11:43,027 epoch: 8, train loss: 35.103084564208984, val loss: 45.08369064331055\n",
      "2020-11-03 13:11:57,201 epoch: 9, train loss: 34.997398376464844, val loss: 45.0322265625\n",
      "2020-11-03 13:12:11,910 epoch: 10, train loss: 34.86650848388672, val loss: 44.992393493652344\n",
      "2020-11-03 13:12:26,230 epoch: 11, train loss: 34.766258239746094, val loss: 44.95880889892578\n",
      "2020-11-03 13:12:40,563 epoch: 12, train loss: 34.6539306640625, val loss: 44.965675354003906\n",
      "2020-11-03 13:12:54,830 epoch: 13, train loss: 34.5076904296875, val loss: 44.92256164550781\n",
      "2020-11-03 13:13:09,214 epoch: 14, train loss: 34.3924674987793, val loss: 44.91808319091797\n",
      "2020-11-03 13:13:23,995 epoch: 15, train loss: 34.256832122802734, val loss: 44.89070129394531\n",
      "2020-11-03 13:13:38,603 epoch: 16, train loss: 34.15555191040039, val loss: 44.891334533691406\n",
      "2020-11-03 13:13:53,323 epoch: 17, train loss: 34.03978729248047, val loss: 44.89433288574219\n",
      "2020-11-03 13:14:07,846 epoch: 18, train loss: 33.90010452270508, val loss: 44.87594985961914\n",
      "2020-11-03 13:14:22,316 epoch: 19, train loss: 33.76966094970703, val loss: 44.87794494628906\n",
      "2020-11-03 13:14:36,817 epoch: 20, train loss: 33.64866638183594, val loss: 44.88629913330078\n",
      "2020-11-03 13:14:48,723 normalizing counts for prediction\n",
      "2020-11-03 13:14:48,724 filtering for genes in training set\n",
      "2020-11-03 13:14:48,734 0 genes in training set are missing from prediction set\n",
      "2020-11-03 13:14:49,256 starting batch 1 of 1\n",
      "2020-11-03 13:14:49,375 normalizing counts for prediction\n",
      "2020-11-03 13:14:49,375 filtering for genes in training set\n",
      "2020-11-03 13:14:49,386 0 genes in training set are missing from prediction set\n"
     ]
    }
   ],
   "source": [
    "run_workflow_for_cross_disease(adata_map, run_pollock_workflow, 'pollock', RESULTS_CROSS_DISEASE_DIR)"
   ]
  },
  {
   "cell_type": "code",
   "execution_count": 94,
   "metadata": {},
   "outputs": [
    {
     "name": "stdout",
     "output_type": "stream",
     "text": [
      "snRNAseq brca_train_brca_val (2600, 27131) (9028, 19891)\n"
     ]
    },
    {
     "name": "stderr",
     "output_type": "stream",
     "text": [
      "2020-11-03 13:28:03,274 normalizing the expression counts for model training\n",
      "2020-11-03 13:28:09,083 input dataset shape: (11628, 17565)\n",
      "2020-11-03 13:28:09,085 possible cell types: ['B cell', 'CD4 T cell', 'CD8 T cell', 'Dendritic', 'Endothelial', 'Erythrocyte', 'Fibroblast', 'Malignant', 'Mast', 'Monocyte', 'NK', 'Plasma', 'Treg']\n",
      "2020-11-03 13:28:09,088 possible cell types: [('CD8 T cell', 1200), ('Endothelial', 1200), ('CD4 T cell', 1200), ('Treg', 1200), ('Fibroblast', 1200), ('Malignant', 1200), ('Monocyte', 1200), ('B cell', 1200), ('Dendritic', 976), ('NK', 430), ('Mast', 222), ('Plasma', 200), ('Erythrocyte', 200)]\n",
      "2020-11-03 13:28:11,851 training dataset shape: (5236, 17565)\n",
      "2020-11-03 13:28:11,852 validation dataset shape: (6392, 17565)\n",
      "2020-11-03 13:28:23,842 epoch: 1, train loss: 30.368574142456055, val loss: 15.81157112121582\n",
      "2020-11-03 13:28:34,406 epoch: 2, train loss: 29.463855743408203, val loss: 13.043060302734375\n",
      "2020-11-03 13:28:44,993 epoch: 3, train loss: 29.258445739746094, val loss: 12.933956146240234\n",
      "2020-11-03 13:28:55,564 epoch: 4, train loss: 29.083267211914062, val loss: 12.819705963134766\n",
      "2020-11-03 13:29:06,056 epoch: 5, train loss: 28.82155990600586, val loss: 12.672698974609375\n",
      "2020-11-03 13:29:16,395 epoch: 6, train loss: 28.69062614440918, val loss: 12.467758178710938\n",
      "2020-11-03 13:29:26,984 epoch: 7, train loss: 28.489906311035156, val loss: 12.383520126342773\n",
      "2020-11-03 13:29:37,473 epoch: 8, train loss: 28.36674690246582, val loss: 12.267230987548828\n",
      "2020-11-03 13:29:48,081 epoch: 9, train loss: 28.229476928710938, val loss: 12.166884422302246\n",
      "2020-11-03 13:29:58,744 epoch: 10, train loss: 28.088193893432617, val loss: 12.044197082519531\n",
      "2020-11-03 13:30:09,581 epoch: 11, train loss: 27.99443244934082, val loss: 11.965166091918945\n",
      "2020-11-03 13:30:20,169 epoch: 12, train loss: 27.90085792541504, val loss: 11.9224214553833\n",
      "2020-11-03 13:30:30,545 epoch: 13, train loss: 27.807003021240234, val loss: 11.859169960021973\n",
      "2020-11-03 13:30:40,886 epoch: 14, train loss: 27.706077575683594, val loss: 11.820883750915527\n",
      "2020-11-03 13:30:51,563 epoch: 15, train loss: 27.665000915527344, val loss: 11.810298919677734\n",
      "2020-11-03 13:31:02,116 epoch: 16, train loss: 27.687171936035156, val loss: 11.834463119506836\n",
      "2020-11-03 13:31:12,738 epoch: 17, train loss: 27.380769729614258, val loss: 11.761678695678711\n",
      "2020-11-03 13:31:23,297 epoch: 18, train loss: 27.286373138427734, val loss: 11.74132251739502\n",
      "2020-11-03 13:31:33,716 epoch: 19, train loss: 27.1468505859375, val loss: 11.722963333129883\n",
      "2020-11-03 13:31:44,379 epoch: 20, train loss: 27.0282039642334, val loss: 11.704225540161133\n",
      "2020-11-03 13:31:54,683 normalizing counts for prediction\n",
      "2020-11-03 13:31:54,685 filtering for genes in training set\n",
      "2020-11-03 13:31:54,693 0 genes in training set are missing from prediction set\n",
      "2020-11-03 13:31:55,012 starting batch 1 of 1\n",
      "2020-11-03 13:31:55,290 normalizing counts for prediction\n",
      "2020-11-03 13:31:55,291 filtering for genes in training set\n",
      "2020-11-03 13:31:55,299 0 genes in training set are missing from prediction set\n"
     ]
    },
    {
     "name": "stdout",
     "output_type": "stream",
     "text": [
      "snRNAseq brca_train_gbm_val (2600, 27131) (5650, 19891)\n"
     ]
    },
    {
     "name": "stderr",
     "output_type": "stream",
     "text": [
      "2020-11-03 13:32:32,063 normalizing the expression counts for model training\n",
      "2020-11-03 13:32:36,180 input dataset shape: (8250, 17565)\n",
      "2020-11-03 13:32:36,181 possible cell types: ['B cell', 'CD4 T cell', 'CD8 T cell', 'Dendritic', 'Endothelial', 'Erythrocyte', 'Fibroblast', 'Malignant', 'Mast', 'Microglia', 'Monocyte', 'NK', 'Neuron', 'Oligodendrocytes', 'Plasma', 'T cells', 'Treg']\n",
      "2020-11-03 13:32:36,183 possible cell types: [('Malignant', 1200), ('Microglia', 1000), ('T cells', 1000), ('Oligodendrocytes', 1000), ('Neuron', 1000), ('Fibroblast', 810), ('Endothelial', 229), ('B cell', 211), ('NK', 200), ('CD8 T cell', 200), ('CD4 T cell', 200), ('Treg', 200), ('Monocyte', 200), ('Mast', 200), ('Plasma', 200), ('Erythrocyte', 200), ('Dendritic', 200)]\n",
      "2020-11-03 13:32:38,253 training dataset shape: (4703, 17565)\n",
      "2020-11-03 13:32:38,254 validation dataset shape: (3547, 17565)\n"
     ]
    },
    {
     "name": "stdout",
     "output_type": "stream",
     "text": [
      "WARNING:tensorflow:5 out of the last 82 calls to <function compute_loss at 0x7f13991523b0> triggered tf.function retracing. Tracing is expensive and the excessive number of tracings is likely due to passing python objects instead of tensors. Also, tf.function has experimental_relax_shapes=True option that relaxes argument shapes that can avoid unnecessary retracing. Please refer to https://www.tensorflow.org/tutorials/customization/performance#python_or_tensor_args and https://www.tensorflow.org/api_docs/python/tf/function for more details.\n"
     ]
    },
    {
     "name": "stderr",
     "output_type": "stream",
     "text": [
      "2020-11-03 13:32:47,033 5 out of the last 82 calls to <function compute_loss at 0x7f13991523b0> triggered tf.function retracing. Tracing is expensive and the excessive number of tracings is likely due to passing python objects instead of tensors. Also, tf.function has experimental_relax_shapes=True option that relaxes argument shapes that can avoid unnecessary retracing. Please refer to https://www.tensorflow.org/tutorials/customization/performance#python_or_tensor_args and https://www.tensorflow.org/api_docs/python/tf/function for more details.\n",
      "2020-11-03 13:32:49,191 epoch: 1, train loss: 28.62729263305664, val loss: 16.150346755981445\n",
      "2020-11-03 13:32:58,611 epoch: 2, train loss: 27.920495986938477, val loss: 14.999509811401367\n",
      "2020-11-03 13:33:08,318 epoch: 3, train loss: 27.67705535888672, val loss: 14.845916748046875\n",
      "2020-11-03 13:33:18,003 epoch: 4, train loss: 27.508895874023438, val loss: 14.541648864746094\n",
      "2020-11-03 13:33:27,664 epoch: 5, train loss: 27.255340576171875, val loss: 14.221344947814941\n",
      "2020-11-03 13:33:37,521 epoch: 6, train loss: 27.054487228393555, val loss: 14.107940673828125\n",
      "2020-11-03 13:33:47,311 epoch: 7, train loss: 27.001983642578125, val loss: 14.03580093383789\n",
      "2020-11-03 13:33:57,065 epoch: 8, train loss: 26.894899368286133, val loss: 13.934391021728516\n",
      "2020-11-03 13:34:06,782 epoch: 9, train loss: 26.582340240478516, val loss: 13.76335334777832\n",
      "2020-11-03 13:34:16,480 epoch: 10, train loss: 26.466960906982422, val loss: 13.694660186767578\n",
      "2020-11-03 13:34:26,014 epoch: 11, train loss: 26.180477142333984, val loss: 13.564704895019531\n",
      "2020-11-03 13:34:35,699 epoch: 12, train loss: 26.107383728027344, val loss: 13.472321510314941\n",
      "2020-11-03 13:34:45,273 epoch: 13, train loss: 26.020721435546875, val loss: 13.409919738769531\n",
      "2020-11-03 13:34:55,045 epoch: 14, train loss: 26.074737548828125, val loss: 13.379804611206055\n",
      "2020-11-03 13:35:04,674 epoch: 15, train loss: 25.875410079956055, val loss: 13.323989868164062\n",
      "2020-11-03 13:35:14,326 epoch: 16, train loss: 25.696760177612305, val loss: 13.30868148803711\n",
      "2020-11-03 13:35:23,829 epoch: 17, train loss: 25.45868492126465, val loss: 13.274682998657227\n",
      "2020-11-03 13:35:33,366 epoch: 18, train loss: 25.425830841064453, val loss: 13.224905014038086\n",
      "2020-11-03 13:35:43,071 epoch: 19, train loss: 25.36671257019043, val loss: 13.263154983520508\n",
      "2020-11-03 13:35:52,672 epoch: 20, train loss: 25.457733154296875, val loss: 13.232080459594727\n",
      "2020-11-03 13:36:00,599 normalizing counts for prediction\n",
      "2020-11-03 13:36:00,601 filtering for genes in training set\n",
      "2020-11-03 13:36:00,610 0 genes in training set are missing from prediction set\n",
      "2020-11-03 13:36:01,072 starting batch 1 of 1\n",
      "2020-11-03 13:36:01,286 normalizing counts for prediction\n",
      "2020-11-03 13:36:01,288 filtering for genes in training set\n",
      "2020-11-03 13:36:01,297 0 genes in training set are missing from prediction set\n"
     ]
    },
    {
     "name": "stdout",
     "output_type": "stream",
     "text": [
      "snRNAseq cesc_train_brca_val (1941, 22928) (9028, 19891)\n"
     ]
    },
    {
     "name": "stderr",
     "output_type": "stream",
     "text": [
      "2020-11-03 13:36:25,107 normalizing the expression counts for model training\n",
      "2020-11-03 13:36:30,214 input dataset shape: (10969, 16509)\n",
      "2020-11-03 13:36:30,216 possible cell types: ['B cell', 'CD4 T cell', 'CD8 T cell', 'Dendritic', 'Endothelial', 'Epithelial', 'Erythrocyte', 'Fibroblast', 'Malignant', 'Mast', 'Monocyte', 'NK', 'Plasma', 'Treg']\n",
      "2020-11-03 13:36:30,218 possible cell types: [('Fibroblast', 1200), ('Endothelial', 1200), ('Monocyte', 1200), ('CD8 T cell', 1200), ('CD4 T cell', 1200), ('Malignant', 1200), ('Treg', 1000), ('B cell', 1000), ('Dendritic', 776), ('NK', 430), ('Epithelial', 200), ('Plasma', 200), ('Mast', 111), ('Erythrocyte', 52)]\n",
      "2020-11-03 13:36:32,807 training dataset shape: (5194, 16509)\n",
      "2020-11-03 13:36:32,808 validation dataset shape: (5775, 16509)\n"
     ]
    },
    {
     "name": "stdout",
     "output_type": "stream",
     "text": [
      "WARNING:tensorflow:5 out of the last 20 calls to <function compute_loss at 0x7f13991523b0> triggered tf.function retracing. Tracing is expensive and the excessive number of tracings is likely due to passing python objects instead of tensors. Also, tf.function has experimental_relax_shapes=True option that relaxes argument shapes that can avoid unnecessary retracing. Please refer to https://www.tensorflow.org/tutorials/customization/performance#python_or_tensor_args and https://www.tensorflow.org/api_docs/python/tf/function for more details.\n"
     ]
    },
    {
     "name": "stderr",
     "output_type": "stream",
     "text": [
      "2020-11-03 13:36:42,418 5 out of the last 20 calls to <function compute_loss at 0x7f13991523b0> triggered tf.function retracing. Tracing is expensive and the excessive number of tracings is likely due to passing python objects instead of tensors. Also, tf.function has experimental_relax_shapes=True option that relaxes argument shapes that can avoid unnecessary retracing. Please refer to https://www.tensorflow.org/tutorials/customization/performance#python_or_tensor_args and https://www.tensorflow.org/api_docs/python/tf/function for more details.\n",
      "2020-11-03 13:36:43,775 epoch: 1, train loss: 29.95317268371582, val loss: 18.205394744873047\n",
      "2020-11-03 13:36:53,720 epoch: 2, train loss: 29.498239517211914, val loss: 17.31381607055664\n",
      "2020-11-03 13:37:03,580 epoch: 3, train loss: 29.217782974243164, val loss: 17.20269775390625\n",
      "2020-11-03 13:37:13,574 epoch: 4, train loss: 28.957897186279297, val loss: 16.976694107055664\n",
      "2020-11-03 13:37:23,464 epoch: 5, train loss: 28.697837829589844, val loss: 16.762855529785156\n",
      "2020-11-03 13:37:33,297 epoch: 6, train loss: 28.586524963378906, val loss: 16.468523025512695\n",
      "2020-11-03 13:37:43,188 epoch: 7, train loss: 28.452329635620117, val loss: 16.17377471923828\n",
      "2020-11-03 13:37:53,085 epoch: 8, train loss: 28.404727935791016, val loss: 15.968599319458008\n",
      "2020-11-03 13:38:02,948 epoch: 9, train loss: 28.094587326049805, val loss: 15.789719581604004\n",
      "2020-11-03 13:38:12,846 epoch: 10, train loss: 28.0716495513916, val loss: 15.6373929977417\n",
      "2020-11-03 13:38:22,723 epoch: 11, train loss: 28.0371036529541, val loss: 15.502338409423828\n",
      "2020-11-03 13:38:32,600 epoch: 12, train loss: 28.040449142456055, val loss: 15.416967391967773\n",
      "2020-11-03 13:38:42,472 epoch: 13, train loss: 27.696590423583984, val loss: 15.322164535522461\n",
      "2020-11-03 13:38:52,224 epoch: 14, train loss: 27.609365463256836, val loss: 15.23587703704834\n",
      "2020-11-03 13:39:02,282 epoch: 15, train loss: 28.048187255859375, val loss: 15.224103927612305\n",
      "2020-11-03 13:39:12,329 epoch: 16, train loss: 27.443044662475586, val loss: 15.128331184387207\n",
      "2020-11-03 13:39:22,410 epoch: 17, train loss: 27.277746200561523, val loss: 15.05869197845459\n",
      "2020-11-03 13:39:32,410 epoch: 18, train loss: 27.472257614135742, val loss: 15.028816223144531\n",
      "2020-11-03 13:39:42,440 epoch: 19, train loss: 27.24924659729004, val loss: 15.002958297729492\n",
      "2020-11-03 13:39:52,406 epoch: 20, train loss: 26.988079071044922, val loss: 14.964828491210938\n",
      "2020-11-03 13:40:01,671 normalizing counts for prediction\n",
      "2020-11-03 13:40:01,673 filtering for genes in training set\n",
      "2020-11-03 13:40:01,681 0 genes in training set are missing from prediction set\n",
      "2020-11-03 13:40:02,118 starting batch 1 of 1\n",
      "2020-11-03 13:40:02,409 normalizing counts for prediction\n",
      "2020-11-03 13:40:02,410 filtering for genes in training set\n",
      "2020-11-03 13:40:02,416 0 genes in training set are missing from prediction set\n"
     ]
    },
    {
     "name": "stdout",
     "output_type": "stream",
     "text": [
      "snRNAseq cesc_train_gbm_val (1941, 22928) (5650, 19891)\n"
     ]
    },
    {
     "name": "stderr",
     "output_type": "stream",
     "text": [
      "2020-11-03 13:40:41,462 normalizing the expression counts for model training\n",
      "2020-11-03 13:40:45,077 input dataset shape: (7591, 16509)\n",
      "2020-11-03 13:40:45,079 possible cell types: ['B cell', 'CD4 T cell', 'CD8 T cell', 'Endothelial', 'Epithelial', 'Erythrocyte', 'Fibroblast', 'Malignant', 'Mast', 'Microglia', 'Monocyte', 'NK', 'Neuron', 'Oligodendrocytes', 'Plasma', 'T cells']\n",
      "2020-11-03 13:40:45,081 possible cell types: [('Malignant', 1200), ('Microglia', 1000), ('T cells', 1000), ('Oligodendrocytes', 1000), ('Neuron', 1000), ('Fibroblast', 810), ('Endothelial', 229), ('Monocyte', 200), ('CD8 T cell', 200), ('CD4 T cell', 200), ('Epithelial', 200), ('Plasma', 200), ('NK', 200), ('Mast', 89), ('Erythrocyte', 52), ('B cell', 11)]\n",
      "2020-11-03 13:40:46,824 training dataset shape: (4208, 16509)\n",
      "2020-11-03 13:40:46,825 validation dataset shape: (3383, 16509)\n"
     ]
    },
    {
     "name": "stdout",
     "output_type": "stream",
     "text": [
      "WARNING:tensorflow:5 out of the last 71 calls to <function compute_loss at 0x7f13991523b0> triggered tf.function retracing. Tracing is expensive and the excessive number of tracings is likely due to passing python objects instead of tensors. Also, tf.function has experimental_relax_shapes=True option that relaxes argument shapes that can avoid unnecessary retracing. Please refer to https://www.tensorflow.org/tutorials/customization/performance#python_or_tensor_args and https://www.tensorflow.org/api_docs/python/tf/function for more details.\n"
     ]
    },
    {
     "name": "stderr",
     "output_type": "stream",
     "text": [
      "2020-11-03 13:40:54,360 5 out of the last 71 calls to <function compute_loss at 0x7f13991523b0> triggered tf.function retracing. Tracing is expensive and the excessive number of tracings is likely due to passing python objects instead of tensors. Also, tf.function has experimental_relax_shapes=True option that relaxes argument shapes that can avoid unnecessary retracing. Please refer to https://www.tensorflow.org/tutorials/customization/performance#python_or_tensor_args and https://www.tensorflow.org/api_docs/python/tf/function for more details.\n"
     ]
    },
    {
     "name": "stdout",
     "output_type": "stream",
     "text": [
      "WARNING:tensorflow:6 out of the last 72 calls to <function compute_loss at 0x7f13991523b0> triggered tf.function retracing. Tracing is expensive and the excessive number of tracings is likely due to passing python objects instead of tensors. Also, tf.function has experimental_relax_shapes=True option that relaxes argument shapes that can avoid unnecessary retracing. Please refer to https://www.tensorflow.org/tutorials/customization/performance#python_or_tensor_args and https://www.tensorflow.org/api_docs/python/tf/function for more details.\n"
     ]
    },
    {
     "name": "stderr",
     "output_type": "stream",
     "text": [
      "2020-11-03 13:40:54,457 6 out of the last 72 calls to <function compute_loss at 0x7f13991523b0> triggered tf.function retracing. Tracing is expensive and the excessive number of tracings is likely due to passing python objects instead of tensors. Also, tf.function has experimental_relax_shapes=True option that relaxes argument shapes that can avoid unnecessary retracing. Please refer to https://www.tensorflow.org/tutorials/customization/performance#python_or_tensor_args and https://www.tensorflow.org/api_docs/python/tf/function for more details.\n"
     ]
    },
    {
     "name": "stdout",
     "output_type": "stream",
     "text": [
      "WARNING:tensorflow:6 out of the last 13 calls to <function compute_loss at 0x7f13991523b0> triggered tf.function retracing. Tracing is expensive and the excessive number of tracings is likely due to passing python objects instead of tensors. Also, tf.function has experimental_relax_shapes=True option that relaxes argument shapes that can avoid unnecessary retracing. Please refer to https://www.tensorflow.org/tutorials/customization/performance#python_or_tensor_args and https://www.tensorflow.org/api_docs/python/tf/function for more details.\n"
     ]
    },
    {
     "name": "stderr",
     "output_type": "stream",
     "text": [
      "2020-11-03 13:40:54,670 6 out of the last 13 calls to <function compute_loss at 0x7f13991523b0> triggered tf.function retracing. Tracing is expensive and the excessive number of tracings is likely due to passing python objects instead of tensors. Also, tf.function has experimental_relax_shapes=True option that relaxes argument shapes that can avoid unnecessary retracing. Please refer to https://www.tensorflow.org/tutorials/customization/performance#python_or_tensor_args and https://www.tensorflow.org/api_docs/python/tf/function for more details.\n"
     ]
    },
    {
     "name": "stdout",
     "output_type": "stream",
     "text": [
      "WARNING:tensorflow:6 out of the last 11 calls to <function compute_loss at 0x7f13991523b0> triggered tf.function retracing. Tracing is expensive and the excessive number of tracings is likely due to passing python objects instead of tensors. Also, tf.function has experimental_relax_shapes=True option that relaxes argument shapes that can avoid unnecessary retracing. Please refer to https://www.tensorflow.org/tutorials/customization/performance#python_or_tensor_args and https://www.tensorflow.org/api_docs/python/tf/function for more details.\n"
     ]
    },
    {
     "name": "stderr",
     "output_type": "stream",
     "text": [
      "2020-11-03 13:40:54,765 6 out of the last 11 calls to <function compute_loss at 0x7f13991523b0> triggered tf.function retracing. Tracing is expensive and the excessive number of tracings is likely due to passing python objects instead of tensors. Also, tf.function has experimental_relax_shapes=True option that relaxes argument shapes that can avoid unnecessary retracing. Please refer to https://www.tensorflow.org/tutorials/customization/performance#python_or_tensor_args and https://www.tensorflow.org/api_docs/python/tf/function for more details.\n"
     ]
    },
    {
     "name": "stdout",
     "output_type": "stream",
     "text": [
      "WARNING:tensorflow:6 out of the last 11 calls to <function compute_loss at 0x7f13991523b0> triggered tf.function retracing. Tracing is expensive and the excessive number of tracings is likely due to passing python objects instead of tensors. Also, tf.function has experimental_relax_shapes=True option that relaxes argument shapes that can avoid unnecessary retracing. Please refer to https://www.tensorflow.org/tutorials/customization/performance#python_or_tensor_args and https://www.tensorflow.org/api_docs/python/tf/function for more details.\n"
     ]
    },
    {
     "name": "stderr",
     "output_type": "stream",
     "text": [
      "2020-11-03 13:40:54,852 6 out of the last 11 calls to <function compute_loss at 0x7f13991523b0> triggered tf.function retracing. Tracing is expensive and the excessive number of tracings is likely due to passing python objects instead of tensors. Also, tf.function has experimental_relax_shapes=True option that relaxes argument shapes that can avoid unnecessary retracing. Please refer to https://www.tensorflow.org/tutorials/customization/performance#python_or_tensor_args and https://www.tensorflow.org/api_docs/python/tf/function for more details.\n"
     ]
    },
    {
     "name": "stdout",
     "output_type": "stream",
     "text": [
      "WARNING:tensorflow:5 out of the last 15 calls to <function compute_loss at 0x7f13991523b0> triggered tf.function retracing. Tracing is expensive and the excessive number of tracings is likely due to passing python objects instead of tensors. Also, tf.function has experimental_relax_shapes=True option that relaxes argument shapes that can avoid unnecessary retracing. Please refer to https://www.tensorflow.org/tutorials/customization/performance#python_or_tensor_args and https://www.tensorflow.org/api_docs/python/tf/function for more details.\n"
     ]
    },
    {
     "name": "stderr",
     "output_type": "stream",
     "text": [
      "2020-11-03 13:40:55,090 5 out of the last 15 calls to <function compute_loss at 0x7f13991523b0> triggered tf.function retracing. Tracing is expensive and the excessive number of tracings is likely due to passing python objects instead of tensors. Also, tf.function has experimental_relax_shapes=True option that relaxes argument shapes that can avoid unnecessary retracing. Please refer to https://www.tensorflow.org/tutorials/customization/performance#python_or_tensor_args and https://www.tensorflow.org/api_docs/python/tf/function for more details.\n",
      "2020-11-03 13:40:57,160 epoch: 1, train loss: 30.6953067779541, val loss: 15.771256446838379\n",
      "2020-11-03 13:41:05,660 epoch: 2, train loss: 29.74069595336914, val loss: 15.004144668579102\n",
      "2020-11-03 13:41:14,111 epoch: 3, train loss: 29.400615692138672, val loss: 14.940890312194824\n",
      "2020-11-03 13:41:22,480 epoch: 4, train loss: 29.25402069091797, val loss: 14.825430870056152\n",
      "2020-11-03 13:41:31,153 epoch: 5, train loss: 29.075857162475586, val loss: 14.63594913482666\n",
      "2020-11-03 13:41:39,924 epoch: 6, train loss: 28.879079818725586, val loss: 14.44707202911377\n",
      "2020-11-03 13:41:48,498 epoch: 7, train loss: 28.596256256103516, val loss: 14.243925094604492\n",
      "2020-11-03 13:41:56,908 epoch: 8, train loss: 28.519746780395508, val loss: 14.125986099243164\n",
      "2020-11-03 13:42:05,401 epoch: 9, train loss: 28.253366470336914, val loss: 14.056082725524902\n",
      "2020-11-03 13:42:14,015 epoch: 10, train loss: 28.074892044067383, val loss: 13.96537971496582\n",
      "2020-11-03 13:42:22,526 epoch: 11, train loss: 27.94639015197754, val loss: 13.90381145477295\n",
      "2020-11-03 13:42:31,022 epoch: 12, train loss: 27.849035263061523, val loss: 13.826020240783691\n",
      "2020-11-03 13:42:39,630 epoch: 13, train loss: 27.815311431884766, val loss: 13.753467559814453\n",
      "2020-11-03 13:42:48,238 epoch: 14, train loss: 27.546667098999023, val loss: 13.660894393920898\n",
      "2020-11-03 13:42:56,794 epoch: 15, train loss: 27.40010643005371, val loss: 13.602592468261719\n",
      "2020-11-03 13:43:05,409 epoch: 16, train loss: 27.361337661743164, val loss: 13.546870231628418\n",
      "2020-11-03 13:43:14,124 epoch: 17, train loss: 27.31195640563965, val loss: 13.514092445373535\n",
      "2020-11-03 13:43:22,613 epoch: 18, train loss: 27.183202743530273, val loss: 13.486276626586914\n",
      "2020-11-03 13:43:31,273 epoch: 19, train loss: 27.153356552124023, val loss: 13.4790620803833\n",
      "2020-11-03 13:43:39,859 epoch: 20, train loss: 27.018512725830078, val loss: 13.410645484924316\n",
      "2020-11-03 13:43:46,683 normalizing counts for prediction\n",
      "2020-11-03 13:43:46,684 filtering for genes in training set\n",
      "2020-11-03 13:43:46,692 0 genes in training set are missing from prediction set\n",
      "2020-11-03 13:43:46,993 starting batch 1 of 1\n",
      "2020-11-03 13:43:47,180 normalizing counts for prediction\n",
      "2020-11-03 13:43:47,181 filtering for genes in training set\n",
      "2020-11-03 13:43:47,190 0 genes in training set are missing from prediction set\n"
     ]
    },
    {
     "name": "stdout",
     "output_type": "stream",
     "text": [
      "snRNAseq hnscc_train_brca_val (2200, 26929) (9028, 19891)\n"
     ]
    },
    {
     "name": "stderr",
     "output_type": "stream",
     "text": [
      "2020-11-03 13:44:12,100 normalizing the expression counts for model training\n",
      "2020-11-03 13:44:17,644 input dataset shape: (11228, 17615)\n",
      "2020-11-03 13:44:17,646 possible cell types: ['B cell', 'CD4 T cell', 'CD8 T cell', 'Dendritic', 'Endothelial', 'Erythrocyte', 'Fibroblast', 'Malignant', 'Mast', 'Monocyte', 'NK', 'Plasma', 'Treg']\n",
      "2020-11-03 13:44:17,648 possible cell types: [('B cell', 1200), ('CD4 T cell', 1200), ('Endothelial', 1200), ('Treg', 1200), ('CD8 T cell', 1200), ('Monocyte', 1200), ('Malignant', 1200), ('Fibroblast', 1000), ('Dendritic', 776), ('NK', 430), ('Mast', 222), ('Plasma', 200), ('Erythrocyte', 200)]\n",
      "2020-11-03 13:44:20,338 training dataset shape: (5236, 17615)\n",
      "2020-11-03 13:44:20,339 validation dataset shape: (5992, 17615)\n",
      "2020-11-03 13:44:31,569 epoch: 1, train loss: 30.267385482788086, val loss: 9.726682662963867\n",
      "2020-11-03 13:44:41,797 epoch: 2, train loss: 29.476022720336914, val loss: 8.399194717407227\n",
      "2020-11-03 13:44:52,249 epoch: 3, train loss: 29.22235870361328, val loss: 8.324861526489258\n",
      "2020-11-03 13:45:02,636 epoch: 4, train loss: 29.091829299926758, val loss: 8.260772705078125\n",
      "2020-11-03 13:45:13,032 epoch: 5, train loss: 28.834489822387695, val loss: 8.208820343017578\n",
      "2020-11-03 13:45:23,380 epoch: 6, train loss: 28.64687156677246, val loss: 8.131422996520996\n",
      "2020-11-03 13:45:33,763 epoch: 7, train loss: 28.534549713134766, val loss: 8.018630981445312\n",
      "2020-11-03 13:45:44,123 epoch: 8, train loss: 28.390350341796875, val loss: 7.905938148498535\n",
      "2020-11-03 13:45:54,461 epoch: 9, train loss: 28.277774810791016, val loss: 7.842557907104492\n",
      "2020-11-03 13:46:04,740 epoch: 10, train loss: 28.19841194152832, val loss: 7.79878044128418\n",
      "2020-11-03 13:46:15,003 epoch: 11, train loss: 28.128082275390625, val loss: 7.7725372314453125\n",
      "2020-11-03 13:46:25,357 epoch: 12, train loss: 27.99643325805664, val loss: 7.733937740325928\n",
      "2020-11-03 13:46:36,140 epoch: 13, train loss: 27.875200271606445, val loss: 7.710501194000244\n",
      "2020-11-03 13:46:46,436 epoch: 14, train loss: 27.7806396484375, val loss: 7.684189796447754\n",
      "2020-11-03 13:46:56,746 epoch: 15, train loss: 27.745506286621094, val loss: 7.689691543579102\n",
      "2020-11-03 13:47:07,042 epoch: 16, train loss: 27.572553634643555, val loss: 7.644564628601074\n",
      "2020-11-03 13:47:17,266 epoch: 17, train loss: 27.51340675354004, val loss: 7.645066738128662\n",
      "2020-11-03 13:47:27,551 epoch: 18, train loss: 27.36252784729004, val loss: 7.625341415405273\n",
      "2020-11-03 13:47:37,922 epoch: 19, train loss: 27.243301391601562, val loss: 7.614506244659424\n",
      "2020-11-03 13:47:48,194 epoch: 20, train loss: 27.167057037353516, val loss: 7.617084503173828\n",
      "2020-11-03 13:47:58,123 normalizing counts for prediction\n",
      "2020-11-03 13:47:58,124 filtering for genes in training set\n",
      "2020-11-03 13:47:58,138 0 genes in training set are missing from prediction set\n",
      "2020-11-03 13:47:58,604 starting batch 1 of 1\n",
      "2020-11-03 13:47:58,903 normalizing counts for prediction\n",
      "2020-11-03 13:47:58,904 filtering for genes in training set\n",
      "2020-11-03 13:47:58,911 0 genes in training set are missing from prediction set\n"
     ]
    },
    {
     "name": "stdout",
     "output_type": "stream",
     "text": [
      "snRNAseq hnscc_train_gbm_val (2200, 26929) (5650, 19891)\n"
     ]
    },
    {
     "name": "stderr",
     "output_type": "stream",
     "text": [
      "2020-11-03 13:48:37,159 normalizing the expression counts for model training\n",
      "2020-11-03 13:48:41,043 input dataset shape: (7850, 17615)\n",
      "2020-11-03 13:48:41,044 possible cell types: ['B cell', 'CD4 T cell', 'CD8 T cell', 'Endothelial', 'Erythrocyte', 'Fibroblast', 'Malignant', 'Mast', 'Microglia', 'Monocyte', 'NK', 'Neuron', 'Oligodendrocytes', 'Plasma', 'T cells', 'Treg']\n",
      "2020-11-03 13:48:41,046 possible cell types: [('Malignant', 1200), ('Microglia', 1000), ('T cells', 1000), ('Oligodendrocytes', 1000), ('Neuron', 1000), ('Fibroblast', 610), ('Endothelial', 229), ('B cell', 211), ('CD4 T cell', 200), ('Treg', 200), ('Plasma', 200), ('CD8 T cell', 200), ('Monocyte', 200), ('Mast', 200), ('NK', 200), ('Erythrocyte', 200)]\n",
      "2020-11-03 13:48:42,935 training dataset shape: (4363, 17615)\n",
      "2020-11-03 13:48:42,936 validation dataset shape: (3487, 17615)\n"
     ]
    },
    {
     "name": "stdout",
     "output_type": "stream",
     "text": [
      "WARNING:tensorflow:5 out of the last 77 calls to <function compute_loss at 0x7f13991523b0> triggered tf.function retracing. Tracing is expensive and the excessive number of tracings is likely due to passing python objects instead of tensors. Also, tf.function has experimental_relax_shapes=True option that relaxes argument shapes that can avoid unnecessary retracing. Please refer to https://www.tensorflow.org/tutorials/customization/performance#python_or_tensor_args and https://www.tensorflow.org/api_docs/python/tf/function for more details.\n"
     ]
    },
    {
     "name": "stderr",
     "output_type": "stream",
     "text": [
      "2020-11-03 13:48:51,176 5 out of the last 77 calls to <function compute_loss at 0x7f13991523b0> triggered tf.function retracing. Tracing is expensive and the excessive number of tracings is likely due to passing python objects instead of tensors. Also, tf.function has experimental_relax_shapes=True option that relaxes argument shapes that can avoid unnecessary retracing. Please refer to https://www.tensorflow.org/tutorials/customization/performance#python_or_tensor_args and https://www.tensorflow.org/api_docs/python/tf/function for more details.\n",
      "2020-11-03 13:48:53,149 epoch: 1, train loss: 29.380186080932617, val loss: 10.799787521362305\n",
      "2020-11-03 13:49:01,876 epoch: 2, train loss: 28.012439727783203, val loss: 9.421533584594727\n",
      "2020-11-03 13:49:11,204 epoch: 3, train loss: 27.88461685180664, val loss: 9.340560913085938\n",
      "2020-11-03 13:49:20,127 epoch: 4, train loss: 27.628328323364258, val loss: 9.252691268920898\n",
      "2020-11-03 13:49:29,202 epoch: 5, train loss: 27.415414810180664, val loss: 9.189730644226074\n",
      "2020-11-03 13:49:38,274 epoch: 6, train loss: 27.203723907470703, val loss: 9.148505210876465\n",
      "2020-11-03 13:49:47,387 epoch: 7, train loss: 27.11795997619629, val loss: 9.05855941772461\n",
      "2020-11-03 13:49:56,537 epoch: 8, train loss: 26.968639373779297, val loss: 8.96585464477539\n",
      "2020-11-03 13:50:05,663 epoch: 9, train loss: 26.82373046875, val loss: 8.86208724975586\n",
      "2020-11-03 13:50:14,755 epoch: 10, train loss: 26.61931800842285, val loss: 8.799909591674805\n",
      "2020-11-03 13:50:23,775 epoch: 11, train loss: 26.577972412109375, val loss: 8.743120193481445\n",
      "2020-11-03 13:50:32,828 epoch: 12, train loss: 26.440185546875, val loss: 8.690887451171875\n",
      "2020-11-03 13:50:41,764 epoch: 13, train loss: 26.37578010559082, val loss: 8.629152297973633\n",
      "2020-11-03 13:50:50,783 epoch: 14, train loss: 26.19841957092285, val loss: 8.604886054992676\n",
      "2020-11-03 13:50:59,887 epoch: 15, train loss: 26.26256561279297, val loss: 8.579004287719727\n",
      "2020-11-03 13:51:08,918 epoch: 16, train loss: 25.968828201293945, val loss: 8.573503494262695\n",
      "2020-11-03 13:51:18,072 epoch: 17, train loss: 25.854795455932617, val loss: 8.553033828735352\n",
      "2020-11-03 13:51:27,199 epoch: 18, train loss: 25.81768226623535, val loss: 8.546616554260254\n",
      "2020-11-03 13:51:36,261 epoch: 19, train loss: 25.704362869262695, val loss: 8.55396556854248\n",
      "2020-11-03 13:51:45,262 epoch: 20, train loss: 25.591693878173828, val loss: 8.533834457397461\n",
      "2020-11-03 13:51:52,932 normalizing counts for prediction\n",
      "2020-11-03 13:51:52,933 filtering for genes in training set\n",
      "2020-11-03 13:51:52,946 0 genes in training set are missing from prediction set\n",
      "2020-11-03 13:51:53,340 starting batch 1 of 1\n",
      "2020-11-03 13:51:53,538 normalizing counts for prediction\n",
      "2020-11-03 13:51:53,539 filtering for genes in training set\n",
      "2020-11-03 13:51:53,546 0 genes in training set are missing from prediction set\n"
     ]
    },
    {
     "name": "stdout",
     "output_type": "stream",
     "text": [
      "snRNAseq melanoma_train_brca_val (2000, 23452) (9028, 19891)\n"
     ]
    },
    {
     "name": "stderr",
     "output_type": "stream",
     "text": [
      "2020-11-03 13:52:18,487 normalizing the expression counts for model training\n",
      "2020-11-03 13:52:23,599 input dataset shape: (11028, 16275)\n",
      "2020-11-03 13:52:23,601 possible cell types: ['B cell', 'CD4 T cell', 'CD8 T cell', 'Dendritic', 'Endothelial', 'Fibroblast', 'Malignant', 'Mast', 'Monocyte', 'NK', 'Plasma', 'Treg']\n",
      "2020-11-03 13:52:23,603 possible cell types: [('Malignant', 1200), ('Treg', 1200), ('B cell', 1200), ('CD8 T cell', 1200), ('Fibroblast', 1200), ('CD4 T cell', 1200), ('Monocyte', 1200), ('Endothelial', 1000), ('Dendritic', 976), ('NK', 430), ('Plasma', 200), ('Mast', 22)]\n",
      "2020-11-03 13:52:26,013 training dataset shape: (4931, 16275)\n",
      "2020-11-03 13:52:26,014 validation dataset shape: (6097, 16275)\n",
      "2020-11-03 13:52:36,210 epoch: 1, train loss: 30.0792179107666, val loss: 17.59044647216797\n",
      "2020-11-03 13:52:45,544 epoch: 2, train loss: 29.0787410736084, val loss: 13.52365779876709\n",
      "2020-11-03 13:52:55,016 epoch: 3, train loss: 28.73115348815918, val loss: 13.367280960083008\n",
      "2020-11-03 13:53:04,422 epoch: 4, train loss: 29.092103958129883, val loss: 13.168929100036621\n",
      "2020-11-03 13:53:13,748 epoch: 5, train loss: 29.29998016357422, val loss: 12.913491249084473\n",
      "2020-11-03 13:53:23,066 epoch: 6, train loss: 28.099950790405273, val loss: 12.612915992736816\n",
      "2020-11-03 13:53:32,576 epoch: 7, train loss: 28.272464752197266, val loss: 12.465583801269531\n",
      "2020-11-03 13:53:41,935 epoch: 8, train loss: 27.88862419128418, val loss: 12.367786407470703\n",
      "2020-11-03 13:53:51,192 epoch: 9, train loss: 28.085596084594727, val loss: 12.287044525146484\n",
      "2020-11-03 13:54:00,554 epoch: 10, train loss: 27.853769302368164, val loss: 12.226224899291992\n",
      "2020-11-03 13:54:09,946 epoch: 11, train loss: 27.645122528076172, val loss: 12.068279266357422\n",
      "2020-11-03 13:54:19,267 epoch: 12, train loss: 27.57637596130371, val loss: 11.962099075317383\n",
      "2020-11-03 13:54:28,580 epoch: 13, train loss: 27.869468688964844, val loss: 11.865121841430664\n",
      "2020-11-03 13:54:37,906 epoch: 14, train loss: 27.570526123046875, val loss: 11.79812240600586\n",
      "2020-11-03 13:54:47,287 epoch: 15, train loss: 27.3673038482666, val loss: 11.795772552490234\n",
      "2020-11-03 13:54:56,553 epoch: 16, train loss: 27.3909854888916, val loss: 11.70431137084961\n",
      "2020-11-03 13:55:06,097 epoch: 17, train loss: 27.4776668548584, val loss: 11.703378677368164\n",
      "2020-11-03 13:55:15,525 epoch: 18, train loss: 27.589468002319336, val loss: 11.613067626953125\n",
      "2020-11-03 13:55:24,903 epoch: 19, train loss: 27.001739501953125, val loss: 11.599392890930176\n",
      "2020-11-03 13:55:34,166 epoch: 20, train loss: 26.805479049682617, val loss: 11.547517776489258\n",
      "2020-11-03 13:55:43,274 normalizing counts for prediction\n",
      "2020-11-03 13:55:43,275 filtering for genes in training set\n",
      "2020-11-03 13:55:43,283 0 genes in training set are missing from prediction set\n",
      "2020-11-03 13:55:43,725 starting batch 1 of 1\n",
      "2020-11-03 13:55:43,988 normalizing counts for prediction\n",
      "2020-11-03 13:55:43,989 filtering for genes in training set\n",
      "2020-11-03 13:55:43,994 0 genes in training set are missing from prediction set\n"
     ]
    },
    {
     "name": "stdout",
     "output_type": "stream",
     "text": [
      "snRNAseq melanoma_train_gbm_val (2000, 23452) (5650, 19891)\n"
     ]
    },
    {
     "name": "stderr",
     "output_type": "stream",
     "text": [
      "2020-11-03 13:56:19,107 normalizing the expression counts for model training\n",
      "2020-11-03 13:56:22,626 input dataset shape: (7650, 16275)\n",
      "2020-11-03 13:56:22,627 possible cell types: ['B cell', 'CD4 T cell', 'CD8 T cell', 'Dendritic', 'Endothelial', 'Fibroblast', 'Malignant', 'Microglia', 'Monocyte', 'NK', 'Neuron', 'Oligodendrocytes', 'Plasma', 'T cells', 'Treg']\n",
      "2020-11-03 13:56:22,628 possible cell types: [('Malignant', 1200), ('Microglia', 1000), ('T cells', 1000), ('Oligodendrocytes', 1000), ('Neuron', 1000), ('Fibroblast', 810), ('B cell', 211), ('Treg', 200), ('Plasma', 200), ('CD8 T cell', 200), ('CD4 T cell', 200), ('NK', 200), ('Dendritic', 200), ('Monocyte', 200), ('Endothelial', 29)]\n",
      "2020-11-03 13:56:24,321 training dataset shape: (4248, 16275)\n",
      "2020-11-03 13:56:24,321 validation dataset shape: (3402, 16275)\n"
     ]
    },
    {
     "name": "stdout",
     "output_type": "stream",
     "text": [
      "WARNING:tensorflow:5 out of the last 12 calls to <function compute_loss at 0x7f13991523b0> triggered tf.function retracing. Tracing is expensive and the excessive number of tracings is likely due to passing python objects instead of tensors. Also, tf.function has experimental_relax_shapes=True option that relaxes argument shapes that can avoid unnecessary retracing. Please refer to https://www.tensorflow.org/tutorials/customization/performance#python_or_tensor_args and https://www.tensorflow.org/api_docs/python/tf/function for more details.\n"
     ]
    },
    {
     "name": "stderr",
     "output_type": "stream",
     "text": [
      "2020-11-03 13:56:32,836 5 out of the last 12 calls to <function compute_loss at 0x7f13991523b0> triggered tf.function retracing. Tracing is expensive and the excessive number of tracings is likely due to passing python objects instead of tensors. Also, tf.function has experimental_relax_shapes=True option that relaxes argument shapes that can avoid unnecessary retracing. Please refer to https://www.tensorflow.org/tutorials/customization/performance#python_or_tensor_args and https://www.tensorflow.org/api_docs/python/tf/function for more details.\n"
     ]
    },
    {
     "name": "stdout",
     "output_type": "stream",
     "text": [
      "WARNING:tensorflow:6 out of the last 13 calls to <function compute_loss at 0x7f13991523b0> triggered tf.function retracing. Tracing is expensive and the excessive number of tracings is likely due to passing python objects instead of tensors. Also, tf.function has experimental_relax_shapes=True option that relaxes argument shapes that can avoid unnecessary retracing. Please refer to https://www.tensorflow.org/tutorials/customization/performance#python_or_tensor_args and https://www.tensorflow.org/api_docs/python/tf/function for more details.\n"
     ]
    },
    {
     "name": "stderr",
     "output_type": "stream",
     "text": [
      "2020-11-03 13:56:32,928 6 out of the last 13 calls to <function compute_loss at 0x7f13991523b0> triggered tf.function retracing. Tracing is expensive and the excessive number of tracings is likely due to passing python objects instead of tensors. Also, tf.function has experimental_relax_shapes=True option that relaxes argument shapes that can avoid unnecessary retracing. Please refer to https://www.tensorflow.org/tutorials/customization/performance#python_or_tensor_args and https://www.tensorflow.org/api_docs/python/tf/function for more details.\n",
      "2020-11-03 13:56:34,640 epoch: 1, train loss: 28.923145294189453, val loss: 17.456485748291016\n",
      "2020-11-03 13:56:43,182 epoch: 2, train loss: 27.62527847290039, val loss: 14.580802917480469\n",
      "2020-11-03 13:56:51,637 epoch: 3, train loss: 27.489667892456055, val loss: 14.340185165405273\n",
      "2020-11-03 13:57:00,072 epoch: 4, train loss: 27.24112319946289, val loss: 14.199554443359375\n",
      "2020-11-03 13:57:08,639 epoch: 5, train loss: 26.94217300415039, val loss: 14.008279800415039\n",
      "2020-11-03 13:57:17,096 epoch: 6, train loss: 26.85737419128418, val loss: 13.830775260925293\n",
      "2020-11-03 13:57:25,581 epoch: 7, train loss: 26.628007888793945, val loss: 13.624137878417969\n",
      "2020-11-03 13:57:34,008 epoch: 8, train loss: 26.420528411865234, val loss: 13.48881721496582\n",
      "2020-11-03 13:57:42,488 epoch: 9, train loss: 26.24119758605957, val loss: 13.368143081665039\n",
      "2020-11-03 13:57:51,063 epoch: 10, train loss: 26.00232696533203, val loss: 13.220100402832031\n",
      "2020-11-03 13:57:59,659 epoch: 11, train loss: 26.01936149597168, val loss: 13.076448440551758\n",
      "2020-11-03 13:58:08,050 epoch: 12, train loss: 26.114049911499023, val loss: 12.984546661376953\n",
      "2020-11-03 13:58:16,413 epoch: 13, train loss: 25.98036766052246, val loss: 12.921631813049316\n",
      "2020-11-03 13:58:24,774 epoch: 14, train loss: 25.656435012817383, val loss: 12.878819465637207\n",
      "2020-11-03 13:58:33,130 epoch: 15, train loss: 25.492727279663086, val loss: 12.831596374511719\n",
      "2020-11-03 13:58:41,434 epoch: 16, train loss: 25.50520133972168, val loss: 12.814169883728027\n",
      "2020-11-03 13:58:49,833 epoch: 17, train loss: 25.429548263549805, val loss: 12.752035140991211\n",
      "2020-11-03 13:58:58,194 epoch: 18, train loss: 25.14406967163086, val loss: 12.702837944030762\n",
      "2020-11-03 13:59:06,510 epoch: 19, train loss: 25.007579803466797, val loss: 12.690256118774414\n",
      "2020-11-03 13:59:14,856 epoch: 20, train loss: 24.952579498291016, val loss: 12.660152435302734\n",
      "2020-11-03 13:59:21,708 normalizing counts for prediction\n",
      "2020-11-03 13:59:21,709 filtering for genes in training set\n",
      "2020-11-03 13:59:21,717 0 genes in training set are missing from prediction set\n",
      "2020-11-03 13:59:22,172 starting batch 1 of 1\n",
      "2020-11-03 13:59:22,380 normalizing counts for prediction\n",
      "2020-11-03 13:59:22,381 filtering for genes in training set\n",
      "2020-11-03 13:59:22,389 0 genes in training set are missing from prediction set\n"
     ]
    },
    {
     "name": "stdout",
     "output_type": "stream",
     "text": [
      "snRNAseq pbmc_train_brca_val (940, 32738) (9028, 19891)\n"
     ]
    },
    {
     "name": "stderr",
     "output_type": "stream",
     "text": [
      "2020-11-03 13:59:45,412 normalizing the expression counts for model training\n",
      "2020-11-03 13:59:50,690 input dataset shape: (9968, 18919)\n",
      "2020-11-03 13:59:50,691 possible cell types: ['B cell', 'CD4 T cell', 'CD8 T cell', 'Dendritic', 'Endothelial', 'Fibroblast', 'Malignant', 'Mast', 'Megakaryocyte', 'Monocyte', 'NK', 'Treg']\n",
      "2020-11-03 13:59:50,693 possible cell types: [('CD4 T cell', 1200), ('B cell', 1200), ('CD8 T cell', 1200), ('Monocyte', 1200), ('Malignant', 1000), ('Endothelial', 1000), ('Fibroblast', 1000), ('Treg', 1000), ('Dendritic', 806), ('NK', 330), ('Mast', 22), ('Megakaryocyte', 10)]\n",
      "2020-11-03 13:59:52,968 training dataset shape: (4745, 18919)\n",
      "2020-11-03 13:59:52,969 validation dataset shape: (5223, 18919)\n"
     ]
    },
    {
     "name": "stdout",
     "output_type": "stream",
     "text": [
      "WARNING:tensorflow:5 out of the last 18 calls to <function compute_loss at 0x7f13991523b0> triggered tf.function retracing. Tracing is expensive and the excessive number of tracings is likely due to passing python objects instead of tensors. Also, tf.function has experimental_relax_shapes=True option that relaxes argument shapes that can avoid unnecessary retracing. Please refer to https://www.tensorflow.org/tutorials/customization/performance#python_or_tensor_args and https://www.tensorflow.org/api_docs/python/tf/function for more details.\n"
     ]
    },
    {
     "name": "stderr",
     "output_type": "stream",
     "text": [
      "2020-11-03 14:00:02,667 5 out of the last 18 calls to <function compute_loss at 0x7f13991523b0> triggered tf.function retracing. Tracing is expensive and the excessive number of tracings is likely due to passing python objects instead of tensors. Also, tf.function has experimental_relax_shapes=True option that relaxes argument shapes that can avoid unnecessary retracing. Please refer to https://www.tensorflow.org/tutorials/customization/performance#python_or_tensor_args and https://www.tensorflow.org/api_docs/python/tf/function for more details.\n",
      "2020-11-03 14:00:03,734 epoch: 1, train loss: 34.949344635009766, val loss: 9.493606567382812\n",
      "2020-11-03 14:00:13,537 epoch: 2, train loss: 34.41702651977539, val loss: 8.968344688415527\n",
      "2020-11-03 14:00:23,402 epoch: 3, train loss: 34.13623046875, val loss: 6.908611297607422\n",
      "2020-11-03 14:00:33,202 epoch: 4, train loss: 33.52253341674805, val loss: 6.787102699279785\n",
      "2020-11-03 14:00:43,353 epoch: 5, train loss: 33.36555480957031, val loss: 6.7519025802612305\n",
      "2020-11-03 14:00:53,269 epoch: 6, train loss: 33.343055725097656, val loss: 6.733374118804932\n",
      "2020-11-03 14:01:03,261 epoch: 7, train loss: 33.29179763793945, val loss: 6.717487812042236\n",
      "2020-11-03 14:01:13,234 epoch: 8, train loss: 33.192508697509766, val loss: 6.6918745040893555\n",
      "2020-11-03 14:01:23,165 epoch: 9, train loss: 32.79929733276367, val loss: 6.648320198059082\n",
      "2020-11-03 14:01:33,049 epoch: 10, train loss: 32.86235046386719, val loss: 6.562065124511719\n",
      "2020-11-03 14:01:42,916 epoch: 11, train loss: 32.71199035644531, val loss: 6.477665424346924\n",
      "2020-11-03 14:01:52,856 epoch: 12, train loss: 32.51093292236328, val loss: 6.439393997192383\n",
      "2020-11-03 14:02:02,789 epoch: 13, train loss: 32.52574920654297, val loss: 6.428345203399658\n",
      "2020-11-03 14:02:12,722 epoch: 14, train loss: 32.58720397949219, val loss: 6.418875694274902\n",
      "2020-11-03 14:02:22,594 epoch: 15, train loss: 32.41143035888672, val loss: 6.40275239944458\n",
      "2020-11-03 14:02:32,668 epoch: 16, train loss: 32.22020721435547, val loss: 6.393916130065918\n",
      "2020-11-03 14:02:42,524 epoch: 17, train loss: 31.83917236328125, val loss: 6.372358322143555\n",
      "2020-11-03 14:02:52,390 epoch: 18, train loss: 31.708538055419922, val loss: 6.366111755371094\n",
      "2020-11-03 14:03:02,503 epoch: 19, train loss: 31.837627410888672, val loss: 6.354969024658203\n",
      "2020-11-03 14:03:12,584 epoch: 20, train loss: 31.506729125976562, val loss: 6.340640068054199\n",
      "2020-11-03 14:03:21,797 normalizing counts for prediction\n",
      "2020-11-03 14:03:21,799 filtering for genes in training set\n",
      "2020-11-03 14:03:21,808 0 genes in training set are missing from prediction set\n",
      "2020-11-03 14:03:22,296 starting batch 1 of 1\n",
      "2020-11-03 14:03:22,555 normalizing counts for prediction\n",
      "2020-11-03 14:03:22,556 filtering for genes in training set\n",
      "2020-11-03 14:03:22,562 0 genes in training set are missing from prediction set\n"
     ]
    },
    {
     "name": "stdout",
     "output_type": "stream",
     "text": [
      "snRNAseq pbmc_train_gbm_val (940, 32738) (5650, 19891)\n"
     ]
    },
    {
     "name": "stderr",
     "output_type": "stream",
     "text": [
      "2020-11-03 14:04:00,472 normalizing the expression counts for model training\n",
      "2020-11-03 14:04:04,091 input dataset shape: (6590, 18919)\n",
      "2020-11-03 14:04:04,092 possible cell types: ['B cell', 'CD4 T cell', 'CD8 T cell', 'Dendritic', 'Endothelial', 'Fibroblast', 'Malignant', 'Megakaryocyte', 'Microglia', 'Monocyte', 'NK', 'Neuron', 'Oligodendrocytes', 'T cells']\n",
      "2020-11-03 14:04:04,094 possible cell types: [('Malignant', 1000), ('Microglia', 1000), ('T cells', 1000), ('Oligodendrocytes', 1000), ('Neuron', 1000), ('Fibroblast', 610), ('B cell', 211), ('CD4 T cell', 200), ('CD8 T cell', 200), ('Monocyte', 200), ('NK', 100), ('Dendritic', 30), ('Endothelial', 29), ('Megakaryocyte', 10)]\n",
      "2020-11-03 14:04:05,611 training dataset shape: (3569, 18919)\n",
      "2020-11-03 14:04:05,612 validation dataset shape: (3021, 18919)\n"
     ]
    },
    {
     "name": "stdout",
     "output_type": "stream",
     "text": [
      "WARNING:tensorflow:5 out of the last 65 calls to <function compute_loss at 0x7f13991523b0> triggered tf.function retracing. Tracing is expensive and the excessive number of tracings is likely due to passing python objects instead of tensors. Also, tf.function has experimental_relax_shapes=True option that relaxes argument shapes that can avoid unnecessary retracing. Please refer to https://www.tensorflow.org/tutorials/customization/performance#python_or_tensor_args and https://www.tensorflow.org/api_docs/python/tf/function for more details.\n"
     ]
    },
    {
     "name": "stderr",
     "output_type": "stream",
     "text": [
      "2020-11-03 14:04:12,759 5 out of the last 65 calls to <function compute_loss at 0x7f13991523b0> triggered tf.function retracing. Tracing is expensive and the excessive number of tracings is likely due to passing python objects instead of tensors. Also, tf.function has experimental_relax_shapes=True option that relaxes argument shapes that can avoid unnecessary retracing. Please refer to https://www.tensorflow.org/tutorials/customization/performance#python_or_tensor_args and https://www.tensorflow.org/api_docs/python/tf/function for more details.\n"
     ]
    },
    {
     "name": "stdout",
     "output_type": "stream",
     "text": [
      "WARNING:tensorflow:5 out of the last 11 calls to <function compute_loss at 0x7f13991523b0> triggered tf.function retracing. Tracing is expensive and the excessive number of tracings is likely due to passing python objects instead of tensors. Also, tf.function has experimental_relax_shapes=True option that relaxes argument shapes that can avoid unnecessary retracing. Please refer to https://www.tensorflow.org/tutorials/customization/performance#python_or_tensor_args and https://www.tensorflow.org/api_docs/python/tf/function for more details.\n"
     ]
    },
    {
     "name": "stderr",
     "output_type": "stream",
     "text": [
      "2020-11-03 14:04:12,847 5 out of the last 11 calls to <function compute_loss at 0x7f13991523b0> triggered tf.function retracing. Tracing is expensive and the excessive number of tracings is likely due to passing python objects instead of tensors. Also, tf.function has experimental_relax_shapes=True option that relaxes argument shapes that can avoid unnecessary retracing. Please refer to https://www.tensorflow.org/tutorials/customization/performance#python_or_tensor_args and https://www.tensorflow.org/api_docs/python/tf/function for more details.\n"
     ]
    },
    {
     "name": "stdout",
     "output_type": "stream",
     "text": [
      "WARNING:tensorflow:6 out of the last 12 calls to <function compute_loss at 0x7f13991523b0> triggered tf.function retracing. Tracing is expensive and the excessive number of tracings is likely due to passing python objects instead of tensors. Also, tf.function has experimental_relax_shapes=True option that relaxes argument shapes that can avoid unnecessary retracing. Please refer to https://www.tensorflow.org/tutorials/customization/performance#python_or_tensor_args and https://www.tensorflow.org/api_docs/python/tf/function for more details.\n"
     ]
    },
    {
     "name": "stderr",
     "output_type": "stream",
     "text": [
      "2020-11-03 14:04:12,937 6 out of the last 12 calls to <function compute_loss at 0x7f13991523b0> triggered tf.function retracing. Tracing is expensive and the excessive number of tracings is likely due to passing python objects instead of tensors. Also, tf.function has experimental_relax_shapes=True option that relaxes argument shapes that can avoid unnecessary retracing. Please refer to https://www.tensorflow.org/tutorials/customization/performance#python_or_tensor_args and https://www.tensorflow.org/api_docs/python/tf/function for more details.\n"
     ]
    },
    {
     "name": "stdout",
     "output_type": "stream",
     "text": [
      "WARNING:tensorflow:6 out of the last 15 calls to <function compute_loss at 0x7f13991523b0> triggered tf.function retracing. Tracing is expensive and the excessive number of tracings is likely due to passing python objects instead of tensors. Also, tf.function has experimental_relax_shapes=True option that relaxes argument shapes that can avoid unnecessary retracing. Please refer to https://www.tensorflow.org/tutorials/customization/performance#python_or_tensor_args and https://www.tensorflow.org/api_docs/python/tf/function for more details.\n"
     ]
    },
    {
     "name": "stderr",
     "output_type": "stream",
     "text": [
      "2020-11-03 14:04:13,158 6 out of the last 15 calls to <function compute_loss at 0x7f13991523b0> triggered tf.function retracing. Tracing is expensive and the excessive number of tracings is likely due to passing python objects instead of tensors. Also, tf.function has experimental_relax_shapes=True option that relaxes argument shapes that can avoid unnecessary retracing. Please refer to https://www.tensorflow.org/tutorials/customization/performance#python_or_tensor_args and https://www.tensorflow.org/api_docs/python/tf/function for more details.\n"
     ]
    },
    {
     "name": "stdout",
     "output_type": "stream",
     "text": [
      "WARNING:tensorflow:6 out of the last 11 calls to <function compute_loss at 0x7f13991523b0> triggered tf.function retracing. Tracing is expensive and the excessive number of tracings is likely due to passing python objects instead of tensors. Also, tf.function has experimental_relax_shapes=True option that relaxes argument shapes that can avoid unnecessary retracing. Please refer to https://www.tensorflow.org/tutorials/customization/performance#python_or_tensor_args and https://www.tensorflow.org/api_docs/python/tf/function for more details.\n"
     ]
    },
    {
     "name": "stderr",
     "output_type": "stream",
     "text": [
      "2020-11-03 14:04:13,244 6 out of the last 11 calls to <function compute_loss at 0x7f13991523b0> triggered tf.function retracing. Tracing is expensive and the excessive number of tracings is likely due to passing python objects instead of tensors. Also, tf.function has experimental_relax_shapes=True option that relaxes argument shapes that can avoid unnecessary retracing. Please refer to https://www.tensorflow.org/tutorials/customization/performance#python_or_tensor_args and https://www.tensorflow.org/api_docs/python/tf/function for more details.\n"
     ]
    },
    {
     "name": "stdout",
     "output_type": "stream",
     "text": [
      "WARNING:tensorflow:5 out of the last 14 calls to <function compute_loss at 0x7f13991523b0> triggered tf.function retracing. Tracing is expensive and the excessive number of tracings is likely due to passing python objects instead of tensors. Also, tf.function has experimental_relax_shapes=True option that relaxes argument shapes that can avoid unnecessary retracing. Please refer to https://www.tensorflow.org/tutorials/customization/performance#python_or_tensor_args and https://www.tensorflow.org/api_docs/python/tf/function for more details.\n"
     ]
    },
    {
     "name": "stderr",
     "output_type": "stream",
     "text": [
      "2020-11-03 14:04:13,536 5 out of the last 14 calls to <function compute_loss at 0x7f13991523b0> triggered tf.function retracing. Tracing is expensive and the excessive number of tracings is likely due to passing python objects instead of tensors. Also, tf.function has experimental_relax_shapes=True option that relaxes argument shapes that can avoid unnecessary retracing. Please refer to https://www.tensorflow.org/tutorials/customization/performance#python_or_tensor_args and https://www.tensorflow.org/api_docs/python/tf/function for more details.\n",
      "2020-11-03 14:04:14,600 epoch: 1, train loss: 33.22473907470703, val loss: 10.309225082397461\n",
      "2020-11-03 14:04:22,217 epoch: 2, train loss: 32.998104095458984, val loss: 9.775554656982422\n",
      "2020-11-03 14:04:29,840 epoch: 3, train loss: 32.31700134277344, val loss: 7.4095964431762695\n",
      "2020-11-03 14:04:37,468 epoch: 4, train loss: 31.997758865356445, val loss: 7.134622097015381\n",
      "2020-11-03 14:04:45,103 epoch: 5, train loss: 31.86823081970215, val loss: 7.097175598144531\n",
      "2020-11-03 14:04:52,683 epoch: 6, train loss: 31.705034255981445, val loss: 7.072233200073242\n",
      "2020-11-03 14:05:00,339 epoch: 7, train loss: 31.52406120300293, val loss: 7.045973777770996\n",
      "2020-11-03 14:05:07,982 epoch: 8, train loss: 31.39669418334961, val loss: 6.987126350402832\n",
      "2020-11-03 14:05:15,620 epoch: 9, train loss: 31.299484252929688, val loss: 6.898090362548828\n",
      "2020-11-03 14:05:23,243 epoch: 10, train loss: 30.929203033447266, val loss: 6.815736293792725\n",
      "2020-11-03 14:05:30,973 epoch: 11, train loss: 30.966365814208984, val loss: 6.791886329650879\n",
      "2020-11-03 14:05:38,615 epoch: 12, train loss: 30.966096878051758, val loss: 6.782054901123047\n",
      "2020-11-03 14:05:46,231 epoch: 13, train loss: 30.9510498046875, val loss: 6.786416053771973\n",
      "2020-11-03 14:05:53,912 epoch: 14, train loss: 30.719892501831055, val loss: 6.766719341278076\n",
      "2020-11-03 14:06:01,526 epoch: 15, train loss: 30.524328231811523, val loss: 6.7589850425720215\n",
      "2020-11-03 14:06:09,266 epoch: 16, train loss: 30.385766983032227, val loss: 6.7303595542907715\n",
      "2020-11-03 14:06:17,052 epoch: 17, train loss: 30.22690773010254, val loss: 6.732178688049316\n",
      "2020-11-03 14:06:24,752 epoch: 18, train loss: 30.14728355407715, val loss: 6.710516452789307\n",
      "2020-11-03 14:06:32,400 epoch: 19, train loss: 29.97816276550293, val loss: 6.699650764465332\n",
      "2020-11-03 14:06:40,068 epoch: 20, train loss: 29.77530288696289, val loss: 6.693093776702881\n",
      "2020-11-03 14:06:46,636 normalizing counts for prediction\n",
      "2020-11-03 14:06:46,637 filtering for genes in training set\n",
      "2020-11-03 14:06:46,644 0 genes in training set are missing from prediction set\n",
      "2020-11-03 14:06:47,132 starting batch 1 of 1\n",
      "2020-11-03 14:06:47,321 normalizing counts for prediction\n",
      "2020-11-03 14:06:47,322 filtering for genes in training set\n",
      "2020-11-03 14:06:47,330 0 genes in training set are missing from prediction set\n"
     ]
    },
    {
     "name": "stdout",
     "output_type": "stream",
     "text": [
      "snRNAseq pdac_train_brca_val (3296, 28756) (9028, 19891)\n"
     ]
    },
    {
     "name": "stderr",
     "output_type": "stream",
     "text": [
      "2020-11-03 14:07:12,271 normalizing the expression counts for model training\n",
      "2020-11-03 14:07:18,558 input dataset shape: (12324, 17904)\n",
      "2020-11-03 14:07:18,560 possible cell types: ['Acinar', 'B cell', 'CD4 T cell', 'CD8 T cell', 'Dendritic', 'Endothelial', 'Epithelial', 'Erythrocyte', 'Fibroblast', 'Islet', 'Malignant', 'Mast', 'Monocyte', 'NK', 'Plasma', 'Treg', 'Tuft']\n",
      "2020-11-03 14:07:18,562 possible cell types: [('Treg', 1200), ('Monocyte', 1200), ('CD8 T cell', 1200), ('Malignant', 1200), ('Fibroblast', 1200), ('Endothelial', 1200), ('B cell', 1200), ('CD4 T cell', 1200), ('Dendritic', 976), ('NK', 430), ('Mast', 222), ('Epithelial', 200), ('Plasma', 200), ('Erythrocyte', 200), ('Islet', 200), ('Acinar', 200), ('Tuft', 96)]\n",
      "2020-11-03 14:07:21,821 training dataset shape: (5768, 17904)\n",
      "2020-11-03 14:07:21,822 validation dataset shape: (6556, 17904)\n",
      "2020-11-03 14:07:33,822 epoch: 1, train loss: 27.683120727539062, val loss: 15.53511905670166\n",
      "2020-11-03 14:07:44,501 epoch: 2, train loss: 27.518356323242188, val loss: 15.262124061584473\n",
      "2020-11-03 14:07:55,438 epoch: 3, train loss: 27.186973571777344, val loss: 15.037402153015137\n",
      "2020-11-03 14:08:06,152 epoch: 4, train loss: 26.857585906982422, val loss: 14.754524230957031\n",
      "2020-11-03 14:08:16,760 epoch: 5, train loss: 26.847610473632812, val loss: 14.427715301513672\n",
      "2020-11-03 14:08:27,488 epoch: 6, train loss: 26.569664001464844, val loss: 14.155351638793945\n",
      "2020-11-03 14:08:38,124 epoch: 7, train loss: 26.369070053100586, val loss: 14.009124755859375\n",
      "2020-11-03 14:08:49,256 epoch: 8, train loss: 26.192508697509766, val loss: 13.89025592803955\n",
      "2020-11-03 14:08:59,659 epoch: 9, train loss: 26.035276412963867, val loss: 13.721281051635742\n",
      "2020-11-03 14:09:10,184 epoch: 10, train loss: 26.228078842163086, val loss: 13.781240463256836\n",
      "2020-11-03 14:09:21,002 epoch: 11, train loss: 25.879920959472656, val loss: 13.514861106872559\n",
      "2020-11-03 14:09:31,797 epoch: 12, train loss: 25.976226806640625, val loss: 13.475290298461914\n",
      "2020-11-03 14:09:42,395 epoch: 13, train loss: 25.804346084594727, val loss: 13.39407730102539\n",
      "2020-11-03 14:09:53,081 epoch: 14, train loss: 25.617143630981445, val loss: 13.361808776855469\n",
      "2020-11-03 14:10:03,891 epoch: 15, train loss: 25.565378189086914, val loss: 13.342872619628906\n",
      "2020-11-03 14:10:14,796 epoch: 16, train loss: 25.450605392456055, val loss: 13.33974838256836\n",
      "2020-11-03 14:10:25,515 epoch: 17, train loss: 25.488609313964844, val loss: 13.300541877746582\n",
      "2020-11-03 14:10:36,211 epoch: 18, train loss: 25.277074813842773, val loss: 13.237120628356934\n",
      "2020-11-03 14:10:46,891 epoch: 19, train loss: 25.219648361206055, val loss: 13.218382835388184\n",
      "2020-11-03 14:10:57,484 epoch: 20, train loss: 24.963096618652344, val loss: 13.173788070678711\n",
      "2020-11-03 14:11:08,535 normalizing counts for prediction\n",
      "2020-11-03 14:11:08,536 filtering for genes in training set\n",
      "2020-11-03 14:11:08,545 0 genes in training set are missing from prediction set\n",
      "2020-11-03 14:11:09,018 starting batch 1 of 1\n",
      "2020-11-03 14:11:09,847 normalizing counts for prediction\n",
      "2020-11-03 14:11:09,848 filtering for genes in training set\n",
      "2020-11-03 14:11:09,854 0 genes in training set are missing from prediction set\n"
     ]
    },
    {
     "name": "stdout",
     "output_type": "stream",
     "text": [
      "snRNAseq pdac_train_gbm_val (3296, 28756) (5650, 19891)\n"
     ]
    },
    {
     "name": "stderr",
     "output_type": "stream",
     "text": [
      "2020-11-03 14:11:47,271 normalizing the expression counts for model training\n",
      "2020-11-03 14:11:51,752 input dataset shape: (8946, 17904)\n",
      "2020-11-03 14:11:51,754 possible cell types: ['Acinar', 'B cell', 'CD4 T cell', 'CD8 T cell', 'Dendritic', 'Endothelial', 'Epithelial', 'Erythrocyte', 'Fibroblast', 'Islet', 'Malignant', 'Mast', 'Microglia', 'Monocyte', 'NK', 'Neuron', 'Oligodendrocytes', 'Plasma', 'T cells', 'Treg', 'Tuft']\n",
      "2020-11-03 14:11:51,756 possible cell types: [('Malignant', 1200), ('Microglia', 1000), ('T cells', 1000), ('Oligodendrocytes', 1000), ('Neuron', 1000), ('Fibroblast', 810), ('Endothelial', 229), ('B cell', 211), ('Treg', 200), ('Dendritic', 200), ('Monocyte', 200), ('NK', 200), ('Epithelial', 200), ('CD8 T cell', 200), ('Plasma', 200), ('Erythrocyte', 200), ('Islet', 200), ('Acinar', 200), ('Mast', 200), ('CD4 T cell', 200), ('Tuft', 96)]\n",
      "2020-11-03 14:11:54,196 training dataset shape: (5251, 17904)\n",
      "2020-11-03 14:11:54,197 validation dataset shape: (3695, 17904)\n"
     ]
    },
    {
     "name": "stdout",
     "output_type": "stream",
     "text": [
      "WARNING:tensorflow:5 out of the last 91 calls to <function compute_loss at 0x7f13991523b0> triggered tf.function retracing. Tracing is expensive and the excessive number of tracings is likely due to passing python objects instead of tensors. Also, tf.function has experimental_relax_shapes=True option that relaxes argument shapes that can avoid unnecessary retracing. Please refer to https://www.tensorflow.org/tutorials/customization/performance#python_or_tensor_args and https://www.tensorflow.org/api_docs/python/tf/function for more details.\n"
     ]
    },
    {
     "name": "stderr",
     "output_type": "stream",
     "text": [
      "2020-11-03 14:12:03,045 5 out of the last 91 calls to <function compute_loss at 0x7f13991523b0> triggered tf.function retracing. Tracing is expensive and the excessive number of tracings is likely due to passing python objects instead of tensors. Also, tf.function has experimental_relax_shapes=True option that relaxes argument shapes that can avoid unnecessary retracing. Please refer to https://www.tensorflow.org/tutorials/customization/performance#python_or_tensor_args and https://www.tensorflow.org/api_docs/python/tf/function for more details.\n"
     ]
    },
    {
     "name": "stdout",
     "output_type": "stream",
     "text": [
      "WARNING:tensorflow:5 out of the last 11 calls to <function compute_loss at 0x7f13991523b0> triggered tf.function retracing. Tracing is expensive and the excessive number of tracings is likely due to passing python objects instead of tensors. Also, tf.function has experimental_relax_shapes=True option that relaxes argument shapes that can avoid unnecessary retracing. Please refer to https://www.tensorflow.org/tutorials/customization/performance#python_or_tensor_args and https://www.tensorflow.org/api_docs/python/tf/function for more details.\n"
     ]
    },
    {
     "name": "stderr",
     "output_type": "stream",
     "text": [
      "2020-11-03 14:12:03,173 5 out of the last 11 calls to <function compute_loss at 0x7f13991523b0> triggered tf.function retracing. Tracing is expensive and the excessive number of tracings is likely due to passing python objects instead of tensors. Also, tf.function has experimental_relax_shapes=True option that relaxes argument shapes that can avoid unnecessary retracing. Please refer to https://www.tensorflow.org/tutorials/customization/performance#python_or_tensor_args and https://www.tensorflow.org/api_docs/python/tf/function for more details.\n",
      "2020-11-03 14:12:05,918 epoch: 1, train loss: 27.18524932861328, val loss: 16.36088752746582\n",
      "2020-11-03 14:12:16,037 epoch: 2, train loss: 26.76171875, val loss: 15.836007118225098\n",
      "2020-11-03 14:12:26,050 epoch: 3, train loss: 26.53240394592285, val loss: 15.52204418182373\n",
      "2020-11-03 14:12:36,046 epoch: 4, train loss: 26.17377471923828, val loss: 15.219148635864258\n",
      "2020-11-03 14:12:45,951 epoch: 5, train loss: 25.924711227416992, val loss: 14.977937698364258\n",
      "2020-11-03 14:12:55,882 epoch: 6, train loss: 26.146635055541992, val loss: 14.780509948730469\n",
      "2020-11-03 14:13:06,005 epoch: 7, train loss: 25.60210609436035, val loss: 14.579514503479004\n",
      "2020-11-03 14:13:16,283 epoch: 8, train loss: 25.43035888671875, val loss: 14.367417335510254\n",
      "2020-11-03 14:13:26,590 epoch: 9, train loss: 25.38079833984375, val loss: 14.233806610107422\n",
      "2020-11-03 14:13:36,821 epoch: 10, train loss: 25.338666915893555, val loss: 14.166767120361328\n",
      "2020-11-03 14:13:46,885 epoch: 11, train loss: 25.053449630737305, val loss: 14.042606353759766\n",
      "2020-11-03 14:13:56,828 epoch: 12, train loss: 24.871217727661133, val loss: 13.976358413696289\n",
      "2020-11-03 14:14:07,077 epoch: 13, train loss: 24.852502822875977, val loss: 13.946182250976562\n",
      "2020-11-03 14:14:17,279 epoch: 14, train loss: 24.82611846923828, val loss: 13.961469650268555\n",
      "2020-11-03 14:14:27,416 epoch: 15, train loss: 24.613510131835938, val loss: 13.882573127746582\n",
      "2020-11-03 14:14:37,609 epoch: 16, train loss: 24.446247100830078, val loss: 13.860929489135742\n",
      "2020-11-03 14:14:48,163 epoch: 17, train loss: 24.671937942504883, val loss: 13.800846099853516\n",
      "2020-11-03 14:14:58,301 epoch: 18, train loss: 24.214712142944336, val loss: 13.76601505279541\n",
      "2020-11-03 14:15:08,621 epoch: 19, train loss: 24.17585563659668, val loss: 13.783252716064453\n",
      "2020-11-03 14:15:18,804 epoch: 20, train loss: 24.061809539794922, val loss: 13.689077377319336\n",
      "2020-11-03 14:15:27,826 normalizing counts for prediction\n",
      "2020-11-03 14:15:27,827 filtering for genes in training set\n",
      "2020-11-03 14:15:27,837 0 genes in training set are missing from prediction set\n",
      "2020-11-03 14:15:28,304 starting batch 1 of 1\n",
      "2020-11-03 14:15:28,515 normalizing counts for prediction\n",
      "2020-11-03 14:15:28,516 filtering for genes in training set\n",
      "2020-11-03 14:15:28,522 0 genes in training set are missing from prediction set\n"
     ]
    },
    {
     "name": "stdout",
     "output_type": "stream",
     "text": [
      "snRNAseq brca_train_brca_val (2600, 27131) (9490, 29175)\n"
     ]
    },
    {
     "name": "stderr",
     "output_type": "stream",
     "text": [
      "2020-11-03 14:15:51,771 normalizing the expression counts for model training\n",
      "2020-11-03 14:16:00,502 input dataset shape: (12090, 25674)\n",
      "2020-11-03 14:16:00,504 possible cell types: ['Adipocyte', 'B cell', 'CD4 T cell', 'CD8 T cell', 'Dendritic', 'Endothelial', 'Erythrocyte', 'Fibroblast', 'Malignant', 'Mast', 'Monocyte', 'NK', 'Plasma', 'Treg']\n",
      "2020-11-03 14:16:00,506 possible cell types: [('CD8 T cell', 1200), ('Endothelial', 1200), ('CD4 T cell', 1200), ('Treg', 1200), ('Fibroblast', 1200), ('Malignant', 1200), ('Monocyte', 1200), ('B cell', 1200), ('Plasma', 1200), ('NK', 482), ('Mast', 318), ('Dendritic', 217), ('Erythrocyte', 200), ('Adipocyte', 73)]\n",
      "2020-11-03 14:16:04,165 training dataset shape: (5368, 25674)\n",
      "2020-11-03 14:16:04,166 validation dataset shape: (6722, 25674)\n",
      "2020-11-03 14:16:18,919 epoch: 1, train loss: 36.376487731933594, val loss: 27.205547332763672\n",
      "2020-11-03 14:16:33,159 epoch: 2, train loss: 35.737152099609375, val loss: 26.302650451660156\n",
      "2020-11-03 14:16:47,180 epoch: 3, train loss: 35.33342361450195, val loss: 25.984895706176758\n",
      "2020-11-03 14:17:01,272 epoch: 4, train loss: 34.893890380859375, val loss: 25.685131072998047\n",
      "2020-11-03 14:17:15,193 epoch: 5, train loss: 34.65366744995117, val loss: 25.495410919189453\n",
      "2020-11-03 14:17:29,432 epoch: 6, train loss: 34.442161560058594, val loss: 25.28249168395996\n",
      "2020-11-03 14:17:43,470 epoch: 7, train loss: 34.22003936767578, val loss: 25.13821792602539\n",
      "2020-11-03 14:17:57,339 epoch: 8, train loss: 34.04511642456055, val loss: 25.03338050842285\n",
      "2020-11-03 14:18:11,351 epoch: 9, train loss: 33.89732360839844, val loss: 24.971086502075195\n",
      "2020-11-03 14:18:25,691 epoch: 10, train loss: 33.756683349609375, val loss: 24.91488265991211\n",
      "2020-11-03 14:18:39,954 epoch: 11, train loss: 33.639129638671875, val loss: 24.86062240600586\n",
      "2020-11-03 14:18:54,068 epoch: 12, train loss: 33.52279281616211, val loss: 24.814620971679688\n",
      "2020-11-03 14:19:08,018 epoch: 13, train loss: 33.41539764404297, val loss: 24.765897750854492\n",
      "2020-11-03 14:19:21,970 epoch: 14, train loss: 33.316627502441406, val loss: 24.723922729492188\n",
      "2020-11-03 14:19:36,221 epoch: 15, train loss: 33.21121597290039, val loss: 24.69036102294922\n",
      "2020-11-03 14:19:50,320 epoch: 16, train loss: 33.11619186401367, val loss: 24.675268173217773\n",
      "2020-11-03 14:20:04,300 epoch: 17, train loss: 33.02462387084961, val loss: 24.651697158813477\n",
      "2020-11-03 14:20:18,323 epoch: 18, train loss: 32.92048263549805, val loss: 24.618125915527344\n",
      "2020-11-03 14:20:32,364 epoch: 19, train loss: 32.82120895385742, val loss: 24.60853385925293\n",
      "2020-11-03 14:20:46,403 epoch: 20, train loss: 32.719173431396484, val loss: 24.60093879699707\n",
      "2020-11-03 14:20:58,995 normalizing counts for prediction\n",
      "2020-11-03 14:20:58,996 filtering for genes in training set\n",
      "2020-11-03 14:20:59,005 0 genes in training set are missing from prediction set\n",
      "2020-11-03 14:20:59,481 starting batch 1 of 1\n",
      "2020-11-03 14:20:59,598 normalizing counts for prediction\n",
      "2020-11-03 14:20:59,599 filtering for genes in training set\n",
      "2020-11-03 14:20:59,606 0 genes in training set are missing from prediction set\n"
     ]
    },
    {
     "name": "stdout",
     "output_type": "stream",
     "text": [
      "snRNAseq brca_train_ccrcc_val (2600, 27131) (8605, 33538)\n"
     ]
    },
    {
     "name": "stderr",
     "output_type": "stream",
     "text": [
      "2020-11-03 14:21:26,936 normalizing the expression counts for model training\n",
      "2020-11-03 14:21:35,671 input dataset shape: (11205, 27131)\n",
      "2020-11-03 14:21:35,673 possible cell types: ['B cell', 'CD4 T cell', 'CD8 T cell', 'Dendritic', 'Endothelial', 'Epithelial', 'Erythrocyte', 'Fibroblast', 'Malignant', 'Mast', 'Monocyte', 'NK', 'Plasma', 'Treg']\n",
      "2020-11-03 14:21:35,675 possible cell types: [('NK', 1200), ('Endothelial', 1200), ('CD4 T cell', 1200), ('Fibroblast', 1200), ('Malignant', 1200), ('Monocyte', 1200), ('CD8 T cell', 1046), ('Epithelial', 1000), ('Treg', 574), ('Dendritic', 490), ('Plasma', 295), ('B cell', 200), ('Mast', 200), ('Erythrocyte', 200)]\n",
      "2020-11-03 14:21:39,094 training dataset shape: (5262, 27131)\n",
      "2020-11-03 14:21:39,095 validation dataset shape: (5943, 27131)\n",
      "2020-11-03 14:21:54,703 epoch: 1, train loss: 34.251487731933594, val loss: 34.031707763671875\n",
      "2020-11-03 14:22:09,295 epoch: 2, train loss: 33.47380447387695, val loss: 33.02424621582031\n",
      "2020-11-03 14:22:23,962 epoch: 3, train loss: 32.92619323730469, val loss: 32.73420715332031\n",
      "2020-11-03 14:22:38,414 epoch: 4, train loss: 32.726497650146484, val loss: 32.3798713684082\n",
      "2020-11-03 14:22:52,967 epoch: 5, train loss: 32.53703689575195, val loss: 32.18389892578125\n",
      "2020-11-03 14:23:08,626 epoch: 6, train loss: 32.420936584472656, val loss: 31.993228912353516\n",
      "2020-11-03 14:23:23,601 epoch: 7, train loss: 32.1287956237793, val loss: 31.830991744995117\n",
      "2020-11-03 14:23:38,625 epoch: 8, train loss: 31.94786834716797, val loss: 31.655672073364258\n",
      "2020-11-03 14:23:53,563 epoch: 9, train loss: 31.760244369506836, val loss: 31.579044342041016\n",
      "2020-11-03 14:24:08,638 epoch: 10, train loss: 31.66641616821289, val loss: 31.533775329589844\n",
      "2020-11-03 14:24:23,740 epoch: 11, train loss: 31.59638023376465, val loss: 31.47341537475586\n",
      "2020-11-03 14:24:38,816 epoch: 12, train loss: 31.46959686279297, val loss: 31.448562622070312\n",
      "2020-11-03 14:24:53,692 epoch: 13, train loss: 31.30393409729004, val loss: 31.399513244628906\n",
      "2020-11-03 14:25:08,606 epoch: 14, train loss: 31.163358688354492, val loss: 31.353923797607422\n",
      "2020-11-03 14:25:23,631 epoch: 15, train loss: 31.210054397583008, val loss: 31.316617965698242\n",
      "2020-11-03 14:25:38,574 epoch: 16, train loss: 31.058338165283203, val loss: 31.3048095703125\n",
      "2020-11-03 14:25:53,609 epoch: 17, train loss: 30.805028915405273, val loss: 31.257585525512695\n",
      "2020-11-03 14:26:08,516 epoch: 18, train loss: 30.830825805664062, val loss: 31.255367279052734\n",
      "2020-11-03 14:26:23,487 epoch: 19, train loss: 30.663286209106445, val loss: 31.222501754760742\n",
      "2020-11-03 14:26:38,705 epoch: 20, train loss: 30.610992431640625, val loss: 31.203990936279297\n",
      "2020-11-03 14:26:50,903 normalizing counts for prediction\n",
      "2020-11-03 14:26:50,904 filtering for genes in training set\n",
      "2020-11-03 14:26:50,916 0 genes in training set are missing from prediction set\n",
      "2020-11-03 14:26:51,415 starting batch 1 of 1\n",
      "2020-11-03 14:26:51,538 normalizing counts for prediction\n",
      "2020-11-03 14:26:51,539 filtering for genes in training set\n",
      "2020-11-03 14:26:51,548 0 genes in training set are missing from prediction set\n"
     ]
    },
    {
     "name": "stdout",
     "output_type": "stream",
     "text": [
      "snRNAseq brca_train_gbm_val (2600, 27131) (6810, 29748)\n"
     ]
    },
    {
     "name": "stderr",
     "output_type": "stream",
     "text": [
      "2020-11-03 14:27:17,431 normalizing the expression counts for model training\n",
      "2020-11-03 14:27:24,349 input dataset shape: (9410, 25705)\n",
      "2020-11-03 14:27:24,351 possible cell types: ['B cell', 'CD4 T cell', 'CD8 T cell', 'Dendritic', 'Endothelial', 'Erythrocyte', 'Fibroblast', 'Malignant', 'Mast', 'Microglia', 'Monocyte', 'NK', 'Neuron', 'Oligodendrocytes', 'Plasma', 'T cells', 'Treg']\n",
      "2020-11-03 14:27:24,353 possible cell types: [('Fibroblast', 1200), ('Malignant', 1200), ('Microglia', 1000), ('Neuron', 1000), ('Oligodendrocytes', 1000), ('T cells', 1000), ('Endothelial', 581), ('B cell', 578), ('Monocyte', 251), ('NK', 200), ('CD8 T cell', 200), ('CD4 T cell', 200), ('Treg', 200), ('Mast', 200), ('Plasma', 200), ('Erythrocyte', 200), ('Dendritic', 200)]\n",
      "2020-11-03 14:27:27,198 training dataset shape: (5029, 25705)\n",
      "2020-11-03 14:27:27,199 validation dataset shape: (4381, 25705)\n",
      "2020-11-03 14:27:41,911 epoch: 1, train loss: 38.98710250854492, val loss: 34.86935043334961\n",
      "2020-11-03 14:27:55,373 epoch: 2, train loss: 37.94426345825195, val loss: 33.934974670410156\n",
      "2020-11-03 14:28:09,033 epoch: 3, train loss: 37.42291259765625, val loss: 33.39816665649414\n",
      "2020-11-03 14:28:22,649 epoch: 4, train loss: 36.99668884277344, val loss: 32.88545227050781\n",
      "2020-11-03 14:28:36,304 epoch: 5, train loss: 36.805381774902344, val loss: 32.55351638793945\n",
      "2020-11-03 14:28:49,872 epoch: 6, train loss: 36.57490539550781, val loss: 32.227569580078125\n",
      "2020-11-03 14:29:03,487 epoch: 7, train loss: 36.375396728515625, val loss: 31.944812774658203\n",
      "2020-11-03 14:29:17,076 epoch: 8, train loss: 36.21246337890625, val loss: 31.750812530517578\n",
      "2020-11-03 14:29:30,602 epoch: 9, train loss: 36.034446716308594, val loss: 31.630943298339844\n",
      "2020-11-03 14:29:44,460 epoch: 10, train loss: 35.88591003417969, val loss: 31.522138595581055\n",
      "2020-11-03 14:29:58,053 epoch: 11, train loss: 35.758609771728516, val loss: 31.457618713378906\n",
      "2020-11-03 14:30:12,144 epoch: 12, train loss: 35.61812210083008, val loss: 31.388038635253906\n",
      "2020-11-03 14:30:26,393 epoch: 13, train loss: 35.5101203918457, val loss: 31.308162689208984\n",
      "2020-11-03 14:30:40,624 epoch: 14, train loss: 35.39227294921875, val loss: 31.271774291992188\n",
      "2020-11-03 14:30:54,663 epoch: 15, train loss: 35.26737594604492, val loss: 31.203540802001953\n",
      "2020-11-03 14:31:08,833 epoch: 16, train loss: 35.15858459472656, val loss: 31.147531509399414\n",
      "2020-11-03 14:31:22,796 epoch: 17, train loss: 35.061336517333984, val loss: 31.11368751525879\n",
      "2020-11-03 14:31:36,971 epoch: 18, train loss: 34.919063568115234, val loss: 31.025989532470703\n",
      "2020-11-03 14:31:50,988 epoch: 19, train loss: 34.806495666503906, val loss: 30.981273651123047\n",
      "2020-11-03 14:32:05,032 epoch: 20, train loss: 34.705718994140625, val loss: 30.93244743347168\n",
      "2020-11-03 14:32:15,497 normalizing counts for prediction\n",
      "2020-11-03 14:32:15,498 filtering for genes in training set\n",
      "2020-11-03 14:32:15,510 0 genes in training set are missing from prediction set\n",
      "2020-11-03 14:32:16,159 starting batch 1 of 1\n",
      "2020-11-03 14:32:16,327 normalizing counts for prediction\n",
      "2020-11-03 14:32:16,328 filtering for genes in training set\n",
      "2020-11-03 14:32:16,337 0 genes in training set are missing from prediction set\n"
     ]
    },
    {
     "name": "stdout",
     "output_type": "stream",
     "text": [
      "snRNAseq cesc_train_brca_val (1941, 22928) (9490, 29175)\n"
     ]
    },
    {
     "name": "stderr",
     "output_type": "stream",
     "text": [
      "2020-11-03 14:32:36,797 normalizing the expression counts for model training\n",
      "2020-11-03 14:32:43,836 input dataset shape: (11431, 22001)\n",
      "2020-11-03 14:32:43,838 possible cell types: ['Adipocyte', 'B cell', 'CD4 T cell', 'CD8 T cell', 'Dendritic', 'Endothelial', 'Epithelial', 'Erythrocyte', 'Fibroblast', 'Malignant', 'Mast', 'Monocyte', 'NK', 'Plasma', 'Treg']\n",
      "2020-11-03 14:32:43,840 possible cell types: [('Fibroblast', 1200), ('Endothelial', 1200), ('Monocyte', 1200), ('CD8 T cell', 1200), ('CD4 T cell', 1200), ('Plasma', 1200), ('Malignant', 1200), ('B cell', 1000), ('Treg', 1000), ('NK', 482), ('Mast', 207), ('Epithelial', 200), ('Adipocyte', 73), ('Erythrocyte', 52), ('Dendritic', 17)]\n",
      "2020-11-03 14:32:47,116 training dataset shape: (5201, 22001)\n",
      "2020-11-03 14:32:47,117 validation dataset shape: (6230, 22001)\n"
     ]
    },
    {
     "name": "stdout",
     "output_type": "stream",
     "text": [
      "WARNING:tensorflow:5 out of the last 13 calls to <function compute_loss at 0x7f13991523b0> triggered tf.function retracing. Tracing is expensive and the excessive number of tracings is likely due to passing python objects instead of tensors. Also, tf.function has experimental_relax_shapes=True option that relaxes argument shapes that can avoid unnecessary retracing. Please refer to https://www.tensorflow.org/tutorials/customization/performance#python_or_tensor_args and https://www.tensorflow.org/api_docs/python/tf/function for more details.\n"
     ]
    },
    {
     "name": "stderr",
     "output_type": "stream",
     "text": [
      "2020-11-03 14:32:58,606 5 out of the last 13 calls to <function compute_loss at 0x7f13991523b0> triggered tf.function retracing. Tracing is expensive and the excessive number of tracings is likely due to passing python objects instead of tensors. Also, tf.function has experimental_relax_shapes=True option that relaxes argument shapes that can avoid unnecessary retracing. Please refer to https://www.tensorflow.org/tutorials/customization/performance#python_or_tensor_args and https://www.tensorflow.org/api_docs/python/tf/function for more details.\n"
     ]
    },
    {
     "name": "stdout",
     "output_type": "stream",
     "text": [
      "WARNING:tensorflow:5 out of the last 14 calls to <function compute_loss at 0x7f13991523b0> triggered tf.function retracing. Tracing is expensive and the excessive number of tracings is likely due to passing python objects instead of tensors. Also, tf.function has experimental_relax_shapes=True option that relaxes argument shapes that can avoid unnecessary retracing. Please refer to https://www.tensorflow.org/tutorials/customization/performance#python_or_tensor_args and https://www.tensorflow.org/api_docs/python/tf/function for more details.\n"
     ]
    },
    {
     "name": "stderr",
     "output_type": "stream",
     "text": [
      "2020-11-03 14:32:58,896 5 out of the last 14 calls to <function compute_loss at 0x7f13991523b0> triggered tf.function retracing. Tracing is expensive and the excessive number of tracings is likely due to passing python objects instead of tensors. Also, tf.function has experimental_relax_shapes=True option that relaxes argument shapes that can avoid unnecessary retracing. Please refer to https://www.tensorflow.org/tutorials/customization/performance#python_or_tensor_args and https://www.tensorflow.org/api_docs/python/tf/function for more details.\n"
     ]
    },
    {
     "name": "stdout",
     "output_type": "stream",
     "text": [
      "WARNING:tensorflow:6 out of the last 15 calls to <function compute_loss at 0x7f13991523b0> triggered tf.function retracing. Tracing is expensive and the excessive number of tracings is likely due to passing python objects instead of tensors. Also, tf.function has experimental_relax_shapes=True option that relaxes argument shapes that can avoid unnecessary retracing. Please refer to https://www.tensorflow.org/tutorials/customization/performance#python_or_tensor_args and https://www.tensorflow.org/api_docs/python/tf/function for more details.\n"
     ]
    },
    {
     "name": "stderr",
     "output_type": "stream",
     "text": [
      "2020-11-03 14:32:58,987 6 out of the last 15 calls to <function compute_loss at 0x7f13991523b0> triggered tf.function retracing. Tracing is expensive and the excessive number of tracings is likely due to passing python objects instead of tensors. Also, tf.function has experimental_relax_shapes=True option that relaxes argument shapes that can avoid unnecessary retracing. Please refer to https://www.tensorflow.org/tutorials/customization/performance#python_or_tensor_args and https://www.tensorflow.org/api_docs/python/tf/function for more details.\n"
     ]
    },
    {
     "name": "stdout",
     "output_type": "stream",
     "text": [
      "WARNING:tensorflow:5 out of the last 13 calls to <function compute_loss at 0x7f13991523b0> triggered tf.function retracing. Tracing is expensive and the excessive number of tracings is likely due to passing python objects instead of tensors. Also, tf.function has experimental_relax_shapes=True option that relaxes argument shapes that can avoid unnecessary retracing. Please refer to https://www.tensorflow.org/tutorials/customization/performance#python_or_tensor_args and https://www.tensorflow.org/api_docs/python/tf/function for more details.\n"
     ]
    },
    {
     "name": "stderr",
     "output_type": "stream",
     "text": [
      "2020-11-03 14:32:59,258 5 out of the last 13 calls to <function compute_loss at 0x7f13991523b0> triggered tf.function retracing. Tracing is expensive and the excessive number of tracings is likely due to passing python objects instead of tensors. Also, tf.function has experimental_relax_shapes=True option that relaxes argument shapes that can avoid unnecessary retracing. Please refer to https://www.tensorflow.org/tutorials/customization/performance#python_or_tensor_args and https://www.tensorflow.org/api_docs/python/tf/function for more details.\n",
      "2020-11-03 14:33:00,683 epoch: 1, train loss: 34.416954040527344, val loss: 34.34684753417969\n",
      "2020-11-03 14:33:12,700 epoch: 2, train loss: 33.62413787841797, val loss: 33.501564025878906\n",
      "2020-11-03 14:33:25,245 epoch: 3, train loss: 33.180091857910156, val loss: 33.02786636352539\n",
      "2020-11-03 14:33:37,531 epoch: 4, train loss: 32.811309814453125, val loss: 32.69691467285156\n",
      "2020-11-03 14:33:49,830 epoch: 5, train loss: 32.57563018798828, val loss: 32.17047882080078\n",
      "2020-11-03 14:34:01,771 epoch: 6, train loss: 32.402259826660156, val loss: 31.782428741455078\n",
      "2020-11-03 14:34:13,947 epoch: 7, train loss: 32.2141227722168, val loss: 31.534048080444336\n",
      "2020-11-03 14:34:26,058 epoch: 8, train loss: 32.01395034790039, val loss: 31.28340721130371\n",
      "2020-11-03 14:34:38,365 epoch: 9, train loss: 31.959218978881836, val loss: 31.10880470275879\n",
      "2020-11-03 14:34:50,703 epoch: 10, train loss: 31.727190017700195, val loss: 30.96879768371582\n",
      "2020-11-03 14:35:02,864 epoch: 11, train loss: 31.658945083618164, val loss: 30.86193084716797\n",
      "2020-11-03 14:35:15,037 epoch: 12, train loss: 31.571277618408203, val loss: 30.799713134765625\n",
      "2020-11-03 14:35:27,195 epoch: 13, train loss: 31.45859718322754, val loss: 30.724712371826172\n",
      "2020-11-03 14:35:39,545 epoch: 14, train loss: 31.372835159301758, val loss: 30.659744262695312\n",
      "2020-11-03 14:35:51,670 epoch: 15, train loss: 31.289520263671875, val loss: 30.593700408935547\n",
      "2020-11-03 14:36:04,174 epoch: 16, train loss: 31.163143157958984, val loss: 30.5302677154541\n",
      "2020-11-03 14:36:16,422 epoch: 17, train loss: 31.09819793701172, val loss: 30.49710464477539\n",
      "2020-11-03 14:36:28,638 epoch: 18, train loss: 31.05442237854004, val loss: 30.477676391601562\n",
      "2020-11-03 14:36:40,998 epoch: 19, train loss: 30.935579299926758, val loss: 30.42693328857422\n",
      "2020-11-03 14:36:53,351 epoch: 20, train loss: 30.810482025146484, val loss: 30.411008834838867\n",
      "2020-11-03 14:37:04,376 normalizing counts for prediction\n",
      "2020-11-03 14:37:04,377 filtering for genes in training set\n",
      "2020-11-03 14:37:04,391 0 genes in training set are missing from prediction set\n",
      "2020-11-03 14:37:04,974 starting batch 1 of 1\n",
      "2020-11-03 14:37:05,155 normalizing counts for prediction\n",
      "2020-11-03 14:37:05,156 filtering for genes in training set\n",
      "2020-11-03 14:37:05,166 0 genes in training set are missing from prediction set\n"
     ]
    },
    {
     "name": "stdout",
     "output_type": "stream",
     "text": [
      "snRNAseq cesc_train_ccrcc_val (1941, 22928) (8605, 33538)\n"
     ]
    },
    {
     "name": "stderr",
     "output_type": "stream",
     "text": [
      "2020-11-03 14:37:33,527 normalizing the expression counts for model training\n",
      "2020-11-03 14:37:40,442 input dataset shape: (10546, 22919)\n",
      "2020-11-03 14:37:40,444 possible cell types: ['CD4 T cell', 'CD8 T cell', 'Dendritic', 'Endothelial', 'Epithelial', 'Erythrocyte', 'Fibroblast', 'Malignant', 'Mast', 'Monocyte', 'NK', 'Plasma', 'Treg']\n",
      "2020-11-03 14:37:40,446 possible cell types: [('Fibroblast', 1200), ('Endothelial', 1200), ('Monocyte', 1200), ('CD4 T cell', 1200), ('Epithelial', 1200), ('Malignant', 1200), ('NK', 1200), ('CD8 T cell', 1046), ('Treg', 374), ('Plasma', 295), ('Dendritic', 290), ('Mast', 89), ('Erythrocyte', 52)]\n",
      "2020-11-03 14:37:43,296 training dataset shape: (4763, 22919)\n",
      "2020-11-03 14:37:43,297 validation dataset shape: (5783, 22919)\n",
      "2020-11-03 14:37:55,910 epoch: 1, train loss: 31.883825302124023, val loss: 37.664405822753906\n",
      "2020-11-03 14:38:07,421 epoch: 2, train loss: 31.062040328979492, val loss: 36.926422119140625\n",
      "2020-11-03 14:38:19,003 epoch: 3, train loss: 30.58352279663086, val loss: 36.575408935546875\n",
      "2020-11-03 14:38:30,756 epoch: 4, train loss: 30.298988342285156, val loss: 36.086326599121094\n",
      "2020-11-03 14:38:42,479 epoch: 5, train loss: 30.079755783081055, val loss: 35.73985290527344\n",
      "2020-11-03 14:38:54,561 epoch: 6, train loss: 29.90178108215332, val loss: 35.42081832885742\n",
      "2020-11-03 14:39:06,487 epoch: 7, train loss: 29.760351181030273, val loss: 35.21036148071289\n",
      "2020-11-03 14:39:18,476 epoch: 8, train loss: 29.592334747314453, val loss: 35.00939178466797\n",
      "2020-11-03 14:39:30,136 epoch: 9, train loss: 29.454160690307617, val loss: 34.8162841796875\n",
      "2020-11-03 14:39:41,795 epoch: 10, train loss: 29.36287498474121, val loss: 34.66697692871094\n",
      "2020-11-03 14:39:53,714 epoch: 11, train loss: 29.23046875, val loss: 34.55430603027344\n",
      "2020-11-03 14:40:05,584 epoch: 12, train loss: 29.06291961669922, val loss: 34.45907974243164\n",
      "2020-11-03 14:40:17,454 epoch: 13, train loss: 28.961992263793945, val loss: 34.42405700683594\n",
      "2020-11-03 14:40:29,166 epoch: 14, train loss: 28.8859806060791, val loss: 34.32951354980469\n",
      "2020-11-03 14:40:41,086 epoch: 15, train loss: 28.775943756103516, val loss: 34.29121398925781\n",
      "2020-11-03 14:40:52,955 epoch: 16, train loss: 28.764564514160156, val loss: 34.22031784057617\n",
      "2020-11-03 14:41:04,722 epoch: 17, train loss: 28.5753231048584, val loss: 34.13874816894531\n",
      "2020-11-03 14:41:16,451 epoch: 18, train loss: 28.491214752197266, val loss: 34.08069610595703\n",
      "2020-11-03 14:41:28,288 epoch: 19, train loss: 28.373971939086914, val loss: 34.04989242553711\n",
      "2020-11-03 14:41:40,115 epoch: 20, train loss: 28.261972427368164, val loss: 34.002410888671875\n",
      "2020-11-03 14:41:50,466 normalizing counts for prediction\n",
      "2020-11-03 14:41:50,468 filtering for genes in training set\n",
      "2020-11-03 14:41:50,481 0 genes in training set are missing from prediction set\n",
      "2020-11-03 14:41:51,066 starting batch 1 of 1\n",
      "2020-11-03 14:41:51,241 normalizing counts for prediction\n",
      "2020-11-03 14:41:51,242 filtering for genes in training set\n",
      "2020-11-03 14:41:51,254 0 genes in training set are missing from prediction set\n"
     ]
    },
    {
     "name": "stdout",
     "output_type": "stream",
     "text": [
      "snRNAseq cesc_train_gbm_val (1941, 22928) (6810, 29748)\n"
     ]
    },
    {
     "name": "stderr",
     "output_type": "stream",
     "text": [
      "2020-11-03 14:42:17,760 normalizing the expression counts for model training\n",
      "2020-11-03 14:42:23,160 input dataset shape: (8751, 21981)\n",
      "2020-11-03 14:42:23,161 possible cell types: ['B cell', 'CD4 T cell', 'CD8 T cell', 'Endothelial', 'Epithelial', 'Erythrocyte', 'Fibroblast', 'Malignant', 'Mast', 'Microglia', 'Monocyte', 'NK', 'Neuron', 'Oligodendrocytes', 'Plasma', 'T cells']\n",
      "2020-11-03 14:42:23,163 possible cell types: [('Fibroblast', 1200), ('Malignant', 1200), ('Microglia', 1000), ('Neuron', 1000), ('Oligodendrocytes', 1000), ('T cells', 1000), ('Endothelial', 581), ('B cell', 378), ('Monocyte', 251), ('CD8 T cell', 200), ('CD4 T cell', 200), ('Epithelial', 200), ('Plasma', 200), ('NK', 200), ('Mast', 89), ('Erythrocyte', 52)]\n",
      "2020-11-03 14:42:25,485 training dataset shape: (4607, 21981)\n",
      "2020-11-03 14:42:25,486 validation dataset shape: (4144, 21981)\n"
     ]
    },
    {
     "name": "stdout",
     "output_type": "stream",
     "text": [
      "WARNING:tensorflow:5 out of the last 80 calls to <function compute_loss at 0x7f13991523b0> triggered tf.function retracing. Tracing is expensive and the excessive number of tracings is likely due to passing python objects instead of tensors. Also, tf.function has experimental_relax_shapes=True option that relaxes argument shapes that can avoid unnecessary retracing. Please refer to https://www.tensorflow.org/tutorials/customization/performance#python_or_tensor_args and https://www.tensorflow.org/api_docs/python/tf/function for more details.\n"
     ]
    },
    {
     "name": "stderr",
     "output_type": "stream",
     "text": [
      "2020-11-03 14:42:35,261 5 out of the last 80 calls to <function compute_loss at 0x7f13991523b0> triggered tf.function retracing. Tracing is expensive and the excessive number of tracings is likely due to passing python objects instead of tensors. Also, tf.function has experimental_relax_shapes=True option that relaxes argument shapes that can avoid unnecessary retracing. Please refer to https://www.tensorflow.org/tutorials/customization/performance#python_or_tensor_args and https://www.tensorflow.org/api_docs/python/tf/function for more details.\n"
     ]
    },
    {
     "name": "stdout",
     "output_type": "stream",
     "text": [
      "WARNING:tensorflow:5 out of the last 13 calls to <function compute_loss at 0x7f13991523b0> triggered tf.function retracing. Tracing is expensive and the excessive number of tracings is likely due to passing python objects instead of tensors. Also, tf.function has experimental_relax_shapes=True option that relaxes argument shapes that can avoid unnecessary retracing. Please refer to https://www.tensorflow.org/tutorials/customization/performance#python_or_tensor_args and https://www.tensorflow.org/api_docs/python/tf/function for more details.\n"
     ]
    },
    {
     "name": "stderr",
     "output_type": "stream",
     "text": [
      "2020-11-03 14:42:35,446 5 out of the last 13 calls to <function compute_loss at 0x7f13991523b0> triggered tf.function retracing. Tracing is expensive and the excessive number of tracings is likely due to passing python objects instead of tensors. Also, tf.function has experimental_relax_shapes=True option that relaxes argument shapes that can avoid unnecessary retracing. Please refer to https://www.tensorflow.org/tutorials/customization/performance#python_or_tensor_args and https://www.tensorflow.org/api_docs/python/tf/function for more details.\n"
     ]
    },
    {
     "name": "stdout",
     "output_type": "stream",
     "text": [
      "WARNING:tensorflow:5 out of the last 11 calls to <function compute_loss at 0x7f13991523b0> triggered tf.function retracing. Tracing is expensive and the excessive number of tracings is likely due to passing python objects instead of tensors. Also, tf.function has experimental_relax_shapes=True option that relaxes argument shapes that can avoid unnecessary retracing. Please refer to https://www.tensorflow.org/tutorials/customization/performance#python_or_tensor_args and https://www.tensorflow.org/api_docs/python/tf/function for more details.\n"
     ]
    },
    {
     "name": "stderr",
     "output_type": "stream",
     "text": [
      "2020-11-03 14:42:35,543 5 out of the last 11 calls to <function compute_loss at 0x7f13991523b0> triggered tf.function retracing. Tracing is expensive and the excessive number of tracings is likely due to passing python objects instead of tensors. Also, tf.function has experimental_relax_shapes=True option that relaxes argument shapes that can avoid unnecessary retracing. Please refer to https://www.tensorflow.org/tutorials/customization/performance#python_or_tensor_args and https://www.tensorflow.org/api_docs/python/tf/function for more details.\n"
     ]
    },
    {
     "name": "stdout",
     "output_type": "stream",
     "text": [
      "WARNING:tensorflow:6 out of the last 12 calls to <function compute_loss at 0x7f13991523b0> triggered tf.function retracing. Tracing is expensive and the excessive number of tracings is likely due to passing python objects instead of tensors. Also, tf.function has experimental_relax_shapes=True option that relaxes argument shapes that can avoid unnecessary retracing. Please refer to https://www.tensorflow.org/tutorials/customization/performance#python_or_tensor_args and https://www.tensorflow.org/api_docs/python/tf/function for more details.\n"
     ]
    },
    {
     "name": "stderr",
     "output_type": "stream",
     "text": [
      "2020-11-03 14:42:35,632 6 out of the last 12 calls to <function compute_loss at 0x7f13991523b0> triggered tf.function retracing. Tracing is expensive and the excessive number of tracings is likely due to passing python objects instead of tensors. Also, tf.function has experimental_relax_shapes=True option that relaxes argument shapes that can avoid unnecessary retracing. Please refer to https://www.tensorflow.org/tutorials/customization/performance#python_or_tensor_args and https://www.tensorflow.org/api_docs/python/tf/function for more details.\n"
     ]
    },
    {
     "name": "stdout",
     "output_type": "stream",
     "text": [
      "WARNING:tensorflow:5 out of the last 13 calls to <function compute_loss at 0x7f13991523b0> triggered tf.function retracing. Tracing is expensive and the excessive number of tracings is likely due to passing python objects instead of tensors. Also, tf.function has experimental_relax_shapes=True option that relaxes argument shapes that can avoid unnecessary retracing. Please refer to https://www.tensorflow.org/tutorials/customization/performance#python_or_tensor_args and https://www.tensorflow.org/api_docs/python/tf/function for more details.\n"
     ]
    },
    {
     "name": "stderr",
     "output_type": "stream",
     "text": [
      "2020-11-03 14:42:35,908 5 out of the last 13 calls to <function compute_loss at 0x7f13991523b0> triggered tf.function retracing. Tracing is expensive and the excessive number of tracings is likely due to passing python objects instead of tensors. Also, tf.function has experimental_relax_shapes=True option that relaxes argument shapes that can avoid unnecessary retracing. Please refer to https://www.tensorflow.org/tutorials/customization/performance#python_or_tensor_args and https://www.tensorflow.org/api_docs/python/tf/function for more details.\n",
      "2020-11-03 14:42:37,607 epoch: 1, train loss: 37.35302734375, val loss: 33.23747253417969\n",
      "2020-11-03 14:42:48,490 epoch: 2, train loss: 36.4340934753418, val loss: 32.823829650878906\n",
      "2020-11-03 14:42:59,584 epoch: 3, train loss: 35.81965637207031, val loss: 32.364112854003906\n",
      "2020-11-03 14:43:10,469 epoch: 4, train loss: 35.462276458740234, val loss: 32.06382369995117\n",
      "2020-11-03 14:43:21,348 epoch: 5, train loss: 35.17479705810547, val loss: 31.675392150878906\n",
      "2020-11-03 14:43:32,196 epoch: 6, train loss: 34.94877624511719, val loss: 31.29998016357422\n",
      "2020-11-03 14:43:43,274 epoch: 7, train loss: 34.74335479736328, val loss: 31.072080612182617\n",
      "2020-11-03 14:43:54,290 epoch: 8, train loss: 34.56413269042969, val loss: 30.881940841674805\n",
      "2020-11-03 14:44:05,337 epoch: 9, train loss: 34.4207763671875, val loss: 30.764400482177734\n",
      "2020-11-03 14:44:16,433 epoch: 10, train loss: 34.28227233886719, val loss: 30.653980255126953\n",
      "2020-11-03 14:44:27,476 epoch: 11, train loss: 34.153099060058594, val loss: 30.53489112854004\n",
      "2020-11-03 14:44:38,449 epoch: 12, train loss: 34.04811096191406, val loss: 30.464086532592773\n",
      "2020-11-03 14:44:49,309 epoch: 13, train loss: 33.94684600830078, val loss: 30.387474060058594\n",
      "2020-11-03 14:45:00,612 epoch: 14, train loss: 33.83762741088867, val loss: 30.324378967285156\n",
      "2020-11-03 14:45:11,981 epoch: 15, train loss: 33.73945999145508, val loss: 30.283733367919922\n",
      "2020-11-03 14:45:23,121 epoch: 16, train loss: 33.651039123535156, val loss: 30.22705078125\n",
      "2020-11-03 14:45:34,343 epoch: 17, train loss: 33.5457763671875, val loss: 30.17565155029297\n",
      "2020-11-03 14:45:45,633 epoch: 18, train loss: 33.43875503540039, val loss: 30.139341354370117\n",
      "2020-11-03 14:45:56,799 epoch: 19, train loss: 33.334983825683594, val loss: 30.109397888183594\n",
      "2020-11-03 14:46:08,084 epoch: 20, train loss: 33.219539642333984, val loss: 30.069400787353516\n",
      "2020-11-03 14:46:16,873 normalizing counts for prediction\n",
      "2020-11-03 14:46:16,874 filtering for genes in training set\n",
      "2020-11-03 14:46:16,885 0 genes in training set are missing from prediction set\n",
      "2020-11-03 14:46:17,457 starting batch 1 of 1\n",
      "2020-11-03 14:46:17,564 normalizing counts for prediction\n",
      "2020-11-03 14:46:17,565 filtering for genes in training set\n",
      "2020-11-03 14:46:17,573 0 genes in training set are missing from prediction set\n"
     ]
    },
    {
     "name": "stdout",
     "output_type": "stream",
     "text": [
      "snRNAseq hnscc_train_brca_val (2200, 26929) (9490, 29175)\n"
     ]
    },
    {
     "name": "stderr",
     "output_type": "stream",
     "text": [
      "2020-11-03 14:46:39,017 normalizing the expression counts for model training\n",
      "2020-11-03 14:46:47,388 input dataset shape: (11690, 25299)\n",
      "2020-11-03 14:46:47,389 possible cell types: ['Adipocyte', 'B cell', 'CD4 T cell', 'CD8 T cell', 'Dendritic', 'Endothelial', 'Erythrocyte', 'Fibroblast', 'Malignant', 'Mast', 'Monocyte', 'NK', 'Plasma', 'Treg']\n",
      "2020-11-03 14:46:47,391 possible cell types: [('B cell', 1200), ('CD4 T cell', 1200), ('Endothelial', 1200), ('Treg', 1200), ('Plasma', 1200), ('CD8 T cell', 1200), ('Monocyte', 1200), ('Malignant', 1200), ('Fibroblast', 1000), ('NK', 482), ('Mast', 318), ('Erythrocyte', 200), ('Adipocyte', 73), ('Dendritic', 17)]\n",
      "2020-11-03 14:46:50,857 training dataset shape: (5205, 25299)\n",
      "2020-11-03 14:46:50,858 validation dataset shape: (6485, 25299)\n"
     ]
    },
    {
     "name": "stdout",
     "output_type": "stream",
     "text": [
      "WARNING:tensorflow:5 out of the last 13 calls to <function compute_loss at 0x7f13991523b0> triggered tf.function retracing. Tracing is expensive and the excessive number of tracings is likely due to passing python objects instead of tensors. Also, tf.function has experimental_relax_shapes=True option that relaxes argument shapes that can avoid unnecessary retracing. Please refer to https://www.tensorflow.org/tutorials/customization/performance#python_or_tensor_args and https://www.tensorflow.org/api_docs/python/tf/function for more details.\n"
     ]
    },
    {
     "name": "stderr",
     "output_type": "stream",
     "text": [
      "2020-11-03 14:47:03,573 5 out of the last 13 calls to <function compute_loss at 0x7f13991523b0> triggered tf.function retracing. Tracing is expensive and the excessive number of tracings is likely due to passing python objects instead of tensors. Also, tf.function has experimental_relax_shapes=True option that relaxes argument shapes that can avoid unnecessary retracing. Please refer to https://www.tensorflow.org/tutorials/customization/performance#python_or_tensor_args and https://www.tensorflow.org/api_docs/python/tf/function for more details.\n",
      "2020-11-03 14:47:06,201 epoch: 1, train loss: 35.200496673583984, val loss: 18.56930923461914\n",
      "2020-11-03 14:47:20,304 epoch: 2, train loss: 34.46210479736328, val loss: 17.88840103149414\n",
      "2020-11-03 14:47:34,066 epoch: 3, train loss: 34.034420013427734, val loss: 17.709951400756836\n",
      "2020-11-03 14:47:48,219 epoch: 4, train loss: 33.60197067260742, val loss: 17.55510902404785\n",
      "2020-11-03 14:48:02,139 epoch: 5, train loss: 33.352210998535156, val loss: 17.454082489013672\n",
      "2020-11-03 14:48:16,070 epoch: 6, train loss: 33.191932678222656, val loss: 17.405563354492188\n",
      "2020-11-03 14:48:30,187 epoch: 7, train loss: 32.9940299987793, val loss: 17.345497131347656\n",
      "2020-11-03 14:48:44,328 epoch: 8, train loss: 32.884674072265625, val loss: 17.28731918334961\n",
      "2020-11-03 14:48:58,348 epoch: 9, train loss: 32.72556686401367, val loss: 17.246429443359375\n",
      "2020-11-03 14:49:12,385 epoch: 10, train loss: 32.60068893432617, val loss: 17.20974349975586\n",
      "2020-11-03 14:49:26,405 epoch: 11, train loss: 32.48188018798828, val loss: 17.177223205566406\n",
      "2020-11-03 14:49:40,630 epoch: 12, train loss: 32.41560363769531, val loss: 17.160905838012695\n",
      "2020-11-03 14:49:54,625 epoch: 13, train loss: 32.277976989746094, val loss: 17.127683639526367\n",
      "2020-11-03 14:50:08,368 epoch: 14, train loss: 32.15888977050781, val loss: 17.113323211669922\n",
      "2020-11-03 14:50:22,306 epoch: 15, train loss: 32.08002471923828, val loss: 17.09264373779297\n",
      "2020-11-03 14:50:36,344 epoch: 16, train loss: 31.949914932250977, val loss: 17.081554412841797\n",
      "2020-11-03 14:50:50,445 epoch: 17, train loss: 31.850862503051758, val loss: 17.070247650146484\n",
      "2020-11-03 14:51:04,300 epoch: 18, train loss: 31.75791358947754, val loss: 17.05894660949707\n",
      "2020-11-03 14:51:18,106 epoch: 19, train loss: 31.69367218017578, val loss: 17.050615310668945\n",
      "2020-11-03 14:51:31,843 epoch: 20, train loss: 31.580007553100586, val loss: 17.047616958618164\n",
      "2020-11-03 14:51:43,956 normalizing counts for prediction\n",
      "2020-11-03 14:51:43,958 filtering for genes in training set\n",
      "2020-11-03 14:51:43,971 0 genes in training set are missing from prediction set\n",
      "2020-11-03 14:51:44,618 starting batch 1 of 1\n",
      "2020-11-03 14:51:44,805 normalizing counts for prediction\n",
      "2020-11-03 14:51:44,807 filtering for genes in training set\n",
      "2020-11-03 14:51:44,815 0 genes in training set are missing from prediction set\n"
     ]
    },
    {
     "name": "stdout",
     "output_type": "stream",
     "text": [
      "snRNAseq hnscc_train_ccrcc_val (2200, 26929) (8605, 33538)\n"
     ]
    },
    {
     "name": "stderr",
     "output_type": "stream",
     "text": [
      "2020-11-03 14:52:14,442 normalizing the expression counts for model training\n",
      "2020-11-03 14:52:22,738 input dataset shape: (10805, 26918)\n",
      "2020-11-03 14:52:22,740 possible cell types: ['B cell', 'CD4 T cell', 'CD8 T cell', 'Dendritic', 'Endothelial', 'Epithelial', 'Erythrocyte', 'Fibroblast', 'Malignant', 'Mast', 'Monocyte', 'NK', 'Plasma', 'Treg']\n",
      "2020-11-03 14:52:22,742 possible cell types: [('CD4 T cell', 1200), ('Endothelial', 1200), ('Monocyte', 1200), ('Malignant', 1200), ('NK', 1200), ('CD8 T cell', 1046), ('Fibroblast', 1000), ('Epithelial', 1000), ('Treg', 574), ('Plasma', 295), ('Dendritic', 290), ('B cell', 200), ('Mast', 200), ('Erythrocyte', 200)]\n",
      "2020-11-03 14:52:26,228 training dataset shape: (5189, 26918)\n",
      "2020-11-03 14:52:26,229 validation dataset shape: (5616, 26918)\n",
      "2020-11-03 14:52:41,239 epoch: 1, train loss: 32.91059112548828, val loss: 20.24225616455078\n",
      "2020-11-03 14:52:55,082 epoch: 2, train loss: 32.08892822265625, val loss: 19.596050262451172\n",
      "2020-11-03 14:53:09,169 epoch: 3, train loss: 31.63969612121582, val loss: 19.47801971435547\n",
      "2020-11-03 14:53:23,178 epoch: 4, train loss: 31.369144439697266, val loss: 19.347614288330078\n",
      "2020-11-03 14:53:37,198 epoch: 5, train loss: 31.126970291137695, val loss: 19.177053451538086\n",
      "2020-11-03 14:53:51,090 epoch: 6, train loss: 30.708784103393555, val loss: 19.034290313720703\n",
      "2020-11-03 14:54:05,332 epoch: 7, train loss: 30.65488624572754, val loss: 18.967613220214844\n",
      "2020-11-03 14:54:19,926 epoch: 8, train loss: 30.7587947845459, val loss: 18.88775062561035\n",
      "2020-11-03 14:54:34,165 epoch: 9, train loss: 30.470930099487305, val loss: 18.84943962097168\n",
      "2020-11-03 14:54:48,349 epoch: 10, train loss: 30.338411331176758, val loss: 18.814617156982422\n",
      "2020-11-03 14:55:02,628 epoch: 11, train loss: 30.196041107177734, val loss: 18.799121856689453\n",
      "2020-11-03 14:55:16,687 epoch: 12, train loss: 30.08835220336914, val loss: 18.76984214782715\n",
      "2020-11-03 14:55:30,847 epoch: 13, train loss: 29.987783432006836, val loss: 18.753944396972656\n",
      "2020-11-03 14:55:44,968 epoch: 14, train loss: 29.87641716003418, val loss: 18.72918701171875\n",
      "2020-11-03 14:55:59,202 epoch: 15, train loss: 29.802043914794922, val loss: 18.722475051879883\n",
      "2020-11-03 14:56:13,219 epoch: 16, train loss: 29.51625633239746, val loss: 18.71261215209961\n",
      "2020-11-03 14:56:27,109 epoch: 17, train loss: 29.421226501464844, val loss: 18.690065383911133\n",
      "2020-11-03 14:56:41,270 epoch: 18, train loss: 29.408706665039062, val loss: 18.69588851928711\n",
      "2020-11-03 14:56:55,602 epoch: 19, train loss: 29.392292022705078, val loss: 18.68848419189453\n",
      "2020-11-03 14:57:09,583 epoch: 20, train loss: 29.203691482543945, val loss: 18.677396774291992\n",
      "2020-11-03 14:57:21,381 normalizing counts for prediction\n",
      "2020-11-03 14:57:21,382 filtering for genes in training set\n",
      "2020-11-03 14:57:21,393 0 genes in training set are missing from prediction set\n",
      "2020-11-03 14:57:21,889 starting batch 1 of 1\n",
      "2020-11-03 14:57:22,007 normalizing counts for prediction\n",
      "2020-11-03 14:57:22,008 filtering for genes in training set\n",
      "2020-11-03 14:57:22,018 0 genes in training set are missing from prediction set\n"
     ]
    },
    {
     "name": "stdout",
     "output_type": "stream",
     "text": [
      "snRNAseq hnscc_train_gbm_val (2200, 26929) (6810, 29748)\n"
     ]
    },
    {
     "name": "stderr",
     "output_type": "stream",
     "text": [
      "2020-11-03 14:57:50,355 normalizing the expression counts for model training\n",
      "2020-11-03 14:57:56,850 input dataset shape: (9010, 25389)\n",
      "2020-11-03 14:57:56,851 possible cell types: ['B cell', 'CD4 T cell', 'CD8 T cell', 'Endothelial', 'Erythrocyte', 'Fibroblast', 'Malignant', 'Mast', 'Microglia', 'Monocyte', 'NK', 'Neuron', 'Oligodendrocytes', 'Plasma', 'T cells', 'Treg']\n",
      "2020-11-03 14:57:56,853 possible cell types: [('Malignant', 1200), ('Microglia', 1000), ('Neuron', 1000), ('Fibroblast', 1000), ('Oligodendrocytes', 1000), ('T cells', 1000), ('Endothelial', 581), ('B cell', 578), ('Monocyte', 251), ('CD4 T cell', 200), ('Treg', 200), ('Plasma', 200), ('CD8 T cell', 200), ('Mast', 200), ('NK', 200), ('Erythrocyte', 200)]\n",
      "2020-11-03 14:57:59,485 training dataset shape: (4880, 25389)\n",
      "2020-11-03 14:57:59,486 validation dataset shape: (4130, 25389)\n",
      "2020-11-03 14:58:13,822 epoch: 1, train loss: 38.07807159423828, val loss: 21.228343963623047\n",
      "2020-11-03 14:58:27,037 epoch: 2, train loss: 36.64993667602539, val loss: 20.234588623046875\n",
      "2020-11-03 14:58:40,101 epoch: 3, train loss: 36.12483596801758, val loss: 20.066265106201172\n",
      "2020-11-03 14:58:52,975 epoch: 4, train loss: 35.811100006103516, val loss: 19.882030487060547\n",
      "2020-11-03 14:59:05,977 epoch: 5, train loss: 35.57892990112305, val loss: 19.613174438476562\n",
      "2020-11-03 14:59:19,130 epoch: 6, train loss: 35.397666931152344, val loss: 19.508352279663086\n",
      "2020-11-03 14:59:32,025 epoch: 7, train loss: 35.22134017944336, val loss: 19.40921401977539\n",
      "2020-11-03 14:59:45,069 epoch: 8, train loss: 35.06968307495117, val loss: 19.35746955871582\n",
      "2020-11-03 14:59:58,822 epoch: 9, train loss: 34.94932174682617, val loss: 19.263168334960938\n",
      "2020-11-03 15:00:12,335 epoch: 10, train loss: 34.75297927856445, val loss: 19.19302749633789\n",
      "2020-11-03 15:00:25,693 epoch: 11, train loss: 34.61935806274414, val loss: 19.134552001953125\n",
      "2020-11-03 15:00:39,054 epoch: 12, train loss: 34.53218078613281, val loss: 19.093109130859375\n",
      "2020-11-03 15:00:52,545 epoch: 13, train loss: 34.391082763671875, val loss: 19.066024780273438\n",
      "2020-11-03 15:01:05,792 epoch: 14, train loss: 34.28317642211914, val loss: 19.046794891357422\n",
      "2020-11-03 15:01:19,214 epoch: 15, train loss: 34.213035583496094, val loss: 19.035003662109375\n",
      "2020-11-03 15:01:32,494 epoch: 16, train loss: 34.09031295776367, val loss: 19.014511108398438\n",
      "2020-11-03 15:01:45,965 epoch: 17, train loss: 34.01473617553711, val loss: 19.002952575683594\n",
      "2020-11-03 15:01:59,437 epoch: 18, train loss: 33.85961151123047, val loss: 18.996654510498047\n",
      "2020-11-03 15:02:12,668 epoch: 19, train loss: 33.79286575317383, val loss: 18.98839569091797\n",
      "2020-11-03 15:02:26,160 epoch: 20, train loss: 33.703060150146484, val loss: 18.9874267578125\n",
      "2020-11-03 15:02:36,173 normalizing counts for prediction\n",
      "2020-11-03 15:02:36,174 filtering for genes in training set\n",
      "2020-11-03 15:02:36,184 0 genes in training set are missing from prediction set\n",
      "2020-11-03 15:02:36,678 starting batch 1 of 1\n",
      "2020-11-03 15:02:36,783 normalizing counts for prediction\n",
      "2020-11-03 15:02:36,784 filtering for genes in training set\n",
      "2020-11-03 15:02:36,792 0 genes in training set are missing from prediction set\n"
     ]
    },
    {
     "name": "stdout",
     "output_type": "stream",
     "text": [
      "snRNAseq melanoma_train_brca_val (2000, 23452) (9490, 29175)\n"
     ]
    },
    {
     "name": "stderr",
     "output_type": "stream",
     "text": [
      "2020-11-03 15:02:58,969 normalizing the expression counts for model training\n",
      "2020-11-03 15:03:05,762 input dataset shape: (11490, 21018)\n",
      "2020-11-03 15:03:05,764 possible cell types: ['Adipocyte', 'B cell', 'CD4 T cell', 'CD8 T cell', 'Dendritic', 'Endothelial', 'Fibroblast', 'Malignant', 'Mast', 'Monocyte', 'NK', 'Plasma', 'Treg']\n",
      "2020-11-03 15:03:05,766 possible cell types: [('Malignant', 1200), ('Treg', 1200), ('Plasma', 1200), ('B cell', 1200), ('CD8 T cell', 1200), ('Fibroblast', 1200), ('CD4 T cell', 1200), ('Monocyte', 1200), ('Endothelial', 1000), ('NK', 482), ('Dendritic', 217), ('Mast', 118), ('Adipocyte', 73)]\n",
      "2020-11-03 15:03:08,844 training dataset shape: (5083, 21018)\n",
      "2020-11-03 15:03:08,845 validation dataset shape: (6407, 21018)\n",
      "2020-11-03 15:03:21,297 epoch: 1, train loss: 35.03501510620117, val loss: 30.52936363220215\n",
      "2020-11-03 15:03:32,608 epoch: 2, train loss: 34.01557922363281, val loss: 28.506433486938477\n",
      "2020-11-03 15:03:44,002 epoch: 3, train loss: 33.5922737121582, val loss: 28.169265747070312\n",
      "2020-11-03 15:03:55,407 epoch: 4, train loss: 33.16486358642578, val loss: 27.634021759033203\n",
      "2020-11-03 15:04:06,871 epoch: 5, train loss: 32.870033264160156, val loss: 27.17536735534668\n",
      "2020-11-03 15:04:18,348 epoch: 6, train loss: 32.69709014892578, val loss: 26.995731353759766\n",
      "2020-11-03 15:04:29,723 epoch: 7, train loss: 32.50255584716797, val loss: 26.808734893798828\n",
      "2020-11-03 15:04:41,104 epoch: 8, train loss: 32.35234451293945, val loss: 26.626502990722656\n",
      "2020-11-03 15:04:52,563 epoch: 9, train loss: 32.255985260009766, val loss: 26.5308780670166\n",
      "2020-11-03 15:05:03,933 epoch: 10, train loss: 32.13490295410156, val loss: 26.441852569580078\n",
      "2020-11-03 15:05:15,096 epoch: 11, train loss: 32.040672302246094, val loss: 26.416656494140625\n",
      "2020-11-03 15:05:26,396 epoch: 12, train loss: 31.93206787109375, val loss: 26.339218139648438\n",
      "2020-11-03 15:05:37,772 epoch: 13, train loss: 31.833419799804688, val loss: 26.303483963012695\n",
      "2020-11-03 15:05:49,156 epoch: 14, train loss: 31.72381019592285, val loss: 26.266721725463867\n",
      "2020-11-03 15:06:00,472 epoch: 15, train loss: 31.627628326416016, val loss: 26.1700439453125\n",
      "2020-11-03 15:06:12,194 epoch: 16, train loss: 31.55051040649414, val loss: 26.11629867553711\n",
      "2020-11-03 15:06:23,646 epoch: 17, train loss: 31.450321197509766, val loss: 26.08425521850586\n",
      "2020-11-03 15:06:35,210 epoch: 18, train loss: 31.363231658935547, val loss: 26.00980567932129\n",
      "2020-11-03 15:06:46,702 epoch: 19, train loss: 31.268970489501953, val loss: 26.01056480407715\n",
      "2020-11-03 15:06:58,029 epoch: 20, train loss: 31.197689056396484, val loss: 25.989843368530273\n",
      "2020-11-03 15:07:08,602 normalizing counts for prediction\n",
      "2020-11-03 15:07:08,603 filtering for genes in training set\n",
      "2020-11-03 15:07:08,610 0 genes in training set are missing from prediction set\n",
      "2020-11-03 15:07:09,022 starting batch 1 of 1\n",
      "2020-11-03 15:07:09,136 normalizing counts for prediction\n",
      "2020-11-03 15:07:09,137 filtering for genes in training set\n",
      "2020-11-03 15:07:09,144 0 genes in training set are missing from prediction set\n"
     ]
    },
    {
     "name": "stdout",
     "output_type": "stream",
     "text": [
      "snRNAseq melanoma_train_ccrcc_val (2000, 23452) (8605, 33538)\n"
     ]
    },
    {
     "name": "stderr",
     "output_type": "stream",
     "text": [
      "2020-11-03 15:07:33,334 normalizing the expression counts for model training\n",
      "2020-11-03 15:07:39,956 input dataset shape: (10605, 21975)\n",
      "2020-11-03 15:07:39,957 possible cell types: ['B cell', 'CD4 T cell', 'CD8 T cell', 'Dendritic', 'Endothelial', 'Epithelial', 'Fibroblast', 'Malignant', 'Monocyte', 'NK', 'Plasma', 'Treg']\n",
      "2020-11-03 15:07:39,959 possible cell types: [('Malignant', 1200), ('Fibroblast', 1200), ('CD4 T cell', 1200), ('NK', 1200), ('Monocyte', 1200), ('CD8 T cell', 1046), ('Endothelial', 1000), ('Epithelial', 1000), ('Treg', 574), ('Dendritic', 490), ('Plasma', 295), ('B cell', 200)]\n",
      "2020-11-03 15:07:42,688 training dataset shape: (4954, 21975)\n",
      "2020-11-03 15:07:42,689 validation dataset shape: (5651, 21975)\n",
      "2020-11-03 15:07:55,200 epoch: 1, train loss: 32.882286071777344, val loss: 38.086570739746094\n",
      "2020-11-03 15:08:06,727 epoch: 2, train loss: 31.693910598754883, val loss: 36.25878143310547\n",
      "2020-11-03 15:08:18,265 epoch: 3, train loss: 31.288482666015625, val loss: 36.02025604248047\n",
      "2020-11-03 15:08:29,951 epoch: 4, train loss: 30.99821662902832, val loss: 35.309566497802734\n",
      "2020-11-03 15:08:41,544 epoch: 5, train loss: 30.840917587280273, val loss: 34.8961181640625\n",
      "2020-11-03 15:08:52,991 epoch: 6, train loss: 30.5291690826416, val loss: 34.50946044921875\n",
      "2020-11-03 15:09:04,500 epoch: 7, train loss: 30.413066864013672, val loss: 34.259803771972656\n",
      "2020-11-03 15:09:16,086 epoch: 8, train loss: 30.305225372314453, val loss: 34.06079864501953\n",
      "2020-11-03 15:09:28,443 epoch: 9, train loss: 30.163740158081055, val loss: 33.825462341308594\n",
      "2020-11-03 15:09:40,168 epoch: 10, train loss: 30.014263153076172, val loss: 33.65962219238281\n",
      "2020-11-03 15:09:51,934 epoch: 11, train loss: 29.901432037353516, val loss: 33.51627731323242\n",
      "2020-11-03 15:10:03,543 epoch: 12, train loss: 29.847753524780273, val loss: 33.48284149169922\n",
      "2020-11-03 15:10:15,324 epoch: 13, train loss: 29.72608757019043, val loss: 33.38054656982422\n",
      "2020-11-03 15:10:26,906 epoch: 14, train loss: 29.5982666015625, val loss: 33.323577880859375\n",
      "2020-11-03 15:10:38,610 epoch: 15, train loss: 29.462270736694336, val loss: 33.25893783569336\n",
      "2020-11-03 15:10:50,299 epoch: 16, train loss: 29.386016845703125, val loss: 33.22039031982422\n",
      "2020-11-03 15:11:01,971 epoch: 17, train loss: 29.300987243652344, val loss: 33.2437744140625\n",
      "2020-11-03 15:11:13,615 epoch: 18, train loss: 29.197391510009766, val loss: 33.17559051513672\n",
      "2020-11-03 15:11:25,385 epoch: 19, train loss: 29.083921432495117, val loss: 33.143577575683594\n",
      "2020-11-03 15:11:37,192 epoch: 20, train loss: 28.956928253173828, val loss: 33.14903259277344\n",
      "2020-11-03 15:11:47,475 normalizing counts for prediction\n",
      "2020-11-03 15:11:47,476 filtering for genes in training set\n",
      "2020-11-03 15:11:47,487 0 genes in training set are missing from prediction set\n",
      "2020-11-03 15:11:47,907 starting batch 1 of 1\n",
      "2020-11-03 15:11:48,074 normalizing counts for prediction\n",
      "2020-11-03 15:11:48,075 filtering for genes in training set\n",
      "2020-11-03 15:11:48,087 0 genes in training set are missing from prediction set\n"
     ]
    },
    {
     "name": "stdout",
     "output_type": "stream",
     "text": [
      "snRNAseq melanoma_train_gbm_val (2000, 23452) (6810, 29748)\n"
     ]
    },
    {
     "name": "stderr",
     "output_type": "stream",
     "text": [
      "2020-11-03 15:12:10,872 normalizing the expression counts for model training\n",
      "2020-11-03 15:12:16,086 input dataset shape: (8810, 21069)\n",
      "2020-11-03 15:12:16,088 possible cell types: ['B cell', 'CD4 T cell', 'CD8 T cell', 'Dendritic', 'Endothelial', 'Fibroblast', 'Malignant', 'Microglia', 'Monocyte', 'NK', 'Neuron', 'Oligodendrocytes', 'Plasma', 'T cells', 'Treg']\n",
      "2020-11-03 15:12:16,090 possible cell types: [('Malignant', 1200), ('Fibroblast', 1200), ('Microglia', 1000), ('Neuron', 1000), ('Oligodendrocytes', 1000), ('T cells', 1000), ('B cell', 578), ('Endothelial', 381), ('Monocyte', 251), ('Treg', 200), ('Plasma', 200), ('CD8 T cell', 200), ('CD4 T cell', 200), ('NK', 200), ('Dendritic', 200)]\n",
      "2020-11-03 15:12:18,437 training dataset shape: (4651, 21069)\n",
      "2020-11-03 15:12:18,438 validation dataset shape: (4159, 21069)\n",
      "2020-11-03 15:12:30,427 epoch: 1, train loss: 37.34528732299805, val loss: 35.06938171386719\n",
      "2020-11-03 15:12:41,166 epoch: 2, train loss: 36.01210403442383, val loss: 33.35919189453125\n",
      "2020-11-03 15:12:52,298 epoch: 3, train loss: 35.417789459228516, val loss: 32.83984375\n",
      "2020-11-03 15:13:03,217 epoch: 4, train loss: 35.045204162597656, val loss: 32.37118911743164\n",
      "2020-11-03 15:13:14,076 epoch: 5, train loss: 34.81376647949219, val loss: 32.010833740234375\n",
      "2020-11-03 15:13:24,869 epoch: 6, train loss: 34.63051986694336, val loss: 31.74225616455078\n",
      "2020-11-03 15:13:35,608 epoch: 7, train loss: 34.44090270996094, val loss: 31.460725784301758\n",
      "2020-11-03 15:13:46,572 epoch: 8, train loss: 34.292476654052734, val loss: 31.201038360595703\n",
      "2020-11-03 15:13:57,615 epoch: 9, train loss: 34.151676177978516, val loss: 30.9874267578125\n",
      "2020-11-03 15:14:08,455 epoch: 10, train loss: 34.02625274658203, val loss: 30.89126205444336\n",
      "2020-11-03 15:14:19,136 epoch: 11, train loss: 33.90498352050781, val loss: 30.79986572265625\n",
      "2020-11-03 15:14:30,021 epoch: 12, train loss: 33.7843017578125, val loss: 30.734498977661133\n",
      "2020-11-03 15:14:40,969 epoch: 13, train loss: 33.688480377197266, val loss: 30.675621032714844\n",
      "2020-11-03 15:14:51,734 epoch: 14, train loss: 33.5802116394043, val loss: 30.610559463500977\n",
      "2020-11-03 15:15:02,718 epoch: 15, train loss: 33.47622299194336, val loss: 30.5560302734375\n",
      "2020-11-03 15:15:13,464 epoch: 16, train loss: 33.363258361816406, val loss: 30.48324203491211\n",
      "2020-11-03 15:15:24,191 epoch: 17, train loss: 33.27385711669922, val loss: 30.44503402709961\n",
      "2020-11-03 15:15:34,826 epoch: 18, train loss: 33.153812408447266, val loss: 30.39374351501465\n",
      "2020-11-03 15:15:45,740 epoch: 19, train loss: 33.0535774230957, val loss: 30.322216033935547\n",
      "2020-11-03 15:15:56,734 epoch: 20, train loss: 32.93949890136719, val loss: 30.309682846069336\n",
      "2020-11-03 15:16:05,407 normalizing counts for prediction\n",
      "2020-11-03 15:16:05,408 filtering for genes in training set\n",
      "2020-11-03 15:16:05,421 0 genes in training set are missing from prediction set\n",
      "2020-11-03 15:16:05,977 starting batch 1 of 1\n",
      "2020-11-03 15:16:06,137 normalizing counts for prediction\n",
      "2020-11-03 15:16:06,138 filtering for genes in training set\n",
      "2020-11-03 15:16:06,152 0 genes in training set are missing from prediction set\n"
     ]
    },
    {
     "name": "stdout",
     "output_type": "stream",
     "text": [
      "snRNAseq pbmc_train_brca_val (940, 32738) (9490, 29175)\n"
     ]
    },
    {
     "name": "stderr",
     "output_type": "stream",
     "text": [
      "2020-11-03 15:16:24,035 normalizing the expression counts for model training\n",
      "2020-11-03 15:16:29,635 input dataset shape: (10430, 18731)\n",
      "2020-11-03 15:16:29,637 possible cell types: ['Adipocyte', 'B cell', 'CD4 T cell', 'CD8 T cell', 'Dendritic', 'Endothelial', 'Fibroblast', 'Malignant', 'Mast', 'Megakaryocyte', 'Monocyte', 'NK', 'Plasma', 'Treg']\n",
      "2020-11-03 15:16:29,639 possible cell types: [('CD4 T cell', 1200), ('B cell', 1200), ('CD8 T cell', 1200), ('Monocyte', 1200), ('Malignant', 1000), ('Fibroblast', 1000), ('Endothelial', 1000), ('Treg', 1000), ('Plasma', 1000), ('NK', 382), ('Mast', 118), ('Adipocyte', 73), ('Dendritic', 47), ('Megakaryocyte', 10)]\n",
      "2020-11-03 15:16:32,243 training dataset shape: (4940, 18731)\n",
      "2020-11-03 15:16:32,244 validation dataset shape: (5490, 18731)\n"
     ]
    },
    {
     "name": "stdout",
     "output_type": "stream",
     "text": [
      "WARNING:tensorflow:5 out of the last 13 calls to <function compute_loss at 0x7f13991523b0> triggered tf.function retracing. Tracing is expensive and the excessive number of tracings is likely due to passing python objects instead of tensors. Also, tf.function has experimental_relax_shapes=True option that relaxes argument shapes that can avoid unnecessary retracing. Please refer to https://www.tensorflow.org/tutorials/customization/performance#python_or_tensor_args and https://www.tensorflow.org/api_docs/python/tf/function for more details.\n"
     ]
    },
    {
     "name": "stderr",
     "output_type": "stream",
     "text": [
      "2020-11-03 15:16:41,901 5 out of the last 13 calls to <function compute_loss at 0x7f13991523b0> triggered tf.function retracing. Tracing is expensive and the excessive number of tracings is likely due to passing python objects instead of tensors. Also, tf.function has experimental_relax_shapes=True option that relaxes argument shapes that can avoid unnecessary retracing. Please refer to https://www.tensorflow.org/tutorials/customization/performance#python_or_tensor_args and https://www.tensorflow.org/api_docs/python/tf/function for more details.\n",
      "2020-11-03 15:16:43,712 epoch: 1, train loss: 31.333980560302734, val loss: 15.819563865661621\n",
      "2020-11-03 15:16:54,024 epoch: 2, train loss: 30.58341407775879, val loss: 13.568857192993164\n",
      "2020-11-03 15:17:04,331 epoch: 3, train loss: 30.091821670532227, val loss: 12.941605567932129\n",
      "2020-11-03 15:17:14,546 epoch: 4, train loss: 29.699546813964844, val loss: 12.843783378601074\n",
      "2020-11-03 15:17:24,807 epoch: 5, train loss: 29.55184555053711, val loss: 12.799657821655273\n",
      "2020-11-03 15:17:34,968 epoch: 6, train loss: 29.40107536315918, val loss: 12.737075805664062\n",
      "2020-11-03 15:17:45,236 epoch: 7, train loss: 29.29180145263672, val loss: 12.66816520690918\n",
      "2020-11-03 15:17:55,531 epoch: 8, train loss: 29.189546585083008, val loss: 12.600278854370117\n",
      "2020-11-03 15:18:05,805 epoch: 9, train loss: 29.018163681030273, val loss: 12.554129600524902\n",
      "2020-11-03 15:18:16,094 epoch: 10, train loss: 28.91200065612793, val loss: 12.516681671142578\n",
      "2020-11-03 15:18:26,369 epoch: 11, train loss: 28.7817440032959, val loss: 12.498196601867676\n",
      "2020-11-03 15:18:36,697 epoch: 12, train loss: 28.68341827392578, val loss: 12.478097915649414\n",
      "2020-11-03 15:18:47,003 epoch: 13, train loss: 28.658843994140625, val loss: 12.455846786499023\n",
      "2020-11-03 15:18:57,384 epoch: 14, train loss: 28.552148818969727, val loss: 12.457469940185547\n",
      "2020-11-03 15:19:07,668 epoch: 15, train loss: 28.48711395263672, val loss: 12.451729774475098\n",
      "2020-11-03 15:19:17,988 epoch: 16, train loss: 28.417558670043945, val loss: 12.450164794921875\n",
      "2020-11-03 15:19:28,352 epoch: 17, train loss: 28.3104190826416, val loss: 12.473543167114258\n",
      "2020-11-03 15:19:38,765 epoch: 18, train loss: 28.243867874145508, val loss: 12.428190231323242\n",
      "2020-11-03 15:19:49,286 epoch: 19, train loss: 28.21210479736328, val loss: 12.426215171813965\n",
      "2020-11-03 15:19:59,680 epoch: 20, train loss: 28.122013092041016, val loss: 12.433881759643555\n",
      "2020-11-03 15:20:09,101 normalizing counts for prediction\n",
      "2020-11-03 15:20:09,102 filtering for genes in training set\n",
      "2020-11-03 15:20:09,111 0 genes in training set are missing from prediction set\n",
      "2020-11-03 15:20:09,622 starting batch 1 of 1\n",
      "2020-11-03 15:20:09,798 normalizing counts for prediction\n",
      "2020-11-03 15:20:09,799 filtering for genes in training set\n",
      "2020-11-03 15:20:09,806 0 genes in training set are missing from prediction set\n"
     ]
    },
    {
     "name": "stdout",
     "output_type": "stream",
     "text": [
      "snRNAseq pbmc_train_ccrcc_val (940, 32738) (8605, 33538)\n"
     ]
    },
    {
     "name": "stderr",
     "output_type": "stream",
     "text": [
      "2020-11-03 15:20:31,989 normalizing the expression counts for model training\n",
      "2020-11-03 15:20:37,591 input dataset shape: (9545, 20453)\n",
      "2020-11-03 15:20:37,592 possible cell types: ['B cell', 'CD4 T cell', 'CD8 T cell', 'Dendritic', 'Endothelial', 'Epithelial', 'Fibroblast', 'Malignant', 'Megakaryocyte', 'Monocyte', 'NK', 'Plasma', 'Treg']\n",
      "2020-11-03 15:20:37,594 possible cell types: [('CD4 T cell', 1200), ('Monocyte', 1200), ('NK', 1100), ('CD8 T cell', 1046), ('Malignant', 1000), ('Fibroblast', 1000), ('Endothelial', 1000), ('Epithelial', 1000), ('Treg', 374), ('Dendritic', 320), ('B cell', 200), ('Plasma', 95), ('Megakaryocyte', 10)]\n",
      "2020-11-03 15:20:39,925 training dataset shape: (4699, 20453)\n",
      "2020-11-03 15:20:39,926 validation dataset shape: (4846, 20453)\n",
      "2020-11-03 15:20:51,209 epoch: 1, train loss: 29.46137046813965, val loss: 21.639455795288086\n",
      "2020-11-03 15:21:01,551 epoch: 2, train loss: 28.584413528442383, val loss: 18.73427963256836\n",
      "2020-11-03 15:21:11,737 epoch: 3, train loss: 28.040328979492188, val loss: 18.249042510986328\n",
      "2020-11-03 15:21:21,936 epoch: 4, train loss: 27.8206787109375, val loss: 18.209409713745117\n",
      "2020-11-03 15:21:32,349 epoch: 5, train loss: 27.642492294311523, val loss: 18.170547485351562\n",
      "2020-11-03 15:21:42,718 epoch: 6, train loss: 27.478384017944336, val loss: 18.12908935546875\n",
      "2020-11-03 15:21:53,044 epoch: 7, train loss: 27.306737899780273, val loss: 18.060100555419922\n",
      "2020-11-03 15:22:03,513 epoch: 8, train loss: 27.205493927001953, val loss: 17.94331932067871\n",
      "2020-11-03 15:22:13,864 epoch: 9, train loss: 27.07510757446289, val loss: 17.884855270385742\n",
      "2020-11-03 15:22:24,405 epoch: 10, train loss: 26.94874382019043, val loss: 17.847270965576172\n",
      "2020-11-03 15:22:34,752 epoch: 11, train loss: 26.8655948638916, val loss: 17.82109832763672\n",
      "2020-11-03 15:22:45,211 epoch: 12, train loss: 26.786649703979492, val loss: 17.79387092590332\n",
      "2020-11-03 15:22:55,782 epoch: 13, train loss: 26.68950653076172, val loss: 17.78919792175293\n",
      "2020-11-03 15:23:06,225 epoch: 14, train loss: 26.56546974182129, val loss: 17.782312393188477\n",
      "2020-11-03 15:23:16,843 epoch: 15, train loss: 26.497209548950195, val loss: 17.752222061157227\n",
      "2020-11-03 15:23:27,481 epoch: 16, train loss: 26.39590835571289, val loss: 17.737470626831055\n",
      "2020-11-03 15:23:37,853 epoch: 17, train loss: 26.282312393188477, val loss: 17.731060028076172\n",
      "2020-11-03 15:23:48,396 epoch: 18, train loss: 26.27659797668457, val loss: 17.716941833496094\n",
      "2020-11-03 15:23:59,107 epoch: 19, train loss: 26.15715980529785, val loss: 17.707550048828125\n",
      "2020-11-03 15:24:09,599 epoch: 20, train loss: 26.093503952026367, val loss: 17.686521530151367\n",
      "2020-11-03 15:24:18,616 normalizing counts for prediction\n",
      "2020-11-03 15:24:18,617 filtering for genes in training set\n",
      "2020-11-03 15:24:18,626 0 genes in training set are missing from prediction set\n",
      "2020-11-03 15:24:19,032 starting batch 1 of 1\n",
      "2020-11-03 15:24:19,142 normalizing counts for prediction\n",
      "2020-11-03 15:24:19,143 filtering for genes in training set\n",
      "2020-11-03 15:24:19,152 0 genes in training set are missing from prediction set\n"
     ]
    },
    {
     "name": "stdout",
     "output_type": "stream",
     "text": [
      "snRNAseq pbmc_train_gbm_val (940, 32738) (6810, 29748)\n"
     ]
    },
    {
     "name": "stderr",
     "output_type": "stream",
     "text": [
      "2020-11-03 15:24:40,516 normalizing the expression counts for model training\n",
      "2020-11-03 15:24:44,725 input dataset shape: (7750, 18949)\n",
      "2020-11-03 15:24:44,727 possible cell types: ['B cell', 'CD4 T cell', 'CD8 T cell', 'Dendritic', 'Endothelial', 'Fibroblast', 'Malignant', 'Megakaryocyte', 'Microglia', 'Monocyte', 'NK', 'Neuron', 'Oligodendrocytes', 'T cells']\n",
      "2020-11-03 15:24:44,729 possible cell types: [('Microglia', 1000), ('Malignant', 1000), ('Neuron', 1000), ('Fibroblast', 1000), ('Oligodendrocytes', 1000), ('T cells', 1000), ('B cell', 578), ('Endothelial', 381), ('Monocyte', 251), ('CD4 T cell', 200), ('CD8 T cell', 200), ('NK', 100), ('Dendritic', 30), ('Megakaryocyte', 10)]\n",
      "2020-11-03 15:24:46,543 training dataset shape: (4160, 18949)\n",
      "2020-11-03 15:24:46,544 validation dataset shape: (3590, 18949)\n"
     ]
    },
    {
     "name": "stdout",
     "output_type": "stream",
     "text": [
      "WARNING:tensorflow:5 out of the last 75 calls to <function compute_loss at 0x7f13991523b0> triggered tf.function retracing. Tracing is expensive and the excessive number of tracings is likely due to passing python objects instead of tensors. Also, tf.function has experimental_relax_shapes=True option that relaxes argument shapes that can avoid unnecessary retracing. Please refer to https://www.tensorflow.org/tutorials/customization/performance#python_or_tensor_args and https://www.tensorflow.org/api_docs/python/tf/function for more details.\n"
     ]
    },
    {
     "name": "stderr",
     "output_type": "stream",
     "text": [
      "2020-11-03 15:24:54,396 5 out of the last 75 calls to <function compute_loss at 0x7f13991523b0> triggered tf.function retracing. Tracing is expensive and the excessive number of tracings is likely due to passing python objects instead of tensors. Also, tf.function has experimental_relax_shapes=True option that relaxes argument shapes that can avoid unnecessary retracing. Please refer to https://www.tensorflow.org/tutorials/customization/performance#python_or_tensor_args and https://www.tensorflow.org/api_docs/python/tf/function for more details.\n"
     ]
    },
    {
     "name": "stdout",
     "output_type": "stream",
     "text": [
      "WARNING:tensorflow:5 out of the last 13 calls to <function compute_loss at 0x7f13991523b0> triggered tf.function retracing. Tracing is expensive and the excessive number of tracings is likely due to passing python objects instead of tensors. Also, tf.function has experimental_relax_shapes=True option that relaxes argument shapes that can avoid unnecessary retracing. Please refer to https://www.tensorflow.org/tutorials/customization/performance#python_or_tensor_args and https://www.tensorflow.org/api_docs/python/tf/function for more details.\n"
     ]
    },
    {
     "name": "stderr",
     "output_type": "stream",
     "text": [
      "2020-11-03 15:24:54,758 5 out of the last 13 calls to <function compute_loss at 0x7f13991523b0> triggered tf.function retracing. Tracing is expensive and the excessive number of tracings is likely due to passing python objects instead of tensors. Also, tf.function has experimental_relax_shapes=True option that relaxes argument shapes that can avoid unnecessary retracing. Please refer to https://www.tensorflow.org/tutorials/customization/performance#python_or_tensor_args and https://www.tensorflow.org/api_docs/python/tf/function for more details.\n",
      "2020-11-03 15:24:56,214 epoch: 1, train loss: 33.85918045043945, val loss: 18.957477569580078\n",
      "2020-11-03 15:25:04,996 epoch: 2, train loss: 32.859535217285156, val loss: 15.825884819030762\n",
      "2020-11-03 15:25:13,725 epoch: 3, train loss: 32.08671569824219, val loss: 15.593043327331543\n",
      "2020-11-03 15:25:22,615 epoch: 4, train loss: 31.76056480407715, val loss: 15.547697067260742\n",
      "2020-11-03 15:25:31,304 epoch: 5, train loss: 31.526390075683594, val loss: 15.511996269226074\n",
      "2020-11-03 15:25:39,984 epoch: 6, train loss: 31.375383377075195, val loss: 15.410240173339844\n",
      "2020-11-03 15:25:48,802 epoch: 7, train loss: 31.236433029174805, val loss: 15.297967910766602\n",
      "2020-11-03 15:25:57,690 epoch: 8, train loss: 31.121889114379883, val loss: 15.227628707885742\n",
      "2020-11-03 15:26:06,561 epoch: 9, train loss: 31.02036476135254, val loss: 15.194726943969727\n",
      "2020-11-03 15:26:15,309 epoch: 10, train loss: 30.918163299560547, val loss: 15.16293716430664\n",
      "2020-11-03 15:26:24,184 epoch: 11, train loss: 30.8157901763916, val loss: 15.148143768310547\n",
      "2020-11-03 15:26:32,968 epoch: 12, train loss: 30.719959259033203, val loss: 15.126325607299805\n",
      "2020-11-03 15:26:41,867 epoch: 13, train loss: 30.632617950439453, val loss: 15.108872413635254\n",
      "2020-11-03 15:26:50,721 epoch: 14, train loss: 30.547061920166016, val loss: 15.087539672851562\n",
      "2020-11-03 15:26:59,595 epoch: 15, train loss: 30.461328506469727, val loss: 15.097784996032715\n",
      "2020-11-03 15:27:08,393 epoch: 16, train loss: 30.377296447753906, val loss: 15.08156681060791\n",
      "2020-11-03 15:27:17,246 epoch: 17, train loss: 30.285127639770508, val loss: 15.076066970825195\n",
      "2020-11-03 15:27:26,038 epoch: 18, train loss: 30.199792861938477, val loss: 15.065835952758789\n",
      "2020-11-03 15:27:34,959 epoch: 19, train loss: 30.105350494384766, val loss: 15.065600395202637\n",
      "2020-11-03 15:27:43,824 epoch: 20, train loss: 30.023252487182617, val loss: 15.064945220947266\n",
      "2020-11-03 15:27:51,216 normalizing counts for prediction\n",
      "2020-11-03 15:27:51,217 filtering for genes in training set\n",
      "2020-11-03 15:27:51,226 0 genes in training set are missing from prediction set\n",
      "2020-11-03 15:27:51,745 starting batch 1 of 1\n",
      "2020-11-03 15:27:52,622 normalizing counts for prediction\n",
      "2020-11-03 15:27:52,623 filtering for genes in training set\n",
      "2020-11-03 15:27:52,629 0 genes in training set are missing from prediction set\n"
     ]
    },
    {
     "name": "stdout",
     "output_type": "stream",
     "text": [
      "snRNAseq pdac_train_brca_val (3296, 28756) (9490, 29175)\n"
     ]
    },
    {
     "name": "stderr",
     "output_type": "stream",
     "text": [
      "2020-11-03 15:28:10,361 normalizing the expression counts for model training\n",
      "2020-11-03 15:28:20,195 input dataset shape: (12786, 26783)\n",
      "2020-11-03 15:28:20,197 possible cell types: ['Acinar', 'Adipocyte', 'B cell', 'CD4 T cell', 'CD8 T cell', 'Dendritic', 'Endothelial', 'Epithelial', 'Erythrocyte', 'Fibroblast', 'Islet', 'Malignant', 'Mast', 'Monocyte', 'NK', 'Plasma', 'Treg', 'Tuft']\n",
      "2020-11-03 15:28:20,199 possible cell types: [('Treg', 1200), ('Monocyte', 1200), ('CD8 T cell', 1200), ('Plasma', 1200), ('Malignant', 1200), ('Fibroblast', 1200), ('Endothelial', 1200), ('B cell', 1200), ('CD4 T cell', 1200), ('NK', 482), ('Mast', 318), ('Dendritic', 217), ('Epithelial', 200), ('Erythrocyte', 200), ('Islet', 200), ('Acinar', 200), ('Tuft', 96), ('Adipocyte', 73)]\n",
      "2020-11-03 15:28:24,576 training dataset shape: (5901, 26783)\n",
      "2020-11-03 15:28:24,577 validation dataset shape: (6885, 26783)\n"
     ]
    },
    {
     "name": "stdout",
     "output_type": "stream",
     "text": [
      "WARNING:tensorflow:5 out of the last 99 calls to <function compute_loss at 0x7f13991523b0> triggered tf.function retracing. Tracing is expensive and the excessive number of tracings is likely due to passing python objects instead of tensors. Also, tf.function has experimental_relax_shapes=True option that relaxes argument shapes that can avoid unnecessary retracing. Please refer to https://www.tensorflow.org/tutorials/customization/performance#python_or_tensor_args and https://www.tensorflow.org/api_docs/python/tf/function for more details.\n"
     ]
    },
    {
     "name": "stderr",
     "output_type": "stream",
     "text": [
      "2020-11-03 15:28:39,275 5 out of the last 99 calls to <function compute_loss at 0x7f13991523b0> triggered tf.function retracing. Tracing is expensive and the excessive number of tracings is likely due to passing python objects instead of tensors. Also, tf.function has experimental_relax_shapes=True option that relaxes argument shapes that can avoid unnecessary retracing. Please refer to https://www.tensorflow.org/tutorials/customization/performance#python_or_tensor_args and https://www.tensorflow.org/api_docs/python/tf/function for more details.\n",
      "2020-11-03 15:28:42,326 epoch: 1, train loss: 35.213008880615234, val loss: 29.897964477539062\n",
      "2020-11-03 15:28:58,728 epoch: 2, train loss: 34.56834411621094, val loss: 28.977693557739258\n",
      "2020-11-03 15:29:15,097 epoch: 3, train loss: 34.03038024902344, val loss: 28.479427337646484\n",
      "2020-11-03 15:29:31,790 epoch: 4, train loss: 33.55194091796875, val loss: 27.989574432373047\n",
      "2020-11-03 15:29:48,437 epoch: 5, train loss: 33.278297424316406, val loss: 27.6585750579834\n",
      "2020-11-03 15:30:05,077 epoch: 6, train loss: 33.078006744384766, val loss: 27.35698699951172\n",
      "2020-11-03 15:30:21,756 epoch: 7, train loss: 32.91510009765625, val loss: 27.155364990234375\n",
      "2020-11-03 15:30:38,423 epoch: 8, train loss: 32.741432189941406, val loss: 27.0579776763916\n",
      "2020-11-03 15:30:55,121 epoch: 9, train loss: 32.5745964050293, val loss: 26.951751708984375\n",
      "2020-11-03 15:31:11,986 epoch: 10, train loss: 32.47493362426758, val loss: 26.905242919921875\n",
      "2020-11-03 15:31:28,681 epoch: 11, train loss: 32.370574951171875, val loss: 26.857547760009766\n",
      "2020-11-03 15:31:45,250 epoch: 12, train loss: 32.264339447021484, val loss: 26.76605987548828\n",
      "2020-11-03 15:32:01,541 epoch: 13, train loss: 32.109867095947266, val loss: 26.69634246826172\n",
      "2020-11-03 15:32:18,125 epoch: 14, train loss: 32.040733337402344, val loss: 26.657556533813477\n",
      "2020-11-03 15:32:34,373 epoch: 15, train loss: 31.9714412689209, val loss: 26.60956382751465\n",
      "2020-11-03 15:32:50,911 epoch: 16, train loss: 31.879249572753906, val loss: 26.567888259887695\n",
      "2020-11-03 15:33:07,569 epoch: 17, train loss: 31.778457641601562, val loss: 26.54061508178711\n",
      "2020-11-03 15:33:23,974 epoch: 18, train loss: 31.709327697753906, val loss: 26.512475967407227\n",
      "2020-11-03 15:33:40,523 epoch: 19, train loss: 31.605573654174805, val loss: 26.4907283782959\n",
      "2020-11-03 15:33:56,871 epoch: 20, train loss: 31.577363967895508, val loss: 26.46756362915039\n",
      "2020-11-03 15:34:10,997 normalizing counts for prediction\n",
      "2020-11-03 15:34:10,998 filtering for genes in training set\n",
      "2020-11-03 15:34:11,008 0 genes in training set are missing from prediction set\n",
      "2020-11-03 15:34:11,601 starting batch 1 of 1\n",
      "2020-11-03 15:34:11,794 normalizing counts for prediction\n",
      "2020-11-03 15:34:11,795 filtering for genes in training set\n",
      "2020-11-03 15:34:11,805 0 genes in training set are missing from prediction set\n"
     ]
    },
    {
     "name": "stdout",
     "output_type": "stream",
     "text": [
      "snRNAseq pdac_train_ccrcc_val (3296, 28756) (8605, 33538)\n"
     ]
    },
    {
     "name": "stderr",
     "output_type": "stream",
     "text": [
      "2020-11-03 15:34:39,798 normalizing the expression counts for model training\n",
      "2020-11-03 15:34:49,577 input dataset shape: (11901, 28756)\n",
      "2020-11-03 15:34:49,579 possible cell types: ['Acinar', 'B cell', 'CD4 T cell', 'CD8 T cell', 'Dendritic', 'Endothelial', 'Epithelial', 'Erythrocyte', 'Fibroblast', 'Islet', 'Malignant', 'Mast', 'Monocyte', 'NK', 'Plasma', 'Treg', 'Tuft']\n",
      "2020-11-03 15:34:49,581 possible cell types: [('Monocyte', 1200), ('NK', 1200), ('Epithelial', 1200), ('Malignant', 1200), ('Fibroblast', 1200), ('Endothelial', 1200), ('CD4 T cell', 1200), ('CD8 T cell', 1046), ('Treg', 574), ('Dendritic', 490), ('Plasma', 295), ('Erythrocyte', 200), ('Islet', 200), ('Acinar', 200), ('B cell', 200), ('Mast', 200), ('Tuft', 96)]\n",
      "2020-11-03 15:34:53,559 training dataset shape: (5641, 28756)\n",
      "2020-11-03 15:34:53,561 validation dataset shape: (6260, 28756)\n",
      "2020-11-03 15:35:09,721 epoch: 1, train loss: 32.937591552734375, val loss: 36.180118560791016\n",
      "2020-11-03 15:35:25,081 epoch: 2, train loss: 32.32174301147461, val loss: 35.74652099609375\n",
      "2020-11-03 15:35:40,169 epoch: 3, train loss: 31.635034561157227, val loss: 35.18037033081055\n",
      "2020-11-03 15:35:55,439 epoch: 4, train loss: 31.53030014038086, val loss: 34.78893280029297\n",
      "2020-11-03 15:36:10,685 epoch: 5, train loss: 31.26488494873047, val loss: 34.37200164794922\n",
      "2020-11-03 15:36:25,968 epoch: 6, train loss: 30.974050521850586, val loss: 34.04893112182617\n",
      "2020-11-03 15:36:41,435 epoch: 7, train loss: 30.778396606445312, val loss: 33.79352569580078\n",
      "2020-11-03 15:36:56,791 epoch: 8, train loss: 30.546350479125977, val loss: 33.61604309082031\n",
      "2020-11-03 15:37:12,046 epoch: 9, train loss: 30.488117218017578, val loss: 33.4892578125\n",
      "2020-11-03 15:37:27,095 epoch: 10, train loss: 30.351551055908203, val loss: 33.431854248046875\n",
      "2020-11-03 15:37:42,427 epoch: 11, train loss: 30.258712768554688, val loss: 33.35902404785156\n",
      "2020-11-03 15:37:58,074 epoch: 12, train loss: 30.090408325195312, val loss: 33.31578063964844\n",
      "2020-11-03 15:38:13,652 epoch: 13, train loss: 30.015888214111328, val loss: 33.22742462158203\n",
      "2020-11-03 15:38:28,941 epoch: 14, train loss: 29.941795349121094, val loss: 33.21818542480469\n",
      "2020-11-03 15:38:44,321 epoch: 15, train loss: 29.759395599365234, val loss: 33.123382568359375\n",
      "2020-11-03 15:38:59,694 epoch: 16, train loss: 29.820175170898438, val loss: 33.07037353515625\n",
      "2020-11-03 15:39:15,316 epoch: 17, train loss: 29.65884780883789, val loss: 33.02831268310547\n",
      "2020-11-03 15:39:30,684 epoch: 18, train loss: 29.62042236328125, val loss: 32.974464416503906\n",
      "2020-11-03 15:39:46,253 epoch: 19, train loss: 29.378210067749023, val loss: 32.956398010253906\n",
      "2020-11-03 15:40:01,778 epoch: 20, train loss: 29.32631492614746, val loss: 32.949119567871094\n",
      "2020-11-03 15:40:15,218 normalizing counts for prediction\n",
      "2020-11-03 15:40:15,219 filtering for genes in training set\n",
      "2020-11-03 15:40:15,230 0 genes in training set are missing from prediction set\n",
      "2020-11-03 15:40:15,737 starting batch 1 of 1\n",
      "2020-11-03 15:40:15,868 normalizing counts for prediction\n",
      "2020-11-03 15:40:15,868 filtering for genes in training set\n",
      "2020-11-03 15:40:15,880 0 genes in training set are missing from prediction set\n"
     ]
    },
    {
     "name": "stdout",
     "output_type": "stream",
     "text": [
      "snRNAseq pdac_train_gbm_val (3296, 28756) (6810, 29748)\n"
     ]
    },
    {
     "name": "stderr",
     "output_type": "stream",
     "text": [
      "2020-11-03 15:40:43,090 normalizing the expression counts for model training\n",
      "2020-11-03 15:40:50,731 input dataset shape: (10106, 27015)\n",
      "2020-11-03 15:40:50,733 possible cell types: ['Acinar', 'B cell', 'CD4 T cell', 'CD8 T cell', 'Dendritic', 'Endothelial', 'Epithelial', 'Erythrocyte', 'Fibroblast', 'Islet', 'Malignant', 'Mast', 'Microglia', 'Monocyte', 'NK', 'Neuron', 'Oligodendrocytes', 'Plasma', 'T cells', 'Treg', 'Tuft']\n",
      "2020-11-03 15:40:50,735 possible cell types: [('Malignant', 1200), ('Fibroblast', 1200), ('Microglia', 1000), ('Neuron', 1000), ('Oligodendrocytes', 1000), ('T cells', 1000), ('Endothelial', 581), ('B cell', 578), ('Monocyte', 251), ('Treg', 200), ('Dendritic', 200), ('NK', 200), ('Epithelial', 200), ('CD8 T cell', 200), ('Plasma', 200), ('Erythrocyte', 200), ('Islet', 200), ('Acinar', 200), ('Mast', 200), ('CD4 T cell', 200), ('Tuft', 96)]\n",
      "2020-11-03 15:40:54,090 training dataset shape: (5565, 27015)\n",
      "2020-11-03 15:40:54,092 validation dataset shape: (4541, 27015)\n"
     ]
    },
    {
     "name": "stdout",
     "output_type": "stream",
     "text": [
      "WARNING:tensorflow:5 out of the last 13 calls to <function compute_loss at 0x7f13991523b0> triggered tf.function retracing. Tracing is expensive and the excessive number of tracings is likely due to passing python objects instead of tensors. Also, tf.function has experimental_relax_shapes=True option that relaxes argument shapes that can avoid unnecessary retracing. Please refer to https://www.tensorflow.org/tutorials/customization/performance#python_or_tensor_args and https://www.tensorflow.org/api_docs/python/tf/function for more details.\n"
     ]
    },
    {
     "name": "stderr",
     "output_type": "stream",
     "text": [
      "2020-11-03 15:41:07,933 5 out of the last 13 calls to <function compute_loss at 0x7f13991523b0> triggered tf.function retracing. Tracing is expensive and the excessive number of tracings is likely due to passing python objects instead of tensors. Also, tf.function has experimental_relax_shapes=True option that relaxes argument shapes that can avoid unnecessary retracing. Please refer to https://www.tensorflow.org/tutorials/customization/performance#python_or_tensor_args and https://www.tensorflow.org/api_docs/python/tf/function for more details.\n",
      "2020-11-03 15:41:11,197 epoch: 1, train loss: 37.50226974487305, val loss: 34.10360336303711\n",
      "2020-11-03 15:41:26,848 epoch: 2, train loss: 36.55294418334961, val loss: 33.4132080078125\n",
      "2020-11-03 15:41:42,665 epoch: 3, train loss: 35.90336227416992, val loss: 32.740753173828125\n",
      "2020-11-03 15:41:58,489 epoch: 4, train loss: 35.538143157958984, val loss: 32.14366912841797\n",
      "2020-11-03 15:42:14,175 epoch: 5, train loss: 35.27581787109375, val loss: 31.69399642944336\n",
      "2020-11-03 15:42:29,810 epoch: 6, train loss: 35.0621223449707, val loss: 31.38427734375\n",
      "2020-11-03 15:42:45,676 epoch: 7, train loss: 34.879112243652344, val loss: 31.15536117553711\n",
      "2020-11-03 15:43:01,638 epoch: 8, train loss: 34.72615432739258, val loss: 31.03192901611328\n",
      "2020-11-03 15:43:17,984 epoch: 9, train loss: 34.573890686035156, val loss: 30.933353424072266\n",
      "2020-11-03 15:43:34,120 epoch: 10, train loss: 34.435211181640625, val loss: 30.831836700439453\n",
      "2020-11-03 15:43:50,435 epoch: 11, train loss: 34.3116569519043, val loss: 30.737125396728516\n",
      "2020-11-03 15:44:06,514 epoch: 12, train loss: 34.20261001586914, val loss: 30.662050247192383\n",
      "2020-11-03 15:44:22,829 epoch: 13, train loss: 34.1006965637207, val loss: 30.5908145904541\n",
      "2020-11-03 15:44:39,135 epoch: 14, train loss: 33.99663543701172, val loss: 30.51363754272461\n",
      "2020-11-03 15:44:55,538 epoch: 15, train loss: 33.8975715637207, val loss: 30.468421936035156\n",
      "2020-11-03 15:45:11,624 epoch: 16, train loss: 33.79366683959961, val loss: 30.423871994018555\n",
      "2020-11-03 15:45:27,652 epoch: 17, train loss: 33.68894577026367, val loss: 30.359281539916992\n",
      "2020-11-03 15:45:43,699 epoch: 18, train loss: 33.581546783447266, val loss: 30.313194274902344\n",
      "2020-11-03 15:46:00,265 epoch: 19, train loss: 33.484683990478516, val loss: 30.27591896057129\n",
      "2020-11-03 15:46:16,416 epoch: 20, train loss: 33.388858795166016, val loss: 30.240869522094727\n",
      "2020-11-03 15:46:28,291 normalizing counts for prediction\n",
      "2020-11-03 15:46:28,292 filtering for genes in training set\n",
      "2020-11-03 15:46:28,300 0 genes in training set are missing from prediction set\n",
      "2020-11-03 15:46:28,799 starting batch 1 of 1\n",
      "2020-11-03 15:46:28,921 normalizing counts for prediction\n",
      "2020-11-03 15:46:28,922 filtering for genes in training set\n",
      "2020-11-03 15:46:28,929 0 genes in training set are missing from prediction set\n"
     ]
    },
    {
     "name": "stdout",
     "output_type": "stream",
     "text": [
      "snRNAseq brca_train_brca_val (2064, 19891) (11253, 27131)\n"
     ]
    },
    {
     "name": "stderr",
     "output_type": "stream",
     "text": [
      "2020-11-03 15:46:49,924 normalizing the expression counts for model training\n",
      "2020-11-03 15:46:56,465 input dataset shape: (13317, 17565)\n",
      "2020-11-03 15:46:56,467 possible cell types: ['B cell', 'CD4 T cell', 'CD8 T cell', 'Dendritic', 'Endothelial', 'Erythrocyte', 'Fibroblast', 'Malignant', 'Mast', 'Monocyte', 'NK', 'Plasma', 'Treg']\n",
      "2020-11-03 15:46:56,470 possible cell types: [('B cell', 1200), ('Endothelial', 1200), ('Malignant', 1200), ('Fibroblast', 1200), ('NK', 1200), ('CD8 T cell', 1200), ('CD4 T cell', 1200), ('Treg', 1200), ('Monocyte', 1200), ('Plasma', 1000), ('Mast', 610), ('Dendritic', 592), ('Erythrocyte', 315)]\n",
      "2020-11-03 15:46:59,832 training dataset shape: (5842, 17565)\n",
      "2020-11-03 15:46:59,833 validation dataset shape: (7475, 17565)\n",
      "2020-11-03 15:47:12,197 epoch: 1, train loss: 21.900548934936523, val loss: 66.90171813964844\n",
      "2020-11-03 15:47:23,594 epoch: 2, train loss: 21.609745025634766, val loss: 66.69325256347656\n",
      "2020-11-03 15:47:35,122 epoch: 3, train loss: 21.349668502807617, val loss: 66.19111633300781\n",
      "2020-11-03 15:47:46,812 epoch: 4, train loss: 20.969823837280273, val loss: 65.85979461669922\n",
      "2020-11-03 15:47:58,320 epoch: 5, train loss: 20.713947296142578, val loss: 65.76535034179688\n",
      "2020-11-03 15:48:10,027 epoch: 6, train loss: 20.51557731628418, val loss: 65.58155822753906\n",
      "2020-11-03 15:48:21,815 epoch: 7, train loss: 20.434038162231445, val loss: 65.37189483642578\n",
      "2020-11-03 15:48:33,336 epoch: 8, train loss: 20.30805206298828, val loss: 65.33468627929688\n",
      "2020-11-03 15:48:44,885 epoch: 9, train loss: 20.091934204101562, val loss: 65.36750030517578\n",
      "2020-11-03 15:48:56,601 epoch: 10, train loss: 20.026573181152344, val loss: 65.73284149169922\n",
      "2020-11-03 15:49:08,266 epoch: 11, train loss: 20.08045768737793, val loss: 66.15284729003906\n",
      "2020-11-03 15:49:20,056 epoch: 12, train loss: 19.7678279876709, val loss: 65.30522155761719\n",
      "2020-11-03 15:49:31,549 epoch: 13, train loss: 19.601573944091797, val loss: 65.32996368408203\n",
      "2020-11-03 15:49:43,282 epoch: 14, train loss: 19.56747055053711, val loss: 65.25753784179688\n",
      "2020-11-03 15:49:54,978 epoch: 15, train loss: 19.444765090942383, val loss: 65.25820922851562\n",
      "2020-11-03 15:50:06,914 epoch: 16, train loss: 19.35453224182129, val loss: 65.29435729980469\n",
      "2020-11-03 15:50:18,662 epoch: 17, train loss: 19.187047958374023, val loss: 65.38209533691406\n",
      "2020-11-03 15:50:30,443 epoch: 18, train loss: 18.989822387695312, val loss: 65.18765258789062\n",
      "2020-11-03 15:50:42,168 epoch: 19, train loss: 18.892784118652344, val loss: 65.4201431274414\n",
      "2020-11-03 15:50:53,757 epoch: 20, train loss: 18.74425506591797, val loss: 65.43439483642578\n",
      "2020-11-03 15:51:04,753 normalizing counts for prediction\n",
      "2020-11-03 15:51:04,755 filtering for genes in training set\n",
      "2020-11-03 15:51:04,769 0 genes in training set are missing from prediction set\n",
      "2020-11-03 15:51:05,271 starting batch 1 of 2\n",
      "2020-11-03 15:51:05,535 normalizing counts for prediction\n",
      "2020-11-03 15:51:05,536 filtering for genes in training set\n",
      "2020-11-03 15:51:05,542 0 genes in training set are missing from prediction set\n",
      "2020-11-03 15:51:24,954 starting batch 2 of 2\n",
      "2020-11-03 15:51:25,040 normalizing counts for prediction\n",
      "2020-11-03 15:51:25,041 filtering for genes in training set\n",
      "2020-11-03 15:51:25,048 0 genes in training set are missing from prediction set\n"
     ]
    },
    {
     "name": "stdout",
     "output_type": "stream",
     "text": [
      "snRNAseq brca_train_cesc_val (2064, 19891) (8449, 22928)\n"
     ]
    },
    {
     "name": "stderr",
     "output_type": "stream",
     "text": [
      "2020-11-03 15:51:29,628 normalizing the expression counts for model training\n",
      "2020-11-03 15:51:34,524 input dataset shape: (10513, 16509)\n",
      "2020-11-03 15:51:34,526 possible cell types: ['B cell', 'CD4 T cell', 'CD8 T cell', 'Dendritic', 'Endothelial', 'Epithelial', 'Erythrocyte', 'Fibroblast', 'Malignant', 'Mast', 'Monocyte', 'NK', 'Plasma', 'Treg']\n",
      "2020-11-03 15:51:34,528 possible cell types: [('Malignant', 1200), ('Fibroblast', 1200), ('NK', 1200), ('CD8 T cell', 1200), ('Monocyte', 1200), ('CD4 T cell', 1118), ('Epithelial', 1000), ('Plasma', 935), ('Endothelial', 732), ('B cell', 200), ('Treg', 200), ('Dendritic', 200), ('Mast', 113), ('Erythrocyte', 15)]\n",
      "2020-11-03 15:51:37,271 training dataset shape: (5061, 16509)\n",
      "2020-11-03 15:51:37,272 validation dataset shape: (5452, 16509)\n",
      "2020-11-03 15:51:48,636 epoch: 1, train loss: 26.561389923095703, val loss: 58.81471633911133\n",
      "2020-11-03 15:51:58,432 epoch: 2, train loss: 26.30562400817871, val loss: 58.5287971496582\n",
      "2020-11-03 15:52:08,474 epoch: 3, train loss: 26.033443450927734, val loss: 58.39257049560547\n",
      "2020-11-03 15:52:18,544 epoch: 4, train loss: 25.47859764099121, val loss: 58.12077331542969\n",
      "2020-11-03 15:52:28,481 epoch: 5, train loss: 25.06295394897461, val loss: 57.93809127807617\n",
      "2020-11-03 15:52:38,382 epoch: 6, train loss: 24.827510833740234, val loss: 57.914520263671875\n",
      "2020-11-03 15:52:48,354 epoch: 7, train loss: 24.599170684814453, val loss: 58.027923583984375\n",
      "2020-11-03 15:52:58,262 epoch: 8, train loss: 24.562744140625, val loss: 57.65704345703125\n",
      "2020-11-03 15:53:08,274 epoch: 9, train loss: 24.35116195678711, val loss: 57.56786346435547\n",
      "2020-11-03 15:53:18,109 epoch: 10, train loss: 24.327566146850586, val loss: 57.523094177246094\n",
      "2020-11-03 15:53:27,956 epoch: 11, train loss: 24.2364559173584, val loss: 57.64912414550781\n",
      "2020-11-03 15:53:37,812 epoch: 12, train loss: 24.0770263671875, val loss: 57.36585998535156\n",
      "2020-11-03 15:53:47,558 epoch: 13, train loss: 23.968626022338867, val loss: 57.465423583984375\n",
      "2020-11-03 15:53:57,464 epoch: 14, train loss: 23.982601165771484, val loss: 57.37279510498047\n",
      "2020-11-03 15:54:07,271 epoch: 15, train loss: 23.741580963134766, val loss: 57.26982116699219\n",
      "2020-11-03 15:54:17,060 epoch: 16, train loss: 23.648488998413086, val loss: 57.21505355834961\n",
      "2020-11-03 15:54:26,914 epoch: 17, train loss: 23.534629821777344, val loss: 57.36045455932617\n",
      "2020-11-03 15:54:36,716 epoch: 18, train loss: 23.541404724121094, val loss: 57.899192810058594\n",
      "2020-11-03 15:54:46,571 epoch: 19, train loss: 23.336650848388672, val loss: 57.44556427001953\n",
      "2020-11-03 15:54:56,405 epoch: 20, train loss: 23.177038192749023, val loss: 57.233436584472656\n",
      "2020-11-03 15:55:05,243 normalizing counts for prediction\n",
      "2020-11-03 15:55:05,244 filtering for genes in training set\n",
      "2020-11-03 15:55:05,255 0 genes in training set are missing from prediction set\n",
      "2020-11-03 15:55:05,690 starting batch 1 of 1\n",
      "2020-11-03 15:55:05,857 normalizing counts for prediction\n",
      "2020-11-03 15:55:05,858 filtering for genes in training set\n",
      "2020-11-03 15:55:05,868 0 genes in training set are missing from prediction set\n"
     ]
    },
    {
     "name": "stdout",
     "output_type": "stream",
     "text": [
      "snRNAseq brca_train_hnscc_val (2064, 19891) (10288, 26929)\n"
     ]
    },
    {
     "name": "stderr",
     "output_type": "stream",
     "text": [
      "2020-11-03 15:55:27,531 normalizing the expression counts for model training\n",
      "2020-11-03 15:55:33,773 input dataset shape: (12352, 17615)\n",
      "2020-11-03 15:55:33,775 possible cell types: ['B cell', 'CD4 T cell', 'CD8 T cell', 'Dendritic', 'Endothelial', 'Erythrocyte', 'Fibroblast', 'Malignant', 'Mast', 'Monocyte', 'NK', 'Plasma', 'Treg']\n",
      "2020-11-03 15:55:33,777 possible cell types: [('B cell', 1200), ('Endothelial', 1200), ('Malignant', 1200), ('NK', 1200), ('CD8 T cell', 1200), ('CD4 T cell', 1200), ('Treg', 1200), ('Monocyte', 1200), ('Mast', 1064), ('Plasma', 1000), ('Erythrocyte', 288), ('Fibroblast', 200), ('Dendritic', 200)]\n",
      "2020-11-03 15:55:36,854 training dataset shape: (5509, 17615)\n",
      "2020-11-03 15:55:36,856 validation dataset shape: (6843, 17615)\n",
      "2020-11-03 15:55:48,702 epoch: 1, train loss: 22.44988250732422, val loss: 61.126651763916016\n",
      "2020-11-03 15:55:59,631 epoch: 2, train loss: 22.3106632232666, val loss: 60.916221618652344\n",
      "2020-11-03 15:56:10,672 epoch: 3, train loss: 22.4382381439209, val loss: 60.88737487792969\n",
      "2020-11-03 15:56:21,610 epoch: 4, train loss: 21.628578186035156, val loss: 60.43202209472656\n",
      "2020-11-03 15:56:32,606 epoch: 5, train loss: 21.414052963256836, val loss: 60.486793518066406\n",
      "2020-11-03 15:56:43,512 epoch: 6, train loss: 21.446321487426758, val loss: 60.168540954589844\n",
      "2020-11-03 15:56:54,524 epoch: 7, train loss: 21.328781127929688, val loss: 60.53050994873047\n",
      "2020-11-03 15:57:05,468 epoch: 8, train loss: 21.094932556152344, val loss: 60.208709716796875\n",
      "2020-11-03 15:57:16,406 epoch: 9, train loss: 20.989961624145508, val loss: 59.953887939453125\n",
      "2020-11-03 15:57:27,356 epoch: 10, train loss: 20.799341201782227, val loss: 59.9083137512207\n",
      "2020-11-03 15:57:38,194 epoch: 11, train loss: 20.884794235229492, val loss: 59.92494201660156\n",
      "2020-11-03 15:57:49,231 epoch: 12, train loss: 20.68119239807129, val loss: 59.824241638183594\n",
      "2020-11-03 15:58:00,208 epoch: 13, train loss: 20.484468460083008, val loss: 59.85115051269531\n",
      "2020-11-03 15:58:11,112 epoch: 14, train loss: 20.518281936645508, val loss: 60.098018646240234\n",
      "2020-11-03 15:58:22,125 epoch: 15, train loss: 20.36134147644043, val loss: 59.99927520751953\n",
      "2020-11-03 15:58:33,002 epoch: 16, train loss: 20.615318298339844, val loss: 60.250709533691406\n",
      "2020-11-03 15:58:43,978 epoch: 17, train loss: 20.167957305908203, val loss: 59.83302688598633\n",
      "2020-11-03 15:58:55,105 epoch: 18, train loss: 20.008790969848633, val loss: 59.772377014160156\n",
      "2020-11-03 15:59:05,728 epoch: 19, train loss: 20.296165466308594, val loss: 61.2111930847168\n",
      "2020-11-03 15:59:16,859 epoch: 20, train loss: 19.769750595092773, val loss: 60.053466796875\n",
      "2020-11-03 15:59:27,588 normalizing counts for prediction\n",
      "2020-11-03 15:59:27,589 filtering for genes in training set\n",
      "2020-11-03 15:59:27,599 0 genes in training set are missing from prediction set\n",
      "2020-11-03 15:59:28,080 starting batch 1 of 2\n",
      "2020-11-03 15:59:28,360 normalizing counts for prediction\n",
      "2020-11-03 15:59:28,361 filtering for genes in training set\n",
      "2020-11-03 15:59:28,370 0 genes in training set are missing from prediction set\n",
      "2020-11-03 15:59:48,564 starting batch 2 of 2\n",
      "2020-11-03 15:59:48,635 normalizing counts for prediction\n",
      "2020-11-03 15:59:48,635 filtering for genes in training set\n",
      "2020-11-03 15:59:48,641 0 genes in training set are missing from prediction set\n"
     ]
    },
    {
     "name": "stdout",
     "output_type": "stream",
     "text": [
      "snRNAseq brca_train_melanoma_val (2064, 19891) (6735, 23452)\n"
     ]
    },
    {
     "name": "stderr",
     "output_type": "stream",
     "text": [
      "2020-11-03 15:59:50,897 normalizing the expression counts for model training\n",
      "2020-11-03 15:59:55,002 input dataset shape: (8799, 16275)\n",
      "2020-11-03 15:59:55,004 possible cell types: ['B cell', 'CD4 T cell', 'CD8 T cell', 'Dendritic', 'Endothelial', 'Fibroblast', 'Malignant', 'Mast', 'Monocyte', 'NK', 'Plasma', 'Treg']\n",
      "2020-11-03 15:59:55,006 possible cell types: [('B cell', 1200), ('Malignant', 1200), ('CD8 T cell', 1200), ('CD4 T cell', 1200), ('Monocyte', 1200), ('Treg', 862), ('Dendritic', 741), ('NK', 538), ('Fibroblast', 321), ('Endothelial', 200), ('Plasma', 73), ('Mast', 64)]\n",
      "2020-11-03 15:59:56,847 training dataset shape: (4273, 16275)\n",
      "2020-11-03 15:59:56,848 validation dataset shape: (4526, 16275)\n",
      "2020-11-03 16:00:05,971 epoch: 1, train loss: 26.017932891845703, val loss: 67.54197692871094\n",
      "2020-11-03 16:00:14,243 epoch: 2, train loss: 25.277915954589844, val loss: 66.95667266845703\n",
      "2020-11-03 16:00:22,541 epoch: 3, train loss: 24.970932006835938, val loss: 66.69097900390625\n",
      "2020-11-03 16:00:30,781 epoch: 4, train loss: 24.762866973876953, val loss: 66.49006652832031\n",
      "2020-11-03 16:00:39,029 epoch: 5, train loss: 24.477569580078125, val loss: 66.37712097167969\n",
      "2020-11-03 16:00:47,298 epoch: 6, train loss: 24.28660774230957, val loss: 66.31768035888672\n",
      "2020-11-03 16:00:55,466 epoch: 7, train loss: 24.162458419799805, val loss: 66.24201202392578\n",
      "2020-11-03 16:01:03,674 epoch: 8, train loss: 23.968271255493164, val loss: 65.97076416015625\n",
      "2020-11-03 16:01:11,887 epoch: 9, train loss: 23.845027923583984, val loss: 65.84063720703125\n",
      "2020-11-03 16:01:19,993 epoch: 10, train loss: 23.6499080657959, val loss: 65.75\n",
      "2020-11-03 16:01:28,083 epoch: 11, train loss: 23.59246826171875, val loss: 66.17975616455078\n",
      "2020-11-03 16:01:36,332 epoch: 12, train loss: 23.312776565551758, val loss: 65.57280731201172\n",
      "2020-11-03 16:01:44,508 epoch: 13, train loss: 23.152666091918945, val loss: 65.58538818359375\n",
      "2020-11-03 16:01:52,814 epoch: 14, train loss: 23.168670654296875, val loss: 65.63194274902344\n",
      "2020-11-03 16:02:01,094 epoch: 15, train loss: 22.97795295715332, val loss: 65.63774871826172\n",
      "2020-11-03 16:02:09,396 epoch: 16, train loss: 22.68922996520996, val loss: 65.45655822753906\n",
      "2020-11-03 16:02:17,763 epoch: 17, train loss: 22.594579696655273, val loss: 65.49598693847656\n",
      "2020-11-03 16:02:26,025 epoch: 18, train loss: 22.521127700805664, val loss: 65.8903579711914\n",
      "2020-11-03 16:02:34,332 epoch: 19, train loss: 22.282196044921875, val loss: 65.5404281616211\n",
      "2020-11-03 16:02:42,664 epoch: 20, train loss: 22.222063064575195, val loss: 65.92230224609375\n",
      "2020-11-03 16:02:49,998 normalizing counts for prediction\n",
      "2020-11-03 16:02:49,999 filtering for genes in training set\n",
      "2020-11-03 16:02:50,008 0 genes in training set are missing from prediction set\n",
      "2020-11-03 16:02:50,457 starting batch 1 of 1\n",
      "2020-11-03 16:02:50,574 normalizing counts for prediction\n",
      "2020-11-03 16:02:50,575 filtering for genes in training set\n",
      "2020-11-03 16:02:50,583 0 genes in training set are missing from prediction set\n"
     ]
    },
    {
     "name": "stdout",
     "output_type": "stream",
     "text": [
      "snRNAseq brca_train_pbmc_val (2064, 19891) (1698, 32738)\n"
     ]
    },
    {
     "name": "stderr",
     "output_type": "stream",
     "text": [
      "2020-11-03 16:03:02,032 normalizing the expression counts for model training\n",
      "2020-11-03 16:03:04,097 input dataset shape: (3762, 18919)\n",
      "2020-11-03 16:03:04,099 possible cell types: ['B cell', 'CD4 T cell', 'CD8 T cell', 'Dendritic', 'Endothelial', 'Fibroblast', 'Malignant', 'Mast', 'Megakaryocyte', 'Monocyte', 'NK', 'Treg']\n",
      "2020-11-03 16:03:04,100 possible cell types: [('CD4 T cell', 1143), ('Monocyte', 634), ('B cell', 341), ('CD8 T cell', 306), ('NK', 263), ('Dendritic', 208), ('Endothelial', 200), ('Malignant', 200), ('Fibroblast', 200), ('Treg', 200), ('Mast', 64), ('Megakaryocyte', 3)]\n",
      "2020-11-03 16:03:04,864 training dataset shape: (2454, 18919)\n",
      "2020-11-03 16:03:04,865 validation dataset shape: (1308, 18919)\n"
     ]
    },
    {
     "name": "stdout",
     "output_type": "stream",
     "text": [
      "WARNING:tensorflow:5 out of the last 17 calls to <function compute_loss at 0x7f13991523b0> triggered tf.function retracing. Tracing is expensive and the excessive number of tracings is likely due to passing python objects instead of tensors. Also, tf.function has experimental_relax_shapes=True option that relaxes argument shapes that can avoid unnecessary retracing. Please refer to https://www.tensorflow.org/tutorials/customization/performance#python_or_tensor_args and https://www.tensorflow.org/api_docs/python/tf/function for more details.\n"
     ]
    },
    {
     "name": "stderr",
     "output_type": "stream",
     "text": [
      "2020-11-03 16:03:10,535 5 out of the last 17 calls to <function compute_loss at 0x7f13991523b0> triggered tf.function retracing. Tracing is expensive and the excessive number of tracings is likely due to passing python objects instead of tensors. Also, tf.function has experimental_relax_shapes=True option that relaxes argument shapes that can avoid unnecessary retracing. Please refer to https://www.tensorflow.org/tutorials/customization/performance#python_or_tensor_args and https://www.tensorflow.org/api_docs/python/tf/function for more details.\n"
     ]
    },
    {
     "name": "stdout",
     "output_type": "stream",
     "text": [
      "WARNING:tensorflow:6 out of the last 18 calls to <function compute_loss at 0x7f13991523b0> triggered tf.function retracing. Tracing is expensive and the excessive number of tracings is likely due to passing python objects instead of tensors. Also, tf.function has experimental_relax_shapes=True option that relaxes argument shapes that can avoid unnecessary retracing. Please refer to https://www.tensorflow.org/tutorials/customization/performance#python_or_tensor_args and https://www.tensorflow.org/api_docs/python/tf/function for more details.\n"
     ]
    },
    {
     "name": "stderr",
     "output_type": "stream",
     "text": [
      "2020-11-03 16:03:10,642 6 out of the last 18 calls to <function compute_loss at 0x7f13991523b0> triggered tf.function retracing. Tracing is expensive and the excessive number of tracings is likely due to passing python objects instead of tensors. Also, tf.function has experimental_relax_shapes=True option that relaxes argument shapes that can avoid unnecessary retracing. Please refer to https://www.tensorflow.org/tutorials/customization/performance#python_or_tensor_args and https://www.tensorflow.org/api_docs/python/tf/function for more details.\n",
      "2020-11-03 16:03:11,635 epoch: 1, train loss: 42.160152435302734, val loss: 76.42351531982422\n",
      "2020-11-03 16:03:17,219 epoch: 2, train loss: 41.45851135253906, val loss: 75.6661148071289\n",
      "2020-11-03 16:03:22,719 epoch: 3, train loss: 40.74289321899414, val loss: 75.40392303466797\n",
      "2020-11-03 16:03:28,274 epoch: 4, train loss: 40.5616455078125, val loss: 75.17089080810547\n",
      "2020-11-03 16:03:33,870 epoch: 5, train loss: 40.452117919921875, val loss: 74.5890121459961\n",
      "2020-11-03 16:03:39,419 epoch: 6, train loss: 40.312477111816406, val loss: 74.4772720336914\n",
      "2020-11-03 16:03:44,978 epoch: 7, train loss: 40.246768951416016, val loss: 74.60901641845703\n",
      "2020-11-03 16:03:50,534 epoch: 8, train loss: 40.04240417480469, val loss: 74.3569564819336\n",
      "2020-11-03 16:03:56,130 epoch: 9, train loss: 39.723175048828125, val loss: 74.2514419555664\n",
      "2020-11-03 16:04:01,700 epoch: 10, train loss: 39.12400817871094, val loss: 74.11946105957031\n",
      "2020-11-03 16:04:07,266 epoch: 11, train loss: 39.29125213623047, val loss: 74.16490173339844\n",
      "2020-11-03 16:04:12,773 epoch: 12, train loss: 38.745487213134766, val loss: 73.93402099609375\n",
      "2020-11-03 16:04:18,414 epoch: 13, train loss: 38.316280364990234, val loss: 73.94685363769531\n",
      "2020-11-03 16:04:23,973 epoch: 14, train loss: 38.35633850097656, val loss: 73.83837890625\n",
      "2020-11-03 16:04:29,510 epoch: 15, train loss: 38.08491897583008, val loss: 73.92767333984375\n",
      "2020-11-03 16:04:35,079 epoch: 16, train loss: 37.67517852783203, val loss: 73.65660095214844\n",
      "2020-11-03 16:04:40,722 epoch: 17, train loss: 37.71844482421875, val loss: 73.77888488769531\n",
      "2020-11-03 16:04:46,300 epoch: 18, train loss: 37.12089157104492, val loss: 73.7054672241211\n",
      "2020-11-03 16:04:51,847 epoch: 19, train loss: 37.103729248046875, val loss: 73.94837951660156\n",
      "2020-11-03 16:04:57,463 epoch: 20, train loss: 36.84264373779297, val loss: 73.77266693115234\n",
      "2020-11-03 16:05:01,655 normalizing counts for prediction\n",
      "2020-11-03 16:05:01,656 filtering for genes in training set\n",
      "2020-11-03 16:05:01,666 0 genes in training set are missing from prediction set\n",
      "2020-11-03 16:05:02,169 starting batch 1 of 1\n",
      "2020-11-03 16:05:02,240 normalizing counts for prediction\n",
      "2020-11-03 16:05:02,241 filtering for genes in training set\n",
      "2020-11-03 16:05:02,251 0 genes in training set are missing from prediction set\n"
     ]
    },
    {
     "name": "stdout",
     "output_type": "stream",
     "text": [
      "snRNAseq brca_train_pdac_val (2064, 19891) (15435, 28756)\n"
     ]
    },
    {
     "name": "stderr",
     "output_type": "stream",
     "text": [
      "2020-11-03 16:05:08,074 normalizing the expression counts for model training\n",
      "2020-11-03 16:05:17,054 input dataset shape: (17499, 17904)\n",
      "2020-11-03 16:05:17,056 possible cell types: ['Acinar', 'B cell', 'CD4 T cell', 'CD8 T cell', 'Dendritic', 'Endothelial', 'Epithelial', 'Erythrocyte', 'Fibroblast', 'Islet', 'Malignant', 'Mast', 'Monocyte', 'NK', 'Plasma', 'Treg', 'Tuft']\n",
      "2020-11-03 16:05:17,060 possible cell types: [('B cell', 1200), ('Endothelial', 1200), ('Malignant', 1200), ('Fibroblast', 1200), ('NK', 1200), ('CD8 T cell', 1200), ('CD4 T cell', 1200), ('Treg', 1200), ('Monocyte', 1200), ('Dendritic', 1200), ('Mast', 1064), ('Plasma', 1000), ('Acinar', 1000), ('Islet', 1000), ('Epithelial', 968), ('Erythrocyte', 412), ('Tuft', 55)]\n",
      "2020-11-03 16:05:22,165 training dataset shape: (7797, 17904)\n",
      "2020-11-03 16:05:22,167 validation dataset shape: (9702, 17904)\n",
      "2020-11-03 16:05:37,181 epoch: 1, train loss: 19.83945083618164, val loss: 63.55595397949219\n",
      "2020-11-03 16:05:51,089 epoch: 2, train loss: 19.255203247070312, val loss: 63.300437927246094\n",
      "2020-11-03 16:06:05,092 epoch: 3, train loss: 18.86119842529297, val loss: 63.209068298339844\n",
      "2020-11-03 16:06:19,094 epoch: 4, train loss: 18.60809898376465, val loss: 62.75612258911133\n",
      "2020-11-03 16:06:33,141 epoch: 5, train loss: 18.447813034057617, val loss: 62.53184509277344\n",
      "2020-11-03 16:06:47,176 epoch: 6, train loss: 18.32514762878418, val loss: 62.407318115234375\n",
      "2020-11-03 16:07:01,135 epoch: 7, train loss: 18.181407928466797, val loss: 62.349395751953125\n",
      "2020-11-03 16:07:15,045 epoch: 8, train loss: 18.051326751708984, val loss: 62.10685729980469\n",
      "2020-11-03 16:07:29,027 epoch: 9, train loss: 17.936735153198242, val loss: 62.088565826416016\n",
      "2020-11-03 16:07:42,826 epoch: 10, train loss: 17.87256622314453, val loss: 62.317665100097656\n",
      "2020-11-03 16:07:57,026 epoch: 11, train loss: 17.834012985229492, val loss: 62.562347412109375\n",
      "2020-11-03 16:08:11,656 epoch: 12, train loss: 17.670982360839844, val loss: 62.09381103515625\n",
      "2020-11-03 16:08:25,802 epoch: 13, train loss: 17.614158630371094, val loss: 62.56456756591797\n",
      "2020-11-03 16:08:40,017 epoch: 14, train loss: 17.509475708007812, val loss: 62.04246520996094\n",
      "2020-11-03 16:08:54,345 epoch: 15, train loss: 17.412445068359375, val loss: 61.97864532470703\n",
      "2020-11-03 16:09:08,617 epoch: 16, train loss: 17.41093635559082, val loss: 62.17815399169922\n",
      "2020-11-03 16:09:22,904 epoch: 17, train loss: 17.263742446899414, val loss: 61.98749923706055\n",
      "2020-11-03 16:09:37,363 epoch: 18, train loss: 17.196611404418945, val loss: 62.315452575683594\n",
      "2020-11-03 16:09:51,548 epoch: 19, train loss: 17.080453872680664, val loss: 62.00432205200195\n",
      "2020-11-03 16:10:05,833 epoch: 20, train loss: 16.98869514465332, val loss: 62.170352935791016\n",
      "2020-11-03 16:10:20,577 normalizing counts for prediction\n",
      "2020-11-03 16:10:20,578 filtering for genes in training set\n",
      "2020-11-03 16:10:20,583 0 genes in training set are missing from prediction set\n",
      "2020-11-03 16:10:20,948 starting batch 1 of 2\n",
      "2020-11-03 16:10:21,899 normalizing counts for prediction\n",
      "2020-11-03 16:10:21,900 filtering for genes in training set\n",
      "2020-11-03 16:10:21,907 0 genes in training set are missing from prediction set\n",
      "2020-11-03 16:10:41,204 starting batch 2 of 2\n",
      "2020-11-03 16:10:41,403 normalizing counts for prediction\n",
      "2020-11-03 16:10:41,403 filtering for genes in training set\n",
      "2020-11-03 16:10:41,412 0 genes in training set are missing from prediction set\n"
     ]
    },
    {
     "name": "stdout",
     "output_type": "stream",
     "text": [
      "snRNAseq gbm_train_brca_val (1316, 19891) (11253, 27131)\n"
     ]
    },
    {
     "name": "stderr",
     "output_type": "stream",
     "text": [
      "2020-11-03 16:10:53,864 normalizing the expression counts for model training\n",
      "2020-11-03 16:11:00,057 input dataset shape: (12569, 17565)\n",
      "2020-11-03 16:11:00,059 possible cell types: ['B cell', 'CD4 T cell', 'CD8 T cell', 'Dendritic', 'Endothelial', 'Erythrocyte', 'Fibroblast', 'Malignant', 'Mast', 'Microglia', 'Monocyte', 'NK', 'Neuron', 'Oligodendrocytes', 'Plasma', 'T cells', 'Treg']\n",
      "2020-11-03 16:11:00,061 possible cell types: [('Malignant', 1200), ('Fibroblast', 1200), ('Endothelial', 1072), ('B cell', 1044), ('CD8 T cell', 1000), ('NK', 1000), ('Treg', 1000), ('CD4 T cell', 1000), ('Monocyte', 1000), ('Plasma', 1000), ('Mast', 546), ('Dendritic', 392), ('Erythrocyte', 315), ('Neuron', 200), ('Microglia', 200), ('T cells', 200), ('Oligodendrocytes', 200)]\n",
      "2020-11-03 16:11:03,421 training dataset shape: (6371, 17565)\n",
      "2020-11-03 16:11:03,422 validation dataset shape: (6198, 17565)\n",
      "2020-11-03 16:11:17,222 epoch: 1, train loss: 22.93305015563965, val loss: 43.824562072753906\n",
      "2020-11-03 16:11:30,071 epoch: 2, train loss: 22.664987564086914, val loss: 43.694374084472656\n",
      "2020-11-03 16:11:42,730 epoch: 3, train loss: 22.263111114501953, val loss: 43.53173065185547\n",
      "2020-11-03 16:11:55,424 epoch: 4, train loss: 21.92041778564453, val loss: 43.46297836303711\n",
      "2020-11-03 16:12:08,630 epoch: 5, train loss: 21.848892211914062, val loss: 43.5791015625\n",
      "2020-11-03 16:12:21,225 epoch: 6, train loss: 21.795686721801758, val loss: 43.97190856933594\n",
      "2020-11-03 16:12:33,872 epoch: 7, train loss: 21.48871421813965, val loss: 43.35926055908203\n",
      "2020-11-03 16:12:46,661 epoch: 8, train loss: 21.27861785888672, val loss: 43.20083236694336\n",
      "2020-11-03 16:12:59,144 epoch: 9, train loss: 21.18610191345215, val loss: 43.20428466796875\n",
      "2020-11-03 16:13:11,672 epoch: 10, train loss: 21.053855895996094, val loss: 43.299278259277344\n",
      "2020-11-03 16:13:24,309 epoch: 11, train loss: 21.475194931030273, val loss: 44.882667541503906\n",
      "2020-11-03 16:13:36,868 epoch: 12, train loss: 20.99152374267578, val loss: 43.3822135925293\n",
      "2020-11-03 16:13:49,657 epoch: 13, train loss: 20.936241149902344, val loss: 43.27119445800781\n",
      "2020-11-03 16:14:02,263 epoch: 14, train loss: 20.78753662109375, val loss: 43.19004821777344\n",
      "2020-11-03 16:14:14,941 epoch: 15, train loss: 20.792421340942383, val loss: 43.461952209472656\n",
      "2020-11-03 16:14:27,669 epoch: 16, train loss: 20.518884658813477, val loss: 43.112327575683594\n",
      "2020-11-03 16:14:40,430 epoch: 17, train loss: 20.451622009277344, val loss: 43.158226013183594\n",
      "2020-11-03 16:14:53,233 epoch: 18, train loss: 20.286331176757812, val loss: 43.16644287109375\n",
      "2020-11-03 16:15:05,793 epoch: 19, train loss: 20.164155960083008, val loss: 43.04450988769531\n",
      "2020-11-03 16:15:18,433 epoch: 20, train loss: 20.212244033813477, val loss: 43.16755676269531\n",
      "2020-11-03 16:15:29,574 normalizing counts for prediction\n",
      "2020-11-03 16:15:29,575 filtering for genes in training set\n",
      "2020-11-03 16:15:29,583 0 genes in training set are missing from prediction set\n",
      "2020-11-03 16:15:29,990 starting batch 1 of 2\n",
      "2020-11-03 16:15:30,231 normalizing counts for prediction\n",
      "2020-11-03 16:15:30,232 filtering for genes in training set\n",
      "2020-11-03 16:15:30,243 0 genes in training set are missing from prediction set\n",
      "2020-11-03 16:15:48,856 starting batch 2 of 2\n",
      "2020-11-03 16:15:48,996 normalizing counts for prediction\n",
      "2020-11-03 16:15:48,997 filtering for genes in training set\n",
      "2020-11-03 16:15:49,007 0 genes in training set are missing from prediction set\n"
     ]
    },
    {
     "name": "stdout",
     "output_type": "stream",
     "text": [
      "snRNAseq gbm_train_cesc_val (1316, 19891) (8449, 22928)\n"
     ]
    },
    {
     "name": "stderr",
     "output_type": "stream",
     "text": [
      "2020-11-03 16:15:53,440 normalizing the expression counts for model training\n",
      "2020-11-03 16:15:58,094 input dataset shape: (9765, 16509)\n",
      "2020-11-03 16:15:58,096 possible cell types: ['B cell', 'CD4 T cell', 'CD8 T cell', 'Endothelial', 'Epithelial', 'Erythrocyte', 'Fibroblast', 'Malignant', 'Mast', 'Microglia', 'Monocyte', 'NK', 'Neuron', 'Oligodendrocytes', 'Plasma', 'T cells']\n",
      "2020-11-03 16:15:58,097 possible cell types: [('Malignant', 1200), ('Fibroblast', 1200), ('Monocyte', 1000), ('CD8 T cell', 1000), ('Epithelial', 1000), ('NK', 1000), ('Plasma', 935), ('CD4 T cell', 918), ('Endothelial', 604), ('Neuron', 200), ('Microglia', 200), ('T cells', 200), ('Oligodendrocytes', 200), ('Mast', 49), ('B cell', 44), ('Erythrocyte', 15)]\n",
      "2020-11-03 16:16:00,704 training dataset shape: (4997, 16509)\n",
      "2020-11-03 16:16:00,705 validation dataset shape: (4768, 16509)\n"
     ]
    },
    {
     "name": "stdout",
     "output_type": "stream",
     "text": [
      "WARNING:tensorflow:5 out of the last 84 calls to <function compute_loss at 0x7f13991523b0> triggered tf.function retracing. Tracing is expensive and the excessive number of tracings is likely due to passing python objects instead of tensors. Also, tf.function has experimental_relax_shapes=True option that relaxes argument shapes that can avoid unnecessary retracing. Please refer to https://www.tensorflow.org/tutorials/customization/performance#python_or_tensor_args and https://www.tensorflow.org/api_docs/python/tf/function for more details.\n"
     ]
    },
    {
     "name": "stderr",
     "output_type": "stream",
     "text": [
      "2020-11-03 16:16:09,437 5 out of the last 84 calls to <function compute_loss at 0x7f13991523b0> triggered tf.function retracing. Tracing is expensive and the excessive number of tracings is likely due to passing python objects instead of tensors. Also, tf.function has experimental_relax_shapes=True option that relaxes argument shapes that can avoid unnecessary retracing. Please refer to https://www.tensorflow.org/tutorials/customization/performance#python_or_tensor_args and https://www.tensorflow.org/api_docs/python/tf/function for more details.\n"
     ]
    },
    {
     "name": "stdout",
     "output_type": "stream",
     "text": [
      "WARNING:tensorflow:5 out of the last 16 calls to <function compute_loss at 0x7f13991523b0> triggered tf.function retracing. Tracing is expensive and the excessive number of tracings is likely due to passing python objects instead of tensors. Also, tf.function has experimental_relax_shapes=True option that relaxes argument shapes that can avoid unnecessary retracing. Please refer to https://www.tensorflow.org/tutorials/customization/performance#python_or_tensor_args and https://www.tensorflow.org/api_docs/python/tf/function for more details.\n"
     ]
    },
    {
     "name": "stderr",
     "output_type": "stream",
     "text": [
      "2020-11-03 16:16:10,131 5 out of the last 16 calls to <function compute_loss at 0x7f13991523b0> triggered tf.function retracing. Tracing is expensive and the excessive number of tracings is likely due to passing python objects instead of tensors. Also, tf.function has experimental_relax_shapes=True option that relaxes argument shapes that can avoid unnecessary retracing. Please refer to https://www.tensorflow.org/tutorials/customization/performance#python_or_tensor_args and https://www.tensorflow.org/api_docs/python/tf/function for more details.\n",
      "2020-11-03 16:16:11,831 epoch: 1, train loss: 27.360685348510742, val loss: 38.5082893371582\n",
      "2020-11-03 16:16:21,440 epoch: 2, train loss: 26.806385040283203, val loss: 38.307708740234375\n",
      "2020-11-03 16:16:31,132 epoch: 3, train loss: 26.37519073486328, val loss: 38.32129669189453\n",
      "2020-11-03 16:16:40,914 epoch: 4, train loss: 25.862516403198242, val loss: 38.1708984375\n",
      "2020-11-03 16:16:50,585 epoch: 5, train loss: 25.735336303710938, val loss: 38.15080261230469\n",
      "2020-11-03 16:17:00,315 epoch: 6, train loss: 25.60809898376465, val loss: 38.10558319091797\n",
      "2020-11-03 16:17:10,079 epoch: 7, train loss: 25.36280059814453, val loss: 38.075679779052734\n",
      "2020-11-03 16:17:19,795 epoch: 8, train loss: 25.237871170043945, val loss: 38.02910614013672\n",
      "2020-11-03 16:17:29,562 epoch: 9, train loss: 25.2051944732666, val loss: 38.026123046875\n",
      "2020-11-03 16:17:39,337 epoch: 10, train loss: 25.324254989624023, val loss: 38.42534637451172\n",
      "2020-11-03 16:17:49,374 epoch: 11, train loss: 25.226850509643555, val loss: 38.032894134521484\n",
      "2020-11-03 16:17:59,169 epoch: 12, train loss: 24.79990577697754, val loss: 37.91334533691406\n",
      "2020-11-03 16:18:09,063 epoch: 13, train loss: 24.7807674407959, val loss: 37.941322326660156\n",
      "2020-11-03 16:18:18,931 epoch: 14, train loss: 24.48023223876953, val loss: 37.97376251220703\n",
      "2020-11-03 16:18:28,876 epoch: 15, train loss: 24.706417083740234, val loss: 38.12206268310547\n",
      "2020-11-03 16:18:38,725 epoch: 16, train loss: 24.393739700317383, val loss: 37.945377349853516\n",
      "2020-11-03 16:18:48,624 epoch: 17, train loss: 24.579208374023438, val loss: 38.00830078125\n",
      "2020-11-03 16:18:58,518 epoch: 18, train loss: 24.2406063079834, val loss: 37.86589050292969\n",
      "2020-11-03 16:19:08,424 epoch: 19, train loss: 24.107858657836914, val loss: 37.95793151855469\n",
      "2020-11-03 16:19:18,219 epoch: 20, train loss: 23.939165115356445, val loss: 37.88140869140625\n",
      "2020-11-03 16:19:26,787 normalizing counts for prediction\n",
      "2020-11-03 16:19:26,789 filtering for genes in training set\n",
      "2020-11-03 16:19:26,796 0 genes in training set are missing from prediction set\n",
      "2020-11-03 16:19:27,236 starting batch 1 of 1\n",
      "2020-11-03 16:19:27,404 normalizing counts for prediction\n",
      "2020-11-03 16:19:27,405 filtering for genes in training set\n",
      "2020-11-03 16:19:27,413 0 genes in training set are missing from prediction set\n"
     ]
    },
    {
     "name": "stdout",
     "output_type": "stream",
     "text": [
      "snRNAseq gbm_train_hnscc_val (1316, 19891) (10288, 26929)\n"
     ]
    },
    {
     "name": "stderr",
     "output_type": "stream",
     "text": [
      "2020-11-03 16:19:48,892 normalizing the expression counts for model training\n",
      "2020-11-03 16:19:54,616 input dataset shape: (11604, 17615)\n",
      "2020-11-03 16:19:54,617 possible cell types: ['B cell', 'CD4 T cell', 'CD8 T cell', 'Endothelial', 'Erythrocyte', 'Fibroblast', 'Malignant', 'Mast', 'Microglia', 'Monocyte', 'NK', 'Neuron', 'Oligodendrocytes', 'Plasma', 'T cells', 'Treg']\n",
      "2020-11-03 16:19:54,620 possible cell types: [('Malignant', 1200), ('Endothelial', 1072), ('B cell', 1044), ('Treg', 1000), ('CD4 T cell', 1000), ('Plasma', 1000), ('Mast', 1000), ('CD8 T cell', 1000), ('Monocyte', 1000), ('NK', 1000), ('Erythrocyte', 288), ('Fibroblast', 200), ('Neuron', 200), ('Microglia', 200), ('T cells', 200), ('Oligodendrocytes', 200)]\n",
      "2020-11-03 16:19:57,530 training dataset shape: (5955, 17615)\n",
      "2020-11-03 16:19:57,531 validation dataset shape: (5649, 17615)\n",
      "2020-11-03 16:20:10,442 epoch: 1, train loss: 23.7562198638916, val loss: 39.92554473876953\n",
      "2020-11-03 16:20:22,549 epoch: 2, train loss: 23.3315486907959, val loss: 39.78348159790039\n",
      "2020-11-03 16:20:34,520 epoch: 3, train loss: 22.982412338256836, val loss: 39.81086730957031\n",
      "2020-11-03 16:20:46,652 epoch: 4, train loss: 22.83374786376953, val loss: 39.637840270996094\n",
      "2020-11-03 16:20:58,566 epoch: 5, train loss: 22.751256942749023, val loss: 39.547508239746094\n",
      "2020-11-03 16:21:10,411 epoch: 6, train loss: 22.510284423828125, val loss: 39.57207107543945\n",
      "2020-11-03 16:21:22,205 epoch: 7, train loss: 22.314395904541016, val loss: 39.52402114868164\n",
      "2020-11-03 16:21:34,089 epoch: 8, train loss: 22.623550415039062, val loss: 39.589454650878906\n",
      "2020-11-03 16:21:46,768 epoch: 9, train loss: 22.132343292236328, val loss: 39.472389221191406\n",
      "2020-11-03 16:21:58,649 epoch: 10, train loss: 21.90518569946289, val loss: 39.39332580566406\n",
      "2020-11-03 16:22:10,707 epoch: 11, train loss: 21.689983367919922, val loss: 39.31791305541992\n",
      "2020-11-03 16:22:22,957 epoch: 12, train loss: 21.78731918334961, val loss: 39.48777770996094\n",
      "2020-11-03 16:22:35,119 epoch: 13, train loss: 21.565019607543945, val loss: 39.33332061767578\n",
      "2020-11-03 16:22:47,341 epoch: 14, train loss: 21.38094711303711, val loss: 39.32655334472656\n",
      "2020-11-03 16:22:59,266 epoch: 15, train loss: 21.579458236694336, val loss: 39.58148193359375\n",
      "2020-11-03 16:23:11,382 epoch: 16, train loss: 21.21268081665039, val loss: 39.34450149536133\n",
      "2020-11-03 16:23:23,522 epoch: 17, train loss: 21.90049934387207, val loss: 40.121150970458984\n",
      "2020-11-03 16:23:35,571 epoch: 18, train loss: 21.238622665405273, val loss: 39.340858459472656\n",
      "2020-11-03 16:23:47,766 epoch: 19, train loss: 21.15917205810547, val loss: 39.60573196411133\n",
      "2020-11-03 16:23:59,734 epoch: 20, train loss: 21.065387725830078, val loss: 39.730316162109375\n",
      "2020-11-03 16:24:10,180 normalizing counts for prediction\n",
      "2020-11-03 16:24:10,180 filtering for genes in training set\n",
      "2020-11-03 16:24:10,188 0 genes in training set are missing from prediction set\n",
      "2020-11-03 16:24:10,556 starting batch 1 of 2\n",
      "2020-11-03 16:24:10,749 normalizing counts for prediction\n",
      "2020-11-03 16:24:10,750 filtering for genes in training set\n",
      "2020-11-03 16:24:10,756 0 genes in training set are missing from prediction set\n",
      "2020-11-03 16:24:31,244 starting batch 2 of 2\n",
      "2020-11-03 16:24:31,367 normalizing counts for prediction\n",
      "2020-11-03 16:24:31,368 filtering for genes in training set\n",
      "2020-11-03 16:24:31,376 0 genes in training set are missing from prediction set\n"
     ]
    },
    {
     "name": "stdout",
     "output_type": "stream",
     "text": [
      "snRNAseq gbm_train_melanoma_val (1316, 19891) (6735, 23452)\n"
     ]
    },
    {
     "name": "stderr",
     "output_type": "stream",
     "text": [
      "2020-11-03 16:24:33,489 normalizing the expression counts for model training\n",
      "2020-11-03 16:24:37,169 input dataset shape: (8051, 16275)\n",
      "2020-11-03 16:24:37,171 possible cell types: ['B cell', 'CD4 T cell', 'CD8 T cell', 'Dendritic', 'Endothelial', 'Fibroblast', 'Malignant', 'Microglia', 'Monocyte', 'NK', 'Neuron', 'Oligodendrocytes', 'Plasma', 'T cells', 'Treg']\n",
      "2020-11-03 16:24:37,173 possible cell types: [('Malignant', 1200), ('B cell', 1044), ('CD8 T cell', 1000), ('Monocyte', 1000), ('CD4 T cell', 1000), ('Treg', 662), ('Dendritic', 541), ('NK', 338), ('Fibroblast', 321), ('Neuron', 200), ('Microglia', 200), ('T cells', 200), ('Oligodendrocytes', 200), ('Plasma', 73), ('Endothelial', 72)]\n",
      "2020-11-03 16:24:38,923 training dataset shape: (4458, 16275)\n",
      "2020-11-03 16:24:38,924 validation dataset shape: (3593, 16275)\n",
      "2020-11-03 16:24:48,858 epoch: 1, train loss: 25.84004783630371, val loss: 41.271270751953125\n",
      "2020-11-03 16:24:57,331 epoch: 2, train loss: 25.39883804321289, val loss: 41.03327941894531\n",
      "2020-11-03 16:25:06,285 epoch: 3, train loss: 25.076074600219727, val loss: 40.9320182800293\n",
      "2020-11-03 16:25:15,217 epoch: 4, train loss: 24.817502975463867, val loss: 40.94892120361328\n",
      "2020-11-03 16:25:24,123 epoch: 5, train loss: 24.530656814575195, val loss: 40.83195495605469\n",
      "2020-11-03 16:25:32,982 epoch: 6, train loss: 24.48539161682129, val loss: 40.922821044921875\n",
      "2020-11-03 16:25:41,875 epoch: 7, train loss: 24.303091049194336, val loss: 40.83696746826172\n",
      "2020-11-03 16:25:50,757 epoch: 8, train loss: 24.035192489624023, val loss: 40.74208068847656\n",
      "2020-11-03 16:25:59,588 epoch: 9, train loss: 23.944459915161133, val loss: 40.84111404418945\n",
      "2020-11-03 16:26:08,401 epoch: 10, train loss: 23.78580665588379, val loss: 40.71343231201172\n",
      "2020-11-03 16:26:17,259 epoch: 11, train loss: 23.53179168701172, val loss: 40.700828552246094\n",
      "2020-11-03 16:26:26,107 epoch: 12, train loss: 23.382455825805664, val loss: 40.67869186401367\n",
      "2020-11-03 16:26:35,014 epoch: 13, train loss: 23.303680419921875, val loss: 40.73278045654297\n",
      "2020-11-03 16:26:43,931 epoch: 14, train loss: 23.25233268737793, val loss: 40.802696228027344\n",
      "2020-11-03 16:26:52,811 epoch: 15, train loss: 23.041444778442383, val loss: 40.74052047729492\n",
      "2020-11-03 16:27:01,637 epoch: 16, train loss: 23.099700927734375, val loss: 40.78981018066406\n",
      "2020-11-03 16:27:10,377 epoch: 17, train loss: 22.778905868530273, val loss: 40.663490295410156\n",
      "2020-11-03 16:27:19,146 epoch: 18, train loss: 22.863813400268555, val loss: 41.45082092285156\n",
      "2020-11-03 16:27:28,079 epoch: 19, train loss: 22.253358840942383, val loss: 40.6187629699707\n",
      "2020-11-03 16:27:37,024 epoch: 20, train loss: 22.15985107421875, val loss: 40.67271423339844\n",
      "2020-11-03 16:27:44,086 normalizing counts for prediction\n",
      "2020-11-03 16:27:44,087 filtering for genes in training set\n",
      "2020-11-03 16:27:44,096 0 genes in training set are missing from prediction set\n",
      "2020-11-03 16:27:44,541 starting batch 1 of 1\n",
      "2020-11-03 16:27:45,470 normalizing counts for prediction\n",
      "2020-11-03 16:27:45,471 filtering for genes in training set\n",
      "2020-11-03 16:27:45,483 0 genes in training set are missing from prediction set\n"
     ]
    },
    {
     "name": "stdout",
     "output_type": "stream",
     "text": [
      "snRNAseq gbm_train_pbmc_val (1316, 19891) (1698, 32738)\n"
     ]
    },
    {
     "name": "stderr",
     "output_type": "stream",
     "text": [
      "2020-11-03 16:27:56,524 normalizing the expression counts for model training\n",
      "2020-11-03 16:27:58,122 input dataset shape: (3014, 18919)\n",
      "2020-11-03 16:27:58,123 possible cell types: ['B cell', 'CD4 T cell', 'CD8 T cell', 'Dendritic', 'Endothelial', 'Fibroblast', 'Malignant', 'Megakaryocyte', 'Microglia', 'Monocyte', 'NK', 'Neuron', 'Oligodendrocytes', 'T cells']\n",
      "2020-11-03 16:27:58,124 possible cell types: [('CD4 T cell', 943), ('Monocyte', 434), ('Malignant', 200), ('Fibroblast', 200), ('Neuron', 200), ('Microglia', 200), ('T cells', 200), ('Oligodendrocytes', 200), ('B cell', 185), ('CD8 T cell', 106), ('Endothelial', 72), ('NK', 63), ('Dendritic', 8), ('Megakaryocyte', 3)]\n",
      "2020-11-03 16:27:58,727 training dataset shape: (2022, 18919)\n",
      "2020-11-03 16:27:58,728 validation dataset shape: (992, 18919)\n"
     ]
    },
    {
     "name": "stdout",
     "output_type": "stream",
     "text": [
      "WARNING:tensorflow:5 out of the last 40 calls to <function compute_loss at 0x7f13991523b0> triggered tf.function retracing. Tracing is expensive and the excessive number of tracings is likely due to passing python objects instead of tensors. Also, tf.function has experimental_relax_shapes=True option that relaxes argument shapes that can avoid unnecessary retracing. Please refer to https://www.tensorflow.org/tutorials/customization/performance#python_or_tensor_args and https://www.tensorflow.org/api_docs/python/tf/function for more details.\n"
     ]
    },
    {
     "name": "stderr",
     "output_type": "stream",
     "text": [
      "2020-11-03 16:28:03,520 5 out of the last 40 calls to <function compute_loss at 0x7f13991523b0> triggered tf.function retracing. Tracing is expensive and the excessive number of tracings is likely due to passing python objects instead of tensors. Also, tf.function has experimental_relax_shapes=True option that relaxes argument shapes that can avoid unnecessary retracing. Please refer to https://www.tensorflow.org/tutorials/customization/performance#python_or_tensor_args and https://www.tensorflow.org/api_docs/python/tf/function for more details.\n"
     ]
    },
    {
     "name": "stdout",
     "output_type": "stream",
     "text": [
      "WARNING:tensorflow:6 out of the last 41 calls to <function compute_loss at 0x7f13991523b0> triggered tf.function retracing. Tracing is expensive and the excessive number of tracings is likely due to passing python objects instead of tensors. Also, tf.function has experimental_relax_shapes=True option that relaxes argument shapes that can avoid unnecessary retracing. Please refer to https://www.tensorflow.org/tutorials/customization/performance#python_or_tensor_args and https://www.tensorflow.org/api_docs/python/tf/function for more details.\n"
     ]
    },
    {
     "name": "stderr",
     "output_type": "stream",
     "text": [
      "2020-11-03 16:28:03,609 6 out of the last 41 calls to <function compute_loss at 0x7f13991523b0> triggered tf.function retracing. Tracing is expensive and the excessive number of tracings is likely due to passing python objects instead of tensors. Also, tf.function has experimental_relax_shapes=True option that relaxes argument shapes that can avoid unnecessary retracing. Please refer to https://www.tensorflow.org/tutorials/customization/performance#python_or_tensor_args and https://www.tensorflow.org/api_docs/python/tf/function for more details.\n"
     ]
    },
    {
     "name": "stdout",
     "output_type": "stream",
     "text": [
      "WARNING:tensorflow:6 out of the last 11 calls to <function compute_loss at 0x7f13991523b0> triggered tf.function retracing. Tracing is expensive and the excessive number of tracings is likely due to passing python objects instead of tensors. Also, tf.function has experimental_relax_shapes=True option that relaxes argument shapes that can avoid unnecessary retracing. Please refer to https://www.tensorflow.org/tutorials/customization/performance#python_or_tensor_args and https://www.tensorflow.org/api_docs/python/tf/function for more details.\n"
     ]
    },
    {
     "name": "stderr",
     "output_type": "stream",
     "text": [
      "2020-11-03 16:28:03,703 6 out of the last 11 calls to <function compute_loss at 0x7f13991523b0> triggered tf.function retracing. Tracing is expensive and the excessive number of tracings is likely due to passing python objects instead of tensors. Also, tf.function has experimental_relax_shapes=True option that relaxes argument shapes that can avoid unnecessary retracing. Please refer to https://www.tensorflow.org/tutorials/customization/performance#python_or_tensor_args and https://www.tensorflow.org/api_docs/python/tf/function for more details.\n"
     ]
    },
    {
     "name": "stdout",
     "output_type": "stream",
     "text": [
      "WARNING:tensorflow:7 out of the last 13 calls to <function compute_loss at 0x7f13991523b0> triggered tf.function retracing. Tracing is expensive and the excessive number of tracings is likely due to passing python objects instead of tensors. Also, tf.function has experimental_relax_shapes=True option that relaxes argument shapes that can avoid unnecessary retracing. Please refer to https://www.tensorflow.org/tutorials/customization/performance#python_or_tensor_args and https://www.tensorflow.org/api_docs/python/tf/function for more details.\n"
     ]
    },
    {
     "name": "stderr",
     "output_type": "stream",
     "text": [
      "2020-11-03 16:28:03,818 7 out of the last 13 calls to <function compute_loss at 0x7f13991523b0> triggered tf.function retracing. Tracing is expensive and the excessive number of tracings is likely due to passing python objects instead of tensors. Also, tf.function has experimental_relax_shapes=True option that relaxes argument shapes that can avoid unnecessary retracing. Please refer to https://www.tensorflow.org/tutorials/customization/performance#python_or_tensor_args and https://www.tensorflow.org/api_docs/python/tf/function for more details.\n"
     ]
    },
    {
     "name": "stdout",
     "output_type": "stream",
     "text": [
      "WARNING:tensorflow:6 out of the last 11 calls to <function compute_loss at 0x7f13991523b0> triggered tf.function retracing. Tracing is expensive and the excessive number of tracings is likely due to passing python objects instead of tensors. Also, tf.function has experimental_relax_shapes=True option that relaxes argument shapes that can avoid unnecessary retracing. Please refer to https://www.tensorflow.org/tutorials/customization/performance#python_or_tensor_args and https://www.tensorflow.org/api_docs/python/tf/function for more details.\n"
     ]
    },
    {
     "name": "stderr",
     "output_type": "stream",
     "text": [
      "2020-11-03 16:28:03,943 6 out of the last 11 calls to <function compute_loss at 0x7f13991523b0> triggered tf.function retracing. Tracing is expensive and the excessive number of tracings is likely due to passing python objects instead of tensors. Also, tf.function has experimental_relax_shapes=True option that relaxes argument shapes that can avoid unnecessary retracing. Please refer to https://www.tensorflow.org/tutorials/customization/performance#python_or_tensor_args and https://www.tensorflow.org/api_docs/python/tf/function for more details.\n"
     ]
    },
    {
     "name": "stdout",
     "output_type": "stream",
     "text": [
      "WARNING:tensorflow:7 out of the last 13 calls to <function compute_loss at 0x7f13991523b0> triggered tf.function retracing. Tracing is expensive and the excessive number of tracings is likely due to passing python objects instead of tensors. Also, tf.function has experimental_relax_shapes=True option that relaxes argument shapes that can avoid unnecessary retracing. Please refer to https://www.tensorflow.org/tutorials/customization/performance#python_or_tensor_args and https://www.tensorflow.org/api_docs/python/tf/function for more details.\n"
     ]
    },
    {
     "name": "stderr",
     "output_type": "stream",
     "text": [
      "2020-11-03 16:28:04,067 7 out of the last 13 calls to <function compute_loss at 0x7f13991523b0> triggered tf.function retracing. Tracing is expensive and the excessive number of tracings is likely due to passing python objects instead of tensors. Also, tf.function has experimental_relax_shapes=True option that relaxes argument shapes that can avoid unnecessary retracing. Please refer to https://www.tensorflow.org/tutorials/customization/performance#python_or_tensor_args and https://www.tensorflow.org/api_docs/python/tf/function for more details.\n"
     ]
    },
    {
     "name": "stdout",
     "output_type": "stream",
     "text": [
      "WARNING:tensorflow:7 out of the last 11 calls to <function compute_loss at 0x7f13991523b0> triggered tf.function retracing. Tracing is expensive and the excessive number of tracings is likely due to passing python objects instead of tensors. Also, tf.function has experimental_relax_shapes=True option that relaxes argument shapes that can avoid unnecessary retracing. Please refer to https://www.tensorflow.org/tutorials/customization/performance#python_or_tensor_args and https://www.tensorflow.org/api_docs/python/tf/function for more details.\n"
     ]
    },
    {
     "name": "stderr",
     "output_type": "stream",
     "text": [
      "2020-11-03 16:28:04,187 7 out of the last 11 calls to <function compute_loss at 0x7f13991523b0> triggered tf.function retracing. Tracing is expensive and the excessive number of tracings is likely due to passing python objects instead of tensors. Also, tf.function has experimental_relax_shapes=True option that relaxes argument shapes that can avoid unnecessary retracing. Please refer to https://www.tensorflow.org/tutorials/customization/performance#python_or_tensor_args and https://www.tensorflow.org/api_docs/python/tf/function for more details.\n",
      "2020-11-03 16:28:05,397 epoch: 1, train loss: 44.413169860839844, val loss: 51.10897445678711\n",
      "2020-11-03 16:28:10,467 epoch: 2, train loss: 43.411705017089844, val loss: 50.264678955078125\n",
      "2020-11-03 16:28:15,295 epoch: 3, train loss: 42.48542404174805, val loss: 50.13445281982422\n",
      "2020-11-03 16:28:20,025 epoch: 4, train loss: 42.08583068847656, val loss: 50.00396728515625\n",
      "2020-11-03 16:28:24,898 epoch: 5, train loss: 42.03630065917969, val loss: 49.96292495727539\n",
      "2020-11-03 16:28:29,617 epoch: 6, train loss: 41.76601028442383, val loss: 49.904720306396484\n",
      "2020-11-03 16:28:34,508 epoch: 7, train loss: 41.53107452392578, val loss: 49.840415954589844\n",
      "2020-11-03 16:28:39,240 epoch: 8, train loss: 41.119144439697266, val loss: 49.795814514160156\n",
      "2020-11-03 16:28:43,955 epoch: 9, train loss: 40.96396255493164, val loss: 49.769569396972656\n",
      "2020-11-03 16:28:48,709 epoch: 10, train loss: 40.834144592285156, val loss: 49.76390838623047\n",
      "2020-11-03 16:28:53,447 epoch: 11, train loss: 40.68890380859375, val loss: 49.79194641113281\n",
      "2020-11-03 16:28:58,274 epoch: 12, train loss: 40.63375473022461, val loss: 49.97648620605469\n",
      "2020-11-03 16:29:03,035 epoch: 13, train loss: 40.19907760620117, val loss: 49.640445709228516\n",
      "2020-11-03 16:29:07,791 epoch: 14, train loss: 39.64866638183594, val loss: 49.61491012573242\n",
      "2020-11-03 16:29:12,483 epoch: 15, train loss: 39.203643798828125, val loss: 49.54220962524414\n",
      "2020-11-03 16:29:17,193 epoch: 16, train loss: 39.15079879760742, val loss: 49.54003143310547\n",
      "2020-11-03 16:29:21,939 epoch: 17, train loss: 38.86824417114258, val loss: 49.562313079833984\n",
      "2020-11-03 16:29:26,665 epoch: 18, train loss: 38.365970611572266, val loss: 49.50239562988281\n",
      "2020-11-03 16:29:31,358 epoch: 19, train loss: 38.38547134399414, val loss: 49.53479766845703\n",
      "2020-11-03 16:29:36,094 epoch: 20, train loss: 38.08336639404297, val loss: 49.6088981628418\n",
      "2020-11-03 16:29:39,251 normalizing counts for prediction\n",
      "2020-11-03 16:29:39,252 filtering for genes in training set\n",
      "2020-11-03 16:29:39,265 0 genes in training set are missing from prediction set\n",
      "2020-11-03 16:29:39,683 starting batch 1 of 1\n",
      "2020-11-03 16:29:39,745 normalizing counts for prediction\n",
      "2020-11-03 16:29:39,746 filtering for genes in training set\n",
      "2020-11-03 16:29:39,758 0 genes in training set are missing from prediction set\n"
     ]
    },
    {
     "name": "stdout",
     "output_type": "stream",
     "text": [
      "snRNAseq gbm_train_pdac_val (1316, 19891) (15435, 28756)\n"
     ]
    },
    {
     "name": "stderr",
     "output_type": "stream",
     "text": [
      "2020-11-03 16:29:45,347 normalizing the expression counts for model training\n",
      "2020-11-03 16:29:53,959 input dataset shape: (16751, 17904)\n",
      "2020-11-03 16:29:53,961 possible cell types: ['Acinar', 'B cell', 'CD4 T cell', 'CD8 T cell', 'Dendritic', 'Endothelial', 'Epithelial', 'Erythrocyte', 'Fibroblast', 'Islet', 'Malignant', 'Mast', 'Microglia', 'Monocyte', 'NK', 'Neuron', 'Oligodendrocytes', 'Plasma', 'T cells', 'Treg', 'Tuft']\n",
      "2020-11-03 16:29:53,963 possible cell types: [('Malignant', 1200), ('Fibroblast', 1200), ('Endothelial', 1072), ('B cell', 1044), ('Monocyte', 1000), ('Plasma', 1000), ('NK', 1000), ('Dendritic', 1000), ('CD8 T cell', 1000), ('Treg', 1000), ('Acinar', 1000), ('Islet', 1000), ('CD4 T cell', 1000), ('Mast', 1000), ('Epithelial', 968), ('Erythrocyte', 412), ('Neuron', 200), ('Microglia', 200), ('T cells', 200), ('Oligodendrocytes', 200), ('Tuft', 55)]\n",
      "2020-11-03 16:29:59,082 training dataset shape: (8421, 17904)\n",
      "2020-11-03 16:29:59,083 validation dataset shape: (8330, 17904)\n",
      "2020-11-03 16:30:15,471 epoch: 1, train loss: 21.080718994140625, val loss: 40.91148376464844\n",
      "2020-11-03 16:30:30,639 epoch: 2, train loss: 20.387746810913086, val loss: 40.744834899902344\n",
      "2020-11-03 16:30:46,064 epoch: 3, train loss: 20.02892303466797, val loss: 40.675140380859375\n",
      "2020-11-03 16:31:01,253 epoch: 4, train loss: 19.75809669494629, val loss: 40.5638427734375\n",
      "2020-11-03 16:31:16,374 epoch: 5, train loss: 19.57770538330078, val loss: 40.50496292114258\n",
      "2020-11-03 16:31:31,807 epoch: 6, train loss: 19.493480682373047, val loss: 40.630775451660156\n",
      "2020-11-03 16:31:47,089 epoch: 7, train loss: 19.34248924255371, val loss: 40.48680877685547\n",
      "2020-11-03 16:32:02,378 epoch: 8, train loss: 19.270368576049805, val loss: 40.48910140991211\n",
      "2020-11-03 16:32:17,837 epoch: 9, train loss: 19.248640060424805, val loss: 40.57402038574219\n",
      "2020-11-03 16:32:32,958 epoch: 10, train loss: 19.04068946838379, val loss: 40.42283630371094\n",
      "2020-11-03 16:32:48,151 epoch: 11, train loss: 18.898683547973633, val loss: 40.316429138183594\n",
      "2020-11-03 16:33:03,588 epoch: 12, train loss: 18.81342315673828, val loss: 40.350589752197266\n",
      "2020-11-03 16:33:18,898 epoch: 13, train loss: 18.75700569152832, val loss: 40.42912673950195\n",
      "2020-11-03 16:33:34,139 epoch: 14, train loss: 18.621427536010742, val loss: 40.320068359375\n",
      "2020-11-03 16:33:49,501 epoch: 15, train loss: 18.530345916748047, val loss: 40.3868293762207\n",
      "2020-11-03 16:34:04,639 epoch: 16, train loss: 18.623186111450195, val loss: 40.617698669433594\n",
      "2020-11-03 16:34:19,925 epoch: 17, train loss: 18.507396697998047, val loss: 40.58976364135742\n",
      "2020-11-03 16:34:35,002 epoch: 18, train loss: 18.406984329223633, val loss: 40.596153259277344\n",
      "2020-11-03 16:34:50,246 epoch: 19, train loss: 18.210071563720703, val loss: 40.407684326171875\n",
      "2020-11-03 16:35:05,100 epoch: 20, train loss: 18.164276123046875, val loss: 40.66794967651367\n",
      "2020-11-03 16:35:20,177 normalizing counts for prediction\n",
      "2020-11-03 16:35:20,178 filtering for genes in training set\n",
      "2020-11-03 16:35:20,184 0 genes in training set are missing from prediction set\n",
      "2020-11-03 16:35:20,555 starting batch 1 of 2\n",
      "2020-11-03 16:35:20,738 normalizing counts for prediction\n",
      "2020-11-03 16:35:20,739 filtering for genes in training set\n",
      "2020-11-03 16:35:20,745 0 genes in training set are missing from prediction set\n",
      "2020-11-03 16:35:40,953 starting batch 2 of 2\n",
      "2020-11-03 16:35:41,162 normalizing counts for prediction\n",
      "2020-11-03 16:35:41,163 filtering for genes in training set\n",
      "2020-11-03 16:35:41,171 0 genes in training set are missing from prediction set\n"
     ]
    },
    {
     "name": "stdout",
     "output_type": "stream",
     "text": [
      "snRNAseq brca_train_brca_val (2064, 19891) (9490, 29175)\n"
     ]
    },
    {
     "name": "stderr",
     "output_type": "stream",
     "text": [
      "2020-11-03 16:35:53,984 normalizing the expression counts for model training\n",
      "2020-11-03 16:35:59,782 input dataset shape: (11554, 17494)\n",
      "2020-11-03 16:35:59,784 possible cell types: ['Adipocyte', 'B cell', 'CD4 T cell', 'CD8 T cell', 'Dendritic', 'Endothelial', 'Fibroblast', 'Malignant', 'Mast', 'Monocyte', 'NK', 'Plasma', 'Treg']\n",
      "2020-11-03 16:35:59,787 possible cell types: [('B cell', 1200), ('Endothelial', 1200), ('Malignant', 1200), ('Fibroblast', 1200), ('CD8 T cell', 1200), ('CD4 T cell', 1200), ('Treg', 1200), ('Monocyte', 1200), ('Plasma', 1000), ('NK', 482), ('Dendritic', 217), ('Mast', 182), ('Adipocyte', 73)]\n",
      "2020-11-03 16:36:02,585 training dataset shape: (5143, 17494)\n",
      "2020-11-03 16:36:02,586 validation dataset shape: (6411, 17494)\n",
      "2020-11-03 16:36:13,865 epoch: 1, train loss: 26.717819213867188, val loss: 64.1409912109375\n",
      "2020-11-03 16:36:24,178 epoch: 2, train loss: 26.53854751586914, val loss: 63.79296875\n",
      "2020-11-03 16:36:34,460 epoch: 3, train loss: 26.175870895385742, val loss: 63.341670989990234\n",
      "2020-11-03 16:36:44,549 epoch: 4, train loss: 26.16410255432129, val loss: 64.0665512084961\n",
      "2020-11-03 16:36:54,815 epoch: 5, train loss: 25.787904739379883, val loss: 63.038734436035156\n",
      "2020-11-03 16:37:05,209 epoch: 6, train loss: 25.577096939086914, val loss: 63.01543426513672\n",
      "2020-11-03 16:37:15,582 epoch: 7, train loss: 25.40230369567871, val loss: 62.882503509521484\n",
      "2020-11-03 16:37:26,197 epoch: 8, train loss: 25.289026260375977, val loss: 62.77130889892578\n",
      "2020-11-03 16:37:36,692 epoch: 9, train loss: 25.109994888305664, val loss: 62.850379943847656\n",
      "2020-11-03 16:37:47,078 epoch: 10, train loss: 24.925657272338867, val loss: 62.68008041381836\n",
      "2020-11-03 16:37:57,609 epoch: 11, train loss: 24.814992904663086, val loss: 62.5946044921875\n",
      "2020-11-03 16:38:08,175 epoch: 12, train loss: 24.70119857788086, val loss: 62.56683349609375\n",
      "2020-11-03 16:38:18,658 epoch: 13, train loss: 24.6766300201416, val loss: 62.908111572265625\n",
      "2020-11-03 16:38:29,169 epoch: 14, train loss: 24.484460830688477, val loss: 62.56858444213867\n",
      "2020-11-03 16:38:39,628 epoch: 15, train loss: 24.290021896362305, val loss: 62.622337341308594\n",
      "2020-11-03 16:38:50,192 epoch: 16, train loss: 24.144088745117188, val loss: 62.55205535888672\n",
      "2020-11-03 16:39:00,706 epoch: 17, train loss: 23.99723243713379, val loss: 62.733497619628906\n",
      "2020-11-03 16:39:10,982 epoch: 18, train loss: 23.870805740356445, val loss: 62.68826675415039\n",
      "2020-11-03 16:39:21,386 epoch: 19, train loss: 23.678699493408203, val loss: 62.68500900268555\n",
      "2020-11-03 16:39:31,798 epoch: 20, train loss: 23.563091278076172, val loss: 62.6923828125\n",
      "2020-11-03 16:39:41,672 normalizing counts for prediction\n",
      "2020-11-03 16:39:41,673 filtering for genes in training set\n",
      "2020-11-03 16:39:41,682 0 genes in training set are missing from prediction set\n",
      "2020-11-03 16:39:42,180 starting batch 1 of 1\n",
      "2020-11-03 16:39:42,359 normalizing counts for prediction\n",
      "2020-11-03 16:39:42,360 filtering for genes in training set\n",
      "2020-11-03 16:39:42,369 0 genes in training set are missing from prediction set\n"
     ]
    },
    {
     "name": "stdout",
     "output_type": "stream",
     "text": [
      "snRNAseq brca_train_ccrcc_val (2064, 19891) (8605, 33538)\n"
     ]
    },
    {
     "name": "stderr",
     "output_type": "stream",
     "text": [
      "2020-11-03 16:40:04,743 normalizing the expression counts for model training\n",
      "2020-11-03 16:40:10,550 input dataset shape: (10669, 18895)\n",
      "2020-11-03 16:40:10,552 possible cell types: ['B cell', 'CD4 T cell', 'CD8 T cell', 'Dendritic', 'Endothelial', 'Epithelial', 'Fibroblast', 'Malignant', 'Mast', 'Monocyte', 'NK', 'Plasma', 'Treg']\n",
      "2020-11-03 16:40:10,554 possible cell types: [('Endothelial', 1200), ('Malignant', 1200), ('Fibroblast', 1200), ('NK', 1200), ('CD4 T cell', 1200), ('Monocyte', 1200), ('CD8 T cell', 1046), ('Epithelial', 1000), ('Treg', 574), ('Dendritic', 490), ('B cell', 200), ('Plasma', 95), ('Mast', 64)]\n",
      "2020-11-03 16:40:13,274 training dataset shape: (4876, 18895)\n",
      "2020-11-03 16:40:13,275 validation dataset shape: (5793, 18895)\n",
      "2020-11-03 16:40:24,764 epoch: 1, train loss: 25.724599838256836, val loss: 75.06639099121094\n",
      "2020-11-03 16:40:35,123 epoch: 2, train loss: 25.339773178100586, val loss: 73.91915130615234\n",
      "2020-11-03 16:40:45,716 epoch: 3, train loss: 25.066381454467773, val loss: 73.53761291503906\n",
      "2020-11-03 16:40:56,278 epoch: 4, train loss: 24.555709838867188, val loss: 73.4244613647461\n",
      "2020-11-03 16:41:06,838 epoch: 5, train loss: 24.508638381958008, val loss: 73.12071228027344\n",
      "2020-11-03 16:41:17,243 epoch: 6, train loss: 24.38758659362793, val loss: 73.1114273071289\n",
      "2020-11-03 16:41:27,615 epoch: 7, train loss: 24.186912536621094, val loss: 73.16191101074219\n",
      "2020-11-03 16:41:38,085 epoch: 8, train loss: 24.1630802154541, val loss: 72.87336730957031\n",
      "2020-11-03 16:41:48,535 epoch: 9, train loss: 23.90419578552246, val loss: 72.98651885986328\n",
      "2020-11-03 16:41:58,982 epoch: 10, train loss: 23.679351806640625, val loss: 72.71292877197266\n",
      "2020-11-03 16:42:09,335 epoch: 11, train loss: 23.610017776489258, val loss: 72.80694580078125\n",
      "2020-11-03 16:42:19,791 epoch: 12, train loss: 23.647010803222656, val loss: 72.81512451171875\n",
      "2020-11-03 16:42:30,032 epoch: 13, train loss: 23.412029266357422, val loss: 72.61228942871094\n",
      "2020-11-03 16:42:40,604 epoch: 14, train loss: 23.441665649414062, val loss: 72.6644058227539\n",
      "2020-11-03 16:42:51,011 epoch: 15, train loss: 23.480342864990234, val loss: 73.14583587646484\n",
      "2020-11-03 16:43:01,524 epoch: 16, train loss: 23.262527465820312, val loss: 72.61178588867188\n",
      "2020-11-03 16:43:11,898 epoch: 17, train loss: 23.100130081176758, val loss: 73.11569213867188\n",
      "2020-11-03 16:43:22,341 epoch: 18, train loss: 22.828147888183594, val loss: 72.73095703125\n",
      "2020-11-03 16:43:32,795 epoch: 19, train loss: 22.61627769470215, val loss: 72.56488037109375\n",
      "2020-11-03 16:43:43,242 epoch: 20, train loss: 22.70061683654785, val loss: 72.7103271484375\n",
      "2020-11-03 16:43:52,717 normalizing counts for prediction\n",
      "2020-11-03 16:43:52,718 filtering for genes in training set\n",
      "2020-11-03 16:43:52,728 0 genes in training set are missing from prediction set\n",
      "2020-11-03 16:43:53,251 starting batch 1 of 1\n",
      "2020-11-03 16:43:53,430 normalizing counts for prediction\n",
      "2020-11-03 16:43:53,431 filtering for genes in training set\n",
      "2020-11-03 16:43:53,440 0 genes in training set are missing from prediction set\n"
     ]
    },
    {
     "name": "stdout",
     "output_type": "stream",
     "text": [
      "snRNAseq brca_train_gbm_val (2064, 19891) (6810, 29748)\n"
     ]
    },
    {
     "name": "stderr",
     "output_type": "stream",
     "text": [
      "2020-11-03 16:44:14,870 normalizing the expression counts for model training\n",
      "2020-11-03 16:44:19,263 input dataset shape: (8874, 17613)\n",
      "2020-11-03 16:44:19,265 possible cell types: ['B cell', 'CD4 T cell', 'CD8 T cell', 'Dendritic', 'Endothelial', 'Fibroblast', 'Malignant', 'Mast', 'Microglia', 'Monocyte', 'NK', 'Neuron', 'Oligodendrocytes', 'T cells', 'Treg']\n",
      "2020-11-03 16:44:19,266 possible cell types: [('Malignant', 1200), ('Fibroblast', 1200), ('Microglia', 1000), ('Neuron', 1000), ('Oligodendrocytes', 1000), ('T cells', 1000), ('Endothelial', 581), ('B cell', 578), ('Monocyte', 251), ('NK', 200), ('CD8 T cell', 200), ('CD4 T cell', 200), ('Treg', 200), ('Dendritic', 200), ('Mast', 64)]\n",
      "2020-11-03 16:44:21,403 training dataset shape: (4615, 17613)\n",
      "2020-11-03 16:44:21,404 validation dataset shape: (4259, 17613)\n"
     ]
    },
    {
     "name": "stdout",
     "output_type": "stream",
     "text": [
      "WARNING:tensorflow:5 out of the last 81 calls to <function compute_loss at 0x7f13991523b0> triggered tf.function retracing. Tracing is expensive and the excessive number of tracings is likely due to passing python objects instead of tensors. Also, tf.function has experimental_relax_shapes=True option that relaxes argument shapes that can avoid unnecessary retracing. Please refer to https://www.tensorflow.org/tutorials/customization/performance#python_or_tensor_args and https://www.tensorflow.org/api_docs/python/tf/function for more details.\n"
     ]
    },
    {
     "name": "stderr",
     "output_type": "stream",
     "text": [
      "2020-11-03 16:44:29,801 5 out of the last 81 calls to <function compute_loss at 0x7f13991523b0> triggered tf.function retracing. Tracing is expensive and the excessive number of tracings is likely due to passing python objects instead of tensors. Also, tf.function has experimental_relax_shapes=True option that relaxes argument shapes that can avoid unnecessary retracing. Please refer to https://www.tensorflow.org/tutorials/customization/performance#python_or_tensor_args and https://www.tensorflow.org/api_docs/python/tf/function for more details.\n"
     ]
    },
    {
     "name": "stdout",
     "output_type": "stream",
     "text": [
      "WARNING:tensorflow:5 out of the last 11 calls to <function compute_loss at 0x7f13991523b0> triggered tf.function retracing. Tracing is expensive and the excessive number of tracings is likely due to passing python objects instead of tensors. Also, tf.function has experimental_relax_shapes=True option that relaxes argument shapes that can avoid unnecessary retracing. Please refer to https://www.tensorflow.org/tutorials/customization/performance#python_or_tensor_args and https://www.tensorflow.org/api_docs/python/tf/function for more details.\n"
     ]
    },
    {
     "name": "stderr",
     "output_type": "stream",
     "text": [
      "2020-11-03 16:44:29,924 5 out of the last 11 calls to <function compute_loss at 0x7f13991523b0> triggered tf.function retracing. Tracing is expensive and the excessive number of tracings is likely due to passing python objects instead of tensors. Also, tf.function has experimental_relax_shapes=True option that relaxes argument shapes that can avoid unnecessary retracing. Please refer to https://www.tensorflow.org/tutorials/customization/performance#python_or_tensor_args and https://www.tensorflow.org/api_docs/python/tf/function for more details.\n",
      "2020-11-03 16:44:31,944 epoch: 1, train loss: 30.926380157470703, val loss: 70.54362487792969\n",
      "2020-11-03 16:44:41,149 epoch: 2, train loss: 30.269176483154297, val loss: 69.90587615966797\n",
      "2020-11-03 16:44:50,588 epoch: 3, train loss: 29.963459014892578, val loss: 69.78934478759766\n",
      "2020-11-03 16:44:59,993 epoch: 4, train loss: 29.70996856689453, val loss: 69.43177795410156\n",
      "2020-11-03 16:45:09,272 epoch: 5, train loss: 29.68734359741211, val loss: 70.70133972167969\n",
      "2020-11-03 16:45:18,632 epoch: 6, train loss: 29.738431930541992, val loss: 69.20714569091797\n",
      "2020-11-03 16:45:28,154 epoch: 7, train loss: 29.249521255493164, val loss: 69.5277328491211\n",
      "2020-11-03 16:45:37,595 epoch: 8, train loss: 28.83445167541504, val loss: 68.93245697021484\n",
      "2020-11-03 16:45:47,083 epoch: 9, train loss: 28.84370994567871, val loss: 68.99917602539062\n",
      "2020-11-03 16:45:56,481 epoch: 10, train loss: 28.517982482910156, val loss: 68.79180908203125\n",
      "2020-11-03 16:46:05,938 epoch: 11, train loss: 28.343305587768555, val loss: 68.70454406738281\n",
      "2020-11-03 16:46:15,531 epoch: 12, train loss: 28.17400550842285, val loss: 68.73812103271484\n",
      "2020-11-03 16:46:25,058 epoch: 13, train loss: 28.36221694946289, val loss: 68.7327880859375\n",
      "2020-11-03 16:46:34,489 epoch: 14, train loss: 27.989620208740234, val loss: 68.65873718261719\n",
      "2020-11-03 16:46:44,046 epoch: 15, train loss: 28.023174285888672, val loss: 69.5490493774414\n",
      "2020-11-03 16:46:53,488 epoch: 16, train loss: 27.76167106628418, val loss: 68.82417297363281\n",
      "2020-11-03 16:47:02,979 epoch: 17, train loss: 27.71734619140625, val loss: 69.10496520996094\n",
      "2020-11-03 16:47:12,603 epoch: 18, train loss: 27.281925201416016, val loss: 68.61802673339844\n",
      "2020-11-03 16:47:22,208 epoch: 19, train loss: 27.11705780029297, val loss: 68.72909545898438\n",
      "2020-11-03 16:47:31,723 epoch: 20, train loss: 26.888118743896484, val loss: 68.59303283691406\n",
      "2020-11-03 16:47:39,799 normalizing counts for prediction\n",
      "2020-11-03 16:47:39,800 filtering for genes in training set\n",
      "2020-11-03 16:47:39,810 0 genes in training set are missing from prediction set\n",
      "2020-11-03 16:47:40,303 starting batch 1 of 1\n",
      "2020-11-03 16:47:40,463 normalizing counts for prediction\n",
      "2020-11-03 16:47:40,464 filtering for genes in training set\n",
      "2020-11-03 16:47:40,473 0 genes in training set are missing from prediction set\n"
     ]
    },
    {
     "name": "stdout",
     "output_type": "stream",
     "text": [
      "snRNAseq gbm_train_brca_val (1316, 19891) (9490, 29175)\n"
     ]
    },
    {
     "name": "stderr",
     "output_type": "stream",
     "text": [
      "2020-11-03 16:47:58,182 normalizing the expression counts for model training\n",
      "2020-11-03 16:48:03,488 input dataset shape: (10806, 17494)\n",
      "2020-11-03 16:48:03,490 possible cell types: ['Adipocyte', 'B cell', 'CD4 T cell', 'CD8 T cell', 'Dendritic', 'Endothelial', 'Fibroblast', 'Malignant', 'Mast', 'Microglia', 'Monocyte', 'NK', 'Neuron', 'Oligodendrocytes', 'Plasma', 'T cells', 'Treg']\n",
      "2020-11-03 16:48:03,492 possible cell types: [('Malignant', 1200), ('Fibroblast', 1200), ('Endothelial', 1072), ('B cell', 1044), ('CD4 T cell', 1000), ('Monocyte', 1000), ('CD8 T cell', 1000), ('Treg', 1000), ('Plasma', 1000), ('NK', 282), ('Neuron', 200), ('Microglia', 200), ('T cells', 200), ('Oligodendrocytes', 200), ('Mast', 118), ('Adipocyte', 73), ('Dendritic', 17)]\n",
      "2020-11-03 16:48:06,423 training dataset shape: (5469, 17494)\n",
      "2020-11-03 16:48:06,424 validation dataset shape: (5337, 17494)\n"
     ]
    },
    {
     "name": "stdout",
     "output_type": "stream",
     "text": [
      "WARNING:tensorflow:5 out of the last 13 calls to <function compute_loss at 0x7f13991523b0> triggered tf.function retracing. Tracing is expensive and the excessive number of tracings is likely due to passing python objects instead of tensors. Also, tf.function has experimental_relax_shapes=True option that relaxes argument shapes that can avoid unnecessary retracing. Please refer to https://www.tensorflow.org/tutorials/customization/performance#python_or_tensor_args and https://www.tensorflow.org/api_docs/python/tf/function for more details.\n"
     ]
    },
    {
     "name": "stderr",
     "output_type": "stream",
     "text": [
      "2020-11-03 16:48:16,320 5 out of the last 13 calls to <function compute_loss at 0x7f13991523b0> triggered tf.function retracing. Tracing is expensive and the excessive number of tracings is likely due to passing python objects instead of tensors. Also, tf.function has experimental_relax_shapes=True option that relaxes argument shapes that can avoid unnecessary retracing. Please refer to https://www.tensorflow.org/tutorials/customization/performance#python_or_tensor_args and https://www.tensorflow.org/api_docs/python/tf/function for more details.\n",
      "2020-11-03 16:48:18,497 epoch: 1, train loss: 28.335813522338867, val loss: 39.663787841796875\n",
      "2020-11-03 16:48:29,023 epoch: 2, train loss: 28.073688507080078, val loss: 39.51173782348633\n",
      "2020-11-03 16:48:39,661 epoch: 3, train loss: 27.82869529724121, val loss: 39.36353302001953\n",
      "2020-11-03 16:48:50,474 epoch: 4, train loss: 27.52652931213379, val loss: 39.44798278808594\n",
      "2020-11-03 16:49:01,186 epoch: 5, train loss: 27.240171432495117, val loss: 39.37934112548828\n",
      "2020-11-03 16:49:12,049 epoch: 6, train loss: 27.030092239379883, val loss: 39.30927658081055\n",
      "2020-11-03 16:49:22,806 epoch: 7, train loss: 26.92110252380371, val loss: 39.32647705078125\n",
      "2020-11-03 16:49:33,628 epoch: 8, train loss: 26.8380184173584, val loss: 39.27808380126953\n",
      "2020-11-03 16:49:44,554 epoch: 9, train loss: 26.645490646362305, val loss: 39.290802001953125\n",
      "2020-11-03 16:49:55,357 epoch: 10, train loss: 26.51740837097168, val loss: 39.417503356933594\n",
      "2020-11-03 16:50:06,223 epoch: 11, train loss: 26.250267028808594, val loss: 39.14848327636719\n",
      "2020-11-03 16:50:17,063 epoch: 12, train loss: 26.2001895904541, val loss: 39.182533264160156\n",
      "2020-11-03 16:50:28,438 epoch: 13, train loss: 26.088239669799805, val loss: 39.30168914794922\n",
      "2020-11-03 16:50:39,582 epoch: 14, train loss: 26.032175064086914, val loss: 39.22187423706055\n",
      "2020-11-03 16:50:50,673 epoch: 15, train loss: 25.905202865600586, val loss: 39.39093017578125\n",
      "2020-11-03 16:51:01,731 epoch: 16, train loss: 25.801485061645508, val loss: 39.69154739379883\n",
      "2020-11-03 16:51:12,720 epoch: 17, train loss: 25.454992294311523, val loss: 39.13201141357422\n",
      "2020-11-03 16:51:23,747 epoch: 18, train loss: 25.323108673095703, val loss: 39.12038803100586\n",
      "2020-11-03 16:51:34,811 epoch: 19, train loss: 25.387067794799805, val loss: 39.175716400146484\n",
      "2020-11-03 16:51:45,919 epoch: 20, train loss: 25.208263397216797, val loss: 39.223297119140625\n",
      "2020-11-03 16:51:55,690 normalizing counts for prediction\n",
      "2020-11-03 16:51:55,691 filtering for genes in training set\n",
      "2020-11-03 16:51:55,703 0 genes in training set are missing from prediction set\n",
      "2020-11-03 16:51:56,207 starting batch 1 of 1\n",
      "2020-11-03 16:51:56,391 normalizing counts for prediction\n",
      "2020-11-03 16:51:56,392 filtering for genes in training set\n",
      "2020-11-03 16:51:56,400 0 genes in training set are missing from prediction set\n"
     ]
    },
    {
     "name": "stdout",
     "output_type": "stream",
     "text": [
      "snRNAseq gbm_train_ccrcc_val (1316, 19891) (8605, 33538)\n"
     ]
    },
    {
     "name": "stderr",
     "output_type": "stream",
     "text": [
      "2020-11-03 16:52:18,458 normalizing the expression counts for model training\n",
      "2020-11-03 16:52:23,857 input dataset shape: (9921, 18895)\n",
      "2020-11-03 16:52:23,859 possible cell types: ['B cell', 'CD4 T cell', 'CD8 T cell', 'Dendritic', 'Endothelial', 'Epithelial', 'Fibroblast', 'Malignant', 'Microglia', 'Monocyte', 'NK', 'Neuron', 'Oligodendrocytes', 'Plasma', 'T cells', 'Treg']\n",
      "2020-11-03 16:52:23,861 possible cell types: [('Malignant', 1200), ('Fibroblast', 1200), ('Endothelial', 1072), ('Monocyte', 1000), ('NK', 1000), ('CD4 T cell', 1000), ('Epithelial', 1000), ('CD8 T cell', 846), ('Treg', 374), ('Dendritic', 290), ('Neuron', 200), ('Microglia', 200), ('T cells', 200), ('Oligodendrocytes', 200), ('Plasma', 95), ('B cell', 44)]\n",
      "2020-11-03 16:52:26,373 training dataset shape: (5167, 18895)\n",
      "2020-11-03 16:52:26,374 validation dataset shape: (4754, 18895)\n"
     ]
    },
    {
     "name": "stdout",
     "output_type": "stream",
     "text": [
      "WARNING:tensorflow:5 out of the last 86 calls to <function compute_loss at 0x7f13991523b0> triggered tf.function retracing. Tracing is expensive and the excessive number of tracings is likely due to passing python objects instead of tensors. Also, tf.function has experimental_relax_shapes=True option that relaxes argument shapes that can avoid unnecessary retracing. Please refer to https://www.tensorflow.org/tutorials/customization/performance#python_or_tensor_args and https://www.tensorflow.org/api_docs/python/tf/function for more details.\n"
     ]
    },
    {
     "name": "stderr",
     "output_type": "stream",
     "text": [
      "2020-11-03 16:52:36,319 5 out of the last 86 calls to <function compute_loss at 0x7f13991523b0> triggered tf.function retracing. Tracing is expensive and the excessive number of tracings is likely due to passing python objects instead of tensors. Also, tf.function has experimental_relax_shapes=True option that relaxes argument shapes that can avoid unnecessary retracing. Please refer to https://www.tensorflow.org/tutorials/customization/performance#python_or_tensor_args and https://www.tensorflow.org/api_docs/python/tf/function for more details.\n",
      "2020-11-03 16:52:38,618 epoch: 1, train loss: 26.56262969970703, val loss: 50.70489501953125\n",
      "2020-11-03 16:52:49,401 epoch: 2, train loss: 26.28961944580078, val loss: 50.435646057128906\n",
      "2020-11-03 16:53:00,408 epoch: 3, train loss: 25.77785301208496, val loss: 50.2794303894043\n",
      "2020-11-03 16:53:11,451 epoch: 4, train loss: 25.470720291137695, val loss: 50.129302978515625\n",
      "2020-11-03 16:53:22,585 epoch: 5, train loss: 25.32710075378418, val loss: 50.14179992675781\n",
      "2020-11-03 16:53:33,426 epoch: 6, train loss: 25.216947555541992, val loss: 50.02375411987305\n",
      "2020-11-03 16:53:44,369 epoch: 7, train loss: 25.059349060058594, val loss: 49.93948745727539\n",
      "2020-11-03 16:53:55,269 epoch: 8, train loss: 24.87225341796875, val loss: 49.87827682495117\n",
      "2020-11-03 16:54:06,212 epoch: 9, train loss: 24.744489669799805, val loss: 49.863826751708984\n",
      "2020-11-03 16:54:17,151 epoch: 10, train loss: 24.648958206176758, val loss: 49.9808235168457\n",
      "2020-11-03 16:54:28,105 epoch: 11, train loss: 24.461483001708984, val loss: 49.833614349365234\n",
      "2020-11-03 16:54:39,064 epoch: 12, train loss: 24.359302520751953, val loss: 49.877655029296875\n",
      "2020-11-03 16:54:50,036 epoch: 13, train loss: 24.211729049682617, val loss: 49.75876235961914\n",
      "2020-11-03 16:55:00,940 epoch: 14, train loss: 24.228443145751953, val loss: 50.32925033569336\n",
      "2020-11-03 16:55:11,898 epoch: 15, train loss: 24.007335662841797, val loss: 49.84455871582031\n",
      "2020-11-03 16:55:22,836 epoch: 16, train loss: 23.829355239868164, val loss: 49.955299377441406\n",
      "2020-11-03 16:55:33,794 epoch: 17, train loss: 23.613874435424805, val loss: 49.909080505371094\n",
      "2020-11-03 16:55:44,797 epoch: 18, train loss: 23.445236206054688, val loss: 49.889251708984375\n",
      "2020-11-03 16:55:55,829 epoch: 19, train loss: 23.31092071533203, val loss: 49.89242172241211\n",
      "2020-11-03 16:56:06,944 epoch: 20, train loss: 23.168853759765625, val loss: 50.12331771850586\n",
      "2020-11-03 16:56:16,186 normalizing counts for prediction\n",
      "2020-11-03 16:56:16,187 filtering for genes in training set\n",
      "2020-11-03 16:56:16,197 0 genes in training set are missing from prediction set\n",
      "2020-11-03 16:56:16,596 starting batch 1 of 1\n",
      "2020-11-03 16:56:16,712 normalizing counts for prediction\n",
      "2020-11-03 16:56:16,713 filtering for genes in training set\n",
      "2020-11-03 16:56:16,721 0 genes in training set are missing from prediction set\n"
     ]
    },
    {
     "name": "stdout",
     "output_type": "stream",
     "text": [
      "snRNAseq gbm_train_gbm_val (1316, 19891) (6810, 29748)\n"
     ]
    },
    {
     "name": "stderr",
     "output_type": "stream",
     "text": [
      "2020-11-03 16:56:37,669 normalizing the expression counts for model training\n",
      "2020-11-03 16:56:41,782 input dataset shape: (8126, 17613)\n",
      "2020-11-03 16:56:41,783 possible cell types: ['B cell', 'Endothelial', 'Fibroblast', 'Malignant', 'Microglia', 'Monocyte', 'Neuron', 'Oligodendrocytes', 'T cells']\n",
      "2020-11-03 16:56:41,785 possible cell types: [('Malignant', 1200), ('Fibroblast', 1200), ('Neuron', 1200), ('Microglia', 1200), ('T cells', 1200), ('Oligodendrocytes', 1200), ('Endothelial', 453), ('B cell', 422), ('Monocyte', 51)]\n",
      "2020-11-03 16:56:43,517 training dataset shape: (3567, 17613)\n",
      "2020-11-03 16:56:43,519 validation dataset shape: (4559, 17613)\n",
      "2020-11-03 16:56:51,654 epoch: 1, train loss: 31.452207565307617, val loss: 42.747493743896484\n",
      "2020-11-03 16:56:58,967 epoch: 2, train loss: 30.36213493347168, val loss: 41.8216552734375\n",
      "2020-11-03 16:57:06,214 epoch: 3, train loss: 30.054365158081055, val loss: 41.75782012939453\n",
      "2020-11-03 16:57:13,407 epoch: 4, train loss: 29.663301467895508, val loss: 41.62189483642578\n",
      "2020-11-03 16:57:20,653 epoch: 5, train loss: 29.38844108581543, val loss: 41.6207389831543\n",
      "2020-11-03 16:57:27,898 epoch: 6, train loss: 29.190425872802734, val loss: 41.596229553222656\n",
      "2020-11-03 16:57:35,102 epoch: 7, train loss: 28.907041549682617, val loss: 41.60251998901367\n",
      "2020-11-03 16:57:42,320 epoch: 8, train loss: 28.64208984375, val loss: 41.479583740234375\n",
      "2020-11-03 16:57:49,528 epoch: 9, train loss: 28.60467529296875, val loss: 41.71221923828125\n",
      "2020-11-03 16:57:56,833 epoch: 10, train loss: 28.27035903930664, val loss: 41.469970703125\n",
      "2020-11-03 16:58:04,093 epoch: 11, train loss: 28.24689292907715, val loss: 41.70781326293945\n",
      "2020-11-03 16:58:11,323 epoch: 12, train loss: 28.127519607543945, val loss: 41.461708068847656\n",
      "2020-11-03 16:58:18,552 epoch: 13, train loss: 27.917980194091797, val loss: 41.466041564941406\n",
      "2020-11-03 16:58:25,801 epoch: 14, train loss: 27.638259887695312, val loss: 41.381568908691406\n",
      "2020-11-03 16:58:33,018 epoch: 15, train loss: 27.459123611450195, val loss: 41.50231170654297\n",
      "2020-11-03 16:58:40,221 epoch: 16, train loss: 27.534282684326172, val loss: 41.671905517578125\n",
      "2020-11-03 16:58:47,447 epoch: 17, train loss: 27.519987106323242, val loss: 41.51934814453125\n",
      "2020-11-03 16:58:54,696 epoch: 18, train loss: 27.280378341674805, val loss: 41.603553771972656\n",
      "2020-11-03 16:59:02,034 epoch: 19, train loss: 26.999889373779297, val loss: 41.738277435302734\n",
      "2020-11-03 16:59:09,294 epoch: 20, train loss: 26.847003936767578, val loss: 41.518070220947266\n",
      "2020-11-03 16:59:16,290 normalizing counts for prediction\n",
      "2020-11-03 16:59:16,291 filtering for genes in training set\n",
      "2020-11-03 16:59:16,301 0 genes in training set are missing from prediction set\n",
      "2020-11-03 16:59:16,795 starting batch 1 of 1\n",
      "2020-11-03 16:59:16,930 normalizing counts for prediction\n",
      "2020-11-03 16:59:16,931 filtering for genes in training set\n",
      "2020-11-03 16:59:16,940 0 genes in training set are missing from prediction set\n"
     ]
    },
    {
     "name": "stdout",
     "output_type": "stream",
     "text": [
      "snRNAseq brca_train_brca_val (2455, 29175) (11253, 27131)\n"
     ]
    },
    {
     "name": "stderr",
     "output_type": "stream",
     "text": [
      "2020-11-03 16:59:34,446 normalizing the expression counts for model training\n",
      "2020-11-03 16:59:44,463 input dataset shape: (13708, 25674)\n",
      "2020-11-03 16:59:44,465 possible cell types: ['Adipocyte', 'B cell', 'CD4 T cell', 'CD8 T cell', 'Dendritic', 'Endothelial', 'Erythrocyte', 'Fibroblast', 'Malignant', 'Mast', 'Monocyte', 'NK', 'Plasma', 'Treg']\n",
      "2020-11-03 16:59:44,467 possible cell types: [('CD4 T cell', 1200), ('Treg', 1200), ('Endothelial', 1200), ('Malignant', 1200), ('NK', 1200), ('B cell', 1200), ('Monocyte', 1200), ('Fibroblast', 1200), ('CD8 T cell', 1200), ('Plasma', 1200), ('Mast', 746), ('Dendritic', 447), ('Erythrocyte', 315), ('Adipocyte', 200)]\n",
      "2020-11-03 16:59:48,720 training dataset shape: (6131, 25674)\n",
      "2020-11-03 16:59:48,721 validation dataset shape: (7577, 25674)\n",
      "2020-11-03 17:00:05,205 epoch: 1, train loss: 31.34288787841797, val loss: 51.92230224609375\n",
      "2020-11-03 17:00:20,683 epoch: 2, train loss: 30.811159133911133, val loss: 51.163177490234375\n",
      "2020-11-03 17:00:36,365 epoch: 3, train loss: 30.337936401367188, val loss: 50.5632209777832\n",
      "2020-11-03 17:00:52,143 epoch: 4, train loss: 29.92628288269043, val loss: 50.25192642211914\n",
      "2020-11-03 17:01:08,062 epoch: 5, train loss: 29.670568466186523, val loss: 50.01251983642578\n",
      "2020-11-03 17:01:23,755 epoch: 6, train loss: 29.471466064453125, val loss: 49.87836837768555\n",
      "2020-11-03 17:01:39,741 epoch: 7, train loss: 29.29700469970703, val loss: 49.72293472290039\n",
      "2020-11-03 17:01:55,176 epoch: 8, train loss: 29.1414852142334, val loss: 49.65172576904297\n",
      "2020-11-03 17:02:10,932 epoch: 9, train loss: 29.00319480895996, val loss: 49.56666564941406\n",
      "2020-11-03 17:02:26,625 epoch: 10, train loss: 28.882944107055664, val loss: 49.4901008605957\n",
      "2020-11-03 17:02:42,443 epoch: 11, train loss: 28.771652221679688, val loss: 49.45484161376953\n",
      "2020-11-03 17:02:58,347 epoch: 12, train loss: 28.647798538208008, val loss: 49.39816665649414\n",
      "2020-11-03 17:03:14,528 epoch: 13, train loss: 28.535722732543945, val loss: 49.365867614746094\n",
      "2020-11-03 17:03:30,708 epoch: 14, train loss: 28.43037223815918, val loss: 49.3248291015625\n",
      "2020-11-03 17:03:46,715 epoch: 15, train loss: 28.33759307861328, val loss: 49.30293273925781\n",
      "2020-11-03 17:04:02,625 epoch: 16, train loss: 28.224349975585938, val loss: 49.30663299560547\n",
      "2020-11-03 17:04:18,659 epoch: 17, train loss: 28.133028030395508, val loss: 49.306602478027344\n",
      "2020-11-03 17:04:34,508 epoch: 18, train loss: 28.01422882080078, val loss: 49.332305908203125\n",
      "2020-11-03 17:04:50,522 epoch: 19, train loss: 27.90009117126465, val loss: 49.36171340942383\n",
      "2020-11-03 17:05:06,479 epoch: 20, train loss: 27.778717041015625, val loss: 49.39226531982422\n",
      "2020-11-03 17:05:20,515 normalizing counts for prediction\n",
      "2020-11-03 17:05:20,516 filtering for genes in training set\n",
      "2020-11-03 17:05:20,526 0 genes in training set are missing from prediction set\n",
      "2020-11-03 17:05:21,101 starting batch 1 of 2\n",
      "2020-11-03 17:05:21,355 normalizing counts for prediction\n",
      "2020-11-03 17:05:21,356 filtering for genes in training set\n",
      "2020-11-03 17:05:21,363 0 genes in training set are missing from prediction set\n",
      "2020-11-03 17:05:44,771 starting batch 2 of 2\n",
      "2020-11-03 17:05:44,914 normalizing counts for prediction\n",
      "2020-11-03 17:05:44,915 filtering for genes in training set\n",
      "2020-11-03 17:05:44,926 0 genes in training set are missing from prediction set\n"
     ]
    },
    {
     "name": "stdout",
     "output_type": "stream",
     "text": [
      "snRNAseq brca_train_cesc_val (2455, 29175) (8449, 22928)\n"
     ]
    },
    {
     "name": "stderr",
     "output_type": "stream",
     "text": [
      "2020-11-03 17:05:50,595 normalizing the expression counts for model training\n",
      "2020-11-03 17:05:57,481 input dataset shape: (10904, 22001)\n",
      "2020-11-03 17:05:57,483 possible cell types: ['Adipocyte', 'B cell', 'CD4 T cell', 'CD8 T cell', 'Dendritic', 'Endothelial', 'Epithelial', 'Erythrocyte', 'Fibroblast', 'Malignant', 'Mast', 'Monocyte', 'NK', 'Plasma', 'Treg']\n",
      "2020-11-03 17:05:57,485 possible cell types: [('Malignant', 1200), ('NK', 1200), ('Monocyte', 1200), ('Fibroblast', 1200), ('CD8 T cell', 1200), ('Plasma', 1135), ('CD4 T cell', 1118), ('Epithelial', 1000), ('Endothelial', 732), ('Mast', 249), ('Treg', 200), ('Adipocyte', 200), ('B cell', 200), ('Dendritic', 55), ('Erythrocyte', 15)]\n",
      "2020-11-03 17:06:00,597 training dataset shape: (5203, 22001)\n",
      "2020-11-03 17:06:00,598 validation dataset shape: (5701, 22001)\n"
     ]
    },
    {
     "name": "stdout",
     "output_type": "stream",
     "text": [
      "WARNING:tensorflow:5 out of the last 13 calls to <function compute_loss at 0x7f13991523b0> triggered tf.function retracing. Tracing is expensive and the excessive number of tracings is likely due to passing python objects instead of tensors. Also, tf.function has experimental_relax_shapes=True option that relaxes argument shapes that can avoid unnecessary retracing. Please refer to https://www.tensorflow.org/tutorials/customization/performance#python_or_tensor_args and https://www.tensorflow.org/api_docs/python/tf/function for more details.\n"
     ]
    },
    {
     "name": "stderr",
     "output_type": "stream",
     "text": [
      "2020-11-03 17:06:11,602 5 out of the last 13 calls to <function compute_loss at 0x7f13991523b0> triggered tf.function retracing. Tracing is expensive and the excessive number of tracings is likely due to passing python objects instead of tensors. Also, tf.function has experimental_relax_shapes=True option that relaxes argument shapes that can avoid unnecessary retracing. Please refer to https://www.tensorflow.org/tutorials/customization/performance#python_or_tensor_args and https://www.tensorflow.org/api_docs/python/tf/function for more details.\n"
     ]
    },
    {
     "name": "stdout",
     "output_type": "stream",
     "text": [
      "WARNING:tensorflow:5 out of the last 15 calls to <function compute_loss at 0x7f13991523b0> triggered tf.function retracing. Tracing is expensive and the excessive number of tracings is likely due to passing python objects instead of tensors. Also, tf.function has experimental_relax_shapes=True option that relaxes argument shapes that can avoid unnecessary retracing. Please refer to https://www.tensorflow.org/tutorials/customization/performance#python_or_tensor_args and https://www.tensorflow.org/api_docs/python/tf/function for more details.\n"
     ]
    },
    {
     "name": "stderr",
     "output_type": "stream",
     "text": [
      "2020-11-03 17:06:11,912 5 out of the last 15 calls to <function compute_loss at 0x7f13991523b0> triggered tf.function retracing. Tracing is expensive and the excessive number of tracings is likely due to passing python objects instead of tensors. Also, tf.function has experimental_relax_shapes=True option that relaxes argument shapes that can avoid unnecessary retracing. Please refer to https://www.tensorflow.org/tutorials/customization/performance#python_or_tensor_args and https://www.tensorflow.org/api_docs/python/tf/function for more details.\n",
      "2020-11-03 17:06:13,741 epoch: 1, train loss: 33.40736770629883, val loss: 39.75957489013672\n",
      "2020-11-03 17:06:25,790 epoch: 2, train loss: 32.67723846435547, val loss: 38.8954963684082\n",
      "2020-11-03 17:06:37,854 epoch: 3, train loss: 32.04677200317383, val loss: 38.36486053466797\n",
      "2020-11-03 17:06:49,913 epoch: 4, train loss: 31.65525245666504, val loss: 38.138641357421875\n",
      "2020-11-03 17:07:02,097 epoch: 5, train loss: 31.384477615356445, val loss: 37.97853088378906\n",
      "2020-11-03 17:07:14,325 epoch: 6, train loss: 31.103424072265625, val loss: 37.834739685058594\n",
      "2020-11-03 17:07:26,607 epoch: 7, train loss: 30.97300148010254, val loss: 37.710899353027344\n",
      "2020-11-03 17:07:38,825 epoch: 8, train loss: 30.882028579711914, val loss: 37.62214660644531\n",
      "2020-11-03 17:07:51,047 epoch: 9, train loss: 30.7054443359375, val loss: 37.558135986328125\n",
      "2020-11-03 17:08:03,099 epoch: 10, train loss: 30.585439682006836, val loss: 37.53123474121094\n",
      "2020-11-03 17:08:15,614 epoch: 11, train loss: 30.464277267456055, val loss: 37.49293899536133\n",
      "2020-11-03 17:08:27,778 epoch: 12, train loss: 30.378427505493164, val loss: 37.4453125\n",
      "2020-11-03 17:08:40,072 epoch: 13, train loss: 30.253211975097656, val loss: 37.41138458251953\n",
      "2020-11-03 17:08:52,337 epoch: 14, train loss: 30.112485885620117, val loss: 37.3643798828125\n",
      "2020-11-03 17:09:04,725 epoch: 15, train loss: 30.03886604309082, val loss: 37.33623504638672\n",
      "2020-11-03 17:09:16,992 epoch: 16, train loss: 29.961559295654297, val loss: 37.29313659667969\n",
      "2020-11-03 17:09:29,479 epoch: 17, train loss: 29.836971282958984, val loss: 37.26167297363281\n",
      "2020-11-03 17:09:41,858 epoch: 18, train loss: 29.74931526184082, val loss: 37.23480224609375\n",
      "2020-11-03 17:09:54,202 epoch: 19, train loss: 29.665197372436523, val loss: 37.20859909057617\n",
      "2020-11-03 17:10:06,371 epoch: 20, train loss: 29.550682067871094, val loss: 37.20439910888672\n",
      "2020-11-03 17:10:16,816 normalizing counts for prediction\n",
      "2020-11-03 17:10:16,817 filtering for genes in training set\n",
      "2020-11-03 17:10:16,824 0 genes in training set are missing from prediction set\n",
      "2020-11-03 17:10:17,226 starting batch 1 of 1\n",
      "2020-11-03 17:10:17,337 normalizing counts for prediction\n",
      "2020-11-03 17:10:17,338 filtering for genes in training set\n",
      "2020-11-03 17:10:17,345 0 genes in training set are missing from prediction set\n"
     ]
    },
    {
     "name": "stdout",
     "output_type": "stream",
     "text": [
      "snRNAseq brca_train_hnscc_val (2455, 29175) (10288, 26929)\n"
     ]
    },
    {
     "name": "stderr",
     "output_type": "stream",
     "text": [
      "2020-11-03 17:10:44,475 normalizing the expression counts for model training\n",
      "2020-11-03 17:10:53,581 input dataset shape: (12743, 25299)\n",
      "2020-11-03 17:10:53,583 possible cell types: ['Adipocyte', 'B cell', 'CD4 T cell', 'CD8 T cell', 'Dendritic', 'Endothelial', 'Erythrocyte', 'Fibroblast', 'Malignant', 'Mast', 'Monocyte', 'NK', 'Plasma', 'Treg']\n",
      "2020-11-03 17:10:53,585 possible cell types: [('CD4 T cell', 1200), ('Treg', 1200), ('Endothelial', 1200), ('Malignant', 1200), ('NK', 1200), ('B cell', 1200), ('Mast', 1200), ('Monocyte', 1200), ('CD8 T cell', 1200), ('Plasma', 1200), ('Erythrocyte', 288), ('Adipocyte', 200), ('Fibroblast', 200), ('Dendritic', 55)]\n",
      "2020-11-03 17:10:57,945 training dataset shape: (5553, 25299)\n",
      "2020-11-03 17:10:57,946 validation dataset shape: (7190, 25299)\n"
     ]
    },
    {
     "name": "stdout",
     "output_type": "stream",
     "text": [
      "WARNING:tensorflow:5 out of the last 13 calls to <function compute_loss at 0x7f13991523b0> triggered tf.function retracing. Tracing is expensive and the excessive number of tracings is likely due to passing python objects instead of tensors. Also, tf.function has experimental_relax_shapes=True option that relaxes argument shapes that can avoid unnecessary retracing. Please refer to https://www.tensorflow.org/tutorials/customization/performance#python_or_tensor_args and https://www.tensorflow.org/api_docs/python/tf/function for more details.\n"
     ]
    },
    {
     "name": "stderr",
     "output_type": "stream",
     "text": [
      "2020-11-03 17:11:11,526 5 out of the last 13 calls to <function compute_loss at 0x7f13991523b0> triggered tf.function retracing. Tracing is expensive and the excessive number of tracings is likely due to passing python objects instead of tensors. Also, tf.function has experimental_relax_shapes=True option that relaxes argument shapes that can avoid unnecessary retracing. Please refer to https://www.tensorflow.org/tutorials/customization/performance#python_or_tensor_args and https://www.tensorflow.org/api_docs/python/tf/function for more details.\n",
      "2020-11-03 17:11:13,467 epoch: 1, train loss: 29.571866989135742, val loss: 43.53791809082031\n",
      "2020-11-03 17:11:27,734 epoch: 2, train loss: 28.977537155151367, val loss: 42.6842041015625\n",
      "2020-11-03 17:11:41,935 epoch: 3, train loss: 28.510984420776367, val loss: 42.15034484863281\n",
      "2020-11-03 17:11:56,180 epoch: 4, train loss: 28.204927444458008, val loss: 41.826416015625\n",
      "2020-11-03 17:12:10,595 epoch: 5, train loss: 27.96969223022461, val loss: 41.54962158203125\n",
      "2020-11-03 17:12:25,430 epoch: 6, train loss: 27.782686233520508, val loss: 41.411231994628906\n",
      "2020-11-03 17:12:40,209 epoch: 7, train loss: 27.61900520324707, val loss: 41.3003044128418\n",
      "2020-11-03 17:12:54,829 epoch: 8, train loss: 27.497421264648438, val loss: 41.18946075439453\n",
      "2020-11-03 17:13:09,372 epoch: 9, train loss: 27.361536026000977, val loss: 41.11563491821289\n",
      "2020-11-03 17:13:24,216 epoch: 10, train loss: 27.27233123779297, val loss: 41.071292877197266\n",
      "2020-11-03 17:13:38,982 epoch: 11, train loss: 27.160476684570312, val loss: 41.01228332519531\n",
      "2020-11-03 17:13:53,714 epoch: 12, train loss: 27.067598342895508, val loss: 40.97303771972656\n",
      "2020-11-03 17:14:08,575 epoch: 13, train loss: 26.950315475463867, val loss: 40.92624282836914\n",
      "2020-11-03 17:14:23,288 epoch: 14, train loss: 26.85762596130371, val loss: 40.88136291503906\n",
      "2020-11-03 17:14:37,969 epoch: 15, train loss: 26.771066665649414, val loss: 40.87297821044922\n",
      "2020-11-03 17:14:52,794 epoch: 16, train loss: 26.67694854736328, val loss: 40.82878112792969\n",
      "2020-11-03 17:15:07,685 epoch: 17, train loss: 26.58919334411621, val loss: 40.82099151611328\n",
      "2020-11-03 17:15:22,288 epoch: 18, train loss: 26.499784469604492, val loss: 40.80340576171875\n",
      "2020-11-03 17:15:37,116 epoch: 19, train loss: 26.413192749023438, val loss: 40.773040771484375\n",
      "2020-11-03 17:15:51,692 epoch: 20, train loss: 26.31962013244629, val loss: 40.76581573486328\n",
      "2020-11-03 17:16:04,868 normalizing counts for prediction\n",
      "2020-11-03 17:16:04,869 filtering for genes in training set\n",
      "2020-11-03 17:16:04,881 0 genes in training set are missing from prediction set\n",
      "2020-11-03 17:16:05,361 starting batch 1 of 2\n",
      "2020-11-03 17:16:05,551 normalizing counts for prediction\n",
      "2020-11-03 17:16:05,552 filtering for genes in training set\n",
      "2020-11-03 17:16:05,562 0 genes in training set are missing from prediction set\n",
      "2020-11-03 17:16:31,573 starting batch 2 of 2\n",
      "2020-11-03 17:16:31,694 normalizing counts for prediction\n",
      "2020-11-03 17:16:31,695 filtering for genes in training set\n",
      "2020-11-03 17:16:31,707 0 genes in training set are missing from prediction set\n"
     ]
    },
    {
     "name": "stdout",
     "output_type": "stream",
     "text": [
      "snRNAseq brca_train_melanoma_val (2455, 29175) (6735, 23452)\n"
     ]
    },
    {
     "name": "stderr",
     "output_type": "stream",
     "text": [
      "2020-11-03 17:16:34,327 normalizing the expression counts for model training\n",
      "2020-11-03 17:16:39,819 input dataset shape: (9190, 21018)\n",
      "2020-11-03 17:16:39,821 possible cell types: ['Adipocyte', 'B cell', 'CD4 T cell', 'CD8 T cell', 'Dendritic', 'Endothelial', 'Fibroblast', 'Malignant', 'Mast', 'Monocyte', 'NK', 'Plasma', 'Treg']\n",
      "2020-11-03 17:16:39,823 possible cell types: [('CD4 T cell', 1200), ('Malignant', 1200), ('B cell', 1200), ('Monocyte', 1200), ('CD8 T cell', 1200), ('Treg', 862), ('Dendritic', 596), ('NK', 538), ('Fibroblast', 321), ('Plasma', 273), ('Endothelial', 200), ('Adipocyte', 200), ('Mast', 200)]\n",
      "2020-11-03 17:16:42,127 training dataset shape: (4473, 21018)\n",
      "2020-11-03 17:16:42,128 validation dataset shape: (4717, 21018)\n",
      "2020-11-03 17:16:52,818 epoch: 1, train loss: 33.07181930541992, val loss: 53.37400817871094\n",
      "2020-11-03 17:17:02,695 epoch: 2, train loss: 32.421756744384766, val loss: 52.26659393310547\n",
      "2020-11-03 17:17:12,387 epoch: 3, train loss: 31.865184783935547, val loss: 51.69183349609375\n",
      "2020-11-03 17:17:22,344 epoch: 4, train loss: 31.42194175720215, val loss: 51.36215591430664\n",
      "2020-11-03 17:17:32,216 epoch: 5, train loss: 31.052309036254883, val loss: 51.055660247802734\n",
      "2020-11-03 17:17:42,053 epoch: 6, train loss: 30.812551498413086, val loss: 50.910484313964844\n",
      "2020-11-03 17:17:51,896 epoch: 7, train loss: 30.598098754882812, val loss: 50.77766036987305\n",
      "2020-11-03 17:18:01,814 epoch: 8, train loss: 30.434141159057617, val loss: 50.659515380859375\n",
      "2020-11-03 17:18:11,754 epoch: 9, train loss: 30.291996002197266, val loss: 50.552589416503906\n",
      "2020-11-03 17:18:21,550 epoch: 10, train loss: 30.166109085083008, val loss: 50.50397872924805\n",
      "2020-11-03 17:18:31,597 epoch: 11, train loss: 30.045026779174805, val loss: 50.43832778930664\n",
      "2020-11-03 17:18:41,546 epoch: 12, train loss: 29.91803550720215, val loss: 50.39501190185547\n",
      "2020-11-03 17:18:51,392 epoch: 13, train loss: 29.789377212524414, val loss: 50.322845458984375\n",
      "2020-11-03 17:19:01,231 epoch: 14, train loss: 29.673755645751953, val loss: 50.300994873046875\n",
      "2020-11-03 17:19:11,133 epoch: 15, train loss: 29.54296875, val loss: 50.25835418701172\n",
      "2020-11-03 17:19:21,171 epoch: 16, train loss: 29.403648376464844, val loss: 50.24455261230469\n",
      "2020-11-03 17:19:31,146 epoch: 17, train loss: 29.26972007751465, val loss: 50.21508026123047\n",
      "2020-11-03 17:19:41,056 epoch: 18, train loss: 29.13974952697754, val loss: 50.22667694091797\n",
      "2020-11-03 17:19:50,970 epoch: 19, train loss: 29.006155014038086, val loss: 50.26604461669922\n",
      "2020-11-03 17:20:00,804 epoch: 20, train loss: 28.860790252685547, val loss: 50.29546356201172\n",
      "2020-11-03 17:20:09,842 normalizing counts for prediction\n",
      "2020-11-03 17:20:09,843 filtering for genes in training set\n",
      "2020-11-03 17:20:09,854 0 genes in training set are missing from prediction set\n",
      "2020-11-03 17:20:10,389 starting batch 1 of 1\n",
      "2020-11-03 17:20:10,509 normalizing counts for prediction\n",
      "2020-11-03 17:20:10,510 filtering for genes in training set\n",
      "2020-11-03 17:20:10,521 0 genes in training set are missing from prediction set\n"
     ]
    },
    {
     "name": "stdout",
     "output_type": "stream",
     "text": [
      "snRNAseq brca_train_pbmc_val (2455, 29175) (1698, 32738)\n"
     ]
    },
    {
     "name": "stderr",
     "output_type": "stream",
     "text": [
      "2020-11-03 17:20:23,531 normalizing the expression counts for model training\n",
      "2020-11-03 17:20:25,745 input dataset shape: (4153, 18731)\n",
      "2020-11-03 17:20:25,746 possible cell types: ['Adipocyte', 'B cell', 'CD4 T cell', 'CD8 T cell', 'Dendritic', 'Endothelial', 'Fibroblast', 'Malignant', 'Mast', 'Megakaryocyte', 'Monocyte', 'NK', 'Plasma', 'Treg']\n",
      "2020-11-03 17:20:25,748 possible cell types: [('CD4 T cell', 1143), ('Monocyte', 634), ('B cell', 341), ('CD8 T cell', 306), ('NK', 263), ('Treg', 200), ('Endothelial', 200), ('Malignant', 200), ('Adipocyte', 200), ('Mast', 200), ('Fibroblast', 200), ('Plasma', 200), ('Dendritic', 63), ('Megakaryocyte', 3)]\n",
      "2020-11-03 17:20:26,623 training dataset shape: (2748, 18731)\n",
      "2020-11-03 17:20:26,624 validation dataset shape: (1405, 18731)\n"
     ]
    },
    {
     "name": "stdout",
     "output_type": "stream",
     "text": [
      "WARNING:tensorflow:5 out of the last 18 calls to <function compute_loss at 0x7f13991523b0> triggered tf.function retracing. Tracing is expensive and the excessive number of tracings is likely due to passing python objects instead of tensors. Also, tf.function has experimental_relax_shapes=True option that relaxes argument shapes that can avoid unnecessary retracing. Please refer to https://www.tensorflow.org/tutorials/customization/performance#python_or_tensor_args and https://www.tensorflow.org/api_docs/python/tf/function for more details.\n"
     ]
    },
    {
     "name": "stderr",
     "output_type": "stream",
     "text": [
      "2020-11-03 17:20:32,839 5 out of the last 18 calls to <function compute_loss at 0x7f13991523b0> triggered tf.function retracing. Tracing is expensive and the excessive number of tracings is likely due to passing python objects instead of tensors. Also, tf.function has experimental_relax_shapes=True option that relaxes argument shapes that can avoid unnecessary retracing. Please refer to https://www.tensorflow.org/tutorials/customization/performance#python_or_tensor_args and https://www.tensorflow.org/api_docs/python/tf/function for more details.\n"
     ]
    },
    {
     "name": "stdout",
     "output_type": "stream",
     "text": [
      "WARNING:tensorflow:6 out of the last 19 calls to <function compute_loss at 0x7f13991523b0> triggered tf.function retracing. Tracing is expensive and the excessive number of tracings is likely due to passing python objects instead of tensors. Also, tf.function has experimental_relax_shapes=True option that relaxes argument shapes that can avoid unnecessary retracing. Please refer to https://www.tensorflow.org/tutorials/customization/performance#python_or_tensor_args and https://www.tensorflow.org/api_docs/python/tf/function for more details.\n"
     ]
    },
    {
     "name": "stderr",
     "output_type": "stream",
     "text": [
      "2020-11-03 17:20:32,929 6 out of the last 19 calls to <function compute_loss at 0x7f13991523b0> triggered tf.function retracing. Tracing is expensive and the excessive number of tracings is likely due to passing python objects instead of tensors. Also, tf.function has experimental_relax_shapes=True option that relaxes argument shapes that can avoid unnecessary retracing. Please refer to https://www.tensorflow.org/tutorials/customization/performance#python_or_tensor_args and https://www.tensorflow.org/api_docs/python/tf/function for more details.\n"
     ]
    },
    {
     "name": "stdout",
     "output_type": "stream",
     "text": [
      "WARNING:tensorflow:6 out of the last 11 calls to <function compute_loss at 0x7f13991523b0> triggered tf.function retracing. Tracing is expensive and the excessive number of tracings is likely due to passing python objects instead of tensors. Also, tf.function has experimental_relax_shapes=True option that relaxes argument shapes that can avoid unnecessary retracing. Please refer to https://www.tensorflow.org/tutorials/customization/performance#python_or_tensor_args and https://www.tensorflow.org/api_docs/python/tf/function for more details.\n"
     ]
    },
    {
     "name": "stderr",
     "output_type": "stream",
     "text": [
      "2020-11-03 17:20:33,036 6 out of the last 11 calls to <function compute_loss at 0x7f13991523b0> triggered tf.function retracing. Tracing is expensive and the excessive number of tracings is likely due to passing python objects instead of tensors. Also, tf.function has experimental_relax_shapes=True option that relaxes argument shapes that can avoid unnecessary retracing. Please refer to https://www.tensorflow.org/tutorials/customization/performance#python_or_tensor_args and https://www.tensorflow.org/api_docs/python/tf/function for more details.\n",
      "2020-11-03 17:20:34,233 epoch: 1, train loss: 36.99061584472656, val loss: 45.09469985961914\n",
      "2020-11-03 17:20:40,520 epoch: 2, train loss: 35.850852966308594, val loss: 44.658424377441406\n",
      "2020-11-03 17:20:46,802 epoch: 3, train loss: 35.36565399169922, val loss: 44.37563705444336\n",
      "2020-11-03 17:20:53,023 epoch: 4, train loss: 34.936363220214844, val loss: 43.845977783203125\n",
      "2020-11-03 17:20:59,289 epoch: 5, train loss: 34.70332717895508, val loss: 43.690147399902344\n",
      "2020-11-03 17:21:05,549 epoch: 6, train loss: 34.418861389160156, val loss: 43.58226776123047\n",
      "2020-11-03 17:21:11,806 epoch: 7, train loss: 34.07508850097656, val loss: 43.42890930175781\n",
      "2020-11-03 17:21:18,110 epoch: 8, train loss: 33.857364654541016, val loss: 43.30356216430664\n",
      "2020-11-03 17:21:24,437 epoch: 9, train loss: 33.70014572143555, val loss: 43.1934700012207\n",
      "2020-11-03 17:21:30,691 epoch: 10, train loss: 33.58942794799805, val loss: 43.14922332763672\n",
      "2020-11-03 17:21:36,971 epoch: 11, train loss: 33.45989990234375, val loss: 43.094970703125\n",
      "2020-11-03 17:21:43,292 epoch: 12, train loss: 33.3546142578125, val loss: 43.054100036621094\n",
      "2020-11-03 17:21:49,491 epoch: 13, train loss: 33.21574401855469, val loss: 43.00120544433594\n",
      "2020-11-03 17:21:55,842 epoch: 14, train loss: 33.096519470214844, val loss: 42.943511962890625\n",
      "2020-11-03 17:22:02,090 epoch: 15, train loss: 32.974491119384766, val loss: 42.89981460571289\n",
      "2020-11-03 17:22:08,398 epoch: 16, train loss: 32.853782653808594, val loss: 42.86115264892578\n",
      "2020-11-03 17:22:15,009 epoch: 17, train loss: 32.73843002319336, val loss: 42.833740234375\n",
      "2020-11-03 17:22:21,423 epoch: 18, train loss: 32.62059020996094, val loss: 42.82497024536133\n",
      "2020-11-03 17:22:27,802 epoch: 19, train loss: 32.49674606323242, val loss: 42.79887008666992\n",
      "2020-11-03 17:22:34,173 epoch: 20, train loss: 32.388023376464844, val loss: 42.78833770751953\n",
      "2020-11-03 17:22:38,749 normalizing counts for prediction\n",
      "2020-11-03 17:22:38,750 filtering for genes in training set\n",
      "2020-11-03 17:22:38,759 0 genes in training set are missing from prediction set\n",
      "2020-11-03 17:22:39,281 starting batch 1 of 1\n",
      "2020-11-03 17:22:39,352 normalizing counts for prediction\n",
      "2020-11-03 17:22:39,353 filtering for genes in training set\n",
      "2020-11-03 17:22:39,363 0 genes in training set are missing from prediction set\n"
     ]
    },
    {
     "name": "stdout",
     "output_type": "stream",
     "text": [
      "snRNAseq brca_train_pdac_val (2455, 29175) (15435, 28756)\n"
     ]
    },
    {
     "name": "stderr",
     "output_type": "stream",
     "text": [
      "2020-11-03 17:22:45,625 normalizing the expression counts for model training\n",
      "2020-11-03 17:22:59,049 input dataset shape: (17890, 26783)\n",
      "2020-11-03 17:22:59,051 possible cell types: ['Acinar', 'Adipocyte', 'B cell', 'CD4 T cell', 'CD8 T cell', 'Dendritic', 'Endothelial', 'Epithelial', 'Erythrocyte', 'Fibroblast', 'Islet', 'Malignant', 'Mast', 'Monocyte', 'NK', 'Plasma', 'Treg', 'Tuft']\n",
      "2020-11-03 17:22:59,054 possible cell types: [('CD4 T cell', 1200), ('Treg', 1200), ('Endothelial', 1200), ('Malignant', 1200), ('NK', 1200), ('B cell', 1200), ('Mast', 1200), ('Monocyte', 1200), ('Fibroblast', 1200), ('CD8 T cell', 1200), ('Plasma', 1200), ('Dendritic', 1055), ('Acinar', 1000), ('Islet', 1000), ('Epithelial', 968), ('Erythrocyte', 412), ('Adipocyte', 200), ('Tuft', 55)]\n",
      "2020-11-03 17:23:05,362 training dataset shape: (7956, 26783)\n",
      "2020-11-03 17:23:05,363 validation dataset shape: (9934, 26783)\n",
      "2020-11-03 17:23:27,600 epoch: 1, train loss: 27.639474868774414, val loss: 44.517738342285156\n",
      "2020-11-03 17:23:49,024 epoch: 2, train loss: 26.732542037963867, val loss: 43.90087890625\n",
      "2020-11-03 17:24:10,190 epoch: 3, train loss: 26.24311637878418, val loss: 43.36237335205078\n",
      "2020-11-03 17:24:31,616 epoch: 4, train loss: 25.965717315673828, val loss: 43.11525344848633\n",
      "2020-11-03 17:24:53,143 epoch: 5, train loss: 25.777023315429688, val loss: 42.917633056640625\n",
      "2020-11-03 17:25:14,168 epoch: 6, train loss: 25.620019912719727, val loss: 42.78654479980469\n",
      "2020-11-03 17:25:35,339 epoch: 7, train loss: 25.446149826049805, val loss: 42.690155029296875\n",
      "2020-11-03 17:25:56,544 epoch: 8, train loss: 25.336563110351562, val loss: 42.58551788330078\n",
      "2020-11-03 17:26:17,775 epoch: 9, train loss: 25.217334747314453, val loss: 42.53315734863281\n",
      "2020-11-03 17:26:38,895 epoch: 10, train loss: 25.13048553466797, val loss: 42.47908020019531\n",
      "2020-11-03 17:27:00,089 epoch: 11, train loss: 25.04460334777832, val loss: 42.43914031982422\n",
      "2020-11-03 17:27:21,315 epoch: 12, train loss: 24.947031021118164, val loss: 42.383365631103516\n",
      "2020-11-03 17:27:42,781 epoch: 13, train loss: 24.868438720703125, val loss: 42.318763732910156\n",
      "2020-11-03 17:28:04,123 epoch: 14, train loss: 24.79915428161621, val loss: 42.2733154296875\n",
      "2020-11-03 17:28:25,527 epoch: 15, train loss: 24.71951675415039, val loss: 42.26938247680664\n",
      "2020-11-03 17:28:46,951 epoch: 16, train loss: 24.638813018798828, val loss: 42.22458267211914\n",
      "2020-11-03 17:29:08,600 epoch: 17, train loss: 24.587154388427734, val loss: 42.211952209472656\n",
      "2020-11-03 17:29:30,169 epoch: 18, train loss: 24.522666931152344, val loss: 42.211875915527344\n",
      "2020-11-03 17:29:51,601 epoch: 19, train loss: 24.43845558166504, val loss: 42.19068145751953\n",
      "2020-11-03 17:30:13,171 epoch: 20, train loss: 24.336151123046875, val loss: 42.19047164916992\n",
      "2020-11-03 17:30:31,843 normalizing counts for prediction\n",
      "2020-11-03 17:30:31,844 filtering for genes in training set\n",
      "2020-11-03 17:30:31,852 0 genes in training set are missing from prediction set\n",
      "2020-11-03 17:30:32,330 starting batch 1 of 2\n",
      "2020-11-03 17:30:32,553 normalizing counts for prediction\n",
      "2020-11-03 17:30:32,554 filtering for genes in training set\n",
      "2020-11-03 17:30:32,563 0 genes in training set are missing from prediction set\n",
      "2020-11-03 17:30:57,940 starting batch 2 of 2\n",
      "2020-11-03 17:30:58,171 normalizing counts for prediction\n",
      "2020-11-03 17:30:58,172 filtering for genes in training set\n",
      "2020-11-03 17:30:58,183 0 genes in training set are missing from prediction set\n"
     ]
    },
    {
     "name": "stdout",
     "output_type": "stream",
     "text": [
      "snRNAseq ccrcc_train_brca_val (2113, 33538) (11253, 27131)\n"
     ]
    },
    {
     "name": "stderr",
     "output_type": "stream",
     "text": [
      "2020-11-03 17:31:13,985 normalizing the expression counts for model training\n",
      "2020-11-03 17:31:24,291 input dataset shape: (13366, 27131)\n",
      "2020-11-03 17:31:24,293 possible cell types: ['B cell', 'CD4 T cell', 'CD8 T cell', 'Dendritic', 'Endothelial', 'Epithelial', 'Erythrocyte', 'Fibroblast', 'Malignant', 'Mast', 'Monocyte', 'NK', 'Plasma', 'Treg']\n",
      "2020-11-03 17:31:24,295 possible cell types: [('Endothelial', 1200), ('Malignant', 1200), ('NK', 1200), ('Fibroblast', 1200), ('Monocyte', 1200), ('CD8 T cell', 1200), ('Treg', 1200), ('CD4 T cell', 1200), ('Plasma', 1113), ('B cell', 1000), ('Dendritic', 592), ('Mast', 546), ('Erythrocyte', 315), ('Epithelial', 200)]\n",
      "2020-11-03 17:31:28,476 training dataset shape: (5974, 27131)\n",
      "2020-11-03 17:31:28,477 validation dataset shape: (7392, 27131)\n",
      "2020-11-03 17:31:45,502 epoch: 1, train loss: 30.73352813720703, val loss: 56.238380432128906\n",
      "2020-11-03 17:32:01,855 epoch: 2, train loss: 30.271930694580078, val loss: 55.377994537353516\n",
      "2020-11-03 17:32:18,242 epoch: 3, train loss: 29.75231170654297, val loss: 54.50218963623047\n",
      "2020-11-03 17:32:34,412 epoch: 4, train loss: 29.395469665527344, val loss: 53.893646240234375\n",
      "2020-11-03 17:32:50,594 epoch: 5, train loss: 29.159330368041992, val loss: 53.56697463989258\n",
      "2020-11-03 17:33:07,128 epoch: 6, train loss: 28.988582611083984, val loss: 53.328792572021484\n",
      "2020-11-03 17:33:23,478 epoch: 7, train loss: 28.75827407836914, val loss: 53.06987762451172\n",
      "2020-11-03 17:33:39,850 epoch: 8, train loss: 28.620342254638672, val loss: 52.87760925292969\n",
      "2020-11-03 17:33:56,222 epoch: 9, train loss: 28.47469711303711, val loss: 52.66472625732422\n",
      "2020-11-03 17:34:12,367 epoch: 10, train loss: 28.356658935546875, val loss: 52.52204895019531\n",
      "2020-11-03 17:34:28,587 epoch: 11, train loss: 28.194969177246094, val loss: 52.33113098144531\n",
      "2020-11-03 17:34:44,999 epoch: 12, train loss: 28.091928482055664, val loss: 52.29377365112305\n",
      "2020-11-03 17:35:01,758 epoch: 13, train loss: 27.992998123168945, val loss: 52.209190368652344\n",
      "2020-11-03 17:35:18,367 epoch: 14, train loss: 27.88018226623535, val loss: 52.22755432128906\n",
      "2020-11-03 17:35:35,280 epoch: 15, train loss: 27.7744140625, val loss: 52.20037078857422\n",
      "2020-11-03 17:35:52,077 epoch: 16, train loss: 27.709218978881836, val loss: 52.17612838745117\n",
      "2020-11-03 17:36:08,688 epoch: 17, train loss: 27.59410285949707, val loss: 52.18947982788086\n",
      "2020-11-03 17:36:25,559 epoch: 18, train loss: 27.504409790039062, val loss: 52.183250427246094\n",
      "2020-11-03 17:36:42,281 epoch: 19, train loss: 27.368207931518555, val loss: 52.18125915527344\n",
      "2020-11-03 17:36:59,014 epoch: 20, train loss: 27.273740768432617, val loss: 52.2183952331543\n",
      "2020-11-03 17:37:13,135 normalizing counts for prediction\n",
      "2020-11-03 17:37:13,136 filtering for genes in training set\n",
      "2020-11-03 17:37:13,146 0 genes in training set are missing from prediction set\n",
      "2020-11-03 17:37:13,635 starting batch 1 of 2\n",
      "2020-11-03 17:37:14,682 normalizing counts for prediction\n",
      "2020-11-03 17:37:14,683 filtering for genes in training set\n",
      "2020-11-03 17:37:14,693 0 genes in training set are missing from prediction set\n",
      "2020-11-03 17:37:38,355 starting batch 2 of 2\n",
      "2020-11-03 17:37:38,496 normalizing counts for prediction\n",
      "2020-11-03 17:37:38,497 filtering for genes in training set\n",
      "2020-11-03 17:37:38,508 0 genes in training set are missing from prediction set\n"
     ]
    },
    {
     "name": "stdout",
     "output_type": "stream",
     "text": [
      "snRNAseq ccrcc_train_cesc_val (2113, 33538) (8449, 22928)\n"
     ]
    },
    {
     "name": "stderr",
     "output_type": "stream",
     "text": [
      "2020-11-03 17:37:44,343 normalizing the expression counts for model training\n",
      "2020-11-03 17:37:51,242 input dataset shape: (10562, 22919)\n",
      "2020-11-03 17:37:51,244 possible cell types: ['CD4 T cell', 'CD8 T cell', 'Dendritic', 'Endothelial', 'Epithelial', 'Erythrocyte', 'Fibroblast', 'Malignant', 'Mast', 'Monocyte', 'NK', 'Plasma', 'Treg']\n",
      "2020-11-03 17:37:51,245 possible cell types: [('Malignant', 1200), ('NK', 1200), ('Fibroblast', 1200), ('Monocyte', 1200), ('CD8 T cell', 1200), ('Epithelial', 1200), ('CD4 T cell', 1118), ('Plasma', 1048), ('Endothelial', 732), ('Dendritic', 200), ('Treg', 200), ('Mast', 49), ('Erythrocyte', 15)]\n",
      "2020-11-03 17:37:54,432 training dataset shape: (4857, 22919)\n",
      "2020-11-03 17:37:54,433 validation dataset shape: (5705, 22919)\n"
     ]
    },
    {
     "name": "stdout",
     "output_type": "stream",
     "text": [
      "WARNING:tensorflow:5 out of the last 13 calls to <function compute_loss at 0x7f13991523b0> triggered tf.function retracing. Tracing is expensive and the excessive number of tracings is likely due to passing python objects instead of tensors. Also, tf.function has experimental_relax_shapes=True option that relaxes argument shapes that can avoid unnecessary retracing. Please refer to https://www.tensorflow.org/tutorials/customization/performance#python_or_tensor_args and https://www.tensorflow.org/api_docs/python/tf/function for more details.\n"
     ]
    },
    {
     "name": "stderr",
     "output_type": "stream",
     "text": [
      "2020-11-03 17:38:06,066 5 out of the last 13 calls to <function compute_loss at 0x7f13991523b0> triggered tf.function retracing. Tracing is expensive and the excessive number of tracings is likely due to passing python objects instead of tensors. Also, tf.function has experimental_relax_shapes=True option that relaxes argument shapes that can avoid unnecessary retracing. Please refer to https://www.tensorflow.org/tutorials/customization/performance#python_or_tensor_args and https://www.tensorflow.org/api_docs/python/tf/function for more details.\n",
      "2020-11-03 17:38:07,378 epoch: 1, train loss: 33.077545166015625, val loss: 41.215389251708984\n",
      "2020-11-03 17:38:19,230 epoch: 2, train loss: 32.10014724731445, val loss: 39.9678955078125\n",
      "2020-11-03 17:38:31,256 epoch: 3, train loss: 31.500370025634766, val loss: 39.08140563964844\n",
      "2020-11-03 17:38:43,026 epoch: 4, train loss: 31.044784545898438, val loss: 38.54410171508789\n",
      "2020-11-03 17:38:54,903 epoch: 5, train loss: 30.765178680419922, val loss: 38.209617614746094\n",
      "2020-11-03 17:39:06,706 epoch: 6, train loss: 30.582799911499023, val loss: 37.959442138671875\n",
      "2020-11-03 17:39:18,526 epoch: 7, train loss: 30.44816780090332, val loss: 37.81174850463867\n",
      "2020-11-03 17:39:30,251 epoch: 8, train loss: 30.319059371948242, val loss: 37.674739837646484\n",
      "2020-11-03 17:39:42,074 epoch: 9, train loss: 30.1704158782959, val loss: 37.54902267456055\n",
      "2020-11-03 17:39:53,781 epoch: 10, train loss: 30.033903121948242, val loss: 37.447105407714844\n",
      "2020-11-03 17:40:05,567 epoch: 11, train loss: 29.911531448364258, val loss: 37.336509704589844\n",
      "2020-11-03 17:40:17,348 epoch: 12, train loss: 29.793737411499023, val loss: 37.265357971191406\n",
      "2020-11-03 17:40:29,144 epoch: 13, train loss: 29.68061637878418, val loss: 37.18669891357422\n",
      "2020-11-03 17:40:40,907 epoch: 14, train loss: 29.580989837646484, val loss: 37.159271240234375\n",
      "2020-11-03 17:40:52,730 epoch: 15, train loss: 29.474098205566406, val loss: 37.11273956298828\n",
      "2020-11-03 17:41:04,563 epoch: 16, train loss: 29.373620986938477, val loss: 37.0894889831543\n",
      "2020-11-03 17:41:16,205 epoch: 17, train loss: 29.27692222595215, val loss: 37.07419204711914\n",
      "2020-11-03 17:41:28,267 epoch: 18, train loss: 29.16204833984375, val loss: 37.06670379638672\n",
      "2020-11-03 17:41:39,939 epoch: 19, train loss: 29.079416275024414, val loss: 37.04374313354492\n",
      "2020-11-03 17:41:51,839 epoch: 20, train loss: 28.968664169311523, val loss: 37.043212890625\n",
      "2020-11-03 17:42:02,417 normalizing counts for prediction\n",
      "2020-11-03 17:42:02,418 filtering for genes in training set\n",
      "2020-11-03 17:42:02,432 0 genes in training set are missing from prediction set\n",
      "2020-11-03 17:42:02,979 starting batch 1 of 1\n",
      "2020-11-03 17:42:03,144 normalizing counts for prediction\n",
      "2020-11-03 17:42:03,144 filtering for genes in training set\n",
      "2020-11-03 17:42:03,152 0 genes in training set are missing from prediction set\n"
     ]
    },
    {
     "name": "stdout",
     "output_type": "stream",
     "text": [
      "snRNAseq ccrcc_train_hnscc_val (2113, 33538) (10288, 26929)\n"
     ]
    },
    {
     "name": "stderr",
     "output_type": "stream",
     "text": [
      "2020-11-03 17:42:30,058 normalizing the expression counts for model training\n",
      "2020-11-03 17:42:39,528 input dataset shape: (12401, 26918)\n",
      "2020-11-03 17:42:39,530 possible cell types: ['B cell', 'CD4 T cell', 'CD8 T cell', 'Dendritic', 'Endothelial', 'Epithelial', 'Erythrocyte', 'Fibroblast', 'Malignant', 'Mast', 'Monocyte', 'NK', 'Plasma', 'Treg']\n",
      "2020-11-03 17:42:39,532 possible cell types: [('Endothelial', 1200), ('Malignant', 1200), ('NK', 1200), ('Monocyte', 1200), ('CD8 T cell', 1200), ('Treg', 1200), ('CD4 T cell', 1200), ('Plasma', 1113), ('B cell', 1000), ('Mast', 1000), ('Erythrocyte', 288), ('Fibroblast', 200), ('Dendritic', 200), ('Epithelial', 200)]\n",
      "2020-11-03 17:42:43,536 training dataset shape: (5655, 26918)\n",
      "2020-11-03 17:42:43,537 validation dataset shape: (6746, 26918)\n",
      "2020-11-03 17:42:59,478 epoch: 1, train loss: 28.516225814819336, val loss: 46.44199752807617\n",
      "2020-11-03 17:43:14,275 epoch: 2, train loss: 27.908416748046875, val loss: 45.607303619384766\n",
      "2020-11-03 17:43:29,471 epoch: 3, train loss: 27.447839736938477, val loss: 44.75214385986328\n",
      "2020-11-03 17:43:44,620 epoch: 4, train loss: 27.16294288635254, val loss: 44.215492248535156\n",
      "2020-11-03 17:43:59,758 epoch: 5, train loss: 26.960968017578125, val loss: 43.85824203491211\n",
      "2020-11-03 17:44:14,764 epoch: 6, train loss: 26.77653694152832, val loss: 43.62025451660156\n",
      "2020-11-03 17:44:29,833 epoch: 7, train loss: 26.577903747558594, val loss: 43.39590072631836\n",
      "2020-11-03 17:44:44,847 epoch: 8, train loss: 26.370939254760742, val loss: 43.18840026855469\n",
      "2020-11-03 17:45:00,520 epoch: 9, train loss: 26.285858154296875, val loss: 43.061614990234375\n",
      "2020-11-03 17:45:15,720 epoch: 10, train loss: 26.164344787597656, val loss: 42.95721435546875\n",
      "2020-11-03 17:45:31,055 epoch: 11, train loss: 26.115257263183594, val loss: 42.898170471191406\n",
      "2020-11-03 17:45:46,616 epoch: 12, train loss: 25.95574378967285, val loss: 42.84453201293945\n",
      "2020-11-03 17:46:02,172 epoch: 13, train loss: 25.892627716064453, val loss: 42.838592529296875\n",
      "2020-11-03 17:46:17,616 epoch: 14, train loss: 25.797452926635742, val loss: 42.827796936035156\n",
      "2020-11-03 17:46:33,024 epoch: 15, train loss: 25.668270111083984, val loss: 42.77103042602539\n",
      "2020-11-03 17:46:48,280 epoch: 16, train loss: 25.639892578125, val loss: 42.78742218017578\n",
      "2020-11-03 17:47:03,791 epoch: 17, train loss: 25.496450424194336, val loss: 42.7574348449707\n",
      "2020-11-03 17:47:18,929 epoch: 18, train loss: 25.430763244628906, val loss: 42.738380432128906\n",
      "2020-11-03 17:47:34,277 epoch: 19, train loss: 25.355405807495117, val loss: 42.716468811035156\n",
      "2020-11-03 17:47:49,845 epoch: 20, train loss: 25.30820083618164, val loss: 42.74502182006836\n",
      "2020-11-03 17:48:03,118 normalizing counts for prediction\n",
      "2020-11-03 17:48:03,119 filtering for genes in training set\n",
      "2020-11-03 17:48:03,127 0 genes in training set are missing from prediction set\n",
      "2020-11-03 17:48:03,618 starting batch 1 of 2\n",
      "2020-11-03 17:48:03,814 normalizing counts for prediction\n",
      "2020-11-03 17:48:03,814 filtering for genes in training set\n",
      "2020-11-03 17:48:03,831 0 genes in training set are missing from prediction set\n",
      "2020-11-03 17:48:31,448 starting batch 2 of 2\n",
      "2020-11-03 17:48:31,570 normalizing counts for prediction\n",
      "2020-11-03 17:48:31,571 filtering for genes in training set\n",
      "2020-11-03 17:48:31,581 0 genes in training set are missing from prediction set\n"
     ]
    },
    {
     "name": "stdout",
     "output_type": "stream",
     "text": [
      "snRNAseq ccrcc_train_melanoma_val (2113, 33538) (6735, 23452)\n"
     ]
    },
    {
     "name": "stderr",
     "output_type": "stream",
     "text": [
      "2020-11-03 17:48:34,276 normalizing the expression counts for model training\n",
      "2020-11-03 17:48:39,883 input dataset shape: (8848, 21975)\n",
      "2020-11-03 17:48:39,884 possible cell types: ['B cell', 'CD4 T cell', 'CD8 T cell', 'Dendritic', 'Endothelial', 'Epithelial', 'Fibroblast', 'Malignant', 'Monocyte', 'NK', 'Plasma', 'Treg']\n",
      "2020-11-03 17:48:39,886 possible cell types: [('Malignant', 1200), ('Monocyte', 1200), ('CD8 T cell', 1200), ('CD4 T cell', 1200), ('B cell', 1000), ('Treg', 862), ('Dendritic', 741), ('NK', 538), ('Fibroblast', 321), ('Endothelial', 200), ('Epithelial', 200), ('Plasma', 186)]\n",
      "2020-11-03 17:48:42,023 training dataset shape: (4462, 21975)\n",
      "2020-11-03 17:48:42,024 validation dataset shape: (4386, 21975)\n",
      "2020-11-03 17:48:53,259 epoch: 1, train loss: 31.64928436279297, val loss: 49.50714874267578\n",
      "2020-11-03 17:49:03,561 epoch: 2, train loss: 31.106340408325195, val loss: 48.60068893432617\n",
      "2020-11-03 17:49:13,934 epoch: 3, train loss: 30.543949127197266, val loss: 47.93339538574219\n",
      "2020-11-03 17:49:24,143 epoch: 4, train loss: 30.071805953979492, val loss: 47.31053161621094\n",
      "2020-11-03 17:49:34,437 epoch: 5, train loss: 29.730030059814453, val loss: 46.76201629638672\n",
      "2020-11-03 17:49:44,716 epoch: 6, train loss: 29.531015396118164, val loss: 46.58085632324219\n",
      "2020-11-03 17:49:54,959 epoch: 7, train loss: 29.35845375061035, val loss: 46.44007110595703\n",
      "2020-11-03 17:50:05,271 epoch: 8, train loss: 29.190820693969727, val loss: 46.29561996459961\n",
      "2020-11-03 17:50:15,566 epoch: 9, train loss: 29.014562606811523, val loss: 46.10577392578125\n",
      "2020-11-03 17:50:25,911 epoch: 10, train loss: 28.84174919128418, val loss: 46.01588439941406\n",
      "2020-11-03 17:50:36,158 epoch: 11, train loss: 28.70162010192871, val loss: 45.93408203125\n",
      "2020-11-03 17:50:46,518 epoch: 12, train loss: 28.596778869628906, val loss: 45.89577102661133\n",
      "2020-11-03 17:50:56,920 epoch: 13, train loss: 28.463544845581055, val loss: 45.83746337890625\n",
      "2020-11-03 17:51:07,270 epoch: 14, train loss: 28.328353881835938, val loss: 45.820594787597656\n",
      "2020-11-03 17:51:17,668 epoch: 15, train loss: 28.202627182006836, val loss: 45.788482666015625\n",
      "2020-11-03 17:51:28,011 epoch: 16, train loss: 28.089574813842773, val loss: 45.746158599853516\n",
      "2020-11-03 17:51:38,481 epoch: 17, train loss: 27.963788986206055, val loss: 45.771240234375\n",
      "2020-11-03 17:51:49,201 epoch: 18, train loss: 27.808364868164062, val loss: 45.769161224365234\n",
      "2020-11-03 17:51:59,692 epoch: 19, train loss: 27.629684448242188, val loss: 45.77287673950195\n",
      "2020-11-03 17:52:10,198 epoch: 20, train loss: 27.489896774291992, val loss: 45.8234748840332\n",
      "2020-11-03 17:52:18,949 normalizing counts for prediction\n",
      "2020-11-03 17:52:18,950 filtering for genes in training set\n",
      "2020-11-03 17:52:18,961 0 genes in training set are missing from prediction set\n",
      "2020-11-03 17:52:19,500 starting batch 1 of 1\n",
      "2020-11-03 17:52:19,623 normalizing counts for prediction\n",
      "2020-11-03 17:52:19,624 filtering for genes in training set\n",
      "2020-11-03 17:52:19,633 0 genes in training set are missing from prediction set\n"
     ]
    },
    {
     "name": "stdout",
     "output_type": "stream",
     "text": [
      "snRNAseq ccrcc_train_pbmc_val (2113, 33538) (1698, 32738)\n"
     ]
    },
    {
     "name": "stderr",
     "output_type": "stream",
     "text": [
      "2020-11-03 17:52:32,851 normalizing the expression counts for model training\n",
      "2020-11-03 17:52:35,045 input dataset shape: (3811, 20453)\n",
      "2020-11-03 17:52:35,047 possible cell types: ['B cell', 'CD4 T cell', 'CD8 T cell', 'Dendritic', 'Endothelial', 'Epithelial', 'Fibroblast', 'Malignant', 'Megakaryocyte', 'Monocyte', 'NK', 'Plasma', 'Treg']\n",
      "2020-11-03 17:52:35,048 possible cell types: [('CD4 T cell', 1143), ('Monocyte', 634), ('CD8 T cell', 306), ('NK', 263), ('Dendritic', 208), ('Endothelial', 200), ('Malignant', 200), ('Fibroblast', 200), ('Treg', 200), ('Epithelial', 200), ('B cell', 141), ('Plasma', 113), ('Megakaryocyte', 3)]\n",
      "2020-11-03 17:52:35,884 training dataset shape: (2512, 20453)\n",
      "2020-11-03 17:52:35,885 validation dataset shape: (1299, 20453)\n"
     ]
    },
    {
     "name": "stdout",
     "output_type": "stream",
     "text": [
      "WARNING:tensorflow:5 out of the last 15 calls to <function compute_loss at 0x7f13991523b0> triggered tf.function retracing. Tracing is expensive and the excessive number of tracings is likely due to passing python objects instead of tensors. Also, tf.function has experimental_relax_shapes=True option that relaxes argument shapes that can avoid unnecessary retracing. Please refer to https://www.tensorflow.org/tutorials/customization/performance#python_or_tensor_args and https://www.tensorflow.org/api_docs/python/tf/function for more details.\n"
     ]
    },
    {
     "name": "stderr",
     "output_type": "stream",
     "text": [
      "2020-11-03 17:52:42,120 5 out of the last 15 calls to <function compute_loss at 0x7f13991523b0> triggered tf.function retracing. Tracing is expensive and the excessive number of tracings is likely due to passing python objects instead of tensors. Also, tf.function has experimental_relax_shapes=True option that relaxes argument shapes that can avoid unnecessary retracing. Please refer to https://www.tensorflow.org/tutorials/customization/performance#python_or_tensor_args and https://www.tensorflow.org/api_docs/python/tf/function for more details.\n"
     ]
    },
    {
     "name": "stdout",
     "output_type": "stream",
     "text": [
      "WARNING:tensorflow:6 out of the last 16 calls to <function compute_loss at 0x7f13991523b0> triggered tf.function retracing. Tracing is expensive and the excessive number of tracings is likely due to passing python objects instead of tensors. Also, tf.function has experimental_relax_shapes=True option that relaxes argument shapes that can avoid unnecessary retracing. Please refer to https://www.tensorflow.org/tutorials/customization/performance#python_or_tensor_args and https://www.tensorflow.org/api_docs/python/tf/function for more details.\n"
     ]
    },
    {
     "name": "stderr",
     "output_type": "stream",
     "text": [
      "2020-11-03 17:52:42,208 6 out of the last 16 calls to <function compute_loss at 0x7f13991523b0> triggered tf.function retracing. Tracing is expensive and the excessive number of tracings is likely due to passing python objects instead of tensors. Also, tf.function has experimental_relax_shapes=True option that relaxes argument shapes that can avoid unnecessary retracing. Please refer to https://www.tensorflow.org/tutorials/customization/performance#python_or_tensor_args and https://www.tensorflow.org/api_docs/python/tf/function for more details.\n"
     ]
    },
    {
     "name": "stdout",
     "output_type": "stream",
     "text": [
      "WARNING:tensorflow:7 out of the last 17 calls to <function compute_loss at 0x7f13991523b0> triggered tf.function retracing. Tracing is expensive and the excessive number of tracings is likely due to passing python objects instead of tensors. Also, tf.function has experimental_relax_shapes=True option that relaxes argument shapes that can avoid unnecessary retracing. Please refer to https://www.tensorflow.org/tutorials/customization/performance#python_or_tensor_args and https://www.tensorflow.org/api_docs/python/tf/function for more details.\n"
     ]
    },
    {
     "name": "stderr",
     "output_type": "stream",
     "text": [
      "2020-11-03 17:52:42,316 7 out of the last 17 calls to <function compute_loss at 0x7f13991523b0> triggered tf.function retracing. Tracing is expensive and the excessive number of tracings is likely due to passing python objects instead of tensors. Also, tf.function has experimental_relax_shapes=True option that relaxes argument shapes that can avoid unnecessary retracing. Please refer to https://www.tensorflow.org/tutorials/customization/performance#python_or_tensor_args and https://www.tensorflow.org/api_docs/python/tf/function for more details.\n"
     ]
    },
    {
     "name": "stdout",
     "output_type": "stream",
     "text": [
      "WARNING:tensorflow:5 out of the last 11 calls to <function compute_loss at 0x7f13991523b0> triggered tf.function retracing. Tracing is expensive and the excessive number of tracings is likely due to passing python objects instead of tensors. Also, tf.function has experimental_relax_shapes=True option that relaxes argument shapes that can avoid unnecessary retracing. Please refer to https://www.tensorflow.org/tutorials/customization/performance#python_or_tensor_args and https://www.tensorflow.org/api_docs/python/tf/function for more details.\n"
     ]
    },
    {
     "name": "stderr",
     "output_type": "stream",
     "text": [
      "2020-11-03 17:52:42,550 5 out of the last 11 calls to <function compute_loss at 0x7f13991523b0> triggered tf.function retracing. Tracing is expensive and the excessive number of tracings is likely due to passing python objects instead of tensors. Also, tf.function has experimental_relax_shapes=True option that relaxes argument shapes that can avoid unnecessary retracing. Please refer to https://www.tensorflow.org/tutorials/customization/performance#python_or_tensor_args and https://www.tensorflow.org/api_docs/python/tf/function for more details.\n",
      "2020-11-03 17:52:43,456 epoch: 1, train loss: 36.233917236328125, val loss: 41.19053268432617\n",
      "2020-11-03 17:52:49,411 epoch: 2, train loss: 34.893577575683594, val loss: 40.72213363647461\n",
      "2020-11-03 17:52:55,599 epoch: 3, train loss: 34.17430877685547, val loss: 40.23706817626953\n",
      "2020-11-03 17:53:01,685 epoch: 4, train loss: 33.81786346435547, val loss: 39.68116760253906\n",
      "2020-11-03 17:53:07,675 epoch: 5, train loss: 33.135719299316406, val loss: 39.25403594970703\n",
      "2020-11-03 17:53:13,765 epoch: 6, train loss: 33.31113815307617, val loss: 39.04932403564453\n",
      "2020-11-03 17:53:19,879 epoch: 7, train loss: 33.050987243652344, val loss: 38.94191360473633\n",
      "2020-11-03 17:53:25,913 epoch: 8, train loss: 32.68769073486328, val loss: 38.85077667236328\n",
      "2020-11-03 17:53:32,055 epoch: 9, train loss: 32.48091506958008, val loss: 38.70903015136719\n",
      "2020-11-03 17:53:38,101 epoch: 10, train loss: 32.39415740966797, val loss: 38.5888671875\n",
      "2020-11-03 17:53:44,205 epoch: 11, train loss: 32.20022201538086, val loss: 38.55414581298828\n",
      "2020-11-03 17:53:50,274 epoch: 12, train loss: 32.120269775390625, val loss: 38.53422164916992\n",
      "2020-11-03 17:53:56,371 epoch: 13, train loss: 31.861867904663086, val loss: 38.45478820800781\n",
      "2020-11-03 17:54:02,443 epoch: 14, train loss: 31.9881649017334, val loss: 38.408721923828125\n",
      "2020-11-03 17:54:08,485 epoch: 15, train loss: 31.689876556396484, val loss: 38.400611877441406\n",
      "2020-11-03 17:54:14,562 epoch: 16, train loss: 31.683502197265625, val loss: 38.38266372680664\n",
      "2020-11-03 17:54:20,583 epoch: 17, train loss: 31.6326961517334, val loss: 38.359275817871094\n",
      "2020-11-03 17:54:26,629 epoch: 18, train loss: 31.412532806396484, val loss: 38.321659088134766\n",
      "2020-11-03 17:54:32,734 epoch: 19, train loss: 31.361766815185547, val loss: 38.300079345703125\n",
      "2020-11-03 17:54:38,807 epoch: 20, train loss: 31.17194175720215, val loss: 38.332183837890625\n",
      "2020-11-03 17:54:43,083 normalizing counts for prediction\n",
      "2020-11-03 17:54:43,084 filtering for genes in training set\n",
      "2020-11-03 17:54:43,095 0 genes in training set are missing from prediction set\n",
      "2020-11-03 17:54:43,633 starting batch 1 of 1\n",
      "2020-11-03 17:54:43,700 normalizing counts for prediction\n",
      "2020-11-03 17:54:43,701 filtering for genes in training set\n",
      "2020-11-03 17:54:43,712 0 genes in training set are missing from prediction set\n"
     ]
    },
    {
     "name": "stdout",
     "output_type": "stream",
     "text": [
      "snRNAseq ccrcc_train_pdac_val (2113, 33538) (15435, 28756)\n"
     ]
    },
    {
     "name": "stderr",
     "output_type": "stream",
     "text": [
      "2020-11-03 17:54:49,908 normalizing the expression counts for model training\n",
      "2020-11-03 17:55:04,414 input dataset shape: (17548, 28756)\n",
      "2020-11-03 17:55:04,417 possible cell types: ['Acinar', 'B cell', 'CD4 T cell', 'CD8 T cell', 'Dendritic', 'Endothelial', 'Epithelial', 'Erythrocyte', 'Fibroblast', 'Islet', 'Malignant', 'Mast', 'Monocyte', 'NK', 'Plasma', 'Treg', 'Tuft']\n",
      "2020-11-03 17:55:04,420 possible cell types: [('Endothelial', 1200), ('Malignant', 1200), ('NK', 1200), ('Fibroblast', 1200), ('Monocyte', 1200), ('Dendritic', 1200), ('CD8 T cell', 1200), ('Treg', 1200), ('CD4 T cell', 1200), ('Epithelial', 1168), ('Plasma', 1113), ('B cell', 1000), ('Acinar', 1000), ('Islet', 1000), ('Mast', 1000), ('Erythrocyte', 412), ('Tuft', 55)]\n",
      "2020-11-03 17:55:10,619 training dataset shape: (7804, 28756)\n",
      "2020-11-03 17:55:10,620 validation dataset shape: (9744, 28756)\n",
      "2020-11-03 17:55:31,668 epoch: 1, train loss: 26.78998374938965, val loss: 47.899208068847656\n",
      "2020-11-03 17:55:51,762 epoch: 2, train loss: 25.88022232055664, val loss: 47.135765075683594\n",
      "2020-11-03 17:56:11,536 epoch: 3, train loss: 25.374160766601562, val loss: 46.117462158203125\n",
      "2020-11-03 17:56:31,520 epoch: 4, train loss: 25.092531204223633, val loss: 45.62552261352539\n",
      "2020-11-03 17:56:51,653 epoch: 5, train loss: 24.91058921813965, val loss: 45.26604080200195\n",
      "2020-11-03 17:57:11,869 epoch: 6, train loss: 24.785423278808594, val loss: 45.07457733154297\n",
      "2020-11-03 17:57:32,501 epoch: 7, train loss: 24.66722297668457, val loss: 44.860233306884766\n",
      "2020-11-03 17:57:52,483 epoch: 8, train loss: 24.55130958557129, val loss: 44.69295120239258\n",
      "2020-11-03 17:58:12,486 epoch: 9, train loss: 24.434850692749023, val loss: 44.475460052490234\n",
      "2020-11-03 17:58:32,643 epoch: 10, train loss: 24.324291229248047, val loss: 44.34284210205078\n",
      "2020-11-03 17:58:53,294 epoch: 11, train loss: 24.232351303100586, val loss: 44.22319412231445\n",
      "2020-11-03 17:59:13,827 epoch: 12, train loss: 24.148113250732422, val loss: 44.199562072753906\n",
      "2020-11-03 17:59:34,226 epoch: 13, train loss: 24.05508804321289, val loss: 44.180511474609375\n",
      "2020-11-03 17:59:54,658 epoch: 14, train loss: 23.9687557220459, val loss: 44.164031982421875\n",
      "2020-11-03 18:00:15,415 epoch: 15, train loss: 23.90371322631836, val loss: 44.094505310058594\n",
      "2020-11-03 18:00:35,813 epoch: 16, train loss: 23.837007522583008, val loss: 44.13809585571289\n",
      "2020-11-03 18:00:56,341 epoch: 17, train loss: 23.75052833557129, val loss: 44.136016845703125\n",
      "2020-11-03 18:01:16,859 epoch: 18, train loss: 23.679502487182617, val loss: 44.098388671875\n",
      "2020-11-03 18:01:37,653 epoch: 19, train loss: 23.606056213378906, val loss: 44.15210723876953\n",
      "2020-11-03 18:01:58,088 epoch: 20, train loss: 23.523420333862305, val loss: 44.16077423095703\n",
      "2020-11-03 18:02:17,420 normalizing counts for prediction\n",
      "2020-11-03 18:02:17,421 filtering for genes in training set\n",
      "2020-11-03 18:02:17,429 0 genes in training set are missing from prediction set\n",
      "2020-11-03 18:02:17,927 starting batch 1 of 2\n",
      "2020-11-03 18:02:18,137 normalizing counts for prediction\n",
      "2020-11-03 18:02:18,138 filtering for genes in training set\n",
      "2020-11-03 18:02:18,146 0 genes in training set are missing from prediction set\n",
      "2020-11-03 18:02:44,199 starting batch 2 of 2\n",
      "2020-11-03 18:02:45,269 normalizing counts for prediction\n",
      "2020-11-03 18:02:45,270 filtering for genes in training set\n",
      "2020-11-03 18:02:45,280 0 genes in training set are missing from prediction set\n"
     ]
    },
    {
     "name": "stdout",
     "output_type": "stream",
     "text": [
      "snRNAseq gbm_train_brca_val (1689, 29748) (11253, 27131)\n"
     ]
    },
    {
     "name": "stderr",
     "output_type": "stream",
     "text": [
      "2020-11-03 18:03:01,412 normalizing the expression counts for model training\n",
      "2020-11-03 18:03:10,799 input dataset shape: (12942, 25705)\n",
      "2020-11-03 18:03:10,801 possible cell types: ['B cell', 'CD4 T cell', 'CD8 T cell', 'Dendritic', 'Endothelial', 'Erythrocyte', 'Fibroblast', 'Malignant', 'Mast', 'Microglia', 'Monocyte', 'NK', 'Neuron', 'Oligodendrocytes', 'Plasma', 'T cells', 'Treg']\n",
      "2020-11-03 18:03:10,803 possible cell types: [('Malignant', 1200), ('Fibroblast', 1200), ('B cell', 1200), ('Endothelial', 1200), ('Monocyte', 1089), ('CD8 T cell', 1000), ('NK', 1000), ('Treg', 1000), ('CD4 T cell', 1000), ('Plasma', 1000), ('Mast', 546), ('Dendritic', 392), ('Erythrocyte', 315), ('Neuron', 200), ('Oligodendrocytes', 200), ('T cells', 200), ('Microglia', 200)]\n",
      "2020-11-03 18:03:14,946 training dataset shape: (6388, 25705)\n",
      "2020-11-03 18:03:14,947 validation dataset shape: (6554, 25705)\n",
      "2020-11-03 18:03:33,117 epoch: 1, train loss: 33.125064849853516, val loss: 60.002140045166016\n",
      "2020-11-03 18:03:50,099 epoch: 2, train loss: 32.379520416259766, val loss: 58.748985290527344\n",
      "2020-11-03 18:04:07,208 epoch: 3, train loss: 31.784337997436523, val loss: 58.01591110229492\n",
      "2020-11-03 18:04:24,482 epoch: 4, train loss: 31.41309356689453, val loss: 57.60538864135742\n",
      "2020-11-03 18:04:42,038 epoch: 5, train loss: 31.183670043945312, val loss: 57.39787292480469\n",
      "2020-11-03 18:04:59,144 epoch: 6, train loss: 30.99054718017578, val loss: 57.261146545410156\n",
      "2020-11-03 18:05:16,466 epoch: 7, train loss: 30.82860565185547, val loss: 57.13364791870117\n",
      "2020-11-03 18:05:33,757 epoch: 8, train loss: 30.67743492126465, val loss: 57.042327880859375\n",
      "2020-11-03 18:05:50,510 epoch: 9, train loss: 30.555150985717773, val loss: 56.957908630371094\n",
      "2020-11-03 18:06:07,352 epoch: 10, train loss: 30.421175003051758, val loss: 56.912113189697266\n",
      "2020-11-03 18:06:24,117 epoch: 11, train loss: 30.28856658935547, val loss: 56.847068786621094\n",
      "2020-11-03 18:06:40,952 epoch: 12, train loss: 30.17495346069336, val loss: 56.818050384521484\n",
      "2020-11-03 18:06:57,777 epoch: 13, train loss: 30.056718826293945, val loss: 56.79991149902344\n",
      "2020-11-03 18:07:14,562 epoch: 14, train loss: 29.942541122436523, val loss: 56.76094055175781\n",
      "2020-11-03 18:07:31,359 epoch: 15, train loss: 29.827062606811523, val loss: 56.7562255859375\n",
      "2020-11-03 18:07:47,996 epoch: 16, train loss: 29.710365295410156, val loss: 56.79720687866211\n",
      "2020-11-03 18:08:04,873 epoch: 17, train loss: 29.606340408325195, val loss: 56.81861877441406\n",
      "2020-11-03 18:08:21,785 epoch: 18, train loss: 29.48427963256836, val loss: 56.857757568359375\n",
      "2020-11-03 18:08:38,754 epoch: 19, train loss: 29.37099838256836, val loss: 56.88176345825195\n",
      "2020-11-03 18:08:55,718 epoch: 20, train loss: 29.250761032104492, val loss: 56.94553756713867\n",
      "2020-11-03 18:09:09,829 normalizing counts for prediction\n",
      "2020-11-03 18:09:09,830 filtering for genes in training set\n",
      "2020-11-03 18:09:09,842 0 genes in training set are missing from prediction set\n",
      "2020-11-03 18:09:10,312 starting batch 1 of 2\n",
      "2020-11-03 18:09:10,464 normalizing counts for prediction\n",
      "2020-11-03 18:09:10,464 filtering for genes in training set\n",
      "2020-11-03 18:09:10,473 0 genes in training set are missing from prediction set\n",
      "2020-11-03 18:09:33,651 starting batch 2 of 2\n",
      "2020-11-03 18:09:33,793 normalizing counts for prediction\n",
      "2020-11-03 18:09:33,794 filtering for genes in training set\n",
      "2020-11-03 18:09:33,806 0 genes in training set are missing from prediction set\n"
     ]
    },
    {
     "name": "stdout",
     "output_type": "stream",
     "text": [
      "snRNAseq gbm_train_cesc_val (1689, 29748) (8449, 22928)\n"
     ]
    },
    {
     "name": "stderr",
     "output_type": "stream",
     "text": [
      "2020-11-03 18:09:39,674 normalizing the expression counts for model training\n",
      "2020-11-03 18:09:46,003 input dataset shape: (10138, 21981)\n",
      "2020-11-03 18:09:46,005 possible cell types: ['B cell', 'CD4 T cell', 'CD8 T cell', 'Endothelial', 'Epithelial', 'Erythrocyte', 'Fibroblast', 'Malignant', 'Mast', 'Microglia', 'Monocyte', 'NK', 'Neuron', 'Oligodendrocytes', 'Plasma', 'T cells']\n",
      "2020-11-03 18:09:46,007 possible cell types: [('Malignant', 1200), ('Fibroblast', 1200), ('Monocyte', 1089), ('CD8 T cell', 1000), ('Epithelial', 1000), ('NK', 1000), ('Plasma', 935), ('CD4 T cell', 918), ('Endothelial', 732), ('Neuron', 200), ('B cell', 200), ('Oligodendrocytes', 200), ('T cells', 200), ('Microglia', 200), ('Mast', 49), ('Erythrocyte', 15)]\n",
      "2020-11-03 18:09:49,085 training dataset shape: (5319, 21981)\n",
      "2020-11-03 18:09:49,086 validation dataset shape: (4819, 21981)\n"
     ]
    },
    {
     "name": "stdout",
     "output_type": "stream",
     "text": [
      "WARNING:tensorflow:5 out of the last 17 calls to <function compute_loss at 0x7f13991523b0> triggered tf.function retracing. Tracing is expensive and the excessive number of tracings is likely due to passing python objects instead of tensors. Also, tf.function has experimental_relax_shapes=True option that relaxes argument shapes that can avoid unnecessary retracing. Please refer to https://www.tensorflow.org/tutorials/customization/performance#python_or_tensor_args and https://www.tensorflow.org/api_docs/python/tf/function for more details.\n"
     ]
    },
    {
     "name": "stderr",
     "output_type": "stream",
     "text": [
      "2020-11-03 18:10:00,920 5 out of the last 17 calls to <function compute_loss at 0x7f13991523b0> triggered tf.function retracing. Tracing is expensive and the excessive number of tracings is likely due to passing python objects instead of tensors. Also, tf.function has experimental_relax_shapes=True option that relaxes argument shapes that can avoid unnecessary retracing. Please refer to https://www.tensorflow.org/tutorials/customization/performance#python_or_tensor_args and https://www.tensorflow.org/api_docs/python/tf/function for more details.\n"
     ]
    },
    {
     "name": "stdout",
     "output_type": "stream",
     "text": [
      "WARNING:tensorflow:6 out of the last 19 calls to <function compute_loss at 0x7f13991523b0> triggered tf.function retracing. Tracing is expensive and the excessive number of tracings is likely due to passing python objects instead of tensors. Also, tf.function has experimental_relax_shapes=True option that relaxes argument shapes that can avoid unnecessary retracing. Please refer to https://www.tensorflow.org/tutorials/customization/performance#python_or_tensor_args and https://www.tensorflow.org/api_docs/python/tf/function for more details.\n"
     ]
    },
    {
     "name": "stderr",
     "output_type": "stream",
     "text": [
      "2020-11-03 18:10:01,050 6 out of the last 19 calls to <function compute_loss at 0x7f13991523b0> triggered tf.function retracing. Tracing is expensive and the excessive number of tracings is likely due to passing python objects instead of tensors. Also, tf.function has experimental_relax_shapes=True option that relaxes argument shapes that can avoid unnecessary retracing. Please refer to https://www.tensorflow.org/tutorials/customization/performance#python_or_tensor_args and https://www.tensorflow.org/api_docs/python/tf/function for more details.\n"
     ]
    },
    {
     "name": "stdout",
     "output_type": "stream",
     "text": [
      "WARNING:tensorflow:5 out of the last 15 calls to <function compute_loss at 0x7f13991523b0> triggered tf.function retracing. Tracing is expensive and the excessive number of tracings is likely due to passing python objects instead of tensors. Also, tf.function has experimental_relax_shapes=True option that relaxes argument shapes that can avoid unnecessary retracing. Please refer to https://www.tensorflow.org/tutorials/customization/performance#python_or_tensor_args and https://www.tensorflow.org/api_docs/python/tf/function for more details.\n"
     ]
    },
    {
     "name": "stderr",
     "output_type": "stream",
     "text": [
      "2020-11-03 18:10:01,316 5 out of the last 15 calls to <function compute_loss at 0x7f13991523b0> triggered tf.function retracing. Tracing is expensive and the excessive number of tracings is likely due to passing python objects instead of tensors. Also, tf.function has experimental_relax_shapes=True option that relaxes argument shapes that can avoid unnecessary retracing. Please refer to https://www.tensorflow.org/tutorials/customization/performance#python_or_tensor_args and https://www.tensorflow.org/api_docs/python/tf/function for more details.\n",
      "2020-11-03 18:10:02,762 epoch: 1, train loss: 34.6427001953125, val loss: 47.716331481933594\n",
      "2020-11-03 18:10:15,148 epoch: 2, train loss: 33.451114654541016, val loss: 46.559818267822266\n",
      "2020-11-03 18:10:27,672 epoch: 3, train loss: 32.84257507324219, val loss: 45.953163146972656\n",
      "2020-11-03 18:10:40,163 epoch: 4, train loss: 32.46458053588867, val loss: 45.58187484741211\n",
      "2020-11-03 18:10:52,762 epoch: 5, train loss: 32.15856170654297, val loss: 45.27783966064453\n",
      "2020-11-03 18:11:05,280 epoch: 6, train loss: 31.991050720214844, val loss: 45.100555419921875\n",
      "2020-11-03 18:11:17,727 epoch: 7, train loss: 31.93132972717285, val loss: 44.95921325683594\n",
      "2020-11-03 18:11:30,235 epoch: 8, train loss: 31.801170349121094, val loss: 44.8552360534668\n",
      "2020-11-03 18:11:42,823 epoch: 9, train loss: 31.517845153808594, val loss: 44.792945861816406\n",
      "2020-11-03 18:11:55,592 epoch: 10, train loss: 31.427383422851562, val loss: 44.7060432434082\n",
      "2020-11-03 18:12:08,050 epoch: 11, train loss: 31.35137367248535, val loss: 44.62235641479492\n",
      "2020-11-03 18:12:20,727 epoch: 12, train loss: 31.352495193481445, val loss: 44.590362548828125\n",
      "2020-11-03 18:12:33,345 epoch: 13, train loss: 31.2397518157959, val loss: 44.4898567199707\n",
      "2020-11-03 18:12:45,919 epoch: 14, train loss: 31.071332931518555, val loss: 44.46904754638672\n",
      "2020-11-03 18:12:58,532 epoch: 15, train loss: 30.981468200683594, val loss: 44.44322967529297\n",
      "2020-11-03 18:13:11,104 epoch: 16, train loss: 30.705184936523438, val loss: 44.39087677001953\n",
      "2020-11-03 18:13:23,536 epoch: 17, train loss: 30.68951988220215, val loss: 44.37792205810547\n",
      "2020-11-03 18:13:36,298 epoch: 18, train loss: 30.693769454956055, val loss: 44.36023712158203\n",
      "2020-11-03 18:13:48,872 epoch: 19, train loss: 30.55071449279785, val loss: 44.33219909667969\n",
      "2020-11-03 18:14:01,363 epoch: 20, train loss: 30.391345977783203, val loss: 44.36125183105469\n",
      "2020-11-03 18:14:11,383 normalizing counts for prediction\n",
      "2020-11-03 18:14:11,384 filtering for genes in training set\n",
      "2020-11-03 18:14:11,395 0 genes in training set are missing from prediction set\n",
      "2020-11-03 18:14:11,810 starting batch 1 of 1\n",
      "2020-11-03 18:14:11,917 normalizing counts for prediction\n",
      "2020-11-03 18:14:11,918 filtering for genes in training set\n",
      "2020-11-03 18:14:11,925 0 genes in training set are missing from prediction set\n"
     ]
    },
    {
     "name": "stdout",
     "output_type": "stream",
     "text": [
      "snRNAseq gbm_train_hnscc_val (1689, 29748) (10288, 26929)\n"
     ]
    },
    {
     "name": "stderr",
     "output_type": "stream",
     "text": [
      "2020-11-03 18:14:37,810 normalizing the expression counts for model training\n",
      "2020-11-03 18:14:46,392 input dataset shape: (11977, 25389)\n",
      "2020-11-03 18:14:46,394 possible cell types: ['B cell', 'CD4 T cell', 'CD8 T cell', 'Endothelial', 'Erythrocyte', 'Fibroblast', 'Malignant', 'Mast', 'Microglia', 'Monocyte', 'NK', 'Neuron', 'Oligodendrocytes', 'Plasma', 'T cells', 'Treg']\n",
      "2020-11-03 18:14:46,396 possible cell types: [('Malignant', 1200), ('B cell', 1200), ('Endothelial', 1200), ('Monocyte', 1089), ('Treg', 1000), ('CD4 T cell', 1000), ('Plasma', 1000), ('Mast', 1000), ('CD8 T cell', 1000), ('NK', 1000), ('Erythrocyte', 288), ('Fibroblast', 200), ('Neuron', 200), ('Oligodendrocytes', 200), ('T cells', 200), ('Microglia', 200)]\n",
      "2020-11-03 18:14:50,054 training dataset shape: (5962, 25389)\n",
      "2020-11-03 18:14:50,055 validation dataset shape: (6015, 25389)\n",
      "2020-11-03 18:15:06,667 epoch: 1, train loss: 30.36560821533203, val loss: 52.632293701171875\n",
      "2020-11-03 18:15:22,561 epoch: 2, train loss: 29.49742317199707, val loss: 50.229576110839844\n",
      "2020-11-03 18:15:38,543 epoch: 3, train loss: 28.93834686279297, val loss: 49.54183578491211\n",
      "2020-11-03 18:15:54,361 epoch: 4, train loss: 28.545480728149414, val loss: 49.1031494140625\n",
      "2020-11-03 18:16:10,086 epoch: 5, train loss: 28.3549747467041, val loss: 48.87800216674805\n",
      "2020-11-03 18:16:25,817 epoch: 6, train loss: 28.21889877319336, val loss: 48.71397018432617\n",
      "2020-11-03 18:16:41,446 epoch: 7, train loss: 28.041303634643555, val loss: 48.578250885009766\n",
      "2020-11-03 18:16:57,061 epoch: 8, train loss: 27.96963882446289, val loss: 48.4775276184082\n",
      "2020-11-03 18:17:12,869 epoch: 9, train loss: 27.838499069213867, val loss: 48.39237976074219\n",
      "2020-11-03 18:17:28,815 epoch: 10, train loss: 27.804214477539062, val loss: 48.2884635925293\n",
      "2020-11-03 18:17:44,620 epoch: 11, train loss: 27.616130828857422, val loss: 48.209938049316406\n",
      "2020-11-03 18:18:00,473 epoch: 12, train loss: 27.566722869873047, val loss: 48.11125946044922\n",
      "2020-11-03 18:18:16,288 epoch: 13, train loss: 27.470064163208008, val loss: 48.02091598510742\n",
      "2020-11-03 18:18:32,227 epoch: 14, train loss: 27.38873863220215, val loss: 47.958946228027344\n",
      "2020-11-03 18:18:47,872 epoch: 15, train loss: 27.250009536743164, val loss: 47.92857360839844\n",
      "2020-11-03 18:19:03,391 epoch: 16, train loss: 27.10757064819336, val loss: 47.895599365234375\n",
      "2020-11-03 18:19:19,103 epoch: 17, train loss: 27.150920867919922, val loss: 47.865394592285156\n",
      "2020-11-03 18:19:34,918 epoch: 18, train loss: 27.11998748779297, val loss: 47.86284637451172\n",
      "2020-11-03 18:19:50,762 epoch: 19, train loss: 26.893775939941406, val loss: 47.83113098144531\n",
      "2020-11-03 18:20:06,502 epoch: 20, train loss: 26.814281463623047, val loss: 47.82708740234375\n",
      "2020-11-03 18:20:19,369 normalizing counts for prediction\n",
      "2020-11-03 18:20:19,369 filtering for genes in training set\n",
      "2020-11-03 18:20:19,377 0 genes in training set are missing from prediction set\n",
      "2020-11-03 18:20:19,845 starting batch 1 of 2\n",
      "2020-11-03 18:20:20,044 normalizing counts for prediction\n",
      "2020-11-03 18:20:20,045 filtering for genes in training set\n",
      "2020-11-03 18:20:20,054 0 genes in training set are missing from prediction set\n",
      "2020-11-03 18:20:46,115 starting batch 2 of 2\n",
      "2020-11-03 18:20:46,245 normalizing counts for prediction\n",
      "2020-11-03 18:20:46,246 filtering for genes in training set\n",
      "2020-11-03 18:20:46,256 0 genes in training set are missing from prediction set\n"
     ]
    },
    {
     "name": "stdout",
     "output_type": "stream",
     "text": [
      "snRNAseq gbm_train_melanoma_val (1689, 29748) (6735, 23452)\n"
     ]
    },
    {
     "name": "stderr",
     "output_type": "stream",
     "text": [
      "2020-11-03 18:20:48,727 normalizing the expression counts for model training\n",
      "2020-11-03 18:20:53,811 input dataset shape: (8424, 21069)\n",
      "2020-11-03 18:20:53,813 possible cell types: ['B cell', 'CD4 T cell', 'CD8 T cell', 'Dendritic', 'Endothelial', 'Fibroblast', 'Malignant', 'Microglia', 'Monocyte', 'NK', 'Neuron', 'Oligodendrocytes', 'Plasma', 'T cells', 'Treg']\n",
      "2020-11-03 18:20:53,815 possible cell types: [('Malignant', 1200), ('B cell', 1200), ('Monocyte', 1089), ('CD8 T cell', 1000), ('CD4 T cell', 1000), ('Treg', 662), ('Dendritic', 541), ('NK', 338), ('Fibroblast', 321), ('Neuron', 200), ('Oligodendrocytes', 200), ('Endothelial', 200), ('T cells', 200), ('Microglia', 200), ('Plasma', 73)]\n",
      "2020-11-03 18:20:55,944 training dataset shape: (4577, 21069)\n",
      "2020-11-03 18:20:55,945 validation dataset shape: (3847, 21069)\n",
      "2020-11-03 18:21:07,765 epoch: 1, train loss: 34.257381439208984, val loss: 65.53384399414062\n",
      "2020-11-03 18:21:18,507 epoch: 2, train loss: 33.492042541503906, val loss: 63.40116500854492\n",
      "2020-11-03 18:21:29,116 epoch: 3, train loss: 32.72181701660156, val loss: 62.48725128173828\n",
      "2020-11-03 18:21:39,810 epoch: 4, train loss: 32.22624969482422, val loss: 61.8895263671875\n",
      "2020-11-03 18:21:50,493 epoch: 5, train loss: 31.914310455322266, val loss: 61.56646728515625\n",
      "2020-11-03 18:22:00,949 epoch: 6, train loss: 31.687904357910156, val loss: 61.334228515625\n",
      "2020-11-03 18:22:11,787 epoch: 7, train loss: 31.525075912475586, val loss: 61.18791198730469\n",
      "2020-11-03 18:22:22,608 epoch: 8, train loss: 31.351369857788086, val loss: 61.003387451171875\n",
      "2020-11-03 18:22:33,361 epoch: 9, train loss: 31.243247985839844, val loss: 60.879241943359375\n",
      "2020-11-03 18:22:44,504 epoch: 10, train loss: 31.035505294799805, val loss: 60.791358947753906\n",
      "2020-11-03 18:22:55,445 epoch: 11, train loss: 30.933427810668945, val loss: 60.691287994384766\n",
      "2020-11-03 18:23:06,181 epoch: 12, train loss: 30.80185317993164, val loss: 60.61372756958008\n",
      "2020-11-03 18:23:17,175 epoch: 13, train loss: 30.646921157836914, val loss: 60.550697326660156\n",
      "2020-11-03 18:23:28,058 epoch: 14, train loss: 30.49547576904297, val loss: 60.5079460144043\n",
      "2020-11-03 18:23:38,851 epoch: 15, train loss: 30.336151123046875, val loss: 60.50444030761719\n",
      "2020-11-03 18:23:49,851 epoch: 16, train loss: 30.203792572021484, val loss: 60.47827911376953\n",
      "2020-11-03 18:24:00,495 epoch: 17, train loss: 30.03449249267578, val loss: 60.468536376953125\n",
      "2020-11-03 18:24:11,275 epoch: 18, train loss: 29.90159034729004, val loss: 60.524627685546875\n",
      "2020-11-03 18:24:22,185 epoch: 19, train loss: 29.71063232421875, val loss: 60.57738494873047\n",
      "2020-11-03 18:24:32,972 epoch: 20, train loss: 29.582780838012695, val loss: 60.605899810791016\n",
      "2020-11-03 18:24:41,260 normalizing counts for prediction\n",
      "2020-11-03 18:24:41,262 filtering for genes in training set\n",
      "2020-11-03 18:24:41,271 0 genes in training set are missing from prediction set\n",
      "2020-11-03 18:24:41,793 starting batch 1 of 1\n",
      "2020-11-03 18:24:41,909 normalizing counts for prediction\n",
      "2020-11-03 18:24:41,910 filtering for genes in training set\n",
      "2020-11-03 18:24:41,920 0 genes in training set are missing from prediction set\n"
     ]
    },
    {
     "name": "stdout",
     "output_type": "stream",
     "text": [
      "snRNAseq gbm_train_pbmc_val (1689, 29748) (1698, 32738)\n"
     ]
    },
    {
     "name": "stderr",
     "output_type": "stream",
     "text": [
      "2020-11-03 18:24:54,855 normalizing the expression counts for model training\n",
      "2020-11-03 18:24:56,713 input dataset shape: (3387, 18949)\n",
      "2020-11-03 18:24:56,714 possible cell types: ['B cell', 'CD4 T cell', 'CD8 T cell', 'Dendritic', 'Endothelial', 'Fibroblast', 'Malignant', 'Megakaryocyte', 'Microglia', 'Monocyte', 'NK', 'Neuron', 'Oligodendrocytes', 'T cells']\n",
      "2020-11-03 18:24:56,715 possible cell types: [('CD4 T cell', 943), ('Monocyte', 523), ('B cell', 341), ('Malignant', 200), ('Fibroblast', 200), ('Neuron', 200), ('Oligodendrocytes', 200), ('Endothelial', 200), ('T cells', 200), ('Microglia', 200), ('CD8 T cell', 106), ('NK', 63), ('Dendritic', 8), ('Megakaryocyte', 3)]\n",
      "2020-11-03 18:24:57,476 training dataset shape: (2222, 18949)\n",
      "2020-11-03 18:24:57,477 validation dataset shape: (1165, 18949)\n"
     ]
    },
    {
     "name": "stdout",
     "output_type": "stream",
     "text": [
      "WARNING:tensorflow:5 out of the last 44 calls to <function compute_loss at 0x7f13991523b0> triggered tf.function retracing. Tracing is expensive and the excessive number of tracings is likely due to passing python objects instead of tensors. Also, tf.function has experimental_relax_shapes=True option that relaxes argument shapes that can avoid unnecessary retracing. Please refer to https://www.tensorflow.org/tutorials/customization/performance#python_or_tensor_args and https://www.tensorflow.org/api_docs/python/tf/function for more details.\n"
     ]
    },
    {
     "name": "stderr",
     "output_type": "stream",
     "text": [
      "2020-11-03 18:25:02,397 5 out of the last 44 calls to <function compute_loss at 0x7f13991523b0> triggered tf.function retracing. Tracing is expensive and the excessive number of tracings is likely due to passing python objects instead of tensors. Also, tf.function has experimental_relax_shapes=True option that relaxes argument shapes that can avoid unnecessary retracing. Please refer to https://www.tensorflow.org/tutorials/customization/performance#python_or_tensor_args and https://www.tensorflow.org/api_docs/python/tf/function for more details.\n"
     ]
    },
    {
     "name": "stdout",
     "output_type": "stream",
     "text": [
      "WARNING:tensorflow:5 out of the last 11 calls to <function compute_loss at 0x7f13991523b0> triggered tf.function retracing. Tracing is expensive and the excessive number of tracings is likely due to passing python objects instead of tensors. Also, tf.function has experimental_relax_shapes=True option that relaxes argument shapes that can avoid unnecessary retracing. Please refer to https://www.tensorflow.org/tutorials/customization/performance#python_or_tensor_args and https://www.tensorflow.org/api_docs/python/tf/function for more details.\n"
     ]
    },
    {
     "name": "stderr",
     "output_type": "stream",
     "text": [
      "2020-11-03 18:25:02,488 5 out of the last 11 calls to <function compute_loss at 0x7f13991523b0> triggered tf.function retracing. Tracing is expensive and the excessive number of tracings is likely due to passing python objects instead of tensors. Also, tf.function has experimental_relax_shapes=True option that relaxes argument shapes that can avoid unnecessary retracing. Please refer to https://www.tensorflow.org/tutorials/customization/performance#python_or_tensor_args and https://www.tensorflow.org/api_docs/python/tf/function for more details.\n"
     ]
    },
    {
     "name": "stdout",
     "output_type": "stream",
     "text": [
      "WARNING:tensorflow:6 out of the last 13 calls to <function compute_loss at 0x7f13991523b0> triggered tf.function retracing. Tracing is expensive and the excessive number of tracings is likely due to passing python objects instead of tensors. Also, tf.function has experimental_relax_shapes=True option that relaxes argument shapes that can avoid unnecessary retracing. Please refer to https://www.tensorflow.org/tutorials/customization/performance#python_or_tensor_args and https://www.tensorflow.org/api_docs/python/tf/function for more details.\n"
     ]
    },
    {
     "name": "stderr",
     "output_type": "stream",
     "text": [
      "2020-11-03 18:25:02,610 6 out of the last 13 calls to <function compute_loss at 0x7f13991523b0> triggered tf.function retracing. Tracing is expensive and the excessive number of tracings is likely due to passing python objects instead of tensors. Also, tf.function has experimental_relax_shapes=True option that relaxes argument shapes that can avoid unnecessary retracing. Please refer to https://www.tensorflow.org/tutorials/customization/performance#python_or_tensor_args and https://www.tensorflow.org/api_docs/python/tf/function for more details.\n"
     ]
    },
    {
     "name": "stdout",
     "output_type": "stream",
     "text": [
      "WARNING:tensorflow:6 out of the last 14 calls to <function compute_loss at 0x7f13991523b0> triggered tf.function retracing. Tracing is expensive and the excessive number of tracings is likely due to passing python objects instead of tensors. Also, tf.function has experimental_relax_shapes=True option that relaxes argument shapes that can avoid unnecessary retracing. Please refer to https://www.tensorflow.org/tutorials/customization/performance#python_or_tensor_args and https://www.tensorflow.org/api_docs/python/tf/function for more details.\n"
     ]
    },
    {
     "name": "stderr",
     "output_type": "stream",
     "text": [
      "2020-11-03 18:25:02,797 6 out of the last 14 calls to <function compute_loss at 0x7f13991523b0> triggered tf.function retracing. Tracing is expensive and the excessive number of tracings is likely due to passing python objects instead of tensors. Also, tf.function has experimental_relax_shapes=True option that relaxes argument shapes that can avoid unnecessary retracing. Please refer to https://www.tensorflow.org/tutorials/customization/performance#python_or_tensor_args and https://www.tensorflow.org/api_docs/python/tf/function for more details.\n"
     ]
    },
    {
     "name": "stdout",
     "output_type": "stream",
     "text": [
      "WARNING:tensorflow:6 out of the last 11 calls to <function compute_loss at 0x7f13991523b0> triggered tf.function retracing. Tracing is expensive and the excessive number of tracings is likely due to passing python objects instead of tensors. Also, tf.function has experimental_relax_shapes=True option that relaxes argument shapes that can avoid unnecessary retracing. Please refer to https://www.tensorflow.org/tutorials/customization/performance#python_or_tensor_args and https://www.tensorflow.org/api_docs/python/tf/function for more details.\n"
     ]
    },
    {
     "name": "stderr",
     "output_type": "stream",
     "text": [
      "2020-11-03 18:25:02,918 6 out of the last 11 calls to <function compute_loss at 0x7f13991523b0> triggered tf.function retracing. Tracing is expensive and the excessive number of tracings is likely due to passing python objects instead of tensors. Also, tf.function has experimental_relax_shapes=True option that relaxes argument shapes that can avoid unnecessary retracing. Please refer to https://www.tensorflow.org/tutorials/customization/performance#python_or_tensor_args and https://www.tensorflow.org/api_docs/python/tf/function for more details.\n",
      "2020-11-03 18:25:04,265 epoch: 1, train loss: 40.853057861328125, val loss: 59.82722473144531\n",
      "2020-11-03 18:25:09,600 epoch: 2, train loss: 39.68557357788086, val loss: 58.57097625732422\n",
      "2020-11-03 18:25:14,970 epoch: 3, train loss: 38.71845245361328, val loss: 58.2583122253418\n",
      "2020-11-03 18:25:20,323 epoch: 4, train loss: 38.14030456542969, val loss: 57.52939224243164\n",
      "2020-11-03 18:25:25,717 epoch: 5, train loss: 37.666927337646484, val loss: 56.771270751953125\n",
      "2020-11-03 18:25:31,026 epoch: 6, train loss: 37.367431640625, val loss: 56.16741180419922\n",
      "2020-11-03 18:25:36,342 epoch: 7, train loss: 37.13343048095703, val loss: 55.889530181884766\n",
      "2020-11-03 18:25:41,631 epoch: 8, train loss: 36.892059326171875, val loss: 55.67228698730469\n",
      "2020-11-03 18:25:46,919 epoch: 9, train loss: 36.6451416015625, val loss: 55.49730682373047\n",
      "2020-11-03 18:25:52,245 epoch: 10, train loss: 36.51078796386719, val loss: 55.37580871582031\n",
      "2020-11-03 18:25:57,577 epoch: 11, train loss: 36.3745002746582, val loss: 55.26948547363281\n",
      "2020-11-03 18:26:02,931 epoch: 12, train loss: 36.28411102294922, val loss: 55.18014907836914\n",
      "2020-11-03 18:26:08,534 epoch: 13, train loss: 36.11195373535156, val loss: 55.107643127441406\n",
      "2020-11-03 18:26:13,918 epoch: 14, train loss: 35.977210998535156, val loss: 55.03300857543945\n",
      "2020-11-03 18:26:19,308 epoch: 15, train loss: 35.868064880371094, val loss: 54.974822998046875\n",
      "2020-11-03 18:26:24,730 epoch: 16, train loss: 35.74024963378906, val loss: 54.90208435058594\n",
      "2020-11-03 18:26:30,072 epoch: 17, train loss: 35.590118408203125, val loss: 54.876216888427734\n",
      "2020-11-03 18:26:35,450 epoch: 18, train loss: 35.44224166870117, val loss: 54.835044860839844\n",
      "2020-11-03 18:26:40,858 epoch: 19, train loss: 35.298553466796875, val loss: 54.80866241455078\n",
      "2020-11-03 18:26:46,222 epoch: 20, train loss: 35.13801193237305, val loss: 54.834716796875\n",
      "2020-11-03 18:26:49,888 normalizing counts for prediction\n",
      "2020-11-03 18:26:49,889 filtering for genes in training set\n",
      "2020-11-03 18:26:49,900 0 genes in training set are missing from prediction set\n",
      "2020-11-03 18:26:50,418 starting batch 1 of 1\n",
      "2020-11-03 18:26:50,481 normalizing counts for prediction\n",
      "2020-11-03 18:26:50,482 filtering for genes in training set\n",
      "2020-11-03 18:26:50,492 0 genes in training set are missing from prediction set\n"
     ]
    },
    {
     "name": "stdout",
     "output_type": "stream",
     "text": [
      "snRNAseq gbm_train_pdac_val (1689, 29748) (15435, 28756)\n"
     ]
    },
    {
     "name": "stderr",
     "output_type": "stream",
     "text": [
      "2020-11-03 18:26:56,757 normalizing the expression counts for model training\n",
      "2020-11-03 18:27:10,003 input dataset shape: (17124, 27015)\n",
      "2020-11-03 18:27:10,005 possible cell types: ['Acinar', 'B cell', 'CD4 T cell', 'CD8 T cell', 'Dendritic', 'Endothelial', 'Epithelial', 'Erythrocyte', 'Fibroblast', 'Islet', 'Malignant', 'Mast', 'Microglia', 'Monocyte', 'NK', 'Neuron', 'Oligodendrocytes', 'Plasma', 'T cells', 'Treg', 'Tuft']\n",
      "2020-11-03 18:27:10,009 possible cell types: [('Malignant', 1200), ('Fibroblast', 1200), ('B cell', 1200), ('Endothelial', 1200), ('Monocyte', 1089), ('Plasma', 1000), ('NK', 1000), ('Dendritic', 1000), ('CD8 T cell', 1000), ('Treg', 1000), ('Acinar', 1000), ('Islet', 1000), ('CD4 T cell', 1000), ('Mast', 1000), ('Epithelial', 968), ('Erythrocyte', 412), ('Neuron', 200), ('Oligodendrocytes', 200), ('T cells', 200), ('Microglia', 200), ('Tuft', 55)]\n",
      "2020-11-03 18:27:16,108 training dataset shape: (8413, 27015)\n",
      "2020-11-03 18:27:16,109 validation dataset shape: (8711, 27015)\n"
     ]
    },
    {
     "name": "stdout",
     "output_type": "stream",
     "text": [
      "WARNING:tensorflow:5 out of the last 17 calls to <function compute_loss at 0x7f13991523b0> triggered tf.function retracing. Tracing is expensive and the excessive number of tracings is likely due to passing python objects instead of tensors. Also, tf.function has experimental_relax_shapes=True option that relaxes argument shapes that can avoid unnecessary retracing. Please refer to https://www.tensorflow.org/tutorials/customization/performance#python_or_tensor_args and https://www.tensorflow.org/api_docs/python/tf/function for more details.\n"
     ]
    },
    {
     "name": "stderr",
     "output_type": "stream",
     "text": [
      "2020-11-03 18:27:37,586 5 out of the last 17 calls to <function compute_loss at 0x7f13991523b0> triggered tf.function retracing. Tracing is expensive and the excessive number of tracings is likely due to passing python objects instead of tensors. Also, tf.function has experimental_relax_shapes=True option that relaxes argument shapes that can avoid unnecessary retracing. Please refer to https://www.tensorflow.org/tutorials/customization/performance#python_or_tensor_args and https://www.tensorflow.org/api_docs/python/tf/function for more details.\n",
      "2020-11-03 18:27:39,589 epoch: 1, train loss: 28.684770584106445, val loss: 51.10179901123047\n",
      "2020-11-03 18:28:02,191 epoch: 2, train loss: 27.639467239379883, val loss: 50.546424865722656\n",
      "2020-11-03 18:28:24,737 epoch: 3, train loss: 27.10993766784668, val loss: 50.12910079956055\n",
      "2020-11-03 18:28:47,245 epoch: 4, train loss: 26.857511520385742, val loss: 49.835723876953125\n",
      "2020-11-03 18:29:10,242 epoch: 5, train loss: 26.68341064453125, val loss: 49.65082550048828\n",
      "2020-11-03 18:29:32,562 epoch: 6, train loss: 26.519865036010742, val loss: 49.540985107421875\n",
      "2020-11-03 18:29:56,423 epoch: 7, train loss: 26.382320404052734, val loss: 49.46118927001953\n",
      "2020-11-03 18:30:19,759 epoch: 8, train loss: 26.27935218811035, val loss: 49.34625244140625\n",
      "2020-11-03 18:30:43,064 epoch: 9, train loss: 26.139774322509766, val loss: 49.250953674316406\n",
      "2020-11-03 18:31:06,455 epoch: 10, train loss: 26.041555404663086, val loss: 49.186195373535156\n",
      "2020-11-03 18:31:29,512 epoch: 11, train loss: 25.942045211791992, val loss: 49.119056701660156\n",
      "2020-11-03 18:31:53,099 epoch: 12, train loss: 25.864463806152344, val loss: 49.05766677856445\n",
      "2020-11-03 18:32:16,984 epoch: 13, train loss: 25.79622459411621, val loss: 49.031410217285156\n",
      "2020-11-03 18:32:40,526 epoch: 14, train loss: 25.702362060546875, val loss: 48.9936637878418\n",
      "2020-11-03 18:33:04,209 epoch: 15, train loss: 25.615936279296875, val loss: 48.98048782348633\n",
      "2020-11-03 18:33:27,889 epoch: 16, train loss: 25.518234252929688, val loss: 48.99286651611328\n",
      "2020-11-03 18:33:51,651 epoch: 17, train loss: 25.44896125793457, val loss: 48.98836135864258\n",
      "2020-11-03 18:34:15,430 epoch: 18, train loss: 25.385486602783203, val loss: 49.01256561279297\n",
      "2020-11-03 18:34:38,819 epoch: 19, train loss: 25.30795669555664, val loss: 49.00627899169922\n",
      "2020-11-03 18:35:02,386 epoch: 20, train loss: 25.231975555419922, val loss: 49.01534652709961\n",
      "2020-11-03 18:35:21,596 normalizing counts for prediction\n",
      "2020-11-03 18:35:21,596 filtering for genes in training set\n",
      "2020-11-03 18:35:21,609 0 genes in training set are missing from prediction set\n",
      "2020-11-03 18:35:22,087 starting batch 1 of 2\n",
      "2020-11-03 18:35:22,285 normalizing counts for prediction\n",
      "2020-11-03 18:35:22,286 filtering for genes in training set\n",
      "2020-11-03 18:35:22,296 0 genes in training set are missing from prediction set\n",
      "2020-11-03 18:35:47,042 starting batch 2 of 2\n",
      "2020-11-03 18:35:47,258 normalizing counts for prediction\n",
      "2020-11-03 18:35:47,259 filtering for genes in training set\n",
      "2020-11-03 18:35:47,271 0 genes in training set are missing from prediction set\n"
     ]
    },
    {
     "name": "stdout",
     "output_type": "stream",
     "text": [
      "snRNAseq brca_train_brca_val (2455, 29175) (9028, 19891)\n"
     ]
    },
    {
     "name": "stderr",
     "output_type": "stream",
     "text": [
      "2020-11-03 18:36:03,936 normalizing the expression counts for model training\n",
      "2020-11-03 18:36:09,562 input dataset shape: (11483, 17494)\n",
      "2020-11-03 18:36:09,564 possible cell types: ['Adipocyte', 'B cell', 'CD4 T cell', 'CD8 T cell', 'Dendritic', 'Endothelial', 'Fibroblast', 'Malignant', 'Mast', 'Monocyte', 'NK', 'Plasma', 'Treg']\n",
      "2020-11-03 18:36:09,566 possible cell types: [('CD4 T cell', 1200), ('Treg', 1200), ('Endothelial', 1200), ('Malignant', 1200), ('B cell', 1200), ('Monocyte', 1200), ('Fibroblast', 1200), ('CD8 T cell', 1200), ('Dendritic', 831), ('NK', 430), ('Mast', 222), ('Adipocyte', 200), ('Plasma', 200)]\n",
      "2020-11-03 18:36:12,373 training dataset shape: (5225, 17494)\n",
      "2020-11-03 18:36:12,374 validation dataset shape: (6258, 17494)\n",
      "2020-11-03 18:36:23,657 epoch: 1, train loss: 31.34042739868164, val loss: 17.579299926757812\n",
      "2020-11-03 18:36:34,097 epoch: 2, train loss: 30.843128204345703, val loss: 15.822182655334473\n",
      "2020-11-03 18:36:44,766 epoch: 3, train loss: 30.546621322631836, val loss: 15.547247886657715\n",
      "2020-11-03 18:36:55,333 epoch: 4, train loss: 30.272104263305664, val loss: 15.374428749084473\n",
      "2020-11-03 18:37:05,815 epoch: 5, train loss: 30.065195083618164, val loss: 15.257413864135742\n",
      "2020-11-03 18:37:16,275 epoch: 6, train loss: 29.924400329589844, val loss: 15.213142395019531\n",
      "2020-11-03 18:37:26,500 epoch: 7, train loss: 29.810258865356445, val loss: 15.129755020141602\n",
      "2020-11-03 18:37:36,958 epoch: 8, train loss: 29.700742721557617, val loss: 15.054020881652832\n",
      "2020-11-03 18:37:47,352 epoch: 9, train loss: 29.494863510131836, val loss: 14.976191520690918\n",
      "2020-11-03 18:37:57,729 epoch: 10, train loss: 29.412687301635742, val loss: 14.925115585327148\n",
      "2020-11-03 18:38:08,107 epoch: 11, train loss: 29.2733211517334, val loss: 14.857016563415527\n",
      "2020-11-03 18:38:18,613 epoch: 12, train loss: 29.177101135253906, val loss: 14.80986213684082\n",
      "2020-11-03 18:38:29,064 epoch: 13, train loss: 29.0019588470459, val loss: 14.770570755004883\n",
      "2020-11-03 18:38:39,425 epoch: 14, train loss: 29.010398864746094, val loss: 14.741792678833008\n",
      "2020-11-03 18:38:49,845 epoch: 15, train loss: 28.8638916015625, val loss: 14.714033126831055\n",
      "2020-11-03 18:39:00,226 epoch: 16, train loss: 28.951683044433594, val loss: 14.7485933303833\n",
      "2020-11-03 18:39:10,601 epoch: 17, train loss: 29.17741584777832, val loss: 14.749972343444824\n",
      "2020-11-03 18:39:21,034 epoch: 18, train loss: 28.53080940246582, val loss: 14.6602144241333\n",
      "2020-11-03 18:39:31,242 epoch: 19, train loss: 28.47934913635254, val loss: 14.695072174072266\n",
      "2020-11-03 18:39:41,661 epoch: 20, train loss: 28.267805099487305, val loss: 14.636506080627441\n",
      "2020-11-03 18:39:51,512 normalizing counts for prediction\n",
      "2020-11-03 18:39:51,513 filtering for genes in training set\n",
      "2020-11-03 18:39:51,524 0 genes in training set are missing from prediction set\n",
      "2020-11-03 18:39:51,918 starting batch 1 of 1\n",
      "2020-11-03 18:39:52,217 normalizing counts for prediction\n",
      "2020-11-03 18:39:52,218 filtering for genes in training set\n",
      "2020-11-03 18:39:52,225 0 genes in training set are missing from prediction set\n"
     ]
    },
    {
     "name": "stdout",
     "output_type": "stream",
     "text": [
      "snRNAseq brca_train_gbm_val (2455, 29175) (5650, 19891)\n"
     ]
    },
    {
     "name": "stderr",
     "output_type": "stream",
     "text": [
      "2020-11-03 18:40:28,964 normalizing the expression counts for model training\n",
      "2020-11-03 18:40:32,988 input dataset shape: (8105, 17494)\n",
      "2020-11-03 18:40:32,990 possible cell types: ['Adipocyte', 'B cell', 'CD4 T cell', 'CD8 T cell', 'Dendritic', 'Endothelial', 'Fibroblast', 'Malignant', 'Mast', 'Microglia', 'Monocyte', 'NK', 'Neuron', 'Oligodendrocytes', 'Plasma', 'T cells', 'Treg']\n",
      "2020-11-03 18:40:32,992 possible cell types: [('Malignant', 1200), ('Microglia', 1000), ('T cells', 1000), ('Oligodendrocytes', 1000), ('Neuron', 1000), ('Fibroblast', 810), ('Endothelial', 229), ('B cell', 211), ('CD4 T cell', 200), ('Treg', 200), ('NK', 200), ('Adipocyte', 200), ('Mast', 200), ('Monocyte', 200), ('CD8 T cell', 200), ('Plasma', 200), ('Dendritic', 55)]\n",
      "2020-11-03 18:40:34,908 training dataset shape: (4600, 17494)\n",
      "2020-11-03 18:40:34,909 validation dataset shape: (3505, 17494)\n"
     ]
    },
    {
     "name": "stdout",
     "output_type": "stream",
     "text": [
      "WARNING:tensorflow:5 out of the last 80 calls to <function compute_loss at 0x7f13991523b0> triggered tf.function retracing. Tracing is expensive and the excessive number of tracings is likely due to passing python objects instead of tensors. Also, tf.function has experimental_relax_shapes=True option that relaxes argument shapes that can avoid unnecessary retracing. Please refer to https://www.tensorflow.org/tutorials/customization/performance#python_or_tensor_args and https://www.tensorflow.org/api_docs/python/tf/function for more details.\n"
     ]
    },
    {
     "name": "stderr",
     "output_type": "stream",
     "text": [
      "2020-11-03 18:40:43,176 5 out of the last 80 calls to <function compute_loss at 0x7f13991523b0> triggered tf.function retracing. Tracing is expensive and the excessive number of tracings is likely due to passing python objects instead of tensors. Also, tf.function has experimental_relax_shapes=True option that relaxes argument shapes that can avoid unnecessary retracing. Please refer to https://www.tensorflow.org/tutorials/customization/performance#python_or_tensor_args and https://www.tensorflow.org/api_docs/python/tf/function for more details.\n"
     ]
    },
    {
     "name": "stdout",
     "output_type": "stream",
     "text": [
      "WARNING:tensorflow:5 out of the last 12 calls to <function compute_loss at 0x7f13991523b0> triggered tf.function retracing. Tracing is expensive and the excessive number of tracings is likely due to passing python objects instead of tensors. Also, tf.function has experimental_relax_shapes=True option that relaxes argument shapes that can avoid unnecessary retracing. Please refer to https://www.tensorflow.org/tutorials/customization/performance#python_or_tensor_args and https://www.tensorflow.org/api_docs/python/tf/function for more details.\n"
     ]
    },
    {
     "name": "stderr",
     "output_type": "stream",
     "text": [
      "2020-11-03 18:40:43,324 5 out of the last 12 calls to <function compute_loss at 0x7f13991523b0> triggered tf.function retracing. Tracing is expensive and the excessive number of tracings is likely due to passing python objects instead of tensors. Also, tf.function has experimental_relax_shapes=True option that relaxes argument shapes that can avoid unnecessary retracing. Please refer to https://www.tensorflow.org/tutorials/customization/performance#python_or_tensor_args and https://www.tensorflow.org/api_docs/python/tf/function for more details.\n"
     ]
    },
    {
     "name": "stdout",
     "output_type": "stream",
     "text": [
      "WARNING:tensorflow:6 out of the last 13 calls to <function compute_loss at 0x7f13991523b0> triggered tf.function retracing. Tracing is expensive and the excessive number of tracings is likely due to passing python objects instead of tensors. Also, tf.function has experimental_relax_shapes=True option that relaxes argument shapes that can avoid unnecessary retracing. Please refer to https://www.tensorflow.org/tutorials/customization/performance#python_or_tensor_args and https://www.tensorflow.org/api_docs/python/tf/function for more details.\n"
     ]
    },
    {
     "name": "stderr",
     "output_type": "stream",
     "text": [
      "2020-11-03 18:40:43,416 6 out of the last 13 calls to <function compute_loss at 0x7f13991523b0> triggered tf.function retracing. Tracing is expensive and the excessive number of tracings is likely due to passing python objects instead of tensors. Also, tf.function has experimental_relax_shapes=True option that relaxes argument shapes that can avoid unnecessary retracing. Please refer to https://www.tensorflow.org/tutorials/customization/performance#python_or_tensor_args and https://www.tensorflow.org/api_docs/python/tf/function for more details.\n",
      "2020-11-03 18:40:45,574 epoch: 1, train loss: 31.27610206604004, val loss: 19.71472930908203\n",
      "2020-11-03 18:40:54,709 epoch: 2, train loss: 30.395530700683594, val loss: 17.537490844726562\n",
      "2020-11-03 18:41:04,081 epoch: 3, train loss: 30.169532775878906, val loss: 17.44031524658203\n",
      "2020-11-03 18:41:13,334 epoch: 4, train loss: 29.893611907958984, val loss: 17.27083396911621\n",
      "2020-11-03 18:41:22,585 epoch: 5, train loss: 29.73757553100586, val loss: 17.183603286743164\n",
      "2020-11-03 18:41:31,824 epoch: 6, train loss: 29.640207290649414, val loss: 17.15575408935547\n",
      "2020-11-03 18:41:41,099 epoch: 7, train loss: 29.478271484375, val loss: 17.11161994934082\n",
      "2020-11-03 18:41:50,305 epoch: 8, train loss: 29.23168182373047, val loss: 17.06467056274414\n",
      "2020-11-03 18:41:59,593 epoch: 9, train loss: 29.08506965637207, val loss: 17.001920700073242\n",
      "2020-11-03 18:42:08,868 epoch: 10, train loss: 28.94832420349121, val loss: 16.943435668945312\n",
      "2020-11-03 18:42:18,016 epoch: 11, train loss: 28.98516082763672, val loss: 16.8989315032959\n",
      "2020-11-03 18:42:27,165 epoch: 12, train loss: 28.756954193115234, val loss: 16.838714599609375\n",
      "2020-11-03 18:42:36,451 epoch: 13, train loss: 28.55313491821289, val loss: 16.78253936767578\n",
      "2020-11-03 18:42:45,748 epoch: 14, train loss: 28.47159767150879, val loss: 16.764007568359375\n",
      "2020-11-03 18:42:55,011 epoch: 15, train loss: 28.54140853881836, val loss: 16.731250762939453\n",
      "2020-11-03 18:43:04,123 epoch: 16, train loss: 28.332115173339844, val loss: 16.739501953125\n",
      "2020-11-03 18:43:13,451 epoch: 17, train loss: 28.140790939331055, val loss: 16.68185806274414\n",
      "2020-11-03 18:43:22,763 epoch: 18, train loss: 28.191804885864258, val loss: 16.659507751464844\n",
      "2020-11-03 18:43:32,013 epoch: 19, train loss: 27.83961296081543, val loss: 16.629207611083984\n",
      "2020-11-03 18:43:41,419 epoch: 20, train loss: 27.766311645507812, val loss: 16.63750457763672\n",
      "2020-11-03 18:43:49,144 normalizing counts for prediction\n",
      "2020-11-03 18:43:49,145 filtering for genes in training set\n",
      "2020-11-03 18:43:49,153 0 genes in training set are missing from prediction set\n",
      "2020-11-03 18:43:49,535 starting batch 1 of 1\n",
      "2020-11-03 18:43:49,742 normalizing counts for prediction\n",
      "2020-11-03 18:43:49,743 filtering for genes in training set\n",
      "2020-11-03 18:43:49,751 0 genes in training set are missing from prediction set\n"
     ]
    },
    {
     "name": "stdout",
     "output_type": "stream",
     "text": [
      "snRNAseq ccrcc_train_brca_val (2113, 33538) (9028, 19891)\n"
     ]
    },
    {
     "name": "stderr",
     "output_type": "stream",
     "text": [
      "2020-11-03 18:44:13,830 normalizing the expression counts for model training\n",
      "2020-11-03 18:44:19,865 input dataset shape: (11141, 18895)\n",
      "2020-11-03 18:44:19,867 possible cell types: ['B cell', 'CD4 T cell', 'CD8 T cell', 'Dendritic', 'Endothelial', 'Epithelial', 'Fibroblast', 'Malignant', 'Mast', 'Monocyte', 'NK', 'Plasma', 'Treg']\n",
      "2020-11-03 18:44:19,869 possible cell types: [('Endothelial', 1200), ('Malignant', 1200), ('Fibroblast', 1200), ('Monocyte', 1200), ('CD8 T cell', 1200), ('Treg', 1200), ('CD4 T cell', 1200), ('B cell', 1000), ('Dendritic', 976), ('NK', 430), ('Epithelial', 200), ('Plasma', 113), ('Mast', 22)]\n",
      "2020-11-03 18:44:22,695 training dataset shape: (5020, 18895)\n",
      "2020-11-03 18:44:22,696 validation dataset shape: (6121, 18895)\n",
      "2020-11-03 18:44:34,173 epoch: 1, train loss: 32.71387481689453, val loss: 18.203872680664062\n",
      "2020-11-03 18:44:44,751 epoch: 2, train loss: 32.206302642822266, val loss: 16.2027645111084\n",
      "2020-11-03 18:44:55,216 epoch: 3, train loss: 31.917924880981445, val loss: 15.661103248596191\n",
      "2020-11-03 18:45:05,539 epoch: 4, train loss: 31.68464469909668, val loss: 15.541114807128906\n",
      "2020-11-03 18:45:16,137 epoch: 5, train loss: 31.427907943725586, val loss: 15.364657402038574\n",
      "2020-11-03 18:45:26,728 epoch: 6, train loss: 31.271326065063477, val loss: 15.168045043945312\n",
      "2020-11-03 18:45:37,285 epoch: 7, train loss: 31.06230926513672, val loss: 15.07689094543457\n",
      "2020-11-03 18:45:47,814 epoch: 8, train loss: 30.94681739807129, val loss: 14.977462768554688\n",
      "2020-11-03 18:45:58,439 epoch: 9, train loss: 30.869836807250977, val loss: 14.882373809814453\n",
      "2020-11-03 18:46:08,997 epoch: 10, train loss: 31.421890258789062, val loss: 14.926867485046387\n",
      "2020-11-03 18:46:19,751 epoch: 11, train loss: 30.701461791992188, val loss: 14.674344062805176\n",
      "2020-11-03 18:46:30,387 epoch: 12, train loss: 30.561826705932617, val loss: 14.537406921386719\n",
      "2020-11-03 18:46:41,030 epoch: 13, train loss: 30.386640548706055, val loss: 14.445806503295898\n",
      "2020-11-03 18:46:51,664 epoch: 14, train loss: 30.372074127197266, val loss: 14.426761627197266\n",
      "2020-11-03 18:47:02,377 epoch: 15, train loss: 30.270681381225586, val loss: 14.37002182006836\n",
      "2020-11-03 18:47:13,120 epoch: 16, train loss: 30.071123123168945, val loss: 14.332939147949219\n",
      "2020-11-03 18:47:23,774 epoch: 17, train loss: 29.9274959564209, val loss: 14.30545425415039\n",
      "2020-11-03 18:47:34,568 epoch: 18, train loss: 29.87152099609375, val loss: 14.304495811462402\n",
      "2020-11-03 18:47:45,448 epoch: 19, train loss: 29.809436798095703, val loss: 14.257760047912598\n",
      "2020-11-03 18:47:56,224 epoch: 20, train loss: 29.52033805847168, val loss: 14.236355781555176\n",
      "2020-11-03 18:48:06,291 normalizing counts for prediction\n",
      "2020-11-03 18:48:06,291 filtering for genes in training set\n",
      "2020-11-03 18:48:06,297 0 genes in training set are missing from prediction set\n",
      "2020-11-03 18:48:06,719 starting batch 1 of 1\n",
      "2020-11-03 18:48:07,010 normalizing counts for prediction\n",
      "2020-11-03 18:48:07,011 filtering for genes in training set\n",
      "2020-11-03 18:48:07,017 0 genes in training set are missing from prediction set\n"
     ]
    },
    {
     "name": "stdout",
     "output_type": "stream",
     "text": [
      "snRNAseq ccrcc_train_gbm_val (2113, 33538) (5650, 19891)\n"
     ]
    },
    {
     "name": "stderr",
     "output_type": "stream",
     "text": [
      "2020-11-03 18:48:45,073 normalizing the expression counts for model training\n",
      "2020-11-03 18:48:49,281 input dataset shape: (7763, 18895)\n",
      "2020-11-03 18:48:49,283 possible cell types: ['B cell', 'CD4 T cell', 'CD8 T cell', 'Dendritic', 'Endothelial', 'Epithelial', 'Fibroblast', 'Malignant', 'Microglia', 'Monocyte', 'NK', 'Neuron', 'Oligodendrocytes', 'Plasma', 'T cells', 'Treg']\n",
      "2020-11-03 18:48:49,285 possible cell types: [('Malignant', 1200), ('Microglia', 1000), ('T cells', 1000), ('Oligodendrocytes', 1000), ('Neuron', 1000), ('Fibroblast', 810), ('Endothelial', 229), ('NK', 200), ('Monocyte', 200), ('Dendritic', 200), ('CD8 T cell', 200), ('Treg', 200), ('Epithelial', 200), ('CD4 T cell', 200), ('Plasma', 113), ('B cell', 11)]\n",
      "2020-11-03 18:48:51,177 training dataset shape: (4345, 18895)\n",
      "2020-11-03 18:48:51,178 validation dataset shape: (3418, 18895)\n"
     ]
    },
    {
     "name": "stdout",
     "output_type": "stream",
     "text": [
      "WARNING:tensorflow:5 out of the last 73 calls to <function compute_loss at 0x7f13991523b0> triggered tf.function retracing. Tracing is expensive and the excessive number of tracings is likely due to passing python objects instead of tensors. Also, tf.function has experimental_relax_shapes=True option that relaxes argument shapes that can avoid unnecessary retracing. Please refer to https://www.tensorflow.org/tutorials/customization/performance#python_or_tensor_args and https://www.tensorflow.org/api_docs/python/tf/function for more details.\n"
     ]
    },
    {
     "name": "stderr",
     "output_type": "stream",
     "text": [
      "2020-11-03 18:48:59,481 5 out of the last 73 calls to <function compute_loss at 0x7f13991523b0> triggered tf.function retracing. Tracing is expensive and the excessive number of tracings is likely due to passing python objects instead of tensors. Also, tf.function has experimental_relax_shapes=True option that relaxes argument shapes that can avoid unnecessary retracing. Please refer to https://www.tensorflow.org/tutorials/customization/performance#python_or_tensor_args and https://www.tensorflow.org/api_docs/python/tf/function for more details.\n"
     ]
    },
    {
     "name": "stdout",
     "output_type": "stream",
     "text": [
      "WARNING:tensorflow:6 out of the last 74 calls to <function compute_loss at 0x7f13991523b0> triggered tf.function retracing. Tracing is expensive and the excessive number of tracings is likely due to passing python objects instead of tensors. Also, tf.function has experimental_relax_shapes=True option that relaxes argument shapes that can avoid unnecessary retracing. Please refer to https://www.tensorflow.org/tutorials/customization/performance#python_or_tensor_args and https://www.tensorflow.org/api_docs/python/tf/function for more details.\n"
     ]
    },
    {
     "name": "stderr",
     "output_type": "stream",
     "text": [
      "2020-11-03 18:48:59,582 6 out of the last 74 calls to <function compute_loss at 0x7f13991523b0> triggered tf.function retracing. Tracing is expensive and the excessive number of tracings is likely due to passing python objects instead of tensors. Also, tf.function has experimental_relax_shapes=True option that relaxes argument shapes that can avoid unnecessary retracing. Please refer to https://www.tensorflow.org/tutorials/customization/performance#python_or_tensor_args and https://www.tensorflow.org/api_docs/python/tf/function for more details.\n"
     ]
    },
    {
     "name": "stdout",
     "output_type": "stream",
     "text": [
      "WARNING:tensorflow:7 out of the last 76 calls to <function compute_loss at 0x7f13991523b0> triggered tf.function retracing. Tracing is expensive and the excessive number of tracings is likely due to passing python objects instead of tensors. Also, tf.function has experimental_relax_shapes=True option that relaxes argument shapes that can avoid unnecessary retracing. Please refer to https://www.tensorflow.org/tutorials/customization/performance#python_or_tensor_args and https://www.tensorflow.org/api_docs/python/tf/function for more details.\n"
     ]
    },
    {
     "name": "stderr",
     "output_type": "stream",
     "text": [
      "2020-11-03 18:48:59,706 7 out of the last 76 calls to <function compute_loss at 0x7f13991523b0> triggered tf.function retracing. Tracing is expensive and the excessive number of tracings is likely due to passing python objects instead of tensors. Also, tf.function has experimental_relax_shapes=True option that relaxes argument shapes that can avoid unnecessary retracing. Please refer to https://www.tensorflow.org/tutorials/customization/performance#python_or_tensor_args and https://www.tensorflow.org/api_docs/python/tf/function for more details.\n"
     ]
    },
    {
     "name": "stdout",
     "output_type": "stream",
     "text": [
      "WARNING:tensorflow:5 out of the last 11 calls to <function compute_loss at 0x7f13991523b0> triggered tf.function retracing. Tracing is expensive and the excessive number of tracings is likely due to passing python objects instead of tensors. Also, tf.function has experimental_relax_shapes=True option that relaxes argument shapes that can avoid unnecessary retracing. Please refer to https://www.tensorflow.org/tutorials/customization/performance#python_or_tensor_args and https://www.tensorflow.org/api_docs/python/tf/function for more details.\n"
     ]
    },
    {
     "name": "stderr",
     "output_type": "stream",
     "text": [
      "2020-11-03 18:48:59,928 5 out of the last 11 calls to <function compute_loss at 0x7f13991523b0> triggered tf.function retracing. Tracing is expensive and the excessive number of tracings is likely due to passing python objects instead of tensors. Also, tf.function has experimental_relax_shapes=True option that relaxes argument shapes that can avoid unnecessary retracing. Please refer to https://www.tensorflow.org/tutorials/customization/performance#python_or_tensor_args and https://www.tensorflow.org/api_docs/python/tf/function for more details.\n",
      "2020-11-03 18:49:01,802 epoch: 1, train loss: 32.13343048095703, val loss: 18.66246223449707\n",
      "2020-11-03 18:49:10,977 epoch: 2, train loss: 31.15593719482422, val loss: 16.567039489746094\n",
      "2020-11-03 18:49:20,199 epoch: 3, train loss: 30.857988357543945, val loss: 16.439929962158203\n",
      "2020-11-03 18:49:29,495 epoch: 4, train loss: 30.632963180541992, val loss: 16.191957473754883\n",
      "2020-11-03 18:49:38,597 epoch: 5, train loss: 30.452970504760742, val loss: 15.905868530273438\n",
      "2020-11-03 18:49:47,881 epoch: 6, train loss: 30.234989166259766, val loss: 15.709168434143066\n",
      "2020-11-03 18:49:57,140 epoch: 7, train loss: 30.01694679260254, val loss: 15.6201171875\n",
      "2020-11-03 18:50:06,392 epoch: 8, train loss: 29.89377212524414, val loss: 15.575756072998047\n",
      "2020-11-03 18:50:15,730 epoch: 9, train loss: 29.77843475341797, val loss: 15.530449867248535\n",
      "2020-11-03 18:50:25,104 epoch: 10, train loss: 29.62175750732422, val loss: 15.438577651977539\n",
      "2020-11-03 18:50:34,336 epoch: 11, train loss: 29.487293243408203, val loss: 15.313080787658691\n",
      "2020-11-03 18:50:43,596 epoch: 12, train loss: 29.341161727905273, val loss: 15.2344331741333\n",
      "2020-11-03 18:50:52,851 epoch: 13, train loss: 29.238563537597656, val loss: 15.209754943847656\n",
      "2020-11-03 18:51:02,312 epoch: 14, train loss: 29.124101638793945, val loss: 15.166536331176758\n",
      "2020-11-03 18:51:11,740 epoch: 15, train loss: 29.459152221679688, val loss: 15.178884506225586\n",
      "2020-11-03 18:51:21,043 epoch: 16, train loss: 28.93438720703125, val loss: 15.116952896118164\n",
      "2020-11-03 18:51:30,376 epoch: 17, train loss: 28.724721908569336, val loss: 15.075299263000488\n",
      "2020-11-03 18:51:39,826 epoch: 18, train loss: 28.550853729248047, val loss: 15.036017417907715\n",
      "2020-11-03 18:51:49,297 epoch: 19, train loss: 28.433563232421875, val loss: 15.006193161010742\n",
      "2020-11-03 18:51:58,644 epoch: 20, train loss: 28.252246856689453, val loss: 14.987035751342773\n",
      "2020-11-03 18:52:06,172 normalizing counts for prediction\n",
      "2020-11-03 18:52:06,173 filtering for genes in training set\n",
      "2020-11-03 18:52:06,181 0 genes in training set are missing from prediction set\n",
      "2020-11-03 18:52:06,665 starting batch 1 of 1\n",
      "2020-11-03 18:52:06,876 normalizing counts for prediction\n",
      "2020-11-03 18:52:06,877 filtering for genes in training set\n",
      "2020-11-03 18:52:06,884 0 genes in training set are missing from prediction set\n"
     ]
    },
    {
     "name": "stdout",
     "output_type": "stream",
     "text": [
      "snRNAseq gbm_train_brca_val (1689, 29748) (9028, 19891)\n"
     ]
    },
    {
     "name": "stderr",
     "output_type": "stream",
     "text": [
      "2020-11-03 18:52:31,697 normalizing the expression counts for model training\n",
      "2020-11-03 18:52:37,004 input dataset shape: (10717, 17613)\n",
      "2020-11-03 18:52:37,005 possible cell types: ['B cell', 'CD4 T cell', 'CD8 T cell', 'Dendritic', 'Endothelial', 'Fibroblast', 'Malignant', 'Mast', 'Microglia', 'Monocyte', 'NK', 'Neuron', 'Oligodendrocytes', 'T cells', 'Treg']\n",
      "2020-11-03 18:52:37,007 possible cell types: [('Malignant', 1200), ('Fibroblast', 1200), ('B cell', 1200), ('Endothelial', 1200), ('Monocyte', 1089), ('Treg', 1000), ('CD8 T cell', 1000), ('CD4 T cell', 1000), ('Dendritic', 776), ('NK', 230), ('Neuron', 200), ('Oligodendrocytes', 200), ('T cells', 200), ('Microglia', 200), ('Mast', 22)]\n",
      "2020-11-03 18:52:39,555 training dataset shape: (5304, 17613)\n",
      "2020-11-03 18:52:39,556 validation dataset shape: (5413, 17613)\n"
     ]
    },
    {
     "name": "stdout",
     "output_type": "stream",
     "text": [
      "WARNING:tensorflow:5 out of the last 24 calls to <function compute_loss at 0x7f13991523b0> triggered tf.function retracing. Tracing is expensive and the excessive number of tracings is likely due to passing python objects instead of tensors. Also, tf.function has experimental_relax_shapes=True option that relaxes argument shapes that can avoid unnecessary retracing. Please refer to https://www.tensorflow.org/tutorials/customization/performance#python_or_tensor_args and https://www.tensorflow.org/api_docs/python/tf/function for more details.\n"
     ]
    },
    {
     "name": "stderr",
     "output_type": "stream",
     "text": [
      "2020-11-03 18:52:49,934 5 out of the last 24 calls to <function compute_loss at 0x7f13991523b0> triggered tf.function retracing. Tracing is expensive and the excessive number of tracings is likely due to passing python objects instead of tensors. Also, tf.function has experimental_relax_shapes=True option that relaxes argument shapes that can avoid unnecessary retracing. Please refer to https://www.tensorflow.org/tutorials/customization/performance#python_or_tensor_args and https://www.tensorflow.org/api_docs/python/tf/function for more details.\n",
      "2020-11-03 18:52:51,311 epoch: 1, train loss: 31.3986873626709, val loss: 14.94650650024414\n",
      "2020-11-03 18:53:01,890 epoch: 2, train loss: 31.186670303344727, val loss: 14.675933837890625\n",
      "2020-11-03 18:53:12,297 epoch: 3, train loss: 30.71109962463379, val loss: 13.698417663574219\n",
      "2020-11-03 18:53:22,542 epoch: 4, train loss: 30.50670051574707, val loss: 13.55552864074707\n",
      "2020-11-03 18:53:33,045 epoch: 5, train loss: 30.19209098815918, val loss: 13.431541442871094\n",
      "2020-11-03 18:53:43,614 epoch: 6, train loss: 30.057025909423828, val loss: 13.347097396850586\n",
      "2020-11-03 18:53:54,365 epoch: 7, train loss: 29.873600006103516, val loss: 13.214296340942383\n",
      "2020-11-03 18:54:04,869 epoch: 8, train loss: 29.759803771972656, val loss: 13.104358673095703\n",
      "2020-11-03 18:54:15,412 epoch: 9, train loss: 29.667747497558594, val loss: 13.028505325317383\n",
      "2020-11-03 18:54:25,986 epoch: 10, train loss: 29.57044792175293, val loss: 12.982149124145508\n",
      "2020-11-03 18:54:36,684 epoch: 11, train loss: 29.49995231628418, val loss: 12.948105812072754\n",
      "2020-11-03 18:54:47,292 epoch: 12, train loss: 29.36552619934082, val loss: 12.922374725341797\n",
      "2020-11-03 18:54:58,082 epoch: 13, train loss: 29.268604278564453, val loss: 12.893641471862793\n",
      "2020-11-03 18:55:08,865 epoch: 14, train loss: 29.162639617919922, val loss: 12.877202987670898\n",
      "2020-11-03 18:55:19,505 epoch: 15, train loss: 29.018775939941406, val loss: 12.860246658325195\n",
      "2020-11-03 18:55:30,249 epoch: 16, train loss: 28.910396575927734, val loss: 12.848296165466309\n",
      "2020-11-03 18:55:40,911 epoch: 17, train loss: 28.80750274658203, val loss: 12.836162567138672\n",
      "2020-11-03 18:55:51,620 epoch: 18, train loss: 28.641613006591797, val loss: 12.820259094238281\n",
      "2020-11-03 18:56:02,218 epoch: 19, train loss: 28.521577835083008, val loss: 12.814626693725586\n",
      "2020-11-03 18:56:12,959 epoch: 20, train loss: 28.381967544555664, val loss: 12.799280166625977\n",
      "2020-11-03 18:56:22,662 normalizing counts for prediction\n",
      "2020-11-03 18:56:22,663 filtering for genes in training set\n",
      "2020-11-03 18:56:22,668 0 genes in training set are missing from prediction set\n",
      "2020-11-03 18:56:23,016 starting batch 1 of 1\n",
      "2020-11-03 18:56:23,209 normalizing counts for prediction\n",
      "2020-11-03 18:56:23,210 filtering for genes in training set\n",
      "2020-11-03 18:56:23,215 0 genes in training set are missing from prediction set\n"
     ]
    },
    {
     "name": "stdout",
     "output_type": "stream",
     "text": [
      "snRNAseq gbm_train_gbm_val (1689, 29748) (5650, 19891)\n"
     ]
    },
    {
     "name": "stderr",
     "output_type": "stream",
     "text": [
      "2020-11-03 18:57:00,852 normalizing the expression counts for model training\n",
      "2020-11-03 18:57:04,462 input dataset shape: (7339, 17613)\n",
      "2020-11-03 18:57:04,463 possible cell types: ['B cell', 'Endothelial', 'Fibroblast', 'Malignant', 'Microglia', 'Monocyte', 'Neuron', 'Oligodendrocytes', 'T cells']\n",
      "2020-11-03 18:57:04,465 possible cell types: [('Malignant', 1200), ('Neuron', 1200), ('Oligodendrocytes', 1200), ('T cells', 1200), ('Microglia', 1200), ('Fibroblast', 810), ('Endothelial', 229), ('B cell', 211), ('Monocyte', 89)]\n",
      "2020-11-03 18:57:06,017 training dataset shape: (3399, 17613)\n",
      "2020-11-03 18:57:06,018 validation dataset shape: (3940, 17613)\n",
      "2020-11-03 18:57:13,932 epoch: 1, train loss: 34.261287689208984, val loss: 16.715831756591797\n",
      "2020-11-03 18:57:20,899 epoch: 2, train loss: 33.686092376708984, val loss: 16.369407653808594\n",
      "2020-11-03 18:57:27,925 epoch: 3, train loss: 32.901466369628906, val loss: 15.76179027557373\n",
      "2020-11-03 18:57:34,953 epoch: 4, train loss: 32.574153900146484, val loss: 15.120892524719238\n",
      "2020-11-03 18:57:41,923 epoch: 5, train loss: 32.29253005981445, val loss: 15.049266815185547\n",
      "2020-11-03 18:57:48,848 epoch: 6, train loss: 32.04978561401367, val loss: 14.948723793029785\n",
      "2020-11-03 18:57:55,780 epoch: 7, train loss: 32.31282043457031, val loss: 14.90246295928955\n",
      "2020-11-03 18:58:02,774 epoch: 8, train loss: 32.10719680786133, val loss: 14.78544807434082\n",
      "2020-11-03 18:58:09,633 epoch: 9, train loss: 31.692699432373047, val loss: 14.72471809387207\n",
      "2020-11-03 18:58:16,429 epoch: 10, train loss: 31.67207145690918, val loss: 14.635570526123047\n",
      "2020-11-03 18:58:23,375 epoch: 11, train loss: 31.14781379699707, val loss: 14.506625175476074\n",
      "2020-11-03 18:58:30,287 epoch: 12, train loss: 31.045656204223633, val loss: 14.448973655700684\n",
      "2020-11-03 18:58:37,230 epoch: 13, train loss: 30.971498489379883, val loss: 14.360955238342285\n",
      "2020-11-03 18:58:44,183 epoch: 14, train loss: 30.694562911987305, val loss: 14.29628849029541\n",
      "2020-11-03 18:58:51,092 epoch: 15, train loss: 30.59511375427246, val loss: 14.272968292236328\n",
      "2020-11-03 18:58:58,053 epoch: 16, train loss: 30.53226089477539, val loss: 14.216741561889648\n",
      "2020-11-03 18:59:05,029 epoch: 17, train loss: 30.313026428222656, val loss: 14.164104461669922\n",
      "2020-11-03 18:59:11,965 epoch: 18, train loss: 30.064746856689453, val loss: 14.142940521240234\n",
      "2020-11-03 18:59:18,842 epoch: 19, train loss: 30.018260955810547, val loss: 14.11059284210205\n",
      "2020-11-03 18:59:25,711 epoch: 20, train loss: 29.669355392456055, val loss: 14.09034538269043\n",
      "2020-11-03 18:59:32,184 normalizing counts for prediction\n",
      "2020-11-03 18:59:32,185 filtering for genes in training set\n",
      "2020-11-03 18:59:32,195 0 genes in training set are missing from prediction set\n",
      "2020-11-03 18:59:32,664 starting batch 1 of 1\n",
      "2020-11-03 18:59:32,853 normalizing counts for prediction\n",
      "2020-11-03 18:59:32,853 filtering for genes in training set\n",
      "2020-11-03 18:59:32,863 0 genes in training set are missing from prediction set\n"
     ]
    }
   ],
   "source": [
    "run_workflow_for_cross_datatype(adata_map, run_pollock_workflow, 'pollock', RESULTS_CROSS_DTYPE_DIR)"
   ]
  },
  {
   "cell_type": "markdown",
   "metadata": {
    "heading_collapsed": true
   },
   "source": [
    "###### testing stuff"
   ]
  },
  {
   "cell_type": "code",
   "execution_count": null,
   "metadata": {
    "hidden": true
   },
   "outputs": [],
   "source": [
    "train, val = sc.read_h5ad(adata_map['snRNAseq']['brca']['train']), sc.read_h5ad(adata_map['scRNAseq']['brca']['val'])"
   ]
  },
  {
   "cell_type": "code",
   "execution_count": null,
   "metadata": {
    "hidden": true
   },
   "outputs": [],
   "source": [
    "module_dir = os.path.join(SANDBOX_DIR, 'temp_module')"
   ]
  },
  {
   "cell_type": "code",
   "execution_count": null,
   "metadata": {
    "hidden": true
   },
   "outputs": [],
   "source": [
    "train.obs['is_validation'] = [False] * train.shape[0]\n",
    "val.obs['is_validation'] = [True] * val.shape[0]\n",
    "combined = train.concatenate(val)\n",
    "combined"
   ]
  },
  {
   "cell_type": "code",
   "execution_count": null,
   "metadata": {
    "hidden": true
   },
   "outputs": [],
   "source": [
    "# pds = PollockDataset(train, cell_type_key=CELL_TYPE_KEY,\n",
    "#                      dataset_type='training')"
   ]
  },
  {
   "cell_type": "code",
   "execution_count": null,
   "metadata": {
    "hidden": true
   },
   "outputs": [],
   "source": [
    "val.shape"
   ]
  },
  {
   "cell_type": "code",
   "execution_count": null,
   "metadata": {
    "hidden": true
   },
   "outputs": [],
   "source": [
    "pds = PollockDataset(combined, cell_type_key=CELL_TYPE_KEY,\n",
    "                     dataset_type='training', validation_key='is_validation')"
   ]
  },
  {
   "cell_type": "code",
   "execution_count": null,
   "metadata": {
    "hidden": true
   },
   "outputs": [],
   "source": [
    "pm = PollockModel(pds.cell_types, pds.train_adata.shape[1], alpha=.0001, latent_dim=25)"
   ]
  },
  {
   "cell_type": "code",
   "execution_count": null,
   "metadata": {
    "hidden": true,
    "scrolled": true
   },
   "outputs": [],
   "source": [
    "pm.fit(pds, epochs=2)"
   ]
  },
  {
   "cell_type": "code",
   "execution_count": null,
   "metadata": {
    "hidden": true
   },
   "outputs": [],
   "source": [
    "pm.save(pds, module_dir)"
   ]
  },
  {
   "cell_type": "code",
   "execution_count": null,
   "metadata": {
    "hidden": true
   },
   "outputs": [],
   "source": [
    "val.shape"
   ]
  },
  {
   "cell_type": "code",
   "execution_count": null,
   "metadata": {
    "hidden": true,
    "scrolled": true
   },
   "outputs": [],
   "source": [
    "preds = predict_from_anndata(val.copy(),\n",
    "        '/home/estorrs/pollock/benchmarking/sandbox/temp_module', adata_batch_size=10000)\n",
    "preds"
   ]
  },
  {
   "cell_type": "code",
   "execution_count": null,
   "metadata": {
    "hidden": true
   },
   "outputs": [],
   "source": [
    "df = pd.DataFrame.from_dict({\n",
    "    'cell_id': preds.index.to_list(),\n",
    "    'groundtruth': val.obs.loc[preds.index][CELL_TYPE_KEY].to_list(),\n",
    "    'predicted': preds['predicted_cell_type'],\n",
    "    'probability': preds['cell_type_probability']\n",
    "})\n",
    "df"
   ]
  },
  {
   "cell_type": "markdown",
   "metadata": {},
   "source": [
    "##### scanpy ingest"
   ]
  },
  {
   "cell_type": "code",
   "execution_count": 95,
   "metadata": {},
   "outputs": [],
   "source": [
    "def ingest_preprocess(adata):\n",
    "    adata.var['mt'] = adata.var_names.str.startswith('MT-')\n",
    "    sc.pp.calculate_qc_metrics(adata, qc_vars=['mt'], percent_top=None, log1p=False, inplace=True)\n",
    "    sc.pp.normalize_total(adata, target_sum=1e4)\n",
    "    sc.pp.log1p(adata)\n",
    "    sc.pp.highly_variable_genes(adata, flavor=\"seurat\", n_top_genes=2500)\n",
    "    adata.raw = adata\n",
    "    adata = adata[:, adata.var.highly_variable]\n",
    "    sc.pp.regress_out(adata, ['total_counts', 'pct_counts_mt'])\n",
    "    sc.pp.scale(adata)\n",
    "    \n",
    "    return adata\n",
    "\n",
    "def run_scanpy_workflow(train, val, cell_type_key):\n",
    "    var_names = train.var_names.intersection(val.var_names)\n",
    "    train = train[:, var_names]\n",
    "    val = val[:, var_names]\n",
    "    \n",
    "    groundtruth = val.obs[cell_type_key].to_list()\n",
    "\n",
    "    sc.pp.pca(train)\n",
    "    sc.pp.neighbors(train)\n",
    "    sc.tl.umap(train)\n",
    "    \n",
    "    sc.tl.ingest(val, train, obs=cell_type_key)\n",
    "    \n",
    "    df = pd.DataFrame.from_dict({\n",
    "        'cell_id': val.obs.index.to_list(),\n",
    "        'groundtruth': groundtruth,\n",
    "        'predicted': val.obs[cell_type_key].to_list(),\n",
    "        'probability': [np.nan] * val.shape[0]\n",
    "    })\n",
    "    \n",
    "    return df"
   ]
  },
  {
   "cell_type": "code",
   "execution_count": 22,
   "metadata": {
    "scrolled": true
   },
   "outputs": [
    {
     "name": "stdout",
     "output_type": "stream",
     "text": [
      "scRNAseq brca (2600, 27131) (11253, 27131)\n"
     ]
    },
    {
     "name": "stderr",
     "output_type": "stream",
     "text": [
      "/home/estorrs/miniconda3/envs/pollock_dev/lib/python3.7/site-packages/anndata/_core/anndata.py:1094: FutureWarning: is_categorical is deprecated and will be removed in a future version.  Use is_categorical_dtype instead\n",
      "  if not is_categorical(df_full[k]):\n"
     ]
    },
    {
     "name": "stdout",
     "output_type": "stream",
     "text": [
      "scRNAseq cesc (1941, 22928) (8449, 22928)\n"
     ]
    },
    {
     "name": "stderr",
     "output_type": "stream",
     "text": [
      "/home/estorrs/miniconda3/envs/pollock_dev/lib/python3.7/site-packages/anndata/_core/anndata.py:1094: FutureWarning: is_categorical is deprecated and will be removed in a future version.  Use is_categorical_dtype instead\n",
      "  if not is_categorical(df_full[k]):\n"
     ]
    },
    {
     "name": "stdout",
     "output_type": "stream",
     "text": [
      "scRNAseq hnscc (2200, 26929) (10288, 26929)\n"
     ]
    },
    {
     "name": "stderr",
     "output_type": "stream",
     "text": [
      "/home/estorrs/miniconda3/envs/pollock_dev/lib/python3.7/site-packages/anndata/_core/anndata.py:1094: FutureWarning: is_categorical is deprecated and will be removed in a future version.  Use is_categorical_dtype instead\n",
      "  if not is_categorical(df_full[k]):\n"
     ]
    },
    {
     "name": "stdout",
     "output_type": "stream",
     "text": [
      "scRNAseq melanoma (2000, 23452) (6735, 23452)\n"
     ]
    },
    {
     "name": "stderr",
     "output_type": "stream",
     "text": [
      "/home/estorrs/miniconda3/envs/pollock_dev/lib/python3.7/site-packages/anndata/_core/anndata.py:1094: FutureWarning: is_categorical is deprecated and will be removed in a future version.  Use is_categorical_dtype instead\n",
      "  if not is_categorical(df_full[k]):\n"
     ]
    },
    {
     "name": "stdout",
     "output_type": "stream",
     "text": [
      "scRNAseq pbmc (940, 32738) (1698, 32738)\n"
     ]
    },
    {
     "name": "stderr",
     "output_type": "stream",
     "text": [
      "/home/estorrs/miniconda3/envs/pollock_dev/lib/python3.7/site-packages/anndata/_core/anndata.py:1094: FutureWarning: is_categorical is deprecated and will be removed in a future version.  Use is_categorical_dtype instead\n",
      "  if not is_categorical(df_full[k]):\n"
     ]
    },
    {
     "name": "stdout",
     "output_type": "stream",
     "text": [
      "scRNAseq pdac (3296, 28756) (15435, 28756)\n"
     ]
    },
    {
     "name": "stderr",
     "output_type": "stream",
     "text": [
      "/home/estorrs/miniconda3/envs/pollock_dev/lib/python3.7/site-packages/anndata/_core/anndata.py:1094: FutureWarning: is_categorical is deprecated and will be removed in a future version.  Use is_categorical_dtype instead\n",
      "  if not is_categorical(df_full[k]):\n"
     ]
    },
    {
     "name": "stdout",
     "output_type": "stream",
     "text": [
      "snATACseq brca (2064, 19891) (9028, 19891)\n"
     ]
    },
    {
     "name": "stderr",
     "output_type": "stream",
     "text": [
      "/home/estorrs/miniconda3/envs/pollock_dev/lib/python3.7/site-packages/anndata/_core/anndata.py:1094: FutureWarning: is_categorical is deprecated and will be removed in a future version.  Use is_categorical_dtype instead\n",
      "  if not is_categorical(df_full[k]):\n"
     ]
    },
    {
     "name": "stdout",
     "output_type": "stream",
     "text": [
      "snATACseq gbm (1316, 19891) (5650, 19891)\n"
     ]
    },
    {
     "name": "stderr",
     "output_type": "stream",
     "text": [
      "/home/estorrs/miniconda3/envs/pollock_dev/lib/python3.7/site-packages/anndata/_core/anndata.py:1094: FutureWarning: is_categorical is deprecated and will be removed in a future version.  Use is_categorical_dtype instead\n",
      "  if not is_categorical(df_full[k]):\n"
     ]
    },
    {
     "name": "stdout",
     "output_type": "stream",
     "text": [
      "snRNAseq brca (2455, 29175) (9490, 29175)\n"
     ]
    },
    {
     "name": "stderr",
     "output_type": "stream",
     "text": [
      "/home/estorrs/miniconda3/envs/pollock_dev/lib/python3.7/site-packages/anndata/_core/anndata.py:1094: FutureWarning: is_categorical is deprecated and will be removed in a future version.  Use is_categorical_dtype instead\n",
      "  if not is_categorical(df_full[k]):\n"
     ]
    },
    {
     "name": "stdout",
     "output_type": "stream",
     "text": [
      "snRNAseq ccrcc (2113, 33538) (8605, 33538)\n"
     ]
    },
    {
     "name": "stderr",
     "output_type": "stream",
     "text": [
      "/home/estorrs/miniconda3/envs/pollock_dev/lib/python3.7/site-packages/anndata/_core/anndata.py:1094: FutureWarning: is_categorical is deprecated and will be removed in a future version.  Use is_categorical_dtype instead\n",
      "  if not is_categorical(df_full[k]):\n"
     ]
    },
    {
     "name": "stdout",
     "output_type": "stream",
     "text": [
      "snRNAseq gbm (1689, 29748) (6810, 29748)\n"
     ]
    },
    {
     "name": "stderr",
     "output_type": "stream",
     "text": [
      "/home/estorrs/miniconda3/envs/pollock_dev/lib/python3.7/site-packages/anndata/_core/anndata.py:1094: FutureWarning: is_categorical is deprecated and will be removed in a future version.  Use is_categorical_dtype instead\n",
      "  if not is_categorical(df_full[k]):\n"
     ]
    }
   ],
   "source": [
    "run_workflow_for_datasets(adata_map, run_scanpy_workflow, 'scanpy_ingest', RESULTS_DIR)"
   ]
  },
  {
   "cell_type": "code",
   "execution_count": 96,
   "metadata": {},
   "outputs": [
    {
     "name": "stdout",
     "output_type": "stream",
     "text": [
      "scRNAseq brca_train_cesc_val (2600, 27131) (8449, 22928)\n",
      "scRNAseq brca_train_hnscc_val (2600, 27131) (10288, 26929)\n",
      "scRNAseq brca_train_melanoma_val (2600, 27131) (6735, 23452)\n",
      "scRNAseq brca_train_pbmc_val (2600, 27131) (1698, 32738)\n",
      "scRNAseq brca_train_pdac_val (2600, 27131) (15435, 28756)\n",
      "scRNAseq cesc_train_brca_val (1941, 22928) (11253, 27131)\n",
      "scRNAseq cesc_train_hnscc_val (1941, 22928) (10288, 26929)\n",
      "scRNAseq cesc_train_melanoma_val (1941, 22928) (6735, 23452)\n",
      "scRNAseq cesc_train_pbmc_val (1941, 22928) (1698, 32738)\n",
      "scRNAseq cesc_train_pdac_val (1941, 22928) (15435, 28756)\n",
      "scRNAseq hnscc_train_brca_val (2200, 26929) (11253, 27131)\n",
      "scRNAseq hnscc_train_cesc_val (2200, 26929) (8449, 22928)\n",
      "scRNAseq hnscc_train_melanoma_val (2200, 26929) (6735, 23452)\n",
      "scRNAseq hnscc_train_pbmc_val (2200, 26929) (1698, 32738)\n",
      "scRNAseq hnscc_train_pdac_val (2200, 26929) (15435, 28756)\n",
      "scRNAseq melanoma_train_brca_val (2000, 23452) (11253, 27131)\n",
      "scRNAseq melanoma_train_cesc_val (2000, 23452) (8449, 22928)\n",
      "scRNAseq melanoma_train_hnscc_val (2000, 23452) (10288, 26929)\n",
      "scRNAseq melanoma_train_pbmc_val (2000, 23452) (1698, 32738)\n",
      "scRNAseq melanoma_train_pdac_val (2000, 23452) (15435, 28756)\n",
      "scRNAseq pbmc_train_brca_val (940, 32738) (11253, 27131)\n",
      "scRNAseq pbmc_train_cesc_val (940, 32738) (8449, 22928)\n",
      "scRNAseq pbmc_train_hnscc_val (940, 32738) (10288, 26929)\n",
      "scRNAseq pbmc_train_melanoma_val (940, 32738) (6735, 23452)\n",
      "scRNAseq pbmc_train_pdac_val (940, 32738) (15435, 28756)\n",
      "scRNAseq pdac_train_brca_val (3296, 28756) (11253, 27131)\n",
      "scRNAseq pdac_train_cesc_val (3296, 28756) (8449, 22928)\n",
      "scRNAseq pdac_train_hnscc_val (3296, 28756) (10288, 26929)\n",
      "scRNAseq pdac_train_melanoma_val (3296, 28756) (6735, 23452)\n",
      "scRNAseq pdac_train_pbmc_val (3296, 28756) (1698, 32738)\n",
      "snATACseq brca_train_gbm_val (2064, 19891) (5650, 19891)\n",
      "snATACseq gbm_train_brca_val (1316, 19891) (9028, 19891)\n",
      "snRNAseq brca_train_ccrcc_val (2455, 29175) (8605, 33538)\n",
      "snRNAseq brca_train_gbm_val (2455, 29175) (6810, 29748)\n",
      "snRNAseq ccrcc_train_brca_val (2113, 33538) (9490, 29175)\n",
      "snRNAseq ccrcc_train_gbm_val (2113, 33538) (6810, 29748)\n",
      "snRNAseq gbm_train_brca_val (1689, 29748) (9490, 29175)\n",
      "snRNAseq gbm_train_ccrcc_val (1689, 29748) (8605, 33538)\n"
     ]
    }
   ],
   "source": [
    "run_workflow_for_cross_disease(adata_map, run_scanpy_workflow, 'scanpy_ingest', RESULTS_CROSS_DISEASE_DIR)"
   ]
  },
  {
   "cell_type": "code",
   "execution_count": 97,
   "metadata": {},
   "outputs": [
    {
     "name": "stdout",
     "output_type": "stream",
     "text": [
      "snRNAseq brca_train_brca_val (2600, 27131) (9028, 19891)\n",
      "snRNAseq brca_train_gbm_val (2600, 27131) (5650, 19891)\n",
      "snRNAseq cesc_train_brca_val (1941, 22928) (9028, 19891)\n",
      "snRNAseq cesc_train_gbm_val (1941, 22928) (5650, 19891)\n",
      "snRNAseq hnscc_train_brca_val (2200, 26929) (9028, 19891)\n",
      "snRNAseq hnscc_train_gbm_val (2200, 26929) (5650, 19891)\n",
      "snRNAseq melanoma_train_brca_val (2000, 23452) (9028, 19891)\n",
      "snRNAseq melanoma_train_gbm_val (2000, 23452) (5650, 19891)\n",
      "snRNAseq pbmc_train_brca_val (940, 32738) (9028, 19891)\n",
      "snRNAseq pbmc_train_gbm_val (940, 32738) (5650, 19891)\n",
      "snRNAseq pdac_train_brca_val (3296, 28756) (9028, 19891)\n",
      "snRNAseq pdac_train_gbm_val (3296, 28756) (5650, 19891)\n",
      "snRNAseq brca_train_brca_val (2600, 27131) (9490, 29175)\n",
      "snRNAseq brca_train_ccrcc_val (2600, 27131) (8605, 33538)\n",
      "snRNAseq brca_train_gbm_val (2600, 27131) (6810, 29748)\n",
      "snRNAseq cesc_train_brca_val (1941, 22928) (9490, 29175)\n",
      "snRNAseq cesc_train_ccrcc_val (1941, 22928) (8605, 33538)\n",
      "snRNAseq cesc_train_gbm_val (1941, 22928) (6810, 29748)\n",
      "snRNAseq hnscc_train_brca_val (2200, 26929) (9490, 29175)\n",
      "snRNAseq hnscc_train_ccrcc_val (2200, 26929) (8605, 33538)\n",
      "snRNAseq hnscc_train_gbm_val (2200, 26929) (6810, 29748)\n",
      "snRNAseq melanoma_train_brca_val (2000, 23452) (9490, 29175)\n",
      "snRNAseq melanoma_train_ccrcc_val (2000, 23452) (8605, 33538)\n",
      "snRNAseq melanoma_train_gbm_val (2000, 23452) (6810, 29748)\n",
      "snRNAseq pbmc_train_brca_val (940, 32738) (9490, 29175)\n",
      "snRNAseq pbmc_train_ccrcc_val (940, 32738) (8605, 33538)\n",
      "snRNAseq pbmc_train_gbm_val (940, 32738) (6810, 29748)\n",
      "snRNAseq pdac_train_brca_val (3296, 28756) (9490, 29175)\n",
      "snRNAseq pdac_train_ccrcc_val (3296, 28756) (8605, 33538)\n",
      "snRNAseq pdac_train_gbm_val (3296, 28756) (6810, 29748)\n",
      "snRNAseq brca_train_brca_val (2064, 19891) (11253, 27131)\n",
      "snRNAseq brca_train_cesc_val (2064, 19891) (8449, 22928)\n",
      "snRNAseq brca_train_hnscc_val (2064, 19891) (10288, 26929)\n",
      "snRNAseq brca_train_melanoma_val (2064, 19891) (6735, 23452)\n",
      "snRNAseq brca_train_pbmc_val (2064, 19891) (1698, 32738)\n",
      "snRNAseq brca_train_pdac_val (2064, 19891) (15435, 28756)\n",
      "snRNAseq gbm_train_brca_val (1316, 19891) (11253, 27131)\n",
      "snRNAseq gbm_train_cesc_val (1316, 19891) (8449, 22928)\n",
      "snRNAseq gbm_train_hnscc_val (1316, 19891) (10288, 26929)\n",
      "snRNAseq gbm_train_melanoma_val (1316, 19891) (6735, 23452)\n",
      "snRNAseq gbm_train_pbmc_val (1316, 19891) (1698, 32738)\n",
      "snRNAseq gbm_train_pdac_val (1316, 19891) (15435, 28756)\n",
      "snRNAseq brca_train_brca_val (2064, 19891) (9490, 29175)\n",
      "snRNAseq brca_train_ccrcc_val (2064, 19891) (8605, 33538)\n",
      "snRNAseq brca_train_gbm_val (2064, 19891) (6810, 29748)\n",
      "snRNAseq gbm_train_brca_val (1316, 19891) (9490, 29175)\n",
      "snRNAseq gbm_train_ccrcc_val (1316, 19891) (8605, 33538)\n",
      "snRNAseq gbm_train_gbm_val (1316, 19891) (6810, 29748)\n",
      "snRNAseq brca_train_brca_val (2455, 29175) (11253, 27131)\n",
      "snRNAseq brca_train_cesc_val (2455, 29175) (8449, 22928)\n",
      "snRNAseq brca_train_hnscc_val (2455, 29175) (10288, 26929)\n",
      "snRNAseq brca_train_melanoma_val (2455, 29175) (6735, 23452)\n",
      "snRNAseq brca_train_pbmc_val (2455, 29175) (1698, 32738)\n",
      "snRNAseq brca_train_pdac_val (2455, 29175) (15435, 28756)\n",
      "snRNAseq ccrcc_train_brca_val (2113, 33538) (11253, 27131)\n",
      "snRNAseq ccrcc_train_cesc_val (2113, 33538) (8449, 22928)\n",
      "snRNAseq ccrcc_train_hnscc_val (2113, 33538) (10288, 26929)\n",
      "snRNAseq ccrcc_train_melanoma_val (2113, 33538) (6735, 23452)\n",
      "snRNAseq ccrcc_train_pbmc_val (2113, 33538) (1698, 32738)\n",
      "snRNAseq ccrcc_train_pdac_val (2113, 33538) (15435, 28756)\n",
      "snRNAseq gbm_train_brca_val (1689, 29748) (11253, 27131)\n",
      "snRNAseq gbm_train_cesc_val (1689, 29748) (8449, 22928)\n",
      "snRNAseq gbm_train_hnscc_val (1689, 29748) (10288, 26929)\n",
      "snRNAseq gbm_train_melanoma_val (1689, 29748) (6735, 23452)\n",
      "snRNAseq gbm_train_pbmc_val (1689, 29748) (1698, 32738)\n",
      "snRNAseq gbm_train_pdac_val (1689, 29748) (15435, 28756)\n",
      "snRNAseq brca_train_brca_val (2455, 29175) (9028, 19891)\n",
      "snRNAseq brca_train_gbm_val (2455, 29175) (5650, 19891)\n",
      "snRNAseq ccrcc_train_brca_val (2113, 33538) (9028, 19891)\n",
      "snRNAseq ccrcc_train_gbm_val (2113, 33538) (5650, 19891)\n",
      "snRNAseq gbm_train_brca_val (1689, 29748) (9028, 19891)\n",
      "snRNAseq gbm_train_gbm_val (1689, 29748) (5650, 19891)\n"
     ]
    }
   ],
   "source": [
    "run_workflow_for_cross_datatype(adata_map, run_scanpy_workflow, 'scanpy_ingest', RESULTS_CROSS_DTYPE_DIR)"
   ]
  },
  {
   "cell_type": "markdown",
   "metadata": {
    "heading_collapsed": true
   },
   "source": [
    "###### testing stuff"
   ]
  },
  {
   "cell_type": "code",
   "execution_count": null,
   "metadata": {
    "hidden": true
   },
   "outputs": [],
   "source": [
    "train, val = adata_map['scRNAseq']['pbmc']['train'].copy(), adata_map['scRNAseq']['pbmc']['val'].copy()"
   ]
  },
  {
   "cell_type": "code",
   "execution_count": null,
   "metadata": {
    "hidden": true
   },
   "outputs": [],
   "source": [
    "train, val = ingest_preprocess(train), ingest_preprocess(val)\n",
    "\n",
    "var_names = train.var_names.intersection(val.var_names)\n",
    "train = train[:, var_names]\n",
    "val = val[:, var_names]\n",
    "\n",
    "sc.pp.pca(train)\n",
    "sc.pp.neighbors(train)\n",
    "sc.tl.umap(train)"
   ]
  },
  {
   "cell_type": "code",
   "execution_count": null,
   "metadata": {
    "hidden": true
   },
   "outputs": [],
   "source": [
    "sc.pl.umap(train, color='cell_type')"
   ]
  },
  {
   "cell_type": "code",
   "execution_count": null,
   "metadata": {
    "hidden": true
   },
   "outputs": [],
   "source": [
    "sc.tl.ingest(val, train, obs=CELL_TYPE_KEY)\n",
    "val.uns[f'{CELL_TYPE_KEY}_colors'] = train.uns[f'{CELL_TYPE_KEY}_colors']"
   ]
  },
  {
   "cell_type": "code",
   "execution_count": null,
   "metadata": {
    "hidden": true
   },
   "outputs": [],
   "source": [
    "sc.pl.umap(val, color=[CELL_TYPE_KEY], wspace=0.5)\n"
   ]
  },
  {
   "cell_type": "code",
   "execution_count": null,
   "metadata": {
    "hidden": true
   },
   "outputs": [],
   "source": [
    "val"
   ]
  },
  {
   "cell_type": "code",
   "execution_count": null,
   "metadata": {
    "hidden": true
   },
   "outputs": [],
   "source": [
    "val.obs"
   ]
  },
  {
   "cell_type": "markdown",
   "metadata": {
    "heading_collapsed": true
   },
   "source": [
    "##### ACTINN"
   ]
  },
  {
   "cell_type": "code",
   "execution_count": 9,
   "metadata": {
    "hidden": true
   },
   "outputs": [],
   "source": [
    "def run_actinn_workflow(train, val, cell_type_key):\n",
    "    X = train.X.toarray() if 'sparse' in str(type(train.X)) else train.X\n",
    "    train_counts_df = pd.DataFrame(data=X.transpose(), index=train.var.index.to_list(),\n",
    "                        columns=train.obs.index.to_list())\n",
    "    X = val.X.toarray() if 'sparse' in str(type(val.X)) else val.X\n",
    "    val_counts_df = pd.DataFrame(data=X.transpose(), index=val.var.index.to_list(),\n",
    "                        columns=val.obs.index.to_list())\n",
    "    \n",
    "    train_counts_fp = os.path.join(SANDBOX_DIR, 'train_counts.txt')\n",
    "    val_counts_fp = os.path.join(SANDBOX_DIR, 'val_counts.txt')\n",
    "    train_counts_df.to_csv(train_counts_fp, sep='\\t')\n",
    "    val_counts_df.to_csv(val_counts_fp, sep='\\t')\n",
    "    \n",
    "    train_h5_fp = os.path.join(SANDBOX_DIR, 'train.h5')\n",
    "    train_annotations_fp = os.path.join(SANDBOX_DIR, 'train_annotations.txt')\n",
    "    val_h5_fp = os.path.join(SANDBOX_DIR, 'val.h5')\n",
    "\n",
    "    train.obs[[CELL_TYPE_KEY]].to_csv(train_annotations_fp, sep='\\t', index=True, header=False)\n",
    "\n",
    "    subprocess.check_output(('python', ACTINN_FORMAT, '-i', train_counts_fp,\n",
    "                            '-o', train_h5_fp.replace('.h5', ''), '-f', 'txt'))\n",
    "    subprocess.check_output(('python', ACTINN_FORMAT, '-i', val_counts_fp,\n",
    "                            '-o', val_h5_fp.replace('.h5', ''), '-f', 'txt'))\n",
    "    # dont use probablity argument or it breaks\n",
    "    subprocess.check_output(('python', ACTINN_PREDICT, '-trs', train_h5_fp,\n",
    "                            '-trl', train_annotations_fp, '-ts', val_h5_fp))\n",
    "    \n",
    "    prediction_df = pd.read_csv('predicted_label.txt', sep='\\t')\n",
    "    \n",
    "    df = pd.DataFrame.from_dict({\n",
    "        'cell_id': prediction_df['cellname'].to_list(),\n",
    "        'predicted': prediction_df['celltype'].to_list(),\n",
    "        'probability': [np.nan] * prediction_df.shape[0]\n",
    "    })\n",
    "    \n",
    "    df = pd.merge(df, val.obs, left_on='cell_id', right_index=True)\n",
    "    df = df[['cell_id', 'cell_type', 'predicted', 'probability']]\n",
    "    df.columns = ['cell_id', 'groundtruth', 'predicted', 'probability']\n",
    "    \n",
    "    return df\n",
    "    \n",
    "    \n",
    "    \n",
    "    \n"
   ]
  },
  {
   "cell_type": "code",
   "execution_count": 10,
   "metadata": {
    "hidden": true
   },
   "outputs": [
    {
     "name": "stdout",
     "output_type": "stream",
     "text": [
      "scRNAseq brca (2600, 27131) (11253, 27131)\n",
      "scRNAseq cesc (1941, 22928) (8449, 22928)\n",
      "scRNAseq hnscc (2200, 26929) (10288, 26929)\n",
      "scRNAseq melanoma (2000, 23452) (6735, 23452)\n",
      "scRNAseq pbmc (940, 32738) (1698, 32738)\n",
      "scRNAseq pdac (3296, 28756) (15435, 28756)\n",
      "snATACseq brca (2064, 19891) (9028, 19891)\n",
      "snATACseq gbm (1316, 19891) (5650, 19891)\n",
      "snRNAseq brca (2455, 29175) (9490, 29175)\n",
      "snRNAseq ccrcc (2113, 33538) (8605, 33538)\n",
      "snRNAseq gbm (1689, 29748) (6810, 29748)\n"
     ]
    }
   ],
   "source": [
    "ACTINN_FORMAT = '/home/estorrs/ACTINN/actinn_format.py'\n",
    "ACTINN_PREDICT = '/home/estorrs/ACTINN/actinn_predict.py'\n",
    "\n",
    "run_workflow_for_datasets(adata_map, run_actinn_workflow, 'actinn', RESULTS_DIR)"
   ]
  },
  {
   "cell_type": "markdown",
   "metadata": {
    "heading_collapsed": true,
    "hidden": true
   },
   "source": [
    "###### testing stuff"
   ]
  },
  {
   "cell_type": "code",
   "execution_count": null,
   "metadata": {
    "hidden": true
   },
   "outputs": [],
   "source": []
  },
  {
   "cell_type": "code",
   "execution_count": null,
   "metadata": {
    "hidden": true
   },
   "outputs": [],
   "source": [
    "train, val = adata_map['scRNAseq']['pbmc']['train'].copy(), adata_map['scRNAseq']['pbmc']['val'].copy()"
   ]
  },
  {
   "cell_type": "code",
   "execution_count": null,
   "metadata": {
    "hidden": true
   },
   "outputs": [],
   "source": [
    "# train.obs['dataset'] = ['train'] * train.shape[0]\n",
    "# val.obs['dataset'] = ['val'] * val.shape[0]\n",
    "# combined = train.concatenate(val)\n",
    "# combined"
   ]
  },
  {
   "cell_type": "code",
   "execution_count": null,
   "metadata": {
    "hidden": true
   },
   "outputs": [],
   "source": [
    "train_counts_df = pd.DataFrame(data=train.X.transpose().toarray(), index=train.var.index.to_list(),\n",
    "                        columns=train.obs.index.to_list())\n",
    "val_counts_df = pd.DataFrame(data=val.X.transpose().toarray(), index=val.var.index.to_list(),\n",
    "                        columns=val.obs.index.to_list())\n",
    "train_counts_df"
   ]
  },
  {
   "cell_type": "code",
   "execution_count": null,
   "metadata": {
    "hidden": true
   },
   "outputs": [],
   "source": [
    "train_counts_fp = os.path.join(SANDBOX_DIR, 'train_counts.txt')\n",
    "val_counts_fp = os.path.join(SANDBOX_DIR, 'val_counts.txt')\n",
    "train_counts_df.to_csv(train_counts_fp, sep='\\t')\n",
    "val_counts_df.to_csv(val_counts_fp, sep='\\t')"
   ]
  },
  {
   "cell_type": "markdown",
   "metadata": {
    "hidden": true
   },
   "source": [
    "python actinn_format.py -i input_file -o output_prefix -f format\n",
    "\n",
    "python actinn_format.py -i ./test_data/train_set.txt.gz -o train_set -f txt\n"
   ]
  },
  {
   "cell_type": "code",
   "execution_count": null,
   "metadata": {
    "hidden": true
   },
   "outputs": [],
   "source": [
    "train_h5_fp = os.path.join(SANDBOX_DIR, 'train.h5')\n",
    "train_annotations_fp = os.path.join(SANDBOX_DIR, 'train_annotations.txt')\n",
    "val_h5_fp = os.path.join(SANDBOX_DIR, 'val.h5')\n",
    "\n",
    "train.obs[[CELL_TYPE_KEY]].to_csv(train_annotations_fp, sep='\\t', index=True, header=False)\n",
    "\n",
    "subprocess.check_output(('python', '/home/estorrs/ACTINN/actinn_format.py', '-i', train_counts_fp,\n",
    "                        '-o', train_h5_fp.replace('.h5', ''), '-f', 'txt'))"
   ]
  },
  {
   "cell_type": "code",
   "execution_count": null,
   "metadata": {
    "hidden": true
   },
   "outputs": [],
   "source": [
    "subprocess.check_output(('python', '/home/estorrs/ACTINN/actinn_format.py', '-i', val_counts_fp,\n",
    "                        '-o', val_h5_fp.replace('.h5', ''), '-f', 'txt'))"
   ]
  },
  {
   "cell_type": "code",
   "execution_count": null,
   "metadata": {
    "hidden": true
   },
   "outputs": [],
   "source": [
    "train.obs[[CELL_TYPE_KEY]]"
   ]
  },
  {
   "cell_type": "markdown",
   "metadata": {
    "hidden": true
   },
   "source": [
    "python actinn_predict.py -trs training_set -trl training_label -ts test_set -lr learning_rat -ne num_epoch -ms minibatch_size -pc print_cost -op output_probability\n",
    "\n",
    "\n",
    "-trs Path to the training set, must be HDF5 format with key \"dge\".\n",
    "\n",
    "-trl Path to the training label (the cell types for the training set), must be tab separated text file with no column and row names.\n",
    "\n",
    "-ts Path to test sets, must be HDF5 format with key \"dge\".\n",
    "\n",
    "-lr Learning rate (default: 0.0001). We can increase the learning rate if the cost drops too slow, or decrease the learning rate if the cost drops super fast in the beginning and starts to fluctuate in later epochs.\n",
    "\n",
    "-ne Number of epochs (default: 50). The number of epochs can be determined by looking at the cost after each epoch. If the cost starts to decrease very slowly after ceartain epoch, then the \"ne\" parameter should be set to that epoch number.\n",
    "\n",
    "-ms Minibatch size (default: 128). This parameter can be set larger when training a large dataset.\n",
    "\n",
    "-pc Print cost (default: True). Whether to print cost after each 5 epochs.\n",
    "\n",
    "-op Output probabilities for each cell being the cell types in the training data (default: False).\n"
   ]
  },
  {
   "cell_type": "code",
   "execution_count": null,
   "metadata": {
    "hidden": true
   },
   "outputs": [],
   "source": [
    "subprocess.check_output(('python', '/home/estorrs/ACTINN/actinn_predict.py', '-trs', train_h5_fp,\n",
    "                        '-trl', train_annotations_fp, '-ts', val_h5_fp))"
   ]
  },
  {
   "cell_type": "code",
   "execution_count": null,
   "metadata": {
    "hidden": true
   },
   "outputs": [],
   "source": [
    "' '.join(('python', '/home/estorrs/ACTINN/actinn_predict.py', '-trs', train_h5_fp,\n",
    "                        '-trl', train_annotations_fp, '-ts', val_h5_fp,\n",
    "                        '-op', 'True'))"
   ]
  },
  {
   "cell_type": "code",
   "execution_count": null,
   "metadata": {
    "hidden": true
   },
   "outputs": [],
   "source": [
    "prediction_df = pd.read_csv('predicted_label.txt', sep='\\t')\n",
    "prediction_df"
   ]
  },
  {
   "cell_type": "code",
   "execution_count": null,
   "metadata": {
    "hidden": true
   },
   "outputs": [],
   "source": [
    "df = pd.DataFrame.from_dict({\n",
    "        'cell_id': prediction_df['cellname'].to_list(),\n",
    "        'prediction': prediction_df['celltype'].to_list(),\n",
    "        'probability': [np.nan] * val.shape[0]\n",
    "    })\n",
    "df"
   ]
  },
  {
   "cell_type": "code",
   "execution_count": null,
   "metadata": {
    "hidden": true
   },
   "outputs": [],
   "source": [
    "val.obs"
   ]
  },
  {
   "cell_type": "code",
   "execution_count": null,
   "metadata": {
    "hidden": true
   },
   "outputs": [],
   "source": [
    "df = pd.merge(df, val.obs, left_on='cell_id', right_index=True)\n",
    "df = df[['cell_id', 'cell_type', 'prediction', 'probability']]\n",
    "df.columns = ['cell_id', 'groundtruth', 'prediction', 'probability']\n",
    "df\n"
   ]
  },
  {
   "cell_type": "markdown",
   "metadata": {},
   "source": [
    "##### Seurat"
   ]
  },
  {
   "cell_type": "code",
   "execution_count": 105,
   "metadata": {},
   "outputs": [],
   "source": [
    "def run_seurat_transfer(train, val, cell_type_key):\n",
    "    # save the input data for the seurat script\n",
    "    train_counts_fp, val_counts_fp = (os.path.join(SANDBOX_DIR, 'train_counts.txt'),\n",
    "                                        os.path.join(SANDBOX_DIR, 'val_counts.txt'))\n",
    "    train_annotations_fp, val_annotations_fp = (os.path.join(SANDBOX_DIR, 'train_annotations.txt'),\n",
    "                                                os.path.join(SANDBOX_DIR, 'val_annotations.txt'))\n",
    "\n",
    "    ## prepare train and val count matrices\n",
    "    X = train.X.toarray() if 'sparse' in str(type(train.X)) else train.X\n",
    "    train_counts = pd.DataFrame(data=X.transpose().astype(np.int32), index=train.var.index,\n",
    "                                columns=train.obs.index)\n",
    "    train_counts.index.name = ''\n",
    "    # for some reason SCTransform fails if the integer values are too high, so capping them here\n",
    "    cap = pow(2, 14)\n",
    "    train_counts.values[train_counts.values>cap] = cap\n",
    "    train_counts.to_csv(train_counts_fp, sep='\\t', header=True, index=True)\n",
    "    \n",
    "    X = val.X.toarray() if 'sparse' in str(type(val.X)) else val.X\n",
    "    val_counts = pd.DataFrame(data=X.transpose().astype(np.int32), index=val.var.index,\n",
    "                                columns=val.obs.index)\n",
    "    val_counts.index.name = ''\n",
    "    val_counts.values[val_counts.values>cap] = cap\n",
    "    val_counts.to_csv(val_counts_fp, sep='\\t', header=True, index=True)\n",
    "\n",
    "    train.obs[[CELL_TYPE_KEY]].to_csv(train_annotations_fp, sep='\\t', header=False, index=False)\n",
    "    val.obs[[CELL_TYPE_KEY]].to_csv(val_annotations_fp, sep='\\t', header=False, index=False)\n",
    "    \n",
    "    # actually run the script and read the results back in\n",
    "    prediction_fp = os.path.join(SANDBOX_DIR, 'seurat_predictions.txt')\n",
    "    try:\n",
    "        subprocess.check_output(('Rscript', SEURAT_SCRIPT, train_counts_fp, train_annotations_fp,\n",
    "                            val_counts_fp, val_annotations_fp, prediction_fp))\n",
    "    except subprocess.CalledProcessError as e:\n",
    "        print(f'called process error', e)\n",
    "        return pd.DataFrame()\n",
    "    \n",
    "    # format the predictions dataframe\n",
    "    df = pd.read_csv(prediction_fp, sep='\\t')\n",
    "    df.index = [x.replace('.', '-') for x in df.index]\n",
    "    # also remove that weird X thing seurat sometimes puts there if first char is _\n",
    "    df.index = [x[1:] if x[:2]=='X_' else x for x in df.index]\n",
    "    df = pd.merge(df, val.obs, left_index=True, right_index=True)\n",
    "    df['cell_id'] = df.index.to_list()\n",
    "    try:\n",
    "        df = df[['cell_id', 'cell_type', 'predicted.id', 'prediction.score.max']]        \n",
    "        df.columns = ['cell_id', 'groundtruth', 'predicted', 'probability']\n",
    "        return df\n",
    "    except KeyError as e:\n",
    "        print(f'key error', e)\n",
    "        return pd.DataFrame()"
   ]
  },
  {
   "cell_type": "code",
   "execution_count": 108,
   "metadata": {
    "scrolled": true
   },
   "outputs": [
    {
     "name": "stdout",
     "output_type": "stream",
     "text": [
      "scRNAseq brca (2600, 27131) (11253, 27131)\n",
      "scRNAseq cesc (1941, 22928) (8449, 22928)\n",
      "scRNAseq hnscc (2200, 26929) (10288, 26929)\n",
      "scRNAseq melanoma (2000, 23452) (6735, 23452)\n",
      "called process error Command '('Rscript', '/home/estorrs/pollock/benchmarking/tools/run_seurat_workflow.R', '/home/estorrs/pollock/benchmarking/sandbox/train_counts.txt', '/home/estorrs/pollock/benchmarking/sandbox/train_annotations.txt', '/home/estorrs/pollock/benchmarking/sandbox/val_counts.txt', '/home/estorrs/pollock/benchmarking/sandbox/val_annotations.txt', '/home/estorrs/pollock/benchmarking/sandbox/seurat_predictions.txt')' returned non-zero exit status 1.\n",
      "scRNAseq pbmc (940, 32738) (1698, 32738)\n",
      "scRNAseq pdac (3296, 28756) (15435, 28756)\n",
      "snATACseq brca (2064, 19891) (9028, 19891)\n",
      "key error \"['predicted.id', 'prediction.score.max'] not in index\"\n",
      "snATACseq gbm (1316, 19891) (5650, 19891)\n",
      "key error \"['predicted.id', 'prediction.score.max'] not in index\"\n",
      "snRNAseq brca (2455, 29175) (9490, 29175)\n",
      "snRNAseq ccrcc (2113, 33538) (8605, 33538)\n",
      "snRNAseq gbm (1689, 29748) (6810, 29748)\n"
     ]
    }
   ],
   "source": [
    "SEURAT_SCRIPT = '/home/estorrs/pollock/benchmarking/tools/run_seurat_workflow.R'\n",
    "run_workflow_for_datasets(adata_map, run_seurat_transfer, 'seurat_transfer', RESULTS_DIR)"
   ]
  },
  {
   "cell_type": "code",
   "execution_count": 106,
   "metadata": {
    "scrolled": true
   },
   "outputs": [
    {
     "name": "stdout",
     "output_type": "stream",
     "text": [
      "scRNAseq brca_train_cesc_val (2600, 27131) (8449, 22928)\n",
      "scRNAseq brca_train_hnscc_val (2600, 27131) (10288, 26929)\n",
      "scRNAseq brca_train_melanoma_val (2600, 27131) (6735, 23452)\n",
      "called process error Command '('Rscript', '/home/estorrs/pollock/benchmarking/tools/run_seurat_workflow.R', '/home/estorrs/pollock/benchmarking/sandbox/train_counts.txt', '/home/estorrs/pollock/benchmarking/sandbox/train_annotations.txt', '/home/estorrs/pollock/benchmarking/sandbox/val_counts.txt', '/home/estorrs/pollock/benchmarking/sandbox/val_annotations.txt', '/home/estorrs/pollock/benchmarking/sandbox/seurat_predictions.txt')' returned non-zero exit status 1.\n",
      "scRNAseq brca_train_pbmc_val (2600, 27131) (1698, 32738)\n",
      "scRNAseq brca_train_pdac_val (2600, 27131) (15435, 28756)\n",
      "scRNAseq cesc_train_brca_val (1941, 22928) (11253, 27131)\n",
      "scRNAseq cesc_train_hnscc_val (1941, 22928) (10288, 26929)\n",
      "scRNAseq cesc_train_melanoma_val (1941, 22928) (6735, 23452)\n",
      "called process error Command '('Rscript', '/home/estorrs/pollock/benchmarking/tools/run_seurat_workflow.R', '/home/estorrs/pollock/benchmarking/sandbox/train_counts.txt', '/home/estorrs/pollock/benchmarking/sandbox/train_annotations.txt', '/home/estorrs/pollock/benchmarking/sandbox/val_counts.txt', '/home/estorrs/pollock/benchmarking/sandbox/val_annotations.txt', '/home/estorrs/pollock/benchmarking/sandbox/seurat_predictions.txt')' returned non-zero exit status 1.\n",
      "scRNAseq cesc_train_pbmc_val (1941, 22928) (1698, 32738)\n",
      "scRNAseq cesc_train_pdac_val (1941, 22928) (15435, 28756)\n",
      "scRNAseq hnscc_train_brca_val (2200, 26929) (11253, 27131)\n",
      "scRNAseq hnscc_train_cesc_val (2200, 26929) (8449, 22928)\n",
      "scRNAseq hnscc_train_melanoma_val (2200, 26929) (6735, 23452)\n",
      "called process error Command '('Rscript', '/home/estorrs/pollock/benchmarking/tools/run_seurat_workflow.R', '/home/estorrs/pollock/benchmarking/sandbox/train_counts.txt', '/home/estorrs/pollock/benchmarking/sandbox/train_annotations.txt', '/home/estorrs/pollock/benchmarking/sandbox/val_counts.txt', '/home/estorrs/pollock/benchmarking/sandbox/val_annotations.txt', '/home/estorrs/pollock/benchmarking/sandbox/seurat_predictions.txt')' returned non-zero exit status 1.\n",
      "scRNAseq hnscc_train_pbmc_val (2200, 26929) (1698, 32738)\n",
      "scRNAseq hnscc_train_pdac_val (2200, 26929) (15435, 28756)\n",
      "scRNAseq melanoma_train_brca_val (2000, 23452) (11253, 27131)\n",
      "called process error Command '('Rscript', '/home/estorrs/pollock/benchmarking/tools/run_seurat_workflow.R', '/home/estorrs/pollock/benchmarking/sandbox/train_counts.txt', '/home/estorrs/pollock/benchmarking/sandbox/train_annotations.txt', '/home/estorrs/pollock/benchmarking/sandbox/val_counts.txt', '/home/estorrs/pollock/benchmarking/sandbox/val_annotations.txt', '/home/estorrs/pollock/benchmarking/sandbox/seurat_predictions.txt')' returned non-zero exit status 1.\n",
      "scRNAseq melanoma_train_cesc_val (2000, 23452) (8449, 22928)\n",
      "called process error Command '('Rscript', '/home/estorrs/pollock/benchmarking/tools/run_seurat_workflow.R', '/home/estorrs/pollock/benchmarking/sandbox/train_counts.txt', '/home/estorrs/pollock/benchmarking/sandbox/train_annotations.txt', '/home/estorrs/pollock/benchmarking/sandbox/val_counts.txt', '/home/estorrs/pollock/benchmarking/sandbox/val_annotations.txt', '/home/estorrs/pollock/benchmarking/sandbox/seurat_predictions.txt')' returned non-zero exit status 1.\n",
      "scRNAseq melanoma_train_hnscc_val (2000, 23452) (10288, 26929)\n",
      "called process error Command '('Rscript', '/home/estorrs/pollock/benchmarking/tools/run_seurat_workflow.R', '/home/estorrs/pollock/benchmarking/sandbox/train_counts.txt', '/home/estorrs/pollock/benchmarking/sandbox/train_annotations.txt', '/home/estorrs/pollock/benchmarking/sandbox/val_counts.txt', '/home/estorrs/pollock/benchmarking/sandbox/val_annotations.txt', '/home/estorrs/pollock/benchmarking/sandbox/seurat_predictions.txt')' returned non-zero exit status 1.\n",
      "scRNAseq melanoma_train_pbmc_val (2000, 23452) (1698, 32738)\n",
      "called process error Command '('Rscript', '/home/estorrs/pollock/benchmarking/tools/run_seurat_workflow.R', '/home/estorrs/pollock/benchmarking/sandbox/train_counts.txt', '/home/estorrs/pollock/benchmarking/sandbox/train_annotations.txt', '/home/estorrs/pollock/benchmarking/sandbox/val_counts.txt', '/home/estorrs/pollock/benchmarking/sandbox/val_annotations.txt', '/home/estorrs/pollock/benchmarking/sandbox/seurat_predictions.txt')' returned non-zero exit status 1.\n",
      "scRNAseq melanoma_train_pdac_val (2000, 23452) (15435, 28756)\n",
      "called process error Command '('Rscript', '/home/estorrs/pollock/benchmarking/tools/run_seurat_workflow.R', '/home/estorrs/pollock/benchmarking/sandbox/train_counts.txt', '/home/estorrs/pollock/benchmarking/sandbox/train_annotations.txt', '/home/estorrs/pollock/benchmarking/sandbox/val_counts.txt', '/home/estorrs/pollock/benchmarking/sandbox/val_annotations.txt', '/home/estorrs/pollock/benchmarking/sandbox/seurat_predictions.txt')' returned non-zero exit status 1.\n",
      "scRNAseq pbmc_train_brca_val (940, 32738) (11253, 27131)\n",
      "scRNAseq pbmc_train_cesc_val (940, 32738) (8449, 22928)\n",
      "scRNAseq pbmc_train_hnscc_val (940, 32738) (10288, 26929)\n",
      "scRNAseq pbmc_train_melanoma_val (940, 32738) (6735, 23452)\n",
      "called process error Command '('Rscript', '/home/estorrs/pollock/benchmarking/tools/run_seurat_workflow.R', '/home/estorrs/pollock/benchmarking/sandbox/train_counts.txt', '/home/estorrs/pollock/benchmarking/sandbox/train_annotations.txt', '/home/estorrs/pollock/benchmarking/sandbox/val_counts.txt', '/home/estorrs/pollock/benchmarking/sandbox/val_annotations.txt', '/home/estorrs/pollock/benchmarking/sandbox/seurat_predictions.txt')' returned non-zero exit status 1.\n",
      "scRNAseq pbmc_train_pdac_val (940, 32738) (15435, 28756)\n",
      "scRNAseq pdac_train_brca_val (3296, 28756) (11253, 27131)\n",
      "scRNAseq pdac_train_cesc_val (3296, 28756) (8449, 22928)\n",
      "scRNAseq pdac_train_hnscc_val (3296, 28756) (10288, 26929)\n",
      "scRNAseq pdac_train_melanoma_val (3296, 28756) (6735, 23452)\n",
      "called process error Command '('Rscript', '/home/estorrs/pollock/benchmarking/tools/run_seurat_workflow.R', '/home/estorrs/pollock/benchmarking/sandbox/train_counts.txt', '/home/estorrs/pollock/benchmarking/sandbox/train_annotations.txt', '/home/estorrs/pollock/benchmarking/sandbox/val_counts.txt', '/home/estorrs/pollock/benchmarking/sandbox/val_annotations.txt', '/home/estorrs/pollock/benchmarking/sandbox/seurat_predictions.txt')' returned non-zero exit status 1.\n",
      "scRNAseq pdac_train_pbmc_val (3296, 28756) (1698, 32738)\n",
      "snATACseq brca_train_gbm_val (2064, 19891) (5650, 19891)\n",
      "key error \"['predicted.id', 'prediction.score.max'] not in index\"\n",
      "snATACseq gbm_train_brca_val (1316, 19891) (9028, 19891)\n",
      "key error \"['predicted.id', 'prediction.score.max'] not in index\"\n",
      "snRNAseq brca_train_ccrcc_val (2455, 29175) (8605, 33538)\n",
      "snRNAseq brca_train_gbm_val (2455, 29175) (6810, 29748)\n",
      "snRNAseq ccrcc_train_brca_val (2113, 33538) (9490, 29175)\n",
      "snRNAseq ccrcc_train_gbm_val (2113, 33538) (6810, 29748)\n",
      "snRNAseq gbm_train_brca_val (1689, 29748) (9490, 29175)\n",
      "snRNAseq gbm_train_ccrcc_val (1689, 29748) (8605, 33538)\n"
     ]
    }
   ],
   "source": [
    "run_workflow_for_cross_disease(adata_map, run_seurat_transfer, 'seurat_transfer', RESULTS_CROSS_DISEASE_DIR)"
   ]
  },
  {
   "cell_type": "code",
   "execution_count": 107,
   "metadata": {
    "scrolled": true
   },
   "outputs": [
    {
     "name": "stdout",
     "output_type": "stream",
     "text": [
      "snRNAseq brca_train_brca_val (2600, 27131) (9028, 19891)\n",
      "key error \"['predicted.id', 'prediction.score.max'] not in index\"\n",
      "snRNAseq brca_train_gbm_val (2600, 27131) (5650, 19891)\n",
      "key error \"['predicted.id', 'prediction.score.max'] not in index\"\n",
      "snRNAseq cesc_train_brca_val (1941, 22928) (9028, 19891)\n",
      "key error \"['predicted.id', 'prediction.score.max'] not in index\"\n",
      "snRNAseq cesc_train_gbm_val (1941, 22928) (5650, 19891)\n",
      "key error \"['predicted.id', 'prediction.score.max'] not in index\"\n",
      "snRNAseq hnscc_train_brca_val (2200, 26929) (9028, 19891)\n",
      "key error \"['predicted.id', 'prediction.score.max'] not in index\"\n",
      "snRNAseq hnscc_train_gbm_val (2200, 26929) (5650, 19891)\n",
      "key error \"['predicted.id', 'prediction.score.max'] not in index\"\n",
      "snRNAseq melanoma_train_brca_val (2000, 23452) (9028, 19891)\n",
      "called process error Command '('Rscript', '/home/estorrs/pollock/benchmarking/tools/run_seurat_workflow.R', '/home/estorrs/pollock/benchmarking/sandbox/train_counts.txt', '/home/estorrs/pollock/benchmarking/sandbox/train_annotations.txt', '/home/estorrs/pollock/benchmarking/sandbox/val_counts.txt', '/home/estorrs/pollock/benchmarking/sandbox/val_annotations.txt', '/home/estorrs/pollock/benchmarking/sandbox/seurat_predictions.txt')' returned non-zero exit status 1.\n",
      "snRNAseq melanoma_train_gbm_val (2000, 23452) (5650, 19891)\n",
      "called process error Command '('Rscript', '/home/estorrs/pollock/benchmarking/tools/run_seurat_workflow.R', '/home/estorrs/pollock/benchmarking/sandbox/train_counts.txt', '/home/estorrs/pollock/benchmarking/sandbox/train_annotations.txt', '/home/estorrs/pollock/benchmarking/sandbox/val_counts.txt', '/home/estorrs/pollock/benchmarking/sandbox/val_annotations.txt', '/home/estorrs/pollock/benchmarking/sandbox/seurat_predictions.txt')' returned non-zero exit status 1.\n",
      "snRNAseq pbmc_train_brca_val (940, 32738) (9028, 19891)\n",
      "called process error Command '('Rscript', '/home/estorrs/pollock/benchmarking/tools/run_seurat_workflow.R', '/home/estorrs/pollock/benchmarking/sandbox/train_counts.txt', '/home/estorrs/pollock/benchmarking/sandbox/train_annotations.txt', '/home/estorrs/pollock/benchmarking/sandbox/val_counts.txt', '/home/estorrs/pollock/benchmarking/sandbox/val_annotations.txt', '/home/estorrs/pollock/benchmarking/sandbox/seurat_predictions.txt')' returned non-zero exit status 1.\n",
      "snRNAseq pbmc_train_gbm_val (940, 32738) (5650, 19891)\n",
      "key error \"['predicted.id', 'prediction.score.max'] not in index\"\n",
      "snRNAseq pdac_train_brca_val (3296, 28756) (9028, 19891)\n",
      "key error \"['predicted.id', 'prediction.score.max'] not in index\"\n",
      "snRNAseq pdac_train_gbm_val (3296, 28756) (5650, 19891)\n",
      "key error \"['predicted.id', 'prediction.score.max'] not in index\"\n",
      "snRNAseq brca_train_brca_val (2600, 27131) (9490, 29175)\n",
      "snRNAseq brca_train_ccrcc_val (2600, 27131) (8605, 33538)\n",
      "snRNAseq brca_train_gbm_val (2600, 27131) (6810, 29748)\n",
      "snRNAseq cesc_train_brca_val (1941, 22928) (9490, 29175)\n",
      "snRNAseq cesc_train_ccrcc_val (1941, 22928) (8605, 33538)\n",
      "snRNAseq cesc_train_gbm_val (1941, 22928) (6810, 29748)\n",
      "snRNAseq hnscc_train_brca_val (2200, 26929) (9490, 29175)\n",
      "snRNAseq hnscc_train_ccrcc_val (2200, 26929) (8605, 33538)\n",
      "snRNAseq hnscc_train_gbm_val (2200, 26929) (6810, 29748)\n",
      "snRNAseq melanoma_train_brca_val (2000, 23452) (9490, 29175)\n",
      "called process error Command '('Rscript', '/home/estorrs/pollock/benchmarking/tools/run_seurat_workflow.R', '/home/estorrs/pollock/benchmarking/sandbox/train_counts.txt', '/home/estorrs/pollock/benchmarking/sandbox/train_annotations.txt', '/home/estorrs/pollock/benchmarking/sandbox/val_counts.txt', '/home/estorrs/pollock/benchmarking/sandbox/val_annotations.txt', '/home/estorrs/pollock/benchmarking/sandbox/seurat_predictions.txt')' returned non-zero exit status 1.\n",
      "snRNAseq melanoma_train_ccrcc_val (2000, 23452) (8605, 33538)\n",
      "called process error Command '('Rscript', '/home/estorrs/pollock/benchmarking/tools/run_seurat_workflow.R', '/home/estorrs/pollock/benchmarking/sandbox/train_counts.txt', '/home/estorrs/pollock/benchmarking/sandbox/train_annotations.txt', '/home/estorrs/pollock/benchmarking/sandbox/val_counts.txt', '/home/estorrs/pollock/benchmarking/sandbox/val_annotations.txt', '/home/estorrs/pollock/benchmarking/sandbox/seurat_predictions.txt')' returned non-zero exit status 1.\n",
      "snRNAseq melanoma_train_gbm_val (2000, 23452) (6810, 29748)\n",
      "called process error Command '('Rscript', '/home/estorrs/pollock/benchmarking/tools/run_seurat_workflow.R', '/home/estorrs/pollock/benchmarking/sandbox/train_counts.txt', '/home/estorrs/pollock/benchmarking/sandbox/train_annotations.txt', '/home/estorrs/pollock/benchmarking/sandbox/val_counts.txt', '/home/estorrs/pollock/benchmarking/sandbox/val_annotations.txt', '/home/estorrs/pollock/benchmarking/sandbox/seurat_predictions.txt')' returned non-zero exit status 1.\n",
      "snRNAseq pbmc_train_brca_val (940, 32738) (9490, 29175)\n",
      "snRNAseq pbmc_train_ccrcc_val (940, 32738) (8605, 33538)\n",
      "snRNAseq pbmc_train_gbm_val (940, 32738) (6810, 29748)\n",
      "snRNAseq pdac_train_brca_val (3296, 28756) (9490, 29175)\n",
      "snRNAseq pdac_train_ccrcc_val (3296, 28756) (8605, 33538)\n",
      "snRNAseq pdac_train_gbm_val (3296, 28756) (6810, 29748)\n",
      "snRNAseq brca_train_brca_val (2064, 19891) (11253, 27131)\n",
      "called process error Command '('Rscript', '/home/estorrs/pollock/benchmarking/tools/run_seurat_workflow.R', '/home/estorrs/pollock/benchmarking/sandbox/train_counts.txt', '/home/estorrs/pollock/benchmarking/sandbox/train_annotations.txt', '/home/estorrs/pollock/benchmarking/sandbox/val_counts.txt', '/home/estorrs/pollock/benchmarking/sandbox/val_annotations.txt', '/home/estorrs/pollock/benchmarking/sandbox/seurat_predictions.txt')' returned non-zero exit status 1.\n",
      "snRNAseq brca_train_cesc_val (2064, 19891) (8449, 22928)\n",
      "called process error Command '('Rscript', '/home/estorrs/pollock/benchmarking/tools/run_seurat_workflow.R', '/home/estorrs/pollock/benchmarking/sandbox/train_counts.txt', '/home/estorrs/pollock/benchmarking/sandbox/train_annotations.txt', '/home/estorrs/pollock/benchmarking/sandbox/val_counts.txt', '/home/estorrs/pollock/benchmarking/sandbox/val_annotations.txt', '/home/estorrs/pollock/benchmarking/sandbox/seurat_predictions.txt')' returned non-zero exit status 1.\n",
      "snRNAseq brca_train_hnscc_val (2064, 19891) (10288, 26929)\n",
      "called process error Command '('Rscript', '/home/estorrs/pollock/benchmarking/tools/run_seurat_workflow.R', '/home/estorrs/pollock/benchmarking/sandbox/train_counts.txt', '/home/estorrs/pollock/benchmarking/sandbox/train_annotations.txt', '/home/estorrs/pollock/benchmarking/sandbox/val_counts.txt', '/home/estorrs/pollock/benchmarking/sandbox/val_annotations.txt', '/home/estorrs/pollock/benchmarking/sandbox/seurat_predictions.txt')' returned non-zero exit status 1.\n",
      "snRNAseq brca_train_melanoma_val (2064, 19891) (6735, 23452)\n",
      "called process error Command '('Rscript', '/home/estorrs/pollock/benchmarking/tools/run_seurat_workflow.R', '/home/estorrs/pollock/benchmarking/sandbox/train_counts.txt', '/home/estorrs/pollock/benchmarking/sandbox/train_annotations.txt', '/home/estorrs/pollock/benchmarking/sandbox/val_counts.txt', '/home/estorrs/pollock/benchmarking/sandbox/val_annotations.txt', '/home/estorrs/pollock/benchmarking/sandbox/seurat_predictions.txt')' returned non-zero exit status 1.\n",
      "snRNAseq brca_train_pbmc_val (2064, 19891) (1698, 32738)\n",
      "called process error Command '('Rscript', '/home/estorrs/pollock/benchmarking/tools/run_seurat_workflow.R', '/home/estorrs/pollock/benchmarking/sandbox/train_counts.txt', '/home/estorrs/pollock/benchmarking/sandbox/train_annotations.txt', '/home/estorrs/pollock/benchmarking/sandbox/val_counts.txt', '/home/estorrs/pollock/benchmarking/sandbox/val_annotations.txt', '/home/estorrs/pollock/benchmarking/sandbox/seurat_predictions.txt')' returned non-zero exit status 1.\n",
      "snRNAseq brca_train_pdac_val (2064, 19891) (15435, 28756)\n",
      "called process error Command '('Rscript', '/home/estorrs/pollock/benchmarking/tools/run_seurat_workflow.R', '/home/estorrs/pollock/benchmarking/sandbox/train_counts.txt', '/home/estorrs/pollock/benchmarking/sandbox/train_annotations.txt', '/home/estorrs/pollock/benchmarking/sandbox/val_counts.txt', '/home/estorrs/pollock/benchmarking/sandbox/val_annotations.txt', '/home/estorrs/pollock/benchmarking/sandbox/seurat_predictions.txt')' returned non-zero exit status 1.\n"
     ]
    },
    {
     "name": "stdout",
     "output_type": "stream",
     "text": [
      "snRNAseq gbm_train_brca_val (1316, 19891) (11253, 27131)\n",
      "called process error Command '('Rscript', '/home/estorrs/pollock/benchmarking/tools/run_seurat_workflow.R', '/home/estorrs/pollock/benchmarking/sandbox/train_counts.txt', '/home/estorrs/pollock/benchmarking/sandbox/train_annotations.txt', '/home/estorrs/pollock/benchmarking/sandbox/val_counts.txt', '/home/estorrs/pollock/benchmarking/sandbox/val_annotations.txt', '/home/estorrs/pollock/benchmarking/sandbox/seurat_predictions.txt')' returned non-zero exit status 1.\n",
      "snRNAseq gbm_train_cesc_val (1316, 19891) (8449, 22928)\n",
      "snRNAseq gbm_train_hnscc_val (1316, 19891) (10288, 26929)\n",
      "called process error Command '('Rscript', '/home/estorrs/pollock/benchmarking/tools/run_seurat_workflow.R', '/home/estorrs/pollock/benchmarking/sandbox/train_counts.txt', '/home/estorrs/pollock/benchmarking/sandbox/train_annotations.txt', '/home/estorrs/pollock/benchmarking/sandbox/val_counts.txt', '/home/estorrs/pollock/benchmarking/sandbox/val_annotations.txt', '/home/estorrs/pollock/benchmarking/sandbox/seurat_predictions.txt')' returned non-zero exit status 1.\n",
      "snRNAseq gbm_train_melanoma_val (1316, 19891) (6735, 23452)\n",
      "called process error Command '('Rscript', '/home/estorrs/pollock/benchmarking/tools/run_seurat_workflow.R', '/home/estorrs/pollock/benchmarking/sandbox/train_counts.txt', '/home/estorrs/pollock/benchmarking/sandbox/train_annotations.txt', '/home/estorrs/pollock/benchmarking/sandbox/val_counts.txt', '/home/estorrs/pollock/benchmarking/sandbox/val_annotations.txt', '/home/estorrs/pollock/benchmarking/sandbox/seurat_predictions.txt')' returned non-zero exit status 1.\n",
      "snRNAseq gbm_train_pbmc_val (1316, 19891) (1698, 32738)\n",
      "called process error Command '('Rscript', '/home/estorrs/pollock/benchmarking/tools/run_seurat_workflow.R', '/home/estorrs/pollock/benchmarking/sandbox/train_counts.txt', '/home/estorrs/pollock/benchmarking/sandbox/train_annotations.txt', '/home/estorrs/pollock/benchmarking/sandbox/val_counts.txt', '/home/estorrs/pollock/benchmarking/sandbox/val_annotations.txt', '/home/estorrs/pollock/benchmarking/sandbox/seurat_predictions.txt')' returned non-zero exit status 1.\n",
      "snRNAseq gbm_train_pdac_val (1316, 19891) (15435, 28756)\n",
      "called process error Command '('Rscript', '/home/estorrs/pollock/benchmarking/tools/run_seurat_workflow.R', '/home/estorrs/pollock/benchmarking/sandbox/train_counts.txt', '/home/estorrs/pollock/benchmarking/sandbox/train_annotations.txt', '/home/estorrs/pollock/benchmarking/sandbox/val_counts.txt', '/home/estorrs/pollock/benchmarking/sandbox/val_annotations.txt', '/home/estorrs/pollock/benchmarking/sandbox/seurat_predictions.txt')' returned non-zero exit status 1.\n",
      "snRNAseq brca_train_brca_val (2064, 19891) (9490, 29175)\n",
      "snRNAseq brca_train_ccrcc_val (2064, 19891) (8605, 33538)\n",
      "snRNAseq brca_train_gbm_val (2064, 19891) (6810, 29748)\n",
      "snRNAseq gbm_train_brca_val (1316, 19891) (9490, 29175)\n",
      "snRNAseq gbm_train_ccrcc_val (1316, 19891) (8605, 33538)\n",
      "snRNAseq gbm_train_gbm_val (1316, 19891) (6810, 29748)\n",
      "snRNAseq brca_train_brca_val (2455, 29175) (11253, 27131)\n",
      "snRNAseq brca_train_cesc_val (2455, 29175) (8449, 22928)\n",
      "snRNAseq brca_train_hnscc_val (2455, 29175) (10288, 26929)\n",
      "snRNAseq brca_train_melanoma_val (2455, 29175) (6735, 23452)\n",
      "called process error Command '('Rscript', '/home/estorrs/pollock/benchmarking/tools/run_seurat_workflow.R', '/home/estorrs/pollock/benchmarking/sandbox/train_counts.txt', '/home/estorrs/pollock/benchmarking/sandbox/train_annotations.txt', '/home/estorrs/pollock/benchmarking/sandbox/val_counts.txt', '/home/estorrs/pollock/benchmarking/sandbox/val_annotations.txt', '/home/estorrs/pollock/benchmarking/sandbox/seurat_predictions.txt')' returned non-zero exit status 1.\n",
      "snRNAseq brca_train_pbmc_val (2455, 29175) (1698, 32738)\n",
      "called process error Command '('Rscript', '/home/estorrs/pollock/benchmarking/tools/run_seurat_workflow.R', '/home/estorrs/pollock/benchmarking/sandbox/train_counts.txt', '/home/estorrs/pollock/benchmarking/sandbox/train_annotations.txt', '/home/estorrs/pollock/benchmarking/sandbox/val_counts.txt', '/home/estorrs/pollock/benchmarking/sandbox/val_annotations.txt', '/home/estorrs/pollock/benchmarking/sandbox/seurat_predictions.txt')' returned non-zero exit status 1.\n",
      "snRNAseq brca_train_pdac_val (2455, 29175) (15435, 28756)\n",
      "snRNAseq ccrcc_train_brca_val (2113, 33538) (11253, 27131)\n",
      "snRNAseq ccrcc_train_cesc_val (2113, 33538) (8449, 22928)\n",
      "snRNAseq ccrcc_train_hnscc_val (2113, 33538) (10288, 26929)\n",
      "snRNAseq ccrcc_train_melanoma_val (2113, 33538) (6735, 23452)\n",
      "called process error Command '('Rscript', '/home/estorrs/pollock/benchmarking/tools/run_seurat_workflow.R', '/home/estorrs/pollock/benchmarking/sandbox/train_counts.txt', '/home/estorrs/pollock/benchmarking/sandbox/train_annotations.txt', '/home/estorrs/pollock/benchmarking/sandbox/val_counts.txt', '/home/estorrs/pollock/benchmarking/sandbox/val_annotations.txt', '/home/estorrs/pollock/benchmarking/sandbox/seurat_predictions.txt')' returned non-zero exit status 1.\n",
      "snRNAseq ccrcc_train_pbmc_val (2113, 33538) (1698, 32738)\n",
      "snRNAseq ccrcc_train_pdac_val (2113, 33538) (15435, 28756)\n",
      "snRNAseq gbm_train_brca_val (1689, 29748) (11253, 27131)\n",
      "snRNAseq gbm_train_cesc_val (1689, 29748) (8449, 22928)\n",
      "snRNAseq gbm_train_hnscc_val (1689, 29748) (10288, 26929)\n",
      "snRNAseq gbm_train_melanoma_val (1689, 29748) (6735, 23452)\n",
      "called process error Command '('Rscript', '/home/estorrs/pollock/benchmarking/tools/run_seurat_workflow.R', '/home/estorrs/pollock/benchmarking/sandbox/train_counts.txt', '/home/estorrs/pollock/benchmarking/sandbox/train_annotations.txt', '/home/estorrs/pollock/benchmarking/sandbox/val_counts.txt', '/home/estorrs/pollock/benchmarking/sandbox/val_annotations.txt', '/home/estorrs/pollock/benchmarking/sandbox/seurat_predictions.txt')' returned non-zero exit status 1.\n",
      "snRNAseq gbm_train_pbmc_val (1689, 29748) (1698, 32738)\n",
      "called process error Command '('Rscript', '/home/estorrs/pollock/benchmarking/tools/run_seurat_workflow.R', '/home/estorrs/pollock/benchmarking/sandbox/train_counts.txt', '/home/estorrs/pollock/benchmarking/sandbox/train_annotations.txt', '/home/estorrs/pollock/benchmarking/sandbox/val_counts.txt', '/home/estorrs/pollock/benchmarking/sandbox/val_annotations.txt', '/home/estorrs/pollock/benchmarking/sandbox/seurat_predictions.txt')' returned non-zero exit status 1.\n",
      "snRNAseq gbm_train_pdac_val (1689, 29748) (15435, 28756)\n",
      "snRNAseq brca_train_brca_val (2455, 29175) (9028, 19891)\n",
      "key error \"['predicted.id', 'prediction.score.max'] not in index\"\n",
      "snRNAseq brca_train_gbm_val (2455, 29175) (5650, 19891)\n",
      "key error \"['predicted.id', 'prediction.score.max'] not in index\"\n",
      "snRNAseq ccrcc_train_brca_val (2113, 33538) (9028, 19891)\n",
      "key error \"['predicted.id', 'prediction.score.max'] not in index\"\n",
      "snRNAseq ccrcc_train_gbm_val (2113, 33538) (5650, 19891)\n",
      "key error \"['predicted.id', 'prediction.score.max'] not in index\"\n",
      "snRNAseq gbm_train_brca_val (1689, 29748) (9028, 19891)\n",
      "key error \"['predicted.id', 'prediction.score.max'] not in index\"\n",
      "snRNAseq gbm_train_gbm_val (1689, 29748) (5650, 19891)\n",
      "key error \"['predicted.id', 'prediction.score.max'] not in index\"\n"
     ]
    }
   ],
   "source": [
    "run_workflow_for_cross_datatype(adata_map, run_seurat_transfer, 'seurat_transfer', RESULTS_CROSS_DTYPE_DIR)"
   ]
  },
  {
   "cell_type": "markdown",
   "metadata": {
    "heading_collapsed": true
   },
   "source": [
    "###### testing stuff"
   ]
  },
  {
   "cell_type": "code",
   "execution_count": 55,
   "metadata": {
    "hidden": true
   },
   "outputs": [],
   "source": [
    "# train, val = adata_map['scRNAseq']['pbmc']['train'].copy(), adata_map['scRNAseq']['pbmc']['val'].copy()\n",
    "train, val = sc.read_h5ad(adata_map['scRNAseq']['brca']['train']), sc.read_h5ad(adata_map['scRNAseq']['brca']['val'])"
   ]
  },
  {
   "cell_type": "code",
   "execution_count": 56,
   "metadata": {
    "hidden": true
   },
   "outputs": [
    {
     "data": {
      "text/plain": [
       "16384"
      ]
     },
     "execution_count": 56,
     "metadata": {},
     "output_type": "execute_result"
    }
   ],
   "source": [
    "pow(2, 14)"
   ]
  },
  {
   "cell_type": "code",
   "execution_count": 57,
   "metadata": {
    "hidden": true
   },
   "outputs": [],
   "source": [
    "# save the input data for the seurat script\n",
    "train_counts_fp, val_counts_fp = (os.path.join(SANDBOX_DIR, 'train_counts.txt'),\n",
    "                                    os.path.join(SANDBOX_DIR, 'val_counts.txt'))\n",
    "train_annotations_fp, val_annotations_fp = (os.path.join(SANDBOX_DIR, 'train_annotations.txt'),\n",
    "                                            os.path.join(SANDBOX_DIR, 'val_annotations.txt'))\n",
    "\n",
    "## prepare train and val count matrices\n",
    "X = train.X.toarray() if 'sparse' in str(type(train.X)) else train.X\n",
    "train_counts = pd.DataFrame(data=X.transpose().astype(np.int32), index=train.var.index,\n",
    "                            columns=train.obs.index)\n",
    "train_counts.index.name = ''\n",
    "# for some reason SCTransform fails if the integer values are too high, so capping them here\n",
    "cap = pow(2, 14)\n",
    "train_counts.values[train_counts.values>cap] = cap\n",
    "train_counts.to_csv(train_counts_fp, sep='\\t', header=True, index=True)\n",
    "\n",
    "X = val.X.toarray() if 'sparse' in str(type(val.X)) else val.X\n",
    "val_counts = pd.DataFrame(data=X.transpose().astype(np.int32), index=val.var.index,\n",
    "                            columns=val.obs.index)\n",
    "val_counts.index.name = ''\n",
    "val_counts.values[val_counts.values>cap] = cap\n",
    "val_counts.to_csv(val_counts_fp, sep='\\t', header=True, index=True)\n",
    "\n",
    "train.obs[[CELL_TYPE_KEY]].to_csv(train_annotations_fp, sep='\\t', header=False, index=False)\n",
    "val.obs[[CELL_TYPE_KEY]].to_csv(val_annotations_fp, sep='\\t', header=False, index=False)"
   ]
  },
  {
   "cell_type": "code",
   "execution_count": 58,
   "metadata": {
    "hidden": true
   },
   "outputs": [
    {
     "data": {
      "text/html": [
       "<div>\n",
       "<style scoped>\n",
       "    .dataframe tbody tr th:only-of-type {\n",
       "        vertical-align: middle;\n",
       "    }\n",
       "\n",
       "    .dataframe tbody tr th {\n",
       "        vertical-align: top;\n",
       "    }\n",
       "\n",
       "    .dataframe thead th {\n",
       "        text-align: right;\n",
       "    }\n",
       "</style>\n",
       "<table border=\"1\" class=\"dataframe\">\n",
       "  <thead>\n",
       "    <tr style=\"text-align: right;\">\n",
       "      <th></th>\n",
       "      <th>_HT062B1_S1PA_AACCATGTCTCTGGTC-1</th>\n",
       "      <th>_HT062B1_S1PA_AAGCGAGAGAACAGGA-1</th>\n",
       "      <th>_HT062B1_S1PA_AAGTCGTCACAGAGAC-1</th>\n",
       "      <th>_HT062B1_S1PA_AATGACCTCAGGACAG-1</th>\n",
       "      <th>_HT062B1_S1PA_AATGGCTAGCACGGAT-1</th>\n",
       "      <th>_HT062B1_S1PA_ACATTTCGTACTAACC-1</th>\n",
       "      <th>_HT062B1_S1PA_ACGTCCTGTGTATACC-1</th>\n",
       "      <th>_HT062B1_S1PA_ACTGTGAGTGTGGACA-1</th>\n",
       "      <th>_HT062B1_S1PA_ACTTCGCCACAAGCAG-1</th>\n",
       "      <th>_HT062B1_S1PA_ATACTTCGTACAAGTA-1</th>\n",
       "      <th>...</th>\n",
       "      <th>_HT171B1_BC2_TTCGCTGGTATGGTAA-1</th>\n",
       "      <th>_HT171B1_BC2_TTCTAGTCAAGTTCCA-1</th>\n",
       "      <th>_HT171B1_BC2_TTCTTGACATGACTGT-1</th>\n",
       "      <th>_HT171B1_BC2_TTGAACGCAAACCACT-1</th>\n",
       "      <th>_HT171B1_BC2_TTGAACGTCAAGCCCG-1</th>\n",
       "      <th>_HT171B1_BC2_TTGAACGTCGGATACT-1</th>\n",
       "      <th>_HT171B1_BC2_TTGAGTGGTCCAATCA-1</th>\n",
       "      <th>_HT171B1_BC2_TTGATGGCAGAGTGTG-1</th>\n",
       "      <th>_HT171B1_BC2_TTGGGATTCGATGCAT-1</th>\n",
       "      <th>_HT171B1_BC2_TTTCAGTGTTCGGTAT-1</th>\n",
       "    </tr>\n",
       "    <tr>\n",
       "      <th></th>\n",
       "      <th></th>\n",
       "      <th></th>\n",
       "      <th></th>\n",
       "      <th></th>\n",
       "      <th></th>\n",
       "      <th></th>\n",
       "      <th></th>\n",
       "      <th></th>\n",
       "      <th></th>\n",
       "      <th></th>\n",
       "      <th></th>\n",
       "      <th></th>\n",
       "      <th></th>\n",
       "      <th></th>\n",
       "      <th></th>\n",
       "      <th></th>\n",
       "      <th></th>\n",
       "      <th></th>\n",
       "      <th></th>\n",
       "      <th></th>\n",
       "      <th></th>\n",
       "    </tr>\n",
       "  </thead>\n",
       "  <tbody>\n",
       "    <tr>\n",
       "      <th>AL627309.1</th>\n",
       "      <td>0</td>\n",
       "      <td>0</td>\n",
       "      <td>0</td>\n",
       "      <td>0</td>\n",
       "      <td>0</td>\n",
       "      <td>0</td>\n",
       "      <td>0</td>\n",
       "      <td>0</td>\n",
       "      <td>0</td>\n",
       "      <td>0</td>\n",
       "      <td>...</td>\n",
       "      <td>0</td>\n",
       "      <td>0</td>\n",
       "      <td>0</td>\n",
       "      <td>0</td>\n",
       "      <td>0</td>\n",
       "      <td>0</td>\n",
       "      <td>0</td>\n",
       "      <td>0</td>\n",
       "      <td>0</td>\n",
       "      <td>0</td>\n",
       "    </tr>\n",
       "    <tr>\n",
       "      <th>AL627309.3</th>\n",
       "      <td>0</td>\n",
       "      <td>0</td>\n",
       "      <td>0</td>\n",
       "      <td>0</td>\n",
       "      <td>0</td>\n",
       "      <td>0</td>\n",
       "      <td>0</td>\n",
       "      <td>0</td>\n",
       "      <td>0</td>\n",
       "      <td>0</td>\n",
       "      <td>...</td>\n",
       "      <td>0</td>\n",
       "      <td>0</td>\n",
       "      <td>0</td>\n",
       "      <td>0</td>\n",
       "      <td>0</td>\n",
       "      <td>0</td>\n",
       "      <td>0</td>\n",
       "      <td>0</td>\n",
       "      <td>0</td>\n",
       "      <td>0</td>\n",
       "    </tr>\n",
       "    <tr>\n",
       "      <th>AL627309.4</th>\n",
       "      <td>0</td>\n",
       "      <td>0</td>\n",
       "      <td>0</td>\n",
       "      <td>0</td>\n",
       "      <td>0</td>\n",
       "      <td>0</td>\n",
       "      <td>0</td>\n",
       "      <td>0</td>\n",
       "      <td>0</td>\n",
       "      <td>0</td>\n",
       "      <td>...</td>\n",
       "      <td>0</td>\n",
       "      <td>0</td>\n",
       "      <td>0</td>\n",
       "      <td>0</td>\n",
       "      <td>0</td>\n",
       "      <td>0</td>\n",
       "      <td>0</td>\n",
       "      <td>0</td>\n",
       "      <td>0</td>\n",
       "      <td>0</td>\n",
       "    </tr>\n",
       "    <tr>\n",
       "      <th>AL732372.1</th>\n",
       "      <td>0</td>\n",
       "      <td>0</td>\n",
       "      <td>0</td>\n",
       "      <td>0</td>\n",
       "      <td>0</td>\n",
       "      <td>0</td>\n",
       "      <td>0</td>\n",
       "      <td>0</td>\n",
       "      <td>0</td>\n",
       "      <td>0</td>\n",
       "      <td>...</td>\n",
       "      <td>0</td>\n",
       "      <td>0</td>\n",
       "      <td>0</td>\n",
       "      <td>0</td>\n",
       "      <td>0</td>\n",
       "      <td>0</td>\n",
       "      <td>0</td>\n",
       "      <td>0</td>\n",
       "      <td>0</td>\n",
       "      <td>0</td>\n",
       "    </tr>\n",
       "    <tr>\n",
       "      <th>AL669831.2</th>\n",
       "      <td>0</td>\n",
       "      <td>0</td>\n",
       "      <td>0</td>\n",
       "      <td>0</td>\n",
       "      <td>0</td>\n",
       "      <td>0</td>\n",
       "      <td>0</td>\n",
       "      <td>0</td>\n",
       "      <td>0</td>\n",
       "      <td>0</td>\n",
       "      <td>...</td>\n",
       "      <td>0</td>\n",
       "      <td>0</td>\n",
       "      <td>0</td>\n",
       "      <td>0</td>\n",
       "      <td>0</td>\n",
       "      <td>0</td>\n",
       "      <td>0</td>\n",
       "      <td>0</td>\n",
       "      <td>0</td>\n",
       "      <td>0</td>\n",
       "    </tr>\n",
       "    <tr>\n",
       "      <th>...</th>\n",
       "      <td>...</td>\n",
       "      <td>...</td>\n",
       "      <td>...</td>\n",
       "      <td>...</td>\n",
       "      <td>...</td>\n",
       "      <td>...</td>\n",
       "      <td>...</td>\n",
       "      <td>...</td>\n",
       "      <td>...</td>\n",
       "      <td>...</td>\n",
       "      <td>...</td>\n",
       "      <td>...</td>\n",
       "      <td>...</td>\n",
       "      <td>...</td>\n",
       "      <td>...</td>\n",
       "      <td>...</td>\n",
       "      <td>...</td>\n",
       "      <td>...</td>\n",
       "      <td>...</td>\n",
       "      <td>...</td>\n",
       "      <td>...</td>\n",
       "    </tr>\n",
       "    <tr>\n",
       "      <th>AL354822.1</th>\n",
       "      <td>0</td>\n",
       "      <td>0</td>\n",
       "      <td>0</td>\n",
       "      <td>0</td>\n",
       "      <td>0</td>\n",
       "      <td>0</td>\n",
       "      <td>0</td>\n",
       "      <td>0</td>\n",
       "      <td>0</td>\n",
       "      <td>0</td>\n",
       "      <td>...</td>\n",
       "      <td>0</td>\n",
       "      <td>0</td>\n",
       "      <td>0</td>\n",
       "      <td>0</td>\n",
       "      <td>0</td>\n",
       "      <td>0</td>\n",
       "      <td>0</td>\n",
       "      <td>0</td>\n",
       "      <td>0</td>\n",
       "      <td>0</td>\n",
       "    </tr>\n",
       "    <tr>\n",
       "      <th>AC004556.1</th>\n",
       "      <td>0</td>\n",
       "      <td>0</td>\n",
       "      <td>0</td>\n",
       "      <td>0</td>\n",
       "      <td>0</td>\n",
       "      <td>0</td>\n",
       "      <td>0</td>\n",
       "      <td>0</td>\n",
       "      <td>0</td>\n",
       "      <td>0</td>\n",
       "      <td>...</td>\n",
       "      <td>0</td>\n",
       "      <td>0</td>\n",
       "      <td>0</td>\n",
       "      <td>0</td>\n",
       "      <td>0</td>\n",
       "      <td>0</td>\n",
       "      <td>0</td>\n",
       "      <td>0</td>\n",
       "      <td>0</td>\n",
       "      <td>0</td>\n",
       "    </tr>\n",
       "    <tr>\n",
       "      <th>AC233755.2</th>\n",
       "      <td>0</td>\n",
       "      <td>0</td>\n",
       "      <td>0</td>\n",
       "      <td>0</td>\n",
       "      <td>0</td>\n",
       "      <td>0</td>\n",
       "      <td>0</td>\n",
       "      <td>0</td>\n",
       "      <td>0</td>\n",
       "      <td>0</td>\n",
       "      <td>...</td>\n",
       "      <td>0</td>\n",
       "      <td>0</td>\n",
       "      <td>0</td>\n",
       "      <td>0</td>\n",
       "      <td>0</td>\n",
       "      <td>0</td>\n",
       "      <td>0</td>\n",
       "      <td>0</td>\n",
       "      <td>0</td>\n",
       "      <td>0</td>\n",
       "    </tr>\n",
       "    <tr>\n",
       "      <th>AC233755.1</th>\n",
       "      <td>0</td>\n",
       "      <td>0</td>\n",
       "      <td>0</td>\n",
       "      <td>0</td>\n",
       "      <td>0</td>\n",
       "      <td>0</td>\n",
       "      <td>0</td>\n",
       "      <td>0</td>\n",
       "      <td>0</td>\n",
       "      <td>0</td>\n",
       "      <td>...</td>\n",
       "      <td>0</td>\n",
       "      <td>0</td>\n",
       "      <td>0</td>\n",
       "      <td>0</td>\n",
       "      <td>0</td>\n",
       "      <td>0</td>\n",
       "      <td>0</td>\n",
       "      <td>0</td>\n",
       "      <td>0</td>\n",
       "      <td>0</td>\n",
       "    </tr>\n",
       "    <tr>\n",
       "      <th>AC240274.1</th>\n",
       "      <td>0</td>\n",
       "      <td>0</td>\n",
       "      <td>0</td>\n",
       "      <td>0</td>\n",
       "      <td>0</td>\n",
       "      <td>0</td>\n",
       "      <td>0</td>\n",
       "      <td>0</td>\n",
       "      <td>0</td>\n",
       "      <td>0</td>\n",
       "      <td>...</td>\n",
       "      <td>0</td>\n",
       "      <td>0</td>\n",
       "      <td>0</td>\n",
       "      <td>0</td>\n",
       "      <td>0</td>\n",
       "      <td>0</td>\n",
       "      <td>0</td>\n",
       "      <td>0</td>\n",
       "      <td>0</td>\n",
       "      <td>0</td>\n",
       "    </tr>\n",
       "  </tbody>\n",
       "</table>\n",
       "<p>27131 rows × 2600 columns</p>\n",
       "</div>"
      ],
      "text/plain": [
       "            _HT062B1_S1PA_AACCATGTCTCTGGTC-1  \\\n",
       "                                               \n",
       "AL627309.1                                 0   \n",
       "AL627309.3                                 0   \n",
       "AL627309.4                                 0   \n",
       "AL732372.1                                 0   \n",
       "AL669831.2                                 0   \n",
       "...                                      ...   \n",
       "AL354822.1                                 0   \n",
       "AC004556.1                                 0   \n",
       "AC233755.2                                 0   \n",
       "AC233755.1                                 0   \n",
       "AC240274.1                                 0   \n",
       "\n",
       "            _HT062B1_S1PA_AAGCGAGAGAACAGGA-1  \\\n",
       "                                               \n",
       "AL627309.1                                 0   \n",
       "AL627309.3                                 0   \n",
       "AL627309.4                                 0   \n",
       "AL732372.1                                 0   \n",
       "AL669831.2                                 0   \n",
       "...                                      ...   \n",
       "AL354822.1                                 0   \n",
       "AC004556.1                                 0   \n",
       "AC233755.2                                 0   \n",
       "AC233755.1                                 0   \n",
       "AC240274.1                                 0   \n",
       "\n",
       "            _HT062B1_S1PA_AAGTCGTCACAGAGAC-1  \\\n",
       "                                               \n",
       "AL627309.1                                 0   \n",
       "AL627309.3                                 0   \n",
       "AL627309.4                                 0   \n",
       "AL732372.1                                 0   \n",
       "AL669831.2                                 0   \n",
       "...                                      ...   \n",
       "AL354822.1                                 0   \n",
       "AC004556.1                                 0   \n",
       "AC233755.2                                 0   \n",
       "AC233755.1                                 0   \n",
       "AC240274.1                                 0   \n",
       "\n",
       "            _HT062B1_S1PA_AATGACCTCAGGACAG-1  \\\n",
       "                                               \n",
       "AL627309.1                                 0   \n",
       "AL627309.3                                 0   \n",
       "AL627309.4                                 0   \n",
       "AL732372.1                                 0   \n",
       "AL669831.2                                 0   \n",
       "...                                      ...   \n",
       "AL354822.1                                 0   \n",
       "AC004556.1                                 0   \n",
       "AC233755.2                                 0   \n",
       "AC233755.1                                 0   \n",
       "AC240274.1                                 0   \n",
       "\n",
       "            _HT062B1_S1PA_AATGGCTAGCACGGAT-1  \\\n",
       "                                               \n",
       "AL627309.1                                 0   \n",
       "AL627309.3                                 0   \n",
       "AL627309.4                                 0   \n",
       "AL732372.1                                 0   \n",
       "AL669831.2                                 0   \n",
       "...                                      ...   \n",
       "AL354822.1                                 0   \n",
       "AC004556.1                                 0   \n",
       "AC233755.2                                 0   \n",
       "AC233755.1                                 0   \n",
       "AC240274.1                                 0   \n",
       "\n",
       "            _HT062B1_S1PA_ACATTTCGTACTAACC-1  \\\n",
       "                                               \n",
       "AL627309.1                                 0   \n",
       "AL627309.3                                 0   \n",
       "AL627309.4                                 0   \n",
       "AL732372.1                                 0   \n",
       "AL669831.2                                 0   \n",
       "...                                      ...   \n",
       "AL354822.1                                 0   \n",
       "AC004556.1                                 0   \n",
       "AC233755.2                                 0   \n",
       "AC233755.1                                 0   \n",
       "AC240274.1                                 0   \n",
       "\n",
       "            _HT062B1_S1PA_ACGTCCTGTGTATACC-1  \\\n",
       "                                               \n",
       "AL627309.1                                 0   \n",
       "AL627309.3                                 0   \n",
       "AL627309.4                                 0   \n",
       "AL732372.1                                 0   \n",
       "AL669831.2                                 0   \n",
       "...                                      ...   \n",
       "AL354822.1                                 0   \n",
       "AC004556.1                                 0   \n",
       "AC233755.2                                 0   \n",
       "AC233755.1                                 0   \n",
       "AC240274.1                                 0   \n",
       "\n",
       "            _HT062B1_S1PA_ACTGTGAGTGTGGACA-1  \\\n",
       "                                               \n",
       "AL627309.1                                 0   \n",
       "AL627309.3                                 0   \n",
       "AL627309.4                                 0   \n",
       "AL732372.1                                 0   \n",
       "AL669831.2                                 0   \n",
       "...                                      ...   \n",
       "AL354822.1                                 0   \n",
       "AC004556.1                                 0   \n",
       "AC233755.2                                 0   \n",
       "AC233755.1                                 0   \n",
       "AC240274.1                                 0   \n",
       "\n",
       "            _HT062B1_S1PA_ACTTCGCCACAAGCAG-1  \\\n",
       "                                               \n",
       "AL627309.1                                 0   \n",
       "AL627309.3                                 0   \n",
       "AL627309.4                                 0   \n",
       "AL732372.1                                 0   \n",
       "AL669831.2                                 0   \n",
       "...                                      ...   \n",
       "AL354822.1                                 0   \n",
       "AC004556.1                                 0   \n",
       "AC233755.2                                 0   \n",
       "AC233755.1                                 0   \n",
       "AC240274.1                                 0   \n",
       "\n",
       "            _HT062B1_S1PA_ATACTTCGTACAAGTA-1  ...  \\\n",
       "                                              ...   \n",
       "AL627309.1                                 0  ...   \n",
       "AL627309.3                                 0  ...   \n",
       "AL627309.4                                 0  ...   \n",
       "AL732372.1                                 0  ...   \n",
       "AL669831.2                                 0  ...   \n",
       "...                                      ...  ...   \n",
       "AL354822.1                                 0  ...   \n",
       "AC004556.1                                 0  ...   \n",
       "AC233755.2                                 0  ...   \n",
       "AC233755.1                                 0  ...   \n",
       "AC240274.1                                 0  ...   \n",
       "\n",
       "            _HT171B1_BC2_TTCGCTGGTATGGTAA-1  _HT171B1_BC2_TTCTAGTCAAGTTCCA-1  \\\n",
       "                                                                               \n",
       "AL627309.1                                0                                0   \n",
       "AL627309.3                                0                                0   \n",
       "AL627309.4                                0                                0   \n",
       "AL732372.1                                0                                0   \n",
       "AL669831.2                                0                                0   \n",
       "...                                     ...                              ...   \n",
       "AL354822.1                                0                                0   \n",
       "AC004556.1                                0                                0   \n",
       "AC233755.2                                0                                0   \n",
       "AC233755.1                                0                                0   \n",
       "AC240274.1                                0                                0   \n",
       "\n",
       "            _HT171B1_BC2_TTCTTGACATGACTGT-1  _HT171B1_BC2_TTGAACGCAAACCACT-1  \\\n",
       "                                                                               \n",
       "AL627309.1                                0                                0   \n",
       "AL627309.3                                0                                0   \n",
       "AL627309.4                                0                                0   \n",
       "AL732372.1                                0                                0   \n",
       "AL669831.2                                0                                0   \n",
       "...                                     ...                              ...   \n",
       "AL354822.1                                0                                0   \n",
       "AC004556.1                                0                                0   \n",
       "AC233755.2                                0                                0   \n",
       "AC233755.1                                0                                0   \n",
       "AC240274.1                                0                                0   \n",
       "\n",
       "            _HT171B1_BC2_TTGAACGTCAAGCCCG-1  _HT171B1_BC2_TTGAACGTCGGATACT-1  \\\n",
       "                                                                               \n",
       "AL627309.1                                0                                0   \n",
       "AL627309.3                                0                                0   \n",
       "AL627309.4                                0                                0   \n",
       "AL732372.1                                0                                0   \n",
       "AL669831.2                                0                                0   \n",
       "...                                     ...                              ...   \n",
       "AL354822.1                                0                                0   \n",
       "AC004556.1                                0                                0   \n",
       "AC233755.2                                0                                0   \n",
       "AC233755.1                                0                                0   \n",
       "AC240274.1                                0                                0   \n",
       "\n",
       "            _HT171B1_BC2_TTGAGTGGTCCAATCA-1  _HT171B1_BC2_TTGATGGCAGAGTGTG-1  \\\n",
       "                                                                               \n",
       "AL627309.1                                0                                0   \n",
       "AL627309.3                                0                                0   \n",
       "AL627309.4                                0                                0   \n",
       "AL732372.1                                0                                0   \n",
       "AL669831.2                                0                                0   \n",
       "...                                     ...                              ...   \n",
       "AL354822.1                                0                                0   \n",
       "AC004556.1                                0                                0   \n",
       "AC233755.2                                0                                0   \n",
       "AC233755.1                                0                                0   \n",
       "AC240274.1                                0                                0   \n",
       "\n",
       "            _HT171B1_BC2_TTGGGATTCGATGCAT-1  _HT171B1_BC2_TTTCAGTGTTCGGTAT-1  \n",
       "                                                                              \n",
       "AL627309.1                                0                                0  \n",
       "AL627309.3                                0                                0  \n",
       "AL627309.4                                0                                0  \n",
       "AL732372.1                                0                                0  \n",
       "AL669831.2                                0                                0  \n",
       "...                                     ...                              ...  \n",
       "AL354822.1                                0                                0  \n",
       "AC004556.1                                0                                0  \n",
       "AC233755.2                                0                                0  \n",
       "AC233755.1                                0                                0  \n",
       "AC240274.1                                0                                0  \n",
       "\n",
       "[27131 rows x 2600 columns]"
      ]
     },
     "execution_count": 58,
     "metadata": {},
     "output_type": "execute_result"
    }
   ],
   "source": [
    "train_counts"
   ]
  },
  {
   "cell_type": "code",
   "execution_count": null,
   "metadata": {
    "hidden": true
   },
   "outputs": [],
   "source": [
    "train_counts"
   ]
  },
  {
   "cell_type": "code",
   "execution_count": null,
   "metadata": {
    "hidden": true
   },
   "outputs": [],
   "source": [
    "type(train_counts.values), type(train_counts.values[0, 0])"
   ]
  },
  {
   "cell_type": "code",
   "execution_count": null,
   "metadata": {
    "hidden": true
   },
   "outputs": [],
   "source": [
    "vals = sorted(set(train_counts.values.flatten()))\n",
    "vals"
   ]
  },
  {
   "cell_type": "code",
   "execution_count": null,
   "metadata": {
    "hidden": true
   },
   "outputs": [],
   "source": [
    "vals[:10], vals[-10:]"
   ]
  },
  {
   "cell_type": "code",
   "execution_count": null,
   "metadata": {
    "hidden": true
   },
   "outputs": [],
   "source": [
    "train_counts.values[train_counts.values>1000] = 1000"
   ]
  },
  {
   "cell_type": "code",
   "execution_count": null,
   "metadata": {
    "hidden": true
   },
   "outputs": [],
   "source": [
    "np.where(train_counts>1)"
   ]
  },
  {
   "cell_type": "code",
   "execution_count": 59,
   "metadata": {
    "hidden": true
   },
   "outputs": [
    {
     "data": {
      "text/plain": [
       "b'\\r  |                                                                            \\r  |                                                                      |   0%\\r  |                                                                            \\r  |==================                                                    |  25%\\r  |                                                                            \\r  |===================================                                   |  50%\\r  |                                                                            \\r  |====================================================                  |  75%\\r  |                                                                            \\r  |======================================================================| 100%\\n\\r  |                                                                            \\r  |                                                                      |   0%\\r  |                                                                            \\r  |==                                                                    |   3%\\r  |                                                                            \\r  |====                                                                  |   6%\\r  |                                                                            \\r  |======                                                                |   9%\\r  |                                                                            \\r  |========                                                              |  11%\\r  |                                                                            \\r  |==========                                                            |  14%\\r  |                                                                            \\r  |============                                                          |  17%\\r  |                                                                            \\r  |==============                                                        |  20%\\r  |                                                                            \\r  |================                                                      |  23%\\r  |                                                                            \\r  |==================                                                    |  26%\\r  |                                                                            \\r  |====================                                                  |  29%\\r  |                                                                            \\r  |======================                                                |  31%\\r  |                                                                            \\r  |========================                                              |  34%\\r  |                                                                            \\r  |==========================                                            |  37%\\r  |                                                                            \\r  |============================                                          |  40%\\r  |                                                                            \\r  |==============================                                        |  43%\\r  |                                                                            \\r  |================================                                      |  46%\\r  |                                                                            \\r  |==================================                                    |  49%\\r  |                                                                            \\r  |====================================                                  |  51%\\r  |                                                                            \\r  |======================================                                |  54%\\r  |                                                                            \\r  |========================================                              |  57%\\r  |                                                                            \\r  |==========================================                            |  60%\\r  |                                                                            \\r  |============================================                          |  63%\\r  |                                                                            \\r  |==============================================                        |  66%\\r  |                                                                            \\r  |================================================                      |  69%\\r  |                                                                            \\r  |==================================================                    |  71%\\r  |                                                                            \\r  |====================================================                  |  74%\\r  |                                                                            \\r  |======================================================                |  77%\\r  |                                                                            \\r  |========================================================              |  80%\\r  |                                                                            \\r  |==========================================================            |  83%\\r  |                                                                            \\r  |============================================================          |  86%\\r  |                                                                            \\r  |==============================================================        |  89%\\r  |                                                                            \\r  |================================================================      |  91%\\r  |                                                                            \\r  |==================================================================    |  94%\\r  |                                                                            \\r  |====================================================================  |  97%\\r  |                                                                            \\r  |======================================================================| 100%\\n\\r  |                                                                            \\r  |                                                                      |   0%\\r  |                                                                            \\r  |==                                                                    |   3%\\r  |                                                                            \\r  |====                                                                  |   6%\\r  |                                                                            \\r  |======                                                                |   9%\\r  |                                                                            \\r  |========                                                              |  11%\\r  |                                                                            \\r  |==========                                                            |  14%\\r  |                                                                            \\r  |============                                                          |  17%\\r  |                                                                            \\r  |==============                                                        |  20%\\r  |                                                                            \\r  |================                                                      |  23%\\r  |                                                                            \\r  |==================                                                    |  26%\\r  |                                                                            \\r  |====================                                                  |  29%\\r  |                                                                            \\r  |======================                                                |  31%\\r  |                                                                            \\r  |========================                                              |  34%\\r  |                                                                            \\r  |==========================                                            |  37%\\r  |                                                                            \\r  |============================                                          |  40%\\r  |                                                                            \\r  |==============================                                        |  43%\\r  |                                                                            \\r  |================================                                      |  46%\\r  |                                                                            \\r  |==================================                                    |  49%\\r  |                                                                            \\r  |====================================                                  |  51%\\r  |                                                                            \\r  |======================================                                |  54%\\r  |                                                                            \\r  |========================================                              |  57%\\r  |                                                                            \\r  |==========================================                            |  60%\\r  |                                                                            \\r  |============================================                          |  63%\\r  |                                                                            \\r  |==============================================                        |  66%\\r  |                                                                            \\r  |================================================                      |  69%\\r  |                                                                            \\r  |==================================================                    |  71%\\r  |                                                                            \\r  |====================================================                  |  74%\\r  |                                                                            \\r  |======================================================                |  77%\\r  |                                                                            \\r  |========================================================              |  80%\\r  |                                                                            \\r  |==========================================================            |  83%\\r  |                                                                            \\r  |============================================================          |  86%\\r  |                                                                            \\r  |==============================================================        |  89%\\r  |                                                                            \\r  |================================================================      |  91%\\r  |                                                                            \\r  |==================================================================    |  94%\\r  |                                                                            \\r  |====================================================================  |  97%\\r  |                                                                            \\r  |======================================================================| 100%\\n\\r  |                                                                            \\r  |                                                                      |   0%\\r  |                                                                            \\r  |==================                                                    |  25%\\r  |                                                                            \\r  |===================================                                   |  50%\\r  |                                                                            \\r  |====================================================                  |  75%\\r  |                                                                            \\r  |======================================================================| 100%\\n\\r  |                                                                            \\r  |                                                                      |   0%\\r  |                                                                            \\r  |==                                                                    |   2%\\r  |                                                                            \\r  |===                                                                   |   5%\\r  |                                                                            \\r  |=====                                                                 |   7%\\r  |                                                                            \\r  |=======                                                               |  10%\\r  |                                                                            \\r  |========                                                              |  12%\\r  |                                                                            \\r  |==========                                                            |  14%\\r  |                                                                            \\r  |============                                                          |  17%\\r  |                                                                            \\r  |=============                                                         |  19%\\r  |                                                                            \\r  |===============                                                       |  21%\\r  |                                                                            \\r  |=================                                                     |  24%\\r  |                                                                            \\r  |==================                                                    |  26%\\r  |                                                                            \\r  |====================                                                  |  29%\\r  |                                                                            \\r  |======================                                                |  31%\\r  |                                                                            \\r  |=======================                                               |  33%\\r  |                                                                            \\r  |=========================                                             |  36%\\r  |                                                                            \\r  |===========================                                           |  38%\\r  |                                                                            \\r  |============================                                          |  40%\\r  |                                                                            \\r  |==============================                                        |  43%\\r  |                                                                            \\r  |================================                                      |  45%\\r  |                                                                            \\r  |=================================                                     |  48%\\r  |                                                                            \\r  |===================================                                   |  50%\\r  |                                                                            \\r  |=====================================                                 |  52%\\r  |                                                                            \\r  |======================================                                |  55%\\r  |                                                                            \\r  |========================================                              |  57%\\r  |                                                                            \\r  |==========================================                            |  60%\\r  |                                                                            \\r  |===========================================                           |  62%\\r  |                                                                            \\r  |=============================================                         |  64%\\r  |                                                                            \\r  |===============================================                       |  67%\\r  |                                                                            \\r  |================================================                      |  69%\\r  |                                                                            \\r  |==================================================                    |  71%\\r  |                                                                            \\r  |====================================================                  |  74%\\r  |                                                                            \\r  |=====================================================                 |  76%\\r  |                                                                            \\r  |=======================================================               |  79%\\r  |                                                                            \\r  |=========================================================             |  81%\\r  |                                                                            \\r  |==========================================================            |  83%\\r  |                                                                            \\r  |============================================================          |  86%\\r  |                                                                            \\r  |==============================================================        |  88%\\r  |                                                                            \\r  |===============================================================       |  90%\\r  |                                                                            \\r  |=================================================================     |  93%\\r  |                                                                            \\r  |===================================================================   |  95%\\r  |                                                                            \\r  |====================================================================  |  98%\\r  |                                                                            \\r  |======================================================================| 100%\\n\\r  |                                                                            \\r  |                                                                      |   0%\\r  |                                                                            \\r  |==                                                                    |   2%\\r  |                                                                            \\r  |===                                                                   |   5%\\r  |                                                                            \\r  |=====                                                                 |   7%\\r  |                                                                            \\r  |=======                                                               |  10%\\r  |                                                                            \\r  |========                                                              |  12%\\r  |                                                                            \\r  |==========                                                            |  14%\\r  |                                                                            \\r  |============                                                          |  17%\\r  |                                                                            \\r  |=============                                                         |  19%\\r  |                                                                            \\r  |===============                                                       |  21%\\r  |                                                                            \\r  |=================                                                     |  24%\\r  |                                                                            \\r  |==================                                                    |  26%\\r  |                                                                            \\r  |====================                                                  |  29%\\r  |                                                                            \\r  |======================                                                |  31%\\r  |                                                                            \\r  |=======================                                               |  33%\\r  |                                                                            \\r  |=========================                                             |  36%\\r  |                                                                            \\r  |===========================                                           |  38%\\r  |                                                                            \\r  |============================                                          |  40%\\r  |                                                                            \\r  |==============================                                        |  43%\\r  |                                                                            \\r  |================================                                      |  45%\\r  |                                                                            \\r  |=================================                                     |  48%\\r  |                                                                            \\r  |===================================                                   |  50%\\r  |                                                                            \\r  |=====================================                                 |  52%\\r  |                                                                            \\r  |======================================                                |  55%\\r  |                                                                            \\r  |========================================                              |  57%\\r  |                                                                            \\r  |==========================================                            |  60%\\r  |                                                                            \\r  |===========================================                           |  62%\\r  |                                                                            \\r  |=============================================                         |  64%\\r  |                                                                            \\r  |===============================================                       |  67%\\r  |                                                                            \\r  |================================================                      |  69%\\r  |                                                                            \\r  |==================================================                    |  71%\\r  |                                                                            \\r  |====================================================                  |  74%\\r  |                                                                            \\r  |=====================================================                 |  76%\\r  |                                                                            \\r  |=======================================================               |  79%\\r  |                                                                            \\r  |=========================================================             |  81%\\r  |                                                                            \\r  |==========================================================            |  83%\\r  |                                                                            \\r  |============================================================          |  86%\\r  |                                                                            \\r  |==============================================================        |  88%\\r  |                                                                            \\r  |===============================================================       |  90%\\r  |                                                                            \\r  |=================================================================     |  93%\\r  |                                                                            \\r  |===================================================================   |  95%\\r  |                                                                            \\r  |====================================================================  |  98%\\r  |                                                                            \\r  |======================================================================| 100%\\n[1] \"starting predictions\"\\n'"
      ]
     },
     "execution_count": 59,
     "metadata": {},
     "output_type": "execute_result"
    }
   ],
   "source": [
    "# actually run the script and read the results back in\n",
    "prediction_fp = os.path.join(SANDBOX_DIR, 'seurat_predictions.txt')\n",
    "subprocess.check_output(('Rscript', SEURAT_SCRIPT, train_counts_fp, train_annotations_fp,\n",
    "                    val_counts_fp, val_annotations_fp, prediction_fp))"
   ]
  },
  {
   "cell_type": "code",
   "execution_count": 65,
   "metadata": {
    "hidden": true
   },
   "outputs": [
    {
     "data": {
      "text/html": [
       "<div>\n",
       "<style scoped>\n",
       "    .dataframe tbody tr th:only-of-type {\n",
       "        vertical-align: middle;\n",
       "    }\n",
       "\n",
       "    .dataframe tbody tr th {\n",
       "        vertical-align: top;\n",
       "    }\n",
       "\n",
       "    .dataframe thead th {\n",
       "        text-align: right;\n",
       "    }\n",
       "</style>\n",
       "<table border=\"1\" class=\"dataframe\">\n",
       "  <thead>\n",
       "    <tr style=\"text-align: right;\">\n",
       "      <th></th>\n",
       "      <th>cell_id</th>\n",
       "      <th>groundtruth</th>\n",
       "      <th>predicted</th>\n",
       "      <th>probability</th>\n",
       "    </tr>\n",
       "  </thead>\n",
       "  <tbody>\n",
       "    <tr>\n",
       "      <th>_HT062B1_S1PA_AAACGAATCGTGGCGT-1</th>\n",
       "      <td>_HT062B1_S1PA_AAACGAATCGTGGCGT-1</td>\n",
       "      <td>CD8 T cell</td>\n",
       "      <td>CD8 T cell</td>\n",
       "      <td>0.928408</td>\n",
       "    </tr>\n",
       "    <tr>\n",
       "      <th>_HT062B1_S1PA_AAAGAACAGCTATCTG-1</th>\n",
       "      <td>_HT062B1_S1PA_AAAGAACAGCTATCTG-1</td>\n",
       "      <td>NK</td>\n",
       "      <td>NK</td>\n",
       "      <td>1.000000</td>\n",
       "    </tr>\n",
       "    <tr>\n",
       "      <th>_HT062B1_S1PA_AAAGGATTCTGCCTGT-1</th>\n",
       "      <td>_HT062B1_S1PA_AAAGGATTCTGCCTGT-1</td>\n",
       "      <td>Endothelial</td>\n",
       "      <td>Endothelial</td>\n",
       "      <td>1.000000</td>\n",
       "    </tr>\n",
       "    <tr>\n",
       "      <th>_HT062B1_S1PA_AAAGGTAGTGGAAGTC-1</th>\n",
       "      <td>_HT062B1_S1PA_AAAGGTAGTGGAAGTC-1</td>\n",
       "      <td>Treg</td>\n",
       "      <td>Treg</td>\n",
       "      <td>0.951956</td>\n",
       "    </tr>\n",
       "    <tr>\n",
       "      <th>_HT062B1_S1PA_AACAACCTCACTCACC-1</th>\n",
       "      <td>_HT062B1_S1PA_AACAACCTCACTCACC-1</td>\n",
       "      <td>Endothelial</td>\n",
       "      <td>Endothelial</td>\n",
       "      <td>1.000000</td>\n",
       "    </tr>\n",
       "    <tr>\n",
       "      <th>...</th>\n",
       "      <td>...</td>\n",
       "      <td>...</td>\n",
       "      <td>...</td>\n",
       "      <td>...</td>\n",
       "    </tr>\n",
       "    <tr>\n",
       "      <th>_HT171B1_BC2_TTTCGATGTGTAGGAC-1</th>\n",
       "      <td>_HT171B1_BC2_TTTCGATGTGTAGGAC-1</td>\n",
       "      <td>CD4 T cell</td>\n",
       "      <td>CD4 T cell</td>\n",
       "      <td>0.916704</td>\n",
       "    </tr>\n",
       "    <tr>\n",
       "      <th>_HT171B1_BC2_TTTGACTGTCGATTTG-1</th>\n",
       "      <td>_HT171B1_BC2_TTTGACTGTCGATTTG-1</td>\n",
       "      <td>CD8 T cell</td>\n",
       "      <td>CD8 T cell</td>\n",
       "      <td>0.931814</td>\n",
       "    </tr>\n",
       "    <tr>\n",
       "      <th>_HT171B1_BC2_TTTGACTGTCGGTGAA-1</th>\n",
       "      <td>_HT171B1_BC2_TTTGACTGTCGGTGAA-1</td>\n",
       "      <td>CD4 T cell</td>\n",
       "      <td>CD4 T cell</td>\n",
       "      <td>0.914046</td>\n",
       "    </tr>\n",
       "    <tr>\n",
       "      <th>_HT171B1_BC2_TTTGGTTCATAGACTC-1</th>\n",
       "      <td>_HT171B1_BC2_TTTGGTTCATAGACTC-1</td>\n",
       "      <td>CD4 T cell</td>\n",
       "      <td>CD4 T cell</td>\n",
       "      <td>0.801086</td>\n",
       "    </tr>\n",
       "    <tr>\n",
       "      <th>_HT171B1_BC2_TTTGGTTGTTGCTGAT-1</th>\n",
       "      <td>_HT171B1_BC2_TTTGGTTGTTGCTGAT-1</td>\n",
       "      <td>CD8 T cell</td>\n",
       "      <td>CD8 T cell</td>\n",
       "      <td>0.926039</td>\n",
       "    </tr>\n",
       "  </tbody>\n",
       "</table>\n",
       "<p>11253 rows × 4 columns</p>\n",
       "</div>"
      ],
      "text/plain": [
       "                                                           cell_id  \\\n",
       "_HT062B1_S1PA_AAACGAATCGTGGCGT-1  _HT062B1_S1PA_AAACGAATCGTGGCGT-1   \n",
       "_HT062B1_S1PA_AAAGAACAGCTATCTG-1  _HT062B1_S1PA_AAAGAACAGCTATCTG-1   \n",
       "_HT062B1_S1PA_AAAGGATTCTGCCTGT-1  _HT062B1_S1PA_AAAGGATTCTGCCTGT-1   \n",
       "_HT062B1_S1PA_AAAGGTAGTGGAAGTC-1  _HT062B1_S1PA_AAAGGTAGTGGAAGTC-1   \n",
       "_HT062B1_S1PA_AACAACCTCACTCACC-1  _HT062B1_S1PA_AACAACCTCACTCACC-1   \n",
       "...                                                            ...   \n",
       "_HT171B1_BC2_TTTCGATGTGTAGGAC-1    _HT171B1_BC2_TTTCGATGTGTAGGAC-1   \n",
       "_HT171B1_BC2_TTTGACTGTCGATTTG-1    _HT171B1_BC2_TTTGACTGTCGATTTG-1   \n",
       "_HT171B1_BC2_TTTGACTGTCGGTGAA-1    _HT171B1_BC2_TTTGACTGTCGGTGAA-1   \n",
       "_HT171B1_BC2_TTTGGTTCATAGACTC-1    _HT171B1_BC2_TTTGGTTCATAGACTC-1   \n",
       "_HT171B1_BC2_TTTGGTTGTTGCTGAT-1    _HT171B1_BC2_TTTGGTTGTTGCTGAT-1   \n",
       "\n",
       "                                  groundtruth    predicted  probability  \n",
       "_HT062B1_S1PA_AAACGAATCGTGGCGT-1   CD8 T cell   CD8 T cell     0.928408  \n",
       "_HT062B1_S1PA_AAAGAACAGCTATCTG-1           NK           NK     1.000000  \n",
       "_HT062B1_S1PA_AAAGGATTCTGCCTGT-1  Endothelial  Endothelial     1.000000  \n",
       "_HT062B1_S1PA_AAAGGTAGTGGAAGTC-1         Treg         Treg     0.951956  \n",
       "_HT062B1_S1PA_AACAACCTCACTCACC-1  Endothelial  Endothelial     1.000000  \n",
       "...                                       ...          ...          ...  \n",
       "_HT171B1_BC2_TTTCGATGTGTAGGAC-1    CD4 T cell   CD4 T cell     0.916704  \n",
       "_HT171B1_BC2_TTTGACTGTCGATTTG-1    CD8 T cell   CD8 T cell     0.931814  \n",
       "_HT171B1_BC2_TTTGACTGTCGGTGAA-1    CD4 T cell   CD4 T cell     0.914046  \n",
       "_HT171B1_BC2_TTTGGTTCATAGACTC-1    CD4 T cell   CD4 T cell     0.801086  \n",
       "_HT171B1_BC2_TTTGGTTGTTGCTGAT-1    CD8 T cell   CD8 T cell     0.926039  \n",
       "\n",
       "[11253 rows x 4 columns]"
      ]
     },
     "execution_count": 65,
     "metadata": {},
     "output_type": "execute_result"
    }
   ],
   "source": [
    "# format the predictions dataframe\n",
    "df = pd.read_csv(prediction_fp, sep='\\t')\n",
    "df.index = [x.replace('.', '-') for x in df.index]\n",
    "# also remove that weird X thing seurat sometimes puts there\n",
    "df.index = [x[1:] if x[:2]=='X_' else x for x in df.index]\n",
    "df = pd.merge(df, val.obs, left_index=True, right_index=True)\n",
    "df['cell_id'] = df.index.to_list()\n",
    "df = df[['cell_id', 'cell_type', 'predicted.id', 'prediction.score.max']]        \n",
    "df.columns = ['cell_id', 'groundtruth', 'predicted', 'probability']\n",
    "df"
   ]
  },
  {
   "cell_type": "code",
   "execution_count": 61,
   "metadata": {
    "hidden": true
   },
   "outputs": [
    {
     "data": {
      "text/html": [
       "<div>\n",
       "<style scoped>\n",
       "    .dataframe tbody tr th:only-of-type {\n",
       "        vertical-align: middle;\n",
       "    }\n",
       "\n",
       "    .dataframe tbody tr th {\n",
       "        vertical-align: top;\n",
       "    }\n",
       "\n",
       "    .dataframe thead th {\n",
       "        text-align: right;\n",
       "    }\n",
       "</style>\n",
       "<table border=\"1\" class=\"dataframe\">\n",
       "  <thead>\n",
       "    <tr style=\"text-align: right;\">\n",
       "      <th></th>\n",
       "      <th>orig.ident</th>\n",
       "      <th>nCount_RNA</th>\n",
       "      <th>nFeature_RNA</th>\n",
       "      <th>percent.mito</th>\n",
       "      <th>nCount_SCT</th>\n",
       "      <th>nFeature_SCT</th>\n",
       "      <th>SCT_snn_res.0.5</th>\n",
       "      <th>seurat_clusters</th>\n",
       "      <th>sample</th>\n",
       "      <th>tissue_type</th>\n",
       "      <th>cell_type</th>\n",
       "      <th>cell_type_specific</th>\n",
       "      <th>Piece_ID</th>\n",
       "      <th>Clinical_Subtype</th>\n",
       "      <th>Bulk_PAM50</th>\n",
       "      <th>doublet_score</th>\n",
       "      <th>predicted_doublet</th>\n",
       "      <th>ident</th>\n",
       "    </tr>\n",
       "  </thead>\n",
       "  <tbody>\n",
       "    <tr>\n",
       "      <th>_HT062B1_S1PA_AAACGAATCGTGGCGT-1</th>\n",
       "      <td>TWCE-HT062B1-S1PAA1A1Z1B1</td>\n",
       "      <td>3098.0</td>\n",
       "      <td>1172</td>\n",
       "      <td>0.096191</td>\n",
       "      <td>3487.0</td>\n",
       "      <td>1172</td>\n",
       "      <td>2</td>\n",
       "      <td>2</td>\n",
       "      <td>HT062B1</td>\n",
       "      <td>Tumor tissue</td>\n",
       "      <td>CD8 T cell</td>\n",
       "      <td>NK</td>\n",
       "      <td>HT062B1_S1PA</td>\n",
       "      <td>TNBC</td>\n",
       "      <td>Her2</td>\n",
       "      <td>0.030261</td>\n",
       "      <td>0</td>\n",
       "      <td>2</td>\n",
       "    </tr>\n",
       "    <tr>\n",
       "      <th>_HT062B1_S1PA_AAAGAACAGCTATCTG-1</th>\n",
       "      <td>TWCE-HT062B1-S1PAA1A1Z1B1</td>\n",
       "      <td>4761.0</td>\n",
       "      <td>1779</td>\n",
       "      <td>0.051250</td>\n",
       "      <td>4226.0</td>\n",
       "      <td>1779</td>\n",
       "      <td>11</td>\n",
       "      <td>11</td>\n",
       "      <td>HT062B1</td>\n",
       "      <td>Tumor tissue</td>\n",
       "      <td>NK</td>\n",
       "      <td>NK</td>\n",
       "      <td>HT062B1_S1PA</td>\n",
       "      <td>TNBC</td>\n",
       "      <td>Her2</td>\n",
       "      <td>0.018460</td>\n",
       "      <td>0</td>\n",
       "      <td>11</td>\n",
       "    </tr>\n",
       "    <tr>\n",
       "      <th>_HT062B1_S1PA_AAAGGATTCTGCCTGT-1</th>\n",
       "      <td>TWCE-HT062B1-S1PAA1A1Z1B1</td>\n",
       "      <td>74559.0</td>\n",
       "      <td>9098</td>\n",
       "      <td>0.003527</td>\n",
       "      <td>4737.0</td>\n",
       "      <td>2302</td>\n",
       "      <td>4</td>\n",
       "      <td>4</td>\n",
       "      <td>HT062B1</td>\n",
       "      <td>Tumor tissue</td>\n",
       "      <td>Endothelial</td>\n",
       "      <td>Endothelial</td>\n",
       "      <td>HT062B1_S1PA</td>\n",
       "      <td>TNBC</td>\n",
       "      <td>Her2</td>\n",
       "      <td>0.083898</td>\n",
       "      <td>0</td>\n",
       "      <td>4</td>\n",
       "    </tr>\n",
       "    <tr>\n",
       "      <th>_HT062B1_S1PA_AAAGGTAGTGGAAGTC-1</th>\n",
       "      <td>TWCE-HT062B1-S1PAA1A1Z1B1</td>\n",
       "      <td>3204.0</td>\n",
       "      <td>1250</td>\n",
       "      <td>0.031835</td>\n",
       "      <td>3514.0</td>\n",
       "      <td>1250</td>\n",
       "      <td>0</td>\n",
       "      <td>0</td>\n",
       "      <td>HT062B1</td>\n",
       "      <td>Tumor tissue</td>\n",
       "      <td>Treg</td>\n",
       "      <td>Treg</td>\n",
       "      <td>HT062B1_S1PA</td>\n",
       "      <td>TNBC</td>\n",
       "      <td>Her2</td>\n",
       "      <td>0.030261</td>\n",
       "      <td>0</td>\n",
       "      <td>0</td>\n",
       "    </tr>\n",
       "    <tr>\n",
       "      <th>_HT062B1_S1PA_AACAACCTCACTCACC-1</th>\n",
       "      <td>TWCE-HT062B1-S1PAA1A1Z1B1</td>\n",
       "      <td>15285.0</td>\n",
       "      <td>4271</td>\n",
       "      <td>0.054498</td>\n",
       "      <td>4281.0</td>\n",
       "      <td>1968</td>\n",
       "      <td>4</td>\n",
       "      <td>4</td>\n",
       "      <td>HT062B1</td>\n",
       "      <td>Tumor tissue</td>\n",
       "      <td>Endothelial</td>\n",
       "      <td>Endothelial</td>\n",
       "      <td>HT062B1_S1PA</td>\n",
       "      <td>TNBC</td>\n",
       "      <td>Her2</td>\n",
       "      <td>0.031609</td>\n",
       "      <td>0</td>\n",
       "      <td>4</td>\n",
       "    </tr>\n",
       "    <tr>\n",
       "      <th>...</th>\n",
       "      <td>...</td>\n",
       "      <td>...</td>\n",
       "      <td>...</td>\n",
       "      <td>...</td>\n",
       "      <td>...</td>\n",
       "      <td>...</td>\n",
       "      <td>...</td>\n",
       "      <td>...</td>\n",
       "      <td>...</td>\n",
       "      <td>...</td>\n",
       "      <td>...</td>\n",
       "      <td>...</td>\n",
       "      <td>...</td>\n",
       "      <td>...</td>\n",
       "      <td>...</td>\n",
       "      <td>...</td>\n",
       "      <td>...</td>\n",
       "      <td>...</td>\n",
       "    </tr>\n",
       "    <tr>\n",
       "      <th>_HT171B1_BC2_TTTCGATGTGTAGGAC-1</th>\n",
       "      <td>TWCE-HT171B1-BC2</td>\n",
       "      <td>3090.0</td>\n",
       "      <td>1231</td>\n",
       "      <td>0.030421</td>\n",
       "      <td>3479.0</td>\n",
       "      <td>1231</td>\n",
       "      <td>0</td>\n",
       "      <td>0</td>\n",
       "      <td>HT171B1</td>\n",
       "      <td>Tumor tissue</td>\n",
       "      <td>CD4 T cell</td>\n",
       "      <td>CD4_T</td>\n",
       "      <td>HT171B1_S1H8</td>\n",
       "      <td>TNBC</td>\n",
       "      <td>Basal</td>\n",
       "      <td>0.066288</td>\n",
       "      <td>0</td>\n",
       "      <td>0</td>\n",
       "    </tr>\n",
       "    <tr>\n",
       "      <th>_HT171B1_BC2_TTTGACTGTCGATTTG-1</th>\n",
       "      <td>TWCE-HT171B1-BC2</td>\n",
       "      <td>3594.0</td>\n",
       "      <td>1549</td>\n",
       "      <td>0.059265</td>\n",
       "      <td>3664.0</td>\n",
       "      <td>1549</td>\n",
       "      <td>8</td>\n",
       "      <td>8</td>\n",
       "      <td>HT171B1</td>\n",
       "      <td>Tumor tissue</td>\n",
       "      <td>CD8 T cell</td>\n",
       "      <td>NK</td>\n",
       "      <td>HT171B1_S1H8</td>\n",
       "      <td>TNBC</td>\n",
       "      <td>Basal</td>\n",
       "      <td>0.053524</td>\n",
       "      <td>0</td>\n",
       "      <td>8</td>\n",
       "    </tr>\n",
       "    <tr>\n",
       "      <th>_HT171B1_BC2_TTTGACTGTCGGTGAA-1</th>\n",
       "      <td>TWCE-HT171B1-BC2</td>\n",
       "      <td>1751.0</td>\n",
       "      <td>715</td>\n",
       "      <td>0.083952</td>\n",
       "      <td>3437.0</td>\n",
       "      <td>725</td>\n",
       "      <td>0</td>\n",
       "      <td>0</td>\n",
       "      <td>HT171B1</td>\n",
       "      <td>Tumor tissue</td>\n",
       "      <td>CD4 T cell</td>\n",
       "      <td>CD4_T</td>\n",
       "      <td>HT171B1_S1H8</td>\n",
       "      <td>TNBC</td>\n",
       "      <td>Basal</td>\n",
       "      <td>0.016301</td>\n",
       "      <td>0</td>\n",
       "      <td>0</td>\n",
       "    </tr>\n",
       "    <tr>\n",
       "      <th>_HT171B1_BC2_TTTGGTTCATAGACTC-1</th>\n",
       "      <td>TWCE-HT171B1-BC2</td>\n",
       "      <td>3185.0</td>\n",
       "      <td>1283</td>\n",
       "      <td>0.058713</td>\n",
       "      <td>3511.0</td>\n",
       "      <td>1283</td>\n",
       "      <td>0</td>\n",
       "      <td>0</td>\n",
       "      <td>HT171B1</td>\n",
       "      <td>Tumor tissue</td>\n",
       "      <td>CD4 T cell</td>\n",
       "      <td>CD4_T</td>\n",
       "      <td>HT171B1_S1H8</td>\n",
       "      <td>TNBC</td>\n",
       "      <td>Basal</td>\n",
       "      <td>0.072103</td>\n",
       "      <td>0</td>\n",
       "      <td>0</td>\n",
       "    </tr>\n",
       "    <tr>\n",
       "      <th>_HT171B1_BC2_TTTGGTTGTTGCTGAT-1</th>\n",
       "      <td>TWCE-HT171B1-BC2</td>\n",
       "      <td>4638.0</td>\n",
       "      <td>2033</td>\n",
       "      <td>0.099612</td>\n",
       "      <td>4229.0</td>\n",
       "      <td>2033</td>\n",
       "      <td>8</td>\n",
       "      <td>8</td>\n",
       "      <td>HT171B1</td>\n",
       "      <td>Tumor tissue</td>\n",
       "      <td>CD8 T cell</td>\n",
       "      <td>CD8_T_exhausted</td>\n",
       "      <td>HT171B1_S1H8</td>\n",
       "      <td>TNBC</td>\n",
       "      <td>Basal</td>\n",
       "      <td>0.049545</td>\n",
       "      <td>0</td>\n",
       "      <td>8</td>\n",
       "    </tr>\n",
       "  </tbody>\n",
       "</table>\n",
       "<p>11253 rows × 18 columns</p>\n",
       "</div>"
      ],
      "text/plain": [
       "                                                 orig.ident  nCount_RNA  \\\n",
       "_HT062B1_S1PA_AAACGAATCGTGGCGT-1  TWCE-HT062B1-S1PAA1A1Z1B1      3098.0   \n",
       "_HT062B1_S1PA_AAAGAACAGCTATCTG-1  TWCE-HT062B1-S1PAA1A1Z1B1      4761.0   \n",
       "_HT062B1_S1PA_AAAGGATTCTGCCTGT-1  TWCE-HT062B1-S1PAA1A1Z1B1     74559.0   \n",
       "_HT062B1_S1PA_AAAGGTAGTGGAAGTC-1  TWCE-HT062B1-S1PAA1A1Z1B1      3204.0   \n",
       "_HT062B1_S1PA_AACAACCTCACTCACC-1  TWCE-HT062B1-S1PAA1A1Z1B1     15285.0   \n",
       "...                                                     ...         ...   \n",
       "_HT171B1_BC2_TTTCGATGTGTAGGAC-1            TWCE-HT171B1-BC2      3090.0   \n",
       "_HT171B1_BC2_TTTGACTGTCGATTTG-1            TWCE-HT171B1-BC2      3594.0   \n",
       "_HT171B1_BC2_TTTGACTGTCGGTGAA-1            TWCE-HT171B1-BC2      1751.0   \n",
       "_HT171B1_BC2_TTTGGTTCATAGACTC-1            TWCE-HT171B1-BC2      3185.0   \n",
       "_HT171B1_BC2_TTTGGTTGTTGCTGAT-1            TWCE-HT171B1-BC2      4638.0   \n",
       "\n",
       "                                  nFeature_RNA  percent.mito  nCount_SCT  \\\n",
       "_HT062B1_S1PA_AAACGAATCGTGGCGT-1          1172      0.096191      3487.0   \n",
       "_HT062B1_S1PA_AAAGAACAGCTATCTG-1          1779      0.051250      4226.0   \n",
       "_HT062B1_S1PA_AAAGGATTCTGCCTGT-1          9098      0.003527      4737.0   \n",
       "_HT062B1_S1PA_AAAGGTAGTGGAAGTC-1          1250      0.031835      3514.0   \n",
       "_HT062B1_S1PA_AACAACCTCACTCACC-1          4271      0.054498      4281.0   \n",
       "...                                        ...           ...         ...   \n",
       "_HT171B1_BC2_TTTCGATGTGTAGGAC-1           1231      0.030421      3479.0   \n",
       "_HT171B1_BC2_TTTGACTGTCGATTTG-1           1549      0.059265      3664.0   \n",
       "_HT171B1_BC2_TTTGACTGTCGGTGAA-1            715      0.083952      3437.0   \n",
       "_HT171B1_BC2_TTTGGTTCATAGACTC-1           1283      0.058713      3511.0   \n",
       "_HT171B1_BC2_TTTGGTTGTTGCTGAT-1           2033      0.099612      4229.0   \n",
       "\n",
       "                                  nFeature_SCT SCT_snn_res.0.5  \\\n",
       "_HT062B1_S1PA_AAACGAATCGTGGCGT-1          1172               2   \n",
       "_HT062B1_S1PA_AAAGAACAGCTATCTG-1          1779              11   \n",
       "_HT062B1_S1PA_AAAGGATTCTGCCTGT-1          2302               4   \n",
       "_HT062B1_S1PA_AAAGGTAGTGGAAGTC-1          1250               0   \n",
       "_HT062B1_S1PA_AACAACCTCACTCACC-1          1968               4   \n",
       "...                                        ...             ...   \n",
       "_HT171B1_BC2_TTTCGATGTGTAGGAC-1           1231               0   \n",
       "_HT171B1_BC2_TTTGACTGTCGATTTG-1           1549               8   \n",
       "_HT171B1_BC2_TTTGACTGTCGGTGAA-1            725               0   \n",
       "_HT171B1_BC2_TTTGGTTCATAGACTC-1           1283               0   \n",
       "_HT171B1_BC2_TTTGGTTGTTGCTGAT-1           2033               8   \n",
       "\n",
       "                                 seurat_clusters   sample   tissue_type  \\\n",
       "_HT062B1_S1PA_AAACGAATCGTGGCGT-1               2  HT062B1  Tumor tissue   \n",
       "_HT062B1_S1PA_AAAGAACAGCTATCTG-1              11  HT062B1  Tumor tissue   \n",
       "_HT062B1_S1PA_AAAGGATTCTGCCTGT-1               4  HT062B1  Tumor tissue   \n",
       "_HT062B1_S1PA_AAAGGTAGTGGAAGTC-1               0  HT062B1  Tumor tissue   \n",
       "_HT062B1_S1PA_AACAACCTCACTCACC-1               4  HT062B1  Tumor tissue   \n",
       "...                                          ...      ...           ...   \n",
       "_HT171B1_BC2_TTTCGATGTGTAGGAC-1                0  HT171B1  Tumor tissue   \n",
       "_HT171B1_BC2_TTTGACTGTCGATTTG-1                8  HT171B1  Tumor tissue   \n",
       "_HT171B1_BC2_TTTGACTGTCGGTGAA-1                0  HT171B1  Tumor tissue   \n",
       "_HT171B1_BC2_TTTGGTTCATAGACTC-1                0  HT171B1  Tumor tissue   \n",
       "_HT171B1_BC2_TTTGGTTGTTGCTGAT-1                8  HT171B1  Tumor tissue   \n",
       "\n",
       "                                    cell_type cell_type_specific  \\\n",
       "_HT062B1_S1PA_AAACGAATCGTGGCGT-1   CD8 T cell                 NK   \n",
       "_HT062B1_S1PA_AAAGAACAGCTATCTG-1           NK                 NK   \n",
       "_HT062B1_S1PA_AAAGGATTCTGCCTGT-1  Endothelial        Endothelial   \n",
       "_HT062B1_S1PA_AAAGGTAGTGGAAGTC-1         Treg               Treg   \n",
       "_HT062B1_S1PA_AACAACCTCACTCACC-1  Endothelial        Endothelial   \n",
       "...                                       ...                ...   \n",
       "_HT171B1_BC2_TTTCGATGTGTAGGAC-1    CD4 T cell              CD4_T   \n",
       "_HT171B1_BC2_TTTGACTGTCGATTTG-1    CD8 T cell                 NK   \n",
       "_HT171B1_BC2_TTTGACTGTCGGTGAA-1    CD4 T cell              CD4_T   \n",
       "_HT171B1_BC2_TTTGGTTCATAGACTC-1    CD4 T cell              CD4_T   \n",
       "_HT171B1_BC2_TTTGGTTGTTGCTGAT-1    CD8 T cell    CD8_T_exhausted   \n",
       "\n",
       "                                      Piece_ID Clinical_Subtype Bulk_PAM50  \\\n",
       "_HT062B1_S1PA_AAACGAATCGTGGCGT-1  HT062B1_S1PA             TNBC       Her2   \n",
       "_HT062B1_S1PA_AAAGAACAGCTATCTG-1  HT062B1_S1PA             TNBC       Her2   \n",
       "_HT062B1_S1PA_AAAGGATTCTGCCTGT-1  HT062B1_S1PA             TNBC       Her2   \n",
       "_HT062B1_S1PA_AAAGGTAGTGGAAGTC-1  HT062B1_S1PA             TNBC       Her2   \n",
       "_HT062B1_S1PA_AACAACCTCACTCACC-1  HT062B1_S1PA             TNBC       Her2   \n",
       "...                                        ...              ...        ...   \n",
       "_HT171B1_BC2_TTTCGATGTGTAGGAC-1   HT171B1_S1H8             TNBC      Basal   \n",
       "_HT171B1_BC2_TTTGACTGTCGATTTG-1   HT171B1_S1H8             TNBC      Basal   \n",
       "_HT171B1_BC2_TTTGACTGTCGGTGAA-1   HT171B1_S1H8             TNBC      Basal   \n",
       "_HT171B1_BC2_TTTGGTTCATAGACTC-1   HT171B1_S1H8             TNBC      Basal   \n",
       "_HT171B1_BC2_TTTGGTTGTTGCTGAT-1   HT171B1_S1H8             TNBC      Basal   \n",
       "\n",
       "                                  doublet_score  predicted_doublet ident  \n",
       "_HT062B1_S1PA_AAACGAATCGTGGCGT-1       0.030261                  0     2  \n",
       "_HT062B1_S1PA_AAAGAACAGCTATCTG-1       0.018460                  0    11  \n",
       "_HT062B1_S1PA_AAAGGATTCTGCCTGT-1       0.083898                  0     4  \n",
       "_HT062B1_S1PA_AAAGGTAGTGGAAGTC-1       0.030261                  0     0  \n",
       "_HT062B1_S1PA_AACAACCTCACTCACC-1       0.031609                  0     4  \n",
       "...                                         ...                ...   ...  \n",
       "_HT171B1_BC2_TTTCGATGTGTAGGAC-1        0.066288                  0     0  \n",
       "_HT171B1_BC2_TTTGACTGTCGATTTG-1        0.053524                  0     8  \n",
       "_HT171B1_BC2_TTTGACTGTCGGTGAA-1        0.016301                  0     0  \n",
       "_HT171B1_BC2_TTTGGTTCATAGACTC-1        0.072103                  0     0  \n",
       "_HT171B1_BC2_TTTGGTTGTTGCTGAT-1        0.049545                  0     8  \n",
       "\n",
       "[11253 rows x 18 columns]"
      ]
     },
     "execution_count": 61,
     "metadata": {},
     "output_type": "execute_result"
    }
   ],
   "source": [
    "val.obs"
   ]
  },
  {
   "cell_type": "markdown",
   "metadata": {},
   "source": [
    "##### SingleCellNet"
   ]
  },
  {
   "cell_type": "code",
   "execution_count": 2,
   "metadata": {},
   "outputs": [],
   "source": [
    "# !pip install git+https://github.com/pcahan1/PySingleCellNet/"
   ]
  },
  {
   "cell_type": "code",
   "execution_count": 109,
   "metadata": {},
   "outputs": [],
   "source": [
    "import pySingleCellNet as pySCN"
   ]
  },
  {
   "cell_type": "code",
   "execution_count": 110,
   "metadata": {},
   "outputs": [],
   "source": [
    "def run_SingleCellNet(train, val, cell_type_key):\n",
    "    # save the input data for the seurat script\n",
    "    cgenesA, xpairs, tspRF = pySCN.scn_train(train,\n",
    "            nTopGenes=100, nRand=100, nTrees=1000, nTopGenePairs=100,\n",
    "            dLevel=cell_type_key, stratify=True, limitToHVG=True, )\n",
    "    predictions = pySCN.scn_classify(val, cgenesA, xpairs, tspRF, nrand = 0)\n",
    "    \n",
    "    df = pd.merge(predictions.obs[['SCN_class']], val.obs, left_index=True, right_index=True)\n",
    "    \n",
    "    df = df[['cell_type', 'SCN_class']]\n",
    "    df.columns = ['groundtruth', 'predicted']\n",
    "    df['cell_id'] = df.index.to_list()\n",
    "    df['probability'] = [np.nan] * df.shape[0]\n",
    "    df = df[['cell_id', 'groundtruth', 'predicted', 'probability']]\n",
    "    \n",
    "\n",
    "    return df"
   ]
  },
  {
   "cell_type": "code",
   "execution_count": 111,
   "metadata": {},
   "outputs": [
    {
     "name": "stdout",
     "output_type": "stream",
     "text": [
      "scRNAseq brca (2600, 27131) (11253, 27131)\n",
      "HVG\n",
      "Matrix normalized\n",
      "There are  1104  classification genes\n",
      "\n",
      "B cell\n",
      "CD4 T cell\n",
      "CD8 T cell\n",
      "Dendritic\n",
      "Endothelial\n",
      "Erythrocyte\n",
      "Fibroblast\n",
      "Malignant\n",
      "Mast\n",
      "Monocyte\n",
      "NK\n",
      "Plasma\n",
      "Treg\n",
      "There are 1270 top gene pairs\n",
      "\n",
      "Finished pair transforming the data\n",
      "\n",
      "scRNAseq cesc (1941, 22928) (8449, 22928)\n",
      "HVG\n",
      "Matrix normalized\n",
      "There are  976  classification genes\n",
      "\n",
      "CD4 T cell\n",
      "CD8 T cell\n",
      "Endothelial\n",
      "Epithelial\n",
      "Erythrocyte\n",
      "Fibroblast\n",
      "Malignant\n",
      "Mast\n",
      "Monocyte\n",
      "NK\n",
      "Plasma\n",
      "There are 1073 top gene pairs\n",
      "\n",
      "Finished pair transforming the data\n",
      "\n",
      "scRNAseq hnscc (2200, 26929) (10288, 26929)\n",
      "HVG\n",
      "Matrix normalized\n",
      "There are  1100  classification genes\n",
      "\n",
      "B cell\n",
      "CD4 T cell\n",
      "CD8 T cell\n",
      "Endothelial\n",
      "Erythrocyte\n",
      "Malignant\n",
      "Mast\n",
      "Monocyte\n",
      "NK\n",
      "Plasma\n",
      "Treg\n",
      "There are 1073 top gene pairs\n",
      "\n",
      "Finished pair transforming the data\n",
      "\n",
      "scRNAseq melanoma (2000, 23452) (6735, 23452)\n",
      "HVG\n",
      "Matrix normalized\n",
      "There are  900  classification genes\n",
      "\n",
      "B cell\n",
      "CD4 T cell\n",
      "CD8 T cell\n",
      "Dendritic\n",
      "Fibroblast\n",
      "Malignant\n",
      "Monocyte\n",
      "NK\n",
      "Plasma\n",
      "Treg\n",
      "There are 977 top gene pairs\n",
      "\n",
      "Finished pair transforming the data\n",
      "\n",
      "scRNAseq pbmc (940, 32738) (1698, 32738)\n",
      "HVG\n",
      "Matrix normalized\n",
      "There are  693  classification genes\n",
      "\n",
      "B cell\n",
      "CD4 T cell\n",
      "CD8 T cell\n",
      "Dendritic\n",
      "Megakaryocyte\n",
      "Monocyte\n",
      "NK\n",
      "There are 683 top gene pairs\n",
      "\n",
      "Finished pair transforming the data\n",
      "\n",
      "scRNAseq pdac (3296, 28756) (15435, 28756)\n",
      "HVG\n",
      "Matrix normalized\n",
      "There are  1358  classification genes\n",
      "\n",
      "Acinar\n",
      "B cell\n",
      "CD4 T cell\n",
      "CD8 T cell\n",
      "Dendritic\n",
      "Endothelial\n",
      "Epithelial\n",
      "Erythrocyte\n",
      "Fibroblast\n",
      "Islet\n",
      "Malignant\n",
      "Mast\n",
      "Monocyte\n",
      "NK\n",
      "Plasma\n",
      "Treg\n",
      "Tuft\n",
      "There are 1637 top gene pairs\n",
      "\n",
      "Finished pair transforming the data\n",
      "\n",
      "snATACseq brca (2064, 19891) (9028, 19891)\n",
      "HVG\n",
      "Matrix normalized\n",
      "There are  1119  classification genes\n",
      "\n",
      "B cell\n",
      "CD4 T cell\n",
      "CD8 T cell\n",
      "Dendritic\n",
      "Endothelial\n",
      "Fibroblast\n",
      "Malignant\n",
      "Mast\n",
      "Monocyte\n",
      "NK\n",
      "Treg\n",
      "There are 1080 top gene pairs\n",
      "\n",
      "Finished pair transforming the data\n",
      "\n",
      "snATACseq gbm (1316, 19891) (5650, 19891)\n",
      "HVG\n",
      "Matrix normalized\n",
      "There are  989  classification genes\n",
      "\n",
      "B cell\n",
      "Endothelial\n",
      "Fibroblast\n",
      "Malignant\n",
      "Microglia\n",
      "Neuron\n",
      "Oligodendrocytes\n",
      "T cells\n",
      "There are 792 top gene pairs\n",
      "\n",
      "Finished pair transforming the data\n",
      "\n",
      "snRNAseq brca (2455, 29175) (9490, 29175)\n",
      "HVG\n",
      "Matrix normalized\n",
      "There are  1163  classification genes\n",
      "\n",
      "Adipocyte\n",
      "B cell\n",
      "CD4 T cell\n",
      "CD8 T cell\n",
      "Dendritic\n",
      "Endothelial\n",
      "Fibroblast\n",
      "Malignant\n",
      "Mast\n",
      "Monocyte\n",
      "NK\n",
      "Plasma\n",
      "Treg\n",
      "There are 1251 top gene pairs\n",
      "\n",
      "Finished pair transforming the data\n",
      "\n",
      "snRNAseq ccrcc (2113, 33538) (8605, 33538)\n",
      "HVG\n",
      "Matrix normalized\n",
      "There are  1142  classification genes\n",
      "\n",
      "CD4 T cell\n",
      "CD8 T cell\n",
      "Dendritic\n",
      "Endothelial\n",
      "Epithelial\n",
      "Fibroblast\n",
      "Malignant\n",
      "Monocyte\n",
      "NK\n",
      "Plasma\n",
      "Treg\n",
      "There are 1074 top gene pairs\n",
      "\n",
      "Finished pair transforming the data\n",
      "\n",
      "snRNAseq gbm (1689, 29748) (6810, 29748)\n",
      "HVG\n",
      "Matrix normalized\n",
      "There are  1005  classification genes\n",
      "\n",
      "B cell\n",
      "Endothelial\n",
      "Fibroblast\n",
      "Malignant\n",
      "Microglia\n",
      "Monocyte\n",
      "Neuron\n",
      "Oligodendrocytes\n",
      "T cells\n",
      "There are 891 top gene pairs\n",
      "\n",
      "Finished pair transforming the data\n",
      "\n"
     ]
    }
   ],
   "source": [
    "run_workflow_for_datasets(adata_map, run_SingleCellNet, 'SingleCellNet', RESULTS_DIR)"
   ]
  },
  {
   "cell_type": "code",
   "execution_count": 112,
   "metadata": {},
   "outputs": [
    {
     "name": "stdout",
     "output_type": "stream",
     "text": [
      "scRNAseq brca_train_cesc_val (2600, 27131) (8449, 22928)\n",
      "HVG\n",
      "Matrix normalized\n",
      "There are  1104  classification genes\n",
      "\n",
      "B cell\n",
      "CD4 T cell\n",
      "CD8 T cell\n",
      "Dendritic\n",
      "Endothelial\n",
      "Erythrocyte\n",
      "Fibroblast\n",
      "Malignant\n",
      "Mast\n",
      "Monocyte\n",
      "NK\n",
      "Plasma\n",
      "Treg\n",
      "There are 1270 top gene pairs\n",
      "\n",
      "Finished pair transforming the data\n",
      "\n",
      "scRNAseq brca_train_hnscc_val (2600, 27131) (10288, 26929)\n",
      "HVG\n",
      "Matrix normalized\n",
      "There are  1104  classification genes\n",
      "\n",
      "B cell\n",
      "CD4 T cell\n",
      "CD8 T cell\n",
      "Dendritic\n",
      "Endothelial\n",
      "Erythrocyte\n",
      "Fibroblast\n",
      "Malignant\n",
      "Mast\n",
      "Monocyte\n",
      "NK\n",
      "Plasma\n",
      "Treg\n",
      "There are 1270 top gene pairs\n",
      "\n",
      "Finished pair transforming the data\n",
      "\n",
      "scRNAseq brca_train_melanoma_val (2600, 27131) (6735, 23452)\n",
      "HVG\n",
      "Matrix normalized\n",
      "There are  1104  classification genes\n",
      "\n",
      "B cell\n",
      "CD4 T cell\n",
      "CD8 T cell\n",
      "Dendritic\n",
      "Endothelial\n",
      "Erythrocyte\n",
      "Fibroblast\n",
      "Malignant\n",
      "Mast\n",
      "Monocyte\n",
      "NK\n",
      "Plasma\n",
      "Treg\n",
      "There are 1270 top gene pairs\n",
      "\n",
      "Finished pair transforming the data\n",
      "\n",
      "scRNAseq brca_train_pbmc_val (2600, 27131) (1698, 32738)\n",
      "HVG\n",
      "Matrix normalized\n",
      "There are  1104  classification genes\n",
      "\n",
      "B cell\n",
      "CD4 T cell\n",
      "CD8 T cell\n",
      "Dendritic\n",
      "Endothelial\n",
      "Erythrocyte\n",
      "Fibroblast\n",
      "Malignant\n",
      "Mast\n",
      "Monocyte\n",
      "NK\n",
      "Plasma\n",
      "Treg\n",
      "There are 1270 top gene pairs\n",
      "\n",
      "Finished pair transforming the data\n",
      "\n",
      "scRNAseq brca_train_pdac_val (2600, 27131) (15435, 28756)\n",
      "HVG\n",
      "Matrix normalized\n",
      "There are  1104  classification genes\n",
      "\n",
      "B cell\n",
      "CD4 T cell\n",
      "CD8 T cell\n",
      "Dendritic\n",
      "Endothelial\n",
      "Erythrocyte\n",
      "Fibroblast\n",
      "Malignant\n",
      "Mast\n",
      "Monocyte\n",
      "NK\n",
      "Plasma\n",
      "Treg\n",
      "There are 1270 top gene pairs\n",
      "\n",
      "Finished pair transforming the data\n",
      "\n",
      "scRNAseq cesc_train_brca_val (1941, 22928) (11253, 27131)\n",
      "HVG\n",
      "Matrix normalized\n",
      "There are  976  classification genes\n",
      "\n",
      "CD4 T cell\n",
      "CD8 T cell\n",
      "Endothelial\n",
      "Epithelial\n",
      "Erythrocyte\n",
      "Fibroblast\n",
      "Malignant\n",
      "Mast\n",
      "Monocyte\n",
      "NK\n",
      "Plasma\n",
      "There are 1073 top gene pairs\n",
      "\n",
      "Finished pair transforming the data\n",
      "\n",
      "scRNAseq cesc_train_hnscc_val (1941, 22928) (10288, 26929)\n",
      "HVG\n",
      "Matrix normalized\n",
      "There are  976  classification genes\n",
      "\n",
      "CD4 T cell\n",
      "CD8 T cell\n",
      "Endothelial\n",
      "Epithelial\n",
      "Erythrocyte\n",
      "Fibroblast\n",
      "Malignant\n",
      "Mast\n",
      "Monocyte\n",
      "NK\n",
      "Plasma\n",
      "There are 1073 top gene pairs\n",
      "\n",
      "Finished pair transforming the data\n",
      "\n",
      "scRNAseq cesc_train_melanoma_val (1941, 22928) (6735, 23452)\n",
      "HVG\n",
      "Matrix normalized\n",
      "There are  976  classification genes\n",
      "\n",
      "CD4 T cell\n",
      "CD8 T cell\n",
      "Endothelial\n",
      "Epithelial\n",
      "Erythrocyte\n",
      "Fibroblast\n",
      "Malignant\n",
      "Mast\n",
      "Monocyte\n",
      "NK\n",
      "Plasma\n",
      "There are 1073 top gene pairs\n",
      "\n",
      "Finished pair transforming the data\n",
      "\n",
      "scRNAseq cesc_train_pbmc_val (1941, 22928) (1698, 32738)\n",
      "HVG\n",
      "Matrix normalized\n",
      "There are  976  classification genes\n",
      "\n",
      "CD4 T cell\n",
      "CD8 T cell\n",
      "Endothelial\n",
      "Epithelial\n",
      "Erythrocyte\n",
      "Fibroblast\n",
      "Malignant\n",
      "Mast\n",
      "Monocyte\n",
      "NK\n",
      "Plasma\n",
      "There are 1073 top gene pairs\n",
      "\n",
      "Finished pair transforming the data\n",
      "\n",
      "scRNAseq cesc_train_pdac_val (1941, 22928) (15435, 28756)\n",
      "HVG\n",
      "Matrix normalized\n",
      "There are  976  classification genes\n",
      "\n",
      "CD4 T cell\n",
      "CD8 T cell\n",
      "Endothelial\n",
      "Epithelial\n",
      "Erythrocyte\n",
      "Fibroblast\n",
      "Malignant\n",
      "Mast\n",
      "Monocyte\n",
      "NK\n",
      "Plasma\n",
      "There are 1073 top gene pairs\n",
      "\n",
      "Finished pair transforming the data\n",
      "\n",
      "scRNAseq hnscc_train_brca_val (2200, 26929) (11253, 27131)\n",
      "HVG\n",
      "Matrix normalized\n",
      "There are  1100  classification genes\n",
      "\n",
      "B cell\n",
      "CD4 T cell\n",
      "CD8 T cell\n",
      "Endothelial\n",
      "Erythrocyte\n",
      "Malignant\n",
      "Mast\n",
      "Monocyte\n",
      "NK\n",
      "Plasma\n",
      "Treg\n",
      "There are 1073 top gene pairs\n",
      "\n",
      "Finished pair transforming the data\n",
      "\n",
      "scRNAseq hnscc_train_cesc_val (2200, 26929) (8449, 22928)\n",
      "HVG\n",
      "Matrix normalized\n",
      "There are  1100  classification genes\n",
      "\n",
      "B cell\n",
      "CD4 T cell\n",
      "CD8 T cell\n",
      "Endothelial\n",
      "Erythrocyte\n",
      "Malignant\n",
      "Mast\n",
      "Monocyte\n",
      "NK\n",
      "Plasma\n",
      "Treg\n",
      "There are 1073 top gene pairs\n",
      "\n",
      "Finished pair transforming the data\n",
      "\n",
      "scRNAseq hnscc_train_melanoma_val (2200, 26929) (6735, 23452)\n",
      "HVG\n",
      "Matrix normalized\n",
      "There are  1100  classification genes\n",
      "\n",
      "B cell\n",
      "CD4 T cell\n",
      "CD8 T cell\n",
      "Endothelial\n",
      "Erythrocyte\n",
      "Malignant\n",
      "Mast\n",
      "Monocyte\n",
      "NK\n",
      "Plasma\n",
      "Treg\n",
      "There are 1073 top gene pairs\n",
      "\n",
      "Finished pair transforming the data\n",
      "\n",
      "scRNAseq hnscc_train_pbmc_val (2200, 26929) (1698, 32738)\n",
      "HVG\n",
      "Matrix normalized\n",
      "There are  1100  classification genes\n",
      "\n",
      "B cell\n",
      "CD4 T cell\n",
      "CD8 T cell\n",
      "Endothelial\n",
      "Erythrocyte\n",
      "Malignant\n",
      "Mast\n",
      "Monocyte\n",
      "NK\n",
      "Plasma\n",
      "Treg\n",
      "There are 1073 top gene pairs\n",
      "\n",
      "Finished pair transforming the data\n",
      "\n",
      "scRNAseq hnscc_train_pdac_val (2200, 26929) (15435, 28756)\n",
      "HVG\n",
      "Matrix normalized\n",
      "There are  1100  classification genes\n",
      "\n",
      "B cell\n",
      "CD4 T cell\n",
      "CD8 T cell\n",
      "Endothelial\n",
      "Erythrocyte\n",
      "Malignant\n",
      "Mast\n",
      "Monocyte\n",
      "NK\n",
      "Plasma\n",
      "Treg\n",
      "There are 1073 top gene pairs\n",
      "\n",
      "Finished pair transforming the data\n",
      "\n",
      "scRNAseq melanoma_train_brca_val (2000, 23452) (11253, 27131)\n",
      "HVG\n",
      "Matrix normalized\n",
      "There are  900  classification genes\n",
      "\n",
      "B cell\n",
      "CD4 T cell\n",
      "CD8 T cell\n",
      "Dendritic\n",
      "Fibroblast\n",
      "Malignant\n",
      "Monocyte\n",
      "NK\n",
      "Plasma\n",
      "Treg\n",
      "There are 977 top gene pairs\n",
      "\n",
      "Finished pair transforming the data\n",
      "\n",
      "scRNAseq melanoma_train_cesc_val (2000, 23452) (8449, 22928)\n",
      "HVG\n",
      "Matrix normalized\n",
      "There are  900  classification genes\n",
      "\n",
      "B cell\n",
      "CD4 T cell\n",
      "CD8 T cell\n",
      "Dendritic\n",
      "Fibroblast\n",
      "Malignant\n",
      "Monocyte\n",
      "NK\n",
      "Plasma\n",
      "Treg\n",
      "There are 977 top gene pairs\n",
      "\n",
      "Finished pair transforming the data\n",
      "\n",
      "scRNAseq melanoma_train_hnscc_val (2000, 23452) (10288, 26929)\n",
      "HVG\n",
      "Matrix normalized\n",
      "There are  900  classification genes\n",
      "\n",
      "B cell\n",
      "CD4 T cell\n",
      "CD8 T cell\n",
      "Dendritic\n",
      "Fibroblast\n",
      "Malignant\n",
      "Monocyte\n",
      "NK\n",
      "Plasma\n",
      "Treg\n",
      "There are 977 top gene pairs\n",
      "\n",
      "Finished pair transforming the data\n",
      "\n",
      "scRNAseq melanoma_train_pbmc_val (2000, 23452) (1698, 32738)\n",
      "HVG\n",
      "Matrix normalized\n",
      "There are  900  classification genes\n",
      "\n",
      "B cell\n",
      "CD4 T cell\n",
      "CD8 T cell\n",
      "Dendritic\n",
      "Fibroblast\n",
      "Malignant\n",
      "Monocyte\n",
      "NK\n",
      "Plasma\n",
      "Treg\n",
      "There are 977 top gene pairs\n",
      "\n",
      "Finished pair transforming the data\n",
      "\n",
      "scRNAseq melanoma_train_pdac_val (2000, 23452) (15435, 28756)\n",
      "HVG\n",
      "Matrix normalized\n",
      "There are  900  classification genes\n",
      "\n",
      "B cell\n",
      "CD4 T cell\n",
      "CD8 T cell\n",
      "Dendritic\n",
      "Fibroblast\n",
      "Malignant\n",
      "Monocyte\n",
      "NK\n",
      "Plasma\n",
      "Treg\n",
      "There are 977 top gene pairs\n",
      "\n",
      "Finished pair transforming the data\n",
      "\n",
      "scRNAseq pbmc_train_brca_val (940, 32738) (11253, 27131)\n",
      "HVG\n",
      "Matrix normalized\n",
      "There are  693  classification genes\n",
      "\n",
      "B cell\n",
      "CD4 T cell\n",
      "CD8 T cell\n",
      "Dendritic\n",
      "Megakaryocyte\n",
      "Monocyte\n",
      "NK\n",
      "There are 683 top gene pairs\n",
      "\n",
      "Finished pair transforming the data\n",
      "\n",
      "scRNAseq pbmc_train_cesc_val (940, 32738) (8449, 22928)\n",
      "HVG\n",
      "Matrix normalized\n",
      "There are  693  classification genes\n",
      "\n",
      "B cell\n",
      "CD4 T cell\n",
      "CD8 T cell\n",
      "Dendritic\n",
      "Megakaryocyte\n",
      "Monocyte\n",
      "NK\n",
      "There are 683 top gene pairs\n",
      "\n",
      "Finished pair transforming the data\n",
      "\n",
      "scRNAseq pbmc_train_hnscc_val (940, 32738) (10288, 26929)\n",
      "HVG\n",
      "Matrix normalized\n",
      "There are  693  classification genes\n",
      "\n",
      "B cell\n",
      "CD4 T cell\n",
      "CD8 T cell\n",
      "Dendritic\n",
      "Megakaryocyte\n",
      "Monocyte\n",
      "NK\n",
      "There are 683 top gene pairs\n",
      "\n",
      "Finished pair transforming the data\n",
      "\n",
      "scRNAseq pbmc_train_melanoma_val (940, 32738) (6735, 23452)\n",
      "HVG\n",
      "Matrix normalized\n",
      "There are  693  classification genes\n",
      "\n",
      "B cell\n",
      "CD4 T cell\n",
      "CD8 T cell\n",
      "Dendritic\n",
      "Megakaryocyte\n",
      "Monocyte\n",
      "NK\n",
      "There are 683 top gene pairs\n",
      "\n",
      "Finished pair transforming the data\n",
      "\n",
      "scRNAseq pbmc_train_pdac_val (940, 32738) (15435, 28756)\n",
      "HVG\n",
      "Matrix normalized\n",
      "There are  693  classification genes\n",
      "\n",
      "B cell\n",
      "CD4 T cell\n",
      "CD8 T cell\n",
      "Dendritic\n",
      "Megakaryocyte\n",
      "Monocyte\n",
      "NK\n",
      "There are 683 top gene pairs\n",
      "\n",
      "Finished pair transforming the data\n",
      "\n",
      "scRNAseq pdac_train_brca_val (3296, 28756) (11253, 27131)\n",
      "HVG\n",
      "Matrix normalized\n",
      "There are  1358  classification genes\n",
      "\n",
      "Acinar\n",
      "B cell\n",
      "CD4 T cell\n",
      "CD8 T cell\n",
      "Dendritic\n",
      "Endothelial\n",
      "Epithelial\n",
      "Erythrocyte\n",
      "Fibroblast\n",
      "Islet\n",
      "Malignant\n",
      "Mast\n",
      "Monocyte\n",
      "NK\n",
      "Plasma\n",
      "Treg\n",
      "Tuft\n",
      "There are 1637 top gene pairs\n",
      "\n",
      "Finished pair transforming the data\n",
      "\n",
      "scRNAseq pdac_train_cesc_val (3296, 28756) (8449, 22928)\n",
      "HVG\n",
      "Matrix normalized\n",
      "There are  1358  classification genes\n",
      "\n",
      "Acinar\n",
      "B cell\n",
      "CD4 T cell\n",
      "CD8 T cell\n",
      "Dendritic\n",
      "Endothelial\n",
      "Epithelial\n",
      "Erythrocyte\n",
      "Fibroblast\n",
      "Islet\n",
      "Malignant\n",
      "Mast\n",
      "Monocyte\n",
      "NK\n",
      "Plasma\n",
      "Treg\n",
      "Tuft\n",
      "There are 1637 top gene pairs\n",
      "\n",
      "Finished pair transforming the data\n",
      "\n",
      "scRNAseq pdac_train_hnscc_val (3296, 28756) (10288, 26929)\n",
      "HVG\n",
      "Matrix normalized\n",
      "There are  1358  classification genes\n",
      "\n",
      "Acinar\n",
      "B cell\n",
      "CD4 T cell\n",
      "CD8 T cell\n",
      "Dendritic\n",
      "Endothelial\n",
      "Epithelial\n",
      "Erythrocyte\n",
      "Fibroblast\n",
      "Islet\n",
      "Malignant\n",
      "Mast\n",
      "Monocyte\n",
      "NK\n",
      "Plasma\n",
      "Treg\n",
      "Tuft\n",
      "There are 1637 top gene pairs\n",
      "\n",
      "Finished pair transforming the data\n",
      "\n",
      "scRNAseq pdac_train_melanoma_val (3296, 28756) (6735, 23452)\n",
      "HVG\n",
      "Matrix normalized\n",
      "There are  1358  classification genes\n",
      "\n",
      "Acinar\n",
      "B cell\n",
      "CD4 T cell\n",
      "CD8 T cell\n",
      "Dendritic\n",
      "Endothelial\n",
      "Epithelial\n",
      "Erythrocyte\n",
      "Fibroblast\n",
      "Islet\n",
      "Malignant\n",
      "Mast\n",
      "Monocyte\n",
      "NK\n",
      "Plasma\n"
     ]
    },
    {
     "name": "stdout",
     "output_type": "stream",
     "text": [
      "Treg\n",
      "Tuft\n",
      "There are 1637 top gene pairs\n",
      "\n",
      "Finished pair transforming the data\n",
      "\n",
      "scRNAseq pdac_train_pbmc_val (3296, 28756) (1698, 32738)\n",
      "HVG\n",
      "Matrix normalized\n",
      "There are  1358  classification genes\n",
      "\n",
      "Acinar\n",
      "B cell\n",
      "CD4 T cell\n",
      "CD8 T cell\n",
      "Dendritic\n",
      "Endothelial\n",
      "Epithelial\n",
      "Erythrocyte\n",
      "Fibroblast\n",
      "Islet\n",
      "Malignant\n",
      "Mast\n",
      "Monocyte\n",
      "NK\n",
      "Plasma\n",
      "Treg\n",
      "Tuft\n",
      "There are 1637 top gene pairs\n",
      "\n",
      "Finished pair transforming the data\n",
      "\n",
      "snATACseq brca_train_gbm_val (2064, 19891) (5650, 19891)\n",
      "HVG\n",
      "Matrix normalized\n",
      "There are  1119  classification genes\n",
      "\n",
      "B cell\n",
      "CD4 T cell\n",
      "CD8 T cell\n",
      "Dendritic\n",
      "Endothelial\n",
      "Fibroblast\n",
      "Malignant\n",
      "Mast\n",
      "Monocyte\n",
      "NK\n",
      "Treg\n",
      "There are 1080 top gene pairs\n",
      "\n",
      "Finished pair transforming the data\n",
      "\n",
      "snATACseq gbm_train_brca_val (1316, 19891) (9028, 19891)\n",
      "HVG\n",
      "Matrix normalized\n",
      "There are  989  classification genes\n",
      "\n",
      "B cell\n",
      "Endothelial\n",
      "Fibroblast\n",
      "Malignant\n",
      "Microglia\n",
      "Neuron\n",
      "Oligodendrocytes\n",
      "T cells\n",
      "There are 792 top gene pairs\n",
      "\n",
      "Finished pair transforming the data\n",
      "\n",
      "snRNAseq brca_train_ccrcc_val (2455, 29175) (8605, 33538)\n",
      "HVG\n",
      "Matrix normalized\n",
      "There are  1163  classification genes\n",
      "\n",
      "Adipocyte\n",
      "B cell\n",
      "CD4 T cell\n",
      "CD8 T cell\n",
      "Dendritic\n",
      "Endothelial\n",
      "Fibroblast\n",
      "Malignant\n",
      "Mast\n",
      "Monocyte\n",
      "NK\n",
      "Plasma\n",
      "Treg\n",
      "There are 1251 top gene pairs\n",
      "\n",
      "Finished pair transforming the data\n",
      "\n",
      "snRNAseq brca_train_gbm_val (2455, 29175) (6810, 29748)\n",
      "HVG\n",
      "Matrix normalized\n",
      "There are  1163  classification genes\n",
      "\n",
      "Adipocyte\n",
      "B cell\n",
      "CD4 T cell\n",
      "CD8 T cell\n",
      "Dendritic\n",
      "Endothelial\n",
      "Fibroblast\n",
      "Malignant\n",
      "Mast\n",
      "Monocyte\n",
      "NK\n",
      "Plasma\n",
      "Treg\n",
      "There are 1251 top gene pairs\n",
      "\n",
      "Finished pair transforming the data\n",
      "\n",
      "snRNAseq ccrcc_train_brca_val (2113, 33538) (9490, 29175)\n",
      "HVG\n",
      "Matrix normalized\n",
      "There are  1142  classification genes\n",
      "\n",
      "CD4 T cell\n",
      "CD8 T cell\n",
      "Dendritic\n",
      "Endothelial\n",
      "Epithelial\n",
      "Fibroblast\n",
      "Malignant\n",
      "Monocyte\n",
      "NK\n",
      "Plasma\n",
      "Treg\n",
      "There are 1074 top gene pairs\n",
      "\n",
      "Finished pair transforming the data\n",
      "\n",
      "snRNAseq ccrcc_train_gbm_val (2113, 33538) (6810, 29748)\n",
      "HVG\n",
      "Matrix normalized\n",
      "There are  1142  classification genes\n",
      "\n",
      "CD4 T cell\n",
      "CD8 T cell\n",
      "Dendritic\n",
      "Endothelial\n",
      "Epithelial\n",
      "Fibroblast\n",
      "Malignant\n",
      "Monocyte\n",
      "NK\n",
      "Plasma\n",
      "Treg\n",
      "There are 1074 top gene pairs\n",
      "\n",
      "Finished pair transforming the data\n",
      "\n",
      "snRNAseq gbm_train_brca_val (1689, 29748) (9490, 29175)\n",
      "HVG\n",
      "Matrix normalized\n",
      "There are  1005  classification genes\n",
      "\n",
      "B cell\n",
      "Endothelial\n",
      "Fibroblast\n",
      "Malignant\n",
      "Microglia\n",
      "Monocyte\n",
      "Neuron\n",
      "Oligodendrocytes\n",
      "T cells\n",
      "There are 891 top gene pairs\n",
      "\n",
      "Finished pair transforming the data\n",
      "\n",
      "snRNAseq gbm_train_ccrcc_val (1689, 29748) (8605, 33538)\n",
      "HVG\n",
      "Matrix normalized\n",
      "There are  1005  classification genes\n",
      "\n",
      "B cell\n",
      "Endothelial\n",
      "Fibroblast\n",
      "Malignant\n",
      "Microglia\n",
      "Monocyte\n",
      "Neuron\n",
      "Oligodendrocytes\n",
      "T cells\n",
      "There are 891 top gene pairs\n",
      "\n",
      "Finished pair transforming the data\n",
      "\n"
     ]
    }
   ],
   "source": [
    "run_workflow_for_cross_disease(adata_map, run_SingleCellNet, 'SingleCellNet', RESULTS_CROSS_DISEASE_DIR)"
   ]
  },
  {
   "cell_type": "code",
   "execution_count": 113,
   "metadata": {},
   "outputs": [
    {
     "name": "stdout",
     "output_type": "stream",
     "text": [
      "snRNAseq brca_train_brca_val (2600, 27131) (9028, 19891)\n",
      "HVG\n",
      "Matrix normalized\n",
      "There are  1104  classification genes\n",
      "\n",
      "B cell\n",
      "CD4 T cell\n",
      "CD8 T cell\n",
      "Dendritic\n",
      "Endothelial\n",
      "Erythrocyte\n",
      "Fibroblast\n",
      "Malignant\n",
      "Mast\n",
      "Monocyte\n",
      "NK\n",
      "Plasma\n",
      "Treg\n",
      "There are 1270 top gene pairs\n",
      "\n",
      "Finished pair transforming the data\n",
      "\n",
      "snRNAseq brca_train_gbm_val (2600, 27131) (5650, 19891)\n",
      "HVG\n",
      "Matrix normalized\n",
      "There are  1104  classification genes\n",
      "\n",
      "B cell\n",
      "CD4 T cell\n",
      "CD8 T cell\n",
      "Dendritic\n",
      "Endothelial\n",
      "Erythrocyte\n",
      "Fibroblast\n",
      "Malignant\n",
      "Mast\n",
      "Monocyte\n",
      "NK\n",
      "Plasma\n",
      "Treg\n",
      "There are 1270 top gene pairs\n",
      "\n",
      "Finished pair transforming the data\n",
      "\n",
      "snRNAseq cesc_train_brca_val (1941, 22928) (9028, 19891)\n",
      "HVG\n",
      "Matrix normalized\n",
      "There are  976  classification genes\n",
      "\n",
      "CD4 T cell\n",
      "CD8 T cell\n",
      "Endothelial\n",
      "Epithelial\n",
      "Erythrocyte\n",
      "Fibroblast\n",
      "Malignant\n",
      "Mast\n",
      "Monocyte\n",
      "NK\n",
      "Plasma\n",
      "There are 1073 top gene pairs\n",
      "\n",
      "Finished pair transforming the data\n",
      "\n",
      "snRNAseq cesc_train_gbm_val (1941, 22928) (5650, 19891)\n",
      "HVG\n",
      "Matrix normalized\n",
      "There are  976  classification genes\n",
      "\n",
      "CD4 T cell\n",
      "CD8 T cell\n",
      "Endothelial\n",
      "Epithelial\n",
      "Erythrocyte\n",
      "Fibroblast\n",
      "Malignant\n",
      "Mast\n",
      "Monocyte\n",
      "NK\n",
      "Plasma\n",
      "There are 1073 top gene pairs\n",
      "\n",
      "Finished pair transforming the data\n",
      "\n",
      "snRNAseq hnscc_train_brca_val (2200, 26929) (9028, 19891)\n",
      "HVG\n",
      "Matrix normalized\n",
      "There are  1100  classification genes\n",
      "\n",
      "B cell\n",
      "CD4 T cell\n",
      "CD8 T cell\n",
      "Endothelial\n",
      "Erythrocyte\n",
      "Malignant\n",
      "Mast\n",
      "Monocyte\n",
      "NK\n",
      "Plasma\n",
      "Treg\n",
      "There are 1073 top gene pairs\n",
      "\n",
      "Finished pair transforming the data\n",
      "\n",
      "snRNAseq hnscc_train_gbm_val (2200, 26929) (5650, 19891)\n",
      "HVG\n",
      "Matrix normalized\n",
      "There are  1100  classification genes\n",
      "\n",
      "B cell\n",
      "CD4 T cell\n",
      "CD8 T cell\n",
      "Endothelial\n",
      "Erythrocyte\n",
      "Malignant\n",
      "Mast\n",
      "Monocyte\n",
      "NK\n",
      "Plasma\n",
      "Treg\n",
      "There are 1073 top gene pairs\n",
      "\n",
      "Finished pair transforming the data\n",
      "\n",
      "snRNAseq melanoma_train_brca_val (2000, 23452) (9028, 19891)\n",
      "HVG\n",
      "Matrix normalized\n",
      "There are  900  classification genes\n",
      "\n",
      "B cell\n",
      "CD4 T cell\n",
      "CD8 T cell\n",
      "Dendritic\n",
      "Fibroblast\n",
      "Malignant\n",
      "Monocyte\n",
      "NK\n",
      "Plasma\n",
      "Treg\n",
      "There are 977 top gene pairs\n",
      "\n",
      "Finished pair transforming the data\n",
      "\n",
      "snRNAseq melanoma_train_gbm_val (2000, 23452) (5650, 19891)\n",
      "HVG\n",
      "Matrix normalized\n",
      "There are  900  classification genes\n",
      "\n",
      "B cell\n",
      "CD4 T cell\n",
      "CD8 T cell\n",
      "Dendritic\n",
      "Fibroblast\n",
      "Malignant\n",
      "Monocyte\n",
      "NK\n",
      "Plasma\n",
      "Treg\n",
      "There are 977 top gene pairs\n",
      "\n",
      "Finished pair transforming the data\n",
      "\n",
      "snRNAseq pbmc_train_brca_val (940, 32738) (9028, 19891)\n",
      "HVG\n",
      "Matrix normalized\n",
      "There are  693  classification genes\n",
      "\n",
      "B cell\n",
      "CD4 T cell\n",
      "CD8 T cell\n",
      "Dendritic\n",
      "Megakaryocyte\n",
      "Monocyte\n",
      "NK\n",
      "There are 683 top gene pairs\n",
      "\n",
      "Finished pair transforming the data\n",
      "\n",
      "snRNAseq pbmc_train_gbm_val (940, 32738) (5650, 19891)\n",
      "HVG\n",
      "Matrix normalized\n",
      "There are  693  classification genes\n",
      "\n",
      "B cell\n",
      "CD4 T cell\n",
      "CD8 T cell\n",
      "Dendritic\n",
      "Megakaryocyte\n",
      "Monocyte\n",
      "NK\n",
      "There are 683 top gene pairs\n",
      "\n",
      "Finished pair transforming the data\n",
      "\n",
      "snRNAseq pdac_train_brca_val (3296, 28756) (9028, 19891)\n",
      "HVG\n",
      "Matrix normalized\n",
      "There are  1358  classification genes\n",
      "\n",
      "Acinar\n",
      "B cell\n",
      "CD4 T cell\n",
      "CD8 T cell\n",
      "Dendritic\n",
      "Endothelial\n",
      "Epithelial\n",
      "Erythrocyte\n",
      "Fibroblast\n",
      "Islet\n",
      "Malignant\n",
      "Mast\n",
      "Monocyte\n",
      "NK\n",
      "Plasma\n",
      "Treg\n",
      "Tuft\n",
      "There are 1637 top gene pairs\n",
      "\n",
      "Finished pair transforming the data\n",
      "\n",
      "snRNAseq pdac_train_gbm_val (3296, 28756) (5650, 19891)\n",
      "HVG\n",
      "Matrix normalized\n",
      "There are  1358  classification genes\n",
      "\n",
      "Acinar\n",
      "B cell\n",
      "CD4 T cell\n",
      "CD8 T cell\n",
      "Dendritic\n",
      "Endothelial\n",
      "Epithelial\n",
      "Erythrocyte\n",
      "Fibroblast\n",
      "Islet\n",
      "Malignant\n",
      "Mast\n",
      "Monocyte\n",
      "NK\n",
      "Plasma\n",
      "Treg\n",
      "Tuft\n",
      "There are 1637 top gene pairs\n",
      "\n",
      "Finished pair transforming the data\n",
      "\n",
      "snRNAseq brca_train_brca_val (2600, 27131) (9490, 29175)\n",
      "HVG\n",
      "Matrix normalized\n",
      "There are  1104  classification genes\n",
      "\n",
      "B cell\n",
      "CD4 T cell\n",
      "CD8 T cell\n",
      "Dendritic\n",
      "Endothelial\n",
      "Erythrocyte\n",
      "Fibroblast\n",
      "Malignant\n",
      "Mast\n",
      "Monocyte\n",
      "NK\n",
      "Plasma\n",
      "Treg\n",
      "There are 1270 top gene pairs\n",
      "\n",
      "Finished pair transforming the data\n",
      "\n",
      "snRNAseq brca_train_ccrcc_val (2600, 27131) (8605, 33538)\n",
      "HVG\n",
      "Matrix normalized\n",
      "There are  1104  classification genes\n",
      "\n",
      "B cell\n",
      "CD4 T cell\n",
      "CD8 T cell\n",
      "Dendritic\n",
      "Endothelial\n",
      "Erythrocyte\n",
      "Fibroblast\n",
      "Malignant\n",
      "Mast\n",
      "Monocyte\n",
      "NK\n",
      "Plasma\n",
      "Treg\n",
      "There are 1270 top gene pairs\n",
      "\n",
      "Finished pair transforming the data\n",
      "\n",
      "snRNAseq brca_train_gbm_val (2600, 27131) (6810, 29748)\n",
      "HVG\n",
      "Matrix normalized\n",
      "There are  1104  classification genes\n",
      "\n",
      "B cell\n",
      "CD4 T cell\n",
      "CD8 T cell\n",
      "Dendritic\n",
      "Endothelial\n",
      "Erythrocyte\n",
      "Fibroblast\n",
      "Malignant\n",
      "Mast\n",
      "Monocyte\n",
      "NK\n",
      "Plasma\n",
      "Treg\n",
      "There are 1270 top gene pairs\n",
      "\n",
      "Finished pair transforming the data\n",
      "\n",
      "snRNAseq cesc_train_brca_val (1941, 22928) (9490, 29175)\n",
      "HVG\n",
      "Matrix normalized\n",
      "There are  976  classification genes\n",
      "\n",
      "CD4 T cell\n",
      "CD8 T cell\n",
      "Endothelial\n",
      "Epithelial\n",
      "Erythrocyte\n",
      "Fibroblast\n",
      "Malignant\n",
      "Mast\n",
      "Monocyte\n",
      "NK\n",
      "Plasma\n",
      "There are 1073 top gene pairs\n",
      "\n",
      "Finished pair transforming the data\n",
      "\n",
      "snRNAseq cesc_train_ccrcc_val (1941, 22928) (8605, 33538)\n",
      "HVG\n",
      "Matrix normalized\n",
      "There are  976  classification genes\n",
      "\n",
      "CD4 T cell\n",
      "CD8 T cell\n",
      "Endothelial\n",
      "Epithelial\n",
      "Erythrocyte\n",
      "Fibroblast\n",
      "Malignant\n",
      "Mast\n",
      "Monocyte\n",
      "NK\n",
      "Plasma\n",
      "There are 1073 top gene pairs\n",
      "\n",
      "Finished pair transforming the data\n",
      "\n",
      "snRNAseq cesc_train_gbm_val (1941, 22928) (6810, 29748)\n",
      "HVG\n",
      "Matrix normalized\n",
      "There are  976  classification genes\n",
      "\n",
      "CD4 T cell\n",
      "CD8 T cell\n",
      "Endothelial\n",
      "Epithelial\n",
      "Erythrocyte\n",
      "Fibroblast\n",
      "Malignant\n",
      "Mast\n",
      "Monocyte\n",
      "NK\n",
      "Plasma\n",
      "There are 1073 top gene pairs\n",
      "\n",
      "Finished pair transforming the data\n",
      "\n",
      "snRNAseq hnscc_train_brca_val (2200, 26929) (9490, 29175)\n",
      "HVG\n",
      "Matrix normalized\n",
      "There are  1100  classification genes\n",
      "\n",
      "B cell\n",
      "CD4 T cell\n",
      "CD8 T cell\n",
      "Endothelial\n",
      "Erythrocyte\n",
      "Malignant\n",
      "Mast\n",
      "Monocyte\n",
      "NK\n",
      "Plasma\n",
      "Treg\n",
      "There are 1073 top gene pairs\n",
      "\n",
      "Finished pair transforming the data\n",
      "\n",
      "snRNAseq hnscc_train_ccrcc_val (2200, 26929) (8605, 33538)\n",
      "HVG\n",
      "Matrix normalized\n",
      "There are  1100  classification genes\n",
      "\n",
      "B cell\n",
      "CD4 T cell\n",
      "CD8 T cell\n",
      "Endothelial\n",
      "Erythrocyte\n",
      "Malignant\n",
      "Mast\n",
      "Monocyte\n",
      "NK\n",
      "Plasma\n",
      "Treg\n",
      "There are 1073 top gene pairs\n",
      "\n",
      "Finished pair transforming the data\n",
      "\n",
      "snRNAseq hnscc_train_gbm_val (2200, 26929) (6810, 29748)\n",
      "HVG\n",
      "Matrix normalized\n",
      "There are  1100  classification genes\n",
      "\n",
      "B cell\n",
      "CD4 T cell\n",
      "CD8 T cell\n",
      "Endothelial\n",
      "Erythrocyte\n",
      "Malignant\n",
      "Mast\n",
      "Monocyte\n",
      "NK\n",
      "Plasma\n",
      "Treg\n",
      "There are 1073 top gene pairs\n",
      "\n",
      "Finished pair transforming the data\n",
      "\n",
      "snRNAseq melanoma_train_brca_val (2000, 23452) (9490, 29175)\n",
      "HVG\n",
      "Matrix normalized\n",
      "There are  900  classification genes\n",
      "\n",
      "B cell\n",
      "CD4 T cell\n",
      "CD8 T cell\n",
      "Dendritic\n",
      "Fibroblast\n",
      "Malignant\n",
      "Monocyte\n",
      "NK\n",
      "Plasma\n",
      "Treg\n",
      "There are 977 top gene pairs\n",
      "\n",
      "Finished pair transforming the data\n",
      "\n",
      "snRNAseq melanoma_train_ccrcc_val (2000, 23452) (8605, 33538)\n",
      "HVG\n",
      "Matrix normalized\n",
      "There are  900  classification genes\n",
      "\n",
      "B cell\n",
      "CD4 T cell\n",
      "CD8 T cell\n",
      "Dendritic\n",
      "Fibroblast\n",
      "Malignant\n",
      "Monocyte\n",
      "NK\n",
      "Plasma\n",
      "Treg\n",
      "There are 977 top gene pairs\n",
      "\n",
      "Finished pair transforming the data\n",
      "\n",
      "snRNAseq melanoma_train_gbm_val (2000, 23452) (6810, 29748)\n",
      "HVG\n",
      "Matrix normalized\n",
      "There are  900  classification genes\n",
      "\n",
      "B cell\n",
      "CD4 T cell\n",
      "CD8 T cell\n",
      "Dendritic\n",
      "Fibroblast\n",
      "Malignant\n",
      "Monocyte\n",
      "NK\n",
      "Plasma\n",
      "Treg\n",
      "There are 977 top gene pairs\n",
      "\n",
      "Finished pair transforming the data\n",
      "\n",
      "snRNAseq pbmc_train_brca_val (940, 32738) (9490, 29175)\n",
      "HVG\n",
      "Matrix normalized\n",
      "There are  693  classification genes\n",
      "\n",
      "B cell\n",
      "CD4 T cell\n",
      "CD8 T cell\n",
      "Dendritic\n",
      "Megakaryocyte\n",
      "Monocyte\n",
      "NK\n",
      "There are 683 top gene pairs\n",
      "\n",
      "Finished pair transforming the data\n",
      "\n",
      "snRNAseq pbmc_train_ccrcc_val (940, 32738) (8605, 33538)\n",
      "HVG\n",
      "Matrix normalized\n",
      "There are  693  classification genes\n",
      "\n",
      "B cell\n",
      "CD4 T cell\n",
      "CD8 T cell\n",
      "Dendritic\n",
      "Megakaryocyte\n",
      "Monocyte\n",
      "NK\n",
      "There are 683 top gene pairs\n",
      "\n",
      "Finished pair transforming the data\n",
      "\n",
      "snRNAseq pbmc_train_gbm_val (940, 32738) (6810, 29748)\n",
      "HVG\n",
      "Matrix normalized\n",
      "There are  693  classification genes\n",
      "\n",
      "B cell\n",
      "CD4 T cell\n",
      "CD8 T cell\n",
      "Dendritic\n",
      "Megakaryocyte\n",
      "Monocyte\n",
      "NK\n",
      "There are 683 top gene pairs\n",
      "\n",
      "Finished pair transforming the data\n",
      "\n",
      "snRNAseq pdac_train_brca_val (3296, 28756) (9490, 29175)\n",
      "HVG\n",
      "Matrix normalized\n",
      "There are  1358  classification genes\n",
      "\n",
      "Acinar\n",
      "B cell\n",
      "CD4 T cell\n",
      "CD8 T cell\n",
      "Dendritic\n",
      "Endothelial\n",
      "Epithelial\n",
      "Erythrocyte\n",
      "Fibroblast\n",
      "Islet\n",
      "Malignant\n",
      "Mast\n",
      "Monocyte\n",
      "NK\n",
      "Plasma\n",
      "Treg\n",
      "Tuft\n",
      "There are 1637 top gene pairs\n",
      "\n",
      "Finished pair transforming the data\n",
      "\n",
      "snRNAseq pdac_train_ccrcc_val (3296, 28756) (8605, 33538)\n",
      "HVG\n",
      "Matrix normalized\n",
      "There are  1358  classification genes\n",
      "\n",
      "Acinar\n",
      "B cell\n",
      "CD4 T cell\n",
      "CD8 T cell\n",
      "Dendritic\n",
      "Endothelial\n",
      "Epithelial\n",
      "Erythrocyte\n",
      "Fibroblast\n",
      "Islet\n",
      "Malignant\n",
      "Mast\n",
      "Monocyte\n",
      "NK\n",
      "Plasma\n",
      "Treg\n",
      "Tuft\n",
      "There are 1637 top gene pairs\n",
      "\n"
     ]
    },
    {
     "name": "stdout",
     "output_type": "stream",
     "text": [
      "Finished pair transforming the data\n",
      "\n",
      "snRNAseq pdac_train_gbm_val (3296, 28756) (6810, 29748)\n",
      "HVG\n",
      "Matrix normalized\n",
      "There are  1358  classification genes\n",
      "\n",
      "Acinar\n",
      "B cell\n",
      "CD4 T cell\n",
      "CD8 T cell\n",
      "Dendritic\n",
      "Endothelial\n",
      "Epithelial\n",
      "Erythrocyte\n",
      "Fibroblast\n",
      "Islet\n",
      "Malignant\n",
      "Mast\n",
      "Monocyte\n",
      "NK\n",
      "Plasma\n",
      "Treg\n",
      "Tuft\n",
      "There are 1637 top gene pairs\n",
      "\n",
      "Finished pair transforming the data\n",
      "\n",
      "snRNAseq brca_train_brca_val (2064, 19891) (11253, 27131)\n",
      "HVG\n",
      "Matrix normalized\n",
      "There are  1119  classification genes\n",
      "\n",
      "B cell\n",
      "CD4 T cell\n",
      "CD8 T cell\n",
      "Dendritic\n",
      "Endothelial\n",
      "Fibroblast\n",
      "Malignant\n",
      "Mast\n",
      "Monocyte\n",
      "NK\n",
      "Treg\n",
      "There are 1080 top gene pairs\n",
      "\n",
      "Finished pair transforming the data\n",
      "\n",
      "snRNAseq brca_train_cesc_val (2064, 19891) (8449, 22928)\n",
      "HVG\n",
      "Matrix normalized\n",
      "There are  1119  classification genes\n",
      "\n",
      "B cell\n",
      "CD4 T cell\n",
      "CD8 T cell\n",
      "Dendritic\n",
      "Endothelial\n",
      "Fibroblast\n",
      "Malignant\n",
      "Mast\n",
      "Monocyte\n",
      "NK\n",
      "Treg\n",
      "There are 1080 top gene pairs\n",
      "\n",
      "Finished pair transforming the data\n",
      "\n",
      "snRNAseq brca_train_hnscc_val (2064, 19891) (10288, 26929)\n",
      "HVG\n",
      "Matrix normalized\n",
      "There are  1119  classification genes\n",
      "\n",
      "B cell\n",
      "CD4 T cell\n",
      "CD8 T cell\n",
      "Dendritic\n",
      "Endothelial\n",
      "Fibroblast\n",
      "Malignant\n",
      "Mast\n",
      "Monocyte\n",
      "NK\n",
      "Treg\n",
      "There are 1080 top gene pairs\n",
      "\n",
      "Finished pair transforming the data\n",
      "\n",
      "snRNAseq brca_train_melanoma_val (2064, 19891) (6735, 23452)\n",
      "HVG\n",
      "Matrix normalized\n",
      "There are  1119  classification genes\n",
      "\n",
      "B cell\n",
      "CD4 T cell\n",
      "CD8 T cell\n",
      "Dendritic\n",
      "Endothelial\n",
      "Fibroblast\n",
      "Malignant\n",
      "Mast\n",
      "Monocyte\n",
      "NK\n",
      "Treg\n",
      "There are 1080 top gene pairs\n",
      "\n",
      "Finished pair transforming the data\n",
      "\n",
      "snRNAseq brca_train_pbmc_val (2064, 19891) (1698, 32738)\n",
      "HVG\n",
      "Matrix normalized\n",
      "There are  1119  classification genes\n",
      "\n",
      "B cell\n",
      "CD4 T cell\n",
      "CD8 T cell\n",
      "Dendritic\n",
      "Endothelial\n",
      "Fibroblast\n",
      "Malignant\n",
      "Mast\n",
      "Monocyte\n",
      "NK\n",
      "Treg\n",
      "There are 1080 top gene pairs\n",
      "\n",
      "Finished pair transforming the data\n",
      "\n",
      "snRNAseq brca_train_pdac_val (2064, 19891) (15435, 28756)\n",
      "HVG\n",
      "Matrix normalized\n",
      "There are  1119  classification genes\n",
      "\n",
      "B cell\n",
      "CD4 T cell\n",
      "CD8 T cell\n",
      "Dendritic\n",
      "Endothelial\n",
      "Fibroblast\n",
      "Malignant\n",
      "Mast\n",
      "Monocyte\n",
      "NK\n",
      "Treg\n",
      "There are 1080 top gene pairs\n",
      "\n",
      "Finished pair transforming the data\n",
      "\n",
      "snRNAseq gbm_train_brca_val (1316, 19891) (11253, 27131)\n",
      "HVG\n",
      "Matrix normalized\n",
      "There are  989  classification genes\n",
      "\n",
      "B cell\n",
      "Endothelial\n",
      "Fibroblast\n",
      "Malignant\n",
      "Microglia\n",
      "Neuron\n",
      "Oligodendrocytes\n",
      "T cells\n",
      "There are 792 top gene pairs\n",
      "\n",
      "Finished pair transforming the data\n",
      "\n",
      "snRNAseq gbm_train_cesc_val (1316, 19891) (8449, 22928)\n",
      "HVG\n",
      "Matrix normalized\n",
      "There are  989  classification genes\n",
      "\n",
      "B cell\n",
      "Endothelial\n",
      "Fibroblast\n",
      "Malignant\n",
      "Microglia\n",
      "Neuron\n",
      "Oligodendrocytes\n",
      "T cells\n",
      "There are 792 top gene pairs\n",
      "\n",
      "Finished pair transforming the data\n",
      "\n",
      "snRNAseq gbm_train_hnscc_val (1316, 19891) (10288, 26929)\n",
      "HVG\n",
      "Matrix normalized\n",
      "There are  989  classification genes\n",
      "\n",
      "B cell\n",
      "Endothelial\n",
      "Fibroblast\n",
      "Malignant\n",
      "Microglia\n",
      "Neuron\n",
      "Oligodendrocytes\n",
      "T cells\n",
      "There are 792 top gene pairs\n",
      "\n",
      "Finished pair transforming the data\n",
      "\n",
      "snRNAseq gbm_train_melanoma_val (1316, 19891) (6735, 23452)\n",
      "HVG\n",
      "Matrix normalized\n",
      "There are  989  classification genes\n",
      "\n",
      "B cell\n",
      "Endothelial\n",
      "Fibroblast\n",
      "Malignant\n",
      "Microglia\n",
      "Neuron\n",
      "Oligodendrocytes\n",
      "T cells\n",
      "There are 792 top gene pairs\n",
      "\n",
      "Finished pair transforming the data\n",
      "\n",
      "snRNAseq gbm_train_pbmc_val (1316, 19891) (1698, 32738)\n",
      "HVG\n",
      "Matrix normalized\n",
      "There are  989  classification genes\n",
      "\n",
      "B cell\n",
      "Endothelial\n",
      "Fibroblast\n",
      "Malignant\n",
      "Microglia\n",
      "Neuron\n",
      "Oligodendrocytes\n",
      "T cells\n",
      "There are 792 top gene pairs\n",
      "\n",
      "Finished pair transforming the data\n",
      "\n",
      "snRNAseq gbm_train_pdac_val (1316, 19891) (15435, 28756)\n",
      "HVG\n",
      "Matrix normalized\n",
      "There are  989  classification genes\n",
      "\n",
      "B cell\n",
      "Endothelial\n",
      "Fibroblast\n",
      "Malignant\n",
      "Microglia\n",
      "Neuron\n",
      "Oligodendrocytes\n",
      "T cells\n",
      "There are 792 top gene pairs\n",
      "\n",
      "Finished pair transforming the data\n",
      "\n",
      "snRNAseq brca_train_brca_val (2064, 19891) (9490, 29175)\n",
      "HVG\n",
      "Matrix normalized\n",
      "There are  1119  classification genes\n",
      "\n",
      "B cell\n",
      "CD4 T cell\n",
      "CD8 T cell\n",
      "Dendritic\n",
      "Endothelial\n",
      "Fibroblast\n",
      "Malignant\n",
      "Mast\n",
      "Monocyte\n",
      "NK\n",
      "Treg\n",
      "There are 1080 top gene pairs\n",
      "\n",
      "Finished pair transforming the data\n",
      "\n",
      "snRNAseq brca_train_ccrcc_val (2064, 19891) (8605, 33538)\n",
      "HVG\n",
      "Matrix normalized\n",
      "There are  1119  classification genes\n",
      "\n",
      "B cell\n",
      "CD4 T cell\n",
      "CD8 T cell\n",
      "Dendritic\n",
      "Endothelial\n",
      "Fibroblast\n",
      "Malignant\n",
      "Mast\n",
      "Monocyte\n",
      "NK\n",
      "Treg\n",
      "There are 1080 top gene pairs\n",
      "\n",
      "Finished pair transforming the data\n",
      "\n",
      "snRNAseq brca_train_gbm_val (2064, 19891) (6810, 29748)\n",
      "HVG\n",
      "Matrix normalized\n",
      "There are  1119  classification genes\n",
      "\n",
      "B cell\n",
      "CD4 T cell\n",
      "CD8 T cell\n",
      "Dendritic\n",
      "Endothelial\n",
      "Fibroblast\n",
      "Malignant\n",
      "Mast\n",
      "Monocyte\n",
      "NK\n",
      "Treg\n",
      "There are 1080 top gene pairs\n",
      "\n",
      "Finished pair transforming the data\n",
      "\n",
      "snRNAseq gbm_train_brca_val (1316, 19891) (9490, 29175)\n",
      "HVG\n",
      "Matrix normalized\n",
      "There are  989  classification genes\n",
      "\n",
      "B cell\n",
      "Endothelial\n",
      "Fibroblast\n",
      "Malignant\n",
      "Microglia\n",
      "Neuron\n",
      "Oligodendrocytes\n",
      "T cells\n",
      "There are 792 top gene pairs\n",
      "\n",
      "Finished pair transforming the data\n",
      "\n",
      "snRNAseq gbm_train_ccrcc_val (1316, 19891) (8605, 33538)\n",
      "HVG\n",
      "Matrix normalized\n",
      "There are  989  classification genes\n",
      "\n",
      "B cell\n",
      "Endothelial\n",
      "Fibroblast\n",
      "Malignant\n",
      "Microglia\n",
      "Neuron\n",
      "Oligodendrocytes\n",
      "T cells\n",
      "There are 792 top gene pairs\n",
      "\n",
      "Finished pair transforming the data\n",
      "\n",
      "snRNAseq gbm_train_gbm_val (1316, 19891) (6810, 29748)\n",
      "HVG\n",
      "Matrix normalized\n",
      "There are  989  classification genes\n",
      "\n",
      "B cell\n",
      "Endothelial\n",
      "Fibroblast\n",
      "Malignant\n",
      "Microglia\n",
      "Neuron\n",
      "Oligodendrocytes\n",
      "T cells\n",
      "There are 792 top gene pairs\n",
      "\n",
      "Finished pair transforming the data\n",
      "\n",
      "snRNAseq brca_train_brca_val (2455, 29175) (11253, 27131)\n",
      "HVG\n",
      "Matrix normalized\n",
      "There are  1163  classification genes\n",
      "\n",
      "Adipocyte\n",
      "B cell\n",
      "CD4 T cell\n",
      "CD8 T cell\n",
      "Dendritic\n",
      "Endothelial\n",
      "Fibroblast\n",
      "Malignant\n",
      "Mast\n",
      "Monocyte\n",
      "NK\n",
      "Plasma\n",
      "Treg\n",
      "There are 1251 top gene pairs\n",
      "\n",
      "Finished pair transforming the data\n",
      "\n",
      "snRNAseq brca_train_cesc_val (2455, 29175) (8449, 22928)\n",
      "HVG\n",
      "Matrix normalized\n",
      "There are  1163  classification genes\n",
      "\n",
      "Adipocyte\n",
      "B cell\n",
      "CD4 T cell\n",
      "CD8 T cell\n",
      "Dendritic\n",
      "Endothelial\n",
      "Fibroblast\n",
      "Malignant\n",
      "Mast\n",
      "Monocyte\n",
      "NK\n",
      "Plasma\n",
      "Treg\n",
      "There are 1251 top gene pairs\n",
      "\n",
      "Finished pair transforming the data\n",
      "\n",
      "snRNAseq brca_train_hnscc_val (2455, 29175) (10288, 26929)\n",
      "HVG\n",
      "Matrix normalized\n",
      "There are  1163  classification genes\n",
      "\n",
      "Adipocyte\n",
      "B cell\n",
      "CD4 T cell\n",
      "CD8 T cell\n",
      "Dendritic\n",
      "Endothelial\n",
      "Fibroblast\n",
      "Malignant\n",
      "Mast\n",
      "Monocyte\n",
      "NK\n",
      "Plasma\n",
      "Treg\n",
      "There are 1251 top gene pairs\n",
      "\n",
      "Finished pair transforming the data\n",
      "\n",
      "snRNAseq brca_train_melanoma_val (2455, 29175) (6735, 23452)\n",
      "HVG\n",
      "Matrix normalized\n",
      "There are  1163  classification genes\n",
      "\n",
      "Adipocyte\n",
      "B cell\n",
      "CD4 T cell\n",
      "CD8 T cell\n",
      "Dendritic\n",
      "Endothelial\n",
      "Fibroblast\n",
      "Malignant\n",
      "Mast\n",
      "Monocyte\n",
      "NK\n",
      "Plasma\n",
      "Treg\n",
      "There are 1251 top gene pairs\n",
      "\n",
      "Finished pair transforming the data\n",
      "\n",
      "snRNAseq brca_train_pbmc_val (2455, 29175) (1698, 32738)\n",
      "HVG\n",
      "Matrix normalized\n",
      "There are  1163  classification genes\n",
      "\n",
      "Adipocyte\n",
      "B cell\n",
      "CD4 T cell\n",
      "CD8 T cell\n",
      "Dendritic\n",
      "Endothelial\n",
      "Fibroblast\n",
      "Malignant\n",
      "Mast\n",
      "Monocyte\n",
      "NK\n",
      "Plasma\n",
      "Treg\n",
      "There are 1251 top gene pairs\n",
      "\n",
      "Finished pair transforming the data\n",
      "\n",
      "snRNAseq brca_train_pdac_val (2455, 29175) (15435, 28756)\n",
      "HVG\n",
      "Matrix normalized\n",
      "There are  1163  classification genes\n",
      "\n",
      "Adipocyte\n",
      "B cell\n",
      "CD4 T cell\n",
      "CD8 T cell\n",
      "Dendritic\n",
      "Endothelial\n",
      "Fibroblast\n",
      "Malignant\n",
      "Mast\n",
      "Monocyte\n",
      "NK\n",
      "Plasma\n",
      "Treg\n",
      "There are 1251 top gene pairs\n",
      "\n",
      "Finished pair transforming the data\n",
      "\n",
      "snRNAseq ccrcc_train_brca_val (2113, 33538) (11253, 27131)\n",
      "HVG\n",
      "Matrix normalized\n",
      "There are  1142  classification genes\n",
      "\n",
      "CD4 T cell\n",
      "CD8 T cell\n",
      "Dendritic\n",
      "Endothelial\n",
      "Epithelial\n",
      "Fibroblast\n",
      "Malignant\n",
      "Monocyte\n",
      "NK\n",
      "Plasma\n",
      "Treg\n",
      "There are 1074 top gene pairs\n",
      "\n",
      "Finished pair transforming the data\n",
      "\n",
      "snRNAseq ccrcc_train_cesc_val (2113, 33538) (8449, 22928)\n",
      "HVG\n",
      "Matrix normalized\n",
      "There are  1142  classification genes\n",
      "\n",
      "CD4 T cell\n",
      "CD8 T cell\n",
      "Dendritic\n",
      "Endothelial\n",
      "Epithelial\n",
      "Fibroblast\n",
      "Malignant\n",
      "Monocyte\n",
      "NK\n",
      "Plasma\n",
      "Treg\n",
      "There are 1074 top gene pairs\n",
      "\n",
      "Finished pair transforming the data\n",
      "\n",
      "snRNAseq ccrcc_train_hnscc_val (2113, 33538) (10288, 26929)\n",
      "HVG\n",
      "Matrix normalized\n",
      "There are  1142  classification genes\n",
      "\n",
      "CD4 T cell\n",
      "CD8 T cell\n",
      "Dendritic\n",
      "Endothelial\n",
      "Epithelial\n",
      "Fibroblast\n",
      "Malignant\n",
      "Monocyte\n",
      "NK\n",
      "Plasma\n",
      "Treg\n",
      "There are 1074 top gene pairs\n",
      "\n",
      "Finished pair transforming the data\n",
      "\n",
      "snRNAseq ccrcc_train_melanoma_val (2113, 33538) (6735, 23452)\n",
      "HVG\n",
      "Matrix normalized\n",
      "There are  1142  classification genes\n",
      "\n",
      "CD4 T cell\n",
      "CD8 T cell\n",
      "Dendritic\n",
      "Endothelial\n",
      "Epithelial\n",
      "Fibroblast\n",
      "Malignant\n",
      "Monocyte\n",
      "NK\n",
      "Plasma\n",
      "Treg\n",
      "There are 1074 top gene pairs\n",
      "\n",
      "Finished pair transforming the data\n",
      "\n"
     ]
    },
    {
     "name": "stdout",
     "output_type": "stream",
     "text": [
      "snRNAseq ccrcc_train_pbmc_val (2113, 33538) (1698, 32738)\n",
      "HVG\n",
      "Matrix normalized\n",
      "There are  1142  classification genes\n",
      "\n",
      "CD4 T cell\n",
      "CD8 T cell\n",
      "Dendritic\n",
      "Endothelial\n",
      "Epithelial\n",
      "Fibroblast\n",
      "Malignant\n",
      "Monocyte\n",
      "NK\n",
      "Plasma\n",
      "Treg\n",
      "There are 1074 top gene pairs\n",
      "\n",
      "Finished pair transforming the data\n",
      "\n",
      "snRNAseq ccrcc_train_pdac_val (2113, 33538) (15435, 28756)\n",
      "HVG\n",
      "Matrix normalized\n",
      "There are  1142  classification genes\n",
      "\n",
      "CD4 T cell\n",
      "CD8 T cell\n",
      "Dendritic\n",
      "Endothelial\n",
      "Epithelial\n",
      "NK\n",
      "Plasma\n",
      "Treg\n",
      "There are 1074 top gene pairs\n",
      "\n",
      "Finished pair transforming the data\n",
      "\n",
      "snRNAseq gbm_train_brca_val (1689, 29748) (11253, 27131)\n",
      "HVG\n",
      "Matrix normalized\n",
      "There are  1005  classification genes\n",
      "\n",
      "B cell\n",
      "Endothelial\n",
      "Fibroblast\n",
      "Malignant\n",
      "Microglia\n",
      "Monocyte\n",
      "Neuron\n",
      "Oligodendrocytes\n",
      "T cells\n",
      "There are 891 top gene pairs\n",
      "\n",
      "Finished pair transforming the data\n",
      "\n",
      "snRNAseq gbm_train_cesc_val (1689, 29748) (8449, 22928)\n",
      "HVG\n",
      "Matrix normalized\n",
      "There are  1005  classification genes\n",
      "\n",
      "B cell\n",
      "Endothelial\n",
      "Fibroblast\n",
      "Malignant\n",
      "Microglia\n",
      "Monocyte\n",
      "Neuron\n",
      "Oligodendrocytes\n",
      "T cells\n",
      "There are 891 top gene pairs\n",
      "\n",
      "Finished pair transforming the data\n",
      "\n",
      "snRNAseq gbm_train_hnscc_val (1689, 29748) (10288, 26929)\n",
      "HVG\n",
      "Matrix normalized\n",
      "There are  1005  classification genes\n",
      "\n",
      "B cell\n",
      "Endothelial\n",
      "Fibroblast\n",
      "Malignant\n",
      "Microglia\n",
      "Monocyte\n",
      "Neuron\n",
      "Oligodendrocytes\n",
      "T cells\n",
      "There are 891 top gene pairs\n",
      "\n",
      "Finished pair transforming the data\n",
      "\n",
      "snRNAseq gbm_train_melanoma_val (1689, 29748) (6735, 23452)\n",
      "HVG\n",
      "Matrix normalized\n",
      "There are  1005  classification genes\n",
      "\n",
      "B cell\n",
      "Endothelial\n",
      "Fibroblast\n",
      "Malignant\n",
      "Microglia\n",
      "Monocyte\n",
      "Neuron\n",
      "Oligodendrocytes\n",
      "T cells\n",
      "There are 891 top gene pairs\n",
      "\n",
      "Finished pair transforming the data\n",
      "\n",
      "snRNAseq gbm_train_pbmc_val (1689, 29748) (1698, 32738)\n",
      "HVG\n",
      "Matrix normalized\n",
      "There are  1005  classification genes\n",
      "\n",
      "B cell\n",
      "Endothelial\n",
      "Fibroblast\n",
      "Malignant\n",
      "Microglia\n",
      "Monocyte\n",
      "Neuron\n",
      "Oligodendrocytes\n",
      "T cells\n",
      "There are 891 top gene pairs\n",
      "\n",
      "Finished pair transforming the data\n",
      "\n",
      "snRNAseq gbm_train_pdac_val (1689, 29748) (15435, 28756)\n",
      "HVG\n",
      "Matrix normalized\n",
      "There are  1005  classification genes\n",
      "\n",
      "B cell\n",
      "Endothelial\n",
      "Fibroblast\n",
      "Malignant\n",
      "Microglia\n",
      "Monocyte\n",
      "Neuron\n",
      "Oligodendrocytes\n",
      "T cells\n",
      "There are 891 top gene pairs\n",
      "\n",
      "Finished pair transforming the data\n",
      "\n",
      "snRNAseq brca_train_brca_val (2455, 29175) (9028, 19891)\n",
      "HVG\n",
      "Matrix normalized\n",
      "There are  1163  classification genes\n",
      "\n",
      "Adipocyte\n",
      "B cell\n",
      "CD4 T cell\n",
      "CD8 T cell\n",
      "Dendritic\n",
      "Endothelial\n",
      "Fibroblast\n",
      "Malignant\n",
      "Mast\n",
      "Monocyte\n",
      "NK\n",
      "Plasma\n",
      "Treg\n",
      "There are 1251 top gene pairs\n",
      "\n",
      "Finished pair transforming the data\n",
      "\n",
      "snRNAseq brca_train_gbm_val (2455, 29175) (5650, 19891)\n",
      "HVG\n",
      "Matrix normalized\n",
      "There are  1163  classification genes\n",
      "\n",
      "Adipocyte\n",
      "B cell\n",
      "CD4 T cell\n",
      "CD8 T cell\n",
      "Dendritic\n",
      "Endothelial\n",
      "Fibroblast\n",
      "Malignant\n",
      "Mast\n",
      "Monocyte\n",
      "NK\n",
      "Plasma\n",
      "Treg\n",
      "There are 1251 top gene pairs\n",
      "\n",
      "Finished pair transforming the data\n",
      "\n",
      "snRNAseq ccrcc_train_brca_val (2113, 33538) (9028, 19891)\n",
      "HVG\n",
      "Matrix normalized\n",
      "There are  1142  classification genes\n",
      "\n",
      "CD4 T cell\n",
      "CD8 T cell\n",
      "Dendritic\n",
      "Endothelial\n",
      "Epithelial\n",
      "Fibroblast\n",
      "Malignant\n",
      "Monocyte\n",
      "NK\n",
      "Plasma\n",
      "Treg\n",
      "There are 1074 top gene pairs\n",
      "\n",
      "Finished pair transforming the data\n",
      "\n",
      "snRNAseq ccrcc_train_gbm_val (2113, 33538) (5650, 19891)\n",
      "HVG\n",
      "Matrix normalized\n",
      "There are  1142  classification genes\n",
      "\n",
      "CD4 T cell\n",
      "CD8 T cell\n",
      "Dendritic\n",
      "Endothelial\n",
      "Epithelial\n",
      "Fibroblast\n",
      "Malignant\n",
      "Monocyte\n",
      "NK\n",
      "Plasma\n",
      "Treg\n",
      "There are 1074 top gene pairs\n",
      "\n",
      "Finished pair transforming the data\n",
      "\n",
      "snRNAseq gbm_train_brca_val (1689, 29748) (9028, 19891)\n",
      "HVG\n",
      "Matrix normalized\n",
      "There are  1005  classification genes\n",
      "\n",
      "B cell\n",
      "Endothelial\n",
      "Fibroblast\n",
      "Malignant\n",
      "Microglia\n",
      "Monocyte\n",
      "Neuron\n",
      "Oligodendrocytes\n",
      "T cells\n",
      "There are 891 top gene pairs\n",
      "\n",
      "Finished pair transforming the data\n",
      "\n",
      "snRNAseq gbm_train_gbm_val (1689, 29748) (5650, 19891)\n",
      "HVG\n",
      "Matrix normalized\n",
      "There are  1005  classification genes\n",
      "\n",
      "B cell\n",
      "Endothelial\n",
      "Fibroblast\n",
      "Malignant\n",
      "Microglia\n",
      "Monocyte\n",
      "Neuron\n",
      "Oligodendrocytes\n",
      "T cells\n",
      "There are 891 top gene pairs\n",
      "\n",
      "Finished pair transforming the data\n",
      "\n"
     ]
    }
   ],
   "source": [
    "run_workflow_for_cross_datatype(adata_map, run_SingleCellNet, 'SingleCellNet', RESULTS_CROSS_DTYPE_DIR)"
   ]
  },
  {
   "cell_type": "markdown",
   "metadata": {
    "heading_collapsed": true
   },
   "source": [
    "###### testing stuff"
   ]
  },
  {
   "cell_type": "code",
   "execution_count": null,
   "metadata": {
    "hidden": true
   },
   "outputs": [],
   "source": []
  },
  {
   "cell_type": "code",
   "execution_count": null,
   "metadata": {
    "hidden": true
   },
   "outputs": [],
   "source": [
    "train, val = adata_map['scRNAseq']['pbmc']['train'].copy(), adata_map['scRNAseq']['pbmc']['val'].copy()"
   ]
  },
  {
   "cell_type": "code",
   "execution_count": null,
   "metadata": {
    "hidden": true
   },
   "outputs": [],
   "source": [
    "cgenesA, xpairs, tspRF = pySCN.scn_train(train,\n",
    "            nTopGenes = 100, nRand = 100, nTrees = 1000 ,nTopGenePairs = 100,\n",
    "            dLevel = \"cell_type\", stratify=True, limitToHVG=True, )"
   ]
  },
  {
   "cell_type": "code",
   "execution_count": null,
   "metadata": {
    "hidden": true
   },
   "outputs": [],
   "source": [
    "predictions = pySCN.scn_classify(val, cgenesA, xpairs, tspRF, nrand = 0)\n"
   ]
  },
  {
   "cell_type": "code",
   "execution_count": null,
   "metadata": {
    "hidden": true
   },
   "outputs": [],
   "source": [
    "predictions.obs"
   ]
  },
  {
   "cell_type": "code",
   "execution_count": null,
   "metadata": {
    "hidden": true
   },
   "outputs": [],
   "source": [
    "df = pd.merge(predictions.obs[['SCN_class']], val.obs, left_index=True, right_index=True)\n",
    "\n",
    "df = df[['cell_type', 'SCN_class']]\n",
    "df.index.name = 'cell_id'\n",
    "df.columns = ['groundtruth', 'predictions']\n",
    "df['probability'] = [np.nan] * df.shape[0]\n",
    "df"
   ]
  },
  {
   "cell_type": "code",
   "execution_count": null,
   "metadata": {
    "hidden": true
   },
   "outputs": [],
   "source": []
  },
  {
   "cell_type": "markdown",
   "metadata": {},
   "source": [
    "##### pollock"
   ]
  },
  {
   "cell_type": "code",
   "execution_count": null,
   "metadata": {},
   "outputs": [],
   "source": []
  },
  {
   "cell_type": "code",
   "execution_count": null,
   "metadata": {},
   "outputs": [],
   "source": []
  },
  {
   "cell_type": "markdown",
   "metadata": {},
   "source": [
    "###### testing stuff"
   ]
  },
  {
   "cell_type": "code",
   "execution_count": null,
   "metadata": {},
   "outputs": [],
   "source": []
  }
 ],
 "metadata": {
  "kernelspec": {
   "display_name": "Python 3",
   "language": "python",
   "name": "python3"
  },
  "language_info": {
   "codemirror_mode": {
    "name": "ipython",
    "version": 3
   },
   "file_extension": ".py",
   "mimetype": "text/x-python",
   "name": "python",
   "nbconvert_exporter": "python",
   "pygments_lexer": "ipython3",
   "version": "3.7.8"
  }
 },
 "nbformat": 4,
 "nbformat_minor": 4
}
