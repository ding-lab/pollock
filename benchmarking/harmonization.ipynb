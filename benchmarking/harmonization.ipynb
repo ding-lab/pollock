{
 "cells": [
  {
   "cell_type": "code",
   "execution_count": 45,
   "metadata": {},
   "outputs": [],
   "source": [
    "from pathlib import Path\n",
    "from collections import Counter\n",
    "import os\n",
    "import re\n",
    "import random\n",
    "\n",
    "import anndata\n",
    "import scanpy as sc\n",
    "import pandas as pd\n",
    "import numpy as np\n",
    "\n",
    "import mgitools.os_helpers as os_helpers"
   ]
  },
  {
   "cell_type": "code",
   "execution_count": 46,
   "metadata": {},
   "outputs": [],
   "source": [
    "DATA_DIR = '/home/estorrs/pollock/benchmarking/data/10232020/'\n",
    "OUTPUT_DIR = '/home/estorrs/pollock/benchmarking/data/10232020_harmonized/'\n",
    "T1_OUTPUT = os.path.join(OUTPUT_DIR, 'teir_1')\n",
    "T2_OUTPUT = os.path.join(OUTPUT_DIR, 'teir_2')\n",
    "SANDBOX_DIR = '/home/estorrs/pollock/benchmarking/sandbox'\n",
    "\n",
    "Path(T1_OUTPUT).mkdir(parents=True, exist_ok=True)\n",
    "Path(T2_OUTPUT).mkdir(parents=True, exist_ok=True)"
   ]
  },
  {
   "cell_type": "markdown",
   "metadata": {},
   "source": [
    "expected structure of input data is something like\n",
    "- data\n",
    "    - snATACseq\n",
    "        - cesc.h5ad\n",
    "        - pbmc.h5ad\n",
    "        ....\n",
    "    - scRNAseq\n",
    "        - pbmc.h5ad\n",
    "        - brca.h5ad\n",
    "        .....\n",
    "    - snRNAseq\n",
    "        - brca.h5ad\n",
    "        ....."
   ]
  },
  {
   "cell_type": "code",
   "execution_count": null,
   "metadata": {},
   "outputs": [],
   "source": [
    "fps = sorted(os_helpers.listfiles(DATA_DIR, regex='.h5ad$'))\n",
    "adata_map = {fp.split('/')[-2]:{} for fp in fps}\n",
    "for fp in fps:\n",
    "    dtype = fp.split('/')[-2]\n",
    "    disease = fp.split('/')[-1].replace('.h5ad', '')\n",
    "    adata_map[dtype][disease] = sc.read_h5ad(fp)\n",
    "\n",
    "for dtype, d in adata_map.items():\n",
    "    for disease, m in d.items():\n",
    "        print(dtype, disease, m.shape)"
   ]
  },
  {
   "cell_type": "code",
   "execution_count": null,
   "metadata": {},
   "outputs": [],
   "source": [
    "for dtype, d in adata_map.items():\n",
    "    for disease, m in d.items():\n",
    "        print(dtype, disease)\n",
    "        print(sorted(set(m.obs['cell_type'])))"
   ]
  },
  {
   "cell_type": "code",
   "execution_count": null,
   "metadata": {},
   "outputs": [],
   "source": [
    "T1_MAP = {\n",
    "    'CD4 T cell': ['CD4 CTL', 'CD4 T', 'CD4 T-cells', 'CD4 T-cells activated', 'CD4 T-cells naive',\n",
    "                  'CD4+ T-cells', 'CD4+, Naive T cells', 'CD4+T', 'CD4_T'],\n",
    "    'CD8 T cell': ['CD4/CD8 proliferating', 'CD8 CTL', 'CD8 CTL exausted', 'CD8 T',\n",
    "                 'CD8 T-cells preexhausted', 'CD8+, cytotoxic T cells', 'CD8+, exhausted T cells',\n",
    "                 'CD8+, follicular T cells', 'CD8+T', 'CD8_T',],\n",
    "    'T cells': ['T cells'],\n",
    "    'Treg': ['CD4+, regulatory T cells', 'Treg', 'Tregs',],\n",
    "    'Dendritic': ['DC', 'Dendritic', 'PDC', 'pDC', 'cDC'],\n",
    "    'B cell': ['B', 'B-cells/Plasma', 'Bcell'],\n",
    "    'Fibroblast': ['CAF', 'Fibroblast', 'Fibroblasts', 'Myofibroblasts', 'cCAFs', 'mCAFs', 'vCAFs'],\n",
    "    'Acinar': ['Acinar'],\n",
    "    'Endothelial': ['Endothelial', 'Endothelial cells', 'Endothelials',],\n",
    "    'Adipocyte': ['Adipocyte'],\n",
    "    'Epithelial': ['Epithelial', 'Normal epithelial cells'],\n",
    "    'Erythrocyte': ['Erythrocyte'],\n",
    "    'Islet': ['Islet'],\n",
    "    'Malignant': ['CESC_Malignant/Epithelial', 'CESC_Malignant/pEMT', 'Malignant/Epithelial', 'Melanoma',\n",
    "                 'Tumor', 'Tumor cells', 'Tumor-like epithelial cells',],\n",
    "    'Mast': ['Mast'],\n",
    "    'Monocyte': ['CD14 Monocytes', 'FCGR3A Monocytes', 'M1 Macrophages', 'M2 Macrophages', 'MM',\n",
    "                 'Macrophage', 'Macrophage/Monocyte', 'Macrophages', 'Macrophages proliferating',\n",
    "                 'Monocyte', 'Monocytes'],\n",
    "    'Megakaryocyte': ['Megakaryocytes'],\n",
    "    'Microglia': ['Microglia'],\n",
    "    'NK': ['NK', 'NK cells strong', 'NK cells weak'],\n",
    "    'Neuron': ['Neurons'],\n",
    "    'Oligodendrocytes': ['Oligodendrocytes'],\n",
    "    'Plasma': ['Plasma'],\n",
    "    'Tuft': ['Tuft'] \n",
    "}\n",
    "R_T1_MAP = {v:k for k, vs in T1_MAP.items() for v in vs}"
   ]
  },
  {
   "cell_type": "code",
   "execution_count": null,
   "metadata": {},
   "outputs": [],
   "source": [
    "T2_MAP = {\n",
    "    'CD4 T cell': ['CD4 T', 'CD4 T-cells', 'CD4+ T-cells', 'CD4+T', 'CD4_T'],\n",
    "    'CD4 CTL': ['CD4 CTL'],\n",
    "    'CD4 T cell activated': ['CD4 T-cells activated'],\n",
    "    'CD4 T cell naive': ['CD4 T-cells naive', 'CD4+, Naive T cells', 'T_Naive'],\n",
    "    'CD8 T cell': ['CD8 T', 'CD8+T', 'CD8_T',],\n",
    "    'CD4/CD8 proliferating': ['CD4/CD8 proliferating'],\n",
    "    'CD8 CTL': ['CD8 CTL', 'CD8+, cytotoxic T cells'],\n",
    "    'CD8 CTL exausted': ['CD8 CTL exausted', 'CD8+, exhausted T cells'],\n",
    "    'CD8 T cell preexhausted': ['CD8 T-cells preexhausted'],\n",
    "    'CD8 follicular T-cell': ['CD8+, follicular T cells'],\n",
    "    'T cells': ['T cells'],\n",
    "    'TRM': ['TRM'],\n",
    "    'Treg': ['CD4+, regulatory T cells', 'Treg', 'Tregs',],\n",
    "    'Dendritic': ['DC', 'Dendritic'],\n",
    "    'pDC': ['PDC', 'pDC'],\n",
    "    'cDC': ['cDC'],\n",
    "    'B cell': ['B', 'B-cells/Plasma', 'Bcell'],\n",
    "    'Fibroblast': ['CAF', 'Fibroblast', 'Fibroblasts'],\n",
    "    'mCAF': ['Myofibroblasts', 'mCAFs'],\n",
    "    'cCAF': ['cCAFs'],\n",
    "    'vCAF': ['vCAFs'],\n",
    "    'Acinar': ['Acinar'],\n",
    "    'ADM': ['ADM'],\n",
    "    'Endothelial': ['Endothelial', 'Endothelial cells', 'Endothelials',],\n",
    "    'Adipocyte': ['Adipocyte'],\n",
    "    'Epithelial': ['Epithelial', 'Normal epithelial cells'],\n",
    "    'Erythrocyte': ['Erythrocyte'],\n",
    "    'Islet': ['Islet'],\n",
    "    'Malignant': ['CESC_Malignant/Epithelial', 'CESC_Malignant/pEMT', 'Malignant/Epithelial', 'Melanoma',\n",
    "                 'Tumor', 'Tumor cells', 'Tumor-like epithelial cells',],\n",
    "    'Mast': ['Mast'],\n",
    "    'Monocyte': ['Macrophage/Monocyte', 'Monocyte', 'Monocytes', 'MM'],\n",
    "    'Basophil': ['Basophils'],\n",
    "    'CD14 Monocyte': ['CD14 Monocyte'],\n",
    "    'FCGR3A Monocyte': ['FCGR3A Monocytes'],\n",
    "    'M1 Macrophage': ['M1 Macrophages'],\n",
    "    'M2 Macrophage': ['M2 Macrophages'],\n",
    "    'Macrophage': ['Macrophage', 'Macrophages'],\n",
    "    'Macrophage proliferating': ['Macrophages proliferating'],\n",
    "    'Megakaryocyte': ['Megakaryocytes'],\n",
    "    'Microglia': ['Microglia'],\n",
    "    'NK': ['NK'],\n",
    "    'NK cell strong': ['NK cells strong'],\n",
    "    'NK cell weak': ['NK cells weak'],\n",
    "    'Neuron': ['Neurons'],\n",
    "    'Oligodendrocytes': ['Oligodendrocytes'],\n",
    "    'Plasma': ['Plasma'],\n",
    "    'Tuft': ['Tuft'] \n",
    "}\n",
    "R_T2_MAP = {v:k for k, vs in T2_MAP.items() for v in vs}"
   ]
  },
  {
   "cell_type": "code",
   "execution_count": null,
   "metadata": {},
   "outputs": [],
   "source": [
    "cell_types = {s for dtype, d in adata_map.items()\n",
    "             for disease, m in d.items()\n",
    "             for s in m.obs['cell_type']}\n",
    "cell_types"
   ]
  },
  {
   "cell_type": "code",
   "execution_count": null,
   "metadata": {},
   "outputs": [],
   "source": [
    "for dtype, d in adata_map.items():\n",
    "    for disease, m in d.items():\n",
    "        print(dtype, disease, m.shape)\n",
    "        mask = [True if c in R_T1_MAP.keys() else False\n",
    "               for c in m.obs['cell_type']]\n",
    "        adata = m.copy()[mask]\n",
    "        adata.obs['cell_type'] = [R_T1_MAP[c] for c in adata.obs['cell_type']]\n",
    "        out_fp = os.path.join(T1_OUTPUT, dtype)\n",
    "        Path(out_fp).mkdir(parents=True, exist_ok=True)\n",
    "        adata.write_h5ad(os.path.join(out_fp, f'{disease}.h5ad'))\n",
    "\n",
    "        print(adata.shape)\n",
    "        print(sorted(set(adata.obs['cell_type'])))\n",
    "        \n",
    "        mask = [True if c in R_T2_MAP.keys() else False\n",
    "               for c in m.obs['cell_type']]\n",
    "        adata = m.copy()[mask]\n",
    "        adata.obs['cell_type'] = [R_T2_MAP[c] for c in adata.obs['cell_type']]\n",
    "        out_fp = os.path.join(T2_OUTPUT, dtype)\n",
    "        Path(out_fp).mkdir(parents=True, exist_ok=True)\n",
    "        adata.write_h5ad(os.path.join(out_fp, f'{disease}.h5ad'))\n",
    "        print(adata.shape)\n",
    "        print(sorted(set(adata.obs['cell_type'])))\n",
    "        "
   ]
  },
  {
   "cell_type": "markdown",
   "metadata": {
    "heading_collapsed": true
   },
   "source": [
    "## fix the melanoma one off"
   ]
  },
  {
   "cell_type": "code",
   "execution_count": 43,
   "metadata": {
    "hidden": true
   },
   "outputs": [
    {
     "data": {
      "text/plain": [
       "AnnData object with n_obs × n_vars = 65782 × 19891\n",
       "    obs: 'orig.ident', 'nCount_peaks', 'nFeature_peaks', 'total', 'duplicate', 'chimeric', 'unmapped', 'lowmapq', 'mitochondrial', 'passed_filters', 'cell_id', 'is__cell_barcode', 'TSS_fragments', 'DNase_sensitive_region_fragments', 'enhancer_region_fragments', 'promoter_region_fragments', 'on_target_fragments', 'blacklist_region_fragments', 'peak_region_fragments', 'peak_region_cutsites', 'nucleosome_signal', 'nucleosome_percentile', 'TSS.enrichment', 'TSS.percentile', 'pct_reads_in_peaks', 'blacklist_ratio', 'high.tss', 'nucleosome_group', 'peaks_snn_res.0.8', 'seurat_clusters', 'nCount_RNA', 'nFeature_RNA', 'predicted.id', 'prediction.score.Tumor', 'prediction.score.Neurons', 'prediction.score.Microglia', 'prediction.score.Doublets', 'prediction.score.Oligodendrocytes', 'prediction.score.T.cells', 'prediction.score.Fibroblasts', 'prediction.score.B.cells.Plasma', 'prediction.score.Maybe.OPC', 'prediction.score.Endothelial.cells', 'prediction.score.max', 'nCount_peaksinters', 'nFeature_peaksinters', 'dataset', 'prediction.score.Monocytes', 'cell_type'"
      ]
     },
     "execution_count": 43,
     "metadata": {},
     "output_type": "execute_result"
    }
   ],
   "source": [
    "fp = '/home/estorrs/pollock/benchmarking/data/10232020_harmonized/teir_1/scRNAseq/melanoma_val.h5ad'\n",
    "adata = sc.read_h5ad(fp)\n",
    "adata"
   ]
  },
  {
   "cell_type": "code",
   "execution_count": 44,
   "metadata": {
    "hidden": true
   },
   "outputs": [
    {
     "data": {
      "text/plain": [
       "Index(['PLCXD1', 'GTPBP6', 'PPP2R3B', 'SHOX', 'CRLF2'], dtype='object')"
      ]
     },
     "execution_count": 44,
     "metadata": {},
     "output_type": "execute_result"
    }
   ],
   "source": [
    "adata.var.index[:5]"
   ]
  },
  {
   "cell_type": "code",
   "execution_count": 32,
   "metadata": {
    "hidden": true
   },
   "outputs": [],
   "source": [
    "import mygene\n",
    "mg = mygene.MyGeneInfo()"
   ]
  },
  {
   "cell_type": "code",
   "execution_count": 33,
   "metadata": {
    "hidden": true
   },
   "outputs": [
    {
     "data": {
      "text/plain": [
       "23452"
      ]
     },
     "execution_count": 33,
     "metadata": {},
     "output_type": "execute_result"
    }
   ],
   "source": [
    "gene_ids = sorted(set(adata.var.index))\n",
    "len(gene_ids)"
   ]
  },
  {
   "cell_type": "code",
   "execution_count": 34,
   "metadata": {
    "hidden": true
   },
   "outputs": [
    {
     "name": "stdout",
     "output_type": "stream",
     "text": [
      "querying 1-1000...done.\n",
      "querying 1001-2000...done.\n",
      "querying 2001-3000...done.\n",
      "querying 3001-4000...done.\n",
      "querying 4001-5000...done.\n",
      "querying 5001-6000...done.\n",
      "querying 6001-7000...done.\n",
      "querying 7001-8000...done.\n",
      "querying 8001-9000...done.\n",
      "querying 9001-10000...done.\n",
      "querying 10001-11000...done.\n",
      "querying 11001-12000...done.\n",
      "querying 12001-13000...done.\n",
      "querying 13001-14000...done.\n",
      "querying 14001-15000...done.\n",
      "querying 15001-16000...done.\n",
      "querying 16001-17000...done.\n",
      "querying 17001-18000...done.\n",
      "querying 18001-19000...done.\n",
      "querying 19001-20000...done.\n",
      "querying 20001-21000...done.\n",
      "querying 21001-22000...done.\n",
      "querying 22001-23000...done.\n",
      "querying 23001-23452...done.\n",
      "Finished.\n",
      "1 input query terms found dup hits:\n",
      "\t[('ENSG00000229425', 2)]\n",
      "132 input query terms found no hit:\n",
      "\t['ENSG00000116883', 'ENSG00000154537', 'ENSG00000163009', 'ENSG00000168078', 'ENSG00000184258', 'ENS\n",
      "Pass \"returnall=True\" to return complete lists of duplicate or missing query terms.\n"
     ]
    }
   ],
   "source": [
    "result = mg.querymany(gene_ids, scopes='ensemblgene', fields='symbol', species='human')"
   ]
  },
  {
   "cell_type": "code",
   "execution_count": 35,
   "metadata": {
    "hidden": true
   },
   "outputs": [
    {
     "data": {
      "text/plain": [
       "23320"
      ]
     },
     "execution_count": 35,
     "metadata": {},
     "output_type": "execute_result"
    }
   ],
   "source": [
    "ensembl_to_human_symbol = {x['query']:x['symbol'] for x in result if 'symbol' in x}\n",
    "len(ensembl_to_human_symbol)"
   ]
  },
  {
   "cell_type": "code",
   "execution_count": 36,
   "metadata": {
    "hidden": true
   },
   "outputs": [
    {
     "data": {
      "text/plain": [
       "AnnData object with n_obs × n_vars = 6735 × 23452\n",
       "    obs: 'nGene', 'nUMI', 'orig.ident', 'percent.mito', 'res.0.6', 'sample', 'nCount_RNA', 'nFeature_RNA', 'predicted.id', 'prediction.score.Bcell', 'prediction.score.Tcell', 'prediction.score.MM', 'prediction.score.CAF', 'prediction.score.PDC', 'prediction.score.Melanoma', 'prediction.score.DC', 'prediction.score.Plasma', 'prediction.score.Erythrocyte', 'prediction.score.Jejunum', 'prediction.score.Endothelial', 'prediction.score.max', 'assigned.id', 'manual.id', 'final.id', 'bc', 'nCount_SCT', 'nFeature_SCT', 'SCT_snn_res.0.5', 'seurat_clusters', 'int.id', 'ident', 'cell_type'\n",
       "    var: 'detection_rate', 'gmean', 'variance', 'residual_mean', 'residual_variance'\n",
       "    obsm: 'X_pca', 'X_umap'\n",
       "    layers: 'logcounts'"
      ]
     },
     "execution_count": 36,
     "metadata": {},
     "output_type": "execute_result"
    }
   ],
   "source": [
    "adata.var.index = [ensembl_to_human_symbol.get(g, '') for g in adata.var.index]\n",
    "adata"
   ]
  },
  {
   "cell_type": "code",
   "execution_count": 37,
   "metadata": {
    "hidden": true
   },
   "outputs": [],
   "source": [
    "adata.var_names_make_unique()"
   ]
  },
  {
   "cell_type": "code",
   "execution_count": 38,
   "metadata": {
    "hidden": true
   },
   "outputs": [
    {
     "data": {
      "text/plain": [
       "Index(['AL627309.1', 'LINC01409', 'FAM87B', 'LINC00115', 'FAM41C'], dtype='object')"
      ]
     },
     "execution_count": 38,
     "metadata": {},
     "output_type": "execute_result"
    }
   ],
   "source": [
    "adata.var.index[:5]"
   ]
  },
  {
   "cell_type": "code",
   "execution_count": 39,
   "metadata": {
    "hidden": true
   },
   "outputs": [
    {
     "data": {
      "text/plain": [
       "23452"
      ]
     },
     "execution_count": 39,
     "metadata": {},
     "output_type": "execute_result"
    }
   ],
   "source": [
    "len(set(adata.var.index))"
   ]
  },
  {
   "cell_type": "code",
   "execution_count": 40,
   "metadata": {
    "hidden": true
   },
   "outputs": [],
   "source": [
    "adata.write_h5ad(fp)"
   ]
  },
  {
   "cell_type": "code",
   "execution_count": null,
   "metadata": {
    "hidden": true
   },
   "outputs": [],
   "source": []
  }
 ],
 "metadata": {
  "kernelspec": {
   "display_name": "Python 3",
   "language": "python",
   "name": "python3"
  },
  "language_info": {
   "codemirror_mode": {
    "name": "ipython",
    "version": 3
   },
   "file_extension": ".py",
   "mimetype": "text/x-python",
   "name": "python",
   "nbconvert_exporter": "python",
   "pygments_lexer": "ipython3",
   "version": "3.7.8"
  }
 },
 "nbformat": 4,
 "nbformat_minor": 4
}
