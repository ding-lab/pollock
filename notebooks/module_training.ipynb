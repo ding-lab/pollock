{
 "cells": [
  {
   "cell_type": "code",
   "execution_count": null,
   "metadata": {},
   "outputs": [],
   "source": [
    "import os\n",
    "from pathlib import Path\n",
    "from collections import Counter\n",
    "\n",
    "import anndata\n",
    "import scanpy as sc\n",
    "import pandas as pd\n",
    "import matplotlib.pyplot as plt\n",
    "import seaborn as sns\n",
    "\n",
    "import pollock\n",
    "from pollock.models.model import PollockDataset, PollockModel, load_from_directory"
   ]
  },
  {
   "cell_type": "code",
   "execution_count": null,
   "metadata": {},
   "outputs": [],
   "source": [
    "# !pip install -e /pollock"
   ]
  },
  {
   "cell_type": "code",
   "execution_count": null,
   "metadata": {},
   "outputs": [],
   "source": [
    "%load_ext autoreload\n",
    "%autoreload 2"
   ]
  },
  {
   "cell_type": "markdown",
   "metadata": {},
   "source": [
    "## collect data for module training"
   ]
  },
  {
   "cell_type": "code",
   "execution_count": null,
   "metadata": {},
   "outputs": [],
   "source": [
    "data_map = {\n",
    "    'aml': '/data/single_cell_classification/tumor/aml',\n",
    "    'br': '/data/single_cell_classification/tumor/BR/raw/houxiang_brca/merged.h5ad',\n",
    "    'ccrcc': '/data/single_cell_classification/tumor/CCRCC/yige/adata.h5ad',\n",
    "    'cesc': '/data/single_cell_classification/tumor/CESC/cesc.h5ad',\n",
    "    'gbm': '/data/single_cell_classification/tumor/gbm/gbm.h5ad',\n",
    "    'hnscc': '/data/single_cell_classification/tumor/HNSC/processed.h5ad',\n",
    "    'melanoma': '/data/single_cell_classification/tumor/melanoma/melanoma.h5ad',\n",
    "    'myeloma': '/data/single_cell_classification/tumor/myeloma/processed.h5ad',\n",
    "    'pdac': '/data/single_cell_classification/tumor/PDAC/pdac.h5ad',\n",
    "    'pdac_caf': '/data/single_cell_classification/tumor/PDAC/pdac_caf_subtypes.h5ad',\n",
    "    'zheng_sorted': '/data/single_cell_classification/scRNAseq_benchmark/Intra-dataset/\\\n",
    "Zheng sorted/zheng_sorted.h5ad',\n",
    "    'snCCRCC_alla': '/data/single_cell_classification/immune/snCCRCC/merged.h5ad'\n",
    "}"
   ]
  },
  {
   "cell_type": "code",
   "execution_count": null,
   "metadata": {},
   "outputs": [],
   "source": [
    "# adata_map = {}\n",
    "# for k, fp in data_map.items():\n",
    "#     print(k)\n",
    "#     try:\n",
    "#         adata_map[k] = sc.read_h5ad(fp)\n",
    "#     except OSError:\n",
    "#         print(f'{k} failed')"
   ]
  },
  {
   "cell_type": "code",
   "execution_count": null,
   "metadata": {},
   "outputs": [],
   "source": [
    "# ## check for cell_type key\n",
    "# for k, adata in adata_map.items(): print(k, 'cell_type' in adata.obs.columns)"
   ]
  },
  {
   "cell_type": "markdown",
   "metadata": {},
   "source": [
    "## iterate through and train modules"
   ]
  },
  {
   "cell_type": "code",
   "execution_count": null,
   "metadata": {},
   "outputs": [],
   "source": []
  },
  {
   "cell_type": "code",
   "execution_count": null,
   "metadata": {},
   "outputs": [],
   "source": []
  },
  {
   "cell_type": "code",
   "execution_count": null,
   "metadata": {},
   "outputs": [],
   "source": []
  },
  {
   "cell_type": "markdown",
   "metadata": {},
   "source": [
    "## 3. train pollock module"
   ]
  },
  {
   "cell_type": "markdown",
   "metadata": {},
   "source": [
    "specify a location to save the trained pollock module"
   ]
  },
  {
   "cell_type": "code",
   "execution_count": null,
   "metadata": {},
   "outputs": [],
   "source": [
    "module_type = 'snCCRCC_alla'\n",
    "run_name = f'{module_type}_v0.1.0'"
   ]
  },
  {
   "cell_type": "code",
   "execution_count": null,
   "metadata": {},
   "outputs": [],
   "source": [
    "module_save_filepath = f'/models/modules/{run_name}'\n",
    "Path(module_save_filepath).mkdir(parents=True, exist_ok=True)"
   ]
  },
  {
   "cell_type": "markdown",
   "metadata": {},
   "source": [
    "here we create a new anndata object from our processed anndata object\n",
    "\n",
    "scanpy expects the raw counts data to be in the X attribute"
   ]
  },
  {
   "cell_type": "code",
   "execution_count": null,
   "metadata": {},
   "outputs": [],
   "source": [
    "train_adata = sc.read_h5ad(data_map[module_type])\n",
    "train_adata"
   ]
  },
  {
   "cell_type": "code",
   "execution_count": null,
   "metadata": {},
   "outputs": [],
   "source": [
    "# Counter(train_adata.obs['fibroblast_subtype']).most_common()"
   ]
  },
  {
   "cell_type": "code",
   "execution_count": null,
   "metadata": {},
   "outputs": [],
   "source": [
    "# train_adata.obs['cell_type'] = [x if 'iCAF' not in x else 'iCAF' for x in train_adata.obs['fibroblast_subtype']]"
   ]
  },
  {
   "cell_type": "code",
   "execution_count": null,
   "metadata": {},
   "outputs": [],
   "source": [
    "# sc.settings.figdir = '/models/figures/'\n",
    "sc.pl.umap(train_adata, color='cell_type', save='_snCCRCC_umap_all_cell_types.pdf')"
   ]
  },
  {
   "cell_type": "code",
   "execution_count": null,
   "metadata": {},
   "outputs": [],
   "source": [
    "# train_adata = train_adata[train_adata.obs['cell_type']!= 'Unknown']\n",
    "# train_adata = train_adata[train_adata.obs['cell_type']!= 'CD34+CYTL1+']\n",
    "# train_adata = train_adata[train_adata.obs['cell_type']!= 'Plasma_BM']\n",
    "# train_adata"
   ]
  },
  {
   "cell_type": "markdown",
   "metadata": {},
   "source": [
    "take a look at our cell counts"
   ]
  },
  {
   "cell_type": "code",
   "execution_count": null,
   "metadata": {},
   "outputs": [],
   "source": [
    "Counter(train_adata.obs['cell_type']).most_common()"
   ]
  },
  {
   "cell_type": "markdown",
   "metadata": {},
   "source": [
    "initialize PollockDataset"
   ]
  },
  {
   "cell_type": "code",
   "execution_count": null,
   "metadata": {},
   "outputs": [],
   "source": [
    "pds = PollockDataset(train_adata, cell_type_key='cell_type', n_per_cell_type=1000,\n",
    "                    dataset_type='training')"
   ]
  },
  {
   "cell_type": "code",
   "execution_count": null,
   "metadata": {},
   "outputs": [],
   "source": [
    "pm = PollockModel(pds.cell_types, pds.train_adata.shape[1], alpha=.0001, latent_dim=25)"
   ]
  },
  {
   "cell_type": "code",
   "execution_count": null,
   "metadata": {},
   "outputs": [],
   "source": [
    "pm.fit(pds, epochs=50, max_metric_batches=2, metric_epoch_interval=1,\n",
    "      metric_n_per_cell_type=50)"
   ]
  },
  {
   "cell_type": "code",
   "execution_count": null,
   "metadata": {},
   "outputs": [],
   "source": [
    "pm.save(pds, module_save_filepath)"
   ]
  },
  {
   "cell_type": "markdown",
   "metadata": {},
   "source": [
    "## 4. module performance"
   ]
  },
  {
   "cell_type": "markdown",
   "metadata": {},
   "source": [
    "visualize the overlap between groundtruth vs predicted cell types"
   ]
  },
  {
   "cell_type": "code",
   "execution_count": null,
   "metadata": {},
   "outputs": [],
   "source": [
    "fig, axs = plt.subplots(1, 1, figsize=(15, 10))\n",
    "confusion_matrix = pd.DataFrame(data=pm.summary['validation']['confusion_matrix'], columns=pm.class_names,\n",
    "                  index=pm.class_names)\n",
    "sns.heatmap(confusion_matrix, cmap='Blues', ax=axs)\n",
    "plt.xlabel('Predicted')\n",
    "plt.ylabel('Groundtruth')\n",
    "plt.tight_layout()\n",
    "plt.savefig('/models/figures/snCCRCC_model_training_accuracy.pdf')"
   ]
  },
  {
   "cell_type": "markdown",
   "metadata": {},
   "source": [
    "plot loss and accuracy for training and validation sets during training"
   ]
  },
  {
   "cell_type": "code",
   "execution_count": null,
   "metadata": {},
   "outputs": [],
   "source": [
    "loss, label, epoch = [], [], []\n",
    "for k in ['train_loss', 'validation_loss']:\n",
    "    loss += pm.summary['history'][k]\n",
    "    label += [k] * len(pm.summary['history'][k])\n",
    "    epoch += list(range(len(pm.summary['history'][k])))\n",
    "df = pd.DataFrame.from_dict({'label': label, 'loss': loss, 'epoch': epoch})\n",
    "\n",
    "sns.lineplot(x='epoch', y='loss', data=df, hue='label')\n",
    "plt.legend(bbox_to_anchor=(1.5, 1))\n",
    "\n",
    "accuracy, label = [], []\n",
    "for k in ['train_accuracy', 'validation_accuracy']:\n",
    "    accuracy += pm.summary['history'][k]\n",
    "    label += [k] * len(pm.summary['history'][k])\n",
    "df = pd.DataFrame.from_dict({'label': label, 'accuracy': accuracy, 'epoch': epoch})\n",
    "\n",
    "ax2 = plt.twinx()\n",
    "sns.lineplot(x='epoch', y='accuracy', data=df, hue='label', ax=ax2, style='label',\n",
    "                 dashes=[(3,2), (3,2)])\n",
    "plt.legend(bbox_to_anchor=(2., 1))\n",
    "# plt.tight_layout()\n",
    "plt.savefig('/models/figures/training_history.pdf')"
   ]
  },
  {
   "cell_type": "markdown",
   "metadata": {},
   "source": [
    "plot validation loss broken down by cell type"
   ]
  },
  {
   "cell_type": "code",
   "execution_count": null,
   "metadata": {},
   "outputs": [],
   "source": [
    "loss, label, epoch = [], [], []\n",
    "for k in ['cell_type_val_loss']:\n",
    "    for cell_type, vals in pm.summary['history'][k].items():\n",
    "        loss += vals\n",
    "        label += [cell_type] * len(vals)\n",
    "        epoch += list(range(len(vals)))\n",
    "    \n",
    "df = pd.DataFrame.from_dict({\n",
    "    'cell_type': label,\n",
    "    'loss': loss,\n",
    "    'epoch': epoch\n",
    "})\n",
    "\n",
    "sns.lineplot(x='epoch', y='loss', data=df, hue='cell_type')\n",
    "plt.legend(bbox_to_anchor=(1.05, 1))"
   ]
  },
  {
   "cell_type": "markdown",
   "metadata": {},
   "source": [
    "plot validation accuracy for each cell type during training"
   ]
  },
  {
   "cell_type": "code",
   "execution_count": null,
   "metadata": {},
   "outputs": [],
   "source": [
    "loss, label, epoch = [], [], []\n",
    "for k in ['cell_type_val_f1']:\n",
    "    for cell_type, vals in pm.summary['history'][k].items():\n",
    "        loss += vals\n",
    "        label += [cell_type] * len(vals)\n",
    "        epoch += list(range(len(vals)))\n",
    "    \n",
    "df = pd.DataFrame.from_dict({\n",
    "    'cell_type': label,\n",
    "    'accuracy': loss,\n",
    "    'epoch': epoch\n",
    "})\n",
    "\n",
    "sns.lineplot(x='epoch', y='accuracy', data=df, hue='cell_type')\n",
    "plt.legend(bbox_to_anchor=(1.05, 1))\n",
    "plt.tight_layout()\n",
    "plt.savefig('/models/figures/cell_accuracy_training_history.pdf')"
   ]
  },
  {
   "cell_type": "markdown",
   "metadata": {},
   "source": [
    "## 5. retrain module for optimal number of epochs"
   ]
  },
  {
   "cell_type": "markdown",
   "metadata": {},
   "source": [
    "from the above plots it apperas that the optimal training time is ~45 epochs for this dataset"
   ]
  },
  {
   "cell_type": "code",
   "execution_count": null,
   "metadata": {},
   "outputs": [],
   "source": [
    "pm = PollockModel(pds.cell_types, pds.train_adata.shape[1], alpha=.0001, latent_dim=25)"
   ]
  },
  {
   "cell_type": "code",
   "execution_count": null,
   "metadata": {},
   "outputs": [],
   "source": [
    "pm.fit(pds, epochs=13, max_metric_batches=5, metric_epoch_interval=1,\n",
    "      metric_n_per_cell_type=50)"
   ]
  },
  {
   "cell_type": "code",
   "execution_count": null,
   "metadata": {},
   "outputs": [],
   "source": [
    "pm.save(pds, module_save_filepath)"
   ]
  },
  {
   "cell_type": "code",
   "execution_count": null,
   "metadata": {},
   "outputs": [],
   "source": [
    "fig, axs = plt.subplots(1, 1, figsize=(15, 10))\n",
    "confusion_matrix = pd.DataFrame(data=pm.summary['validation']['confusion_matrix'], columns=pm.class_names,\n",
    "                  index=pm.class_names)\n",
    "sns.heatmap(confusion_matrix, cmap='Blues', ax=axs)\n",
    "plt.xlabel('Predicted')\n",
    "plt.ylabel('Groundtruth')\n",
    "plt.tight_layout()\n",
    "plt.savefig('/models/figures/snCCRCC_model_training_accuracy.pdf')"
   ]
  },
  {
   "cell_type": "code",
   "execution_count": null,
   "metadata": {},
   "outputs": [],
   "source": [
    "loss, label, epoch = [], [], []\n",
    "for k in ['train_loss', 'validation_loss']:\n",
    "    loss += pm.summary['history'][k]\n",
    "    label += [k] * len(pm.summary['history'][k])\n",
    "    epoch += list(range(len(pm.summary['history'][k])))\n",
    "df = pd.DataFrame.from_dict({'label': label, 'loss': loss, 'epoch': epoch})\n",
    "\n",
    "sns.lineplot(x='epoch', y='loss', data=df, hue='label')\n",
    "plt.legend(bbox_to_anchor=(1.5, 1))\n",
    "\n",
    "accuracy, label = [], []\n",
    "for k in ['train_accuracy', 'validation_accuracy']:\n",
    "    accuracy += pm.summary['history'][k]\n",
    "    label += [k] * len(pm.summary['history'][k])\n",
    "df = pd.DataFrame.from_dict({'label': label, 'accuracy': accuracy, 'epoch': epoch})\n",
    "\n",
    "ax2 = plt.twinx()\n",
    "sns.lineplot(x='epoch', y='accuracy', data=df, hue='label', ax=ax2, style='label',\n",
    "                 dashes=[(3,2), (3,2)])\n",
    "plt.legend(bbox_to_anchor=(2., 1))"
   ]
  },
  {
   "cell_type": "code",
   "execution_count": null,
   "metadata": {},
   "outputs": [],
   "source": [
    "loss, label, epoch = [], [], []\n",
    "for k in ['cell_type_val_loss']:\n",
    "    for cell_type, vals in pm.summary['history'][k].items():\n",
    "        loss += vals\n",
    "        label += [cell_type] * len(vals)\n",
    "        epoch += list(range(len(vals)))\n",
    "    \n",
    "df = pd.DataFrame.from_dict({\n",
    "    'cell_type': label,\n",
    "    'loss': loss,\n",
    "    'epoch': epoch\n",
    "})\n",
    "\n",
    "sns.lineplot(x='epoch', y='loss', data=df, hue='cell_type')\n",
    "plt.legend(bbox_to_anchor=(1.05, 1))"
   ]
  },
  {
   "cell_type": "code",
   "execution_count": null,
   "metadata": {},
   "outputs": [],
   "source": [
    "loss, label, epoch = [], [], []\n",
    "for k in ['cell_type_val_f1']:\n",
    "    for cell_type, vals in pm.summary['history'][k].items():\n",
    "        loss += vals\n",
    "        label += [cell_type] * len(vals)\n",
    "        epoch += list(range(len(vals)))\n",
    "    \n",
    "df = pd.DataFrame.from_dict({\n",
    "    'cell_type': label,\n",
    "    'accuracy': loss,\n",
    "    'epoch': epoch\n",
    "})\n",
    "\n",
    "sns.lineplot(x='epoch', y='accuracy', data=df, hue='cell_type')\n",
    "plt.legend(bbox_to_anchor=(1.05, 1))"
   ]
  },
  {
   "cell_type": "code",
   "execution_count": null,
   "metadata": {},
   "outputs": [],
   "source": [
    "train_adata = sc.read_h5ad(data_map[module_type])"
   ]
  },
  {
   "cell_type": "code",
   "execution_count": null,
   "metadata": {},
   "outputs": [],
   "source": [
    "loaded_pds, loaded_pm = load_from_directory(train_adata, module_save_filepath, )"
   ]
  },
  {
   "cell_type": "code",
   "execution_count": null,
   "metadata": {},
   "outputs": [],
   "source": []
  },
  {
   "cell_type": "code",
   "execution_count": null,
   "metadata": {},
   "outputs": [],
   "source": [
    "labels, probs, cell_type_probs = loaded_pm.predict_pollock_dataset(loaded_pds, labels=True, )\n",
    "labels[:5], probs[:5]"
   ]
  },
  {
   "cell_type": "code",
   "execution_count": null,
   "metadata": {},
   "outputs": [],
   "source": [
    "train_adata.obs['annotated_cell_type'] = train_adata.obs['cell_type'].to_list()\n",
    "train_adata.obs['predicted_cell_type'] = list(labels)\n",
    "train_adata.obs['predicted_probablility'] = list(probs)"
   ]
  },
  {
   "cell_type": "code",
   "execution_count": null,
   "metadata": {},
   "outputs": [],
   "source": [
    "cell_embeddings = loaded_pm.get_cell_embeddings(loaded_pds.prediction_ds)\n",
    "cell_embeddings.shape, cell_embeddings"
   ]
  },
  {
   "cell_type": "code",
   "execution_count": null,
   "metadata": {},
   "outputs": [],
   "source": [
    "train_adata.obsm['cell_embeddings'] = cell_embeddings\n",
    "sc.pp.neighbors(train_adata, use_rep='cell_embeddings')\n",
    "sc.tl.umap(train_adata)"
   ]
  },
  {
   "cell_type": "code",
   "execution_count": null,
   "metadata": {},
   "outputs": [],
   "source": [
    "sc.pl.umap(train_adata, color=['annotated_cell_type', 'predicted_cell_type', 'predicted_probablility'],\n",
    "          frameon=False, ncols=1, save='_ccrcc.pdf')"
   ]
  },
  {
   "cell_type": "code",
   "execution_count": null,
   "metadata": {},
   "outputs": [],
   "source": [
    "sc.pl.umap(train_adata, color=['CD4', 'CD3G', 'CD8A'], color_map='Reds')"
   ]
  },
  {
   "cell_type": "code",
   "execution_count": null,
   "metadata": {},
   "outputs": [],
   "source": [
    "pm.summary['validation']"
   ]
  },
  {
   "cell_type": "code",
   "execution_count": null,
   "metadata": {},
   "outputs": [],
   "source": []
  }
 ],
 "metadata": {
  "kernelspec": {
   "display_name": "Python 3",
   "language": "python",
   "name": "python3"
  },
  "language_info": {
   "codemirror_mode": {
    "name": "ipython",
    "version": 3
   },
   "file_extension": ".py",
   "mimetype": "text/x-python",
   "name": "python",
   "nbconvert_exporter": "python",
   "pygments_lexer": "ipython3",
   "version": "3.7.6"
  }
 },
 "nbformat": 4,
 "nbformat_minor": 4
}
