{
 "cells": [
  {
   "cell_type": "code",
   "execution_count": 1,
   "metadata": {},
   "outputs": [
    {
     "name": "stderr",
     "output_type": "stream",
     "text": [
      "/home/estorrs/miniconda3/envs/pollock/lib/python3.7/site-packages/anndata/_core/anndata.py:21: FutureWarning: pandas.core.index is deprecated and will be removed in a future version.  The public classes are available in the top-level namespace.\n",
      "  from pandas.core.index import RangeIndex\n"
     ]
    }
   ],
   "source": [
    "import logging\n",
    "import os\n",
    "import random\n",
    "from collections import Counter\n",
    "from importlib import reload\n",
    "\n",
    "\n",
    "import anndata\n",
    "import numpy as np\n",
    "import pandas as pd\n",
    "import scanpy as sc\n",
    "import matplotlib.pyplot as plt\n",
    "\n",
    "import pollock\n",
    "from pollock.models.model import PollockDataset, PollockModel, load_from_directory\n",
    "import pollock.models.analysis as pollock_analysis"
   ]
  },
  {
   "cell_type": "code",
   "execution_count": 2,
   "metadata": {},
   "outputs": [],
   "source": [
    "import logging\n",
    "reload(logging)\n",
    "logging.basicConfig(format='%(asctime)s %(message)s', level=logging.INFO)"
   ]
  },
  {
   "cell_type": "code",
   "execution_count": 3,
   "metadata": {},
   "outputs": [],
   "source": [
    "%load_ext autoreload"
   ]
  },
  {
   "cell_type": "code",
   "execution_count": 4,
   "metadata": {},
   "outputs": [],
   "source": [
    "%autoreload 2"
   ]
  },
  {
   "cell_type": "code",
   "execution_count": 5,
   "metadata": {},
   "outputs": [],
   "source": [
    "# pollock.models.model.set_training_devices(['/device:XLA_GPU:0'])"
   ]
  },
  {
   "cell_type": "code",
   "execution_count": null,
   "metadata": {},
   "outputs": [],
   "source": [
    "# from importlib import reload\n",
    "# reload(pollock)\n",
    "# reload(pollock.models.model)"
   ]
  },
  {
   "cell_type": "code",
   "execution_count": 5,
   "metadata": {},
   "outputs": [
    {
     "data": {
      "text/plain": [
       "[name: \"/device:CPU:0\"\n",
       " device_type: \"CPU\"\n",
       " memory_limit: 268435456\n",
       " locality {\n",
       " }\n",
       " incarnation: 13525296768382337487,\n",
       " name: \"/device:XLA_CPU:0\"\n",
       " device_type: \"XLA_CPU\"\n",
       " memory_limit: 17179869184\n",
       " locality {\n",
       " }\n",
       " incarnation: 9550179822592911233\n",
       " physical_device_desc: \"device: XLA_CPU device\",\n",
       " name: \"/device:XLA_GPU:0\"\n",
       " device_type: \"XLA_GPU\"\n",
       " memory_limit: 17179869184\n",
       " locality {\n",
       " }\n",
       " incarnation: 17633174866615562201\n",
       " physical_device_desc: \"device: XLA_GPU device\",\n",
       " name: \"/device:XLA_GPU:1\"\n",
       " device_type: \"XLA_GPU\"\n",
       " memory_limit: 17179869184\n",
       " locality {\n",
       " }\n",
       " incarnation: 16251391668736141291\n",
       " physical_device_desc: \"device: XLA_GPU device\",\n",
       " name: \"/device:XLA_GPU:2\"\n",
       " device_type: \"XLA_GPU\"\n",
       " memory_limit: 17179869184\n",
       " locality {\n",
       " }\n",
       " incarnation: 13578491073211611333\n",
       " physical_device_desc: \"device: XLA_GPU device\",\n",
       " name: \"/device:XLA_GPU:3\"\n",
       " device_type: \"XLA_GPU\"\n",
       " memory_limit: 17179869184\n",
       " locality {\n",
       " }\n",
       " incarnation: 17494869130234769265\n",
       " physical_device_desc: \"device: XLA_GPU device\"]"
      ]
     },
     "execution_count": 5,
     "metadata": {},
     "output_type": "execute_result"
    }
   ],
   "source": [
    "from tensorflow.python.client import device_lib\n",
    "import tensorflow as tf\n",
    "device_lib.list_local_devices()"
   ]
  },
  {
   "cell_type": "code",
   "execution_count": 7,
   "metadata": {},
   "outputs": [],
   "source": [
    "# tf.config.list_physical_devices('XLA_GPU')"
   ]
  },
  {
   "cell_type": "code",
   "execution_count": 8,
   "metadata": {},
   "outputs": [],
   "source": [
    "# tf.keras.backend.clear_session()\n",
    "# tf.config.optimizer.set_jit(True)"
   ]
  },
  {
   "cell_type": "code",
   "execution_count": 9,
   "metadata": {},
   "outputs": [],
   "source": [
    "# mirrored_strategy = tf.distribute.MirroredStrategy(\n",
    "#     devices=[\"/device:XLA_GPU:0\"])"
   ]
  },
  {
   "cell_type": "markdown",
   "metadata": {},
   "source": [
    "## load in expression table and labels"
   ]
  },
  {
   "cell_type": "code",
   "execution_count": 6,
   "metadata": {},
   "outputs": [],
   "source": [
    "expression_fp = '/home/estorrs/data/single_cell_classification/Intra-dataset/Zheng 68K/Filtered_68K_PBMC_data.csv'\n",
    "label_fp = '/home/estorrs/data/single_cell_classification/Intra-dataset/Zheng 68K/Labels.csv'\n"
   ]
  },
  {
   "cell_type": "code",
   "execution_count": 10,
   "metadata": {},
   "outputs": [],
   "source": [
    "expression_fp = '/Volumes/timmy/ding/scRNAseq_classification_datasets/scRNAseq_benchmark/Intra-dataset/Zheng 68K/Filtered_68K_PBMC_data.csv'\n",
    "label_fp = '/Volumes/timmy/ding/scRNAseq_classification_datasets/scRNAseq_benchmark/Intra-dataset/Zheng 68K/Labels.csv'"
   ]
  },
  {
   "cell_type": "code",
   "execution_count": 7,
   "metadata": {},
   "outputs": [
    {
     "name": "stdout",
     "output_type": "stream",
     "text": [
      "CPU times: user 6min 14s, sys: 16.7 s, total: 6min 30s\n",
      "Wall time: 6min 28s\n"
     ]
    },
    {
     "data": {
      "text/html": [
       "<div>\n",
       "<style scoped>\n",
       "    .dataframe tbody tr th:only-of-type {\n",
       "        vertical-align: middle;\n",
       "    }\n",
       "\n",
       "    .dataframe tbody tr th {\n",
       "        vertical-align: top;\n",
       "    }\n",
       "\n",
       "    .dataframe thead th {\n",
       "        text-align: right;\n",
       "    }\n",
       "</style>\n",
       "<table border=\"1\" class=\"dataframe\">\n",
       "  <thead>\n",
       "    <tr style=\"text-align: right;\">\n",
       "      <th></th>\n",
       "      <th>Unnamed: 0</th>\n",
       "      <th>AL627309.1</th>\n",
       "      <th>AP006222.2</th>\n",
       "      <th>RP11-206L10.3</th>\n",
       "      <th>RP11-206L10.2</th>\n",
       "      <th>RP11-206L10.9</th>\n",
       "      <th>FAM87B</th>\n",
       "      <th>LINC00115</th>\n",
       "      <th>FAM41C</th>\n",
       "      <th>RP11-54O7.1</th>\n",
       "      <th>...</th>\n",
       "      <th>AC145212.1</th>\n",
       "      <th>MGC39584</th>\n",
       "      <th>AC011043.1</th>\n",
       "      <th>ZNF84.1</th>\n",
       "      <th>AL592183.1</th>\n",
       "      <th>AC011841.1</th>\n",
       "      <th>AL354822.1</th>\n",
       "      <th>KIR2DL2</th>\n",
       "      <th>PNRC2.1</th>\n",
       "      <th>SRSF10.1</th>\n",
       "    </tr>\n",
       "  </thead>\n",
       "  <tbody>\n",
       "    <tr>\n",
       "      <th>0</th>\n",
       "      <td>AAACATACACCCAA-1</td>\n",
       "      <td>0</td>\n",
       "      <td>0</td>\n",
       "      <td>0</td>\n",
       "      <td>0</td>\n",
       "      <td>0</td>\n",
       "      <td>0</td>\n",
       "      <td>0</td>\n",
       "      <td>0</td>\n",
       "      <td>0</td>\n",
       "      <td>...</td>\n",
       "      <td>0</td>\n",
       "      <td>0</td>\n",
       "      <td>0</td>\n",
       "      <td>0</td>\n",
       "      <td>0</td>\n",
       "      <td>0</td>\n",
       "      <td>0</td>\n",
       "      <td>0</td>\n",
       "      <td>1</td>\n",
       "      <td>0</td>\n",
       "    </tr>\n",
       "    <tr>\n",
       "      <th>1</th>\n",
       "      <td>AAACATACCCCTCA-1</td>\n",
       "      <td>0</td>\n",
       "      <td>0</td>\n",
       "      <td>0</td>\n",
       "      <td>0</td>\n",
       "      <td>0</td>\n",
       "      <td>0</td>\n",
       "      <td>0</td>\n",
       "      <td>0</td>\n",
       "      <td>0</td>\n",
       "      <td>...</td>\n",
       "      <td>0</td>\n",
       "      <td>0</td>\n",
       "      <td>0</td>\n",
       "      <td>0</td>\n",
       "      <td>0</td>\n",
       "      <td>0</td>\n",
       "      <td>0</td>\n",
       "      <td>0</td>\n",
       "      <td>0</td>\n",
       "      <td>0</td>\n",
       "    </tr>\n",
       "    <tr>\n",
       "      <th>2</th>\n",
       "      <td>AAACATACCGGAGA-1</td>\n",
       "      <td>0</td>\n",
       "      <td>0</td>\n",
       "      <td>0</td>\n",
       "      <td>0</td>\n",
       "      <td>0</td>\n",
       "      <td>0</td>\n",
       "      <td>0</td>\n",
       "      <td>0</td>\n",
       "      <td>0</td>\n",
       "      <td>...</td>\n",
       "      <td>0</td>\n",
       "      <td>0</td>\n",
       "      <td>0</td>\n",
       "      <td>0</td>\n",
       "      <td>0</td>\n",
       "      <td>0</td>\n",
       "      <td>0</td>\n",
       "      <td>0</td>\n",
       "      <td>0</td>\n",
       "      <td>0</td>\n",
       "    </tr>\n",
       "    <tr>\n",
       "      <th>3</th>\n",
       "      <td>AAACATACTAACCG-1</td>\n",
       "      <td>0</td>\n",
       "      <td>0</td>\n",
       "      <td>0</td>\n",
       "      <td>0</td>\n",
       "      <td>0</td>\n",
       "      <td>0</td>\n",
       "      <td>0</td>\n",
       "      <td>0</td>\n",
       "      <td>0</td>\n",
       "      <td>...</td>\n",
       "      <td>0</td>\n",
       "      <td>0</td>\n",
       "      <td>0</td>\n",
       "      <td>0</td>\n",
       "      <td>0</td>\n",
       "      <td>0</td>\n",
       "      <td>0</td>\n",
       "      <td>0</td>\n",
       "      <td>0</td>\n",
       "      <td>0</td>\n",
       "    </tr>\n",
       "    <tr>\n",
       "      <th>4</th>\n",
       "      <td>AAACATACTCTTCA-1</td>\n",
       "      <td>0</td>\n",
       "      <td>0</td>\n",
       "      <td>0</td>\n",
       "      <td>0</td>\n",
       "      <td>0</td>\n",
       "      <td>0</td>\n",
       "      <td>0</td>\n",
       "      <td>0</td>\n",
       "      <td>0</td>\n",
       "      <td>...</td>\n",
       "      <td>0</td>\n",
       "      <td>0</td>\n",
       "      <td>0</td>\n",
       "      <td>0</td>\n",
       "      <td>0</td>\n",
       "      <td>0</td>\n",
       "      <td>0</td>\n",
       "      <td>0</td>\n",
       "      <td>0</td>\n",
       "      <td>0</td>\n",
       "    </tr>\n",
       "    <tr>\n",
       "      <th>...</th>\n",
       "      <td>...</td>\n",
       "      <td>...</td>\n",
       "      <td>...</td>\n",
       "      <td>...</td>\n",
       "      <td>...</td>\n",
       "      <td>...</td>\n",
       "      <td>...</td>\n",
       "      <td>...</td>\n",
       "      <td>...</td>\n",
       "      <td>...</td>\n",
       "      <td>...</td>\n",
       "      <td>...</td>\n",
       "      <td>...</td>\n",
       "      <td>...</td>\n",
       "      <td>...</td>\n",
       "      <td>...</td>\n",
       "      <td>...</td>\n",
       "      <td>...</td>\n",
       "      <td>...</td>\n",
       "      <td>...</td>\n",
       "      <td>...</td>\n",
       "    </tr>\n",
       "    <tr>\n",
       "      <th>65938</th>\n",
       "      <td>TTTGCATGACACCA-8</td>\n",
       "      <td>0</td>\n",
       "      <td>0</td>\n",
       "      <td>0</td>\n",
       "      <td>0</td>\n",
       "      <td>0</td>\n",
       "      <td>0</td>\n",
       "      <td>0</td>\n",
       "      <td>0</td>\n",
       "      <td>0</td>\n",
       "      <td>...</td>\n",
       "      <td>0</td>\n",
       "      <td>0</td>\n",
       "      <td>0</td>\n",
       "      <td>0</td>\n",
       "      <td>0</td>\n",
       "      <td>0</td>\n",
       "      <td>0</td>\n",
       "      <td>0</td>\n",
       "      <td>0</td>\n",
       "      <td>0</td>\n",
       "    </tr>\n",
       "    <tr>\n",
       "      <th>65939</th>\n",
       "      <td>TTTGCATGAGCCTA-8</td>\n",
       "      <td>0</td>\n",
       "      <td>0</td>\n",
       "      <td>0</td>\n",
       "      <td>0</td>\n",
       "      <td>0</td>\n",
       "      <td>0</td>\n",
       "      <td>0</td>\n",
       "      <td>0</td>\n",
       "      <td>0</td>\n",
       "      <td>...</td>\n",
       "      <td>0</td>\n",
       "      <td>0</td>\n",
       "      <td>0</td>\n",
       "      <td>0</td>\n",
       "      <td>0</td>\n",
       "      <td>0</td>\n",
       "      <td>0</td>\n",
       "      <td>0</td>\n",
       "      <td>0</td>\n",
       "      <td>0</td>\n",
       "    </tr>\n",
       "    <tr>\n",
       "      <th>65940</th>\n",
       "      <td>TTTGCATGCTAGCA-8</td>\n",
       "      <td>0</td>\n",
       "      <td>0</td>\n",
       "      <td>0</td>\n",
       "      <td>0</td>\n",
       "      <td>0</td>\n",
       "      <td>0</td>\n",
       "      <td>0</td>\n",
       "      <td>0</td>\n",
       "      <td>0</td>\n",
       "      <td>...</td>\n",
       "      <td>0</td>\n",
       "      <td>0</td>\n",
       "      <td>0</td>\n",
       "      <td>0</td>\n",
       "      <td>0</td>\n",
       "      <td>0</td>\n",
       "      <td>0</td>\n",
       "      <td>0</td>\n",
       "      <td>0</td>\n",
       "      <td>0</td>\n",
       "    </tr>\n",
       "    <tr>\n",
       "      <th>65941</th>\n",
       "      <td>TTTGCATGCTGCAA-8</td>\n",
       "      <td>0</td>\n",
       "      <td>0</td>\n",
       "      <td>0</td>\n",
       "      <td>0</td>\n",
       "      <td>0</td>\n",
       "      <td>0</td>\n",
       "      <td>0</td>\n",
       "      <td>0</td>\n",
       "      <td>0</td>\n",
       "      <td>...</td>\n",
       "      <td>0</td>\n",
       "      <td>0</td>\n",
       "      <td>0</td>\n",
       "      <td>0</td>\n",
       "      <td>0</td>\n",
       "      <td>0</td>\n",
       "      <td>0</td>\n",
       "      <td>0</td>\n",
       "      <td>0</td>\n",
       "      <td>0</td>\n",
       "    </tr>\n",
       "    <tr>\n",
       "      <th>65942</th>\n",
       "      <td>TTTGCATGTGGTAC-8</td>\n",
       "      <td>0</td>\n",
       "      <td>0</td>\n",
       "      <td>0</td>\n",
       "      <td>0</td>\n",
       "      <td>0</td>\n",
       "      <td>0</td>\n",
       "      <td>0</td>\n",
       "      <td>0</td>\n",
       "      <td>0</td>\n",
       "      <td>...</td>\n",
       "      <td>0</td>\n",
       "      <td>0</td>\n",
       "      <td>0</td>\n",
       "      <td>0</td>\n",
       "      <td>0</td>\n",
       "      <td>0</td>\n",
       "      <td>0</td>\n",
       "      <td>0</td>\n",
       "      <td>1</td>\n",
       "      <td>0</td>\n",
       "    </tr>\n",
       "  </tbody>\n",
       "</table>\n",
       "<p>65943 rows × 20388 columns</p>\n",
       "</div>"
      ],
      "text/plain": [
       "             Unnamed: 0  AL627309.1  AP006222.2  RP11-206L10.3  RP11-206L10.2  \\\n",
       "0      AAACATACACCCAA-1           0           0              0              0   \n",
       "1      AAACATACCCCTCA-1           0           0              0              0   \n",
       "2      AAACATACCGGAGA-1           0           0              0              0   \n",
       "3      AAACATACTAACCG-1           0           0              0              0   \n",
       "4      AAACATACTCTTCA-1           0           0              0              0   \n",
       "...                 ...         ...         ...            ...            ...   \n",
       "65938  TTTGCATGACACCA-8           0           0              0              0   \n",
       "65939  TTTGCATGAGCCTA-8           0           0              0              0   \n",
       "65940  TTTGCATGCTAGCA-8           0           0              0              0   \n",
       "65941  TTTGCATGCTGCAA-8           0           0              0              0   \n",
       "65942  TTTGCATGTGGTAC-8           0           0              0              0   \n",
       "\n",
       "       RP11-206L10.9  FAM87B  LINC00115  FAM41C  RP11-54O7.1  ...  AC145212.1  \\\n",
       "0                  0       0          0       0            0  ...           0   \n",
       "1                  0       0          0       0            0  ...           0   \n",
       "2                  0       0          0       0            0  ...           0   \n",
       "3                  0       0          0       0            0  ...           0   \n",
       "4                  0       0          0       0            0  ...           0   \n",
       "...              ...     ...        ...     ...          ...  ...         ...   \n",
       "65938              0       0          0       0            0  ...           0   \n",
       "65939              0       0          0       0            0  ...           0   \n",
       "65940              0       0          0       0            0  ...           0   \n",
       "65941              0       0          0       0            0  ...           0   \n",
       "65942              0       0          0       0            0  ...           0   \n",
       "\n",
       "       MGC39584  AC011043.1  ZNF84.1  AL592183.1  AC011841.1  AL354822.1  \\\n",
       "0             0           0        0           0           0           0   \n",
       "1             0           0        0           0           0           0   \n",
       "2             0           0        0           0           0           0   \n",
       "3             0           0        0           0           0           0   \n",
       "4             0           0        0           0           0           0   \n",
       "...         ...         ...      ...         ...         ...         ...   \n",
       "65938         0           0        0           0           0           0   \n",
       "65939         0           0        0           0           0           0   \n",
       "65940         0           0        0           0           0           0   \n",
       "65941         0           0        0           0           0           0   \n",
       "65942         0           0        0           0           0           0   \n",
       "\n",
       "       KIR2DL2  PNRC2.1  SRSF10.1  \n",
       "0            0        1         0  \n",
       "1            0        0         0  \n",
       "2            0        0         0  \n",
       "3            0        0         0  \n",
       "4            0        0         0  \n",
       "...        ...      ...       ...  \n",
       "65938        0        0         0  \n",
       "65939        0        0         0  \n",
       "65940        0        0         0  \n",
       "65941        0        0         0  \n",
       "65942        0        1         0  \n",
       "\n",
       "[65943 rows x 20388 columns]"
      ]
     },
     "execution_count": 7,
     "metadata": {},
     "output_type": "execute_result"
    }
   ],
   "source": [
    "%%time\n",
    "expression_df = pd.read_csv(\n",
    "    expression_fp,\n",
    "    sep=',')\n",
    "expression_df"
   ]
  },
  {
   "cell_type": "code",
   "execution_count": 8,
   "metadata": {},
   "outputs": [
    {
     "data": {
      "text/html": [
       "<div>\n",
       "<style scoped>\n",
       "    .dataframe tbody tr th:only-of-type {\n",
       "        vertical-align: middle;\n",
       "    }\n",
       "\n",
       "    .dataframe tbody tr th {\n",
       "        vertical-align: top;\n",
       "    }\n",
       "\n",
       "    .dataframe thead th {\n",
       "        text-align: right;\n",
       "    }\n",
       "</style>\n",
       "<table border=\"1\" class=\"dataframe\">\n",
       "  <thead>\n",
       "    <tr style=\"text-align: right;\">\n",
       "      <th></th>\n",
       "      <th>AL627309.1</th>\n",
       "      <th>AP006222.2</th>\n",
       "      <th>RP11-206L10.3</th>\n",
       "      <th>RP11-206L10.2</th>\n",
       "      <th>RP11-206L10.9</th>\n",
       "      <th>FAM87B</th>\n",
       "      <th>LINC00115</th>\n",
       "      <th>FAM41C</th>\n",
       "      <th>RP11-54O7.1</th>\n",
       "      <th>SAMD11</th>\n",
       "      <th>...</th>\n",
       "      <th>AC145212.1</th>\n",
       "      <th>MGC39584</th>\n",
       "      <th>AC011043.1</th>\n",
       "      <th>ZNF84.1</th>\n",
       "      <th>AL592183.1</th>\n",
       "      <th>AC011841.1</th>\n",
       "      <th>AL354822.1</th>\n",
       "      <th>KIR2DL2</th>\n",
       "      <th>PNRC2.1</th>\n",
       "      <th>SRSF10.1</th>\n",
       "    </tr>\n",
       "    <tr>\n",
       "      <th>Unnamed: 0</th>\n",
       "      <th></th>\n",
       "      <th></th>\n",
       "      <th></th>\n",
       "      <th></th>\n",
       "      <th></th>\n",
       "      <th></th>\n",
       "      <th></th>\n",
       "      <th></th>\n",
       "      <th></th>\n",
       "      <th></th>\n",
       "      <th></th>\n",
       "      <th></th>\n",
       "      <th></th>\n",
       "      <th></th>\n",
       "      <th></th>\n",
       "      <th></th>\n",
       "      <th></th>\n",
       "      <th></th>\n",
       "      <th></th>\n",
       "      <th></th>\n",
       "      <th></th>\n",
       "    </tr>\n",
       "  </thead>\n",
       "  <tbody>\n",
       "    <tr>\n",
       "      <th>AAACATACACCCAA-1</th>\n",
       "      <td>0</td>\n",
       "      <td>0</td>\n",
       "      <td>0</td>\n",
       "      <td>0</td>\n",
       "      <td>0</td>\n",
       "      <td>0</td>\n",
       "      <td>0</td>\n",
       "      <td>0</td>\n",
       "      <td>0</td>\n",
       "      <td>0</td>\n",
       "      <td>...</td>\n",
       "      <td>0</td>\n",
       "      <td>0</td>\n",
       "      <td>0</td>\n",
       "      <td>0</td>\n",
       "      <td>0</td>\n",
       "      <td>0</td>\n",
       "      <td>0</td>\n",
       "      <td>0</td>\n",
       "      <td>1</td>\n",
       "      <td>0</td>\n",
       "    </tr>\n",
       "    <tr>\n",
       "      <th>AAACATACCCCTCA-1</th>\n",
       "      <td>0</td>\n",
       "      <td>0</td>\n",
       "      <td>0</td>\n",
       "      <td>0</td>\n",
       "      <td>0</td>\n",
       "      <td>0</td>\n",
       "      <td>0</td>\n",
       "      <td>0</td>\n",
       "      <td>0</td>\n",
       "      <td>0</td>\n",
       "      <td>...</td>\n",
       "      <td>0</td>\n",
       "      <td>0</td>\n",
       "      <td>0</td>\n",
       "      <td>0</td>\n",
       "      <td>0</td>\n",
       "      <td>0</td>\n",
       "      <td>0</td>\n",
       "      <td>0</td>\n",
       "      <td>0</td>\n",
       "      <td>0</td>\n",
       "    </tr>\n",
       "    <tr>\n",
       "      <th>AAACATACCGGAGA-1</th>\n",
       "      <td>0</td>\n",
       "      <td>0</td>\n",
       "      <td>0</td>\n",
       "      <td>0</td>\n",
       "      <td>0</td>\n",
       "      <td>0</td>\n",
       "      <td>0</td>\n",
       "      <td>0</td>\n",
       "      <td>0</td>\n",
       "      <td>0</td>\n",
       "      <td>...</td>\n",
       "      <td>0</td>\n",
       "      <td>0</td>\n",
       "      <td>0</td>\n",
       "      <td>0</td>\n",
       "      <td>0</td>\n",
       "      <td>0</td>\n",
       "      <td>0</td>\n",
       "      <td>0</td>\n",
       "      <td>0</td>\n",
       "      <td>0</td>\n",
       "    </tr>\n",
       "    <tr>\n",
       "      <th>AAACATACTAACCG-1</th>\n",
       "      <td>0</td>\n",
       "      <td>0</td>\n",
       "      <td>0</td>\n",
       "      <td>0</td>\n",
       "      <td>0</td>\n",
       "      <td>0</td>\n",
       "      <td>0</td>\n",
       "      <td>0</td>\n",
       "      <td>0</td>\n",
       "      <td>0</td>\n",
       "      <td>...</td>\n",
       "      <td>0</td>\n",
       "      <td>0</td>\n",
       "      <td>0</td>\n",
       "      <td>0</td>\n",
       "      <td>0</td>\n",
       "      <td>0</td>\n",
       "      <td>0</td>\n",
       "      <td>0</td>\n",
       "      <td>0</td>\n",
       "      <td>0</td>\n",
       "    </tr>\n",
       "    <tr>\n",
       "      <th>AAACATACTCTTCA-1</th>\n",
       "      <td>0</td>\n",
       "      <td>0</td>\n",
       "      <td>0</td>\n",
       "      <td>0</td>\n",
       "      <td>0</td>\n",
       "      <td>0</td>\n",
       "      <td>0</td>\n",
       "      <td>0</td>\n",
       "      <td>0</td>\n",
       "      <td>0</td>\n",
       "      <td>...</td>\n",
       "      <td>0</td>\n",
       "      <td>0</td>\n",
       "      <td>0</td>\n",
       "      <td>0</td>\n",
       "      <td>0</td>\n",
       "      <td>0</td>\n",
       "      <td>0</td>\n",
       "      <td>0</td>\n",
       "      <td>0</td>\n",
       "      <td>0</td>\n",
       "    </tr>\n",
       "    <tr>\n",
       "      <th>...</th>\n",
       "      <td>...</td>\n",
       "      <td>...</td>\n",
       "      <td>...</td>\n",
       "      <td>...</td>\n",
       "      <td>...</td>\n",
       "      <td>...</td>\n",
       "      <td>...</td>\n",
       "      <td>...</td>\n",
       "      <td>...</td>\n",
       "      <td>...</td>\n",
       "      <td>...</td>\n",
       "      <td>...</td>\n",
       "      <td>...</td>\n",
       "      <td>...</td>\n",
       "      <td>...</td>\n",
       "      <td>...</td>\n",
       "      <td>...</td>\n",
       "      <td>...</td>\n",
       "      <td>...</td>\n",
       "      <td>...</td>\n",
       "      <td>...</td>\n",
       "    </tr>\n",
       "    <tr>\n",
       "      <th>TTTGCATGACACCA-8</th>\n",
       "      <td>0</td>\n",
       "      <td>0</td>\n",
       "      <td>0</td>\n",
       "      <td>0</td>\n",
       "      <td>0</td>\n",
       "      <td>0</td>\n",
       "      <td>0</td>\n",
       "      <td>0</td>\n",
       "      <td>0</td>\n",
       "      <td>0</td>\n",
       "      <td>...</td>\n",
       "      <td>0</td>\n",
       "      <td>0</td>\n",
       "      <td>0</td>\n",
       "      <td>0</td>\n",
       "      <td>0</td>\n",
       "      <td>0</td>\n",
       "      <td>0</td>\n",
       "      <td>0</td>\n",
       "      <td>0</td>\n",
       "      <td>0</td>\n",
       "    </tr>\n",
       "    <tr>\n",
       "      <th>TTTGCATGAGCCTA-8</th>\n",
       "      <td>0</td>\n",
       "      <td>0</td>\n",
       "      <td>0</td>\n",
       "      <td>0</td>\n",
       "      <td>0</td>\n",
       "      <td>0</td>\n",
       "      <td>0</td>\n",
       "      <td>0</td>\n",
       "      <td>0</td>\n",
       "      <td>0</td>\n",
       "      <td>...</td>\n",
       "      <td>0</td>\n",
       "      <td>0</td>\n",
       "      <td>0</td>\n",
       "      <td>0</td>\n",
       "      <td>0</td>\n",
       "      <td>0</td>\n",
       "      <td>0</td>\n",
       "      <td>0</td>\n",
       "      <td>0</td>\n",
       "      <td>0</td>\n",
       "    </tr>\n",
       "    <tr>\n",
       "      <th>TTTGCATGCTAGCA-8</th>\n",
       "      <td>0</td>\n",
       "      <td>0</td>\n",
       "      <td>0</td>\n",
       "      <td>0</td>\n",
       "      <td>0</td>\n",
       "      <td>0</td>\n",
       "      <td>0</td>\n",
       "      <td>0</td>\n",
       "      <td>0</td>\n",
       "      <td>0</td>\n",
       "      <td>...</td>\n",
       "      <td>0</td>\n",
       "      <td>0</td>\n",
       "      <td>0</td>\n",
       "      <td>0</td>\n",
       "      <td>0</td>\n",
       "      <td>0</td>\n",
       "      <td>0</td>\n",
       "      <td>0</td>\n",
       "      <td>0</td>\n",
       "      <td>0</td>\n",
       "    </tr>\n",
       "    <tr>\n",
       "      <th>TTTGCATGCTGCAA-8</th>\n",
       "      <td>0</td>\n",
       "      <td>0</td>\n",
       "      <td>0</td>\n",
       "      <td>0</td>\n",
       "      <td>0</td>\n",
       "      <td>0</td>\n",
       "      <td>0</td>\n",
       "      <td>0</td>\n",
       "      <td>0</td>\n",
       "      <td>0</td>\n",
       "      <td>...</td>\n",
       "      <td>0</td>\n",
       "      <td>0</td>\n",
       "      <td>0</td>\n",
       "      <td>0</td>\n",
       "      <td>0</td>\n",
       "      <td>0</td>\n",
       "      <td>0</td>\n",
       "      <td>0</td>\n",
       "      <td>0</td>\n",
       "      <td>0</td>\n",
       "    </tr>\n",
       "    <tr>\n",
       "      <th>TTTGCATGTGGTAC-8</th>\n",
       "      <td>0</td>\n",
       "      <td>0</td>\n",
       "      <td>0</td>\n",
       "      <td>0</td>\n",
       "      <td>0</td>\n",
       "      <td>0</td>\n",
       "      <td>0</td>\n",
       "      <td>0</td>\n",
       "      <td>0</td>\n",
       "      <td>0</td>\n",
       "      <td>...</td>\n",
       "      <td>0</td>\n",
       "      <td>0</td>\n",
       "      <td>0</td>\n",
       "      <td>0</td>\n",
       "      <td>0</td>\n",
       "      <td>0</td>\n",
       "      <td>0</td>\n",
       "      <td>0</td>\n",
       "      <td>1</td>\n",
       "      <td>0</td>\n",
       "    </tr>\n",
       "  </tbody>\n",
       "</table>\n",
       "<p>65943 rows × 20387 columns</p>\n",
       "</div>"
      ],
      "text/plain": [
       "                  AL627309.1  AP006222.2  RP11-206L10.3  RP11-206L10.2  \\\n",
       "Unnamed: 0                                                               \n",
       "AAACATACACCCAA-1           0           0              0              0   \n",
       "AAACATACCCCTCA-1           0           0              0              0   \n",
       "AAACATACCGGAGA-1           0           0              0              0   \n",
       "AAACATACTAACCG-1           0           0              0              0   \n",
       "AAACATACTCTTCA-1           0           0              0              0   \n",
       "...                      ...         ...            ...            ...   \n",
       "TTTGCATGACACCA-8           0           0              0              0   \n",
       "TTTGCATGAGCCTA-8           0           0              0              0   \n",
       "TTTGCATGCTAGCA-8           0           0              0              0   \n",
       "TTTGCATGCTGCAA-8           0           0              0              0   \n",
       "TTTGCATGTGGTAC-8           0           0              0              0   \n",
       "\n",
       "                  RP11-206L10.9  FAM87B  LINC00115  FAM41C  RP11-54O7.1  \\\n",
       "Unnamed: 0                                                                \n",
       "AAACATACACCCAA-1              0       0          0       0            0   \n",
       "AAACATACCCCTCA-1              0       0          0       0            0   \n",
       "AAACATACCGGAGA-1              0       0          0       0            0   \n",
       "AAACATACTAACCG-1              0       0          0       0            0   \n",
       "AAACATACTCTTCA-1              0       0          0       0            0   \n",
       "...                         ...     ...        ...     ...          ...   \n",
       "TTTGCATGACACCA-8              0       0          0       0            0   \n",
       "TTTGCATGAGCCTA-8              0       0          0       0            0   \n",
       "TTTGCATGCTAGCA-8              0       0          0       0            0   \n",
       "TTTGCATGCTGCAA-8              0       0          0       0            0   \n",
       "TTTGCATGTGGTAC-8              0       0          0       0            0   \n",
       "\n",
       "                  SAMD11  ...  AC145212.1  MGC39584  AC011043.1  ZNF84.1  \\\n",
       "Unnamed: 0                ...                                              \n",
       "AAACATACACCCAA-1       0  ...           0         0           0        0   \n",
       "AAACATACCCCTCA-1       0  ...           0         0           0        0   \n",
       "AAACATACCGGAGA-1       0  ...           0         0           0        0   \n",
       "AAACATACTAACCG-1       0  ...           0         0           0        0   \n",
       "AAACATACTCTTCA-1       0  ...           0         0           0        0   \n",
       "...                  ...  ...         ...       ...         ...      ...   \n",
       "TTTGCATGACACCA-8       0  ...           0         0           0        0   \n",
       "TTTGCATGAGCCTA-8       0  ...           0         0           0        0   \n",
       "TTTGCATGCTAGCA-8       0  ...           0         0           0        0   \n",
       "TTTGCATGCTGCAA-8       0  ...           0         0           0        0   \n",
       "TTTGCATGTGGTAC-8       0  ...           0         0           0        0   \n",
       "\n",
       "                  AL592183.1  AC011841.1  AL354822.1  KIR2DL2  PNRC2.1  \\\n",
       "Unnamed: 0                                                               \n",
       "AAACATACACCCAA-1           0           0           0        0        1   \n",
       "AAACATACCCCTCA-1           0           0           0        0        0   \n",
       "AAACATACCGGAGA-1           0           0           0        0        0   \n",
       "AAACATACTAACCG-1           0           0           0        0        0   \n",
       "AAACATACTCTTCA-1           0           0           0        0        0   \n",
       "...                      ...         ...         ...      ...      ...   \n",
       "TTTGCATGACACCA-8           0           0           0        0        0   \n",
       "TTTGCATGAGCCTA-8           0           0           0        0        0   \n",
       "TTTGCATGCTAGCA-8           0           0           0        0        0   \n",
       "TTTGCATGCTGCAA-8           0           0           0        0        0   \n",
       "TTTGCATGTGGTAC-8           0           0           0        0        1   \n",
       "\n",
       "                  SRSF10.1  \n",
       "Unnamed: 0                  \n",
       "AAACATACACCCAA-1         0  \n",
       "AAACATACCCCTCA-1         0  \n",
       "AAACATACCGGAGA-1         0  \n",
       "AAACATACTAACCG-1         0  \n",
       "AAACATACTCTTCA-1         0  \n",
       "...                    ...  \n",
       "TTTGCATGACACCA-8         0  \n",
       "TTTGCATGAGCCTA-8         0  \n",
       "TTTGCATGCTAGCA-8         0  \n",
       "TTTGCATGCTGCAA-8         0  \n",
       "TTTGCATGTGGTAC-8         0  \n",
       "\n",
       "[65943 rows x 20387 columns]"
      ]
     },
     "execution_count": 8,
     "metadata": {},
     "output_type": "execute_result"
    }
   ],
   "source": [
    "expression_df = expression_df.set_index('Unnamed: 0')\n",
    "expression_df"
   ]
  },
  {
   "cell_type": "code",
   "execution_count": 9,
   "metadata": {},
   "outputs": [
    {
     "data": {
      "text/html": [
       "<div>\n",
       "<style scoped>\n",
       "    .dataframe tbody tr th:only-of-type {\n",
       "        vertical-align: middle;\n",
       "    }\n",
       "\n",
       "    .dataframe tbody tr th {\n",
       "        vertical-align: top;\n",
       "    }\n",
       "\n",
       "    .dataframe thead th {\n",
       "        text-align: right;\n",
       "    }\n",
       "</style>\n",
       "<table border=\"1\" class=\"dataframe\">\n",
       "  <thead>\n",
       "    <tr style=\"text-align: right;\">\n",
       "      <th></th>\n",
       "      <th>x</th>\n",
       "    </tr>\n",
       "  </thead>\n",
       "  <tbody>\n",
       "    <tr>\n",
       "      <th>0</th>\n",
       "      <td>CD8+ Cytotoxic T</td>\n",
       "    </tr>\n",
       "    <tr>\n",
       "      <th>1</th>\n",
       "      <td>CD8+/CD45RA+ Naive Cytotoxic</td>\n",
       "    </tr>\n",
       "    <tr>\n",
       "      <th>2</th>\n",
       "      <td>CD4+/CD45RO+ Memory</td>\n",
       "    </tr>\n",
       "    <tr>\n",
       "      <th>3</th>\n",
       "      <td>CD19+ B</td>\n",
       "    </tr>\n",
       "    <tr>\n",
       "      <th>4</th>\n",
       "      <td>CD4+/CD25 T Reg</td>\n",
       "    </tr>\n",
       "    <tr>\n",
       "      <th>...</th>\n",
       "      <td>...</td>\n",
       "    </tr>\n",
       "    <tr>\n",
       "      <th>65938</th>\n",
       "      <td>CD8+/CD45RA+ Naive Cytotoxic</td>\n",
       "    </tr>\n",
       "    <tr>\n",
       "      <th>65939</th>\n",
       "      <td>CD8+ Cytotoxic T</td>\n",
       "    </tr>\n",
       "    <tr>\n",
       "      <th>65940</th>\n",
       "      <td>CD8+/CD45RA+ Naive Cytotoxic</td>\n",
       "    </tr>\n",
       "    <tr>\n",
       "      <th>65941</th>\n",
       "      <td>CD8+ Cytotoxic T</td>\n",
       "    </tr>\n",
       "    <tr>\n",
       "      <th>65942</th>\n",
       "      <td>CD8+ Cytotoxic T</td>\n",
       "    </tr>\n",
       "  </tbody>\n",
       "</table>\n",
       "<p>65943 rows × 1 columns</p>\n",
       "</div>"
      ],
      "text/plain": [
       "                                  x\n",
       "0                  CD8+ Cytotoxic T\n",
       "1      CD8+/CD45RA+ Naive Cytotoxic\n",
       "2               CD4+/CD45RO+ Memory\n",
       "3                           CD19+ B\n",
       "4                   CD4+/CD25 T Reg\n",
       "...                             ...\n",
       "65938  CD8+/CD45RA+ Naive Cytotoxic\n",
       "65939              CD8+ Cytotoxic T\n",
       "65940  CD8+/CD45RA+ Naive Cytotoxic\n",
       "65941              CD8+ Cytotoxic T\n",
       "65942              CD8+ Cytotoxic T\n",
       "\n",
       "[65943 rows x 1 columns]"
      ]
     },
     "execution_count": 9,
     "metadata": {},
     "output_type": "execute_result"
    }
   ],
   "source": [
    "label_df = pd.read_csv(\n",
    "    label_fp,\n",
    "    sep=','\n",
    "    )\n",
    "label_df"
   ]
  },
  {
   "cell_type": "code",
   "execution_count": 56,
   "metadata": {},
   "outputs": [
    {
     "name": "stderr",
     "output_type": "stream",
     "text": [
      "[autoreload of pollock.models.analysis failed: Traceback (most recent call last):\n",
      "  File \"/home/estorrs/miniconda3/envs/pollock/lib/python3.7/site-packages/IPython/extensions/autoreload.py\", line 245, in check\n",
      "    superreload(m, reload, self.old_objects)\n",
      "  File \"/home/estorrs/miniconda3/envs/pollock/lib/python3.7/site-packages/IPython/extensions/autoreload.py\", line 394, in superreload\n",
      "    module = reload(module)\n",
      "  File \"/home/estorrs/miniconda3/envs/pollock/lib/python3.7/imp.py\", line 314, in reload\n",
      "    return importlib.reload(module)\n",
      "  File \"/home/estorrs/miniconda3/envs/pollock/lib/python3.7/importlib/__init__.py\", line 169, in reload\n",
      "    _bootstrap._exec(spec, module)\n",
      "  File \"<frozen importlib._bootstrap>\", line 630, in _exec\n",
      "  File \"<frozen importlib._bootstrap_external>\", line 724, in exec_module\n",
      "  File \"<frozen importlib._bootstrap_external>\", line 860, in get_code\n",
      "  File \"<frozen importlib._bootstrap_external>\", line 791, in source_to_code\n",
      "  File \"<frozen importlib._bootstrap>\", line 219, in _call_with_frames_removed\n",
      "  File \"/home/estorrs/pollock/pollock/models/analysis.py\", line 100\n",
      "    def get_classification_report(model\n",
      "                                      ^\n",
      "SyntaxError: unexpected EOF while parsing\n",
      "]\n",
      "Transforming to str index.\n"
     ]
    },
    {
     "data": {
      "text/plain": [
       "AnnData object with n_obs × n_vars = 65943 × 20387 \n",
       "    obs: 'x'"
      ]
     },
     "execution_count": 56,
     "metadata": {},
     "output_type": "execute_result"
    }
   ],
   "source": [
    "adata = anndata.AnnData(X=expression_df.values, obs=label_df)\n",
    "adata.obs.index = expression_df.index\n",
    "adata.var.index = expression_df.columns\n",
    "adata"
   ]
  },
  {
   "cell_type": "code",
   "execution_count": 57,
   "metadata": {},
   "outputs": [
    {
     "data": {
      "text/plain": [
       "5377519764"
      ]
     },
     "execution_count": 57,
     "metadata": {},
     "output_type": "execute_result"
    }
   ],
   "source": [
    "adata.X.nbytes"
   ]
  },
  {
   "cell_type": "code",
   "execution_count": 58,
   "metadata": {},
   "outputs": [
    {
     "data": {
      "text/plain": [
       "[('CD8+ Cytotoxic T', 20307),\n",
       " ('CD8+/CD45RA+ Naive Cytotoxic', 16361),\n",
       " ('CD56+ NK', 8522),\n",
       " ('CD4+/CD25 T Reg', 6116),\n",
       " ('CD19+ B', 5579),\n",
       " ('CD4+/CD45RO+ Memory', 3031),\n",
       " ('Dendritic', 1946),\n",
       " ('CD14+ Monocyte', 1944),\n",
       " ('CD4+/CD45RA+/CD25- Naive T', 1857),\n",
       " ('CD34+', 188),\n",
       " ('CD4+ T Helper2', 92)]"
      ]
     },
     "execution_count": 58,
     "metadata": {},
     "output_type": "execute_result"
    }
   ],
   "source": [
    "Counter(adata.obs['x']).most_common()"
   ]
  },
  {
   "cell_type": "code",
   "execution_count": 59,
   "metadata": {},
   "outputs": [],
   "source": [
    "## filter smartly\n",
    "cell_type_to_idxs = {}\n",
    "for cell_id, cell_type in zip(adata.obs.index, adata.obs['x']):\n",
    "    if cell_type not in cell_type_to_idxs:\n",
    "        cell_type_to_idxs[cell_type] = [cell_id]\n",
    "    else:\n",
    "        cell_type_to_idxs[cell_type].append(cell_id)\n",
    "        \n",
    "def temp(ls):\n",
    "    if len(ls) > 100:\n",
    "        return random.sample(ls, 100)\n",
    "    return ls\n",
    "\n",
    "cell_type_to_idxs = {k:temp(ls)\n",
    "                     for k, ls in cell_type_to_idxs.items()}\n",
    "\n",
    "idxs = np.asarray([x for ls in cell_type_to_idxs.values() for x in ls])\n",
    "adata = adata[idxs]"
   ]
  },
  {
   "cell_type": "code",
   "execution_count": 60,
   "metadata": {},
   "outputs": [],
   "source": [
    "# def make_safe_filename(s):\n",
    "#     def safe_char(c):\n",
    "#         if c.isalnum():\n",
    "#             return c\n",
    "#         else:\n",
    "#             return \"_\"\n",
    "#     return \"\".join(safe_char(c) for c in s).rstrip(\"_\")\n",
    "\n",
    "# adata.obs['x'] = [make_safe_filename(x) for x in adata.obs['x']]\n",
    "# adata"
   ]
  },
  {
   "cell_type": "code",
   "execution_count": 61,
   "metadata": {},
   "outputs": [
    {
     "data": {
      "text/plain": [
       "[('CD8+ Cytotoxic T', 100),\n",
       " ('CD8+/CD45RA+ Naive Cytotoxic', 100),\n",
       " ('CD4+/CD45RO+ Memory', 100),\n",
       " ('CD19+ B', 100),\n",
       " ('CD4+/CD25 T Reg', 100),\n",
       " ('CD56+ NK', 100),\n",
       " ('CD4+/CD45RA+/CD25- Naive T', 100),\n",
       " ('CD34+', 100),\n",
       " ('Dendritic', 100),\n",
       " ('CD14+ Monocyte', 100),\n",
       " ('CD4+ T Helper2', 92)]"
      ]
     },
     "execution_count": 61,
     "metadata": {},
     "output_type": "execute_result"
    }
   ],
   "source": [
    "Counter(adata.obs['x']).most_common()"
   ]
  },
  {
   "cell_type": "code",
   "execution_count": 17,
   "metadata": {},
   "outputs": [
    {
     "data": {
      "text/html": [
       "<div>\n",
       "<style scoped>\n",
       "    .dataframe tbody tr th:only-of-type {\n",
       "        vertical-align: middle;\n",
       "    }\n",
       "\n",
       "    .dataframe tbody tr th {\n",
       "        vertical-align: top;\n",
       "    }\n",
       "\n",
       "    .dataframe thead th {\n",
       "        text-align: right;\n",
       "    }\n",
       "</style>\n",
       "<table border=\"1\" class=\"dataframe\">\n",
       "  <thead>\n",
       "    <tr style=\"text-align: right;\">\n",
       "      <th></th>\n",
       "    </tr>\n",
       "  </thead>\n",
       "  <tbody>\n",
       "    <tr>\n",
       "      <th>AL627309.1</th>\n",
       "    </tr>\n",
       "    <tr>\n",
       "      <th>AP006222.2</th>\n",
       "    </tr>\n",
       "    <tr>\n",
       "      <th>RP11-206L10.3</th>\n",
       "    </tr>\n",
       "    <tr>\n",
       "      <th>RP11-206L10.2</th>\n",
       "    </tr>\n",
       "    <tr>\n",
       "      <th>RP11-206L10.9</th>\n",
       "    </tr>\n",
       "    <tr>\n",
       "      <th>...</th>\n",
       "    </tr>\n",
       "    <tr>\n",
       "      <th>AC011841.1</th>\n",
       "    </tr>\n",
       "    <tr>\n",
       "      <th>AL354822.1</th>\n",
       "    </tr>\n",
       "    <tr>\n",
       "      <th>KIR2DL2</th>\n",
       "    </tr>\n",
       "    <tr>\n",
       "      <th>PNRC2.1</th>\n",
       "    </tr>\n",
       "    <tr>\n",
       "      <th>SRSF10.1</th>\n",
       "    </tr>\n",
       "  </tbody>\n",
       "</table>\n",
       "<p>20387 rows × 0 columns</p>\n",
       "</div>"
      ],
      "text/plain": [
       "Empty DataFrame\n",
       "Columns: []\n",
       "Index: [AL627309.1, AP006222.2, RP11-206L10.3, RP11-206L10.2, RP11-206L10.9, FAM87B, LINC00115, FAM41C, RP11-54O7.1, SAMD11, NOC2L, KLHL17, PLEKHN1, C1orf170, RP11-54O7.17, HES4, RP11-54O7.11, ISG15, AGRN, RP11-54O7.18, C1orf159, RP11-465B22.5, TTLL10-AS1, TTLL10, TNFRSF18, TNFRSF4, SDF4, B3GALT6, FAM132A, RP5-902P8.12, UBE2J2, RP5-902P8.10, SCNN1D, ACAP3, PUSL1, CPSF3L, GLTPD1, TAS1R3, DVL1, MXRA8, AURKAIP1, CCNL2, RP4-758J18.2, MRPL20, RP4-758J18.13, ANKRD65, RP4-758J18.10, VWA1, ATAD3C, ATAD3B, ATAD3A, SSU72, AL645728.1, C1orf233, RP11-345P4.9, MIB2, MMP23B, CDK11B, RP11-345P4.10, SLC35E2B, RP11-345P4.7, CDK11A, SLC35E2, NADK, GNB1, RP1-140A9.1, CALML6, TMEM52, C1orf222, GABRD, PRKCZ, RP5-892K4.1, RP11-181G12.2, C1orf86, AL590822.2, AL590822.1, RP11-181G12.4, SKI, MORN1, RER1, PEX10, PLCH2, RP3-395M20.2, PANK4, HES5, RP3-395M20.12, TNFRSF14, RP3-395M20.7, RP3-395M20.9, FAM213B, MMEL1, TTC34, PRDM16, ARHGEF16, MEGF6, RP11-46F15.2, TPRG1L, WRAP73, TP73, RP5-1092A11.5, ...]\n",
       "\n",
       "[20387 rows x 0 columns]"
      ]
     },
     "execution_count": 17,
     "metadata": {},
     "output_type": "execute_result"
    }
   ],
   "source": [
    "adata.var"
   ]
  },
  {
   "cell_type": "code",
   "execution_count": 237,
   "metadata": {},
   "outputs": [],
   "source": [
    "# sc.tl.rank_genes_groups(adata, 'x', n_genes=100)"
   ]
  },
  {
   "cell_type": "code",
   "execution_count": 238,
   "metadata": {},
   "outputs": [],
   "source": [
    "# sc.pl.rank_genes_groups(adata)"
   ]
  },
  {
   "cell_type": "code",
   "execution_count": 239,
   "metadata": {},
   "outputs": [],
   "source": [
    "# sc.pp.scale(adata)"
   ]
  },
  {
   "cell_type": "code",
   "execution_count": 240,
   "metadata": {},
   "outputs": [],
   "source": [
    "# sc.tl.pca(adata, svd_solver='arpack')\n",
    "# sc.pl.pca(adata)"
   ]
  },
  {
   "cell_type": "code",
   "execution_count": 71,
   "metadata": {},
   "outputs": [
    {
     "data": {
      "image/png": "[encoded data removed]",
      "text/plain": [
       "<Figure size 432x288 with 1 Axes>"
      ]
     },
     "metadata": {},
     "output_type": "display_data"
    }
   ],
   "source": [
    "# sc.tl.umap(adata)\n",
    "# sc.pl.umap(adata, color='x', edges=True)"
   ]
  },
  {
   "cell_type": "code",
   "execution_count": 241,
   "metadata": {},
   "outputs": [],
   "source": [
    "# sc.pp.neighbors(adata, n_neighbors=15)"
   ]
  },
  {
   "cell_type": "code",
   "execution_count": 242,
   "metadata": {},
   "outputs": [],
   "source": [
    "# g_template, c_template = pollock.models.model.create_block_image_template(\n",
    "#         adata, key='x', block_shape=(4, 4), size=(128, 128), nn_threshold=.05)\n",
    "# g_template, c_template"
   ]
  },
  {
   "cell_type": "code",
   "execution_count": 243,
   "metadata": {},
   "outputs": [],
   "source": [
    "# sorted(set(c_template.flatten()))"
   ]
  },
  {
   "cell_type": "code",
   "execution_count": 244,
   "metadata": {},
   "outputs": [],
   "source": [
    "# plt.imshow(c_template=='')"
   ]
  },
  {
   "cell_type": "markdown",
   "metadata": {},
   "source": [
    "## train pollock model"
   ]
  },
  {
   "cell_type": "code",
   "execution_count": 68,
   "metadata": {},
   "outputs": [
    {
     "name": "stderr",
     "output_type": "stream",
     "text": [
      "2020-02-12 16:07:36,212 creating image templates\n",
      "2020-02-12 16:07:37,949 setting up close groupings\n",
      "2020-02-12 16:07:37,950 calculating nearest neighbors\n",
      "2020-02-12 16:07:38,695 calculating connectivities\n",
      "2020-02-12 16:07:39,920 calculating differential genes\n",
      "Trying to set attribute `.uns` of view, copying.\n",
      "Trying to set attribute `.uns` of view, copying.\n",
      "Trying to set attribute `.uns` of view, copying.\n",
      "Trying to set attribute `.uns` of view, copying.\n",
      "Trying to set attribute `.uns` of view, copying.\n",
      "Trying to set attribute `.uns` of view, copying.\n",
      "Trying to set attribute `.uns` of view, copying.\n",
      "Trying to set attribute `.uns` of view, copying.\n",
      "Trying to set attribute `.uns` of view, copying.\n",
      "Trying to set attribute `.uns` of view, copying.\n",
      "Trying to set attribute `.uns` of view, copying.\n",
      "Trying to set attribute `.uns` of view, copying.\n",
      "Trying to set attribute `.uns` of view, copying.\n",
      "Trying to set attribute `.uns` of view, copying.\n",
      "Trying to set attribute `.uns` of view, copying.\n",
      "Trying to set attribute `.uns` of view, copying.\n",
      "Trying to set attribute `.uns` of view, copying.\n",
      "Trying to set attribute `.uns` of view, copying.\n",
      "Trying to set attribute `.uns` of view, copying.\n",
      "Trying to set attribute `.uns` of view, copying.\n",
      "Trying to set attribute `.uns` of view, copying.\n",
      "Trying to set attribute `.uns` of view, copying.\n",
      "2020-02-12 16:07:40,960 writing training images\n",
      "2020-02-12 16:07:40,975 writing images\n",
      "2020-02-12 16:07:40,976 0 cell images written\n",
      "2020-02-12 16:08:23,408 1000 cell images written\n",
      "2020-02-12 16:08:27,353 done writing images\n",
      "2020-02-12 16:08:27,408 creating training dataset\n",
      "2020-02-12 16:08:27,808 creating validation dataset\n"
     ]
    },
    {
     "name": "stdout",
     "output_type": "stream",
     "text": [
      "CPU times: user 1min 13s, sys: 20.3 s, total: 1min 33s\n",
      "Wall time: 51.7 s\n"
     ]
    }
   ],
   "source": [
    "%%time\n",
    "\n",
    "pollock_dataset = pollock.models.model.PollockDataset(adata, cell_type_key='x', dataset_type='training',\n",
    "                                image_root_dir='/home/estorrs/pollock/models/scratch/test_zheng',\n",
    "                                n_per_cell_type=100, max_val_per_cell_type=500)"
   ]
  },
  {
   "cell_type": "code",
   "execution_count": 69,
   "metadata": {},
   "outputs": [
    {
     "data": {
      "text/plain": [
       "(TensorShape([64, 128, 128, 3]), TensorShape([64, 11]))"
      ]
     },
     "execution_count": 69,
     "metadata": {},
     "output_type": "execute_result"
    }
   ],
   "source": [
    "x,y = next(iter(pollock_dataset.train_ds))\n",
    "x.shape, y.shape"
   ]
  },
  {
   "cell_type": "code",
   "execution_count": 70,
   "metadata": {},
   "outputs": [
    {
     "data": {
      "image/png": "[encoded data removed]",
      "text/plain": [
       "<Figure size 432x288 with 1 Axes>"
      ]
     },
     "metadata": {
      "needs_background": "light"
     },
     "output_type": "display_data"
    }
   ],
   "source": [
    "cell_id = adata.obs.index[0]\n",
    "img = pollock_dataset.get_cell_image(cell_id)"
   ]
  },
  {
   "cell_type": "code",
   "execution_count": 71,
   "metadata": {},
   "outputs": [
    {
     "data": {
      "text/plain": [
       "(['CD14+ Monocyte',\n",
       "  'CD19+ B',\n",
       "  'CD34+',\n",
       "  'CD4+ T Helper2',\n",
       "  'CD4+/CD25 T Reg',\n",
       "  'CD4+/CD45RA+/CD25- Naive T',\n",
       "  'CD4+/CD45RO+ Memory',\n",
       "  'CD56+ NK',\n",
       "  'CD8+ Cytotoxic T',\n",
       "  'CD8+/CD45RA+ Naive Cytotoxic',\n",
       "  'Dendritic'],\n",
       " ['',\n",
       "  'CD14+ Monocyte',\n",
       "  'CD14+ Monocyte_diff_Dendritic',\n",
       "  'CD19+ B',\n",
       "  'CD19+ B_diff_CD4+ T Helper2',\n",
       "  'CD19+ B_diff_CD4+/CD45RA+/CD25- Naive T',\n",
       "  'CD19+ B_diff_CD8+ Cytotoxic T',\n",
       "  'CD19+ B_diff_CD8+/CD45RA+ Naive Cytotoxic',\n",
       "  'CD34+',\n",
       "  'CD4+ T Helper2',\n",
       "  'CD4+ T Helper2_diff_CD4+/CD25 T Reg',\n",
       "  'CD4+ T Helper2_diff_CD4+/CD45RA+/CD25- Naive T',\n",
       "  'CD4+ T Helper2_diff_CD4+/CD45RO+ Memory',\n",
       "  'CD4+ T Helper2_diff_CD8+ Cytotoxic T',\n",
       "  'CD4+ T Helper2_diff_CD8+/CD45RA+ Naive Cytotoxic',\n",
       "  'CD4+ T Helper2_diff_Dendritic',\n",
       "  'CD4+/CD25 T Reg',\n",
       "  'CD4+/CD25 T Reg_diff_CD4+/CD45RA+/CD25- Naive T',\n",
       "  'CD4+/CD25 T Reg_diff_CD4+/CD45RO+ Memory',\n",
       "  'CD4+/CD25 T Reg_diff_CD8+ Cytotoxic T',\n",
       "  'CD4+/CD25 T Reg_diff_CD8+/CD45RA+ Naive Cytotoxic',\n",
       "  'CD4+/CD45RA+/CD25- Naive T',\n",
       "  'CD4+/CD45RA+/CD25- Naive T_diff_CD4+/CD45RO+ Memory',\n",
       "  'CD4+/CD45RA+/CD25- Naive T_diff_CD8+ Cytotoxic T',\n",
       "  'CD4+/CD45RA+/CD25- Naive T_diff_CD8+/CD45RA+ Naive Cytotoxic',\n",
       "  'CD4+/CD45RO+ Memory',\n",
       "  'CD4+/CD45RO+ Memory_diff_CD8+ Cytotoxic T',\n",
       "  'CD4+/CD45RO+ Memory_diff_CD8+/CD45RA+ Naive Cytotoxic',\n",
       "  'CD56+ NK',\n",
       "  'CD56+ NK_diff_CD8+ Cytotoxic T',\n",
       "  'CD8+ Cytotoxic T',\n",
       "  'CD8+ Cytotoxic T_diff_CD8+/CD45RA+ Naive Cytotoxic',\n",
       "  'CD8+/CD45RA+ Naive Cytotoxic',\n",
       "  'Dendritic'])"
      ]
     },
     "execution_count": 71,
     "metadata": {},
     "output_type": "execute_result"
    }
   ],
   "source": [
    "pollock_dataset.cell_types, sorted(set(pollock_dataset.cell_type_template.flatten()))"
   ]
  },
  {
   "cell_type": "code",
   "execution_count": 22,
   "metadata": {},
   "outputs": [
    {
     "data": {
      "text/plain": [
       "<matplotlib.image.AxesImage at 0x7f1f4463b9d0>"
      ]
     },
     "execution_count": 22,
     "metadata": {},
     "output_type": "execute_result"
    },
    {
     "data": {
      "image/png": "[encoded data removed]",
      "text/plain": [
       "<Figure size 432x288 with 1 Axes>"
      ]
     },
     "metadata": {
      "needs_background": "light"
     },
     "output_type": "display_data"
    }
   ],
   "source": [
    "plt.imshow(pollock_dataset.cell_type_template=='CD4__CD45RA__CD25__Naive_T_diff_CD4__CD45RO__Memory')"
   ]
  },
  {
   "cell_type": "code",
   "execution_count": 95,
   "metadata": {},
   "outputs": [],
   "source": [
    "model = PollockModel(pollock_dataset.cell_types, model=None)"
   ]
  },
  {
   "cell_type": "code",
   "execution_count": 96,
   "metadata": {},
   "outputs": [
    {
     "name": "stdout",
     "output_type": "stream",
     "text": [
      "Model: \"sequential_3\"\n",
      "_________________________________________________________________\n",
      "Layer (type)                 Output Shape              Param #   \n",
      "=================================================================\n",
      "conv2d_9 (Conv2D)            (None, 128, 128, 16)      448       \n",
      "_________________________________________________________________\n",
      "max_pooling2d_9 (MaxPooling2 (None, 64, 64, 16)        0         \n",
      "_________________________________________________________________\n",
      "conv2d_10 (Conv2D)           (None, 64, 64, 32)        4640      \n",
      "_________________________________________________________________\n",
      "max_pooling2d_10 (MaxPooling (None, 32, 32, 32)        0         \n",
      "_________________________________________________________________\n",
      "conv2d_11 (Conv2D)           (None, 32, 32, 64)        18496     \n",
      "_________________________________________________________________\n",
      "max_pooling2d_11 (MaxPooling (None, 16, 16, 64)        0         \n",
      "_________________________________________________________________\n",
      "flatten_3 (Flatten)          (None, 16384)             0         \n",
      "_________________________________________________________________\n",
      "dropout_3 (Dropout)          (None, 16384)             0         \n",
      "_________________________________________________________________\n",
      "dense_6 (Dense)              (None, 512)               8389120   \n",
      "_________________________________________________________________\n",
      "dense_7 (Dense)              (None, 11)                5643      \n",
      "=================================================================\n",
      "Total params: 8,418,347\n",
      "Trainable params: 8,418,347\n",
      "Non-trainable params: 0\n",
      "_________________________________________________________________\n"
     ]
    }
   ],
   "source": [
    "model.model.summary()"
   ]
  },
  {
   "cell_type": "code",
   "execution_count": 97,
   "metadata": {},
   "outputs": [
    {
     "name": "stdout",
     "output_type": "stream",
     "text": [
      "Train for 18 steps, validate for 4 steps\n",
      "Epoch 1/10\n",
      "18/18 [==============================] - 3s 178ms/step - loss: 1.7682 - accuracy: 0.3724 - val_loss: 1.5424 - val_accuracy: 0.4492\n",
      "Epoch 2/10\n",
      "18/18 [==============================] - 3s 146ms/step - loss: 1.3074 - accuracy: 0.5122 - val_loss: 1.3916 - val_accuracy: 0.4336\n",
      "Epoch 3/10\n",
      "18/18 [==============================] - 3s 140ms/step - loss: 1.1099 - accuracy: 0.5885 - val_loss: 1.3344 - val_accuracy: 0.5234\n",
      "Epoch 4/10\n",
      "18/18 [==============================] - 3s 142ms/step - loss: 1.0385 - accuracy: 0.6146 - val_loss: 1.2779 - val_accuracy: 0.5391\n",
      "Epoch 5/10\n",
      "18/18 [==============================] - 3s 140ms/step - loss: 0.9359 - accuracy: 0.6363 - val_loss: 1.2818 - val_accuracy: 0.5000\n",
      "Epoch 6/10\n",
      "18/18 [==============================] - 3s 145ms/step - loss: 0.9285 - accuracy: 0.6415 - val_loss: 1.3326 - val_accuracy: 0.5000\n"
     ]
    }
   ],
   "source": [
    "# with tf.device('/device:XLA_GPU:0'):\n",
    "\n",
    "model.fit(pollock_dataset)"
   ]
  },
  {
   "cell_type": "code",
   "execution_count": 98,
   "metadata": {},
   "outputs": [
    {
     "data": {
      "text/plain": [
       "219"
      ]
     },
     "execution_count": 98,
     "metadata": {},
     "output_type": "execute_result"
    }
   ],
   "source": [
    "pollock_dataset.val_length"
   ]
  },
  {
   "cell_type": "code",
   "execution_count": 99,
   "metadata": {},
   "outputs": [],
   "source": [
    "# list(pollock_dataset.val_ds.unbatch())"
   ]
  },
  {
   "cell_type": "code",
   "execution_count": 104,
   "metadata": {},
   "outputs": [
    {
     "data": {
      "text/plain": [
       "((219, 128, 128, 3), (219,))"
      ]
     },
     "execution_count": 104,
     "metadata": {},
     "output_type": "execute_result"
    }
   ],
   "source": [
    "X_val, y_val = None, None\n",
    "for X, y in pollock_dataset.val_ds.take((pollock_dataset.val_length // 64) + 1):\n",
    "    if X_val is None:\n",
    "        X_val = X\n",
    "        y_val = y\n",
    "    else:\n",
    "        X_val = np.concatenate((X_val, X), axis=0)\n",
    "        y_val = np.concatenate((y_val, y), axis=0)\n",
    "        \n",
    "y_val = np.asarray([model.class_names[x] for x in np.argmax(y_val, axis=1).flatten()])\n",
    "X_val, y_val = X_val[:pollock_dataset.val_length], y_val[:pollock_dataset.val_length]\n",
    "        \n",
    "X_val.shape, y_val.shape"
   ]
  },
  {
   "cell_type": "code",
   "execution_count": 102,
   "metadata": {},
   "outputs": [
    {
     "data": {
      "text/plain": [
       "['CD14+ Monocyte',\n",
       " 'CD19+ B',\n",
       " 'CD34+',\n",
       " 'CD4+ T Helper2',\n",
       " 'CD4+/CD25 T Reg',\n",
       " 'CD4+/CD45RA+/CD25- Naive T',\n",
       " 'CD4+/CD45RO+ Memory',\n",
       " 'CD56+ NK',\n",
       " 'CD8+ Cytotoxic T',\n",
       " 'CD8+/CD45RA+ Naive Cytotoxic',\n",
       " 'Dendritic']"
      ]
     },
     "execution_count": 102,
     "metadata": {},
     "output_type": "execute_result"
    }
   ],
   "source": [
    "model.class_names"
   ]
  },
  {
   "cell_type": "code",
   "execution_count": null,
   "metadata": {},
   "outputs": [],
   "source": []
  },
  {
   "cell_type": "code",
   "execution_count": 124,
   "metadata": {},
   "outputs": [],
   "source": [
    "model.save(pollock_dataset, '/home/estorrs/pollock/models/zheng_68k_unfiltered',\n",
    "          X_val=X_val, y_val=y_val)"
   ]
  },
  {
   "cell_type": "code",
   "execution_count": 116,
   "metadata": {},
   "outputs": [
    {
     "data": {
      "image/png": "[encoded data removed]",
      "text/plain": [
       "<Figure size 576x576 with 2 Axes>"
      ]
     },
     "metadata": {
      "needs_background": "light"
     },
     "output_type": "display_data"
    }
   ],
   "source": [
    "pollock_analysis.show_history(model.history)"
   ]
  },
  {
   "cell_type": "code",
   "execution_count": 29,
   "metadata": {},
   "outputs": [
    {
     "name": "stderr",
     "output_type": "stream",
     "text": [
      "2020-02-12 14:52:24,813 writing images\n",
      "2020-02-12 14:52:24,814 0 cell images written\n",
      "2020-02-12 14:52:59,291 1000 cell images written\n",
      "2020-02-12 14:53:33,920 2000 cell images written\n",
      "2020-02-12 14:54:08,504 3000 cell images written\n",
      "2020-02-12 14:54:42,867 4000 cell images written\n",
      "2020-02-12 14:55:17,265 5000 cell images written\n",
      "2020-02-12 14:55:51,748 6000 cell images written\n",
      "2020-02-12 14:56:26,115 7000 cell images written\n",
      "2020-02-12 14:57:00,600 8000 cell images written\n",
      "2020-02-12 14:57:35,063 9000 cell images written\n",
      "2020-02-12 14:57:44,754 done writing images\n"
     ]
    },
    {
     "name": "stdout",
     "output_type": "stream",
     "text": [
      "Found 9280 images belonging to 1 classes.\n",
      "CPU times: user 5min 20s, sys: 1.6 s, total: 5min 21s\n",
      "Wall time: 5min 20s\n"
     ]
    }
   ],
   "source": [
    "%%time\n",
    "# prediction_dataset, model = load_from_directory(adata, '/home/estorrs/pollock/models/abm_3class',\n",
    "#         image_root_dir = '/home/estorrs/pollock/models/scratch/test_amb_prediction')\n",
    "\n",
    "prediction_dataset, model = load_from_directory(adata, '/home/estorrs/pollock/models/zheng_68k_unfiltered',\n",
    "        image_root_dir = '/home/estorrs/pollock/models/scratch/test_zheng_68k_unfiltered_prediction')"
   ]
  },
  {
   "cell_type": "code",
   "execution_count": 30,
   "metadata": {},
   "outputs": [
    {
     "name": "stdout",
     "output_type": "stream",
     "text": [
      "WARNING:tensorflow:From /home/estorrs/pollock/pollock/models/model.py:549: Model.predict_generator (from tensorflow.python.keras.engine.training) is deprecated and will be removed in a future version.\n",
      "Instructions for updating:\n",
      "Please use Model.predict, which supports generators.\n"
     ]
    },
    {
     "name": "stderr",
     "output_type": "stream",
     "text": [
      "2020-02-12 14:57:49,459 From /home/estorrs/pollock/pollock/models/model.py:549: Model.predict_generator (from tensorflow.python.keras.engine.training) is deprecated and will be removed in a future version.\n",
      "Instructions for updating:\n",
      "Please use Model.predict, which supports generators.\n"
     ]
    },
    {
     "data": {
      "text/plain": [
       "(9280, 11)"
      ]
     },
     "execution_count": 30,
     "metadata": {},
     "output_type": "execute_result"
    }
   ],
   "source": [
    "probs = model.predict(prediction_dataset)\n",
    "probs.shape"
   ]
  },
  {
   "cell_type": "code",
   "execution_count": 40,
   "metadata": {},
   "outputs": [],
   "source": [
    "# [np.max(x) for x in probs]"
   ]
  },
  {
   "cell_type": "code",
   "execution_count": 45,
   "metadata": {},
   "outputs": [
    {
     "data": {
      "text/plain": [
       "(9280, array([4, 3, 8, 3, 1]))"
      ]
     },
     "execution_count": 45,
     "metadata": {},
     "output_type": "execute_result"
    }
   ],
   "source": [
    "predictions = np.argmax(probs, axis=1).flatten()\n",
    "max_prob = np.asarray([np.max(x) for x in probs])\n",
    "predicted_labels = [prediction_dataset.cell_types[i] for i in predictions]\n",
    "len(predictions), predictions[:5]"
   ]
  },
  {
   "cell_type": "code",
   "execution_count": null,
   "metadata": {},
   "outputs": [],
   "source": []
  },
  {
   "cell_type": "code",
   "execution_count": 46,
   "metadata": {},
   "outputs": [
    {
     "data": {
      "text/plain": [
       "(9280, [4, 3, 8, 9, 1])"
      ]
     },
     "execution_count": 46,
     "metadata": {},
     "output_type": "execute_result"
    }
   ],
   "source": [
    "cell_type_to_index = {v:k for k, v in enumerate(prediction_dataset.cell_types)}\n",
    "groundtruth = [cell_type_to_index[cell_type]\n",
    "               for cell_type in adata[prediction_dataset.cell_ids, :].obs['x']]\n",
    "len(groundtruth), groundtruth[:5]"
   ]
  },
  {
   "cell_type": "code",
   "execution_count": 47,
   "metadata": {},
   "outputs": [
    {
     "data": {
      "text/plain": [
       "(2745, 2745)"
      ]
     },
     "execution_count": 47,
     "metadata": {},
     "output_type": "execute_result"
    }
   ],
   "source": [
    "predictions, groundtruth = zip(*[(p, g) for p, g, prob in zip(predictions, groundtruth, max_prob)\n",
    "                                if prob > .95])\n",
    "len(predictions), len(groundtruth)"
   ]
  },
  {
   "cell_type": "code",
   "execution_count": 48,
   "metadata": {},
   "outputs": [
    {
     "data": {
      "text/plain": [
       "((4, 1, 1, 7, 1, 6, 5, 6, 9, 1, 1, 6, 3, 7, 1, 7, 2, 7, 7, 10),\n",
       " (4, 1, 1, 7, 1, 5, 5, 6, 9, 1, 1, 6, 3, 7, 1, 7, 2, 9, 7, 10))"
      ]
     },
     "execution_count": 48,
     "metadata": {},
     "output_type": "execute_result"
    }
   ],
   "source": [
    "predictions[:20], groundtruth[:20]"
   ]
  },
  {
   "cell_type": "code",
   "execution_count": 109,
   "metadata": {},
   "outputs": [
    {
     "data": {
      "text/plain": [
       "float"
      ]
     },
     "execution_count": 109,
     "metadata": {},
     "output_type": "execute_result"
    }
   ],
   "source": [
    "type(report['CD14__Monocyte']['precision'])"
   ]
  },
  {
   "cell_type": "code",
   "execution_count": 55,
   "metadata": {},
   "outputs": [
    {
     "data": {
      "text/plain": [
       "{'CD14__Monocyte': {'precision': 0.9761904761904762,\n",
       "  'recall': 0.9609375,\n",
       "  'f1-score': 0.968503937007874,\n",
       "  'support': 128},\n",
       " 'CD19__B': {'precision': 1.0,\n",
       "  'recall': 0.9969183359013868,\n",
       "  'f1-score': 0.9984567901234569,\n",
       "  'support': 649},\n",
       " 'CD34': {'precision': 0.9782608695652174,\n",
       "  'recall': 0.994475138121547,\n",
       "  'f1-score': 0.9863013698630136,\n",
       "  'support': 181},\n",
       " 'CD4__CD25_T_Reg': {'precision': 0.9487179487179487,\n",
       "  'recall': 0.9736842105263158,\n",
       "  'f1-score': 0.9610389610389611,\n",
       "  'support': 76},\n",
       " 'CD4__CD45RA__CD25__Naive_T': {'precision': 0.9906542056074766,\n",
       "  'recall': 0.954954954954955,\n",
       "  'f1-score': 0.9724770642201835,\n",
       "  'support': 111},\n",
       " 'CD4__CD45RO__Memory': {'precision': 0.975,\n",
       "  'recall': 0.78,\n",
       "  'f1-score': 0.8666666666666667,\n",
       "  'support': 50},\n",
       " 'CD4__T_Helper2': {'precision': 0.891566265060241,\n",
       "  'recall': 1.0,\n",
       "  'f1-score': 0.9426751592356688,\n",
       "  'support': 74},\n",
       " 'CD56__NK': {'precision': 0.9904610492845787,\n",
       "  'recall': 0.9920382165605095,\n",
       "  'f1-score': 0.9912490055688146,\n",
       "  'support': 628},\n",
       " 'CD8__CD45RA__Naive_Cytotoxic': {'precision': 1.0,\n",
       "  'recall': 0.8076923076923077,\n",
       "  'f1-score': 0.8936170212765957,\n",
       "  'support': 26},\n",
       " 'CD8__Cytotoxic_T': {'precision': 0.9556786703601108,\n",
       "  'recall': 0.971830985915493,\n",
       "  'f1-score': 0.9636871508379888,\n",
       "  'support': 355},\n",
       " 'Dendritic': {'precision': 0.9808102345415778,\n",
       "  'recall': 0.9850107066381156,\n",
       "  'f1-score': 0.9829059829059829,\n",
       "  'support': 467},\n",
       " 'accuracy': 0.9806921675774135,\n",
       " 'macro avg': {'precision': 0.9715763381206933,\n",
       "  'recall': 0.9470493051191483,\n",
       "  'f1-score': 0.9570526462495643,\n",
       "  'support': 2745},\n",
       " 'weighted avg': {'precision': 0.9811011035856498,\n",
       "  'recall': 0.9806921675774135,\n",
       "  'f1-score': 0.980483486182695,\n",
       "  'support': 2745}}"
      ]
     },
     "execution_count": 55,
     "metadata": {},
     "output_type": "execute_result"
    }
   ],
   "source": [
    "from sklearn.metrics import classification_report\n",
    "report = classification_report(groundtruth, predictions, target_names=prediction_dataset.cell_types,\n",
    "                               output_dict=True)\n",
    "report"
   ]
  },
  {
   "cell_type": "code",
   "execution_count": 54,
   "metadata": {},
   "outputs": [
    {
     "data": {
      "image/png": "[encoded data removed]",
      "text/plain": [
       "<Figure size 576x576 with 2 Axes>"
      ]
     },
     "metadata": {
      "needs_background": "light"
     },
     "output_type": "display_data"
    }
   ],
   "source": [
    "c_df = pollock_analysis.get_confusion_matrix(predictions, groundtruth, prediction_dataset.cell_types)"
   ]
  },
  {
   "cell_type": "code",
   "execution_count": 36,
   "metadata": {},
   "outputs": [
    {
     "name": "stderr",
     "output_type": "stream",
     "text": [
      "/home/estorrs/miniconda3/envs/pollock/lib/python3.7/site-packages/numba/typed_passes.py:293: NumbaPerformanceWarning: \n",
      "The keyword argument 'parallel=True' was specified but no transformation for parallel execution was possible.\n",
      "\n",
      "To find out why, try turning on parallel diagnostics, see http://numba.pydata.org/numba-doc/latest/user/parallel.html#diagnostics for help.\n",
      "\n",
      "File \"../../miniconda3/envs/pollock/lib/python3.7/site-packages/umap/nndescent.py\", line 47:\n",
      "    @numba.njit(parallel=True)\n",
      "    def nn_descent(\n",
      "    ^\n",
      "\n",
      "  state.func_ir.loc))\n"
     ]
    },
    {
     "data": {
      "text/plain": [
       "(9280, 2)"
      ]
     },
     "execution_count": 36,
     "metadata": {},
     "output_type": "execute_result"
    }
   ],
   "source": [
    "embedding = pollock_analysis.umap_final_layer(prediction_dataset.prediction_ds, model.model)\n",
    "embedding.shape"
   ]
  },
  {
   "cell_type": "code",
   "execution_count": 37,
   "metadata": {},
   "outputs": [
    {
     "name": "stderr",
     "output_type": "stream",
     "text": [
      "... storing 'predicted_cell_type' as categorical\n"
     ]
    },
    {
     "data": {
      "image/png": "[encoded data removed]",
      "text/plain": [
       "<Figure size 989.28x288 with 2 Axes>"
      ]
     },
     "metadata": {},
     "output_type": "display_data"
    }
   ],
   "source": [
    "ordered_adata = adata[prediction_dataset.cell_ids, :]\n",
    "ordered_adata.obsm['X_umap'] = embedding\n",
    "ordered_adata.obs['predicted_cell_type'] = predicted_labels\n",
    "sc.pl.umap(ordered_adata, color=['predicted_cell_type', 'x'])"
   ]
  },
  {
   "cell_type": "code",
   "execution_count": null,
   "metadata": {},
   "outputs": [],
   "source": []
  }
 ],
 "metadata": {
  "kernelspec": {
   "display_name": "Python 3",
   "language": "python",
   "name": "python3"
  },
  "language_info": {
   "codemirror_mode": {
    "name": "ipython",
    "version": 3
   },
   "file_extension": ".py",
   "mimetype": "text/x-python",
   "name": "python",
   "nbconvert_exporter": "python",
   "pygments_lexer": "ipython3",
   "version": "3.7.6"
  }
 },
 "nbformat": 4,
 "nbformat_minor": 4
}
