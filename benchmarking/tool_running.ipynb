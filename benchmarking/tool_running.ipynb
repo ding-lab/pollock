{
 "cells": [
  {
   "cell_type": "code",
   "execution_count": 1,
   "metadata": {},
   "outputs": [],
   "source": [
    "from pathlib import Path\n",
    "from collections import Counter\n",
    "import os\n",
    "import re\n",
    "import random\n",
    "import subprocess\n",
    "\n",
    "import anndata\n",
    "import scanpy as sc\n",
    "import pandas as pd\n",
    "import numpy as np\n",
    "import scipy\n",
    "\n",
    "import mgitools.os_helpers as os_helpers"
   ]
  },
  {
   "cell_type": "code",
   "execution_count": 2,
   "metadata": {},
   "outputs": [],
   "source": [
    "# !conda install -y scanpy\n",
    "# !pip install git+https://github.com/estorrs/mgitools"
   ]
  },
  {
   "cell_type": "code",
   "execution_count": 3,
   "metadata": {},
   "outputs": [],
   "source": [
    "# !pip install git+https://github.com/estorrs/mgitools\n",
    "# !pip install tensorflow==2.1.0"
   ]
  },
  {
   "cell_type": "code",
   "execution_count": 4,
   "metadata": {},
   "outputs": [],
   "source": [
    "%load_ext autoreload"
   ]
  },
  {
   "cell_type": "code",
   "execution_count": 5,
   "metadata": {},
   "outputs": [],
   "source": [
    "%autoreload 2"
   ]
  },
  {
   "cell_type": "code",
   "execution_count": 6,
   "metadata": {},
   "outputs": [],
   "source": [
    "# !pip install -e /home/estorrs/pollock/\n",
    "import pollock\n",
    "from pollock.models.model import PollockDataset, PollockModel, load_from_directory, predict_from_anndata"
   ]
  },
  {
   "cell_type": "code",
   "execution_count": 7,
   "metadata": {},
   "outputs": [],
   "source": [
    "# !conda install -y scanpy"
   ]
  },
  {
   "cell_type": "code",
   "execution_count": 8,
   "metadata": {},
   "outputs": [],
   "source": [
    "# !pip install git+https://github.com/estorrs/mgitools"
   ]
  },
  {
   "cell_type": "code",
   "execution_count": 2,
   "metadata": {},
   "outputs": [],
   "source": [
    "CELL_TYPE_KEY = 'cell_type'\n",
    "N_PER_CELL_TYPE = 500\n",
    "DATA_DIR = '/home/estorrs/pollock/benchmarking/data/01272021_harmonized/teir_1/'\n",
    "RESULTS_DIR = '/home/estorrs/pollock/benchmarking/results/01272021_harmonized_v2/'\n",
    "RESULTS_CROSS_DISEASE_DIR = '/home/estorrs/pollock/benchmarking/results/01272021_teir1_cross_disease_v2'\n",
    "# RESULTS_CROSS_DTYPE_DIR = '/home/estorrs/pollock/benchmarking/results/11302020_teir1_cross_datatype'\n",
    "SANDBOX_DIR = '/home/estorrs/pollock/benchmarking/sandbox'\n",
    "\n",
    "Path(RESULTS_DIR).mkdir(parents=True, exist_ok=True)\n",
    "Path(RESULTS_CROSS_DISEASE_DIR).mkdir(parents=True, exist_ok=True)\n",
    "# Path(RESULTS_CROSS_DTYPE_DIR).mkdir(parents=True, exist_ok=True)"
   ]
  },
  {
   "cell_type": "markdown",
   "metadata": {
    "heading_collapsed": true
   },
   "source": [
    "##### create training and validation datasets"
   ]
  },
  {
   "cell_type": "markdown",
   "metadata": {
    "hidden": true
   },
   "source": [
    "only run if you haven't created these datasets yet"
   ]
  },
  {
   "cell_type": "code",
   "execution_count": 12,
   "metadata": {
    "hidden": true
   },
   "outputs": [],
   "source": [
    "def cap_list(ls, n=100, split=.8, oversample=True):\n",
    "    \"\"\"\n",
    "    Grabs items from a pool.\n",
    "    \n",
    "    if split * pool size is greater than n, then just randomly sample 80% of the pool\n",
    "    otherwise sample 80% of the pool, then oversample so you end up with a final size of n\n",
    "    \"\"\"\n",
    "    # just return list if it is of length 1\n",
    "    if len(ls) <= 1: return ls\n",
    "    cap = int(len(ls) * split)\n",
    "    if cap > n:\n",
    "        return random.sample(ls, n)\n",
    "\n",
    "    if oversample:\n",
    "        pool = random.sample(ls, cap)\n",
    "        ## oversample to\n",
    "        return random.choices(pool, k=n)\n",
    "\n",
    "    return random.sample(ls, cap)\n",
    "\n",
    "def balancedish_training_generator(adata, cell_type_key, n_per_cell_type, oversample=True, split=.8):\n",
    "    \"\"\"\n",
    "    Return balanced train and validation sets\n",
    "    \"\"\"\n",
    "    cell_type_to_idxs = {}\n",
    "    for cell_id, cell_type in zip(adata.obs.index, adata.obs[cell_type_key]):\n",
    "        if cell_type not in cell_type_to_idxs:\n",
    "            cell_type_to_idxs[cell_type] = [cell_id]\n",
    "        else:\n",
    "            cell_type_to_idxs[cell_type].append(cell_id)\n",
    "\n",
    "    cell_type_to_idxs = {k:cap_list(ls, n_per_cell_type, oversample=oversample, split=split)\n",
    "                         for k, ls in cell_type_to_idxs.items()}\n",
    "\n",
    "    train_ids = np.asarray([x for ls in cell_type_to_idxs.values() for x in ls])\n",
    "    train_idxs = np.arange(adata.shape[0])[np.isin(np.asarray(adata.obs.index), train_ids)]\n",
    "    val_idxs = np.delete(np.arange(adata.shape[0]), train_idxs)\n",
    "\n",
    "    train_adata = adata[train_idxs, :]\n",
    "    val_adata = adata[val_idxs, :]\n",
    "\n",
    "    return train_adata, val_adata\n",
    "\n",
    "# def create_train_val_datasets(adata, cell_type_key, oversample=True):\n",
    "#     counts = Counter(adata.obs[cell_type_key])\n",
    "#     min_count = counts.most_common()[-1][1]\n",
    "#     n_per_cell_type = max(min_count, )\n",
    "#     train_adata, val_adata = balancedish_training_generator(adata, cell_type_key,\n",
    "#                                                             n_per_cell_type, oversample=oversample)\n",
    "#     return train_adata, val_adata"
   ]
  },
  {
   "cell_type": "code",
   "execution_count": 13,
   "metadata": {
    "hidden": true
   },
   "outputs": [
    {
     "data": {
      "text/plain": [
       "{'scRNAseq': {'brca': '/home/estorrs/pollock/benchmarking/data/01272021_harmonized/teir_1/scRNAseq/brca.h5ad',\n",
       "  'cesc': '/home/estorrs/pollock/benchmarking/data/01272021_harmonized/teir_1/scRNAseq/cesc.h5ad',\n",
       "  'hnscc': '/home/estorrs/pollock/benchmarking/data/01272021_harmonized/teir_1/scRNAseq/hnscc.h5ad',\n",
       "  'melanoma': '/home/estorrs/pollock/benchmarking/data/01272021_harmonized/teir_1/scRNAseq/melanoma.h5ad',\n",
       "  'myeloma': '/home/estorrs/pollock/benchmarking/data/01272021_harmonized/teir_1/scRNAseq/myeloma.h5ad',\n",
       "  'pdac': '/home/estorrs/pollock/benchmarking/data/01272021_harmonized/teir_1/scRNAseq/pdac.h5ad'},\n",
       " 'snATACseq': {'brca': '/home/estorrs/pollock/benchmarking/data/01272021_harmonized/teir_1/snATACseq/brca.h5ad',\n",
       "  'brca_gene_activity': '/home/estorrs/pollock/benchmarking/data/01272021_harmonized/teir_1/snATACseq/brca_gene_activity.h5ad',\n",
       "  'brca_motif': '/home/estorrs/pollock/benchmarking/data/01272021_harmonized/teir_1/snATACseq/brca_motif.h5ad',\n",
       "  'brca_peaks': '/home/estorrs/pollock/benchmarking/data/01272021_harmonized/teir_1/snATACseq/brca_peaks.h5ad',\n",
       "  'ccrcc': '/home/estorrs/pollock/benchmarking/data/01272021_harmonized/teir_1/snATACseq/ccrcc.h5ad',\n",
       "  'ccrcc_gene_activity': '/home/estorrs/pollock/benchmarking/data/01272021_harmonized/teir_1/snATACseq/ccrcc_gene_activity.h5ad',\n",
       "  'ccrcc_motif': '/home/estorrs/pollock/benchmarking/data/01272021_harmonized/teir_1/snATACseq/ccrcc_motif.h5ad',\n",
       "  'ccrcc_peaks': '/home/estorrs/pollock/benchmarking/data/01272021_harmonized/teir_1/snATACseq/ccrcc_peaks.h5ad',\n",
       "  'gbm': '/home/estorrs/pollock/benchmarking/data/01272021_harmonized/teir_1/snATACseq/gbm.h5ad',\n",
       "  'gbm_gene_activity': '/home/estorrs/pollock/benchmarking/data/01272021_harmonized/teir_1/snATACseq/gbm_gene_activity.h5ad',\n",
       "  'gbm_motif': '/home/estorrs/pollock/benchmarking/data/01272021_harmonized/teir_1/snATACseq/gbm_motif.h5ad',\n",
       "  'gbm_peaks': '/home/estorrs/pollock/benchmarking/data/01272021_harmonized/teir_1/snATACseq/gbm_peaks.h5ad'},\n",
       " 'snRNAseq': {'brca': '/home/estorrs/pollock/benchmarking/data/01272021_harmonized/teir_1/snRNAseq/brca.h5ad',\n",
       "  'ccrcc': '/home/estorrs/pollock/benchmarking/data/01272021_harmonized/teir_1/snRNAseq/ccrcc.h5ad',\n",
       "  'gbm': '/home/estorrs/pollock/benchmarking/data/01272021_harmonized/teir_1/snRNAseq/gbm.h5ad'}}"
      ]
     },
     "execution_count": 13,
     "metadata": {},
     "output_type": "execute_result"
    }
   ],
   "source": [
    "fps = sorted(os_helpers.listfiles(DATA_DIR, regex='.h5ad$'))\n",
    "fp_map = {fp.split('/')[-2]:{} for fp in fps}\n",
    "for fp in fps:\n",
    "    if '/_train.h5ad' not in fp and '/_val.h5ad' not in fp:\n",
    "        dtype = fp.split('/')[-2]\n",
    "        disease = fp.split('/')[-1].replace('.h5ad', '')\n",
    "        fp_map[dtype][disease] = fp\n",
    "fp_map"
   ]
  },
  {
   "cell_type": "code",
   "execution_count": 14,
   "metadata": {
    "hidden": true
   },
   "outputs": [
    {
     "name": "stdout",
     "output_type": "stream",
     "text": [
      "scRNAseq brca\n"
     ]
    },
    {
     "name": "stderr",
     "output_type": "stream",
     "text": [
      "/home/estorrs/miniconda3/envs/pollock_dev/lib/python3.7/site-packages/anndata/_core/anndata.py:1094: FutureWarning: is_categorical is deprecated and will be removed in a future version.  Use is_categorical_dtype instead\n",
      "  if not is_categorical(df_full[k]):\n"
     ]
    },
    {
     "name": "stdout",
     "output_type": "stream",
     "text": [
      "scRNAseq cesc\n",
      "scRNAseq hnscc\n",
      "scRNAseq melanoma\n",
      "scRNAseq myeloma\n",
      "scRNAseq pdac\n",
      "snATACseq brca\n",
      "snATACseq brca_gene_activity\n",
      "snATACseq brca_motif\n",
      "snATACseq brca_peaks\n",
      "snATACseq ccrcc\n",
      "snATACseq ccrcc_gene_activity\n",
      "snATACseq ccrcc_motif\n",
      "snATACseq ccrcc_peaks\n",
      "snATACseq gbm\n",
      "snATACseq gbm_gene_activity\n",
      "snATACseq gbm_motif\n",
      "snATACseq gbm_peaks\n",
      "snRNAseq brca\n",
      "snRNAseq ccrcc\n"
     ]
    },
    {
     "name": "stderr",
     "output_type": "stream",
     "text": [
      "/home/estorrs/miniconda3/envs/pollock_dev/lib/python3.7/site-packages/anndata/_core/anndata.py:1192: FutureWarning: is_categorical is deprecated and will be removed in a future version.  Use is_categorical_dtype instead\n",
      "  if is_string_dtype(df[key]) and not is_categorical(df[key])\n"
     ]
    },
    {
     "name": "stdout",
     "output_type": "stream",
     "text": [
      "snRNAseq gbm\n"
     ]
    }
   ],
   "source": [
    "for dtype, d in fp_map.items():\n",
    "    for disease, fp in d.items():\n",
    "        print(dtype, disease)\n",
    "        adata = sc.read_h5ad(fp)\n",
    "        # check for cell type key\n",
    "        if CELL_TYPE_KEY not in adata.obs: raise RuntimeError(f'{CELL_TYPE_KEY} not in {fp}')\n",
    "        \n",
    "        train_adata, val_adata = balancedish_training_generator(adata, CELL_TYPE_KEY, N_PER_CELL_TYPE)\n",
    "        # resample validation data to make dataset smaller while keeping rare cell types\n",
    "        val_adata, _ = balancedish_training_generator(val_adata, CELL_TYPE_KEY, 500, oversample=False,\n",
    "                                                     split=1.)\n",
    "        train_adata.write_h5ad(fp.replace('.h5ad', '_train.h5ad'))\n",
    "        val_adata.write_h5ad(fp.replace('.h5ad', '_val.h5ad'))\n",
    "        "
   ]
  },
  {
   "cell_type": "markdown",
   "metadata": {},
   "source": [
    "##### load in training and validation datasets"
   ]
  },
  {
   "cell_type": "code",
   "execution_count": 3,
   "metadata": {},
   "outputs": [
    {
     "name": "stdout",
     "output_type": "stream",
     "text": [
      "scRNAseq brca\n",
      "scRNAseq cesc\n",
      "scRNAseq hnscc\n",
      "scRNAseq melanoma\n",
      "scRNAseq myeloma\n",
      "scRNAseq pdac\n",
      "snATACseq brca_gene_activity\n",
      "snATACseq brca_motif\n",
      "snATACseq brca\n",
      "snATACseq ccrcc_gene_activity\n",
      "snATACseq ccrcc_motif\n",
      "snATACseq ccrcc\n",
      "snATACseq gbm_gene_activity\n",
      "snATACseq gbm_motif\n",
      "snATACseq gbm\n",
      "snRNAseq brca\n",
      "snRNAseq ccrcc\n",
      "snRNAseq gbm\n"
     ]
    }
   ],
   "source": [
    "fps = sorted(os_helpers.listfiles(DATA_DIR, regex='.h5ad$'))\n",
    "adata_map = {fp.split('/')[-2]:{} for fp in fps}\n",
    "for fp in fps:\n",
    "    dtype = fp.split('/')[-2]\n",
    "    disease = re.sub(r'^(.*)((_train)|(_val)).h5ad$', r'\\1', fp.split('/')[-1])\n",
    "    if 'peaks' not in disease:\n",
    "        if disease not in adata_map[dtype] and '.h5ad' not in disease: adata_map[dtype][disease] = {}\n",
    "        if 'train.h5ad' in fp:\n",
    "            adata_map[dtype][disease]['train'] = fp\n",
    "        if 'val.h5ad' in fp:\n",
    "            adata_map[dtype][disease]['val'] = fp\n",
    "for dtype, d in adata_map.items():\n",
    "    for disease, m in d.items():\n",
    "        print(dtype, disease)"
   ]
  },
  {
   "cell_type": "code",
   "execution_count": 4,
   "metadata": {},
   "outputs": [
    {
     "data": {
      "text/plain": [
       "{'train': '/home/estorrs/pollock/benchmarking/data/01272021_harmonized/teir_1/snATACseq/gbm_train.h5ad',\n",
       " 'val': '/home/estorrs/pollock/benchmarking/data/01272021_harmonized/teir_1/snATACseq/gbm_val.h5ad'}"
      ]
     },
     "execution_count": 4,
     "metadata": {},
     "output_type": "execute_result"
    }
   ],
   "source": [
    "# remove any datasets if you have to\n",
    "adata_map['snATACseq'].pop('brca')\n",
    "adata_map['snATACseq'].pop('ccrcc')\n",
    "adata_map['snATACseq'].pop('gbm')"
   ]
  },
  {
   "cell_type": "markdown",
   "metadata": {},
   "source": [
    "### run workflows"
   ]
  },
  {
   "cell_type": "code",
   "execution_count": 5,
   "metadata": {},
   "outputs": [],
   "source": [
    "import traceback\n",
    "def run_workflow_for_datasets(adata_map, workflow, workflow_identifier, output_dir):\n",
    "    for dtype, d in adata_map.items():\n",
    "#         if dtype != 'snATACseq':\n",
    "        for disease, m in d.items():\n",
    "            # make dir if doesnt exist yet\n",
    "            directory = os.path.join(output_dir, dtype, disease)\n",
    "            Path(directory).mkdir(parents=True, exist_ok=True)\n",
    "            train, val = sc.read_h5ad(m['train']), sc.read_h5ad(m['val'])\n",
    "\n",
    "            print(dtype, disease, train.shape, val.shape)\n",
    "            try:\n",
    "                run_workflow(workflow, workflow_identifier,\n",
    "                    train, val, directory)\n",
    "            except:\n",
    "                print(traceback.print_exc())\n",
    "            \n",
    "def run_workflow_for_cross_disease(adata_map, workflow, workflow_identifier, output_dir):\n",
    "    for dtype, d in adata_map.items():\n",
    "        for disease1, m1 in d.items():\n",
    "            for disease2, m2 in d.items():\n",
    "#                 if disease1 != disease2:\n",
    "                # make dir if doesnt exist yet\n",
    "                directory = os.path.join(output_dir, dtype, f'{disease1}_train_{disease2}_val')\n",
    "                Path(directory).mkdir(parents=True, exist_ok=True)\n",
    "                train, val = sc.read_h5ad(m1['train']), sc.read_h5ad(m2['val'])\n",
    "\n",
    "                print(dtype, f'{disease1}_train_{disease2}_val', train.shape, val.shape)\n",
    "                try:\n",
    "                    run_workflow(workflow, workflow_identifier,\n",
    "                        train, val, directory)\n",
    "                except:\n",
    "                   print(traceback.print_exc())\n",
    "                    \n",
    "                    \n",
    "def run_workflow_for_cross_datatype(adata_map, workflow, workflow_identifier, output_dir):\n",
    "    for dtype1, d1 in adata_map.items():\n",
    "        for dtype2, d2 in adata_map.items():\n",
    "            for disease1, m1 in d1.items():\n",
    "                for disease2, m2 in d2.items():\n",
    "                    # make dir if doesnt exist yet\n",
    "                    directory = os.path.join(output_dir, f'{dtype1}_{dtype2}',\n",
    "                                             f'{dtype1}_{disease1}_train_{dtype2}_{disease2}_val')\n",
    "                    Path(directory).mkdir(parents=True, exist_ok=True)\n",
    "                    train, val = sc.read_h5ad(m1['train']), sc.read_h5ad(m2['val'])\n",
    "\n",
    "                    print(f'{dtype1}_{dtype2}',\n",
    "                          f'{dtype1}_{disease1}_train_{dtype2}_{disease2}_val', train.shape, val.shape)\n",
    "                    run_workflow(workflow, workflow_identifier,\n",
    "                        train, val, directory)\n",
    "\n",
    "def run_workflow(workflow, workflow_identifier, train, val, output_dir):\n",
    "    \"\"\"\n",
    "    Run the workflow defined by the workflow function.\n",
    "    \n",
    "    workflow function takes a train adata and a val adata as inputs,\n",
    "    and returns dataframe with cell_id, groundtruth, predicted, and probability columns\n",
    "    \"\"\"\n",
    "#     try:\n",
    "        # if it is pollock it needs to know where to save the module\n",
    "    if workflow_identifier == 'pollock':\n",
    "        df = workflow(train, val, CELL_TYPE_KEY, os.path.join(output_dir, f'{workflow_identifier}_module'))\n",
    "    else:\n",
    "        df = workflow(train, val, CELL_TYPE_KEY)\n",
    "\n",
    "    df.to_csv(os.path.join(output_dir, f'{workflow_identifier}.tsv'), sep='\\t', index=False, header=True)\n",
    "#     except Exception as e:\n",
    "#         print('failed ' + os.path.join(output_dir, f'{workflow_identifier}.tsv'))\n",
    "#         print(e)"
   ]
  },
  {
   "cell_type": "markdown",
   "metadata": {},
   "source": [
    "##### pollock"
   ]
  },
  {
   "cell_type": "code",
   "execution_count": 13,
   "metadata": {},
   "outputs": [],
   "source": [
    "def run_pollock_workflow(train, val, cell_type_key, module_fp):\n",
    "    train.obs['is_validation'] = [False] * train.shape[0]\n",
    "    val.obs['is_validation'] = [True] * val.shape[0]\n",
    "    print(train.shape, val.shape)\n",
    "    combined = train.concatenate(val)\n",
    "    \n",
    "    pds = PollockDataset(combined.copy(), cell_type_key=cell_type_key,\n",
    "                     dataset_type='training', validation_key='is_validation')\n",
    "    \n",
    "    pm = PollockModel(pds.cell_types, pds.train_adata.shape[1], alpha=.005, latent_dim=25, learning_rate=0.0005)\n",
    "    \n",
    "    pm.fit(pds, epochs=15)\n",
    "    \n",
    "    # only score validation if cell types match\n",
    "    train_cells = set(train.obs[cell_type_key])\n",
    "    val_cells = set(val.obs[cell_type_key])\n",
    "    score_val = True if len(train_cells.intersection(val_cells)) == len(train_cells.union(val_cells)) else False\n",
    "    print(score_val)\n",
    "    pm.save(pds, module_fp, score_train=True, score_val=score_val)\n",
    "\n",
    "    preds = predict_from_anndata(val.copy(), module_fp, adata_batch_size=2500)\n",
    "    \n",
    "    df = pd.DataFrame.from_dict({\n",
    "        'cell_id': preds.index.to_list(),\n",
    "        'groundtruth': val.obs.loc[preds.index][cell_type_key].to_list(),\n",
    "        'predicted': preds['predicted_cell_type'],\n",
    "        'probability': preds['cell_type_probability']\n",
    "    })\n",
    "\n",
    "    return df"
   ]
  },
  {
   "cell_type": "code",
   "execution_count": 14,
   "metadata": {
    "scrolled": true
   },
   "outputs": [
    {
     "name": "stdout",
     "output_type": "stream",
     "text": [
      "scRNAseq brca (6105, 27131) (5748, 27131)\n",
      "(6105, 27131) (5748, 27131)\n"
     ]
    },
    {
     "name": "stderr",
     "output_type": "stream",
     "text": [
      "2021-05-14 10:24:12,075 input dataset shape: (11853, 27131)\n",
      "2021-05-14 10:24:12,077 possible cell types: ['B cell', 'CD4 T cell', 'CD8 T cell', 'Dendritic', 'Endothelial', 'Erythrocyte', 'Fibroblast', 'Malignant', 'Mast', 'Monocyte', 'NK', 'Plasma', 'Treg']\n",
      "2021-05-14 10:24:12,078 using validation key\n",
      "/home/estorrs/miniconda3/envs/pollock_dev/lib/python3.7/site-packages/anndata/_core/anndata.py:1094: FutureWarning: is_categorical is deprecated and will be removed in a future version.  Use is_categorical_dtype instead\n",
      "  if not is_categorical(df_full[k]):\n",
      "/home/estorrs/miniconda3/envs/pollock_dev/lib/python3.7/site-packages/anndata/_core/anndata.py:1094: FutureWarning: is_categorical is deprecated and will be removed in a future version.  Use is_categorical_dtype instead\n",
      "  if not is_categorical(df_full[k]):\n",
      "/home/estorrs/miniconda3/envs/pollock_dev/lib/python3.7/site-packages/anndata/_core/anndata.py:1094: FutureWarning: is_categorical is deprecated and will be removed in a future version.  Use is_categorical_dtype instead\n",
      "  if not is_categorical(df_full[k]):\n",
      "2021-05-14 10:24:37,371 epoch: 1, train loss: 36.868736267089844, val loss: 43.18110656738281\n",
      "/home/estorrs/miniconda3/envs/pollock_dev/lib/python3.7/site-packages/anndata/_core/anndata.py:1094: FutureWarning: is_categorical is deprecated and will be removed in a future version.  Use is_categorical_dtype instead\n",
      "  if not is_categorical(df_full[k]):\n",
      "/home/estorrs/miniconda3/envs/pollock_dev/lib/python3.7/site-packages/anndata/_core/anndata.py:1094: FutureWarning: is_categorical is deprecated and will be removed in a future version.  Use is_categorical_dtype instead\n",
      "  if not is_categorical(df_full[k]):\n",
      "2021-05-14 10:24:55,531 epoch: 2, train loss: 35.9722900390625, val loss: 42.396827697753906\n",
      "/home/estorrs/miniconda3/envs/pollock_dev/lib/python3.7/site-packages/anndata/_core/anndata.py:1094: FutureWarning: is_categorical is deprecated and will be removed in a future version.  Use is_categorical_dtype instead\n",
      "  if not is_categorical(df_full[k]):\n",
      "/home/estorrs/miniconda3/envs/pollock_dev/lib/python3.7/site-packages/anndata/_core/anndata.py:1094: FutureWarning: is_categorical is deprecated and will be removed in a future version.  Use is_categorical_dtype instead\n",
      "  if not is_categorical(df_full[k]):\n",
      "2021-05-14 10:25:13,633 epoch: 3, train loss: 35.59969711303711, val loss: 42.07976531982422\n",
      "/home/estorrs/miniconda3/envs/pollock_dev/lib/python3.7/site-packages/anndata/_core/anndata.py:1094: FutureWarning: is_categorical is deprecated and will be removed in a future version.  Use is_categorical_dtype instead\n",
      "  if not is_categorical(df_full[k]):\n",
      "/home/estorrs/miniconda3/envs/pollock_dev/lib/python3.7/site-packages/anndata/_core/anndata.py:1094: FutureWarning: is_categorical is deprecated and will be removed in a future version.  Use is_categorical_dtype instead\n",
      "  if not is_categorical(df_full[k]):\n",
      "2021-05-14 10:25:32,143 epoch: 4, train loss: 35.257022857666016, val loss: 41.679656982421875\n",
      "/home/estorrs/miniconda3/envs/pollock_dev/lib/python3.7/site-packages/anndata/_core/anndata.py:1094: FutureWarning: is_categorical is deprecated and will be removed in a future version.  Use is_categorical_dtype instead\n",
      "  if not is_categorical(df_full[k]):\n",
      "/home/estorrs/miniconda3/envs/pollock_dev/lib/python3.7/site-packages/anndata/_core/anndata.py:1094: FutureWarning: is_categorical is deprecated and will be removed in a future version.  Use is_categorical_dtype instead\n",
      "  if not is_categorical(df_full[k]):\n",
      "2021-05-14 10:25:50,372 epoch: 5, train loss: 35.05630874633789, val loss: 41.50373840332031\n",
      "/home/estorrs/miniconda3/envs/pollock_dev/lib/python3.7/site-packages/anndata/_core/anndata.py:1094: FutureWarning: is_categorical is deprecated and will be removed in a future version.  Use is_categorical_dtype instead\n",
      "  if not is_categorical(df_full[k]):\n",
      "/home/estorrs/miniconda3/envs/pollock_dev/lib/python3.7/site-packages/anndata/_core/anndata.py:1094: FutureWarning: is_categorical is deprecated and will be removed in a future version.  Use is_categorical_dtype instead\n",
      "  if not is_categorical(df_full[k]):\n",
      "2021-05-14 10:26:08,691 epoch: 6, train loss: 34.78305435180664, val loss: 41.32511901855469\n",
      "/home/estorrs/miniconda3/envs/pollock_dev/lib/python3.7/site-packages/anndata/_core/anndata.py:1094: FutureWarning: is_categorical is deprecated and will be removed in a future version.  Use is_categorical_dtype instead\n",
      "  if not is_categorical(df_full[k]):\n",
      "/home/estorrs/miniconda3/envs/pollock_dev/lib/python3.7/site-packages/anndata/_core/anndata.py:1094: FutureWarning: is_categorical is deprecated and will be removed in a future version.  Use is_categorical_dtype instead\n",
      "  if not is_categorical(df_full[k]):\n",
      "2021-05-14 10:26:26,125 epoch: 7, train loss: 34.639835357666016, val loss: 41.27021789550781\n",
      "/home/estorrs/miniconda3/envs/pollock_dev/lib/python3.7/site-packages/anndata/_core/anndata.py:1094: FutureWarning: is_categorical is deprecated and will be removed in a future version.  Use is_categorical_dtype instead\n",
      "  if not is_categorical(df_full[k]):\n",
      "/home/estorrs/miniconda3/envs/pollock_dev/lib/python3.7/site-packages/anndata/_core/anndata.py:1094: FutureWarning: is_categorical is deprecated and will be removed in a future version.  Use is_categorical_dtype instead\n",
      "  if not is_categorical(df_full[k]):\n",
      "2021-05-14 10:26:44,652 epoch: 8, train loss: 34.404727935791016, val loss: 41.183837890625\n",
      "/home/estorrs/miniconda3/envs/pollock_dev/lib/python3.7/site-packages/anndata/_core/anndata.py:1094: FutureWarning: is_categorical is deprecated and will be removed in a future version.  Use is_categorical_dtype instead\n",
      "  if not is_categorical(df_full[k]):\n",
      "/home/estorrs/miniconda3/envs/pollock_dev/lib/python3.7/site-packages/anndata/_core/anndata.py:1094: FutureWarning: is_categorical is deprecated and will be removed in a future version.  Use is_categorical_dtype instead\n",
      "  if not is_categorical(df_full[k]):\n",
      "2021-05-14 10:27:02,819 epoch: 9, train loss: 34.29356384277344, val loss: 41.184417724609375\n",
      "/home/estorrs/miniconda3/envs/pollock_dev/lib/python3.7/site-packages/anndata/_core/anndata.py:1094: FutureWarning: is_categorical is deprecated and will be removed in a future version.  Use is_categorical_dtype instead\n",
      "  if not is_categorical(df_full[k]):\n",
      "/home/estorrs/miniconda3/envs/pollock_dev/lib/python3.7/site-packages/anndata/_core/anndata.py:1094: FutureWarning: is_categorical is deprecated and will be removed in a future version.  Use is_categorical_dtype instead\n",
      "  if not is_categorical(df_full[k]):\n",
      "2021-05-14 10:27:21,153 epoch: 10, train loss: 34.185340881347656, val loss: 41.16510009765625\n",
      "/home/estorrs/miniconda3/envs/pollock_dev/lib/python3.7/site-packages/anndata/_core/anndata.py:1094: FutureWarning: is_categorical is deprecated and will be removed in a future version.  Use is_categorical_dtype instead\n",
      "  if not is_categorical(df_full[k]):\n",
      "/home/estorrs/miniconda3/envs/pollock_dev/lib/python3.7/site-packages/anndata/_core/anndata.py:1094: FutureWarning: is_categorical is deprecated and will be removed in a future version.  Use is_categorical_dtype instead\n",
      "  if not is_categorical(df_full[k]):\n",
      "2021-05-14 10:27:39,046 epoch: 11, train loss: 34.053951263427734, val loss: 41.165122985839844\n",
      "/home/estorrs/miniconda3/envs/pollock_dev/lib/python3.7/site-packages/anndata/_core/anndata.py:1094: FutureWarning: is_categorical is deprecated and will be removed in a future version.  Use is_categorical_dtype instead\n",
      "  if not is_categorical(df_full[k]):\n",
      "/home/estorrs/miniconda3/envs/pollock_dev/lib/python3.7/site-packages/anndata/_core/anndata.py:1094: FutureWarning: is_categorical is deprecated and will be removed in a future version.  Use is_categorical_dtype instead\n",
      "  if not is_categorical(df_full[k]):\n",
      "2021-05-14 10:27:57,599 epoch: 12, train loss: 33.91624069213867, val loss: 41.199562072753906\n",
      "/home/estorrs/miniconda3/envs/pollock_dev/lib/python3.7/site-packages/anndata/_core/anndata.py:1094: FutureWarning: is_categorical is deprecated and will be removed in a future version.  Use is_categorical_dtype instead\n",
      "  if not is_categorical(df_full[k]):\n",
      "/home/estorrs/miniconda3/envs/pollock_dev/lib/python3.7/site-packages/anndata/_core/anndata.py:1094: FutureWarning: is_categorical is deprecated and will be removed in a future version.  Use is_categorical_dtype instead\n",
      "  if not is_categorical(df_full[k]):\n"
     ]
    },
    {
     "name": "stderr",
     "output_type": "stream",
     "text": [
      "2021-05-14 10:28:15,575 epoch: 13, train loss: 33.786991119384766, val loss: 41.217529296875\n",
      "/home/estorrs/miniconda3/envs/pollock_dev/lib/python3.7/site-packages/anndata/_core/anndata.py:1094: FutureWarning: is_categorical is deprecated and will be removed in a future version.  Use is_categorical_dtype instead\n",
      "  if not is_categorical(df_full[k]):\n",
      "/home/estorrs/miniconda3/envs/pollock_dev/lib/python3.7/site-packages/anndata/_core/anndata.py:1094: FutureWarning: is_categorical is deprecated and will be removed in a future version.  Use is_categorical_dtype instead\n",
      "  if not is_categorical(df_full[k]):\n",
      "2021-05-14 10:28:33,645 epoch: 14, train loss: 33.698116302490234, val loss: 41.27376937866211\n",
      "/home/estorrs/miniconda3/envs/pollock_dev/lib/python3.7/site-packages/anndata/_core/anndata.py:1094: FutureWarning: is_categorical is deprecated and will be removed in a future version.  Use is_categorical_dtype instead\n",
      "  if not is_categorical(df_full[k]):\n",
      "/home/estorrs/miniconda3/envs/pollock_dev/lib/python3.7/site-packages/anndata/_core/anndata.py:1094: FutureWarning: is_categorical is deprecated and will be removed in a future version.  Use is_categorical_dtype instead\n",
      "  if not is_categorical(df_full[k]):\n",
      "2021-05-14 10:28:51,675 epoch: 15, train loss: 33.47968673706055, val loss: 41.206398010253906\n"
     ]
    },
    {
     "name": "stdout",
     "output_type": "stream",
     "text": [
      "True\n"
     ]
    },
    {
     "name": "stderr",
     "output_type": "stream",
     "text": [
      "/home/estorrs/miniconda3/envs/pollock_dev/lib/python3.7/site-packages/numpy/lib/format.py:350: UserWarning: metadata on a dtype may be saved or ignored, but will raise if saved when read. Use another form of storage.\n",
      "  d['descr'] = dtype_to_descr(array.dtype)\n",
      "/home/estorrs/miniconda3/envs/pollock_dev/lib/python3.7/site-packages/anndata/_core/anndata.py:1094: FutureWarning: is_categorical is deprecated and will be removed in a future version.  Use is_categorical_dtype instead\n",
      "  if not is_categorical(df_full[k]):\n",
      "2021-05-14 10:29:06,339 0 genes in training set are missing from prediction set\n",
      "2021-05-14 10:29:06,884 starting batch 1 of 3\n",
      "/home/estorrs/miniconda3/envs/pollock_dev/lib/python3.7/site-packages/anndata/_core/anndata.py:1094: FutureWarning: is_categorical is deprecated and will be removed in a future version.  Use is_categorical_dtype instead\n",
      "  if not is_categorical(df_full[k]):\n",
      "2021-05-14 10:29:06,991 0 genes in training set are missing from prediction set\n",
      "2021-05-14 10:29:13,909 starting batch 2 of 3\n",
      "/home/estorrs/miniconda3/envs/pollock_dev/lib/python3.7/site-packages/anndata/_core/anndata.py:1094: FutureWarning: is_categorical is deprecated and will be removed in a future version.  Use is_categorical_dtype instead\n",
      "  if not is_categorical(df_full[k]):\n",
      "2021-05-14 10:29:14,023 0 genes in training set are missing from prediction set\n",
      "2021-05-14 10:29:20,823 starting batch 3 of 3\n",
      "/home/estorrs/miniconda3/envs/pollock_dev/lib/python3.7/site-packages/anndata/_core/anndata.py:1094: FutureWarning: is_categorical is deprecated and will be removed in a future version.  Use is_categorical_dtype instead\n",
      "  if not is_categorical(df_full[k]):\n",
      "2021-05-14 10:29:20,935 0 genes in training set are missing from prediction set\n"
     ]
    },
    {
     "name": "stdout",
     "output_type": "stream",
     "text": [
      "scRNAseq cesc (4661, 22928) (4276, 22928)\n",
      "(4661, 22928) (4276, 22928)\n"
     ]
    },
    {
     "name": "stderr",
     "output_type": "stream",
     "text": [
      "2021-05-14 10:29:30,856 input dataset shape: (8937, 22928)\n",
      "2021-05-14 10:29:30,858 possible cell types: ['CD4 T cell', 'CD8 T cell', 'Endothelial', 'Epithelial', 'Erythrocyte', 'Fibroblast', 'Malignant', 'Mast', 'Monocyte', 'NK', 'Plasma']\n",
      "2021-05-14 10:29:30,858 using validation key\n",
      "/home/estorrs/miniconda3/envs/pollock_dev/lib/python3.7/site-packages/anndata/_core/anndata.py:1094: FutureWarning: is_categorical is deprecated and will be removed in a future version.  Use is_categorical_dtype instead\n",
      "  if not is_categorical(df_full[k]):\n",
      "/home/estorrs/miniconda3/envs/pollock_dev/lib/python3.7/site-packages/anndata/_core/anndata.py:1094: FutureWarning: is_categorical is deprecated and will be removed in a future version.  Use is_categorical_dtype instead\n",
      "  if not is_categorical(df_full[k]):\n",
      "/home/estorrs/miniconda3/envs/pollock_dev/lib/python3.7/site-packages/anndata/_core/anndata.py:1094: FutureWarning: is_categorical is deprecated and will be removed in a future version.  Use is_categorical_dtype instead\n",
      "  if not is_categorical(df_full[k]):\n",
      "2021-05-14 10:29:45,654 epoch: 1, train loss: 37.37144470214844, val loss: 46.58943176269531\n",
      "/home/estorrs/miniconda3/envs/pollock_dev/lib/python3.7/site-packages/anndata/_core/anndata.py:1094: FutureWarning: is_categorical is deprecated and will be removed in a future version.  Use is_categorical_dtype instead\n",
      "  if not is_categorical(df_full[k]):\n",
      "/home/estorrs/miniconda3/envs/pollock_dev/lib/python3.7/site-packages/anndata/_core/anndata.py:1094: FutureWarning: is_categorical is deprecated and will be removed in a future version.  Use is_categorical_dtype instead\n",
      "  if not is_categorical(df_full[k]):\n",
      "2021-05-14 10:29:57,136 epoch: 2, train loss: 36.386112213134766, val loss: 44.93820571899414\n",
      "/home/estorrs/miniconda3/envs/pollock_dev/lib/python3.7/site-packages/anndata/_core/anndata.py:1094: FutureWarning: is_categorical is deprecated and will be removed in a future version.  Use is_categorical_dtype instead\n",
      "  if not is_categorical(df_full[k]):\n",
      "/home/estorrs/miniconda3/envs/pollock_dev/lib/python3.7/site-packages/anndata/_core/anndata.py:1094: FutureWarning: is_categorical is deprecated and will be removed in a future version.  Use is_categorical_dtype instead\n",
      "  if not is_categorical(df_full[k]):\n",
      "2021-05-14 10:30:10,141 epoch: 3, train loss: 35.98854064941406, val loss: 44.371681213378906\n",
      "/home/estorrs/miniconda3/envs/pollock_dev/lib/python3.7/site-packages/anndata/_core/anndata.py:1094: FutureWarning: is_categorical is deprecated and will be removed in a future version.  Use is_categorical_dtype instead\n",
      "  if not is_categorical(df_full[k]):\n",
      "/home/estorrs/miniconda3/envs/pollock_dev/lib/python3.7/site-packages/anndata/_core/anndata.py:1094: FutureWarning: is_categorical is deprecated and will be removed in a future version.  Use is_categorical_dtype instead\n",
      "  if not is_categorical(df_full[k]):\n",
      "2021-05-14 10:30:22,292 epoch: 4, train loss: 35.61865997314453, val loss: 43.91381072998047\n",
      "/home/estorrs/miniconda3/envs/pollock_dev/lib/python3.7/site-packages/anndata/_core/anndata.py:1094: FutureWarning: is_categorical is deprecated and will be removed in a future version.  Use is_categorical_dtype instead\n",
      "  if not is_categorical(df_full[k]):\n",
      "/home/estorrs/miniconda3/envs/pollock_dev/lib/python3.7/site-packages/anndata/_core/anndata.py:1094: FutureWarning: is_categorical is deprecated and will be removed in a future version.  Use is_categorical_dtype instead\n",
      "  if not is_categorical(df_full[k]):\n",
      "2021-05-14 10:30:34,160 epoch: 5, train loss: 35.34061050415039, val loss: 43.689876556396484\n",
      "/home/estorrs/miniconda3/envs/pollock_dev/lib/python3.7/site-packages/anndata/_core/anndata.py:1094: FutureWarning: is_categorical is deprecated and will be removed in a future version.  Use is_categorical_dtype instead\n",
      "  if not is_categorical(df_full[k]):\n",
      "/home/estorrs/miniconda3/envs/pollock_dev/lib/python3.7/site-packages/anndata/_core/anndata.py:1094: FutureWarning: is_categorical is deprecated and will be removed in a future version.  Use is_categorical_dtype instead\n",
      "  if not is_categorical(df_full[k]):\n",
      "2021-05-14 10:30:46,169 epoch: 6, train loss: 35.12150573730469, val loss: 43.495361328125\n",
      "/home/estorrs/miniconda3/envs/pollock_dev/lib/python3.7/site-packages/anndata/_core/anndata.py:1094: FutureWarning: is_categorical is deprecated and will be removed in a future version.  Use is_categorical_dtype instead\n",
      "  if not is_categorical(df_full[k]):\n",
      "/home/estorrs/miniconda3/envs/pollock_dev/lib/python3.7/site-packages/anndata/_core/anndata.py:1094: FutureWarning: is_categorical is deprecated and will be removed in a future version.  Use is_categorical_dtype instead\n",
      "  if not is_categorical(df_full[k]):\n",
      "2021-05-14 10:30:57,708 epoch: 7, train loss: 35.023807525634766, val loss: 43.423583984375\n",
      "/home/estorrs/miniconda3/envs/pollock_dev/lib/python3.7/site-packages/anndata/_core/anndata.py:1094: FutureWarning: is_categorical is deprecated and will be removed in a future version.  Use is_categorical_dtype instead\n",
      "  if not is_categorical(df_full[k]):\n",
      "/home/estorrs/miniconda3/envs/pollock_dev/lib/python3.7/site-packages/anndata/_core/anndata.py:1094: FutureWarning: is_categorical is deprecated and will be removed in a future version.  Use is_categorical_dtype instead\n",
      "  if not is_categorical(df_full[k]):\n",
      "2021-05-14 10:31:09,779 epoch: 8, train loss: 34.72652053833008, val loss: 43.260337829589844\n",
      "/home/estorrs/miniconda3/envs/pollock_dev/lib/python3.7/site-packages/anndata/_core/anndata.py:1094: FutureWarning: is_categorical is deprecated and will be removed in a future version.  Use is_categorical_dtype instead\n",
      "  if not is_categorical(df_full[k]):\n",
      "/home/estorrs/miniconda3/envs/pollock_dev/lib/python3.7/site-packages/anndata/_core/anndata.py:1094: FutureWarning: is_categorical is deprecated and will be removed in a future version.  Use is_categorical_dtype instead\n",
      "  if not is_categorical(df_full[k]):\n",
      "2021-05-14 10:31:21,821 epoch: 9, train loss: 34.5488395690918, val loss: 43.20130920410156\n",
      "/home/estorrs/miniconda3/envs/pollock_dev/lib/python3.7/site-packages/anndata/_core/anndata.py:1094: FutureWarning: is_categorical is deprecated and will be removed in a future version.  Use is_categorical_dtype instead\n",
      "  if not is_categorical(df_full[k]):\n",
      "/home/estorrs/miniconda3/envs/pollock_dev/lib/python3.7/site-packages/anndata/_core/anndata.py:1094: FutureWarning: is_categorical is deprecated and will be removed in a future version.  Use is_categorical_dtype instead\n",
      "  if not is_categorical(df_full[k]):\n",
      "2021-05-14 10:31:33,729 epoch: 10, train loss: 34.384498596191406, val loss: 43.19363021850586\n",
      "/home/estorrs/miniconda3/envs/pollock_dev/lib/python3.7/site-packages/anndata/_core/anndata.py:1094: FutureWarning: is_categorical is deprecated and will be removed in a future version.  Use is_categorical_dtype instead\n",
      "  if not is_categorical(df_full[k]):\n",
      "/home/estorrs/miniconda3/envs/pollock_dev/lib/python3.7/site-packages/anndata/_core/anndata.py:1094: FutureWarning: is_categorical is deprecated and will be removed in a future version.  Use is_categorical_dtype instead\n",
      "  if not is_categorical(df_full[k]):\n",
      "2021-05-14 10:31:45,808 epoch: 11, train loss: 34.18095016479492, val loss: 43.1752815246582\n",
      "/home/estorrs/miniconda3/envs/pollock_dev/lib/python3.7/site-packages/anndata/_core/anndata.py:1094: FutureWarning: is_categorical is deprecated and will be removed in a future version.  Use is_categorical_dtype instead\n",
      "  if not is_categorical(df_full[k]):\n",
      "/home/estorrs/miniconda3/envs/pollock_dev/lib/python3.7/site-packages/anndata/_core/anndata.py:1094: FutureWarning: is_categorical is deprecated and will be removed in a future version.  Use is_categorical_dtype instead\n",
      "  if not is_categorical(df_full[k]):\n",
      "2021-05-14 10:31:57,543 epoch: 12, train loss: 34.146358489990234, val loss: 43.25326156616211\n",
      "/home/estorrs/miniconda3/envs/pollock_dev/lib/python3.7/site-packages/anndata/_core/anndata.py:1094: FutureWarning: is_categorical is deprecated and will be removed in a future version.  Use is_categorical_dtype instead\n",
      "  if not is_categorical(df_full[k]):\n",
      "/home/estorrs/miniconda3/envs/pollock_dev/lib/python3.7/site-packages/anndata/_core/anndata.py:1094: FutureWarning: is_categorical is deprecated and will be removed in a future version.  Use is_categorical_dtype instead\n",
      "  if not is_categorical(df_full[k]):\n"
     ]
    },
    {
     "name": "stderr",
     "output_type": "stream",
     "text": [
      "2021-05-14 10:32:08,056 epoch: 13, train loss: 33.9305305480957, val loss: 43.21536636352539\n",
      "/home/estorrs/miniconda3/envs/pollock_dev/lib/python3.7/site-packages/anndata/_core/anndata.py:1094: FutureWarning: is_categorical is deprecated and will be removed in a future version.  Use is_categorical_dtype instead\n",
      "  if not is_categorical(df_full[k]):\n",
      "/home/estorrs/miniconda3/envs/pollock_dev/lib/python3.7/site-packages/anndata/_core/anndata.py:1094: FutureWarning: is_categorical is deprecated and will be removed in a future version.  Use is_categorical_dtype instead\n",
      "  if not is_categorical(df_full[k]):\n",
      "2021-05-14 10:32:20,145 epoch: 14, train loss: 33.707645416259766, val loss: 43.2344856262207\n",
      "/home/estorrs/miniconda3/envs/pollock_dev/lib/python3.7/site-packages/anndata/_core/anndata.py:1094: FutureWarning: is_categorical is deprecated and will be removed in a future version.  Use is_categorical_dtype instead\n",
      "  if not is_categorical(df_full[k]):\n",
      "/home/estorrs/miniconda3/envs/pollock_dev/lib/python3.7/site-packages/anndata/_core/anndata.py:1094: FutureWarning: is_categorical is deprecated and will be removed in a future version.  Use is_categorical_dtype instead\n",
      "  if not is_categorical(df_full[k]):\n",
      "2021-05-14 10:32:31,867 epoch: 15, train loss: 33.51203536987305, val loss: 43.243045806884766\n"
     ]
    },
    {
     "name": "stdout",
     "output_type": "stream",
     "text": [
      "True\n"
     ]
    },
    {
     "name": "stderr",
     "output_type": "stream",
     "text": [
      "/home/estorrs/miniconda3/envs/pollock_dev/lib/python3.7/site-packages/numpy/lib/format.py:350: UserWarning: metadata on a dtype may be saved or ignored, but will raise if saved when read. Use another form of storage.\n",
      "  d['descr'] = dtype_to_descr(array.dtype)\n",
      "/home/estorrs/miniconda3/envs/pollock_dev/lib/python3.7/site-packages/anndata/_core/anndata.py:1094: FutureWarning: is_categorical is deprecated and will be removed in a future version.  Use is_categorical_dtype instead\n",
      "  if not is_categorical(df_full[k]):\n",
      "2021-05-14 10:32:41,481 0 genes in training set are missing from prediction set\n",
      "2021-05-14 10:32:42,025 starting batch 1 of 2\n",
      "/home/estorrs/miniconda3/envs/pollock_dev/lib/python3.7/site-packages/anndata/_core/anndata.py:1094: FutureWarning: is_categorical is deprecated and will be removed in a future version.  Use is_categorical_dtype instead\n",
      "  if not is_categorical(df_full[k]):\n",
      "2021-05-14 10:32:42,147 0 genes in training set are missing from prediction set\n",
      "2021-05-14 10:32:48,787 starting batch 2 of 2\n",
      "/home/estorrs/miniconda3/envs/pollock_dev/lib/python3.7/site-packages/anndata/_core/anndata.py:1094: FutureWarning: is_categorical is deprecated and will be removed in a future version.  Use is_categorical_dtype instead\n",
      "  if not is_categorical(df_full[k]):\n",
      "2021-05-14 10:32:48,892 0 genes in training set are missing from prediction set\n"
     ]
    },
    {
     "name": "stdout",
     "output_type": "stream",
     "text": [
      "scRNAseq hnscc (5287, 26929) (5201, 26929)\n",
      "(5287, 26929) (5201, 26929)\n"
     ]
    },
    {
     "name": "stderr",
     "output_type": "stream",
     "text": [
      "2021-05-14 10:33:04,083 input dataset shape: (10488, 26929)\n",
      "2021-05-14 10:33:04,085 possible cell types: ['B cell', 'CD4 T cell', 'CD8 T cell', 'Endothelial', 'Erythrocyte', 'Malignant', 'Mast', 'Monocyte', 'NK', 'Plasma', 'Treg']\n",
      "2021-05-14 10:33:04,086 using validation key\n",
      "/home/estorrs/miniconda3/envs/pollock_dev/lib/python3.7/site-packages/anndata/_core/anndata.py:1094: FutureWarning: is_categorical is deprecated and will be removed in a future version.  Use is_categorical_dtype instead\n",
      "  if not is_categorical(df_full[k]):\n",
      "/home/estorrs/miniconda3/envs/pollock_dev/lib/python3.7/site-packages/anndata/_core/anndata.py:1094: FutureWarning: is_categorical is deprecated and will be removed in a future version.  Use is_categorical_dtype instead\n",
      "  if not is_categorical(df_full[k]):\n",
      "/home/estorrs/miniconda3/envs/pollock_dev/lib/python3.7/site-packages/anndata/_core/anndata.py:1094: FutureWarning: is_categorical is deprecated and will be removed in a future version.  Use is_categorical_dtype instead\n",
      "  if not is_categorical(df_full[k]):\n",
      "2021-05-14 10:33:21,976 epoch: 1, train loss: 32.2972412109375, val loss: 19.609146118164062\n",
      "/home/estorrs/miniconda3/envs/pollock_dev/lib/python3.7/site-packages/anndata/_core/anndata.py:1094: FutureWarning: is_categorical is deprecated and will be removed in a future version.  Use is_categorical_dtype instead\n",
      "  if not is_categorical(df_full[k]):\n",
      "/home/estorrs/miniconda3/envs/pollock_dev/lib/python3.7/site-packages/anndata/_core/anndata.py:1094: FutureWarning: is_categorical is deprecated and will be removed in a future version.  Use is_categorical_dtype instead\n",
      "  if not is_categorical(df_full[k]):\n",
      "2021-05-14 10:33:37,648 epoch: 2, train loss: 31.821483612060547, val loss: 19.45030975341797\n",
      "/home/estorrs/miniconda3/envs/pollock_dev/lib/python3.7/site-packages/anndata/_core/anndata.py:1094: FutureWarning: is_categorical is deprecated and will be removed in a future version.  Use is_categorical_dtype instead\n",
      "  if not is_categorical(df_full[k]):\n",
      "/home/estorrs/miniconda3/envs/pollock_dev/lib/python3.7/site-packages/anndata/_core/anndata.py:1094: FutureWarning: is_categorical is deprecated and will be removed in a future version.  Use is_categorical_dtype instead\n",
      "  if not is_categorical(df_full[k]):\n",
      "2021-05-14 10:33:52,881 epoch: 3, train loss: 31.399686813354492, val loss: 19.30805778503418\n",
      "/home/estorrs/miniconda3/envs/pollock_dev/lib/python3.7/site-packages/anndata/_core/anndata.py:1094: FutureWarning: is_categorical is deprecated and will be removed in a future version.  Use is_categorical_dtype instead\n",
      "  if not is_categorical(df_full[k]):\n",
      "/home/estorrs/miniconda3/envs/pollock_dev/lib/python3.7/site-packages/anndata/_core/anndata.py:1094: FutureWarning: is_categorical is deprecated and will be removed in a future version.  Use is_categorical_dtype instead\n",
      "  if not is_categorical(df_full[k]):\n",
      "2021-05-14 10:34:08,089 epoch: 4, train loss: 31.085073471069336, val loss: 19.24856948852539\n",
      "/home/estorrs/miniconda3/envs/pollock_dev/lib/python3.7/site-packages/anndata/_core/anndata.py:1094: FutureWarning: is_categorical is deprecated and will be removed in a future version.  Use is_categorical_dtype instead\n",
      "  if not is_categorical(df_full[k]):\n",
      "/home/estorrs/miniconda3/envs/pollock_dev/lib/python3.7/site-packages/anndata/_core/anndata.py:1094: FutureWarning: is_categorical is deprecated and will be removed in a future version.  Use is_categorical_dtype instead\n",
      "  if not is_categorical(df_full[k]):\n",
      "2021-05-14 10:34:22,906 epoch: 5, train loss: 30.893722534179688, val loss: 19.18320083618164\n",
      "/home/estorrs/miniconda3/envs/pollock_dev/lib/python3.7/site-packages/anndata/_core/anndata.py:1094: FutureWarning: is_categorical is deprecated and will be removed in a future version.  Use is_categorical_dtype instead\n",
      "  if not is_categorical(df_full[k]):\n",
      "/home/estorrs/miniconda3/envs/pollock_dev/lib/python3.7/site-packages/anndata/_core/anndata.py:1094: FutureWarning: is_categorical is deprecated and will be removed in a future version.  Use is_categorical_dtype instead\n",
      "  if not is_categorical(df_full[k]):\n",
      "2021-05-14 10:34:39,317 epoch: 6, train loss: 30.688138961791992, val loss: 19.150592803955078\n",
      "/home/estorrs/miniconda3/envs/pollock_dev/lib/python3.7/site-packages/anndata/_core/anndata.py:1094: FutureWarning: is_categorical is deprecated and will be removed in a future version.  Use is_categorical_dtype instead\n",
      "  if not is_categorical(df_full[k]):\n",
      "/home/estorrs/miniconda3/envs/pollock_dev/lib/python3.7/site-packages/anndata/_core/anndata.py:1094: FutureWarning: is_categorical is deprecated and will be removed in a future version.  Use is_categorical_dtype instead\n",
      "  if not is_categorical(df_full[k]):\n",
      "2021-05-14 10:34:54,715 epoch: 7, train loss: 30.571001052856445, val loss: 19.118947982788086\n",
      "/home/estorrs/miniconda3/envs/pollock_dev/lib/python3.7/site-packages/anndata/_core/anndata.py:1094: FutureWarning: is_categorical is deprecated and will be removed in a future version.  Use is_categorical_dtype instead\n",
      "  if not is_categorical(df_full[k]):\n",
      "/home/estorrs/miniconda3/envs/pollock_dev/lib/python3.7/site-packages/anndata/_core/anndata.py:1094: FutureWarning: is_categorical is deprecated and will be removed in a future version.  Use is_categorical_dtype instead\n",
      "  if not is_categorical(df_full[k]):\n",
      "2021-05-14 10:35:10,323 epoch: 8, train loss: 30.418577194213867, val loss: 19.126014709472656\n",
      "/home/estorrs/miniconda3/envs/pollock_dev/lib/python3.7/site-packages/anndata/_core/anndata.py:1094: FutureWarning: is_categorical is deprecated and will be removed in a future version.  Use is_categorical_dtype instead\n",
      "  if not is_categorical(df_full[k]):\n",
      "/home/estorrs/miniconda3/envs/pollock_dev/lib/python3.7/site-packages/anndata/_core/anndata.py:1094: FutureWarning: is_categorical is deprecated and will be removed in a future version.  Use is_categorical_dtype instead\n",
      "  if not is_categorical(df_full[k]):\n",
      "2021-05-14 10:35:25,634 epoch: 9, train loss: 30.276308059692383, val loss: 19.097105026245117\n",
      "/home/estorrs/miniconda3/envs/pollock_dev/lib/python3.7/site-packages/anndata/_core/anndata.py:1094: FutureWarning: is_categorical is deprecated and will be removed in a future version.  Use is_categorical_dtype instead\n",
      "  if not is_categorical(df_full[k]):\n",
      "/home/estorrs/miniconda3/envs/pollock_dev/lib/python3.7/site-packages/anndata/_core/anndata.py:1094: FutureWarning: is_categorical is deprecated and will be removed in a future version.  Use is_categorical_dtype instead\n",
      "  if not is_categorical(df_full[k]):\n",
      "2021-05-14 10:35:41,464 epoch: 10, train loss: 30.11591911315918, val loss: 19.06794548034668\n",
      "/home/estorrs/miniconda3/envs/pollock_dev/lib/python3.7/site-packages/anndata/_core/anndata.py:1094: FutureWarning: is_categorical is deprecated and will be removed in a future version.  Use is_categorical_dtype instead\n",
      "  if not is_categorical(df_full[k]):\n",
      "/home/estorrs/miniconda3/envs/pollock_dev/lib/python3.7/site-packages/anndata/_core/anndata.py:1094: FutureWarning: is_categorical is deprecated and will be removed in a future version.  Use is_categorical_dtype instead\n",
      "  if not is_categorical(df_full[k]):\n",
      "2021-05-14 10:35:56,911 epoch: 11, train loss: 30.073589324951172, val loss: 19.06222152709961\n",
      "/home/estorrs/miniconda3/envs/pollock_dev/lib/python3.7/site-packages/anndata/_core/anndata.py:1094: FutureWarning: is_categorical is deprecated and will be removed in a future version.  Use is_categorical_dtype instead\n",
      "  if not is_categorical(df_full[k]):\n",
      "/home/estorrs/miniconda3/envs/pollock_dev/lib/python3.7/site-packages/anndata/_core/anndata.py:1094: FutureWarning: is_categorical is deprecated and will be removed in a future version.  Use is_categorical_dtype instead\n",
      "  if not is_categorical(df_full[k]):\n",
      "2021-05-14 10:36:12,452 epoch: 12, train loss: 29.9484806060791, val loss: 19.083572387695312\n",
      "/home/estorrs/miniconda3/envs/pollock_dev/lib/python3.7/site-packages/anndata/_core/anndata.py:1094: FutureWarning: is_categorical is deprecated and will be removed in a future version.  Use is_categorical_dtype instead\n",
      "  if not is_categorical(df_full[k]):\n",
      "/home/estorrs/miniconda3/envs/pollock_dev/lib/python3.7/site-packages/anndata/_core/anndata.py:1094: FutureWarning: is_categorical is deprecated and will be removed in a future version.  Use is_categorical_dtype instead\n",
      "  if not is_categorical(df_full[k]):\n"
     ]
    },
    {
     "name": "stderr",
     "output_type": "stream",
     "text": [
      "2021-05-14 10:36:27,700 epoch: 13, train loss: 29.792301177978516, val loss: 19.066303253173828\n",
      "/home/estorrs/miniconda3/envs/pollock_dev/lib/python3.7/site-packages/anndata/_core/anndata.py:1094: FutureWarning: is_categorical is deprecated and will be removed in a future version.  Use is_categorical_dtype instead\n",
      "  if not is_categorical(df_full[k]):\n",
      "/home/estorrs/miniconda3/envs/pollock_dev/lib/python3.7/site-packages/anndata/_core/anndata.py:1094: FutureWarning: is_categorical is deprecated and will be removed in a future version.  Use is_categorical_dtype instead\n",
      "  if not is_categorical(df_full[k]):\n",
      "2021-05-14 10:36:43,257 epoch: 14, train loss: 29.66650390625, val loss: 19.064800262451172\n",
      "/home/estorrs/miniconda3/envs/pollock_dev/lib/python3.7/site-packages/anndata/_core/anndata.py:1094: FutureWarning: is_categorical is deprecated and will be removed in a future version.  Use is_categorical_dtype instead\n",
      "  if not is_categorical(df_full[k]):\n",
      "/home/estorrs/miniconda3/envs/pollock_dev/lib/python3.7/site-packages/anndata/_core/anndata.py:1094: FutureWarning: is_categorical is deprecated and will be removed in a future version.  Use is_categorical_dtype instead\n",
      "  if not is_categorical(df_full[k]):\n",
      "2021-05-14 10:36:59,174 epoch: 15, train loss: 29.582975387573242, val loss: 19.05150032043457\n"
     ]
    },
    {
     "name": "stdout",
     "output_type": "stream",
     "text": [
      "True\n"
     ]
    },
    {
     "name": "stderr",
     "output_type": "stream",
     "text": [
      "/home/estorrs/miniconda3/envs/pollock_dev/lib/python3.7/site-packages/numpy/lib/format.py:350: UserWarning: metadata on a dtype may be saved or ignored, but will raise if saved when read. Use another form of storage.\n",
      "  d['descr'] = dtype_to_descr(array.dtype)\n",
      "/home/estorrs/miniconda3/envs/pollock_dev/lib/python3.7/site-packages/anndata/_core/anndata.py:1094: FutureWarning: is_categorical is deprecated and will be removed in a future version.  Use is_categorical_dtype instead\n",
      "  if not is_categorical(df_full[k]):\n",
      "2021-05-14 10:37:12,172 0 genes in training set are missing from prediction set\n",
      "2021-05-14 10:37:12,722 starting batch 1 of 3\n",
      "/home/estorrs/miniconda3/envs/pollock_dev/lib/python3.7/site-packages/anndata/_core/anndata.py:1094: FutureWarning: is_categorical is deprecated and will be removed in a future version.  Use is_categorical_dtype instead\n",
      "  if not is_categorical(df_full[k]):\n",
      "2021-05-14 10:37:12,816 0 genes in training set are missing from prediction set\n",
      "2021-05-14 10:37:19,499 starting batch 2 of 3\n",
      "/home/estorrs/miniconda3/envs/pollock_dev/lib/python3.7/site-packages/anndata/_core/anndata.py:1094: FutureWarning: is_categorical is deprecated and will be removed in a future version.  Use is_categorical_dtype instead\n",
      "  if not is_categorical(df_full[k]):\n",
      "2021-05-14 10:37:19,606 0 genes in training set are missing from prediction set\n",
      "2021-05-14 10:37:26,844 starting batch 3 of 3\n",
      "/home/estorrs/miniconda3/envs/pollock_dev/lib/python3.7/site-packages/anndata/_core/anndata.py:1094: FutureWarning: is_categorical is deprecated and will be removed in a future version.  Use is_categorical_dtype instead\n",
      "  if not is_categorical(df_full[k]):\n",
      "2021-05-14 10:37:26,923 0 genes in training set are missing from prediction set\n"
     ]
    },
    {
     "name": "stdout",
     "output_type": "stream",
     "text": [
      "scRNAseq melanoma (4218, 23452) (3517, 23452)\n",
      "(4218, 23452) (3517, 23452)\n"
     ]
    },
    {
     "name": "stderr",
     "output_type": "stream",
     "text": [
      "2021-05-14 10:37:34,242 input dataset shape: (7735, 23452)\n",
      "2021-05-14 10:37:34,244 possible cell types: ['B cell', 'CD4 T cell', 'CD8 T cell', 'Dendritic', 'Fibroblast', 'Malignant', 'Monocyte', 'NK', 'Plasma', 'Treg']\n",
      "2021-05-14 10:37:34,245 using validation key\n",
      "/home/estorrs/miniconda3/envs/pollock_dev/lib/python3.7/site-packages/anndata/_core/anndata.py:1094: FutureWarning: is_categorical is deprecated and will be removed in a future version.  Use is_categorical_dtype instead\n",
      "  if not is_categorical(df_full[k]):\n",
      "/home/estorrs/miniconda3/envs/pollock_dev/lib/python3.7/site-packages/anndata/_core/anndata.py:1094: FutureWarning: is_categorical is deprecated and will be removed in a future version.  Use is_categorical_dtype instead\n",
      "  if not is_categorical(df_full[k]):\n",
      "/home/estorrs/miniconda3/envs/pollock_dev/lib/python3.7/site-packages/anndata/_core/anndata.py:1094: FutureWarning: is_categorical is deprecated and will be removed in a future version.  Use is_categorical_dtype instead\n",
      "  if not is_categorical(df_full[k]):\n",
      "2021-05-14 10:37:46,293 epoch: 1, train loss: 39.10851287841797, val loss: 45.80719757080078\n",
      "/home/estorrs/miniconda3/envs/pollock_dev/lib/python3.7/site-packages/anndata/_core/anndata.py:1094: FutureWarning: is_categorical is deprecated and will be removed in a future version.  Use is_categorical_dtype instead\n",
      "  if not is_categorical(df_full[k]):\n",
      "/home/estorrs/miniconda3/envs/pollock_dev/lib/python3.7/site-packages/anndata/_core/anndata.py:1094: FutureWarning: is_categorical is deprecated and will be removed in a future version.  Use is_categorical_dtype instead\n",
      "  if not is_categorical(df_full[k]):\n",
      "2021-05-14 10:37:57,332 epoch: 2, train loss: 38.10134506225586, val loss: 44.90483856201172\n",
      "/home/estorrs/miniconda3/envs/pollock_dev/lib/python3.7/site-packages/anndata/_core/anndata.py:1094: FutureWarning: is_categorical is deprecated and will be removed in a future version.  Use is_categorical_dtype instead\n",
      "  if not is_categorical(df_full[k]):\n",
      "/home/estorrs/miniconda3/envs/pollock_dev/lib/python3.7/site-packages/anndata/_core/anndata.py:1094: FutureWarning: is_categorical is deprecated and will be removed in a future version.  Use is_categorical_dtype instead\n",
      "  if not is_categorical(df_full[k]):\n",
      "2021-05-14 10:38:08,136 epoch: 3, train loss: 37.66139221191406, val loss: 44.55841064453125\n",
      "/home/estorrs/miniconda3/envs/pollock_dev/lib/python3.7/site-packages/anndata/_core/anndata.py:1094: FutureWarning: is_categorical is deprecated and will be removed in a future version.  Use is_categorical_dtype instead\n",
      "  if not is_categorical(df_full[k]):\n",
      "/home/estorrs/miniconda3/envs/pollock_dev/lib/python3.7/site-packages/anndata/_core/anndata.py:1094: FutureWarning: is_categorical is deprecated and will be removed in a future version.  Use is_categorical_dtype instead\n",
      "  if not is_categorical(df_full[k]):\n",
      "2021-05-14 10:38:18,743 epoch: 4, train loss: 37.322059631347656, val loss: 44.32564926147461\n",
      "/home/estorrs/miniconda3/envs/pollock_dev/lib/python3.7/site-packages/anndata/_core/anndata.py:1094: FutureWarning: is_categorical is deprecated and will be removed in a future version.  Use is_categorical_dtype instead\n",
      "  if not is_categorical(df_full[k]):\n",
      "/home/estorrs/miniconda3/envs/pollock_dev/lib/python3.7/site-packages/anndata/_core/anndata.py:1094: FutureWarning: is_categorical is deprecated and will be removed in a future version.  Use is_categorical_dtype instead\n",
      "  if not is_categorical(df_full[k]):\n",
      "2021-05-14 10:38:29,689 epoch: 5, train loss: 37.0458984375, val loss: 44.17597579956055\n",
      "/home/estorrs/miniconda3/envs/pollock_dev/lib/python3.7/site-packages/anndata/_core/anndata.py:1094: FutureWarning: is_categorical is deprecated and will be removed in a future version.  Use is_categorical_dtype instead\n",
      "  if not is_categorical(df_full[k]):\n",
      "/home/estorrs/miniconda3/envs/pollock_dev/lib/python3.7/site-packages/anndata/_core/anndata.py:1094: FutureWarning: is_categorical is deprecated and will be removed in a future version.  Use is_categorical_dtype instead\n",
      "  if not is_categorical(df_full[k]):\n",
      "2021-05-14 10:38:40,635 epoch: 6, train loss: 36.81747055053711, val loss: 44.093048095703125\n",
      "/home/estorrs/miniconda3/envs/pollock_dev/lib/python3.7/site-packages/anndata/_core/anndata.py:1094: FutureWarning: is_categorical is deprecated and will be removed in a future version.  Use is_categorical_dtype instead\n",
      "  if not is_categorical(df_full[k]):\n",
      "/home/estorrs/miniconda3/envs/pollock_dev/lib/python3.7/site-packages/anndata/_core/anndata.py:1094: FutureWarning: is_categorical is deprecated and will be removed in a future version.  Use is_categorical_dtype instead\n",
      "  if not is_categorical(df_full[k]):\n",
      "2021-05-14 10:38:50,975 epoch: 7, train loss: 36.634521484375, val loss: 44.06867980957031\n",
      "/home/estorrs/miniconda3/envs/pollock_dev/lib/python3.7/site-packages/anndata/_core/anndata.py:1094: FutureWarning: is_categorical is deprecated and will be removed in a future version.  Use is_categorical_dtype instead\n",
      "  if not is_categorical(df_full[k]):\n",
      "/home/estorrs/miniconda3/envs/pollock_dev/lib/python3.7/site-packages/anndata/_core/anndata.py:1094: FutureWarning: is_categorical is deprecated and will be removed in a future version.  Use is_categorical_dtype instead\n",
      "  if not is_categorical(df_full[k]):\n",
      "2021-05-14 10:39:01,908 epoch: 8, train loss: 36.46877670288086, val loss: 44.04093551635742\n",
      "/home/estorrs/miniconda3/envs/pollock_dev/lib/python3.7/site-packages/anndata/_core/anndata.py:1094: FutureWarning: is_categorical is deprecated and will be removed in a future version.  Use is_categorical_dtype instead\n",
      "  if not is_categorical(df_full[k]):\n",
      "/home/estorrs/miniconda3/envs/pollock_dev/lib/python3.7/site-packages/anndata/_core/anndata.py:1094: FutureWarning: is_categorical is deprecated and will be removed in a future version.  Use is_categorical_dtype instead\n",
      "  if not is_categorical(df_full[k]):\n",
      "2021-05-14 10:39:13,148 epoch: 9, train loss: 36.31821060180664, val loss: 44.00355911254883\n",
      "/home/estorrs/miniconda3/envs/pollock_dev/lib/python3.7/site-packages/anndata/_core/anndata.py:1094: FutureWarning: is_categorical is deprecated and will be removed in a future version.  Use is_categorical_dtype instead\n",
      "  if not is_categorical(df_full[k]):\n",
      "/home/estorrs/miniconda3/envs/pollock_dev/lib/python3.7/site-packages/anndata/_core/anndata.py:1094: FutureWarning: is_categorical is deprecated and will be removed in a future version.  Use is_categorical_dtype instead\n",
      "  if not is_categorical(df_full[k]):\n",
      "2021-05-14 10:39:24,148 epoch: 10, train loss: 36.157798767089844, val loss: 44.017276763916016\n",
      "/home/estorrs/miniconda3/envs/pollock_dev/lib/python3.7/site-packages/anndata/_core/anndata.py:1094: FutureWarning: is_categorical is deprecated and will be removed in a future version.  Use is_categorical_dtype instead\n",
      "  if not is_categorical(df_full[k]):\n",
      "/home/estorrs/miniconda3/envs/pollock_dev/lib/python3.7/site-packages/anndata/_core/anndata.py:1094: FutureWarning: is_categorical is deprecated and will be removed in a future version.  Use is_categorical_dtype instead\n",
      "  if not is_categorical(df_full[k]):\n",
      "2021-05-14 10:39:35,156 epoch: 11, train loss: 35.94438171386719, val loss: 43.998992919921875\n",
      "/home/estorrs/miniconda3/envs/pollock_dev/lib/python3.7/site-packages/anndata/_core/anndata.py:1094: FutureWarning: is_categorical is deprecated and will be removed in a future version.  Use is_categorical_dtype instead\n",
      "  if not is_categorical(df_full[k]):\n",
      "/home/estorrs/miniconda3/envs/pollock_dev/lib/python3.7/site-packages/anndata/_core/anndata.py:1094: FutureWarning: is_categorical is deprecated and will be removed in a future version.  Use is_categorical_dtype instead\n",
      "  if not is_categorical(df_full[k]):\n",
      "2021-05-14 10:39:46,148 epoch: 12, train loss: 35.81993865966797, val loss: 43.99829864501953\n",
      "/home/estorrs/miniconda3/envs/pollock_dev/lib/python3.7/site-packages/anndata/_core/anndata.py:1094: FutureWarning: is_categorical is deprecated and will be removed in a future version.  Use is_categorical_dtype instead\n",
      "  if not is_categorical(df_full[k]):\n",
      "/home/estorrs/miniconda3/envs/pollock_dev/lib/python3.7/site-packages/anndata/_core/anndata.py:1094: FutureWarning: is_categorical is deprecated and will be removed in a future version.  Use is_categorical_dtype instead\n",
      "  if not is_categorical(df_full[k]):\n"
     ]
    },
    {
     "name": "stderr",
     "output_type": "stream",
     "text": [
      "2021-05-14 10:39:57,040 epoch: 13, train loss: 35.60994338989258, val loss: 43.981170654296875\n",
      "/home/estorrs/miniconda3/envs/pollock_dev/lib/python3.7/site-packages/anndata/_core/anndata.py:1094: FutureWarning: is_categorical is deprecated and will be removed in a future version.  Use is_categorical_dtype instead\n",
      "  if not is_categorical(df_full[k]):\n",
      "/home/estorrs/miniconda3/envs/pollock_dev/lib/python3.7/site-packages/anndata/_core/anndata.py:1094: FutureWarning: is_categorical is deprecated and will be removed in a future version.  Use is_categorical_dtype instead\n",
      "  if not is_categorical(df_full[k]):\n",
      "2021-05-14 10:40:07,727 epoch: 14, train loss: 35.40237808227539, val loss: 44.05834197998047\n",
      "/home/estorrs/miniconda3/envs/pollock_dev/lib/python3.7/site-packages/anndata/_core/anndata.py:1094: FutureWarning: is_categorical is deprecated and will be removed in a future version.  Use is_categorical_dtype instead\n",
      "  if not is_categorical(df_full[k]):\n",
      "/home/estorrs/miniconda3/envs/pollock_dev/lib/python3.7/site-packages/anndata/_core/anndata.py:1094: FutureWarning: is_categorical is deprecated and will be removed in a future version.  Use is_categorical_dtype instead\n",
      "  if not is_categorical(df_full[k]):\n",
      "2021-05-14 10:40:19,089 epoch: 15, train loss: 35.21580123901367, val loss: 44.0709228515625\n"
     ]
    },
    {
     "name": "stdout",
     "output_type": "stream",
     "text": [
      "True\n"
     ]
    },
    {
     "name": "stderr",
     "output_type": "stream",
     "text": [
      "/home/estorrs/miniconda3/envs/pollock_dev/lib/python3.7/site-packages/numpy/lib/format.py:350: UserWarning: metadata on a dtype may be saved or ignored, but will raise if saved when read. Use another form of storage.\n",
      "  d['descr'] = dtype_to_descr(array.dtype)\n",
      "/home/estorrs/miniconda3/envs/pollock_dev/lib/python3.7/site-packages/anndata/_core/anndata.py:1094: FutureWarning: is_categorical is deprecated and will be removed in a future version.  Use is_categorical_dtype instead\n",
      "  if not is_categorical(df_full[k]):\n",
      "2021-05-14 10:40:27,764 0 genes in training set are missing from prediction set\n",
      "2021-05-14 10:40:28,322 starting batch 1 of 2\n",
      "/home/estorrs/miniconda3/envs/pollock_dev/lib/python3.7/site-packages/anndata/_core/anndata.py:1094: FutureWarning: is_categorical is deprecated and will be removed in a future version.  Use is_categorical_dtype instead\n",
      "  if not is_categorical(df_full[k]):\n",
      "2021-05-14 10:40:28,425 0 genes in training set are missing from prediction set\n",
      "2021-05-14 10:40:33,920 starting batch 2 of 2\n",
      "/home/estorrs/miniconda3/envs/pollock_dev/lib/python3.7/site-packages/anndata/_core/anndata.py:1094: FutureWarning: is_categorical is deprecated and will be removed in a future version.  Use is_categorical_dtype instead\n",
      "  if not is_categorical(df_full[k]):\n",
      "2021-05-14 10:40:34,025 0 genes in training set are missing from prediction set\n"
     ]
    },
    {
     "name": "stdout",
     "output_type": "stream",
     "text": [
      "scRNAseq myeloma (3617, 24020) (3312, 24020)\n",
      "(3617, 24020) (3312, 24020)\n"
     ]
    },
    {
     "name": "stderr",
     "output_type": "stream",
     "text": [
      "2021-05-14 10:40:42,608 input dataset shape: (6929, 24020)\n",
      "2021-05-14 10:40:42,610 possible cell types: ['B cell', 'CD4 T cell', 'CD8 T cell', 'Dendritic', 'Erythrocyte', 'Malignant', 'Mast', 'Monocyte', 'NK', 'Plasma', 'Platlete']\n",
      "2021-05-14 10:40:42,611 using validation key\n",
      "/home/estorrs/miniconda3/envs/pollock_dev/lib/python3.7/site-packages/anndata/_core/anndata.py:1094: FutureWarning: is_categorical is deprecated and will be removed in a future version.  Use is_categorical_dtype instead\n",
      "  if not is_categorical(df_full[k]):\n",
      "/home/estorrs/miniconda3/envs/pollock_dev/lib/python3.7/site-packages/anndata/_core/anndata.py:1094: FutureWarning: is_categorical is deprecated and will be removed in a future version.  Use is_categorical_dtype instead\n",
      "  if not is_categorical(df_full[k]):\n"
     ]
    },
    {
     "name": "stdout",
     "output_type": "stream",
     "text": [
      "WARNING:tensorflow:5 out of the last 19 calls to <function compute_loss at 0x7f1626d9fb00> triggered tf.function retracing. Tracing is expensive and the excessive number of tracings is likely due to passing python objects instead of tensors. Also, tf.function has experimental_relax_shapes=True option that relaxes argument shapes that can avoid unnecessary retracing. Please refer to https://www.tensorflow.org/tutorials/customization/performance#python_or_tensor_args and https://www.tensorflow.org/api_docs/python/tf/function for more details.\n"
     ]
    },
    {
     "name": "stderr",
     "output_type": "stream",
     "text": [
      "2021-05-14 10:40:53,708 5 out of the last 19 calls to <function compute_loss at 0x7f1626d9fb00> triggered tf.function retracing. Tracing is expensive and the excessive number of tracings is likely due to passing python objects instead of tensors. Also, tf.function has experimental_relax_shapes=True option that relaxes argument shapes that can avoid unnecessary retracing. Please refer to https://www.tensorflow.org/tutorials/customization/performance#python_or_tensor_args and https://www.tensorflow.org/api_docs/python/tf/function for more details.\n",
      "/home/estorrs/miniconda3/envs/pollock_dev/lib/python3.7/site-packages/anndata/_core/anndata.py:1094: FutureWarning: is_categorical is deprecated and will be removed in a future version.  Use is_categorical_dtype instead\n",
      "  if not is_categorical(df_full[k]):\n",
      "2021-05-14 10:40:54,606 epoch: 1, train loss: 45.774818420410156, val loss: 34.74489212036133\n",
      "/home/estorrs/miniconda3/envs/pollock_dev/lib/python3.7/site-packages/anndata/_core/anndata.py:1094: FutureWarning: is_categorical is deprecated and will be removed in a future version.  Use is_categorical_dtype instead\n",
      "  if not is_categorical(df_full[k]):\n",
      "/home/estorrs/miniconda3/envs/pollock_dev/lib/python3.7/site-packages/anndata/_core/anndata.py:1094: FutureWarning: is_categorical is deprecated and will be removed in a future version.  Use is_categorical_dtype instead\n",
      "  if not is_categorical(df_full[k]):\n",
      "2021-05-14 10:41:03,898 epoch: 2, train loss: 44.7939453125, val loss: 34.287071228027344\n",
      "/home/estorrs/miniconda3/envs/pollock_dev/lib/python3.7/site-packages/anndata/_core/anndata.py:1094: FutureWarning: is_categorical is deprecated and will be removed in a future version.  Use is_categorical_dtype instead\n",
      "  if not is_categorical(df_full[k]):\n",
      "/home/estorrs/miniconda3/envs/pollock_dev/lib/python3.7/site-packages/anndata/_core/anndata.py:1094: FutureWarning: is_categorical is deprecated and will be removed in a future version.  Use is_categorical_dtype instead\n",
      "  if not is_categorical(df_full[k]):\n",
      "2021-05-14 10:41:13,205 epoch: 3, train loss: 44.3701057434082, val loss: 34.08415985107422\n",
      "/home/estorrs/miniconda3/envs/pollock_dev/lib/python3.7/site-packages/anndata/_core/anndata.py:1094: FutureWarning: is_categorical is deprecated and will be removed in a future version.  Use is_categorical_dtype instead\n",
      "  if not is_categorical(df_full[k]):\n",
      "/home/estorrs/miniconda3/envs/pollock_dev/lib/python3.7/site-packages/anndata/_core/anndata.py:1094: FutureWarning: is_categorical is deprecated and will be removed in a future version.  Use is_categorical_dtype instead\n",
      "  if not is_categorical(df_full[k]):\n",
      "2021-05-14 10:41:23,072 epoch: 4, train loss: 43.870933532714844, val loss: 33.6938362121582\n",
      "/home/estorrs/miniconda3/envs/pollock_dev/lib/python3.7/site-packages/anndata/_core/anndata.py:1094: FutureWarning: is_categorical is deprecated and will be removed in a future version.  Use is_categorical_dtype instead\n",
      "  if not is_categorical(df_full[k]):\n",
      "/home/estorrs/miniconda3/envs/pollock_dev/lib/python3.7/site-packages/anndata/_core/anndata.py:1094: FutureWarning: is_categorical is deprecated and will be removed in a future version.  Use is_categorical_dtype instead\n",
      "  if not is_categorical(df_full[k]):\n",
      "2021-05-14 10:41:32,629 epoch: 5, train loss: 43.72895812988281, val loss: 33.400733947753906\n",
      "/home/estorrs/miniconda3/envs/pollock_dev/lib/python3.7/site-packages/anndata/_core/anndata.py:1094: FutureWarning: is_categorical is deprecated and will be removed in a future version.  Use is_categorical_dtype instead\n",
      "  if not is_categorical(df_full[k]):\n",
      "/home/estorrs/miniconda3/envs/pollock_dev/lib/python3.7/site-packages/anndata/_core/anndata.py:1094: FutureWarning: is_categorical is deprecated and will be removed in a future version.  Use is_categorical_dtype instead\n",
      "  if not is_categorical(df_full[k]):\n",
      "2021-05-14 10:41:42,261 epoch: 6, train loss: 43.39677810668945, val loss: 33.29197311401367\n",
      "/home/estorrs/miniconda3/envs/pollock_dev/lib/python3.7/site-packages/anndata/_core/anndata.py:1094: FutureWarning: is_categorical is deprecated and will be removed in a future version.  Use is_categorical_dtype instead\n",
      "  if not is_categorical(df_full[k]):\n",
      "/home/estorrs/miniconda3/envs/pollock_dev/lib/python3.7/site-packages/anndata/_core/anndata.py:1094: FutureWarning: is_categorical is deprecated and will be removed in a future version.  Use is_categorical_dtype instead\n",
      "  if not is_categorical(df_full[k]):\n",
      "2021-05-14 10:41:51,767 epoch: 7, train loss: 43.185760498046875, val loss: 33.27082061767578\n",
      "/home/estorrs/miniconda3/envs/pollock_dev/lib/python3.7/site-packages/anndata/_core/anndata.py:1094: FutureWarning: is_categorical is deprecated and will be removed in a future version.  Use is_categorical_dtype instead\n",
      "  if not is_categorical(df_full[k]):\n",
      "/home/estorrs/miniconda3/envs/pollock_dev/lib/python3.7/site-packages/anndata/_core/anndata.py:1094: FutureWarning: is_categorical is deprecated and will be removed in a future version.  Use is_categorical_dtype instead\n",
      "  if not is_categorical(df_full[k]):\n",
      "2021-05-14 10:42:01,329 epoch: 8, train loss: 42.9675178527832, val loss: 33.16950225830078\n",
      "/home/estorrs/miniconda3/envs/pollock_dev/lib/python3.7/site-packages/anndata/_core/anndata.py:1094: FutureWarning: is_categorical is deprecated and will be removed in a future version.  Use is_categorical_dtype instead\n",
      "  if not is_categorical(df_full[k]):\n",
      "/home/estorrs/miniconda3/envs/pollock_dev/lib/python3.7/site-packages/anndata/_core/anndata.py:1094: FutureWarning: is_categorical is deprecated and will be removed in a future version.  Use is_categorical_dtype instead\n",
      "  if not is_categorical(df_full[k]):\n",
      "2021-05-14 10:42:10,867 epoch: 9, train loss: 42.7979850769043, val loss: 33.16366958618164\n",
      "/home/estorrs/miniconda3/envs/pollock_dev/lib/python3.7/site-packages/anndata/_core/anndata.py:1094: FutureWarning: is_categorical is deprecated and will be removed in a future version.  Use is_categorical_dtype instead\n",
      "  if not is_categorical(df_full[k]):\n",
      "/home/estorrs/miniconda3/envs/pollock_dev/lib/python3.7/site-packages/anndata/_core/anndata.py:1094: FutureWarning: is_categorical is deprecated and will be removed in a future version.  Use is_categorical_dtype instead\n",
      "  if not is_categorical(df_full[k]):\n",
      "2021-05-14 10:42:20,044 epoch: 10, train loss: 42.61930847167969, val loss: 33.15900421142578\n",
      "/home/estorrs/miniconda3/envs/pollock_dev/lib/python3.7/site-packages/anndata/_core/anndata.py:1094: FutureWarning: is_categorical is deprecated and will be removed in a future version.  Use is_categorical_dtype instead\n",
      "  if not is_categorical(df_full[k]):\n",
      "/home/estorrs/miniconda3/envs/pollock_dev/lib/python3.7/site-packages/anndata/_core/anndata.py:1094: FutureWarning: is_categorical is deprecated and will be removed in a future version.  Use is_categorical_dtype instead\n",
      "  if not is_categorical(df_full[k]):\n",
      "2021-05-14 10:42:29,845 epoch: 11, train loss: 42.46143341064453, val loss: 33.1641845703125\n",
      "/home/estorrs/miniconda3/envs/pollock_dev/lib/python3.7/site-packages/anndata/_core/anndata.py:1094: FutureWarning: is_categorical is deprecated and will be removed in a future version.  Use is_categorical_dtype instead\n",
      "  if not is_categorical(df_full[k]):\n",
      "/home/estorrs/miniconda3/envs/pollock_dev/lib/python3.7/site-packages/anndata/_core/anndata.py:1094: FutureWarning: is_categorical is deprecated and will be removed in a future version.  Use is_categorical_dtype instead\n",
      "  if not is_categorical(df_full[k]):\n",
      "2021-05-14 10:42:39,478 epoch: 12, train loss: 42.269752502441406, val loss: 33.1503791809082\n",
      "/home/estorrs/miniconda3/envs/pollock_dev/lib/python3.7/site-packages/anndata/_core/anndata.py:1094: FutureWarning: is_categorical is deprecated and will be removed in a future version.  Use is_categorical_dtype instead\n",
      "  if not is_categorical(df_full[k]):\n",
      "/home/estorrs/miniconda3/envs/pollock_dev/lib/python3.7/site-packages/anndata/_core/anndata.py:1094: FutureWarning: is_categorical is deprecated and will be removed in a future version.  Use is_categorical_dtype instead\n",
      "  if not is_categorical(df_full[k]):\n",
      "2021-05-14 10:42:49,182 epoch: 13, train loss: 42.18931579589844, val loss: 33.132747650146484\n",
      "/home/estorrs/miniconda3/envs/pollock_dev/lib/python3.7/site-packages/anndata/_core/anndata.py:1094: FutureWarning: is_categorical is deprecated and will be removed in a future version.  Use is_categorical_dtype instead\n",
      "  if not is_categorical(df_full[k]):\n"
     ]
    },
    {
     "name": "stderr",
     "output_type": "stream",
     "text": [
      "/home/estorrs/miniconda3/envs/pollock_dev/lib/python3.7/site-packages/anndata/_core/anndata.py:1094: FutureWarning: is_categorical is deprecated and will be removed in a future version.  Use is_categorical_dtype instead\n",
      "  if not is_categorical(df_full[k]):\n",
      "2021-05-14 10:42:58,801 epoch: 14, train loss: 42.1046028137207, val loss: 33.192962646484375\n",
      "/home/estorrs/miniconda3/envs/pollock_dev/lib/python3.7/site-packages/anndata/_core/anndata.py:1094: FutureWarning: is_categorical is deprecated and will be removed in a future version.  Use is_categorical_dtype instead\n",
      "  if not is_categorical(df_full[k]):\n",
      "/home/estorrs/miniconda3/envs/pollock_dev/lib/python3.7/site-packages/anndata/_core/anndata.py:1094: FutureWarning: is_categorical is deprecated and will be removed in a future version.  Use is_categorical_dtype instead\n",
      "  if not is_categorical(df_full[k]):\n",
      "2021-05-14 10:43:08,376 epoch: 15, train loss: 41.73040008544922, val loss: 33.15297317504883\n"
     ]
    },
    {
     "name": "stdout",
     "output_type": "stream",
     "text": [
      "True\n"
     ]
    },
    {
     "name": "stderr",
     "output_type": "stream",
     "text": [
      "/home/estorrs/miniconda3/envs/pollock_dev/lib/python3.7/site-packages/numpy/lib/format.py:350: UserWarning: metadata on a dtype may be saved or ignored, but will raise if saved when read. Use another form of storage.\n",
      "  d['descr'] = dtype_to_descr(array.dtype)\n",
      "/home/estorrs/miniconda3/envs/pollock_dev/lib/python3.7/site-packages/sklearn/metrics/_classification.py:1221: UndefinedMetricWarning: Precision and F-score are ill-defined and being set to 0.0 in labels with no predicted samples. Use `zero_division` parameter to control this behavior.\n",
      "  _warn_prf(average, modifier, msg_start, len(result))\n",
      "/home/estorrs/miniconda3/envs/pollock_dev/lib/python3.7/site-packages/anndata/_core/anndata.py:1094: FutureWarning: is_categorical is deprecated and will be removed in a future version.  Use is_categorical_dtype instead\n",
      "  if not is_categorical(df_full[k]):\n",
      "2021-05-14 10:43:16,130 0 genes in training set are missing from prediction set\n",
      "2021-05-14 10:43:16,681 starting batch 1 of 2\n",
      "/home/estorrs/miniconda3/envs/pollock_dev/lib/python3.7/site-packages/anndata/_core/anndata.py:1094: FutureWarning: is_categorical is deprecated and will be removed in a future version.  Use is_categorical_dtype instead\n",
      "  if not is_categorical(df_full[k]):\n",
      "2021-05-14 10:43:16,775 0 genes in training set are missing from prediction set\n",
      "2021-05-14 10:43:22,133 starting batch 2 of 2\n",
      "/home/estorrs/miniconda3/envs/pollock_dev/lib/python3.7/site-packages/anndata/_core/anndata.py:1094: FutureWarning: is_categorical is deprecated and will be removed in a future version.  Use is_categorical_dtype instead\n",
      "  if not is_categorical(df_full[k]):\n",
      "2021-05-14 10:43:22,202 0 genes in training set are missing from prediction set\n"
     ]
    },
    {
     "name": "stdout",
     "output_type": "stream",
     "text": [
      "scRNAseq pdac (7940, 28756) (7823, 28756)\n",
      "(7940, 28756) (7823, 28756)\n"
     ]
    },
    {
     "name": "stderr",
     "output_type": "stream",
     "text": [
      "2021-05-14 10:43:43,505 input dataset shape: (15763, 28756)\n",
      "2021-05-14 10:43:43,509 possible cell types: ['Acinar', 'B cell', 'CD4 T cell', 'CD8 T cell', 'Dendritic', 'Endothelial', 'Epithelial', 'Erythrocyte', 'Fibroblast', 'Islet', 'Malignant', 'Mast', 'Monocyte', 'NK', 'Plasma', 'Treg', 'Tuft']\n",
      "2021-05-14 10:43:43,510 using validation key\n",
      "/home/estorrs/miniconda3/envs/pollock_dev/lib/python3.7/site-packages/anndata/_core/anndata.py:1094: FutureWarning: is_categorical is deprecated and will be removed in a future version.  Use is_categorical_dtype instead\n",
      "  if not is_categorical(df_full[k]):\n",
      "/home/estorrs/miniconda3/envs/pollock_dev/lib/python3.7/site-packages/anndata/_core/anndata.py:1094: FutureWarning: is_categorical is deprecated and will be removed in a future version.  Use is_categorical_dtype instead\n",
      "  if not is_categorical(df_full[k]):\n",
      "/home/estorrs/miniconda3/envs/pollock_dev/lib/python3.7/site-packages/anndata/_core/anndata.py:1094: FutureWarning: is_categorical is deprecated and will be removed in a future version.  Use is_categorical_dtype instead\n",
      "  if not is_categorical(df_full[k]):\n",
      "2021-05-14 10:44:12,051 epoch: 1, train loss: 30.97758674621582, val loss: 29.75945281982422\n",
      "/home/estorrs/miniconda3/envs/pollock_dev/lib/python3.7/site-packages/anndata/_core/anndata.py:1094: FutureWarning: is_categorical is deprecated and will be removed in a future version.  Use is_categorical_dtype instead\n",
      "  if not is_categorical(df_full[k]):\n",
      "/home/estorrs/miniconda3/envs/pollock_dev/lib/python3.7/site-packages/anndata/_core/anndata.py:1094: FutureWarning: is_categorical is deprecated and will be removed in a future version.  Use is_categorical_dtype instead\n",
      "  if not is_categorical(df_full[k]):\n",
      "2021-05-14 10:44:35,005 epoch: 2, train loss: 30.46671485900879, val loss: 29.259843826293945\n",
      "/home/estorrs/miniconda3/envs/pollock_dev/lib/python3.7/site-packages/anndata/_core/anndata.py:1094: FutureWarning: is_categorical is deprecated and will be removed in a future version.  Use is_categorical_dtype instead\n",
      "  if not is_categorical(df_full[k]):\n",
      "/home/estorrs/miniconda3/envs/pollock_dev/lib/python3.7/site-packages/anndata/_core/anndata.py:1094: FutureWarning: is_categorical is deprecated and will be removed in a future version.  Use is_categorical_dtype instead\n",
      "  if not is_categorical(df_full[k]):\n",
      "2021-05-14 10:44:59,125 epoch: 3, train loss: 30.063251495361328, val loss: 29.040002822875977\n",
      "/home/estorrs/miniconda3/envs/pollock_dev/lib/python3.7/site-packages/anndata/_core/anndata.py:1094: FutureWarning: is_categorical is deprecated and will be removed in a future version.  Use is_categorical_dtype instead\n",
      "  if not is_categorical(df_full[k]):\n",
      "/home/estorrs/miniconda3/envs/pollock_dev/lib/python3.7/site-packages/anndata/_core/anndata.py:1094: FutureWarning: is_categorical is deprecated and will be removed in a future version.  Use is_categorical_dtype instead\n",
      "  if not is_categorical(df_full[k]):\n",
      "2021-05-14 10:45:23,195 epoch: 4, train loss: 29.72332191467285, val loss: 28.744834899902344\n",
      "/home/estorrs/miniconda3/envs/pollock_dev/lib/python3.7/site-packages/anndata/_core/anndata.py:1094: FutureWarning: is_categorical is deprecated and will be removed in a future version.  Use is_categorical_dtype instead\n",
      "  if not is_categorical(df_full[k]):\n",
      "/home/estorrs/miniconda3/envs/pollock_dev/lib/python3.7/site-packages/anndata/_core/anndata.py:1094: FutureWarning: is_categorical is deprecated and will be removed in a future version.  Use is_categorical_dtype instead\n",
      "  if not is_categorical(df_full[k]):\n",
      "2021-05-14 10:45:46,971 epoch: 5, train loss: 29.609172821044922, val loss: 28.791276931762695\n",
      "/home/estorrs/miniconda3/envs/pollock_dev/lib/python3.7/site-packages/anndata/_core/anndata.py:1094: FutureWarning: is_categorical is deprecated and will be removed in a future version.  Use is_categorical_dtype instead\n",
      "  if not is_categorical(df_full[k]):\n",
      "/home/estorrs/miniconda3/envs/pollock_dev/lib/python3.7/site-packages/anndata/_core/anndata.py:1094: FutureWarning: is_categorical is deprecated and will be removed in a future version.  Use is_categorical_dtype instead\n",
      "  if not is_categorical(df_full[k]):\n",
      "2021-05-14 10:46:11,602 epoch: 6, train loss: 29.298404693603516, val loss: 28.45604133605957\n",
      "/home/estorrs/miniconda3/envs/pollock_dev/lib/python3.7/site-packages/anndata/_core/anndata.py:1094: FutureWarning: is_categorical is deprecated and will be removed in a future version.  Use is_categorical_dtype instead\n",
      "  if not is_categorical(df_full[k]):\n",
      "/home/estorrs/miniconda3/envs/pollock_dev/lib/python3.7/site-packages/anndata/_core/anndata.py:1094: FutureWarning: is_categorical is deprecated and will be removed in a future version.  Use is_categorical_dtype instead\n",
      "  if not is_categorical(df_full[k]):\n",
      "2021-05-14 10:46:35,944 epoch: 7, train loss: 29.165842056274414, val loss: 28.364612579345703\n",
      "/home/estorrs/miniconda3/envs/pollock_dev/lib/python3.7/site-packages/anndata/_core/anndata.py:1094: FutureWarning: is_categorical is deprecated and will be removed in a future version.  Use is_categorical_dtype instead\n",
      "  if not is_categorical(df_full[k]):\n",
      "/home/estorrs/miniconda3/envs/pollock_dev/lib/python3.7/site-packages/anndata/_core/anndata.py:1094: FutureWarning: is_categorical is deprecated and will be removed in a future version.  Use is_categorical_dtype instead\n",
      "  if not is_categorical(df_full[k]):\n",
      "2021-05-14 10:47:00,118 epoch: 8, train loss: 29.03487777709961, val loss: 28.288875579833984\n",
      "/home/estorrs/miniconda3/envs/pollock_dev/lib/python3.7/site-packages/anndata/_core/anndata.py:1094: FutureWarning: is_categorical is deprecated and will be removed in a future version.  Use is_categorical_dtype instead\n",
      "  if not is_categorical(df_full[k]):\n",
      "/home/estorrs/miniconda3/envs/pollock_dev/lib/python3.7/site-packages/anndata/_core/anndata.py:1094: FutureWarning: is_categorical is deprecated and will be removed in a future version.  Use is_categorical_dtype instead\n",
      "  if not is_categorical(df_full[k]):\n",
      "2021-05-14 10:47:25,231 epoch: 9, train loss: 28.928171157836914, val loss: 28.256826400756836\n",
      "/home/estorrs/miniconda3/envs/pollock_dev/lib/python3.7/site-packages/anndata/_core/anndata.py:1094: FutureWarning: is_categorical is deprecated and will be removed in a future version.  Use is_categorical_dtype instead\n",
      "  if not is_categorical(df_full[k]):\n",
      "/home/estorrs/miniconda3/envs/pollock_dev/lib/python3.7/site-packages/anndata/_core/anndata.py:1094: FutureWarning: is_categorical is deprecated and will be removed in a future version.  Use is_categorical_dtype instead\n",
      "  if not is_categorical(df_full[k]):\n",
      "2021-05-14 10:47:49,726 epoch: 10, train loss: 28.751928329467773, val loss: 28.235076904296875\n",
      "/home/estorrs/miniconda3/envs/pollock_dev/lib/python3.7/site-packages/anndata/_core/anndata.py:1094: FutureWarning: is_categorical is deprecated and will be removed in a future version.  Use is_categorical_dtype instead\n",
      "  if not is_categorical(df_full[k]):\n",
      "/home/estorrs/miniconda3/envs/pollock_dev/lib/python3.7/site-packages/anndata/_core/anndata.py:1094: FutureWarning: is_categorical is deprecated and will be removed in a future version.  Use is_categorical_dtype instead\n",
      "  if not is_categorical(df_full[k]):\n",
      "2021-05-14 10:48:14,430 epoch: 11, train loss: 28.657968521118164, val loss: 28.231142044067383\n",
      "/home/estorrs/miniconda3/envs/pollock_dev/lib/python3.7/site-packages/anndata/_core/anndata.py:1094: FutureWarning: is_categorical is deprecated and will be removed in a future version.  Use is_categorical_dtype instead\n",
      "  if not is_categorical(df_full[k]):\n",
      "/home/estorrs/miniconda3/envs/pollock_dev/lib/python3.7/site-packages/anndata/_core/anndata.py:1094: FutureWarning: is_categorical is deprecated and will be removed in a future version.  Use is_categorical_dtype instead\n",
      "  if not is_categorical(df_full[k]):\n",
      "2021-05-14 10:48:39,364 epoch: 12, train loss: 28.7273006439209, val loss: 28.18446922302246\n",
      "/home/estorrs/miniconda3/envs/pollock_dev/lib/python3.7/site-packages/anndata/_core/anndata.py:1094: FutureWarning: is_categorical is deprecated and will be removed in a future version.  Use is_categorical_dtype instead\n",
      "  if not is_categorical(df_full[k]):\n",
      "/home/estorrs/miniconda3/envs/pollock_dev/lib/python3.7/site-packages/anndata/_core/anndata.py:1094: FutureWarning: is_categorical is deprecated and will be removed in a future version.  Use is_categorical_dtype instead\n",
      "  if not is_categorical(df_full[k]):\n"
     ]
    },
    {
     "name": "stderr",
     "output_type": "stream",
     "text": [
      "2021-05-14 10:49:04,302 epoch: 13, train loss: 28.645261764526367, val loss: 28.169137954711914\n",
      "/home/estorrs/miniconda3/envs/pollock_dev/lib/python3.7/site-packages/anndata/_core/anndata.py:1094: FutureWarning: is_categorical is deprecated and will be removed in a future version.  Use is_categorical_dtype instead\n",
      "  if not is_categorical(df_full[k]):\n",
      "/home/estorrs/miniconda3/envs/pollock_dev/lib/python3.7/site-packages/anndata/_core/anndata.py:1094: FutureWarning: is_categorical is deprecated and will be removed in a future version.  Use is_categorical_dtype instead\n",
      "  if not is_categorical(df_full[k]):\n",
      "2021-05-14 10:49:29,703 epoch: 14, train loss: 28.462318420410156, val loss: 28.198009490966797\n",
      "/home/estorrs/miniconda3/envs/pollock_dev/lib/python3.7/site-packages/anndata/_core/anndata.py:1094: FutureWarning: is_categorical is deprecated and will be removed in a future version.  Use is_categorical_dtype instead\n",
      "  if not is_categorical(df_full[k]):\n",
      "/home/estorrs/miniconda3/envs/pollock_dev/lib/python3.7/site-packages/anndata/_core/anndata.py:1094: FutureWarning: is_categorical is deprecated and will be removed in a future version.  Use is_categorical_dtype instead\n",
      "  if not is_categorical(df_full[k]):\n",
      "2021-05-14 10:49:54,603 epoch: 15, train loss: 28.35052490234375, val loss: 28.189624786376953\n"
     ]
    },
    {
     "name": "stdout",
     "output_type": "stream",
     "text": [
      "True\n"
     ]
    },
    {
     "name": "stderr",
     "output_type": "stream",
     "text": [
      "/home/estorrs/miniconda3/envs/pollock_dev/lib/python3.7/site-packages/numpy/lib/format.py:350: UserWarning: metadata on a dtype may be saved or ignored, but will raise if saved when read. Use another form of storage.\n",
      "  d['descr'] = dtype_to_descr(array.dtype)\n",
      "/home/estorrs/miniconda3/envs/pollock_dev/lib/python3.7/site-packages/anndata/_core/anndata.py:1094: FutureWarning: is_categorical is deprecated and will be removed in a future version.  Use is_categorical_dtype instead\n",
      "  if not is_categorical(df_full[k]):\n",
      "2021-05-14 10:50:14,262 0 genes in training set are missing from prediction set\n",
      "2021-05-14 10:50:14,618 starting batch 1 of 4\n",
      "/home/estorrs/miniconda3/envs/pollock_dev/lib/python3.7/site-packages/anndata/_core/anndata.py:1094: FutureWarning: is_categorical is deprecated and will be removed in a future version.  Use is_categorical_dtype instead\n",
      "  if not is_categorical(df_full[k]):\n",
      "2021-05-14 10:50:14,761 0 genes in training set are missing from prediction set\n",
      "2021-05-14 10:50:23,243 starting batch 2 of 4\n",
      "/home/estorrs/miniconda3/envs/pollock_dev/lib/python3.7/site-packages/anndata/_core/anndata.py:1094: FutureWarning: is_categorical is deprecated and will be removed in a future version.  Use is_categorical_dtype instead\n",
      "  if not is_categorical(df_full[k]):\n",
      "2021-05-14 10:50:23,398 0 genes in training set are missing from prediction set\n",
      "2021-05-14 10:50:30,902 starting batch 3 of 4\n",
      "/home/estorrs/miniconda3/envs/pollock_dev/lib/python3.7/site-packages/anndata/_core/anndata.py:1094: FutureWarning: is_categorical is deprecated and will be removed in a future version.  Use is_categorical_dtype instead\n",
      "  if not is_categorical(df_full[k]):\n",
      "2021-05-14 10:50:31,081 0 genes in training set are missing from prediction set\n",
      "2021-05-14 10:50:38,624 starting batch 4 of 4\n",
      "/home/estorrs/miniconda3/envs/pollock_dev/lib/python3.7/site-packages/anndata/_core/anndata.py:1094: FutureWarning: is_categorical is deprecated and will be removed in a future version.  Use is_categorical_dtype instead\n",
      "  if not is_categorical(df_full[k]):\n",
      "2021-05-14 10:50:38,766 0 genes in training set are missing from prediction set\n"
     ]
    },
    {
     "name": "stdout",
     "output_type": "stream",
     "text": [
      "snATACseq brca_gene_activity (3576, 19891) (3519, 19891)\n",
      "(3576, 19891) (3519, 19891)\n"
     ]
    },
    {
     "name": "stderr",
     "output_type": "stream",
     "text": [
      "2021-05-14 10:50:45,845 input dataset shape: (7095, 19891)\n",
      "2021-05-14 10:50:45,847 possible cell types: ['B cell', 'Dendritic', 'Endothelial', 'Fibroblast', 'Malignant', 'Mast', 'Monocyte', 'T cells']\n",
      "2021-05-14 10:50:45,847 using validation key\n",
      "/home/estorrs/miniconda3/envs/pollock_dev/lib/python3.7/site-packages/anndata/_core/anndata.py:1094: FutureWarning: is_categorical is deprecated and will be removed in a future version.  Use is_categorical_dtype instead\n",
      "  if not is_categorical(df_full[k]):\n",
      "/home/estorrs/miniconda3/envs/pollock_dev/lib/python3.7/site-packages/anndata/_core/anndata.py:1094: FutureWarning: is_categorical is deprecated and will be removed in a future version.  Use is_categorical_dtype instead\n",
      "  if not is_categorical(df_full[k]):\n",
      "/home/estorrs/miniconda3/envs/pollock_dev/lib/python3.7/site-packages/anndata/_core/anndata.py:1094: FutureWarning: is_categorical is deprecated and will be removed in a future version.  Use is_categorical_dtype instead\n",
      "  if not is_categorical(df_full[k]):\n",
      "2021-05-14 10:50:56,460 epoch: 1, train loss: 47.29044723510742, val loss: 64.82695770263672\n",
      "/home/estorrs/miniconda3/envs/pollock_dev/lib/python3.7/site-packages/anndata/_core/anndata.py:1094: FutureWarning: is_categorical is deprecated and will be removed in a future version.  Use is_categorical_dtype instead\n",
      "  if not is_categorical(df_full[k]):\n",
      "/home/estorrs/miniconda3/envs/pollock_dev/lib/python3.7/site-packages/anndata/_core/anndata.py:1094: FutureWarning: is_categorical is deprecated and will be removed in a future version.  Use is_categorical_dtype instead\n",
      "  if not is_categorical(df_full[k]):\n",
      "2021-05-14 10:51:04,936 epoch: 2, train loss: 46.715457916259766, val loss: 64.0495834350586\n",
      "/home/estorrs/miniconda3/envs/pollock_dev/lib/python3.7/site-packages/anndata/_core/anndata.py:1094: FutureWarning: is_categorical is deprecated and will be removed in a future version.  Use is_categorical_dtype instead\n",
      "  if not is_categorical(df_full[k]):\n",
      "/home/estorrs/miniconda3/envs/pollock_dev/lib/python3.7/site-packages/anndata/_core/anndata.py:1094: FutureWarning: is_categorical is deprecated and will be removed in a future version.  Use is_categorical_dtype instead\n",
      "  if not is_categorical(df_full[k]):\n",
      "2021-05-14 10:51:13,137 epoch: 3, train loss: 46.1207275390625, val loss: 63.44219970703125\n",
      "/home/estorrs/miniconda3/envs/pollock_dev/lib/python3.7/site-packages/anndata/_core/anndata.py:1094: FutureWarning: is_categorical is deprecated and will be removed in a future version.  Use is_categorical_dtype instead\n",
      "  if not is_categorical(df_full[k]):\n",
      "/home/estorrs/miniconda3/envs/pollock_dev/lib/python3.7/site-packages/anndata/_core/anndata.py:1094: FutureWarning: is_categorical is deprecated and will be removed in a future version.  Use is_categorical_dtype instead\n",
      "  if not is_categorical(df_full[k]):\n",
      "2021-05-14 10:51:21,163 epoch: 4, train loss: 46.18802261352539, val loss: 63.899112701416016\n",
      "/home/estorrs/miniconda3/envs/pollock_dev/lib/python3.7/site-packages/anndata/_core/anndata.py:1094: FutureWarning: is_categorical is deprecated and will be removed in a future version.  Use is_categorical_dtype instead\n",
      "  if not is_categorical(df_full[k]):\n",
      "/home/estorrs/miniconda3/envs/pollock_dev/lib/python3.7/site-packages/anndata/_core/anndata.py:1094: FutureWarning: is_categorical is deprecated and will be removed in a future version.  Use is_categorical_dtype instead\n",
      "  if not is_categorical(df_full[k]):\n",
      "2021-05-14 10:51:29,376 epoch: 5, train loss: 45.745487213134766, val loss: 63.21783447265625\n",
      "/home/estorrs/miniconda3/envs/pollock_dev/lib/python3.7/site-packages/anndata/_core/anndata.py:1094: FutureWarning: is_categorical is deprecated and will be removed in a future version.  Use is_categorical_dtype instead\n",
      "  if not is_categorical(df_full[k]):\n",
      "/home/estorrs/miniconda3/envs/pollock_dev/lib/python3.7/site-packages/anndata/_core/anndata.py:1094: FutureWarning: is_categorical is deprecated and will be removed in a future version.  Use is_categorical_dtype instead\n",
      "  if not is_categorical(df_full[k]):\n",
      "2021-05-14 10:51:37,700 epoch: 6, train loss: 45.629608154296875, val loss: 63.189491271972656\n",
      "/home/estorrs/miniconda3/envs/pollock_dev/lib/python3.7/site-packages/anndata/_core/anndata.py:1094: FutureWarning: is_categorical is deprecated and will be removed in a future version.  Use is_categorical_dtype instead\n",
      "  if not is_categorical(df_full[k]):\n",
      "/home/estorrs/miniconda3/envs/pollock_dev/lib/python3.7/site-packages/anndata/_core/anndata.py:1094: FutureWarning: is_categorical is deprecated and will be removed in a future version.  Use is_categorical_dtype instead\n",
      "  if not is_categorical(df_full[k]):\n",
      "2021-05-14 10:51:46,182 epoch: 7, train loss: 45.413543701171875, val loss: 63.240516662597656\n",
      "/home/estorrs/miniconda3/envs/pollock_dev/lib/python3.7/site-packages/anndata/_core/anndata.py:1094: FutureWarning: is_categorical is deprecated and will be removed in a future version.  Use is_categorical_dtype instead\n",
      "  if not is_categorical(df_full[k]):\n",
      "/home/estorrs/miniconda3/envs/pollock_dev/lib/python3.7/site-packages/anndata/_core/anndata.py:1094: FutureWarning: is_categorical is deprecated and will be removed in a future version.  Use is_categorical_dtype instead\n",
      "  if not is_categorical(df_full[k]):\n",
      "2021-05-14 10:51:54,433 epoch: 8, train loss: 45.48553466796875, val loss: 63.28600311279297\n",
      "/home/estorrs/miniconda3/envs/pollock_dev/lib/python3.7/site-packages/anndata/_core/anndata.py:1094: FutureWarning: is_categorical is deprecated and will be removed in a future version.  Use is_categorical_dtype instead\n",
      "  if not is_categorical(df_full[k]):\n",
      "/home/estorrs/miniconda3/envs/pollock_dev/lib/python3.7/site-packages/anndata/_core/anndata.py:1094: FutureWarning: is_categorical is deprecated and will be removed in a future version.  Use is_categorical_dtype instead\n",
      "  if not is_categorical(df_full[k]):\n",
      "2021-05-14 10:52:02,816 epoch: 9, train loss: 45.07345199584961, val loss: 62.89570617675781\n",
      "/home/estorrs/miniconda3/envs/pollock_dev/lib/python3.7/site-packages/anndata/_core/anndata.py:1094: FutureWarning: is_categorical is deprecated and will be removed in a future version.  Use is_categorical_dtype instead\n",
      "  if not is_categorical(df_full[k]):\n",
      "/home/estorrs/miniconda3/envs/pollock_dev/lib/python3.7/site-packages/anndata/_core/anndata.py:1094: FutureWarning: is_categorical is deprecated and will be removed in a future version.  Use is_categorical_dtype instead\n",
      "  if not is_categorical(df_full[k]):\n",
      "2021-05-14 10:52:11,126 epoch: 10, train loss: 45.232303619384766, val loss: 62.9873046875\n",
      "/home/estorrs/miniconda3/envs/pollock_dev/lib/python3.7/site-packages/anndata/_core/anndata.py:1094: FutureWarning: is_categorical is deprecated and will be removed in a future version.  Use is_categorical_dtype instead\n",
      "  if not is_categorical(df_full[k]):\n",
      "/home/estorrs/miniconda3/envs/pollock_dev/lib/python3.7/site-packages/anndata/_core/anndata.py:1094: FutureWarning: is_categorical is deprecated and will be removed in a future version.  Use is_categorical_dtype instead\n",
      "  if not is_categorical(df_full[k]):\n",
      "2021-05-14 10:52:19,282 epoch: 11, train loss: 45.076839447021484, val loss: 63.159942626953125\n",
      "/home/estorrs/miniconda3/envs/pollock_dev/lib/python3.7/site-packages/anndata/_core/anndata.py:1094: FutureWarning: is_categorical is deprecated and will be removed in a future version.  Use is_categorical_dtype instead\n",
      "  if not is_categorical(df_full[k]):\n",
      "/home/estorrs/miniconda3/envs/pollock_dev/lib/python3.7/site-packages/anndata/_core/anndata.py:1094: FutureWarning: is_categorical is deprecated and will be removed in a future version.  Use is_categorical_dtype instead\n",
      "  if not is_categorical(df_full[k]):\n",
      "2021-05-14 10:52:27,281 epoch: 12, train loss: 44.8241081237793, val loss: 63.123146057128906\n",
      "/home/estorrs/miniconda3/envs/pollock_dev/lib/python3.7/site-packages/anndata/_core/anndata.py:1094: FutureWarning: is_categorical is deprecated and will be removed in a future version.  Use is_categorical_dtype instead\n",
      "  if not is_categorical(df_full[k]):\n",
      "/home/estorrs/miniconda3/envs/pollock_dev/lib/python3.7/site-packages/anndata/_core/anndata.py:1094: FutureWarning: is_categorical is deprecated and will be removed in a future version.  Use is_categorical_dtype instead\n",
      "  if not is_categorical(df_full[k]):\n",
      "2021-05-14 10:52:35,962 epoch: 13, train loss: 44.4762077331543, val loss: 62.96860885620117\n"
     ]
    },
    {
     "name": "stderr",
     "output_type": "stream",
     "text": [
      "/home/estorrs/miniconda3/envs/pollock_dev/lib/python3.7/site-packages/anndata/_core/anndata.py:1094: FutureWarning: is_categorical is deprecated and will be removed in a future version.  Use is_categorical_dtype instead\n",
      "  if not is_categorical(df_full[k]):\n",
      "/home/estorrs/miniconda3/envs/pollock_dev/lib/python3.7/site-packages/anndata/_core/anndata.py:1094: FutureWarning: is_categorical is deprecated and will be removed in a future version.  Use is_categorical_dtype instead\n",
      "  if not is_categorical(df_full[k]):\n",
      "2021-05-14 10:52:44,270 epoch: 14, train loss: 44.623104095458984, val loss: 63.3206787109375\n",
      "/home/estorrs/miniconda3/envs/pollock_dev/lib/python3.7/site-packages/anndata/_core/anndata.py:1094: FutureWarning: is_categorical is deprecated and will be removed in a future version.  Use is_categorical_dtype instead\n",
      "  if not is_categorical(df_full[k]):\n",
      "/home/estorrs/miniconda3/envs/pollock_dev/lib/python3.7/site-packages/anndata/_core/anndata.py:1094: FutureWarning: is_categorical is deprecated and will be removed in a future version.  Use is_categorical_dtype instead\n",
      "  if not is_categorical(df_full[k]):\n",
      "2021-05-14 10:52:52,588 epoch: 15, train loss: 44.274131774902344, val loss: 63.26984405517578\n"
     ]
    },
    {
     "name": "stdout",
     "output_type": "stream",
     "text": [
      "True\n"
     ]
    },
    {
     "name": "stderr",
     "output_type": "stream",
     "text": [
      "/home/estorrs/miniconda3/envs/pollock_dev/lib/python3.7/site-packages/numpy/lib/format.py:350: UserWarning: metadata on a dtype may be saved or ignored, but will raise if saved when read. Use another form of storage.\n",
      "  d['descr'] = dtype_to_descr(array.dtype)\n",
      "/home/estorrs/miniconda3/envs/pollock_dev/lib/python3.7/site-packages/anndata/_core/anndata.py:1094: FutureWarning: is_categorical is deprecated and will be removed in a future version.  Use is_categorical_dtype instead\n",
      "  if not is_categorical(df_full[k]):\n",
      "2021-05-14 10:52:59,638 0 genes in training set are missing from prediction set\n",
      "2021-05-14 10:53:00,051 starting batch 1 of 2\n",
      "/home/estorrs/miniconda3/envs/pollock_dev/lib/python3.7/site-packages/anndata/_core/anndata.py:1094: FutureWarning: is_categorical is deprecated and will be removed in a future version.  Use is_categorical_dtype instead\n",
      "  if not is_categorical(df_full[k]):\n",
      "2021-05-14 10:53:00,236 0 genes in training set are missing from prediction set\n",
      "2021-05-14 10:53:11,447 starting batch 2 of 2\n",
      "/home/estorrs/miniconda3/envs/pollock_dev/lib/python3.7/site-packages/anndata/_core/anndata.py:1094: FutureWarning: is_categorical is deprecated and will be removed in a future version.  Use is_categorical_dtype instead\n",
      "  if not is_categorical(df_full[k]):\n",
      "2021-05-14 10:53:11,548 0 genes in training set are missing from prediction set\n",
      "2021-05-14 10:53:16,032 input dataset shape: (7095, 633)\n",
      "2021-05-14 10:53:16,034 possible cell types: ['B cell', 'Dendritic', 'Endothelial', 'Fibroblast', 'Malignant', 'Mast', 'Monocyte', 'T cells']\n",
      "2021-05-14 10:53:16,035 using validation key\n"
     ]
    },
    {
     "name": "stdout",
     "output_type": "stream",
     "text": [
      "snATACseq brca_motif (3576, 633) (3519, 633)\n",
      "(3576, 633) (3519, 633)\n"
     ]
    },
    {
     "name": "stderr",
     "output_type": "stream",
     "text": [
      "/home/estorrs/miniconda3/envs/pollock_dev/lib/python3.7/site-packages/anndata/_core/anndata.py:1094: FutureWarning: is_categorical is deprecated and will be removed in a future version.  Use is_categorical_dtype instead\n",
      "  if not is_categorical(df_full[k]):\n",
      "/home/estorrs/miniconda3/envs/pollock_dev/lib/python3.7/site-packages/anndata/_core/anndata.py:1094: FutureWarning: is_categorical is deprecated and will be removed in a future version.  Use is_categorical_dtype instead\n",
      "  if not is_categorical(df_full[k]):\n",
      "/home/estorrs/miniconda3/envs/pollock_dev/lib/python3.7/site-packages/anndata/_core/anndata.py:1094: FutureWarning: is_categorical is deprecated and will be removed in a future version.  Use is_categorical_dtype instead\n",
      "  if not is_categorical(df_full[k]):\n",
      "2021-05-14 10:53:18,788 epoch: 1, train loss: 7.961370944976807, val loss: 8.081696510314941\n",
      "/home/estorrs/miniconda3/envs/pollock_dev/lib/python3.7/site-packages/anndata/_core/anndata.py:1094: FutureWarning: is_categorical is deprecated and will be removed in a future version.  Use is_categorical_dtype instead\n",
      "  if not is_categorical(df_full[k]):\n",
      "/home/estorrs/miniconda3/envs/pollock_dev/lib/python3.7/site-packages/anndata/_core/anndata.py:1094: FutureWarning: is_categorical is deprecated and will be removed in a future version.  Use is_categorical_dtype instead\n",
      "  if not is_categorical(df_full[k]):\n",
      "2021-05-14 10:53:20,609 epoch: 2, train loss: 7.121569633483887, val loss: 7.179506301879883\n",
      "/home/estorrs/miniconda3/envs/pollock_dev/lib/python3.7/site-packages/anndata/_core/anndata.py:1094: FutureWarning: is_categorical is deprecated and will be removed in a future version.  Use is_categorical_dtype instead\n",
      "  if not is_categorical(df_full[k]):\n",
      "/home/estorrs/miniconda3/envs/pollock_dev/lib/python3.7/site-packages/anndata/_core/anndata.py:1094: FutureWarning: is_categorical is deprecated and will be removed in a future version.  Use is_categorical_dtype instead\n",
      "  if not is_categorical(df_full[k]):\n",
      "2021-05-14 10:53:22,406 epoch: 3, train loss: 6.509657382965088, val loss: 6.606589317321777\n",
      "/home/estorrs/miniconda3/envs/pollock_dev/lib/python3.7/site-packages/anndata/_core/anndata.py:1094: FutureWarning: is_categorical is deprecated and will be removed in a future version.  Use is_categorical_dtype instead\n",
      "  if not is_categorical(df_full[k]):\n",
      "/home/estorrs/miniconda3/envs/pollock_dev/lib/python3.7/site-packages/anndata/_core/anndata.py:1094: FutureWarning: is_categorical is deprecated and will be removed in a future version.  Use is_categorical_dtype instead\n",
      "  if not is_categorical(df_full[k]):\n",
      "2021-05-14 10:53:24,213 epoch: 4, train loss: 6.087996482849121, val loss: 6.209468841552734\n",
      "/home/estorrs/miniconda3/envs/pollock_dev/lib/python3.7/site-packages/anndata/_core/anndata.py:1094: FutureWarning: is_categorical is deprecated and will be removed in a future version.  Use is_categorical_dtype instead\n",
      "  if not is_categorical(df_full[k]):\n",
      "/home/estorrs/miniconda3/envs/pollock_dev/lib/python3.7/site-packages/anndata/_core/anndata.py:1094: FutureWarning: is_categorical is deprecated and will be removed in a future version.  Use is_categorical_dtype instead\n",
      "  if not is_categorical(df_full[k]):\n",
      "2021-05-14 10:53:25,969 epoch: 5, train loss: 5.818121433258057, val loss: 5.972517967224121\n",
      "/home/estorrs/miniconda3/envs/pollock_dev/lib/python3.7/site-packages/anndata/_core/anndata.py:1094: FutureWarning: is_categorical is deprecated and will be removed in a future version.  Use is_categorical_dtype instead\n",
      "  if not is_categorical(df_full[k]):\n",
      "/home/estorrs/miniconda3/envs/pollock_dev/lib/python3.7/site-packages/anndata/_core/anndata.py:1094: FutureWarning: is_categorical is deprecated and will be removed in a future version.  Use is_categorical_dtype instead\n",
      "  if not is_categorical(df_full[k]):\n",
      "2021-05-14 10:53:27,687 epoch: 6, train loss: 5.611422061920166, val loss: 5.780916690826416\n",
      "/home/estorrs/miniconda3/envs/pollock_dev/lib/python3.7/site-packages/anndata/_core/anndata.py:1094: FutureWarning: is_categorical is deprecated and will be removed in a future version.  Use is_categorical_dtype instead\n",
      "  if not is_categorical(df_full[k]):\n",
      "/home/estorrs/miniconda3/envs/pollock_dev/lib/python3.7/site-packages/anndata/_core/anndata.py:1094: FutureWarning: is_categorical is deprecated and will be removed in a future version.  Use is_categorical_dtype instead\n",
      "  if not is_categorical(df_full[k]):\n",
      "2021-05-14 10:53:29,407 epoch: 7, train loss: 5.447385311126709, val loss: 5.656011581420898\n",
      "/home/estorrs/miniconda3/envs/pollock_dev/lib/python3.7/site-packages/anndata/_core/anndata.py:1094: FutureWarning: is_categorical is deprecated and will be removed in a future version.  Use is_categorical_dtype instead\n",
      "  if not is_categorical(df_full[k]):\n",
      "/home/estorrs/miniconda3/envs/pollock_dev/lib/python3.7/site-packages/anndata/_core/anndata.py:1094: FutureWarning: is_categorical is deprecated and will be removed in a future version.  Use is_categorical_dtype instead\n",
      "  if not is_categorical(df_full[k]):\n",
      "2021-05-14 10:53:31,120 epoch: 8, train loss: 5.311520576477051, val loss: 5.5537614822387695\n",
      "/home/estorrs/miniconda3/envs/pollock_dev/lib/python3.7/site-packages/anndata/_core/anndata.py:1094: FutureWarning: is_categorical is deprecated and will be removed in a future version.  Use is_categorical_dtype instead\n",
      "  if not is_categorical(df_full[k]):\n",
      "/home/estorrs/miniconda3/envs/pollock_dev/lib/python3.7/site-packages/anndata/_core/anndata.py:1094: FutureWarning: is_categorical is deprecated and will be removed in a future version.  Use is_categorical_dtype instead\n",
      "  if not is_categorical(df_full[k]):\n",
      "2021-05-14 10:53:32,835 epoch: 9, train loss: 5.208215236663818, val loss: 5.482501983642578\n",
      "/home/estorrs/miniconda3/envs/pollock_dev/lib/python3.7/site-packages/anndata/_core/anndata.py:1094: FutureWarning: is_categorical is deprecated and will be removed in a future version.  Use is_categorical_dtype instead\n",
      "  if not is_categorical(df_full[k]):\n",
      "/home/estorrs/miniconda3/envs/pollock_dev/lib/python3.7/site-packages/anndata/_core/anndata.py:1094: FutureWarning: is_categorical is deprecated and will be removed in a future version.  Use is_categorical_dtype instead\n",
      "  if not is_categorical(df_full[k]):\n",
      "2021-05-14 10:53:34,556 epoch: 10, train loss: 5.1130266189575195, val loss: 5.408107757568359\n",
      "/home/estorrs/miniconda3/envs/pollock_dev/lib/python3.7/site-packages/anndata/_core/anndata.py:1094: FutureWarning: is_categorical is deprecated and will be removed in a future version.  Use is_categorical_dtype instead\n",
      "  if not is_categorical(df_full[k]):\n",
      "/home/estorrs/miniconda3/envs/pollock_dev/lib/python3.7/site-packages/anndata/_core/anndata.py:1094: FutureWarning: is_categorical is deprecated and will be removed in a future version.  Use is_categorical_dtype instead\n",
      "  if not is_categorical(df_full[k]):\n",
      "2021-05-14 10:53:36,323 epoch: 11, train loss: 5.101746082305908, val loss: 5.437828063964844\n",
      "/home/estorrs/miniconda3/envs/pollock_dev/lib/python3.7/site-packages/anndata/_core/anndata.py:1094: FutureWarning: is_categorical is deprecated and will be removed in a future version.  Use is_categorical_dtype instead\n",
      "  if not is_categorical(df_full[k]):\n",
      "/home/estorrs/miniconda3/envs/pollock_dev/lib/python3.7/site-packages/anndata/_core/anndata.py:1094: FutureWarning: is_categorical is deprecated and will be removed in a future version.  Use is_categorical_dtype instead\n",
      "  if not is_categorical(df_full[k]):\n",
      "2021-05-14 10:53:38,248 epoch: 12, train loss: 5.038865566253662, val loss: 5.393077850341797\n",
      "/home/estorrs/miniconda3/envs/pollock_dev/lib/python3.7/site-packages/anndata/_core/anndata.py:1094: FutureWarning: is_categorical is deprecated and will be removed in a future version.  Use is_categorical_dtype instead\n",
      "  if not is_categorical(df_full[k]):\n",
      "/home/estorrs/miniconda3/envs/pollock_dev/lib/python3.7/site-packages/anndata/_core/anndata.py:1094: FutureWarning: is_categorical is deprecated and will be removed in a future version.  Use is_categorical_dtype instead\n",
      "  if not is_categorical(df_full[k]):\n",
      "2021-05-14 10:53:40,140 epoch: 13, train loss: 4.977352142333984, val loss: 5.380184173583984\n",
      "/home/estorrs/miniconda3/envs/pollock_dev/lib/python3.7/site-packages/anndata/_core/anndata.py:1094: FutureWarning: is_categorical is deprecated and will be removed in a future version.  Use is_categorical_dtype instead\n",
      "  if not is_categorical(df_full[k]):\n"
     ]
    },
    {
     "name": "stderr",
     "output_type": "stream",
     "text": [
      "/home/estorrs/miniconda3/envs/pollock_dev/lib/python3.7/site-packages/anndata/_core/anndata.py:1094: FutureWarning: is_categorical is deprecated and will be removed in a future version.  Use is_categorical_dtype instead\n",
      "  if not is_categorical(df_full[k]):\n",
      "2021-05-14 10:53:41,973 epoch: 14, train loss: 4.951474666595459, val loss: 5.375993728637695\n",
      "/home/estorrs/miniconda3/envs/pollock_dev/lib/python3.7/site-packages/anndata/_core/anndata.py:1094: FutureWarning: is_categorical is deprecated and will be removed in a future version.  Use is_categorical_dtype instead\n",
      "  if not is_categorical(df_full[k]):\n",
      "/home/estorrs/miniconda3/envs/pollock_dev/lib/python3.7/site-packages/anndata/_core/anndata.py:1094: FutureWarning: is_categorical is deprecated and will be removed in a future version.  Use is_categorical_dtype instead\n",
      "  if not is_categorical(df_full[k]):\n",
      "2021-05-14 10:53:43,774 epoch: 15, train loss: 4.902556419372559, val loss: 5.356853008270264\n"
     ]
    },
    {
     "name": "stdout",
     "output_type": "stream",
     "text": [
      "True\n"
     ]
    },
    {
     "name": "stderr",
     "output_type": "stream",
     "text": [
      "/home/estorrs/miniconda3/envs/pollock_dev/lib/python3.7/site-packages/numpy/lib/format.py:350: UserWarning: metadata on a dtype may be saved or ignored, but will raise if saved when read. Use another form of storage.\n",
      "  d['descr'] = dtype_to_descr(array.dtype)\n",
      "/home/estorrs/miniconda3/envs/pollock_dev/lib/python3.7/site-packages/anndata/_core/anndata.py:1094: FutureWarning: is_categorical is deprecated and will be removed in a future version.  Use is_categorical_dtype instead\n",
      "  if not is_categorical(df_full[k]):\n",
      "2021-05-14 10:53:47,064 0 genes in training set are missing from prediction set\n",
      "2021-05-14 10:53:47,207 starting batch 1 of 2\n",
      "/home/estorrs/miniconda3/envs/pollock_dev/lib/python3.7/site-packages/anndata/_core/anndata.py:1094: FutureWarning: is_categorical is deprecated and will be removed in a future version.  Use is_categorical_dtype instead\n",
      "  if not is_categorical(df_full[k]):\n",
      "2021-05-14 10:53:47,275 0 genes in training set are missing from prediction set\n",
      "2021-05-14 10:53:47,456 starting batch 2 of 2\n",
      "/home/estorrs/miniconda3/envs/pollock_dev/lib/python3.7/site-packages/anndata/_core/anndata.py:1094: FutureWarning: is_categorical is deprecated and will be removed in a future version.  Use is_categorical_dtype instead\n",
      "  if not is_categorical(df_full[k]):\n",
      "2021-05-14 10:53:47,525 0 genes in training set are missing from prediction set\n"
     ]
    },
    {
     "name": "stdout",
     "output_type": "stream",
     "text": [
      "snATACseq ccrcc_gene_activity (3000, 19843) (3000, 19843)\n",
      "(3000, 19843) (3000, 19843)\n"
     ]
    },
    {
     "name": "stderr",
     "output_type": "stream",
     "text": [
      "2021-05-14 10:53:52,425 input dataset shape: (6000, 19843)\n",
      "2021-05-14 10:53:52,427 possible cell types: ['Endothelial', 'Epithelial', 'Fibroblast', 'Malignant', 'Monocyte', 'T cells']\n",
      "2021-05-14 10:53:52,428 using validation key\n",
      "/home/estorrs/miniconda3/envs/pollock_dev/lib/python3.7/site-packages/anndata/_core/anndata.py:1094: FutureWarning: is_categorical is deprecated and will be removed in a future version.  Use is_categorical_dtype instead\n",
      "  if not is_categorical(df_full[k]):\n",
      "/home/estorrs/miniconda3/envs/pollock_dev/lib/python3.7/site-packages/anndata/_core/anndata.py:1094: FutureWarning: is_categorical is deprecated and will be removed in a future version.  Use is_categorical_dtype instead\n",
      "  if not is_categorical(df_full[k]):\n",
      "/home/estorrs/miniconda3/envs/pollock_dev/lib/python3.7/site-packages/anndata/_core/anndata.py:1094: FutureWarning: is_categorical is deprecated and will be removed in a future version.  Use is_categorical_dtype instead\n",
      "  if not is_categorical(df_full[k]):\n",
      "2021-05-14 10:54:01,155 epoch: 1, train loss: 45.66423034667969, val loss: 39.64300537109375\n",
      "/home/estorrs/miniconda3/envs/pollock_dev/lib/python3.7/site-packages/anndata/_core/anndata.py:1094: FutureWarning: is_categorical is deprecated and will be removed in a future version.  Use is_categorical_dtype instead\n",
      "  if not is_categorical(df_full[k]):\n",
      "/home/estorrs/miniconda3/envs/pollock_dev/lib/python3.7/site-packages/anndata/_core/anndata.py:1094: FutureWarning: is_categorical is deprecated and will be removed in a future version.  Use is_categorical_dtype instead\n",
      "  if not is_categorical(df_full[k]):\n",
      "2021-05-14 10:54:08,077 epoch: 2, train loss: 45.373416900634766, val loss: 39.558433532714844\n",
      "/home/estorrs/miniconda3/envs/pollock_dev/lib/python3.7/site-packages/anndata/_core/anndata.py:1094: FutureWarning: is_categorical is deprecated and will be removed in a future version.  Use is_categorical_dtype instead\n",
      "  if not is_categorical(df_full[k]):\n",
      "/home/estorrs/miniconda3/envs/pollock_dev/lib/python3.7/site-packages/anndata/_core/anndata.py:1094: FutureWarning: is_categorical is deprecated and will be removed in a future version.  Use is_categorical_dtype instead\n",
      "  if not is_categorical(df_full[k]):\n",
      "2021-05-14 10:54:14,976 epoch: 3, train loss: 45.14961624145508, val loss: 39.52720642089844\n",
      "/home/estorrs/miniconda3/envs/pollock_dev/lib/python3.7/site-packages/anndata/_core/anndata.py:1094: FutureWarning: is_categorical is deprecated and will be removed in a future version.  Use is_categorical_dtype instead\n",
      "  if not is_categorical(df_full[k]):\n",
      "/home/estorrs/miniconda3/envs/pollock_dev/lib/python3.7/site-packages/anndata/_core/anndata.py:1094: FutureWarning: is_categorical is deprecated and will be removed in a future version.  Use is_categorical_dtype instead\n",
      "  if not is_categorical(df_full[k]):\n",
      "2021-05-14 10:54:21,864 epoch: 4, train loss: 45.0053825378418, val loss: 39.448585510253906\n",
      "/home/estorrs/miniconda3/envs/pollock_dev/lib/python3.7/site-packages/anndata/_core/anndata.py:1094: FutureWarning: is_categorical is deprecated and will be removed in a future version.  Use is_categorical_dtype instead\n",
      "  if not is_categorical(df_full[k]):\n",
      "/home/estorrs/miniconda3/envs/pollock_dev/lib/python3.7/site-packages/anndata/_core/anndata.py:1094: FutureWarning: is_categorical is deprecated and will be removed in a future version.  Use is_categorical_dtype instead\n",
      "  if not is_categorical(df_full[k]):\n",
      "2021-05-14 10:54:28,892 epoch: 5, train loss: 44.68572998046875, val loss: 39.27042770385742\n",
      "/home/estorrs/miniconda3/envs/pollock_dev/lib/python3.7/site-packages/anndata/_core/anndata.py:1094: FutureWarning: is_categorical is deprecated and will be removed in a future version.  Use is_categorical_dtype instead\n",
      "  if not is_categorical(df_full[k]):\n",
      "/home/estorrs/miniconda3/envs/pollock_dev/lib/python3.7/site-packages/anndata/_core/anndata.py:1094: FutureWarning: is_categorical is deprecated and will be removed in a future version.  Use is_categorical_dtype instead\n",
      "  if not is_categorical(df_full[k]):\n",
      "2021-05-14 10:54:35,496 epoch: 6, train loss: 44.53231430053711, val loss: 39.22027587890625\n",
      "/home/estorrs/miniconda3/envs/pollock_dev/lib/python3.7/site-packages/anndata/_core/anndata.py:1094: FutureWarning: is_categorical is deprecated and will be removed in a future version.  Use is_categorical_dtype instead\n",
      "  if not is_categorical(df_full[k]):\n",
      "/home/estorrs/miniconda3/envs/pollock_dev/lib/python3.7/site-packages/anndata/_core/anndata.py:1094: FutureWarning: is_categorical is deprecated and will be removed in a future version.  Use is_categorical_dtype instead\n",
      "  if not is_categorical(df_full[k]):\n",
      "2021-05-14 10:54:42,116 epoch: 7, train loss: 44.30342483520508, val loss: 39.15491485595703\n",
      "/home/estorrs/miniconda3/envs/pollock_dev/lib/python3.7/site-packages/anndata/_core/anndata.py:1094: FutureWarning: is_categorical is deprecated and will be removed in a future version.  Use is_categorical_dtype instead\n",
      "  if not is_categorical(df_full[k]):\n",
      "/home/estorrs/miniconda3/envs/pollock_dev/lib/python3.7/site-packages/anndata/_core/anndata.py:1094: FutureWarning: is_categorical is deprecated and will be removed in a future version.  Use is_categorical_dtype instead\n",
      "  if not is_categorical(df_full[k]):\n",
      "2021-05-14 10:54:49,361 epoch: 8, train loss: 44.24063491821289, val loss: 39.077781677246094\n",
      "/home/estorrs/miniconda3/envs/pollock_dev/lib/python3.7/site-packages/anndata/_core/anndata.py:1094: FutureWarning: is_categorical is deprecated and will be removed in a future version.  Use is_categorical_dtype instead\n",
      "  if not is_categorical(df_full[k]):\n",
      "/home/estorrs/miniconda3/envs/pollock_dev/lib/python3.7/site-packages/anndata/_core/anndata.py:1094: FutureWarning: is_categorical is deprecated and will be removed in a future version.  Use is_categorical_dtype instead\n",
      "  if not is_categorical(df_full[k]):\n",
      "2021-05-14 10:54:56,312 epoch: 9, train loss: 44.19561767578125, val loss: 39.09662628173828\n",
      "/home/estorrs/miniconda3/envs/pollock_dev/lib/python3.7/site-packages/anndata/_core/anndata.py:1094: FutureWarning: is_categorical is deprecated and will be removed in a future version.  Use is_categorical_dtype instead\n",
      "  if not is_categorical(df_full[k]):\n",
      "/home/estorrs/miniconda3/envs/pollock_dev/lib/python3.7/site-packages/anndata/_core/anndata.py:1094: FutureWarning: is_categorical is deprecated and will be removed in a future version.  Use is_categorical_dtype instead\n",
      "  if not is_categorical(df_full[k]):\n",
      "2021-05-14 10:55:03,216 epoch: 10, train loss: 44.10100173950195, val loss: 39.17524719238281\n",
      "/home/estorrs/miniconda3/envs/pollock_dev/lib/python3.7/site-packages/anndata/_core/anndata.py:1094: FutureWarning: is_categorical is deprecated and will be removed in a future version.  Use is_categorical_dtype instead\n",
      "  if not is_categorical(df_full[k]):\n",
      "/home/estorrs/miniconda3/envs/pollock_dev/lib/python3.7/site-packages/anndata/_core/anndata.py:1094: FutureWarning: is_categorical is deprecated and will be removed in a future version.  Use is_categorical_dtype instead\n",
      "  if not is_categorical(df_full[k]):\n",
      "2021-05-14 10:55:10,071 epoch: 11, train loss: 43.70275115966797, val loss: 38.97127151489258\n",
      "/home/estorrs/miniconda3/envs/pollock_dev/lib/python3.7/site-packages/anndata/_core/anndata.py:1094: FutureWarning: is_categorical is deprecated and will be removed in a future version.  Use is_categorical_dtype instead\n",
      "  if not is_categorical(df_full[k]):\n",
      "/home/estorrs/miniconda3/envs/pollock_dev/lib/python3.7/site-packages/anndata/_core/anndata.py:1094: FutureWarning: is_categorical is deprecated and will be removed in a future version.  Use is_categorical_dtype instead\n",
      "  if not is_categorical(df_full[k]):\n",
      "2021-05-14 10:55:17,011 epoch: 12, train loss: 43.71919250488281, val loss: 39.04610061645508\n",
      "/home/estorrs/miniconda3/envs/pollock_dev/lib/python3.7/site-packages/anndata/_core/anndata.py:1094: FutureWarning: is_categorical is deprecated and will be removed in a future version.  Use is_categorical_dtype instead\n",
      "  if not is_categorical(df_full[k]):\n",
      "/home/estorrs/miniconda3/envs/pollock_dev/lib/python3.7/site-packages/anndata/_core/anndata.py:1094: FutureWarning: is_categorical is deprecated and will be removed in a future version.  Use is_categorical_dtype instead\n",
      "  if not is_categorical(df_full[k]):\n",
      "2021-05-14 10:55:24,117 epoch: 13, train loss: 43.89841079711914, val loss: 39.02416229248047\n"
     ]
    },
    {
     "name": "stderr",
     "output_type": "stream",
     "text": [
      "/home/estorrs/miniconda3/envs/pollock_dev/lib/python3.7/site-packages/anndata/_core/anndata.py:1094: FutureWarning: is_categorical is deprecated and will be removed in a future version.  Use is_categorical_dtype instead\n",
      "  if not is_categorical(df_full[k]):\n",
      "/home/estorrs/miniconda3/envs/pollock_dev/lib/python3.7/site-packages/anndata/_core/anndata.py:1094: FutureWarning: is_categorical is deprecated and will be removed in a future version.  Use is_categorical_dtype instead\n",
      "  if not is_categorical(df_full[k]):\n",
      "2021-05-14 10:55:30,950 epoch: 14, train loss: 44.585819244384766, val loss: 39.539588928222656\n",
      "/home/estorrs/miniconda3/envs/pollock_dev/lib/python3.7/site-packages/anndata/_core/anndata.py:1094: FutureWarning: is_categorical is deprecated and will be removed in a future version.  Use is_categorical_dtype instead\n",
      "  if not is_categorical(df_full[k]):\n",
      "/home/estorrs/miniconda3/envs/pollock_dev/lib/python3.7/site-packages/anndata/_core/anndata.py:1094: FutureWarning: is_categorical is deprecated and will be removed in a future version.  Use is_categorical_dtype instead\n",
      "  if not is_categorical(df_full[k]):\n",
      "2021-05-14 10:55:37,923 epoch: 15, train loss: 43.791629791259766, val loss: 39.08719253540039\n"
     ]
    },
    {
     "name": "stdout",
     "output_type": "stream",
     "text": [
      "True\n"
     ]
    },
    {
     "name": "stderr",
     "output_type": "stream",
     "text": [
      "/home/estorrs/miniconda3/envs/pollock_dev/lib/python3.7/site-packages/numpy/lib/format.py:350: UserWarning: metadata on a dtype may be saved or ignored, but will raise if saved when read. Use another form of storage.\n",
      "  d['descr'] = dtype_to_descr(array.dtype)\n",
      "/home/estorrs/miniconda3/envs/pollock_dev/lib/python3.7/site-packages/anndata/_core/anndata.py:1094: FutureWarning: is_categorical is deprecated and will be removed in a future version.  Use is_categorical_dtype instead\n",
      "  if not is_categorical(df_full[k]):\n",
      "2021-05-14 10:55:43,620 0 genes in training set are missing from prediction set\n",
      "2021-05-14 10:55:44,117 starting batch 1 of 2\n",
      "/home/estorrs/miniconda3/envs/pollock_dev/lib/python3.7/site-packages/anndata/_core/anndata.py:1094: FutureWarning: is_categorical is deprecated and will be removed in a future version.  Use is_categorical_dtype instead\n",
      "  if not is_categorical(df_full[k]):\n",
      "2021-05-14 10:55:44,270 0 genes in training set are missing from prediction set\n",
      "2021-05-14 10:55:53,747 starting batch 2 of 2\n",
      "/home/estorrs/miniconda3/envs/pollock_dev/lib/python3.7/site-packages/anndata/_core/anndata.py:1094: FutureWarning: is_categorical is deprecated and will be removed in a future version.  Use is_categorical_dtype instead\n",
      "  if not is_categorical(df_full[k]):\n",
      "2021-05-14 10:55:53,820 0 genes in training set are missing from prediction set\n",
      "2021-05-14 10:55:56,049 input dataset shape: (6000, 633)\n",
      "2021-05-14 10:55:56,051 possible cell types: ['Endothelial', 'Epithelial', 'Fibroblast', 'Malignant', 'Monocyte', 'T cells']\n",
      "2021-05-14 10:55:56,052 using validation key\n"
     ]
    },
    {
     "name": "stdout",
     "output_type": "stream",
     "text": [
      "snATACseq ccrcc_motif (3000, 633) (3000, 633)\n",
      "(3000, 633) (3000, 633)\n"
     ]
    },
    {
     "name": "stderr",
     "output_type": "stream",
     "text": [
      "/home/estorrs/miniconda3/envs/pollock_dev/lib/python3.7/site-packages/anndata/_core/anndata.py:1094: FutureWarning: is_categorical is deprecated and will be removed in a future version.  Use is_categorical_dtype instead\n",
      "  if not is_categorical(df_full[k]):\n",
      "/home/estorrs/miniconda3/envs/pollock_dev/lib/python3.7/site-packages/anndata/_core/anndata.py:1094: FutureWarning: is_categorical is deprecated and will be removed in a future version.  Use is_categorical_dtype instead\n",
      "  if not is_categorical(df_full[k]):\n",
      "/home/estorrs/miniconda3/envs/pollock_dev/lib/python3.7/site-packages/anndata/_core/anndata.py:1094: FutureWarning: is_categorical is deprecated and will be removed in a future version.  Use is_categorical_dtype instead\n",
      "  if not is_categorical(df_full[k]):\n",
      "2021-05-14 10:55:58,741 epoch: 1, train loss: 8.06625747680664, val loss: 8.986260414123535\n",
      "/home/estorrs/miniconda3/envs/pollock_dev/lib/python3.7/site-packages/anndata/_core/anndata.py:1094: FutureWarning: is_categorical is deprecated and will be removed in a future version.  Use is_categorical_dtype instead\n",
      "  if not is_categorical(df_full[k]):\n",
      "/home/estorrs/miniconda3/envs/pollock_dev/lib/python3.7/site-packages/anndata/_core/anndata.py:1094: FutureWarning: is_categorical is deprecated and will be removed in a future version.  Use is_categorical_dtype instead\n",
      "  if not is_categorical(df_full[k]):\n",
      "2021-05-14 10:56:00,338 epoch: 2, train loss: 7.10885763168335, val loss: 7.420302391052246\n",
      "/home/estorrs/miniconda3/envs/pollock_dev/lib/python3.7/site-packages/anndata/_core/anndata.py:1094: FutureWarning: is_categorical is deprecated and will be removed in a future version.  Use is_categorical_dtype instead\n",
      "  if not is_categorical(df_full[k]):\n",
      "/home/estorrs/miniconda3/envs/pollock_dev/lib/python3.7/site-packages/anndata/_core/anndata.py:1094: FutureWarning: is_categorical is deprecated and will be removed in a future version.  Use is_categorical_dtype instead\n",
      "  if not is_categorical(df_full[k]):\n",
      "2021-05-14 10:56:01,851 epoch: 3, train loss: 6.704901695251465, val loss: 6.942784786224365\n",
      "/home/estorrs/miniconda3/envs/pollock_dev/lib/python3.7/site-packages/anndata/_core/anndata.py:1094: FutureWarning: is_categorical is deprecated and will be removed in a future version.  Use is_categorical_dtype instead\n",
      "  if not is_categorical(df_full[k]):\n",
      "/home/estorrs/miniconda3/envs/pollock_dev/lib/python3.7/site-packages/anndata/_core/anndata.py:1094: FutureWarning: is_categorical is deprecated and will be removed in a future version.  Use is_categorical_dtype instead\n",
      "  if not is_categorical(df_full[k]):\n",
      "2021-05-14 10:56:03,404 epoch: 4, train loss: 6.245205402374268, val loss: 6.479601860046387\n",
      "/home/estorrs/miniconda3/envs/pollock_dev/lib/python3.7/site-packages/anndata/_core/anndata.py:1094: FutureWarning: is_categorical is deprecated and will be removed in a future version.  Use is_categorical_dtype instead\n",
      "  if not is_categorical(df_full[k]):\n",
      "/home/estorrs/miniconda3/envs/pollock_dev/lib/python3.7/site-packages/anndata/_core/anndata.py:1094: FutureWarning: is_categorical is deprecated and will be removed in a future version.  Use is_categorical_dtype instead\n",
      "  if not is_categorical(df_full[k]):\n",
      "2021-05-14 10:56:04,959 epoch: 5, train loss: 5.892879962921143, val loss: 6.161915302276611\n",
      "/home/estorrs/miniconda3/envs/pollock_dev/lib/python3.7/site-packages/anndata/_core/anndata.py:1094: FutureWarning: is_categorical is deprecated and will be removed in a future version.  Use is_categorical_dtype instead\n",
      "  if not is_categorical(df_full[k]):\n",
      "/home/estorrs/miniconda3/envs/pollock_dev/lib/python3.7/site-packages/anndata/_core/anndata.py:1094: FutureWarning: is_categorical is deprecated and will be removed in a future version.  Use is_categorical_dtype instead\n",
      "  if not is_categorical(df_full[k]):\n",
      "2021-05-14 10:56:06,492 epoch: 6, train loss: 5.692804336547852, val loss: 5.972162246704102\n",
      "/home/estorrs/miniconda3/envs/pollock_dev/lib/python3.7/site-packages/anndata/_core/anndata.py:1094: FutureWarning: is_categorical is deprecated and will be removed in a future version.  Use is_categorical_dtype instead\n",
      "  if not is_categorical(df_full[k]):\n",
      "/home/estorrs/miniconda3/envs/pollock_dev/lib/python3.7/site-packages/anndata/_core/anndata.py:1094: FutureWarning: is_categorical is deprecated and will be removed in a future version.  Use is_categorical_dtype instead\n",
      "  if not is_categorical(df_full[k]):\n",
      "2021-05-14 10:56:08,088 epoch: 7, train loss: 5.503649711608887, val loss: 5.803258895874023\n",
      "/home/estorrs/miniconda3/envs/pollock_dev/lib/python3.7/site-packages/anndata/_core/anndata.py:1094: FutureWarning: is_categorical is deprecated and will be removed in a future version.  Use is_categorical_dtype instead\n",
      "  if not is_categorical(df_full[k]):\n",
      "/home/estorrs/miniconda3/envs/pollock_dev/lib/python3.7/site-packages/anndata/_core/anndata.py:1094: FutureWarning: is_categorical is deprecated and will be removed in a future version.  Use is_categorical_dtype instead\n",
      "  if not is_categorical(df_full[k]):\n",
      "2021-05-14 10:56:09,629 epoch: 8, train loss: 5.385639667510986, val loss: 5.698507308959961\n",
      "/home/estorrs/miniconda3/envs/pollock_dev/lib/python3.7/site-packages/anndata/_core/anndata.py:1094: FutureWarning: is_categorical is deprecated and will be removed in a future version.  Use is_categorical_dtype instead\n",
      "  if not is_categorical(df_full[k]):\n",
      "/home/estorrs/miniconda3/envs/pollock_dev/lib/python3.7/site-packages/anndata/_core/anndata.py:1094: FutureWarning: is_categorical is deprecated and will be removed in a future version.  Use is_categorical_dtype instead\n",
      "  if not is_categorical(df_full[k]):\n",
      "2021-05-14 10:56:11,095 epoch: 9, train loss: 5.245561599731445, val loss: 5.595052719116211\n",
      "/home/estorrs/miniconda3/envs/pollock_dev/lib/python3.7/site-packages/anndata/_core/anndata.py:1094: FutureWarning: is_categorical is deprecated and will be removed in a future version.  Use is_categorical_dtype instead\n",
      "  if not is_categorical(df_full[k]):\n",
      "/home/estorrs/miniconda3/envs/pollock_dev/lib/python3.7/site-packages/anndata/_core/anndata.py:1094: FutureWarning: is_categorical is deprecated and will be removed in a future version.  Use is_categorical_dtype instead\n",
      "  if not is_categorical(df_full[k]):\n",
      "2021-05-14 10:56:12,653 epoch: 10, train loss: 5.172532081604004, val loss: 5.543654441833496\n",
      "/home/estorrs/miniconda3/envs/pollock_dev/lib/python3.7/site-packages/anndata/_core/anndata.py:1094: FutureWarning: is_categorical is deprecated and will be removed in a future version.  Use is_categorical_dtype instead\n",
      "  if not is_categorical(df_full[k]):\n",
      "/home/estorrs/miniconda3/envs/pollock_dev/lib/python3.7/site-packages/anndata/_core/anndata.py:1094: FutureWarning: is_categorical is deprecated and will be removed in a future version.  Use is_categorical_dtype instead\n",
      "  if not is_categorical(df_full[k]):\n",
      "2021-05-14 10:56:14,172 epoch: 11, train loss: 5.087161540985107, val loss: 5.476545333862305\n",
      "/home/estorrs/miniconda3/envs/pollock_dev/lib/python3.7/site-packages/anndata/_core/anndata.py:1094: FutureWarning: is_categorical is deprecated and will be removed in a future version.  Use is_categorical_dtype instead\n",
      "  if not is_categorical(df_full[k]):\n",
      "/home/estorrs/miniconda3/envs/pollock_dev/lib/python3.7/site-packages/anndata/_core/anndata.py:1094: FutureWarning: is_categorical is deprecated and will be removed in a future version.  Use is_categorical_dtype instead\n",
      "  if not is_categorical(df_full[k]):\n",
      "2021-05-14 10:56:15,708 epoch: 12, train loss: 4.992671012878418, val loss: 5.440402030944824\n",
      "/home/estorrs/miniconda3/envs/pollock_dev/lib/python3.7/site-packages/anndata/_core/anndata.py:1094: FutureWarning: is_categorical is deprecated and will be removed in a future version.  Use is_categorical_dtype instead\n",
      "  if not is_categorical(df_full[k]):\n",
      "/home/estorrs/miniconda3/envs/pollock_dev/lib/python3.7/site-packages/anndata/_core/anndata.py:1094: FutureWarning: is_categorical is deprecated and will be removed in a future version.  Use is_categorical_dtype instead\n",
      "  if not is_categorical(df_full[k]):\n",
      "2021-05-14 10:56:17,242 epoch: 13, train loss: 4.909967422485352, val loss: 5.387628078460693\n",
      "/home/estorrs/miniconda3/envs/pollock_dev/lib/python3.7/site-packages/anndata/_core/anndata.py:1094: FutureWarning: is_categorical is deprecated and will be removed in a future version.  Use is_categorical_dtype instead\n",
      "  if not is_categorical(df_full[k]):\n"
     ]
    },
    {
     "name": "stderr",
     "output_type": "stream",
     "text": [
      "/home/estorrs/miniconda3/envs/pollock_dev/lib/python3.7/site-packages/anndata/_core/anndata.py:1094: FutureWarning: is_categorical is deprecated and will be removed in a future version.  Use is_categorical_dtype instead\n",
      "  if not is_categorical(df_full[k]):\n",
      "2021-05-14 10:56:18,757 epoch: 14, train loss: 4.881736755371094, val loss: 5.404792785644531\n",
      "/home/estorrs/miniconda3/envs/pollock_dev/lib/python3.7/site-packages/anndata/_core/anndata.py:1094: FutureWarning: is_categorical is deprecated and will be removed in a future version.  Use is_categorical_dtype instead\n",
      "  if not is_categorical(df_full[k]):\n",
      "/home/estorrs/miniconda3/envs/pollock_dev/lib/python3.7/site-packages/anndata/_core/anndata.py:1094: FutureWarning: is_categorical is deprecated and will be removed in a future version.  Use is_categorical_dtype instead\n",
      "  if not is_categorical(df_full[k]):\n",
      "2021-05-14 10:56:20,236 epoch: 15, train loss: 4.82399320602417, val loss: 5.377406120300293\n"
     ]
    },
    {
     "name": "stdout",
     "output_type": "stream",
     "text": [
      "True\n"
     ]
    },
    {
     "name": "stderr",
     "output_type": "stream",
     "text": [
      "/home/estorrs/miniconda3/envs/pollock_dev/lib/python3.7/site-packages/numpy/lib/format.py:350: UserWarning: metadata on a dtype may be saved or ignored, but will raise if saved when read. Use another form of storage.\n",
      "  d['descr'] = dtype_to_descr(array.dtype)\n",
      "/home/estorrs/miniconda3/envs/pollock_dev/lib/python3.7/site-packages/anndata/_core/anndata.py:1094: FutureWarning: is_categorical is deprecated and will be removed in a future version.  Use is_categorical_dtype instead\n",
      "  if not is_categorical(df_full[k]):\n",
      "2021-05-14 10:56:22,572 0 genes in training set are missing from prediction set\n",
      "2021-05-14 10:56:22,722 starting batch 1 of 2\n",
      "/home/estorrs/miniconda3/envs/pollock_dev/lib/python3.7/site-packages/anndata/_core/anndata.py:1094: FutureWarning: is_categorical is deprecated and will be removed in a future version.  Use is_categorical_dtype instead\n",
      "  if not is_categorical(df_full[k]):\n",
      "2021-05-14 10:56:22,791 0 genes in training set are missing from prediction set\n",
      "2021-05-14 10:56:22,973 starting batch 2 of 2\n",
      "/home/estorrs/miniconda3/envs/pollock_dev/lib/python3.7/site-packages/anndata/_core/anndata.py:1094: FutureWarning: is_categorical is deprecated and will be removed in a future version.  Use is_categorical_dtype instead\n",
      "  if not is_categorical(df_full[k]):\n",
      "2021-05-14 10:56:23,041 0 genes in training set are missing from prediction set\n"
     ]
    },
    {
     "name": "stdout",
     "output_type": "stream",
     "text": [
      "snATACseq gbm_gene_activity (3389, 19891) (2876, 19891)\n",
      "(3389, 19891) (2876, 19891)\n"
     ]
    },
    {
     "name": "stderr",
     "output_type": "stream",
     "text": [
      "2021-05-14 10:56:28,051 input dataset shape: (6265, 19891)\n",
      "2021-05-14 10:56:28,052 possible cell types: ['B cell', 'Endothelial', 'Fibroblast', 'Malignant', 'Microglia', 'Neuron', 'Oligodendrocytes', 'T cells']\n",
      "2021-05-14 10:56:28,053 using validation key\n",
      "/home/estorrs/miniconda3/envs/pollock_dev/lib/python3.7/site-packages/anndata/_core/anndata.py:1094: FutureWarning: is_categorical is deprecated and will be removed in a future version.  Use is_categorical_dtype instead\n",
      "  if not is_categorical(df_full[k]):\n",
      "/home/estorrs/miniconda3/envs/pollock_dev/lib/python3.7/site-packages/anndata/_core/anndata.py:1094: FutureWarning: is_categorical is deprecated and will be removed in a future version.  Use is_categorical_dtype instead\n",
      "  if not is_categorical(df_full[k]):\n",
      "/home/estorrs/miniconda3/envs/pollock_dev/lib/python3.7/site-packages/anndata/_core/anndata.py:1094: FutureWarning: is_categorical is deprecated and will be removed in a future version.  Use is_categorical_dtype instead\n",
      "  if not is_categorical(df_full[k]):\n",
      "2021-05-14 10:56:37,618 epoch: 1, train loss: 45.82908248901367, val loss: 27.41712760925293\n",
      "/home/estorrs/miniconda3/envs/pollock_dev/lib/python3.7/site-packages/anndata/_core/anndata.py:1094: FutureWarning: is_categorical is deprecated and will be removed in a future version.  Use is_categorical_dtype instead\n",
      "  if not is_categorical(df_full[k]):\n",
      "/home/estorrs/miniconda3/envs/pollock_dev/lib/python3.7/site-packages/anndata/_core/anndata.py:1094: FutureWarning: is_categorical is deprecated and will be removed in a future version.  Use is_categorical_dtype instead\n",
      "  if not is_categorical(df_full[k]):\n",
      "2021-05-14 10:56:45,025 epoch: 2, train loss: 45.20534896850586, val loss: 27.136226654052734\n",
      "/home/estorrs/miniconda3/envs/pollock_dev/lib/python3.7/site-packages/anndata/_core/anndata.py:1094: FutureWarning: is_categorical is deprecated and will be removed in a future version.  Use is_categorical_dtype instead\n",
      "  if not is_categorical(df_full[k]):\n",
      "/home/estorrs/miniconda3/envs/pollock_dev/lib/python3.7/site-packages/anndata/_core/anndata.py:1094: FutureWarning: is_categorical is deprecated and will be removed in a future version.  Use is_categorical_dtype instead\n",
      "  if not is_categorical(df_full[k]):\n",
      "2021-05-14 10:56:52,259 epoch: 3, train loss: 44.99018859863281, val loss: 27.163227081298828\n",
      "/home/estorrs/miniconda3/envs/pollock_dev/lib/python3.7/site-packages/anndata/_core/anndata.py:1094: FutureWarning: is_categorical is deprecated and will be removed in a future version.  Use is_categorical_dtype instead\n",
      "  if not is_categorical(df_full[k]):\n",
      "/home/estorrs/miniconda3/envs/pollock_dev/lib/python3.7/site-packages/anndata/_core/anndata.py:1094: FutureWarning: is_categorical is deprecated and will be removed in a future version.  Use is_categorical_dtype instead\n",
      "  if not is_categorical(df_full[k]):\n",
      "2021-05-14 10:57:00,354 epoch: 4, train loss: 44.808773040771484, val loss: 27.060302734375\n",
      "/home/estorrs/miniconda3/envs/pollock_dev/lib/python3.7/site-packages/anndata/_core/anndata.py:1094: FutureWarning: is_categorical is deprecated and will be removed in a future version.  Use is_categorical_dtype instead\n",
      "  if not is_categorical(df_full[k]):\n",
      "/home/estorrs/miniconda3/envs/pollock_dev/lib/python3.7/site-packages/anndata/_core/anndata.py:1094: FutureWarning: is_categorical is deprecated and will be removed in a future version.  Use is_categorical_dtype instead\n",
      "  if not is_categorical(df_full[k]):\n",
      "2021-05-14 10:57:08,569 epoch: 5, train loss: 44.46975326538086, val loss: 26.900251388549805\n",
      "/home/estorrs/miniconda3/envs/pollock_dev/lib/python3.7/site-packages/anndata/_core/anndata.py:1094: FutureWarning: is_categorical is deprecated and will be removed in a future version.  Use is_categorical_dtype instead\n",
      "  if not is_categorical(df_full[k]):\n",
      "/home/estorrs/miniconda3/envs/pollock_dev/lib/python3.7/site-packages/anndata/_core/anndata.py:1094: FutureWarning: is_categorical is deprecated and will be removed in a future version.  Use is_categorical_dtype instead\n",
      "  if not is_categorical(df_full[k]):\n",
      "2021-05-14 10:57:16,291 epoch: 6, train loss: 44.1614875793457, val loss: 26.856201171875\n",
      "/home/estorrs/miniconda3/envs/pollock_dev/lib/python3.7/site-packages/anndata/_core/anndata.py:1094: FutureWarning: is_categorical is deprecated and will be removed in a future version.  Use is_categorical_dtype instead\n",
      "  if not is_categorical(df_full[k]):\n",
      "/home/estorrs/miniconda3/envs/pollock_dev/lib/python3.7/site-packages/anndata/_core/anndata.py:1094: FutureWarning: is_categorical is deprecated and will be removed in a future version.  Use is_categorical_dtype instead\n",
      "  if not is_categorical(df_full[k]):\n",
      "2021-05-14 10:57:23,999 epoch: 7, train loss: 44.134037017822266, val loss: 26.88217544555664\n",
      "/home/estorrs/miniconda3/envs/pollock_dev/lib/python3.7/site-packages/anndata/_core/anndata.py:1094: FutureWarning: is_categorical is deprecated and will be removed in a future version.  Use is_categorical_dtype instead\n",
      "  if not is_categorical(df_full[k]):\n",
      "/home/estorrs/miniconda3/envs/pollock_dev/lib/python3.7/site-packages/anndata/_core/anndata.py:1094: FutureWarning: is_categorical is deprecated and will be removed in a future version.  Use is_categorical_dtype instead\n",
      "  if not is_categorical(df_full[k]):\n",
      "2021-05-14 10:57:31,716 epoch: 8, train loss: 44.59648132324219, val loss: 26.981731414794922\n",
      "/home/estorrs/miniconda3/envs/pollock_dev/lib/python3.7/site-packages/anndata/_core/anndata.py:1094: FutureWarning: is_categorical is deprecated and will be removed in a future version.  Use is_categorical_dtype instead\n",
      "  if not is_categorical(df_full[k]):\n",
      "/home/estorrs/miniconda3/envs/pollock_dev/lib/python3.7/site-packages/anndata/_core/anndata.py:1094: FutureWarning: is_categorical is deprecated and will be removed in a future version.  Use is_categorical_dtype instead\n",
      "  if not is_categorical(df_full[k]):\n",
      "2021-05-14 10:57:39,644 epoch: 9, train loss: 43.96580123901367, val loss: 26.867599487304688\n",
      "/home/estorrs/miniconda3/envs/pollock_dev/lib/python3.7/site-packages/anndata/_core/anndata.py:1094: FutureWarning: is_categorical is deprecated and will be removed in a future version.  Use is_categorical_dtype instead\n",
      "  if not is_categorical(df_full[k]):\n",
      "/home/estorrs/miniconda3/envs/pollock_dev/lib/python3.7/site-packages/anndata/_core/anndata.py:1094: FutureWarning: is_categorical is deprecated and will be removed in a future version.  Use is_categorical_dtype instead\n",
      "  if not is_categorical(df_full[k]):\n",
      "2021-05-14 10:57:47,513 epoch: 10, train loss: 43.89592742919922, val loss: 26.832733154296875\n",
      "/home/estorrs/miniconda3/envs/pollock_dev/lib/python3.7/site-packages/anndata/_core/anndata.py:1094: FutureWarning: is_categorical is deprecated and will be removed in a future version.  Use is_categorical_dtype instead\n",
      "  if not is_categorical(df_full[k]):\n",
      "/home/estorrs/miniconda3/envs/pollock_dev/lib/python3.7/site-packages/anndata/_core/anndata.py:1094: FutureWarning: is_categorical is deprecated and will be removed in a future version.  Use is_categorical_dtype instead\n",
      "  if not is_categorical(df_full[k]):\n",
      "2021-05-14 10:57:54,994 epoch: 11, train loss: 43.83826446533203, val loss: 26.828981399536133\n",
      "/home/estorrs/miniconda3/envs/pollock_dev/lib/python3.7/site-packages/anndata/_core/anndata.py:1094: FutureWarning: is_categorical is deprecated and will be removed in a future version.  Use is_categorical_dtype instead\n",
      "  if not is_categorical(df_full[k]):\n",
      "/home/estorrs/miniconda3/envs/pollock_dev/lib/python3.7/site-packages/anndata/_core/anndata.py:1094: FutureWarning: is_categorical is deprecated and will be removed in a future version.  Use is_categorical_dtype instead\n",
      "  if not is_categorical(df_full[k]):\n",
      "2021-05-14 10:58:02,406 epoch: 12, train loss: 43.70172882080078, val loss: 26.790359497070312\n",
      "/home/estorrs/miniconda3/envs/pollock_dev/lib/python3.7/site-packages/anndata/_core/anndata.py:1094: FutureWarning: is_categorical is deprecated and will be removed in a future version.  Use is_categorical_dtype instead\n",
      "  if not is_categorical(df_full[k]):\n",
      "/home/estorrs/miniconda3/envs/pollock_dev/lib/python3.7/site-packages/anndata/_core/anndata.py:1094: FutureWarning: is_categorical is deprecated and will be removed in a future version.  Use is_categorical_dtype instead\n",
      "  if not is_categorical(df_full[k]):\n",
      "2021-05-14 10:58:10,590 epoch: 13, train loss: 43.86506271362305, val loss: 26.794815063476562\n"
     ]
    },
    {
     "name": "stderr",
     "output_type": "stream",
     "text": [
      "/home/estorrs/miniconda3/envs/pollock_dev/lib/python3.7/site-packages/anndata/_core/anndata.py:1094: FutureWarning: is_categorical is deprecated and will be removed in a future version.  Use is_categorical_dtype instead\n",
      "  if not is_categorical(df_full[k]):\n",
      "/home/estorrs/miniconda3/envs/pollock_dev/lib/python3.7/site-packages/anndata/_core/anndata.py:1094: FutureWarning: is_categorical is deprecated and will be removed in a future version.  Use is_categorical_dtype instead\n",
      "  if not is_categorical(df_full[k]):\n",
      "2021-05-14 10:58:18,266 epoch: 14, train loss: 43.60057830810547, val loss: 26.810272216796875\n",
      "/home/estorrs/miniconda3/envs/pollock_dev/lib/python3.7/site-packages/anndata/_core/anndata.py:1094: FutureWarning: is_categorical is deprecated and will be removed in a future version.  Use is_categorical_dtype instead\n",
      "  if not is_categorical(df_full[k]):\n",
      "/home/estorrs/miniconda3/envs/pollock_dev/lib/python3.7/site-packages/anndata/_core/anndata.py:1094: FutureWarning: is_categorical is deprecated and will be removed in a future version.  Use is_categorical_dtype instead\n",
      "  if not is_categorical(df_full[k]):\n",
      "2021-05-14 10:58:26,029 epoch: 15, train loss: 43.507118225097656, val loss: 26.797225952148438\n"
     ]
    },
    {
     "name": "stdout",
     "output_type": "stream",
     "text": [
      "True\n"
     ]
    },
    {
     "name": "stderr",
     "output_type": "stream",
     "text": [
      "/home/estorrs/miniconda3/envs/pollock_dev/lib/python3.7/site-packages/numpy/lib/format.py:350: UserWarning: metadata on a dtype may be saved or ignored, but will raise if saved when read. Use another form of storage.\n",
      "  d['descr'] = dtype_to_descr(array.dtype)\n",
      "/home/estorrs/miniconda3/envs/pollock_dev/lib/python3.7/site-packages/anndata/_core/anndata.py:1094: FutureWarning: is_categorical is deprecated and will be removed in a future version.  Use is_categorical_dtype instead\n",
      "  if not is_categorical(df_full[k]):\n",
      "2021-05-14 10:58:32,330 0 genes in training set are missing from prediction set\n",
      "2021-05-14 10:58:32,783 starting batch 1 of 2\n",
      "/home/estorrs/miniconda3/envs/pollock_dev/lib/python3.7/site-packages/anndata/_core/anndata.py:1094: FutureWarning: is_categorical is deprecated and will be removed in a future version.  Use is_categorical_dtype instead\n",
      "  if not is_categorical(df_full[k]):\n",
      "2021-05-14 10:58:32,913 0 genes in training set are missing from prediction set\n",
      "2021-05-14 10:58:43,083 starting batch 2 of 2\n",
      "/home/estorrs/miniconda3/envs/pollock_dev/lib/python3.7/site-packages/anndata/_core/anndata.py:1094: FutureWarning: is_categorical is deprecated and will be removed in a future version.  Use is_categorical_dtype instead\n",
      "  if not is_categorical(df_full[k]):\n",
      "2021-05-14 10:58:43,453 0 genes in training set are missing from prediction set\n",
      "2021-05-14 10:58:45,701 input dataset shape: (6265, 633)\n",
      "2021-05-14 10:58:45,704 possible cell types: ['B cell', 'Endothelial', 'Fibroblast', 'Malignant', 'Microglia', 'Neuron', 'Oligodendrocytes', 'T cells']\n",
      "2021-05-14 10:58:45,704 using validation key\n"
     ]
    },
    {
     "name": "stdout",
     "output_type": "stream",
     "text": [
      "snATACseq gbm_motif (3393, 633) (2872, 633)\n",
      "(3393, 633) (2872, 633)\n"
     ]
    },
    {
     "name": "stderr",
     "output_type": "stream",
     "text": [
      "/home/estorrs/miniconda3/envs/pollock_dev/lib/python3.7/site-packages/anndata/_core/anndata.py:1094: FutureWarning: is_categorical is deprecated and will be removed in a future version.  Use is_categorical_dtype instead\n",
      "  if not is_categorical(df_full[k]):\n",
      "/home/estorrs/miniconda3/envs/pollock_dev/lib/python3.7/site-packages/anndata/_core/anndata.py:1094: FutureWarning: is_categorical is deprecated and will be removed in a future version.  Use is_categorical_dtype instead\n",
      "  if not is_categorical(df_full[k]):\n",
      "/home/estorrs/miniconda3/envs/pollock_dev/lib/python3.7/site-packages/anndata/_core/anndata.py:1094: FutureWarning: is_categorical is deprecated and will be removed in a future version.  Use is_categorical_dtype instead\n",
      "  if not is_categorical(df_full[k]):\n",
      "2021-05-14 10:58:48,421 epoch: 1, train loss: 7.364092826843262, val loss: 6.813343048095703\n",
      "/home/estorrs/miniconda3/envs/pollock_dev/lib/python3.7/site-packages/anndata/_core/anndata.py:1094: FutureWarning: is_categorical is deprecated and will be removed in a future version.  Use is_categorical_dtype instead\n",
      "  if not is_categorical(df_full[k]):\n",
      "/home/estorrs/miniconda3/envs/pollock_dev/lib/python3.7/site-packages/anndata/_core/anndata.py:1094: FutureWarning: is_categorical is deprecated and will be removed in a future version.  Use is_categorical_dtype instead\n",
      "  if not is_categorical(df_full[k]):\n",
      "2021-05-14 10:58:50,038 epoch: 2, train loss: 6.357682228088379, val loss: 6.044459342956543\n",
      "/home/estorrs/miniconda3/envs/pollock_dev/lib/python3.7/site-packages/anndata/_core/anndata.py:1094: FutureWarning: is_categorical is deprecated and will be removed in a future version.  Use is_categorical_dtype instead\n",
      "  if not is_categorical(df_full[k]):\n",
      "/home/estorrs/miniconda3/envs/pollock_dev/lib/python3.7/site-packages/anndata/_core/anndata.py:1094: FutureWarning: is_categorical is deprecated and will be removed in a future version.  Use is_categorical_dtype instead\n",
      "  if not is_categorical(df_full[k]):\n",
      "2021-05-14 10:58:51,772 epoch: 3, train loss: 6.010678768157959, val loss: 5.844239234924316\n",
      "/home/estorrs/miniconda3/envs/pollock_dev/lib/python3.7/site-packages/anndata/_core/anndata.py:1094: FutureWarning: is_categorical is deprecated and will be removed in a future version.  Use is_categorical_dtype instead\n",
      "  if not is_categorical(df_full[k]):\n",
      "/home/estorrs/miniconda3/envs/pollock_dev/lib/python3.7/site-packages/anndata/_core/anndata.py:1094: FutureWarning: is_categorical is deprecated and will be removed in a future version.  Use is_categorical_dtype instead\n",
      "  if not is_categorical(df_full[k]):\n",
      "2021-05-14 10:58:53,462 epoch: 4, train loss: 5.544738292694092, val loss: 5.426552772521973\n",
      "/home/estorrs/miniconda3/envs/pollock_dev/lib/python3.7/site-packages/anndata/_core/anndata.py:1094: FutureWarning: is_categorical is deprecated and will be removed in a future version.  Use is_categorical_dtype instead\n",
      "  if not is_categorical(df_full[k]):\n",
      "/home/estorrs/miniconda3/envs/pollock_dev/lib/python3.7/site-packages/anndata/_core/anndata.py:1094: FutureWarning: is_categorical is deprecated and will be removed in a future version.  Use is_categorical_dtype instead\n",
      "  if not is_categorical(df_full[k]):\n",
      "2021-05-14 10:58:55,147 epoch: 5, train loss: 5.474468231201172, val loss: 5.4228363037109375\n",
      "/home/estorrs/miniconda3/envs/pollock_dev/lib/python3.7/site-packages/anndata/_core/anndata.py:1094: FutureWarning: is_categorical is deprecated and will be removed in a future version.  Use is_categorical_dtype instead\n",
      "  if not is_categorical(df_full[k]):\n",
      "/home/estorrs/miniconda3/envs/pollock_dev/lib/python3.7/site-packages/anndata/_core/anndata.py:1094: FutureWarning: is_categorical is deprecated and will be removed in a future version.  Use is_categorical_dtype instead\n",
      "  if not is_categorical(df_full[k]):\n",
      "2021-05-14 10:58:56,846 epoch: 6, train loss: 5.222409725189209, val loss: 5.152015209197998\n",
      "/home/estorrs/miniconda3/envs/pollock_dev/lib/python3.7/site-packages/anndata/_core/anndata.py:1094: FutureWarning: is_categorical is deprecated and will be removed in a future version.  Use is_categorical_dtype instead\n",
      "  if not is_categorical(df_full[k]):\n",
      "/home/estorrs/miniconda3/envs/pollock_dev/lib/python3.7/site-packages/anndata/_core/anndata.py:1094: FutureWarning: is_categorical is deprecated and will be removed in a future version.  Use is_categorical_dtype instead\n",
      "  if not is_categorical(df_full[k]):\n",
      "2021-05-14 10:58:58,510 epoch: 7, train loss: 5.317698955535889, val loss: 5.389681816101074\n",
      "/home/estorrs/miniconda3/envs/pollock_dev/lib/python3.7/site-packages/anndata/_core/anndata.py:1094: FutureWarning: is_categorical is deprecated and will be removed in a future version.  Use is_categorical_dtype instead\n",
      "  if not is_categorical(df_full[k]):\n",
      "/home/estorrs/miniconda3/envs/pollock_dev/lib/python3.7/site-packages/anndata/_core/anndata.py:1094: FutureWarning: is_categorical is deprecated and will be removed in a future version.  Use is_categorical_dtype instead\n",
      "  if not is_categorical(df_full[k]):\n",
      "2021-05-14 10:59:00,120 epoch: 8, train loss: 5.172428131103516, val loss: 5.305285453796387\n",
      "/home/estorrs/miniconda3/envs/pollock_dev/lib/python3.7/site-packages/anndata/_core/anndata.py:1094: FutureWarning: is_categorical is deprecated and will be removed in a future version.  Use is_categorical_dtype instead\n",
      "  if not is_categorical(df_full[k]):\n",
      "/home/estorrs/miniconda3/envs/pollock_dev/lib/python3.7/site-packages/anndata/_core/anndata.py:1094: FutureWarning: is_categorical is deprecated and will be removed in a future version.  Use is_categorical_dtype instead\n",
      "  if not is_categorical(df_full[k]):\n",
      "2021-05-14 10:59:01,716 epoch: 9, train loss: 4.955962657928467, val loss: 5.0424652099609375\n",
      "/home/estorrs/miniconda3/envs/pollock_dev/lib/python3.7/site-packages/anndata/_core/anndata.py:1094: FutureWarning: is_categorical is deprecated and will be removed in a future version.  Use is_categorical_dtype instead\n",
      "  if not is_categorical(df_full[k]):\n",
      "/home/estorrs/miniconda3/envs/pollock_dev/lib/python3.7/site-packages/anndata/_core/anndata.py:1094: FutureWarning: is_categorical is deprecated and will be removed in a future version.  Use is_categorical_dtype instead\n",
      "  if not is_categorical(df_full[k]):\n",
      "2021-05-14 10:59:03,324 epoch: 10, train loss: 4.82327938079834, val loss: 4.872265815734863\n",
      "/home/estorrs/miniconda3/envs/pollock_dev/lib/python3.7/site-packages/anndata/_core/anndata.py:1094: FutureWarning: is_categorical is deprecated and will be removed in a future version.  Use is_categorical_dtype instead\n",
      "  if not is_categorical(df_full[k]):\n",
      "/home/estorrs/miniconda3/envs/pollock_dev/lib/python3.7/site-packages/anndata/_core/anndata.py:1094: FutureWarning: is_categorical is deprecated and will be removed in a future version.  Use is_categorical_dtype instead\n",
      "  if not is_categorical(df_full[k]):\n",
      "2021-05-14 10:59:04,934 epoch: 11, train loss: 4.839991092681885, val loss: 5.001927375793457\n",
      "/home/estorrs/miniconda3/envs/pollock_dev/lib/python3.7/site-packages/anndata/_core/anndata.py:1094: FutureWarning: is_categorical is deprecated and will be removed in a future version.  Use is_categorical_dtype instead\n",
      "  if not is_categorical(df_full[k]):\n",
      "/home/estorrs/miniconda3/envs/pollock_dev/lib/python3.7/site-packages/anndata/_core/anndata.py:1094: FutureWarning: is_categorical is deprecated and will be removed in a future version.  Use is_categorical_dtype instead\n",
      "  if not is_categorical(df_full[k]):\n",
      "2021-05-14 10:59:06,555 epoch: 12, train loss: 4.661620616912842, val loss: 4.777194023132324\n",
      "/home/estorrs/miniconda3/envs/pollock_dev/lib/python3.7/site-packages/anndata/_core/anndata.py:1094: FutureWarning: is_categorical is deprecated and will be removed in a future version.  Use is_categorical_dtype instead\n",
      "  if not is_categorical(df_full[k]):\n",
      "/home/estorrs/miniconda3/envs/pollock_dev/lib/python3.7/site-packages/anndata/_core/anndata.py:1094: FutureWarning: is_categorical is deprecated and will be removed in a future version.  Use is_categorical_dtype instead\n",
      "  if not is_categorical(df_full[k]):\n",
      "2021-05-14 10:59:08,199 epoch: 13, train loss: 4.632160663604736, val loss: 4.764046669006348\n",
      "/home/estorrs/miniconda3/envs/pollock_dev/lib/python3.7/site-packages/anndata/_core/anndata.py:1094: FutureWarning: is_categorical is deprecated and will be removed in a future version.  Use is_categorical_dtype instead\n",
      "  if not is_categorical(df_full[k]):\n"
     ]
    },
    {
     "name": "stderr",
     "output_type": "stream",
     "text": [
      "/home/estorrs/miniconda3/envs/pollock_dev/lib/python3.7/site-packages/anndata/_core/anndata.py:1094: FutureWarning: is_categorical is deprecated and will be removed in a future version.  Use is_categorical_dtype instead\n",
      "  if not is_categorical(df_full[k]):\n",
      "2021-05-14 10:59:09,867 epoch: 14, train loss: 4.567464828491211, val loss: 4.761177062988281\n",
      "/home/estorrs/miniconda3/envs/pollock_dev/lib/python3.7/site-packages/anndata/_core/anndata.py:1094: FutureWarning: is_categorical is deprecated and will be removed in a future version.  Use is_categorical_dtype instead\n",
      "  if not is_categorical(df_full[k]):\n",
      "/home/estorrs/miniconda3/envs/pollock_dev/lib/python3.7/site-packages/anndata/_core/anndata.py:1094: FutureWarning: is_categorical is deprecated and will be removed in a future version.  Use is_categorical_dtype instead\n",
      "  if not is_categorical(df_full[k]):\n",
      "2021-05-14 10:59:11,714 epoch: 15, train loss: 4.630905628204346, val loss: 4.867183685302734\n"
     ]
    },
    {
     "name": "stdout",
     "output_type": "stream",
     "text": [
      "True\n"
     ]
    },
    {
     "name": "stderr",
     "output_type": "stream",
     "text": [
      "/home/estorrs/miniconda3/envs/pollock_dev/lib/python3.7/site-packages/numpy/lib/format.py:350: UserWarning: metadata on a dtype may be saved or ignored, but will raise if saved when read. Use another form of storage.\n",
      "  d['descr'] = dtype_to_descr(array.dtype)\n",
      "/home/estorrs/miniconda3/envs/pollock_dev/lib/python3.7/site-packages/anndata/_core/anndata.py:1094: FutureWarning: is_categorical is deprecated and will be removed in a future version.  Use is_categorical_dtype instead\n",
      "  if not is_categorical(df_full[k]):\n",
      "2021-05-14 10:59:15,326 0 genes in training set are missing from prediction set\n",
      "2021-05-14 10:59:15,453 starting batch 1 of 2\n",
      "/home/estorrs/miniconda3/envs/pollock_dev/lib/python3.7/site-packages/anndata/_core/anndata.py:1094: FutureWarning: is_categorical is deprecated and will be removed in a future version.  Use is_categorical_dtype instead\n",
      "  if not is_categorical(df_full[k]):\n",
      "2021-05-14 10:59:15,511 0 genes in training set are missing from prediction set\n",
      "2021-05-14 10:59:15,674 starting batch 2 of 2\n",
      "/home/estorrs/miniconda3/envs/pollock_dev/lib/python3.7/site-packages/anndata/_core/anndata.py:1094: FutureWarning: is_categorical is deprecated and will be removed in a future version.  Use is_categorical_dtype instead\n",
      "  if not is_categorical(df_full[k]):\n",
      "2021-05-14 10:59:15,732 0 genes in training set are missing from prediction set\n"
     ]
    },
    {
     "name": "stdout",
     "output_type": "stream",
     "text": [
      "snRNAseq brca (5252, 29175) (4893, 29175)\n",
      "(5252, 29175) (4893, 29175)\n"
     ]
    },
    {
     "name": "stderr",
     "output_type": "stream",
     "text": [
      "2021-05-14 10:59:27,664 input dataset shape: (10145, 29175)\n",
      "2021-05-14 10:59:27,667 possible cell types: ['Adipocyte', 'B cell', 'CD4 T cell', 'CD8 T cell', 'Dendritic', 'Endothelial', 'Fibroblast', 'Malignant', 'Mast', 'Monocyte', 'NK', 'Plasma', 'Treg']\n",
      "2021-05-14 10:59:27,668 using validation key\n",
      "/home/estorrs/miniconda3/envs/pollock_dev/lib/python3.7/site-packages/anndata/_core/anndata.py:1094: FutureWarning: is_categorical is deprecated and will be removed in a future version.  Use is_categorical_dtype instead\n",
      "  if not is_categorical(df_full[k]):\n",
      "/home/estorrs/miniconda3/envs/pollock_dev/lib/python3.7/site-packages/anndata/_core/anndata.py:1094: FutureWarning: is_categorical is deprecated and will be removed in a future version.  Use is_categorical_dtype instead\n",
      "  if not is_categorical(df_full[k]):\n",
      "/home/estorrs/miniconda3/envs/pollock_dev/lib/python3.7/site-packages/anndata/_core/anndata.py:1094: FutureWarning: is_categorical is deprecated and will be removed in a future version.  Use is_categorical_dtype instead\n",
      "  if not is_categorical(df_full[k]):\n",
      "2021-05-14 10:59:47,405 epoch: 1, train loss: 41.4021110534668, val loss: 48.89822006225586\n",
      "/home/estorrs/miniconda3/envs/pollock_dev/lib/python3.7/site-packages/anndata/_core/anndata.py:1094: FutureWarning: is_categorical is deprecated and will be removed in a future version.  Use is_categorical_dtype instead\n",
      "  if not is_categorical(df_full[k]):\n",
      "/home/estorrs/miniconda3/envs/pollock_dev/lib/python3.7/site-packages/anndata/_core/anndata.py:1094: FutureWarning: is_categorical is deprecated and will be removed in a future version.  Use is_categorical_dtype instead\n",
      "  if not is_categorical(df_full[k]):\n",
      "2021-05-14 11:00:03,690 epoch: 2, train loss: 40.49360656738281, val loss: 48.08216094970703\n",
      "/home/estorrs/miniconda3/envs/pollock_dev/lib/python3.7/site-packages/anndata/_core/anndata.py:1094: FutureWarning: is_categorical is deprecated and will be removed in a future version.  Use is_categorical_dtype instead\n",
      "  if not is_categorical(df_full[k]):\n",
      "/home/estorrs/miniconda3/envs/pollock_dev/lib/python3.7/site-packages/anndata/_core/anndata.py:1094: FutureWarning: is_categorical is deprecated and will be removed in a future version.  Use is_categorical_dtype instead\n",
      "  if not is_categorical(df_full[k]):\n",
      "2021-05-14 11:00:19,915 epoch: 3, train loss: 40.11518859863281, val loss: 47.90730285644531\n",
      "/home/estorrs/miniconda3/envs/pollock_dev/lib/python3.7/site-packages/anndata/_core/anndata.py:1094: FutureWarning: is_categorical is deprecated and will be removed in a future version.  Use is_categorical_dtype instead\n",
      "  if not is_categorical(df_full[k]):\n",
      "/home/estorrs/miniconda3/envs/pollock_dev/lib/python3.7/site-packages/anndata/_core/anndata.py:1094: FutureWarning: is_categorical is deprecated and will be removed in a future version.  Use is_categorical_dtype instead\n",
      "  if not is_categorical(df_full[k]):\n",
      "2021-05-14 11:00:36,716 epoch: 4, train loss: 39.81276321411133, val loss: 47.50327682495117\n",
      "/home/estorrs/miniconda3/envs/pollock_dev/lib/python3.7/site-packages/anndata/_core/anndata.py:1094: FutureWarning: is_categorical is deprecated and will be removed in a future version.  Use is_categorical_dtype instead\n",
      "  if not is_categorical(df_full[k]):\n",
      "/home/estorrs/miniconda3/envs/pollock_dev/lib/python3.7/site-packages/anndata/_core/anndata.py:1094: FutureWarning: is_categorical is deprecated and will be removed in a future version.  Use is_categorical_dtype instead\n",
      "  if not is_categorical(df_full[k]):\n",
      "2021-05-14 11:00:53,648 epoch: 5, train loss: 39.55739212036133, val loss: 47.32025146484375\n",
      "/home/estorrs/miniconda3/envs/pollock_dev/lib/python3.7/site-packages/anndata/_core/anndata.py:1094: FutureWarning: is_categorical is deprecated and will be removed in a future version.  Use is_categorical_dtype instead\n",
      "  if not is_categorical(df_full[k]):\n",
      "/home/estorrs/miniconda3/envs/pollock_dev/lib/python3.7/site-packages/anndata/_core/anndata.py:1094: FutureWarning: is_categorical is deprecated and will be removed in a future version.  Use is_categorical_dtype instead\n",
      "  if not is_categorical(df_full[k]):\n",
      "2021-05-14 11:01:09,973 epoch: 6, train loss: 39.38369369506836, val loss: 47.20580291748047\n",
      "/home/estorrs/miniconda3/envs/pollock_dev/lib/python3.7/site-packages/anndata/_core/anndata.py:1094: FutureWarning: is_categorical is deprecated and will be removed in a future version.  Use is_categorical_dtype instead\n",
      "  if not is_categorical(df_full[k]):\n",
      "/home/estorrs/miniconda3/envs/pollock_dev/lib/python3.7/site-packages/anndata/_core/anndata.py:1094: FutureWarning: is_categorical is deprecated and will be removed in a future version.  Use is_categorical_dtype instead\n",
      "  if not is_categorical(df_full[k]):\n",
      "2021-05-14 11:01:26,382 epoch: 7, train loss: 39.12498474121094, val loss: 47.07952880859375\n",
      "/home/estorrs/miniconda3/envs/pollock_dev/lib/python3.7/site-packages/anndata/_core/anndata.py:1094: FutureWarning: is_categorical is deprecated and will be removed in a future version.  Use is_categorical_dtype instead\n",
      "  if not is_categorical(df_full[k]):\n",
      "/home/estorrs/miniconda3/envs/pollock_dev/lib/python3.7/site-packages/anndata/_core/anndata.py:1094: FutureWarning: is_categorical is deprecated and will be removed in a future version.  Use is_categorical_dtype instead\n",
      "  if not is_categorical(df_full[k]):\n",
      "2021-05-14 11:01:43,913 epoch: 8, train loss: 39.0069694519043, val loss: 46.983795166015625\n",
      "/home/estorrs/miniconda3/envs/pollock_dev/lib/python3.7/site-packages/anndata/_core/anndata.py:1094: FutureWarning: is_categorical is deprecated and will be removed in a future version.  Use is_categorical_dtype instead\n",
      "  if not is_categorical(df_full[k]):\n",
      "/home/estorrs/miniconda3/envs/pollock_dev/lib/python3.7/site-packages/anndata/_core/anndata.py:1094: FutureWarning: is_categorical is deprecated and will be removed in a future version.  Use is_categorical_dtype instead\n",
      "  if not is_categorical(df_full[k]):\n",
      "2021-05-14 11:02:01,011 epoch: 9, train loss: 38.8171501159668, val loss: 46.923370361328125\n",
      "/home/estorrs/miniconda3/envs/pollock_dev/lib/python3.7/site-packages/anndata/_core/anndata.py:1094: FutureWarning: is_categorical is deprecated and will be removed in a future version.  Use is_categorical_dtype instead\n",
      "  if not is_categorical(df_full[k]):\n",
      "/home/estorrs/miniconda3/envs/pollock_dev/lib/python3.7/site-packages/anndata/_core/anndata.py:1094: FutureWarning: is_categorical is deprecated and will be removed in a future version.  Use is_categorical_dtype instead\n",
      "  if not is_categorical(df_full[k]):\n",
      "2021-05-14 11:02:18,195 epoch: 10, train loss: 38.672855377197266, val loss: 46.89777374267578\n",
      "/home/estorrs/miniconda3/envs/pollock_dev/lib/python3.7/site-packages/anndata/_core/anndata.py:1094: FutureWarning: is_categorical is deprecated and will be removed in a future version.  Use is_categorical_dtype instead\n",
      "  if not is_categorical(df_full[k]):\n",
      "/home/estorrs/miniconda3/envs/pollock_dev/lib/python3.7/site-packages/anndata/_core/anndata.py:1094: FutureWarning: is_categorical is deprecated and will be removed in a future version.  Use is_categorical_dtype instead\n",
      "  if not is_categorical(df_full[k]):\n",
      "2021-05-14 11:02:34,775 epoch: 11, train loss: 38.562294006347656, val loss: 47.03957748413086\n",
      "/home/estorrs/miniconda3/envs/pollock_dev/lib/python3.7/site-packages/anndata/_core/anndata.py:1094: FutureWarning: is_categorical is deprecated and will be removed in a future version.  Use is_categorical_dtype instead\n",
      "  if not is_categorical(df_full[k]):\n",
      "/home/estorrs/miniconda3/envs/pollock_dev/lib/python3.7/site-packages/anndata/_core/anndata.py:1094: FutureWarning: is_categorical is deprecated and will be removed in a future version.  Use is_categorical_dtype instead\n",
      "  if not is_categorical(df_full[k]):\n",
      "2021-05-14 11:02:52,958 epoch: 12, train loss: 38.414859771728516, val loss: 46.948890686035156\n",
      "/home/estorrs/miniconda3/envs/pollock_dev/lib/python3.7/site-packages/anndata/_core/anndata.py:1094: FutureWarning: is_categorical is deprecated and will be removed in a future version.  Use is_categorical_dtype instead\n",
      "  if not is_categorical(df_full[k]):\n",
      "/home/estorrs/miniconda3/envs/pollock_dev/lib/python3.7/site-packages/anndata/_core/anndata.py:1094: FutureWarning: is_categorical is deprecated and will be removed in a future version.  Use is_categorical_dtype instead\n",
      "  if not is_categorical(df_full[k]):\n"
     ]
    },
    {
     "name": "stderr",
     "output_type": "stream",
     "text": [
      "2021-05-14 11:03:10,191 epoch: 13, train loss: 38.23927688598633, val loss: 47.008785247802734\n",
      "/home/estorrs/miniconda3/envs/pollock_dev/lib/python3.7/site-packages/anndata/_core/anndata.py:1094: FutureWarning: is_categorical is deprecated and will be removed in a future version.  Use is_categorical_dtype instead\n",
      "  if not is_categorical(df_full[k]):\n",
      "/home/estorrs/miniconda3/envs/pollock_dev/lib/python3.7/site-packages/anndata/_core/anndata.py:1094: FutureWarning: is_categorical is deprecated and will be removed in a future version.  Use is_categorical_dtype instead\n",
      "  if not is_categorical(df_full[k]):\n",
      "2021-05-14 11:03:27,079 epoch: 14, train loss: 38.05738830566406, val loss: 46.938026428222656\n",
      "/home/estorrs/miniconda3/envs/pollock_dev/lib/python3.7/site-packages/anndata/_core/anndata.py:1094: FutureWarning: is_categorical is deprecated and will be removed in a future version.  Use is_categorical_dtype instead\n",
      "  if not is_categorical(df_full[k]):\n",
      "/home/estorrs/miniconda3/envs/pollock_dev/lib/python3.7/site-packages/anndata/_core/anndata.py:1094: FutureWarning: is_categorical is deprecated and will be removed in a future version.  Use is_categorical_dtype instead\n",
      "  if not is_categorical(df_full[k]):\n",
      "2021-05-14 11:03:43,433 epoch: 15, train loss: 37.94054412841797, val loss: 47.014102935791016\n"
     ]
    },
    {
     "name": "stdout",
     "output_type": "stream",
     "text": [
      "True\n"
     ]
    },
    {
     "name": "stderr",
     "output_type": "stream",
     "text": [
      "/home/estorrs/miniconda3/envs/pollock_dev/lib/python3.7/site-packages/numpy/lib/format.py:350: UserWarning: metadata on a dtype may be saved or ignored, but will raise if saved when read. Use another form of storage.\n",
      "  d['descr'] = dtype_to_descr(array.dtype)\n",
      "/home/estorrs/miniconda3/envs/pollock_dev/lib/python3.7/site-packages/anndata/_core/anndata.py:1094: FutureWarning: is_categorical is deprecated and will be removed in a future version.  Use is_categorical_dtype instead\n",
      "  if not is_categorical(df_full[k]):\n",
      "2021-05-14 11:03:56,941 0 genes in training set are missing from prediction set\n",
      "2021-05-14 11:03:57,598 starting batch 1 of 2\n",
      "/home/estorrs/miniconda3/envs/pollock_dev/lib/python3.7/site-packages/anndata/_core/anndata.py:1094: FutureWarning: is_categorical is deprecated and will be removed in a future version.  Use is_categorical_dtype instead\n",
      "  if not is_categorical(df_full[k]):\n",
      "2021-05-14 11:03:57,707 0 genes in training set are missing from prediction set\n",
      "2021-05-14 11:04:05,543 starting batch 2 of 2\n",
      "/home/estorrs/miniconda3/envs/pollock_dev/lib/python3.7/site-packages/anndata/_core/anndata.py:1094: FutureWarning: is_categorical is deprecated and will be removed in a future version.  Use is_categorical_dtype instead\n",
      "  if not is_categorical(df_full[k]):\n",
      "2021-05-14 11:04:06,017 0 genes in training set are missing from prediction set\n"
     ]
    },
    {
     "name": "stdout",
     "output_type": "stream",
     "text": [
      "snRNAseq ccrcc (4754, 33538) (4518, 33538)\n",
      "(4754, 33538) (4518, 33538)\n"
     ]
    },
    {
     "name": "stderr",
     "output_type": "stream",
     "text": [
      "2021-05-14 11:04:27,040 input dataset shape: (9272, 33538)\n",
      "2021-05-14 11:04:27,042 possible cell types: ['CD4 T cell', 'CD8 T cell', 'Dendritic', 'Endothelial', 'Epithelial', 'Fibroblast', 'Malignant', 'Monocyte', 'NK', 'Plasma', 'Treg']\n",
      "2021-05-14 11:04:27,042 using validation key\n",
      "/home/estorrs/miniconda3/envs/pollock_dev/lib/python3.7/site-packages/anndata/_core/anndata.py:1094: FutureWarning: is_categorical is deprecated and will be removed in a future version.  Use is_categorical_dtype instead\n",
      "  if not is_categorical(df_full[k]):\n",
      "/home/estorrs/miniconda3/envs/pollock_dev/lib/python3.7/site-packages/anndata/_core/anndata.py:1094: FutureWarning: is_categorical is deprecated and will be removed in a future version.  Use is_categorical_dtype instead\n",
      "  if not is_categorical(df_full[k]):\n",
      "/home/estorrs/miniconda3/envs/pollock_dev/lib/python3.7/site-packages/anndata/_core/anndata.py:1094: FutureWarning: is_categorical is deprecated and will be removed in a future version.  Use is_categorical_dtype instead\n",
      "  if not is_categorical(df_full[k]):\n",
      "2021-05-14 11:04:46,555 epoch: 1, train loss: 39.37352752685547, val loss: 57.88219451904297\n",
      "/home/estorrs/miniconda3/envs/pollock_dev/lib/python3.7/site-packages/anndata/_core/anndata.py:1094: FutureWarning: is_categorical is deprecated and will be removed in a future version.  Use is_categorical_dtype instead\n",
      "  if not is_categorical(df_full[k]):\n",
      "/home/estorrs/miniconda3/envs/pollock_dev/lib/python3.7/site-packages/anndata/_core/anndata.py:1094: FutureWarning: is_categorical is deprecated and will be removed in a future version.  Use is_categorical_dtype instead\n",
      "  if not is_categorical(df_full[k]):\n",
      "2021-05-14 11:05:03,995 epoch: 2, train loss: 38.72649002075195, val loss: 56.877872467041016\n",
      "/home/estorrs/miniconda3/envs/pollock_dev/lib/python3.7/site-packages/anndata/_core/anndata.py:1094: FutureWarning: is_categorical is deprecated and will be removed in a future version.  Use is_categorical_dtype instead\n",
      "  if not is_categorical(df_full[k]):\n",
      "/home/estorrs/miniconda3/envs/pollock_dev/lib/python3.7/site-packages/anndata/_core/anndata.py:1094: FutureWarning: is_categorical is deprecated and will be removed in a future version.  Use is_categorical_dtype instead\n",
      "  if not is_categorical(df_full[k]):\n",
      "2021-05-14 11:05:20,994 epoch: 3, train loss: 38.35871887207031, val loss: 56.07912826538086\n",
      "/home/estorrs/miniconda3/envs/pollock_dev/lib/python3.7/site-packages/anndata/_core/anndata.py:1094: FutureWarning: is_categorical is deprecated and will be removed in a future version.  Use is_categorical_dtype instead\n",
      "  if not is_categorical(df_full[k]):\n",
      "/home/estorrs/miniconda3/envs/pollock_dev/lib/python3.7/site-packages/anndata/_core/anndata.py:1094: FutureWarning: is_categorical is deprecated and will be removed in a future version.  Use is_categorical_dtype instead\n",
      "  if not is_categorical(df_full[k]):\n",
      "2021-05-14 11:05:38,056 epoch: 4, train loss: 38.15544891357422, val loss: 55.74953079223633\n",
      "/home/estorrs/miniconda3/envs/pollock_dev/lib/python3.7/site-packages/anndata/_core/anndata.py:1094: FutureWarning: is_categorical is deprecated and will be removed in a future version.  Use is_categorical_dtype instead\n",
      "  if not is_categorical(df_full[k]):\n",
      "/home/estorrs/miniconda3/envs/pollock_dev/lib/python3.7/site-packages/anndata/_core/anndata.py:1094: FutureWarning: is_categorical is deprecated and will be removed in a future version.  Use is_categorical_dtype instead\n",
      "  if not is_categorical(df_full[k]):\n",
      "2021-05-14 11:05:54,704 epoch: 5, train loss: 37.85013198852539, val loss: 55.59606170654297\n",
      "/home/estorrs/miniconda3/envs/pollock_dev/lib/python3.7/site-packages/anndata/_core/anndata.py:1094: FutureWarning: is_categorical is deprecated and will be removed in a future version.  Use is_categorical_dtype instead\n",
      "  if not is_categorical(df_full[k]):\n",
      "/home/estorrs/miniconda3/envs/pollock_dev/lib/python3.7/site-packages/anndata/_core/anndata.py:1094: FutureWarning: is_categorical is deprecated and will be removed in a future version.  Use is_categorical_dtype instead\n",
      "  if not is_categorical(df_full[k]):\n",
      "2021-05-14 11:06:12,130 epoch: 6, train loss: 38.020450592041016, val loss: 55.82959747314453\n",
      "/home/estorrs/miniconda3/envs/pollock_dev/lib/python3.7/site-packages/anndata/_core/anndata.py:1094: FutureWarning: is_categorical is deprecated and will be removed in a future version.  Use is_categorical_dtype instead\n",
      "  if not is_categorical(df_full[k]):\n",
      "/home/estorrs/miniconda3/envs/pollock_dev/lib/python3.7/site-packages/anndata/_core/anndata.py:1094: FutureWarning: is_categorical is deprecated and will be removed in a future version.  Use is_categorical_dtype instead\n",
      "  if not is_categorical(df_full[k]):\n",
      "2021-05-14 11:06:29,233 epoch: 7, train loss: 37.56201934814453, val loss: 55.32877731323242\n",
      "/home/estorrs/miniconda3/envs/pollock_dev/lib/python3.7/site-packages/anndata/_core/anndata.py:1094: FutureWarning: is_categorical is deprecated and will be removed in a future version.  Use is_categorical_dtype instead\n",
      "  if not is_categorical(df_full[k]):\n",
      "/home/estorrs/miniconda3/envs/pollock_dev/lib/python3.7/site-packages/anndata/_core/anndata.py:1094: FutureWarning: is_categorical is deprecated and will be removed in a future version.  Use is_categorical_dtype instead\n",
      "  if not is_categorical(df_full[k]):\n",
      "2021-05-14 11:06:46,381 epoch: 8, train loss: 37.411888122558594, val loss: 55.33776092529297\n",
      "/home/estorrs/miniconda3/envs/pollock_dev/lib/python3.7/site-packages/anndata/_core/anndata.py:1094: FutureWarning: is_categorical is deprecated and will be removed in a future version.  Use is_categorical_dtype instead\n",
      "  if not is_categorical(df_full[k]):\n",
      "/home/estorrs/miniconda3/envs/pollock_dev/lib/python3.7/site-packages/anndata/_core/anndata.py:1094: FutureWarning: is_categorical is deprecated and will be removed in a future version.  Use is_categorical_dtype instead\n",
      "  if not is_categorical(df_full[k]):\n",
      "2021-05-14 11:07:03,242 epoch: 9, train loss: 37.207725524902344, val loss: 55.320159912109375\n",
      "/home/estorrs/miniconda3/envs/pollock_dev/lib/python3.7/site-packages/anndata/_core/anndata.py:1094: FutureWarning: is_categorical is deprecated and will be removed in a future version.  Use is_categorical_dtype instead\n",
      "  if not is_categorical(df_full[k]):\n",
      "/home/estorrs/miniconda3/envs/pollock_dev/lib/python3.7/site-packages/anndata/_core/anndata.py:1094: FutureWarning: is_categorical is deprecated and will be removed in a future version.  Use is_categorical_dtype instead\n",
      "  if not is_categorical(df_full[k]):\n",
      "2021-05-14 11:07:20,618 epoch: 10, train loss: 37.076690673828125, val loss: 55.279518127441406\n",
      "/home/estorrs/miniconda3/envs/pollock_dev/lib/python3.7/site-packages/anndata/_core/anndata.py:1094: FutureWarning: is_categorical is deprecated and will be removed in a future version.  Use is_categorical_dtype instead\n",
      "  if not is_categorical(df_full[k]):\n",
      "/home/estorrs/miniconda3/envs/pollock_dev/lib/python3.7/site-packages/anndata/_core/anndata.py:1094: FutureWarning: is_categorical is deprecated and will be removed in a future version.  Use is_categorical_dtype instead\n",
      "  if not is_categorical(df_full[k]):\n",
      "2021-05-14 11:07:37,913 epoch: 11, train loss: 36.95612716674805, val loss: 55.24348449707031\n",
      "/home/estorrs/miniconda3/envs/pollock_dev/lib/python3.7/site-packages/anndata/_core/anndata.py:1094: FutureWarning: is_categorical is deprecated and will be removed in a future version.  Use is_categorical_dtype instead\n",
      "  if not is_categorical(df_full[k]):\n",
      "/home/estorrs/miniconda3/envs/pollock_dev/lib/python3.7/site-packages/anndata/_core/anndata.py:1094: FutureWarning: is_categorical is deprecated and will be removed in a future version.  Use is_categorical_dtype instead\n",
      "  if not is_categorical(df_full[k]):\n",
      "2021-05-14 11:07:55,167 epoch: 12, train loss: 36.752925872802734, val loss: 55.286495208740234\n",
      "/home/estorrs/miniconda3/envs/pollock_dev/lib/python3.7/site-packages/anndata/_core/anndata.py:1094: FutureWarning: is_categorical is deprecated and will be removed in a future version.  Use is_categorical_dtype instead\n",
      "  if not is_categorical(df_full[k]):\n",
      "/home/estorrs/miniconda3/envs/pollock_dev/lib/python3.7/site-packages/anndata/_core/anndata.py:1094: FutureWarning: is_categorical is deprecated and will be removed in a future version.  Use is_categorical_dtype instead\n",
      "  if not is_categorical(df_full[k]):\n"
     ]
    },
    {
     "name": "stderr",
     "output_type": "stream",
     "text": [
      "2021-05-14 11:08:11,943 epoch: 13, train loss: 36.70231628417969, val loss: 55.37226486206055\n",
      "/home/estorrs/miniconda3/envs/pollock_dev/lib/python3.7/site-packages/anndata/_core/anndata.py:1094: FutureWarning: is_categorical is deprecated and will be removed in a future version.  Use is_categorical_dtype instead\n",
      "  if not is_categorical(df_full[k]):\n",
      "/home/estorrs/miniconda3/envs/pollock_dev/lib/python3.7/site-packages/anndata/_core/anndata.py:1094: FutureWarning: is_categorical is deprecated and will be removed in a future version.  Use is_categorical_dtype instead\n",
      "  if not is_categorical(df_full[k]):\n",
      "2021-05-14 11:08:30,291 epoch: 14, train loss: 36.57027816772461, val loss: 55.383338928222656\n",
      "/home/estorrs/miniconda3/envs/pollock_dev/lib/python3.7/site-packages/anndata/_core/anndata.py:1094: FutureWarning: is_categorical is deprecated and will be removed in a future version.  Use is_categorical_dtype instead\n",
      "  if not is_categorical(df_full[k]):\n",
      "/home/estorrs/miniconda3/envs/pollock_dev/lib/python3.7/site-packages/anndata/_core/anndata.py:1094: FutureWarning: is_categorical is deprecated and will be removed in a future version.  Use is_categorical_dtype instead\n",
      "  if not is_categorical(df_full[k]):\n",
      "2021-05-14 11:08:47,684 epoch: 15, train loss: 36.45988845825195, val loss: 55.310096740722656\n"
     ]
    },
    {
     "name": "stdout",
     "output_type": "stream",
     "text": [
      "True\n"
     ]
    },
    {
     "name": "stderr",
     "output_type": "stream",
     "text": [
      "/home/estorrs/miniconda3/envs/pollock_dev/lib/python3.7/site-packages/numpy/lib/format.py:350: UserWarning: metadata on a dtype may be saved or ignored, but will raise if saved when read. Use another form of storage.\n",
      "  d['descr'] = dtype_to_descr(array.dtype)\n",
      "/home/estorrs/miniconda3/envs/pollock_dev/lib/python3.7/site-packages/anndata/_core/anndata.py:1094: FutureWarning: is_categorical is deprecated and will be removed in a future version.  Use is_categorical_dtype instead\n",
      "  if not is_categorical(df_full[k]):\n",
      "2021-05-14 11:08:59,931 0 genes in training set are missing from prediction set\n",
      "2021-05-14 11:09:00,631 starting batch 1 of 2\n",
      "/home/estorrs/miniconda3/envs/pollock_dev/lib/python3.7/site-packages/anndata/_core/anndata.py:1094: FutureWarning: is_categorical is deprecated and will be removed in a future version.  Use is_categorical_dtype instead\n",
      "  if not is_categorical(df_full[k]):\n",
      "2021-05-14 11:09:00,756 0 genes in training set are missing from prediction set\n",
      "2021-05-14 11:09:09,414 starting batch 2 of 2\n",
      "/home/estorrs/miniconda3/envs/pollock_dev/lib/python3.7/site-packages/anndata/_core/anndata.py:1094: FutureWarning: is_categorical is deprecated and will be removed in a future version.  Use is_categorical_dtype instead\n",
      "  if not is_categorical(df_full[k]):\n",
      "2021-05-14 11:09:09,532 0 genes in training set are missing from prediction set\n"
     ]
    },
    {
     "name": "stdout",
     "output_type": "stream",
     "text": [
      "snRNAseq gbm (3722, 29748) (3577, 29748)\n",
      "(3722, 29748) (3577, 29748)\n"
     ]
    },
    {
     "name": "stderr",
     "output_type": "stream",
     "text": [
      "2021-05-14 11:09:27,060 input dataset shape: (7299, 29748)\n",
      "2021-05-14 11:09:27,064 possible cell types: ['B cell', 'Endothelial', 'Fibroblast', 'Malignant', 'Microglia', 'Monocyte', 'Neuron', 'Oligodendrocytes', 'T cells']\n",
      "2021-05-14 11:09:27,065 using validation key\n",
      "/home/estorrs/miniconda3/envs/pollock_dev/lib/python3.7/site-packages/anndata/_core/anndata.py:1094: FutureWarning: is_categorical is deprecated and will be removed in a future version.  Use is_categorical_dtype instead\n",
      "  if not is_categorical(df_full[k]):\n",
      "/home/estorrs/miniconda3/envs/pollock_dev/lib/python3.7/site-packages/anndata/_core/anndata.py:1094: FutureWarning: is_categorical is deprecated and will be removed in a future version.  Use is_categorical_dtype instead\n",
      "  if not is_categorical(df_full[k]):\n",
      "/home/estorrs/miniconda3/envs/pollock_dev/lib/python3.7/site-packages/anndata/_core/anndata.py:1094: FutureWarning: is_categorical is deprecated and will be removed in a future version.  Use is_categorical_dtype instead\n",
      "  if not is_categorical(df_full[k]):\n",
      "2021-05-14 11:09:42,376 epoch: 1, train loss: 47.32548522949219, val loss: 45.10520553588867\n",
      "/home/estorrs/miniconda3/envs/pollock_dev/lib/python3.7/site-packages/anndata/_core/anndata.py:1094: FutureWarning: is_categorical is deprecated and will be removed in a future version.  Use is_categorical_dtype instead\n",
      "  if not is_categorical(df_full[k]):\n",
      "/home/estorrs/miniconda3/envs/pollock_dev/lib/python3.7/site-packages/anndata/_core/anndata.py:1094: FutureWarning: is_categorical is deprecated and will be removed in a future version.  Use is_categorical_dtype instead\n",
      "  if not is_categorical(df_full[k]):\n",
      "2021-05-14 11:09:55,107 epoch: 2, train loss: 46.47967529296875, val loss: 44.60308837890625\n",
      "/home/estorrs/miniconda3/envs/pollock_dev/lib/python3.7/site-packages/anndata/_core/anndata.py:1094: FutureWarning: is_categorical is deprecated and will be removed in a future version.  Use is_categorical_dtype instead\n",
      "  if not is_categorical(df_full[k]):\n",
      "/home/estorrs/miniconda3/envs/pollock_dev/lib/python3.7/site-packages/anndata/_core/anndata.py:1094: FutureWarning: is_categorical is deprecated and will be removed in a future version.  Use is_categorical_dtype instead\n",
      "  if not is_categorical(df_full[k]):\n",
      "2021-05-14 11:10:07,901 epoch: 3, train loss: 45.93484878540039, val loss: 44.459510803222656\n",
      "/home/estorrs/miniconda3/envs/pollock_dev/lib/python3.7/site-packages/anndata/_core/anndata.py:1094: FutureWarning: is_categorical is deprecated and will be removed in a future version.  Use is_categorical_dtype instead\n",
      "  if not is_categorical(df_full[k]):\n",
      "/home/estorrs/miniconda3/envs/pollock_dev/lib/python3.7/site-packages/anndata/_core/anndata.py:1094: FutureWarning: is_categorical is deprecated and will be removed in a future version.  Use is_categorical_dtype instead\n",
      "  if not is_categorical(df_full[k]):\n",
      "2021-05-14 11:10:20,237 epoch: 4, train loss: 45.55021286010742, val loss: 44.257965087890625\n",
      "/home/estorrs/miniconda3/envs/pollock_dev/lib/python3.7/site-packages/anndata/_core/anndata.py:1094: FutureWarning: is_categorical is deprecated and will be removed in a future version.  Use is_categorical_dtype instead\n",
      "  if not is_categorical(df_full[k]):\n",
      "/home/estorrs/miniconda3/envs/pollock_dev/lib/python3.7/site-packages/anndata/_core/anndata.py:1094: FutureWarning: is_categorical is deprecated and will be removed in a future version.  Use is_categorical_dtype instead\n",
      "  if not is_categorical(df_full[k]):\n",
      "2021-05-14 11:10:32,602 epoch: 5, train loss: 45.19357681274414, val loss: 44.177154541015625\n",
      "/home/estorrs/miniconda3/envs/pollock_dev/lib/python3.7/site-packages/anndata/_core/anndata.py:1094: FutureWarning: is_categorical is deprecated and will be removed in a future version.  Use is_categorical_dtype instead\n",
      "  if not is_categorical(df_full[k]):\n",
      "/home/estorrs/miniconda3/envs/pollock_dev/lib/python3.7/site-packages/anndata/_core/anndata.py:1094: FutureWarning: is_categorical is deprecated and will be removed in a future version.  Use is_categorical_dtype instead\n",
      "  if not is_categorical(df_full[k]):\n",
      "2021-05-14 11:10:44,650 epoch: 6, train loss: 44.9975471496582, val loss: 44.07440948486328\n",
      "/home/estorrs/miniconda3/envs/pollock_dev/lib/python3.7/site-packages/anndata/_core/anndata.py:1094: FutureWarning: is_categorical is deprecated and will be removed in a future version.  Use is_categorical_dtype instead\n",
      "  if not is_categorical(df_full[k]):\n",
      "/home/estorrs/miniconda3/envs/pollock_dev/lib/python3.7/site-packages/anndata/_core/anndata.py:1094: FutureWarning: is_categorical is deprecated and will be removed in a future version.  Use is_categorical_dtype instead\n",
      "  if not is_categorical(df_full[k]):\n",
      "2021-05-14 11:10:57,246 epoch: 7, train loss: 44.72785949707031, val loss: 43.996803283691406\n",
      "/home/estorrs/miniconda3/envs/pollock_dev/lib/python3.7/site-packages/anndata/_core/anndata.py:1094: FutureWarning: is_categorical is deprecated and will be removed in a future version.  Use is_categorical_dtype instead\n",
      "  if not is_categorical(df_full[k]):\n",
      "/home/estorrs/miniconda3/envs/pollock_dev/lib/python3.7/site-packages/anndata/_core/anndata.py:1094: FutureWarning: is_categorical is deprecated and will be removed in a future version.  Use is_categorical_dtype instead\n",
      "  if not is_categorical(df_full[k]):\n",
      "2021-05-14 11:11:09,456 epoch: 8, train loss: 44.54603576660156, val loss: 43.952735900878906\n",
      "/home/estorrs/miniconda3/envs/pollock_dev/lib/python3.7/site-packages/anndata/_core/anndata.py:1094: FutureWarning: is_categorical is deprecated and will be removed in a future version.  Use is_categorical_dtype instead\n",
      "  if not is_categorical(df_full[k]):\n",
      "/home/estorrs/miniconda3/envs/pollock_dev/lib/python3.7/site-packages/anndata/_core/anndata.py:1094: FutureWarning: is_categorical is deprecated and will be removed in a future version.  Use is_categorical_dtype instead\n",
      "  if not is_categorical(df_full[k]):\n",
      "2021-05-14 11:11:21,366 epoch: 9, train loss: 44.18629455566406, val loss: 43.920562744140625\n",
      "/home/estorrs/miniconda3/envs/pollock_dev/lib/python3.7/site-packages/anndata/_core/anndata.py:1094: FutureWarning: is_categorical is deprecated and will be removed in a future version.  Use is_categorical_dtype instead\n",
      "  if not is_categorical(df_full[k]):\n",
      "/home/estorrs/miniconda3/envs/pollock_dev/lib/python3.7/site-packages/anndata/_core/anndata.py:1094: FutureWarning: is_categorical is deprecated and will be removed in a future version.  Use is_categorical_dtype instead\n",
      "  if not is_categorical(df_full[k]):\n",
      "2021-05-14 11:11:33,114 epoch: 10, train loss: 44.131168365478516, val loss: 43.97617721557617\n",
      "/home/estorrs/miniconda3/envs/pollock_dev/lib/python3.7/site-packages/anndata/_core/anndata.py:1094: FutureWarning: is_categorical is deprecated and will be removed in a future version.  Use is_categorical_dtype instead\n",
      "  if not is_categorical(df_full[k]):\n",
      "/home/estorrs/miniconda3/envs/pollock_dev/lib/python3.7/site-packages/anndata/_core/anndata.py:1094: FutureWarning: is_categorical is deprecated and will be removed in a future version.  Use is_categorical_dtype instead\n",
      "  if not is_categorical(df_full[k]):\n",
      "2021-05-14 11:11:45,454 epoch: 11, train loss: 43.82084655761719, val loss: 43.90715026855469\n",
      "/home/estorrs/miniconda3/envs/pollock_dev/lib/python3.7/site-packages/anndata/_core/anndata.py:1094: FutureWarning: is_categorical is deprecated and will be removed in a future version.  Use is_categorical_dtype instead\n",
      "  if not is_categorical(df_full[k]):\n",
      "/home/estorrs/miniconda3/envs/pollock_dev/lib/python3.7/site-packages/anndata/_core/anndata.py:1094: FutureWarning: is_categorical is deprecated and will be removed in a future version.  Use is_categorical_dtype instead\n",
      "  if not is_categorical(df_full[k]):\n",
      "2021-05-14 11:11:57,689 epoch: 12, train loss: 43.52806091308594, val loss: 43.9320068359375\n",
      "/home/estorrs/miniconda3/envs/pollock_dev/lib/python3.7/site-packages/anndata/_core/anndata.py:1094: FutureWarning: is_categorical is deprecated and will be removed in a future version.  Use is_categorical_dtype instead\n",
      "  if not is_categorical(df_full[k]):\n",
      "/home/estorrs/miniconda3/envs/pollock_dev/lib/python3.7/site-packages/anndata/_core/anndata.py:1094: FutureWarning: is_categorical is deprecated and will be removed in a future version.  Use is_categorical_dtype instead\n",
      "  if not is_categorical(df_full[k]):\n"
     ]
    },
    {
     "name": "stderr",
     "output_type": "stream",
     "text": [
      "2021-05-14 11:12:09,704 epoch: 13, train loss: 43.34651565551758, val loss: 43.93813705444336\n",
      "/home/estorrs/miniconda3/envs/pollock_dev/lib/python3.7/site-packages/anndata/_core/anndata.py:1094: FutureWarning: is_categorical is deprecated and will be removed in a future version.  Use is_categorical_dtype instead\n",
      "  if not is_categorical(df_full[k]):\n",
      "/home/estorrs/miniconda3/envs/pollock_dev/lib/python3.7/site-packages/anndata/_core/anndata.py:1094: FutureWarning: is_categorical is deprecated and will be removed in a future version.  Use is_categorical_dtype instead\n",
      "  if not is_categorical(df_full[k]):\n",
      "2021-05-14 11:12:22,062 epoch: 14, train loss: 43.00531768798828, val loss: 43.9701042175293\n",
      "/home/estorrs/miniconda3/envs/pollock_dev/lib/python3.7/site-packages/anndata/_core/anndata.py:1094: FutureWarning: is_categorical is deprecated and will be removed in a future version.  Use is_categorical_dtype instead\n",
      "  if not is_categorical(df_full[k]):\n",
      "/home/estorrs/miniconda3/envs/pollock_dev/lib/python3.7/site-packages/anndata/_core/anndata.py:1094: FutureWarning: is_categorical is deprecated and will be removed in a future version.  Use is_categorical_dtype instead\n",
      "  if not is_categorical(df_full[k]):\n",
      "2021-05-14 11:12:34,032 epoch: 15, train loss: 42.69337463378906, val loss: 43.97084426879883\n"
     ]
    },
    {
     "name": "stdout",
     "output_type": "stream",
     "text": [
      "True\n"
     ]
    },
    {
     "name": "stderr",
     "output_type": "stream",
     "text": [
      "/home/estorrs/miniconda3/envs/pollock_dev/lib/python3.7/site-packages/numpy/lib/format.py:350: UserWarning: metadata on a dtype may be saved or ignored, but will raise if saved when read. Use another form of storage.\n",
      "  d['descr'] = dtype_to_descr(array.dtype)\n",
      "/home/estorrs/miniconda3/envs/pollock_dev/lib/python3.7/site-packages/anndata/_core/anndata.py:1094: FutureWarning: is_categorical is deprecated and will be removed in a future version.  Use is_categorical_dtype instead\n",
      "  if not is_categorical(df_full[k]):\n",
      "2021-05-14 11:12:43,148 0 genes in training set are missing from prediction set\n",
      "2021-05-14 11:12:43,681 starting batch 1 of 2\n",
      "/home/estorrs/miniconda3/envs/pollock_dev/lib/python3.7/site-packages/anndata/_core/anndata.py:1094: FutureWarning: is_categorical is deprecated and will be removed in a future version.  Use is_categorical_dtype instead\n",
      "  if not is_categorical(df_full[k]):\n",
      "2021-05-14 11:12:43,785 0 genes in training set are missing from prediction set\n",
      "2021-05-14 11:12:53,381 starting batch 2 of 2\n",
      "/home/estorrs/miniconda3/envs/pollock_dev/lib/python3.7/site-packages/anndata/_core/anndata.py:1094: FutureWarning: is_categorical is deprecated and will be removed in a future version.  Use is_categorical_dtype instead\n",
      "  if not is_categorical(df_full[k]):\n",
      "2021-05-14 11:12:53,471 0 genes in training set are missing from prediction set\n"
     ]
    }
   ],
   "source": [
    "run_workflow_for_datasets(adata_map, run_pollock_workflow, 'pollock', RESULTS_DIR)"
   ]
  },
  {
   "cell_type": "code",
   "execution_count": 27,
   "metadata": {},
   "outputs": [
    {
     "name": "stdout",
     "output_type": "stream",
     "text": [
      "scRNAseq brca_train_brca_val (6080, 27131) (5773, 27131)\n"
     ]
    },
    {
     "name": "stderr",
     "output_type": "stream",
     "text": [
      "2021-03-29 16:43:36,039 input dataset shape: (11853, 27131)\n",
      "2021-03-29 16:43:36,041 possible cell types: ['B cell', 'CD4 T cell', 'CD8 T cell', 'Dendritic', 'Endothelial', 'Erythrocyte', 'Fibroblast', 'Malignant', 'Mast', 'Monocyte', 'NK', 'Plasma', 'Treg']\n",
      "2021-03-29 16:43:36,042 using validation key\n",
      "2021-03-29 16:43:54,621 epoch: 1, train loss: 38.09257888793945, val loss: 45.976531982421875\n",
      "2021-03-29 16:44:10,634 epoch: 2, train loss: 37.1802978515625, val loss: 44.32764434814453\n",
      "2021-03-29 16:44:26,617 epoch: 3, train loss: 36.530113220214844, val loss: 43.4514274597168\n",
      "2021-03-29 16:44:42,776 epoch: 4, train loss: 36.08720397949219, val loss: 42.96310043334961\n",
      "2021-03-29 16:44:58,743 epoch: 5, train loss: 35.840293884277344, val loss: 42.747711181640625\n",
      "2021-03-29 16:45:14,678 epoch: 6, train loss: 35.62464141845703, val loss: 42.554988861083984\n",
      "2021-03-29 16:45:30,603 epoch: 7, train loss: 35.42350769042969, val loss: 42.33623504638672\n",
      "2021-03-29 16:45:46,562 epoch: 8, train loss: 35.238426208496094, val loss: 42.119834899902344\n",
      "2021-03-29 16:46:02,449 epoch: 9, train loss: 35.07086944580078, val loss: 41.95331573486328\n",
      "2021-03-29 16:46:17,925 epoch: 10, train loss: 34.917686462402344, val loss: 41.84651184082031\n",
      "2021-03-29 16:46:33,789 epoch: 11, train loss: 34.77726364135742, val loss: 41.75130844116211\n",
      "2021-03-29 16:46:49,731 epoch: 12, train loss: 34.64401626586914, val loss: 41.70060729980469\n",
      "2021-03-29 16:47:05,851 epoch: 13, train loss: 34.506263732910156, val loss: 41.637062072753906\n",
      "2021-03-29 16:47:21,855 epoch: 14, train loss: 34.365699768066406, val loss: 41.61223220825195\n",
      "2021-03-29 16:47:37,970 epoch: 15, train loss: 34.22215270996094, val loss: 41.59881591796875\n"
     ]
    },
    {
     "name": "stdout",
     "output_type": "stream",
     "text": [
      "True\n"
     ]
    },
    {
     "name": "stderr",
     "output_type": "stream",
     "text": [
      "2021-03-29 16:47:51,135 0 genes in training set are missing from prediction set\n",
      "2021-03-29 16:47:51,782 starting batch 1 of 3\n",
      "2021-03-29 16:47:51,885 0 genes in training set are missing from prediction set\n",
      "2021-03-29 16:47:57,503 starting batch 2 of 3\n",
      "2021-03-29 16:47:57,640 0 genes in training set are missing from prediction set\n",
      "2021-03-29 16:48:03,485 starting batch 3 of 3\n",
      "2021-03-29 16:48:03,605 0 genes in training set are missing from prediction set\n"
     ]
    },
    {
     "name": "stdout",
     "output_type": "stream",
     "text": [
      "scRNAseq brca_train_cesc_val (6080, 27131) (4277, 22928)\n"
     ]
    },
    {
     "name": "stderr",
     "output_type": "stream",
     "text": [
      "2021-03-29 16:48:15,065 input dataset shape: (10357, 22662)\n",
      "2021-03-29 16:48:15,067 possible cell types: ['B cell', 'CD4 T cell', 'CD8 T cell', 'Dendritic', 'Endothelial', 'Epithelial', 'Erythrocyte', 'Fibroblast', 'Malignant', 'Mast', 'Monocyte', 'NK', 'Plasma', 'Treg']\n",
      "2021-03-29 16:48:15,068 using validation key\n",
      "2021-03-29 16:48:30,150 epoch: 1, train loss: 25.401212692260742, val loss: 54.72344207763672\n",
      "2021-03-29 16:48:42,888 epoch: 2, train loss: 24.9804744720459, val loss: 53.31889343261719\n",
      "2021-03-29 16:48:55,623 epoch: 3, train loss: 24.573949813842773, val loss: 51.886512756347656\n",
      "2021-03-29 16:49:08,172 epoch: 4, train loss: 24.26601219177246, val loss: 51.30940628051758\n",
      "2021-03-29 16:49:20,730 epoch: 5, train loss: 24.05350112915039, val loss: 51.07929992675781\n",
      "2021-03-29 16:49:33,350 epoch: 6, train loss: 23.937894821166992, val loss: 50.913063049316406\n",
      "2021-03-29 16:49:45,947 epoch: 7, train loss: 23.835390090942383, val loss: 50.81753158569336\n",
      "2021-03-29 16:49:58,691 epoch: 8, train loss: 23.729190826416016, val loss: 50.652801513671875\n",
      "2021-03-29 16:50:11,360 epoch: 9, train loss: 23.62359619140625, val loss: 50.566688537597656\n",
      "2021-03-29 16:50:24,021 epoch: 10, train loss: 23.526447296142578, val loss: 50.4913330078125\n",
      "2021-03-29 16:50:36,831 epoch: 11, train loss: 23.4427547454834, val loss: 50.42144012451172\n",
      "2021-03-29 16:50:49,424 epoch: 12, train loss: 23.36555290222168, val loss: 50.33296585083008\n",
      "2021-03-29 16:51:02,013 epoch: 13, train loss: 23.29151153564453, val loss: 50.332481384277344\n",
      "2021-03-29 16:51:14,727 epoch: 14, train loss: 23.214313507080078, val loss: 50.26010513305664\n",
      "2021-03-29 16:51:27,499 epoch: 15, train loss: 23.141765594482422, val loss: 50.23345947265625\n"
     ]
    },
    {
     "name": "stdout",
     "output_type": "stream",
     "text": [
      "False\n"
     ]
    },
    {
     "name": "stderr",
     "output_type": "stream",
     "text": [
      "2021-03-29 16:51:36,780 0 genes in training set are missing from prediction set\n",
      "2021-03-29 16:51:37,320 starting batch 1 of 2\n",
      "2021-03-29 16:51:37,448 0 genes in training set are missing from prediction set\n",
      "2021-03-29 16:51:43,761 starting batch 2 of 2\n",
      "2021-03-29 16:51:43,879 0 genes in training set are missing from prediction set\n"
     ]
    },
    {
     "name": "stdout",
     "output_type": "stream",
     "text": [
      "scRNAseq brca_train_hnscc_val (6080, 27131) (5203, 26929)\n"
     ]
    },
    {
     "name": "stderr",
     "output_type": "stream",
     "text": [
      "2021-03-29 16:52:02,815 input dataset shape: (11283, 25823)\n",
      "2021-03-29 16:52:02,817 possible cell types: ['B cell', 'CD4 T cell', 'CD8 T cell', 'Dendritic', 'Endothelial', 'Erythrocyte', 'Fibroblast', 'Malignant', 'Mast', 'Monocyte', 'NK', 'Plasma', 'Treg']\n",
      "2021-03-29 16:52:02,818 using validation key\n",
      "2021-03-29 16:52:21,094 epoch: 1, train loss: 28.25162696838379, val loss: 21.737442016601562\n",
      "2021-03-29 16:52:36,203 epoch: 2, train loss: 27.667186737060547, val loss: 21.450454711914062\n",
      "2021-03-29 16:52:51,446 epoch: 3, train loss: 27.274856567382812, val loss: 21.276588439941406\n",
      "2021-03-29 16:53:06,749 epoch: 4, train loss: 26.981069564819336, val loss: 21.123579025268555\n",
      "2021-03-29 16:53:21,988 epoch: 5, train loss: 26.78883934020996, val loss: 21.005821228027344\n",
      "2021-03-29 16:53:36,983 epoch: 6, train loss: 26.656055450439453, val loss: 20.96187973022461\n",
      "2021-03-29 16:53:51,929 epoch: 7, train loss: 26.541343688964844, val loss: 20.9296875\n",
      "2021-03-29 16:54:07,222 epoch: 8, train loss: 26.417387008666992, val loss: 20.896209716796875\n",
      "2021-03-29 16:54:22,585 epoch: 9, train loss: 26.30510711669922, val loss: 20.856454849243164\n",
      "2021-03-29 16:54:37,795 epoch: 10, train loss: 26.20053482055664, val loss: 20.838178634643555\n",
      "2021-03-29 16:54:53,234 epoch: 11, train loss: 26.11178207397461, val loss: 20.807289123535156\n",
      "2021-03-29 16:55:08,388 epoch: 12, train loss: 26.023439407348633, val loss: 20.787330627441406\n",
      "2021-03-29 16:55:23,876 epoch: 13, train loss: 25.93661880493164, val loss: 20.76835823059082\n",
      "2021-03-29 16:55:39,226 epoch: 14, train loss: 25.854860305786133, val loss: 20.751962661743164\n",
      "2021-03-29 16:55:54,538 epoch: 15, train loss: 25.773527145385742, val loss: 20.739721298217773\n"
     ]
    },
    {
     "name": "stdout",
     "output_type": "stream",
     "text": [
      "False\n"
     ]
    },
    {
     "name": "stderr",
     "output_type": "stream",
     "text": [
      "2021-03-29 16:56:05,255 0 genes in training set are missing from prediction set\n",
      "2021-03-29 16:56:05,898 starting batch 1 of 3\n",
      "2021-03-29 16:56:05,983 0 genes in training set are missing from prediction set\n",
      "2021-03-29 16:56:12,457 starting batch 2 of 3\n",
      "2021-03-29 16:56:12,583 0 genes in training set are missing from prediction set\n",
      "2021-03-29 16:56:19,708 starting batch 3 of 3\n",
      "2021-03-29 16:56:19,798 0 genes in training set are missing from prediction set\n"
     ]
    },
    {
     "name": "stdout",
     "output_type": "stream",
     "text": [
      "scRNAseq brca_train_melanoma_val (6080, 27131) (3532, 23452)\n"
     ]
    },
    {
     "name": "stderr",
     "output_type": "stream",
     "text": [
      "2021-03-29 16:56:31,306 input dataset shape: (9612, 21535)\n",
      "2021-03-29 16:56:31,309 possible cell types: ['B cell', 'CD4 T cell', 'CD8 T cell', 'Dendritic', 'Endothelial', 'Erythrocyte', 'Fibroblast', 'Malignant', 'Mast', 'Monocyte', 'NK', 'Plasma', 'Treg']\n",
      "2021-03-29 16:56:31,310 using validation key\n",
      "2021-03-29 16:56:46,999 epoch: 1, train loss: 41.059566497802734, val loss: 32.81226348876953\n",
      "2021-03-29 16:56:59,821 epoch: 2, train loss: 40.10809326171875, val loss: 32.33860778808594\n",
      "2021-03-29 16:57:12,724 epoch: 3, train loss: 39.42149353027344, val loss: 32.070335388183594\n",
      "2021-03-29 16:57:25,712 epoch: 4, train loss: 38.89492416381836, val loss: 31.790212631225586\n",
      "2021-03-29 16:57:38,563 epoch: 5, train loss: 38.636817932128906, val loss: 31.659765243530273\n",
      "2021-03-29 16:57:51,345 epoch: 6, train loss: 38.40359878540039, val loss: 31.602153778076172\n",
      "2021-03-29 16:58:04,112 epoch: 7, train loss: 38.193965911865234, val loss: 31.54079246520996\n",
      "2021-03-29 16:58:17,089 epoch: 8, train loss: 38.00209045410156, val loss: 31.47332000732422\n",
      "2021-03-29 16:58:30,127 epoch: 9, train loss: 37.825599670410156, val loss: 31.444555282592773\n",
      "2021-03-29 16:58:43,029 epoch: 10, train loss: 37.667720794677734, val loss: 31.430164337158203\n",
      "2021-03-29 16:58:56,116 epoch: 11, train loss: 37.51980209350586, val loss: 31.40143585205078\n",
      "2021-03-29 16:59:09,155 epoch: 12, train loss: 37.38063430786133, val loss: 31.388063430786133\n",
      "2021-03-29 16:59:22,098 epoch: 13, train loss: 37.238243103027344, val loss: 31.379396438598633\n",
      "2021-03-29 16:59:34,925 epoch: 14, train loss: 37.102474212646484, val loss: 31.351560592651367\n",
      "2021-03-29 16:59:47,814 epoch: 15, train loss: 36.940555572509766, val loss: 31.351919174194336\n"
     ]
    },
    {
     "name": "stdout",
     "output_type": "stream",
     "text": [
      "False\n"
     ]
    },
    {
     "name": "stderr",
     "output_type": "stream",
     "text": [
      "2021-03-29 16:59:56,832 0 genes in training set are missing from prediction set\n",
      "2021-03-29 16:59:57,277 starting batch 1 of 2\n",
      "2021-03-29 16:59:57,396 0 genes in training set are missing from prediction set\n",
      "2021-03-29 17:00:01,819 starting batch 2 of 2\n",
      "2021-03-29 17:00:01,926 0 genes in training set are missing from prediction set\n"
     ]
    },
    {
     "name": "stdout",
     "output_type": "stream",
     "text": [
      "scRNAseq brca_train_myeloma_val (6080, 27131) (3312, 24020)\n"
     ]
    },
    {
     "name": "stderr",
     "output_type": "stream",
     "text": [
      "2021-03-29 17:00:10,665 input dataset shape: (9392, 19480)\n",
      "2021-03-29 17:00:10,667 possible cell types: ['B cell', 'CD4 T cell', 'CD8 T cell', 'Dendritic', 'Endothelial', 'Erythrocyte', 'Fibroblast', 'Malignant', 'Mast', 'Monocyte', 'NK', 'Plasma', 'Platlete', 'Treg']\n",
      "2021-03-29 17:00:10,667 using validation key\n",
      "2021-03-29 17:00:23,540 epoch: 1, train loss: 42.33722686767578, val loss: 22.070268630981445\n",
      "2021-03-29 17:00:34,619 epoch: 2, train loss: 41.27653121948242, val loss: 21.913171768188477\n",
      "2021-03-29 17:00:45,491 epoch: 3, train loss: 40.59590530395508, val loss: 21.777271270751953\n",
      "2021-03-29 17:00:56,503 epoch: 4, train loss: 40.11042785644531, val loss: 21.692485809326172\n",
      "2021-03-29 17:01:07,306 epoch: 5, train loss: 39.842872619628906, val loss: 21.618431091308594\n",
      "2021-03-29 17:01:18,198 epoch: 6, train loss: 39.59532165527344, val loss: 21.57975959777832\n",
      "2021-03-29 17:01:29,303 epoch: 7, train loss: 39.37381362915039, val loss: 21.498573303222656\n",
      "2021-03-29 17:01:40,280 epoch: 8, train loss: 39.177616119384766, val loss: 21.45537567138672\n",
      "2021-03-29 17:01:50,964 epoch: 9, train loss: 38.99973678588867, val loss: 21.391773223876953\n",
      "2021-03-29 17:02:01,793 epoch: 10, train loss: 38.82658004760742, val loss: 21.291854858398438\n",
      "2021-03-29 17:02:12,716 epoch: 11, train loss: 38.67681884765625, val loss: 21.23780059814453\n",
      "2021-03-29 17:02:23,467 epoch: 12, train loss: 38.5346794128418, val loss: 21.219947814941406\n",
      "2021-03-29 17:02:34,104 epoch: 13, train loss: 38.39051818847656, val loss: 21.213882446289062\n",
      "2021-03-29 17:02:44,819 epoch: 14, train loss: 38.25136947631836, val loss: 21.196788787841797\n",
      "2021-03-29 17:02:55,538 epoch: 15, train loss: 38.10514831542969, val loss: 21.20362091064453\n"
     ]
    },
    {
     "name": "stdout",
     "output_type": "stream",
     "text": [
      "False\n"
     ]
    },
    {
     "name": "stderr",
     "output_type": "stream",
     "text": [
      "2021-03-29 17:03:04,065 0 genes in training set are missing from prediction set\n",
      "2021-03-29 17:03:04,576 starting batch 1 of 2\n",
      "2021-03-29 17:03:04,696 0 genes in training set are missing from prediction set\n",
      "2021-03-29 17:03:09,947 starting batch 2 of 2\n",
      "2021-03-29 17:03:10,044 0 genes in training set are missing from prediction set\n"
     ]
    },
    {
     "name": "stdout",
     "output_type": "stream",
     "text": [
      "scRNAseq brca_train_pbmc_val (6080, 27131) (886, 32738)\n"
     ]
    },
    {
     "name": "stderr",
     "output_type": "stream",
     "text": [
      "2021-03-29 17:03:16,402 input dataset shape: (6966, 18511)\n",
      "2021-03-29 17:03:16,403 possible cell types: ['B cell', 'CD4 T cell', 'CD8 T cell', 'Dendritic', 'Endothelial', 'Erythrocyte', 'Fibroblast', 'Malignant', 'Mast', 'Megakaryocyte', 'Monocyte', 'NK', 'Plasma', 'Treg']\n",
      "2021-03-29 17:03:16,404 using validation key\n",
      "2021-03-29 17:03:28,928 epoch: 1, train loss: 37.105953216552734, val loss: 16.436721801757812\n",
      "2021-03-29 17:03:40,088 epoch: 2, train loss: 36.29838562011719, val loss: 16.286388397216797\n",
      "2021-03-29 17:03:51,146 epoch: 3, train loss: 35.658390045166016, val loss: 16.145179748535156\n",
      "2021-03-29 17:04:02,324 epoch: 4, train loss: 35.145111083984375, val loss: 16.07301139831543\n",
      "2021-03-29 17:04:13,448 epoch: 5, train loss: 34.9189453125, val loss: 16.009647369384766\n",
      "2021-03-29 17:04:24,825 epoch: 6, train loss: 34.72952651977539, val loss: 15.976296424865723\n",
      "2021-03-29 17:04:35,891 epoch: 7, train loss: 34.52102279663086, val loss: 15.948101043701172\n",
      "2021-03-29 17:04:46,889 epoch: 8, train loss: 34.34040832519531, val loss: 15.924782752990723\n",
      "2021-03-29 17:04:57,936 epoch: 9, train loss: 34.17633056640625, val loss: 15.913948059082031\n",
      "2021-03-29 17:05:09,005 epoch: 10, train loss: 34.037376403808594, val loss: 15.928152084350586\n",
      "2021-03-29 17:05:20,092 epoch: 11, train loss: 33.90406799316406, val loss: 15.938905715942383\n",
      "2021-03-29 17:05:31,166 epoch: 12, train loss: 33.7773551940918, val loss: 15.94056510925293\n",
      "2021-03-29 17:05:42,160 epoch: 13, train loss: 33.64979553222656, val loss: 15.955853462219238\n",
      "2021-03-29 17:05:53,216 epoch: 14, train loss: 33.52772903442383, val loss: 15.976137161254883\n",
      "2021-03-29 17:06:04,350 epoch: 15, train loss: 33.40216827392578, val loss: 15.921506881713867\n"
     ]
    },
    {
     "name": "stdout",
     "output_type": "stream",
     "text": [
      "False\n"
     ]
    },
    {
     "name": "stderr",
     "output_type": "stream",
     "text": [
      "2021-03-29 17:06:11,816 0 genes in training set are missing from prediction set\n",
      "2021-03-29 17:06:12,246 starting batch 1 of 1\n",
      "2021-03-29 17:06:12,342 0 genes in training set are missing from prediction set\n"
     ]
    },
    {
     "name": "stdout",
     "output_type": "stream",
     "text": [
      "scRNAseq brca_train_pdac_val (6080, 27131) (7840, 28756)\n"
     ]
    },
    {
     "name": "stderr",
     "output_type": "stream",
     "text": [
      "2021-03-29 17:06:29,641 input dataset shape: (13920, 26833)\n",
      "2021-03-29 17:06:29,644 possible cell types: ['Acinar', 'B cell', 'CD4 T cell', 'CD8 T cell', 'Dendritic', 'Endothelial', 'Epithelial', 'Erythrocyte', 'Fibroblast', 'Islet', 'Malignant', 'Mast', 'Monocyte', 'NK', 'Plasma', 'Treg', 'Tuft']\n",
      "2021-03-29 17:06:29,644 using validation key\n",
      "2021-03-29 17:06:48,702 epoch: 1, train loss: 29.206989288330078, val loss: 36.3941535949707\n",
      "2021-03-29 17:07:05,161 epoch: 2, train loss: 28.632104873657227, val loss: 35.78704071044922\n",
      "2021-03-29 17:07:21,673 epoch: 3, train loss: 28.15154457092285, val loss: 34.90985870361328\n",
      "2021-03-29 17:07:38,035 epoch: 4, train loss: 27.736772537231445, val loss: 34.565826416015625\n",
      "2021-03-29 17:07:54,268 epoch: 5, train loss: 27.517642974853516, val loss: 34.40777587890625\n",
      "2021-03-29 17:08:10,636 epoch: 6, train loss: 27.383460998535156, val loss: 34.32059097290039\n",
      "2021-03-29 17:08:27,618 epoch: 7, train loss: 27.248727798461914, val loss: 34.24432373046875\n",
      "2021-03-29 17:08:43,984 epoch: 8, train loss: 27.121232986450195, val loss: 34.1633186340332\n",
      "2021-03-29 17:09:00,184 epoch: 9, train loss: 26.995058059692383, val loss: 34.11565017700195\n",
      "2021-03-29 17:09:16,427 epoch: 10, train loss: 26.892210006713867, val loss: 34.041900634765625\n",
      "2021-03-29 17:09:32,579 epoch: 11, train loss: 26.777101516723633, val loss: 34.00634002685547\n",
      "2021-03-29 17:09:48,915 epoch: 12, train loss: 26.68775177001953, val loss: 33.93677520751953\n",
      "2021-03-29 17:10:05,224 epoch: 13, train loss: 26.59170150756836, val loss: 33.936065673828125\n",
      "2021-03-29 17:10:21,666 epoch: 14, train loss: 26.502214431762695, val loss: 33.916847229003906\n",
      "2021-03-29 17:10:38,139 epoch: 15, train loss: 26.40772819519043, val loss: 33.90357971191406\n"
     ]
    },
    {
     "name": "stdout",
     "output_type": "stream",
     "text": [
      "False\n"
     ]
    },
    {
     "name": "stderr",
     "output_type": "stream",
     "text": [
      "2021-03-29 17:10:49,690 0 genes in training set are missing from prediction set\n",
      "2021-03-29 17:10:50,324 starting batch 1 of 4\n",
      "2021-03-29 17:10:50,455 0 genes in training set are missing from prediction set\n",
      "2021-03-29 17:10:56,297 starting batch 2 of 4\n",
      "2021-03-29 17:10:56,387 0 genes in training set are missing from prediction set\n",
      "2021-03-29 17:11:02,164 starting batch 3 of 4\n",
      "2021-03-29 17:11:02,284 0 genes in training set are missing from prediction set\n",
      "2021-03-29 17:11:08,002 starting batch 4 of 4\n",
      "2021-03-29 17:11:08,096 0 genes in training set are missing from prediction set\n"
     ]
    },
    {
     "name": "stdout",
     "output_type": "stream",
     "text": [
      "scRNAseq cesc_train_brca_val (4660, 22928) (5773, 27131)\n"
     ]
    },
    {
     "name": "stderr",
     "output_type": "stream",
     "text": [
      "2021-03-29 17:11:20,258 input dataset shape: (10433, 22662)\n",
      "2021-03-29 17:11:20,260 possible cell types: ['B cell', 'CD4 T cell', 'CD8 T cell', 'Dendritic', 'Endothelial', 'Epithelial', 'Erythrocyte', 'Fibroblast', 'Malignant', 'Mast', 'Monocyte', 'NK', 'Plasma', 'Treg']\n",
      "2021-03-29 17:11:20,261 using validation key\n",
      "2021-03-29 17:11:33,548 epoch: 1, train loss: 43.95503616333008, val loss: 30.338809967041016\n",
      "2021-03-29 17:11:44,251 epoch: 2, train loss: 42.5810546875, val loss: 29.610248565673828\n",
      "2021-03-29 17:11:54,953 epoch: 3, train loss: 41.67795944213867, val loss: 29.082901000976562\n",
      "2021-03-29 17:12:05,285 epoch: 4, train loss: 41.10697937011719, val loss: 28.765546798706055\n",
      "2021-03-29 17:12:15,864 epoch: 5, train loss: 40.77766036987305, val loss: 28.604637145996094\n",
      "2021-03-29 17:12:26,546 epoch: 6, train loss: 40.548458099365234, val loss: 28.533708572387695\n",
      "2021-03-29 17:12:36,987 epoch: 7, train loss: 40.36697769165039, val loss: 28.444286346435547\n",
      "2021-03-29 17:12:47,775 epoch: 8, train loss: 40.18229675292969, val loss: 28.379234313964844\n",
      "2021-03-29 17:12:58,302 epoch: 9, train loss: 39.9973030090332, val loss: 28.325031280517578\n",
      "2021-03-29 17:13:08,895 epoch: 10, train loss: 39.840450286865234, val loss: 28.26496696472168\n",
      "2021-03-29 17:13:19,496 epoch: 11, train loss: 39.68489456176758, val loss: 28.24529266357422\n",
      "2021-03-29 17:13:30,386 epoch: 12, train loss: 39.50583267211914, val loss: 28.200366973876953\n",
      "2021-03-29 17:13:41,201 epoch: 13, train loss: 39.36599349975586, val loss: 28.20347785949707\n",
      "2021-03-29 17:13:51,985 epoch: 14, train loss: 39.1944694519043, val loss: 28.171459197998047\n",
      "2021-03-29 17:14:02,587 epoch: 15, train loss: 39.00929260253906, val loss: 28.148130416870117\n"
     ]
    },
    {
     "name": "stdout",
     "output_type": "stream",
     "text": [
      "False\n"
     ]
    },
    {
     "name": "stderr",
     "output_type": "stream",
     "text": [
      "2021-03-29 17:14:10,678 0 genes in training set are missing from prediction set\n",
      "2021-03-29 17:14:11,245 starting batch 1 of 3\n",
      "2021-03-29 17:14:11,348 0 genes in training set are missing from prediction set\n",
      "2021-03-29 17:14:17,418 starting batch 2 of 3\n",
      "2021-03-29 17:14:17,514 0 genes in training set are missing from prediction set\n",
      "2021-03-29 17:14:23,770 starting batch 3 of 3\n",
      "2021-03-29 17:14:23,848 0 genes in training set are missing from prediction set\n"
     ]
    },
    {
     "name": "stdout",
     "output_type": "stream",
     "text": [
      "scRNAseq cesc_train_cesc_val (4660, 22928) (4277, 22928)\n"
     ]
    },
    {
     "name": "stderr",
     "output_type": "stream",
     "text": [
      "2021-03-29 17:14:35,388 input dataset shape: (8937, 22928)\n",
      "2021-03-29 17:14:35,390 possible cell types: ['CD4 T cell', 'CD8 T cell', 'Endothelial', 'Epithelial', 'Erythrocyte', 'Fibroblast', 'Malignant', 'Mast', 'Monocyte', 'NK', 'Plasma']\n",
      "2021-03-29 17:14:35,391 using validation key\n",
      "2021-03-29 17:14:48,622 epoch: 1, train loss: 38.970455169677734, val loss: 48.35221862792969\n",
      "2021-03-29 17:14:58,600 epoch: 2, train loss: 37.71548843383789, val loss: 46.58669662475586\n",
      "2021-03-29 17:15:08,473 epoch: 3, train loss: 36.986717224121094, val loss: 45.25285720825195\n",
      "2021-03-29 17:15:18,274 epoch: 4, train loss: 36.49132537841797, val loss: 44.441261291503906\n",
      "2021-03-29 17:15:28,105 epoch: 5, train loss: 36.226802825927734, val loss: 44.08770751953125\n",
      "2021-03-29 17:15:38,031 epoch: 6, train loss: 36.02806091308594, val loss: 43.76536560058594\n",
      "2021-03-29 17:15:47,746 epoch: 7, train loss: 35.81267547607422, val loss: 43.438392639160156\n",
      "2021-03-29 17:15:57,621 epoch: 8, train loss: 35.655982971191406, val loss: 43.18348693847656\n",
      "2021-03-29 17:16:07,558 epoch: 9, train loss: 35.49779510498047, val loss: 43.0131950378418\n",
      "2021-03-29 17:16:17,451 epoch: 10, train loss: 35.3355827331543, val loss: 42.87586212158203\n",
      "2021-03-29 17:16:27,461 epoch: 11, train loss: 35.20564270019531, val loss: 42.76025390625\n",
      "2021-03-29 17:16:37,448 epoch: 12, train loss: 35.07539367675781, val loss: 42.64544677734375\n",
      "2021-03-29 17:16:47,384 epoch: 13, train loss: 34.91754913330078, val loss: 42.57826232910156\n",
      "2021-03-29 17:16:57,328 epoch: 14, train loss: 34.78424835205078, val loss: 42.528709411621094\n",
      "2021-03-29 17:17:07,207 epoch: 15, train loss: 34.64021301269531, val loss: 42.472930908203125\n"
     ]
    },
    {
     "name": "stdout",
     "output_type": "stream",
     "text": [
      "True\n"
     ]
    },
    {
     "name": "stderr",
     "output_type": "stream",
     "text": [
      "2021-03-29 17:17:16,404 0 genes in training set are missing from prediction set\n",
      "2021-03-29 17:17:16,971 starting batch 1 of 2\n",
      "2021-03-29 17:17:17,100 0 genes in training set are missing from prediction set\n",
      "2021-03-29 17:17:22,680 starting batch 2 of 2\n",
      "2021-03-29 17:17:22,786 0 genes in training set are missing from prediction set\n"
     ]
    },
    {
     "name": "stdout",
     "output_type": "stream",
     "text": [
      "scRNAseq cesc_train_hnscc_val (4660, 22928) (5203, 26929)\n"
     ]
    },
    {
     "name": "stderr",
     "output_type": "stream",
     "text": [
      "2021-03-29 17:17:35,343 input dataset shape: (9863, 22756)\n",
      "2021-03-29 17:17:35,345 possible cell types: ['B cell', 'CD4 T cell', 'CD8 T cell', 'Endothelial', 'Epithelial', 'Erythrocyte', 'Fibroblast', 'Malignant', 'Mast', 'Monocyte', 'NK', 'Plasma', 'Treg']\n",
      "2021-03-29 17:17:35,346 using validation key\n",
      "2021-03-29 17:17:47,706 epoch: 1, train loss: 39.59408950805664, val loss: 17.76010513305664\n",
      "2021-03-29 17:17:57,564 epoch: 2, train loss: 38.372230529785156, val loss: 17.57155418395996\n",
      "2021-03-29 17:18:07,291 epoch: 3, train loss: 37.6484489440918, val loss: 17.3422794342041\n",
      "2021-03-29 17:18:17,125 epoch: 4, train loss: 37.09962463378906, val loss: 17.200908660888672\n",
      "2021-03-29 17:18:27,015 epoch: 5, train loss: 36.82865905761719, val loss: 17.116844177246094\n",
      "2021-03-29 17:18:36,925 epoch: 6, train loss: 36.63963317871094, val loss: 17.087982177734375\n",
      "2021-03-29 17:18:46,834 epoch: 7, train loss: 36.45395278930664, val loss: 17.018192291259766\n",
      "2021-03-29 17:18:56,557 epoch: 8, train loss: 36.28109359741211, val loss: 16.99021339416504\n",
      "2021-03-29 17:19:06,459 epoch: 9, train loss: 36.13949203491211, val loss: 16.976089477539062\n",
      "2021-03-29 17:19:16,411 epoch: 10, train loss: 35.99761199951172, val loss: 16.945022583007812\n",
      "2021-03-29 17:19:26,228 epoch: 11, train loss: 35.857322692871094, val loss: 16.927814483642578\n",
      "2021-03-29 17:19:36,187 epoch: 12, train loss: 35.73095703125, val loss: 16.918190002441406\n",
      "2021-03-29 17:19:45,981 epoch: 13, train loss: 35.60006332397461, val loss: 16.880931854248047\n",
      "2021-03-29 17:19:55,742 epoch: 14, train loss: 35.45505142211914, val loss: 16.87586212158203\n",
      "2021-03-29 17:20:05,682 epoch: 15, train loss: 35.31156539916992, val loss: 16.881023406982422\n"
     ]
    },
    {
     "name": "stdout",
     "output_type": "stream",
     "text": [
      "False\n"
     ]
    },
    {
     "name": "stderr",
     "output_type": "stream",
     "text": [
      "2021-03-29 17:20:13,510 0 genes in training set are missing from prediction set\n",
      "2021-03-29 17:20:14,094 starting batch 1 of 3\n",
      "2021-03-29 17:20:14,203 0 genes in training set are missing from prediction set\n",
      "2021-03-29 17:20:19,965 starting batch 2 of 3\n",
      "2021-03-29 17:20:20,064 0 genes in training set are missing from prediction set\n",
      "2021-03-29 17:20:26,289 starting batch 3 of 3\n",
      "2021-03-29 17:20:26,365 0 genes in training set are missing from prediction set\n"
     ]
    },
    {
     "name": "stdout",
     "output_type": "stream",
     "text": [
      "scRNAseq cesc_train_melanoma_val (4660, 22928) (3532, 23452)\n"
     ]
    },
    {
     "name": "stderr",
     "output_type": "stream",
     "text": [
      "2021-03-29 17:20:33,214 input dataset shape: (8192, 20043)\n",
      "2021-03-29 17:20:33,216 possible cell types: ['B cell', 'CD4 T cell', 'CD8 T cell', 'Dendritic', 'Endothelial', 'Epithelial', 'Erythrocyte', 'Fibroblast', 'Malignant', 'Mast', 'Monocyte', 'NK', 'Plasma', 'Treg']\n",
      "2021-03-29 17:20:33,216 using validation key\n",
      "2021-03-29 17:20:44,677 epoch: 1, train loss: 44.5264892578125, val loss: 20.80521011352539\n",
      "2021-03-29 17:20:54,109 epoch: 2, train loss: 43.13418197631836, val loss: 20.555274963378906\n",
      "2021-03-29 17:21:03,627 epoch: 3, train loss: 42.16836929321289, val loss: 20.325328826904297\n",
      "2021-03-29 17:21:13,052 epoch: 4, train loss: 41.58165740966797, val loss: 20.221973419189453\n",
      "2021-03-29 17:21:22,533 epoch: 5, train loss: 41.3079719543457, val loss: 20.149456024169922\n",
      "2021-03-29 17:21:32,029 epoch: 6, train loss: 41.0824089050293, val loss: 20.083162307739258\n",
      "2021-03-29 17:21:41,602 epoch: 7, train loss: 40.858699798583984, val loss: 20.026111602783203\n",
      "2021-03-29 17:21:51,094 epoch: 8, train loss: 40.6649284362793, val loss: 19.997142791748047\n",
      "2021-03-29 17:22:00,577 epoch: 9, train loss: 40.477508544921875, val loss: 19.942096710205078\n",
      "2021-03-29 17:22:10,051 epoch: 10, train loss: 40.32455825805664, val loss: 19.927000045776367\n",
      "2021-03-29 17:22:19,555 epoch: 11, train loss: 40.1380615234375, val loss: 19.896263122558594\n",
      "2021-03-29 17:22:29,029 epoch: 12, train loss: 39.982826232910156, val loss: 19.872127532958984\n",
      "2021-03-29 17:22:38,490 epoch: 13, train loss: 39.82448959350586, val loss: 19.853092193603516\n",
      "2021-03-29 17:22:47,988 epoch: 14, train loss: 39.67271041870117, val loss: 19.858943939208984\n",
      "2021-03-29 17:22:57,485 epoch: 15, train loss: 39.48066329956055, val loss: 19.850954055786133\n"
     ]
    },
    {
     "name": "stdout",
     "output_type": "stream",
     "text": [
      "False\n"
     ]
    },
    {
     "name": "stderr",
     "output_type": "stream",
     "text": [
      "2021-03-29 17:23:04,365 0 genes in training set are missing from prediction set\n",
      "2021-03-29 17:23:04,786 starting batch 1 of 2\n",
      "2021-03-29 17:23:04,881 0 genes in training set are missing from prediction set\n",
      "2021-03-29 17:23:09,596 starting batch 2 of 2\n",
      "2021-03-29 17:23:09,680 0 genes in training set are missing from prediction set\n"
     ]
    },
    {
     "name": "stdout",
     "output_type": "stream",
     "text": [
      "scRNAseq cesc_train_myeloma_val (4660, 22928) (3312, 24020)\n"
     ]
    },
    {
     "name": "stderr",
     "output_type": "stream",
     "text": [
      "2021-03-29 17:23:17,530 input dataset shape: (7972, 18774)\n",
      "2021-03-29 17:23:17,532 possible cell types: ['B cell', 'CD4 T cell', 'CD8 T cell', 'Dendritic', 'Endothelial', 'Epithelial', 'Erythrocyte', 'Fibroblast', 'Malignant', 'Mast', 'Monocyte', 'NK', 'Plasma', 'Platlete']\n",
      "2021-03-29 17:23:17,533 using validation key\n",
      "2021-03-29 17:23:28,235 epoch: 1, train loss: 44.92673110961914, val loss: 13.573894500732422\n",
      "2021-03-29 17:23:37,346 epoch: 2, train loss: 43.571434020996094, val loss: 13.463911056518555\n",
      "2021-03-29 17:23:46,478 epoch: 3, train loss: 42.57666778564453, val loss: 13.385458946228027\n",
      "2021-03-29 17:23:55,661 epoch: 4, train loss: 42.02755355834961, val loss: 13.336674690246582\n",
      "2021-03-29 17:24:04,623 epoch: 5, train loss: 41.705020904541016, val loss: 13.276580810546875\n",
      "2021-03-29 17:24:13,699 epoch: 6, train loss: 41.485679626464844, val loss: 13.219743728637695\n",
      "2021-03-29 17:24:22,788 epoch: 7, train loss: 41.269065856933594, val loss: 13.23572826385498\n",
      "2021-03-29 17:24:31,928 epoch: 8, train loss: 41.089988708496094, val loss: 13.198812484741211\n",
      "2021-03-29 17:24:41,006 epoch: 9, train loss: 40.937965393066406, val loss: 13.182706832885742\n",
      "2021-03-29 17:24:50,081 epoch: 10, train loss: 40.780757904052734, val loss: 13.144830703735352\n",
      "2021-03-29 17:24:59,148 epoch: 11, train loss: 40.626258850097656, val loss: 13.106884956359863\n",
      "2021-03-29 17:25:08,233 epoch: 12, train loss: 40.46965026855469, val loss: 13.109784126281738\n",
      "2021-03-29 17:25:17,350 epoch: 13, train loss: 40.300655364990234, val loss: 13.065587997436523\n",
      "2021-03-29 17:25:26,453 epoch: 14, train loss: 40.144203186035156, val loss: 13.03600788116455\n",
      "2021-03-29 17:25:35,601 epoch: 15, train loss: 39.97153091430664, val loss: 13.04273796081543\n"
     ]
    },
    {
     "name": "stdout",
     "output_type": "stream",
     "text": [
      "False\n"
     ]
    },
    {
     "name": "stderr",
     "output_type": "stream",
     "text": [
      "2021-03-29 17:25:42,096 0 genes in training set are missing from prediction set\n",
      "2021-03-29 17:25:42,585 starting batch 1 of 2\n",
      "2021-03-29 17:25:42,682 0 genes in training set are missing from prediction set\n",
      "2021-03-29 17:25:47,774 starting batch 2 of 2\n",
      "2021-03-29 17:25:47,850 0 genes in training set are missing from prediction set\n"
     ]
    },
    {
     "name": "stdout",
     "output_type": "stream",
     "text": [
      "scRNAseq cesc_train_pbmc_val (4660, 22928) (886, 32738)\n"
     ]
    },
    {
     "name": "stderr",
     "output_type": "stream",
     "text": [
      "2021-03-29 17:25:53,171 input dataset shape: (5546, 17080)\n",
      "2021-03-29 17:25:53,173 possible cell types: ['B cell', 'CD4 T cell', 'CD8 T cell', 'Dendritic', 'Endothelial', 'Epithelial', 'Erythrocyte', 'Fibroblast', 'Malignant', 'Mast', 'Megakaryocyte', 'Monocyte', 'NK', 'Plasma']\n",
      "2021-03-29 17:25:53,174 using validation key\n",
      "2021-03-29 17:26:02,167 epoch: 1, train loss: 39.309391021728516, val loss: 10.388965606689453\n",
      "2021-03-29 17:26:09,740 epoch: 2, train loss: 38.10360336303711, val loss: 10.32020378112793\n",
      "2021-03-29 17:26:17,438 epoch: 3, train loss: 37.262718200683594, val loss: 10.176831245422363\n",
      "2021-03-29 17:26:25,083 epoch: 4, train loss: 36.739227294921875, val loss: 10.164852142333984\n",
      "2021-03-29 17:26:32,760 epoch: 5, train loss: 36.462196350097656, val loss: 10.115073204040527\n",
      "2021-03-29 17:26:40,263 epoch: 6, train loss: 36.2695426940918, val loss: 10.048784255981445\n",
      "2021-03-29 17:26:47,850 epoch: 7, train loss: 36.06563186645508, val loss: 10.010591506958008\n",
      "2021-03-29 17:26:55,544 epoch: 8, train loss: 35.881591796875, val loss: 9.999046325683594\n",
      "2021-03-29 17:27:03,215 epoch: 9, train loss: 35.72203063964844, val loss: 10.02149772644043\n",
      "2021-03-29 17:27:10,988 epoch: 10, train loss: 35.56468200683594, val loss: 9.975597381591797\n",
      "2021-03-29 17:27:18,913 epoch: 11, train loss: 35.43296813964844, val loss: 9.962029457092285\n",
      "2021-03-29 17:27:26,681 epoch: 12, train loss: 35.31155014038086, val loss: 9.99612045288086\n",
      "2021-03-29 17:27:34,394 epoch: 13, train loss: 35.16950225830078, val loss: 9.966134071350098\n",
      "2021-03-29 17:27:42,093 epoch: 14, train loss: 35.025691986083984, val loss: 9.97866439819336\n",
      "2021-03-29 17:27:49,763 epoch: 15, train loss: 34.8869514465332, val loss: 9.979621887207031\n"
     ]
    },
    {
     "name": "stdout",
     "output_type": "stream",
     "text": [
      "False\n"
     ]
    },
    {
     "name": "stderr",
     "output_type": "stream",
     "text": [
      "2021-03-29 17:27:55,168 0 genes in training set are missing from prediction set\n",
      "2021-03-29 17:27:55,668 starting batch 1 of 1\n",
      "2021-03-29 17:27:55,749 0 genes in training set are missing from prediction set\n"
     ]
    },
    {
     "name": "stdout",
     "output_type": "stream",
     "text": [
      "scRNAseq cesc_train_pdac_val (4660, 22928) (7840, 28756)\n"
     ]
    },
    {
     "name": "stderr",
     "output_type": "stream",
     "text": [
      "2021-03-29 17:28:08,092 input dataset shape: (12500, 22794)\n",
      "2021-03-29 17:28:08,095 possible cell types: ['Acinar', 'B cell', 'CD4 T cell', 'CD8 T cell', 'Dendritic', 'Endothelial', 'Epithelial', 'Erythrocyte', 'Fibroblast', 'Islet', 'Malignant', 'Mast', 'Monocyte', 'NK', 'Plasma', 'Treg', 'Tuft']\n",
      "2021-03-29 17:28:08,095 using validation key\n",
      "2021-03-29 17:28:21,613 epoch: 1, train loss: 39.28191375732422, val loss: 27.275489807128906\n",
      "2021-03-29 17:28:32,624 epoch: 2, train loss: 38.01945495605469, val loss: 26.655475616455078\n",
      "2021-03-29 17:28:43,580 epoch: 3, train loss: 37.3148078918457, val loss: 26.236244201660156\n",
      "2021-03-29 17:28:54,545 epoch: 4, train loss: 36.76176452636719, val loss: 25.938926696777344\n",
      "2021-03-29 17:29:05,567 epoch: 5, train loss: 36.46466827392578, val loss: 25.76913070678711\n",
      "2021-03-29 17:29:16,531 epoch: 6, train loss: 36.236663818359375, val loss: 25.671993255615234\n",
      "2021-03-29 17:29:27,402 epoch: 7, train loss: 36.0482177734375, val loss: 25.617599487304688\n",
      "2021-03-29 17:29:38,409 epoch: 8, train loss: 35.88718032836914, val loss: 25.56731605529785\n",
      "2021-03-29 17:29:49,283 epoch: 9, train loss: 35.72622299194336, val loss: 25.512042999267578\n",
      "2021-03-29 17:30:00,113 epoch: 10, train loss: 35.587799072265625, val loss: 25.488920211791992\n",
      "2021-03-29 17:30:11,010 epoch: 11, train loss: 35.45249938964844, val loss: 25.434154510498047\n",
      "2021-03-29 17:30:21,852 epoch: 12, train loss: 35.31119918823242, val loss: 25.399797439575195\n",
      "2021-03-29 17:30:32,714 epoch: 13, train loss: 35.15398406982422, val loss: 25.389455795288086\n",
      "2021-03-29 17:30:43,665 epoch: 14, train loss: 35.01294708251953, val loss: 25.351655960083008\n",
      "2021-03-29 17:30:54,414 epoch: 15, train loss: 34.88377380371094, val loss: 25.356285095214844\n"
     ]
    },
    {
     "name": "stdout",
     "output_type": "stream",
     "text": [
      "False\n"
     ]
    },
    {
     "name": "stderr",
     "output_type": "stream",
     "text": [
      "2021-03-29 17:31:02,990 0 genes in training set are missing from prediction set\n",
      "2021-03-29 17:31:03,565 starting batch 1 of 4\n",
      "2021-03-29 17:31:03,673 0 genes in training set are missing from prediction set\n",
      "2021-03-29 17:31:09,700 starting batch 2 of 4\n",
      "2021-03-29 17:31:09,806 0 genes in training set are missing from prediction set\n",
      "2021-03-29 17:31:15,902 starting batch 3 of 4\n",
      "2021-03-29 17:31:15,986 0 genes in training set are missing from prediction set\n",
      "2021-03-29 17:31:21,786 starting batch 4 of 4\n",
      "2021-03-29 17:31:21,864 0 genes in training set are missing from prediction set\n"
     ]
    },
    {
     "name": "stdout",
     "output_type": "stream",
     "text": [
      "scRNAseq hnscc_train_brca_val (5285, 26929) (5773, 27131)\n"
     ]
    },
    {
     "name": "stderr",
     "output_type": "stream",
     "text": [
      "2021-03-29 17:31:33,645 input dataset shape: (11058, 25823)\n",
      "2021-03-29 17:31:33,649 possible cell types: ['B cell', 'CD4 T cell', 'CD8 T cell', 'Dendritic', 'Endothelial', 'Erythrocyte', 'Fibroblast', 'Malignant', 'Mast', 'Monocyte', 'NK', 'Plasma', 'Treg']\n",
      "2021-03-29 17:31:33,649 using validation key\n",
      "2021-03-29 17:31:49,477 epoch: 1, train loss: 37.21488571166992, val loss: 34.2575798034668\n",
      "2021-03-29 17:32:02,714 epoch: 2, train loss: 36.223289489746094, val loss: 33.45338439941406\n",
      "2021-03-29 17:32:16,142 epoch: 3, train loss: 35.676021575927734, val loss: 33.088462829589844\n",
      "2021-03-29 17:32:29,589 epoch: 4, train loss: 35.32307052612305, val loss: 32.952972412109375\n",
      "2021-03-29 17:32:43,068 epoch: 5, train loss: 35.065731048583984, val loss: 32.85678482055664\n",
      "2021-03-29 17:32:56,384 epoch: 6, train loss: 34.783302307128906, val loss: 32.79422378540039\n",
      "2021-03-29 17:33:09,720 epoch: 7, train loss: 34.57206726074219, val loss: 32.75565719604492\n",
      "2021-03-29 17:33:23,152 epoch: 8, train loss: 34.42017364501953, val loss: 32.65908432006836\n",
      "2021-03-29 17:33:36,724 epoch: 9, train loss: 34.24083709716797, val loss: 32.604454040527344\n",
      "2021-03-29 17:33:50,134 epoch: 10, train loss: 34.13779067993164, val loss: 32.55973815917969\n",
      "2021-03-29 17:34:03,634 epoch: 11, train loss: 33.99161911010742, val loss: 32.51824951171875\n",
      "2021-03-29 17:34:16,984 epoch: 12, train loss: 33.83218002319336, val loss: 32.469444274902344\n",
      "2021-03-29 17:34:30,495 epoch: 13, train loss: 33.67600631713867, val loss: 32.45124053955078\n",
      "2021-03-29 17:34:44,044 epoch: 14, train loss: 33.53422546386719, val loss: 32.405426025390625\n",
      "2021-03-29 17:34:57,631 epoch: 15, train loss: 33.41463851928711, val loss: 32.41511154174805\n"
     ]
    },
    {
     "name": "stdout",
     "output_type": "stream",
     "text": [
      "False\n"
     ]
    },
    {
     "name": "stderr",
     "output_type": "stream",
     "text": [
      "2021-03-29 17:35:07,027 0 genes in training set are missing from prediction set\n",
      "2021-03-29 17:35:07,659 starting batch 1 of 3\n",
      "2021-03-29 17:35:07,779 0 genes in training set are missing from prediction set\n",
      "2021-03-29 17:35:13,857 starting batch 2 of 3\n",
      "2021-03-29 17:35:13,965 0 genes in training set are missing from prediction set\n",
      "2021-03-29 17:35:20,043 starting batch 3 of 3\n",
      "2021-03-29 17:35:20,133 0 genes in training set are missing from prediction set\n"
     ]
    },
    {
     "name": "stdout",
     "output_type": "stream",
     "text": [
      "scRNAseq hnscc_train_cesc_val (5285, 26929) (4277, 22928)\n"
     ]
    },
    {
     "name": "stderr",
     "output_type": "stream",
     "text": [
      "2021-03-29 17:35:30,783 input dataset shape: (9562, 22756)\n",
      "2021-03-29 17:35:30,785 possible cell types: ['B cell', 'CD4 T cell', 'CD8 T cell', 'Endothelial', 'Epithelial', 'Erythrocyte', 'Fibroblast', 'Malignant', 'Mast', 'Monocyte', 'NK', 'Plasma', 'Treg']\n",
      "2021-03-29 17:35:30,786 using validation key\n",
      "2021-03-29 17:35:43,811 epoch: 1, train loss: 29.90556526184082, val loss: 49.27644729614258\n",
      "2021-03-29 17:35:54,569 epoch: 2, train loss: 29.159217834472656, val loss: 48.34270095825195\n",
      "2021-03-29 17:36:05,454 epoch: 3, train loss: 28.664880752563477, val loss: 47.32255554199219\n",
      "2021-03-29 17:36:16,271 epoch: 4, train loss: 28.400081634521484, val loss: 46.82583999633789\n",
      "2021-03-29 17:36:27,046 epoch: 5, train loss: 28.193864822387695, val loss: 46.65768814086914\n",
      "2021-03-29 17:36:37,690 epoch: 6, train loss: 27.961153030395508, val loss: 46.46028137207031\n",
      "2021-03-29 17:36:48,421 epoch: 7, train loss: 27.80679702758789, val loss: 46.283836364746094\n",
      "2021-03-29 17:36:59,329 epoch: 8, train loss: 27.691770553588867, val loss: 46.10505676269531\n",
      "2021-03-29 17:37:10,215 epoch: 9, train loss: 27.58469009399414, val loss: 45.97261047363281\n",
      "2021-03-29 17:37:21,072 epoch: 10, train loss: 27.469629287719727, val loss: 45.87718963623047\n",
      "2021-03-29 17:37:31,785 epoch: 11, train loss: 27.350309371948242, val loss: 45.79473876953125\n",
      "2021-03-29 17:37:42,713 epoch: 12, train loss: 27.24775505065918, val loss: 45.696510314941406\n",
      "2021-03-29 17:37:53,413 epoch: 13, train loss: 27.14607048034668, val loss: 45.668968200683594\n",
      "2021-03-29 17:38:04,409 epoch: 14, train loss: 27.038965225219727, val loss: 45.65357208251953\n",
      "2021-03-29 17:38:15,517 epoch: 15, train loss: 26.903146743774414, val loss: 45.61408615112305\n"
     ]
    },
    {
     "name": "stdout",
     "output_type": "stream",
     "text": [
      "False\n"
     ]
    },
    {
     "name": "stderr",
     "output_type": "stream",
     "text": [
      "2021-03-29 17:38:23,926 0 genes in training set are missing from prediction set\n",
      "2021-03-29 17:38:24,465 starting batch 1 of 2\n",
      "2021-03-29 17:38:24,585 0 genes in training set are missing from prediction set\n",
      "2021-03-29 17:38:30,888 starting batch 2 of 2\n",
      "2021-03-29 17:38:31,002 0 genes in training set are missing from prediction set\n"
     ]
    },
    {
     "name": "stdout",
     "output_type": "stream",
     "text": [
      "scRNAseq hnscc_train_hnscc_val (5285, 26929) (5203, 26929)\n"
     ]
    },
    {
     "name": "stderr",
     "output_type": "stream",
     "text": [
      "2021-03-29 17:38:48,523 input dataset shape: (10488, 26929)\n",
      "2021-03-29 17:38:48,525 possible cell types: ['B cell', 'CD4 T cell', 'CD8 T cell', 'Endothelial', 'Erythrocyte', 'Malignant', 'Mast', 'Monocyte', 'NK', 'Plasma', 'Treg']\n",
      "2021-03-29 17:38:48,526 using validation key\n",
      "2021-03-29 17:39:06,012 epoch: 1, train loss: 33.069149017333984, val loss: 19.35256576538086\n",
      "2021-03-29 17:39:20,365 epoch: 2, train loss: 32.28483581542969, val loss: 19.09788703918457\n",
      "2021-03-29 17:39:34,653 epoch: 3, train loss: 31.745080947875977, val loss: 18.949459075927734\n",
      "2021-03-29 17:39:49,014 epoch: 4, train loss: 31.519916534423828, val loss: 18.872848510742188\n",
      "2021-03-29 17:40:03,022 epoch: 5, train loss: 31.319931030273438, val loss: 18.804443359375\n",
      "2021-03-29 17:40:17,237 epoch: 6, train loss: 31.103418350219727, val loss: 18.728565216064453\n",
      "2021-03-29 17:40:31,419 epoch: 7, train loss: 30.915218353271484, val loss: 18.659421920776367\n",
      "2021-03-29 17:40:45,792 epoch: 8, train loss: 30.766456604003906, val loss: 18.599323272705078\n",
      "2021-03-29 17:41:00,145 epoch: 9, train loss: 30.57874298095703, val loss: 18.568260192871094\n",
      "2021-03-29 17:41:14,414 epoch: 10, train loss: 30.462011337280273, val loss: 18.532997131347656\n",
      "2021-03-29 17:41:28,888 epoch: 11, train loss: 30.328828811645508, val loss: 18.499418258666992\n",
      "2021-03-29 17:41:43,353 epoch: 12, train loss: 30.212867736816406, val loss: 18.467681884765625\n",
      "2021-03-29 17:41:57,964 epoch: 13, train loss: 30.094829559326172, val loss: 18.47430992126465\n",
      "2021-03-29 17:42:12,540 epoch: 14, train loss: 29.98874282836914, val loss: 18.438846588134766\n",
      "2021-03-29 17:42:26,791 epoch: 15, train loss: 29.858295440673828, val loss: 18.432382583618164\n"
     ]
    },
    {
     "name": "stdout",
     "output_type": "stream",
     "text": [
      "True\n"
     ]
    },
    {
     "name": "stderr",
     "output_type": "stream",
     "text": [
      "2021-03-29 17:42:38,689 0 genes in training set are missing from prediction set\n",
      "2021-03-29 17:42:39,272 starting batch 1 of 3\n",
      "2021-03-29 17:42:39,361 0 genes in training set are missing from prediction set\n",
      "2021-03-29 17:42:45,544 starting batch 2 of 3\n",
      "2021-03-29 17:42:45,667 0 genes in training set are missing from prediction set\n",
      "2021-03-29 17:42:52,616 starting batch 3 of 3\n",
      "2021-03-29 17:42:52,723 0 genes in training set are missing from prediction set\n"
     ]
    },
    {
     "name": "stdout",
     "output_type": "stream",
     "text": [
      "scRNAseq hnscc_train_melanoma_val (5285, 26929) (3532, 23452)\n"
     ]
    },
    {
     "name": "stderr",
     "output_type": "stream",
     "text": [
      "2021-03-29 17:43:03,397 input dataset shape: (8817, 21552)\n",
      "2021-03-29 17:43:03,399 possible cell types: ['B cell', 'CD4 T cell', 'CD8 T cell', 'Dendritic', 'Endothelial', 'Erythrocyte', 'Fibroblast', 'Malignant', 'Mast', 'Monocyte', 'NK', 'Plasma', 'Treg']\n",
      "2021-03-29 17:43:03,400 using validation key\n",
      "2021-03-29 17:43:16,373 epoch: 1, train loss: 38.524532318115234, val loss: 23.44341278076172\n",
      "2021-03-29 17:43:26,781 epoch: 2, train loss: 37.58066177368164, val loss: 23.162574768066406\n",
      "2021-03-29 17:43:37,298 epoch: 3, train loss: 36.93916320800781, val loss: 23.055517196655273\n",
      "2021-03-29 17:43:47,603 epoch: 4, train loss: 36.68962478637695, val loss: 22.97412109375\n",
      "2021-03-29 17:43:57,963 epoch: 5, train loss: 36.36305618286133, val loss: 22.844253540039062\n",
      "2021-03-29 17:44:08,202 epoch: 6, train loss: 36.14926528930664, val loss: 22.77176856994629\n",
      "2021-03-29 17:44:18,665 epoch: 7, train loss: 35.95075225830078, val loss: 22.717018127441406\n",
      "2021-03-29 17:44:29,224 epoch: 8, train loss: 35.729164123535156, val loss: 22.686355590820312\n",
      "2021-03-29 17:44:39,753 epoch: 9, train loss: 35.57206344604492, val loss: 22.6282958984375\n",
      "2021-03-29 17:44:50,113 epoch: 10, train loss: 35.44905090332031, val loss: 22.626188278198242\n",
      "2021-03-29 17:45:00,708 epoch: 11, train loss: 35.2841911315918, val loss: 22.590373992919922\n",
      "2021-03-29 17:45:11,885 epoch: 12, train loss: 35.10594177246094, val loss: 22.597518920898438\n",
      "2021-03-29 17:45:22,175 epoch: 13, train loss: 35.005340576171875, val loss: 22.59626579284668\n",
      "2021-03-29 17:45:32,313 epoch: 14, train loss: 34.89612579345703, val loss: 22.57386589050293\n",
      "2021-03-29 17:45:42,341 epoch: 15, train loss: 34.73715591430664, val loss: 22.550559997558594\n"
     ]
    },
    {
     "name": "stdout",
     "output_type": "stream",
     "text": [
      "False\n"
     ]
    },
    {
     "name": "stderr",
     "output_type": "stream",
     "text": [
      "2021-03-29 17:45:50,472 0 genes in training set are missing from prediction set\n",
      "2021-03-29 17:45:50,803 starting batch 1 of 2\n",
      "2021-03-29 17:45:50,914 0 genes in training set are missing from prediction set\n",
      "2021-03-29 17:45:55,563 starting batch 2 of 2\n",
      "2021-03-29 17:45:55,660 0 genes in training set are missing from prediction set\n"
     ]
    },
    {
     "name": "stdout",
     "output_type": "stream",
     "text": [
      "scRNAseq hnscc_train_myeloma_val (5285, 26929) (3312, 24020)\n"
     ]
    },
    {
     "name": "stderr",
     "output_type": "stream",
     "text": [
      "2021-03-29 17:46:03,990 input dataset shape: (8597, 19477)\n",
      "2021-03-29 17:46:03,992 possible cell types: ['B cell', 'CD4 T cell', 'CD8 T cell', 'Dendritic', 'Endothelial', 'Erythrocyte', 'Malignant', 'Mast', 'Monocyte', 'NK', 'Plasma', 'Platlete', 'Treg']\n",
      "2021-03-29 17:46:03,992 using validation key\n",
      "2021-03-29 17:46:16,665 epoch: 1, train loss: 39.19367980957031, val loss: 15.826425552368164\n",
      "2021-03-29 17:46:27,357 epoch: 2, train loss: 38.13373565673828, val loss: 15.732495307922363\n",
      "2021-03-29 17:46:38,139 epoch: 3, train loss: 37.514095306396484, val loss: 15.664765357971191\n",
      "2021-03-29 17:46:49,045 epoch: 4, train loss: 37.23261260986328, val loss: 15.622005462646484\n",
      "2021-03-29 17:46:59,871 epoch: 5, train loss: 36.97169876098633, val loss: 15.584677696228027\n",
      "2021-03-29 17:47:10,626 epoch: 6, train loss: 36.70327377319336, val loss: 15.545831680297852\n",
      "2021-03-29 17:47:21,517 epoch: 7, train loss: 36.54310989379883, val loss: 15.525693893432617\n",
      "2021-03-29 17:47:32,240 epoch: 8, train loss: 36.346534729003906, val loss: 15.47899055480957\n",
      "2021-03-29 17:47:43,065 epoch: 9, train loss: 36.16872024536133, val loss: 15.452400207519531\n",
      "2021-03-29 17:47:53,760 epoch: 10, train loss: 36.01982879638672, val loss: 15.408149719238281\n",
      "2021-03-29 17:48:04,479 epoch: 11, train loss: 35.86732864379883, val loss: 15.360212326049805\n",
      "2021-03-29 17:48:15,377 epoch: 12, train loss: 35.710296630859375, val loss: 15.300375938415527\n",
      "2021-03-29 17:48:26,518 epoch: 13, train loss: 35.55967712402344, val loss: 15.284416198730469\n",
      "2021-03-29 17:48:37,184 epoch: 14, train loss: 35.437767028808594, val loss: 15.268648147583008\n",
      "2021-03-29 17:48:47,887 epoch: 15, train loss: 35.34560775756836, val loss: 15.26424789428711\n"
     ]
    },
    {
     "name": "stdout",
     "output_type": "stream",
     "text": [
      "False\n"
     ]
    },
    {
     "name": "stderr",
     "output_type": "stream",
     "text": [
      "2021-03-29 17:48:55,466 0 genes in training set are missing from prediction set\n",
      "2021-03-29 17:48:55,880 starting batch 1 of 2\n",
      "2021-03-29 17:48:55,991 0 genes in training set are missing from prediction set\n",
      "2021-03-29 17:49:01,265 starting batch 2 of 2\n",
      "2021-03-29 17:49:01,364 0 genes in training set are missing from prediction set\n"
     ]
    },
    {
     "name": "stdout",
     "output_type": "stream",
     "text": [
      "scRNAseq hnscc_train_pbmc_val (5285, 26929) (886, 32738)\n"
     ]
    },
    {
     "name": "stderr",
     "output_type": "stream",
     "text": [
      "2021-03-29 17:49:07,127 input dataset shape: (6171, 18521)\n",
      "2021-03-29 17:49:07,129 possible cell types: ['B cell', 'CD4 T cell', 'CD8 T cell', 'Dendritic', 'Endothelial', 'Erythrocyte', 'Malignant', 'Mast', 'Megakaryocyte', 'Monocyte', 'NK', 'Plasma', 'Treg']\n",
      "2021-03-29 17:49:07,130 using validation key\n",
      "2021-03-29 17:49:18,469 epoch: 1, train loss: 33.81735610961914, val loss: 11.737594604492188\n",
      "2021-03-29 17:49:28,392 epoch: 2, train loss: 33.01866149902344, val loss: 11.653855323791504\n",
      "2021-03-29 17:49:38,225 epoch: 3, train loss: 32.41965866088867, val loss: 11.57262897491455\n",
      "2021-03-29 17:49:48,167 epoch: 4, train loss: 32.1041374206543, val loss: 11.537128448486328\n",
      "2021-03-29 17:49:58,106 epoch: 5, train loss: 31.812820434570312, val loss: 11.466057777404785\n",
      "2021-03-29 17:50:07,989 epoch: 6, train loss: 31.609148025512695, val loss: 11.475940704345703\n",
      "2021-03-29 17:50:17,961 epoch: 7, train loss: 31.423194885253906, val loss: 11.439579963684082\n",
      "2021-03-29 17:50:27,886 epoch: 8, train loss: 31.230648040771484, val loss: 11.428703308105469\n",
      "2021-03-29 17:50:37,732 epoch: 9, train loss: 31.087726593017578, val loss: 11.389097213745117\n",
      "2021-03-29 17:50:47,636 epoch: 10, train loss: 30.970430374145508, val loss: 11.392280578613281\n",
      "2021-03-29 17:50:57,452 epoch: 11, train loss: 30.879432678222656, val loss: 11.390817642211914\n",
      "2021-03-29 17:51:07,290 epoch: 12, train loss: 30.757944107055664, val loss: 11.368768692016602\n",
      "2021-03-29 17:51:17,140 epoch: 13, train loss: 30.656700134277344, val loss: 11.363758087158203\n",
      "2021-03-29 17:51:26,927 epoch: 14, train loss: 30.53925895690918, val loss: 11.33920955657959\n",
      "2021-03-29 17:51:36,685 epoch: 15, train loss: 30.416271209716797, val loss: 11.34977912902832\n"
     ]
    },
    {
     "name": "stdout",
     "output_type": "stream",
     "text": [
      "False\n"
     ]
    },
    {
     "name": "stderr",
     "output_type": "stream",
     "text": [
      "2021-03-29 17:51:43,281 0 genes in training set are missing from prediction set\n",
      "2021-03-29 17:51:43,786 starting batch 1 of 1\n",
      "2021-03-29 17:51:43,881 0 genes in training set are missing from prediction set\n"
     ]
    },
    {
     "name": "stdout",
     "output_type": "stream",
     "text": [
      "scRNAseq hnscc_train_pdac_val (5285, 26929) (7840, 28756)\n"
     ]
    },
    {
     "name": "stderr",
     "output_type": "stream",
     "text": [
      "2021-03-29 17:51:58,596 input dataset shape: (13125, 26359)\n",
      "2021-03-29 17:51:58,599 possible cell types: ['Acinar', 'B cell', 'CD4 T cell', 'CD8 T cell', 'Dendritic', 'Endothelial', 'Epithelial', 'Erythrocyte', 'Fibroblast', 'Islet', 'Malignant', 'Mast', 'Monocyte', 'NK', 'Plasma', 'Treg', 'Tuft']\n",
      "2021-03-29 17:51:58,600 using validation key\n",
      "2021-03-29 17:52:15,622 epoch: 1, train loss: 32.717857360839844, val loss: 30.187801361083984\n",
      "2021-03-29 17:52:29,592 epoch: 2, train loss: 31.960786819458008, val loss: 29.80489730834961\n",
      "2021-03-29 17:52:43,645 epoch: 3, train loss: 31.334152221679688, val loss: 29.180173873901367\n",
      "2021-03-29 17:52:57,819 epoch: 4, train loss: 31.097448348999023, val loss: 28.918779373168945\n",
      "2021-03-29 17:53:11,726 epoch: 5, train loss: 30.84663200378418, val loss: 28.763736724853516\n",
      "2021-03-29 17:53:25,849 epoch: 6, train loss: 30.63772201538086, val loss: 28.65918731689453\n",
      "2021-03-29 17:53:39,791 epoch: 7, train loss: 30.42224884033203, val loss: 28.592315673828125\n",
      "2021-03-29 17:53:53,794 epoch: 8, train loss: 30.245088577270508, val loss: 28.54282569885254\n",
      "2021-03-29 17:54:07,948 epoch: 9, train loss: 30.122478485107422, val loss: 28.468950271606445\n",
      "2021-03-29 17:54:22,134 epoch: 10, train loss: 29.977706909179688, val loss: 28.412700653076172\n",
      "2021-03-29 17:54:36,319 epoch: 11, train loss: 29.858436584472656, val loss: 28.347965240478516\n",
      "2021-03-29 17:54:50,442 epoch: 12, train loss: 29.719820022583008, val loss: 28.315006256103516\n",
      "2021-03-29 17:55:04,826 epoch: 13, train loss: 29.638195037841797, val loss: 28.300914764404297\n",
      "2021-03-29 17:55:19,178 epoch: 14, train loss: 29.513904571533203, val loss: 28.25484848022461\n",
      "2021-03-29 17:55:33,370 epoch: 15, train loss: 29.406349182128906, val loss: 28.253833770751953\n"
     ]
    },
    {
     "name": "stdout",
     "output_type": "stream",
     "text": [
      "False\n"
     ]
    },
    {
     "name": "stderr",
     "output_type": "stream",
     "text": [
      "2021-03-29 17:55:43,662 0 genes in training set are missing from prediction set\n",
      "2021-03-29 17:55:44,294 starting batch 1 of 4\n",
      "2021-03-29 17:55:44,416 0 genes in training set are missing from prediction set\n",
      "2021-03-29 17:55:50,822 starting batch 2 of 4\n",
      "2021-03-29 17:55:50,931 0 genes in training set are missing from prediction set\n",
      "2021-03-29 17:55:57,357 starting batch 3 of 4\n",
      "2021-03-29 17:55:57,445 0 genes in training set are missing from prediction set\n",
      "2021-03-29 17:56:03,631 starting batch 4 of 4\n",
      "2021-03-29 17:56:03,718 0 genes in training set are missing from prediction set\n"
     ]
    },
    {
     "name": "stdout",
     "output_type": "stream",
     "text": [
      "scRNAseq melanoma_train_brca_val (4203, 23452) (5773, 27131)\n"
     ]
    },
    {
     "name": "stderr",
     "output_type": "stream",
     "text": [
      "2021-03-29 17:56:13,235 input dataset shape: (9976, 21535)\n",
      "2021-03-29 17:56:13,237 possible cell types: ['B cell', 'CD4 T cell', 'CD8 T cell', 'Dendritic', 'Endothelial', 'Erythrocyte', 'Fibroblast', 'Malignant', 'Mast', 'Monocyte', 'NK', 'Plasma', 'Treg']\n",
      "2021-03-29 17:56:13,238 using validation key\n",
      "2021-03-29 17:56:24,987 epoch: 1, train loss: 28.009477615356445, val loss: 52.23123550415039\n",
      "2021-03-29 17:56:34,395 epoch: 2, train loss: 27.75729751586914, val loss: 51.74180603027344\n",
      "2021-03-29 17:56:44,074 epoch: 3, train loss: 27.24129295349121, val loss: 50.929290771484375\n",
      "2021-03-29 17:56:53,771 epoch: 4, train loss: 26.725126266479492, val loss: 50.49611282348633\n",
      "2021-03-29 17:57:03,351 epoch: 5, train loss: 26.456823348999023, val loss: 50.28691101074219\n",
      "2021-03-29 17:57:13,034 epoch: 6, train loss: 26.277713775634766, val loss: 50.12602996826172\n",
      "2021-03-29 17:57:22,714 epoch: 7, train loss: 26.105499267578125, val loss: 49.99877166748047\n",
      "2021-03-29 17:57:32,309 epoch: 8, train loss: 25.987659454345703, val loss: 49.8913688659668\n",
      "2021-03-29 17:57:42,074 epoch: 9, train loss: 25.86572265625, val loss: 49.7822380065918\n",
      "2021-03-29 17:57:51,653 epoch: 10, train loss: 25.738563537597656, val loss: 49.675018310546875\n",
      "2021-03-29 17:58:01,308 epoch: 11, train loss: 25.616100311279297, val loss: 49.60444641113281\n",
      "2021-03-29 17:58:11,035 epoch: 12, train loss: 25.53765869140625, val loss: 49.54936218261719\n",
      "2021-03-29 17:58:20,625 epoch: 13, train loss: 25.458866119384766, val loss: 49.48453140258789\n",
      "2021-03-29 17:58:30,255 epoch: 14, train loss: 25.340486526489258, val loss: 49.41200637817383\n",
      "2021-03-29 17:58:40,364 epoch: 15, train loss: 25.251821517944336, val loss: 49.44023132324219\n"
     ]
    },
    {
     "name": "stdout",
     "output_type": "stream",
     "text": [
      "False\n"
     ]
    },
    {
     "name": "stderr",
     "output_type": "stream",
     "text": [
      "2021-03-29 17:58:47,564 0 genes in training set are missing from prediction set\n",
      "2021-03-29 17:58:48,117 starting batch 1 of 3\n",
      "2021-03-29 17:58:48,219 0 genes in training set are missing from prediction set\n",
      "2021-03-29 17:58:53,142 starting batch 2 of 3\n",
      "2021-03-29 17:58:53,235 0 genes in training set are missing from prediction set\n",
      "2021-03-29 17:58:58,269 starting batch 3 of 3\n",
      "2021-03-29 17:58:58,350 0 genes in training set are missing from prediction set\n"
     ]
    },
    {
     "name": "stdout",
     "output_type": "stream",
     "text": [
      "scRNAseq melanoma_train_cesc_val (4203, 23452) (4277, 22928)\n"
     ]
    },
    {
     "name": "stderr",
     "output_type": "stream",
     "text": [
      "2021-03-29 17:59:07,805 input dataset shape: (8480, 20043)\n",
      "2021-03-29 17:59:07,807 possible cell types: ['B cell', 'CD4 T cell', 'CD8 T cell', 'Dendritic', 'Endothelial', 'Epithelial', 'Erythrocyte', 'Fibroblast', 'Malignant', 'Mast', 'Monocyte', 'NK', 'Plasma', 'Treg']\n",
      "2021-03-29 17:59:07,808 using validation key\n",
      "2021-03-29 17:59:18,575 epoch: 1, train loss: 17.871051788330078, val loss: 59.66471481323242\n",
      "2021-03-29 17:59:27,446 epoch: 2, train loss: 17.712465286254883, val loss: 59.68572998046875\n",
      "2021-03-29 17:59:36,137 epoch: 3, train loss: 17.453807830810547, val loss: 58.51425552368164\n",
      "2021-03-29 17:59:45,012 epoch: 4, train loss: 17.10719871520996, val loss: 57.70698928833008\n",
      "2021-03-29 17:59:53,842 epoch: 5, train loss: 16.93033218383789, val loss: 57.23457336425781\n",
      "2021-03-29 18:00:02,629 epoch: 6, train loss: 16.822053909301758, val loss: 57.00825500488281\n",
      "2021-03-29 18:00:11,461 epoch: 7, train loss: 16.724578857421875, val loss: 56.878700256347656\n",
      "2021-03-29 18:00:20,311 epoch: 8, train loss: 16.655624389648438, val loss: 56.70575714111328\n",
      "2021-03-29 18:00:29,115 epoch: 9, train loss: 16.58796501159668, val loss: 56.68476486206055\n",
      "2021-03-29 18:00:37,893 epoch: 10, train loss: 16.52157211303711, val loss: 56.55192184448242\n",
      "2021-03-29 18:00:46,690 epoch: 11, train loss: 16.4763240814209, val loss: 56.47364044189453\n",
      "2021-03-29 18:00:55,474 epoch: 12, train loss: 16.41795539855957, val loss: 56.412906646728516\n",
      "2021-03-29 18:01:04,270 epoch: 13, train loss: 16.344581604003906, val loss: 56.32659912109375\n",
      "2021-03-29 18:01:13,114 epoch: 14, train loss: 16.29029655456543, val loss: 56.25580596923828\n",
      "2021-03-29 18:01:21,946 epoch: 15, train loss: 16.244335174560547, val loss: 56.31825256347656\n"
     ]
    },
    {
     "name": "stdout",
     "output_type": "stream",
     "text": [
      "False\n"
     ]
    },
    {
     "name": "stderr",
     "output_type": "stream",
     "text": [
      "2021-03-29 18:01:28,466 0 genes in training set are missing from prediction set\n",
      "2021-03-29 18:01:28,958 starting batch 1 of 2\n",
      "2021-03-29 18:01:29,073 0 genes in training set are missing from prediction set\n",
      "2021-03-29 18:01:35,129 starting batch 2 of 2\n",
      "2021-03-29 18:01:35,225 0 genes in training set are missing from prediction set\n"
     ]
    },
    {
     "name": "stdout",
     "output_type": "stream",
     "text": [
      "scRNAseq melanoma_train_hnscc_val (4203, 23452) (5203, 26929)\n"
     ]
    },
    {
     "name": "stderr",
     "output_type": "stream",
     "text": [
      "2021-03-29 18:01:49,746 input dataset shape: (9406, 21552)\n",
      "2021-03-29 18:01:49,748 possible cell types: ['B cell', 'CD4 T cell', 'CD8 T cell', 'Dendritic', 'Endothelial', 'Erythrocyte', 'Fibroblast', 'Malignant', 'Mast', 'Monocyte', 'NK', 'Plasma', 'Treg']\n",
      "2021-03-29 18:01:49,749 using validation key\n",
      "2021-03-29 18:02:01,863 epoch: 1, train loss: 20.146774291992188, val loss: 23.100353240966797\n",
      "2021-03-29 18:02:10,222 epoch: 2, train loss: 19.945924758911133, val loss: 22.97055435180664\n",
      "2021-03-29 18:02:18,491 epoch: 3, train loss: 19.673479080200195, val loss: 22.873245239257812\n",
      "2021-03-29 18:02:26,705 epoch: 4, train loss: 19.369192123413086, val loss: 22.674436569213867\n",
      "2021-03-29 18:02:34,840 epoch: 5, train loss: 19.119173049926758, val loss: 22.59185028076172\n",
      "2021-03-29 18:02:42,840 epoch: 6, train loss: 19.007762908935547, val loss: 22.560302734375\n",
      "2021-03-29 18:02:50,856 epoch: 7, train loss: 18.911731719970703, val loss: 22.508136749267578\n",
      "2021-03-29 18:02:58,783 epoch: 8, train loss: 18.84315299987793, val loss: 22.47266387939453\n",
      "2021-03-29 18:03:06,766 epoch: 9, train loss: 18.763778686523438, val loss: 22.424964904785156\n",
      "2021-03-29 18:03:15,042 epoch: 10, train loss: 18.67391586303711, val loss: 22.400081634521484\n",
      "2021-03-29 18:03:23,172 epoch: 11, train loss: 18.618820190429688, val loss: 22.373083114624023\n",
      "2021-03-29 18:03:31,465 epoch: 12, train loss: 18.568004608154297, val loss: 22.33378028869629\n",
      "2021-03-29 18:03:39,771 epoch: 13, train loss: 18.498809814453125, val loss: 22.306976318359375\n",
      "2021-03-29 18:03:47,831 epoch: 14, train loss: 18.45332145690918, val loss: 22.279327392578125\n",
      "2021-03-29 18:03:55,797 epoch: 15, train loss: 18.394941329956055, val loss: 22.259376525878906\n"
     ]
    },
    {
     "name": "stdout",
     "output_type": "stream",
     "text": [
      "False\n"
     ]
    },
    {
     "name": "stderr",
     "output_type": "stream",
     "text": [
      "2021-03-29 18:04:02,317 0 genes in training set are missing from prediction set\n",
      "2021-03-29 18:04:02,677 starting batch 1 of 3\n",
      "2021-03-29 18:04:02,776 0 genes in training set are missing from prediction set\n",
      "2021-03-29 18:04:07,404 starting batch 2 of 3\n",
      "2021-03-29 18:04:07,501 0 genes in training set are missing from prediction set\n",
      "2021-03-29 18:04:12,788 starting batch 3 of 3\n",
      "2021-03-29 18:04:12,871 0 genes in training set are missing from prediction set\n"
     ]
    },
    {
     "name": "stdout",
     "output_type": "stream",
     "text": [
      "scRNAseq melanoma_train_melanoma_val (4203, 23452) (3532, 23452)\n"
     ]
    },
    {
     "name": "stderr",
     "output_type": "stream",
     "text": [
      "2021-03-29 18:04:19,719 input dataset shape: (7735, 23452)\n",
      "2021-03-29 18:04:19,720 possible cell types: ['B cell', 'CD4 T cell', 'CD8 T cell', 'Dendritic', 'Fibroblast', 'Malignant', 'Monocyte', 'NK', 'Plasma', 'Treg']\n",
      "2021-03-29 18:04:19,721 using validation key\n",
      "2021-03-29 18:04:30,740 epoch: 1, train loss: 39.86789321899414, val loss: 44.068443298339844\n",
      "2021-03-29 18:04:40,064 epoch: 2, train loss: 39.35175323486328, val loss: 43.653194427490234\n",
      "2021-03-29 18:04:49,527 epoch: 3, train loss: 38.55326843261719, val loss: 42.94122314453125\n",
      "2021-03-29 18:04:58,936 epoch: 4, train loss: 37.925140380859375, val loss: 42.48741912841797\n",
      "2021-03-29 18:05:08,329 epoch: 5, train loss: 37.66120910644531, val loss: 42.35356903076172\n",
      "2021-03-29 18:05:17,682 epoch: 6, train loss: 37.43810272216797, val loss: 42.24277114868164\n",
      "2021-03-29 18:05:27,069 epoch: 7, train loss: 37.27463912963867, val loss: 42.116905212402344\n",
      "2021-03-29 18:05:36,340 epoch: 8, train loss: 37.07342529296875, val loss: 42.0362434387207\n",
      "2021-03-29 18:05:45,324 epoch: 9, train loss: 36.861942291259766, val loss: 41.95043182373047\n",
      "2021-03-29 18:05:54,377 epoch: 10, train loss: 36.708248138427734, val loss: 41.85777282714844\n",
      "2021-03-29 18:06:03,380 epoch: 11, train loss: 36.54679489135742, val loss: 41.796112060546875\n",
      "2021-03-29 18:06:12,503 epoch: 12, train loss: 36.415218353271484, val loss: 41.73213195800781\n",
      "2021-03-29 18:06:21,580 epoch: 13, train loss: 36.261512756347656, val loss: 41.69831085205078\n",
      "2021-03-29 18:06:30,613 epoch: 14, train loss: 36.12811279296875, val loss: 41.67771911621094\n",
      "2021-03-29 18:06:39,799 epoch: 15, train loss: 35.97884750366211, val loss: 41.62850570678711\n"
     ]
    },
    {
     "name": "stdout",
     "output_type": "stream",
     "text": [
      "True\n"
     ]
    },
    {
     "name": "stderr",
     "output_type": "stream",
     "text": [
      "2021-03-29 18:06:48,128 0 genes in training set are missing from prediction set\n",
      "2021-03-29 18:06:48,594 starting batch 1 of 2\n",
      "2021-03-29 18:06:48,704 0 genes in training set are missing from prediction set\n",
      "2021-03-29 18:06:53,366 starting batch 2 of 2\n",
      "2021-03-29 18:06:53,460 0 genes in training set are missing from prediction set\n"
     ]
    },
    {
     "name": "stdout",
     "output_type": "stream",
     "text": [
      "scRNAseq melanoma_train_myeloma_val (4203, 23452) (3312, 24020)\n"
     ]
    },
    {
     "name": "stderr",
     "output_type": "stream",
     "text": [
      "2021-03-29 18:07:00,477 input dataset shape: (7515, 18083)\n",
      "2021-03-29 18:07:00,479 possible cell types: ['B cell', 'CD4 T cell', 'CD8 T cell', 'Dendritic', 'Erythrocyte', 'Fibroblast', 'Malignant', 'Mast', 'Monocyte', 'NK', 'Plasma', 'Platlete', 'Treg']\n",
      "2021-03-29 18:07:00,480 using validation key\n",
      "2021-03-29 18:07:10,339 epoch: 1, train loss: 37.81788635253906, val loss: 27.94200897216797\n",
      "2021-03-29 18:07:18,782 epoch: 2, train loss: 37.43701934814453, val loss: 27.76767349243164\n",
      "2021-03-29 18:07:27,187 epoch: 3, train loss: 36.66428756713867, val loss: 27.53423500061035\n",
      "2021-03-29 18:07:35,523 epoch: 4, train loss: 36.07139205932617, val loss: 27.475345611572266\n",
      "2021-03-29 18:07:44,029 epoch: 5, train loss: 35.755027770996094, val loss: 27.38805389404297\n",
      "2021-03-29 18:07:52,432 epoch: 6, train loss: 35.556068420410156, val loss: 27.37712860107422\n",
      "2021-03-29 18:08:00,837 epoch: 7, train loss: 35.3849983215332, val loss: 27.297128677368164\n",
      "2021-03-29 18:08:09,191 epoch: 8, train loss: 35.21706771850586, val loss: 27.237018585205078\n",
      "2021-03-29 18:08:17,536 epoch: 9, train loss: 35.036277770996094, val loss: 27.184207916259766\n",
      "2021-03-29 18:08:25,904 epoch: 10, train loss: 34.89980697631836, val loss: 27.096267700195312\n",
      "2021-03-29 18:08:34,521 epoch: 11, train loss: 34.73980712890625, val loss: 27.000587463378906\n",
      "2021-03-29 18:08:42,803 epoch: 12, train loss: 34.596458435058594, val loss: 26.97439193725586\n",
      "2021-03-29 18:08:51,263 epoch: 13, train loss: 34.4533576965332, val loss: 26.934818267822266\n",
      "2021-03-29 18:08:59,615 epoch: 14, train loss: 34.34297561645508, val loss: 26.933067321777344\n",
      "2021-03-29 18:09:08,001 epoch: 15, train loss: 34.198585510253906, val loss: 26.946231842041016\n"
     ]
    },
    {
     "name": "stdout",
     "output_type": "stream",
     "text": [
      "False\n"
     ]
    },
    {
     "name": "stderr",
     "output_type": "stream",
     "text": [
      "2021-03-29 18:09:14,107 0 genes in training set are missing from prediction set\n",
      "2021-03-29 18:09:14,412 starting batch 1 of 2\n",
      "2021-03-29 18:09:14,499 0 genes in training set are missing from prediction set\n",
      "2021-03-29 18:09:19,434 starting batch 2 of 2\n",
      "2021-03-29 18:09:19,511 0 genes in training set are missing from prediction set\n"
     ]
    },
    {
     "name": "stdout",
     "output_type": "stream",
     "text": [
      "scRNAseq melanoma_train_pbmc_val (4203, 23452) (886, 32738)\n"
     ]
    },
    {
     "name": "stderr",
     "output_type": "stream",
     "text": [
      "2021-03-29 18:09:24,109 input dataset shape: (5089, 16803)\n",
      "2021-03-29 18:09:24,111 possible cell types: ['B cell', 'CD4 T cell', 'CD8 T cell', 'Dendritic', 'Fibroblast', 'Malignant', 'Megakaryocyte', 'Monocyte', 'NK', 'Plasma', 'Treg']\n",
      "2021-03-29 18:09:24,112 using validation key\n",
      "2021-03-29 18:09:33,336 epoch: 1, train loss: 36.32625961303711, val loss: 21.900405883789062\n",
      "2021-03-29 18:09:41,166 epoch: 2, train loss: 35.87522888183594, val loss: 21.802888870239258\n",
      "2021-03-29 18:09:49,027 epoch: 3, train loss: 35.207489013671875, val loss: 21.702070236206055\n",
      "2021-03-29 18:09:56,807 epoch: 4, train loss: 34.689361572265625, val loss: 21.64708137512207\n",
      "2021-03-29 18:10:04,608 epoch: 5, train loss: 34.422515869140625, val loss: 21.6193904876709\n",
      "2021-03-29 18:10:12,419 epoch: 6, train loss: 34.23724365234375, val loss: 21.587013244628906\n",
      "2021-03-29 18:10:20,249 epoch: 7, train loss: 34.03818893432617, val loss: 21.554622650146484\n",
      "2021-03-29 18:10:28,053 epoch: 8, train loss: 33.8768424987793, val loss: 21.543615341186523\n",
      "2021-03-29 18:10:35,860 epoch: 9, train loss: 33.75238037109375, val loss: 21.555950164794922\n",
      "2021-03-29 18:10:43,760 epoch: 10, train loss: 33.61035919189453, val loss: 21.5164852142334\n",
      "2021-03-29 18:10:51,492 epoch: 11, train loss: 33.46152114868164, val loss: 21.504308700561523\n",
      "2021-03-29 18:10:59,261 epoch: 12, train loss: 33.32970428466797, val loss: 21.469036102294922\n",
      "2021-03-29 18:11:07,084 epoch: 13, train loss: 33.23546600341797, val loss: 21.47779655456543\n",
      "2021-03-29 18:11:14,907 epoch: 14, train loss: 33.07626724243164, val loss: 21.477922439575195\n",
      "2021-03-29 18:11:22,641 epoch: 15, train loss: 32.94393539428711, val loss: 21.422481536865234\n"
     ]
    },
    {
     "name": "stdout",
     "output_type": "stream",
     "text": [
      "False\n"
     ]
    },
    {
     "name": "stderr",
     "output_type": "stream",
     "text": [
      "2021-03-29 18:11:27,554 0 genes in training set are missing from prediction set\n",
      "2021-03-29 18:11:27,868 starting batch 1 of 1\n",
      "2021-03-29 18:11:27,939 0 genes in training set are missing from prediction set\n"
     ]
    },
    {
     "name": "stdout",
     "output_type": "stream",
     "text": [
      "scRNAseq melanoma_train_pdac_val (4203, 23452) (7840, 28756)\n"
     ]
    },
    {
     "name": "stderr",
     "output_type": "stream",
     "text": [
      "2021-03-29 18:11:38,815 input dataset shape: (12043, 21722)\n",
      "2021-03-29 18:11:38,817 possible cell types: ['Acinar', 'B cell', 'CD4 T cell', 'CD8 T cell', 'Dendritic', 'Endothelial', 'Epithelial', 'Erythrocyte', 'Fibroblast', 'Islet', 'Malignant', 'Mast', 'Monocyte', 'NK', 'Plasma', 'Treg', 'Tuft']\n",
      "2021-03-29 18:11:38,818 using validation key\n",
      "2021-03-29 18:11:51,271 epoch: 1, train loss: 21.268186569213867, val loss: 39.236549377441406\n",
      "2021-03-29 18:12:01,152 epoch: 2, train loss: 21.033279418945312, val loss: 38.98044967651367\n",
      "2021-03-29 18:12:11,047 epoch: 3, train loss: 20.65072250366211, val loss: 38.26963806152344\n",
      "2021-03-29 18:12:20,822 epoch: 4, train loss: 20.273828506469727, val loss: 37.650543212890625\n",
      "2021-03-29 18:12:30,624 epoch: 5, train loss: 20.01540756225586, val loss: 37.42815017700195\n",
      "2021-03-29 18:12:40,477 epoch: 6, train loss: 19.869762420654297, val loss: 37.251522064208984\n",
      "2021-03-29 18:12:50,189 epoch: 7, train loss: 19.766510009765625, val loss: 37.15113830566406\n",
      "2021-03-29 18:12:59,944 epoch: 8, train loss: 19.70119285583496, val loss: 37.0711669921875\n",
      "2021-03-29 18:13:09,728 epoch: 9, train loss: 19.618173599243164, val loss: 36.94839096069336\n",
      "2021-03-29 18:13:19,145 epoch: 10, train loss: 19.56234359741211, val loss: 36.912879943847656\n",
      "2021-03-29 18:13:28,843 epoch: 11, train loss: 19.46438217163086, val loss: 36.813514709472656\n",
      "2021-03-29 18:13:38,490 epoch: 12, train loss: 19.39522933959961, val loss: 36.74616241455078\n",
      "2021-03-29 18:13:47,882 epoch: 13, train loss: 19.32276725769043, val loss: 36.68965148925781\n",
      "2021-03-29 18:13:57,673 epoch: 14, train loss: 19.247392654418945, val loss: 36.66136169433594\n",
      "2021-03-29 18:14:07,422 epoch: 15, train loss: 19.17804527282715, val loss: 36.65846252441406\n"
     ]
    },
    {
     "name": "stdout",
     "output_type": "stream",
     "text": [
      "False\n"
     ]
    },
    {
     "name": "stderr",
     "output_type": "stream",
     "text": [
      "2021-03-29 18:14:15,340 0 genes in training set are missing from prediction set\n",
      "2021-03-29 18:14:15,893 starting batch 1 of 4\n",
      "2021-03-29 18:14:15,996 0 genes in training set are missing from prediction set\n",
      "2021-03-29 18:14:21,183 starting batch 2 of 4\n",
      "2021-03-29 18:14:21,284 0 genes in training set are missing from prediction set\n",
      "2021-03-29 18:14:26,716 starting batch 3 of 4\n",
      "2021-03-29 18:14:26,815 0 genes in training set are missing from prediction set\n",
      "2021-03-29 18:14:31,914 starting batch 4 of 4\n",
      "2021-03-29 18:14:31,987 0 genes in training set are missing from prediction set\n"
     ]
    },
    {
     "name": "stdout",
     "output_type": "stream",
     "text": [
      "scRNAseq myeloma_train_brca_val (3617, 24020) (5773, 27131)\n"
     ]
    },
    {
     "name": "stderr",
     "output_type": "stream",
     "text": [
      "2021-03-29 18:14:40,379 input dataset shape: (9390, 19480)\n",
      "2021-03-29 18:14:40,381 possible cell types: ['B cell', 'CD4 T cell', 'CD8 T cell', 'Dendritic', 'Endothelial', 'Erythrocyte', 'Fibroblast', 'Malignant', 'Mast', 'Monocyte', 'NK', 'Plasma', 'Platlete', 'Treg']\n",
      "2021-03-29 18:14:40,382 using validation key\n",
      "2021-03-29 18:14:49,966 epoch: 1, train loss: 30.185911178588867, val loss: 52.753562927246094\n",
      "2021-03-29 18:14:57,378 epoch: 2, train loss: 29.925243377685547, val loss: 52.67713928222656\n",
      "2021-03-29 18:15:04,931 epoch: 3, train loss: 29.376407623291016, val loss: 52.28114318847656\n",
      "2021-03-29 18:15:12,419 epoch: 4, train loss: 29.030336380004883, val loss: 51.9623908996582\n",
      "2021-03-29 18:15:19,898 epoch: 5, train loss: 28.810150146484375, val loss: 51.71141052246094\n",
      "2021-03-29 18:15:27,347 epoch: 6, train loss: 28.587753295898438, val loss: 51.46903991699219\n",
      "2021-03-29 18:15:34,868 epoch: 7, train loss: 28.426963806152344, val loss: 51.34388732910156\n",
      "2021-03-29 18:15:42,390 epoch: 8, train loss: 28.26616668701172, val loss: 51.248443603515625\n",
      "2021-03-29 18:15:49,887 epoch: 9, train loss: 28.134807586669922, val loss: 51.12074279785156\n",
      "2021-03-29 18:15:57,523 epoch: 10, train loss: 28.00336265563965, val loss: 51.094581604003906\n",
      "2021-03-29 18:16:05,108 epoch: 11, train loss: 27.919408798217773, val loss: 51.02273941040039\n",
      "2021-03-29 18:16:12,778 epoch: 12, train loss: 27.81886100769043, val loss: 51.02516174316406\n",
      "2021-03-29 18:16:20,295 epoch: 13, train loss: 27.764711380004883, val loss: 51.00480651855469\n",
      "2021-03-29 18:16:27,747 epoch: 14, train loss: 27.632854461669922, val loss: 50.951900482177734\n",
      "2021-03-29 18:16:35,271 epoch: 15, train loss: 27.597959518432617, val loss: 50.98631286621094\n"
     ]
    },
    {
     "name": "stdout",
     "output_type": "stream",
     "text": [
      "False\n"
     ]
    },
    {
     "name": "stderr",
     "output_type": "stream",
     "text": [
      "2021-03-29 18:16:41,513 0 genes in training set are missing from prediction set\n",
      "2021-03-29 18:16:42,033 starting batch 1 of 3\n",
      "2021-03-29 18:16:42,133 0 genes in training set are missing from prediction set\n",
      "2021-03-29 18:16:48,115 starting batch 2 of 3\n",
      "2021-03-29 18:16:48,206 0 genes in training set are missing from prediction set\n",
      "2021-03-29 18:16:54,037 starting batch 3 of 3\n",
      "2021-03-29 18:16:54,113 0 genes in training set are missing from prediction set\n"
     ]
    },
    {
     "name": "stdout",
     "output_type": "stream",
     "text": [
      "scRNAseq myeloma_train_cesc_val (3617, 24020) (4277, 22928)\n"
     ]
    },
    {
     "name": "stderr",
     "output_type": "stream",
     "text": [
      "2021-03-29 18:17:02,985 input dataset shape: (7894, 18774)\n",
      "2021-03-29 18:17:02,987 possible cell types: ['B cell', 'CD4 T cell', 'CD8 T cell', 'Dendritic', 'Endothelial', 'Epithelial', 'Erythrocyte', 'Fibroblast', 'Malignant', 'Mast', 'Monocyte', 'NK', 'Plasma', 'Platlete']\n",
      "2021-03-29 18:17:02,988 using validation key\n"
     ]
    },
    {
     "name": "stdout",
     "output_type": "stream",
     "text": [
      "WARNING:tensorflow:5 out of the last 17 calls to <function compute_loss at 0x7fb3c1a1bef0> triggered tf.function retracing. Tracing is expensive and the excessive number of tracings is likely due to passing python objects instead of tensors. Also, tf.function has experimental_relax_shapes=True option that relaxes argument shapes that can avoid unnecessary retracing. Please refer to https://www.tensorflow.org/tutorials/customization/performance#python_or_tensor_args and https://www.tensorflow.org/api_docs/python/tf/function for more details.\n"
     ]
    },
    {
     "name": "stderr",
     "output_type": "stream",
     "text": [
      "2021-03-29 18:17:12,479 5 out of the last 17 calls to <function compute_loss at 0x7fb3c1a1bef0> triggered tf.function retracing. Tracing is expensive and the excessive number of tracings is likely due to passing python objects instead of tensors. Also, tf.function has experimental_relax_shapes=True option that relaxes argument shapes that can avoid unnecessary retracing. Please refer to https://www.tensorflow.org/tutorials/customization/performance#python_or_tensor_args and https://www.tensorflow.org/api_docs/python/tf/function for more details.\n",
      "2021-03-29 18:17:13,056 epoch: 1, train loss: 18.742956161499023, val loss: 59.788414001464844\n",
      "2021-03-29 18:17:19,991 epoch: 2, train loss: 18.54998207092285, val loss: 59.704010009765625\n",
      "2021-03-29 18:17:26,942 epoch: 3, train loss: 18.409576416015625, val loss: 59.50408935546875\n",
      "2021-03-29 18:17:33,919 epoch: 4, train loss: 18.076269149780273, val loss: 58.971492767333984\n",
      "2021-03-29 18:17:40,851 epoch: 5, train loss: 17.960939407348633, val loss: 58.848793029785156\n",
      "2021-03-29 18:17:47,805 epoch: 6, train loss: 17.85525894165039, val loss: 58.6756477355957\n",
      "2021-03-29 18:17:54,710 epoch: 7, train loss: 17.764259338378906, val loss: 58.539642333984375\n",
      "2021-03-29 18:18:01,695 epoch: 8, train loss: 17.6711483001709, val loss: 58.42056655883789\n",
      "2021-03-29 18:18:08,544 epoch: 9, train loss: 17.561569213867188, val loss: 58.2762336730957\n",
      "2021-03-29 18:18:15,522 epoch: 10, train loss: 17.523181915283203, val loss: 58.25922393798828\n",
      "2021-03-29 18:18:22,401 epoch: 11, train loss: 17.455232620239258, val loss: 58.26446533203125\n",
      "2021-03-29 18:18:29,328 epoch: 12, train loss: 17.40608024597168, val loss: 58.22200012207031\n",
      "2021-03-29 18:18:36,268 epoch: 13, train loss: 17.32244110107422, val loss: 58.269874572753906\n",
      "2021-03-29 18:18:43,246 epoch: 14, train loss: 17.282997131347656, val loss: 58.23390197753906\n",
      "2021-03-29 18:18:50,110 epoch: 15, train loss: 17.238845825195312, val loss: 58.24346160888672\n"
     ]
    },
    {
     "name": "stdout",
     "output_type": "stream",
     "text": [
      "False\n"
     ]
    },
    {
     "name": "stderr",
     "output_type": "stream",
     "text": [
      "2021-03-29 18:18:55,731 0 genes in training set are missing from prediction set\n",
      "2021-03-29 18:18:56,044 starting batch 1 of 2\n",
      "2021-03-29 18:18:56,140 0 genes in training set are missing from prediction set\n",
      "2021-03-29 18:19:01,880 starting batch 2 of 2\n",
      "2021-03-29 18:19:01,977 0 genes in training set are missing from prediction set\n"
     ]
    },
    {
     "name": "stdout",
     "output_type": "stream",
     "text": [
      "scRNAseq myeloma_train_hnscc_val (3617, 24020) (5203, 26929)\n"
     ]
    },
    {
     "name": "stderr",
     "output_type": "stream",
     "text": [
      "2021-03-29 18:19:12,626 input dataset shape: (8820, 19477)\n",
      "2021-03-29 18:19:12,628 possible cell types: ['B cell', 'CD4 T cell', 'CD8 T cell', 'Dendritic', 'Endothelial', 'Erythrocyte', 'Malignant', 'Mast', 'Monocyte', 'NK', 'Plasma', 'Platlete', 'Treg']\n",
      "2021-03-29 18:19:12,628 using validation key\n",
      "2021-03-29 18:19:22,560 epoch: 1, train loss: 21.41759490966797, val loss: 23.495283126831055\n",
      "2021-03-29 18:19:30,674 epoch: 2, train loss: 21.2471981048584, val loss: 23.404956817626953\n",
      "2021-03-29 18:19:38,732 epoch: 3, train loss: 21.137876510620117, val loss: 23.35513687133789\n",
      "2021-03-29 18:19:46,641 epoch: 4, train loss: 20.7531795501709, val loss: 23.275890350341797\n",
      "2021-03-29 18:19:54,619 epoch: 5, train loss: 20.589008331298828, val loss: 23.18317222595215\n",
      "2021-03-29 18:20:02,669 epoch: 6, train loss: 20.468395233154297, val loss: 23.114803314208984\n",
      "2021-03-29 18:20:10,533 epoch: 7, train loss: 20.34046745300293, val loss: 23.03467559814453\n",
      "2021-03-29 18:20:18,407 epoch: 8, train loss: 20.23455047607422, val loss: 23.007144927978516\n",
      "2021-03-29 18:20:26,308 epoch: 9, train loss: 20.09087371826172, val loss: 22.94277572631836\n",
      "2021-03-29 18:20:34,290 epoch: 10, train loss: 20.03162956237793, val loss: 22.90697479248047\n",
      "2021-03-29 18:20:42,302 epoch: 11, train loss: 19.9464054107666, val loss: 22.887969970703125\n",
      "2021-03-29 18:20:50,256 epoch: 12, train loss: 19.923377990722656, val loss: 22.876455307006836\n",
      "2021-03-29 18:20:58,147 epoch: 13, train loss: 19.866994857788086, val loss: 22.838722229003906\n",
      "2021-03-29 18:21:05,996 epoch: 14, train loss: 19.813161849975586, val loss: 22.828166961669922\n",
      "2021-03-29 18:21:13,831 epoch: 15, train loss: 19.771343231201172, val loss: 22.816986083984375\n"
     ]
    },
    {
     "name": "stdout",
     "output_type": "stream",
     "text": [
      "False\n"
     ]
    },
    {
     "name": "stderr",
     "output_type": "stream",
     "text": [
      "2021-03-29 18:21:20,009 0 genes in training set are missing from prediction set\n",
      "2021-03-29 18:21:20,531 starting batch 1 of 3\n",
      "2021-03-29 18:21:20,628 0 genes in training set are missing from prediction set\n",
      "2021-03-29 18:21:26,282 starting batch 2 of 3\n",
      "2021-03-29 18:21:26,384 0 genes in training set are missing from prediction set\n",
      "2021-03-29 18:21:32,589 starting batch 3 of 3\n",
      "2021-03-29 18:21:32,661 0 genes in training set are missing from prediction set\n"
     ]
    },
    {
     "name": "stdout",
     "output_type": "stream",
     "text": [
      "scRNAseq myeloma_train_melanoma_val (3617, 24020) (3532, 23452)\n"
     ]
    },
    {
     "name": "stderr",
     "output_type": "stream",
     "text": [
      "2021-03-29 18:21:38,053 input dataset shape: (7149, 18083)\n",
      "2021-03-29 18:21:38,055 possible cell types: ['B cell', 'CD4 T cell', 'CD8 T cell', 'Dendritic', 'Erythrocyte', 'Fibroblast', 'Malignant', 'Mast', 'Monocyte', 'NK', 'Plasma', 'Platlete', 'Treg']\n",
      "2021-03-29 18:21:38,055 using validation key\n",
      "2021-03-29 18:21:46,890 epoch: 1, train loss: 39.175331115722656, val loss: 43.546653747558594\n",
      "2021-03-29 18:21:54,229 epoch: 2, train loss: 38.879852294921875, val loss: 43.32748794555664\n",
      "2021-03-29 18:22:01,546 epoch: 3, train loss: 38.178932189941406, val loss: 42.99253463745117\n",
      "2021-03-29 18:22:08,762 epoch: 4, train loss: 37.67296600341797, val loss: 42.81608963012695\n",
      "2021-03-29 18:22:15,939 epoch: 5, train loss: 37.42189025878906, val loss: 42.71858215332031\n",
      "2021-03-29 18:22:23,290 epoch: 6, train loss: 37.192073822021484, val loss: 42.621925354003906\n",
      "2021-03-29 18:22:30,553 epoch: 7, train loss: 37.02348709106445, val loss: 42.519081115722656\n",
      "2021-03-29 18:22:37,850 epoch: 8, train loss: 36.78437805175781, val loss: 42.488067626953125\n",
      "2021-03-29 18:22:45,216 epoch: 9, train loss: 36.660545349121094, val loss: 42.40220642089844\n",
      "2021-03-29 18:22:52,506 epoch: 10, train loss: 36.55853271484375, val loss: 42.37205505371094\n",
      "2021-03-29 18:22:59,709 epoch: 11, train loss: 36.459720611572266, val loss: 42.33445739746094\n",
      "2021-03-29 18:23:06,937 epoch: 12, train loss: 36.321651458740234, val loss: 42.346168518066406\n",
      "2021-03-29 18:23:14,206 epoch: 13, train loss: 36.167930603027344, val loss: 42.316505432128906\n",
      "2021-03-29 18:23:21,482 epoch: 14, train loss: 36.116207122802734, val loss: 42.29606628417969\n",
      "2021-03-29 18:23:28,735 epoch: 15, train loss: 35.95414352416992, val loss: 42.27717971801758\n"
     ]
    },
    {
     "name": "stdout",
     "output_type": "stream",
     "text": [
      "False\n"
     ]
    },
    {
     "name": "stderr",
     "output_type": "stream",
     "text": [
      "2021-03-29 18:23:34,269 0 genes in training set are missing from prediction set\n",
      "2021-03-29 18:23:34,670 starting batch 1 of 2\n",
      "2021-03-29 18:23:34,759 0 genes in training set are missing from prediction set\n",
      "2021-03-29 18:23:39,527 starting batch 2 of 2\n",
      "2021-03-29 18:23:39,604 0 genes in training set are missing from prediction set\n"
     ]
    },
    {
     "name": "stdout",
     "output_type": "stream",
     "text": [
      "scRNAseq myeloma_train_myeloma_val (3617, 24020) (3312, 24020)\n"
     ]
    },
    {
     "name": "stderr",
     "output_type": "stream",
     "text": [
      "2021-03-29 18:23:47,161 input dataset shape: (6929, 24020)\n",
      "2021-03-29 18:23:47,163 possible cell types: ['B cell', 'CD4 T cell', 'CD8 T cell', 'Dendritic', 'Erythrocyte', 'Malignant', 'Mast', 'Monocyte', 'NK', 'Plasma', 'Platlete']\n",
      "2021-03-29 18:23:47,164 using validation key\n"
     ]
    },
    {
     "name": "stdout",
     "output_type": "stream",
     "text": [
      "WARNING:tensorflow:5 out of the last 19 calls to <function compute_loss at 0x7fb3c1a1bef0> triggered tf.function retracing. Tracing is expensive and the excessive number of tracings is likely due to passing python objects instead of tensors. Also, tf.function has experimental_relax_shapes=True option that relaxes argument shapes that can avoid unnecessary retracing. Please refer to https://www.tensorflow.org/tutorials/customization/performance#python_or_tensor_args and https://www.tensorflow.org/api_docs/python/tf/function for more details.\n"
     ]
    },
    {
     "name": "stderr",
     "output_type": "stream",
     "text": [
      "2021-03-29 18:23:56,867 5 out of the last 19 calls to <function compute_loss at 0x7fb3c1a1bef0> triggered tf.function retracing. Tracing is expensive and the excessive number of tracings is likely due to passing python objects instead of tensors. Also, tf.function has experimental_relax_shapes=True option that relaxes argument shapes that can avoid unnecessary retracing. Please refer to https://www.tensorflow.org/tutorials/customization/performance#python_or_tensor_args and https://www.tensorflow.org/api_docs/python/tf/function for more details.\n",
      "2021-03-29 18:23:57,655 epoch: 1, train loss: 47.64554977416992, val loss: 34.83928298950195\n",
      "2021-03-29 18:24:05,803 epoch: 2, train loss: 47.39059066772461, val loss: 34.68264389038086\n",
      "2021-03-29 18:24:14,046 epoch: 3, train loss: 46.478267669677734, val loss: 34.34748458862305\n",
      "2021-03-29 18:24:22,147 epoch: 4, train loss: 46.05284118652344, val loss: 34.10527801513672\n",
      "2021-03-29 18:24:30,268 epoch: 5, train loss: 45.716278076171875, val loss: 34.04265594482422\n",
      "2021-03-29 18:24:38,483 epoch: 6, train loss: 45.43416213989258, val loss: 33.92710876464844\n",
      "2021-03-29 18:24:46,712 epoch: 7, train loss: 45.12240982055664, val loss: 33.76605987548828\n",
      "2021-03-29 18:24:55,037 epoch: 8, train loss: 44.89654541015625, val loss: 33.52668762207031\n",
      "2021-03-29 18:25:03,210 epoch: 9, train loss: 44.666175842285156, val loss: 33.3514404296875\n",
      "2021-03-29 18:25:11,356 epoch: 10, train loss: 44.5125617980957, val loss: 33.246498107910156\n",
      "2021-03-29 18:25:19,588 epoch: 11, train loss: 44.340023040771484, val loss: 33.14397430419922\n",
      "2021-03-29 18:25:27,816 epoch: 12, train loss: 44.29714584350586, val loss: 33.07902526855469\n",
      "2021-03-29 18:25:35,861 epoch: 13, train loss: 44.06039810180664, val loss: 33.024295806884766\n",
      "2021-03-29 18:25:43,995 epoch: 14, train loss: 43.93446731567383, val loss: 32.99423599243164\n",
      "2021-03-29 18:25:52,056 epoch: 15, train loss: 43.74697494506836, val loss: 32.961971282958984\n"
     ]
    },
    {
     "name": "stdout",
     "output_type": "stream",
     "text": [
      "True\n"
     ]
    },
    {
     "name": "stderr",
     "output_type": "stream",
     "text": [
      "2021-03-29 18:25:59,437 0 genes in training set are missing from prediction set\n",
      "2021-03-29 18:25:59,916 starting batch 1 of 2\n",
      "2021-03-29 18:26:00,018 0 genes in training set are missing from prediction set\n",
      "2021-03-29 18:26:05,080 starting batch 2 of 2\n",
      "2021-03-29 18:26:05,162 0 genes in training set are missing from prediction set\n"
     ]
    },
    {
     "name": "stdout",
     "output_type": "stream",
     "text": [
      "scRNAseq myeloma_train_pbmc_val (3617, 24020) (886, 32738)\n"
     ]
    },
    {
     "name": "stderr",
     "output_type": "stream",
     "text": [
      "2021-03-29 18:26:10,004 input dataset shape: (4503, 19413)\n",
      "2021-03-29 18:26:10,005 possible cell types: ['B cell', 'CD4 T cell', 'CD8 T cell', 'Dendritic', 'Erythrocyte', 'Malignant', 'Mast', 'Megakaryocyte', 'Monocyte', 'NK', 'Plasma', 'Platlete']\n",
      "2021-03-29 18:26:10,006 using validation key\n",
      "2021-03-29 18:26:18,489 epoch: 1, train loss: 46.91442108154297, val loss: 25.635292053222656\n",
      "2021-03-29 18:26:25,521 epoch: 2, train loss: 46.53828811645508, val loss: 25.413881301879883\n",
      "2021-03-29 18:26:32,420 epoch: 3, train loss: 45.79205322265625, val loss: 25.20497703552246\n",
      "2021-03-29 18:26:39,384 epoch: 4, train loss: 45.35774230957031, val loss: 25.133739471435547\n",
      "2021-03-29 18:26:46,374 epoch: 5, train loss: 45.10458755493164, val loss: 25.121368408203125\n",
      "2021-03-29 18:26:53,405 epoch: 6, train loss: 44.82707595825195, val loss: 25.0657958984375\n",
      "2021-03-29 18:27:00,463 epoch: 7, train loss: 44.60515594482422, val loss: 25.015350341796875\n",
      "2021-03-29 18:27:07,452 epoch: 8, train loss: 44.42657470703125, val loss: 25.02716064453125\n",
      "2021-03-29 18:27:14,444 epoch: 9, train loss: 44.313133239746094, val loss: 24.97527313232422\n",
      "2021-03-29 18:27:21,469 epoch: 10, train loss: 44.10676574707031, val loss: 24.94605255126953\n",
      "2021-03-29 18:27:28,439 epoch: 11, train loss: 44.004146575927734, val loss: 24.964006423950195\n",
      "2021-03-29 18:27:35,457 epoch: 12, train loss: 43.819488525390625, val loss: 24.957866668701172\n",
      "2021-03-29 18:27:42,405 epoch: 13, train loss: 43.69709777832031, val loss: 24.96160125732422\n",
      "2021-03-29 18:27:49,376 epoch: 14, train loss: 43.50539779663086, val loss: 24.897903442382812\n",
      "2021-03-29 18:27:56,419 epoch: 15, train loss: 43.37851333618164, val loss: 24.92344856262207\n"
     ]
    },
    {
     "name": "stdout",
     "output_type": "stream",
     "text": [
      "False\n"
     ]
    },
    {
     "name": "stderr",
     "output_type": "stream",
     "text": [
      "2021-03-29 18:28:01,322 0 genes in training set are missing from prediction set\n",
      "2021-03-29 18:28:01,784 starting batch 1 of 1\n",
      "2021-03-29 18:28:01,862 0 genes in training set are missing from prediction set\n"
     ]
    },
    {
     "name": "stdout",
     "output_type": "stream",
     "text": [
      "scRNAseq myeloma_train_pdac_val (3617, 24020) (7840, 28756)\n"
     ]
    },
    {
     "name": "stderr",
     "output_type": "stream",
     "text": [
      "2021-03-29 18:28:12,625 input dataset shape: (11457, 19561)\n",
      "2021-03-29 18:28:12,627 possible cell types: ['Acinar', 'B cell', 'CD4 T cell', 'CD8 T cell', 'Dendritic', 'Endothelial', 'Epithelial', 'Erythrocyte', 'Fibroblast', 'Islet', 'Malignant', 'Mast', 'Monocyte', 'NK', 'Plasma', 'Platlete', 'Treg', 'Tuft']\n",
      "2021-03-29 18:28:12,628 using validation key\n",
      "2021-03-29 18:28:23,184 epoch: 1, train loss: 22.532623291015625, val loss: 39.44439697265625\n",
      "2021-03-29 18:28:31,442 epoch: 2, train loss: 22.321430206298828, val loss: 39.452415466308594\n",
      "2021-03-29 18:28:39,657 epoch: 3, train loss: 22.05670928955078, val loss: 39.25173568725586\n",
      "2021-03-29 18:28:47,865 epoch: 4, train loss: 21.653165817260742, val loss: 38.84354782104492\n",
      "2021-03-29 18:28:56,123 epoch: 5, train loss: 21.480716705322266, val loss: 38.71332550048828\n",
      "2021-03-29 18:29:04,310 epoch: 6, train loss: 21.339391708374023, val loss: 38.49977111816406\n",
      "2021-03-29 18:29:12,530 epoch: 7, train loss: 21.197805404663086, val loss: 38.32742691040039\n",
      "2021-03-29 18:29:21,043 epoch: 8, train loss: 21.113309860229492, val loss: 38.243682861328125\n",
      "2021-03-29 18:29:29,351 epoch: 9, train loss: 21.000022888183594, val loss: 38.24112319946289\n",
      "2021-03-29 18:29:37,748 epoch: 10, train loss: 20.876619338989258, val loss: 38.160606384277344\n",
      "2021-03-29 18:29:46,177 epoch: 11, train loss: 20.821617126464844, val loss: 38.15254211425781\n",
      "2021-03-29 18:29:54,561 epoch: 12, train loss: 20.744670867919922, val loss: 38.09822082519531\n",
      "2021-03-29 18:30:02,983 epoch: 13, train loss: 20.695171356201172, val loss: 38.10307312011719\n",
      "2021-03-29 18:30:11,334 epoch: 14, train loss: 20.60846519470215, val loss: 38.07160568237305\n",
      "2021-03-29 18:30:19,684 epoch: 15, train loss: 20.56977081298828, val loss: 38.036685943603516\n"
     ]
    },
    {
     "name": "stdout",
     "output_type": "stream",
     "text": [
      "False\n"
     ]
    },
    {
     "name": "stderr",
     "output_type": "stream",
     "text": [
      "2021-03-29 18:30:26,554 0 genes in training set are missing from prediction set\n",
      "2021-03-29 18:30:27,076 starting batch 1 of 4\n",
      "2021-03-29 18:30:27,175 0 genes in training set are missing from prediction set\n",
      "2021-03-29 18:30:33,243 starting batch 2 of 4\n",
      "2021-03-29 18:30:33,334 0 genes in training set are missing from prediction set\n",
      "2021-03-29 18:30:39,325 starting batch 3 of 4\n",
      "2021-03-29 18:30:39,415 0 genes in training set are missing from prediction set\n",
      "2021-03-29 18:30:45,305 starting batch 4 of 4\n",
      "2021-03-29 18:30:45,378 0 genes in training set are missing from prediction set\n"
     ]
    },
    {
     "name": "stdout",
     "output_type": "stream",
     "text": [
      "scRNAseq pbmc_train_brca_val (1609, 32738) (5773, 27131)\n"
     ]
    },
    {
     "name": "stderr",
     "output_type": "stream",
     "text": [
      "2021-03-29 18:30:52,296 input dataset shape: (7382, 18511)\n",
      "2021-03-29 18:30:52,297 possible cell types: ['B cell', 'CD4 T cell', 'CD8 T cell', 'Dendritic', 'Endothelial', 'Erythrocyte', 'Fibroblast', 'Malignant', 'Mast', 'Megakaryocyte', 'Monocyte', 'NK', 'Plasma', 'Treg']\n",
      "2021-03-29 18:30:52,298 using validation key\n",
      "2021-03-29 18:30:58,353 epoch: 1, train loss: 16.223684310913086, val loss: 47.192840576171875\n",
      "2021-03-29 18:31:02,509 epoch: 2, train loss: 15.082178115844727, val loss: 45.089012145996094\n",
      "2021-03-29 18:31:06,663 epoch: 3, train loss: 14.782570838928223, val loss: 45.73004913330078\n",
      "2021-03-29 18:31:10,863 epoch: 4, train loss: 14.668508529663086, val loss: 45.745391845703125\n",
      "2021-03-29 18:31:15,013 epoch: 5, train loss: 14.591130256652832, val loss: 45.76556396484375\n",
      "2021-03-29 18:31:19,169 epoch: 6, train loss: 14.629130363464355, val loss: 45.64273452758789\n",
      "2021-03-29 18:31:23,332 epoch: 7, train loss: 14.465635299682617, val loss: 45.67522430419922\n",
      "2021-03-29 18:31:27,448 epoch: 8, train loss: 14.459905624389648, val loss: 45.62941360473633\n",
      "2021-03-29 18:31:31,582 epoch: 9, train loss: 14.31009578704834, val loss: 45.68768310546875\n",
      "2021-03-29 18:31:35,769 epoch: 10, train loss: 14.2435302734375, val loss: 45.64399719238281\n",
      "2021-03-29 18:31:39,918 epoch: 11, train loss: 14.290811538696289, val loss: 45.571937561035156\n",
      "2021-03-29 18:31:44,073 epoch: 12, train loss: 14.314868927001953, val loss: 45.64825439453125\n",
      "2021-03-29 18:31:48,188 epoch: 13, train loss: 14.19511890411377, val loss: 45.64624786376953\n",
      "2021-03-29 18:31:52,354 epoch: 14, train loss: 14.171853065490723, val loss: 45.53376770019531\n",
      "2021-03-29 18:31:56,512 epoch: 15, train loss: 14.238008499145508, val loss: 45.70695495605469\n"
     ]
    },
    {
     "name": "stdout",
     "output_type": "stream",
     "text": [
      "False\n"
     ]
    },
    {
     "name": "stderr",
     "output_type": "stream",
     "text": [
      "2021-03-29 18:32:00,353 0 genes in training set are missing from prediction set\n",
      "2021-03-29 18:32:00,862 starting batch 1 of 3\n",
      "2021-03-29 18:32:01,739 0 genes in training set are missing from prediction set\n",
      "2021-03-29 18:32:06,012 starting batch 2 of 3\n",
      "2021-03-29 18:32:06,089 0 genes in training set are missing from prediction set\n",
      "2021-03-29 18:32:10,497 starting batch 3 of 3\n",
      "2021-03-29 18:32:10,563 0 genes in training set are missing from prediction set\n"
     ]
    },
    {
     "name": "stdout",
     "output_type": "stream",
     "text": [
      "scRNAseq pbmc_train_cesc_val (1609, 32738) (4277, 22928)\n"
     ]
    },
    {
     "name": "stderr",
     "output_type": "stream",
     "text": [
      "2021-03-29 18:32:15,701 input dataset shape: (5886, 17080)\n",
      "2021-03-29 18:32:15,703 possible cell types: ['B cell', 'CD4 T cell', 'CD8 T cell', 'Dendritic', 'Endothelial', 'Epithelial', 'Erythrocyte', 'Fibroblast', 'Malignant', 'Mast', 'Megakaryocyte', 'Monocyte', 'NK', 'Plasma']\n",
      "2021-03-29 18:32:15,704 using validation key\n"
     ]
    },
    {
     "name": "stdout",
     "output_type": "stream",
     "text": [
      "WARNING:tensorflow:5 out of the last 35 calls to <function compute_loss at 0x7fb3c1a1bef0> triggered tf.function retracing. Tracing is expensive and the excessive number of tracings is likely due to passing python objects instead of tensors. Also, tf.function has experimental_relax_shapes=True option that relaxes argument shapes that can avoid unnecessary retracing. Please refer to https://www.tensorflow.org/tutorials/customization/performance#python_or_tensor_args and https://www.tensorflow.org/api_docs/python/tf/function for more details.\n"
     ]
    },
    {
     "name": "stderr",
     "output_type": "stream",
     "text": [
      "2021-03-29 18:32:20,184 5 out of the last 35 calls to <function compute_loss at 0x7fb3c1a1bef0> triggered tf.function retracing. Tracing is expensive and the excessive number of tracings is likely due to passing python objects instead of tensors. Also, tf.function has experimental_relax_shapes=True option that relaxes argument shapes that can avoid unnecessary retracing. Please refer to https://www.tensorflow.org/tutorials/customization/performance#python_or_tensor_args and https://www.tensorflow.org/api_docs/python/tf/function for more details.\n",
      "2021-03-29 18:32:20,869 epoch: 1, train loss: 10.519759178161621, val loss: 53.25946807861328\n",
      "2021-03-29 18:32:24,365 epoch: 2, train loss: 9.808408737182617, val loss: 50.85658264160156\n",
      "2021-03-29 18:32:27,900 epoch: 3, train loss: 9.517233848571777, val loss: 51.93555450439453\n",
      "2021-03-29 18:32:31,387 epoch: 4, train loss: 9.393987655639648, val loss: 52.24003219604492\n",
      "2021-03-29 18:32:34,889 epoch: 5, train loss: 9.327272415161133, val loss: 52.1737060546875\n",
      "2021-03-29 18:32:38,406 epoch: 6, train loss: 9.27808666229248, val loss: 51.85050582885742\n",
      "2021-03-29 18:32:41,910 epoch: 7, train loss: 9.40421199798584, val loss: 52.17818069458008\n",
      "2021-03-29 18:32:45,412 epoch: 8, train loss: 9.292075157165527, val loss: 52.09748840332031\n",
      "2021-03-29 18:32:48,952 epoch: 9, train loss: 9.429399490356445, val loss: 52.145599365234375\n",
      "2021-03-29 18:32:52,422 epoch: 10, train loss: 9.204376220703125, val loss: 51.84841537475586\n",
      "2021-03-29 18:32:55,841 epoch: 11, train loss: 9.174792289733887, val loss: 51.643775939941406\n",
      "2021-03-29 18:32:59,268 epoch: 12, train loss: 9.131674766540527, val loss: 51.61212158203125\n",
      "2021-03-29 18:33:02,732 epoch: 13, train loss: 9.221418380737305, val loss: 51.658103942871094\n",
      "2021-03-29 18:33:06,225 epoch: 14, train loss: 9.136624336242676, val loss: 51.6899299621582\n",
      "2021-03-29 18:33:09,629 epoch: 15, train loss: 9.096174240112305, val loss: 51.75765609741211\n"
     ]
    },
    {
     "name": "stdout",
     "output_type": "stream",
     "text": [
      "False\n"
     ]
    },
    {
     "name": "stderr",
     "output_type": "stream",
     "text": [
      "2021-03-29 18:33:12,538 0 genes in training set are missing from prediction set\n",
      "2021-03-29 18:33:12,817 starting batch 1 of 2\n",
      "2021-03-29 18:33:12,897 0 genes in training set are missing from prediction set\n",
      "2021-03-29 18:33:17,881 starting batch 2 of 2\n",
      "2021-03-29 18:33:17,956 0 genes in training set are missing from prediction set\n"
     ]
    },
    {
     "name": "stdout",
     "output_type": "stream",
     "text": [
      "scRNAseq pbmc_train_hnscc_val (1609, 32738) (5203, 26929)\n"
     ]
    },
    {
     "name": "stderr",
     "output_type": "stream",
     "text": [
      "2021-03-29 18:33:26,417 input dataset shape: (6812, 18521)\n",
      "2021-03-29 18:33:26,418 possible cell types: ['B cell', 'CD4 T cell', 'CD8 T cell', 'Dendritic', 'Endothelial', 'Erythrocyte', 'Malignant', 'Mast', 'Megakaryocyte', 'Monocyte', 'NK', 'Plasma', 'Treg']\n",
      "2021-03-29 18:33:26,419 using validation key\n",
      "2021-03-29 18:33:32,397 epoch: 1, train loss: 11.639063835144043, val loss: 19.600915908813477\n",
      "2021-03-29 18:33:36,597 epoch: 2, train loss: 10.797130584716797, val loss: 18.801790237426758\n",
      "2021-03-29 18:33:40,801 epoch: 3, train loss: 10.470361709594727, val loss: 18.993595123291016\n",
      "2021-03-29 18:33:44,973 epoch: 4, train loss: 10.34687614440918, val loss: 18.998638153076172\n",
      "2021-03-29 18:33:49,173 epoch: 5, train loss: 10.365972518920898, val loss: 18.974260330200195\n",
      "2021-03-29 18:33:53,405 epoch: 6, train loss: 10.324980735778809, val loss: 18.941879272460938\n",
      "2021-03-29 18:33:57,590 epoch: 7, train loss: 10.364095687866211, val loss: 18.94573974609375\n",
      "2021-03-29 18:34:01,700 epoch: 8, train loss: 10.334270477294922, val loss: 18.923709869384766\n",
      "2021-03-29 18:34:05,913 epoch: 9, train loss: 10.382766723632812, val loss: 18.91079330444336\n",
      "2021-03-29 18:34:10,104 epoch: 10, train loss: 10.363831520080566, val loss: 18.879985809326172\n",
      "2021-03-29 18:34:14,268 epoch: 11, train loss: 10.287496566772461, val loss: 18.877599716186523\n",
      "2021-03-29 18:34:18,487 epoch: 12, train loss: 10.117935180664062, val loss: 18.97321319580078\n",
      "2021-03-29 18:34:22,603 epoch: 13, train loss: 10.10026741027832, val loss: 18.88410186767578\n",
      "2021-03-29 18:34:26,756 epoch: 14, train loss: 10.21648120880127, val loss: 18.892959594726562\n",
      "2021-03-29 18:34:30,903 epoch: 15, train loss: 10.105152130126953, val loss: 18.841575622558594\n"
     ]
    },
    {
     "name": "stdout",
     "output_type": "stream",
     "text": [
      "False\n"
     ]
    },
    {
     "name": "stderr",
     "output_type": "stream",
     "text": [
      "2021-03-29 18:34:34,602 0 genes in training set are missing from prediction set\n",
      "2021-03-29 18:34:35,088 starting batch 1 of 3\n",
      "2021-03-29 18:34:35,171 0 genes in training set are missing from prediction set\n",
      "2021-03-29 18:34:39,795 starting batch 2 of 3\n",
      "2021-03-29 18:34:39,876 0 genes in training set are missing from prediction set\n",
      "2021-03-29 18:34:44,931 starting batch 3 of 3\n",
      "2021-03-29 18:34:44,986 0 genes in training set are missing from prediction set\n"
     ]
    },
    {
     "name": "stdout",
     "output_type": "stream",
     "text": [
      "scRNAseq pbmc_train_melanoma_val (1609, 32738) (3532, 23452)\n"
     ]
    },
    {
     "name": "stderr",
     "output_type": "stream",
     "text": [
      "2021-03-29 18:34:48,771 input dataset shape: (5141, 16803)\n",
      "2021-03-29 18:34:48,772 possible cell types: ['B cell', 'CD4 T cell', 'CD8 T cell', 'Dendritic', 'Fibroblast', 'Malignant', 'Megakaryocyte', 'Monocyte', 'NK', 'Plasma', 'Treg']\n",
      "2021-03-29 18:34:48,773 using validation key\n",
      "2021-03-29 18:34:53,976 epoch: 1, train loss: 22.498212814331055, val loss: 40.91919708251953\n",
      "2021-03-29 18:34:57,770 epoch: 2, train loss: 21.17991828918457, val loss: 38.90745544433594\n",
      "2021-03-29 18:35:01,600 epoch: 3, train loss: 20.682971954345703, val loss: 38.87410354614258\n",
      "2021-03-29 18:35:05,362 epoch: 4, train loss: 20.641939163208008, val loss: 38.782073974609375\n",
      "2021-03-29 18:35:09,170 epoch: 5, train loss: 20.61072540283203, val loss: 38.746910095214844\n",
      "2021-03-29 18:35:12,947 epoch: 6, train loss: 20.405305862426758, val loss: 38.74568176269531\n",
      "2021-03-29 18:35:16,741 epoch: 7, train loss: 20.505306243896484, val loss: 38.72682571411133\n",
      "2021-03-29 18:35:20,484 epoch: 8, train loss: 20.41462516784668, val loss: 38.663169860839844\n",
      "2021-03-29 18:35:24,260 epoch: 9, train loss: 20.19032096862793, val loss: 38.600154876708984\n",
      "2021-03-29 18:35:28,058 epoch: 10, train loss: 20.184898376464844, val loss: 38.60926818847656\n",
      "2021-03-29 18:35:31,889 epoch: 11, train loss: 20.10429573059082, val loss: 38.550933837890625\n",
      "2021-03-29 18:35:35,678 epoch: 12, train loss: 20.12549591064453, val loss: 38.55548858642578\n",
      "2021-03-29 18:35:39,447 epoch: 13, train loss: 20.41185188293457, val loss: 38.5545539855957\n",
      "2021-03-29 18:35:43,214 epoch: 14, train loss: 20.129173278808594, val loss: 38.49855041503906\n",
      "2021-03-29 18:35:46,984 epoch: 15, train loss: 20.379812240600586, val loss: 38.463890075683594\n"
     ]
    },
    {
     "name": "stdout",
     "output_type": "stream",
     "text": [
      "False\n"
     ]
    },
    {
     "name": "stderr",
     "output_type": "stream",
     "text": [
      "2021-03-29 18:35:49,839 0 genes in training set are missing from prediction set\n",
      "2021-03-29 18:35:50,134 starting batch 1 of 2\n",
      "2021-03-29 18:35:50,207 0 genes in training set are missing from prediction set\n",
      "2021-03-29 18:35:53,860 starting batch 2 of 2\n",
      "2021-03-29 18:35:53,922 0 genes in training set are missing from prediction set\n"
     ]
    },
    {
     "name": "stdout",
     "output_type": "stream",
     "text": [
      "scRNAseq pbmc_train_myeloma_val (1609, 32738) (3312, 24020)\n"
     ]
    },
    {
     "name": "stderr",
     "output_type": "stream",
     "text": [
      "2021-03-29 18:35:59,056 input dataset shape: (4921, 19413)\n",
      "2021-03-29 18:35:59,058 possible cell types: ['B cell', 'CD4 T cell', 'CD8 T cell', 'Dendritic', 'Erythrocyte', 'Malignant', 'Mast', 'Megakaryocyte', 'Monocyte', 'NK', 'Plasma', 'Platlete']\n",
      "2021-03-29 18:35:59,059 using validation key\n",
      "2021-03-29 18:36:04,536 epoch: 1, train loss: 25.900583267211914, val loss: 34.31334686279297\n",
      "2021-03-29 18:36:08,513 epoch: 2, train loss: 24.421226501464844, val loss: 33.32435989379883\n",
      "2021-03-29 18:36:12,401 epoch: 3, train loss: 23.75434684753418, val loss: 33.1689567565918\n",
      "2021-03-29 18:36:16,325 epoch: 4, train loss: 24.069517135620117, val loss: 33.162437438964844\n",
      "2021-03-29 18:36:20,276 epoch: 5, train loss: 23.642744064331055, val loss: 33.199310302734375\n",
      "2021-03-29 18:36:24,205 epoch: 6, train loss: 23.882905960083008, val loss: 33.1600341796875\n",
      "2021-03-29 18:36:28,132 epoch: 7, train loss: 23.84433364868164, val loss: 33.15152359008789\n",
      "2021-03-29 18:36:32,045 epoch: 8, train loss: 23.698720932006836, val loss: 33.12993240356445\n",
      "2021-03-29 18:36:35,956 epoch: 9, train loss: 23.51089859008789, val loss: 33.12660217285156\n",
      "2021-03-29 18:36:39,916 epoch: 10, train loss: 23.458667755126953, val loss: 33.06121826171875\n",
      "2021-03-29 18:36:43,928 epoch: 11, train loss: 23.288818359375, val loss: 33.11284637451172\n",
      "2021-03-29 18:36:47,840 epoch: 12, train loss: 23.40854835510254, val loss: 33.116188049316406\n",
      "2021-03-29 18:36:51,743 epoch: 13, train loss: 23.277416229248047, val loss: 33.091251373291016\n",
      "2021-03-29 18:36:55,659 epoch: 14, train loss: 23.30027198791504, val loss: 33.11579132080078\n",
      "2021-03-29 18:36:59,580 epoch: 15, train loss: 23.423532485961914, val loss: 33.06346893310547\n"
     ]
    },
    {
     "name": "stdout",
     "output_type": "stream",
     "text": [
      "False\n"
     ]
    },
    {
     "name": "stderr",
     "output_type": "stream",
     "text": [
      "2021-03-29 18:37:03,096 0 genes in training set are missing from prediction set\n",
      "2021-03-29 18:37:03,569 starting batch 1 of 2\n",
      "2021-03-29 18:37:03,647 0 genes in training set are missing from prediction set\n",
      "2021-03-29 18:37:08,888 starting batch 2 of 2\n",
      "2021-03-29 18:37:08,949 0 genes in training set are missing from prediction set\n"
     ]
    },
    {
     "name": "stdout",
     "output_type": "stream",
     "text": [
      "scRNAseq pbmc_train_pbmc_val (1609, 32738) (886, 32738)\n"
     ]
    },
    {
     "name": "stderr",
     "output_type": "stream",
     "text": [
      "2021-03-29 18:37:13,393 input dataset shape: (2495, 32738)\n",
      "2021-03-29 18:37:13,395 possible cell types: ['B cell', 'CD4 T cell', 'CD8 T cell', 'Dendritic', 'Megakaryocyte', 'Monocyte', 'NK']\n",
      "2021-03-29 18:37:13,395 using validation key\n"
     ]
    },
    {
     "name": "stdout",
     "output_type": "stream",
     "text": [
      "WARNING:tensorflow:5 out of the last 12 calls to <function compute_loss at 0x7fb3c1a1bef0> triggered tf.function retracing. Tracing is expensive and the excessive number of tracings is likely due to passing python objects instead of tensors. Also, tf.function has experimental_relax_shapes=True option that relaxes argument shapes that can avoid unnecessary retracing. Please refer to https://www.tensorflow.org/tutorials/customization/performance#python_or_tensor_args and https://www.tensorflow.org/api_docs/python/tf/function for more details.\n"
     ]
    },
    {
     "name": "stderr",
     "output_type": "stream",
     "text": [
      "2021-03-29 18:37:19,324 5 out of the last 12 calls to <function compute_loss at 0x7fb3c1a1bef0> triggered tf.function retracing. Tracing is expensive and the excessive number of tracings is likely due to passing python objects instead of tensors. Also, tf.function has experimental_relax_shapes=True option that relaxes argument shapes that can avoid unnecessary retracing. Please refer to https://www.tensorflow.org/tutorials/customization/performance#python_or_tensor_args and https://www.tensorflow.org/api_docs/python/tf/function for more details.\n"
     ]
    },
    {
     "name": "stdout",
     "output_type": "stream",
     "text": [
      "WARNING:tensorflow:6 out of the last 13 calls to <function compute_loss at 0x7fb3c1a1bef0> triggered tf.function retracing. Tracing is expensive and the excessive number of tracings is likely due to passing python objects instead of tensors. Also, tf.function has experimental_relax_shapes=True option that relaxes argument shapes that can avoid unnecessary retracing. Please refer to https://www.tensorflow.org/tutorials/customization/performance#python_or_tensor_args and https://www.tensorflow.org/api_docs/python/tf/function for more details.\n"
     ]
    },
    {
     "name": "stderr",
     "output_type": "stream",
     "text": [
      "2021-03-29 18:37:19,413 6 out of the last 13 calls to <function compute_loss at 0x7fb3c1a1bef0> triggered tf.function retracing. Tracing is expensive and the excessive number of tracings is likely due to passing python objects instead of tensors. Also, tf.function has experimental_relax_shapes=True option that relaxes argument shapes that can avoid unnecessary retracing. Please refer to https://www.tensorflow.org/tutorials/customization/performance#python_or_tensor_args and https://www.tensorflow.org/api_docs/python/tf/function for more details.\n"
     ]
    },
    {
     "name": "stdout",
     "output_type": "stream",
     "text": [
      "WARNING:tensorflow:6 out of the last 14 calls to <function compute_loss at 0x7fb3c1a1bef0> triggered tf.function retracing. Tracing is expensive and the excessive number of tracings is likely due to passing python objects instead of tensors. Also, tf.function has experimental_relax_shapes=True option that relaxes argument shapes that can avoid unnecessary retracing. Please refer to https://www.tensorflow.org/tutorials/customization/performance#python_or_tensor_args and https://www.tensorflow.org/api_docs/python/tf/function for more details.\n"
     ]
    },
    {
     "name": "stderr",
     "output_type": "stream",
     "text": [
      "2021-03-29 18:37:19,622 6 out of the last 14 calls to <function compute_loss at 0x7fb3c1a1bef0> triggered tf.function retracing. Tracing is expensive and the excessive number of tracings is likely due to passing python objects instead of tensors. Also, tf.function has experimental_relax_shapes=True option that relaxes argument shapes that can avoid unnecessary retracing. Please refer to https://www.tensorflow.org/tutorials/customization/performance#python_or_tensor_args and https://www.tensorflow.org/api_docs/python/tf/function for more details.\n",
      "2021-03-29 18:37:20,177 epoch: 1, train loss: 43.251953125, val loss: 40.73833465576172\n",
      "2021-03-29 18:37:25,312 epoch: 2, train loss: 41.561771392822266, val loss: 39.28146743774414\n",
      "2021-03-29 18:37:30,492 epoch: 3, train loss: 41.27473831176758, val loss: 38.88013458251953\n",
      "2021-03-29 18:37:35,775 epoch: 4, train loss: 41.19308090209961, val loss: 38.7736701965332\n",
      "2021-03-29 18:37:40,734 epoch: 5, train loss: 41.027137756347656, val loss: 38.749366760253906\n",
      "2021-03-29 18:37:45,816 epoch: 6, train loss: 41.33583450317383, val loss: 38.711509704589844\n",
      "2021-03-29 18:37:51,043 epoch: 7, train loss: 41.137699127197266, val loss: 38.65971374511719\n",
      "2021-03-29 18:37:56,263 epoch: 8, train loss: 40.749576568603516, val loss: 38.53805160522461\n",
      "2021-03-29 18:38:01,333 epoch: 9, train loss: 40.61799621582031, val loss: 38.47567367553711\n",
      "2021-03-29 18:38:06,375 epoch: 10, train loss: 40.37485885620117, val loss: 38.433528900146484\n",
      "2021-03-29 18:38:11,429 epoch: 11, train loss: 40.70874786376953, val loss: 38.42013931274414\n",
      "2021-03-29 18:38:16,590 epoch: 12, train loss: 40.50642395019531, val loss: 38.41474914550781\n",
      "2021-03-29 18:38:21,655 epoch: 13, train loss: 40.52091598510742, val loss: 38.41216278076172\n",
      "2021-03-29 18:38:26,799 epoch: 14, train loss: 40.644779205322266, val loss: 38.39300537109375\n",
      "2021-03-29 18:38:31,860 epoch: 15, train loss: 40.56462860107422, val loss: 38.37934112548828\n"
     ]
    },
    {
     "name": "stdout",
     "output_type": "stream",
     "text": [
      "True\n"
     ]
    },
    {
     "name": "stderr",
     "output_type": "stream",
     "text": [
      "2021-03-29 18:38:35,851 0 genes in training set are missing from prediction set\n",
      "2021-03-29 18:38:36,588 starting batch 1 of 1\n",
      "2021-03-29 18:38:36,655 0 genes in training set are missing from prediction set\n"
     ]
    },
    {
     "name": "stdout",
     "output_type": "stream",
     "text": [
      "scRNAseq pbmc_train_pdac_val (1609, 32738) (7840, 28756)\n"
     ]
    },
    {
     "name": "stderr",
     "output_type": "stream",
     "text": [
      "2021-03-29 18:38:45,231 input dataset shape: (9449, 18993)\n",
      "2021-03-29 18:38:45,233 possible cell types: ['Acinar', 'B cell', 'CD4 T cell', 'CD8 T cell', 'Dendritic', 'Endothelial', 'Epithelial', 'Erythrocyte', 'Fibroblast', 'Islet', 'Malignant', 'Mast', 'Megakaryocyte', 'Monocyte', 'NK', 'Plasma', 'Treg', 'Tuft']\n",
      "2021-03-29 18:38:45,234 using validation key\n",
      "2021-03-29 18:38:51,847 epoch: 1, train loss: 12.48158073425293, val loss: 33.78731918334961\n",
      "2021-03-29 18:38:56,351 epoch: 2, train loss: 11.178732872009277, val loss: 32.1414909362793\n",
      "2021-03-29 18:39:00,856 epoch: 3, train loss: 10.862504959106445, val loss: 32.88700485229492\n",
      "2021-03-29 18:39:05,382 epoch: 4, train loss: 10.73476791381836, val loss: 32.86259841918945\n",
      "2021-03-29 18:39:09,884 epoch: 5, train loss: 10.77546501159668, val loss: 32.76146697998047\n",
      "2021-03-29 18:39:14,370 epoch: 6, train loss: 10.72567081451416, val loss: 32.59258270263672\n",
      "2021-03-29 18:39:18,904 epoch: 7, train loss: 10.649479866027832, val loss: 32.638832092285156\n",
      "2021-03-29 18:39:23,402 epoch: 8, train loss: 10.814882278442383, val loss: 32.533477783203125\n",
      "2021-03-29 18:39:27,939 epoch: 9, train loss: 10.759632110595703, val loss: 32.467491149902344\n",
      "2021-03-29 18:39:32,447 epoch: 10, train loss: 10.584818840026855, val loss: 32.591732025146484\n",
      "2021-03-29 18:39:36,949 epoch: 11, train loss: 10.571516990661621, val loss: 32.44678497314453\n",
      "2021-03-29 18:39:41,409 epoch: 12, train loss: 10.580312728881836, val loss: 32.51673126220703\n",
      "2021-03-29 18:39:45,883 epoch: 13, train loss: 10.634364128112793, val loss: 32.389808654785156\n",
      "2021-03-29 18:39:50,336 epoch: 14, train loss: 10.577492713928223, val loss: 32.44499206542969\n",
      "2021-03-29 18:39:54,820 epoch: 15, train loss: 10.577004432678223, val loss: 32.281768798828125\n"
     ]
    },
    {
     "name": "stdout",
     "output_type": "stream",
     "text": [
      "False\n"
     ]
    },
    {
     "name": "stderr",
     "output_type": "stream",
     "text": [
      "2021-03-29 18:39:59,230 0 genes in training set are missing from prediction set\n",
      "2021-03-29 18:39:59,720 starting batch 1 of 4\n",
      "2021-03-29 18:39:59,805 0 genes in training set are missing from prediction set\n",
      "2021-03-29 18:40:04,462 starting batch 2 of 4\n",
      "2021-03-29 18:40:04,544 0 genes in training set are missing from prediction set\n",
      "2021-03-29 18:40:09,300 starting batch 3 of 4\n",
      "2021-03-29 18:40:09,376 0 genes in training set are missing from prediction set\n",
      "2021-03-29 18:40:13,905 starting batch 4 of 4\n",
      "2021-03-29 18:40:13,963 0 genes in training set are missing from prediction set\n"
     ]
    },
    {
     "name": "stdout",
     "output_type": "stream",
     "text": [
      "scRNAseq pdac_train_brca_val (7923, 28756) (5773, 27131)\n"
     ]
    },
    {
     "name": "stderr",
     "output_type": "stream",
     "text": [
      "2021-03-29 18:40:31,634 input dataset shape: (13696, 26833)\n",
      "2021-03-29 18:40:31,636 possible cell types: ['Acinar', 'B cell', 'CD4 T cell', 'CD8 T cell', 'Dendritic', 'Endothelial', 'Epithelial', 'Erythrocyte', 'Fibroblast', 'Islet', 'Malignant', 'Mast', 'Monocyte', 'NK', 'Plasma', 'Treg', 'Tuft']\n",
      "2021-03-29 18:40:31,637 using validation key\n",
      "2021-03-29 18:40:54,912 epoch: 1, train loss: 36.18855667114258, val loss: 34.89524841308594\n",
      "2021-03-29 18:41:14,722 epoch: 2, train loss: 34.962669372558594, val loss: 33.960227966308594\n",
      "2021-03-29 18:41:34,734 epoch: 3, train loss: 34.25563430786133, val loss: 33.436553955078125\n",
      "2021-03-29 18:41:55,224 epoch: 4, train loss: 34.008663177490234, val loss: 33.32666778564453\n",
      "2021-03-29 18:42:15,499 epoch: 5, train loss: 33.74036407470703, val loss: 33.186927795410156\n",
      "2021-03-29 18:42:35,939 epoch: 6, train loss: 33.52537155151367, val loss: 33.05973815917969\n",
      "2021-03-29 18:42:56,336 epoch: 7, train loss: 33.32337188720703, val loss: 32.95464324951172\n",
      "2021-03-29 18:43:16,780 epoch: 8, train loss: 33.14332962036133, val loss: 32.84461975097656\n",
      "2021-03-29 18:43:37,027 epoch: 9, train loss: 33.00119400024414, val loss: 32.75944900512695\n",
      "2021-03-29 18:43:57,486 epoch: 10, train loss: 32.83865737915039, val loss: 32.704952239990234\n",
      "2021-03-29 18:44:17,890 epoch: 11, train loss: 32.69096755981445, val loss: 32.64789581298828\n",
      "2021-03-29 18:44:37,940 epoch: 12, train loss: 32.5642204284668, val loss: 32.62548065185547\n",
      "2021-03-29 18:44:57,953 epoch: 13, train loss: 32.43362045288086, val loss: 32.616172790527344\n",
      "2021-03-29 18:45:18,120 epoch: 14, train loss: 32.31181716918945, val loss: 32.59778594970703\n",
      "2021-03-29 18:45:38,344 epoch: 15, train loss: 32.169639587402344, val loss: 32.59109115600586\n"
     ]
    },
    {
     "name": "stdout",
     "output_type": "stream",
     "text": [
      "False\n"
     ]
    },
    {
     "name": "stderr",
     "output_type": "stream",
     "text": [
      "2021-03-29 18:45:51,820 0 genes in training set are missing from prediction set\n",
      "2021-03-29 18:45:52,451 starting batch 1 of 3\n",
      "2021-03-29 18:45:52,560 0 genes in training set are missing from prediction set\n",
      "2021-03-29 18:45:58,136 starting batch 2 of 3\n",
      "2021-03-29 18:45:58,283 0 genes in training set are missing from prediction set\n",
      "2021-03-29 18:46:04,009 starting batch 3 of 3\n",
      "2021-03-29 18:46:04,129 0 genes in training set are missing from prediction set\n"
     ]
    },
    {
     "name": "stdout",
     "output_type": "stream",
     "text": [
      "scRNAseq pdac_train_cesc_val (7923, 28756) (4277, 22928)\n"
     ]
    },
    {
     "name": "stderr",
     "output_type": "stream",
     "text": [
      "2021-03-29 18:46:19,596 input dataset shape: (12200, 22794)\n",
      "2021-03-29 18:46:19,599 possible cell types: ['Acinar', 'B cell', 'CD4 T cell', 'CD8 T cell', 'Dendritic', 'Endothelial', 'Epithelial', 'Erythrocyte', 'Fibroblast', 'Islet', 'Malignant', 'Mast', 'Monocyte', 'NK', 'Plasma', 'Treg', 'Tuft']\n",
      "2021-03-29 18:46:19,599 using validation key\n",
      "2021-03-29 18:46:39,591 epoch: 1, train loss: 27.97328758239746, val loss: 48.00811004638672\n",
      "2021-03-29 18:46:56,227 epoch: 2, train loss: 27.142900466918945, val loss: 46.364593505859375\n",
      "2021-03-29 18:47:12,551 epoch: 3, train loss: 26.609094619750977, val loss: 45.67044448852539\n",
      "2021-03-29 18:47:29,188 epoch: 4, train loss: 26.385591506958008, val loss: 45.47735595703125\n",
      "2021-03-29 18:47:45,952 epoch: 5, train loss: 26.211856842041016, val loss: 45.23320007324219\n",
      "2021-03-29 18:48:02,923 epoch: 6, train loss: 26.060646057128906, val loss: 45.015472412109375\n",
      "2021-03-29 18:48:19,793 epoch: 7, train loss: 25.89735984802246, val loss: 44.83726501464844\n",
      "2021-03-29 18:48:37,268 epoch: 8, train loss: 25.751340866088867, val loss: 44.71626663208008\n",
      "2021-03-29 18:48:54,161 epoch: 9, train loss: 25.639883041381836, val loss: 44.611793518066406\n",
      "2021-03-29 18:49:10,943 epoch: 10, train loss: 25.54966163635254, val loss: 44.589637756347656\n",
      "2021-03-29 18:49:27,698 epoch: 11, train loss: 25.456430435180664, val loss: 44.50334930419922\n",
      "2021-03-29 18:49:44,598 epoch: 12, train loss: 25.36287498474121, val loss: 44.472694396972656\n",
      "2021-03-29 18:50:01,334 epoch: 13, train loss: 25.268064498901367, val loss: 44.442138671875\n",
      "2021-03-29 18:50:18,442 epoch: 14, train loss: 25.185338973999023, val loss: 44.40554428100586\n",
      "2021-03-29 18:50:35,341 epoch: 15, train loss: 25.105175018310547, val loss: 44.38217544555664\n"
     ]
    },
    {
     "name": "stdout",
     "output_type": "stream",
     "text": [
      "False\n"
     ]
    },
    {
     "name": "stderr",
     "output_type": "stream",
     "text": [
      "2021-03-29 18:50:47,359 0 genes in training set are missing from prediction set\n",
      "2021-03-29 18:50:47,713 starting batch 1 of 2\n",
      "2021-03-29 18:50:47,856 0 genes in training set are missing from prediction set\n",
      "2021-03-29 18:50:54,126 starting batch 2 of 2\n",
      "2021-03-29 18:50:54,262 0 genes in training set are missing from prediction set\n"
     ]
    },
    {
     "name": "stdout",
     "output_type": "stream",
     "text": [
      "scRNAseq pdac_train_hnscc_val (7923, 28756) (5203, 26929)\n"
     ]
    },
    {
     "name": "stderr",
     "output_type": "stream",
     "text": [
      "2021-03-29 18:51:12,401 input dataset shape: (13126, 26359)\n",
      "2021-03-29 18:51:12,403 possible cell types: ['Acinar', 'B cell', 'CD4 T cell', 'CD8 T cell', 'Dendritic', 'Endothelial', 'Epithelial', 'Erythrocyte', 'Fibroblast', 'Islet', 'Malignant', 'Mast', 'Monocyte', 'NK', 'Plasma', 'Treg', 'Tuft']\n",
      "2021-03-29 18:51:12,403 using validation key\n",
      "2021-03-29 18:51:34,744 epoch: 1, train loss: 30.66773796081543, val loss: 19.07364273071289\n",
      "2021-03-29 18:51:54,275 epoch: 2, train loss: 29.577966690063477, val loss: 18.864315032958984\n",
      "2021-03-29 18:52:13,680 epoch: 3, train loss: 29.175716400146484, val loss: 18.730510711669922\n",
      "2021-03-29 18:52:33,182 epoch: 4, train loss: 28.927330017089844, val loss: 18.657121658325195\n",
      "2021-03-29 18:52:53,610 epoch: 5, train loss: 28.714731216430664, val loss: 18.56796646118164\n",
      "2021-03-29 18:53:13,682 epoch: 6, train loss: 28.542953491210938, val loss: 18.513996124267578\n",
      "2021-03-29 18:53:33,650 epoch: 7, train loss: 28.38966941833496, val loss: 18.465190887451172\n",
      "2021-03-29 18:53:53,298 epoch: 8, train loss: 28.25884246826172, val loss: 18.425220489501953\n",
      "2021-03-29 18:54:13,097 epoch: 9, train loss: 28.13062286376953, val loss: 18.39455795288086\n",
      "2021-03-29 18:54:32,819 epoch: 10, train loss: 28.03070068359375, val loss: 18.371299743652344\n",
      "2021-03-29 18:54:52,675 epoch: 11, train loss: 27.92112922668457, val loss: 18.34930419921875\n",
      "2021-03-29 18:55:12,382 epoch: 12, train loss: 27.814777374267578, val loss: 18.320606231689453\n",
      "2021-03-29 18:55:32,487 epoch: 13, train loss: 27.723012924194336, val loss: 18.336505889892578\n",
      "2021-03-29 18:55:52,594 epoch: 14, train loss: 27.622241973876953, val loss: 18.322311401367188\n",
      "2021-03-29 18:56:12,272 epoch: 15, train loss: 27.525705337524414, val loss: 18.288484573364258\n"
     ]
    },
    {
     "name": "stdout",
     "output_type": "stream",
     "text": [
      "False\n"
     ]
    },
    {
     "name": "stderr",
     "output_type": "stream",
     "text": [
      "2021-03-29 18:56:25,639 0 genes in training set are missing from prediction set\n",
      "2021-03-29 18:56:26,268 starting batch 1 of 3\n",
      "2021-03-29 18:56:26,379 0 genes in training set are missing from prediction set\n",
      "2021-03-29 18:56:32,400 starting batch 2 of 3\n",
      "2021-03-29 18:56:32,543 0 genes in training set are missing from prediction set\n",
      "2021-03-29 18:56:39,031 starting batch 3 of 3\n",
      "2021-03-29 18:56:39,130 0 genes in training set are missing from prediction set\n"
     ]
    },
    {
     "name": "stdout",
     "output_type": "stream",
     "text": [
      "scRNAseq pdac_train_melanoma_val (7923, 28756) (3532, 23452)\n"
     ]
    },
    {
     "name": "stderr",
     "output_type": "stream",
     "text": [
      "2021-03-29 18:56:49,526 input dataset shape: (11455, 21722)\n",
      "2021-03-29 18:56:49,528 possible cell types: ['Acinar', 'B cell', 'CD4 T cell', 'CD8 T cell', 'Dendritic', 'Endothelial', 'Epithelial', 'Erythrocyte', 'Fibroblast', 'Islet', 'Malignant', 'Mast', 'Monocyte', 'NK', 'Plasma', 'Treg', 'Tuft']\n",
      "2021-03-29 18:56:49,529 using validation key\n",
      "2021-03-29 18:57:07,747 epoch: 1, train loss: 36.906211853027344, val loss: 24.35124969482422\n",
      "2021-03-29 18:57:23,688 epoch: 2, train loss: 35.63584899902344, val loss: 24.05741310119629\n",
      "2021-03-29 18:57:39,767 epoch: 3, train loss: 34.97053909301758, val loss: 23.788114547729492\n",
      "2021-03-29 18:57:55,496 epoch: 4, train loss: 34.716094970703125, val loss: 23.687488555908203\n",
      "2021-03-29 18:58:11,603 epoch: 5, train loss: 34.47416305541992, val loss: 23.61444091796875\n",
      "2021-03-29 18:58:27,500 epoch: 6, train loss: 34.226131439208984, val loss: 23.587196350097656\n",
      "2021-03-29 18:58:43,225 epoch: 7, train loss: 34.023128509521484, val loss: 23.527603149414062\n",
      "2021-03-29 18:58:59,267 epoch: 8, train loss: 33.84992218017578, val loss: 23.520870208740234\n",
      "2021-03-29 18:59:15,392 epoch: 9, train loss: 33.69105911254883, val loss: 23.495487213134766\n",
      "2021-03-29 18:59:31,366 epoch: 10, train loss: 33.553279876708984, val loss: 23.49844741821289\n",
      "2021-03-29 18:59:47,441 epoch: 11, train loss: 33.40642166137695, val loss: 23.47188949584961\n",
      "2021-03-29 19:00:03,495 epoch: 12, train loss: 33.280906677246094, val loss: 23.46240997314453\n",
      "2021-03-29 19:00:19,241 epoch: 13, train loss: 33.16447448730469, val loss: 23.45697021484375\n",
      "2021-03-29 19:00:34,956 epoch: 14, train loss: 33.02546310424805, val loss: 23.428468704223633\n",
      "2021-03-29 19:00:50,757 epoch: 15, train loss: 32.895538330078125, val loss: 23.433712005615234\n"
     ]
    },
    {
     "name": "stdout",
     "output_type": "stream",
     "text": [
      "False\n"
     ]
    },
    {
     "name": "stderr",
     "output_type": "stream",
     "text": [
      "2021-03-29 19:01:02,321 0 genes in training set are missing from prediction set\n",
      "2021-03-29 19:01:02,849 starting batch 1 of 2\n",
      "2021-03-29 19:01:02,997 0 genes in training set are missing from prediction set\n",
      "2021-03-29 19:01:07,415 starting batch 2 of 2\n",
      "2021-03-29 19:01:07,537 0 genes in training set are missing from prediction set\n"
     ]
    },
    {
     "name": "stdout",
     "output_type": "stream",
     "text": [
      "scRNAseq pdac_train_myeloma_val (7923, 28756) (3312, 24020)\n"
     ]
    },
    {
     "name": "stderr",
     "output_type": "stream",
     "text": [
      "2021-03-29 19:01:18,928 input dataset shape: (11235, 19561)\n",
      "2021-03-29 19:01:18,930 possible cell types: ['Acinar', 'B cell', 'CD4 T cell', 'CD8 T cell', 'Dendritic', 'Endothelial', 'Epithelial', 'Erythrocyte', 'Fibroblast', 'Islet', 'Malignant', 'Mast', 'Monocyte', 'NK', 'Plasma', 'Platlete', 'Treg', 'Tuft']\n",
      "2021-03-29 19:01:18,931 using validation key\n",
      "2021-03-29 19:01:36,307 epoch: 1, train loss: 37.418235778808594, val loss: 16.29100227355957\n",
      "2021-03-29 19:01:51,425 epoch: 2, train loss: 36.141841888427734, val loss: 16.134843826293945\n",
      "2021-03-29 19:02:06,400 epoch: 3, train loss: 35.4984016418457, val loss: 16.05000877380371\n",
      "2021-03-29 19:02:21,536 epoch: 4, train loss: 35.22568130493164, val loss: 15.981456756591797\n",
      "2021-03-29 19:02:36,571 epoch: 5, train loss: 34.97743606567383, val loss: 15.913684844970703\n",
      "2021-03-29 19:02:51,806 epoch: 6, train loss: 34.74728775024414, val loss: 15.881803512573242\n",
      "2021-03-29 19:03:06,929 epoch: 7, train loss: 34.55387878417969, val loss: 15.82969856262207\n",
      "2021-03-29 19:03:22,387 epoch: 8, train loss: 34.37724304199219, val loss: 15.786602020263672\n",
      "2021-03-29 19:03:37,634 epoch: 9, train loss: 34.23400115966797, val loss: 15.698640823364258\n",
      "2021-03-29 19:03:52,991 epoch: 10, train loss: 34.09547805786133, val loss: 15.636695861816406\n",
      "2021-03-29 19:04:08,389 epoch: 11, train loss: 33.95695495605469, val loss: 15.64213752746582\n",
      "2021-03-29 19:04:23,700 epoch: 12, train loss: 33.827213287353516, val loss: 15.600910186767578\n",
      "2021-03-29 19:04:39,174 epoch: 13, train loss: 33.704917907714844, val loss: 15.6007661819458\n",
      "2021-03-29 19:04:54,752 epoch: 14, train loss: 33.577659606933594, val loss: 15.584667205810547\n",
      "2021-03-29 19:05:10,338 epoch: 15, train loss: 33.44266128540039, val loss: 15.587483406066895\n"
     ]
    },
    {
     "name": "stdout",
     "output_type": "stream",
     "text": [
      "False\n"
     ]
    },
    {
     "name": "stderr",
     "output_type": "stream",
     "text": [
      "2021-03-29 19:05:20,971 0 genes in training set are missing from prediction set\n",
      "2021-03-29 19:05:21,461 starting batch 1 of 2\n",
      "2021-03-29 19:05:21,600 0 genes in training set are missing from prediction set\n",
      "2021-03-29 19:05:26,848 starting batch 2 of 2\n",
      "2021-03-29 19:05:26,961 0 genes in training set are missing from prediction set\n"
     ]
    },
    {
     "name": "stdout",
     "output_type": "stream",
     "text": [
      "scRNAseq pdac_train_pbmc_val (7923, 28756) (886, 32738)\n"
     ]
    },
    {
     "name": "stderr",
     "output_type": "stream",
     "text": [
      "2021-03-29 19:05:36,122 input dataset shape: (8809, 18993)\n",
      "2021-03-29 19:05:36,124 possible cell types: ['Acinar', 'B cell', 'CD4 T cell', 'CD8 T cell', 'Dendritic', 'Endothelial', 'Epithelial', 'Erythrocyte', 'Fibroblast', 'Islet', 'Malignant', 'Mast', 'Megakaryocyte', 'Monocyte', 'NK', 'Plasma', 'Treg', 'Tuft']\n",
      "2021-03-29 19:05:36,125 using validation key\n",
      "2021-03-29 19:05:52,772 epoch: 1, train loss: 32.26777267456055, val loss: 12.131553649902344\n",
      "2021-03-29 19:06:07,189 epoch: 2, train loss: 31.057533264160156, val loss: 11.991899490356445\n",
      "2021-03-29 19:06:21,723 epoch: 3, train loss: 30.498069763183594, val loss: 11.906402587890625\n",
      "2021-03-29 19:06:36,252 epoch: 4, train loss: 30.2569637298584, val loss: 11.842816352844238\n",
      "2021-03-29 19:06:50,793 epoch: 5, train loss: 30.051855087280273, val loss: 11.851934432983398\n",
      "2021-03-29 19:07:05,263 epoch: 6, train loss: 29.847761154174805, val loss: 11.810606002807617\n",
      "2021-03-29 19:07:19,682 epoch: 7, train loss: 29.676923751831055, val loss: 11.809165954589844\n",
      "2021-03-29 19:07:34,422 epoch: 8, train loss: 29.512405395507812, val loss: 11.776501655578613\n",
      "2021-03-29 19:07:49,160 epoch: 9, train loss: 29.39170265197754, val loss: 11.796590805053711\n",
      "2021-03-29 19:08:03,850 epoch: 10, train loss: 29.262649536132812, val loss: 11.782119750976562\n",
      "2021-03-29 19:08:18,527 epoch: 11, train loss: 29.142122268676758, val loss: 11.801836967468262\n",
      "2021-03-29 19:08:33,470 epoch: 12, train loss: 29.028274536132812, val loss: 11.787446975708008\n",
      "2021-03-29 19:08:48,442 epoch: 13, train loss: 28.914791107177734, val loss: 11.814970970153809\n",
      "2021-03-29 19:09:03,291 epoch: 14, train loss: 28.81585693359375, val loss: 11.7854585647583\n",
      "2021-03-29 19:09:18,081 epoch: 15, train loss: 28.693117141723633, val loss: 11.791370391845703\n"
     ]
    },
    {
     "name": "stdout",
     "output_type": "stream",
     "text": [
      "False\n"
     ]
    },
    {
     "name": "stderr",
     "output_type": "stream",
     "text": [
      "2021-03-29 19:09:27,712 0 genes in training set are missing from prediction set\n",
      "2021-03-29 19:09:28,216 starting batch 1 of 1\n",
      "2021-03-29 19:09:28,336 0 genes in training set are missing from prediction set\n"
     ]
    },
    {
     "name": "stdout",
     "output_type": "stream",
     "text": [
      "scRNAseq pdac_train_pdac_val (7923, 28756) (7840, 28756)\n"
     ]
    },
    {
     "name": "stderr",
     "output_type": "stream",
     "text": [
      "2021-03-29 19:09:49,507 input dataset shape: (15763, 28756)\n",
      "2021-03-29 19:09:49,509 possible cell types: ['Acinar', 'B cell', 'CD4 T cell', 'CD8 T cell', 'Dendritic', 'Endothelial', 'Epithelial', 'Erythrocyte', 'Fibroblast', 'Islet', 'Malignant', 'Mast', 'Monocyte', 'NK', 'Plasma', 'Treg', 'Tuft']\n",
      "2021-03-29 19:09:49,510 using validation key\n",
      "2021-03-29 19:10:13,294 epoch: 1, train loss: 32.066062927246094, val loss: 31.87655258178711\n",
      "2021-03-29 19:10:33,395 epoch: 2, train loss: 30.996540069580078, val loss: 30.72779083251953\n",
      "2021-03-29 19:10:53,109 epoch: 3, train loss: 30.39577865600586, val loss: 30.12775421142578\n",
      "2021-03-29 19:11:13,042 epoch: 4, train loss: 30.177995681762695, val loss: 29.970703125\n",
      "2021-03-29 19:11:33,144 epoch: 5, train loss: 29.961402893066406, val loss: 29.849388122558594\n",
      "2021-03-29 19:11:53,363 epoch: 6, train loss: 29.74871253967285, val loss: 29.67755889892578\n",
      "2021-03-29 19:12:13,982 epoch: 7, train loss: 29.570425033569336, val loss: 29.536752700805664\n",
      "2021-03-29 19:12:34,310 epoch: 8, train loss: 29.41781234741211, val loss: 29.400718688964844\n",
      "2021-03-29 19:12:54,528 epoch: 9, train loss: 29.286422729492188, val loss: 29.26968765258789\n",
      "2021-03-29 19:13:14,537 epoch: 10, train loss: 29.16826057434082, val loss: 29.166339874267578\n",
      "2021-03-29 19:13:34,762 epoch: 11, train loss: 29.05813217163086, val loss: 29.045520782470703\n",
      "2021-03-29 19:13:55,066 epoch: 12, train loss: 28.926679611206055, val loss: 28.98644256591797\n",
      "2021-03-29 19:14:15,330 epoch: 13, train loss: 28.819541931152344, val loss: 28.93494415283203\n",
      "2021-03-29 19:14:35,655 epoch: 14, train loss: 28.7047061920166, val loss: 28.909561157226562\n",
      "2021-03-29 19:14:56,040 epoch: 15, train loss: 28.589445114135742, val loss: 28.854145050048828\n"
     ]
    },
    {
     "name": "stdout",
     "output_type": "stream",
     "text": [
      "True\n"
     ]
    },
    {
     "name": "stderr",
     "output_type": "stream",
     "text": [
      "2021-03-29 19:15:13,849 0 genes in training set are missing from prediction set\n",
      "2021-03-29 19:15:14,361 starting batch 1 of 4\n",
      "2021-03-29 19:15:14,480 0 genes in training set are missing from prediction set\n",
      "2021-03-29 19:15:21,479 starting batch 2 of 4\n",
      "2021-03-29 19:15:21,649 0 genes in training set are missing from prediction set\n",
      "2021-03-29 19:15:27,738 starting batch 3 of 4\n",
      "2021-03-29 19:15:27,898 0 genes in training set are missing from prediction set\n",
      "2021-03-29 19:15:33,833 starting batch 4 of 4\n",
      "2021-03-29 19:15:33,941 0 genes in training set are missing from prediction set\n"
     ]
    },
    {
     "name": "stdout",
     "output_type": "stream",
     "text": [
      "snATACseq brca_gene_activity_train_brca_gene_activity_val (3576, 19891) (3519, 19891)\n"
     ]
    },
    {
     "name": "stderr",
     "output_type": "stream",
     "text": [
      "2021-03-29 19:15:40,442 input dataset shape: (7095, 19891)\n",
      "2021-03-29 19:15:40,444 possible cell types: ['B cell', 'Dendritic', 'Endothelial', 'Fibroblast', 'Malignant', 'Mast', 'Monocyte', 'T cells']\n",
      "2021-03-29 19:15:40,445 using validation key\n",
      "2021-03-29 19:15:50,296 epoch: 1, train loss: 47.73538589477539, val loss: 61.94577407836914\n",
      "2021-03-29 19:15:58,259 epoch: 2, train loss: 47.58394241333008, val loss: 61.87312698364258\n",
      "2021-03-29 19:16:06,240 epoch: 3, train loss: 47.221527099609375, val loss: 61.39146423339844\n",
      "2021-03-29 19:16:14,314 epoch: 4, train loss: 46.90915298461914, val loss: 61.056007385253906\n",
      "2021-03-29 19:16:22,296 epoch: 5, train loss: 46.61198806762695, val loss: 60.82291793823242\n",
      "2021-03-29 19:16:30,201 epoch: 6, train loss: 46.337188720703125, val loss: 60.5770149230957\n",
      "2021-03-29 19:16:38,065 epoch: 7, train loss: 46.119659423828125, val loss: 60.437625885009766\n",
      "2021-03-29 19:16:45,860 epoch: 8, train loss: 45.95061492919922, val loss: 60.36602020263672\n",
      "2021-03-29 19:16:53,710 epoch: 9, train loss: 45.73554611206055, val loss: 60.16646957397461\n",
      "2021-03-29 19:17:01,641 epoch: 10, train loss: 45.648277282714844, val loss: 60.17112350463867\n",
      "2021-03-29 19:17:09,440 epoch: 11, train loss: 45.447059631347656, val loss: 60.03048324584961\n",
      "2021-03-29 19:17:17,261 epoch: 12, train loss: 45.28909683227539, val loss: 59.9532585144043\n",
      "2021-03-29 19:17:25,161 epoch: 13, train loss: 45.31949234008789, val loss: 60.0610466003418\n",
      "2021-03-29 19:17:32,995 epoch: 14, train loss: 45.027587890625, val loss: 59.982696533203125\n",
      "2021-03-29 19:17:40,884 epoch: 15, train loss: 44.934776306152344, val loss: 60.01206970214844\n"
     ]
    },
    {
     "name": "stdout",
     "output_type": "stream",
     "text": [
      "True\n"
     ]
    },
    {
     "name": "stderr",
     "output_type": "stream",
     "text": [
      "2021-03-29 19:17:47,632 0 genes in training set are missing from prediction set\n",
      "2021-03-29 19:17:47,992 starting batch 1 of 2\n",
      "2021-03-29 19:17:48,161 0 genes in training set are missing from prediction set\n",
      "2021-03-29 19:17:57,306 starting batch 2 of 2\n",
      "2021-03-29 19:17:57,412 0 genes in training set are missing from prediction set\n"
     ]
    },
    {
     "name": "stdout",
     "output_type": "stream",
     "text": [
      "snATACseq brca_gene_activity_train_brca_motif_val (3576, 19891) (3519, 633)\n",
      "failed\n",
      "snATACseq brca_gene_activity_train_ccrcc_gene_activity_val (3576, 19891) (3000, 19843)\n"
     ]
    },
    {
     "name": "stderr",
     "output_type": "stream",
     "text": [
      "2021-03-29 19:18:07,116 input dataset shape: (6576, 19815)\n",
      "2021-03-29 19:18:07,118 possible cell types: ['B cell', 'Dendritic', 'Endothelial', 'Epithelial', 'Fibroblast', 'Malignant', 'Mast', 'Monocyte', 'T cells']\n",
      "2021-03-29 19:18:07,118 using validation key\n",
      "2021-03-29 19:18:16,306 epoch: 1, train loss: 54.697166442871094, val loss: 31.780956268310547\n",
      "2021-03-29 19:18:23,789 epoch: 2, train loss: 54.492706298828125, val loss: 31.68103790283203\n",
      "2021-03-29 19:18:31,207 epoch: 3, train loss: 54.018699645996094, val loss: 31.600730895996094\n",
      "2021-03-29 19:18:38,642 epoch: 4, train loss: 53.729007720947266, val loss: 31.53035545349121\n",
      "2021-03-29 19:18:46,072 epoch: 5, train loss: 53.28997802734375, val loss: 31.427757263183594\n",
      "2021-03-29 19:18:53,463 epoch: 6, train loss: 52.969703674316406, val loss: 31.360794067382812\n",
      "2021-03-29 19:19:00,929 epoch: 7, train loss: 52.7608757019043, val loss: 31.357662200927734\n",
      "2021-03-29 19:19:08,352 epoch: 8, train loss: 52.53130340576172, val loss: 31.33305549621582\n",
      "2021-03-29 19:19:15,749 epoch: 9, train loss: 52.2929573059082, val loss: 31.247920989990234\n",
      "2021-03-29 19:19:23,213 epoch: 10, train loss: 52.14578628540039, val loss: 31.249309539794922\n",
      "2021-03-29 19:19:30,640 epoch: 11, train loss: 51.944644927978516, val loss: 31.252197265625\n",
      "2021-03-29 19:19:38,319 epoch: 12, train loss: 51.77405548095703, val loss: 31.234107971191406\n",
      "2021-03-29 19:19:45,833 epoch: 13, train loss: 51.636680603027344, val loss: 31.24374771118164\n",
      "2021-03-29 19:19:53,402 epoch: 14, train loss: 51.40130615234375, val loss: 31.215179443359375\n",
      "2021-03-29 19:20:00,883 epoch: 15, train loss: 51.167213439941406, val loss: 31.204910278320312\n"
     ]
    },
    {
     "name": "stdout",
     "output_type": "stream",
     "text": [
      "False\n"
     ]
    },
    {
     "name": "stderr",
     "output_type": "stream",
     "text": [
      "2021-03-29 19:20:06,274 0 genes in training set are missing from prediction set\n",
      "2021-03-29 19:20:06,784 starting batch 1 of 2\n",
      "2021-03-29 19:20:06,932 0 genes in training set are missing from prediction set\n",
      "2021-03-29 19:20:15,106 starting batch 2 of 2\n",
      "2021-03-29 19:20:15,186 0 genes in training set are missing from prediction set\n"
     ]
    },
    {
     "name": "stdout",
     "output_type": "stream",
     "text": [
      "snATACseq brca_gene_activity_train_ccrcc_motif_val (3576, 19891) (3000, 633)\n",
      "failed\n",
      "snATACseq brca_gene_activity_train_gbm_gene_activity_val (3576, 19891) (2875, 19891)\n"
     ]
    },
    {
     "name": "stderr",
     "output_type": "stream",
     "text": [
      "2021-03-29 19:20:22,283 input dataset shape: (6451, 19891)\n",
      "2021-03-29 19:20:22,285 possible cell types: ['B cell', 'Dendritic', 'Endothelial', 'Fibroblast', 'Malignant', 'Mast', 'Microglia', 'Monocyte', 'Neuron', 'Oligodendrocytes', 'T cells']\n",
      "2021-03-29 19:20:22,286 using validation key\n",
      "2021-03-29 19:20:31,324 epoch: 1, train loss: 50.70884323120117, val loss: 31.03231430053711\n",
      "2021-03-29 19:20:38,765 epoch: 2, train loss: 50.566001892089844, val loss: 30.96866226196289\n",
      "2021-03-29 19:20:46,250 epoch: 3, train loss: 50.07678985595703, val loss: 30.80815887451172\n",
      "2021-03-29 19:20:53,761 epoch: 4, train loss: 49.882755279541016, val loss: 30.76535415649414\n",
      "2021-03-29 19:21:01,236 epoch: 5, train loss: 49.567440032958984, val loss: 30.711570739746094\n",
      "2021-03-29 19:21:08,748 epoch: 6, train loss: 49.25484085083008, val loss: 30.64720916748047\n",
      "2021-03-29 19:21:16,152 epoch: 7, train loss: 49.031715393066406, val loss: 30.600191116333008\n",
      "2021-03-29 19:21:23,637 epoch: 8, train loss: 48.78040313720703, val loss: 30.542922973632812\n",
      "2021-03-29 19:21:31,117 epoch: 9, train loss: 48.574337005615234, val loss: 30.49529266357422\n",
      "2021-03-29 19:21:38,596 epoch: 10, train loss: 48.414310455322266, val loss: 30.4704647064209\n",
      "2021-03-29 19:21:45,982 epoch: 11, train loss: 48.28622817993164, val loss: 30.451950073242188\n",
      "2021-03-29 19:21:53,495 epoch: 12, train loss: 48.134822845458984, val loss: 30.45256805419922\n",
      "2021-03-29 19:22:00,943 epoch: 13, train loss: 48.00689697265625, val loss: 30.465625762939453\n",
      "2021-03-29 19:22:08,432 epoch: 14, train loss: 47.8723030090332, val loss: 30.457355499267578\n",
      "2021-03-29 19:22:15,878 epoch: 15, train loss: 47.62657928466797, val loss: 30.440799713134766\n"
     ]
    },
    {
     "name": "stdout",
     "output_type": "stream",
     "text": [
      "False\n"
     ]
    },
    {
     "name": "stderr",
     "output_type": "stream",
     "text": [
      "2021-03-29 19:22:21,281 0 genes in training set are missing from prediction set\n",
      "2021-03-29 19:22:21,794 starting batch 1 of 2\n",
      "2021-03-29 19:22:21,952 0 genes in training set are missing from prediction set\n",
      "2021-03-29 19:22:30,236 starting batch 2 of 2\n",
      "2021-03-29 19:22:30,316 0 genes in training set are missing from prediction set\n"
     ]
    },
    {
     "name": "stdout",
     "output_type": "stream",
     "text": [
      "snATACseq brca_gene_activity_train_gbm_motif_val (3576, 19891) (2884, 633)\n",
      "failed\n",
      "snATACseq brca_motif_train_brca_gene_activity_val (3576, 633) (3519, 19891)\n",
      "failed\n"
     ]
    },
    {
     "name": "stderr",
     "output_type": "stream",
     "text": [
      "2021-03-29 19:22:32,883 input dataset shape: (7095, 633)\n",
      "2021-03-29 19:22:32,885 possible cell types: ['B cell', 'Dendritic', 'Endothelial', 'Fibroblast', 'Malignant', 'Mast', 'Monocyte', 'T cells']\n",
      "2021-03-29 19:22:32,885 using validation key\n"
     ]
    },
    {
     "name": "stdout",
     "output_type": "stream",
     "text": [
      "snATACseq brca_motif_train_brca_motif_val (3576, 633) (3519, 633)\n"
     ]
    },
    {
     "name": "stderr",
     "output_type": "stream",
     "text": [
      "2021-03-29 19:22:35,604 epoch: 1, train loss: 9.879059791564941, val loss: 11.757186889648438\n",
      "2021-03-29 19:22:37,332 epoch: 2, train loss: 8.567483901977539, val loss: 9.13492202758789\n",
      "2021-03-29 19:22:39,095 epoch: 3, train loss: 7.771732807159424, val loss: 8.271858215332031\n",
      "2021-03-29 19:22:40,815 epoch: 4, train loss: 7.3849287033081055, val loss: 7.748751640319824\n",
      "2021-03-29 19:22:42,588 epoch: 5, train loss: 7.075709819793701, val loss: 7.345121383666992\n",
      "2021-03-29 19:22:44,325 epoch: 6, train loss: 6.790960788726807, val loss: 7.041391372680664\n",
      "2021-03-29 19:22:46,044 epoch: 7, train loss: 6.5323405265808105, val loss: 6.786346435546875\n",
      "2021-03-29 19:22:47,791 epoch: 8, train loss: 6.3205790519714355, val loss: 6.586673736572266\n",
      "2021-03-29 19:22:49,565 epoch: 9, train loss: 6.138900279998779, val loss: 6.406862735748291\n",
      "2021-03-29 19:22:51,296 epoch: 10, train loss: 5.983206272125244, val loss: 6.257016181945801\n",
      "2021-03-29 19:22:53,013 epoch: 11, train loss: 5.853577613830566, val loss: 6.1233086585998535\n",
      "2021-03-29 19:22:54,756 epoch: 12, train loss: 5.730103969573975, val loss: 6.02430534362793\n",
      "2021-03-29 19:22:56,485 epoch: 13, train loss: 5.636538982391357, val loss: 5.938911437988281\n",
      "2021-03-29 19:22:58,223 epoch: 14, train loss: 5.55777645111084, val loss: 5.894397735595703\n",
      "2021-03-29 19:22:59,991 epoch: 15, train loss: 5.487114906311035, val loss: 5.805088043212891\n"
     ]
    },
    {
     "name": "stdout",
     "output_type": "stream",
     "text": [
      "True\n"
     ]
    },
    {
     "name": "stderr",
     "output_type": "stream",
     "text": [
      "2021-03-29 19:23:02,734 0 genes in training set are missing from prediction set\n",
      "2021-03-29 19:23:02,879 starting batch 1 of 2\n",
      "2021-03-29 19:23:02,952 0 genes in training set are missing from prediction set\n",
      "2021-03-29 19:23:03,119 starting batch 2 of 2\n",
      "2021-03-29 19:23:03,192 0 genes in training set are missing from prediction set\n"
     ]
    },
    {
     "name": "stdout",
     "output_type": "stream",
     "text": [
      "snATACseq brca_motif_train_ccrcc_gene_activity_val (3576, 633) (3000, 19843)\n",
      "failed\n",
      "snATACseq brca_motif_train_ccrcc_motif_val (3576, 633) (3000, 633)\n"
     ]
    },
    {
     "name": "stderr",
     "output_type": "stream",
     "text": [
      "2021-03-29 19:23:04,125 input dataset shape: (6576, 633)\n",
      "2021-03-29 19:23:04,127 possible cell types: ['B cell', 'Dendritic', 'Endothelial', 'Epithelial', 'Fibroblast', 'Malignant', 'Mast', 'Monocyte', 'T cells']\n",
      "2021-03-29 19:23:04,129 using validation key\n",
      "2021-03-29 19:23:06,791 epoch: 1, train loss: 9.89361572265625, val loss: 9.20771312713623\n",
      "2021-03-29 19:23:08,426 epoch: 2, train loss: 8.547643661499023, val loss: 7.662665843963623\n",
      "2021-03-29 19:23:10,043 epoch: 3, train loss: 7.64323091506958, val loss: 7.172702312469482\n",
      "2021-03-29 19:23:11,662 epoch: 4, train loss: 7.230648517608643, val loss: 6.912325859069824\n",
      "2021-03-29 19:23:13,269 epoch: 5, train loss: 6.939518451690674, val loss: 6.718210220336914\n",
      "2021-03-29 19:23:14,903 epoch: 6, train loss: 6.691863536834717, val loss: 6.540562629699707\n",
      "2021-03-29 19:23:16,502 epoch: 7, train loss: 6.440009593963623, val loss: 6.3503098487854\n",
      "2021-03-29 19:23:18,122 epoch: 8, train loss: 6.206626892089844, val loss: 6.136599540710449\n",
      "2021-03-29 19:23:19,730 epoch: 9, train loss: 6.006014823913574, val loss: 5.960282325744629\n",
      "2021-03-29 19:23:21,328 epoch: 10, train loss: 5.842294216156006, val loss: 5.779363632202148\n",
      "2021-03-29 19:23:22,937 epoch: 11, train loss: 5.714930534362793, val loss: 5.681913375854492\n",
      "2021-03-29 19:23:24,531 epoch: 12, train loss: 5.59127140045166, val loss: 5.567756652832031\n",
      "2021-03-29 19:23:26,164 epoch: 13, train loss: 5.488322734832764, val loss: 5.486580848693848\n",
      "2021-03-29 19:23:27,807 epoch: 14, train loss: 5.402571201324463, val loss: 5.422122955322266\n",
      "2021-03-29 19:23:29,408 epoch: 15, train loss: 5.336935520172119, val loss: 5.345651626586914\n"
     ]
    },
    {
     "name": "stdout",
     "output_type": "stream",
     "text": [
      "False\n"
     ]
    },
    {
     "name": "stderr",
     "output_type": "stream",
     "text": [
      "2021-03-29 19:23:31,625 0 genes in training set are missing from prediction set\n",
      "2021-03-29 19:23:31,770 starting batch 1 of 2\n",
      "2021-03-29 19:23:31,842 0 genes in training set are missing from prediction set\n",
      "2021-03-29 19:23:32,014 starting batch 2 of 2\n",
      "2021-03-29 19:23:32,082 0 genes in training set are missing from prediction set\n"
     ]
    },
    {
     "name": "stdout",
     "output_type": "stream",
     "text": [
      "snATACseq brca_motif_train_gbm_gene_activity_val (3576, 633) (2875, 19891)\n",
      "failed\n",
      "snATACseq brca_motif_train_gbm_motif_val (3576, 633) (2884, 633)\n"
     ]
    },
    {
     "name": "stderr",
     "output_type": "stream",
     "text": [
      "2021-03-29 19:23:32,909 input dataset shape: (6460, 633)\n",
      "2021-03-29 19:23:32,911 possible cell types: ['B cell', 'Dendritic', 'Endothelial', 'Fibroblast', 'Malignant', 'Mast', 'Microglia', 'Monocyte', 'Neuron', 'Oligodendrocytes', 'T cells']\n",
      "2021-03-29 19:23:32,911 using validation key\n",
      "2021-03-29 19:23:35,404 epoch: 1, train loss: 9.202855110168457, val loss: 9.982168197631836\n",
      "2021-03-29 19:23:36,959 epoch: 2, train loss: 7.945933818817139, val loss: 9.528047561645508\n",
      "2021-03-29 19:23:38,543 epoch: 3, train loss: 7.214249134063721, val loss: 8.885322570800781\n",
      "2021-03-29 19:23:40,106 epoch: 4, train loss: 6.852761745452881, val loss: 8.489568710327148\n",
      "2021-03-29 19:23:41,711 epoch: 5, train loss: 6.594566822052002, val loss: 8.119216918945312\n",
      "2021-03-29 19:23:43,275 epoch: 6, train loss: 6.354292869567871, val loss: 7.885705947875977\n",
      "2021-03-29 19:23:44,842 epoch: 7, train loss: 6.124858379364014, val loss: 7.577522277832031\n",
      "2021-03-29 19:23:46,413 epoch: 8, train loss: 5.9123969078063965, val loss: 7.333403587341309\n",
      "2021-03-29 19:23:48,000 epoch: 9, train loss: 5.742354393005371, val loss: 7.113512992858887\n",
      "2021-03-29 19:23:49,582 epoch: 10, train loss: 5.61513090133667, val loss: 6.960402011871338\n",
      "2021-03-29 19:23:51,153 epoch: 11, train loss: 5.506929874420166, val loss: 6.790287971496582\n",
      "2021-03-29 19:23:52,719 epoch: 12, train loss: 5.4041290283203125, val loss: 6.663969993591309\n",
      "2021-03-29 19:23:54,294 epoch: 13, train loss: 5.319029808044434, val loss: 6.563204765319824\n",
      "2021-03-29 19:23:56,712 epoch: 14, train loss: 5.2365007400512695, val loss: 6.433894157409668\n",
      "2021-03-29 19:23:58,292 epoch: 15, train loss: 5.166718482971191, val loss: 6.358538627624512\n"
     ]
    },
    {
     "name": "stdout",
     "output_type": "stream",
     "text": [
      "False\n"
     ]
    },
    {
     "name": "stderr",
     "output_type": "stream",
     "text": [
      "2021-03-29 19:24:00,584 0 genes in training set are missing from prediction set\n",
      "2021-03-29 19:24:00,724 starting batch 1 of 2\n",
      "2021-03-29 19:24:00,785 0 genes in training set are missing from prediction set\n",
      "2021-03-29 19:24:00,939 starting batch 2 of 2\n",
      "2021-03-29 19:24:01,003 0 genes in training set are missing from prediction set\n"
     ]
    },
    {
     "name": "stdout",
     "output_type": "stream",
     "text": [
      "snATACseq ccrcc_gene_activity_train_brca_gene_activity_val (3000, 19843) (3519, 19891)\n"
     ]
    },
    {
     "name": "stderr",
     "output_type": "stream",
     "text": [
      "2021-03-29 19:24:06,738 input dataset shape: (6519, 19815)\n",
      "2021-03-29 19:24:06,740 possible cell types: ['B cell', 'Dendritic', 'Endothelial', 'Epithelial', 'Fibroblast', 'Malignant', 'Mast', 'Monocyte', 'T cells']\n",
      "2021-03-29 19:24:06,740 using validation key\n",
      "2021-03-29 19:24:15,014 epoch: 1, train loss: 36.60536575317383, val loss: 70.65399932861328\n",
      "2021-03-29 19:24:21,619 epoch: 2, train loss: 36.4796028137207, val loss: 70.50679016113281\n",
      "2021-03-29 19:24:28,252 epoch: 3, train loss: 36.400264739990234, val loss: 70.30193328857422\n",
      "2021-03-29 19:24:34,879 epoch: 4, train loss: 36.11872100830078, val loss: 69.97862243652344\n",
      "2021-03-29 19:24:41,481 epoch: 5, train loss: 35.96126937866211, val loss: 69.60958862304688\n",
      "2021-03-29 19:24:48,117 epoch: 6, train loss: 35.7824592590332, val loss: 69.28912353515625\n",
      "2021-03-29 19:24:54,741 epoch: 7, train loss: 35.633121490478516, val loss: 68.99930572509766\n",
      "2021-03-29 19:25:01,328 epoch: 8, train loss: 35.50425338745117, val loss: 68.84236145019531\n",
      "2021-03-29 19:25:07,886 epoch: 9, train loss: 35.426292419433594, val loss: 68.82173156738281\n",
      "2021-03-29 19:25:14,506 epoch: 10, train loss: 35.25920867919922, val loss: 68.77989196777344\n",
      "2021-03-29 19:25:21,103 epoch: 11, train loss: 35.15289306640625, val loss: 68.77350616455078\n",
      "2021-03-29 19:25:27,722 epoch: 12, train loss: 35.00825881958008, val loss: 68.73065948486328\n",
      "2021-03-29 19:25:34,341 epoch: 13, train loss: 34.8907356262207, val loss: 68.62843322753906\n",
      "2021-03-29 19:25:40,887 epoch: 14, train loss: 34.73031997680664, val loss: 68.69680786132812\n",
      "2021-03-29 19:25:47,462 epoch: 15, train loss: 34.67889404296875, val loss: 68.73089599609375\n"
     ]
    },
    {
     "name": "stdout",
     "output_type": "stream",
     "text": [
      "False\n"
     ]
    },
    {
     "name": "stderr",
     "output_type": "stream",
     "text": [
      "2021-03-29 19:25:52,290 0 genes in training set are missing from prediction set\n",
      "2021-03-29 19:25:52,725 starting batch 1 of 2\n",
      "2021-03-29 19:25:52,882 0 genes in training set are missing from prediction set\n",
      "2021-03-29 19:26:02,214 starting batch 2 of 2\n",
      "2021-03-29 19:26:02,285 0 genes in training set are missing from prediction set\n"
     ]
    },
    {
     "name": "stdout",
     "output_type": "stream",
     "text": [
      "snATACseq ccrcc_gene_activity_train_brca_motif_val (3000, 19843) (3519, 633)\n",
      "failed\n",
      "snATACseq ccrcc_gene_activity_train_ccrcc_gene_activity_val (3000, 19843) (3000, 19843)\n"
     ]
    },
    {
     "name": "stderr",
     "output_type": "stream",
     "text": [
      "2021-03-29 19:26:10,577 input dataset shape: (6000, 19843)\n",
      "2021-03-29 19:26:10,579 possible cell types: ['Endothelial', 'Epithelial', 'Fibroblast', 'Malignant', 'Monocyte', 'T cells']\n",
      "2021-03-29 19:26:10,580 using validation key\n",
      "2021-03-29 19:26:18,681 epoch: 1, train loss: 46.147056579589844, val loss: 39.37275695800781\n",
      "2021-03-29 19:26:25,170 epoch: 2, train loss: 46.07628631591797, val loss: 39.32566833496094\n",
      "2021-03-29 19:26:31,609 epoch: 3, train loss: 45.83302688598633, val loss: 39.217010498046875\n",
      "2021-03-29 19:26:38,027 epoch: 4, train loss: 45.493614196777344, val loss: 39.1090202331543\n",
      "2021-03-29 19:26:44,536 epoch: 5, train loss: 45.34722137451172, val loss: 39.07698059082031\n",
      "2021-03-29 19:26:50,987 epoch: 6, train loss: 45.11257553100586, val loss: 38.97314453125\n",
      "2021-03-29 19:26:57,355 epoch: 7, train loss: 44.89604949951172, val loss: 38.848289489746094\n",
      "2021-03-29 19:27:03,821 epoch: 8, train loss: 44.828269958496094, val loss: 38.845550537109375\n",
      "2021-03-29 19:27:10,316 epoch: 9, train loss: 44.67229461669922, val loss: 38.77949142456055\n",
      "2021-03-29 19:27:16,781 epoch: 10, train loss: 44.51620101928711, val loss: 38.76034927368164\n",
      "2021-03-29 19:27:23,232 epoch: 11, train loss: 44.27819061279297, val loss: 38.650474548339844\n",
      "2021-03-29 19:27:29,662 epoch: 12, train loss: 44.120155334472656, val loss: 38.62372970581055\n",
      "2021-03-29 19:27:36,125 epoch: 13, train loss: 43.90458679199219, val loss: 38.60190963745117\n",
      "2021-03-29 19:27:42,508 epoch: 14, train loss: 43.76808547973633, val loss: 38.545494079589844\n",
      "2021-03-29 19:27:48,911 epoch: 15, train loss: 43.526126861572266, val loss: 38.58879852294922\n"
     ]
    },
    {
     "name": "stdout",
     "output_type": "stream",
     "text": [
      "True\n"
     ]
    },
    {
     "name": "stderr",
     "output_type": "stream",
     "text": [
      "2021-03-29 19:27:54,579 0 genes in training set are missing from prediction set\n",
      "2021-03-29 19:27:55,091 starting batch 1 of 2\n",
      "2021-03-29 19:27:55,235 0 genes in training set are missing from prediction set\n",
      "2021-03-29 19:28:02,959 starting batch 2 of 2\n",
      "2021-03-29 19:28:03,039 0 genes in training set are missing from prediction set\n"
     ]
    },
    {
     "name": "stdout",
     "output_type": "stream",
     "text": [
      "snATACseq ccrcc_gene_activity_train_ccrcc_motif_val (3000, 19843) (3000, 633)\n",
      "failed\n",
      "snATACseq ccrcc_gene_activity_train_gbm_gene_activity_val (3000, 19843) (2875, 19891)\n"
     ]
    },
    {
     "name": "stderr",
     "output_type": "stream",
     "text": [
      "2021-03-29 19:28:09,721 input dataset shape: (5875, 19815)\n",
      "2021-03-29 19:28:09,723 possible cell types: ['B cell', 'Endothelial', 'Epithelial', 'Fibroblast', 'Malignant', 'Microglia', 'Monocyte', 'Neuron', 'Oligodendrocytes', 'T cells']\n",
      "2021-03-29 19:28:09,724 using validation key\n",
      "2021-03-29 19:28:17,623 epoch: 1, train loss: 40.41608428955078, val loss: 36.47700119018555\n",
      "2021-03-29 19:28:23,870 epoch: 2, train loss: 40.266143798828125, val loss: 36.400672912597656\n",
      "2021-03-29 19:28:30,153 epoch: 3, train loss: 40.1932373046875, val loss: 36.3300895690918\n",
      "2021-03-29 19:28:36,513 epoch: 4, train loss: 39.95098114013672, val loss: 36.20122528076172\n",
      "2021-03-29 19:28:42,892 epoch: 5, train loss: 39.733150482177734, val loss: 36.145233154296875\n",
      "2021-03-29 19:28:49,180 epoch: 6, train loss: 39.56770324707031, val loss: 36.032344818115234\n",
      "2021-03-29 19:28:55,481 epoch: 7, train loss: 39.38338851928711, val loss: 35.97527313232422\n",
      "2021-03-29 19:29:01,722 epoch: 8, train loss: 39.2247200012207, val loss: 35.93580627441406\n",
      "2021-03-29 19:29:08,051 epoch: 9, train loss: 39.185848236083984, val loss: 35.957515716552734\n",
      "2021-03-29 19:29:14,366 epoch: 10, train loss: 38.96458053588867, val loss: 35.89592742919922\n",
      "2021-03-29 19:29:20,575 epoch: 11, train loss: 38.78549575805664, val loss: 35.879188537597656\n",
      "2021-03-29 19:29:26,853 epoch: 12, train loss: 38.619537353515625, val loss: 35.85301971435547\n",
      "2021-03-29 19:29:33,116 epoch: 13, train loss: 38.5098991394043, val loss: 35.822242736816406\n",
      "2021-03-29 19:29:39,353 epoch: 14, train loss: 38.34735107421875, val loss: 35.837162017822266\n",
      "2021-03-29 19:29:45,617 epoch: 15, train loss: 38.21812057495117, val loss: 35.876625061035156\n"
     ]
    },
    {
     "name": "stdout",
     "output_type": "stream",
     "text": [
      "False\n"
     ]
    },
    {
     "name": "stderr",
     "output_type": "stream",
     "text": [
      "2021-03-29 19:29:50,292 0 genes in training set are missing from prediction set\n",
      "2021-03-29 19:29:50,641 starting batch 1 of 2\n",
      "2021-03-29 19:29:50,775 0 genes in training set are missing from prediction set\n",
      "2021-03-29 19:29:59,239 starting batch 2 of 2\n",
      "2021-03-29 19:29:59,313 0 genes in training set are missing from prediction set\n"
     ]
    },
    {
     "name": "stdout",
     "output_type": "stream",
     "text": [
      "snATACseq ccrcc_gene_activity_train_gbm_motif_val (3000, 19843) (2884, 633)\n",
      "failed\n",
      "snATACseq ccrcc_motif_train_brca_gene_activity_val (3000, 633) (3519, 19891)\n",
      "failed\n"
     ]
    },
    {
     "name": "stderr",
     "output_type": "stream",
     "text": [
      "2021-03-29 19:30:01,931 input dataset shape: (6519, 633)\n",
      "2021-03-29 19:30:01,933 possible cell types: ['B cell', 'Dendritic', 'Endothelial', 'Epithelial', 'Fibroblast', 'Malignant', 'Mast', 'Monocyte', 'T cells']\n",
      "2021-03-29 19:30:01,934 using validation key\n"
     ]
    },
    {
     "name": "stdout",
     "output_type": "stream",
     "text": [
      "snATACseq ccrcc_motif_train_brca_motif_val (3000, 633) (3519, 633)\n"
     ]
    },
    {
     "name": "stderr",
     "output_type": "stream",
     "text": [
      "2021-03-29 19:30:04,165 epoch: 1, train loss: 9.062320709228516, val loss: 14.129063606262207\n",
      "2021-03-29 19:30:05,572 epoch: 2, train loss: 7.363679885864258, val loss: 11.082761764526367\n",
      "2021-03-29 19:30:06,960 epoch: 3, train loss: 6.873844146728516, val loss: 10.518375396728516\n",
      "2021-03-29 19:30:08,335 epoch: 4, train loss: 6.611337184906006, val loss: 10.182625770568848\n",
      "2021-03-29 19:30:09,712 epoch: 5, train loss: 6.339197158813477, val loss: 9.737269401550293\n",
      "2021-03-29 19:30:11,095 epoch: 6, train loss: 6.124884605407715, val loss: 9.393327713012695\n",
      "2021-03-29 19:30:12,457 epoch: 7, train loss: 5.94439172744751, val loss: 9.07731819152832\n",
      "2021-03-29 19:30:13,847 epoch: 8, train loss: 5.776812553405762, val loss: 8.78186321258545\n",
      "2021-03-29 19:30:15,225 epoch: 9, train loss: 5.613015174865723, val loss: 8.527746200561523\n",
      "2021-03-29 19:30:16,578 epoch: 10, train loss: 5.470077037811279, val loss: 8.337451934814453\n",
      "2021-03-29 19:30:17,982 epoch: 11, train loss: 5.350594997406006, val loss: 8.109352111816406\n",
      "2021-03-29 19:30:19,358 epoch: 12, train loss: 5.241143226623535, val loss: 7.895880699157715\n",
      "2021-03-29 19:30:20,731 epoch: 13, train loss: 5.148576736450195, val loss: 7.821297645568848\n",
      "2021-03-29 19:30:22,103 epoch: 14, train loss: 5.060673713684082, val loss: 7.636052131652832\n",
      "2021-03-29 19:30:23,479 epoch: 15, train loss: 4.973836898803711, val loss: 7.484005451202393\n"
     ]
    },
    {
     "name": "stdout",
     "output_type": "stream",
     "text": [
      "False\n"
     ]
    },
    {
     "name": "stderr",
     "output_type": "stream",
     "text": [
      "2021-03-29 19:30:25,428 0 genes in training set are missing from prediction set\n",
      "2021-03-29 19:30:25,572 starting batch 1 of 2\n",
      "2021-03-29 19:30:25,631 0 genes in training set are missing from prediction set\n",
      "2021-03-29 19:30:25,796 starting batch 2 of 2\n",
      "2021-03-29 19:30:25,852 0 genes in training set are missing from prediction set\n"
     ]
    },
    {
     "name": "stdout",
     "output_type": "stream",
     "text": [
      "snATACseq ccrcc_motif_train_ccrcc_gene_activity_val (3000, 633) (3000, 19843)\n",
      "failed\n"
     ]
    },
    {
     "name": "stderr",
     "output_type": "stream",
     "text": [
      "2021-03-29 19:30:26,653 input dataset shape: (6000, 633)\n",
      "2021-03-29 19:30:26,655 possible cell types: ['Endothelial', 'Epithelial', 'Fibroblast', 'Malignant', 'Monocyte', 'T cells']\n",
      "2021-03-29 19:30:26,656 using validation key\n"
     ]
    },
    {
     "name": "stdout",
     "output_type": "stream",
     "text": [
      "snATACseq ccrcc_motif_train_ccrcc_motif_val (3000, 633) (3000, 633)\n"
     ]
    },
    {
     "name": "stderr",
     "output_type": "stream",
     "text": [
      "2021-03-29 19:30:28,976 epoch: 1, train loss: 9.228902816772461, val loss: 9.815589904785156\n",
      "2021-03-29 19:30:30,444 epoch: 2, train loss: 7.738187789916992, val loss: 8.117961883544922\n",
      "2021-03-29 19:30:31,915 epoch: 3, train loss: 7.150430202484131, val loss: 7.645640850067139\n",
      "2021-03-29 19:30:33,398 epoch: 4, train loss: 6.748775959014893, val loss: 7.021673202514648\n",
      "2021-03-29 19:30:34,878 epoch: 5, train loss: 6.431192398071289, val loss: 6.555154800415039\n",
      "2021-03-29 19:30:36,354 epoch: 6, train loss: 6.18854284286499, val loss: 6.263713836669922\n",
      "2021-03-29 19:30:37,825 epoch: 7, train loss: 5.992577075958252, val loss: 6.073598861694336\n",
      "2021-03-29 19:30:39,289 epoch: 8, train loss: 5.801839828491211, val loss: 5.892019271850586\n",
      "2021-03-29 19:30:40,745 epoch: 9, train loss: 5.6277265548706055, val loss: 5.745684623718262\n",
      "2021-03-29 19:30:42,210 epoch: 10, train loss: 5.486968517303467, val loss: 5.626704216003418\n",
      "2021-03-29 19:30:43,672 epoch: 11, train loss: 5.358108997344971, val loss: 5.527562141418457\n",
      "2021-03-29 19:30:45,156 epoch: 12, train loss: 5.244219779968262, val loss: 5.432270050048828\n",
      "2021-03-29 19:30:46,621 epoch: 13, train loss: 5.147752285003662, val loss: 5.353055477142334\n",
      "2021-03-29 19:30:48,076 epoch: 14, train loss: 5.052892684936523, val loss: 5.282013416290283\n",
      "2021-03-29 19:30:49,538 epoch: 15, train loss: 4.973069667816162, val loss: 5.210770606994629\n"
     ]
    },
    {
     "name": "stdout",
     "output_type": "stream",
     "text": [
      "True\n"
     ]
    },
    {
     "name": "stderr",
     "output_type": "stream",
     "text": [
      "2021-03-29 19:30:51,839 0 genes in training set are missing from prediction set\n",
      "2021-03-29 19:30:51,983 starting batch 1 of 2\n",
      "2021-03-29 19:30:52,047 0 genes in training set are missing from prediction set\n",
      "2021-03-29 19:30:52,221 starting batch 2 of 2\n",
      "2021-03-29 19:30:52,286 0 genes in training set are missing from prediction set\n"
     ]
    },
    {
     "name": "stdout",
     "output_type": "stream",
     "text": [
      "snATACseq ccrcc_motif_train_gbm_gene_activity_val (3000, 633) (2875, 19891)\n",
      "failed\n",
      "snATACseq ccrcc_motif_train_gbm_motif_val (3000, 633) (2884, 633)\n"
     ]
    },
    {
     "name": "stderr",
     "output_type": "stream",
     "text": [
      "2021-03-29 19:30:53,046 input dataset shape: (5884, 633)\n",
      "2021-03-29 19:30:53,048 possible cell types: ['B cell', 'Endothelial', 'Epithelial', 'Fibroblast', 'Malignant', 'Microglia', 'Monocyte', 'Neuron', 'Oligodendrocytes', 'T cells']\n",
      "2021-03-29 19:30:53,049 using validation key\n",
      "2021-03-29 19:30:55,350 epoch: 1, train loss: 8.240008354187012, val loss: 10.730701446533203\n",
      "2021-03-29 19:30:56,692 epoch: 2, train loss: 7.018274784088135, val loss: 10.241304397583008\n",
      "2021-03-29 19:30:58,045 epoch: 3, train loss: 6.491064071655273, val loss: 9.794795989990234\n",
      "2021-03-29 19:30:59,419 epoch: 4, train loss: 6.236212730407715, val loss: 9.601320266723633\n",
      "2021-03-29 19:31:00,759 epoch: 5, train loss: 6.051827907562256, val loss: 9.32052230834961\n",
      "2021-03-29 19:31:02,131 epoch: 6, train loss: 5.895059585571289, val loss: 9.107036590576172\n",
      "2021-03-29 19:31:03,479 epoch: 7, train loss: 5.737613201141357, val loss: 8.856704711914062\n",
      "2021-03-29 19:31:04,813 epoch: 8, train loss: 5.572751998901367, val loss: 8.573953628540039\n",
      "2021-03-29 19:31:06,173 epoch: 9, train loss: 5.403271198272705, val loss: 8.335436820983887\n",
      "2021-03-29 19:31:07,528 epoch: 10, train loss: 5.250218391418457, val loss: 8.098101615905762\n",
      "2021-03-29 19:31:08,885 epoch: 11, train loss: 5.121832847595215, val loss: 7.893332481384277\n",
      "2021-03-29 19:31:10,220 epoch: 12, train loss: 5.013967037200928, val loss: 7.741214752197266\n",
      "2021-03-29 19:31:11,573 epoch: 13, train loss: 4.920575141906738, val loss: 7.594317436218262\n",
      "2021-03-29 19:31:12,910 epoch: 14, train loss: 4.838067531585693, val loss: 7.469827651977539\n",
      "2021-03-29 19:31:14,288 epoch: 15, train loss: 4.764073371887207, val loss: 7.377786636352539\n"
     ]
    },
    {
     "name": "stdout",
     "output_type": "stream",
     "text": [
      "False\n"
     ]
    },
    {
     "name": "stderr",
     "output_type": "stream",
     "text": [
      "2021-03-29 19:31:16,205 0 genes in training set are missing from prediction set\n",
      "2021-03-29 19:31:16,344 starting batch 1 of 2\n",
      "2021-03-29 19:31:16,398 0 genes in training set are missing from prediction set\n",
      "2021-03-29 19:31:16,558 starting batch 2 of 2\n",
      "2021-03-29 19:31:16,613 0 genes in training set are missing from prediction set\n"
     ]
    },
    {
     "name": "stdout",
     "output_type": "stream",
     "text": [
      "snATACseq gbm_gene_activity_train_brca_gene_activity_val (3390, 19891) (3519, 19891)\n"
     ]
    },
    {
     "name": "stderr",
     "output_type": "stream",
     "text": [
      "2021-03-29 19:31:22,275 input dataset shape: (6909, 19891)\n",
      "2021-03-29 19:31:22,277 possible cell types: ['B cell', 'Dendritic', 'Endothelial', 'Fibroblast', 'Malignant', 'Mast', 'Microglia', 'Monocyte', 'Neuron', 'Oligodendrocytes', 'T cells']\n",
      "2021-03-29 19:31:22,278 using validation key\n",
      "2021-03-29 19:31:31,154 epoch: 1, train loss: 42.82967758178711, val loss: 64.04055786132812\n",
      "2021-03-29 19:31:38,414 epoch: 2, train loss: 42.689693450927734, val loss: 63.924400329589844\n",
      "2021-03-29 19:31:45,607 epoch: 3, train loss: 42.316436767578125, val loss: 63.526981353759766\n",
      "2021-03-29 19:31:52,742 epoch: 4, train loss: 42.05997848510742, val loss: 63.323856353759766\n",
      "2021-03-29 19:31:59,917 epoch: 5, train loss: 41.83797073364258, val loss: 63.23320007324219\n",
      "2021-03-29 19:32:07,162 epoch: 6, train loss: 41.57749557495117, val loss: 63.05408477783203\n",
      "2021-03-29 19:32:14,395 epoch: 7, train loss: 41.376312255859375, val loss: 62.8991813659668\n",
      "2021-03-29 19:32:21,583 epoch: 8, train loss: 41.201480865478516, val loss: 62.74095153808594\n",
      "2021-03-29 19:32:28,769 epoch: 9, train loss: 41.24882888793945, val loss: 62.912479400634766\n",
      "2021-03-29 19:32:35,970 epoch: 10, train loss: 40.905635833740234, val loss: 62.56988525390625\n",
      "2021-03-29 19:32:43,141 epoch: 11, train loss: 40.81599044799805, val loss: 62.593421936035156\n",
      "2021-03-29 19:32:50,391 epoch: 12, train loss: 40.69956588745117, val loss: 62.6268424987793\n",
      "2021-03-29 19:32:57,581 epoch: 13, train loss: 40.55707550048828, val loss: 62.40279769897461\n",
      "2021-03-29 19:33:04,844 epoch: 14, train loss: 40.412967681884766, val loss: 62.38597106933594\n",
      "2021-03-29 19:33:12,022 epoch: 15, train loss: 40.256431579589844, val loss: 62.3936767578125\n"
     ]
    },
    {
     "name": "stdout",
     "output_type": "stream",
     "text": [
      "False\n"
     ]
    },
    {
     "name": "stderr",
     "output_type": "stream",
     "text": [
      "2021-03-29 19:33:17,323 0 genes in training set are missing from prediction set\n",
      "2021-03-29 19:33:17,847 starting batch 1 of 2\n",
      "2021-03-29 19:33:18,034 0 genes in training set are missing from prediction set\n",
      "2021-03-29 19:33:27,595 starting batch 2 of 2\n",
      "2021-03-29 19:33:27,685 0 genes in training set are missing from prediction set\n"
     ]
    },
    {
     "name": "stdout",
     "output_type": "stream",
     "text": [
      "snATACseq gbm_gene_activity_train_brca_motif_val (3390, 19891) (3519, 633)\n",
      "failed\n",
      "snATACseq gbm_gene_activity_train_ccrcc_gene_activity_val (3390, 19891) (3000, 19843)\n"
     ]
    },
    {
     "name": "stderr",
     "output_type": "stream",
     "text": [
      "2021-03-29 19:33:36,791 input dataset shape: (6390, 19815)\n",
      "2021-03-29 19:33:36,793 possible cell types: ['B cell', 'Endothelial', 'Epithelial', 'Fibroblast', 'Malignant', 'Microglia', 'Monocyte', 'Neuron', 'Oligodendrocytes', 'T cells']\n",
      "2021-03-29 19:33:36,794 using validation key\n",
      "2021-03-29 19:33:46,448 epoch: 1, train loss: 50.80326843261719, val loss: 34.03038024902344\n",
      "2021-03-29 19:33:53,608 epoch: 2, train loss: 50.58797836303711, val loss: 33.946754455566406\n",
      "2021-03-29 19:34:00,802 epoch: 3, train loss: 50.04458999633789, val loss: 33.79859161376953\n",
      "2021-03-29 19:34:07,973 epoch: 4, train loss: 49.82723617553711, val loss: 33.80309295654297\n",
      "2021-03-29 19:34:15,088 epoch: 5, train loss: 49.50973892211914, val loss: 33.70692443847656\n",
      "2021-03-29 19:34:22,165 epoch: 6, train loss: 49.15999984741211, val loss: 33.63518524169922\n",
      "2021-03-29 19:34:29,195 epoch: 7, train loss: 48.893978118896484, val loss: 33.597721099853516\n",
      "2021-03-29 19:34:36,266 epoch: 8, train loss: 48.70989227294922, val loss: 33.58793258666992\n",
      "2021-03-29 19:34:43,375 epoch: 9, train loss: 48.493499755859375, val loss: 33.53948974609375\n",
      "2021-03-29 19:34:50,490 epoch: 10, train loss: 48.35835266113281, val loss: 33.54819107055664\n",
      "2021-03-29 19:34:57,629 epoch: 11, train loss: 48.25394821166992, val loss: 33.51804733276367\n",
      "2021-03-29 19:35:04,708 epoch: 12, train loss: 48.234493255615234, val loss: 33.641571044921875\n",
      "2021-03-29 19:35:11,895 epoch: 13, train loss: 47.93463134765625, val loss: 33.50847625732422\n",
      "2021-03-29 19:35:19,000 epoch: 14, train loss: 47.69287109375, val loss: 33.48175811767578\n",
      "2021-03-29 19:35:26,123 epoch: 15, train loss: 47.74625778198242, val loss: 33.555824279785156\n"
     ]
    },
    {
     "name": "stdout",
     "output_type": "stream",
     "text": [
      "False\n"
     ]
    },
    {
     "name": "stderr",
     "output_type": "stream",
     "text": [
      "2021-03-29 19:35:30,979 0 genes in training set are missing from prediction set\n",
      "2021-03-29 19:35:31,358 starting batch 1 of 2\n",
      "2021-03-29 19:35:31,496 0 genes in training set are missing from prediction set\n",
      "2021-03-29 19:35:39,570 starting batch 2 of 2\n",
      "2021-03-29 19:35:39,648 0 genes in training set are missing from prediction set\n"
     ]
    },
    {
     "name": "stdout",
     "output_type": "stream",
     "text": [
      "snATACseq gbm_gene_activity_train_ccrcc_motif_val (3390, 19891) (3000, 633)\n",
      "failed\n",
      "snATACseq gbm_gene_activity_train_gbm_gene_activity_val (3390, 19891) (2875, 19891)\n"
     ]
    },
    {
     "name": "stderr",
     "output_type": "stream",
     "text": [
      "2021-03-29 19:35:45,984 input dataset shape: (6265, 19891)\n",
      "2021-03-29 19:35:45,986 possible cell types: ['B cell', 'Endothelial', 'Fibroblast', 'Malignant', 'Microglia', 'Neuron', 'Oligodendrocytes', 'T cells']\n",
      "2021-03-29 19:35:45,987 using validation key\n",
      "2021-03-29 19:35:54,960 epoch: 1, train loss: 46.644935607910156, val loss: 32.53227996826172\n",
      "2021-03-29 19:36:02,082 epoch: 2, train loss: 46.45624923706055, val loss: 32.34149932861328\n",
      "2021-03-29 19:36:09,252 epoch: 3, train loss: 46.004913330078125, val loss: 32.18382263183594\n",
      "2021-03-29 19:36:16,370 epoch: 4, train loss: 45.77650833129883, val loss: 32.11737823486328\n",
      "2021-03-29 19:36:23,538 epoch: 5, train loss: 45.50642013549805, val loss: 31.974498748779297\n",
      "2021-03-29 19:36:30,678 epoch: 6, train loss: 45.21806716918945, val loss: 31.89142608642578\n",
      "2021-03-29 19:36:37,845 epoch: 7, train loss: 44.969417572021484, val loss: 31.789505004882812\n",
      "2021-03-29 19:36:45,001 epoch: 8, train loss: 44.78163146972656, val loss: 31.761621475219727\n",
      "2021-03-29 19:36:52,048 epoch: 9, train loss: 44.62556838989258, val loss: 31.711326599121094\n",
      "2021-03-29 19:36:59,211 epoch: 10, train loss: 44.643192291259766, val loss: 31.7764892578125\n",
      "2021-03-29 19:37:06,342 epoch: 11, train loss: 44.36051559448242, val loss: 31.70884132385254\n",
      "2021-03-29 19:37:13,493 epoch: 12, train loss: 44.22739791870117, val loss: 31.691232681274414\n",
      "2021-03-29 19:37:20,672 epoch: 13, train loss: 44.04348373413086, val loss: 31.64259910583496\n",
      "2021-03-29 19:37:28,003 epoch: 14, train loss: 43.856266021728516, val loss: 31.64273452758789\n",
      "2021-03-29 19:37:35,191 epoch: 15, train loss: 43.7252082824707, val loss: 31.64159393310547\n"
     ]
    },
    {
     "name": "stdout",
     "output_type": "stream",
     "text": [
      "True\n"
     ]
    },
    {
     "name": "stderr",
     "output_type": "stream",
     "text": [
      "2021-03-29 19:37:41,185 0 genes in training set are missing from prediction set\n",
      "2021-03-29 19:37:41,691 starting batch 1 of 2\n",
      "2021-03-29 19:37:41,843 0 genes in training set are missing from prediction set\n",
      "2021-03-29 19:37:50,071 starting batch 2 of 2\n",
      "2021-03-29 19:37:50,159 0 genes in training set are missing from prediction set\n"
     ]
    },
    {
     "name": "stdout",
     "output_type": "stream",
     "text": [
      "snATACseq gbm_gene_activity_train_gbm_motif_val (3390, 19891) (2884, 633)\n",
      "failed\n",
      "snATACseq gbm_motif_train_brca_gene_activity_val (3381, 633) (3519, 19891)\n",
      "failed\n"
     ]
    },
    {
     "name": "stderr",
     "output_type": "stream",
     "text": [
      "2021-03-29 19:37:52,750 input dataset shape: (6900, 633)\n",
      "2021-03-29 19:37:52,752 possible cell types: ['B cell', 'Dendritic', 'Endothelial', 'Fibroblast', 'Malignant', 'Mast', 'Microglia', 'Monocyte', 'Neuron', 'Oligodendrocytes', 'T cells']\n",
      "2021-03-29 19:37:52,753 using validation key\n"
     ]
    },
    {
     "name": "stdout",
     "output_type": "stream",
     "text": [
      "snATACseq gbm_motif_train_brca_motif_val (3381, 633) (3519, 633)\n"
     ]
    },
    {
     "name": "stderr",
     "output_type": "stream",
     "text": [
      "2021-03-29 19:37:55,221 epoch: 1, train loss: 9.472312927246094, val loss: 12.052694320678711\n",
      "2021-03-29 19:37:56,756 epoch: 2, train loss: 7.677891731262207, val loss: 8.985247611999512\n",
      "2021-03-29 19:37:58,296 epoch: 3, train loss: 7.127804279327393, val loss: 8.447019577026367\n",
      "2021-03-29 19:37:59,845 epoch: 4, train loss: 6.740544319152832, val loss: 8.12708568572998\n",
      "2021-03-29 19:38:01,363 epoch: 5, train loss: 6.388997554779053, val loss: 7.7296223640441895\n",
      "2021-03-29 19:38:02,891 epoch: 6, train loss: 6.135955333709717, val loss: 7.467185020446777\n",
      "2021-03-29 19:38:04,405 epoch: 7, train loss: 5.929812908172607, val loss: 7.1704912185668945\n",
      "2021-03-29 19:38:05,946 epoch: 8, train loss: 5.7465009689331055, val loss: 6.9373955726623535\n",
      "2021-03-29 19:38:07,485 epoch: 9, train loss: 5.598974704742432, val loss: 6.762215614318848\n",
      "2021-03-29 19:38:08,991 epoch: 10, train loss: 5.466940402984619, val loss: 6.622872829437256\n",
      "2021-03-29 19:38:10,562 epoch: 11, train loss: 5.359436988830566, val loss: 6.485012531280518\n",
      "2021-03-29 19:38:12,090 epoch: 12, train loss: 5.260891437530518, val loss: 6.347963333129883\n",
      "2021-03-29 19:38:13,627 epoch: 13, train loss: 5.170835494995117, val loss: 6.2726359367370605\n",
      "2021-03-29 19:38:15,167 epoch: 14, train loss: 5.089443683624268, val loss: 6.169044494628906\n",
      "2021-03-29 19:38:16,666 epoch: 15, train loss: 5.0127692222595215, val loss: 6.078211784362793\n"
     ]
    },
    {
     "name": "stdout",
     "output_type": "stream",
     "text": [
      "False\n"
     ]
    },
    {
     "name": "stderr",
     "output_type": "stream",
     "text": [
      "2021-03-29 19:38:18,935 0 genes in training set are missing from prediction set\n",
      "2021-03-29 19:38:19,074 starting batch 1 of 2\n",
      "2021-03-29 19:38:19,139 0 genes in training set are missing from prediction set\n",
      "2021-03-29 19:38:19,303 starting batch 2 of 2\n",
      "2021-03-29 19:38:19,366 0 genes in training set are missing from prediction set\n"
     ]
    },
    {
     "name": "stdout",
     "output_type": "stream",
     "text": [
      "snATACseq gbm_motif_train_ccrcc_gene_activity_val (3381, 633) (3000, 19843)\n",
      "failed\n",
      "snATACseq gbm_motif_train_ccrcc_motif_val (3381, 633) (3000, 633)\n"
     ]
    },
    {
     "name": "stderr",
     "output_type": "stream",
     "text": [
      "2021-03-29 19:38:20,329 input dataset shape: (6381, 633)\n",
      "2021-03-29 19:38:20,332 possible cell types: ['B cell', 'Endothelial', 'Epithelial', 'Fibroblast', 'Malignant', 'Microglia', 'Monocyte', 'Neuron', 'Oligodendrocytes', 'T cells']\n",
      "2021-03-29 19:38:20,333 using validation key\n",
      "2021-03-29 19:38:22,926 epoch: 1, train loss: 9.069759368896484, val loss: 7.731391906738281\n",
      "2021-03-29 19:38:24,454 epoch: 2, train loss: 7.6767683029174805, val loss: 6.839583396911621\n",
      "2021-03-29 19:38:25,997 epoch: 3, train loss: 7.092930793762207, val loss: 6.5353875160217285\n",
      "2021-03-29 19:38:27,523 epoch: 4, train loss: 6.668084621429443, val loss: 6.201239109039307\n",
      "2021-03-29 19:38:29,077 epoch: 5, train loss: 6.26027250289917, val loss: 5.895917892456055\n",
      "2021-03-29 19:38:30,608 epoch: 6, train loss: 5.979154586791992, val loss: 5.690249443054199\n",
      "2021-03-29 19:38:32,135 epoch: 7, train loss: 5.779459476470947, val loss: 5.549208641052246\n",
      "2021-03-29 19:38:33,684 epoch: 8, train loss: 5.6075263023376465, val loss: 5.380683898925781\n",
      "2021-03-29 19:38:35,247 epoch: 9, train loss: 5.465083122253418, val loss: 5.276915550231934\n",
      "2021-03-29 19:38:36,782 epoch: 10, train loss: 5.350148677825928, val loss: 5.177480697631836\n",
      "2021-03-29 19:38:38,326 epoch: 11, train loss: 5.23799467086792, val loss: 5.114463806152344\n",
      "2021-03-29 19:38:39,841 epoch: 12, train loss: 5.14276647567749, val loss: 5.052922248840332\n",
      "2021-03-29 19:38:41,366 epoch: 13, train loss: 5.046706199645996, val loss: 4.996868133544922\n",
      "2021-03-29 19:38:42,877 epoch: 14, train loss: 4.975627899169922, val loss: 4.908401966094971\n",
      "2021-03-29 19:38:44,420 epoch: 15, train loss: 4.910358428955078, val loss: 4.906824588775635\n"
     ]
    },
    {
     "name": "stdout",
     "output_type": "stream",
     "text": [
      "False\n"
     ]
    },
    {
     "name": "stderr",
     "output_type": "stream",
     "text": [
      "2021-03-29 19:38:46,594 0 genes in training set are missing from prediction set\n",
      "2021-03-29 19:38:46,742 starting batch 1 of 2\n",
      "2021-03-29 19:38:46,807 0 genes in training set are missing from prediction set\n",
      "2021-03-29 19:38:46,982 starting batch 2 of 2\n",
      "2021-03-29 19:38:47,045 0 genes in training set are missing from prediction set\n"
     ]
    },
    {
     "name": "stdout",
     "output_type": "stream",
     "text": [
      "snATACseq gbm_motif_train_gbm_gene_activity_val (3381, 633) (2875, 19891)\n",
      "failed\n",
      "snATACseq gbm_motif_train_gbm_motif_val (3381, 633) (2884, 633)\n"
     ]
    },
    {
     "name": "stderr",
     "output_type": "stream",
     "text": [
      "2021-03-29 19:38:47,754 input dataset shape: (6265, 633)\n",
      "2021-03-29 19:38:47,756 possible cell types: ['B cell', 'Endothelial', 'Fibroblast', 'Malignant', 'Microglia', 'Neuron', 'Oligodendrocytes', 'T cells']\n",
      "2021-03-29 19:38:47,757 using validation key\n",
      "2021-03-29 19:38:50,328 epoch: 1, train loss: 9.266752243041992, val loss: 8.322961807250977\n",
      "2021-03-29 19:38:51,921 epoch: 2, train loss: 7.646029949188232, val loss: 7.193948268890381\n",
      "2021-03-29 19:38:53,509 epoch: 3, train loss: 7.0615057945251465, val loss: 6.713696479797363\n",
      "2021-03-29 19:38:55,099 epoch: 4, train loss: 6.682766437530518, val loss: 6.4473748207092285\n",
      "2021-03-29 19:38:56,701 epoch: 5, train loss: 6.319805145263672, val loss: 6.157022953033447\n",
      "2021-03-29 19:38:58,321 epoch: 6, train loss: 6.051654815673828, val loss: 5.919748306274414\n",
      "2021-03-29 19:38:59,910 epoch: 7, train loss: 5.83771276473999, val loss: 5.739931583404541\n",
      "2021-03-29 19:39:01,497 epoch: 8, train loss: 5.674844264984131, val loss: 5.623539924621582\n",
      "2021-03-29 19:39:03,083 epoch: 9, train loss: 5.538562297821045, val loss: 5.5069169998168945\n",
      "2021-03-29 19:39:04,650 epoch: 10, train loss: 5.418018341064453, val loss: 5.417050361633301\n",
      "2021-03-29 19:39:06,261 epoch: 11, train loss: 5.307043552398682, val loss: 5.323129653930664\n",
      "2021-03-29 19:39:07,850 epoch: 12, train loss: 5.2079339027404785, val loss: 5.243927478790283\n",
      "2021-03-29 19:39:09,435 epoch: 13, train loss: 5.1201043128967285, val loss: 5.163958549499512\n",
      "2021-03-29 19:39:11,022 epoch: 14, train loss: 5.036986351013184, val loss: 5.089704513549805\n",
      "2021-03-29 19:39:12,589 epoch: 15, train loss: 4.968595504760742, val loss: 5.041761875152588\n"
     ]
    },
    {
     "name": "stdout",
     "output_type": "stream",
     "text": [
      "True\n"
     ]
    },
    {
     "name": "stderr",
     "output_type": "stream",
     "text": [
      "2021-03-29 19:39:15,135 0 genes in training set are missing from prediction set\n",
      "2021-03-29 19:39:15,279 starting batch 1 of 2\n",
      "2021-03-29 19:39:15,347 0 genes in training set are missing from prediction set\n",
      "2021-03-29 19:39:15,503 starting batch 2 of 2\n",
      "2021-03-29 19:39:15,568 0 genes in training set are missing from prediction set\n"
     ]
    },
    {
     "name": "stdout",
     "output_type": "stream",
     "text": [
      "snRNAseq brca_train_brca_val (5254, 29175) (4891, 29175)\n"
     ]
    },
    {
     "name": "stderr",
     "output_type": "stream",
     "text": [
      "2021-03-29 19:39:26,171 input dataset shape: (10145, 29175)\n",
      "2021-03-29 19:39:26,173 possible cell types: ['Adipocyte', 'B cell', 'CD4 T cell', 'CD8 T cell', 'Dendritic', 'Endothelial', 'Fibroblast', 'Malignant', 'Mast', 'Monocyte', 'NK', 'Plasma', 'Treg']\n",
      "2021-03-29 19:39:26,174 using validation key\n",
      "2021-03-29 19:39:43,698 epoch: 1, train loss: 42.07243728637695, val loss: 49.87724304199219\n",
      "2021-03-29 19:39:58,767 epoch: 2, train loss: 41.449989318847656, val loss: 48.92787170410156\n",
      "2021-03-29 19:40:13,702 epoch: 3, train loss: 40.808555603027344, val loss: 48.17041015625\n",
      "2021-03-29 19:40:28,638 epoch: 4, train loss: 40.30082321166992, val loss: 47.885276794433594\n",
      "2021-03-29 19:40:43,448 epoch: 5, train loss: 40.0721321105957, val loss: 47.71094512939453\n",
      "2021-03-29 19:40:58,608 epoch: 6, train loss: 39.87150955200195, val loss: 47.57929229736328\n",
      "2021-03-29 19:41:13,619 epoch: 7, train loss: 39.71698760986328, val loss: 47.45453643798828\n",
      "2021-03-29 19:41:28,776 epoch: 8, train loss: 39.519554138183594, val loss: 47.344215393066406\n",
      "2021-03-29 19:41:43,921 epoch: 9, train loss: 39.40052795410156, val loss: 47.22578048706055\n",
      "2021-03-29 19:41:59,368 epoch: 10, train loss: 39.25609588623047, val loss: 47.161678314208984\n",
      "2021-03-29 19:42:14,728 epoch: 11, train loss: 39.14811706542969, val loss: 47.093990325927734\n",
      "2021-03-29 19:42:29,917 epoch: 12, train loss: 39.034141540527344, val loss: 47.023338317871094\n",
      "2021-03-29 19:42:45,129 epoch: 13, train loss: 38.84366989135742, val loss: 46.934844970703125\n",
      "2021-03-29 19:43:00,324 epoch: 14, train loss: 38.72781753540039, val loss: 46.88146209716797\n",
      "2021-03-29 19:43:15,416 epoch: 15, train loss: 38.55044937133789, val loss: 46.8686408996582\n"
     ]
    },
    {
     "name": "stdout",
     "output_type": "stream",
     "text": [
      "True\n"
     ]
    },
    {
     "name": "stderr",
     "output_type": "stream",
     "text": [
      "2021-03-29 19:43:26,921 0 genes in training set are missing from prediction set\n",
      "2021-03-29 19:43:27,617 starting batch 1 of 2\n",
      "2021-03-29 19:43:27,757 0 genes in training set are missing from prediction set\n",
      "2021-03-29 19:43:34,133 starting batch 2 of 2\n",
      "2021-03-29 19:43:34,258 0 genes in training set are missing from prediction set\n"
     ]
    },
    {
     "name": "stdout",
     "output_type": "stream",
     "text": [
      "snRNAseq brca_train_ccrcc_val (5254, 29175) (4525, 33538)\n"
     ]
    },
    {
     "name": "stderr",
     "output_type": "stream",
     "text": [
      "2021-03-29 19:43:51,315 input dataset shape: (9779, 29175)\n",
      "2021-03-29 19:43:51,317 possible cell types: ['Adipocyte', 'B cell', 'CD4 T cell', 'CD8 T cell', 'Dendritic', 'Endothelial', 'Epithelial', 'Fibroblast', 'Malignant', 'Mast', 'Monocyte', 'NK', 'Plasma', 'Treg']\n",
      "2021-03-29 19:43:51,318 using validation key\n",
      "2021-03-29 19:44:08,353 epoch: 1, train loss: 41.076332092285156, val loss: 54.77976608276367\n",
      "2021-03-29 19:44:22,897 epoch: 2, train loss: 40.70975875854492, val loss: 54.16603088378906\n",
      "2021-03-29 19:44:37,433 epoch: 3, train loss: 40.151275634765625, val loss: 53.60441970825195\n",
      "2021-03-29 19:44:51,719 epoch: 4, train loss: 39.6126594543457, val loss: 53.29629135131836\n",
      "2021-03-29 19:45:06,312 epoch: 5, train loss: 39.29072570800781, val loss: 53.26311111450195\n",
      "2021-03-29 19:45:20,810 epoch: 6, train loss: 39.077030181884766, val loss: 53.211708068847656\n",
      "2021-03-29 19:45:35,430 epoch: 7, train loss: 39.0013313293457, val loss: 53.17617416381836\n",
      "2021-03-29 19:45:49,826 epoch: 8, train loss: 38.78858947753906, val loss: 53.12321472167969\n",
      "2021-03-29 19:46:04,330 epoch: 9, train loss: 38.669734954833984, val loss: 53.095314025878906\n",
      "2021-03-29 19:46:19,532 epoch: 10, train loss: 38.58497619628906, val loss: 53.03339385986328\n",
      "2021-03-29 19:46:34,400 epoch: 11, train loss: 38.370880126953125, val loss: 52.96426773071289\n",
      "2021-03-29 19:46:49,434 epoch: 12, train loss: 38.3055419921875, val loss: 52.97932052612305\n",
      "2021-03-29 19:47:04,557 epoch: 13, train loss: 38.16305160522461, val loss: 52.94847106933594\n",
      "2021-03-29 19:47:19,485 epoch: 14, train loss: 38.12558364868164, val loss: 52.93601989746094\n",
      "2021-03-29 19:47:34,535 epoch: 15, train loss: 37.88292694091797, val loss: 52.96767044067383\n"
     ]
    },
    {
     "name": "stdout",
     "output_type": "stream",
     "text": [
      "False\n"
     ]
    },
    {
     "name": "stderr",
     "output_type": "stream",
     "text": [
      "2021-03-29 19:47:43,865 0 genes in training set are missing from prediction set\n",
      "2021-03-29 19:47:44,546 starting batch 1 of 2\n",
      "2021-03-29 19:47:44,677 0 genes in training set are missing from prediction set\n",
      "2021-03-29 19:47:51,356 starting batch 2 of 2\n",
      "2021-03-29 19:47:51,479 0 genes in training set are missing from prediction set\n"
     ]
    },
    {
     "name": "stdout",
     "output_type": "stream",
     "text": [
      "snRNAseq brca_train_gbm_val (5254, 29175) (3554, 29748)\n"
     ]
    },
    {
     "name": "stderr",
     "output_type": "stream",
     "text": [
      "2021-03-29 19:48:06,236 input dataset shape: (8808, 28713)\n",
      "2021-03-29 19:48:06,238 possible cell types: ['Adipocyte', 'B cell', 'CD4 T cell', 'CD8 T cell', 'Dendritic', 'Endothelial', 'Fibroblast', 'Malignant', 'Mast', 'Microglia', 'Monocyte', 'NK', 'Neuron', 'Oligodendrocytes', 'Plasma', 'T cells', 'Treg']\n",
      "2021-03-29 19:48:06,239 using validation key\n",
      "2021-03-29 19:48:23,202 epoch: 1, train loss: 43.71079635620117, val loss: 43.03593444824219\n",
      "2021-03-29 19:48:37,372 epoch: 2, train loss: 42.99290084838867, val loss: 42.676963806152344\n",
      "2021-03-29 19:48:51,613 epoch: 3, train loss: 42.39483642578125, val loss: 42.526283264160156\n",
      "2021-03-29 19:49:05,790 epoch: 4, train loss: 41.90628433227539, val loss: 42.440460205078125\n",
      "2021-03-29 19:49:20,211 epoch: 5, train loss: 41.58183288574219, val loss: 42.40070724487305\n",
      "2021-03-29 19:49:35,348 epoch: 6, train loss: 41.424888610839844, val loss: 42.35060501098633\n",
      "2021-03-29 19:49:49,703 epoch: 7, train loss: 41.24309158325195, val loss: 42.31861114501953\n",
      "2021-03-29 19:50:04,163 epoch: 8, train loss: 41.1111946105957, val loss: 42.34739685058594\n",
      "2021-03-29 19:50:18,542 epoch: 9, train loss: 40.88306427001953, val loss: 42.27375793457031\n",
      "2021-03-29 19:50:32,959 epoch: 10, train loss: 40.74167251586914, val loss: 42.26759338378906\n",
      "2021-03-29 19:50:47,449 epoch: 11, train loss: 40.62196731567383, val loss: 42.257179260253906\n",
      "2021-03-29 19:51:01,887 epoch: 12, train loss: 40.431400299072266, val loss: 42.219635009765625\n",
      "2021-03-29 19:51:16,199 epoch: 13, train loss: 40.3187370300293, val loss: 42.22732925415039\n",
      "2021-03-29 19:51:30,619 epoch: 14, train loss: 40.236846923828125, val loss: 42.260562896728516\n",
      "2021-03-29 19:51:45,256 epoch: 15, train loss: 40.00858688354492, val loss: 42.243934631347656\n"
     ]
    },
    {
     "name": "stdout",
     "output_type": "stream",
     "text": [
      "False\n"
     ]
    },
    {
     "name": "stderr",
     "output_type": "stream",
     "text": [
      "2021-03-29 19:51:54,397 0 genes in training set are missing from prediction set\n",
      "2021-03-29 19:51:55,079 starting batch 1 of 2\n",
      "2021-03-29 19:51:55,216 0 genes in training set are missing from prediction set\n",
      "2021-03-29 19:52:01,673 starting batch 2 of 2\n",
      "2021-03-29 19:52:01,778 0 genes in training set are missing from prediction set\n"
     ]
    },
    {
     "name": "stdout",
     "output_type": "stream",
     "text": [
      "snRNAseq ccrcc_train_brca_val (4747, 33538) (4891, 29175)\n"
     ]
    },
    {
     "name": "stderr",
     "output_type": "stream",
     "text": [
      "2021-03-29 19:52:14,989 input dataset shape: (9638, 29175)\n",
      "2021-03-29 19:52:14,991 possible cell types: ['Adipocyte', 'B cell', 'CD4 T cell', 'CD8 T cell', 'Dendritic', 'Endothelial', 'Epithelial', 'Fibroblast', 'Malignant', 'Mast', 'Monocyte', 'NK', 'Plasma', 'Treg']\n",
      "2021-03-29 19:52:14,992 using validation key\n",
      "2021-03-29 19:52:31,119 epoch: 1, train loss: 36.343116760253906, val loss: 50.280357360839844\n",
      "2021-03-29 19:52:44,407 epoch: 2, train loss: 35.616615295410156, val loss: 50.03634262084961\n",
      "2021-03-29 19:52:57,640 epoch: 3, train loss: 34.86154556274414, val loss: 49.84489440917969\n",
      "2021-03-29 19:53:11,041 epoch: 4, train loss: 34.619022369384766, val loss: 49.733802795410156\n",
      "2021-03-29 19:53:24,363 epoch: 5, train loss: 34.41267395019531, val loss: 49.680885314941406\n",
      "2021-03-29 19:53:37,706 epoch: 6, train loss: 34.278724670410156, val loss: 49.626522064208984\n",
      "2021-03-29 19:53:51,057 epoch: 7, train loss: 34.114501953125, val loss: 49.597957611083984\n",
      "2021-03-29 19:54:04,490 epoch: 8, train loss: 33.82075881958008, val loss: 49.56414031982422\n",
      "2021-03-29 19:54:17,881 epoch: 9, train loss: 33.70708084106445, val loss: 49.50279235839844\n",
      "2021-03-29 19:54:31,186 epoch: 10, train loss: 33.56831741333008, val loss: 49.473934173583984\n",
      "2021-03-29 19:54:44,582 epoch: 11, train loss: 33.386512756347656, val loss: 49.488800048828125\n",
      "2021-03-29 19:54:58,172 epoch: 12, train loss: 33.27839279174805, val loss: 49.494483947753906\n",
      "2021-03-29 19:55:11,593 epoch: 13, train loss: 33.160213470458984, val loss: 49.4703369140625\n",
      "2021-03-29 19:55:25,193 epoch: 14, train loss: 33.0104866027832, val loss: 49.45024108886719\n",
      "2021-03-29 19:55:38,788 epoch: 15, train loss: 32.99665832519531, val loss: 49.476280212402344\n"
     ]
    },
    {
     "name": "stdout",
     "output_type": "stream",
     "text": [
      "False\n"
     ]
    },
    {
     "name": "stderr",
     "output_type": "stream",
     "text": [
      "2021-03-29 19:55:47,489 0 genes in training set are missing from prediction set\n",
      "2021-03-29 19:55:48,177 starting batch 1 of 2\n",
      "2021-03-29 19:55:48,294 0 genes in training set are missing from prediction set\n",
      "2021-03-29 19:55:54,670 starting batch 2 of 2\n",
      "2021-03-29 19:55:54,775 0 genes in training set are missing from prediction set\n"
     ]
    },
    {
     "name": "stdout",
     "output_type": "stream",
     "text": [
      "snRNAseq ccrcc_train_ccrcc_val (4747, 33538) (4525, 33538)\n"
     ]
    },
    {
     "name": "stderr",
     "output_type": "stream",
     "text": [
      "2021-03-29 19:56:11,939 input dataset shape: (9272, 33538)\n",
      "2021-03-29 19:56:11,942 possible cell types: ['CD4 T cell', 'CD8 T cell', 'Dendritic', 'Endothelial', 'Epithelial', 'Fibroblast', 'Malignant', 'Monocyte', 'NK', 'Plasma', 'Treg']\n",
      "2021-03-29 19:56:11,943 using validation key\n",
      "2021-03-29 19:56:29,385 epoch: 1, train loss: 40.1624755859375, val loss: 59.25124740600586\n",
      "2021-03-29 19:56:44,016 epoch: 2, train loss: 39.315059661865234, val loss: 57.771034240722656\n",
      "2021-03-29 19:56:58,754 epoch: 3, train loss: 38.94365692138672, val loss: 56.860145568847656\n",
      "2021-03-29 19:57:13,746 epoch: 4, train loss: 38.787803649902344, val loss: 56.48268508911133\n",
      "2021-03-29 19:57:28,715 epoch: 5, train loss: 38.56843948364258, val loss: 56.19133758544922\n",
      "2021-03-29 19:57:43,882 epoch: 6, train loss: 38.125797271728516, val loss: 55.834068298339844\n",
      "2021-03-29 19:57:58,943 epoch: 7, train loss: 38.01652526855469, val loss: 55.56856918334961\n",
      "2021-03-29 19:58:13,911 epoch: 8, train loss: 37.6738395690918, val loss: 55.34806823730469\n",
      "2021-03-29 19:58:28,862 epoch: 9, train loss: 37.725040435791016, val loss: 55.22309875488281\n",
      "2021-03-29 19:58:44,233 epoch: 10, train loss: 37.52384948730469, val loss: 55.10014724731445\n",
      "2021-03-29 19:58:59,258 epoch: 11, train loss: 37.43090057373047, val loss: 55.01858901977539\n",
      "2021-03-29 19:59:14,204 epoch: 12, train loss: 37.199867248535156, val loss: 54.97761535644531\n",
      "2021-03-29 19:59:29,323 epoch: 13, train loss: 37.315773010253906, val loss: 54.92991638183594\n",
      "2021-03-29 19:59:44,313 epoch: 14, train loss: 37.06282424926758, val loss: 54.92441177368164\n",
      "2021-03-29 19:59:59,307 epoch: 15, train loss: 36.90470886230469, val loss: 54.84959411621094\n"
     ]
    },
    {
     "name": "stdout",
     "output_type": "stream",
     "text": [
      "True\n"
     ]
    },
    {
     "name": "stderr",
     "output_type": "stream",
     "text": [
      "2021-03-29 20:00:10,688 0 genes in training set are missing from prediction set\n",
      "2021-03-29 20:00:11,452 starting batch 1 of 2\n",
      "2021-03-29 20:00:11,539 0 genes in training set are missing from prediction set\n",
      "2021-03-29 20:00:18,833 starting batch 2 of 2\n",
      "2021-03-29 20:00:18,949 0 genes in training set are missing from prediction set\n"
     ]
    },
    {
     "name": "stdout",
     "output_type": "stream",
     "text": [
      "snRNAseq ccrcc_train_gbm_val (4747, 33538) (3554, 29748)\n"
     ]
    },
    {
     "name": "stderr",
     "output_type": "stream",
     "text": [
      "2021-03-29 20:00:33,936 input dataset shape: (8301, 29748)\n",
      "2021-03-29 20:00:33,938 possible cell types: ['B cell', 'CD4 T cell', 'CD8 T cell', 'Dendritic', 'Endothelial', 'Epithelial', 'Fibroblast', 'Malignant', 'Microglia', 'Monocyte', 'NK', 'Neuron', 'Oligodendrocytes', 'Plasma', 'T cells', 'Treg']\n",
      "2021-03-29 20:00:33,939 using validation key\n",
      "2021-03-29 20:00:48,361 epoch: 1, train loss: 38.992069244384766, val loss: 44.54145050048828\n",
      "2021-03-29 20:01:00,524 epoch: 2, train loss: 37.920745849609375, val loss: 44.413307189941406\n",
      "2021-03-29 20:01:12,688 epoch: 3, train loss: 37.384944915771484, val loss: 44.29132080078125\n",
      "2021-03-29 20:01:24,778 epoch: 4, train loss: 37.1844482421875, val loss: 44.19805908203125\n",
      "2021-03-29 20:01:36,866 epoch: 5, train loss: 36.90092468261719, val loss: 44.134586334228516\n",
      "2021-03-29 20:01:48,990 epoch: 6, train loss: 36.5786018371582, val loss: 44.07411193847656\n",
      "2021-03-29 20:02:01,244 epoch: 7, train loss: 36.35905838012695, val loss: 44.02925109863281\n",
      "2021-03-29 20:02:13,221 epoch: 8, train loss: 36.16191864013672, val loss: 44.00739288330078\n",
      "2021-03-29 20:02:25,433 epoch: 9, train loss: 36.045982360839844, val loss: 44.00786209106445\n",
      "2021-03-29 20:02:37,650 epoch: 10, train loss: 35.949554443359375, val loss: 43.97489929199219\n",
      "2021-03-29 20:02:49,885 epoch: 11, train loss: 35.68037033081055, val loss: 43.94947814941406\n",
      "2021-03-29 20:03:01,989 epoch: 12, train loss: 35.7851448059082, val loss: 43.96534729003906\n",
      "2021-03-29 20:03:14,143 epoch: 13, train loss: 35.61848449707031, val loss: 43.99014663696289\n",
      "2021-03-29 20:03:26,353 epoch: 14, train loss: 35.3256721496582, val loss: 43.97321319580078\n",
      "2021-03-29 20:03:38,653 epoch: 15, train loss: 35.21920394897461, val loss: 43.935279846191406\n"
     ]
    },
    {
     "name": "stdout",
     "output_type": "stream",
     "text": [
      "False\n"
     ]
    },
    {
     "name": "stderr",
     "output_type": "stream",
     "text": [
      "2021-03-29 20:03:46,998 0 genes in training set are missing from prediction set\n",
      "2021-03-29 20:03:47,689 starting batch 1 of 2\n",
      "2021-03-29 20:03:47,807 0 genes in training set are missing from prediction set\n",
      "2021-03-29 20:03:54,476 starting batch 2 of 2\n",
      "2021-03-29 20:03:54,577 0 genes in training set are missing from prediction set\n"
     ]
    },
    {
     "name": "stdout",
     "output_type": "stream",
     "text": [
      "snRNAseq gbm_train_brca_val (3745, 29748) (4891, 29175)\n"
     ]
    },
    {
     "name": "stderr",
     "output_type": "stream",
     "text": [
      "2021-03-29 20:04:06,695 input dataset shape: (8636, 28713)\n",
      "2021-03-29 20:04:06,697 possible cell types: ['Adipocyte', 'B cell', 'CD4 T cell', 'CD8 T cell', 'Dendritic', 'Endothelial', 'Fibroblast', 'Malignant', 'Mast', 'Microglia', 'Monocyte', 'NK', 'Neuron', 'Oligodendrocytes', 'Plasma', 'T cells', 'Treg']\n",
      "2021-03-29 20:04:06,698 using validation key\n",
      "2021-03-29 20:04:19,529 epoch: 1, train loss: 43.57672119140625, val loss: 53.090301513671875\n",
      "2021-03-29 20:04:30,228 epoch: 2, train loss: 42.820167541503906, val loss: 52.846107482910156\n",
      "2021-03-29 20:04:40,784 epoch: 3, train loss: 42.024444580078125, val loss: 52.67784881591797\n",
      "2021-03-29 20:04:51,321 epoch: 4, train loss: 41.60187530517578, val loss: 52.45075607299805\n",
      "2021-03-29 20:05:01,870 epoch: 5, train loss: 41.278968811035156, val loss: 52.275184631347656\n",
      "2021-03-29 20:05:12,488 epoch: 6, train loss: 41.01976776123047, val loss: 52.217445373535156\n",
      "2021-03-29 20:05:23,349 epoch: 7, train loss: 40.79929733276367, val loss: 52.15308380126953\n",
      "2021-03-29 20:05:34,363 epoch: 8, train loss: 40.62316131591797, val loss: 52.0477294921875\n",
      "2021-03-29 20:05:45,045 epoch: 9, train loss: 40.474063873291016, val loss: 52.014671325683594\n",
      "2021-03-29 20:05:55,643 epoch: 10, train loss: 40.31355285644531, val loss: 51.995933532714844\n",
      "2021-03-29 20:06:06,659 epoch: 11, train loss: 40.138431549072266, val loss: 51.972328186035156\n",
      "2021-03-29 20:06:17,436 epoch: 12, train loss: 39.989444732666016, val loss: 51.96610641479492\n",
      "2021-03-29 20:06:28,155 epoch: 13, train loss: 39.83827209472656, val loss: 51.93464660644531\n",
      "2021-03-29 20:06:38,778 epoch: 14, train loss: 39.68575668334961, val loss: 51.953125\n",
      "2021-03-29 20:06:49,754 epoch: 15, train loss: 39.50694274902344, val loss: 51.950618743896484\n"
     ]
    },
    {
     "name": "stdout",
     "output_type": "stream",
     "text": [
      "False\n"
     ]
    },
    {
     "name": "stderr",
     "output_type": "stream",
     "text": [
      "2021-03-29 20:06:56,910 0 genes in training set are missing from prediction set\n",
      "2021-03-29 20:06:57,579 starting batch 1 of 2\n",
      "2021-03-29 20:06:57,678 0 genes in training set are missing from prediction set\n",
      "2021-03-29 20:07:04,132 starting batch 2 of 2\n",
      "2021-03-29 20:07:04,226 0 genes in training set are missing from prediction set\n"
     ]
    },
    {
     "name": "stdout",
     "output_type": "stream",
     "text": [
      "snRNAseq gbm_train_ccrcc_val (3745, 29748) (4525, 33538)\n"
     ]
    },
    {
     "name": "stderr",
     "output_type": "stream",
     "text": [
      "2021-03-29 20:07:20,642 input dataset shape: (8270, 29748)\n",
      "2021-03-29 20:07:20,644 possible cell types: ['B cell', 'CD4 T cell', 'CD8 T cell', 'Dendritic', 'Endothelial', 'Epithelial', 'Fibroblast', 'Malignant', 'Microglia', 'Monocyte', 'NK', 'Neuron', 'Oligodendrocytes', 'Plasma', 'T cells', 'Treg']\n",
      "2021-03-29 20:07:20,645 using validation key\n",
      "2021-03-29 20:07:33,175 epoch: 1, train loss: 44.688148498535156, val loss: 59.05528259277344\n",
      "2021-03-29 20:07:43,175 epoch: 2, train loss: 44.02775192260742, val loss: 58.758094787597656\n",
      "2021-03-29 20:07:53,548 epoch: 3, train loss: 43.206512451171875, val loss: 58.37523651123047\n",
      "2021-03-29 20:08:03,579 epoch: 4, train loss: 42.84215545654297, val loss: 57.98307800292969\n",
      "2021-03-29 20:08:13,649 epoch: 5, train loss: 42.54443359375, val loss: 57.75287628173828\n",
      "2021-03-29 20:08:24,121 epoch: 6, train loss: 42.35531997680664, val loss: 57.60797882080078\n",
      "2021-03-29 20:08:34,558 epoch: 7, train loss: 42.10585021972656, val loss: 57.41252899169922\n",
      "2021-03-29 20:08:45,118 epoch: 8, train loss: 41.93487548828125, val loss: 57.314613342285156\n",
      "2021-03-29 20:08:55,555 epoch: 9, train loss: 41.769229888916016, val loss: 57.263763427734375\n",
      "2021-03-29 20:09:05,904 epoch: 10, train loss: 41.636051177978516, val loss: 57.20647430419922\n",
      "2021-03-29 20:09:16,268 epoch: 11, train loss: 41.45293045043945, val loss: 57.22138977050781\n",
      "2021-03-29 20:09:26,704 epoch: 12, train loss: 41.279541015625, val loss: 57.20849609375\n",
      "2021-03-29 20:09:37,176 epoch: 13, train loss: 41.15434265136719, val loss: 57.198387145996094\n",
      "2021-03-29 20:09:47,347 epoch: 14, train loss: 40.99368667602539, val loss: 57.201385498046875\n",
      "2021-03-29 20:09:57,702 epoch: 15, train loss: 40.80236053466797, val loss: 57.186119079589844\n"
     ]
    },
    {
     "name": "stdout",
     "output_type": "stream",
     "text": [
      "False\n"
     ]
    },
    {
     "name": "stderr",
     "output_type": "stream",
     "text": [
      "2021-03-29 20:10:04,883 0 genes in training set are missing from prediction set\n",
      "2021-03-29 20:10:05,586 starting batch 1 of 2\n",
      "2021-03-29 20:10:05,706 0 genes in training set are missing from prediction set\n",
      "2021-03-29 20:10:12,586 starting batch 2 of 2\n",
      "2021-03-29 20:10:12,659 0 genes in training set are missing from prediction set\n"
     ]
    },
    {
     "name": "stdout",
     "output_type": "stream",
     "text": [
      "snRNAseq gbm_train_gbm_val (3745, 29748) (3554, 29748)\n"
     ]
    },
    {
     "name": "stderr",
     "output_type": "stream",
     "text": [
      "2021-03-29 20:10:27,864 input dataset shape: (7299, 29748)\n",
      "2021-03-29 20:10:27,865 possible cell types: ['B cell', 'Endothelial', 'Fibroblast', 'Malignant', 'Microglia', 'Monocyte', 'Neuron', 'Oligodendrocytes', 'T cells']\n",
      "2021-03-29 20:10:27,866 using validation key\n",
      "2021-03-29 20:10:40,863 epoch: 1, train loss: 48.398319244384766, val loss: 47.211524963378906\n",
      "2021-03-29 20:10:51,454 epoch: 2, train loss: 47.63067626953125, val loss: 46.73516082763672\n",
      "2021-03-29 20:11:01,980 epoch: 3, train loss: 46.666664123535156, val loss: 46.19440841674805\n",
      "2021-03-29 20:11:12,114 epoch: 4, train loss: 46.169090270996094, val loss: 45.935325622558594\n",
      "2021-03-29 20:11:22,591 epoch: 5, train loss: 45.88922119140625, val loss: 45.82231140136719\n",
      "2021-03-29 20:11:33,000 epoch: 6, train loss: 45.67880630493164, val loss: 45.72295379638672\n",
      "2021-03-29 20:11:43,645 epoch: 7, train loss: 45.442447662353516, val loss: 45.66011047363281\n",
      "2021-03-29 20:11:54,174 epoch: 8, train loss: 45.214324951171875, val loss: 45.58021545410156\n",
      "2021-03-29 20:12:04,807 epoch: 9, train loss: 45.01386642456055, val loss: 45.55046844482422\n",
      "2021-03-29 20:12:15,192 epoch: 10, train loss: 44.84663009643555, val loss: 45.475215911865234\n",
      "2021-03-29 20:12:25,710 epoch: 11, train loss: 44.668914794921875, val loss: 45.426513671875\n",
      "2021-03-29 20:12:36,204 epoch: 12, train loss: 44.50539779663086, val loss: 45.390323638916016\n",
      "2021-03-29 20:12:46,751 epoch: 13, train loss: 44.330623626708984, val loss: 45.36188888549805\n",
      "2021-03-29 20:12:57,299 epoch: 14, train loss: 44.136600494384766, val loss: 45.336421966552734\n",
      "2021-03-29 20:13:07,758 epoch: 15, train loss: 43.944339752197266, val loss: 45.318721771240234\n"
     ]
    },
    {
     "name": "stdout",
     "output_type": "stream",
     "text": [
      "True\n"
     ]
    },
    {
     "name": "stderr",
     "output_type": "stream",
     "text": [
      "2021-03-29 20:13:16,126 0 genes in training set are missing from prediction set\n",
      "2021-03-29 20:13:16,820 starting batch 1 of 2\n",
      "2021-03-29 20:13:16,953 0 genes in training set are missing from prediction set\n",
      "2021-03-29 20:13:24,214 starting batch 2 of 2\n",
      "2021-03-29 20:13:24,307 0 genes in training set are missing from prediction set\n"
     ]
    }
   ],
   "source": [
    "run_workflow_for_cross_disease(adata_map, run_pollock_workflow, 'pollock', RESULTS_CROSS_DISEASE_DIR)"
   ]
  },
  {
   "cell_type": "code",
   "execution_count": null,
   "metadata": {},
   "outputs": [],
   "source": [
    "# run_workflow_for_cross_datatype(adata_map, run_pollock_workflow, 'pollock', RESULTS_CROSS_DTYPE_DIR)"
   ]
  },
  {
   "cell_type": "markdown",
   "metadata": {
    "heading_collapsed": true
   },
   "source": [
    "###### testing stuff"
   ]
  },
  {
   "cell_type": "code",
   "execution_count": null,
   "metadata": {
    "hidden": true
   },
   "outputs": [],
   "source": [
    "# a = sc.read_h5ad(adata_map['snATACseq']['gbm']['train'])\n",
    "# a"
   ]
  },
  {
   "cell_type": "code",
   "execution_count": null,
   "metadata": {
    "hidden": true
   },
   "outputs": [],
   "source": [
    "train, val = sc.read_h5ad(adata_map['scRNAseq']['pbmc']['train']), sc.read_h5ad(adata_map['scRNAseq']['brca']['val'])"
   ]
  },
  {
   "cell_type": "code",
   "execution_count": null,
   "metadata": {
    "hidden": true
   },
   "outputs": [],
   "source": [
    "module_dir = os.path.join(SANDBOX_DIR, 'temp_module')"
   ]
  },
  {
   "cell_type": "code",
   "execution_count": null,
   "metadata": {
    "hidden": true
   },
   "outputs": [],
   "source": [
    "train.obs['is_validation'] = [False] * train.shape[0]\n",
    "val.obs['is_validation'] = [True] * val.shape[0]\n",
    "combined = train.concatenate(val)\n",
    "combined"
   ]
  },
  {
   "cell_type": "code",
   "execution_count": null,
   "metadata": {
    "hidden": true
   },
   "outputs": [],
   "source": [
    "train.shape, val.shape"
   ]
  },
  {
   "cell_type": "code",
   "execution_count": null,
   "metadata": {
    "hidden": true
   },
   "outputs": [],
   "source": [
    "np.count_nonzero(combined.obs['is_validation']), np.count_nonzero(~combined.obs['is_validation'])"
   ]
  },
  {
   "cell_type": "code",
   "execution_count": null,
   "metadata": {
    "hidden": true
   },
   "outputs": [],
   "source": [
    "# pds = PollockDataset(train, cell_type_key=CELL_TYPE_KEY,\n",
    "#                      dataset_type='training')"
   ]
  },
  {
   "cell_type": "code",
   "execution_count": null,
   "metadata": {
    "hidden": true
   },
   "outputs": [],
   "source": [
    "val.shape"
   ]
  },
  {
   "cell_type": "code",
   "execution_count": null,
   "metadata": {
    "hidden": true
   },
   "outputs": [],
   "source": [
    "pds = PollockDataset(combined, cell_type_key=CELL_TYPE_KEY,\n",
    "                     dataset_type='training', validation_key='is_validation')"
   ]
  },
  {
   "cell_type": "code",
   "execution_count": null,
   "metadata": {
    "hidden": true
   },
   "outputs": [],
   "source": [
    "pm = PollockModel(pds.cell_types, pds.train_adata.shape[1], alpha=.0001, latent_dim=25)"
   ]
  },
  {
   "cell_type": "code",
   "execution_count": null,
   "metadata": {
    "hidden": true,
    "scrolled": true
   },
   "outputs": [],
   "source": [
    "pm.fit(pds, epochs=2)"
   ]
  },
  {
   "cell_type": "code",
   "execution_count": null,
   "metadata": {
    "hidden": true
   },
   "outputs": [],
   "source": [
    "pm.save(pds, module_dir)"
   ]
  },
  {
   "cell_type": "code",
   "execution_count": null,
   "metadata": {
    "hidden": true
   },
   "outputs": [],
   "source": [
    "val.shape"
   ]
  },
  {
   "cell_type": "code",
   "execution_count": null,
   "metadata": {
    "hidden": true,
    "scrolled": true
   },
   "outputs": [],
   "source": [
    "preds = predict_from_anndata(val.copy(),\n",
    "        '/home/estorrs/pollock/benchmarking/sandbox/temp_module', adata_batch_size=10000)\n",
    "preds"
   ]
  },
  {
   "cell_type": "code",
   "execution_count": null,
   "metadata": {
    "hidden": true
   },
   "outputs": [],
   "source": [
    "df = pd.DataFrame.from_dict({\n",
    "    'cell_id': preds.index.to_list(),\n",
    "    'groundtruth': val.obs.loc[preds.index][CELL_TYPE_KEY].to_list(),\n",
    "    'predicted': preds['predicted_cell_type'],\n",
    "    'probability': preds['cell_type_probability']\n",
    "})\n",
    "df"
   ]
  },
  {
   "cell_type": "markdown",
   "metadata": {
    "heading_collapsed": true
   },
   "source": [
    "##### scanpy ingest"
   ]
  },
  {
   "cell_type": "code",
   "execution_count": null,
   "metadata": {
    "hidden": true
   },
   "outputs": [],
   "source": [
    "def ingest_preprocess(adata):\n",
    "    adata.var['mt'] = adata.var_names.str.startswith('MT-')\n",
    "    sc.pp.calculate_qc_metrics(adata, qc_vars=['mt'], percent_top=None, log1p=False, inplace=True)\n",
    "    sc.pp.normalize_total(adata, target_sum=1e4)\n",
    "    sc.pp.log1p(adata)\n",
    "    sc.pp.highly_variable_genes(adata, flavor=\"seurat\", n_top_genes=2500)\n",
    "    adata.raw = adata\n",
    "    adata = adata[:, adata.var.highly_variable]\n",
    "    sc.pp.regress_out(adata, ['total_counts', 'pct_counts_mt'])\n",
    "    sc.pp.scale(adata)\n",
    "    \n",
    "    return adata\n",
    "\n",
    "def run_scanpy_workflow(train, val, cell_type_key):\n",
    "    var_names = train.var_names.intersection(val.var_names)\n",
    "    train = train[:, var_names]\n",
    "    val = val[:, var_names]\n",
    "    \n",
    "    groundtruth = val.obs[cell_type_key].to_list()\n",
    "\n",
    "    sc.pp.pca(train)\n",
    "    sc.pp.neighbors(train)\n",
    "    sc.tl.umap(train)\n",
    "    \n",
    "    sc.tl.ingest(val, train, obs=cell_type_key)\n",
    "    \n",
    "    df = pd.DataFrame.from_dict({\n",
    "        'cell_id': val.obs.index.to_list(),\n",
    "        'groundtruth': groundtruth,\n",
    "        'predicted': val.obs[cell_type_key].to_list(),\n",
    "        'probability': [np.nan] * val.shape[0]\n",
    "    })\n",
    "    \n",
    "    return df"
   ]
  },
  {
   "cell_type": "code",
   "execution_count": null,
   "metadata": {
    "hidden": true,
    "scrolled": true
   },
   "outputs": [],
   "source": [
    "run_workflow_for_datasets(adata_map, run_scanpy_workflow, 'scanpy_ingest', RESULTS_DIR)"
   ]
  },
  {
   "cell_type": "code",
   "execution_count": null,
   "metadata": {
    "hidden": true,
    "scrolled": true
   },
   "outputs": [],
   "source": [
    "run_workflow_for_cross_disease(adata_map, run_scanpy_workflow, 'scanpy_ingest', RESULTS_CROSS_DISEASE_DIR)"
   ]
  },
  {
   "cell_type": "code",
   "execution_count": null,
   "metadata": {
    "hidden": true
   },
   "outputs": [],
   "source": [
    "# run_workflow_for_cross_datatype(adata_map, run_scanpy_workflow, 'scanpy_ingest', RESULTS_CROSS_DTYPE_DIR)"
   ]
  },
  {
   "cell_type": "markdown",
   "metadata": {
    "heading_collapsed": true,
    "hidden": true
   },
   "source": [
    "###### testing stuff"
   ]
  },
  {
   "cell_type": "code",
   "execution_count": null,
   "metadata": {
    "hidden": true
   },
   "outputs": [],
   "source": [
    "train, val = adata_map['scRNAseq']['pbmc']['train'].copy(), adata_map['scRNAseq']['pbmc']['val'].copy()"
   ]
  },
  {
   "cell_type": "code",
   "execution_count": null,
   "metadata": {
    "hidden": true
   },
   "outputs": [],
   "source": [
    "train, val = ingest_preprocess(train), ingest_preprocess(val)\n",
    "\n",
    "var_names = train.var_names.intersection(val.var_names)\n",
    "train = train[:, var_names]\n",
    "val = val[:, var_names]\n",
    "\n",
    "sc.pp.pca(train)\n",
    "sc.pp.neighbors(train)\n",
    "sc.tl.umap(train)"
   ]
  },
  {
   "cell_type": "code",
   "execution_count": null,
   "metadata": {
    "hidden": true
   },
   "outputs": [],
   "source": [
    "sc.pl.umap(train, color='cell_type')"
   ]
  },
  {
   "cell_type": "code",
   "execution_count": null,
   "metadata": {
    "hidden": true
   },
   "outputs": [],
   "source": [
    "sc.tl.ingest(val, train, obs=CELL_TYPE_KEY)\n",
    "val.uns[f'{CELL_TYPE_KEY}_colors'] = train.uns[f'{CELL_TYPE_KEY}_colors']"
   ]
  },
  {
   "cell_type": "code",
   "execution_count": null,
   "metadata": {
    "hidden": true
   },
   "outputs": [],
   "source": [
    "sc.pl.umap(val, color=[CELL_TYPE_KEY], wspace=0.5)\n"
   ]
  },
  {
   "cell_type": "code",
   "execution_count": null,
   "metadata": {
    "hidden": true
   },
   "outputs": [],
   "source": [
    "val"
   ]
  },
  {
   "cell_type": "code",
   "execution_count": null,
   "metadata": {
    "hidden": true
   },
   "outputs": [],
   "source": [
    "val.obs"
   ]
  },
  {
   "cell_type": "markdown",
   "metadata": {},
   "source": [
    "##### ACTINN"
   ]
  },
  {
   "cell_type": "code",
   "execution_count": 6,
   "metadata": {},
   "outputs": [],
   "source": [
    "def run_actinn_workflow(train, val, cell_type_key):\n",
    "    X = train.X.toarray() if 'sparse' in str(type(train.X)) else train.X\n",
    "    train_counts_df = pd.DataFrame(data=X.transpose(), index=train.var.index.to_list(),\n",
    "                        columns=train.obs.index.to_list())\n",
    "    X = val.X.toarray() if 'sparse' in str(type(val.X)) else val.X\n",
    "    val_counts_df = pd.DataFrame(data=X.transpose(), index=val.var.index.to_list(),\n",
    "                        columns=val.obs.index.to_list())\n",
    "    \n",
    "    train_counts_fp = os.path.join(SANDBOX_DIR, 'train_counts.txt')\n",
    "    val_counts_fp = os.path.join(SANDBOX_DIR, 'val_counts.txt')\n",
    "    train_counts_df.to_csv(train_counts_fp, sep='\\t')\n",
    "    val_counts_df.to_csv(val_counts_fp, sep='\\t')\n",
    "    \n",
    "    train_h5_fp = os.path.join(SANDBOX_DIR, 'train.h5')\n",
    "    train_annotations_fp = os.path.join(SANDBOX_DIR, 'train_annotations.txt')\n",
    "    val_h5_fp = os.path.join(SANDBOX_DIR, 'val.h5')\n",
    "\n",
    "    train.obs[[CELL_TYPE_KEY]].to_csv(train_annotations_fp, sep='\\t', index=True, header=False)\n",
    "\n",
    "    subprocess.check_output(('python', ACTINN_FORMAT, '-i', train_counts_fp,\n",
    "                            '-o', train_h5_fp.replace('.h5', ''), '-f', 'txt'))\n",
    "    subprocess.check_output(('python', ACTINN_FORMAT, '-i', val_counts_fp,\n",
    "                            '-o', val_h5_fp.replace('.h5', ''), '-f', 'txt'))\n",
    "    # dont use probablity argument or it breaks\n",
    "    subprocess.check_output(('python', ACTINN_PREDICT, '-trs', train_h5_fp,\n",
    "                            '-trl', train_annotations_fp, '-ts', val_h5_fp))\n",
    "    \n",
    "    prediction_df = pd.read_csv('predicted_label.txt', sep='\\t')\n",
    "    \n",
    "    df = pd.DataFrame.from_dict({\n",
    "        'cell_id': prediction_df['cellname'].to_list(),\n",
    "        'predicted': prediction_df['celltype'].to_list(),\n",
    "        'probability': [np.nan] * prediction_df.shape[0]\n",
    "    })\n",
    "    \n",
    "    df = pd.merge(df, val.obs, left_on='cell_id', right_index=True)\n",
    "    df = df[['cell_id', 'cell_type', 'predicted', 'probability']]\n",
    "    df.columns = ['cell_id', 'groundtruth', 'predicted', 'probability']\n",
    "    \n",
    "    return df\n",
    "    \n",
    "    \n",
    "    \n",
    "    \n"
   ]
  },
  {
   "cell_type": "code",
   "execution_count": 7,
   "metadata": {},
   "outputs": [
    {
     "name": "stdout",
     "output_type": "stream",
     "text": [
      "scRNAseq brca (6105, 27131) (5748, 27131)\n",
      "scRNAseq cesc (4661, 22928) (4276, 22928)\n",
      "scRNAseq hnscc (5287, 26929) (5201, 26929)\n",
      "scRNAseq melanoma (4218, 23452) (3517, 23452)\n"
     ]
    },
    {
     "name": "stderr",
     "output_type": "stream",
     "text": [
      "Traceback (most recent call last):\n",
      "  File \"<ipython-input-5-ce2e432e20b0>\", line 14, in run_workflow_for_datasets\n",
      "    train, val, directory)\n",
      "  File \"<ipython-input-5-ce2e432e20b0>\", line 64, in run_workflow\n",
      "    df = workflow(train, val, CELL_TYPE_KEY)\n",
      "  File \"<ipython-input-6-8b9bf882e9f0>\", line 21, in run_actinn_workflow\n",
      "    '-o', train_h5_fp.replace('.h5', ''), '-f', 'txt'))\n",
      "  File \"/home/estorrs/miniconda3/envs/actinn/lib/python3.7/subprocess.py\", line 411, in check_output\n",
      "    **kwargs).stdout\n",
      "  File \"/home/estorrs/miniconda3/envs/actinn/lib/python3.7/subprocess.py\", line 512, in run\n",
      "    output=stdout, stderr=stderr)\n",
      "subprocess.CalledProcessError: Command '('python', '/home/estorrs/ACTINN/actinn_format.py', '-i', '/home/estorrs/pollock/benchmarking/sandbox/train_counts.txt', '-o', '/home/estorrs/pollock/benchmarking/sandbox/train', '-f', 'txt')' returned non-zero exit status 1.\n"
     ]
    },
    {
     "name": "stdout",
     "output_type": "stream",
     "text": [
      "None\n",
      "scRNAseq myeloma (3617, 24020) (3312, 24020)\n"
     ]
    },
    {
     "name": "stderr",
     "output_type": "stream",
     "text": [
      "Traceback (most recent call last):\n",
      "  File \"<ipython-input-5-ce2e432e20b0>\", line 14, in run_workflow_for_datasets\n",
      "    train, val, directory)\n",
      "  File \"<ipython-input-5-ce2e432e20b0>\", line 64, in run_workflow\n",
      "    df = workflow(train, val, CELL_TYPE_KEY)\n",
      "  File \"<ipython-input-6-8b9bf882e9f0>\", line 37, in run_actinn_workflow\n",
      "    df = df[['cell_id', 'cell_type', 'predicted', 'probability']]\n",
      "  File \"/home/estorrs/miniconda3/envs/actinn/lib/python3.7/site-packages/pandas/core/frame.py\", line 3030, in __getitem__\n",
      "    indexer = self.loc._get_listlike_indexer(key, axis=1, raise_missing=True)[1]\n",
      "  File \"/home/estorrs/miniconda3/envs/actinn/lib/python3.7/site-packages/pandas/core/indexing.py\", line 1266, in _get_listlike_indexer\n",
      "    self._validate_read_indexer(keyarr, indexer, axis, raise_missing=raise_missing)\n",
      "  File \"/home/estorrs/miniconda3/envs/actinn/lib/python3.7/site-packages/pandas/core/indexing.py\", line 1316, in _validate_read_indexer\n",
      "    raise KeyError(f\"{not_found} not in index\")\n",
      "KeyError: \"['probability'] not in index\"\n"
     ]
    },
    {
     "name": "stdout",
     "output_type": "stream",
     "text": [
      "None\n",
      "scRNAseq pdac (7940, 28756) (7823, 28756)\n",
      "snATACseq brca_gene_activity (3576, 19891) (3519, 19891)\n",
      "snATACseq brca_motif (3576, 633) (3519, 633)\n"
     ]
    },
    {
     "name": "stderr",
     "output_type": "stream",
     "text": [
      "Traceback (most recent call last):\n",
      "  File \"<ipython-input-5-ce2e432e20b0>\", line 14, in run_workflow_for_datasets\n",
      "    train, val, directory)\n",
      "  File \"<ipython-input-5-ce2e432e20b0>\", line 64, in run_workflow\n",
      "    df = workflow(train, val, CELL_TYPE_KEY)\n",
      "  File \"<ipython-input-6-8b9bf882e9f0>\", line 26, in run_actinn_workflow\n",
      "    '-trl', train_annotations_fp, '-ts', val_h5_fp))\n",
      "  File \"/home/estorrs/miniconda3/envs/actinn/lib/python3.7/subprocess.py\", line 411, in check_output\n",
      "    **kwargs).stdout\n",
      "  File \"/home/estorrs/miniconda3/envs/actinn/lib/python3.7/subprocess.py\", line 512, in run\n",
      "    output=stdout, stderr=stderr)\n",
      "subprocess.CalledProcessError: Command '('python', '/home/estorrs/ACTINN/actinn_predict.py', '-trs', '/home/estorrs/pollock/benchmarking/sandbox/train.h5', '-trl', '/home/estorrs/pollock/benchmarking/sandbox/train_annotations.txt', '-ts', '/home/estorrs/pollock/benchmarking/sandbox/val.h5')' returned non-zero exit status 1.\n"
     ]
    },
    {
     "name": "stdout",
     "output_type": "stream",
     "text": [
      "None\n",
      "snATACseq ccrcc_gene_activity (3000, 19843) (3000, 19843)\n",
      "snATACseq ccrcc_motif (3000, 633) (3000, 633)\n"
     ]
    },
    {
     "name": "stderr",
     "output_type": "stream",
     "text": [
      "Traceback (most recent call last):\n",
      "  File \"<ipython-input-5-ce2e432e20b0>\", line 14, in run_workflow_for_datasets\n",
      "    train, val, directory)\n",
      "  File \"<ipython-input-5-ce2e432e20b0>\", line 64, in run_workflow\n",
      "    df = workflow(train, val, CELL_TYPE_KEY)\n",
      "  File \"<ipython-input-6-8b9bf882e9f0>\", line 26, in run_actinn_workflow\n",
      "    '-trl', train_annotations_fp, '-ts', val_h5_fp))\n",
      "  File \"/home/estorrs/miniconda3/envs/actinn/lib/python3.7/subprocess.py\", line 411, in check_output\n",
      "    **kwargs).stdout\n",
      "  File \"/home/estorrs/miniconda3/envs/actinn/lib/python3.7/subprocess.py\", line 512, in run\n",
      "    output=stdout, stderr=stderr)\n",
      "subprocess.CalledProcessError: Command '('python', '/home/estorrs/ACTINN/actinn_predict.py', '-trs', '/home/estorrs/pollock/benchmarking/sandbox/train.h5', '-trl', '/home/estorrs/pollock/benchmarking/sandbox/train_annotations.txt', '-ts', '/home/estorrs/pollock/benchmarking/sandbox/val.h5')' returned non-zero exit status 1.\n"
     ]
    },
    {
     "name": "stdout",
     "output_type": "stream",
     "text": [
      "None\n",
      "snATACseq gbm_gene_activity (3389, 19891) (2876, 19891)\n",
      "snATACseq gbm_motif (3393, 633) (2872, 633)\n"
     ]
    },
    {
     "name": "stderr",
     "output_type": "stream",
     "text": [
      "Traceback (most recent call last):\n",
      "  File \"<ipython-input-5-ce2e432e20b0>\", line 14, in run_workflow_for_datasets\n",
      "    train, val, directory)\n",
      "  File \"<ipython-input-5-ce2e432e20b0>\", line 64, in run_workflow\n",
      "    df = workflow(train, val, CELL_TYPE_KEY)\n",
      "  File \"<ipython-input-6-8b9bf882e9f0>\", line 26, in run_actinn_workflow\n",
      "    '-trl', train_annotations_fp, '-ts', val_h5_fp))\n",
      "  File \"/home/estorrs/miniconda3/envs/actinn/lib/python3.7/subprocess.py\", line 411, in check_output\n",
      "    **kwargs).stdout\n",
      "  File \"/home/estorrs/miniconda3/envs/actinn/lib/python3.7/subprocess.py\", line 512, in run\n",
      "    output=stdout, stderr=stderr)\n",
      "subprocess.CalledProcessError: Command '('python', '/home/estorrs/ACTINN/actinn_predict.py', '-trs', '/home/estorrs/pollock/benchmarking/sandbox/train.h5', '-trl', '/home/estorrs/pollock/benchmarking/sandbox/train_annotations.txt', '-ts', '/home/estorrs/pollock/benchmarking/sandbox/val.h5')' returned non-zero exit status 1.\n"
     ]
    },
    {
     "name": "stdout",
     "output_type": "stream",
     "text": [
      "None\n",
      "snRNAseq brca (5252, 29175) (4893, 29175)\n",
      "snRNAseq ccrcc (4754, 33538) (4518, 33538)\n",
      "snRNAseq gbm (3722, 29748) (3577, 29748)\n"
     ]
    }
   ],
   "source": [
    "ACTINN_FORMAT = '/home/estorrs/ACTINN/actinn_format.py'\n",
    "ACTINN_PREDICT = '/home/estorrs/ACTINN/actinn_predict.py'\n",
    "\n",
    "run_workflow_for_datasets(adata_map, run_actinn_workflow, 'actinn', RESULTS_DIR)"
   ]
  },
  {
   "cell_type": "code",
   "execution_count": 11,
   "metadata": {},
   "outputs": [
    {
     "name": "stdout",
     "output_type": "stream",
     "text": [
      "scRNAseq brca_train_brca_val (6080, 27131) (5773, 27131)\n",
      "scRNAseq brca_train_cesc_val (6080, 27131) (4277, 22928)\n",
      "scRNAseq brca_train_hnscc_val (6080, 27131) (5203, 26929)\n",
      "scRNAseq brca_train_melanoma_val (6080, 27131) (3532, 23452)\n",
      "failed\n",
      "scRNAseq brca_train_myeloma_val (6080, 27131) (3312, 24020)\n",
      "failed\n",
      "scRNAseq brca_train_pbmc_val (6080, 27131) (886, 32738)\n",
      "scRNAseq brca_train_pdac_val (6080, 27131) (7840, 28756)\n",
      "scRNAseq cesc_train_brca_val (4660, 22928) (5773, 27131)\n",
      "scRNAseq cesc_train_cesc_val (4660, 22928) (4277, 22928)\n",
      "scRNAseq cesc_train_hnscc_val (4660, 22928) (5203, 26929)\n",
      "scRNAseq cesc_train_melanoma_val (4660, 22928) (3532, 23452)\n",
      "failed\n",
      "scRNAseq cesc_train_myeloma_val (4660, 22928) (3312, 24020)\n",
      "failed\n",
      "scRNAseq cesc_train_pbmc_val (4660, 22928) (886, 32738)\n",
      "scRNAseq cesc_train_pdac_val (4660, 22928) (7840, 28756)\n",
      "scRNAseq hnscc_train_brca_val (5285, 26929) (5773, 27131)\n",
      "scRNAseq hnscc_train_cesc_val (5285, 26929) (4277, 22928)\n",
      "scRNAseq hnscc_train_hnscc_val (5285, 26929) (5203, 26929)\n",
      "scRNAseq hnscc_train_melanoma_val (5285, 26929) (3532, 23452)\n",
      "failed\n",
      "scRNAseq hnscc_train_myeloma_val (5285, 26929) (3312, 24020)\n",
      "failed\n",
      "scRNAseq hnscc_train_pbmc_val (5285, 26929) (886, 32738)\n",
      "scRNAseq hnscc_train_pdac_val (5285, 26929) (7840, 28756)\n",
      "scRNAseq melanoma_train_brca_val (4203, 23452) (5773, 27131)\n",
      "failed\n",
      "scRNAseq melanoma_train_cesc_val (4203, 23452) (4277, 22928)\n",
      "failed\n",
      "scRNAseq melanoma_train_hnscc_val (4203, 23452) (5203, 26929)\n",
      "failed\n",
      "scRNAseq melanoma_train_melanoma_val (4203, 23452) (3532, 23452)\n",
      "failed\n",
      "scRNAseq melanoma_train_myeloma_val (4203, 23452) (3312, 24020)\n",
      "failed\n",
      "scRNAseq melanoma_train_pbmc_val (4203, 23452) (886, 32738)\n",
      "failed\n",
      "scRNAseq melanoma_train_pdac_val (4203, 23452) (7840, 28756)\n",
      "failed\n",
      "scRNAseq myeloma_train_brca_val (3617, 24020) (5773, 27131)\n",
      "scRNAseq myeloma_train_cesc_val (3617, 24020) (4277, 22928)\n",
      "scRNAseq myeloma_train_hnscc_val (3617, 24020) (5203, 26929)\n",
      "scRNAseq myeloma_train_melanoma_val (3617, 24020) (3532, 23452)\n",
      "failed\n",
      "scRNAseq myeloma_train_myeloma_val (3617, 24020) (3312, 24020)\n",
      "failed\n",
      "scRNAseq myeloma_train_pbmc_val (3617, 24020) (886, 32738)\n",
      "scRNAseq myeloma_train_pdac_val (3617, 24020) (7840, 28756)\n",
      "scRNAseq pbmc_train_brca_val (1609, 32738) (5773, 27131)\n",
      "scRNAseq pbmc_train_cesc_val (1609, 32738) (4277, 22928)\n",
      "scRNAseq pbmc_train_hnscc_val (1609, 32738) (5203, 26929)\n",
      "scRNAseq pbmc_train_melanoma_val (1609, 32738) (3532, 23452)\n",
      "failed\n",
      "scRNAseq pbmc_train_myeloma_val (1609, 32738) (3312, 24020)\n",
      "failed\n",
      "scRNAseq pbmc_train_pbmc_val (1609, 32738) (886, 32738)\n",
      "scRNAseq pbmc_train_pdac_val (1609, 32738) (7840, 28756)\n",
      "scRNAseq pdac_train_brca_val (7923, 28756) (5773, 27131)\n",
      "scRNAseq pdac_train_cesc_val (7923, 28756) (4277, 22928)\n",
      "scRNAseq pdac_train_hnscc_val (7923, 28756) (5203, 26929)\n",
      "scRNAseq pdac_train_melanoma_val (7923, 28756) (3532, 23452)\n",
      "failed\n",
      "scRNAseq pdac_train_myeloma_val (7923, 28756) (3312, 24020)\n",
      "failed\n",
      "scRNAseq pdac_train_pbmc_val (7923, 28756) (886, 32738)\n",
      "scRNAseq pdac_train_pdac_val (7923, 28756) (7840, 28756)\n",
      "snATACseq brca_gene_activity_train_brca_gene_activity_val (3576, 19891) (3519, 19891)\n",
      "snATACseq brca_gene_activity_train_brca_motif_val (3576, 19891) (3519, 633)\n",
      "failed\n",
      "snATACseq brca_gene_activity_train_ccrcc_gene_activity_val (3576, 19891) (3000, 19843)\n",
      "snATACseq brca_gene_activity_train_ccrcc_motif_val (3576, 19891) (3000, 633)\n",
      "failed\n",
      "snATACseq brca_gene_activity_train_gbm_gene_activity_val (3576, 19891) (2875, 19891)\n",
      "snATACseq brca_gene_activity_train_gbm_motif_val (3576, 19891) (2884, 633)\n",
      "failed\n",
      "snATACseq brca_motif_train_brca_gene_activity_val (3576, 633) (3519, 19891)\n",
      "failed\n",
      "snATACseq brca_motif_train_brca_motif_val (3576, 633) (3519, 633)\n",
      "failed\n",
      "snATACseq brca_motif_train_ccrcc_gene_activity_val (3576, 633) (3000, 19843)\n",
      "failed\n",
      "snATACseq brca_motif_train_ccrcc_motif_val (3576, 633) (3000, 633)\n",
      "failed\n",
      "snATACseq brca_motif_train_gbm_gene_activity_val (3576, 633) (2875, 19891)\n",
      "failed\n",
      "snATACseq brca_motif_train_gbm_motif_val (3576, 633) (2884, 633)\n",
      "failed\n",
      "snATACseq ccrcc_gene_activity_train_brca_gene_activity_val (3000, 19843) (3519, 19891)\n",
      "snATACseq ccrcc_gene_activity_train_brca_motif_val (3000, 19843) (3519, 633)\n",
      "failed\n",
      "snATACseq ccrcc_gene_activity_train_ccrcc_gene_activity_val (3000, 19843) (3000, 19843)\n",
      "snATACseq ccrcc_gene_activity_train_ccrcc_motif_val (3000, 19843) (3000, 633)\n",
      "failed\n",
      "snATACseq ccrcc_gene_activity_train_gbm_gene_activity_val (3000, 19843) (2875, 19891)\n",
      "snATACseq ccrcc_gene_activity_train_gbm_motif_val (3000, 19843) (2884, 633)\n",
      "failed\n",
      "snATACseq ccrcc_motif_train_brca_gene_activity_val (3000, 633) (3519, 19891)\n",
      "failed\n",
      "snATACseq ccrcc_motif_train_brca_motif_val (3000, 633) (3519, 633)\n",
      "failed\n",
      "snATACseq ccrcc_motif_train_ccrcc_gene_activity_val (3000, 633) (3000, 19843)\n",
      "failed\n",
      "snATACseq ccrcc_motif_train_ccrcc_motif_val (3000, 633) (3000, 633)\n",
      "failed\n",
      "snATACseq ccrcc_motif_train_gbm_gene_activity_val (3000, 633) (2875, 19891)\n",
      "failed\n",
      "snATACseq ccrcc_motif_train_gbm_motif_val (3000, 633) (2884, 633)\n",
      "failed\n",
      "snATACseq gbm_gene_activity_train_brca_gene_activity_val (3390, 19891) (3519, 19891)\n",
      "snATACseq gbm_gene_activity_train_brca_motif_val (3390, 19891) (3519, 633)\n",
      "failed\n",
      "snATACseq gbm_gene_activity_train_ccrcc_gene_activity_val (3390, 19891) (3000, 19843)\n",
      "snATACseq gbm_gene_activity_train_ccrcc_motif_val (3390, 19891) (3000, 633)\n",
      "failed\n",
      "snATACseq gbm_gene_activity_train_gbm_gene_activity_val (3390, 19891) (2875, 19891)\n",
      "snATACseq gbm_gene_activity_train_gbm_motif_val (3390, 19891) (2884, 633)\n",
      "failed\n",
      "snATACseq gbm_motif_train_brca_gene_activity_val (3381, 633) (3519, 19891)\n",
      "failed\n",
      "snATACseq gbm_motif_train_brca_motif_val (3381, 633) (3519, 633)\n",
      "failed\n",
      "snATACseq gbm_motif_train_ccrcc_gene_activity_val (3381, 633) (3000, 19843)\n",
      "failed\n",
      "snATACseq gbm_motif_train_ccrcc_motif_val (3381, 633) (3000, 633)\n",
      "failed\n",
      "snATACseq gbm_motif_train_gbm_gene_activity_val (3381, 633) (2875, 19891)\n",
      "failed\n",
      "snATACseq gbm_motif_train_gbm_motif_val (3381, 633) (2884, 633)\n",
      "failed\n",
      "snRNAseq brca_train_brca_val (5254, 29175) (4891, 29175)\n",
      "snRNAseq brca_train_ccrcc_val (5254, 29175) (4525, 33538)\n",
      "snRNAseq brca_train_gbm_val (5254, 29175) (3554, 29748)\n",
      "snRNAseq ccrcc_train_brca_val (4747, 33538) (4891, 29175)\n",
      "snRNAseq ccrcc_train_ccrcc_val (4747, 33538) (4525, 33538)\n",
      "snRNAseq ccrcc_train_gbm_val (4747, 33538) (3554, 29748)\n",
      "snRNAseq gbm_train_brca_val (3745, 29748) (4891, 29175)\n",
      "snRNAseq gbm_train_ccrcc_val (3745, 29748) (4525, 33538)\n",
      "snRNAseq gbm_train_gbm_val (3745, 29748) (3554, 29748)\n"
     ]
    }
   ],
   "source": [
    "run_workflow_for_cross_disease(adata_map, run_actinn_workflow, 'actinn', RESULTS_CROSS_DISEASE_DIR)"
   ]
  },
  {
   "cell_type": "markdown",
   "metadata": {
    "heading_collapsed": true
   },
   "source": [
    "###### testing stuff"
   ]
  },
  {
   "cell_type": "code",
   "execution_count": null,
   "metadata": {
    "hidden": true
   },
   "outputs": [],
   "source": []
  },
  {
   "cell_type": "code",
   "execution_count": null,
   "metadata": {
    "hidden": true
   },
   "outputs": [],
   "source": [
    "train, val = adata_map['scRNAseq']['pbmc']['train'].copy(), adata_map['scRNAseq']['pbmc']['val'].copy()"
   ]
  },
  {
   "cell_type": "code",
   "execution_count": null,
   "metadata": {
    "hidden": true
   },
   "outputs": [],
   "source": [
    "# train.obs['dataset'] = ['train'] * train.shape[0]\n",
    "# val.obs['dataset'] = ['val'] * val.shape[0]\n",
    "# combined = train.concatenate(val)\n",
    "# combined"
   ]
  },
  {
   "cell_type": "code",
   "execution_count": null,
   "metadata": {
    "hidden": true
   },
   "outputs": [],
   "source": [
    "train_counts_df = pd.DataFrame(data=train.X.transpose().toarray(), index=train.var.index.to_list(),\n",
    "                        columns=train.obs.index.to_list())\n",
    "val_counts_df = pd.DataFrame(data=val.X.transpose().toarray(), index=val.var.index.to_list(),\n",
    "                        columns=val.obs.index.to_list())\n",
    "train_counts_df"
   ]
  },
  {
   "cell_type": "code",
   "execution_count": null,
   "metadata": {
    "hidden": true
   },
   "outputs": [],
   "source": [
    "train_counts_fp = os.path.join(SANDBOX_DIR, 'train_counts.txt')\n",
    "val_counts_fp = os.path.join(SANDBOX_DIR, 'val_counts.txt')\n",
    "train_counts_df.to_csv(train_counts_fp, sep='\\t')\n",
    "val_counts_df.to_csv(val_counts_fp, sep='\\t')"
   ]
  },
  {
   "cell_type": "markdown",
   "metadata": {
    "hidden": true
   },
   "source": [
    "python actinn_format.py -i input_file -o output_prefix -f format\n",
    "\n",
    "python actinn_format.py -i ./test_data/train_set.txt.gz -o train_set -f txt\n"
   ]
  },
  {
   "cell_type": "code",
   "execution_count": null,
   "metadata": {
    "hidden": true
   },
   "outputs": [],
   "source": [
    "train_h5_fp = os.path.join(SANDBOX_DIR, 'train.h5')\n",
    "train_annotations_fp = os.path.join(SANDBOX_DIR, 'train_annotations.txt')\n",
    "val_h5_fp = os.path.join(SANDBOX_DIR, 'val.h5')\n",
    "\n",
    "train.obs[[CELL_TYPE_KEY]].to_csv(train_annotations_fp, sep='\\t', index=True, header=False)\n",
    "\n",
    "subprocess.check_output(('python', '/home/estorrs/ACTINN/actinn_format.py', '-i', train_counts_fp,\n",
    "                        '-o', train_h5_fp.replace('.h5', ''), '-f', 'txt'))"
   ]
  },
  {
   "cell_type": "code",
   "execution_count": null,
   "metadata": {
    "hidden": true
   },
   "outputs": [],
   "source": [
    "subprocess.check_output(('python', '/home/estorrs/ACTINN/actinn_format.py', '-i', val_counts_fp,\n",
    "                        '-o', val_h5_fp.replace('.h5', ''), '-f', 'txt'))"
   ]
  },
  {
   "cell_type": "code",
   "execution_count": null,
   "metadata": {
    "hidden": true
   },
   "outputs": [],
   "source": [
    "train.obs[[CELL_TYPE_KEY]]"
   ]
  },
  {
   "cell_type": "markdown",
   "metadata": {
    "hidden": true
   },
   "source": [
    "python actinn_predict.py -trs training_set -trl training_label -ts test_set -lr learning_rat -ne num_epoch -ms minibatch_size -pc print_cost -op output_probability\n",
    "\n",
    "\n",
    "-trs Path to the training set, must be HDF5 format with key \"dge\".\n",
    "\n",
    "-trl Path to the training label (the cell types for the training set), must be tab separated text file with no column and row names.\n",
    "\n",
    "-ts Path to test sets, must be HDF5 format with key \"dge\".\n",
    "\n",
    "-lr Learning rate (default: 0.0001). We can increase the learning rate if the cost drops too slow, or decrease the learning rate if the cost drops super fast in the beginning and starts to fluctuate in later epochs.\n",
    "\n",
    "-ne Number of epochs (default: 50). The number of epochs can be determined by looking at the cost after each epoch. If the cost starts to decrease very slowly after ceartain epoch, then the \"ne\" parameter should be set to that epoch number.\n",
    "\n",
    "-ms Minibatch size (default: 128). This parameter can be set larger when training a large dataset.\n",
    "\n",
    "-pc Print cost (default: True). Whether to print cost after each 5 epochs.\n",
    "\n",
    "-op Output probabilities for each cell being the cell types in the training data (default: False).\n"
   ]
  },
  {
   "cell_type": "code",
   "execution_count": null,
   "metadata": {
    "hidden": true
   },
   "outputs": [],
   "source": [
    "subprocess.check_output(('python', '/home/estorrs/ACTINN/actinn_predict.py', '-trs', train_h5_fp,\n",
    "                        '-trl', train_annotations_fp, '-ts', val_h5_fp))"
   ]
  },
  {
   "cell_type": "code",
   "execution_count": null,
   "metadata": {
    "hidden": true
   },
   "outputs": [],
   "source": [
    "' '.join(('python', '/home/estorrs/ACTINN/actinn_predict.py', '-trs', train_h5_fp,\n",
    "                        '-trl', train_annotations_fp, '-ts', val_h5_fp,\n",
    "                        '-op', 'True'))"
   ]
  },
  {
   "cell_type": "code",
   "execution_count": null,
   "metadata": {
    "hidden": true
   },
   "outputs": [],
   "source": [
    "prediction_df = pd.read_csv('predicted_label.txt', sep='\\t')\n",
    "prediction_df"
   ]
  },
  {
   "cell_type": "code",
   "execution_count": null,
   "metadata": {
    "hidden": true
   },
   "outputs": [],
   "source": [
    "df = pd.DataFrame.from_dict({\n",
    "        'cell_id': prediction_df['cellname'].to_list(),\n",
    "        'prediction': prediction_df['celltype'].to_list(),\n",
    "        'probability': [np.nan] * val.shape[0]\n",
    "    })\n",
    "df"
   ]
  },
  {
   "cell_type": "code",
   "execution_count": null,
   "metadata": {
    "hidden": true
   },
   "outputs": [],
   "source": [
    "val.obs"
   ]
  },
  {
   "cell_type": "code",
   "execution_count": null,
   "metadata": {
    "hidden": true
   },
   "outputs": [],
   "source": [
    "df = pd.merge(df, val.obs, left_on='cell_id', right_index=True)\n",
    "df = df[['cell_id', 'cell_type', 'prediction', 'probability']]\n",
    "df.columns = ['cell_id', 'groundtruth', 'prediction', 'probability']\n",
    "df\n"
   ]
  },
  {
   "cell_type": "markdown",
   "metadata": {},
   "source": [
    "##### Seurat"
   ]
  },
  {
   "cell_type": "code",
   "execution_count": null,
   "metadata": {},
   "outputs": [],
   "source": [
    "def run_seurat_transfer(train, val, cell_type_key):\n",
    "    # save the input data for the seurat script\n",
    "    train_counts_fp, val_counts_fp = (os.path.join(SANDBOX_DIR, 'train_counts.txt'),\n",
    "                                        os.path.join(SANDBOX_DIR, 'val_counts.txt'))\n",
    "    train_annotations_fp, val_annotations_fp = (os.path.join(SANDBOX_DIR, 'train_annotations.txt'),\n",
    "                                                os.path.join(SANDBOX_DIR, 'val_annotations.txt'))\n",
    "\n",
    "    ## prepare train and val count matrices\n",
    "    X = train.X.toarray() if 'sparse' in str(type(train.X)) else train.X\n",
    "    train_counts = pd.DataFrame(data=X.transpose().astype(np.int32), index=train.var.index,\n",
    "                                columns=train.obs.index)\n",
    "    train_counts.index.name = ''\n",
    "    # for some reason SCTransform fails if the integer values are too high, so capping them here\n",
    "    cap = pow(2, 14)\n",
    "    train_counts.values[train_counts.values>cap] = cap\n",
    "    train_counts.to_csv(train_counts_fp, sep='\\t', header=True, index=True)\n",
    "    \n",
    "    X = val.X.toarray() if 'sparse' in str(type(val.X)) else val.X\n",
    "    val_counts = pd.DataFrame(data=X.transpose().astype(np.int32), index=val.var.index,\n",
    "                                columns=val.obs.index)\n",
    "    val_counts.index.name = ''\n",
    "    val_counts.values[val_counts.values>cap] = cap\n",
    "    val_counts.to_csv(val_counts_fp, sep='\\t', header=True, index=True)\n",
    "\n",
    "    train.obs[[CELL_TYPE_KEY]].to_csv(train_annotations_fp, sep='\\t', header=False, index=False)\n",
    "    val.obs[[CELL_TYPE_KEY]].to_csv(val_annotations_fp, sep='\\t', header=False, index=False)\n",
    "    \n",
    "    # actually run the script and read the results back in\n",
    "    prediction_fp = os.path.join(SANDBOX_DIR, 'seurat_predictions.txt')\n",
    "    try:\n",
    "        subprocess.check_output(('Rscript', SEURAT_SCRIPT, train_counts_fp, train_annotations_fp,\n",
    "                            val_counts_fp, val_annotations_fp, prediction_fp))\n",
    "    except subprocess.CalledProcessError as e:\n",
    "        print(f'called process error', e)\n",
    "        return pd.DataFrame()\n",
    "    \n",
    "    # format the predictions dataframe\n",
    "    df = pd.read_csv(prediction_fp, sep='\\t')\n",
    "    df.index = [x.replace('.', '-') for x in df.index]\n",
    "    # also remove that weird X thing seurat sometimes puts there if first char is _\n",
    "    df.index = [x[1:] if x[:2]=='X_' else x for x in df.index]\n",
    "    df = pd.merge(df, val.obs, left_index=True, right_index=True)\n",
    "    df['cell_id'] = df.index.to_list()\n",
    "    try:\n",
    "        df = df[['cell_id', 'cell_type', 'predicted.id', 'prediction.score.max']]        \n",
    "        df.columns = ['cell_id', 'groundtruth', 'predicted', 'probability']\n",
    "        return df\n",
    "    except KeyError as e:\n",
    "        print(f'key error', e)\n",
    "        return pd.DataFrame()"
   ]
  },
  {
   "cell_type": "code",
   "execution_count": null,
   "metadata": {
    "scrolled": true
   },
   "outputs": [],
   "source": [
    "SEURAT_SCRIPT = '/home/estorrs/pollock/benchmarking/tools/run_seurat_workflow.R'\n",
    "run_workflow_for_datasets(adata_map, run_seurat_transfer, 'seurat_transfer', RESULTS_DIR)"
   ]
  },
  {
   "cell_type": "code",
   "execution_count": null,
   "metadata": {
    "scrolled": true
   },
   "outputs": [],
   "source": [
    "run_workflow_for_cross_disease(adata_map, run_seurat_transfer, 'seurat_transfer', RESULTS_CROSS_DISEASE_DIR)"
   ]
  },
  {
   "cell_type": "code",
   "execution_count": null,
   "metadata": {
    "scrolled": true
   },
   "outputs": [],
   "source": [
    "# run_workflow_for_cross_datatype(adata_map, run_seurat_transfer, 'seurat_transfer', RESULTS_CROSS_DTYPE_DIR)"
   ]
  },
  {
   "cell_type": "markdown",
   "metadata": {
    "heading_collapsed": true
   },
   "source": [
    "###### testing stuff"
   ]
  },
  {
   "cell_type": "code",
   "execution_count": null,
   "metadata": {
    "hidden": true
   },
   "outputs": [],
   "source": [
    "# train, val = adata_map['scRNAseq']['pbmc']['train'].copy(), adata_map['scRNAseq']['pbmc']['val'].copy()\n",
    "train, val = sc.read_h5ad(adata_map['scRNAseq']['brca']['train']), sc.read_h5ad(adata_map['scRNAseq']['brca']['val'])"
   ]
  },
  {
   "cell_type": "code",
   "execution_count": null,
   "metadata": {
    "hidden": true
   },
   "outputs": [],
   "source": [
    "pow(2, 14)"
   ]
  },
  {
   "cell_type": "code",
   "execution_count": null,
   "metadata": {
    "hidden": true
   },
   "outputs": [],
   "source": [
    "# save the input data for the seurat script\n",
    "train_counts_fp, val_counts_fp = (os.path.join(SANDBOX_DIR, 'train_counts.txt'),\n",
    "                                    os.path.join(SANDBOX_DIR, 'val_counts.txt'))\n",
    "train_annotations_fp, val_annotations_fp = (os.path.join(SANDBOX_DIR, 'train_annotations.txt'),\n",
    "                                            os.path.join(SANDBOX_DIR, 'val_annotations.txt'))\n",
    "\n",
    "## prepare train and val count matrices\n",
    "X = train.X.toarray() if 'sparse' in str(type(train.X)) else train.X\n",
    "train_counts = pd.DataFrame(data=X.transpose().astype(np.int32), index=train.var.index,\n",
    "                            columns=train.obs.index)\n",
    "train_counts.index.name = ''\n",
    "# for some reason SCTransform fails if the integer values are too high, so capping them here\n",
    "cap = pow(2, 14)\n",
    "train_counts.values[train_counts.values>cap] = cap\n",
    "train_counts.to_csv(train_counts_fp, sep='\\t', header=True, index=True)\n",
    "\n",
    "X = val.X.toarray() if 'sparse' in str(type(val.X)) else val.X\n",
    "val_counts = pd.DataFrame(data=X.transpose().astype(np.int32), index=val.var.index,\n",
    "                            columns=val.obs.index)\n",
    "val_counts.index.name = ''\n",
    "val_counts.values[val_counts.values>cap] = cap\n",
    "val_counts.to_csv(val_counts_fp, sep='\\t', header=True, index=True)\n",
    "\n",
    "train.obs[[CELL_TYPE_KEY]].to_csv(train_annotations_fp, sep='\\t', header=False, index=False)\n",
    "val.obs[[CELL_TYPE_KEY]].to_csv(val_annotations_fp, sep='\\t', header=False, index=False)"
   ]
  },
  {
   "cell_type": "code",
   "execution_count": null,
   "metadata": {
    "hidden": true
   },
   "outputs": [],
   "source": [
    "train_counts"
   ]
  },
  {
   "cell_type": "code",
   "execution_count": null,
   "metadata": {
    "hidden": true
   },
   "outputs": [],
   "source": [
    "train_counts"
   ]
  },
  {
   "cell_type": "code",
   "execution_count": null,
   "metadata": {
    "hidden": true
   },
   "outputs": [],
   "source": [
    "type(train_counts.values), type(train_counts.values[0, 0])"
   ]
  },
  {
   "cell_type": "code",
   "execution_count": null,
   "metadata": {
    "hidden": true
   },
   "outputs": [],
   "source": [
    "vals = sorted(set(train_counts.values.flatten()))\n",
    "vals"
   ]
  },
  {
   "cell_type": "code",
   "execution_count": null,
   "metadata": {
    "hidden": true
   },
   "outputs": [],
   "source": [
    "vals[:10], vals[-10:]"
   ]
  },
  {
   "cell_type": "code",
   "execution_count": null,
   "metadata": {
    "hidden": true
   },
   "outputs": [],
   "source": [
    "train_counts.values[train_counts.values>1000] = 1000"
   ]
  },
  {
   "cell_type": "code",
   "execution_count": null,
   "metadata": {
    "hidden": true
   },
   "outputs": [],
   "source": [
    "np.where(train_counts>1)"
   ]
  },
  {
   "cell_type": "code",
   "execution_count": null,
   "metadata": {
    "hidden": true
   },
   "outputs": [],
   "source": [
    "# actually run the script and read the results back in\n",
    "prediction_fp = os.path.join(SANDBOX_DIR, 'seurat_predictions.txt')\n",
    "subprocess.check_output(('Rscript', SEURAT_SCRIPT, train_counts_fp, train_annotations_fp,\n",
    "                    val_counts_fp, val_annotations_fp, prediction_fp))"
   ]
  },
  {
   "cell_type": "code",
   "execution_count": null,
   "metadata": {
    "hidden": true
   },
   "outputs": [],
   "source": [
    "# format the predictions dataframe\n",
    "df = pd.read_csv(prediction_fp, sep='\\t')\n",
    "df.index = [x.replace('.', '-') for x in df.index]\n",
    "# also remove that weird X thing seurat sometimes puts there\n",
    "df.index = [x[1:] if x[:2]=='X_' else x for x in df.index]\n",
    "df = pd.merge(df, val.obs, left_index=True, right_index=True)\n",
    "df['cell_id'] = df.index.to_list()\n",
    "df = df[['cell_id', 'cell_type', 'predicted.id', 'prediction.score.max']]        \n",
    "df.columns = ['cell_id', 'groundtruth', 'predicted', 'probability']\n",
    "df"
   ]
  },
  {
   "cell_type": "code",
   "execution_count": null,
   "metadata": {
    "hidden": true
   },
   "outputs": [],
   "source": [
    "val.obs"
   ]
  },
  {
   "cell_type": "markdown",
   "metadata": {},
   "source": [
    "##### SingleCellNet"
   ]
  },
  {
   "cell_type": "code",
   "execution_count": null,
   "metadata": {},
   "outputs": [],
   "source": [
    "# !pip install git+https://github.com/pcahan1/PySingleCellNet/"
   ]
  },
  {
   "cell_type": "code",
   "execution_count": 15,
   "metadata": {},
   "outputs": [],
   "source": [
    "import pySingleCellNet as pySCN"
   ]
  },
  {
   "cell_type": "code",
   "execution_count": 16,
   "metadata": {},
   "outputs": [],
   "source": [
    "import scipy"
   ]
  },
  {
   "cell_type": "code",
   "execution_count": 17,
   "metadata": {},
   "outputs": [],
   "source": [
    "def run_SingleCellNet(train, val, cell_type_key):\n",
    "#     if 'sparse' in str(type(train.X)): train.X = train.X.toarray()\n",
    "    if 'sparse' not in str(type(train.X)): train.X = scipy.sparse.csr_matrix(train.X)\n",
    "    if 'sparse' in str(type(val.X)): val.X = val.X.toarray()\n",
    "    \n",
    "    # save the input data for the seurat script\n",
    "    cgenesA, xpairs, tspRF = pySCN.scn_train(train,\n",
    "            nTopGenes=100, nRand=100, nTrees=1000, nTopGenePairs=100,\n",
    "            dLevel=cell_type_key, stratify=True, limitToHVG=True, )\n",
    "    predictions = pySCN.scn_classify(val, cgenesA, xpairs, tspRF, nrand = 0)\n",
    "    \n",
    "    df = pd.merge(predictions.obs[['SCN_class']], val.obs, left_index=True, right_index=True)\n",
    "    \n",
    "    df = df[['cell_type', 'SCN_class']]\n",
    "    df.columns = ['groundtruth', 'predicted']\n",
    "    df['cell_id'] = df.index.to_list()\n",
    "    df['probability'] = [np.nan] * df.shape[0]\n",
    "    df = df[['cell_id', 'groundtruth', 'predicted', 'probability']]\n",
    "    \n",
    "\n",
    "    return df"
   ]
  },
  {
   "cell_type": "code",
   "execution_count": 18,
   "metadata": {
    "scrolled": true
   },
   "outputs": [
    {
     "name": "stdout",
     "output_type": "stream",
     "text": [
      "scRNAseq brca (6105, 27131) (5748, 27131)\n",
      "HVG\n",
      "Matrix normalized\n",
      "There are  1061  classification genes\n",
      "\n",
      "B cell\n",
      "CD4 T cell\n",
      "CD8 T cell\n",
      "Dendritic\n",
      "Endothelial\n",
      "Erythrocyte\n",
      "Fibroblast\n",
      "Malignant\n",
      "Mast\n",
      "Monocyte\n",
      "NK\n",
      "Plasma\n",
      "Treg\n",
      "There are 1265 top gene pairs\n",
      "\n",
      "Finished pair transforming the data\n",
      "\n",
      "scRNAseq cesc (4661, 22928) (4276, 22928)\n",
      "HVG\n",
      "Matrix normalized\n",
      "There are  984  classification genes\n",
      "\n",
      "CD4 T cell\n",
      "CD8 T cell\n",
      "Endothelial\n",
      "Epithelial\n",
      "Erythrocyte\n",
      "Fibroblast\n",
      "Malignant\n",
      "Mast\n",
      "Monocyte\n",
      "NK\n",
      "Plasma\n",
      "There are 1075 top gene pairs\n",
      "\n",
      "Finished pair transforming the data\n",
      "\n",
      "scRNAseq hnscc (5287, 26929) (5201, 26929)\n",
      "HVG\n",
      "Matrix normalized\n",
      "There are  1077  classification genes\n",
      "\n",
      "B cell\n",
      "CD4 T cell\n",
      "CD8 T cell\n",
      "Endothelial\n",
      "Erythrocyte\n",
      "Malignant\n",
      "Mast\n",
      "Monocyte\n",
      "NK\n",
      "Plasma\n",
      "Treg\n",
      "There are 1067 top gene pairs\n",
      "\n",
      "Finished pair transforming the data\n",
      "\n",
      "scRNAseq melanoma (4218, 23452) (3517, 23452)\n",
      "HVG\n",
      "Matrix normalized\n",
      "There are  892  classification genes\n",
      "\n",
      "B cell\n",
      "CD4 T cell\n",
      "CD8 T cell\n",
      "Dendritic\n",
      "Fibroblast\n",
      "Malignant\n",
      "Monocyte\n",
      "NK\n",
      "Plasma\n",
      "Treg\n",
      "There are 974 top gene pairs\n",
      "\n",
      "Finished pair transforming the data\n",
      "\n",
      "scRNAseq myeloma (3617, 24020) (3312, 24020)\n",
      "HVG\n",
      "Matrix normalized\n",
      "There are  925  classification genes\n",
      "\n",
      "B cell\n",
      "CD4 T cell\n",
      "CD8 T cell\n",
      "Dendritic\n",
      "Erythrocyte\n",
      "Malignant\n",
      "Mast\n",
      "Monocyte\n",
      "NK\n",
      "Plasma\n",
      "Platlete\n",
      "There are 1066 top gene pairs\n",
      "\n",
      "Finished pair transforming the data\n",
      "\n",
      "scRNAseq pdac (7940, 28756) (7823, 28756)\n",
      "HVG\n",
      "Matrix normalized\n",
      "There are  1318  classification genes\n",
      "\n",
      "Acinar\n",
      "B cell\n",
      "CD4 T cell\n",
      "CD8 T cell\n",
      "Dendritic\n",
      "Endothelial\n",
      "Epithelial\n",
      "Erythrocyte\n",
      "Fibroblast\n",
      "Islet\n",
      "Malignant\n",
      "Mast\n",
      "Monocyte\n",
      "NK\n",
      "Plasma\n",
      "Treg\n",
      "Tuft\n",
      "There are 1615 top gene pairs\n",
      "\n",
      "Finished pair transforming the data\n",
      "\n",
      "snATACseq brca_gene_activity (3576, 19891) (3519, 19891)\n",
      "HVG\n",
      "Matrix normalized\n",
      "There are  968  classification genes\n",
      "\n",
      "B cell\n",
      "Dendritic\n",
      "Endothelial\n",
      "Fibroblast\n",
      "Malignant\n",
      "Mast\n",
      "Monocyte\n",
      "T cells\n",
      "There are 792 top gene pairs\n",
      "\n",
      "Finished pair transforming the data\n",
      "\n",
      "snATACseq brca_motif (3576, 633) (3519, 633)\n",
      "HVG\n",
      "None\n"
     ]
    },
    {
     "name": "stderr",
     "output_type": "stream",
     "text": [
      "Traceback (most recent call last):\n",
      "  File \"<ipython-input-12-ce2e432e20b0>\", line 14, in run_workflow_for_datasets\n",
      "    train, val, directory)\n",
      "  File \"<ipython-input-12-ce2e432e20b0>\", line 64, in run_workflow\n",
      "    df = workflow(train, val, CELL_TYPE_KEY)\n",
      "  File \"<ipython-input-17-8387889a0627>\", line 9, in run_SingleCellNet\n",
      "    dLevel=cell_type_key, stratify=True, limitToHVG=True, )\n",
      "  File \"/home/estorrs/miniconda3/envs/pollock_dev/lib/python3.7/site-packages/pySingleCellNet/scn_train.py\", line 51, in scn_train\n",
      "    sc.pp.highly_variable_genes(adNorm, min_mean=0.0125, max_mean=4, min_disp=0.5)\n",
      "  File \"/home/estorrs/miniconda3/envs/pollock_dev/lib/python3.7/site-packages/scanpy/preprocessing/_highly_variable_genes.py\", line 435, in highly_variable_genes\n",
      "    flavor=flavor,\n",
      "  File \"/home/estorrs/miniconda3/envs/pollock_dev/lib/python3.7/site-packages/scanpy/preprocessing/_highly_variable_genes.py\", line 215, in _highly_variable_genes_single_batch\n",
      "    df['mean_bin'] = pd.cut(df['means'], bins=n_bins)\n",
      "  File \"/home/estorrs/miniconda3/envs/pollock_dev/lib/python3.7/site-packages/pandas/core/reshape/tile.py\", line 284, in cut\n",
      "    ordered=ordered,\n",
      "  File \"/home/estorrs/miniconda3/envs/pollock_dev/lib/python3.7/site-packages/pandas/core/reshape/tile.py\", line 402, in _bins_to_cuts\n",
      "    f\"Bin edges must be unique: {repr(bins)}.\\n\"\n",
      "ValueError: Bin edges must be unique: array([nan, nan, nan, nan, nan, nan, nan, nan, nan, nan, nan, nan, nan,\n",
      "       nan, nan, nan, nan, nan, nan, nan, nan]).\n",
      "You can drop duplicate edges by setting the 'duplicates' kwarg\n"
     ]
    },
    {
     "name": "stdout",
     "output_type": "stream",
     "text": [
      "snATACseq ccrcc_gene_activity (3000, 19843) (3000, 19843)\n",
      "HVG\n",
      "Matrix normalized\n",
      "There are  772  classification genes\n",
      "\n",
      "Endothelial\n",
      "Epithelial\n",
      "Fibroblast\n",
      "Malignant\n",
      "Monocyte\n",
      "T cells\n",
      "There are 594 top gene pairs\n",
      "\n",
      "Finished pair transforming the data\n",
      "\n",
      "snATACseq ccrcc_motif (3000, 633) (3000, 633)\n",
      "HVG\n",
      "None\n"
     ]
    },
    {
     "name": "stderr",
     "output_type": "stream",
     "text": [
      "Traceback (most recent call last):\n",
      "  File \"<ipython-input-12-ce2e432e20b0>\", line 14, in run_workflow_for_datasets\n",
      "    train, val, directory)\n",
      "  File \"<ipython-input-12-ce2e432e20b0>\", line 64, in run_workflow\n",
      "    df = workflow(train, val, CELL_TYPE_KEY)\n",
      "  File \"<ipython-input-17-8387889a0627>\", line 9, in run_SingleCellNet\n",
      "    dLevel=cell_type_key, stratify=True, limitToHVG=True, )\n",
      "  File \"/home/estorrs/miniconda3/envs/pollock_dev/lib/python3.7/site-packages/pySingleCellNet/scn_train.py\", line 51, in scn_train\n",
      "    sc.pp.highly_variable_genes(adNorm, min_mean=0.0125, max_mean=4, min_disp=0.5)\n",
      "  File \"/home/estorrs/miniconda3/envs/pollock_dev/lib/python3.7/site-packages/scanpy/preprocessing/_highly_variable_genes.py\", line 435, in highly_variable_genes\n",
      "    flavor=flavor,\n",
      "  File \"/home/estorrs/miniconda3/envs/pollock_dev/lib/python3.7/site-packages/scanpy/preprocessing/_highly_variable_genes.py\", line 215, in _highly_variable_genes_single_batch\n",
      "    df['mean_bin'] = pd.cut(df['means'], bins=n_bins)\n",
      "  File \"/home/estorrs/miniconda3/envs/pollock_dev/lib/python3.7/site-packages/pandas/core/reshape/tile.py\", line 284, in cut\n",
      "    ordered=ordered,\n",
      "  File \"/home/estorrs/miniconda3/envs/pollock_dev/lib/python3.7/site-packages/pandas/core/reshape/tile.py\", line 402, in _bins_to_cuts\n",
      "    f\"Bin edges must be unique: {repr(bins)}.\\n\"\n",
      "ValueError: Bin edges must be unique: array([nan, nan, nan, nan, nan, nan, nan, nan, nan, nan, nan, nan, nan,\n",
      "       nan, nan, nan, nan, nan, nan, nan, nan]).\n",
      "You can drop duplicate edges by setting the 'duplicates' kwarg\n"
     ]
    },
    {
     "name": "stdout",
     "output_type": "stream",
     "text": [
      "snATACseq gbm_gene_activity (3389, 19891) (2876, 19891)\n",
      "HVG\n",
      "Matrix normalized\n",
      "There are  968  classification genes\n",
      "\n",
      "B cell\n",
      "Endothelial\n",
      "Fibroblast\n",
      "Malignant\n",
      "Microglia\n",
      "Neuron\n",
      "Oligodendrocytes\n",
      "T cells\n",
      "There are 790 top gene pairs\n",
      "\n",
      "Finished pair transforming the data\n",
      "\n",
      "snATACseq gbm_motif (3393, 633) (2872, 633)\n",
      "HVG\n",
      "None\n"
     ]
    },
    {
     "name": "stderr",
     "output_type": "stream",
     "text": [
      "Traceback (most recent call last):\n",
      "  File \"<ipython-input-12-ce2e432e20b0>\", line 14, in run_workflow_for_datasets\n",
      "    train, val, directory)\n",
      "  File \"<ipython-input-12-ce2e432e20b0>\", line 64, in run_workflow\n",
      "    df = workflow(train, val, CELL_TYPE_KEY)\n",
      "  File \"<ipython-input-17-8387889a0627>\", line 9, in run_SingleCellNet\n",
      "    dLevel=cell_type_key, stratify=True, limitToHVG=True, )\n",
      "  File \"/home/estorrs/miniconda3/envs/pollock_dev/lib/python3.7/site-packages/pySingleCellNet/scn_train.py\", line 51, in scn_train\n",
      "    sc.pp.highly_variable_genes(adNorm, min_mean=0.0125, max_mean=4, min_disp=0.5)\n",
      "  File \"/home/estorrs/miniconda3/envs/pollock_dev/lib/python3.7/site-packages/scanpy/preprocessing/_highly_variable_genes.py\", line 435, in highly_variable_genes\n",
      "    flavor=flavor,\n",
      "  File \"/home/estorrs/miniconda3/envs/pollock_dev/lib/python3.7/site-packages/scanpy/preprocessing/_highly_variable_genes.py\", line 215, in _highly_variable_genes_single_batch\n",
      "    df['mean_bin'] = pd.cut(df['means'], bins=n_bins)\n",
      "  File \"/home/estorrs/miniconda3/envs/pollock_dev/lib/python3.7/site-packages/pandas/core/reshape/tile.py\", line 284, in cut\n",
      "    ordered=ordered,\n",
      "  File \"/home/estorrs/miniconda3/envs/pollock_dev/lib/python3.7/site-packages/pandas/core/reshape/tile.py\", line 402, in _bins_to_cuts\n",
      "    f\"Bin edges must be unique: {repr(bins)}.\\n\"\n",
      "ValueError: Bin edges must be unique: array([nan, nan, nan, nan, nan, nan, nan, nan, nan, nan, nan, nan, nan,\n",
      "       nan, nan, nan, nan, nan, nan, nan, nan]).\n",
      "You can drop duplicate edges by setting the 'duplicates' kwarg\n"
     ]
    },
    {
     "name": "stdout",
     "output_type": "stream",
     "text": [
      "snRNAseq brca (5252, 29175) (4893, 29175)\n",
      "HVG\n",
      "Matrix normalized\n",
      "There are  1164  classification genes\n",
      "\n",
      "Adipocyte\n",
      "B cell\n",
      "CD4 T cell\n",
      "CD8 T cell\n",
      "Dendritic\n",
      "Endothelial\n",
      "Fibroblast\n",
      "Malignant\n",
      "Mast\n",
      "Monocyte\n",
      "NK\n",
      "Plasma\n",
      "Treg\n",
      "There are 1243 top gene pairs\n",
      "\n",
      "Finished pair transforming the data\n",
      "\n",
      "snRNAseq ccrcc (4754, 33538) (4518, 33538)\n",
      "HVG\n",
      "Matrix normalized\n",
      "There are  1112  classification genes\n",
      "\n",
      "CD4 T cell\n",
      "CD8 T cell\n",
      "Dendritic\n",
      "Endothelial\n",
      "Epithelial\n",
      "Fibroblast\n",
      "Malignant\n",
      "Monocyte\n",
      "NK\n",
      "Plasma\n",
      "Treg\n",
      "There are 1058 top gene pairs\n",
      "\n",
      "Finished pair transforming the data\n",
      "\n",
      "snRNAseq gbm (3722, 29748) (3577, 29748)\n",
      "HVG\n",
      "Matrix normalized\n",
      "There are  1003  classification genes\n",
      "\n",
      "B cell\n",
      "Endothelial\n",
      "Fibroblast\n",
      "Malignant\n",
      "Microglia\n",
      "Monocyte\n",
      "Neuron\n",
      "Oligodendrocytes\n",
      "T cells\n",
      "There are 890 top gene pairs\n",
      "\n",
      "Finished pair transforming the data\n",
      "\n"
     ]
    }
   ],
   "source": [
    "run_workflow_for_datasets(adata_map, run_SingleCellNet, 'SingleCellNet', RESULTS_DIR)"
   ]
  },
  {
   "cell_type": "code",
   "execution_count": 26,
   "metadata": {
    "scrolled": true
   },
   "outputs": [
    {
     "name": "stdout",
     "output_type": "stream",
     "text": [
      "scRNAseq brca_train_brca_val (6080, 27131) (5773, 27131)\n",
      "HVG\n",
      "Matrix normalized\n",
      "There are  1077  classification genes\n",
      "\n",
      "B cell\n",
      "CD4 T cell\n",
      "CD8 T cell\n",
      "Dendritic\n",
      "Endothelial\n",
      "Erythrocyte\n",
      "Fibroblast\n",
      "Malignant\n",
      "Mast\n",
      "Monocyte\n",
      "NK\n",
      "Plasma\n",
      "Treg\n",
      "There are 1263 top gene pairs\n",
      "\n",
      "Finished pair transforming the data\n",
      "\n",
      "scRNAseq brca_train_cesc_val (6080, 27131) (4277, 22928)\n",
      "HVG\n",
      "Matrix normalized\n",
      "There are  1077  classification genes\n",
      "\n",
      "B cell\n",
      "CD4 T cell\n",
      "CD8 T cell\n",
      "Dendritic\n",
      "Endothelial\n",
      "Erythrocyte\n",
      "Fibroblast\n",
      "Malignant\n",
      "Mast\n",
      "Monocyte\n",
      "NK\n",
      "Plasma\n",
      "Treg\n",
      "There are 1263 top gene pairs\n",
      "\n",
      "Finished pair transforming the data\n",
      "\n",
      "scRNAseq brca_train_hnscc_val (6080, 27131) (5203, 26929)\n",
      "HVG\n",
      "Matrix normalized\n",
      "There are  1077  classification genes\n",
      "\n",
      "B cell\n",
      "CD4 T cell\n",
      "CD8 T cell\n",
      "Dendritic\n",
      "Endothelial\n",
      "Erythrocyte\n",
      "Fibroblast\n",
      "Malignant\n",
      "Mast\n",
      "Monocyte\n",
      "NK\n",
      "Plasma\n",
      "Treg\n",
      "There are 1263 top gene pairs\n",
      "\n",
      "Finished pair transforming the data\n",
      "\n",
      "scRNAseq brca_train_melanoma_val (6080, 27131) (3532, 23452)\n",
      "HVG\n",
      "Matrix normalized\n",
      "There are  1077  classification genes\n",
      "\n",
      "B cell\n",
      "CD4 T cell\n",
      "CD8 T cell\n",
      "Dendritic\n",
      "Endothelial\n",
      "Erythrocyte\n",
      "Fibroblast\n",
      "Malignant\n",
      "Mast\n",
      "Monocyte\n",
      "NK\n",
      "Plasma\n",
      "Treg\n",
      "There are 1263 top gene pairs\n",
      "\n",
      "Finished pair transforming the data\n",
      "\n",
      "scRNAseq brca_train_myeloma_val (6080, 27131) (3312, 24020)\n",
      "HVG\n",
      "Matrix normalized\n",
      "There are  1077  classification genes\n",
      "\n",
      "B cell\n",
      "CD4 T cell\n",
      "CD8 T cell\n",
      "Dendritic\n",
      "Endothelial\n",
      "Erythrocyte\n",
      "Fibroblast\n",
      "Malignant\n",
      "Mast\n",
      "Monocyte\n",
      "NK\n",
      "Plasma\n",
      "Treg\n",
      "There are 1263 top gene pairs\n",
      "\n",
      "Finished pair transforming the data\n",
      "\n",
      "scRNAseq brca_train_pbmc_val (6080, 27131) (886, 32738)\n",
      "HVG\n",
      "Matrix normalized\n",
      "There are  1077  classification genes\n",
      "\n",
      "B cell\n",
      "CD4 T cell\n",
      "CD8 T cell\n",
      "Dendritic\n",
      "Endothelial\n",
      "Erythrocyte\n",
      "Fibroblast\n",
      "Malignant\n",
      "Mast\n",
      "Monocyte\n",
      "NK\n",
      "Plasma\n",
      "Treg\n",
      "There are 1263 top gene pairs\n",
      "\n",
      "Finished pair transforming the data\n",
      "\n",
      "scRNAseq brca_train_pdac_val (6080, 27131) (7840, 28756)\n",
      "HVG\n",
      "Matrix normalized\n",
      "There are  1077  classification genes\n",
      "\n",
      "B cell\n",
      "CD4 T cell\n",
      "CD8 T cell\n",
      "Dendritic\n",
      "Endothelial\n",
      "Erythrocyte\n",
      "Fibroblast\n",
      "Malignant\n",
      "Mast\n",
      "Monocyte\n",
      "NK\n",
      "Plasma\n",
      "Treg\n",
      "There are 1263 top gene pairs\n",
      "\n",
      "Finished pair transforming the data\n",
      "\n",
      "scRNAseq cesc_train_brca_val (4660, 22928) (5773, 27131)\n",
      "HVG\n",
      "Matrix normalized\n",
      "There are  969  classification genes\n",
      "\n",
      "CD4 T cell\n",
      "CD8 T cell\n",
      "Endothelial\n",
      "Epithelial\n",
      "Erythrocyte\n",
      "Fibroblast\n",
      "Malignant\n",
      "Mast\n",
      "Monocyte\n",
      "NK\n",
      "Plasma\n",
      "There are 1076 top gene pairs\n",
      "\n",
      "Finished pair transforming the data\n",
      "\n",
      "scRNAseq cesc_train_cesc_val (4660, 22928) (4277, 22928)\n",
      "HVG\n",
      "Matrix normalized\n",
      "There are  969  classification genes\n",
      "\n",
      "CD4 T cell\n",
      "CD8 T cell\n",
      "Endothelial\n",
      "Epithelial\n",
      "Erythrocyte\n",
      "Fibroblast\n",
      "Malignant\n",
      "Mast\n",
      "Monocyte\n",
      "NK\n",
      "Plasma\n",
      "There are 1076 top gene pairs\n",
      "\n",
      "Finished pair transforming the data\n",
      "\n",
      "scRNAseq cesc_train_hnscc_val (4660, 22928) (5203, 26929)\n",
      "HVG\n",
      "Matrix normalized\n",
      "There are  969  classification genes\n",
      "\n",
      "CD4 T cell\n",
      "CD8 T cell\n",
      "Endothelial\n",
      "Epithelial\n",
      "Erythrocyte\n",
      "Fibroblast\n",
      "Malignant\n",
      "Mast\n",
      "Monocyte\n",
      "NK\n",
      "Plasma\n",
      "There are 1076 top gene pairs\n",
      "\n",
      "Finished pair transforming the data\n",
      "\n",
      "scRNAseq cesc_train_melanoma_val (4660, 22928) (3532, 23452)\n",
      "HVG\n",
      "Matrix normalized\n",
      "There are  969  classification genes\n",
      "\n",
      "CD4 T cell\n",
      "CD8 T cell\n",
      "Endothelial\n",
      "Epithelial\n",
      "Erythrocyte\n",
      "Fibroblast\n",
      "Malignant\n",
      "Mast\n",
      "Monocyte\n",
      "NK\n",
      "Plasma\n",
      "There are 1076 top gene pairs\n",
      "\n",
      "Finished pair transforming the data\n",
      "\n",
      "scRNAseq cesc_train_myeloma_val (4660, 22928) (3312, 24020)\n",
      "HVG\n",
      "Matrix normalized\n",
      "There are  969  classification genes\n",
      "\n",
      "CD4 T cell\n",
      "CD8 T cell\n",
      "Endothelial\n",
      "Epithelial\n",
      "Erythrocyte\n",
      "Fibroblast\n",
      "Malignant\n",
      "Mast\n",
      "Monocyte\n",
      "NK\n",
      "Plasma\n",
      "There are 1076 top gene pairs\n",
      "\n",
      "Finished pair transforming the data\n",
      "\n",
      "scRNAseq cesc_train_pbmc_val (4660, 22928) (886, 32738)\n",
      "HVG\n",
      "Matrix normalized\n",
      "There are  969  classification genes\n",
      "\n",
      "CD4 T cell\n",
      "CD8 T cell\n",
      "Endothelial\n",
      "Epithelial\n",
      "Erythrocyte\n",
      "Fibroblast\n",
      "Malignant\n",
      "Mast\n",
      "Monocyte\n",
      "NK\n",
      "Plasma\n",
      "There are 1076 top gene pairs\n",
      "\n",
      "Finished pair transforming the data\n",
      "\n",
      "scRNAseq cesc_train_pdac_val (4660, 22928) (7840, 28756)\n",
      "HVG\n",
      "Matrix normalized\n",
      "There are  969  classification genes\n",
      "\n",
      "CD4 T cell\n",
      "CD8 T cell\n",
      "Endothelial\n",
      "Epithelial\n",
      "Erythrocyte\n",
      "Fibroblast\n",
      "Malignant\n",
      "Mast\n",
      "Monocyte\n",
      "NK\n",
      "Plasma\n",
      "There are 1076 top gene pairs\n",
      "\n",
      "Finished pair transforming the data\n",
      "\n",
      "scRNAseq hnscc_train_brca_val (5285, 26929) (5773, 27131)\n",
      "HVG\n",
      "Matrix normalized\n",
      "There are  1078  classification genes\n",
      "\n",
      "B cell\n",
      "CD4 T cell\n",
      "CD8 T cell\n",
      "Endothelial\n",
      "Erythrocyte\n",
      "Malignant\n",
      "Mast\n",
      "Monocyte\n",
      "NK\n",
      "Plasma\n",
      "Treg\n",
      "There are 1061 top gene pairs\n",
      "\n",
      "Finished pair transforming the data\n",
      "\n",
      "scRNAseq hnscc_train_cesc_val (5285, 26929) (4277, 22928)\n",
      "HVG\n",
      "Matrix normalized\n",
      "There are  1078  classification genes\n",
      "\n",
      "B cell\n",
      "CD4 T cell\n",
      "CD8 T cell\n",
      "Endothelial\n",
      "Erythrocyte\n",
      "Malignant\n",
      "Mast\n",
      "Monocyte\n",
      "NK\n",
      "Plasma\n",
      "Treg\n",
      "There are 1061 top gene pairs\n",
      "\n",
      "Finished pair transforming the data\n",
      "\n",
      "scRNAseq hnscc_train_hnscc_val (5285, 26929) (5203, 26929)\n",
      "HVG\n",
      "Matrix normalized\n",
      "There are  1078  classification genes\n",
      "\n",
      "B cell\n",
      "CD4 T cell\n",
      "CD8 T cell\n",
      "Endothelial\n",
      "Erythrocyte\n",
      "Malignant\n",
      "Mast\n",
      "Monocyte\n",
      "NK\n",
      "Plasma\n",
      "Treg\n",
      "There are 1061 top gene pairs\n",
      "\n",
      "Finished pair transforming the data\n",
      "\n",
      "scRNAseq hnscc_train_melanoma_val (5285, 26929) (3532, 23452)\n",
      "HVG\n",
      "Matrix normalized\n",
      "There are  1078  classification genes\n",
      "\n",
      "B cell\n",
      "CD4 T cell\n",
      "CD8 T cell\n",
      "Endothelial\n",
      "Erythrocyte\n",
      "Malignant\n",
      "Mast\n",
      "Monocyte\n",
      "NK\n",
      "Plasma\n",
      "Treg\n",
      "There are 1061 top gene pairs\n",
      "\n",
      "Finished pair transforming the data\n",
      "\n",
      "scRNAseq hnscc_train_myeloma_val (5285, 26929) (3312, 24020)\n",
      "HVG\n",
      "Matrix normalized\n",
      "There are  1078  classification genes\n",
      "\n",
      "B cell\n",
      "CD4 T cell\n",
      "CD8 T cell\n",
      "Endothelial\n",
      "Erythrocyte\n",
      "Malignant\n",
      "Mast\n",
      "Monocyte\n",
      "NK\n",
      "Plasma\n",
      "Treg\n",
      "There are 1061 top gene pairs\n",
      "\n",
      "Finished pair transforming the data\n",
      "\n",
      "scRNAseq hnscc_train_pbmc_val (5285, 26929) (886, 32738)\n",
      "HVG\n",
      "Matrix normalized\n",
      "There are  1078  classification genes\n",
      "\n",
      "B cell\n",
      "CD4 T cell\n",
      "CD8 T cell\n",
      "Endothelial\n",
      "Erythrocyte\n",
      "Malignant\n",
      "Mast\n",
      "Monocyte\n",
      "NK\n",
      "Plasma\n",
      "Treg\n",
      "There are 1061 top gene pairs\n",
      "\n",
      "Finished pair transforming the data\n",
      "\n",
      "scRNAseq hnscc_train_pdac_val (5285, 26929) (7840, 28756)\n",
      "HVG\n",
      "Matrix normalized\n",
      "There are  1078  classification genes\n",
      "\n",
      "B cell\n",
      "CD4 T cell\n",
      "CD8 T cell\n",
      "Endothelial\n",
      "Erythrocyte\n",
      "Malignant\n",
      "Mast\n",
      "Monocyte\n",
      "NK\n",
      "Plasma\n",
      "Treg\n",
      "There are 1061 top gene pairs\n",
      "\n",
      "Finished pair transforming the data\n",
      "\n",
      "scRNAseq melanoma_train_brca_val (4203, 23452) (5773, 27131)\n",
      "HVG\n",
      "Matrix normalized\n",
      "There are  898  classification genes\n",
      "\n",
      "B cell\n",
      "CD4 T cell\n",
      "CD8 T cell\n",
      "Dendritic\n",
      "Fibroblast\n",
      "Malignant\n",
      "Monocyte\n",
      "NK\n",
      "Plasma\n",
      "Treg\n",
      "There are 975 top gene pairs\n",
      "\n",
      "Finished pair transforming the data\n",
      "\n",
      "scRNAseq melanoma_train_cesc_val (4203, 23452) (4277, 22928)\n",
      "HVG\n",
      "Matrix normalized\n",
      "There are  898  classification genes\n",
      "\n",
      "B cell\n",
      "CD4 T cell\n",
      "CD8 T cell\n",
      "Dendritic\n",
      "Fibroblast\n",
      "Malignant\n",
      "Monocyte\n",
      "NK\n",
      "Plasma\n",
      "Treg\n",
      "There are 975 top gene pairs\n",
      "\n",
      "Finished pair transforming the data\n",
      "\n",
      "scRNAseq melanoma_train_hnscc_val (4203, 23452) (5203, 26929)\n",
      "HVG\n",
      "Matrix normalized\n",
      "There are  898  classification genes\n",
      "\n",
      "B cell\n",
      "CD4 T cell\n",
      "CD8 T cell\n",
      "Dendritic\n",
      "Fibroblast\n",
      "Malignant\n",
      "Monocyte\n",
      "NK\n",
      "Plasma\n",
      "Treg\n",
      "There are 975 top gene pairs\n",
      "\n",
      "Finished pair transforming the data\n",
      "\n",
      "scRNAseq melanoma_train_melanoma_val (4203, 23452) (3532, 23452)\n",
      "HVG\n",
      "Matrix normalized\n",
      "There are  898  classification genes\n",
      "\n",
      "B cell\n",
      "CD4 T cell\n",
      "CD8 T cell\n",
      "Dendritic\n",
      "Fibroblast\n",
      "Malignant\n",
      "Monocyte\n",
      "NK\n",
      "Plasma\n",
      "Treg\n",
      "There are 975 top gene pairs\n",
      "\n",
      "Finished pair transforming the data\n",
      "\n",
      "scRNAseq melanoma_train_myeloma_val (4203, 23452) (3312, 24020)\n",
      "HVG\n",
      "Matrix normalized\n",
      "There are  898  classification genes\n",
      "\n",
      "B cell\n",
      "CD4 T cell\n",
      "CD8 T cell\n",
      "Dendritic\n",
      "Fibroblast\n",
      "Malignant\n",
      "Monocyte\n",
      "NK\n",
      "Plasma\n",
      "Treg\n",
      "There are 975 top gene pairs\n",
      "\n",
      "Finished pair transforming the data\n",
      "\n",
      "scRNAseq melanoma_train_pbmc_val (4203, 23452) (886, 32738)\n",
      "HVG\n",
      "Matrix normalized\n",
      "There are  898  classification genes\n",
      "\n",
      "B cell\n",
      "CD4 T cell\n",
      "CD8 T cell\n",
      "Dendritic\n",
      "Fibroblast\n",
      "Malignant\n",
      "Monocyte\n",
      "NK\n",
      "Plasma\n",
      "Treg\n",
      "There are 975 top gene pairs\n",
      "\n",
      "Finished pair transforming the data\n",
      "\n",
      "scRNAseq melanoma_train_pdac_val (4203, 23452) (7840, 28756)\n",
      "HVG\n",
      "Matrix normalized\n",
      "There are  898  classification genes\n",
      "\n",
      "B cell\n",
      "CD4 T cell\n",
      "CD8 T cell\n",
      "Dendritic\n",
      "Fibroblast\n",
      "Malignant\n",
      "Monocyte\n",
      "NK\n",
      "Plasma\n",
      "Treg\n",
      "There are 975 top gene pairs\n",
      "\n",
      "Finished pair transforming the data\n",
      "\n",
      "scRNAseq myeloma_train_brca_val (3617, 24020) (5773, 27131)\n",
      "HVG\n",
      "Matrix normalized\n",
      "There are  943  classification genes\n",
      "\n",
      "B cell\n",
      "CD4 T cell\n",
      "CD8 T cell\n",
      "Dendritic\n",
      "Erythrocyte\n",
      "Malignant\n",
      "Mast\n",
      "Monocyte\n",
      "NK\n",
      "Plasma\n",
      "Platlete\n"
     ]
    },
    {
     "name": "stdout",
     "output_type": "stream",
     "text": [
      "There are 1068 top gene pairs\n",
      "\n",
      "Finished pair transforming the data\n",
      "\n",
      "scRNAseq myeloma_train_cesc_val (3617, 24020) (4277, 22928)\n",
      "HVG\n",
      "Matrix normalized\n",
      "There are  943  classification genes\n",
      "\n",
      "B cell\n",
      "CD4 T cell\n",
      "CD8 T cell\n",
      "Dendritic\n",
      "Erythrocyte\n",
      "Malignant\n",
      "Mast\n",
      "Monocyte\n",
      "NK\n",
      "Plasma\n",
      "Platlete\n",
      "There are 1068 top gene pairs\n",
      "\n",
      "Finished pair transforming the data\n",
      "\n",
      "scRNAseq myeloma_train_hnscc_val (3617, 24020) (5203, 26929)\n",
      "HVG\n",
      "Matrix normalized\n",
      "There are  943  classification genes\n",
      "\n",
      "B cell\n",
      "CD4 T cell\n",
      "CD8 T cell\n",
      "Dendritic\n",
      "Erythrocyte\n",
      "Malignant\n",
      "Mast\n",
      "Monocyte\n",
      "NK\n",
      "Plasma\n",
      "Platlete\n",
      "There are 1068 top gene pairs\n",
      "\n",
      "Finished pair transforming the data\n",
      "\n",
      "scRNAseq myeloma_train_melanoma_val (3617, 24020) (3532, 23452)\n",
      "HVG\n",
      "Matrix normalized\n",
      "There are  943  classification genes\n",
      "\n",
      "B cell\n",
      "CD4 T cell\n",
      "CD8 T cell\n",
      "Dendritic\n",
      "Erythrocyte\n",
      "Malignant\n",
      "Mast\n",
      "Monocyte\n",
      "NK\n",
      "Plasma\n",
      "Platlete\n",
      "There are 1068 top gene pairs\n",
      "\n",
      "Finished pair transforming the data\n",
      "\n",
      "scRNAseq myeloma_train_myeloma_val (3617, 24020) (3312, 24020)\n",
      "HVG\n",
      "Matrix normalized\n",
      "There are  943  classification genes\n",
      "\n",
      "B cell\n",
      "CD4 T cell\n",
      "CD8 T cell\n",
      "Dendritic\n",
      "Erythrocyte\n",
      "Malignant\n",
      "Mast\n",
      "Monocyte\n",
      "NK\n",
      "Plasma\n",
      "Platlete\n",
      "There are 1068 top gene pairs\n",
      "\n",
      "Finished pair transforming the data\n",
      "\n",
      "scRNAseq myeloma_train_pbmc_val (3617, 24020) (886, 32738)\n",
      "HVG\n",
      "Matrix normalized\n",
      "There are  943  classification genes\n",
      "\n",
      "B cell\n",
      "CD4 T cell\n",
      "CD8 T cell\n",
      "Dendritic\n",
      "Erythrocyte\n",
      "Malignant\n",
      "Mast\n",
      "Monocyte\n",
      "NK\n",
      "Plasma\n",
      "Platlete\n",
      "There are 1068 top gene pairs\n",
      "\n",
      "Finished pair transforming the data\n",
      "\n",
      "scRNAseq myeloma_train_pdac_val (3617, 24020) (7840, 28756)\n",
      "HVG\n",
      "Matrix normalized\n",
      "There are  943  classification genes\n",
      "\n",
      "B cell\n",
      "CD4 T cell\n",
      "CD8 T cell\n",
      "Dendritic\n",
      "Erythrocyte\n",
      "Malignant\n",
      "Mast\n",
      "Monocyte\n",
      "NK\n",
      "Plasma\n",
      "Platlete\n",
      "There are 1068 top gene pairs\n",
      "\n",
      "Finished pair transforming the data\n",
      "\n",
      "scRNAseq pbmc_train_brca_val (1609, 32738) (5773, 27131)\n",
      "HVG\n",
      "Matrix normalized\n",
      "There are  658  classification genes\n",
      "\n",
      "B cell\n",
      "CD4 T cell\n",
      "CD8 T cell\n",
      "Dendritic\n",
      "Megakaryocyte\n",
      "Monocyte\n",
      "NK\n",
      "There are 679 top gene pairs\n",
      "\n",
      "Finished pair transforming the data\n",
      "\n",
      "scRNAseq pbmc_train_cesc_val (1609, 32738) (4277, 22928)\n",
      "HVG\n",
      "Matrix normalized\n",
      "There are  658  classification genes\n",
      "\n",
      "B cell\n",
      "CD4 T cell\n",
      "CD8 T cell\n",
      "Dendritic\n",
      "Megakaryocyte\n",
      "Monocyte\n",
      "NK\n",
      "There are 679 top gene pairs\n",
      "\n",
      "Finished pair transforming the data\n",
      "\n",
      "scRNAseq pbmc_train_hnscc_val (1609, 32738) (5203, 26929)\n",
      "HVG\n",
      "Matrix normalized\n",
      "There are  658  classification genes\n",
      "\n",
      "B cell\n",
      "CD4 T cell\n",
      "CD8 T cell\n",
      "Dendritic\n",
      "Megakaryocyte\n",
      "Monocyte\n",
      "NK\n",
      "There are 679 top gene pairs\n",
      "\n",
      "Finished pair transforming the data\n",
      "\n",
      "scRNAseq pbmc_train_melanoma_val (1609, 32738) (3532, 23452)\n",
      "HVG\n",
      "Matrix normalized\n",
      "There are  658  classification genes\n",
      "\n",
      "B cell\n",
      "CD4 T cell\n",
      "CD8 T cell\n",
      "Dendritic\n",
      "Megakaryocyte\n",
      "Monocyte\n",
      "NK\n",
      "There are 679 top gene pairs\n",
      "\n",
      "Finished pair transforming the data\n",
      "\n",
      "scRNAseq pbmc_train_myeloma_val (1609, 32738) (3312, 24020)\n",
      "HVG\n",
      "Matrix normalized\n",
      "There are  658  classification genes\n",
      "\n",
      "B cell\n",
      "CD4 T cell\n",
      "CD8 T cell\n",
      "Dendritic\n",
      "Megakaryocyte\n",
      "Monocyte\n",
      "NK\n",
      "There are 679 top gene pairs\n",
      "\n",
      "Finished pair transforming the data\n",
      "\n",
      "scRNAseq pbmc_train_pbmc_val (1609, 32738) (886, 32738)\n",
      "HVG\n",
      "Matrix normalized\n",
      "There are  658  classification genes\n",
      "\n",
      "B cell\n",
      "CD4 T cell\n",
      "CD8 T cell\n",
      "Dendritic\n",
      "Megakaryocyte\n",
      "Monocyte\n",
      "NK\n",
      "There are 679 top gene pairs\n",
      "\n",
      "Finished pair transforming the data\n",
      "\n",
      "scRNAseq pbmc_train_pdac_val (1609, 32738) (7840, 28756)\n",
      "HVG\n",
      "Matrix normalized\n",
      "There are  658  classification genes\n",
      "\n",
      "B cell\n",
      "CD4 T cell\n",
      "CD8 T cell\n",
      "Dendritic\n",
      "Megakaryocyte\n",
      "Monocyte\n",
      "NK\n",
      "There are 679 top gene pairs\n",
      "\n",
      "Finished pair transforming the data\n",
      "\n",
      "scRNAseq pdac_train_brca_val (7923, 28756) (5773, 27131)\n",
      "HVG\n",
      "Matrix normalized\n",
      "There are  1314  classification genes\n",
      "\n",
      "Acinar\n",
      "B cell\n",
      "CD4 T cell\n",
      "CD8 T cell\n",
      "Dendritic\n",
      "Endothelial\n",
      "Epithelial\n",
      "Erythrocyte\n",
      "Fibroblast\n",
      "Islet\n",
      "Malignant\n",
      "Mast\n",
      "Monocyte\n",
      "NK\n",
      "Plasma\n",
      "Treg\n",
      "Tuft\n",
      "There are 1619 top gene pairs\n",
      "\n",
      "Finished pair transforming the data\n",
      "\n",
      "scRNAseq pdac_train_cesc_val (7923, 28756) (4277, 22928)\n",
      "HVG\n",
      "Matrix normalized\n",
      "There are  1314  classification genes\n",
      "\n",
      "Acinar\n",
      "B cell\n",
      "CD4 T cell\n",
      "CD8 T cell\n",
      "Dendritic\n",
      "Endothelial\n",
      "Epithelial\n",
      "Erythrocyte\n",
      "Fibroblast\n",
      "Islet\n",
      "Malignant\n",
      "Mast\n",
      "Monocyte\n",
      "NK\n",
      "Plasma\n",
      "Treg\n",
      "Tuft\n",
      "There are 1619 top gene pairs\n",
      "\n",
      "Finished pair transforming the data\n",
      "\n",
      "scRNAseq pdac_train_hnscc_val (7923, 28756) (5203, 26929)\n",
      "HVG\n",
      "Matrix normalized\n",
      "There are  1314  classification genes\n",
      "\n",
      "Acinar\n",
      "B cell\n",
      "CD4 T cell\n",
      "CD8 T cell\n",
      "Dendritic\n",
      "Endothelial\n",
      "Epithelial\n",
      "Erythrocyte\n",
      "Fibroblast\n",
      "Islet\n",
      "Malignant\n",
      "Mast\n",
      "Monocyte\n",
      "NK\n",
      "Plasma\n",
      "Treg\n",
      "Tuft\n",
      "There are 1619 top gene pairs\n",
      "\n",
      "Finished pair transforming the data\n",
      "\n",
      "scRNAseq pdac_train_melanoma_val (7923, 28756) (3532, 23452)\n",
      "HVG\n",
      "Matrix normalized\n",
      "There are  1314  classification genes\n",
      "\n",
      "Acinar\n",
      "B cell\n",
      "CD4 T cell\n",
      "CD8 T cell\n",
      "Dendritic\n",
      "Endothelial\n",
      "Epithelial\n",
      "Erythrocyte\n",
      "Fibroblast\n",
      "Islet\n",
      "Malignant\n",
      "Mast\n",
      "Monocyte\n",
      "NK\n",
      "Plasma\n",
      "Treg\n",
      "Tuft\n",
      "There are 1619 top gene pairs\n",
      "\n",
      "Finished pair transforming the data\n",
      "\n",
      "scRNAseq pdac_train_myeloma_val (7923, 28756) (3312, 24020)\n",
      "HVG\n",
      "Matrix normalized\n",
      "There are  1314  classification genes\n",
      "\n",
      "Acinar\n",
      "B cell\n",
      "CD4 T cell\n",
      "CD8 T cell\n",
      "Dendritic\n",
      "Endothelial\n",
      "Epithelial\n",
      "Erythrocyte\n",
      "Fibroblast\n",
      "Islet\n",
      "Malignant\n",
      "Mast\n",
      "Monocyte\n",
      "NK\n",
      "Plasma\n",
      "Treg\n",
      "Tuft\n",
      "There are 1619 top gene pairs\n",
      "\n",
      "Finished pair transforming the data\n",
      "\n",
      "scRNAseq pdac_train_pbmc_val (7923, 28756) (886, 32738)\n",
      "HVG\n",
      "Matrix normalized\n",
      "There are  1314  classification genes\n",
      "\n",
      "Acinar\n",
      "B cell\n",
      "CD4 T cell\n",
      "CD8 T cell\n",
      "Dendritic\n",
      "Endothelial\n",
      "Epithelial\n",
      "Erythrocyte\n",
      "Fibroblast\n",
      "Islet\n",
      "Malignant\n",
      "Mast\n",
      "Monocyte\n",
      "NK\n",
      "Plasma\n",
      "Treg\n",
      "Tuft\n",
      "There are 1619 top gene pairs\n",
      "\n",
      "Finished pair transforming the data\n",
      "\n",
      "scRNAseq pdac_train_pdac_val (7923, 28756) (7840, 28756)\n",
      "HVG\n",
      "Matrix normalized\n",
      "There are  1314  classification genes\n",
      "\n",
      "Acinar\n",
      "B cell\n",
      "CD4 T cell\n",
      "CD8 T cell\n",
      "Dendritic\n",
      "Endothelial\n",
      "Epithelial\n",
      "Erythrocyte\n",
      "Fibroblast\n",
      "Islet\n",
      "Malignant\n",
      "Mast\n",
      "Monocyte\n",
      "NK\n",
      "Plasma\n",
      "Treg\n",
      "Tuft\n",
      "There are 1619 top gene pairs\n",
      "\n",
      "Finished pair transforming the data\n",
      "\n",
      "snATACseq brca_gene_activity_train_brca_gene_activity_val (3576, 19891) (3519, 19891)\n",
      "HVG\n",
      "Matrix normalized\n",
      "There are  966  classification genes\n",
      "\n",
      "B cell\n",
      "Dendritic\n",
      "Endothelial\n",
      "Fibroblast\n",
      "Malignant\n",
      "Mast\n",
      "Monocyte\n",
      "T cells\n",
      "There are 790 top gene pairs\n",
      "\n",
      "Finished pair transforming the data\n",
      "\n",
      "snATACseq brca_gene_activity_train_brca_motif_val (3576, 19891) (3519, 633)\n",
      "HVG\n",
      "Matrix normalized\n",
      "There are  966  classification genes\n",
      "\n",
      "B cell\n",
      "Dendritic\n",
      "Endothelial\n",
      "Fibroblast\n",
      "Malignant\n",
      "Mast\n",
      "Monocyte\n",
      "T cells\n",
      "There are 790 top gene pairs\n",
      "\n",
      "Finished pair transforming the data\n",
      "\n",
      "snATACseq brca_gene_activity_train_ccrcc_gene_activity_val (3576, 19891) (3000, 19843)\n",
      "HVG\n",
      "Matrix normalized\n",
      "There are  966  classification genes\n",
      "\n",
      "B cell\n",
      "Dendritic\n",
      "Endothelial\n",
      "Fibroblast\n",
      "Malignant\n",
      "Mast\n",
      "Monocyte\n",
      "T cells\n",
      "There are 790 top gene pairs\n",
      "\n",
      "Finished pair transforming the data\n",
      "\n",
      "snATACseq brca_gene_activity_train_ccrcc_motif_val (3576, 19891) (3000, 633)\n",
      "HVG\n",
      "Matrix normalized\n",
      "There are  966  classification genes\n",
      "\n",
      "B cell\n",
      "Dendritic\n",
      "Endothelial\n",
      "Fibroblast\n",
      "Malignant\n",
      "Mast\n",
      "Monocyte\n",
      "T cells\n",
      "There are 790 top gene pairs\n",
      "\n",
      "Finished pair transforming the data\n",
      "\n",
      "snATACseq brca_gene_activity_train_gbm_gene_activity_val (3576, 19891) (2875, 19891)\n",
      "HVG\n",
      "Matrix normalized\n",
      "There are  966  classification genes\n",
      "\n",
      "B cell\n",
      "Dendritic\n",
      "Endothelial\n",
      "Fibroblast\n",
      "Malignant\n",
      "Mast\n",
      "Monocyte\n",
      "T cells\n",
      "There are 790 top gene pairs\n",
      "\n",
      "Finished pair transforming the data\n",
      "\n",
      "snATACseq brca_gene_activity_train_gbm_motif_val (3576, 19891) (2884, 633)\n",
      "HVG\n",
      "Matrix normalized\n",
      "There are  966  classification genes\n",
      "\n",
      "B cell\n",
      "Dendritic\n",
      "Endothelial\n",
      "Fibroblast\n",
      "Malignant\n",
      "Mast\n",
      "Monocyte\n",
      "T cells\n",
      "There are 790 top gene pairs\n",
      "\n",
      "Finished pair transforming the data\n",
      "\n",
      "snATACseq brca_motif_train_brca_gene_activity_val (3576, 633) (3519, 19891)\n",
      "HVG\n",
      "failed\n",
      "snATACseq brca_motif_train_brca_motif_val (3576, 633) (3519, 633)\n",
      "HVG\n",
      "failed\n",
      "snATACseq brca_motif_train_ccrcc_gene_activity_val (3576, 633) (3000, 19843)\n",
      "HVG\n",
      "failed\n",
      "snATACseq brca_motif_train_ccrcc_motif_val (3576, 633) (3000, 633)\n",
      "HVG\n",
      "failed\n",
      "snATACseq brca_motif_train_gbm_gene_activity_val (3576, 633) (2875, 19891)\n",
      "HVG\n",
      "failed\n",
      "snATACseq brca_motif_train_gbm_motif_val (3576, 633) (2884, 633)\n",
      "HVG\n",
      "failed\n",
      "snATACseq ccrcc_gene_activity_train_brca_gene_activity_val (3000, 19843) (3519, 19891)\n",
      "HVG\n",
      "Matrix normalized\n",
      "There are  782  classification genes\n",
      "\n",
      "Endothelial\n",
      "Epithelial\n",
      "Fibroblast\n",
      "Malignant\n",
      "Monocyte\n",
      "T cells\n"
     ]
    },
    {
     "name": "stdout",
     "output_type": "stream",
     "text": [
      "There are 594 top gene pairs\n",
      "\n",
      "Finished pair transforming the data\n",
      "\n",
      "snATACseq ccrcc_gene_activity_train_brca_motif_val (3000, 19843) (3519, 633)\n",
      "HVG\n",
      "Matrix normalized\n",
      "There are  782  classification genes\n",
      "\n",
      "Endothelial\n",
      "Epithelial\n",
      "Fibroblast\n",
      "Malignant\n",
      "Monocyte\n",
      "T cells\n",
      "There are 594 top gene pairs\n",
      "\n",
      "Finished pair transforming the data\n",
      "\n",
      "snATACseq ccrcc_gene_activity_train_ccrcc_gene_activity_val (3000, 19843) (3000, 19843)\n",
      "HVG\n",
      "Matrix normalized\n",
      "There are  782  classification genes\n",
      "\n",
      "Endothelial\n",
      "Epithelial\n",
      "Fibroblast\n",
      "Malignant\n",
      "Monocyte\n",
      "T cells\n",
      "There are 594 top gene pairs\n",
      "\n",
      "Finished pair transforming the data\n",
      "\n",
      "snATACseq ccrcc_gene_activity_train_ccrcc_motif_val (3000, 19843) (3000, 633)\n",
      "HVG\n",
      "Matrix normalized\n",
      "There are  782  classification genes\n",
      "\n",
      "Endothelial\n",
      "Epithelial\n",
      "Fibroblast\n",
      "Malignant\n",
      "Monocyte\n",
      "T cells\n",
      "There are 594 top gene pairs\n",
      "\n",
      "Finished pair transforming the data\n",
      "\n",
      "snATACseq ccrcc_gene_activity_train_gbm_gene_activity_val (3000, 19843) (2875, 19891)\n",
      "HVG\n",
      "Matrix normalized\n",
      "There are  782  classification genes\n",
      "\n",
      "Endothelial\n",
      "Epithelial\n",
      "Fibroblast\n",
      "Malignant\n",
      "Monocyte\n",
      "T cells\n",
      "There are 594 top gene pairs\n",
      "\n",
      "Finished pair transforming the data\n",
      "\n",
      "snATACseq ccrcc_gene_activity_train_gbm_motif_val (3000, 19843) (2884, 633)\n",
      "HVG\n",
      "Matrix normalized\n",
      "There are  782  classification genes\n",
      "\n",
      "Endothelial\n",
      "Epithelial\n",
      "Fibroblast\n",
      "Malignant\n",
      "Monocyte\n",
      "T cells\n",
      "There are 594 top gene pairs\n",
      "\n",
      "Finished pair transforming the data\n",
      "\n",
      "snATACseq ccrcc_motif_train_brca_gene_activity_val (3000, 633) (3519, 19891)\n",
      "HVG\n",
      "failed\n",
      "snATACseq ccrcc_motif_train_brca_motif_val (3000, 633) (3519, 633)\n",
      "HVG\n",
      "failed\n",
      "snATACseq ccrcc_motif_train_ccrcc_gene_activity_val (3000, 633) (3000, 19843)\n",
      "HVG\n",
      "failed\n",
      "snATACseq ccrcc_motif_train_ccrcc_motif_val (3000, 633) (3000, 633)\n",
      "HVG\n",
      "failed\n",
      "snATACseq ccrcc_motif_train_gbm_gene_activity_val (3000, 633) (2875, 19891)\n",
      "HVG\n",
      "failed\n",
      "snATACseq ccrcc_motif_train_gbm_motif_val (3000, 633) (2884, 633)\n",
      "HVG\n",
      "failed\n",
      "snATACseq gbm_gene_activity_train_brca_gene_activity_val (3390, 19891) (3519, 19891)\n",
      "HVG\n",
      "Matrix normalized\n",
      "There are  991  classification genes\n",
      "\n",
      "B cell\n",
      "Endothelial\n",
      "Fibroblast\n",
      "Malignant\n",
      "Microglia\n",
      "Neuron\n",
      "Oligodendrocytes\n",
      "T cells\n",
      "There are 791 top gene pairs\n",
      "\n",
      "Finished pair transforming the data\n",
      "\n",
      "snATACseq gbm_gene_activity_train_brca_motif_val (3390, 19891) (3519, 633)\n",
      "HVG\n",
      "Matrix normalized\n",
      "There are  991  classification genes\n",
      "\n",
      "B cell\n",
      "Endothelial\n",
      "Fibroblast\n",
      "Malignant\n",
      "Microglia\n",
      "Neuron\n",
      "Oligodendrocytes\n",
      "T cells\n",
      "There are 791 top gene pairs\n",
      "\n",
      "Finished pair transforming the data\n",
      "\n",
      "snATACseq gbm_gene_activity_train_ccrcc_gene_activity_val (3390, 19891) (3000, 19843)\n",
      "HVG\n",
      "Matrix normalized\n",
      "There are  991  classification genes\n",
      "\n",
      "B cell\n",
      "Endothelial\n",
      "Fibroblast\n",
      "Malignant\n",
      "Microglia\n",
      "Neuron\n",
      "Oligodendrocytes\n",
      "T cells\n",
      "There are 791 top gene pairs\n",
      "\n",
      "Finished pair transforming the data\n",
      "\n",
      "snATACseq gbm_gene_activity_train_ccrcc_motif_val (3390, 19891) (3000, 633)\n",
      "HVG\n",
      "Matrix normalized\n",
      "There are  991  classification genes\n",
      "\n",
      "B cell\n",
      "Endothelial\n",
      "Fibroblast\n",
      "Malignant\n",
      "Microglia\n",
      "Neuron\n",
      "Oligodendrocytes\n",
      "T cells\n",
      "There are 791 top gene pairs\n",
      "\n",
      "Finished pair transforming the data\n",
      "\n",
      "snATACseq gbm_gene_activity_train_gbm_gene_activity_val (3390, 19891) (2875, 19891)\n",
      "HVG\n",
      "Matrix normalized\n",
      "There are  991  classification genes\n",
      "\n",
      "B cell\n",
      "Endothelial\n",
      "Fibroblast\n",
      "Malignant\n",
      "Microglia\n",
      "Neuron\n",
      "Oligodendrocytes\n",
      "T cells\n",
      "There are 791 top gene pairs\n",
      "\n",
      "Finished pair transforming the data\n",
      "\n",
      "snATACseq gbm_gene_activity_train_gbm_motif_val (3390, 19891) (2884, 633)\n",
      "HVG\n",
      "Matrix normalized\n",
      "There are  991  classification genes\n",
      "\n",
      "B cell\n",
      "Endothelial\n",
      "Fibroblast\n",
      "Malignant\n",
      "Microglia\n",
      "Neuron\n",
      "Oligodendrocytes\n",
      "T cells\n",
      "There are 791 top gene pairs\n",
      "\n",
      "Finished pair transforming the data\n",
      "\n",
      "snATACseq gbm_motif_train_brca_gene_activity_val (3381, 633) (3519, 19891)\n",
      "HVG\n",
      "failed\n",
      "snATACseq gbm_motif_train_brca_motif_val (3381, 633) (3519, 633)\n",
      "HVG\n",
      "failed\n",
      "snATACseq gbm_motif_train_ccrcc_gene_activity_val (3381, 633) (3000, 19843)\n",
      "HVG\n",
      "failed\n",
      "snATACseq gbm_motif_train_ccrcc_motif_val (3381, 633) (3000, 633)\n",
      "HVG\n",
      "failed\n",
      "snATACseq gbm_motif_train_gbm_gene_activity_val (3381, 633) (2875, 19891)\n",
      "HVG\n",
      "failed\n",
      "snATACseq gbm_motif_train_gbm_motif_val (3381, 633) (2884, 633)\n",
      "HVG\n",
      "failed\n",
      "snRNAseq brca_train_brca_val (5254, 29175) (4891, 29175)\n",
      "HVG\n",
      "Matrix normalized\n",
      "There are  1155  classification genes\n",
      "\n",
      "Adipocyte\n",
      "B cell\n",
      "CD4 T cell\n",
      "CD8 T cell\n",
      "Dendritic\n",
      "Endothelial\n",
      "Fibroblast\n",
      "Malignant\n",
      "Mast\n",
      "Monocyte\n",
      "NK\n",
      "Plasma\n",
      "Treg\n",
      "There are 1246 top gene pairs\n",
      "\n",
      "Finished pair transforming the data\n",
      "\n",
      "snRNAseq brca_train_ccrcc_val (5254, 29175) (4525, 33538)\n",
      "HVG\n",
      "Matrix normalized\n",
      "There are  1155  classification genes\n",
      "\n",
      "Adipocyte\n",
      "B cell\n",
      "CD4 T cell\n",
      "CD8 T cell\n",
      "Dendritic\n",
      "Endothelial\n",
      "Fibroblast\n",
      "Malignant\n",
      "Mast\n",
      "Monocyte\n",
      "NK\n",
      "Plasma\n",
      "Treg\n",
      "There are 1246 top gene pairs\n",
      "\n",
      "Finished pair transforming the data\n",
      "\n",
      "snRNAseq brca_train_gbm_val (5254, 29175) (3554, 29748)\n",
      "HVG\n",
      "Matrix normalized\n",
      "There are  1155  classification genes\n",
      "\n",
      "Adipocyte\n",
      "B cell\n",
      "CD4 T cell\n",
      "CD8 T cell\n",
      "Dendritic\n",
      "Endothelial\n",
      "Fibroblast\n",
      "Malignant\n",
      "Mast\n",
      "Monocyte\n",
      "NK\n",
      "Plasma\n",
      "Treg\n",
      "There are 1246 top gene pairs\n",
      "\n",
      "Finished pair transforming the data\n",
      "\n",
      "snRNAseq ccrcc_train_brca_val (4747, 33538) (4891, 29175)\n",
      "HVG\n",
      "Matrix normalized\n",
      "There are  1112  classification genes\n",
      "\n",
      "CD4 T cell\n",
      "CD8 T cell\n",
      "Dendritic\n",
      "Endothelial\n",
      "Epithelial\n",
      "Fibroblast\n",
      "Malignant\n",
      "Monocyte\n",
      "NK\n",
      "Plasma\n",
      "Treg\n",
      "There are 1055 top gene pairs\n",
      "\n",
      "Finished pair transforming the data\n",
      "\n",
      "snRNAseq ccrcc_train_ccrcc_val (4747, 33538) (4525, 33538)\n",
      "HVG\n",
      "Matrix normalized\n",
      "There are  1112  classification genes\n",
      "\n",
      "CD4 T cell\n",
      "CD8 T cell\n",
      "Dendritic\n",
      "Endothelial\n",
      "Epithelial\n",
      "Fibroblast\n",
      "Malignant\n",
      "Monocyte\n",
      "NK\n",
      "Plasma\n",
      "Treg\n",
      "There are 1055 top gene pairs\n",
      "\n",
      "Finished pair transforming the data\n",
      "\n",
      "snRNAseq ccrcc_train_gbm_val (4747, 33538) (3554, 29748)\n",
      "HVG\n",
      "Matrix normalized\n",
      "There are  1112  classification genes\n",
      "\n",
      "CD4 T cell\n",
      "CD8 T cell\n",
      "Dendritic\n",
      "Endothelial\n",
      "Epithelial\n",
      "Fibroblast\n",
      "Malignant\n",
      "Monocyte\n",
      "NK\n",
      "Plasma\n",
      "Treg\n",
      "There are 1055 top gene pairs\n",
      "\n",
      "Finished pair transforming the data\n",
      "\n",
      "snRNAseq gbm_train_brca_val (3745, 29748) (4891, 29175)\n",
      "HVG\n",
      "Matrix normalized\n",
      "There are  996  classification genes\n",
      "\n",
      "B cell\n",
      "Endothelial\n",
      "Fibroblast\n",
      "Malignant\n",
      "Microglia\n",
      "Monocyte\n",
      "Neuron\n",
      "Oligodendrocytes\n",
      "T cells\n",
      "There are 890 top gene pairs\n",
      "\n",
      "Finished pair transforming the data\n",
      "\n",
      "snRNAseq gbm_train_ccrcc_val (3745, 29748) (4525, 33538)\n",
      "HVG\n",
      "Matrix normalized\n",
      "There are  996  classification genes\n",
      "\n",
      "B cell\n",
      "Endothelial\n",
      "Fibroblast\n",
      "Malignant\n",
      "Microglia\n",
      "Monocyte\n",
      "Neuron\n",
      "Oligodendrocytes\n",
      "T cells\n",
      "There are 890 top gene pairs\n",
      "\n",
      "Finished pair transforming the data\n",
      "\n",
      "snRNAseq gbm_train_gbm_val (3745, 29748) (3554, 29748)\n",
      "HVG\n",
      "Matrix normalized\n",
      "There are  996  classification genes\n",
      "\n",
      "B cell\n",
      "Endothelial\n",
      "Fibroblast\n",
      "Malignant\n",
      "Microglia\n",
      "Monocyte\n",
      "Neuron\n",
      "Oligodendrocytes\n",
      "T cells\n",
      "There are 890 top gene pairs\n",
      "\n",
      "Finished pair transforming the data\n",
      "\n"
     ]
    }
   ],
   "source": [
    "run_workflow_for_cross_disease(adata_map, run_SingleCellNet, 'SingleCellNet', RESULTS_CROSS_DISEASE_DIR)"
   ]
  },
  {
   "cell_type": "code",
   "execution_count": null,
   "metadata": {},
   "outputs": [],
   "source": [
    "# run_workflow_for_cross_datatype(adata_map, run_SingleCellNet, 'SingleCellNet', RESULTS_CROSS_DTYPE_DIR)"
   ]
  },
  {
   "cell_type": "markdown",
   "metadata": {
    "heading_collapsed": true
   },
   "source": [
    "###### testing stuff"
   ]
  },
  {
   "cell_type": "code",
   "execution_count": null,
   "metadata": {
    "hidden": true
   },
   "outputs": [],
   "source": []
  },
  {
   "cell_type": "code",
   "execution_count": null,
   "metadata": {
    "hidden": true
   },
   "outputs": [],
   "source": [
    "train, val = (sc.read_h5ad(adata_map['snATACseq']['brca_motif']['train']),\n",
    "              sc.read_h5ad(adata_map['snATACseq']['brca_motif']['val']))"
   ]
  },
  {
   "cell_type": "code",
   "execution_count": null,
   "metadata": {
    "hidden": true
   },
   "outputs": [],
   "source": [
    "if 'sparse' not in str(type(train.X)): train.X = scipy.sparse.csr_matrix(train.X)\n",
    "if 'sparse' in str(type(val.X)): val.X = val.X.toarray()"
   ]
  },
  {
   "cell_type": "code",
   "execution_count": null,
   "metadata": {
    "hidden": true
   },
   "outputs": [],
   "source": [
    "train.var"
   ]
  },
  {
   "cell_type": "code",
   "execution_count": null,
   "metadata": {
    "hidden": true
   },
   "outputs": [],
   "source": [
    "len(set(train.var.index))"
   ]
  },
  {
   "cell_type": "code",
   "execution_count": null,
   "metadata": {
    "hidden": true
   },
   "outputs": [],
   "source": [
    "cgenesA, xpairs, tspRF = pySCN.scn_train(train,\n",
    "            nTopGenes = 100, nRand = 100, nTrees = 1000 ,nTopGenePairs = 100,\n",
    "            dLevel = \"cell_type\", stratify=True, limitToHVG=True, )"
   ]
  },
  {
   "cell_type": "code",
   "execution_count": null,
   "metadata": {
    "hidden": true
   },
   "outputs": [],
   "source": [
    "train.shape, val.shape"
   ]
  },
  {
   "cell_type": "code",
   "execution_count": null,
   "metadata": {
    "hidden": true
   },
   "outputs": [],
   "source": [
    "val.obs"
   ]
  },
  {
   "cell_type": "code",
   "execution_count": null,
   "metadata": {
    "hidden": true
   },
   "outputs": [],
   "source": [
    "tspRF"
   ]
  },
  {
   "cell_type": "code",
   "execution_count": null,
   "metadata": {
    "hidden": true
   },
   "outputs": [],
   "source": [
    "val.X"
   ]
  },
  {
   "cell_type": "code",
   "execution_count": null,
   "metadata": {
    "hidden": true
   },
   "outputs": [],
   "source": [
    "val.X = val.X.toarray()"
   ]
  },
  {
   "cell_type": "code",
   "execution_count": null,
   "metadata": {
    "hidden": true
   },
   "outputs": [],
   "source": [
    "predictions = pySCN.scn_classify(val, cgenesA, xpairs, tspRF, nrand = 0)\n"
   ]
  },
  {
   "cell_type": "code",
   "execution_count": null,
   "metadata": {
    "hidden": true
   },
   "outputs": [],
   "source": [
    "predictions.obs"
   ]
  },
  {
   "cell_type": "code",
   "execution_count": null,
   "metadata": {
    "hidden": true
   },
   "outputs": [],
   "source": [
    "df = pd.merge(predictions.obs[['SCN_class']], val.obs, left_index=True, right_index=True)\n",
    "\n",
    "df = df[['cell_type', 'SCN_class']]\n",
    "df.index.name = 'cell_id'\n",
    "df.columns = ['groundtruth', 'predictions']\n",
    "df['probability'] = [np.nan] * df.shape[0]\n",
    "df"
   ]
  },
  {
   "cell_type": "code",
   "execution_count": null,
   "metadata": {
    "hidden": true
   },
   "outputs": [],
   "source": []
  },
  {
   "cell_type": "markdown",
   "metadata": {},
   "source": [
    "##### MARS"
   ]
  },
  {
   "cell_type": "code",
   "execution_count": null,
   "metadata": {},
   "outputs": [],
   "source": [
    "from args_parser import get_parser\n",
    "from model.mars import MARS\n",
    "from model.experiment_dataset import ExperimentDataset\n",
    "from sklearn.utils.linear_assignment_ import linear_assignment"
   ]
  },
  {
   "cell_type": "code",
   "execution_count": null,
   "metadata": {},
   "outputs": [],
   "source": [
    "##pulled from evaluation.py and modified to remove class thing\n",
    "def hungarian_match(y_true, y_pred):\n",
    "    \"\"\"Matches predicted labels to original using hungarian algorithm.\"\"\"\n",
    "    \n",
    "    y_true = adjust_range(y_true)\n",
    "    y_pred = adjust_range(y_pred)\n",
    "    \n",
    "    D = max(y_pred.max(), y_true.max()) + 1\n",
    "    w = np.zeros((D, D), dtype=np.int64)\n",
    "    # Confusion matrix.\n",
    "    for i in range(y_pred.size):\n",
    "        w[y_pred[i], y_true[i]] += 1\n",
    "    ind = linear_assignment(-w)\n",
    "    d = {i:j for i, j in ind}\n",
    "    y_pred = np.array([d[v] for v in y_pred])\n",
    "    \n",
    "    return y_true, y_pred\n",
    "\n",
    "\n",
    "def adjust_range(y):\n",
    "    \"\"\"Assures that the range of indices if from 0 to n-1.\"\"\"\n",
    "    y = np.array(y, dtype=np.int64)\n",
    "    val_set = set(y)\n",
    "    mapping = {val:i for  i,val in enumerate(val_set)}\n",
    "    y = np.array([mapping[val] for val in y], dtype=np.int64)\n",
    "    return y\n",
    "    \n",
    "    \n",
    "def run_mars_workflow(train, val, cell_type_key):\n",
    "    params, unknown = get_parser().parse_known_args()\n",
    "    params.device = 'cpu'\n",
    "    \n",
    "    if 'sparse' not in str(type(train.X)): train.X = scipy.sparse.csr_matrix(train.X)\n",
    "    if 'sparse' not in str(type(val.X)): val.X = scipy.sparse.csr_matrix(val.X)\n",
    "        \n",
    "    var_names = train.var_names.intersection(val.var_names)\n",
    "    train = train[:, var_names]\n",
    "    val = val[:, var_names]\n",
    "\n",
    "    train.obs['dataset'] = 'train'\n",
    "    val.obs['dataset'] = 'val'\n",
    "\n",
    "    adata = anndata.concat((train, val))\n",
    "\n",
    "    sc.pp.normalize_per_cell(adata, counts_per_cell_after=1e4)\n",
    "    sc.pp.scale(adata, zero_center=True, max_value=10.)\n",
    "\n",
    "    sc.pp.neighbors(adata, n_neighbors=30, use_rep='X')\n",
    "    sc.pp.pca(adata, n_comps=50)\n",
    "    \n",
    "    train = adata[adata.obs['dataset'] == 'train',:]\n",
    "    val = adata[adata.obs['dataset'] == 'val',:]\n",
    "\n",
    "    train = train[train.obs.sort_values(cell_type_key).index]\n",
    "    val = val[val.obs.sort_values(cell_type_key).index]\n",
    "    \n",
    "    class_to_int = {c:i for i, c in enumerate(sorted(set(train.obs[cell_type_key])))}\n",
    "    int_to_class = {i:c for c, i in class_to_int.items()}\n",
    "    \n",
    "    y_train = np.array([class_to_int[c] for c in train.obs[cell_type_key]], dtype=np.int64)\n",
    "    annotated = ExperimentDataset(train.X.toarray(), train.obs_names, train.var_names, 'train', y_train, )\n",
    "    y_val = np.array([class_to_int[c] for c in val.obs[cell_type_key]], dtype=np.int64)\n",
    "    unannotated = ExperimentDataset(val.X.toarray(), val.obs_names, val.var_names, 'val', y_val)\n",
    "    \n",
    "    pretrain_data = ExperimentDataset(val.X.toarray(), val.obs_names, val.var_names, 'val')\n",
    "    n_clusters = len(np.unique(unannotated.y))\n",
    "    mars = MARS(n_clusters, params, [annotated], unannotated, pretrain_data, hid_dim_1=1000, hid_dim_2=100)\n",
    "    a, landmarks, scores = mars.train(evaluation_mode=True, save_all_embeddings=True)\n",
    "    \n",
    "    preds = a[a.obs['experiment']=='val'].copy()\n",
    "    preds.obs.index = [x.replace('-val', '') for x in preds.obs.index]\n",
    "    _, adjusted = hungarian_match(preds.obs['truth_labels'], preds.obs['MARS_labels'])\n",
    "    preds.obs['adjusted_predicted'] = adjusted\n",
    "    preds.obs['groundtruth'] = [val.obs.loc[x, cell_type_key] for x in preds.obs.index]\n",
    "    preds.obs['predicted'] = [int_to_class[x] for x in preds.obs['adjusted_predicted']]\n",
    "\n",
    "    df = preds.obs[['groundtruth', 'predicted']]\n",
    "    df['cell_id'] = df.index.to_list()\n",
    "    df['probability'] = np.nan\n",
    "    df = df[['cell_id', 'groundtruth', 'predicted', 'probability']]\n",
    "\n",
    "    return df"
   ]
  },
  {
   "cell_type": "code",
   "execution_count": null,
   "metadata": {
    "scrolled": true
   },
   "outputs": [],
   "source": [
    "run_workflow_for_datasets(adata_map, run_mars_workflow, 'mars', RESULTS_DIR)"
   ]
  },
  {
   "cell_type": "code",
   "execution_count": null,
   "metadata": {},
   "outputs": [],
   "source": [
    "run_workflow_for_cross_disease(adata_map, run_mars_workflow, 'mars', RESULTS_CROSS_DISEASE_DIR)"
   ]
  },
  {
   "cell_type": "code",
   "execution_count": null,
   "metadata": {},
   "outputs": [],
   "source": [
    "# run_workflow_for_cross_datatype(adata_map, run_mars_workflow, 'mars', RESULTS_CROSS_DTYPE_DIR)"
   ]
  },
  {
   "cell_type": "code",
   "execution_count": null,
   "metadata": {},
   "outputs": [],
   "source": []
  },
  {
   "cell_type": "markdown",
   "metadata": {
    "heading_collapsed": true
   },
   "source": [
    "###### testing stuff"
   ]
  },
  {
   "cell_type": "code",
   "execution_count": null,
   "metadata": {
    "hidden": true
   },
   "outputs": [],
   "source": [
    "from model.mars import MARS\n",
    "from model.experiment_dataset import ExperimentDataset"
   ]
  },
  {
   "cell_type": "code",
   "execution_count": null,
   "metadata": {
    "hidden": true
   },
   "outputs": [],
   "source": [
    "train, val = (sc.read_h5ad(adata_map['scRNAseq']['pbmc']['train']),\n",
    "              sc.read_h5ad(adata_map['scRNAseq']['pbmc']['val']))"
   ]
  },
  {
   "cell_type": "code",
   "execution_count": null,
   "metadata": {
    "hidden": true
   },
   "outputs": [],
   "source": [
    "if 'sparse' not in str(type(train.X)): train.X = scipy.sparse.csr_matrix(train.X)\n",
    "if 'sparse' not in str(type(val.X)): val.X = scipy.sparse.csr_matrix(val.X)\n"
   ]
  },
  {
   "cell_type": "code",
   "execution_count": null,
   "metadata": {
    "hidden": true
   },
   "outputs": [],
   "source": [
    "var_names = train.var_names.intersection(val.var_names)\n",
    "train = train[:, var_names]\n",
    "val = val[:, var_names]\n",
    "\n",
    "train.obs['dataset'] = 'train'\n",
    "val.obs['dataset'] = 'val'\n",
    "\n",
    "combined = train.concat(val)\n",
    "\n",
    "sc.pp.normalize_per_cell(adata, counts_per_cell_after=1e4)\n",
    "sc.pp.scale(adata, zero_center=True)\n",
    "\n",
    "sc.pp.neighbors(adata, n_neighbors=30, use_rep='X')\n",
    "sc.pp.pca(adata, n_comps=50)"
   ]
  },
  {
   "cell_type": "code",
   "execution_count": null,
   "metadata": {
    "hidden": true
   },
   "outputs": [],
   "source": [
    "train = adata[adata.obs['dataset'] == 'train',:]\n",
    "val = adata[adata.obs['dataset'] == 'val',:]"
   ]
  },
  {
   "cell_type": "code",
   "execution_count": null,
   "metadata": {
    "hidden": true
   },
   "outputs": [],
   "source": [
    "y_train = np.array(train.obs['cell_type'])\n",
    "annotated = ExperimentDataset(train.X.toarray(), train.obs_names, train.var_names, 'train', y_train)"
   ]
  },
  {
   "cell_type": "code",
   "execution_count": null,
   "metadata": {
    "hidden": true
   },
   "outputs": [],
   "source": [
    "y_val = np.array(val.obs['cell_type'])\n",
    "unannotated = ExperimentDataset(val.X.toarray(), val.obs_names, val.var_names, 'val', y_val)"
   ]
  },
  {
   "cell_type": "code",
   "execution_count": null,
   "metadata": {
    "hidden": true
   },
   "outputs": [],
   "source": [
    "pretrain_data = ExperimentDataset(val.X.toarray(), val.obs_names, val.var_names, 'val')"
   ]
  },
  {
   "cell_type": "code",
   "execution_count": null,
   "metadata": {
    "hidden": true
   },
   "outputs": [],
   "source": [
    "\n",
    "n_clusters = len(np.unique(unannnotated.y))"
   ]
  },
  {
   "cell_type": "code",
   "execution_count": null,
   "metadata": {
    "hidden": true
   },
   "outputs": [],
   "source": [
    "mars = MARS(n_clusters, params, [annotated], unannnotated, pretrain_data, hid_dim_1=1000, hid_dim_2=100)"
   ]
  },
  {
   "cell_type": "code",
   "execution_count": null,
   "metadata": {
    "hidden": true
   },
   "outputs": [],
   "source": [
    "# return both annotated and unannotated datasets with save_all_embeddings\n",
    "adata, landmarks, scores = mars.train(evaluation_mode=True, save_all_embeddings=True) # evaluation mode"
   ]
  },
  {
   "cell_type": "code",
   "execution_count": null,
   "metadata": {
    "hidden": true
   },
   "outputs": [],
   "source": [
    "adata.obs"
   ]
  }
 ],
 "metadata": {
  "kernelspec": {
   "display_name": "Python 3",
   "language": "python",
   "name": "python3"
  },
  "language_info": {
   "codemirror_mode": {
    "name": "ipython",
    "version": 3
   },
   "file_extension": ".py",
   "mimetype": "text/x-python",
   "name": "python",
   "nbconvert_exporter": "python",
   "pygments_lexer": "ipython3",
   "version": "3.7.8"
  }
 },
 "nbformat": 4,
 "nbformat_minor": 4
}
