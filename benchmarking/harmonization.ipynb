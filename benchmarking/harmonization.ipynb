{
 "cells": [
  {
   "cell_type": "code",
   "execution_count": 2,
   "metadata": {},
   "outputs": [],
   "source": [
    "from pathlib import Path\n",
    "from collections import Counter\n",
    "import os\n",
    "import re\n",
    "import random\n",
    "\n",
    "import anndata\n",
    "import scanpy as sc\n",
    "import pandas as pd\n",
    "import numpy as np\n",
    "\n",
    "import mgitools.os_helpers as os_helpers"
   ]
  },
  {
   "cell_type": "code",
   "execution_count": 3,
   "metadata": {},
   "outputs": [],
   "source": [
    "DATA_DIR = '/home/estorrs/pollock/benchmarking/data/01272021/'\n",
    "OUTPUT_DIR = '/home/estorrs/pollock/benchmarking/data/01272021_harmonized/'\n",
    "T1_OUTPUT = os.path.join(OUTPUT_DIR, 'teir_1')\n",
    "T2_OUTPUT = os.path.join(OUTPUT_DIR, 'teir_2')\n",
    "SANDBOX_DIR = '/home/estorrs/pollock/benchmarking/sandbox'\n",
    "\n",
    "Path(T1_OUTPUT).mkdir(parents=True, exist_ok=True)\n",
    "Path(T2_OUTPUT).mkdir(parents=True, exist_ok=True)"
   ]
  },
  {
   "cell_type": "markdown",
   "metadata": {},
   "source": [
    "expected structure of input data is something like\n",
    "- data\n",
    "    - snATACseq\n",
    "        - cesc.h5ad\n",
    "        - pbmc.h5ad\n",
    "        ....\n",
    "    - scRNAseq\n",
    "        - pbmc.h5ad\n",
    "        - brca.h5ad\n",
    "        .....\n",
    "    - snRNAseq\n",
    "        - brca.h5ad\n",
    "        ....."
   ]
  },
  {
   "cell_type": "code",
   "execution_count": 17,
   "metadata": {},
   "outputs": [
    {
     "name": "stdout",
     "output_type": "stream",
     "text": [
      "scRNAseq brca (98564, 27131)\n",
      "scRNAseq cesc (31745, 22928)\n",
      "scRNAseq hnscc (299761, 26929)\n",
      "scRNAseq melanoma (52739, 23452)\n",
      "scRNAseq myeloma (108187, 24020)\n",
      "scRNAseq pbmc (2638, 32738)\n",
      "scRNAseq pdac (182480, 28756)\n",
      "snATACseq brca (70679, 19891)\n",
      "snATACseq ccrcc (79853, 928628)\n",
      "snATACseq gbm (65891, 19891)\n",
      "snRNAseq brca (110443, 29175)\n",
      "snRNAseq ccrcc (126034, 33538)\n",
      "snRNAseq gbm (206642, 29748)\n"
     ]
    }
   ],
   "source": [
    "fps = sorted(os_helpers.listfiles(DATA_DIR, regex='.h5ad$'))\n",
    "adata_map = {fp.split('/')[-2]:{} for fp in fps}\n",
    "for fp in fps:\n",
    "    dtype = fp.split('/')[-2]\n",
    "    disease = fp.split('/')[-1].replace('.h5ad', '')\n",
    "    adata_map[dtype][disease] = sc.read_h5ad(fp)\n",
    "\n",
    "for dtype, d in adata_map.items():\n",
    "    for disease, m in d.items():\n",
    "        print(dtype, disease, m.shape)"
   ]
  },
  {
   "cell_type": "markdown",
   "metadata": {
    "heading_collapsed": true
   },
   "source": [
    "###### dataset processing if necessary"
   ]
  },
  {
   "cell_type": "code",
   "execution_count": 6,
   "metadata": {
    "hidden": true
   },
   "outputs": [
    {
     "data": {
      "text/plain": [
       "AnnData object with n_obs × n_vars = 108187 × 24020\n",
       "    obs: 'orig.ident', 'nCount_RNA', 'nFeature_RNA', 'percent.mito', 'nCount_SCT', 'nFeature_SCT', 'SCT_snn_res.0.5', 'seurat_clusters', 'cell_type', 'sample', 'predicted_cell_type', 'probability', 'new.ident', 'ident'\n",
       "    layers: 'logcounts'"
      ]
     },
     "execution_count": 6,
     "metadata": {},
     "output_type": "execute_result"
    }
   ],
   "source": [
    "adata = sc.read_h5ad('/home/estorrs/pollock/benchmarking/data/01272021/scRNAseq/myeloma.h5ad')\n",
    "adata"
   ]
  },
  {
   "cell_type": "code",
   "execution_count": 7,
   "metadata": {
    "hidden": true
   },
   "outputs": [
    {
     "data": {
      "text/html": [
       "<div>\n",
       "<style scoped>\n",
       "    .dataframe tbody tr th:only-of-type {\n",
       "        vertical-align: middle;\n",
       "    }\n",
       "\n",
       "    .dataframe tbody tr th {\n",
       "        vertical-align: top;\n",
       "    }\n",
       "\n",
       "    .dataframe thead th {\n",
       "        text-align: right;\n",
       "    }\n",
       "</style>\n",
       "<table border=\"1\" class=\"dataframe\">\n",
       "  <thead>\n",
       "    <tr style=\"text-align: right;\">\n",
       "      <th></th>\n",
       "      <th>orig.ident</th>\n",
       "      <th>nCount_RNA</th>\n",
       "      <th>nFeature_RNA</th>\n",
       "      <th>percent.mito</th>\n",
       "      <th>nCount_SCT</th>\n",
       "      <th>nFeature_SCT</th>\n",
       "      <th>SCT_snn_res.0.5</th>\n",
       "      <th>seurat_clusters</th>\n",
       "      <th>cell_type</th>\n",
       "      <th>sample</th>\n",
       "      <th>predicted_cell_type</th>\n",
       "      <th>probability</th>\n",
       "      <th>new.ident</th>\n",
       "      <th>ident</th>\n",
       "    </tr>\n",
       "    <tr>\n",
       "      <th>index</th>\n",
       "      <th></th>\n",
       "      <th></th>\n",
       "      <th></th>\n",
       "      <th></th>\n",
       "      <th></th>\n",
       "      <th></th>\n",
       "      <th></th>\n",
       "      <th></th>\n",
       "      <th></th>\n",
       "      <th></th>\n",
       "      <th></th>\n",
       "      <th></th>\n",
       "      <th></th>\n",
       "      <th></th>\n",
       "    </tr>\n",
       "  </thead>\n",
       "  <tbody>\n",
       "    <tr>\n",
       "      <th>25183_AAACCTGAGTTAACGA-1</th>\n",
       "      <td>25183</td>\n",
       "      <td>9680.0</td>\n",
       "      <td>1669</td>\n",
       "      <td>0.018492</td>\n",
       "      <td>3721.0</td>\n",
       "      <td>1140</td>\n",
       "      <td>0</td>\n",
       "      <td>0</td>\n",
       "      <td>Plasma</td>\n",
       "      <td>NA</td>\n",
       "      <td>NA</td>\n",
       "      <td>NaN</td>\n",
       "      <td>NA</td>\n",
       "      <td>Plasma</td>\n",
       "    </tr>\n",
       "    <tr>\n",
       "      <th>25183_AAACCTGTCAACTCTT-1</th>\n",
       "      <td>25183</td>\n",
       "      <td>2311.0</td>\n",
       "      <td>559</td>\n",
       "      <td>0.047166</td>\n",
       "      <td>3282.0</td>\n",
       "      <td>554</td>\n",
       "      <td>5</td>\n",
       "      <td>5</td>\n",
       "      <td>Plasma</td>\n",
       "      <td>NA</td>\n",
       "      <td>NA</td>\n",
       "      <td>NaN</td>\n",
       "      <td>NA</td>\n",
       "      <td>Plasma</td>\n",
       "    </tr>\n",
       "    <tr>\n",
       "      <th>25183_AAACGGGAGAGACGAA-1</th>\n",
       "      <td>25183</td>\n",
       "      <td>3567.0</td>\n",
       "      <td>229</td>\n",
       "      <td>0.019064</td>\n",
       "      <td>3507.0</td>\n",
       "      <td>229</td>\n",
       "      <td>2</td>\n",
       "      <td>2</td>\n",
       "      <td>Plasma</td>\n",
       "      <td>NA</td>\n",
       "      <td>NA</td>\n",
       "      <td>NaN</td>\n",
       "      <td>NA</td>\n",
       "      <td>Plasma</td>\n",
       "    </tr>\n",
       "    <tr>\n",
       "      <th>25183_AAACGGGAGCTTCGCG-1</th>\n",
       "      <td>25183</td>\n",
       "      <td>5664.0</td>\n",
       "      <td>1389</td>\n",
       "      <td>0.019421</td>\n",
       "      <td>3874.0</td>\n",
       "      <td>1374</td>\n",
       "      <td>1</td>\n",
       "      <td>1</td>\n",
       "      <td>Plasma</td>\n",
       "      <td>NA</td>\n",
       "      <td>NA</td>\n",
       "      <td>NaN</td>\n",
       "      <td>NA</td>\n",
       "      <td>Plasma</td>\n",
       "    </tr>\n",
       "    <tr>\n",
       "      <th>25183_AAACGGGCACAGCCCA-1</th>\n",
       "      <td>25183</td>\n",
       "      <td>4208.0</td>\n",
       "      <td>955</td>\n",
       "      <td>0.023527</td>\n",
       "      <td>3648.0</td>\n",
       "      <td>951</td>\n",
       "      <td>2</td>\n",
       "      <td>2</td>\n",
       "      <td>Plasma</td>\n",
       "      <td>NA</td>\n",
       "      <td>NA</td>\n",
       "      <td>NaN</td>\n",
       "      <td>NA</td>\n",
       "      <td>Plasma</td>\n",
       "    </tr>\n",
       "    <tr>\n",
       "      <th>...</th>\n",
       "      <td>...</td>\n",
       "      <td>...</td>\n",
       "      <td>...</td>\n",
       "      <td>...</td>\n",
       "      <td>...</td>\n",
       "      <td>...</td>\n",
       "      <td>...</td>\n",
       "      <td>...</td>\n",
       "      <td>...</td>\n",
       "      <td>...</td>\n",
       "      <td>...</td>\n",
       "      <td>...</td>\n",
       "      <td>...</td>\n",
       "      <td>...</td>\n",
       "    </tr>\n",
       "    <tr>\n",
       "      <th>Normal_sorted_170607_GTGCAGCTCTCTAGGA-1</th>\n",
       "      <td>Normal_sorted_170607</td>\n",
       "      <td>1238.0</td>\n",
       "      <td>247</td>\n",
       "      <td>0.010501</td>\n",
       "      <td>2243.0</td>\n",
       "      <td>292</td>\n",
       "      <td>12</td>\n",
       "      <td>12</td>\n",
       "      <td>B</td>\n",
       "      <td>NA</td>\n",
       "      <td>NA</td>\n",
       "      <td>NaN</td>\n",
       "      <td>B</td>\n",
       "      <td>B</td>\n",
       "    </tr>\n",
       "    <tr>\n",
       "      <th>Normal_sorted_170607_TACTTGTCAAGGACTG-1</th>\n",
       "      <td>Normal_sorted_170607</td>\n",
       "      <td>1216.0</td>\n",
       "      <td>248</td>\n",
       "      <td>0.003289</td>\n",
       "      <td>2171.0</td>\n",
       "      <td>294</td>\n",
       "      <td>12</td>\n",
       "      <td>12</td>\n",
       "      <td>Plasma_BM</td>\n",
       "      <td>NA</td>\n",
       "      <td>NA</td>\n",
       "      <td>NaN</td>\n",
       "      <td>Plasma</td>\n",
       "      <td>Plasma_BM</td>\n",
       "    </tr>\n",
       "    <tr>\n",
       "      <th>Normal_sorted_170607_TCAGCTCTCAGTCAGT-1</th>\n",
       "      <td>Normal_sorted_170607</td>\n",
       "      <td>3315.0</td>\n",
       "      <td>376</td>\n",
       "      <td>0.002112</td>\n",
       "      <td>2741.0</td>\n",
       "      <td>361</td>\n",
       "      <td>12</td>\n",
       "      <td>12</td>\n",
       "      <td>Plasma_BM</td>\n",
       "      <td>NA</td>\n",
       "      <td>NA</td>\n",
       "      <td>NaN</td>\n",
       "      <td>Plasma</td>\n",
       "      <td>Plasma_BM</td>\n",
       "    </tr>\n",
       "    <tr>\n",
       "      <th>Normal_sorted_170607_TGACAACAGGACATTA-1</th>\n",
       "      <td>Normal_sorted_170607</td>\n",
       "      <td>2051.0</td>\n",
       "      <td>609</td>\n",
       "      <td>0.010726</td>\n",
       "      <td>2338.0</td>\n",
       "      <td>601</td>\n",
       "      <td>12</td>\n",
       "      <td>12</td>\n",
       "      <td>B</td>\n",
       "      <td>NA</td>\n",
       "      <td>NA</td>\n",
       "      <td>NaN</td>\n",
       "      <td>B</td>\n",
       "      <td>B</td>\n",
       "    </tr>\n",
       "    <tr>\n",
       "      <th>Normal_sorted_170607_TGCACCTAGCTAGTGG-1</th>\n",
       "      <td>Normal_sorted_170607</td>\n",
       "      <td>5989.0</td>\n",
       "      <td>920</td>\n",
       "      <td>0.017031</td>\n",
       "      <td>3236.0</td>\n",
       "      <td>693</td>\n",
       "      <td>12</td>\n",
       "      <td>12</td>\n",
       "      <td>B</td>\n",
       "      <td>NA</td>\n",
       "      <td>NA</td>\n",
       "      <td>NaN</td>\n",
       "      <td>B</td>\n",
       "      <td>B</td>\n",
       "    </tr>\n",
       "  </tbody>\n",
       "</table>\n",
       "<p>108187 rows × 14 columns</p>\n",
       "</div>"
      ],
      "text/plain": [
       "                                                   orig.ident  nCount_RNA  \\\n",
       "index                                                                       \n",
       "25183_AAACCTGAGTTAACGA-1                                25183      9680.0   \n",
       "25183_AAACCTGTCAACTCTT-1                                25183      2311.0   \n",
       "25183_AAACGGGAGAGACGAA-1                                25183      3567.0   \n",
       "25183_AAACGGGAGCTTCGCG-1                                25183      5664.0   \n",
       "25183_AAACGGGCACAGCCCA-1                                25183      4208.0   \n",
       "...                                                       ...         ...   \n",
       "Normal_sorted_170607_GTGCAGCTCTCTAGGA-1  Normal_sorted_170607      1238.0   \n",
       "Normal_sorted_170607_TACTTGTCAAGGACTG-1  Normal_sorted_170607      1216.0   \n",
       "Normal_sorted_170607_TCAGCTCTCAGTCAGT-1  Normal_sorted_170607      3315.0   \n",
       "Normal_sorted_170607_TGACAACAGGACATTA-1  Normal_sorted_170607      2051.0   \n",
       "Normal_sorted_170607_TGCACCTAGCTAGTGG-1  Normal_sorted_170607      5989.0   \n",
       "\n",
       "                                         nFeature_RNA  percent.mito  \\\n",
       "index                                                                 \n",
       "25183_AAACCTGAGTTAACGA-1                         1669      0.018492   \n",
       "25183_AAACCTGTCAACTCTT-1                          559      0.047166   \n",
       "25183_AAACGGGAGAGACGAA-1                          229      0.019064   \n",
       "25183_AAACGGGAGCTTCGCG-1                         1389      0.019421   \n",
       "25183_AAACGGGCACAGCCCA-1                          955      0.023527   \n",
       "...                                               ...           ...   \n",
       "Normal_sorted_170607_GTGCAGCTCTCTAGGA-1           247      0.010501   \n",
       "Normal_sorted_170607_TACTTGTCAAGGACTG-1           248      0.003289   \n",
       "Normal_sorted_170607_TCAGCTCTCAGTCAGT-1           376      0.002112   \n",
       "Normal_sorted_170607_TGACAACAGGACATTA-1           609      0.010726   \n",
       "Normal_sorted_170607_TGCACCTAGCTAGTGG-1           920      0.017031   \n",
       "\n",
       "                                         nCount_SCT  nFeature_SCT  \\\n",
       "index                                                               \n",
       "25183_AAACCTGAGTTAACGA-1                     3721.0          1140   \n",
       "25183_AAACCTGTCAACTCTT-1                     3282.0           554   \n",
       "25183_AAACGGGAGAGACGAA-1                     3507.0           229   \n",
       "25183_AAACGGGAGCTTCGCG-1                     3874.0          1374   \n",
       "25183_AAACGGGCACAGCCCA-1                     3648.0           951   \n",
       "...                                             ...           ...   \n",
       "Normal_sorted_170607_GTGCAGCTCTCTAGGA-1      2243.0           292   \n",
       "Normal_sorted_170607_TACTTGTCAAGGACTG-1      2171.0           294   \n",
       "Normal_sorted_170607_TCAGCTCTCAGTCAGT-1      2741.0           361   \n",
       "Normal_sorted_170607_TGACAACAGGACATTA-1      2338.0           601   \n",
       "Normal_sorted_170607_TGCACCTAGCTAGTGG-1      3236.0           693   \n",
       "\n",
       "                                        SCT_snn_res.0.5 seurat_clusters  \\\n",
       "index                                                                     \n",
       "25183_AAACCTGAGTTAACGA-1                              0               0   \n",
       "25183_AAACCTGTCAACTCTT-1                              5               5   \n",
       "25183_AAACGGGAGAGACGAA-1                              2               2   \n",
       "25183_AAACGGGAGCTTCGCG-1                              1               1   \n",
       "25183_AAACGGGCACAGCCCA-1                              2               2   \n",
       "...                                                 ...             ...   \n",
       "Normal_sorted_170607_GTGCAGCTCTCTAGGA-1              12              12   \n",
       "Normal_sorted_170607_TACTTGTCAAGGACTG-1              12              12   \n",
       "Normal_sorted_170607_TCAGCTCTCAGTCAGT-1              12              12   \n",
       "Normal_sorted_170607_TGACAACAGGACATTA-1              12              12   \n",
       "Normal_sorted_170607_TGCACCTAGCTAGTGG-1              12              12   \n",
       "\n",
       "                                         cell_type sample predicted_cell_type  \\\n",
       "index                                                                           \n",
       "25183_AAACCTGAGTTAACGA-1                    Plasma     NA                  NA   \n",
       "25183_AAACCTGTCAACTCTT-1                    Plasma     NA                  NA   \n",
       "25183_AAACGGGAGAGACGAA-1                    Plasma     NA                  NA   \n",
       "25183_AAACGGGAGCTTCGCG-1                    Plasma     NA                  NA   \n",
       "25183_AAACGGGCACAGCCCA-1                    Plasma     NA                  NA   \n",
       "...                                            ...    ...                 ...   \n",
       "Normal_sorted_170607_GTGCAGCTCTCTAGGA-1          B     NA                  NA   \n",
       "Normal_sorted_170607_TACTTGTCAAGGACTG-1  Plasma_BM     NA                  NA   \n",
       "Normal_sorted_170607_TCAGCTCTCAGTCAGT-1  Plasma_BM     NA                  NA   \n",
       "Normal_sorted_170607_TGACAACAGGACATTA-1          B     NA                  NA   \n",
       "Normal_sorted_170607_TGCACCTAGCTAGTGG-1          B     NA                  NA   \n",
       "\n",
       "                                         probability new.ident      ident  \n",
       "index                                                                      \n",
       "25183_AAACCTGAGTTAACGA-1                         NaN        NA     Plasma  \n",
       "25183_AAACCTGTCAACTCTT-1                         NaN        NA     Plasma  \n",
       "25183_AAACGGGAGAGACGAA-1                         NaN        NA     Plasma  \n",
       "25183_AAACGGGAGCTTCGCG-1                         NaN        NA     Plasma  \n",
       "25183_AAACGGGCACAGCCCA-1                         NaN        NA     Plasma  \n",
       "...                                              ...       ...        ...  \n",
       "Normal_sorted_170607_GTGCAGCTCTCTAGGA-1          NaN         B          B  \n",
       "Normal_sorted_170607_TACTTGTCAAGGACTG-1          NaN    Plasma  Plasma_BM  \n",
       "Normal_sorted_170607_TCAGCTCTCAGTCAGT-1          NaN    Plasma  Plasma_BM  \n",
       "Normal_sorted_170607_TGACAACAGGACATTA-1          NaN         B          B  \n",
       "Normal_sorted_170607_TGCACCTAGCTAGTGG-1          NaN         B          B  \n",
       "\n",
       "[108187 rows x 14 columns]"
      ]
     },
     "execution_count": 7,
     "metadata": {},
     "output_type": "execute_result"
    }
   ],
   "source": [
    "adata.obs"
   ]
  },
  {
   "cell_type": "code",
   "execution_count": 8,
   "metadata": {
    "hidden": true
   },
   "outputs": [],
   "source": [
    "adata.obs['cell_type']= [x if x != 'Plasma' else 'Malignant' for x in adata.obs['cell_type']]"
   ]
  },
  {
   "cell_type": "code",
   "execution_count": 9,
   "metadata": {
    "hidden": true
   },
   "outputs": [
    {
     "name": "stderr",
     "output_type": "stream",
     "text": [
      "/home/estorrs/miniconda3/envs/pollock_dev/lib/python3.7/site-packages/anndata/_core/anndata.py:1192: FutureWarning: is_categorical is deprecated and will be removed in a future version.  Use is_categorical_dtype instead\n",
      "  if is_string_dtype(df[key]) and not is_categorical(df[key])\n",
      "... storing 'cell_type' as categorical\n"
     ]
    }
   ],
   "source": [
    "adata.write_h5ad('/home/estorrs/pollock/benchmarking/data/01272021/scRNAseq/myeloma.h5ad')"
   ]
  },
  {
   "cell_type": "code",
   "execution_count": 4,
   "metadata": {
    "hidden": true
   },
   "outputs": [
    {
     "data": {
      "text/plain": [
       "AnnData object with n_obs × n_vars = 52739 × 23452\n",
       "    obs: 'nGene', 'nUMI', 'orig.ident', 'percent.mito', 'res.0.6', 'sample', 'nCount_RNA', 'nFeature_RNA', 'predicted.id', 'prediction.score.Bcell', 'prediction.score.Tcell', 'prediction.score.MM', 'prediction.score.CAF', 'prediction.score.PDC', 'prediction.score.Melanoma', 'prediction.score.DC', 'prediction.score.Plasma', 'prediction.score.Erythrocyte', 'prediction.score.Jejunum', 'prediction.score.Endothelial', 'prediction.score.max', 'assigned.id', 'manual.id', 'final.id', 'bc', 'nCount_SCT', 'nFeature_SCT', 'SCT_snn_res.0.5', 'seurat_clusters', 'int.id', 'ident', 'cell_type'\n",
       "    var: 'detection_rate', 'gmean', 'variance', 'residual_mean', 'residual_variance'\n",
       "    obsm: 'X_pca', 'X_umap'\n",
       "    layers: 'logcounts'"
      ]
     },
     "execution_count": 4,
     "metadata": {},
     "output_type": "execute_result"
    }
   ],
   "source": [
    "adata = sc.read_h5ad('/home/estorrs/pollock/benchmarking/data/01272021/scRNAseq/melanoma.h5ad')\n",
    "adata"
   ]
  },
  {
   "cell_type": "code",
   "execution_count": 5,
   "metadata": {
    "hidden": true
   },
   "outputs": [
    {
     "data": {
      "text/html": [
       "<div>\n",
       "<style scoped>\n",
       "    .dataframe tbody tr th:only-of-type {\n",
       "        vertical-align: middle;\n",
       "    }\n",
       "\n",
       "    .dataframe tbody tr th {\n",
       "        vertical-align: top;\n",
       "    }\n",
       "\n",
       "    .dataframe thead th {\n",
       "        text-align: right;\n",
       "    }\n",
       "</style>\n",
       "<table border=\"1\" class=\"dataframe\">\n",
       "  <thead>\n",
       "    <tr style=\"text-align: right;\">\n",
       "      <th></th>\n",
       "      <th>detection_rate</th>\n",
       "      <th>gmean</th>\n",
       "      <th>variance</th>\n",
       "      <th>residual_mean</th>\n",
       "      <th>residual_variance</th>\n",
       "    </tr>\n",
       "  </thead>\n",
       "  <tbody>\n",
       "    <tr>\n",
       "      <th>ENSG00000238009</th>\n",
       "      <td>0.001024</td>\n",
       "      <td>0.000710</td>\n",
       "      <td>0.001023</td>\n",
       "      <td>0.005429</td>\n",
       "      <td>1.205686</td>\n",
       "    </tr>\n",
       "    <tr>\n",
       "      <th>ENSG00000237491</th>\n",
       "      <td>0.020497</td>\n",
       "      <td>0.014736</td>\n",
       "      <td>0.023200</td>\n",
       "      <td>0.007018</td>\n",
       "      <td>1.024149</td>\n",
       "    </tr>\n",
       "    <tr>\n",
       "      <th>ENSG00000177757</th>\n",
       "      <td>0.000967</td>\n",
       "      <td>0.000699</td>\n",
       "      <td>0.001231</td>\n",
       "      <td>-0.000056</td>\n",
       "      <td>0.995660</td>\n",
       "    </tr>\n",
       "    <tr>\n",
       "      <th>ENSG00000225880</th>\n",
       "      <td>0.011794</td>\n",
       "      <td>0.008482</td>\n",
       "      <td>0.014008</td>\n",
       "      <td>0.009830</td>\n",
       "      <td>1.207445</td>\n",
       "    </tr>\n",
       "    <tr>\n",
       "      <th>ENSG00000230368</th>\n",
       "      <td>0.021824</td>\n",
       "      <td>0.015749</td>\n",
       "      <td>0.025406</td>\n",
       "      <td>-0.000743</td>\n",
       "      <td>0.930020</td>\n",
       "    </tr>\n",
       "    <tr>\n",
       "      <th>...</th>\n",
       "      <td>...</td>\n",
       "      <td>...</td>\n",
       "      <td>...</td>\n",
       "      <td>...</td>\n",
       "      <td>...</td>\n",
       "    </tr>\n",
       "    <tr>\n",
       "      <th>ENSG00000278384</th>\n",
       "      <td>0.008153</td>\n",
       "      <td>0.005783</td>\n",
       "      <td>0.008936</td>\n",
       "      <td>-0.018245</td>\n",
       "      <td>0.514212</td>\n",
       "    </tr>\n",
       "    <tr>\n",
       "      <th>ENSG00000276345</th>\n",
       "      <td>0.061454</td>\n",
       "      <td>0.058716</td>\n",
       "      <td>0.245925</td>\n",
       "      <td>-0.043126</td>\n",
       "      <td>0.742454</td>\n",
       "    </tr>\n",
       "    <tr>\n",
       "      <th>ENSG00000277856</th>\n",
       "      <td>0.000152</td>\n",
       "      <td>0.000121</td>\n",
       "      <td>0.000265</td>\n",
       "      <td>0.004714</td>\n",
       "      <td>1.940715</td>\n",
       "    </tr>\n",
       "    <tr>\n",
       "      <th>ENSG00000275063</th>\n",
       "      <td>0.000114</td>\n",
       "      <td>0.000092</td>\n",
       "      <td>0.000265</td>\n",
       "      <td>-0.003213</td>\n",
       "      <td>0.303124</td>\n",
       "    </tr>\n",
       "    <tr>\n",
       "      <th>ENSG00000271254</th>\n",
       "      <td>0.008874</td>\n",
       "      <td>0.006294</td>\n",
       "      <td>0.009700</td>\n",
       "      <td>-0.003361</td>\n",
       "      <td>0.851178</td>\n",
       "    </tr>\n",
       "  </tbody>\n",
       "</table>\n",
       "<p>23452 rows × 5 columns</p>\n",
       "</div>"
      ],
      "text/plain": [
       "                 detection_rate     gmean  variance  residual_mean  \\\n",
       "ENSG00000238009        0.001024  0.000710  0.001023       0.005429   \n",
       "ENSG00000237491        0.020497  0.014736  0.023200       0.007018   \n",
       "ENSG00000177757        0.000967  0.000699  0.001231      -0.000056   \n",
       "ENSG00000225880        0.011794  0.008482  0.014008       0.009830   \n",
       "ENSG00000230368        0.021824  0.015749  0.025406      -0.000743   \n",
       "...                         ...       ...       ...            ...   \n",
       "ENSG00000278384        0.008153  0.005783  0.008936      -0.018245   \n",
       "ENSG00000276345        0.061454  0.058716  0.245925      -0.043126   \n",
       "ENSG00000277856        0.000152  0.000121  0.000265       0.004714   \n",
       "ENSG00000275063        0.000114  0.000092  0.000265      -0.003213   \n",
       "ENSG00000271254        0.008874  0.006294  0.009700      -0.003361   \n",
       "\n",
       "                 residual_variance  \n",
       "ENSG00000238009           1.205686  \n",
       "ENSG00000237491           1.024149  \n",
       "ENSG00000177757           0.995660  \n",
       "ENSG00000225880           1.207445  \n",
       "ENSG00000230368           0.930020  \n",
       "...                            ...  \n",
       "ENSG00000278384           0.514212  \n",
       "ENSG00000276345           0.742454  \n",
       "ENSG00000277856           1.940715  \n",
       "ENSG00000275063           0.303124  \n",
       "ENSG00000271254           0.851178  \n",
       "\n",
       "[23452 rows x 5 columns]"
      ]
     },
     "execution_count": 5,
     "metadata": {},
     "output_type": "execute_result"
    }
   ],
   "source": [
    "adata.var"
   ]
  },
  {
   "cell_type": "code",
   "execution_count": 8,
   "metadata": {
    "hidden": true
   },
   "outputs": [],
   "source": [
    "# !pip install mygene"
   ]
  },
  {
   "cell_type": "code",
   "execution_count": 9,
   "metadata": {
    "hidden": true
   },
   "outputs": [],
   "source": [
    "import mygene\n",
    "mg = mygene.MyGeneInfo()"
   ]
  },
  {
   "cell_type": "code",
   "execution_count": 10,
   "metadata": {
    "hidden": true
   },
   "outputs": [
    {
     "data": {
      "text/plain": [
       "23452"
      ]
     },
     "execution_count": 10,
     "metadata": {},
     "output_type": "execute_result"
    }
   ],
   "source": [
    "gene_ids = sorted(set(adata.var.index))\n",
    "len(gene_ids)"
   ]
  },
  {
   "cell_type": "code",
   "execution_count": 11,
   "metadata": {
    "hidden": true
   },
   "outputs": [
    {
     "name": "stdout",
     "output_type": "stream",
     "text": [
      "querying 1-1000...done.\n",
      "querying 1001-2000...done.\n",
      "querying 2001-3000...done.\n",
      "querying 3001-4000...done.\n",
      "querying 4001-5000...done.\n",
      "querying 5001-6000...done.\n",
      "querying 6001-7000...done.\n",
      "querying 7001-8000...done.\n",
      "querying 8001-9000...done.\n",
      "querying 9001-10000...done.\n",
      "querying 10001-11000...done.\n",
      "querying 11001-12000...done.\n",
      "querying 12001-13000...done.\n",
      "querying 13001-14000...done.\n",
      "querying 14001-15000...done.\n",
      "querying 15001-16000...done.\n",
      "querying 16001-17000...done.\n",
      "querying 17001-18000...done.\n",
      "querying 18001-19000...done.\n",
      "querying 19001-20000...done.\n",
      "querying 20001-21000...done.\n",
      "querying 21001-22000...done.\n",
      "querying 22001-23000...done.\n",
      "querying 23001-23452...done.\n",
      "Finished.\n",
      "1 input query terms found dup hits:\n",
      "\t[('ENSG00000229425', 2)]\n",
      "132 input query terms found no hit:\n",
      "\t['ENSG00000116883', 'ENSG00000154537', 'ENSG00000163009', 'ENSG00000168078', 'ENSG00000184258', 'ENS\n",
      "Pass \"returnall=True\" to return complete lists of duplicate or missing query terms.\n"
     ]
    }
   ],
   "source": [
    "result = mg.querymany(gene_ids, scopes='ensemblgene', fields='symbol', species='human')"
   ]
  },
  {
   "cell_type": "code",
   "execution_count": 12,
   "metadata": {
    "hidden": true
   },
   "outputs": [
    {
     "data": {
      "text/plain": [
       "23320"
      ]
     },
     "execution_count": 12,
     "metadata": {},
     "output_type": "execute_result"
    }
   ],
   "source": [
    "ensembl_to_human_symbol = {x['query']:x['symbol'] for x in result if 'symbol' in x}\n",
    "len(ensembl_to_human_symbol)"
   ]
  },
  {
   "cell_type": "code",
   "execution_count": 13,
   "metadata": {
    "hidden": true
   },
   "outputs": [
    {
     "data": {
      "text/plain": [
       "AnnData object with n_obs × n_vars = 52739 × 23452\n",
       "    obs: 'nGene', 'nUMI', 'orig.ident', 'percent.mito', 'res.0.6', 'sample', 'nCount_RNA', 'nFeature_RNA', 'predicted.id', 'prediction.score.Bcell', 'prediction.score.Tcell', 'prediction.score.MM', 'prediction.score.CAF', 'prediction.score.PDC', 'prediction.score.Melanoma', 'prediction.score.DC', 'prediction.score.Plasma', 'prediction.score.Erythrocyte', 'prediction.score.Jejunum', 'prediction.score.Endothelial', 'prediction.score.max', 'assigned.id', 'manual.id', 'final.id', 'bc', 'nCount_SCT', 'nFeature_SCT', 'SCT_snn_res.0.5', 'seurat_clusters', 'int.id', 'ident', 'cell_type'\n",
       "    var: 'detection_rate', 'gmean', 'variance', 'residual_mean', 'residual_variance'\n",
       "    obsm: 'X_pca', 'X_umap'\n",
       "    layers: 'logcounts'"
      ]
     },
     "execution_count": 13,
     "metadata": {},
     "output_type": "execute_result"
    }
   ],
   "source": [
    "adata.var.index = [ensembl_to_human_symbol.get(g, '') for g in adata.var.index]\n",
    "adata"
   ]
  },
  {
   "cell_type": "code",
   "execution_count": 14,
   "metadata": {
    "hidden": true
   },
   "outputs": [],
   "source": [
    "adata.var_names_make_unique()"
   ]
  },
  {
   "cell_type": "code",
   "execution_count": 15,
   "metadata": {
    "hidden": true
   },
   "outputs": [
    {
     "data": {
      "text/plain": [
       "Index(['AL627309.1', 'LINC01409', 'FAM87B', 'LINC00115', 'FAM41C'], dtype='object')"
      ]
     },
     "execution_count": 15,
     "metadata": {},
     "output_type": "execute_result"
    }
   ],
   "source": [
    "adata.var.index[:5]"
   ]
  },
  {
   "cell_type": "code",
   "execution_count": 16,
   "metadata": {
    "hidden": true
   },
   "outputs": [],
   "source": [
    "adata.write_h5ad('/home/estorrs/pollock/benchmarking/data/01272021/scRNAseq/melanoma.h5ad')"
   ]
  },
  {
   "cell_type": "code",
   "execution_count": null,
   "metadata": {
    "hidden": true
   },
   "outputs": [],
   "source": []
  },
  {
   "cell_type": "markdown",
   "metadata": {},
   "source": [
    "##### renaming"
   ]
  },
  {
   "cell_type": "code",
   "execution_count": 18,
   "metadata": {},
   "outputs": [
    {
     "name": "stdout",
     "output_type": "stream",
     "text": [
      "scRNAseq brca\n",
      "['B', 'CD4_T', 'CD8_T', 'DC', 'Endothelial', 'Erythrocyte', 'Fibroblast', 'Macrophage', 'Mast', 'NK', 'Plasma', 'Treg', 'Tumor']\n",
      "scRNAseq cesc\n",
      "['CD4+T', 'CD8+T', 'CESC_Malignant/Epithelial', 'CESC_Malignant/pEMT', 'Endothelial', 'Epithelial', 'Erythrocyte', 'Fibroblast', 'Macrophage/Monocyte', 'Mast', 'Monocyte', 'NK', 'Plasma']\n",
      "scRNAseq hnscc\n",
      "['B', 'CD4+T', 'CD8+T', 'Endothelial', 'Endothelials', 'Erythrocyte', 'Macrophage/Monocyte', 'Malignant/Epithelial', 'Mast', 'NK', 'Plasma', 'Stromal', 'Treg', 'Unknown']\n",
      "scRNAseq melanoma\n",
      "['Bcell', 'CAF', 'CD4+, Naive T cells', 'CD4+, regulatory T cells', 'CD8+, cytotoxic T cells', 'CD8+, exhausted T cells', 'CD8+, follicular T cells', 'DC', 'M1 Macrophages', 'M2 Macrophages', 'MM', 'Melanoma', 'Monocytes', 'NK', 'PDC', 'Plasma', 'Tcell']\n",
      "scRNAseq myeloma\n",
      "['B', 'B(1)', 'B(2)', 'CD14+Mono', 'CD16+Mono', 'CD4+T', 'CD8+T', 'DC', 'Erythrocytes', 'Macrophages(1)', 'Macrophages(2)', 'Macrophages(3)', 'Malignant', 'Mast cells', 'Monocytes', 'NA', 'NK', 'Neutrophils', 'Plasma_BM', 'Platelet', 'macrophages', 'monocytes', 'neutrophil', 'pDC', 'unknown', 'unknown(CD34+CYTL1+)']\n",
      "scRNAseq pbmc\n",
      "['B', 'CD14 Monocytes', 'CD4 T', 'CD8 T', 'Dendritic', 'FCGR3A Monocytes', 'Megakaryocytes', 'NK']\n",
      "scRNAseq pdac\n",
      "['ADM', 'Acinar', 'B', 'CD4_T', 'CD8_T', 'DC', 'Endothelial', 'Epithelial', 'Erythrocyte', 'Fibroblast', 'Islet', 'Macrophage', 'Mast', 'NK', 'Plasma', 'T_Naive', 'Treg', 'Tuft', 'Tumor', 'Unknown']\n",
      "snATACseq brca\n",
      "['B', 'CD4_T', 'CD8_T', 'Endothelial', 'Macrophage', 'Mast', 'NK', 'Treg', 'Tumor', 'cCAFs', 'cDC', 'mCAFs', 'pDC', 'vCAFs']\n",
      "snATACseq ccrcc\n",
      "['CD4+ T-cells', 'CD4/CD8 proliferating', 'Endothelial cells', 'Fibroblasts', 'Macrophages', 'Myofibroblasts', 'Normal epithelial cells', 'TRM', 'Tumor cells', 'Unknown', 'cDC']\n",
      "snATACseq gbm\n",
      "['B-cells/Plasma', 'Doublets', 'Endothelial cells', 'Fibroblasts', 'Maybe OPC', 'Microglia', 'Neurons', 'Oligodendrocytes', 'T cells', 'Tumor']\n",
      "snRNAseq brca\n",
      "['Adipocyte', 'B', 'CD4_T', 'CD8_T', 'DC', 'Endothelial', 'Fibroblast', 'Macrophage', 'Mast', 'NK', 'Plasma', 'Treg', 'Tumor', 'Unknown']\n",
      "snRNAseq ccrcc\n",
      "['B-cells', 'Basophils', 'CD4 CTL', 'CD4 T-cells', 'CD4 T-cells activated', 'CD4 T-cells naive', 'CD4/CD8 proliferating', 'CD8 CTL', 'CD8 CTL exhausted', 'CD8 T-cells preexhausted', 'Endothelial cells', 'Fibroblasts', 'Macrophages', 'Macrophages proliferating', 'Mixed myeloid/lymphoid', 'Myofibroblasts', 'NK cells strong', 'NK cells weak', 'Normal epithelial cells', 'Plasma', 'TRM', 'Tregs', 'Tumor cells', 'Tumor-like epithelial cells', 'Unknown', 'cDC', 'pDC']\n",
      "snRNAseq gbm\n",
      "['B-cells/Plasma', 'Doublets', 'Endothelial cells', 'Fibroblasts', 'Maybe OPC', 'Microglia', 'Monocytes', 'Neurons', 'Oligodendrocytes', 'T cells', 'Tumor']\n"
     ]
    }
   ],
   "source": [
    "for dtype, d in adata_map.items():\n",
    "    for disease, m in d.items():\n",
    "        print(dtype, disease)\n",
    "        print(sorted(set(m.obs['cell_type'])))"
   ]
  },
  {
   "cell_type": "code",
   "execution_count": 19,
   "metadata": {},
   "outputs": [],
   "source": [
    "T1_MAP = {\n",
    "    'CD4 T cell': ['CD4 CTL', 'CD4 T', 'CD4 T-cells', 'CD4 T-cells activated', 'CD4 T-cells naive',\n",
    "                  'CD4+ T-cells', 'CD4+, Naive T cells', 'CD4+T', 'CD4_T'],\n",
    "    'CD8 T cell': ['CD4/CD8 proliferating', 'CD8 CTL', 'CD8 CTL exausted', 'CD8 T',\n",
    "                 'CD8 T-cells preexhausted', 'CD8+, cytotoxic T cells', 'CD8+, exhausted T cells',\n",
    "                 'CD8+, follicular T cells', 'CD8+T', 'CD8_T',],\n",
    "    'T cells': ['T cells', 'T_NK', 'T_NK_cells'],\n",
    "    'Treg': ['CD4+, regulatory T cells', 'Treg', 'Tregs',],\n",
    "    'Dendritic': ['DC', 'Dendritic', 'PDC', 'pDC', 'cDC', 'mDC'],\n",
    "    'B cell': ['B', 'B-cells/Plasma', 'Bcell', 'B(1)', 'B(2)'],\n",
    "    'Fibroblast': ['CAF', 'Fibroblast', 'Fibroblasts', 'Myofibroblasts', 'cCAFs', 'mCAFs', 'vCAFs'],\n",
    "    'Acinar': ['Acinar'],\n",
    "    'Endothelial': ['Endothelial', 'Endothelial cells', 'Endothelials',],\n",
    "    'Adipocyte': ['Adipocyte'],\n",
    "    'Epithelial': ['Epithelial', 'Normal epithelial cells'],\n",
    "    'Erythrocyte': ['Erythrocyte', 'Erythrocytes'],\n",
    "    'Islet': ['Islet'],\n",
    "    'Malignant': ['CESC_Malignant/Epithelial', 'CESC_Malignant/pEMT', 'Malignant/Epithelial', 'Melanoma',\n",
    "                 'Tumor', 'Tumor cells', 'Tumor-like epithelial cells', 'Malignant'],\n",
    "    'Mast': ['Mast', 'Mast cells'],\n",
    "    'Monocyte': ['CD14 Monocytes', 'FCGR3A Monocytes', 'M1 Macrophages', 'M2 Macrophages', 'MM',\n",
    "                 'Macrophage', 'Macrophage/Monocyte', 'Macrophages', 'Macrophages proliferating',\n",
    "                 'Monocyte', 'Monocytes', 'CD14+Mono', 'CD16+Mono',\n",
    "                'Macrophages(1)', 'Macrophages(2)', 'Macrophages(3)', 'macrophages', 'monocytes'],\n",
    "    'Megakaryocyte': ['Megakaryocytes', 'Megakaryocyte'],\n",
    "    'Microglia': ['Microglia'],\n",
    "    'NK': ['NK', 'NK cells strong', 'NK cells weak'],\n",
    "    'Neuron': ['Neurons'],\n",
    "    'Oligodendrocytes': ['Oligodendrocytes'],\n",
    "    'Plasma': ['Plasma', 'Plasma_BM'],\n",
    "    'Platlete': ['Platelet'],\n",
    "    'Tuft': ['Tuft'] \n",
    "}\n",
    "R_T1_MAP = {v:k for k, vs in T1_MAP.items() for v in vs}"
   ]
  },
  {
   "cell_type": "code",
   "execution_count": 20,
   "metadata": {},
   "outputs": [],
   "source": [
    "T2_MAP = {\n",
    "    'CD4 T cell': ['CD4 T', 'CD4 T-cells', 'CD4+ T-cells', 'CD4+T', 'CD4_T'],\n",
    "    'CD4 CTL': ['CD4 CTL'],\n",
    "    'CD4 T cell activated': ['CD4 T-cells activated'],\n",
    "    'CD4 T cell naive': ['CD4 T-cells naive', 'CD4+, Naive T cells', 'T_Naive'],\n",
    "    'CD8 T cell': ['CD8 T', 'CD8+T', 'CD8_T',],\n",
    "    'CD4/CD8 proliferating': ['CD4/CD8 proliferating'],\n",
    "    'CD8 CTL': ['CD8 CTL', 'CD8+, cytotoxic T cells'],\n",
    "    'CD8 CTL exausted': ['CD8 CTL exausted', 'CD8+, exhausted T cells'],\n",
    "    'CD8 T cell preexhausted': ['CD8 T-cells preexhausted'],\n",
    "    'CD8 follicular T-cell': ['CD8+, follicular T cells'],\n",
    "    'T cells': ['T cells', 'T_NK', 'T_NK_cells'],\n",
    "    'TRM': ['TRM'],\n",
    "    'Treg': ['CD4+, regulatory T cells', 'Treg', 'Tregs',],\n",
    "    'Dendritic': ['DC', 'Dendritic'],\n",
    "    'pDC': ['PDC', 'pDC'],\n",
    "    'cDC': ['cDC'],\n",
    "    'B cell': ['B', 'B-cells/Plasma', 'Bcell', 'B(1)', 'B(2)'],\n",
    "    'Fibroblast': ['CAF', 'Fibroblast', 'Fibroblasts'],\n",
    "    'mCAF': ['Myofibroblasts', 'mCAFs'],\n",
    "    'cCAF': ['cCAFs'],\n",
    "    'vCAF': ['vCAFs'],\n",
    "    'Acinar': ['Acinar'],\n",
    "    'ADM': ['ADM'],\n",
    "    'Endothelial': ['Endothelial', 'Endothelial cells', 'Endothelials',],\n",
    "    'Adipocyte': ['Adipocyte'],\n",
    "    'Epithelial': ['Epithelial', 'Normal epithelial cells'],\n",
    "    'Erythrocyte': ['Erythrocyte', 'Erythrocytes'],\n",
    "    'Islet': ['Islet'],\n",
    "    'Malignant': ['CESC_Malignant/Epithelial', 'CESC_Malignant/pEMT', 'Malignant/Epithelial', 'Melanoma',\n",
    "                 'Tumor', 'Tumor cells', 'Tumor-like epithelial cells',],\n",
    "    'Mast': ['Mast', 'Mast cells'],\n",
    "    'Monocyte': ['Macrophage/Monocyte', 'Monocyte', 'Monocytes', 'MM', 'monocytes'],\n",
    "    'Basophil': ['Basophils'],\n",
    "    'Neutrophil': ['Neutrophils', 'neutrophil'],\n",
    "    'CD14 Monocyte': ['CD14 Monocyte', 'CD14+Mono'],\n",
    "    'FCGR3A Monocyte': ['FCGR3A Monocytes', 'CD16+Mono'],\n",
    "    'M1 Macrophage': ['M1 Macrophages'],\n",
    "    'M2 Macrophage': ['M2 Macrophages'],\n",
    "    'Macrophage': ['Macrophage', 'Macrophages', 'Macrophages(1)', 'Macrophages(2)', 'Macrophages(3)',\n",
    "                  'macrophages'],\n",
    "    'Macrophage proliferating': ['Macrophages proliferating'],\n",
    "    'Megakaryocyte': ['Megakaryocytes'],\n",
    "    'Microglia': ['Microglia'],\n",
    "    'NK': ['NK'],\n",
    "    'NK cell strong': ['NK cells strong'],\n",
    "    'NK cell weak': ['NK cells weak'],\n",
    "    'Neuron': ['Neurons'],\n",
    "    'Oligodendrocytes': ['Oligodendrocytes'],\n",
    "    'Plasma': ['Plasma', 'Plasma_BM'],\n",
    "    'Tuft': ['Tuft'] ,\n",
    "    'Platlete': ['Platelet'],\n",
    "}\n",
    "R_T2_MAP = {v:k for k, vs in T2_MAP.items() for v in vs}"
   ]
  },
  {
   "cell_type": "code",
   "execution_count": 21,
   "metadata": {
    "scrolled": true
   },
   "outputs": [
    {
     "data": {
      "text/plain": [
       "{'ADM',\n",
       " 'Acinar',\n",
       " 'Adipocyte',\n",
       " 'B',\n",
       " 'B(1)',\n",
       " 'B(2)',\n",
       " 'B-cells',\n",
       " 'B-cells/Plasma',\n",
       " 'Basophils',\n",
       " 'Bcell',\n",
       " 'CAF',\n",
       " 'CD14 Monocytes',\n",
       " 'CD14+Mono',\n",
       " 'CD16+Mono',\n",
       " 'CD4 CTL',\n",
       " 'CD4 T',\n",
       " 'CD4 T-cells',\n",
       " 'CD4 T-cells activated',\n",
       " 'CD4 T-cells naive',\n",
       " 'CD4+ T-cells',\n",
       " 'CD4+, Naive T cells',\n",
       " 'CD4+, regulatory T cells',\n",
       " 'CD4+T',\n",
       " 'CD4/CD8 proliferating',\n",
       " 'CD4_T',\n",
       " 'CD8 CTL',\n",
       " 'CD8 CTL exhausted',\n",
       " 'CD8 T',\n",
       " 'CD8 T-cells preexhausted',\n",
       " 'CD8+, cytotoxic T cells',\n",
       " 'CD8+, exhausted T cells',\n",
       " 'CD8+, follicular T cells',\n",
       " 'CD8+T',\n",
       " 'CD8_T',\n",
       " 'CESC_Malignant/Epithelial',\n",
       " 'CESC_Malignant/pEMT',\n",
       " 'DC',\n",
       " 'Dendritic',\n",
       " 'Doublets',\n",
       " 'Endothelial',\n",
       " 'Endothelial cells',\n",
       " 'Endothelials',\n",
       " 'Epithelial',\n",
       " 'Erythrocyte',\n",
       " 'Erythrocytes',\n",
       " 'FCGR3A Monocytes',\n",
       " 'Fibroblast',\n",
       " 'Fibroblasts',\n",
       " 'Islet',\n",
       " 'M1 Macrophages',\n",
       " 'M2 Macrophages',\n",
       " 'MM',\n",
       " 'Macrophage',\n",
       " 'Macrophage/Monocyte',\n",
       " 'Macrophages',\n",
       " 'Macrophages proliferating',\n",
       " 'Macrophages(1)',\n",
       " 'Macrophages(2)',\n",
       " 'Macrophages(3)',\n",
       " 'Malignant',\n",
       " 'Malignant/Epithelial',\n",
       " 'Mast',\n",
       " 'Mast cells',\n",
       " 'Maybe OPC',\n",
       " 'Megakaryocytes',\n",
       " 'Melanoma',\n",
       " 'Microglia',\n",
       " 'Mixed myeloid/lymphoid',\n",
       " 'Monocyte',\n",
       " 'Monocytes',\n",
       " 'Myofibroblasts',\n",
       " 'NA',\n",
       " 'NK',\n",
       " 'NK cells strong',\n",
       " 'NK cells weak',\n",
       " 'Neurons',\n",
       " 'Neutrophils',\n",
       " 'Normal epithelial cells',\n",
       " 'Oligodendrocytes',\n",
       " 'PDC',\n",
       " 'Plasma',\n",
       " 'Plasma_BM',\n",
       " 'Platelet',\n",
       " 'Stromal',\n",
       " 'T cells',\n",
       " 'TRM',\n",
       " 'T_Naive',\n",
       " 'Tcell',\n",
       " 'Treg',\n",
       " 'Tregs',\n",
       " 'Tuft',\n",
       " 'Tumor',\n",
       " 'Tumor cells',\n",
       " 'Tumor-like epithelial cells',\n",
       " 'Unknown',\n",
       " 'cCAFs',\n",
       " 'cDC',\n",
       " 'mCAFs',\n",
       " 'macrophages',\n",
       " 'monocytes',\n",
       " 'neutrophil',\n",
       " 'pDC',\n",
       " 'unknown',\n",
       " 'unknown(CD34+CYTL1+)',\n",
       " 'vCAFs'}"
      ]
     },
     "execution_count": 21,
     "metadata": {},
     "output_type": "execute_result"
    }
   ],
   "source": [
    "cell_types = {s for dtype, d in adata_map.items()\n",
    "             for disease, m in d.items()\n",
    "             for s in m.obs['cell_type']}\n",
    "cell_types"
   ]
  },
  {
   "cell_type": "code",
   "execution_count": 22,
   "metadata": {},
   "outputs": [
    {
     "name": "stdout",
     "output_type": "stream",
     "text": [
      "scRNAseq brca (98564, 27131)\n"
     ]
    },
    {
     "name": "stderr",
     "output_type": "stream",
     "text": [
      "/home/estorrs/miniconda3/envs/pollock_dev/lib/python3.7/site-packages/anndata/_core/anndata.py:1094: FutureWarning: is_categorical is deprecated and will be removed in a future version.  Use is_categorical_dtype instead\n",
      "  if not is_categorical(df_full[k]):\n",
      "Trying to set attribute `.obs` of view, copying.\n",
      "/home/estorrs/miniconda3/envs/pollock_dev/lib/python3.7/site-packages/anndata/_core/anndata.py:1192: FutureWarning: is_categorical is deprecated and will be removed in a future version.  Use is_categorical_dtype instead\n",
      "  if is_string_dtype(df[key]) and not is_categorical(df[key])\n",
      "... storing 'cell_type' as categorical\n"
     ]
    },
    {
     "name": "stdout",
     "output_type": "stream",
     "text": [
      "(98564, 27131)\n",
      "['B cell', 'CD4 T cell', 'CD8 T cell', 'Dendritic', 'Endothelial', 'Erythrocyte', 'Fibroblast', 'Malignant', 'Mast', 'Monocyte', 'NK', 'Plasma', 'Treg']\n"
     ]
    },
    {
     "name": "stderr",
     "output_type": "stream",
     "text": [
      "Trying to set attribute `.obs` of view, copying.\n",
      "... storing 'cell_type' as categorical\n"
     ]
    },
    {
     "name": "stdout",
     "output_type": "stream",
     "text": [
      "(98564, 27131)\n",
      "['B cell', 'CD4 T cell', 'CD8 T cell', 'Dendritic', 'Endothelial', 'Erythrocyte', 'Fibroblast', 'Macrophage', 'Malignant', 'Mast', 'NK', 'Plasma', 'Treg']\n",
      "scRNAseq cesc (31745, 22928)\n"
     ]
    },
    {
     "name": "stderr",
     "output_type": "stream",
     "text": [
      "Trying to set attribute `.obs` of view, copying.\n",
      "... storing 'cell_type' as categorical\n"
     ]
    },
    {
     "name": "stdout",
     "output_type": "stream",
     "text": [
      "(31745, 22928)\n",
      "['CD4 T cell', 'CD8 T cell', 'Endothelial', 'Epithelial', 'Erythrocyte', 'Fibroblast', 'Malignant', 'Mast', 'Monocyte', 'NK', 'Plasma']\n"
     ]
    },
    {
     "name": "stderr",
     "output_type": "stream",
     "text": [
      "Trying to set attribute `.obs` of view, copying.\n",
      "... storing 'cell_type' as categorical\n"
     ]
    },
    {
     "name": "stdout",
     "output_type": "stream",
     "text": [
      "(31745, 22928)\n",
      "['CD4 T cell', 'CD8 T cell', 'Endothelial', 'Epithelial', 'Erythrocyte', 'Fibroblast', 'Malignant', 'Mast', 'Monocyte', 'NK', 'Plasma']\n",
      "scRNAseq hnscc (299761, 26929)\n"
     ]
    },
    {
     "name": "stderr",
     "output_type": "stream",
     "text": [
      "Trying to set attribute `.obs` of view, copying.\n",
      "... storing 'cell_type' as categorical\n"
     ]
    },
    {
     "name": "stdout",
     "output_type": "stream",
     "text": [
      "(227195, 26929)\n",
      "['B cell', 'CD4 T cell', 'CD8 T cell', 'Endothelial', 'Erythrocyte', 'Malignant', 'Mast', 'Monocyte', 'NK', 'Plasma', 'Treg']\n"
     ]
    },
    {
     "name": "stderr",
     "output_type": "stream",
     "text": [
      "Trying to set attribute `.obs` of view, copying.\n",
      "... storing 'cell_type' as categorical\n"
     ]
    },
    {
     "name": "stdout",
     "output_type": "stream",
     "text": [
      "(227195, 26929)\n",
      "['B cell', 'CD4 T cell', 'CD8 T cell', 'Endothelial', 'Erythrocyte', 'Malignant', 'Mast', 'Monocyte', 'NK', 'Plasma', 'Treg']\n",
      "scRNAseq melanoma (52739, 23452)\n"
     ]
    },
    {
     "name": "stderr",
     "output_type": "stream",
     "text": [
      "Trying to set attribute `.obs` of view, copying.\n",
      "... storing 'cell_type' as categorical\n"
     ]
    },
    {
     "name": "stdout",
     "output_type": "stream",
     "text": [
      "(52367, 23452)\n",
      "['B cell', 'CD4 T cell', 'CD8 T cell', 'Dendritic', 'Fibroblast', 'Malignant', 'Monocyte', 'NK', 'Plasma', 'Treg']\n"
     ]
    },
    {
     "name": "stderr",
     "output_type": "stream",
     "text": [
      "Trying to set attribute `.obs` of view, copying.\n",
      "... storing 'cell_type' as categorical\n"
     ]
    },
    {
     "name": "stdout",
     "output_type": "stream",
     "text": [
      "(52367, 23452)\n",
      "['B cell', 'CD4 T cell naive', 'CD8 CTL', 'CD8 CTL exausted', 'CD8 follicular T-cell', 'Dendritic', 'Fibroblast', 'M1 Macrophage', 'M2 Macrophage', 'Malignant', 'Monocyte', 'NK', 'Plasma', 'Treg', 'pDC']\n",
      "scRNAseq myeloma (108187, 24020)\n"
     ]
    },
    {
     "name": "stderr",
     "output_type": "stream",
     "text": [
      "Trying to set attribute `.obs` of view, copying.\n",
      "... storing 'cell_type' as categorical\n"
     ]
    },
    {
     "name": "stdout",
     "output_type": "stream",
     "text": [
      "(92446, 24020)\n",
      "['B cell', 'CD4 T cell', 'CD8 T cell', 'Dendritic', 'Erythrocyte', 'Malignant', 'Mast', 'Monocyte', 'NK', 'Plasma', 'Platlete']\n"
     ]
    },
    {
     "name": "stderr",
     "output_type": "stream",
     "text": [
      "Trying to set attribute `.obs` of view, copying.\n",
      "... storing 'cell_type' as categorical\n",
      "Trying to set attribute `.obs` of view, copying.\n",
      "... storing 'cell_type' as categorical\n"
     ]
    },
    {
     "name": "stdout",
     "output_type": "stream",
     "text": [
      "(79926, 24020)\n",
      "['B cell', 'CD14 Monocyte', 'CD4 T cell', 'CD8 T cell', 'Dendritic', 'Erythrocyte', 'FCGR3A Monocyte', 'Macrophage', 'Mast', 'Monocyte', 'NK', 'Neutrophil', 'Plasma', 'Platlete', 'pDC']\n",
      "scRNAseq pbmc (2638, 32738)\n"
     ]
    },
    {
     "name": "stderr",
     "output_type": "stream",
     "text": [
      "Trying to set attribute `.obs` of view, copying.\n",
      "... storing 'cell_type' as categorical\n"
     ]
    },
    {
     "name": "stdout",
     "output_type": "stream",
     "text": [
      "(2638, 32738)\n",
      "['B cell', 'CD4 T cell', 'CD8 T cell', 'Dendritic', 'Megakaryocyte', 'Monocyte', 'NK']\n",
      "(2154, 32738)\n",
      "['B cell', 'CD4 T cell', 'CD8 T cell', 'Dendritic', 'FCGR3A Monocyte', 'Megakaryocyte', 'NK']\n",
      "scRNAseq pdac (182480, 28756)\n"
     ]
    },
    {
     "name": "stderr",
     "output_type": "stream",
     "text": [
      "Trying to set attribute `.obs` of view, copying.\n",
      "... storing 'cell_type' as categorical\n"
     ]
    },
    {
     "name": "stdout",
     "output_type": "stream",
     "text": [
      "(177089, 28756)\n",
      "['Acinar', 'B cell', 'CD4 T cell', 'CD8 T cell', 'Dendritic', 'Endothelial', 'Epithelial', 'Erythrocyte', 'Fibroblast', 'Islet', 'Malignant', 'Mast', 'Monocyte', 'NK', 'Plasma', 'Treg', 'Tuft']\n"
     ]
    },
    {
     "name": "stderr",
     "output_type": "stream",
     "text": [
      "Trying to set attribute `.obs` of view, copying.\n",
      "... storing 'cell_type' as categorical\n"
     ]
    },
    {
     "name": "stdout",
     "output_type": "stream",
     "text": [
      "(181937, 28756)\n",
      "['ADM', 'Acinar', 'B cell', 'CD4 T cell', 'CD4 T cell naive', 'CD8 T cell', 'Dendritic', 'Endothelial', 'Epithelial', 'Erythrocyte', 'Fibroblast', 'Islet', 'Macrophage', 'Malignant', 'Mast', 'NK', 'Plasma', 'Treg', 'Tuft']\n",
      "snATACseq brca (70679, 19891)\n"
     ]
    },
    {
     "name": "stderr",
     "output_type": "stream",
     "text": [
      "Trying to set attribute `.obs` of view, copying.\n",
      "... storing 'cell_type' as categorical\n"
     ]
    },
    {
     "name": "stdout",
     "output_type": "stream",
     "text": [
      "(70679, 19891)\n",
      "['B cell', 'CD4 T cell', 'CD8 T cell', 'Dendritic', 'Endothelial', 'Fibroblast', 'Malignant', 'Mast', 'Monocyte', 'NK', 'Treg']\n"
     ]
    },
    {
     "name": "stderr",
     "output_type": "stream",
     "text": [
      "Trying to set attribute `.obs` of view, copying.\n",
      "... storing 'cell_type' as categorical\n"
     ]
    },
    {
     "name": "stdout",
     "output_type": "stream",
     "text": [
      "(70679, 19891)\n",
      "['B cell', 'CD4 T cell', 'CD8 T cell', 'Endothelial', 'Macrophage', 'Malignant', 'Mast', 'NK', 'Treg', 'cCAF', 'cDC', 'mCAF', 'pDC', 'vCAF']\n",
      "snATACseq ccrcc (79853, 928628)\n"
     ]
    },
    {
     "name": "stderr",
     "output_type": "stream",
     "text": [
      "Trying to set attribute `.obs` of view, copying.\n",
      "... storing 'cell_type' as categorical\n"
     ]
    },
    {
     "name": "stdout",
     "output_type": "stream",
     "text": [
      "(79851, 928628)\n",
      "['CD4 T cell', 'CD8 T cell', 'Dendritic', 'Endothelial', 'Epithelial', 'Fibroblast', 'Malignant', 'Monocyte']\n"
     ]
    },
    {
     "name": "stderr",
     "output_type": "stream",
     "text": [
      "Trying to set attribute `.obs` of view, copying.\n",
      "... storing 'cell_type' as categorical\n"
     ]
    },
    {
     "name": "stdout",
     "output_type": "stream",
     "text": [
      "(79852, 928628)\n",
      "['CD4 T cell', 'CD4/CD8 proliferating', 'Endothelial', 'Epithelial', 'Fibroblast', 'Macrophage', 'Malignant', 'TRM', 'cDC', 'mCAF']\n",
      "snATACseq gbm (65891, 19891)\n"
     ]
    },
    {
     "name": "stderr",
     "output_type": "stream",
     "text": [
      "Trying to set attribute `.obs` of view, copying.\n",
      "... storing 'cell_type' as categorical\n"
     ]
    },
    {
     "name": "stdout",
     "output_type": "stream",
     "text": [
      "(65782, 19891)\n",
      "['B cell', 'Endothelial', 'Fibroblast', 'Malignant', 'Microglia', 'Neuron', 'Oligodendrocytes', 'T cells']\n"
     ]
    },
    {
     "name": "stderr",
     "output_type": "stream",
     "text": [
      "Trying to set attribute `.obs` of view, copying.\n",
      "... storing 'cell_type' as categorical\n"
     ]
    },
    {
     "name": "stdout",
     "output_type": "stream",
     "text": [
      "(65782, 19891)\n",
      "['B cell', 'Endothelial', 'Fibroblast', 'Malignant', 'Microglia', 'Neuron', 'Oligodendrocytes', 'T cells']\n",
      "snRNAseq brca (110443, 29175)\n"
     ]
    },
    {
     "name": "stderr",
     "output_type": "stream",
     "text": [
      "Trying to set attribute `.obs` of view, copying.\n",
      "... storing 'cell_type' as categorical\n"
     ]
    },
    {
     "name": "stdout",
     "output_type": "stream",
     "text": [
      "(109002, 29175)\n",
      "['Adipocyte', 'B cell', 'CD4 T cell', 'CD8 T cell', 'Dendritic', 'Endothelial', 'Fibroblast', 'Malignant', 'Mast', 'Monocyte', 'NK', 'Plasma', 'Treg']\n"
     ]
    },
    {
     "name": "stderr",
     "output_type": "stream",
     "text": [
      "Trying to set attribute `.obs` of view, copying.\n",
      "... storing 'cell_type' as categorical\n"
     ]
    },
    {
     "name": "stdout",
     "output_type": "stream",
     "text": [
      "(109002, 29175)\n",
      "['Adipocyte', 'B cell', 'CD4 T cell', 'CD8 T cell', 'Dendritic', 'Endothelial', 'Fibroblast', 'Macrophage', 'Malignant', 'Mast', 'NK', 'Plasma', 'Treg']\n",
      "snRNAseq ccrcc (126034, 33538)\n"
     ]
    },
    {
     "name": "stderr",
     "output_type": "stream",
     "text": [
      "Trying to set attribute `.obs` of view, copying.\n",
      "... storing 'cell_type' as categorical\n"
     ]
    },
    {
     "name": "stdout",
     "output_type": "stream",
     "text": [
      "(123250, 33538)\n",
      "['CD4 T cell', 'CD8 T cell', 'Dendritic', 'Endothelial', 'Epithelial', 'Fibroblast', 'Malignant', 'Monocyte', 'NK', 'Plasma', 'Treg']\n"
     ]
    },
    {
     "name": "stderr",
     "output_type": "stream",
     "text": [
      "Trying to set attribute `.obs` of view, copying.\n",
      "... storing 'cell_type' as categorical\n"
     ]
    },
    {
     "name": "stdout",
     "output_type": "stream",
     "text": [
      "(123794, 33538)\n",
      "['Basophil', 'CD4 CTL', 'CD4 T cell', 'CD4 T cell activated', 'CD4 T cell naive', 'CD4/CD8 proliferating', 'CD8 CTL', 'CD8 T cell preexhausted', 'Endothelial', 'Epithelial', 'Fibroblast', 'Macrophage', 'Macrophage proliferating', 'Malignant', 'NK cell strong', 'NK cell weak', 'Plasma', 'TRM', 'Treg', 'cDC', 'mCAF', 'pDC']\n",
      "snRNAseq gbm (206642, 29748)\n"
     ]
    },
    {
     "name": "stderr",
     "output_type": "stream",
     "text": [
      "Trying to set attribute `.obs` of view, copying.\n",
      "... storing 'cell_type' as categorical\n"
     ]
    },
    {
     "name": "stdout",
     "output_type": "stream",
     "text": [
      "(192699, 29748)\n",
      "['B cell', 'Endothelial', 'Fibroblast', 'Malignant', 'Microglia', 'Monocyte', 'Neuron', 'Oligodendrocytes', 'T cells']\n"
     ]
    },
    {
     "name": "stderr",
     "output_type": "stream",
     "text": [
      "Trying to set attribute `.obs` of view, copying.\n",
      "... storing 'cell_type' as categorical\n"
     ]
    },
    {
     "name": "stdout",
     "output_type": "stream",
     "text": [
      "(192699, 29748)\n",
      "['B cell', 'Endothelial', 'Fibroblast', 'Malignant', 'Microglia', 'Monocyte', 'Neuron', 'Oligodendrocytes', 'T cells']\n"
     ]
    }
   ],
   "source": [
    "for dtype, d in adata_map.items():\n",
    "    for disease, m in d.items():\n",
    "        print(dtype, disease, m.shape)\n",
    "        mask = [True if c in R_T1_MAP.keys() else False\n",
    "               for c in m.obs['cell_type']]\n",
    "        adata = m.copy()[mask]\n",
    "        adata.obs['cell_type'] = [R_T1_MAP[c] for c in adata.obs['cell_type']]\n",
    "        out_fp = os.path.join(T1_OUTPUT, dtype)\n",
    "        Path(out_fp).mkdir(parents=True, exist_ok=True)\n",
    "        adata.write_h5ad(os.path.join(out_fp, f'{disease}.h5ad'))\n",
    "\n",
    "        print(adata.shape)\n",
    "        print(sorted(set(adata.obs['cell_type'])))\n",
    "        \n",
    "        mask = [True if c in R_T2_MAP.keys() else False\n",
    "               for c in m.obs['cell_type']]\n",
    "        adata = m.copy()[mask]\n",
    "        adata.obs['cell_type'] = [R_T2_MAP[c] for c in adata.obs['cell_type']]\n",
    "        out_fp = os.path.join(T2_OUTPUT, dtype)\n",
    "        Path(out_fp).mkdir(parents=True, exist_ok=True)\n",
    "        adata.write_h5ad(os.path.join(out_fp, f'{disease}.h5ad'))\n",
    "        print(adata.shape)\n",
    "        print(sorted(set(adata.obs['cell_type'])))\n",
    "        "
   ]
  },
  {
   "cell_type": "markdown",
   "metadata": {
    "heading_collapsed": true
   },
   "source": [
    "## fix the melanoma one off"
   ]
  },
  {
   "cell_type": "code",
   "execution_count": null,
   "metadata": {
    "hidden": true
   },
   "outputs": [],
   "source": [
    "fp = '/home/estorrs/pollock/benchmarking/data/10232020_harmonized/teir_1/scRNAseq/melanoma_val.h5ad'\n",
    "adata = sc.read_h5ad(fp)\n",
    "adata"
   ]
  },
  {
   "cell_type": "code",
   "execution_count": null,
   "metadata": {
    "hidden": true
   },
   "outputs": [],
   "source": [
    "adata.var.index[:5]"
   ]
  },
  {
   "cell_type": "code",
   "execution_count": null,
   "metadata": {
    "hidden": true
   },
   "outputs": [],
   "source": [
    "import mygene\n",
    "mg = mygene.MyGeneInfo()"
   ]
  },
  {
   "cell_type": "code",
   "execution_count": null,
   "metadata": {
    "hidden": true
   },
   "outputs": [],
   "source": [
    "gene_ids = sorted(set(adata.var.index))\n",
    "len(gene_ids)"
   ]
  },
  {
   "cell_type": "code",
   "execution_count": null,
   "metadata": {
    "hidden": true
   },
   "outputs": [],
   "source": [
    "result = mg.querymany(gene_ids, scopes='ensemblgene', fields='symbol', species='human')"
   ]
  },
  {
   "cell_type": "code",
   "execution_count": null,
   "metadata": {
    "hidden": true
   },
   "outputs": [],
   "source": [
    "ensembl_to_human_symbol = {x['query']:x['symbol'] for x in result if 'symbol' in x}\n",
    "len(ensembl_to_human_symbol)"
   ]
  },
  {
   "cell_type": "code",
   "execution_count": null,
   "metadata": {
    "hidden": true
   },
   "outputs": [],
   "source": [
    "adata.var.index = [ensembl_to_human_symbol.get(g, '') for g in adata.var.index]\n",
    "adata"
   ]
  },
  {
   "cell_type": "code",
   "execution_count": null,
   "metadata": {
    "hidden": true
   },
   "outputs": [],
   "source": [
    "adata.var_names_make_unique()"
   ]
  },
  {
   "cell_type": "code",
   "execution_count": null,
   "metadata": {
    "hidden": true
   },
   "outputs": [],
   "source": [
    "adata.var.index[:5]"
   ]
  },
  {
   "cell_type": "code",
   "execution_count": null,
   "metadata": {
    "hidden": true
   },
   "outputs": [],
   "source": [
    "len(set(adata.var.index))"
   ]
  },
  {
   "cell_type": "code",
   "execution_count": null,
   "metadata": {
    "hidden": true
   },
   "outputs": [],
   "source": [
    "adata.write_h5ad(fp)"
   ]
  },
  {
   "cell_type": "markdown",
   "metadata": {},
   "source": [
    "## incorporate snATAC-seq gene activity, peaks, and chromvar"
   ]
  },
  {
   "cell_type": "code",
   "execution_count": 23,
   "metadata": {},
   "outputs": [
    {
     "data": {
      "text/html": [
       "<div>\n",
       "<style scoped>\n",
       "    .dataframe tbody tr th:only-of-type {\n",
       "        vertical-align: middle;\n",
       "    }\n",
       "\n",
       "    .dataframe tbody tr th {\n",
       "        vertical-align: top;\n",
       "    }\n",
       "\n",
       "    .dataframe thead th {\n",
       "        text-align: right;\n",
       "    }\n",
       "</style>\n",
       "<table border=\"1\" class=\"dataframe\">\n",
       "  <thead>\n",
       "    <tr style=\"text-align: right;\">\n",
       "      <th></th>\n",
       "      <th>orig.ident</th>\n",
       "      <th>nCount_peaks</th>\n",
       "      <th>nFeature_peaks</th>\n",
       "      <th>total</th>\n",
       "      <th>duplicate</th>\n",
       "      <th>chimeric</th>\n",
       "      <th>unmapped</th>\n",
       "      <th>lowmapq</th>\n",
       "      <th>mitochondrial</th>\n",
       "      <th>passed_filters</th>\n",
       "      <th>...</th>\n",
       "      <th>prediction.score.Maybe.OPC</th>\n",
       "      <th>prediction.score.Endothelial.cells</th>\n",
       "      <th>prediction.score.max</th>\n",
       "      <th>nCount_peaksinters</th>\n",
       "      <th>nFeature_peaksinters</th>\n",
       "      <th>dataset</th>\n",
       "      <th>prediction.score.Monocytes</th>\n",
       "      <th>cell_type_manual</th>\n",
       "      <th>cell_type_manual_2</th>\n",
       "      <th>cell_type</th>\n",
       "    </tr>\n",
       "  </thead>\n",
       "  <tbody>\n",
       "    <tr>\n",
       "      <th>C3L-02705_CPT0189650015_2020-06-16_GCGAGAACATGCCCTT-1</th>\n",
       "      <td>ATAC</td>\n",
       "      <td>11593.0</td>\n",
       "      <td>4952</td>\n",
       "      <td>19264</td>\n",
       "      <td>5375</td>\n",
       "      <td>491</td>\n",
       "      <td>244</td>\n",
       "      <td>1706</td>\n",
       "      <td>65</td>\n",
       "      <td>11383</td>\n",
       "      <td>...</td>\n",
       "      <td>0.000000</td>\n",
       "      <td>0.000000</td>\n",
       "      <td>0.966328</td>\n",
       "      <td>7049.0</td>\n",
       "      <td>5941</td>\n",
       "      <td>C3L-02705_CPT0189650015_2020-06-16</td>\n",
       "      <td>NaN</td>\n",
       "      <td>Tumor</td>\n",
       "      <td>Tumor</td>\n",
       "      <td>Tumor</td>\n",
       "    </tr>\n",
       "    <tr>\n",
       "      <th>C3L-02705_CPT0189650015_2020-06-16_CTCAGCTGTTATGCAC-1</th>\n",
       "      <td>ATAC</td>\n",
       "      <td>7530.0</td>\n",
       "      <td>3441</td>\n",
       "      <td>13929</td>\n",
       "      <td>3733</td>\n",
       "      <td>362</td>\n",
       "      <td>144</td>\n",
       "      <td>1324</td>\n",
       "      <td>15</td>\n",
       "      <td>8351</td>\n",
       "      <td>...</td>\n",
       "      <td>0.000000</td>\n",
       "      <td>0.000000</td>\n",
       "      <td>0.851200</td>\n",
       "      <td>4524.0</td>\n",
       "      <td>3989</td>\n",
       "      <td>C3L-02705_CPT0189650015_2020-06-16</td>\n",
       "      <td>NaN</td>\n",
       "      <td>Microglia</td>\n",
       "      <td>Microglia_2</td>\n",
       "      <td>Microglia</td>\n",
       "    </tr>\n",
       "    <tr>\n",
       "      <th>C3L-02705_CPT0189650015_2020-06-16_ACCCAAAAGATCTAAG-1</th>\n",
       "      <td>ATAC</td>\n",
       "      <td>3645.0</td>\n",
       "      <td>1761</td>\n",
       "      <td>7842</td>\n",
       "      <td>1945</td>\n",
       "      <td>150</td>\n",
       "      <td>118</td>\n",
       "      <td>632</td>\n",
       "      <td>23</td>\n",
       "      <td>4974</td>\n",
       "      <td>...</td>\n",
       "      <td>0.000000</td>\n",
       "      <td>0.000000</td>\n",
       "      <td>1.000000</td>\n",
       "      <td>2472.0</td>\n",
       "      <td>2275</td>\n",
       "      <td>C3L-02705_CPT0189650015_2020-06-16</td>\n",
       "      <td>NaN</td>\n",
       "      <td>Tumor</td>\n",
       "      <td>Tumor</td>\n",
       "      <td>Tumor</td>\n",
       "    </tr>\n",
       "    <tr>\n",
       "      <th>C3L-02705_CPT0189650015_2020-06-16_AACTGTGCACGCGCAT-1</th>\n",
       "      <td>ATAC</td>\n",
       "      <td>5921.0</td>\n",
       "      <td>2788</td>\n",
       "      <td>10175</td>\n",
       "      <td>2807</td>\n",
       "      <td>253</td>\n",
       "      <td>164</td>\n",
       "      <td>983</td>\n",
       "      <td>24</td>\n",
       "      <td>5944</td>\n",
       "      <td>...</td>\n",
       "      <td>0.000000</td>\n",
       "      <td>0.000000</td>\n",
       "      <td>0.997391</td>\n",
       "      <td>3488.0</td>\n",
       "      <td>3150</td>\n",
       "      <td>C3L-02705_CPT0189650015_2020-06-16</td>\n",
       "      <td>NaN</td>\n",
       "      <td>Microglia</td>\n",
       "      <td>Microglia_1</td>\n",
       "      <td>Microglia</td>\n",
       "    </tr>\n",
       "    <tr>\n",
       "      <th>C3L-02705_CPT0189650015_2020-06-16_TTGCTTAGTCCGTGCA-1</th>\n",
       "      <td>ATAC</td>\n",
       "      <td>2092.0</td>\n",
       "      <td>1049</td>\n",
       "      <td>5986</td>\n",
       "      <td>1388</td>\n",
       "      <td>70</td>\n",
       "      <td>119</td>\n",
       "      <td>597</td>\n",
       "      <td>1</td>\n",
       "      <td>3811</td>\n",
       "      <td>...</td>\n",
       "      <td>0.000000</td>\n",
       "      <td>0.000000</td>\n",
       "      <td>0.932418</td>\n",
       "      <td>1527.0</td>\n",
       "      <td>1422</td>\n",
       "      <td>C3L-02705_CPT0189650015_2020-06-16</td>\n",
       "      <td>NaN</td>\n",
       "      <td>Tumor</td>\n",
       "      <td>Tumor</td>\n",
       "      <td>Tumor</td>\n",
       "    </tr>\n",
       "    <tr>\n",
       "      <th>...</th>\n",
       "      <td>...</td>\n",
       "      <td>...</td>\n",
       "      <td>...</td>\n",
       "      <td>...</td>\n",
       "      <td>...</td>\n",
       "      <td>...</td>\n",
       "      <td>...</td>\n",
       "      <td>...</td>\n",
       "      <td>...</td>\n",
       "      <td>...</td>\n",
       "      <td>...</td>\n",
       "      <td>...</td>\n",
       "      <td>...</td>\n",
       "      <td>...</td>\n",
       "      <td>...</td>\n",
       "      <td>...</td>\n",
       "      <td>...</td>\n",
       "      <td>...</td>\n",
       "      <td>...</td>\n",
       "      <td>...</td>\n",
       "      <td>...</td>\n",
       "    </tr>\n",
       "    <tr>\n",
       "      <th>C3N-03186_CPT0206880004_2020-06-22_AAACTGCTCCTTCGAC-1</th>\n",
       "      <td>ATAC</td>\n",
       "      <td>9837.0</td>\n",
       "      <td>4306</td>\n",
       "      <td>34007</td>\n",
       "      <td>8711</td>\n",
       "      <td>390</td>\n",
       "      <td>330</td>\n",
       "      <td>3219</td>\n",
       "      <td>222</td>\n",
       "      <td>21135</td>\n",
       "      <td>...</td>\n",
       "      <td>0.000000</td>\n",
       "      <td>0.000000</td>\n",
       "      <td>1.000000</td>\n",
       "      <td>6454.0</td>\n",
       "      <td>5412</td>\n",
       "      <td>C3N-03186_CPT0206880004_2020-06-22</td>\n",
       "      <td>NaN</td>\n",
       "      <td>Tumor</td>\n",
       "      <td>Tumor</td>\n",
       "      <td>Tumor</td>\n",
       "    </tr>\n",
       "    <tr>\n",
       "      <th>C3N-03186_CPT0206880004_2020-06-22_ATAGTCGAGACGTCAG-1</th>\n",
       "      <td>ATAC</td>\n",
       "      <td>2448.0</td>\n",
       "      <td>1166</td>\n",
       "      <td>6307</td>\n",
       "      <td>1694</td>\n",
       "      <td>71</td>\n",
       "      <td>75</td>\n",
       "      <td>731</td>\n",
       "      <td>22</td>\n",
       "      <td>3714</td>\n",
       "      <td>...</td>\n",
       "      <td>0.000000</td>\n",
       "      <td>0.000000</td>\n",
       "      <td>1.000000</td>\n",
       "      <td>1750.0</td>\n",
       "      <td>1597</td>\n",
       "      <td>C3N-03186_CPT0206880004_2020-06-22</td>\n",
       "      <td>NaN</td>\n",
       "      <td>Microglia</td>\n",
       "      <td>Microglia_2</td>\n",
       "      <td>Microglia</td>\n",
       "    </tr>\n",
       "    <tr>\n",
       "      <th>C3N-03186_CPT0206880004_2020-06-22_CTCACCAGTAACAATG-1</th>\n",
       "      <td>ATAC</td>\n",
       "      <td>2383.0</td>\n",
       "      <td>1147</td>\n",
       "      <td>9788</td>\n",
       "      <td>2440</td>\n",
       "      <td>110</td>\n",
       "      <td>122</td>\n",
       "      <td>1079</td>\n",
       "      <td>754</td>\n",
       "      <td>5283</td>\n",
       "      <td>...</td>\n",
       "      <td>0.000197</td>\n",
       "      <td>0.004569</td>\n",
       "      <td>0.550301</td>\n",
       "      <td>1519.0</td>\n",
       "      <td>1416</td>\n",
       "      <td>C3N-03186_CPT0206880004_2020-06-22</td>\n",
       "      <td>NaN</td>\n",
       "      <td>Tumor</td>\n",
       "      <td>Tumor</td>\n",
       "      <td>Tumor</td>\n",
       "    </tr>\n",
       "    <tr>\n",
       "      <th>C3N-03186_CPT0206880004_2020-06-22_CCCAGAGCAATGGTCT-1</th>\n",
       "      <td>ATAC</td>\n",
       "      <td>3730.0</td>\n",
       "      <td>1753</td>\n",
       "      <td>14409</td>\n",
       "      <td>3574</td>\n",
       "      <td>131</td>\n",
       "      <td>120</td>\n",
       "      <td>1234</td>\n",
       "      <td>306</td>\n",
       "      <td>9044</td>\n",
       "      <td>...</td>\n",
       "      <td>0.000000</td>\n",
       "      <td>0.000000</td>\n",
       "      <td>1.000000</td>\n",
       "      <td>2947.0</td>\n",
       "      <td>2643</td>\n",
       "      <td>C3N-03186_CPT0206880004_2020-06-22</td>\n",
       "      <td>NaN</td>\n",
       "      <td>Microglia</td>\n",
       "      <td>Microglia_2</td>\n",
       "      <td>Microglia</td>\n",
       "    </tr>\n",
       "    <tr>\n",
       "      <th>C3N-03186_CPT0206880004_2020-06-22_GCCCAGAGTGAATGGC-1</th>\n",
       "      <td>ATAC</td>\n",
       "      <td>3039.0</td>\n",
       "      <td>1484</td>\n",
       "      <td>8973</td>\n",
       "      <td>1684</td>\n",
       "      <td>91</td>\n",
       "      <td>936</td>\n",
       "      <td>983</td>\n",
       "      <td>59</td>\n",
       "      <td>5220</td>\n",
       "      <td>...</td>\n",
       "      <td>0.000000</td>\n",
       "      <td>0.000000</td>\n",
       "      <td>0.823993</td>\n",
       "      <td>2220.0</td>\n",
       "      <td>2050</td>\n",
       "      <td>C3N-03186_CPT0206880004_2020-06-22</td>\n",
       "      <td>NaN</td>\n",
       "      <td>Microglia</td>\n",
       "      <td>Microglia_2</td>\n",
       "      <td>Microglia</td>\n",
       "    </tr>\n",
       "  </tbody>\n",
       "</table>\n",
       "<p>65891 rows × 51 columns</p>\n",
       "</div>"
      ],
      "text/plain": [
       "                                                   orig.ident  nCount_peaks  \\\n",
       "C3L-02705_CPT0189650015_2020-06-16_GCGAGAACATGC...       ATAC       11593.0   \n",
       "C3L-02705_CPT0189650015_2020-06-16_CTCAGCTGTTAT...       ATAC        7530.0   \n",
       "C3L-02705_CPT0189650015_2020-06-16_ACCCAAAAGATC...       ATAC        3645.0   \n",
       "C3L-02705_CPT0189650015_2020-06-16_AACTGTGCACGC...       ATAC        5921.0   \n",
       "C3L-02705_CPT0189650015_2020-06-16_TTGCTTAGTCCG...       ATAC        2092.0   \n",
       "...                                                       ...           ...   \n",
       "C3N-03186_CPT0206880004_2020-06-22_AAACTGCTCCTT...       ATAC        9837.0   \n",
       "C3N-03186_CPT0206880004_2020-06-22_ATAGTCGAGACG...       ATAC        2448.0   \n",
       "C3N-03186_CPT0206880004_2020-06-22_CTCACCAGTAAC...       ATAC        2383.0   \n",
       "C3N-03186_CPT0206880004_2020-06-22_CCCAGAGCAATG...       ATAC        3730.0   \n",
       "C3N-03186_CPT0206880004_2020-06-22_GCCCAGAGTGAA...       ATAC        3039.0   \n",
       "\n",
       "                                                    nFeature_peaks  total  \\\n",
       "C3L-02705_CPT0189650015_2020-06-16_GCGAGAACATGC...            4952  19264   \n",
       "C3L-02705_CPT0189650015_2020-06-16_CTCAGCTGTTAT...            3441  13929   \n",
       "C3L-02705_CPT0189650015_2020-06-16_ACCCAAAAGATC...            1761   7842   \n",
       "C3L-02705_CPT0189650015_2020-06-16_AACTGTGCACGC...            2788  10175   \n",
       "C3L-02705_CPT0189650015_2020-06-16_TTGCTTAGTCCG...            1049   5986   \n",
       "...                                                            ...    ...   \n",
       "C3N-03186_CPT0206880004_2020-06-22_AAACTGCTCCTT...            4306  34007   \n",
       "C3N-03186_CPT0206880004_2020-06-22_ATAGTCGAGACG...            1166   6307   \n",
       "C3N-03186_CPT0206880004_2020-06-22_CTCACCAGTAAC...            1147   9788   \n",
       "C3N-03186_CPT0206880004_2020-06-22_CCCAGAGCAATG...            1753  14409   \n",
       "C3N-03186_CPT0206880004_2020-06-22_GCCCAGAGTGAA...            1484   8973   \n",
       "\n",
       "                                                    duplicate  chimeric  \\\n",
       "C3L-02705_CPT0189650015_2020-06-16_GCGAGAACATGC...       5375       491   \n",
       "C3L-02705_CPT0189650015_2020-06-16_CTCAGCTGTTAT...       3733       362   \n",
       "C3L-02705_CPT0189650015_2020-06-16_ACCCAAAAGATC...       1945       150   \n",
       "C3L-02705_CPT0189650015_2020-06-16_AACTGTGCACGC...       2807       253   \n",
       "C3L-02705_CPT0189650015_2020-06-16_TTGCTTAGTCCG...       1388        70   \n",
       "...                                                       ...       ...   \n",
       "C3N-03186_CPT0206880004_2020-06-22_AAACTGCTCCTT...       8711       390   \n",
       "C3N-03186_CPT0206880004_2020-06-22_ATAGTCGAGACG...       1694        71   \n",
       "C3N-03186_CPT0206880004_2020-06-22_CTCACCAGTAAC...       2440       110   \n",
       "C3N-03186_CPT0206880004_2020-06-22_CCCAGAGCAATG...       3574       131   \n",
       "C3N-03186_CPT0206880004_2020-06-22_GCCCAGAGTGAA...       1684        91   \n",
       "\n",
       "                                                    unmapped  lowmapq  \\\n",
       "C3L-02705_CPT0189650015_2020-06-16_GCGAGAACATGC...       244     1706   \n",
       "C3L-02705_CPT0189650015_2020-06-16_CTCAGCTGTTAT...       144     1324   \n",
       "C3L-02705_CPT0189650015_2020-06-16_ACCCAAAAGATC...       118      632   \n",
       "C3L-02705_CPT0189650015_2020-06-16_AACTGTGCACGC...       164      983   \n",
       "C3L-02705_CPT0189650015_2020-06-16_TTGCTTAGTCCG...       119      597   \n",
       "...                                                      ...      ...   \n",
       "C3N-03186_CPT0206880004_2020-06-22_AAACTGCTCCTT...       330     3219   \n",
       "C3N-03186_CPT0206880004_2020-06-22_ATAGTCGAGACG...        75      731   \n",
       "C3N-03186_CPT0206880004_2020-06-22_CTCACCAGTAAC...       122     1079   \n",
       "C3N-03186_CPT0206880004_2020-06-22_CCCAGAGCAATG...       120     1234   \n",
       "C3N-03186_CPT0206880004_2020-06-22_GCCCAGAGTGAA...       936      983   \n",
       "\n",
       "                                                    mitochondrial  \\\n",
       "C3L-02705_CPT0189650015_2020-06-16_GCGAGAACATGC...             65   \n",
       "C3L-02705_CPT0189650015_2020-06-16_CTCAGCTGTTAT...             15   \n",
       "C3L-02705_CPT0189650015_2020-06-16_ACCCAAAAGATC...             23   \n",
       "C3L-02705_CPT0189650015_2020-06-16_AACTGTGCACGC...             24   \n",
       "C3L-02705_CPT0189650015_2020-06-16_TTGCTTAGTCCG...              1   \n",
       "...                                                           ...   \n",
       "C3N-03186_CPT0206880004_2020-06-22_AAACTGCTCCTT...            222   \n",
       "C3N-03186_CPT0206880004_2020-06-22_ATAGTCGAGACG...             22   \n",
       "C3N-03186_CPT0206880004_2020-06-22_CTCACCAGTAAC...            754   \n",
       "C3N-03186_CPT0206880004_2020-06-22_CCCAGAGCAATG...            306   \n",
       "C3N-03186_CPT0206880004_2020-06-22_GCCCAGAGTGAA...             59   \n",
       "\n",
       "                                                    passed_filters  ...  \\\n",
       "C3L-02705_CPT0189650015_2020-06-16_GCGAGAACATGC...           11383  ...   \n",
       "C3L-02705_CPT0189650015_2020-06-16_CTCAGCTGTTAT...            8351  ...   \n",
       "C3L-02705_CPT0189650015_2020-06-16_ACCCAAAAGATC...            4974  ...   \n",
       "C3L-02705_CPT0189650015_2020-06-16_AACTGTGCACGC...            5944  ...   \n",
       "C3L-02705_CPT0189650015_2020-06-16_TTGCTTAGTCCG...            3811  ...   \n",
       "...                                                            ...  ...   \n",
       "C3N-03186_CPT0206880004_2020-06-22_AAACTGCTCCTT...           21135  ...   \n",
       "C3N-03186_CPT0206880004_2020-06-22_ATAGTCGAGACG...            3714  ...   \n",
       "C3N-03186_CPT0206880004_2020-06-22_CTCACCAGTAAC...            5283  ...   \n",
       "C3N-03186_CPT0206880004_2020-06-22_CCCAGAGCAATG...            9044  ...   \n",
       "C3N-03186_CPT0206880004_2020-06-22_GCCCAGAGTGAA...            5220  ...   \n",
       "\n",
       "                                                   prediction.score.Maybe.OPC  \\\n",
       "C3L-02705_CPT0189650015_2020-06-16_GCGAGAACATGC...                   0.000000   \n",
       "C3L-02705_CPT0189650015_2020-06-16_CTCAGCTGTTAT...                   0.000000   \n",
       "C3L-02705_CPT0189650015_2020-06-16_ACCCAAAAGATC...                   0.000000   \n",
       "C3L-02705_CPT0189650015_2020-06-16_AACTGTGCACGC...                   0.000000   \n",
       "C3L-02705_CPT0189650015_2020-06-16_TTGCTTAGTCCG...                   0.000000   \n",
       "...                                                                       ...   \n",
       "C3N-03186_CPT0206880004_2020-06-22_AAACTGCTCCTT...                   0.000000   \n",
       "C3N-03186_CPT0206880004_2020-06-22_ATAGTCGAGACG...                   0.000000   \n",
       "C3N-03186_CPT0206880004_2020-06-22_CTCACCAGTAAC...                   0.000197   \n",
       "C3N-03186_CPT0206880004_2020-06-22_CCCAGAGCAATG...                   0.000000   \n",
       "C3N-03186_CPT0206880004_2020-06-22_GCCCAGAGTGAA...                   0.000000   \n",
       "\n",
       "                                                    prediction.score.Endothelial.cells  \\\n",
       "C3L-02705_CPT0189650015_2020-06-16_GCGAGAACATGC...                            0.000000   \n",
       "C3L-02705_CPT0189650015_2020-06-16_CTCAGCTGTTAT...                            0.000000   \n",
       "C3L-02705_CPT0189650015_2020-06-16_ACCCAAAAGATC...                            0.000000   \n",
       "C3L-02705_CPT0189650015_2020-06-16_AACTGTGCACGC...                            0.000000   \n",
       "C3L-02705_CPT0189650015_2020-06-16_TTGCTTAGTCCG...                            0.000000   \n",
       "...                                                                                ...   \n",
       "C3N-03186_CPT0206880004_2020-06-22_AAACTGCTCCTT...                            0.000000   \n",
       "C3N-03186_CPT0206880004_2020-06-22_ATAGTCGAGACG...                            0.000000   \n",
       "C3N-03186_CPT0206880004_2020-06-22_CTCACCAGTAAC...                            0.004569   \n",
       "C3N-03186_CPT0206880004_2020-06-22_CCCAGAGCAATG...                            0.000000   \n",
       "C3N-03186_CPT0206880004_2020-06-22_GCCCAGAGTGAA...                            0.000000   \n",
       "\n",
       "                                                    prediction.score.max  \\\n",
       "C3L-02705_CPT0189650015_2020-06-16_GCGAGAACATGC...              0.966328   \n",
       "C3L-02705_CPT0189650015_2020-06-16_CTCAGCTGTTAT...              0.851200   \n",
       "C3L-02705_CPT0189650015_2020-06-16_ACCCAAAAGATC...              1.000000   \n",
       "C3L-02705_CPT0189650015_2020-06-16_AACTGTGCACGC...              0.997391   \n",
       "C3L-02705_CPT0189650015_2020-06-16_TTGCTTAGTCCG...              0.932418   \n",
       "...                                                                  ...   \n",
       "C3N-03186_CPT0206880004_2020-06-22_AAACTGCTCCTT...              1.000000   \n",
       "C3N-03186_CPT0206880004_2020-06-22_ATAGTCGAGACG...              1.000000   \n",
       "C3N-03186_CPT0206880004_2020-06-22_CTCACCAGTAAC...              0.550301   \n",
       "C3N-03186_CPT0206880004_2020-06-22_CCCAGAGCAATG...              1.000000   \n",
       "C3N-03186_CPT0206880004_2020-06-22_GCCCAGAGTGAA...              0.823993   \n",
       "\n",
       "                                                    nCount_peaksinters  \\\n",
       "C3L-02705_CPT0189650015_2020-06-16_GCGAGAACATGC...              7049.0   \n",
       "C3L-02705_CPT0189650015_2020-06-16_CTCAGCTGTTAT...              4524.0   \n",
       "C3L-02705_CPT0189650015_2020-06-16_ACCCAAAAGATC...              2472.0   \n",
       "C3L-02705_CPT0189650015_2020-06-16_AACTGTGCACGC...              3488.0   \n",
       "C3L-02705_CPT0189650015_2020-06-16_TTGCTTAGTCCG...              1527.0   \n",
       "...                                                                ...   \n",
       "C3N-03186_CPT0206880004_2020-06-22_AAACTGCTCCTT...              6454.0   \n",
       "C3N-03186_CPT0206880004_2020-06-22_ATAGTCGAGACG...              1750.0   \n",
       "C3N-03186_CPT0206880004_2020-06-22_CTCACCAGTAAC...              1519.0   \n",
       "C3N-03186_CPT0206880004_2020-06-22_CCCAGAGCAATG...              2947.0   \n",
       "C3N-03186_CPT0206880004_2020-06-22_GCCCAGAGTGAA...              2220.0   \n",
       "\n",
       "                                                    nFeature_peaksinters  \\\n",
       "C3L-02705_CPT0189650015_2020-06-16_GCGAGAACATGC...                  5941   \n",
       "C3L-02705_CPT0189650015_2020-06-16_CTCAGCTGTTAT...                  3989   \n",
       "C3L-02705_CPT0189650015_2020-06-16_ACCCAAAAGATC...                  2275   \n",
       "C3L-02705_CPT0189650015_2020-06-16_AACTGTGCACGC...                  3150   \n",
       "C3L-02705_CPT0189650015_2020-06-16_TTGCTTAGTCCG...                  1422   \n",
       "...                                                                  ...   \n",
       "C3N-03186_CPT0206880004_2020-06-22_AAACTGCTCCTT...                  5412   \n",
       "C3N-03186_CPT0206880004_2020-06-22_ATAGTCGAGACG...                  1597   \n",
       "C3N-03186_CPT0206880004_2020-06-22_CTCACCAGTAAC...                  1416   \n",
       "C3N-03186_CPT0206880004_2020-06-22_CCCAGAGCAATG...                  2643   \n",
       "C3N-03186_CPT0206880004_2020-06-22_GCCCAGAGTGAA...                  2050   \n",
       "\n",
       "                                                                               dataset  \\\n",
       "C3L-02705_CPT0189650015_2020-06-16_GCGAGAACATGC...  C3L-02705_CPT0189650015_2020-06-16   \n",
       "C3L-02705_CPT0189650015_2020-06-16_CTCAGCTGTTAT...  C3L-02705_CPT0189650015_2020-06-16   \n",
       "C3L-02705_CPT0189650015_2020-06-16_ACCCAAAAGATC...  C3L-02705_CPT0189650015_2020-06-16   \n",
       "C3L-02705_CPT0189650015_2020-06-16_AACTGTGCACGC...  C3L-02705_CPT0189650015_2020-06-16   \n",
       "C3L-02705_CPT0189650015_2020-06-16_TTGCTTAGTCCG...  C3L-02705_CPT0189650015_2020-06-16   \n",
       "...                                                                                ...   \n",
       "C3N-03186_CPT0206880004_2020-06-22_AAACTGCTCCTT...  C3N-03186_CPT0206880004_2020-06-22   \n",
       "C3N-03186_CPT0206880004_2020-06-22_ATAGTCGAGACG...  C3N-03186_CPT0206880004_2020-06-22   \n",
       "C3N-03186_CPT0206880004_2020-06-22_CTCACCAGTAAC...  C3N-03186_CPT0206880004_2020-06-22   \n",
       "C3N-03186_CPT0206880004_2020-06-22_CCCAGAGCAATG...  C3N-03186_CPT0206880004_2020-06-22   \n",
       "C3N-03186_CPT0206880004_2020-06-22_GCCCAGAGTGAA...  C3N-03186_CPT0206880004_2020-06-22   \n",
       "\n",
       "                                                    prediction.score.Monocytes  \\\n",
       "C3L-02705_CPT0189650015_2020-06-16_GCGAGAACATGC...                         NaN   \n",
       "C3L-02705_CPT0189650015_2020-06-16_CTCAGCTGTTAT...                         NaN   \n",
       "C3L-02705_CPT0189650015_2020-06-16_ACCCAAAAGATC...                         NaN   \n",
       "C3L-02705_CPT0189650015_2020-06-16_AACTGTGCACGC...                         NaN   \n",
       "C3L-02705_CPT0189650015_2020-06-16_TTGCTTAGTCCG...                         NaN   \n",
       "...                                                                        ...   \n",
       "C3N-03186_CPT0206880004_2020-06-22_AAACTGCTCCTT...                         NaN   \n",
       "C3N-03186_CPT0206880004_2020-06-22_ATAGTCGAGACG...                         NaN   \n",
       "C3N-03186_CPT0206880004_2020-06-22_CTCACCAGTAAC...                         NaN   \n",
       "C3N-03186_CPT0206880004_2020-06-22_CCCAGAGCAATG...                         NaN   \n",
       "C3N-03186_CPT0206880004_2020-06-22_GCCCAGAGTGAA...                         NaN   \n",
       "\n",
       "                                                    cell_type_manual  \\\n",
       "C3L-02705_CPT0189650015_2020-06-16_GCGAGAACATGC...             Tumor   \n",
       "C3L-02705_CPT0189650015_2020-06-16_CTCAGCTGTTAT...         Microglia   \n",
       "C3L-02705_CPT0189650015_2020-06-16_ACCCAAAAGATC...             Tumor   \n",
       "C3L-02705_CPT0189650015_2020-06-16_AACTGTGCACGC...         Microglia   \n",
       "C3L-02705_CPT0189650015_2020-06-16_TTGCTTAGTCCG...             Tumor   \n",
       "...                                                              ...   \n",
       "C3N-03186_CPT0206880004_2020-06-22_AAACTGCTCCTT...             Tumor   \n",
       "C3N-03186_CPT0206880004_2020-06-22_ATAGTCGAGACG...         Microglia   \n",
       "C3N-03186_CPT0206880004_2020-06-22_CTCACCAGTAAC...             Tumor   \n",
       "C3N-03186_CPT0206880004_2020-06-22_CCCAGAGCAATG...         Microglia   \n",
       "C3N-03186_CPT0206880004_2020-06-22_GCCCAGAGTGAA...         Microglia   \n",
       "\n",
       "                                                    cell_type_manual_2  \\\n",
       "C3L-02705_CPT0189650015_2020-06-16_GCGAGAACATGC...               Tumor   \n",
       "C3L-02705_CPT0189650015_2020-06-16_CTCAGCTGTTAT...         Microglia_2   \n",
       "C3L-02705_CPT0189650015_2020-06-16_ACCCAAAAGATC...               Tumor   \n",
       "C3L-02705_CPT0189650015_2020-06-16_AACTGTGCACGC...         Microglia_1   \n",
       "C3L-02705_CPT0189650015_2020-06-16_TTGCTTAGTCCG...               Tumor   \n",
       "...                                                                ...   \n",
       "C3N-03186_CPT0206880004_2020-06-22_AAACTGCTCCTT...               Tumor   \n",
       "C3N-03186_CPT0206880004_2020-06-22_ATAGTCGAGACG...         Microglia_2   \n",
       "C3N-03186_CPT0206880004_2020-06-22_CTCACCAGTAAC...               Tumor   \n",
       "C3N-03186_CPT0206880004_2020-06-22_CCCAGAGCAATG...         Microglia_2   \n",
       "C3N-03186_CPT0206880004_2020-06-22_GCCCAGAGTGAA...         Microglia_2   \n",
       "\n",
       "                                                    cell_type  \n",
       "C3L-02705_CPT0189650015_2020-06-16_GCGAGAACATGC...      Tumor  \n",
       "C3L-02705_CPT0189650015_2020-06-16_CTCAGCTGTTAT...  Microglia  \n",
       "C3L-02705_CPT0189650015_2020-06-16_ACCCAAAAGATC...      Tumor  \n",
       "C3L-02705_CPT0189650015_2020-06-16_AACTGTGCACGC...  Microglia  \n",
       "C3L-02705_CPT0189650015_2020-06-16_TTGCTTAGTCCG...      Tumor  \n",
       "...                                                       ...  \n",
       "C3N-03186_CPT0206880004_2020-06-22_AAACTGCTCCTT...      Tumor  \n",
       "C3N-03186_CPT0206880004_2020-06-22_ATAGTCGAGACG...  Microglia  \n",
       "C3N-03186_CPT0206880004_2020-06-22_CTCACCAGTAAC...      Tumor  \n",
       "C3N-03186_CPT0206880004_2020-06-22_CCCAGAGCAATG...  Microglia  \n",
       "C3N-03186_CPT0206880004_2020-06-22_GCCCAGAGTGAA...  Microglia  \n",
       "\n",
       "[65891 rows x 51 columns]"
      ]
     },
     "execution_count": 23,
     "metadata": {},
     "output_type": "execute_result"
    }
   ],
   "source": [
    "adata = sc.read_h5ad('/home/estorrs/rds_conversion/data/snATACseq/gbm/gbm_gene_activity_nadja.h5ad')\n",
    "metadata = adata.obs.copy()\n",
    "metadata.columns = metadata.columns.astype(str)\n",
    "metadata"
   ]
  },
  {
   "cell_type": "code",
   "execution_count": 24,
   "metadata": {},
   "outputs": [
    {
     "data": {
      "text/plain": [
       "((65891, 19891), (65891, 149449), (65891, 633))"
      ]
     },
     "execution_count": 24,
     "metadata": {},
     "output_type": "execute_result"
    }
   ],
   "source": [
    "gene_activity = sc.read_h5ad('/home/estorrs/rds_conversion/data/snATACseq/gbm/gbm_gene_activity_nadja.h5ad')\n",
    "peaks = sc.read_h5ad('/home/estorrs/rds_conversion/data/snATACseq/gbm/gbm_peaks_nadja.h5ad')\n",
    "motif = sc.read_h5ad('/home/estorrs/rds_conversion/data/snATACseq/gbm/gbm_motif_accessability_nadja.h5ad')\n",
    "gene_activity.shape, peaks.shape, motif.shape"
   ]
  },
  {
   "cell_type": "code",
   "execution_count": 25,
   "metadata": {},
   "outputs": [
    {
     "data": {
      "text/plain": [
       "(65891, 65891)"
      ]
     },
     "execution_count": 25,
     "metadata": {},
     "output_type": "execute_result"
    }
   ],
   "source": [
    "np.count_nonzero(gene_activity.obs.index == peaks.obs.index), np.count_nonzero(gene_activity.obs.index == motif.obs.index)"
   ]
  },
  {
   "cell_type": "code",
   "execution_count": 26,
   "metadata": {},
   "outputs": [
    {
     "data": {
      "text/plain": [
       "{'B-cells/Plasma',\n",
       " 'Endothelial',\n",
       " 'Fibroblast',\n",
       " 'Maybe OPC',\n",
       " 'Microglia',\n",
       " 'Neurons',\n",
       " 'Oligodendrocytes',\n",
       " 'T cells',\n",
       " 'Tumor'}"
      ]
     },
     "execution_count": 26,
     "metadata": {},
     "output_type": "execute_result"
    }
   ],
   "source": [
    "set(metadata['cell_type'])"
   ]
  },
  {
   "cell_type": "code",
   "execution_count": 27,
   "metadata": {},
   "outputs": [
    {
     "name": "stderr",
     "output_type": "stream",
     "text": [
      "/home/estorrs/miniconda3/envs/pollock_dev/lib/python3.7/site-packages/anndata/_core/anndata.py:1094: FutureWarning: is_categorical is deprecated and will be removed in a future version.  Use is_categorical_dtype instead\n",
      "  if not is_categorical(df_full[k]):\n"
     ]
    }
   ],
   "source": [
    "trash = ['Unknown', 'Maybe OPC']\n",
    "mask = [True if c not in trash else False\n",
    "       for c in metadata['cell_type']]\n",
    "metadata = metadata[mask]\n",
    "gene_activity = gene_activity[mask]\n",
    "peaks = peaks[mask]\n",
    "motif = motif[mask]"
   ]
  },
  {
   "cell_type": "code",
   "execution_count": null,
   "metadata": {},
   "outputs": [],
   "source": [
    "## go up to T1 and T2 sections and add cells as necessary"
   ]
  },
  {
   "cell_type": "code",
   "execution_count": null,
   "metadata": {},
   "outputs": [],
   "source": [
    "t1_metadata = metadata.copy()\n",
    "t1_metadata['cell_type'] = [R_T1_MAP[c] for c in metadata['cell_type']]\n",
    "set(t1_metadata['cell_type'])"
   ]
  },
  {
   "cell_type": "code",
   "execution_count": null,
   "metadata": {},
   "outputs": [],
   "source": [
    "t2_metadata = metadata.copy()\n",
    "t2_metadata['cell_type'] = [R_T2_MAP[c] for c in metadata['cell_type']]\n",
    "set(t2_metadata['cell_type'])"
   ]
  },
  {
   "cell_type": "code",
   "execution_count": null,
   "metadata": {},
   "outputs": [],
   "source": [
    "disease = 'gbm'\n",
    "gene_activity.obs = t1_metadata\n",
    "gene_activity.write_h5ad(os.path.join(T1_OUTPUT, 'snATACseq', f'{disease}_gene_activity.h5ad'))\n",
    "gene_activity.obs = t2_metadata\n",
    "gene_activity.write_h5ad(os.path.join(T2_OUTPUT, 'snATACseq', f'{disease}_gene_activity.h5ad'))"
   ]
  },
  {
   "cell_type": "code",
   "execution_count": null,
   "metadata": {},
   "outputs": [],
   "source": [
    "peaks.obs = t1_metadata\n",
    "peaks.write_h5ad(os.path.join(T1_OUTPUT, 'snATACseq', f'{disease}_peaks.h5ad'))\n",
    "peaks.obs = t2_metadata\n",
    "peaks.write_h5ad(os.path.join(T2_OUTPUT, 'snATACseq', f'{disease}_peaks.h5ad'))"
   ]
  },
  {
   "cell_type": "code",
   "execution_count": null,
   "metadata": {},
   "outputs": [],
   "source": [
    "motif.obs = t1_metadata\n",
    "motif.write_h5ad(os.path.join(T1_OUTPUT, 'snATACseq', f'{disease}_motif.h5ad'))\n",
    "motif.obs = t2_metadata\n",
    "motif.write_h5ad(os.path.join(T2_OUTPUT, 'snATACseq', f'{disease}_motif.h5ad'))"
   ]
  },
  {
   "cell_type": "code",
   "execution_count": null,
   "metadata": {},
   "outputs": [],
   "source": []
  }
 ],
 "metadata": {
  "kernelspec": {
   "display_name": "Python 3",
   "language": "python",
   "name": "python3"
  },
  "language_info": {
   "codemirror_mode": {
    "name": "ipython",
    "version": 3
   },
   "file_extension": ".py",
   "mimetype": "text/x-python",
   "name": "python",
   "nbconvert_exporter": "python",
   "pygments_lexer": "ipython3",
   "version": "3.7.8"
  }
 },
 "nbformat": 4,
 "nbformat_minor": 4
}
