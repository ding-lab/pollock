{
 "cells": [
  {
   "cell_type": "code",
   "execution_count": 133,
   "metadata": {},
   "outputs": [],
   "source": [
    "import json\n",
    "import logging\n",
    "import os\n",
    "import re\n",
    "from collections import Counter\n",
    "from importlib import reload\n",
    "\n",
    "import joblib\n",
    "import numpy as np\n",
    "import pandas as pd\n",
    "import scipy\n",
    "import tensorflow as tf\n",
    "from sklearn.metrics import confusion_matrix\n",
    "\n",
    "\n",
    "import pollock\n",
    "from pollock.model.model import get_default_cell_classifier\n",
    "# from pollock.preprocessing.preprocessing import get_expression_matrix\n",
    "\n"
   ]
  },
  {
   "cell_type": "code",
   "execution_count": 134,
   "metadata": {},
   "outputs": [],
   "source": [
    "X_test = scipy.sparse.load_npz(\n",
    "        '/Users/erikstorrs/Documents/ding/single-cell-classification/data/processed/X_test.npz')"
   ]
  },
  {
   "cell_type": "code",
   "execution_count": 135,
   "metadata": {},
   "outputs": [],
   "source": [
    "metadata_df = pd.read_csv(\n",
    "        '/Users/erikstorrs/Documents/ding/single-cell-classification/data/processed/test_metadata.tsv', sep='\\t')\n",
    "cell_encoder = joblib.load(\n",
    "        '/Users/erikstorrs/Documents/ding/pollock/pollock/model/cell_type_encoder.pkl')\n",
    "\n",
    "y_test = np.asarray(metadata_df['cell_type'])\n",
    "# y_test_labels = np.copy(y_)\n",
    "# y_test = cell_encoder.transform(y_test.reshape((-1, 1)))"
   ]
  },
  {
   "cell_type": "code",
   "execution_count": 137,
   "metadata": {},
   "outputs": [
    {
     "data": {
      "text/plain": [
       "['melanoma',\n",
       " 'plasma',\n",
       " 'macromononeutro',\n",
       " 'malignantplasma',\n",
       " 'tcell',\n",
       " 'dc',\n",
       " 'bcell',\n",
       " 'ductal',\n",
       " 'stroma',\n",
       " 'fibroblast',\n",
       " 'endothelial',\n",
       " 'mast',\n",
       " 'acinar']"
      ]
     },
     "execution_count": 137,
     "metadata": {},
     "output_type": "execute_result"
    }
   ],
   "source": [
    "list(Counter(y_test).keys())"
   ]
  },
  {
   "cell_type": "code",
   "execution_count": 5,
   "metadata": {},
   "outputs": [
    {
     "data": {
      "text/plain": [
       "((64064, 34241), (64064,))"
      ]
     },
     "execution_count": 5,
     "metadata": {},
     "output_type": "execute_result"
    }
   ],
   "source": [
    "X_test.shape, y_test.shape"
   ]
  },
  {
   "cell_type": "code",
   "execution_count": 6,
   "metadata": {},
   "outputs": [
    {
     "name": "stderr",
     "output_type": "stream",
     "text": [
      "WARNING: Logging before flag parsing goes to stderr.\n",
      "W0812 09:51:15.472088 4658537920 deprecation.py:323] From /Users/erikstorrs/miniconda3/envs/pollock/lib/python3.7/site-packages/tensorflow/python/keras/backend.py:4149: add_dispatch_support.<locals>.wrapper (from tensorflow.python.ops.array_ops) is deprecated and will be removed in a future version.\n",
      "Instructions for updating:\n",
      "Use tf.where in 2.0, which has the same broadcast rule as np.where\n"
     ]
    }
   ],
   "source": [
    "reload(pollock)\n",
    "reload(pollock.model.model)\n",
    "# pollock.model.\n",
    "# model = CellClassifier(weights_fp, train_mean, train_std, cell_encoder)\n",
    "model = get_default_cell_classifier()"
   ]
  },
  {
   "cell_type": "code",
   "execution_count": 7,
   "metadata": {},
   "outputs": [
    {
     "name": "stderr",
     "output_type": "stream",
     "text": [
      "/Users/erikstorrs/Documents/ding/pollock/pollock/model/model.py:34: RuntimeWarning: divide by zero encountered in true_divide\n",
      "  m = (m - mean) / std\n",
      "/Users/erikstorrs/Documents/ding/pollock/pollock/model/model.py:34: RuntimeWarning: invalid value encountered in true_divide\n",
      "  m = (m - mean) / std\n"
     ]
    }
   ],
   "source": [
    "labels, probs = model.predict(X_test[:5000])"
   ]
  },
  {
   "cell_type": "code",
   "execution_count": null,
   "metadata": {},
   "outputs": [],
   "source": [
    "labels"
   ]
  },
  {
   "cell_type": "code",
   "execution_count": null,
   "metadata": {},
   "outputs": [],
   "source": [
    "predictions = None\n",
    "batch_size = 5000\n",
    "\n",
    "for i in range(0, X_test.shape[0], batch_size):\n",
    "    print(i)\n",
    "    X = X_test[i:i + batch_size]\n",
    "    X = normalize_matrix(X, mean=train_mean, std=train_std)\n",
    "    \n",
    "    if predictions is None:\n",
    "        predictions = model.predict(X)\n",
    "    else:\n",
    "        predictions = np.concatenate((predictions, model.predict(X)), axis=0)"
   ]
  },
  {
   "cell_type": "code",
   "execution_count": null,
   "metadata": {},
   "outputs": [],
   "source": [
    "np.max(predictions[:10], axis=1)"
   ]
  },
  {
   "cell_type": "code",
   "execution_count": null,
   "metadata": {},
   "outputs": [],
   "source": [
    "labels = np.asarray([cell_encoder.categories_[0][i] for i in np.argmax(predictions, axis=1)])"
   ]
  },
  {
   "cell_type": "code",
   "execution_count": null,
   "metadata": {},
   "outputs": [],
   "source": [
    "correct, wrong = [], []\n",
    "\n",
    "for i, (ground_truth, predicted) in enumerate(zip(y_test, labels)):\n",
    "    if ground_truth == predicted:\n",
    "        correct.append(i)\n",
    "    else:\n",
    "        wrong.append(i)\n",
    "        \n",
    "len(correct), len(wrong), len(correct) / (len(correct) + len(wrong))"
   ]
  },
  {
   "cell_type": "code",
   "execution_count": null,
   "metadata": {},
   "outputs": [],
   "source": [
    "\n",
    "Counter(labels[wrong]).most_common()"
   ]
  },
  {
   "cell_type": "code",
   "execution_count": null,
   "metadata": {},
   "outputs": [],
   "source": [
    "total = Counter(y_test)\n",
    "ground_truth_correct = Counter(y_test[correct])\n",
    "ground_truth_wrong = Counter(y_test[wrong])\n",
    "\n",
    "predicted_correct = Counter(labels[correct])\n",
    "predicted_wrong = Counter(labels[wrong])"
   ]
  },
  {
   "cell_type": "code",
   "execution_count": null,
   "metadata": {},
   "outputs": [],
   "source": [
    "for cell, count in total.most_common():\n",
    "    print(cell)\n",
    "    print(ground_truth_correct[cell] / count)\n",
    "    print(ground_truth_wrong[cell] / count)\n",
    "    print(predicted_wrong[cell] / count)"
   ]
  },
  {
   "cell_type": "code",
   "execution_count": null,
   "metadata": {},
   "outputs": [],
   "source": [
    "from sklearn.metrics import confusion_matrix\n",
    "\n",
    "cm = confusion_matrix(y_test[:20000], labels)\n",
    "\n",
    "cf_df = pd.DataFrame(data=cm, columns=cell_encoder.categories_, index=cell_encoder.categories_)\n",
    "\n",
    "cf_df"
   ]
  },
  {
   "cell_type": "code",
   "execution_count": null,
   "metadata": {
    "scrolled": true
   },
   "outputs": [],
   "source": [
    "confident_idxs = np.asarray([i for i, conf in enumerate(np.max(predictions, axis=1))\n",
    "                            if conf > .99])\n",
    "\n",
    "print(len(confident_idxs))\n",
    "\n",
    "\n",
    "cm = confusion_matrix(y_test[confident_idxs], labels[confident_idxs])\n",
    "\n",
    "cf_df = pd.DataFrame(data=cm, columns=cell_encoder.categories_, index=cell_encoder.categories_)\n",
    "\n",
    "cf_df"
   ]
  },
  {
   "cell_type": "code",
   "execution_count": null,
   "metadata": {},
   "outputs": [],
   "source": []
  },
  {
   "cell_type": "code",
   "execution_count": null,
   "metadata": {},
   "outputs": [],
   "source": [
    "import seaborn as sns\n",
    "\n",
    "sns.heatmap(cf_df.values, annot=True)"
   ]
  },
  {
   "cell_type": "markdown",
   "metadata": {},
   "source": [
    "## test out a test dataset"
   ]
  },
  {
   "cell_type": "code",
   "execution_count": 89,
   "metadata": {},
   "outputs": [
    {
     "data": {
      "text/html": [
       "<div>\n",
       "<style scoped>\n",
       "    .dataframe tbody tr th:only-of-type {\n",
       "        vertical-align: middle;\n",
       "    }\n",
       "\n",
       "    .dataframe tbody tr th {\n",
       "        vertical-align: top;\n",
       "    }\n",
       "\n",
       "    .dataframe thead th {\n",
       "        text-align: right;\n",
       "    }\n",
       "</style>\n",
       "<table border=\"1\" class=\"dataframe\">\n",
       "  <thead>\n",
       "    <tr style=\"text-align: right;\">\n",
       "      <th></th>\n",
       "      <th>sample_id</th>\n",
       "      <th>cell_barcode</th>\n",
       "      <th>cell_type</th>\n",
       "      <th>technique</th>\n",
       "    </tr>\n",
       "  </thead>\n",
       "  <tbody>\n",
       "    <tr>\n",
       "      <th>27522_1_AAACCTGAGATGTCGG</th>\n",
       "      <td>27522_1</td>\n",
       "      <td>27522_1_AAACCTGAGATGTCGG</td>\n",
       "      <td>Tcell</td>\n",
       "      <td>sc</td>\n",
       "    </tr>\n",
       "    <tr>\n",
       "      <th>27522_1_AAACCTGAGCGCTCCA</th>\n",
       "      <td>27522_1</td>\n",
       "      <td>27522_1_AAACCTGAGCGCTCCA</td>\n",
       "      <td>MalignantPlasma</td>\n",
       "      <td>sc</td>\n",
       "    </tr>\n",
       "    <tr>\n",
       "      <th>27522_1_AAACCTGAGCGGCTTC</th>\n",
       "      <td>27522_1</td>\n",
       "      <td>27522_1_AAACCTGAGCGGCTTC</td>\n",
       "      <td>MalignantPlasma</td>\n",
       "      <td>sc</td>\n",
       "    </tr>\n",
       "    <tr>\n",
       "      <th>27522_1_AAACCTGAGCTGATAA</th>\n",
       "      <td>27522_1</td>\n",
       "      <td>27522_1_AAACCTGAGCTGATAA</td>\n",
       "      <td>MacroMonoNeutro</td>\n",
       "      <td>sc</td>\n",
       "    </tr>\n",
       "    <tr>\n",
       "      <th>27522_1_AAACCTGCACAAGTAA</th>\n",
       "      <td>27522_1</td>\n",
       "      <td>27522_1_AAACCTGCACAAGTAA</td>\n",
       "      <td>MalignantPlasma</td>\n",
       "      <td>sc</td>\n",
       "    </tr>\n",
       "  </tbody>\n",
       "</table>\n",
       "</div>"
      ],
      "text/plain": [
       "                         sample_id              cell_barcode        cell_type  \\\n",
       "27522_1_AAACCTGAGATGTCGG   27522_1  27522_1_AAACCTGAGATGTCGG            Tcell   \n",
       "27522_1_AAACCTGAGCGCTCCA   27522_1  27522_1_AAACCTGAGCGCTCCA  MalignantPlasma   \n",
       "27522_1_AAACCTGAGCGGCTTC   27522_1  27522_1_AAACCTGAGCGGCTTC  MalignantPlasma   \n",
       "27522_1_AAACCTGAGCTGATAA   27522_1  27522_1_AAACCTGAGCTGATAA  MacroMonoNeutro   \n",
       "27522_1_AAACCTGCACAAGTAA   27522_1  27522_1_AAACCTGCACAAGTAA  MalignantPlasma   \n",
       "\n",
       "                         technique  \n",
       "27522_1_AAACCTGAGATGTCGG        sc  \n",
       "27522_1_AAACCTGAGCGCTCCA        sc  \n",
       "27522_1_AAACCTGAGCGGCTTC        sc  \n",
       "27522_1_AAACCTGAGCTGATAA        sc  \n",
       "27522_1_AAACCTGCACAAGTAA        sc  "
      ]
     },
     "execution_count": 89,
     "metadata": {},
     "output_type": "execute_result"
    }
   ],
   "source": [
    "sample = '27522_1'\n",
    "\n",
    "fp = f'/Users/erikstorrs/Documents/ding/single-cell-classification/data/myeloma/expression/MMY_raw_expression_in_sample_{sample}.txt'\n",
    "valid_df = pd.read_csv('/Users/erikstorrs/Documents/ding/single-cell-classification/data/myeloma/metadata/barcode_cell_type_summary.txt',\n",
    "                      sep='\\t')\n",
    "valid_df = valid_df[valid_df['sample_id'] == sample]\n",
    "valid_df.index = list(valid_df['cell_barcode'])\n",
    "valid_df.head()\n"
   ]
  },
  {
   "cell_type": "code",
   "execution_count": 80,
   "metadata": {},
   "outputs": [
    {
     "name": "stderr",
     "output_type": "stream",
     "text": [
      "/Users/erikstorrs/miniconda3/envs/pollock/lib/python3.7/site-packages/scipy/sparse/_index.py:103: SparseEfficiencyWarning: Changing the sparsity structure of a csr_matrix is expensive. lil_matrix is more efficient.\n",
      "  self._set_arrayXarray_sparse(i, j, x)\n"
     ]
    }
   ],
   "source": [
    "reload(pollock.preprocessing.preprocessing)\n",
    "expression_matrix, samples, genes = pollock.preprocessing.preprocessing.get_expression_matrix(fp)"
   ]
  },
  {
   "cell_type": "code",
   "execution_count": 81,
   "metadata": {},
   "outputs": [
    {
     "data": {
      "text/plain": [
       "((4543, 34241), 4543, 34241)"
      ]
     },
     "execution_count": 81,
     "metadata": {},
     "output_type": "execute_result"
    }
   ],
   "source": [
    "expression_matrix.shape, len(samples), len(genes)"
   ]
  },
  {
   "cell_type": "code",
   "execution_count": 101,
   "metadata": {},
   "outputs": [],
   "source": [
    "reload(pollock)\n",
    "reload(pollock.model.model)\n",
    "model = get_default_cell_classifier()"
   ]
  },
  {
   "cell_type": "code",
   "execution_count": 128,
   "metadata": {},
   "outputs": [
    {
     "name": "stderr",
     "output_type": "stream",
     "text": [
      "/Users/erikstorrs/Documents/ding/pollock/pollock/model/model.py:34: RuntimeWarning: divide by zero encountered in true_divide\n",
      "  m = (m - mean) / std\n",
      "/Users/erikstorrs/Documents/ding/pollock/pollock/model/model.py:34: RuntimeWarning: invalid value encountered in true_divide\n",
      "  m = (m - mean) / std\n"
     ]
    },
    {
     "name": "stdout",
     "output_type": "stream",
     "text": [
      "[]\n"
     ]
    }
   ],
   "source": [
    "labels, probs = model.predict(expression_matrix)"
   ]
  },
  {
   "cell_type": "code",
   "execution_count": 129,
   "metadata": {},
   "outputs": [
    {
     "data": {
      "text/plain": [
       "array(['tcell', 'malignantplasma', 'malignantplasma', 'macromononeutro',\n",
       "       'malignantplasma', 'tcell', 'tcell', 'malignantplasma', 'bcell',\n",
       "       'malignantplasma'], dtype='<U32')"
      ]
     },
     "execution_count": 129,
     "metadata": {},
     "output_type": "execute_result"
    }
   ],
   "source": [
    "labels[:10]"
   ]
  },
  {
   "cell_type": "code",
   "execution_count": 130,
   "metadata": {},
   "outputs": [
    {
     "data": {
      "text/plain": [
       "[('malignantplasma', 2490),\n",
       " ('macromononeutro', 1374),\n",
       " ('tcell', 365),\n",
       " ('bcell', 272),\n",
       " ('dc', 34),\n",
       " ('fibroblast', 5),\n",
       " ('melanoma', 2),\n",
       " ('plasma', 1)]"
      ]
     },
     "execution_count": 130,
     "metadata": {},
     "output_type": "execute_result"
    }
   ],
   "source": [
    "Counter(labels).most_common()"
   ]
  },
  {
   "cell_type": "code",
   "execution_count": 131,
   "metadata": {},
   "outputs": [],
   "source": [
    "ground_truth = [valid_df.loc[s]['cell_type'].lower() for s in samples]"
   ]
  },
  {
   "cell_type": "code",
   "execution_count": 132,
   "metadata": {},
   "outputs": [
    {
     "data": {
      "text/html": [
       "<div>\n",
       "<style scoped>\n",
       "    .dataframe tbody tr th:only-of-type {\n",
       "        vertical-align: middle;\n",
       "    }\n",
       "\n",
       "    .dataframe tbody tr th {\n",
       "        vertical-align: top;\n",
       "    }\n",
       "\n",
       "    .dataframe thead th {\n",
       "        text-align: right;\n",
       "    }\n",
       "</style>\n",
       "<table border=\"1\" class=\"dataframe\">\n",
       "  <thead>\n",
       "    <tr style=\"text-align: right;\">\n",
       "      <th></th>\n",
       "      <th>bcell</th>\n",
       "      <th>dc</th>\n",
       "      <th>fibroblast</th>\n",
       "      <th>macromononeutro</th>\n",
       "      <th>malignantplasma</th>\n",
       "      <th>melanoma</th>\n",
       "      <th>plasma</th>\n",
       "      <th>tcell</th>\n",
       "    </tr>\n",
       "  </thead>\n",
       "  <tbody>\n",
       "    <tr>\n",
       "      <th>bcell</th>\n",
       "      <td>269</td>\n",
       "      <td>1</td>\n",
       "      <td>2</td>\n",
       "      <td>2</td>\n",
       "      <td>16</td>\n",
       "      <td>1</td>\n",
       "      <td>0</td>\n",
       "      <td>8</td>\n",
       "    </tr>\n",
       "    <tr>\n",
       "      <th>dc</th>\n",
       "      <td>0</td>\n",
       "      <td>32</td>\n",
       "      <td>0</td>\n",
       "      <td>17</td>\n",
       "      <td>0</td>\n",
       "      <td>0</td>\n",
       "      <td>0</td>\n",
       "      <td>0</td>\n",
       "    </tr>\n",
       "    <tr>\n",
       "      <th>fibroblast</th>\n",
       "      <td>0</td>\n",
       "      <td>0</td>\n",
       "      <td>0</td>\n",
       "      <td>0</td>\n",
       "      <td>0</td>\n",
       "      <td>0</td>\n",
       "      <td>0</td>\n",
       "      <td>0</td>\n",
       "    </tr>\n",
       "    <tr>\n",
       "      <th>macromononeutro</th>\n",
       "      <td>2</td>\n",
       "      <td>0</td>\n",
       "      <td>2</td>\n",
       "      <td>1325</td>\n",
       "      <td>24</td>\n",
       "      <td>0</td>\n",
       "      <td>1</td>\n",
       "      <td>0</td>\n",
       "    </tr>\n",
       "    <tr>\n",
       "      <th>malignantplasma</th>\n",
       "      <td>0</td>\n",
       "      <td>1</td>\n",
       "      <td>1</td>\n",
       "      <td>28</td>\n",
       "      <td>2447</td>\n",
       "      <td>0</td>\n",
       "      <td>0</td>\n",
       "      <td>0</td>\n",
       "    </tr>\n",
       "    <tr>\n",
       "      <th>melanoma</th>\n",
       "      <td>0</td>\n",
       "      <td>0</td>\n",
       "      <td>0</td>\n",
       "      <td>0</td>\n",
       "      <td>0</td>\n",
       "      <td>0</td>\n",
       "      <td>0</td>\n",
       "      <td>0</td>\n",
       "    </tr>\n",
       "    <tr>\n",
       "      <th>plasma</th>\n",
       "      <td>0</td>\n",
       "      <td>0</td>\n",
       "      <td>0</td>\n",
       "      <td>0</td>\n",
       "      <td>0</td>\n",
       "      <td>0</td>\n",
       "      <td>0</td>\n",
       "      <td>0</td>\n",
       "    </tr>\n",
       "    <tr>\n",
       "      <th>tcell</th>\n",
       "      <td>1</td>\n",
       "      <td>0</td>\n",
       "      <td>0</td>\n",
       "      <td>2</td>\n",
       "      <td>3</td>\n",
       "      <td>1</td>\n",
       "      <td>0</td>\n",
       "      <td>357</td>\n",
       "    </tr>\n",
       "  </tbody>\n",
       "</table>\n",
       "</div>"
      ],
      "text/plain": [
       "                 bcell  dc  fibroblast  macromononeutro  malignantplasma  \\\n",
       "bcell              269   1           2                2               16   \n",
       "dc                   0  32           0               17                0   \n",
       "fibroblast           0   0           0                0                0   \n",
       "macromononeutro      2   0           2             1325               24   \n",
       "malignantplasma      0   1           1               28             2447   \n",
       "melanoma             0   0           0                0                0   \n",
       "plasma               0   0           0                0                0   \n",
       "tcell                1   0           0                2                3   \n",
       "\n",
       "                 melanoma  plasma  tcell  \n",
       "bcell                   1       0      8  \n",
       "dc                      0       0      0  \n",
       "fibroblast              0       0      0  \n",
       "macromononeutro         0       1      0  \n",
       "malignantplasma         0       0      0  \n",
       "melanoma                0       0      0  \n",
       "plasma                  0       0      0  \n",
       "tcell                   1       0    357  "
      ]
     },
     "execution_count": 132,
     "metadata": {},
     "output_type": "execute_result"
    }
   ],
   "source": [
    "## score the cells\n",
    "lbs = sorted(set(labels).union(set(ground_truth)))\n",
    "cm = confusion_matrix(ground_truth, labels, labels=lbs)\n",
    "cm_df = pd.DataFrame(data=cm, columns=lbs, index=lbs)\n",
    "\n",
    "cm_df"
   ]
  },
  {
   "cell_type": "code",
   "execution_count": null,
   "metadata": {},
   "outputs": [],
   "source": []
  },
  {
   "cell_type": "code",
   "execution_count": null,
   "metadata": {},
   "outputs": [],
   "source": []
  },
  {
   "cell_type": "code",
   "execution_count": 7,
   "metadata": {},
   "outputs": [],
   "source": [
    "\n",
    "o = 1815"
   ]
  },
  {
   "cell_type": "code",
   "execution_count": 8,
   "metadata": {},
   "outputs": [
    {
     "name": "stdout",
     "output_type": "stream",
     "text": [
      "10 181.5\n",
      "20 363.0\n",
      "30 544.5\n",
      "40 726.0\n",
      "50 907.5\n",
      "60 1089.0\n",
      "70 1270.5\n",
      "80 1452.0\n",
      "90 1633.5\n"
     ]
    }
   ],
   "source": [
    "for i in range(1, 10):\n",
    "    print(i * 10, (i / 10) * o)"
   ]
  },
  {
   "cell_type": "code",
   "execution_count": null,
   "metadata": {},
   "outputs": [],
   "source": []
  }
 ],
 "metadata": {
  "kernelspec": {
   "display_name": "Python 3",
   "language": "python",
   "name": "python3"
  },
  "language_info": {
   "codemirror_mode": {
    "name": "ipython",
    "version": 3
   },
   "file_extension": ".py",
   "mimetype": "text/x-python",
   "name": "python",
   "nbconvert_exporter": "python",
   "pygments_lexer": "ipython3",
   "version": "3.7.3"
  }
 },
 "nbformat": 4,
 "nbformat_minor": 2
}
