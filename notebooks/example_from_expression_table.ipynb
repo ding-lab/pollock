{
 "cells": [
  {
   "cell_type": "code",
   "execution_count": 1,
   "metadata": {},
   "outputs": [
    {
     "name": "stderr",
     "output_type": "stream",
     "text": [
      "/Users/erikstorrs/miniconda3/envs/pollock_v2/lib/python3.7/site-packages/anndata/_core/anndata.py:21: FutureWarning: pandas.core.index is deprecated and will be removed in a future version.  The public classes are available in the top-level namespace.\n",
      "  from pandas.core.index import RangeIndex\n"
     ]
    }
   ],
   "source": [
    "import logging\n",
    "import os\n",
    "import random\n",
    "from collections import Counter\n",
    "from importlib import reload\n",
    "\n",
    "\n",
    "import anndata\n",
    "import numpy as np\n",
    "import pandas as pd\n",
    "import scanpy as sc\n",
    "import matplotlib.pyplot as plt\n",
    "\n",
    "import pollock\n",
    "from pollock.models.model import PollockDataset, PollockModel, load_from_directory\n",
    "import pollock.models.analysis as pollock_analysis"
   ]
  },
  {
   "cell_type": "code",
   "execution_count": 2,
   "metadata": {},
   "outputs": [],
   "source": [
    "import logging\n",
    "reload(logging)\n",
    "logging.basicConfig(format='%(asctime)s %(message)s', level=logging.INFO)"
   ]
  },
  {
   "cell_type": "code",
   "execution_count": 3,
   "metadata": {},
   "outputs": [],
   "source": [
    "%load_ext autoreload"
   ]
  },
  {
   "cell_type": "code",
   "execution_count": 4,
   "metadata": {},
   "outputs": [],
   "source": [
    "%autoreload 2"
   ]
  },
  {
   "cell_type": "code",
   "execution_count": 5,
   "metadata": {},
   "outputs": [],
   "source": [
    "# pollock.models.model.set_training_devices(['/device:XLA_GPU:0'])"
   ]
  },
  {
   "cell_type": "code",
   "execution_count": null,
   "metadata": {},
   "outputs": [],
   "source": [
    "# from importlib import reload\n",
    "# reload(pollock)\n",
    "# reload(pollock.models.model)"
   ]
  },
  {
   "cell_type": "code",
   "execution_count": 6,
   "metadata": {},
   "outputs": [
    {
     "data": {
      "text/plain": [
       "[name: \"/device:CPU:0\"\n",
       " device_type: \"CPU\"\n",
       " memory_limit: 268435456\n",
       " locality {\n",
       " }\n",
       " incarnation: 11221452825783706336]"
      ]
     },
     "execution_count": 6,
     "metadata": {},
     "output_type": "execute_result"
    }
   ],
   "source": [
    "from tensorflow.python.client import device_lib\n",
    "import tensorflow as tf\n",
    "device_lib.list_local_devices()"
   ]
  },
  {
   "cell_type": "code",
   "execution_count": 7,
   "metadata": {},
   "outputs": [],
   "source": [
    "# tf.config.list_physical_devices('XLA_GPU')"
   ]
  },
  {
   "cell_type": "code",
   "execution_count": 8,
   "metadata": {},
   "outputs": [],
   "source": [
    "# tf.keras.backend.clear_session()\n",
    "# tf.config.optimizer.set_jit(True)"
   ]
  },
  {
   "cell_type": "code",
   "execution_count": 9,
   "metadata": {},
   "outputs": [],
   "source": [
    "# mirrored_strategy = tf.distribute.MirroredStrategy(\n",
    "#     devices=[\"/device:XLA_GPU:0\"])"
   ]
  },
  {
   "cell_type": "markdown",
   "metadata": {},
   "source": [
    "## load in expression table and labels"
   ]
  },
  {
   "cell_type": "code",
   "execution_count": 6,
   "metadata": {},
   "outputs": [],
   "source": [
    "expression_fp = '/home/estorrs/data/single_cell_classification/Intra-dataset/Zheng 68K/Filtered_68K_PBMC_data.csv'\n",
    "label_fp = '/home/estorrs/data/single_cell_classification/Intra-dataset/Zheng 68K/Labels.csv'\n"
   ]
  },
  {
   "cell_type": "code",
   "execution_count": 10,
   "metadata": {},
   "outputs": [],
   "source": [
    "expression_fp = '/Volumes/timmy/ding/scRNAseq_classification_datasets/scRNAseq_benchmark/Intra-dataset/Zheng 68K/Filtered_68K_PBMC_data.csv'\n",
    "label_fp = '/Volumes/timmy/ding/scRNAseq_classification_datasets/scRNAseq_benchmark/Intra-dataset/Zheng 68K/Labels.csv'"
   ]
  },
  {
   "cell_type": "code",
   "execution_count": 11,
   "metadata": {},
   "outputs": [
    {
     "name": "stdout",
     "output_type": "stream",
     "text": [
      "CPU times: user 9min 45s, sys: 1min 7s, total: 10min 53s\n",
      "Wall time: 11min 17s\n"
     ]
    },
    {
     "data": {
      "text/html": [
       "<div>\n",
       "<style scoped>\n",
       "    .dataframe tbody tr th:only-of-type {\n",
       "        vertical-align: middle;\n",
       "    }\n",
       "\n",
       "    .dataframe tbody tr th {\n",
       "        vertical-align: top;\n",
       "    }\n",
       "\n",
       "    .dataframe thead th {\n",
       "        text-align: right;\n",
       "    }\n",
       "</style>\n",
       "<table border=\"1\" class=\"dataframe\">\n",
       "  <thead>\n",
       "    <tr style=\"text-align: right;\">\n",
       "      <th></th>\n",
       "      <th>Unnamed: 0</th>\n",
       "      <th>AL627309.1</th>\n",
       "      <th>AP006222.2</th>\n",
       "      <th>RP11-206L10.3</th>\n",
       "      <th>RP11-206L10.2</th>\n",
       "      <th>RP11-206L10.9</th>\n",
       "      <th>FAM87B</th>\n",
       "      <th>LINC00115</th>\n",
       "      <th>FAM41C</th>\n",
       "      <th>RP11-54O7.1</th>\n",
       "      <th>...</th>\n",
       "      <th>AC145212.1</th>\n",
       "      <th>MGC39584</th>\n",
       "      <th>AC011043.1</th>\n",
       "      <th>ZNF84.1</th>\n",
       "      <th>AL592183.1</th>\n",
       "      <th>AC011841.1</th>\n",
       "      <th>AL354822.1</th>\n",
       "      <th>KIR2DL2</th>\n",
       "      <th>PNRC2.1</th>\n",
       "      <th>SRSF10.1</th>\n",
       "    </tr>\n",
       "  </thead>\n",
       "  <tbody>\n",
       "    <tr>\n",
       "      <th>0</th>\n",
       "      <td>AAACATACACCCAA-1</td>\n",
       "      <td>0</td>\n",
       "      <td>0</td>\n",
       "      <td>0</td>\n",
       "      <td>0</td>\n",
       "      <td>0</td>\n",
       "      <td>0</td>\n",
       "      <td>0</td>\n",
       "      <td>0</td>\n",
       "      <td>0</td>\n",
       "      <td>...</td>\n",
       "      <td>0</td>\n",
       "      <td>0</td>\n",
       "      <td>0</td>\n",
       "      <td>0</td>\n",
       "      <td>0</td>\n",
       "      <td>0</td>\n",
       "      <td>0</td>\n",
       "      <td>0</td>\n",
       "      <td>1</td>\n",
       "      <td>0</td>\n",
       "    </tr>\n",
       "    <tr>\n",
       "      <th>1</th>\n",
       "      <td>AAACATACCCCTCA-1</td>\n",
       "      <td>0</td>\n",
       "      <td>0</td>\n",
       "      <td>0</td>\n",
       "      <td>0</td>\n",
       "      <td>0</td>\n",
       "      <td>0</td>\n",
       "      <td>0</td>\n",
       "      <td>0</td>\n",
       "      <td>0</td>\n",
       "      <td>...</td>\n",
       "      <td>0</td>\n",
       "      <td>0</td>\n",
       "      <td>0</td>\n",
       "      <td>0</td>\n",
       "      <td>0</td>\n",
       "      <td>0</td>\n",
       "      <td>0</td>\n",
       "      <td>0</td>\n",
       "      <td>0</td>\n",
       "      <td>0</td>\n",
       "    </tr>\n",
       "    <tr>\n",
       "      <th>2</th>\n",
       "      <td>AAACATACCGGAGA-1</td>\n",
       "      <td>0</td>\n",
       "      <td>0</td>\n",
       "      <td>0</td>\n",
       "      <td>0</td>\n",
       "      <td>0</td>\n",
       "      <td>0</td>\n",
       "      <td>0</td>\n",
       "      <td>0</td>\n",
       "      <td>0</td>\n",
       "      <td>...</td>\n",
       "      <td>0</td>\n",
       "      <td>0</td>\n",
       "      <td>0</td>\n",
       "      <td>0</td>\n",
       "      <td>0</td>\n",
       "      <td>0</td>\n",
       "      <td>0</td>\n",
       "      <td>0</td>\n",
       "      <td>0</td>\n",
       "      <td>0</td>\n",
       "    </tr>\n",
       "    <tr>\n",
       "      <th>3</th>\n",
       "      <td>AAACATACTAACCG-1</td>\n",
       "      <td>0</td>\n",
       "      <td>0</td>\n",
       "      <td>0</td>\n",
       "      <td>0</td>\n",
       "      <td>0</td>\n",
       "      <td>0</td>\n",
       "      <td>0</td>\n",
       "      <td>0</td>\n",
       "      <td>0</td>\n",
       "      <td>...</td>\n",
       "      <td>0</td>\n",
       "      <td>0</td>\n",
       "      <td>0</td>\n",
       "      <td>0</td>\n",
       "      <td>0</td>\n",
       "      <td>0</td>\n",
       "      <td>0</td>\n",
       "      <td>0</td>\n",
       "      <td>0</td>\n",
       "      <td>0</td>\n",
       "    </tr>\n",
       "    <tr>\n",
       "      <th>4</th>\n",
       "      <td>AAACATACTCTTCA-1</td>\n",
       "      <td>0</td>\n",
       "      <td>0</td>\n",
       "      <td>0</td>\n",
       "      <td>0</td>\n",
       "      <td>0</td>\n",
       "      <td>0</td>\n",
       "      <td>0</td>\n",
       "      <td>0</td>\n",
       "      <td>0</td>\n",
       "      <td>...</td>\n",
       "      <td>0</td>\n",
       "      <td>0</td>\n",
       "      <td>0</td>\n",
       "      <td>0</td>\n",
       "      <td>0</td>\n",
       "      <td>0</td>\n",
       "      <td>0</td>\n",
       "      <td>0</td>\n",
       "      <td>0</td>\n",
       "      <td>0</td>\n",
       "    </tr>\n",
       "    <tr>\n",
       "      <th>...</th>\n",
       "      <td>...</td>\n",
       "      <td>...</td>\n",
       "      <td>...</td>\n",
       "      <td>...</td>\n",
       "      <td>...</td>\n",
       "      <td>...</td>\n",
       "      <td>...</td>\n",
       "      <td>...</td>\n",
       "      <td>...</td>\n",
       "      <td>...</td>\n",
       "      <td>...</td>\n",
       "      <td>...</td>\n",
       "      <td>...</td>\n",
       "      <td>...</td>\n",
       "      <td>...</td>\n",
       "      <td>...</td>\n",
       "      <td>...</td>\n",
       "      <td>...</td>\n",
       "      <td>...</td>\n",
       "      <td>...</td>\n",
       "      <td>...</td>\n",
       "    </tr>\n",
       "    <tr>\n",
       "      <th>65938</th>\n",
       "      <td>TTTGCATGACACCA-8</td>\n",
       "      <td>0</td>\n",
       "      <td>0</td>\n",
       "      <td>0</td>\n",
       "      <td>0</td>\n",
       "      <td>0</td>\n",
       "      <td>0</td>\n",
       "      <td>0</td>\n",
       "      <td>0</td>\n",
       "      <td>0</td>\n",
       "      <td>...</td>\n",
       "      <td>0</td>\n",
       "      <td>0</td>\n",
       "      <td>0</td>\n",
       "      <td>0</td>\n",
       "      <td>0</td>\n",
       "      <td>0</td>\n",
       "      <td>0</td>\n",
       "      <td>0</td>\n",
       "      <td>0</td>\n",
       "      <td>0</td>\n",
       "    </tr>\n",
       "    <tr>\n",
       "      <th>65939</th>\n",
       "      <td>TTTGCATGAGCCTA-8</td>\n",
       "      <td>0</td>\n",
       "      <td>0</td>\n",
       "      <td>0</td>\n",
       "      <td>0</td>\n",
       "      <td>0</td>\n",
       "      <td>0</td>\n",
       "      <td>0</td>\n",
       "      <td>0</td>\n",
       "      <td>0</td>\n",
       "      <td>...</td>\n",
       "      <td>0</td>\n",
       "      <td>0</td>\n",
       "      <td>0</td>\n",
       "      <td>0</td>\n",
       "      <td>0</td>\n",
       "      <td>0</td>\n",
       "      <td>0</td>\n",
       "      <td>0</td>\n",
       "      <td>0</td>\n",
       "      <td>0</td>\n",
       "    </tr>\n",
       "    <tr>\n",
       "      <th>65940</th>\n",
       "      <td>TTTGCATGCTAGCA-8</td>\n",
       "      <td>0</td>\n",
       "      <td>0</td>\n",
       "      <td>0</td>\n",
       "      <td>0</td>\n",
       "      <td>0</td>\n",
       "      <td>0</td>\n",
       "      <td>0</td>\n",
       "      <td>0</td>\n",
       "      <td>0</td>\n",
       "      <td>...</td>\n",
       "      <td>0</td>\n",
       "      <td>0</td>\n",
       "      <td>0</td>\n",
       "      <td>0</td>\n",
       "      <td>0</td>\n",
       "      <td>0</td>\n",
       "      <td>0</td>\n",
       "      <td>0</td>\n",
       "      <td>0</td>\n",
       "      <td>0</td>\n",
       "    </tr>\n",
       "    <tr>\n",
       "      <th>65941</th>\n",
       "      <td>TTTGCATGCTGCAA-8</td>\n",
       "      <td>0</td>\n",
       "      <td>0</td>\n",
       "      <td>0</td>\n",
       "      <td>0</td>\n",
       "      <td>0</td>\n",
       "      <td>0</td>\n",
       "      <td>0</td>\n",
       "      <td>0</td>\n",
       "      <td>0</td>\n",
       "      <td>...</td>\n",
       "      <td>0</td>\n",
       "      <td>0</td>\n",
       "      <td>0</td>\n",
       "      <td>0</td>\n",
       "      <td>0</td>\n",
       "      <td>0</td>\n",
       "      <td>0</td>\n",
       "      <td>0</td>\n",
       "      <td>0</td>\n",
       "      <td>0</td>\n",
       "    </tr>\n",
       "    <tr>\n",
       "      <th>65942</th>\n",
       "      <td>TTTGCATGTGGTAC-8</td>\n",
       "      <td>0</td>\n",
       "      <td>0</td>\n",
       "      <td>0</td>\n",
       "      <td>0</td>\n",
       "      <td>0</td>\n",
       "      <td>0</td>\n",
       "      <td>0</td>\n",
       "      <td>0</td>\n",
       "      <td>0</td>\n",
       "      <td>...</td>\n",
       "      <td>0</td>\n",
       "      <td>0</td>\n",
       "      <td>0</td>\n",
       "      <td>0</td>\n",
       "      <td>0</td>\n",
       "      <td>0</td>\n",
       "      <td>0</td>\n",
       "      <td>0</td>\n",
       "      <td>1</td>\n",
       "      <td>0</td>\n",
       "    </tr>\n",
       "  </tbody>\n",
       "</table>\n",
       "<p>65943 rows × 20388 columns</p>\n",
       "</div>"
      ],
      "text/plain": [
       "             Unnamed: 0  AL627309.1  AP006222.2  RP11-206L10.3  RP11-206L10.2  \\\n",
       "0      AAACATACACCCAA-1           0           0              0              0   \n",
       "1      AAACATACCCCTCA-1           0           0              0              0   \n",
       "2      AAACATACCGGAGA-1           0           0              0              0   \n",
       "3      AAACATACTAACCG-1           0           0              0              0   \n",
       "4      AAACATACTCTTCA-1           0           0              0              0   \n",
       "...                 ...         ...         ...            ...            ...   \n",
       "65938  TTTGCATGACACCA-8           0           0              0              0   \n",
       "65939  TTTGCATGAGCCTA-8           0           0              0              0   \n",
       "65940  TTTGCATGCTAGCA-8           0           0              0              0   \n",
       "65941  TTTGCATGCTGCAA-8           0           0              0              0   \n",
       "65942  TTTGCATGTGGTAC-8           0           0              0              0   \n",
       "\n",
       "       RP11-206L10.9  FAM87B  LINC00115  FAM41C  RP11-54O7.1  ...  AC145212.1  \\\n",
       "0                  0       0          0       0            0  ...           0   \n",
       "1                  0       0          0       0            0  ...           0   \n",
       "2                  0       0          0       0            0  ...           0   \n",
       "3                  0       0          0       0            0  ...           0   \n",
       "4                  0       0          0       0            0  ...           0   \n",
       "...              ...     ...        ...     ...          ...  ...         ...   \n",
       "65938              0       0          0       0            0  ...           0   \n",
       "65939              0       0          0       0            0  ...           0   \n",
       "65940              0       0          0       0            0  ...           0   \n",
       "65941              0       0          0       0            0  ...           0   \n",
       "65942              0       0          0       0            0  ...           0   \n",
       "\n",
       "       MGC39584  AC011043.1  ZNF84.1  AL592183.1  AC011841.1  AL354822.1  \\\n",
       "0             0           0        0           0           0           0   \n",
       "1             0           0        0           0           0           0   \n",
       "2             0           0        0           0           0           0   \n",
       "3             0           0        0           0           0           0   \n",
       "4             0           0        0           0           0           0   \n",
       "...         ...         ...      ...         ...         ...         ...   \n",
       "65938         0           0        0           0           0           0   \n",
       "65939         0           0        0           0           0           0   \n",
       "65940         0           0        0           0           0           0   \n",
       "65941         0           0        0           0           0           0   \n",
       "65942         0           0        0           0           0           0   \n",
       "\n",
       "       KIR2DL2  PNRC2.1  SRSF10.1  \n",
       "0            0        1         0  \n",
       "1            0        0         0  \n",
       "2            0        0         0  \n",
       "3            0        0         0  \n",
       "4            0        0         0  \n",
       "...        ...      ...       ...  \n",
       "65938        0        0         0  \n",
       "65939        0        0         0  \n",
       "65940        0        0         0  \n",
       "65941        0        0         0  \n",
       "65942        0        1         0  \n",
       "\n",
       "[65943 rows x 20388 columns]"
      ]
     },
     "execution_count": 11,
     "metadata": {},
     "output_type": "execute_result"
    }
   ],
   "source": [
    "%%time\n",
    "expression_df = pd.read_csv(\n",
    "    expression_fp,\n",
    "    sep=',')\n",
    "expression_df"
   ]
  },
  {
   "cell_type": "code",
   "execution_count": 12,
   "metadata": {},
   "outputs": [
    {
     "data": {
      "text/html": [
       "<div>\n",
       "<style scoped>\n",
       "    .dataframe tbody tr th:only-of-type {\n",
       "        vertical-align: middle;\n",
       "    }\n",
       "\n",
       "    .dataframe tbody tr th {\n",
       "        vertical-align: top;\n",
       "    }\n",
       "\n",
       "    .dataframe thead th {\n",
       "        text-align: right;\n",
       "    }\n",
       "</style>\n",
       "<table border=\"1\" class=\"dataframe\">\n",
       "  <thead>\n",
       "    <tr style=\"text-align: right;\">\n",
       "      <th></th>\n",
       "      <th>AL627309.1</th>\n",
       "      <th>AP006222.2</th>\n",
       "      <th>RP11-206L10.3</th>\n",
       "      <th>RP11-206L10.2</th>\n",
       "      <th>RP11-206L10.9</th>\n",
       "      <th>FAM87B</th>\n",
       "      <th>LINC00115</th>\n",
       "      <th>FAM41C</th>\n",
       "      <th>RP11-54O7.1</th>\n",
       "      <th>SAMD11</th>\n",
       "      <th>...</th>\n",
       "      <th>AC145212.1</th>\n",
       "      <th>MGC39584</th>\n",
       "      <th>AC011043.1</th>\n",
       "      <th>ZNF84.1</th>\n",
       "      <th>AL592183.1</th>\n",
       "      <th>AC011841.1</th>\n",
       "      <th>AL354822.1</th>\n",
       "      <th>KIR2DL2</th>\n",
       "      <th>PNRC2.1</th>\n",
       "      <th>SRSF10.1</th>\n",
       "    </tr>\n",
       "    <tr>\n",
       "      <th>Unnamed: 0</th>\n",
       "      <th></th>\n",
       "      <th></th>\n",
       "      <th></th>\n",
       "      <th></th>\n",
       "      <th></th>\n",
       "      <th></th>\n",
       "      <th></th>\n",
       "      <th></th>\n",
       "      <th></th>\n",
       "      <th></th>\n",
       "      <th></th>\n",
       "      <th></th>\n",
       "      <th></th>\n",
       "      <th></th>\n",
       "      <th></th>\n",
       "      <th></th>\n",
       "      <th></th>\n",
       "      <th></th>\n",
       "      <th></th>\n",
       "      <th></th>\n",
       "      <th></th>\n",
       "    </tr>\n",
       "  </thead>\n",
       "  <tbody>\n",
       "    <tr>\n",
       "      <th>AAACATACACCCAA-1</th>\n",
       "      <td>0</td>\n",
       "      <td>0</td>\n",
       "      <td>0</td>\n",
       "      <td>0</td>\n",
       "      <td>0</td>\n",
       "      <td>0</td>\n",
       "      <td>0</td>\n",
       "      <td>0</td>\n",
       "      <td>0</td>\n",
       "      <td>0</td>\n",
       "      <td>...</td>\n",
       "      <td>0</td>\n",
       "      <td>0</td>\n",
       "      <td>0</td>\n",
       "      <td>0</td>\n",
       "      <td>0</td>\n",
       "      <td>0</td>\n",
       "      <td>0</td>\n",
       "      <td>0</td>\n",
       "      <td>1</td>\n",
       "      <td>0</td>\n",
       "    </tr>\n",
       "    <tr>\n",
       "      <th>AAACATACCCCTCA-1</th>\n",
       "      <td>0</td>\n",
       "      <td>0</td>\n",
       "      <td>0</td>\n",
       "      <td>0</td>\n",
       "      <td>0</td>\n",
       "      <td>0</td>\n",
       "      <td>0</td>\n",
       "      <td>0</td>\n",
       "      <td>0</td>\n",
       "      <td>0</td>\n",
       "      <td>...</td>\n",
       "      <td>0</td>\n",
       "      <td>0</td>\n",
       "      <td>0</td>\n",
       "      <td>0</td>\n",
       "      <td>0</td>\n",
       "      <td>0</td>\n",
       "      <td>0</td>\n",
       "      <td>0</td>\n",
       "      <td>0</td>\n",
       "      <td>0</td>\n",
       "    </tr>\n",
       "    <tr>\n",
       "      <th>AAACATACCGGAGA-1</th>\n",
       "      <td>0</td>\n",
       "      <td>0</td>\n",
       "      <td>0</td>\n",
       "      <td>0</td>\n",
       "      <td>0</td>\n",
       "      <td>0</td>\n",
       "      <td>0</td>\n",
       "      <td>0</td>\n",
       "      <td>0</td>\n",
       "      <td>0</td>\n",
       "      <td>...</td>\n",
       "      <td>0</td>\n",
       "      <td>0</td>\n",
       "      <td>0</td>\n",
       "      <td>0</td>\n",
       "      <td>0</td>\n",
       "      <td>0</td>\n",
       "      <td>0</td>\n",
       "      <td>0</td>\n",
       "      <td>0</td>\n",
       "      <td>0</td>\n",
       "    </tr>\n",
       "    <tr>\n",
       "      <th>AAACATACTAACCG-1</th>\n",
       "      <td>0</td>\n",
       "      <td>0</td>\n",
       "      <td>0</td>\n",
       "      <td>0</td>\n",
       "      <td>0</td>\n",
       "      <td>0</td>\n",
       "      <td>0</td>\n",
       "      <td>0</td>\n",
       "      <td>0</td>\n",
       "      <td>0</td>\n",
       "      <td>...</td>\n",
       "      <td>0</td>\n",
       "      <td>0</td>\n",
       "      <td>0</td>\n",
       "      <td>0</td>\n",
       "      <td>0</td>\n",
       "      <td>0</td>\n",
       "      <td>0</td>\n",
       "      <td>0</td>\n",
       "      <td>0</td>\n",
       "      <td>0</td>\n",
       "    </tr>\n",
       "    <tr>\n",
       "      <th>AAACATACTCTTCA-1</th>\n",
       "      <td>0</td>\n",
       "      <td>0</td>\n",
       "      <td>0</td>\n",
       "      <td>0</td>\n",
       "      <td>0</td>\n",
       "      <td>0</td>\n",
       "      <td>0</td>\n",
       "      <td>0</td>\n",
       "      <td>0</td>\n",
       "      <td>0</td>\n",
       "      <td>...</td>\n",
       "      <td>0</td>\n",
       "      <td>0</td>\n",
       "      <td>0</td>\n",
       "      <td>0</td>\n",
       "      <td>0</td>\n",
       "      <td>0</td>\n",
       "      <td>0</td>\n",
       "      <td>0</td>\n",
       "      <td>0</td>\n",
       "      <td>0</td>\n",
       "    </tr>\n",
       "    <tr>\n",
       "      <th>...</th>\n",
       "      <td>...</td>\n",
       "      <td>...</td>\n",
       "      <td>...</td>\n",
       "      <td>...</td>\n",
       "      <td>...</td>\n",
       "      <td>...</td>\n",
       "      <td>...</td>\n",
       "      <td>...</td>\n",
       "      <td>...</td>\n",
       "      <td>...</td>\n",
       "      <td>...</td>\n",
       "      <td>...</td>\n",
       "      <td>...</td>\n",
       "      <td>...</td>\n",
       "      <td>...</td>\n",
       "      <td>...</td>\n",
       "      <td>...</td>\n",
       "      <td>...</td>\n",
       "      <td>...</td>\n",
       "      <td>...</td>\n",
       "      <td>...</td>\n",
       "    </tr>\n",
       "    <tr>\n",
       "      <th>TTTGCATGACACCA-8</th>\n",
       "      <td>0</td>\n",
       "      <td>0</td>\n",
       "      <td>0</td>\n",
       "      <td>0</td>\n",
       "      <td>0</td>\n",
       "      <td>0</td>\n",
       "      <td>0</td>\n",
       "      <td>0</td>\n",
       "      <td>0</td>\n",
       "      <td>0</td>\n",
       "      <td>...</td>\n",
       "      <td>0</td>\n",
       "      <td>0</td>\n",
       "      <td>0</td>\n",
       "      <td>0</td>\n",
       "      <td>0</td>\n",
       "      <td>0</td>\n",
       "      <td>0</td>\n",
       "      <td>0</td>\n",
       "      <td>0</td>\n",
       "      <td>0</td>\n",
       "    </tr>\n",
       "    <tr>\n",
       "      <th>TTTGCATGAGCCTA-8</th>\n",
       "      <td>0</td>\n",
       "      <td>0</td>\n",
       "      <td>0</td>\n",
       "      <td>0</td>\n",
       "      <td>0</td>\n",
       "      <td>0</td>\n",
       "      <td>0</td>\n",
       "      <td>0</td>\n",
       "      <td>0</td>\n",
       "      <td>0</td>\n",
       "      <td>...</td>\n",
       "      <td>0</td>\n",
       "      <td>0</td>\n",
       "      <td>0</td>\n",
       "      <td>0</td>\n",
       "      <td>0</td>\n",
       "      <td>0</td>\n",
       "      <td>0</td>\n",
       "      <td>0</td>\n",
       "      <td>0</td>\n",
       "      <td>0</td>\n",
       "    </tr>\n",
       "    <tr>\n",
       "      <th>TTTGCATGCTAGCA-8</th>\n",
       "      <td>0</td>\n",
       "      <td>0</td>\n",
       "      <td>0</td>\n",
       "      <td>0</td>\n",
       "      <td>0</td>\n",
       "      <td>0</td>\n",
       "      <td>0</td>\n",
       "      <td>0</td>\n",
       "      <td>0</td>\n",
       "      <td>0</td>\n",
       "      <td>...</td>\n",
       "      <td>0</td>\n",
       "      <td>0</td>\n",
       "      <td>0</td>\n",
       "      <td>0</td>\n",
       "      <td>0</td>\n",
       "      <td>0</td>\n",
       "      <td>0</td>\n",
       "      <td>0</td>\n",
       "      <td>0</td>\n",
       "      <td>0</td>\n",
       "    </tr>\n",
       "    <tr>\n",
       "      <th>TTTGCATGCTGCAA-8</th>\n",
       "      <td>0</td>\n",
       "      <td>0</td>\n",
       "      <td>0</td>\n",
       "      <td>0</td>\n",
       "      <td>0</td>\n",
       "      <td>0</td>\n",
       "      <td>0</td>\n",
       "      <td>0</td>\n",
       "      <td>0</td>\n",
       "      <td>0</td>\n",
       "      <td>...</td>\n",
       "      <td>0</td>\n",
       "      <td>0</td>\n",
       "      <td>0</td>\n",
       "      <td>0</td>\n",
       "      <td>0</td>\n",
       "      <td>0</td>\n",
       "      <td>0</td>\n",
       "      <td>0</td>\n",
       "      <td>0</td>\n",
       "      <td>0</td>\n",
       "    </tr>\n",
       "    <tr>\n",
       "      <th>TTTGCATGTGGTAC-8</th>\n",
       "      <td>0</td>\n",
       "      <td>0</td>\n",
       "      <td>0</td>\n",
       "      <td>0</td>\n",
       "      <td>0</td>\n",
       "      <td>0</td>\n",
       "      <td>0</td>\n",
       "      <td>0</td>\n",
       "      <td>0</td>\n",
       "      <td>0</td>\n",
       "      <td>...</td>\n",
       "      <td>0</td>\n",
       "      <td>0</td>\n",
       "      <td>0</td>\n",
       "      <td>0</td>\n",
       "      <td>0</td>\n",
       "      <td>0</td>\n",
       "      <td>0</td>\n",
       "      <td>0</td>\n",
       "      <td>1</td>\n",
       "      <td>0</td>\n",
       "    </tr>\n",
       "  </tbody>\n",
       "</table>\n",
       "<p>65943 rows × 20387 columns</p>\n",
       "</div>"
      ],
      "text/plain": [
       "                  AL627309.1  AP006222.2  RP11-206L10.3  RP11-206L10.2  \\\n",
       "Unnamed: 0                                                               \n",
       "AAACATACACCCAA-1           0           0              0              0   \n",
       "AAACATACCCCTCA-1           0           0              0              0   \n",
       "AAACATACCGGAGA-1           0           0              0              0   \n",
       "AAACATACTAACCG-1           0           0              0              0   \n",
       "AAACATACTCTTCA-1           0           0              0              0   \n",
       "...                      ...         ...            ...            ...   \n",
       "TTTGCATGACACCA-8           0           0              0              0   \n",
       "TTTGCATGAGCCTA-8           0           0              0              0   \n",
       "TTTGCATGCTAGCA-8           0           0              0              0   \n",
       "TTTGCATGCTGCAA-8           0           0              0              0   \n",
       "TTTGCATGTGGTAC-8           0           0              0              0   \n",
       "\n",
       "                  RP11-206L10.9  FAM87B  LINC00115  FAM41C  RP11-54O7.1  \\\n",
       "Unnamed: 0                                                                \n",
       "AAACATACACCCAA-1              0       0          0       0            0   \n",
       "AAACATACCCCTCA-1              0       0          0       0            0   \n",
       "AAACATACCGGAGA-1              0       0          0       0            0   \n",
       "AAACATACTAACCG-1              0       0          0       0            0   \n",
       "AAACATACTCTTCA-1              0       0          0       0            0   \n",
       "...                         ...     ...        ...     ...          ...   \n",
       "TTTGCATGACACCA-8              0       0          0       0            0   \n",
       "TTTGCATGAGCCTA-8              0       0          0       0            0   \n",
       "TTTGCATGCTAGCA-8              0       0          0       0            0   \n",
       "TTTGCATGCTGCAA-8              0       0          0       0            0   \n",
       "TTTGCATGTGGTAC-8              0       0          0       0            0   \n",
       "\n",
       "                  SAMD11  ...  AC145212.1  MGC39584  AC011043.1  ZNF84.1  \\\n",
       "Unnamed: 0                ...                                              \n",
       "AAACATACACCCAA-1       0  ...           0         0           0        0   \n",
       "AAACATACCCCTCA-1       0  ...           0         0           0        0   \n",
       "AAACATACCGGAGA-1       0  ...           0         0           0        0   \n",
       "AAACATACTAACCG-1       0  ...           0         0           0        0   \n",
       "AAACATACTCTTCA-1       0  ...           0         0           0        0   \n",
       "...                  ...  ...         ...       ...         ...      ...   \n",
       "TTTGCATGACACCA-8       0  ...           0         0           0        0   \n",
       "TTTGCATGAGCCTA-8       0  ...           0         0           0        0   \n",
       "TTTGCATGCTAGCA-8       0  ...           0         0           0        0   \n",
       "TTTGCATGCTGCAA-8       0  ...           0         0           0        0   \n",
       "TTTGCATGTGGTAC-8       0  ...           0         0           0        0   \n",
       "\n",
       "                  AL592183.1  AC011841.1  AL354822.1  KIR2DL2  PNRC2.1  \\\n",
       "Unnamed: 0                                                               \n",
       "AAACATACACCCAA-1           0           0           0        0        1   \n",
       "AAACATACCCCTCA-1           0           0           0        0        0   \n",
       "AAACATACCGGAGA-1           0           0           0        0        0   \n",
       "AAACATACTAACCG-1           0           0           0        0        0   \n",
       "AAACATACTCTTCA-1           0           0           0        0        0   \n",
       "...                      ...         ...         ...      ...      ...   \n",
       "TTTGCATGACACCA-8           0           0           0        0        0   \n",
       "TTTGCATGAGCCTA-8           0           0           0        0        0   \n",
       "TTTGCATGCTAGCA-8           0           0           0        0        0   \n",
       "TTTGCATGCTGCAA-8           0           0           0        0        0   \n",
       "TTTGCATGTGGTAC-8           0           0           0        0        1   \n",
       "\n",
       "                  SRSF10.1  \n",
       "Unnamed: 0                  \n",
       "AAACATACACCCAA-1         0  \n",
       "AAACATACCCCTCA-1         0  \n",
       "AAACATACCGGAGA-1         0  \n",
       "AAACATACTAACCG-1         0  \n",
       "AAACATACTCTTCA-1         0  \n",
       "...                    ...  \n",
       "TTTGCATGACACCA-8         0  \n",
       "TTTGCATGAGCCTA-8         0  \n",
       "TTTGCATGCTAGCA-8         0  \n",
       "TTTGCATGCTGCAA-8         0  \n",
       "TTTGCATGTGGTAC-8         0  \n",
       "\n",
       "[65943 rows x 20387 columns]"
      ]
     },
     "execution_count": 12,
     "metadata": {},
     "output_type": "execute_result"
    }
   ],
   "source": [
    "expression_df = expression_df.set_index('Unnamed: 0')\n",
    "expression_df"
   ]
  },
  {
   "cell_type": "code",
   "execution_count": 13,
   "metadata": {},
   "outputs": [
    {
     "data": {
      "text/html": [
       "<div>\n",
       "<style scoped>\n",
       "    .dataframe tbody tr th:only-of-type {\n",
       "        vertical-align: middle;\n",
       "    }\n",
       "\n",
       "    .dataframe tbody tr th {\n",
       "        vertical-align: top;\n",
       "    }\n",
       "\n",
       "    .dataframe thead th {\n",
       "        text-align: right;\n",
       "    }\n",
       "</style>\n",
       "<table border=\"1\" class=\"dataframe\">\n",
       "  <thead>\n",
       "    <tr style=\"text-align: right;\">\n",
       "      <th></th>\n",
       "      <th>x</th>\n",
       "    </tr>\n",
       "  </thead>\n",
       "  <tbody>\n",
       "    <tr>\n",
       "      <th>0</th>\n",
       "      <td>CD8+ Cytotoxic T</td>\n",
       "    </tr>\n",
       "    <tr>\n",
       "      <th>1</th>\n",
       "      <td>CD8+/CD45RA+ Naive Cytotoxic</td>\n",
       "    </tr>\n",
       "    <tr>\n",
       "      <th>2</th>\n",
       "      <td>CD4+/CD45RO+ Memory</td>\n",
       "    </tr>\n",
       "    <tr>\n",
       "      <th>3</th>\n",
       "      <td>CD19+ B</td>\n",
       "    </tr>\n",
       "    <tr>\n",
       "      <th>4</th>\n",
       "      <td>CD4+/CD25 T Reg</td>\n",
       "    </tr>\n",
       "    <tr>\n",
       "      <th>...</th>\n",
       "      <td>...</td>\n",
       "    </tr>\n",
       "    <tr>\n",
       "      <th>65938</th>\n",
       "      <td>CD8+/CD45RA+ Naive Cytotoxic</td>\n",
       "    </tr>\n",
       "    <tr>\n",
       "      <th>65939</th>\n",
       "      <td>CD8+ Cytotoxic T</td>\n",
       "    </tr>\n",
       "    <tr>\n",
       "      <th>65940</th>\n",
       "      <td>CD8+/CD45RA+ Naive Cytotoxic</td>\n",
       "    </tr>\n",
       "    <tr>\n",
       "      <th>65941</th>\n",
       "      <td>CD8+ Cytotoxic T</td>\n",
       "    </tr>\n",
       "    <tr>\n",
       "      <th>65942</th>\n",
       "      <td>CD8+ Cytotoxic T</td>\n",
       "    </tr>\n",
       "  </tbody>\n",
       "</table>\n",
       "<p>65943 rows × 1 columns</p>\n",
       "</div>"
      ],
      "text/plain": [
       "                                  x\n",
       "0                  CD8+ Cytotoxic T\n",
       "1      CD8+/CD45RA+ Naive Cytotoxic\n",
       "2               CD4+/CD45RO+ Memory\n",
       "3                           CD19+ B\n",
       "4                   CD4+/CD25 T Reg\n",
       "...                             ...\n",
       "65938  CD8+/CD45RA+ Naive Cytotoxic\n",
       "65939              CD8+ Cytotoxic T\n",
       "65940  CD8+/CD45RA+ Naive Cytotoxic\n",
       "65941              CD8+ Cytotoxic T\n",
       "65942              CD8+ Cytotoxic T\n",
       "\n",
       "[65943 rows x 1 columns]"
      ]
     },
     "execution_count": 13,
     "metadata": {},
     "output_type": "execute_result"
    }
   ],
   "source": [
    "label_df = pd.read_csv(\n",
    "    label_fp,\n",
    "    sep=','\n",
    "    )\n",
    "label_df"
   ]
  },
  {
   "cell_type": "code",
   "execution_count": 245,
   "metadata": {},
   "outputs": [
    {
     "name": "stderr",
     "output_type": "stream",
     "text": [
      "Transforming to str index.\n"
     ]
    },
    {
     "data": {
      "text/plain": [
       "AnnData object with n_obs × n_vars = 65943 × 20387 \n",
       "    obs: 'x'"
      ]
     },
     "execution_count": 245,
     "metadata": {},
     "output_type": "execute_result"
    }
   ],
   "source": [
    "adata = anndata.AnnData(X=expression_df.values, obs=label_df)\n",
    "adata.obs.index = expression_df.index\n",
    "adata.var.index = expression_df.columns\n",
    "adata"
   ]
  },
  {
   "cell_type": "code",
   "execution_count": 246,
   "metadata": {},
   "outputs": [
    {
     "data": {
      "text/plain": [
       "5377519764"
      ]
     },
     "execution_count": 246,
     "metadata": {},
     "output_type": "execute_result"
    }
   ],
   "source": [
    "adata.X.nbytes"
   ]
  },
  {
   "cell_type": "code",
   "execution_count": 247,
   "metadata": {},
   "outputs": [
    {
     "data": {
      "text/plain": [
       "[('CD8+ Cytotoxic T', 20307),\n",
       " ('CD8+/CD45RA+ Naive Cytotoxic', 16361),\n",
       " ('CD56+ NK', 8522),\n",
       " ('CD4+/CD25 T Reg', 6116),\n",
       " ('CD19+ B', 5579),\n",
       " ('CD4+/CD45RO+ Memory', 3031),\n",
       " ('Dendritic', 1946),\n",
       " ('CD14+ Monocyte', 1944),\n",
       " ('CD4+/CD45RA+/CD25- Naive T', 1857),\n",
       " ('CD34+', 188),\n",
       " ('CD4+ T Helper2', 92)]"
      ]
     },
     "execution_count": 247,
     "metadata": {},
     "output_type": "execute_result"
    }
   ],
   "source": [
    "Counter(adata.obs['x']).most_common()"
   ]
  },
  {
   "cell_type": "code",
   "execution_count": 248,
   "metadata": {},
   "outputs": [],
   "source": [
    "# ## ranodom subset for testing\n",
    "# idxs = np.asarray(random.sample(range(adata.shape[0]), 10000))\n",
    "# adata = adata[idxs, :]\n",
    "# adata"
   ]
  },
  {
   "cell_type": "code",
   "execution_count": 249,
   "metadata": {},
   "outputs": [],
   "source": [
    "## filter smartly\n",
    "cell_type_to_idxs = {}\n",
    "for cell_id, cell_type in zip(adata.obs.index, adata.obs['x']):\n",
    "    if cell_type not in cell_type_to_idxs:\n",
    "        cell_type_to_idxs[cell_type] = [cell_id]\n",
    "    else:\n",
    "        cell_type_to_idxs[cell_type].append(cell_id)\n",
    "        \n",
    "def temp(ls):\n",
    "    if len(ls) > 1000:\n",
    "        return random.sample(ls, 1000)\n",
    "    return ls\n",
    "\n",
    "cell_type_to_idxs = {k:temp(ls)\n",
    "                     for k, ls in cell_type_to_idxs.items()}\n",
    "\n",
    "idxs = np.asarray([x for ls in cell_type_to_idxs.values() for x in ls])\n",
    "adata = adata[idxs]"
   ]
  },
  {
   "cell_type": "code",
   "execution_count": 250,
   "metadata": {},
   "outputs": [
    {
     "data": {
      "text/html": [
       "<div>\n",
       "<style scoped>\n",
       "    .dataframe tbody tr th:only-of-type {\n",
       "        vertical-align: middle;\n",
       "    }\n",
       "\n",
       "    .dataframe tbody tr th {\n",
       "        vertical-align: top;\n",
       "    }\n",
       "\n",
       "    .dataframe thead th {\n",
       "        text-align: right;\n",
       "    }\n",
       "</style>\n",
       "<table border=\"1\" class=\"dataframe\">\n",
       "  <thead>\n",
       "    <tr style=\"text-align: right;\">\n",
       "      <th></th>\n",
       "      <th>x</th>\n",
       "    </tr>\n",
       "    <tr>\n",
       "      <th>Unnamed: 0</th>\n",
       "      <th></th>\n",
       "    </tr>\n",
       "  </thead>\n",
       "  <tbody>\n",
       "    <tr>\n",
       "      <th>CGTGTAGACCAAGT-7</th>\n",
       "      <td>CD8+ Cytotoxic T</td>\n",
       "    </tr>\n",
       "    <tr>\n",
       "      <th>GTAGGTACGTTCGA-6</th>\n",
       "      <td>CD8+ Cytotoxic T</td>\n",
       "    </tr>\n",
       "    <tr>\n",
       "      <th>ACCGTGCTTCACGA-6</th>\n",
       "      <td>CD8+ Cytotoxic T</td>\n",
       "    </tr>\n",
       "    <tr>\n",
       "      <th>CTTCATGAGCGTTA-5</th>\n",
       "      <td>CD8+ Cytotoxic T</td>\n",
       "    </tr>\n",
       "    <tr>\n",
       "      <th>GCAGTTGACGCATA-7</th>\n",
       "      <td>CD8+ Cytotoxic T</td>\n",
       "    </tr>\n",
       "    <tr>\n",
       "      <th>...</th>\n",
       "      <td>...</td>\n",
       "    </tr>\n",
       "    <tr>\n",
       "      <th>GCCTAGCTCGAATC-1</th>\n",
       "      <td>CD14+ Monocyte</td>\n",
       "    </tr>\n",
       "    <tr>\n",
       "      <th>CTGAGCCTGGACAG-1</th>\n",
       "      <td>CD14+ Monocyte</td>\n",
       "    </tr>\n",
       "    <tr>\n",
       "      <th>CCCATGTGCTTTAC-4</th>\n",
       "      <td>CD14+ Monocyte</td>\n",
       "    </tr>\n",
       "    <tr>\n",
       "      <th>CTGGCACTCTTATC-2</th>\n",
       "      <td>CD14+ Monocyte</td>\n",
       "    </tr>\n",
       "    <tr>\n",
       "      <th>AATGGAGAGACTAC-5</th>\n",
       "      <td>CD14+ Monocyte</td>\n",
       "    </tr>\n",
       "  </tbody>\n",
       "</table>\n",
       "<p>9280 rows × 1 columns</p>\n",
       "</div>"
      ],
      "text/plain": [
       "                                 x\n",
       "Unnamed: 0                        \n",
       "CGTGTAGACCAAGT-7  CD8+ Cytotoxic T\n",
       "GTAGGTACGTTCGA-6  CD8+ Cytotoxic T\n",
       "ACCGTGCTTCACGA-6  CD8+ Cytotoxic T\n",
       "CTTCATGAGCGTTA-5  CD8+ Cytotoxic T\n",
       "GCAGTTGACGCATA-7  CD8+ Cytotoxic T\n",
       "...                            ...\n",
       "GCCTAGCTCGAATC-1    CD14+ Monocyte\n",
       "CTGAGCCTGGACAG-1    CD14+ Monocyte\n",
       "CCCATGTGCTTTAC-4    CD14+ Monocyte\n",
       "CTGGCACTCTTATC-2    CD14+ Monocyte\n",
       "AATGGAGAGACTAC-5    CD14+ Monocyte\n",
       "\n",
       "[9280 rows x 1 columns]"
      ]
     },
     "execution_count": 250,
     "metadata": {},
     "output_type": "execute_result"
    }
   ],
   "source": [
    "adata.obs"
   ]
  },
  {
   "cell_type": "code",
   "execution_count": 251,
   "metadata": {},
   "outputs": [
    {
     "name": "stderr",
     "output_type": "stream",
     "text": [
      "Trying to set attribute `.obs` of view, copying.\n"
     ]
    },
    {
     "data": {
      "text/plain": [
       "AnnData object with n_obs × n_vars = 9280 × 20387 \n",
       "    obs: 'x'"
      ]
     },
     "execution_count": 251,
     "metadata": {},
     "output_type": "execute_result"
    }
   ],
   "source": [
    "def make_safe_filename(s):\n",
    "    def safe_char(c):\n",
    "        if c.isalnum():\n",
    "            return c\n",
    "        else:\n",
    "            return \"_\"\n",
    "    return \"\".join(safe_char(c) for c in s).rstrip(\"_\")\n",
    "\n",
    "adata.obs['x'] = [make_safe_filename(x) for x in adata.obs['x']]\n",
    "adata"
   ]
  },
  {
   "cell_type": "code",
   "execution_count": 252,
   "metadata": {},
   "outputs": [
    {
     "data": {
      "text/plain": [
       "[('CD8__Cytotoxic_T', 1000),\n",
       " ('CD8__CD45RA__Naive_Cytotoxic', 1000),\n",
       " ('CD4__CD45RO__Memory', 1000),\n",
       " ('CD19__B', 1000),\n",
       " ('CD4__CD25_T_Reg', 1000),\n",
       " ('CD56__NK', 1000),\n",
       " ('CD4__CD45RA__CD25__Naive_T', 1000),\n",
       " ('Dendritic', 1000),\n",
       " ('CD14__Monocyte', 1000),\n",
       " ('CD34', 188),\n",
       " ('CD4__T_Helper2', 92)]"
      ]
     },
     "execution_count": 252,
     "metadata": {},
     "output_type": "execute_result"
    }
   ],
   "source": [
    "Counter(adata.obs['x']).most_common()"
   ]
  },
  {
   "cell_type": "code",
   "execution_count": 215,
   "metadata": {},
   "outputs": [
    {
     "data": {
      "text/html": [
       "<div>\n",
       "<style scoped>\n",
       "    .dataframe tbody tr th:only-of-type {\n",
       "        vertical-align: middle;\n",
       "    }\n",
       "\n",
       "    .dataframe tbody tr th {\n",
       "        vertical-align: top;\n",
       "    }\n",
       "\n",
       "    .dataframe thead th {\n",
       "        text-align: right;\n",
       "    }\n",
       "</style>\n",
       "<table border=\"1\" class=\"dataframe\">\n",
       "  <thead>\n",
       "    <tr style=\"text-align: right;\">\n",
       "      <th></th>\n",
       "    </tr>\n",
       "  </thead>\n",
       "  <tbody>\n",
       "    <tr>\n",
       "      <th>AL627309.1</th>\n",
       "    </tr>\n",
       "    <tr>\n",
       "      <th>AP006222.2</th>\n",
       "    </tr>\n",
       "    <tr>\n",
       "      <th>RP11-206L10.3</th>\n",
       "    </tr>\n",
       "    <tr>\n",
       "      <th>RP11-206L10.2</th>\n",
       "    </tr>\n",
       "    <tr>\n",
       "      <th>RP11-206L10.9</th>\n",
       "    </tr>\n",
       "    <tr>\n",
       "      <th>...</th>\n",
       "    </tr>\n",
       "    <tr>\n",
       "      <th>AC011841.1</th>\n",
       "    </tr>\n",
       "    <tr>\n",
       "      <th>AL354822.1</th>\n",
       "    </tr>\n",
       "    <tr>\n",
       "      <th>KIR2DL2</th>\n",
       "    </tr>\n",
       "    <tr>\n",
       "      <th>PNRC2.1</th>\n",
       "    </tr>\n",
       "    <tr>\n",
       "      <th>SRSF10.1</th>\n",
       "    </tr>\n",
       "  </tbody>\n",
       "</table>\n",
       "<p>20387 rows × 0 columns</p>\n",
       "</div>"
      ],
      "text/plain": [
       "Empty DataFrame\n",
       "Columns: []\n",
       "Index: [AL627309.1, AP006222.2, RP11-206L10.3, RP11-206L10.2, RP11-206L10.9, FAM87B, LINC00115, FAM41C, RP11-54O7.1, SAMD11, NOC2L, KLHL17, PLEKHN1, C1orf170, RP11-54O7.17, HES4, RP11-54O7.11, ISG15, AGRN, RP11-54O7.18, C1orf159, RP11-465B22.5, TTLL10-AS1, TTLL10, TNFRSF18, TNFRSF4, SDF4, B3GALT6, FAM132A, RP5-902P8.12, UBE2J2, RP5-902P8.10, SCNN1D, ACAP3, PUSL1, CPSF3L, GLTPD1, TAS1R3, DVL1, MXRA8, AURKAIP1, CCNL2, RP4-758J18.2, MRPL20, RP4-758J18.13, ANKRD65, RP4-758J18.10, VWA1, ATAD3C, ATAD3B, ATAD3A, SSU72, AL645728.1, C1orf233, RP11-345P4.9, MIB2, MMP23B, CDK11B, RP11-345P4.10, SLC35E2B, RP11-345P4.7, CDK11A, SLC35E2, NADK, GNB1, RP1-140A9.1, CALML6, TMEM52, C1orf222, GABRD, PRKCZ, RP5-892K4.1, RP11-181G12.2, C1orf86, AL590822.2, AL590822.1, RP11-181G12.4, SKI, MORN1, RER1, PEX10, PLCH2, RP3-395M20.2, PANK4, HES5, RP3-395M20.12, TNFRSF14, RP3-395M20.7, RP3-395M20.9, FAM213B, MMEL1, TTC34, PRDM16, ARHGEF16, MEGF6, RP11-46F15.2, TPRG1L, WRAP73, TP73, RP5-1092A11.5, ...]\n",
       "\n",
       "[20387 rows x 0 columns]"
      ]
     },
     "execution_count": 215,
     "metadata": {},
     "output_type": "execute_result"
    }
   ],
   "source": [
    "adata.var"
   ]
  },
  {
   "cell_type": "code",
   "execution_count": 237,
   "metadata": {},
   "outputs": [],
   "source": [
    "# sc.tl.rank_genes_groups(adata, 'x', n_genes=100)"
   ]
  },
  {
   "cell_type": "code",
   "execution_count": 238,
   "metadata": {},
   "outputs": [],
   "source": [
    "# sc.pl.rank_genes_groups(adata)"
   ]
  },
  {
   "cell_type": "code",
   "execution_count": 239,
   "metadata": {},
   "outputs": [],
   "source": [
    "# sc.pp.scale(adata)"
   ]
  },
  {
   "cell_type": "code",
   "execution_count": 240,
   "metadata": {},
   "outputs": [],
   "source": [
    "# sc.tl.pca(adata, svd_solver='arpack')\n",
    "# sc.pl.pca(adata)"
   ]
  },
  {
   "cell_type": "code",
   "execution_count": 71,
   "metadata": {},
   "outputs": [
    {
     "data": {
      "image/png": "[encoded data removed]",
      "text/plain": [
       "<Figure size 432x288 with 1 Axes>"
      ]
     },
     "metadata": {},
     "output_type": "display_data"
    }
   ],
   "source": [
    "# sc.tl.umap(adata)\n",
    "# sc.pl.umap(adata, color='x', edges=True)"
   ]
  },
  {
   "cell_type": "code",
   "execution_count": 241,
   "metadata": {},
   "outputs": [],
   "source": [
    "# sc.pp.neighbors(adata, n_neighbors=15)"
   ]
  },
  {
   "cell_type": "code",
   "execution_count": 242,
   "metadata": {},
   "outputs": [],
   "source": [
    "# g_template, c_template = pollock.models.model.create_block_image_template(\n",
    "#         adata, key='x', block_shape=(4, 4), size=(128, 128), nn_threshold=.05)\n",
    "# g_template, c_template"
   ]
  },
  {
   "cell_type": "code",
   "execution_count": 243,
   "metadata": {},
   "outputs": [],
   "source": [
    "# sorted(set(c_template.flatten()))"
   ]
  },
  {
   "cell_type": "code",
   "execution_count": 244,
   "metadata": {},
   "outputs": [],
   "source": [
    "# plt.imshow(c_template=='')"
   ]
  },
  {
   "cell_type": "markdown",
   "metadata": {},
   "source": [
    "## train pollock model"
   ]
  },
  {
   "cell_type": "code",
   "execution_count": 255,
   "metadata": {},
   "outputs": [
    {
     "name": "stderr",
     "output_type": "stream",
     "text": [
      "2020-02-12 14:15:04,496 creating image templates\n",
      "2020-02-12 14:15:32,330 setting up close groupings\n",
      "2020-02-12 14:15:32,331 calculating nearest neighbors\n",
      "/Users/erikstorrs/miniconda3/envs/pollock_v2/lib/python3.7/site-packages/numba/typed_passes.py:293: NumbaPerformanceWarning: \n",
      "The keyword argument 'parallel=True' was specified but no transformation for parallel execution was possible.\n",
      "\n",
      "To find out why, try turning on parallel diagnostics, see http://numba.pydata.org/numba-doc/latest/user/parallel.html#diagnostics for help.\n",
      "\n",
      "File \"../../../../miniconda3/envs/pollock_v2/lib/python3.7/site-packages/umap/nndescent.py\", line 47:\n",
      "    @numba.njit(parallel=True)\n",
      "    def nn_descent(\n",
      "    ^\n",
      "\n",
      "  state.func_ir.loc))\n",
      "2020-02-12 14:15:49,963 calculating connectivities\n",
      "2020-02-12 14:17:14,251 calculating differential genes\n",
      "Trying to set attribute `.uns` of view, copying.\n",
      "Trying to set attribute `.uns` of view, copying.\n",
      "Trying to set attribute `.uns` of view, copying.\n",
      "Trying to set attribute `.uns` of view, copying.\n",
      "Trying to set attribute `.uns` of view, copying.\n",
      "Trying to set attribute `.uns` of view, copying.\n",
      "Trying to set attribute `.uns` of view, copying.\n",
      "Trying to set attribute `.uns` of view, copying.\n",
      "Trying to set attribute `.uns` of view, copying.\n",
      "Trying to set attribute `.uns` of view, copying.\n",
      "Trying to set attribute `.uns` of view, copying.\n",
      "Trying to set attribute `.uns` of view, copying.\n",
      "Trying to set attribute `.uns` of view, copying.\n",
      "Trying to set attribute `.uns` of view, copying.\n",
      "Trying to set attribute `.uns` of view, copying.\n",
      "Trying to set attribute `.uns` of view, copying.\n",
      "Trying to set attribute `.uns` of view, copying.\n",
      "Trying to set attribute `.uns` of view, copying.\n",
      "Trying to set attribute `.uns` of view, copying.\n",
      "Trying to set attribute `.uns` of view, copying.\n",
      "Trying to set attribute `.uns` of view, copying.\n",
      "Trying to set attribute `.uns` of view, copying.\n",
      "2020-02-12 14:17:25,650 writing training images\n",
      "2020-02-12 14:17:25,653 writing images\n",
      "2020-02-12 14:17:25,654 0 cell images written\n",
      "2020-02-12 14:18:04,719 1000 cell images written\n",
      "2020-02-12 14:18:42,930 2000 cell images written\n",
      "2020-02-12 14:19:20,658 3000 cell images written\n",
      "2020-02-12 14:19:57,519 4000 cell images written\n",
      "2020-02-12 14:20:35,206 5000 cell images written\n",
      "2020-02-12 14:21:12,483 6000 cell images written\n",
      "2020-02-12 14:21:51,354 7000 cell images written\n",
      "2020-02-12 14:22:30,012 8000 cell images written\n",
      "2020-02-12 14:23:09,389 9000 cell images written\n",
      "2020-02-12 14:23:20,175 done writing images\n",
      "2020-02-12 14:23:21,295 creating training dataset\n",
      "2020-02-12 14:23:22,079 creating validation dataset\n"
     ]
    },
    {
     "name": "stdout",
     "output_type": "stream",
     "text": [
      "CPU times: user 9min 58s, sys: 25.2 s, total: 10min 23s\n",
      "Wall time: 8min 17s\n"
     ]
    }
   ],
   "source": [
    "%%time\n",
    "\n",
    "pollock_dataset = pollock.models.model.PollockDataset(adata, cell_type_key='x', dataset_type='training',\n",
    "                                image_root_dir='/Users/erikstorrs/Documents/ding/pollock/models/scratch/test_zheng',\n",
    "                                n_per_cell_type=100, max_val_per_cell_type=500)"
   ]
  },
  {
   "cell_type": "code",
   "execution_count": 256,
   "metadata": {},
   "outputs": [
    {
     "data": {
      "text/plain": [
       "(TensorShape([64, 128, 128, 3]), TensorShape([64, 11]))"
      ]
     },
     "execution_count": 256,
     "metadata": {},
     "output_type": "execute_result"
    }
   ],
   "source": [
    "x,y = next(iter(pollock_dataset.train_ds))\n",
    "x.shape, y.shape"
   ]
  },
  {
   "cell_type": "code",
   "execution_count": 257,
   "metadata": {},
   "outputs": [
    {
     "data": {
      "image/png": "[encoded data removed]",
      "text/plain": [
       "<Figure size 432x288 with 1 Axes>"
      ]
     },
     "metadata": {
      "needs_background": "light"
     },
     "output_type": "display_data"
    }
   ],
   "source": [
    "cell_id = adata.obs.index[0]\n",
    "img = pollock_dataset.get_cell_image(cell_id)"
   ]
  },
  {
   "cell_type": "code",
   "execution_count": 259,
   "metadata": {},
   "outputs": [
    {
     "data": {
      "text/plain": [
       "(['CD14__Monocyte',\n",
       "  'CD19__B',\n",
       "  'CD34',\n",
       "  'CD4__CD25_T_Reg',\n",
       "  'CD4__CD45RA__CD25__Naive_T',\n",
       "  'CD4__CD45RO__Memory',\n",
       "  'CD4__T_Helper2',\n",
       "  'CD56__NK',\n",
       "  'CD8__CD45RA__Naive_Cytotoxic',\n",
       "  'CD8__Cytotoxic_T',\n",
       "  'Dendritic'],\n",
       " ['',\n",
       "  'CD14__Monocyte',\n",
       "  'CD14__Monocyte_diff_Dendritic',\n",
       "  'CD19__B',\n",
       "  'CD19__B_diff_CD4__CD45RA__CD25__Naive_T',\n",
       "  'CD19__B_diff_CD4__T_Helper2',\n",
       "  'CD19__B_diff_CD8__CD45RA__Naive_Cytotoxic',\n",
       "  'CD34',\n",
       "  'CD34_diff_CD4__T_Helper2',\n",
       "  'CD4__CD25_T_Reg',\n",
       "  'CD4__CD25_T_Reg_diff_CD4__CD45RA__CD25__Naive_T',\n",
       "  'CD4__CD25_T_Reg_diff_CD4__CD45RO__Memory',\n",
       "  'CD4__CD25_T_Reg_diff_CD4__T_Helper2',\n",
       "  'CD4__CD25_T_Reg_diff_CD8__CD45RA__Naive_Cytotoxic',\n",
       "  'CD4__CD25_T_Reg_diff_CD8__Cytotoxic_T',\n",
       "  'CD4__CD45RA__CD25__Naive_T',\n",
       "  'CD4__CD45RA__CD25__Naive_T_diff_CD4__CD45RO__Memory',\n",
       "  'CD4__CD45RA__CD25__Naive_T_diff_CD4__T_Helper2',\n",
       "  'CD4__CD45RA__CD25__Naive_T_diff_CD8__CD45RA__Naive_Cytotoxic',\n",
       "  'CD4__CD45RA__CD25__Naive_T_diff_CD8__Cytotoxic_T',\n",
       "  'CD4__CD45RO__Memory',\n",
       "  'CD4__CD45RO__Memory_diff_CD4__T_Helper2',\n",
       "  'CD4__CD45RO__Memory_diff_CD8__CD45RA__Naive_Cytotoxic',\n",
       "  'CD4__CD45RO__Memory_diff_CD8__Cytotoxic_T',\n",
       "  'CD4__T_Helper2',\n",
       "  'CD4__T_Helper2_diff_CD8__CD45RA__Naive_Cytotoxic',\n",
       "  'CD4__T_Helper2_diff_CD8__Cytotoxic_T',\n",
       "  'CD4__T_Helper2_diff_Dendritic',\n",
       "  'CD56__NK',\n",
       "  'CD56__NK_diff_CD8__Cytotoxic_T',\n",
       "  'CD8__CD45RA__Naive_Cytotoxic',\n",
       "  'CD8__CD45RA__Naive_Cytotoxic_diff_CD8__Cytotoxic_T',\n",
       "  'CD8__Cytotoxic_T',\n",
       "  'Dendritic'])"
      ]
     },
     "execution_count": 259,
     "metadata": {},
     "output_type": "execute_result"
    }
   ],
   "source": [
    "pollock_dataset.cell_types, sorted(set(pollock_dataset.cell_type_template.flatten()))"
   ]
  },
  {
   "cell_type": "code",
   "execution_count": 260,
   "metadata": {},
   "outputs": [
    {
     "data": {
      "text/plain": [
       "<matplotlib.image.AxesImage at 0x1b7d3ee50>"
      ]
     },
     "execution_count": 260,
     "metadata": {},
     "output_type": "execute_result"
    },
    {
     "data": {
      "image/png": "[encoded data removed]",
      "text/plain": [
       "<Figure size 432x288 with 1 Axes>"
      ]
     },
     "metadata": {
      "needs_background": "light"
     },
     "output_type": "display_data"
    }
   ],
   "source": [
    "plt.imshow(pollock_dataset.cell_type_template=='CD4__CD45RA__CD25__Naive_T_diff_CD4__CD45RO__Memory')"
   ]
  },
  {
   "cell_type": "code",
   "execution_count": 261,
   "metadata": {},
   "outputs": [],
   "source": [
    "model = PollockModel(pollock_dataset.cell_types, model=None)"
   ]
  },
  {
   "cell_type": "code",
   "execution_count": 262,
   "metadata": {},
   "outputs": [
    {
     "name": "stdout",
     "output_type": "stream",
     "text": [
      "Model: \"sequential\"\n",
      "_________________________________________________________________\n",
      "Layer (type)                 Output Shape              Param #   \n",
      "=================================================================\n",
      "conv2d (Conv2D)              (None, 128, 128, 16)      448       \n",
      "_________________________________________________________________\n",
      "max_pooling2d (MaxPooling2D) (None, 64, 64, 16)        0         \n",
      "_________________________________________________________________\n",
      "conv2d_1 (Conv2D)            (None, 64, 64, 32)        4640      \n",
      "_________________________________________________________________\n",
      "max_pooling2d_1 (MaxPooling2 (None, 32, 32, 32)        0         \n",
      "_________________________________________________________________\n",
      "conv2d_2 (Conv2D)            (None, 32, 32, 64)        18496     \n",
      "_________________________________________________________________\n",
      "max_pooling2d_2 (MaxPooling2 (None, 16, 16, 64)        0         \n",
      "_________________________________________________________________\n",
      "flatten (Flatten)            (None, 16384)             0         \n",
      "_________________________________________________________________\n",
      "dropout (Dropout)            (None, 16384)             0         \n",
      "_________________________________________________________________\n",
      "dense (Dense)                (None, 512)               8389120   \n",
      "_________________________________________________________________\n",
      "dense_1 (Dense)              (None, 11)                5643      \n",
      "=================================================================\n",
      "Total params: 8,418,347\n",
      "Trainable params: 8,418,347\n",
      "Non-trainable params: 0\n",
      "_________________________________________________________________\n"
     ]
    }
   ],
   "source": [
    "model.model.summary()"
   ]
  },
  {
   "cell_type": "code",
   "execution_count": null,
   "metadata": {},
   "outputs": [],
   "source": [
    "# base_model = tf.keras.applications.ResNet50V2(input_shape=(128, 128, 3),\n",
    "#     include_top=False)\n",
    "# mymodel = tf.keras.Sequential([\n",
    "#     base_model,\n",
    "#     tf.keras.layers.GlobalAveragePooling2D(),\n",
    "#     tf.keras.layers.Flatten(),\n",
    "#     tf.keras.layers.Dropout(.5),\n",
    "#     tf.keras.layers.Dense(512, activation='relu'),\n",
    "#     tf.keras.layers.Dense(len(model.class_names), activation='softmax')\n",
    "#     ])\n",
    "# mymodel.compile(\n",
    "#     optimizer=tf.keras.optimizers.Adam(learning_rate=.001),\n",
    "#     loss='categorical_crossentropy',\n",
    "#     metrics=['accuracy'])\n",
    "\n",
    "# model.model = mymodel"
   ]
  },
  {
   "cell_type": "code",
   "execution_count": null,
   "metadata": {},
   "outputs": [],
   "source": [
    "model.model.summary()"
   ]
  },
  {
   "cell_type": "code",
   "execution_count": 263,
   "metadata": {},
   "outputs": [
    {
     "name": "stdout",
     "output_type": "stream",
     "text": [
      "Train for 18 steps, validate for 30 steps\n",
      "Epoch 1/10\n",
      "18/18 [==============================] - 11s 603ms/step - loss: 1.8188 - accuracy: 0.3637 - val_loss: 1.3356 - val_accuracy: 0.5005\n",
      "Epoch 2/10\n",
      "18/18 [==============================] - 8s 440ms/step - loss: 1.3069 - accuracy: 0.5182 - val_loss: 1.2948 - val_accuracy: 0.5260\n",
      "Epoch 3/10\n",
      "18/18 [==============================] - 8s 428ms/step - loss: 1.1759 - accuracy: 0.5694 - val_loss: 1.3057 - val_accuracy: 0.5016\n",
      "Epoch 4/10\n",
      "18/18 [==============================] - 8s 435ms/step - loss: 1.1562 - accuracy: 0.5703 - val_loss: 1.1744 - val_accuracy: 0.5469\n",
      "Epoch 5/10\n",
      "18/18 [==============================] - 8s 433ms/step - loss: 0.9903 - accuracy: 0.6198 - val_loss: 1.2060 - val_accuracy: 0.5469\n",
      "Epoch 6/10\n",
      "18/18 [==============================] - 8s 434ms/step - loss: 1.0057 - accuracy: 0.6250 - val_loss: 1.1985 - val_accuracy: 0.5318\n"
     ]
    },
    {
     "data": {
      "text/plain": [
       "<tensorflow.python.keras.callbacks.History at 0x1ba7bee50>"
      ]
     },
     "execution_count": 263,
     "metadata": {},
     "output_type": "execute_result"
    }
   ],
   "source": [
    "# with tf.device('/device:XLA_GPU:0'):\n",
    "\n",
    "model.fit(pollock_dataset)"
   ]
  },
  {
   "cell_type": "code",
   "execution_count": null,
   "metadata": {},
   "outputs": [],
   "source": [
    "model.save(pollock_dataset, '/home/estorrs/pollock/models/abm_3class')"
   ]
  },
  {
   "cell_type": "code",
   "execution_count": null,
   "metadata": {},
   "outputs": [],
   "source": [
    "%%time\n",
    "prediction_dataset, model = load_from_directory(adata, '/home/estorrs/pollock/models/abm_3class',\n",
    "        image_root_dir = '/home/estorrs/pollock/models/scratch/test_amb_prediction')"
   ]
  },
  {
   "cell_type": "code",
   "execution_count": null,
   "metadata": {},
   "outputs": [],
   "source": [
    "probs = model.predict(prediction_dataset)\n",
    "probs.shape"
   ]
  },
  {
   "cell_type": "code",
   "execution_count": null,
   "metadata": {},
   "outputs": [],
   "source": [
    "predictions = np.argmax(probs, axis=1).flatten()\n",
    "predicted_labels = [prediction_dataset.cell_types[i] for i in predictions]\n",
    "len(predictions), predictions[:5]"
   ]
  },
  {
   "cell_type": "code",
   "execution_count": null,
   "metadata": {},
   "outputs": [],
   "source": []
  },
  {
   "cell_type": "code",
   "execution_count": null,
   "metadata": {},
   "outputs": [],
   "source": [
    "cell_type_to_index = {v:k for k, v in enumerate(prediction_dataset.cell_types)}\n",
    "groundtruth = [cell_type_to_index[cell_type]\n",
    "               for cell_type in adata[prediction_dataset.cell_ids, :].obs['Class']]\n",
    "len(groundtruth), groundtruth[:5]"
   ]
  },
  {
   "cell_type": "code",
   "execution_count": null,
   "metadata": {},
   "outputs": [],
   "source": [
    "predictions[:20], groundtruth[:20]"
   ]
  },
  {
   "cell_type": "code",
   "execution_count": null,
   "metadata": {},
   "outputs": [],
   "source": [
    "c_df = pollock_analysis.get_confusion_matrix(predictions, groundtruth, prediction_dataset.cell_types)"
   ]
  },
  {
   "cell_type": "code",
   "execution_count": null,
   "metadata": {},
   "outputs": [],
   "source": [
    "embedding = pollock_analysis.umap_final_layer(prediction_dataset.prediction_ds, model.model)\n",
    "embedding.shape"
   ]
  },
  {
   "cell_type": "code",
   "execution_count": null,
   "metadata": {},
   "outputs": [],
   "source": [
    "ordered_adata = adata[prediction_dataset.cell_ids, :]\n",
    "ordered_adata.obsm['X_umap'] = embedding\n",
    "ordered_adata.obs['predicted_cell_type'] = predicted_labels\n",
    "sc.pl.umap(ordered_adata, color=['predicted_cell_type', 'Class'])"
   ]
  },
  {
   "cell_type": "code",
   "execution_count": null,
   "metadata": {},
   "outputs": [],
   "source": []
  }
 ],
 "metadata": {
  "kernelspec": {
   "display_name": "Python 3",
   "language": "python",
   "name": "python3"
  },
  "language_info": {
   "codemirror_mode": {
    "name": "ipython",
    "version": 3
   },
   "file_extension": ".py",
   "mimetype": "text/x-python",
   "name": "python",
   "nbconvert_exporter": "python",
   "pygments_lexer": "ipython3",
   "version": "3.7.6"
  }
 },
 "nbformat": 4,
 "nbformat_minor": 4
}
