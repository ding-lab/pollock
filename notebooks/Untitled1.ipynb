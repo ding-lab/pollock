{
 "cells": [
  {
   "cell_type": "code",
   "execution_count": 18,
   "metadata": {},
   "outputs": [],
   "source": [
    "import os\n",
    "import re\n",
    "from collections import Counter\n",
    "\n",
    "import anndata\n",
    "import numpy as np\n",
    "import pandas as pd\n",
    "import scgen\n",
    "import scanpy as sc\n",
    "from sklearn.preprocessing import StandardScaler, OrdinalEncoder\n",
    "from sklearn.ensemble import RandomForestClassifier"
   ]
  },
  {
   "cell_type": "code",
   "execution_count": null,
   "metadata": {},
   "outputs": [],
   "source": [
    "import logging"
   ]
  },
  {
   "cell_type": "code",
   "execution_count": 3,
   "metadata": {},
   "outputs": [],
   "source": [
    "DATA_DIR = '/home/estorrs/data/single_cell_classification'\n",
    "MODEL_DIR = '/home/estorrs/pollock/models'"
   ]
  },
  {
   "cell_type": "code",
   "execution_count": 4,
   "metadata": {},
   "outputs": [],
   "source": [
    "run_name = 'pbmc_bench_10x-v3'\n",
    "\n",
    "expression_fp = os.path.join(DATA_DIR, 'scRNAseq_benchmark', 'Inter-dataset',\n",
    "                             'PbmcBench', '10Xv3', '10Xv3_pbmc1.csv')\n",
    "label_fp = os.path.join(DATA_DIR, 'scRNAseq_benchmark', 'Inter-dataset',\n",
    "                             'PbmcBench', '10Xv3', '10Xv3_pbmc1Labels.csv')\n",
    "\n",
    "training_image_dir = os.path.join(MODEL_DIR, 'scratch', run_name)\n",
    "model_save_dir = os.path.join(MODEL_DIR, run_name)\n",
    "\n",
    "sample_column = 'Unnamed: 0'\n",
    "sep=','\n",
    "cell_type_key = 'x'\n",
    "\n",
    "n_per_cell_type = 1000\n",
    "epochs = 5\n",
    "batch_size = 64"
   ]
  },
  {
   "cell_type": "code",
   "execution_count": 100,
   "metadata": {},
   "outputs": [],
   "source": [
    "run_name = 'zheng_68k_unsorted'\n",
    "\n",
    "expression_fp = os.path.join(DATA_DIR, 'scRNAseq_benchmark', 'Intra-dataset',\n",
    "                             'Zheng 68K', 'Filtered_68K_PBMC_data.csv')\n",
    "label_fp = os.path.join(DATA_DIR, 'scRNAseq_benchmark', 'Intra-dataset',\n",
    "                             'Zheng 68K', 'Labels.csv')\n",
    "\n",
    "training_image_dir = os.path.join(MODEL_DIR, 'scratch', run_name)\n",
    "model_save_dir = os.path.join(MODEL_DIR, run_name)\n",
    "\n",
    "sample_column = 'Unnamed: 0'\n",
    "sep=','\n",
    "cell_type_key = 'x'\n",
    "\n",
    "n_per_cell_type = 10000\n",
    "epochs = 5\n",
    "batch_size = 64"
   ]
  },
  {
   "cell_type": "code",
   "execution_count": 101,
   "metadata": {},
   "outputs": [
    {
     "name": "stdout",
     "output_type": "stream",
     "text": [
      "CPU times: user 6min 18s, sys: 18 s, total: 6min 36s\n",
      "Wall time: 6min 34s\n"
     ]
    },
    {
     "data": {
      "text/html": [
       "<div>\n",
       "<style scoped>\n",
       "    .dataframe tbody tr th:only-of-type {\n",
       "        vertical-align: middle;\n",
       "    }\n",
       "\n",
       "    .dataframe tbody tr th {\n",
       "        vertical-align: top;\n",
       "    }\n",
       "\n",
       "    .dataframe thead th {\n",
       "        text-align: right;\n",
       "    }\n",
       "</style>\n",
       "<table border=\"1\" class=\"dataframe\">\n",
       "  <thead>\n",
       "    <tr style=\"text-align: right;\">\n",
       "      <th></th>\n",
       "      <th>Unnamed: 0</th>\n",
       "      <th>AL627309.1</th>\n",
       "      <th>AP006222.2</th>\n",
       "      <th>RP11-206L10.3</th>\n",
       "      <th>RP11-206L10.2</th>\n",
       "      <th>RP11-206L10.9</th>\n",
       "      <th>FAM87B</th>\n",
       "      <th>LINC00115</th>\n",
       "      <th>FAM41C</th>\n",
       "      <th>RP11-54O7.1</th>\n",
       "      <th>...</th>\n",
       "      <th>AC145212.1</th>\n",
       "      <th>MGC39584</th>\n",
       "      <th>AC011043.1</th>\n",
       "      <th>ZNF84.1</th>\n",
       "      <th>AL592183.1</th>\n",
       "      <th>AC011841.1</th>\n",
       "      <th>AL354822.1</th>\n",
       "      <th>KIR2DL2</th>\n",
       "      <th>PNRC2.1</th>\n",
       "      <th>SRSF10.1</th>\n",
       "    </tr>\n",
       "  </thead>\n",
       "  <tbody>\n",
       "    <tr>\n",
       "      <th>0</th>\n",
       "      <td>AAACATACACCCAA-1</td>\n",
       "      <td>0</td>\n",
       "      <td>0</td>\n",
       "      <td>0</td>\n",
       "      <td>0</td>\n",
       "      <td>0</td>\n",
       "      <td>0</td>\n",
       "      <td>0</td>\n",
       "      <td>0</td>\n",
       "      <td>0</td>\n",
       "      <td>...</td>\n",
       "      <td>0</td>\n",
       "      <td>0</td>\n",
       "      <td>0</td>\n",
       "      <td>0</td>\n",
       "      <td>0</td>\n",
       "      <td>0</td>\n",
       "      <td>0</td>\n",
       "      <td>0</td>\n",
       "      <td>1</td>\n",
       "      <td>0</td>\n",
       "    </tr>\n",
       "    <tr>\n",
       "      <th>1</th>\n",
       "      <td>AAACATACCCCTCA-1</td>\n",
       "      <td>0</td>\n",
       "      <td>0</td>\n",
       "      <td>0</td>\n",
       "      <td>0</td>\n",
       "      <td>0</td>\n",
       "      <td>0</td>\n",
       "      <td>0</td>\n",
       "      <td>0</td>\n",
       "      <td>0</td>\n",
       "      <td>...</td>\n",
       "      <td>0</td>\n",
       "      <td>0</td>\n",
       "      <td>0</td>\n",
       "      <td>0</td>\n",
       "      <td>0</td>\n",
       "      <td>0</td>\n",
       "      <td>0</td>\n",
       "      <td>0</td>\n",
       "      <td>0</td>\n",
       "      <td>0</td>\n",
       "    </tr>\n",
       "    <tr>\n",
       "      <th>2</th>\n",
       "      <td>AAACATACCGGAGA-1</td>\n",
       "      <td>0</td>\n",
       "      <td>0</td>\n",
       "      <td>0</td>\n",
       "      <td>0</td>\n",
       "      <td>0</td>\n",
       "      <td>0</td>\n",
       "      <td>0</td>\n",
       "      <td>0</td>\n",
       "      <td>0</td>\n",
       "      <td>...</td>\n",
       "      <td>0</td>\n",
       "      <td>0</td>\n",
       "      <td>0</td>\n",
       "      <td>0</td>\n",
       "      <td>0</td>\n",
       "      <td>0</td>\n",
       "      <td>0</td>\n",
       "      <td>0</td>\n",
       "      <td>0</td>\n",
       "      <td>0</td>\n",
       "    </tr>\n",
       "    <tr>\n",
       "      <th>3</th>\n",
       "      <td>AAACATACTAACCG-1</td>\n",
       "      <td>0</td>\n",
       "      <td>0</td>\n",
       "      <td>0</td>\n",
       "      <td>0</td>\n",
       "      <td>0</td>\n",
       "      <td>0</td>\n",
       "      <td>0</td>\n",
       "      <td>0</td>\n",
       "      <td>0</td>\n",
       "      <td>...</td>\n",
       "      <td>0</td>\n",
       "      <td>0</td>\n",
       "      <td>0</td>\n",
       "      <td>0</td>\n",
       "      <td>0</td>\n",
       "      <td>0</td>\n",
       "      <td>0</td>\n",
       "      <td>0</td>\n",
       "      <td>0</td>\n",
       "      <td>0</td>\n",
       "    </tr>\n",
       "    <tr>\n",
       "      <th>4</th>\n",
       "      <td>AAACATACTCTTCA-1</td>\n",
       "      <td>0</td>\n",
       "      <td>0</td>\n",
       "      <td>0</td>\n",
       "      <td>0</td>\n",
       "      <td>0</td>\n",
       "      <td>0</td>\n",
       "      <td>0</td>\n",
       "      <td>0</td>\n",
       "      <td>0</td>\n",
       "      <td>...</td>\n",
       "      <td>0</td>\n",
       "      <td>0</td>\n",
       "      <td>0</td>\n",
       "      <td>0</td>\n",
       "      <td>0</td>\n",
       "      <td>0</td>\n",
       "      <td>0</td>\n",
       "      <td>0</td>\n",
       "      <td>0</td>\n",
       "      <td>0</td>\n",
       "    </tr>\n",
       "    <tr>\n",
       "      <th>...</th>\n",
       "      <td>...</td>\n",
       "      <td>...</td>\n",
       "      <td>...</td>\n",
       "      <td>...</td>\n",
       "      <td>...</td>\n",
       "      <td>...</td>\n",
       "      <td>...</td>\n",
       "      <td>...</td>\n",
       "      <td>...</td>\n",
       "      <td>...</td>\n",
       "      <td>...</td>\n",
       "      <td>...</td>\n",
       "      <td>...</td>\n",
       "      <td>...</td>\n",
       "      <td>...</td>\n",
       "      <td>...</td>\n",
       "      <td>...</td>\n",
       "      <td>...</td>\n",
       "      <td>...</td>\n",
       "      <td>...</td>\n",
       "      <td>...</td>\n",
       "    </tr>\n",
       "    <tr>\n",
       "      <th>65938</th>\n",
       "      <td>TTTGCATGACACCA-8</td>\n",
       "      <td>0</td>\n",
       "      <td>0</td>\n",
       "      <td>0</td>\n",
       "      <td>0</td>\n",
       "      <td>0</td>\n",
       "      <td>0</td>\n",
       "      <td>0</td>\n",
       "      <td>0</td>\n",
       "      <td>0</td>\n",
       "      <td>...</td>\n",
       "      <td>0</td>\n",
       "      <td>0</td>\n",
       "      <td>0</td>\n",
       "      <td>0</td>\n",
       "      <td>0</td>\n",
       "      <td>0</td>\n",
       "      <td>0</td>\n",
       "      <td>0</td>\n",
       "      <td>0</td>\n",
       "      <td>0</td>\n",
       "    </tr>\n",
       "    <tr>\n",
       "      <th>65939</th>\n",
       "      <td>TTTGCATGAGCCTA-8</td>\n",
       "      <td>0</td>\n",
       "      <td>0</td>\n",
       "      <td>0</td>\n",
       "      <td>0</td>\n",
       "      <td>0</td>\n",
       "      <td>0</td>\n",
       "      <td>0</td>\n",
       "      <td>0</td>\n",
       "      <td>0</td>\n",
       "      <td>...</td>\n",
       "      <td>0</td>\n",
       "      <td>0</td>\n",
       "      <td>0</td>\n",
       "      <td>0</td>\n",
       "      <td>0</td>\n",
       "      <td>0</td>\n",
       "      <td>0</td>\n",
       "      <td>0</td>\n",
       "      <td>0</td>\n",
       "      <td>0</td>\n",
       "    </tr>\n",
       "    <tr>\n",
       "      <th>65940</th>\n",
       "      <td>TTTGCATGCTAGCA-8</td>\n",
       "      <td>0</td>\n",
       "      <td>0</td>\n",
       "      <td>0</td>\n",
       "      <td>0</td>\n",
       "      <td>0</td>\n",
       "      <td>0</td>\n",
       "      <td>0</td>\n",
       "      <td>0</td>\n",
       "      <td>0</td>\n",
       "      <td>...</td>\n",
       "      <td>0</td>\n",
       "      <td>0</td>\n",
       "      <td>0</td>\n",
       "      <td>0</td>\n",
       "      <td>0</td>\n",
       "      <td>0</td>\n",
       "      <td>0</td>\n",
       "      <td>0</td>\n",
       "      <td>0</td>\n",
       "      <td>0</td>\n",
       "    </tr>\n",
       "    <tr>\n",
       "      <th>65941</th>\n",
       "      <td>TTTGCATGCTGCAA-8</td>\n",
       "      <td>0</td>\n",
       "      <td>0</td>\n",
       "      <td>0</td>\n",
       "      <td>0</td>\n",
       "      <td>0</td>\n",
       "      <td>0</td>\n",
       "      <td>0</td>\n",
       "      <td>0</td>\n",
       "      <td>0</td>\n",
       "      <td>...</td>\n",
       "      <td>0</td>\n",
       "      <td>0</td>\n",
       "      <td>0</td>\n",
       "      <td>0</td>\n",
       "      <td>0</td>\n",
       "      <td>0</td>\n",
       "      <td>0</td>\n",
       "      <td>0</td>\n",
       "      <td>0</td>\n",
       "      <td>0</td>\n",
       "    </tr>\n",
       "    <tr>\n",
       "      <th>65942</th>\n",
       "      <td>TTTGCATGTGGTAC-8</td>\n",
       "      <td>0</td>\n",
       "      <td>0</td>\n",
       "      <td>0</td>\n",
       "      <td>0</td>\n",
       "      <td>0</td>\n",
       "      <td>0</td>\n",
       "      <td>0</td>\n",
       "      <td>0</td>\n",
       "      <td>0</td>\n",
       "      <td>...</td>\n",
       "      <td>0</td>\n",
       "      <td>0</td>\n",
       "      <td>0</td>\n",
       "      <td>0</td>\n",
       "      <td>0</td>\n",
       "      <td>0</td>\n",
       "      <td>0</td>\n",
       "      <td>0</td>\n",
       "      <td>1</td>\n",
       "      <td>0</td>\n",
       "    </tr>\n",
       "  </tbody>\n",
       "</table>\n",
       "<p>65943 rows × 20388 columns</p>\n",
       "</div>"
      ],
      "text/plain": [
       "             Unnamed: 0  AL627309.1  AP006222.2  RP11-206L10.3  RP11-206L10.2  \\\n",
       "0      AAACATACACCCAA-1           0           0              0              0   \n",
       "1      AAACATACCCCTCA-1           0           0              0              0   \n",
       "2      AAACATACCGGAGA-1           0           0              0              0   \n",
       "3      AAACATACTAACCG-1           0           0              0              0   \n",
       "4      AAACATACTCTTCA-1           0           0              0              0   \n",
       "...                 ...         ...         ...            ...            ...   \n",
       "65938  TTTGCATGACACCA-8           0           0              0              0   \n",
       "65939  TTTGCATGAGCCTA-8           0           0              0              0   \n",
       "65940  TTTGCATGCTAGCA-8           0           0              0              0   \n",
       "65941  TTTGCATGCTGCAA-8           0           0              0              0   \n",
       "65942  TTTGCATGTGGTAC-8           0           0              0              0   \n",
       "\n",
       "       RP11-206L10.9  FAM87B  LINC00115  FAM41C  RP11-54O7.1  ...  AC145212.1  \\\n",
       "0                  0       0          0       0            0  ...           0   \n",
       "1                  0       0          0       0            0  ...           0   \n",
       "2                  0       0          0       0            0  ...           0   \n",
       "3                  0       0          0       0            0  ...           0   \n",
       "4                  0       0          0       0            0  ...           0   \n",
       "...              ...     ...        ...     ...          ...  ...         ...   \n",
       "65938              0       0          0       0            0  ...           0   \n",
       "65939              0       0          0       0            0  ...           0   \n",
       "65940              0       0          0       0            0  ...           0   \n",
       "65941              0       0          0       0            0  ...           0   \n",
       "65942              0       0          0       0            0  ...           0   \n",
       "\n",
       "       MGC39584  AC011043.1  ZNF84.1  AL592183.1  AC011841.1  AL354822.1  \\\n",
       "0             0           0        0           0           0           0   \n",
       "1             0           0        0           0           0           0   \n",
       "2             0           0        0           0           0           0   \n",
       "3             0           0        0           0           0           0   \n",
       "4             0           0        0           0           0           0   \n",
       "...         ...         ...      ...         ...         ...         ...   \n",
       "65938         0           0        0           0           0           0   \n",
       "65939         0           0        0           0           0           0   \n",
       "65940         0           0        0           0           0           0   \n",
       "65941         0           0        0           0           0           0   \n",
       "65942         0           0        0           0           0           0   \n",
       "\n",
       "       KIR2DL2  PNRC2.1  SRSF10.1  \n",
       "0            0        1         0  \n",
       "1            0        0         0  \n",
       "2            0        0         0  \n",
       "3            0        0         0  \n",
       "4            0        0         0  \n",
       "...        ...      ...       ...  \n",
       "65938        0        0         0  \n",
       "65939        0        0         0  \n",
       "65940        0        0         0  \n",
       "65941        0        0         0  \n",
       "65942        0        1         0  \n",
       "\n",
       "[65943 rows x 20388 columns]"
      ]
     },
     "execution_count": 101,
     "metadata": {},
     "output_type": "execute_result"
    }
   ],
   "source": [
    "%%time\n",
    "expression_df = pd.read_csv(\n",
    "    expression_fp,\n",
    "    sep=sep)\n",
    "expression_df"
   ]
  },
  {
   "cell_type": "code",
   "execution_count": 102,
   "metadata": {},
   "outputs": [
    {
     "data": {
      "text/html": [
       "<div>\n",
       "<style scoped>\n",
       "    .dataframe tbody tr th:only-of-type {\n",
       "        vertical-align: middle;\n",
       "    }\n",
       "\n",
       "    .dataframe tbody tr th {\n",
       "        vertical-align: top;\n",
       "    }\n",
       "\n",
       "    .dataframe thead th {\n",
       "        text-align: right;\n",
       "    }\n",
       "</style>\n",
       "<table border=\"1\" class=\"dataframe\">\n",
       "  <thead>\n",
       "    <tr style=\"text-align: right;\">\n",
       "      <th></th>\n",
       "      <th>AL627309.1</th>\n",
       "      <th>AP006222.2</th>\n",
       "      <th>RP11-206L10.3</th>\n",
       "      <th>RP11-206L10.2</th>\n",
       "      <th>RP11-206L10.9</th>\n",
       "      <th>FAM87B</th>\n",
       "      <th>LINC00115</th>\n",
       "      <th>FAM41C</th>\n",
       "      <th>RP11-54O7.1</th>\n",
       "      <th>SAMD11</th>\n",
       "      <th>...</th>\n",
       "      <th>AC145212.1</th>\n",
       "      <th>MGC39584</th>\n",
       "      <th>AC011043.1</th>\n",
       "      <th>ZNF84.1</th>\n",
       "      <th>AL592183.1</th>\n",
       "      <th>AC011841.1</th>\n",
       "      <th>AL354822.1</th>\n",
       "      <th>KIR2DL2</th>\n",
       "      <th>PNRC2.1</th>\n",
       "      <th>SRSF10.1</th>\n",
       "    </tr>\n",
       "    <tr>\n",
       "      <th>Unnamed: 0</th>\n",
       "      <th></th>\n",
       "      <th></th>\n",
       "      <th></th>\n",
       "      <th></th>\n",
       "      <th></th>\n",
       "      <th></th>\n",
       "      <th></th>\n",
       "      <th></th>\n",
       "      <th></th>\n",
       "      <th></th>\n",
       "      <th></th>\n",
       "      <th></th>\n",
       "      <th></th>\n",
       "      <th></th>\n",
       "      <th></th>\n",
       "      <th></th>\n",
       "      <th></th>\n",
       "      <th></th>\n",
       "      <th></th>\n",
       "      <th></th>\n",
       "      <th></th>\n",
       "    </tr>\n",
       "  </thead>\n",
       "  <tbody>\n",
       "    <tr>\n",
       "      <th>AAACATACACCCAA-1</th>\n",
       "      <td>0</td>\n",
       "      <td>0</td>\n",
       "      <td>0</td>\n",
       "      <td>0</td>\n",
       "      <td>0</td>\n",
       "      <td>0</td>\n",
       "      <td>0</td>\n",
       "      <td>0</td>\n",
       "      <td>0</td>\n",
       "      <td>0</td>\n",
       "      <td>...</td>\n",
       "      <td>0</td>\n",
       "      <td>0</td>\n",
       "      <td>0</td>\n",
       "      <td>0</td>\n",
       "      <td>0</td>\n",
       "      <td>0</td>\n",
       "      <td>0</td>\n",
       "      <td>0</td>\n",
       "      <td>1</td>\n",
       "      <td>0</td>\n",
       "    </tr>\n",
       "    <tr>\n",
       "      <th>AAACATACCCCTCA-1</th>\n",
       "      <td>0</td>\n",
       "      <td>0</td>\n",
       "      <td>0</td>\n",
       "      <td>0</td>\n",
       "      <td>0</td>\n",
       "      <td>0</td>\n",
       "      <td>0</td>\n",
       "      <td>0</td>\n",
       "      <td>0</td>\n",
       "      <td>0</td>\n",
       "      <td>...</td>\n",
       "      <td>0</td>\n",
       "      <td>0</td>\n",
       "      <td>0</td>\n",
       "      <td>0</td>\n",
       "      <td>0</td>\n",
       "      <td>0</td>\n",
       "      <td>0</td>\n",
       "      <td>0</td>\n",
       "      <td>0</td>\n",
       "      <td>0</td>\n",
       "    </tr>\n",
       "    <tr>\n",
       "      <th>AAACATACCGGAGA-1</th>\n",
       "      <td>0</td>\n",
       "      <td>0</td>\n",
       "      <td>0</td>\n",
       "      <td>0</td>\n",
       "      <td>0</td>\n",
       "      <td>0</td>\n",
       "      <td>0</td>\n",
       "      <td>0</td>\n",
       "      <td>0</td>\n",
       "      <td>0</td>\n",
       "      <td>...</td>\n",
       "      <td>0</td>\n",
       "      <td>0</td>\n",
       "      <td>0</td>\n",
       "      <td>0</td>\n",
       "      <td>0</td>\n",
       "      <td>0</td>\n",
       "      <td>0</td>\n",
       "      <td>0</td>\n",
       "      <td>0</td>\n",
       "      <td>0</td>\n",
       "    </tr>\n",
       "    <tr>\n",
       "      <th>AAACATACTAACCG-1</th>\n",
       "      <td>0</td>\n",
       "      <td>0</td>\n",
       "      <td>0</td>\n",
       "      <td>0</td>\n",
       "      <td>0</td>\n",
       "      <td>0</td>\n",
       "      <td>0</td>\n",
       "      <td>0</td>\n",
       "      <td>0</td>\n",
       "      <td>0</td>\n",
       "      <td>...</td>\n",
       "      <td>0</td>\n",
       "      <td>0</td>\n",
       "      <td>0</td>\n",
       "      <td>0</td>\n",
       "      <td>0</td>\n",
       "      <td>0</td>\n",
       "      <td>0</td>\n",
       "      <td>0</td>\n",
       "      <td>0</td>\n",
       "      <td>0</td>\n",
       "    </tr>\n",
       "    <tr>\n",
       "      <th>AAACATACTCTTCA-1</th>\n",
       "      <td>0</td>\n",
       "      <td>0</td>\n",
       "      <td>0</td>\n",
       "      <td>0</td>\n",
       "      <td>0</td>\n",
       "      <td>0</td>\n",
       "      <td>0</td>\n",
       "      <td>0</td>\n",
       "      <td>0</td>\n",
       "      <td>0</td>\n",
       "      <td>...</td>\n",
       "      <td>0</td>\n",
       "      <td>0</td>\n",
       "      <td>0</td>\n",
       "      <td>0</td>\n",
       "      <td>0</td>\n",
       "      <td>0</td>\n",
       "      <td>0</td>\n",
       "      <td>0</td>\n",
       "      <td>0</td>\n",
       "      <td>0</td>\n",
       "    </tr>\n",
       "    <tr>\n",
       "      <th>...</th>\n",
       "      <td>...</td>\n",
       "      <td>...</td>\n",
       "      <td>...</td>\n",
       "      <td>...</td>\n",
       "      <td>...</td>\n",
       "      <td>...</td>\n",
       "      <td>...</td>\n",
       "      <td>...</td>\n",
       "      <td>...</td>\n",
       "      <td>...</td>\n",
       "      <td>...</td>\n",
       "      <td>...</td>\n",
       "      <td>...</td>\n",
       "      <td>...</td>\n",
       "      <td>...</td>\n",
       "      <td>...</td>\n",
       "      <td>...</td>\n",
       "      <td>...</td>\n",
       "      <td>...</td>\n",
       "      <td>...</td>\n",
       "      <td>...</td>\n",
       "    </tr>\n",
       "    <tr>\n",
       "      <th>TTTGCATGACACCA-8</th>\n",
       "      <td>0</td>\n",
       "      <td>0</td>\n",
       "      <td>0</td>\n",
       "      <td>0</td>\n",
       "      <td>0</td>\n",
       "      <td>0</td>\n",
       "      <td>0</td>\n",
       "      <td>0</td>\n",
       "      <td>0</td>\n",
       "      <td>0</td>\n",
       "      <td>...</td>\n",
       "      <td>0</td>\n",
       "      <td>0</td>\n",
       "      <td>0</td>\n",
       "      <td>0</td>\n",
       "      <td>0</td>\n",
       "      <td>0</td>\n",
       "      <td>0</td>\n",
       "      <td>0</td>\n",
       "      <td>0</td>\n",
       "      <td>0</td>\n",
       "    </tr>\n",
       "    <tr>\n",
       "      <th>TTTGCATGAGCCTA-8</th>\n",
       "      <td>0</td>\n",
       "      <td>0</td>\n",
       "      <td>0</td>\n",
       "      <td>0</td>\n",
       "      <td>0</td>\n",
       "      <td>0</td>\n",
       "      <td>0</td>\n",
       "      <td>0</td>\n",
       "      <td>0</td>\n",
       "      <td>0</td>\n",
       "      <td>...</td>\n",
       "      <td>0</td>\n",
       "      <td>0</td>\n",
       "      <td>0</td>\n",
       "      <td>0</td>\n",
       "      <td>0</td>\n",
       "      <td>0</td>\n",
       "      <td>0</td>\n",
       "      <td>0</td>\n",
       "      <td>0</td>\n",
       "      <td>0</td>\n",
       "    </tr>\n",
       "    <tr>\n",
       "      <th>TTTGCATGCTAGCA-8</th>\n",
       "      <td>0</td>\n",
       "      <td>0</td>\n",
       "      <td>0</td>\n",
       "      <td>0</td>\n",
       "      <td>0</td>\n",
       "      <td>0</td>\n",
       "      <td>0</td>\n",
       "      <td>0</td>\n",
       "      <td>0</td>\n",
       "      <td>0</td>\n",
       "      <td>...</td>\n",
       "      <td>0</td>\n",
       "      <td>0</td>\n",
       "      <td>0</td>\n",
       "      <td>0</td>\n",
       "      <td>0</td>\n",
       "      <td>0</td>\n",
       "      <td>0</td>\n",
       "      <td>0</td>\n",
       "      <td>0</td>\n",
       "      <td>0</td>\n",
       "    </tr>\n",
       "    <tr>\n",
       "      <th>TTTGCATGCTGCAA-8</th>\n",
       "      <td>0</td>\n",
       "      <td>0</td>\n",
       "      <td>0</td>\n",
       "      <td>0</td>\n",
       "      <td>0</td>\n",
       "      <td>0</td>\n",
       "      <td>0</td>\n",
       "      <td>0</td>\n",
       "      <td>0</td>\n",
       "      <td>0</td>\n",
       "      <td>...</td>\n",
       "      <td>0</td>\n",
       "      <td>0</td>\n",
       "      <td>0</td>\n",
       "      <td>0</td>\n",
       "      <td>0</td>\n",
       "      <td>0</td>\n",
       "      <td>0</td>\n",
       "      <td>0</td>\n",
       "      <td>0</td>\n",
       "      <td>0</td>\n",
       "    </tr>\n",
       "    <tr>\n",
       "      <th>TTTGCATGTGGTAC-8</th>\n",
       "      <td>0</td>\n",
       "      <td>0</td>\n",
       "      <td>0</td>\n",
       "      <td>0</td>\n",
       "      <td>0</td>\n",
       "      <td>0</td>\n",
       "      <td>0</td>\n",
       "      <td>0</td>\n",
       "      <td>0</td>\n",
       "      <td>0</td>\n",
       "      <td>...</td>\n",
       "      <td>0</td>\n",
       "      <td>0</td>\n",
       "      <td>0</td>\n",
       "      <td>0</td>\n",
       "      <td>0</td>\n",
       "      <td>0</td>\n",
       "      <td>0</td>\n",
       "      <td>0</td>\n",
       "      <td>1</td>\n",
       "      <td>0</td>\n",
       "    </tr>\n",
       "  </tbody>\n",
       "</table>\n",
       "<p>65943 rows × 20387 columns</p>\n",
       "</div>"
      ],
      "text/plain": [
       "                  AL627309.1  AP006222.2  RP11-206L10.3  RP11-206L10.2  \\\n",
       "Unnamed: 0                                                               \n",
       "AAACATACACCCAA-1           0           0              0              0   \n",
       "AAACATACCCCTCA-1           0           0              0              0   \n",
       "AAACATACCGGAGA-1           0           0              0              0   \n",
       "AAACATACTAACCG-1           0           0              0              0   \n",
       "AAACATACTCTTCA-1           0           0              0              0   \n",
       "...                      ...         ...            ...            ...   \n",
       "TTTGCATGACACCA-8           0           0              0              0   \n",
       "TTTGCATGAGCCTA-8           0           0              0              0   \n",
       "TTTGCATGCTAGCA-8           0           0              0              0   \n",
       "TTTGCATGCTGCAA-8           0           0              0              0   \n",
       "TTTGCATGTGGTAC-8           0           0              0              0   \n",
       "\n",
       "                  RP11-206L10.9  FAM87B  LINC00115  FAM41C  RP11-54O7.1  \\\n",
       "Unnamed: 0                                                                \n",
       "AAACATACACCCAA-1              0       0          0       0            0   \n",
       "AAACATACCCCTCA-1              0       0          0       0            0   \n",
       "AAACATACCGGAGA-1              0       0          0       0            0   \n",
       "AAACATACTAACCG-1              0       0          0       0            0   \n",
       "AAACATACTCTTCA-1              0       0          0       0            0   \n",
       "...                         ...     ...        ...     ...          ...   \n",
       "TTTGCATGACACCA-8              0       0          0       0            0   \n",
       "TTTGCATGAGCCTA-8              0       0          0       0            0   \n",
       "TTTGCATGCTAGCA-8              0       0          0       0            0   \n",
       "TTTGCATGCTGCAA-8              0       0          0       0            0   \n",
       "TTTGCATGTGGTAC-8              0       0          0       0            0   \n",
       "\n",
       "                  SAMD11  ...  AC145212.1  MGC39584  AC011043.1  ZNF84.1  \\\n",
       "Unnamed: 0                ...                                              \n",
       "AAACATACACCCAA-1       0  ...           0         0           0        0   \n",
       "AAACATACCCCTCA-1       0  ...           0         0           0        0   \n",
       "AAACATACCGGAGA-1       0  ...           0         0           0        0   \n",
       "AAACATACTAACCG-1       0  ...           0         0           0        0   \n",
       "AAACATACTCTTCA-1       0  ...           0         0           0        0   \n",
       "...                  ...  ...         ...       ...         ...      ...   \n",
       "TTTGCATGACACCA-8       0  ...           0         0           0        0   \n",
       "TTTGCATGAGCCTA-8       0  ...           0         0           0        0   \n",
       "TTTGCATGCTAGCA-8       0  ...           0         0           0        0   \n",
       "TTTGCATGCTGCAA-8       0  ...           0         0           0        0   \n",
       "TTTGCATGTGGTAC-8       0  ...           0         0           0        0   \n",
       "\n",
       "                  AL592183.1  AC011841.1  AL354822.1  KIR2DL2  PNRC2.1  \\\n",
       "Unnamed: 0                                                               \n",
       "AAACATACACCCAA-1           0           0           0        0        1   \n",
       "AAACATACCCCTCA-1           0           0           0        0        0   \n",
       "AAACATACCGGAGA-1           0           0           0        0        0   \n",
       "AAACATACTAACCG-1           0           0           0        0        0   \n",
       "AAACATACTCTTCA-1           0           0           0        0        0   \n",
       "...                      ...         ...         ...      ...      ...   \n",
       "TTTGCATGACACCA-8           0           0           0        0        0   \n",
       "TTTGCATGAGCCTA-8           0           0           0        0        0   \n",
       "TTTGCATGCTAGCA-8           0           0           0        0        0   \n",
       "TTTGCATGCTGCAA-8           0           0           0        0        0   \n",
       "TTTGCATGTGGTAC-8           0           0           0        0        1   \n",
       "\n",
       "                  SRSF10.1  \n",
       "Unnamed: 0                  \n",
       "AAACATACACCCAA-1         0  \n",
       "AAACATACCCCTCA-1         0  \n",
       "AAACATACCGGAGA-1         0  \n",
       "AAACATACTAACCG-1         0  \n",
       "AAACATACTCTTCA-1         0  \n",
       "...                    ...  \n",
       "TTTGCATGACACCA-8         0  \n",
       "TTTGCATGAGCCTA-8         0  \n",
       "TTTGCATGCTAGCA-8         0  \n",
       "TTTGCATGCTGCAA-8         0  \n",
       "TTTGCATGTGGTAC-8         0  \n",
       "\n",
       "[65943 rows x 20387 columns]"
      ]
     },
     "execution_count": 102,
     "metadata": {},
     "output_type": "execute_result"
    }
   ],
   "source": [
    "expression_df = expression_df.set_index(sample_column)\n",
    "expression_df"
   ]
  },
  {
   "cell_type": "code",
   "execution_count": 103,
   "metadata": {},
   "outputs": [
    {
     "data": {
      "text/html": [
       "<div>\n",
       "<style scoped>\n",
       "    .dataframe tbody tr th:only-of-type {\n",
       "        vertical-align: middle;\n",
       "    }\n",
       "\n",
       "    .dataframe tbody tr th {\n",
       "        vertical-align: top;\n",
       "    }\n",
       "\n",
       "    .dataframe thead th {\n",
       "        text-align: right;\n",
       "    }\n",
       "</style>\n",
       "<table border=\"1\" class=\"dataframe\">\n",
       "  <thead>\n",
       "    <tr style=\"text-align: right;\">\n",
       "      <th></th>\n",
       "      <th>x</th>\n",
       "    </tr>\n",
       "  </thead>\n",
       "  <tbody>\n",
       "    <tr>\n",
       "      <th>0</th>\n",
       "      <td>CD8+ Cytotoxic T</td>\n",
       "    </tr>\n",
       "    <tr>\n",
       "      <th>1</th>\n",
       "      <td>CD8+/CD45RA+ Naive Cytotoxic</td>\n",
       "    </tr>\n",
       "    <tr>\n",
       "      <th>2</th>\n",
       "      <td>CD4+/CD45RO+ Memory</td>\n",
       "    </tr>\n",
       "    <tr>\n",
       "      <th>3</th>\n",
       "      <td>CD19+ B</td>\n",
       "    </tr>\n",
       "    <tr>\n",
       "      <th>4</th>\n",
       "      <td>CD4+/CD25 T Reg</td>\n",
       "    </tr>\n",
       "    <tr>\n",
       "      <th>...</th>\n",
       "      <td>...</td>\n",
       "    </tr>\n",
       "    <tr>\n",
       "      <th>65938</th>\n",
       "      <td>CD8+/CD45RA+ Naive Cytotoxic</td>\n",
       "    </tr>\n",
       "    <tr>\n",
       "      <th>65939</th>\n",
       "      <td>CD8+ Cytotoxic T</td>\n",
       "    </tr>\n",
       "    <tr>\n",
       "      <th>65940</th>\n",
       "      <td>CD8+/CD45RA+ Naive Cytotoxic</td>\n",
       "    </tr>\n",
       "    <tr>\n",
       "      <th>65941</th>\n",
       "      <td>CD8+ Cytotoxic T</td>\n",
       "    </tr>\n",
       "    <tr>\n",
       "      <th>65942</th>\n",
       "      <td>CD8+ Cytotoxic T</td>\n",
       "    </tr>\n",
       "  </tbody>\n",
       "</table>\n",
       "<p>65943 rows × 1 columns</p>\n",
       "</div>"
      ],
      "text/plain": [
       "                                  x\n",
       "0                  CD8+ Cytotoxic T\n",
       "1      CD8+/CD45RA+ Naive Cytotoxic\n",
       "2               CD4+/CD45RO+ Memory\n",
       "3                           CD19+ B\n",
       "4                   CD4+/CD25 T Reg\n",
       "...                             ...\n",
       "65938  CD8+/CD45RA+ Naive Cytotoxic\n",
       "65939              CD8+ Cytotoxic T\n",
       "65940  CD8+/CD45RA+ Naive Cytotoxic\n",
       "65941              CD8+ Cytotoxic T\n",
       "65942              CD8+ Cytotoxic T\n",
       "\n",
       "[65943 rows x 1 columns]"
      ]
     },
     "execution_count": 103,
     "metadata": {},
     "output_type": "execute_result"
    }
   ],
   "source": [
    "label_df = pd.read_csv(\n",
    "    label_fp,\n",
    "    sep=sep\n",
    "    )\n",
    "label_df"
   ]
  },
  {
   "cell_type": "code",
   "execution_count": 150,
   "metadata": {},
   "outputs": [
    {
     "name": "stderr",
     "output_type": "stream",
     "text": [
      "Transforming to str index.\n"
     ]
    },
    {
     "data": {
      "text/plain": [
       "AnnData object with n_obs × n_vars = 65943 × 20387 \n",
       "    obs: 'x'"
      ]
     },
     "execution_count": 150,
     "metadata": {},
     "output_type": "execute_result"
    }
   ],
   "source": [
    "adata = anndata.AnnData(X=expression_df.values, obs=label_df)\n",
    "adata.obs.index = expression_df.index\n",
    "adata.var.index = expression_df.columns\n",
    "adata"
   ]
  },
  {
   "cell_type": "code",
   "execution_count": 151,
   "metadata": {},
   "outputs": [
    {
     "data": {
      "text/plain": [
       "[('CD8+ Cytotoxic T', 20307),\n",
       " ('CD8+/CD45RA+ Naive Cytotoxic', 16361),\n",
       " ('CD56+ NK', 8522),\n",
       " ('CD4+/CD25 T Reg', 6116),\n",
       " ('CD19+ B', 5579),\n",
       " ('CD4+/CD45RO+ Memory', 3031),\n",
       " ('Dendritic', 1946),\n",
       " ('CD14+ Monocyte', 1944),\n",
       " ('CD4+/CD45RA+/CD25- Naive T', 1857),\n",
       " ('CD34+', 188),\n",
       " ('CD4+ T Helper2', 92)]"
      ]
     },
     "execution_count": 151,
     "metadata": {},
     "output_type": "execute_result"
    }
   ],
   "source": [
    "counts = Counter(adata.obs[cell_type_key])\n",
    "counts.most_common()"
   ]
  },
  {
   "cell_type": "code",
   "execution_count": 152,
   "metadata": {},
   "outputs": [],
   "source": [
    "sc.pp.filter_cells(adata, min_genes=200)\n",
    "sc.pp.filter_genes(adata, min_cells=3)"
   ]
  },
  {
   "cell_type": "code",
   "execution_count": 153,
   "metadata": {},
   "outputs": [],
   "source": [
    "mito_genes = adata.var_names.str.startswith('MT-')\n",
    "# for each cell compute fraction of counts in mito genes vs. all genes\n",
    "# the `.A1` is only necessary as X is sparse (to transform to a dense array after summing)\n",
    "adata.obs['percent_mito'] = np.sum(\n",
    "    adata[:, mito_genes].X, axis=1) / np.sum(adata.X, axis=1)\n",
    "# add the total counts per cell as observations-annotation to adata\n",
    "adata.obs['n_counts'] = adata.X.sum(axis=1)"
   ]
  },
  {
   "cell_type": "code",
   "execution_count": 154,
   "metadata": {},
   "outputs": [
    {
     "name": "stderr",
     "output_type": "stream",
     "text": [
      "... storing 'x' as categorical\n"
     ]
    },
    {
     "data": {
      "image/png": "[encoded data removed]",
      "text/plain": [
       "<Figure size 487.93x288 with 1 Axes>"
      ]
     },
     "metadata": {
      "needs_background": "light"
     },
     "output_type": "display_data"
    },
    {
     "data": {
      "image/png": "[encoded data removed]",
      "text/plain": [
       "<Figure size 487.93x288 with 1 Axes>"
      ]
     },
     "metadata": {
      "needs_background": "light"
     },
     "output_type": "display_data"
    }
   ],
   "source": [
    "sc.pl.scatter(adata, x='n_counts', y='percent_mito')\n",
    "sc.pl.scatter(adata, x='n_counts', y='n_genes')"
   ]
  },
  {
   "cell_type": "code",
   "execution_count": null,
   "metadata": {},
   "outputs": [],
   "source": [
    "adata = adata[adata.obs.n_genes < 6000, :]\n",
    "adata = adata[adata.obs.percent_mito < 0.05, :]"
   ]
  },
  {
   "cell_type": "code",
   "execution_count": 155,
   "metadata": {},
   "outputs": [],
   "source": [
    "sc.pp.normalize_total(adata, target_sum=1e4)\n"
   ]
  },
  {
   "cell_type": "code",
   "execution_count": 156,
   "metadata": {},
   "outputs": [],
   "source": [
    "sc.pp.log1p(adata)\n"
   ]
  },
  {
   "cell_type": "code",
   "execution_count": 157,
   "metadata": {},
   "outputs": [],
   "source": [
    "adata.raw = adata"
   ]
  },
  {
   "cell_type": "code",
   "execution_count": 158,
   "metadata": {},
   "outputs": [
    {
     "data": {
      "text/plain": [
       "AnnData object with n_obs × n_vars = 65943 × 17732 \n",
       "    obs: 'x', 'n_genes', 'percent_mito', 'n_counts'\n",
       "    var: 'n_cells'\n",
       "    uns: 'log1p'"
      ]
     },
     "execution_count": 158,
     "metadata": {},
     "output_type": "execute_result"
    }
   ],
   "source": [
    "adata"
   ]
  },
  {
   "cell_type": "code",
   "execution_count": 168,
   "metadata": {},
   "outputs": [],
   "source": [
    "sc.pp.highly_variable_genes(adata, min_mean=0.005, max_mean=6, min_disp=0.1)\n"
   ]
  },
  {
   "cell_type": "code",
   "execution_count": 169,
   "metadata": {},
   "outputs": [
    {
     "data": {
      "image/png": "[encoded data removed]",
      "text/plain": [
       "<Figure size 864x288 with 2 Axes>"
      ]
     },
     "metadata": {
      "needs_background": "light"
     },
     "output_type": "display_data"
    }
   ],
   "source": [
    "sc.pl.highly_variable_genes(adata)\n"
   ]
  },
  {
   "cell_type": "code",
   "execution_count": 170,
   "metadata": {},
   "outputs": [
    {
     "data": {
      "text/plain": [
       "5436"
      ]
     },
     "execution_count": 170,
     "metadata": {},
     "output_type": "execute_result"
    }
   ],
   "source": [
    "np.count_nonzero(adata.var.highly_variable)"
   ]
  },
  {
   "cell_type": "code",
   "execution_count": 171,
   "metadata": {},
   "outputs": [
    {
     "data": {
      "text/plain": [
       "View of AnnData object with n_obs × n_vars = 65943 × 5436 \n",
       "    obs: 'x', 'n_genes', 'percent_mito', 'n_counts'\n",
       "    var: 'n_cells', 'highly_variable', 'means', 'dispersions', 'dispersions_norm'\n",
       "    uns: 'log1p'"
      ]
     },
     "execution_count": 171,
     "metadata": {},
     "output_type": "execute_result"
    }
   ],
   "source": [
    "adata = adata[:, adata.var.highly_variable]\n",
    "adata"
   ]
  },
  {
   "cell_type": "code",
   "execution_count": null,
   "metadata": {},
   "outputs": [],
   "source": []
  },
  {
   "cell_type": "code",
   "execution_count": null,
   "metadata": {},
   "outputs": [],
   "source": []
  },
  {
   "cell_type": "code",
   "execution_count": 175,
   "metadata": {},
   "outputs": [],
   "source": [
    "split = .8\n",
    "\n",
    "idxs = np.arange(adata.shape[0])\n",
    "np.random.shuffle(idxs)\n",
    "\n",
    "idxs = idxs[:10000]\n",
    "\n",
    "train_idxs = idxs[:int(split * idxs.shape[0])]\n",
    "val_idxs = idxs[int(split * idxs.shape[0]):]\n",
    "\n",
    "# X = np.copy(adata.X)\n",
    "\n",
    "# X_train = X[train_idxs]\n",
    "# X_val = X[val_idxs]\n",
    "\n",
    "# y_train = adata.obs[cell_type_key][train_idxs]\n",
    "# y_val = adata.obs[cell_type_key][train_idxs]\n",
    "train_adata = adata[train_idxs, :].copy()\n",
    "val_adata = adata[val_idxs, :].copy()"
   ]
  },
  {
   "cell_type": "code",
   "execution_count": 176,
   "metadata": {},
   "outputs": [
    {
     "data": {
      "text/plain": [
       "AnnData object with n_obs × n_vars = 8000 × 5436 \n",
       "    obs: 'x', 'n_genes', 'percent_mito', 'n_counts'\n",
       "    var: 'n_cells', 'highly_variable', 'means', 'dispersions', 'dispersions_norm'\n",
       "    uns: 'log1p'"
      ]
     },
     "execution_count": 176,
     "metadata": {},
     "output_type": "execute_result"
    }
   ],
   "source": [
    "train_adata"
   ]
  },
  {
   "cell_type": "code",
   "execution_count": 177,
   "metadata": {},
   "outputs": [
    {
     "data": {
      "text/plain": [
       "AnnData object with n_obs × n_vars = 2000 × 5436 \n",
       "    obs: 'x', 'n_genes', 'percent_mito', 'n_counts'\n",
       "    var: 'n_cells', 'highly_variable', 'means', 'dispersions', 'dispersions_norm'\n",
       "    uns: 'log1p'"
      ]
     },
     "execution_count": 177,
     "metadata": {},
     "output_type": "execute_result"
    }
   ],
   "source": [
    "val_adata"
   ]
  },
  {
   "cell_type": "code",
   "execution_count": 197,
   "metadata": {},
   "outputs": [],
   "source": [
    "scg = scgen.VAEArith(x_dimension= train_adata.shape[1], model_path=\"/home/estorrs/pollock/models/vae_clf_test\" )"
   ]
  },
  {
   "cell_type": "code",
   "execution_count": null,
   "metadata": {},
   "outputs": [],
   "source": [
    "%%time\n",
    "history = scg.train(train_data=train_adata, use_validation=True, valid_data=val_adata, n_epochs=2)"
   ]
  },
  {
   "cell_type": "code",
   "execution_count": null,
   "metadata": {},
   "outputs": [],
   "source": []
  },
  {
   "cell_type": "code",
   "execution_count": 191,
   "metadata": {},
   "outputs": [],
   "source": [
    "train_embeddings = scg.to_latent(train_adata.X)\n",
    "val_embeddings = scg.to_latent(val_adata.X)"
   ]
  },
  {
   "cell_type": "code",
   "execution_count": 192,
   "metadata": {},
   "outputs": [],
   "source": [
    "encoder = OrdinalEncoder()\n",
    "y_train = encoder.fit_transform(np.asarray(train_adata.obs[cell_type_key]).reshape(-1, 1)).flatten()\n",
    "y_val = encoder.transform(np.asarray(val_adata.obs[cell_type_key]).reshape(-1, 1)).flatten()"
   ]
  },
  {
   "cell_type": "code",
   "execution_count": 193,
   "metadata": {},
   "outputs": [],
   "source": [
    "clf = RandomForestClassifier()"
   ]
  },
  {
   "cell_type": "code",
   "execution_count": 194,
   "metadata": {},
   "outputs": [
    {
     "name": "stdout",
     "output_type": "stream",
     "text": [
      "CPU times: user 6.87 s, sys: 59.4 ms, total: 6.93 s\n",
      "Wall time: 6.93 s\n"
     ]
    },
    {
     "data": {
      "text/plain": [
       "RandomForestClassifier(bootstrap=True, ccp_alpha=0.0, class_weight=None,\n",
       "                       criterion='gini', max_depth=None, max_features='auto',\n",
       "                       max_leaf_nodes=None, max_samples=None,\n",
       "                       min_impurity_decrease=0.0, min_impurity_split=None,\n",
       "                       min_samples_leaf=1, min_samples_split=2,\n",
       "                       min_weight_fraction_leaf=0.0, n_estimators=100,\n",
       "                       n_jobs=None, oob_score=False, random_state=None,\n",
       "                       verbose=0, warm_start=False)"
      ]
     },
     "execution_count": 194,
     "metadata": {},
     "output_type": "execute_result"
    }
   ],
   "source": [
    "%%time\n",
    "clf.fit(train_embeddings, y_train)"
   ]
  },
  {
   "cell_type": "code",
   "execution_count": 195,
   "metadata": {},
   "outputs": [
    {
     "data": {
      "text/plain": [
       "1.0"
      ]
     },
     "execution_count": 195,
     "metadata": {},
     "output_type": "execute_result"
    }
   ],
   "source": [
    "clf.score(train_embeddings, y_train)"
   ]
  },
  {
   "cell_type": "code",
   "execution_count": 196,
   "metadata": {},
   "outputs": [
    {
     "data": {
      "text/plain": [
       "0.6175"
      ]
     },
     "execution_count": 196,
     "metadata": {},
     "output_type": "execute_result"
    }
   ],
   "source": [
    "clf.score(val_embeddings, y_val)"
   ]
  },
  {
   "cell_type": "code",
   "execution_count": null,
   "metadata": {},
   "outputs": [],
   "source": []
  },
  {
   "cell_type": "code",
   "execution_count": null,
   "metadata": {},
   "outputs": [],
   "source": []
  },
  {
   "cell_type": "code",
   "execution_count": 23,
   "metadata": {},
   "outputs": [],
   "source": [
    "\n",
    "train = sc.read(\"./tests/data/train_kang.h5ad\",\n",
    "                backup_url=\"https://goo.gl/33HtVh\")\n",
    "validation = sc.read(\"./tests/data/valid_kang.h5ad\",\n",
    "                     backup_url=\"https://goo.gl/8pdXiQ\")"
   ]
  },
  {
   "cell_type": "code",
   "execution_count": 24,
   "metadata": {},
   "outputs": [
    {
     "data": {
      "text/plain": [
       "AnnData object with n_obs × n_vars = 16893 × 6998 \n",
       "    obs: 'condition', 'n_counts', 'n_genes', 'mt_frac', 'cell_type'\n",
       "    var: 'gene_symbol', 'n_cells'\n",
       "    uns: 'cell_type_colors', 'condition_colors', 'neighbors'\n",
       "    obsm: 'X_pca', 'X_tsne', 'X_umap'"
      ]
     },
     "execution_count": 24,
     "metadata": {},
     "output_type": "execute_result"
    }
   ],
   "source": [
    "train"
   ]
  },
  {
   "cell_type": "code",
   "execution_count": 25,
   "metadata": {},
   "outputs": [
    {
     "data": {
      "text/html": [
       "<div>\n",
       "<style scoped>\n",
       "    .dataframe tbody tr th:only-of-type {\n",
       "        vertical-align: middle;\n",
       "    }\n",
       "\n",
       "    .dataframe tbody tr th {\n",
       "        vertical-align: top;\n",
       "    }\n",
       "\n",
       "    .dataframe thead th {\n",
       "        text-align: right;\n",
       "    }\n",
       "</style>\n",
       "<table border=\"1\" class=\"dataframe\">\n",
       "  <thead>\n",
       "    <tr style=\"text-align: right;\">\n",
       "      <th></th>\n",
       "      <th>condition</th>\n",
       "      <th>n_counts</th>\n",
       "      <th>n_genes</th>\n",
       "      <th>mt_frac</th>\n",
       "      <th>cell_type</th>\n",
       "    </tr>\n",
       "    <tr>\n",
       "      <th>index</th>\n",
       "      <th></th>\n",
       "      <th></th>\n",
       "      <th></th>\n",
       "      <th></th>\n",
       "      <th></th>\n",
       "    </tr>\n",
       "  </thead>\n",
       "  <tbody>\n",
       "    <tr>\n",
       "      <th>AAACATACCAAGCT-1-stimulated</th>\n",
       "      <td>stimulated</td>\n",
       "      <td>1160.0</td>\n",
       "      <td>589</td>\n",
       "      <td>0.0</td>\n",
       "      <td>NK</td>\n",
       "    </tr>\n",
       "    <tr>\n",
       "      <th>AAACATACCCCTAC-1-stimulated</th>\n",
       "      <td>stimulated</td>\n",
       "      <td>1729.0</td>\n",
       "      <td>795</td>\n",
       "      <td>0.0</td>\n",
       "      <td>Dendritic</td>\n",
       "    </tr>\n",
       "    <tr>\n",
       "      <th>AAACATACCCGTAA-1-stimulated</th>\n",
       "      <td>stimulated</td>\n",
       "      <td>1360.0</td>\n",
       "      <td>585</td>\n",
       "      <td>0.0</td>\n",
       "      <td>CD4T</td>\n",
       "    </tr>\n",
       "    <tr>\n",
       "      <th>AAACATACCCTCGT-1-stimulated</th>\n",
       "      <td>stimulated</td>\n",
       "      <td>1442.0</td>\n",
       "      <td>732</td>\n",
       "      <td>0.0</td>\n",
       "      <td>B</td>\n",
       "    </tr>\n",
       "    <tr>\n",
       "      <th>AAACATACGAGGTG-1-stimulated</th>\n",
       "      <td>stimulated</td>\n",
       "      <td>1237.0</td>\n",
       "      <td>546</td>\n",
       "      <td>0.0</td>\n",
       "      <td>CD4T</td>\n",
       "    </tr>\n",
       "    <tr>\n",
       "      <th>...</th>\n",
       "      <td>...</td>\n",
       "      <td>...</td>\n",
       "      <td>...</td>\n",
       "      <td>...</td>\n",
       "      <td>...</td>\n",
       "    </tr>\n",
       "    <tr>\n",
       "      <th>TTTGACTGGCGGAA-1-control</th>\n",
       "      <td>control</td>\n",
       "      <td>2505.0</td>\n",
       "      <td>821</td>\n",
       "      <td>0.0</td>\n",
       "      <td>CD8T</td>\n",
       "    </tr>\n",
       "    <tr>\n",
       "      <th>TTTGACTGTCGTAG-1-control</th>\n",
       "      <td>control</td>\n",
       "      <td>3704.0</td>\n",
       "      <td>1101</td>\n",
       "      <td>0.0</td>\n",
       "      <td>CD14+Mono</td>\n",
       "    </tr>\n",
       "    <tr>\n",
       "      <th>TTTGACTGTTACCT-1-control</th>\n",
       "      <td>control</td>\n",
       "      <td>2133.0</td>\n",
       "      <td>629</td>\n",
       "      <td>0.0</td>\n",
       "      <td>CD14+Mono</td>\n",
       "    </tr>\n",
       "    <tr>\n",
       "      <th>TTTGCATGCTTCGC-1-control</th>\n",
       "      <td>control</td>\n",
       "      <td>2317.0</td>\n",
       "      <td>875</td>\n",
       "      <td>0.0</td>\n",
       "      <td>B</td>\n",
       "    </tr>\n",
       "    <tr>\n",
       "      <th>TTTGCATGGTCCTC-1-control</th>\n",
       "      <td>control</td>\n",
       "      <td>1250.0</td>\n",
       "      <td>531</td>\n",
       "      <td>0.0</td>\n",
       "      <td>B</td>\n",
       "    </tr>\n",
       "  </tbody>\n",
       "</table>\n",
       "<p>16893 rows × 5 columns</p>\n",
       "</div>"
      ],
      "text/plain": [
       "                              condition  n_counts  n_genes  mt_frac  cell_type\n",
       "index                                                                         \n",
       "AAACATACCAAGCT-1-stimulated  stimulated    1160.0      589      0.0         NK\n",
       "AAACATACCCCTAC-1-stimulated  stimulated    1729.0      795      0.0  Dendritic\n",
       "AAACATACCCGTAA-1-stimulated  stimulated    1360.0      585      0.0       CD4T\n",
       "AAACATACCCTCGT-1-stimulated  stimulated    1442.0      732      0.0          B\n",
       "AAACATACGAGGTG-1-stimulated  stimulated    1237.0      546      0.0       CD4T\n",
       "...                                 ...       ...      ...      ...        ...\n",
       "TTTGACTGGCGGAA-1-control        control    2505.0      821      0.0       CD8T\n",
       "TTTGACTGTCGTAG-1-control        control    3704.0     1101      0.0  CD14+Mono\n",
       "TTTGACTGTTACCT-1-control        control    2133.0      629      0.0  CD14+Mono\n",
       "TTTGCATGCTTCGC-1-control        control    2317.0      875      0.0          B\n",
       "TTTGCATGGTCCTC-1-control        control    1250.0      531      0.0          B\n",
       "\n",
       "[16893 rows x 5 columns]"
      ]
     },
     "execution_count": 25,
     "metadata": {},
     "output_type": "execute_result"
    }
   ],
   "source": [
    "train.obs"
   ]
  },
  {
   "cell_type": "code",
   "execution_count": 26,
   "metadata": {},
   "outputs": [],
   "source": [
    "train_new = train[~((train.obs[\"cell_type\"] == \"CD4T\") &\n",
    "                    (train.obs[\"condition\"] == \"stimulated\"))]\n",
    "validation_new = validation[~((validation.obs[\"cell_type\"] == \"CD4T\") & (\n",
    "    validation.obs[\"condition\"] == \"stimulated\"))]"
   ]
  },
  {
   "cell_type": "code",
   "execution_count": null,
   "metadata": {},
   "outputs": [],
   "source": []
  },
  {
   "cell_type": "code",
   "execution_count": 27,
   "metadata": {},
   "outputs": [
    {
     "name": "stdout",
     "output_type": "stream",
     "text": [
      "\n",
      "WARNING: The TensorFlow contrib module will not be included in TensorFlow 2.0.\n",
      "For more information, please see:\n",
      "  * https://github.com/tensorflow/community/blob/master/rfcs/20180907-contrib-sunset.md\n",
      "  * https://github.com/tensorflow/addons\n",
      "If you depend on functionality not listed there, please file an issue.\n",
      "\n",
      "WARNING:tensorflow:From /home/estorrs/miniconda3/envs/scgen/lib/python3.7/site-packages/scgen/models/_vae.py:68: dense (from tensorflow.python.layers.core) is deprecated and will be removed in a future version.\n",
      "Instructions for updating:\n",
      "Use keras.layers.dense instead.\n",
      "WARNING:tensorflow:From /home/estorrs/miniconda3/envs/scgen/lib/python3.7/site-packages/tensorflow/python/framework/op_def_library.py:263: colocate_with (from tensorflow.python.framework.ops) is deprecated and will be removed in a future version.\n",
      "Instructions for updating:\n",
      "Colocations handled automatically by placer.\n",
      "WARNING:tensorflow:From /home/estorrs/miniconda3/envs/scgen/lib/python3.7/site-packages/scgen/models/_vae.py:69: batch_normalization (from tensorflow.python.layers.normalization) is deprecated and will be removed in a future version.\n",
      "Instructions for updating:\n",
      "Use keras.layers.batch_normalization instead.\n",
      "WARNING:tensorflow:From /home/estorrs/miniconda3/envs/scgen/lib/python3.7/site-packages/scgen/models/_vae.py:71: dropout (from tensorflow.python.layers.core) is deprecated and will be removed in a future version.\n",
      "Instructions for updating:\n",
      "Use keras.layers.dropout instead.\n",
      "WARNING:tensorflow:From /home/estorrs/miniconda3/envs/scgen/lib/python3.7/site-packages/tensorflow/python/keras/layers/core.py:143: calling dropout (from tensorflow.python.ops.nn_ops) with keep_prob is deprecated and will be removed in a future version.\n",
      "Instructions for updating:\n",
      "Please use `rate` instead of `keep_prob`. Rate should be set to `rate = 1 - keep_prob`.\n",
      "WARNING:tensorflow:From /home/estorrs/miniconda3/envs/scgen/lib/python3.7/site-packages/tensorflow/python/ops/math_ops.py:3066: to_int32 (from tensorflow.python.ops.math_ops) is deprecated and will be removed in a future version.\n",
      "Instructions for updating:\n",
      "Use tf.cast instead.\n"
     ]
    }
   ],
   "source": [
    "scg = scgen.VAEArith(x_dimension= train.shape[1], model_path=\"/home/estorrs/pollock/models/vae_test\" )"
   ]
  },
  {
   "cell_type": "code",
   "execution_count": 28,
   "metadata": {},
   "outputs": [],
   "source": [
    "scg.train(train_data=train_new, use_validation=True, valid_data=validation_new, n_epochs=10)"
   ]
  },
  {
   "cell_type": "code",
   "execution_count": 29,
   "metadata": {},
   "outputs": [],
   "source": [
    "unperturbed_cd4t = train[((train.obs[\"cell_type\"] == \"CD4T\") & (train.obs[\"condition\"] == \"control\"))]\n"
   ]
  },
  {
   "cell_type": "code",
   "execution_count": 30,
   "metadata": {},
   "outputs": [],
   "source": [
    "pred, delta = scg.predict(adata=train_new, adata_to_predict=unperturbed_cd4t,\n",
    "                          conditions={\"ctrl\": \"control\", \"stim\": \"stimulated\"},\n",
    "                          cell_type_key=\"cell_type\",\n",
    "                          condition_key=\"condition\")"
   ]
  },
  {
   "cell_type": "code",
   "execution_count": 33,
   "metadata": {},
   "outputs": [
    {
     "data": {
      "text/plain": [
       "(2437, 6998)"
      ]
     },
     "execution_count": 33,
     "metadata": {},
     "output_type": "execute_result"
    }
   ],
   "source": [
    "pred.shape"
   ]
  },
  {
   "cell_type": "code",
   "execution_count": 32,
   "metadata": {},
   "outputs": [
    {
     "data": {
      "text/plain": [
       "array([-8.5041428e-01,  7.5491285e-01,  7.1414309e+00,  1.6379387e+00,\n",
       "        1.0854130e+00,  8.1711185e-01, -2.4481521e+00,  1.7262746e+00,\n",
       "       -2.5781548e+00, -2.3019013e+00,  7.2806454e-01, -5.0180864e+00,\n",
       "        1.1831952e+00,  1.6059554e+00,  6.3880239e+00,  2.4951282e+00,\n",
       "       -5.2894431e-01,  3.6908561e-01, -1.4838127e+00, -2.7658358e-02,\n",
       "        8.9996028e-01,  8.5127935e-02,  2.8785080e-02, -4.5098108e-01,\n",
       "       -1.3649546e-01, -5.9999432e-02,  5.0323641e-01, -2.0177613e-01,\n",
       "       -1.7653163e-01,  1.5224887e+00,  1.6287723e+00, -4.0245631e-01,\n",
       "        3.4945824e+00, -5.5778229e-01,  1.0359895e+00, -1.6300678e-03,\n",
       "        3.6535454e+00,  1.1418271e+00,  6.1919892e-01,  2.1394413e+00,\n",
       "        2.5381446e-01, -1.0496867e-01, -6.4871287e-01, -1.8229173e+00,\n",
       "        1.8114012e-02,  4.6955724e+00,  4.0130534e+00,  3.5009532e+00,\n",
       "        5.6932459e+00, -1.2380776e+00, -9.8470521e-01,  2.0337541e+00,\n",
       "        1.4026684e-01, -1.5703748e+00, -1.4709465e-01, -4.6585709e-02,\n",
       "       -1.2823261e-01, -2.2924411e+00, -4.9805462e-01, -5.3150606e-01,\n",
       "       -6.1475259e-01,  4.5228415e+00, -4.6421427e-02, -4.5809221e+00,\n",
       "        6.6539270e-01,  3.2787502e-01,  9.2700458e-01,  1.2227619e+00,\n",
       "        9.3961000e-02, -2.5910859e+00, -3.9683241e-01, -4.2080039e-01,\n",
       "       -1.5847234e+00, -2.2800829e+00,  4.1319685e+00, -7.5225317e-01,\n",
       "       -2.3804889e+00, -5.8378750e-01, -5.6717634e-02, -5.8121759e-01,\n",
       "        8.4859723e-01,  8.4509265e-01, -1.8664652e-01, -2.4399221e-02,\n",
       "       -2.4270754e+00, -2.3860509e+00, -1.6182632e+00,  1.2880492e+00,\n",
       "       -1.6463079e+00, -1.0625796e+00, -2.6624997e+00, -1.9747798e-01,\n",
       "        1.8949864e+00,  2.3460579e+00, -4.9669909e-01, -7.8766990e-01,\n",
       "        2.4104586e+00, -1.0493656e+00, -1.3794756e+00,  1.0927846e+00],\n",
       "      dtype=float32)"
      ]
     },
     "execution_count": 32,
     "metadata": {},
     "output_type": "execute_result"
    }
   ],
   "source": [
    "delta"
   ]
  },
  {
   "cell_type": "code",
   "execution_count": null,
   "metadata": {},
   "outputs": [],
   "source": []
  },
  {
   "cell_type": "code",
   "execution_count": 36,
   "metadata": {},
   "outputs": [
    {
     "data": {
      "text/plain": [
       "array([[ -4.486293  ,  -3.6660016 ,   4.669953  , ...,  -6.7957234 ,\n",
       "          2.2941484 ,   5.6391478 ],\n",
       "       [-10.039941  ,  -1.4098432 ,   8.323889  , ...,   1.1888855 ,\n",
       "          2.5815823 ,  10.248201  ],\n",
       "       [-13.911937  ,   0.59403896,  -0.3205298 , ...,  -3.530912  ,\n",
       "         -2.9683695 ,   2.623416  ],\n",
       "       ...,\n",
       "       [ -9.292835  ,  -8.144408  ,   0.4678088 , ...,   0.86991274,\n",
       "          3.1019385 ,  -1.4219899 ],\n",
       "       [ -8.072471  ,  -3.1713877 ,  -4.856627  , ...,  -6.4134064 ,\n",
       "          0.47653517,   4.1115165 ],\n",
       "       [ -4.4804125 ,  -1.6973197 ,  -7.1387253 , ...,   4.548975  ,\n",
       "         -0.22458856,   0.4275953 ]], dtype=float32)"
      ]
     },
     "execution_count": 36,
     "metadata": {},
     "output_type": "execute_result"
    }
   ],
   "source": [
    "train_embeddings = scg.to_latent(train_new.X.toarray())\n",
    "train_embeddings = scg.to_latent(train_new.X.toarray())"
   ]
  },
  {
   "cell_type": "code",
   "execution_count": 35,
   "metadata": {},
   "outputs": [
    {
     "data": {
      "text/plain": [
       "<13766x6998 sparse matrix of type '<class 'numpy.float32'>'\n",
       "\twith 4577925 stored elements in Compressed Sparse Row format>"
      ]
     },
     "execution_count": 35,
     "metadata": {},
     "output_type": "execute_result"
    }
   ],
   "source": []
  },
  {
   "cell_type": "code",
   "execution_count": 72,
   "metadata": {},
   "outputs": [
    {
     "data": {
      "text/plain": [
       "{0.0,\n",
       " 0.9476892,\n",
       " 1.4253907,\n",
       " 1.747324,\n",
       " 1.990469,\n",
       " 2.185906,\n",
       " 2.3493207,\n",
       " 2.489744,\n",
       " 2.612855,\n",
       " 2.9111083,\n",
       " 2.9935746,\n",
       " 3.2066462,\n",
       " 4.5454707}"
      ]
     },
     "execution_count": 72,
     "metadata": {},
     "output_type": "execute_result"
    }
   ],
   "source": [
    "set(train_new.X[0].toarray().flatten())"
   ]
  },
  {
   "cell_type": "code",
   "execution_count": null,
   "metadata": {},
   "outputs": [],
   "source": []
  }
 ],
 "metadata": {
  "kernelspec": {
   "display_name": "Python 3",
   "language": "python",
   "name": "python3"
  },
  "language_info": {
   "codemirror_mode": {
    "name": "ipython",
    "version": 3
   },
   "file_extension": ".py",
   "mimetype": "text/x-python",
   "name": "python",
   "nbconvert_exporter": "python",
   "pygments_lexer": "ipython3",
   "version": "3.7.6"
  }
 },
 "nbformat": 4,
 "nbformat_minor": 4
}
