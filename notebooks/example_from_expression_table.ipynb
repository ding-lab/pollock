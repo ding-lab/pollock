{
 "cells": [
  {
   "cell_type": "code",
   "execution_count": 42,
   "metadata": {},
   "outputs": [],
   "source": [
    "import logging\n",
    "import os\n",
    "import random\n",
    "from collections import Counter\n",
    "\n",
    "import anndata\n",
    "import numpy as np\n",
    "import pandas as pd\n",
    "import scanpy as sc\n",
    "import matplotlib.pyplot as plt\n",
    "\n",
    "import pollock\n",
    "from pollock.models.model import PollockDataset, PollockModel, load_from_directory\n",
    "import pollock.models.analysis as pollock_analysis"
   ]
  },
  {
   "cell_type": "code",
   "execution_count": 2,
   "metadata": {},
   "outputs": [],
   "source": [
    "%load_ext autoreload"
   ]
  },
  {
   "cell_type": "code",
   "execution_count": 34,
   "metadata": {},
   "outputs": [],
   "source": [
    "%autoreload 2"
   ]
  },
  {
   "cell_type": "markdown",
   "metadata": {},
   "source": [
    "## load in expression table and labels"
   ]
  },
  {
   "cell_type": "code",
   "execution_count": 4,
   "metadata": {},
   "outputs": [
    {
     "data": {
      "text/html": [
       "<div>\n",
       "<style scoped>\n",
       "    .dataframe tbody tr th:only-of-type {\n",
       "        vertical-align: middle;\n",
       "    }\n",
       "\n",
       "    .dataframe tbody tr th {\n",
       "        vertical-align: top;\n",
       "    }\n",
       "\n",
       "    .dataframe thead th {\n",
       "        text-align: right;\n",
       "    }\n",
       "</style>\n",
       "<table border=\"1\" class=\"dataframe\">\n",
       "  <thead>\n",
       "    <tr style=\"text-align: right;\">\n",
       "      <th></th>\n",
       "      <th>Unnamed: 0</th>\n",
       "      <th>0610005C13Rik</th>\n",
       "      <th>0610006L08Rik</th>\n",
       "      <th>0610007P14Rik</th>\n",
       "      <th>0610009B22Rik</th>\n",
       "      <th>0610009E02Rik</th>\n",
       "      <th>0610009L18Rik</th>\n",
       "      <th>0610009O20Rik</th>\n",
       "      <th>0610010B08Rik</th>\n",
       "      <th>0610010F05Rik</th>\n",
       "      <th>...</th>\n",
       "      <th>Zxdb</th>\n",
       "      <th>Zxdc</th>\n",
       "      <th>Zyg11a</th>\n",
       "      <th>Zyg11b</th>\n",
       "      <th>Zyx</th>\n",
       "      <th>Zzef1</th>\n",
       "      <th>Zzz3</th>\n",
       "      <th>a</th>\n",
       "      <th>l7Rn6</th>\n",
       "      <th>n-R5s136</th>\n",
       "    </tr>\n",
       "  </thead>\n",
       "  <tbody>\n",
       "    <tr>\n",
       "      <th>0</th>\n",
       "      <td>F1S4_160108_001_A01</td>\n",
       "      <td>0</td>\n",
       "      <td>0</td>\n",
       "      <td>79</td>\n",
       "      <td>145</td>\n",
       "      <td>1</td>\n",
       "      <td>46</td>\n",
       "      <td>123</td>\n",
       "      <td>0</td>\n",
       "      <td>0</td>\n",
       "      <td>...</td>\n",
       "      <td>0</td>\n",
       "      <td>0</td>\n",
       "      <td>0</td>\n",
       "      <td>78</td>\n",
       "      <td>0</td>\n",
       "      <td>36</td>\n",
       "      <td>1</td>\n",
       "      <td>0</td>\n",
       "      <td>190</td>\n",
       "      <td>0</td>\n",
       "    </tr>\n",
       "    <tr>\n",
       "      <th>1</th>\n",
       "      <td>F1S4_160108_001_B01</td>\n",
       "      <td>0</td>\n",
       "      <td>0</td>\n",
       "      <td>123</td>\n",
       "      <td>178</td>\n",
       "      <td>26</td>\n",
       "      <td>23</td>\n",
       "      <td>2</td>\n",
       "      <td>0</td>\n",
       "      <td>337</td>\n",
       "      <td>...</td>\n",
       "      <td>0</td>\n",
       "      <td>0</td>\n",
       "      <td>0</td>\n",
       "      <td>69</td>\n",
       "      <td>0</td>\n",
       "      <td>78</td>\n",
       "      <td>29</td>\n",
       "      <td>0</td>\n",
       "      <td>179</td>\n",
       "      <td>0</td>\n",
       "    </tr>\n",
       "    <tr>\n",
       "      <th>2</th>\n",
       "      <td>F1S4_160108_001_C01</td>\n",
       "      <td>0</td>\n",
       "      <td>0</td>\n",
       "      <td>89</td>\n",
       "      <td>69</td>\n",
       "      <td>0</td>\n",
       "      <td>13</td>\n",
       "      <td>29</td>\n",
       "      <td>0</td>\n",
       "      <td>112</td>\n",
       "      <td>...</td>\n",
       "      <td>0</td>\n",
       "      <td>0</td>\n",
       "      <td>2</td>\n",
       "      <td>273</td>\n",
       "      <td>38</td>\n",
       "      <td>110</td>\n",
       "      <td>81</td>\n",
       "      <td>0</td>\n",
       "      <td>178</td>\n",
       "      <td>0</td>\n",
       "    </tr>\n",
       "    <tr>\n",
       "      <th>3</th>\n",
       "      <td>F1S4_160108_001_D01</td>\n",
       "      <td>0</td>\n",
       "      <td>0</td>\n",
       "      <td>115</td>\n",
       "      <td>0</td>\n",
       "      <td>0</td>\n",
       "      <td>0</td>\n",
       "      <td>50</td>\n",
       "      <td>0</td>\n",
       "      <td>35</td>\n",
       "      <td>...</td>\n",
       "      <td>0</td>\n",
       "      <td>0</td>\n",
       "      <td>0</td>\n",
       "      <td>151</td>\n",
       "      <td>165</td>\n",
       "      <td>67</td>\n",
       "      <td>30</td>\n",
       "      <td>0</td>\n",
       "      <td>110</td>\n",
       "      <td>0</td>\n",
       "    </tr>\n",
       "    <tr>\n",
       "      <th>4</th>\n",
       "      <td>F1S4_160108_001_E01</td>\n",
       "      <td>0</td>\n",
       "      <td>0</td>\n",
       "      <td>402</td>\n",
       "      <td>208</td>\n",
       "      <td>0</td>\n",
       "      <td>42</td>\n",
       "      <td>0</td>\n",
       "      <td>0</td>\n",
       "      <td>0</td>\n",
       "      <td>...</td>\n",
       "      <td>20</td>\n",
       "      <td>0</td>\n",
       "      <td>1</td>\n",
       "      <td>99</td>\n",
       "      <td>50</td>\n",
       "      <td>83</td>\n",
       "      <td>69</td>\n",
       "      <td>0</td>\n",
       "      <td>335</td>\n",
       "      <td>0</td>\n",
       "    </tr>\n",
       "    <tr>\n",
       "      <th>...</th>\n",
       "      <td>...</td>\n",
       "      <td>...</td>\n",
       "      <td>...</td>\n",
       "      <td>...</td>\n",
       "      <td>...</td>\n",
       "      <td>...</td>\n",
       "      <td>...</td>\n",
       "      <td>...</td>\n",
       "      <td>...</td>\n",
       "      <td>...</td>\n",
       "      <td>...</td>\n",
       "      <td>...</td>\n",
       "      <td>...</td>\n",
       "      <td>...</td>\n",
       "      <td>...</td>\n",
       "      <td>...</td>\n",
       "      <td>...</td>\n",
       "      <td>...</td>\n",
       "      <td>...</td>\n",
       "      <td>...</td>\n",
       "      <td>...</td>\n",
       "    </tr>\n",
       "    <tr>\n",
       "      <th>12827</th>\n",
       "      <td>FYS4_171004_103_H01</td>\n",
       "      <td>0</td>\n",
       "      <td>0</td>\n",
       "      <td>45</td>\n",
       "      <td>82</td>\n",
       "      <td>0</td>\n",
       "      <td>10</td>\n",
       "      <td>0</td>\n",
       "      <td>0</td>\n",
       "      <td>23</td>\n",
       "      <td>...</td>\n",
       "      <td>0</td>\n",
       "      <td>0</td>\n",
       "      <td>0</td>\n",
       "      <td>115</td>\n",
       "      <td>0</td>\n",
       "      <td>25</td>\n",
       "      <td>0</td>\n",
       "      <td>0</td>\n",
       "      <td>143</td>\n",
       "      <td>0</td>\n",
       "    </tr>\n",
       "    <tr>\n",
       "      <th>12828</th>\n",
       "      <td>FYS4_171004_104_A01</td>\n",
       "      <td>0</td>\n",
       "      <td>0</td>\n",
       "      <td>88</td>\n",
       "      <td>79</td>\n",
       "      <td>0</td>\n",
       "      <td>0</td>\n",
       "      <td>1</td>\n",
       "      <td>0</td>\n",
       "      <td>95</td>\n",
       "      <td>...</td>\n",
       "      <td>0</td>\n",
       "      <td>17</td>\n",
       "      <td>0</td>\n",
       "      <td>92</td>\n",
       "      <td>0</td>\n",
       "      <td>1</td>\n",
       "      <td>26</td>\n",
       "      <td>0</td>\n",
       "      <td>94</td>\n",
       "      <td>0</td>\n",
       "    </tr>\n",
       "    <tr>\n",
       "      <th>12829</th>\n",
       "      <td>FYS4_171004_104_B01</td>\n",
       "      <td>0</td>\n",
       "      <td>0</td>\n",
       "      <td>81</td>\n",
       "      <td>105</td>\n",
       "      <td>0</td>\n",
       "      <td>0</td>\n",
       "      <td>78</td>\n",
       "      <td>0</td>\n",
       "      <td>104</td>\n",
       "      <td>...</td>\n",
       "      <td>0</td>\n",
       "      <td>10</td>\n",
       "      <td>0</td>\n",
       "      <td>77</td>\n",
       "      <td>7</td>\n",
       "      <td>62</td>\n",
       "      <td>0</td>\n",
       "      <td>0</td>\n",
       "      <td>147</td>\n",
       "      <td>0</td>\n",
       "    </tr>\n",
       "    <tr>\n",
       "      <th>12830</th>\n",
       "      <td>FYS4_171004_104_C01</td>\n",
       "      <td>0</td>\n",
       "      <td>0</td>\n",
       "      <td>187</td>\n",
       "      <td>52</td>\n",
       "      <td>0</td>\n",
       "      <td>8</td>\n",
       "      <td>4</td>\n",
       "      <td>0</td>\n",
       "      <td>8</td>\n",
       "      <td>...</td>\n",
       "      <td>0</td>\n",
       "      <td>24</td>\n",
       "      <td>0</td>\n",
       "      <td>54</td>\n",
       "      <td>67</td>\n",
       "      <td>0</td>\n",
       "      <td>70</td>\n",
       "      <td>0</td>\n",
       "      <td>133</td>\n",
       "      <td>0</td>\n",
       "    </tr>\n",
       "    <tr>\n",
       "      <th>12831</th>\n",
       "      <td>FYS4_171004_104_G01</td>\n",
       "      <td>0</td>\n",
       "      <td>0</td>\n",
       "      <td>112</td>\n",
       "      <td>184</td>\n",
       "      <td>25</td>\n",
       "      <td>0</td>\n",
       "      <td>0</td>\n",
       "      <td>0</td>\n",
       "      <td>70</td>\n",
       "      <td>...</td>\n",
       "      <td>0</td>\n",
       "      <td>0</td>\n",
       "      <td>0</td>\n",
       "      <td>32</td>\n",
       "      <td>93</td>\n",
       "      <td>60</td>\n",
       "      <td>0</td>\n",
       "      <td>0</td>\n",
       "      <td>282</td>\n",
       "      <td>0</td>\n",
       "    </tr>\n",
       "  </tbody>\n",
       "</table>\n",
       "<p>12832 rows × 42626 columns</p>\n",
       "</div>"
      ],
      "text/plain": [
       "                Unnamed: 0  0610005C13Rik  0610006L08Rik  0610007P14Rik  \\\n",
       "0      F1S4_160108_001_A01              0              0             79   \n",
       "1      F1S4_160108_001_B01              0              0            123   \n",
       "2      F1S4_160108_001_C01              0              0             89   \n",
       "3      F1S4_160108_001_D01              0              0            115   \n",
       "4      F1S4_160108_001_E01              0              0            402   \n",
       "...                    ...            ...            ...            ...   \n",
       "12827  FYS4_171004_103_H01              0              0             45   \n",
       "12828  FYS4_171004_104_A01              0              0             88   \n",
       "12829  FYS4_171004_104_B01              0              0             81   \n",
       "12830  FYS4_171004_104_C01              0              0            187   \n",
       "12831  FYS4_171004_104_G01              0              0            112   \n",
       "\n",
       "       0610009B22Rik  0610009E02Rik  0610009L18Rik  0610009O20Rik  \\\n",
       "0                145              1             46            123   \n",
       "1                178             26             23              2   \n",
       "2                 69              0             13             29   \n",
       "3                  0              0              0             50   \n",
       "4                208              0             42              0   \n",
       "...              ...            ...            ...            ...   \n",
       "12827             82              0             10              0   \n",
       "12828             79              0              0              1   \n",
       "12829            105              0              0             78   \n",
       "12830             52              0              8              4   \n",
       "12831            184             25              0              0   \n",
       "\n",
       "       0610010B08Rik  0610010F05Rik  ...  Zxdb  Zxdc  Zyg11a  Zyg11b  Zyx  \\\n",
       "0                  0              0  ...     0     0       0      78    0   \n",
       "1                  0            337  ...     0     0       0      69    0   \n",
       "2                  0            112  ...     0     0       2     273   38   \n",
       "3                  0             35  ...     0     0       0     151  165   \n",
       "4                  0              0  ...    20     0       1      99   50   \n",
       "...              ...            ...  ...   ...   ...     ...     ...  ...   \n",
       "12827              0             23  ...     0     0       0     115    0   \n",
       "12828              0             95  ...     0    17       0      92    0   \n",
       "12829              0            104  ...     0    10       0      77    7   \n",
       "12830              0              8  ...     0    24       0      54   67   \n",
       "12831              0             70  ...     0     0       0      32   93   \n",
       "\n",
       "       Zzef1  Zzz3  a  l7Rn6  n-R5s136  \n",
       "0         36     1  0    190         0  \n",
       "1         78    29  0    179         0  \n",
       "2        110    81  0    178         0  \n",
       "3         67    30  0    110         0  \n",
       "4         83    69  0    335         0  \n",
       "...      ...   ... ..    ...       ...  \n",
       "12827     25     0  0    143         0  \n",
       "12828      1    26  0     94         0  \n",
       "12829     62     0  0    147         0  \n",
       "12830      0    70  0    133         0  \n",
       "12831     60     0  0    282         0  \n",
       "\n",
       "[12832 rows x 42626 columns]"
      ]
     },
     "execution_count": 4,
     "metadata": {},
     "output_type": "execute_result"
    }
   ],
   "source": [
    "%%time\n",
    "expression_df = pd.read_csv(\n",
    "    '/home/estorrs/data/single_cell_classification/Intra-dataset/AMB/Filtered_mouse_allen_brain_data.csv',\n",
    "    sep=',')\n",
    "expression_df"
   ]
  },
  {
   "cell_type": "code",
   "execution_count": 9,
   "metadata": {},
   "outputs": [
    {
     "data": {
      "text/html": [
       "<div>\n",
       "<style scoped>\n",
       "    .dataframe tbody tr th:only-of-type {\n",
       "        vertical-align: middle;\n",
       "    }\n",
       "\n",
       "    .dataframe tbody tr th {\n",
       "        vertical-align: top;\n",
       "    }\n",
       "\n",
       "    .dataframe thead th {\n",
       "        text-align: right;\n",
       "    }\n",
       "</style>\n",
       "<table border=\"1\" class=\"dataframe\">\n",
       "  <thead>\n",
       "    <tr style=\"text-align: right;\">\n",
       "      <th></th>\n",
       "      <th>0610005C13Rik</th>\n",
       "      <th>0610006L08Rik</th>\n",
       "      <th>0610007P14Rik</th>\n",
       "      <th>0610009B22Rik</th>\n",
       "      <th>0610009E02Rik</th>\n",
       "      <th>0610009L18Rik</th>\n",
       "      <th>0610009O20Rik</th>\n",
       "      <th>0610010B08Rik</th>\n",
       "      <th>0610010F05Rik</th>\n",
       "      <th>0610010K14Rik</th>\n",
       "      <th>...</th>\n",
       "      <th>Zxdb</th>\n",
       "      <th>Zxdc</th>\n",
       "      <th>Zyg11a</th>\n",
       "      <th>Zyg11b</th>\n",
       "      <th>Zyx</th>\n",
       "      <th>Zzef1</th>\n",
       "      <th>Zzz3</th>\n",
       "      <th>a</th>\n",
       "      <th>l7Rn6</th>\n",
       "      <th>n-R5s136</th>\n",
       "    </tr>\n",
       "    <tr>\n",
       "      <th>Unnamed: 0</th>\n",
       "      <th></th>\n",
       "      <th></th>\n",
       "      <th></th>\n",
       "      <th></th>\n",
       "      <th></th>\n",
       "      <th></th>\n",
       "      <th></th>\n",
       "      <th></th>\n",
       "      <th></th>\n",
       "      <th></th>\n",
       "      <th></th>\n",
       "      <th></th>\n",
       "      <th></th>\n",
       "      <th></th>\n",
       "      <th></th>\n",
       "      <th></th>\n",
       "      <th></th>\n",
       "      <th></th>\n",
       "      <th></th>\n",
       "      <th></th>\n",
       "      <th></th>\n",
       "    </tr>\n",
       "  </thead>\n",
       "  <tbody>\n",
       "    <tr>\n",
       "      <th>F1S4_160108_001_A01</th>\n",
       "      <td>0</td>\n",
       "      <td>0</td>\n",
       "      <td>79</td>\n",
       "      <td>145</td>\n",
       "      <td>1</td>\n",
       "      <td>46</td>\n",
       "      <td>123</td>\n",
       "      <td>0</td>\n",
       "      <td>0</td>\n",
       "      <td>33</td>\n",
       "      <td>...</td>\n",
       "      <td>0</td>\n",
       "      <td>0</td>\n",
       "      <td>0</td>\n",
       "      <td>78</td>\n",
       "      <td>0</td>\n",
       "      <td>36</td>\n",
       "      <td>1</td>\n",
       "      <td>0</td>\n",
       "      <td>190</td>\n",
       "      <td>0</td>\n",
       "    </tr>\n",
       "    <tr>\n",
       "      <th>F1S4_160108_001_B01</th>\n",
       "      <td>0</td>\n",
       "      <td>0</td>\n",
       "      <td>123</td>\n",
       "      <td>178</td>\n",
       "      <td>26</td>\n",
       "      <td>23</td>\n",
       "      <td>2</td>\n",
       "      <td>0</td>\n",
       "      <td>337</td>\n",
       "      <td>318</td>\n",
       "      <td>...</td>\n",
       "      <td>0</td>\n",
       "      <td>0</td>\n",
       "      <td>0</td>\n",
       "      <td>69</td>\n",
       "      <td>0</td>\n",
       "      <td>78</td>\n",
       "      <td>29</td>\n",
       "      <td>0</td>\n",
       "      <td>179</td>\n",
       "      <td>0</td>\n",
       "    </tr>\n",
       "    <tr>\n",
       "      <th>F1S4_160108_001_C01</th>\n",
       "      <td>0</td>\n",
       "      <td>0</td>\n",
       "      <td>89</td>\n",
       "      <td>69</td>\n",
       "      <td>0</td>\n",
       "      <td>13</td>\n",
       "      <td>29</td>\n",
       "      <td>0</td>\n",
       "      <td>112</td>\n",
       "      <td>76</td>\n",
       "      <td>...</td>\n",
       "      <td>0</td>\n",
       "      <td>0</td>\n",
       "      <td>2</td>\n",
       "      <td>273</td>\n",
       "      <td>38</td>\n",
       "      <td>110</td>\n",
       "      <td>81</td>\n",
       "      <td>0</td>\n",
       "      <td>178</td>\n",
       "      <td>0</td>\n",
       "    </tr>\n",
       "    <tr>\n",
       "      <th>F1S4_160108_001_D01</th>\n",
       "      <td>0</td>\n",
       "      <td>0</td>\n",
       "      <td>115</td>\n",
       "      <td>0</td>\n",
       "      <td>0</td>\n",
       "      <td>0</td>\n",
       "      <td>50</td>\n",
       "      <td>0</td>\n",
       "      <td>35</td>\n",
       "      <td>18</td>\n",
       "      <td>...</td>\n",
       "      <td>0</td>\n",
       "      <td>0</td>\n",
       "      <td>0</td>\n",
       "      <td>151</td>\n",
       "      <td>165</td>\n",
       "      <td>67</td>\n",
       "      <td>30</td>\n",
       "      <td>0</td>\n",
       "      <td>110</td>\n",
       "      <td>0</td>\n",
       "    </tr>\n",
       "    <tr>\n",
       "      <th>F1S4_160108_001_E01</th>\n",
       "      <td>0</td>\n",
       "      <td>0</td>\n",
       "      <td>402</td>\n",
       "      <td>208</td>\n",
       "      <td>0</td>\n",
       "      <td>42</td>\n",
       "      <td>0</td>\n",
       "      <td>0</td>\n",
       "      <td>0</td>\n",
       "      <td>42</td>\n",
       "      <td>...</td>\n",
       "      <td>20</td>\n",
       "      <td>0</td>\n",
       "      <td>1</td>\n",
       "      <td>99</td>\n",
       "      <td>50</td>\n",
       "      <td>83</td>\n",
       "      <td>69</td>\n",
       "      <td>0</td>\n",
       "      <td>335</td>\n",
       "      <td>0</td>\n",
       "    </tr>\n",
       "    <tr>\n",
       "      <th>...</th>\n",
       "      <td>...</td>\n",
       "      <td>...</td>\n",
       "      <td>...</td>\n",
       "      <td>...</td>\n",
       "      <td>...</td>\n",
       "      <td>...</td>\n",
       "      <td>...</td>\n",
       "      <td>...</td>\n",
       "      <td>...</td>\n",
       "      <td>...</td>\n",
       "      <td>...</td>\n",
       "      <td>...</td>\n",
       "      <td>...</td>\n",
       "      <td>...</td>\n",
       "      <td>...</td>\n",
       "      <td>...</td>\n",
       "      <td>...</td>\n",
       "      <td>...</td>\n",
       "      <td>...</td>\n",
       "      <td>...</td>\n",
       "      <td>...</td>\n",
       "    </tr>\n",
       "    <tr>\n",
       "      <th>FYS4_171004_103_H01</th>\n",
       "      <td>0</td>\n",
       "      <td>0</td>\n",
       "      <td>45</td>\n",
       "      <td>82</td>\n",
       "      <td>0</td>\n",
       "      <td>10</td>\n",
       "      <td>0</td>\n",
       "      <td>0</td>\n",
       "      <td>23</td>\n",
       "      <td>64</td>\n",
       "      <td>...</td>\n",
       "      <td>0</td>\n",
       "      <td>0</td>\n",
       "      <td>0</td>\n",
       "      <td>115</td>\n",
       "      <td>0</td>\n",
       "      <td>25</td>\n",
       "      <td>0</td>\n",
       "      <td>0</td>\n",
       "      <td>143</td>\n",
       "      <td>0</td>\n",
       "    </tr>\n",
       "    <tr>\n",
       "      <th>FYS4_171004_104_A01</th>\n",
       "      <td>0</td>\n",
       "      <td>0</td>\n",
       "      <td>88</td>\n",
       "      <td>79</td>\n",
       "      <td>0</td>\n",
       "      <td>0</td>\n",
       "      <td>1</td>\n",
       "      <td>0</td>\n",
       "      <td>95</td>\n",
       "      <td>52</td>\n",
       "      <td>...</td>\n",
       "      <td>0</td>\n",
       "      <td>17</td>\n",
       "      <td>0</td>\n",
       "      <td>92</td>\n",
       "      <td>0</td>\n",
       "      <td>1</td>\n",
       "      <td>26</td>\n",
       "      <td>0</td>\n",
       "      <td>94</td>\n",
       "      <td>0</td>\n",
       "    </tr>\n",
       "    <tr>\n",
       "      <th>FYS4_171004_104_B01</th>\n",
       "      <td>0</td>\n",
       "      <td>0</td>\n",
       "      <td>81</td>\n",
       "      <td>105</td>\n",
       "      <td>0</td>\n",
       "      <td>0</td>\n",
       "      <td>78</td>\n",
       "      <td>0</td>\n",
       "      <td>104</td>\n",
       "      <td>100</td>\n",
       "      <td>...</td>\n",
       "      <td>0</td>\n",
       "      <td>10</td>\n",
       "      <td>0</td>\n",
       "      <td>77</td>\n",
       "      <td>7</td>\n",
       "      <td>62</td>\n",
       "      <td>0</td>\n",
       "      <td>0</td>\n",
       "      <td>147</td>\n",
       "      <td>0</td>\n",
       "    </tr>\n",
       "    <tr>\n",
       "      <th>FYS4_171004_104_C01</th>\n",
       "      <td>0</td>\n",
       "      <td>0</td>\n",
       "      <td>187</td>\n",
       "      <td>52</td>\n",
       "      <td>0</td>\n",
       "      <td>8</td>\n",
       "      <td>4</td>\n",
       "      <td>0</td>\n",
       "      <td>8</td>\n",
       "      <td>67</td>\n",
       "      <td>...</td>\n",
       "      <td>0</td>\n",
       "      <td>24</td>\n",
       "      <td>0</td>\n",
       "      <td>54</td>\n",
       "      <td>67</td>\n",
       "      <td>0</td>\n",
       "      <td>70</td>\n",
       "      <td>0</td>\n",
       "      <td>133</td>\n",
       "      <td>0</td>\n",
       "    </tr>\n",
       "    <tr>\n",
       "      <th>FYS4_171004_104_G01</th>\n",
       "      <td>0</td>\n",
       "      <td>0</td>\n",
       "      <td>112</td>\n",
       "      <td>184</td>\n",
       "      <td>25</td>\n",
       "      <td>0</td>\n",
       "      <td>0</td>\n",
       "      <td>0</td>\n",
       "      <td>70</td>\n",
       "      <td>40</td>\n",
       "      <td>...</td>\n",
       "      <td>0</td>\n",
       "      <td>0</td>\n",
       "      <td>0</td>\n",
       "      <td>32</td>\n",
       "      <td>93</td>\n",
       "      <td>60</td>\n",
       "      <td>0</td>\n",
       "      <td>0</td>\n",
       "      <td>282</td>\n",
       "      <td>0</td>\n",
       "    </tr>\n",
       "  </tbody>\n",
       "</table>\n",
       "<p>12832 rows × 42625 columns</p>\n",
       "</div>"
      ],
      "text/plain": [
       "                     0610005C13Rik  0610006L08Rik  0610007P14Rik  \\\n",
       "Unnamed: 0                                                         \n",
       "F1S4_160108_001_A01              0              0             79   \n",
       "F1S4_160108_001_B01              0              0            123   \n",
       "F1S4_160108_001_C01              0              0             89   \n",
       "F1S4_160108_001_D01              0              0            115   \n",
       "F1S4_160108_001_E01              0              0            402   \n",
       "...                            ...            ...            ...   \n",
       "FYS4_171004_103_H01              0              0             45   \n",
       "FYS4_171004_104_A01              0              0             88   \n",
       "FYS4_171004_104_B01              0              0             81   \n",
       "FYS4_171004_104_C01              0              0            187   \n",
       "FYS4_171004_104_G01              0              0            112   \n",
       "\n",
       "                     0610009B22Rik  0610009E02Rik  0610009L18Rik  \\\n",
       "Unnamed: 0                                                         \n",
       "F1S4_160108_001_A01            145              1             46   \n",
       "F1S4_160108_001_B01            178             26             23   \n",
       "F1S4_160108_001_C01             69              0             13   \n",
       "F1S4_160108_001_D01              0              0              0   \n",
       "F1S4_160108_001_E01            208              0             42   \n",
       "...                            ...            ...            ...   \n",
       "FYS4_171004_103_H01             82              0             10   \n",
       "FYS4_171004_104_A01             79              0              0   \n",
       "FYS4_171004_104_B01            105              0              0   \n",
       "FYS4_171004_104_C01             52              0              8   \n",
       "FYS4_171004_104_G01            184             25              0   \n",
       "\n",
       "                     0610009O20Rik  0610010B08Rik  0610010F05Rik  \\\n",
       "Unnamed: 0                                                         \n",
       "F1S4_160108_001_A01            123              0              0   \n",
       "F1S4_160108_001_B01              2              0            337   \n",
       "F1S4_160108_001_C01             29              0            112   \n",
       "F1S4_160108_001_D01             50              0             35   \n",
       "F1S4_160108_001_E01              0              0              0   \n",
       "...                            ...            ...            ...   \n",
       "FYS4_171004_103_H01              0              0             23   \n",
       "FYS4_171004_104_A01              1              0             95   \n",
       "FYS4_171004_104_B01             78              0            104   \n",
       "FYS4_171004_104_C01              4              0              8   \n",
       "FYS4_171004_104_G01              0              0             70   \n",
       "\n",
       "                     0610010K14Rik  ...  Zxdb  Zxdc  Zyg11a  Zyg11b  Zyx  \\\n",
       "Unnamed: 0                          ...                                    \n",
       "F1S4_160108_001_A01             33  ...     0     0       0      78    0   \n",
       "F1S4_160108_001_B01            318  ...     0     0       0      69    0   \n",
       "F1S4_160108_001_C01             76  ...     0     0       2     273   38   \n",
       "F1S4_160108_001_D01             18  ...     0     0       0     151  165   \n",
       "F1S4_160108_001_E01             42  ...    20     0       1      99   50   \n",
       "...                            ...  ...   ...   ...     ...     ...  ...   \n",
       "FYS4_171004_103_H01             64  ...     0     0       0     115    0   \n",
       "FYS4_171004_104_A01             52  ...     0    17       0      92    0   \n",
       "FYS4_171004_104_B01            100  ...     0    10       0      77    7   \n",
       "FYS4_171004_104_C01             67  ...     0    24       0      54   67   \n",
       "FYS4_171004_104_G01             40  ...     0     0       0      32   93   \n",
       "\n",
       "                     Zzef1  Zzz3  a  l7Rn6  n-R5s136  \n",
       "Unnamed: 0                                            \n",
       "F1S4_160108_001_A01     36     1  0    190         0  \n",
       "F1S4_160108_001_B01     78    29  0    179         0  \n",
       "F1S4_160108_001_C01    110    81  0    178         0  \n",
       "F1S4_160108_001_D01     67    30  0    110         0  \n",
       "F1S4_160108_001_E01     83    69  0    335         0  \n",
       "...                    ...   ... ..    ...       ...  \n",
       "FYS4_171004_103_H01     25     0  0    143         0  \n",
       "FYS4_171004_104_A01      1    26  0     94         0  \n",
       "FYS4_171004_104_B01     62     0  0    147         0  \n",
       "FYS4_171004_104_C01      0    70  0    133         0  \n",
       "FYS4_171004_104_G01     60     0  0    282         0  \n",
       "\n",
       "[12832 rows x 42625 columns]"
      ]
     },
     "execution_count": 9,
     "metadata": {},
     "output_type": "execute_result"
    }
   ],
   "source": [
    "expression_df = expression_df.set_index('Unnamed: 0')\n",
    "expression_df"
   ]
  },
  {
   "cell_type": "code",
   "execution_count": 5,
   "metadata": {},
   "outputs": [
    {
     "data": {
      "text/html": [
       "<div>\n",
       "<style scoped>\n",
       "    .dataframe tbody tr th:only-of-type {\n",
       "        vertical-align: middle;\n",
       "    }\n",
       "\n",
       "    .dataframe tbody tr th {\n",
       "        vertical-align: top;\n",
       "    }\n",
       "\n",
       "    .dataframe thead th {\n",
       "        text-align: right;\n",
       "    }\n",
       "</style>\n",
       "<table border=\"1\" class=\"dataframe\">\n",
       "  <thead>\n",
       "    <tr style=\"text-align: right;\">\n",
       "      <th></th>\n",
       "      <th>Class</th>\n",
       "      <th>Subclass</th>\n",
       "      <th>cluster</th>\n",
       "    </tr>\n",
       "  </thead>\n",
       "  <tbody>\n",
       "    <tr>\n",
       "      <th>0</th>\n",
       "      <td>GABAergic</td>\n",
       "      <td>Vip</td>\n",
       "      <td>Vip Arhgap36 Hmcn1</td>\n",
       "    </tr>\n",
       "    <tr>\n",
       "      <th>1</th>\n",
       "      <td>GABAergic</td>\n",
       "      <td>Lamp5</td>\n",
       "      <td>Lamp5 Lsp1</td>\n",
       "    </tr>\n",
       "    <tr>\n",
       "      <th>2</th>\n",
       "      <td>GABAergic</td>\n",
       "      <td>Lamp5</td>\n",
       "      <td>Lamp5 Lsp1</td>\n",
       "    </tr>\n",
       "    <tr>\n",
       "      <th>3</th>\n",
       "      <td>GABAergic</td>\n",
       "      <td>Vip</td>\n",
       "      <td>Vip Crispld2 Htr2c</td>\n",
       "    </tr>\n",
       "    <tr>\n",
       "      <th>4</th>\n",
       "      <td>GABAergic</td>\n",
       "      <td>Lamp5</td>\n",
       "      <td>Lamp5 Plch2 Dock5</td>\n",
       "    </tr>\n",
       "    <tr>\n",
       "      <th>...</th>\n",
       "      <td>...</td>\n",
       "      <td>...</td>\n",
       "      <td>...</td>\n",
       "    </tr>\n",
       "    <tr>\n",
       "      <th>12827</th>\n",
       "      <td>Glutamatergic</td>\n",
       "      <td>L5 PT</td>\n",
       "      <td>L5 PT VISp Chrna6</td>\n",
       "    </tr>\n",
       "    <tr>\n",
       "      <th>12828</th>\n",
       "      <td>GABAergic</td>\n",
       "      <td>Sncg</td>\n",
       "      <td>Sncg Gpr50</td>\n",
       "    </tr>\n",
       "    <tr>\n",
       "      <th>12829</th>\n",
       "      <td>GABAergic</td>\n",
       "      <td>Pvalb</td>\n",
       "      <td>Pvalb Gpr149 Islr</td>\n",
       "    </tr>\n",
       "    <tr>\n",
       "      <th>12830</th>\n",
       "      <td>Glutamatergic</td>\n",
       "      <td>L5 PT</td>\n",
       "      <td>L5 PT VISp C1ql2 Cdh13</td>\n",
       "    </tr>\n",
       "    <tr>\n",
       "      <th>12831</th>\n",
       "      <td>GABAergic</td>\n",
       "      <td>Sst</td>\n",
       "      <td>Sst Calb2 Pdlim5</td>\n",
       "    </tr>\n",
       "  </tbody>\n",
       "</table>\n",
       "<p>12832 rows × 3 columns</p>\n",
       "</div>"
      ],
      "text/plain": [
       "               Class Subclass                 cluster\n",
       "0          GABAergic      Vip      Vip Arhgap36 Hmcn1\n",
       "1          GABAergic    Lamp5              Lamp5 Lsp1\n",
       "2          GABAergic    Lamp5              Lamp5 Lsp1\n",
       "3          GABAergic      Vip      Vip Crispld2 Htr2c\n",
       "4          GABAergic    Lamp5       Lamp5 Plch2 Dock5\n",
       "...              ...      ...                     ...\n",
       "12827  Glutamatergic    L5 PT       L5 PT VISp Chrna6\n",
       "12828      GABAergic     Sncg              Sncg Gpr50\n",
       "12829      GABAergic    Pvalb       Pvalb Gpr149 Islr\n",
       "12830  Glutamatergic    L5 PT  L5 PT VISp C1ql2 Cdh13\n",
       "12831      GABAergic      Sst        Sst Calb2 Pdlim5\n",
       "\n",
       "[12832 rows x 3 columns]"
      ]
     },
     "execution_count": 5,
     "metadata": {},
     "output_type": "execute_result"
    }
   ],
   "source": [
    "label_df = pd.read_csv(\n",
    "    '/home/estorrs/data/single_cell_classification/Intra-dataset/AMB/Labels.csv',\n",
    "    sep=','\n",
    "    )\n",
    "label_df"
   ]
  },
  {
   "cell_type": "code",
   "execution_count": 22,
   "metadata": {},
   "outputs": [
    {
     "name": "stderr",
     "output_type": "stream",
     "text": [
      "Transforming to str index.\n"
     ]
    },
    {
     "data": {
      "text/plain": [
       "AnnData object with n_obs × n_vars = 12832 × 42625 \n",
       "    obs: 'Class', 'Subclass', 'cluster'"
      ]
     },
     "execution_count": 22,
     "metadata": {},
     "output_type": "execute_result"
    }
   ],
   "source": [
    "adata = anndata.AnnData(X=expression_df.values, obs=label_df)\n",
    "adata.obs.index = expression_df.index\n",
    "adata.var.index = expression_df.columns\n",
    "adata"
   ]
  },
  {
   "cell_type": "code",
   "execution_count": 23,
   "metadata": {},
   "outputs": [
    {
     "data": {
      "text/plain": [
       "View of AnnData object with n_obs × n_vars = 2000 × 42625 \n",
       "    obs: 'Class', 'Subclass', 'cluster'"
      ]
     },
     "execution_count": 23,
     "metadata": {},
     "output_type": "execute_result"
    }
   ],
   "source": [
    "## ranodom subset for testing\n",
    "idxs = np.asarray(random.sample(range(adata.shape[0]), 2000))\n",
    "adata = adata[idxs, :]\n",
    "adata"
   ]
  },
  {
   "cell_type": "code",
   "execution_count": 24,
   "metadata": {},
   "outputs": [
    {
     "data": {
      "text/html": [
       "<div>\n",
       "<style scoped>\n",
       "    .dataframe tbody tr th:only-of-type {\n",
       "        vertical-align: middle;\n",
       "    }\n",
       "\n",
       "    .dataframe tbody tr th {\n",
       "        vertical-align: top;\n",
       "    }\n",
       "\n",
       "    .dataframe thead th {\n",
       "        text-align: right;\n",
       "    }\n",
       "</style>\n",
       "<table border=\"1\" class=\"dataframe\">\n",
       "  <thead>\n",
       "    <tr style=\"text-align: right;\">\n",
       "      <th></th>\n",
       "      <th>Class</th>\n",
       "      <th>Subclass</th>\n",
       "      <th>cluster</th>\n",
       "    </tr>\n",
       "    <tr>\n",
       "      <th>Unnamed: 0</th>\n",
       "      <th></th>\n",
       "      <th></th>\n",
       "      <th></th>\n",
       "    </tr>\n",
       "  </thead>\n",
       "  <tbody>\n",
       "    <tr>\n",
       "      <th>F2S4_170914_001_B01</th>\n",
       "      <td>Glutamatergic</td>\n",
       "      <td>L6 IT</td>\n",
       "      <td>L6 IT VISp Car3</td>\n",
       "    </tr>\n",
       "    <tr>\n",
       "      <th>F2S4_160120_021_B01</th>\n",
       "      <td>Glutamatergic</td>\n",
       "      <td>L6 CT</td>\n",
       "      <td>L6 CT VISp Krt80 Sla</td>\n",
       "    </tr>\n",
       "    <tr>\n",
       "      <th>F1S4_160108_005_B01</th>\n",
       "      <td>GABAergic</td>\n",
       "      <td>Lamp5</td>\n",
       "      <td>Lamp5 Plch2 Dock5</td>\n",
       "    </tr>\n",
       "    <tr>\n",
       "      <th>F2S4_160419_016_H01</th>\n",
       "      <td>GABAergic</td>\n",
       "      <td>Pvalb</td>\n",
       "      <td>Pvalb Gabrg1</td>\n",
       "    </tr>\n",
       "    <tr>\n",
       "      <th>F2S4_160317_010_D01</th>\n",
       "      <td>Glutamatergic</td>\n",
       "      <td>NP</td>\n",
       "      <td>L5 NP VISp Trhr Met</td>\n",
       "    </tr>\n",
       "    <tr>\n",
       "      <th>...</th>\n",
       "      <td>...</td>\n",
       "      <td>...</td>\n",
       "      <td>...</td>\n",
       "    </tr>\n",
       "    <tr>\n",
       "      <th>F2S4_170203_007_H01</th>\n",
       "      <td>Glutamatergic</td>\n",
       "      <td>L6 IT</td>\n",
       "      <td>L6 IT VISp Penk Col27a1</td>\n",
       "    </tr>\n",
       "    <tr>\n",
       "      <th>F2S4_170420_011_G01</th>\n",
       "      <td>GABAergic</td>\n",
       "      <td>Lamp5</td>\n",
       "      <td>Lamp5 Lhx6</td>\n",
       "    </tr>\n",
       "    <tr>\n",
       "      <th>F2S4_160504_006_G01</th>\n",
       "      <td>GABAergic</td>\n",
       "      <td>Lamp5</td>\n",
       "      <td>Lamp5 Plch2 Dock5</td>\n",
       "    </tr>\n",
       "    <tr>\n",
       "      <th>F2S4_180110_066_B01</th>\n",
       "      <td>Glutamatergic</td>\n",
       "      <td>L5 PT</td>\n",
       "      <td>L5 PT VISp C1ql2 Cdh13</td>\n",
       "    </tr>\n",
       "    <tr>\n",
       "      <th>F2S4_161028_009_G01</th>\n",
       "      <td>GABAergic</td>\n",
       "      <td>Sst</td>\n",
       "      <td>Sst Tac1 Htr1d</td>\n",
       "    </tr>\n",
       "  </tbody>\n",
       "</table>\n",
       "<p>2000 rows × 3 columns</p>\n",
       "</div>"
      ],
      "text/plain": [
       "                             Class Subclass                  cluster\n",
       "Unnamed: 0                                                          \n",
       "F2S4_170914_001_B01  Glutamatergic    L6 IT          L6 IT VISp Car3\n",
       "F2S4_160120_021_B01  Glutamatergic    L6 CT     L6 CT VISp Krt80 Sla\n",
       "F1S4_160108_005_B01      GABAergic    Lamp5        Lamp5 Plch2 Dock5\n",
       "F2S4_160419_016_H01      GABAergic    Pvalb             Pvalb Gabrg1\n",
       "F2S4_160317_010_D01  Glutamatergic       NP      L5 NP VISp Trhr Met\n",
       "...                            ...      ...                      ...\n",
       "F2S4_170203_007_H01  Glutamatergic    L6 IT  L6 IT VISp Penk Col27a1\n",
       "F2S4_170420_011_G01      GABAergic    Lamp5               Lamp5 Lhx6\n",
       "F2S4_160504_006_G01      GABAergic    Lamp5        Lamp5 Plch2 Dock5\n",
       "F2S4_180110_066_B01  Glutamatergic    L5 PT   L5 PT VISp C1ql2 Cdh13\n",
       "F2S4_161028_009_G01      GABAergic      Sst           Sst Tac1 Htr1d\n",
       "\n",
       "[2000 rows x 3 columns]"
      ]
     },
     "execution_count": 24,
     "metadata": {},
     "output_type": "execute_result"
    }
   ],
   "source": [
    "adata.obs"
   ]
  },
  {
   "cell_type": "code",
   "execution_count": 25,
   "metadata": {},
   "outputs": [
    {
     "data": {
      "text/html": [
       "<div>\n",
       "<style scoped>\n",
       "    .dataframe tbody tr th:only-of-type {\n",
       "        vertical-align: middle;\n",
       "    }\n",
       "\n",
       "    .dataframe tbody tr th {\n",
       "        vertical-align: top;\n",
       "    }\n",
       "\n",
       "    .dataframe thead th {\n",
       "        text-align: right;\n",
       "    }\n",
       "</style>\n",
       "<table border=\"1\" class=\"dataframe\">\n",
       "  <thead>\n",
       "    <tr style=\"text-align: right;\">\n",
       "      <th></th>\n",
       "    </tr>\n",
       "  </thead>\n",
       "  <tbody>\n",
       "    <tr>\n",
       "      <th>0610005C13Rik</th>\n",
       "    </tr>\n",
       "    <tr>\n",
       "      <th>0610006L08Rik</th>\n",
       "    </tr>\n",
       "    <tr>\n",
       "      <th>0610007P14Rik</th>\n",
       "    </tr>\n",
       "    <tr>\n",
       "      <th>0610009B22Rik</th>\n",
       "    </tr>\n",
       "    <tr>\n",
       "      <th>0610009E02Rik</th>\n",
       "    </tr>\n",
       "    <tr>\n",
       "      <th>...</th>\n",
       "    </tr>\n",
       "    <tr>\n",
       "      <th>Zzef1</th>\n",
       "    </tr>\n",
       "    <tr>\n",
       "      <th>Zzz3</th>\n",
       "    </tr>\n",
       "    <tr>\n",
       "      <th>a</th>\n",
       "    </tr>\n",
       "    <tr>\n",
       "      <th>l7Rn6</th>\n",
       "    </tr>\n",
       "    <tr>\n",
       "      <th>n-R5s136</th>\n",
       "    </tr>\n",
       "  </tbody>\n",
       "</table>\n",
       "<p>42625 rows × 0 columns</p>\n",
       "</div>"
      ],
      "text/plain": [
       "Empty DataFrameView\n",
       "Columns: []\n",
       "Index: [0610005C13Rik, 0610006L08Rik, 0610007P14Rik, 0610009B22Rik, 0610009E02Rik, 0610009L18Rik, 0610009O20Rik, 0610010B08Rik, 0610010F05Rik, 0610010K14Rik, 0610011F06Rik, 0610012G03Rik, 0610025J13Rik, 0610030E20Rik, 0610031O16Rik, 0610037L13Rik, 0610038B21Rik, 0610039H22Rik, 0610039K10Rik, 0610040B10Rik, 0610040F04Rik, 0610040J01Rik, 0610043K17Rik, 1010001N08Rik, 1100001I12Rik, 1110001J03Rik, 1110002J07Rik, 1110002L01Rik, 1110002O04Rik, 1110004E09Rik, 1110004F10Rik, 1110006O24Rik, 1110007C09Rik, 1110008F13Rik, 1110008L16Rik, 1110008P14Rik, 1110012L19Rik, 1110015O18Rik, 1110017D15Rik, 1110018N20Rik, 1110019D14Rik, 1110020A21Rik, 1110028F11Rik, 1110028F18Rik, 1110032A03Rik, 1110032F04Rik, 1110034G24Rik, 1110036E04Rik, 1110037F02Rik, 1110038B12Rik, 1110038F14Rik, 1110046J04Rik, 1110051M20Rik, 1110054M08Rik, 1110057K04Rik, 1110058D11Rik, 1110058L19Rik, 1110059E24Rik, 1110059G10Rik, 1110065P20Rik, 1190002F15Rik, 1190002N15Rik, 1190003K10Rik, 1190005I06Rik, 1190007I07Rik, 1190028D05Rik, 1200014J11Rik, 1300002E11Rik, 1300017J02Rik, 1500002F19Rik, 1500004A13Rik, 1500009C09Rik, 1500009L16Rik, 1500011B03Rik, 1500011K16Rik, 1500012F01Rik, 1500012K07Rik, 1500015A07Rik, 1500015L24Rik, 1500015O10Rik, 1500017E21Rik, 1500026H17Rik, 1500035N22Rik, 1520401A03Rik, 1600002D24Rik, 1600002H07Rik, 1600002K03Rik, 1600010M07Rik, 1600012H06Rik, 1600014C10Rik, 1600014C23Rik, 1600014K23Rik, 1600015I10Rik, 1600019K03Rik, 1600020E01Rik, 1600023N17Rik, 1600025M17Rik, 1600027J07Rik, 1600029I14Rik, 1600029O15Rik, ...]\n",
       "\n",
       "[42625 rows x 0 columns]"
      ]
     },
     "execution_count": 25,
     "metadata": {},
     "output_type": "execute_result"
    }
   ],
   "source": [
    "adata.var"
   ]
  },
  {
   "cell_type": "code",
   "execution_count": 26,
   "metadata": {},
   "outputs": [
    {
     "data": {
      "text/plain": [
       "ArrayView([[  0.,   0., 163., ...,   0., 150.,   0.],\n",
       "           [  0.,   0.,  50., ...,   0., 343.,   0.],\n",
       "           [  0.,   0., 313., ...,   0., 293.,   0.],\n",
       "           ...,\n",
       "           [  0.,   0., 346., ...,   0., 178.,   0.],\n",
       "           [  0.,   0., 108., ...,   0., 154.,   0.],\n",
       "           [  0.,   0., 135., ...,   0., 215.,   0.]], dtype=float32)"
      ]
     },
     "execution_count": 26,
     "metadata": {},
     "output_type": "execute_result"
    }
   ],
   "source": [
    "adata.X"
   ]
  },
  {
   "cell_type": "code",
   "execution_count": 27,
   "metadata": {},
   "outputs": [
    {
     "data": {
      "text/plain": [
       "(2000, 42625)"
      ]
     },
     "execution_count": 27,
     "metadata": {},
     "output_type": "execute_result"
    }
   ],
   "source": [
    "adata.X.shape"
   ]
  },
  {
   "cell_type": "code",
   "execution_count": 29,
   "metadata": {},
   "outputs": [],
   "source": [
    "sc.tl.rank_genes_groups(adata, 'Class', method='t-test', n_genes=100)"
   ]
  },
  {
   "cell_type": "markdown",
   "metadata": {},
   "source": [
    "## train pollock model"
   ]
  },
  {
   "cell_type": "code",
   "execution_count": 36,
   "metadata": {},
   "outputs": [
    {
     "name": "stderr",
     "output_type": "stream",
     "text": [
      "2020-02-10 15:07:32 INFO     creating image templates\n",
      "2020-02-10 15:07:34 INFO     writing training images\n",
      "2020-02-10 15:07:34 INFO     writing images\n",
      "2020-02-10 15:07:34 INFO     0 cell images written\n"
     ]
    },
    {
     "name": "stdout",
     "output_type": "stream",
     "text": [
      "0 cell images written\n"
     ]
    },
    {
     "name": "stderr",
     "output_type": "stream",
     "text": [
      "2020-02-10 15:08:14 INFO     1000000 cell images written\n"
     ]
    },
    {
     "name": "stdout",
     "output_type": "stream",
     "text": [
      "1000000 cell images written\n"
     ]
    },
    {
     "name": "stderr",
     "output_type": "stream",
     "text": [
      "2020-02-10 15:08:53 INFO     done writing images\n",
      "2020-02-10 15:08:53 INFO     creating training dataset\n",
      "2020-02-10 15:08:53 INFO     creating validation dataset\n"
     ]
    },
    {
     "name": "stdout",
     "output_type": "stream",
     "text": [
      "CPU times: user 1min 20s, sys: 573 ms, total: 1min 20s\n",
      "Wall time: 1min 20s\n"
     ]
    }
   ],
   "source": [
    "%%time\n",
    "\n",
    "pollock_dataset = PollockDataset(adata, cell_type_key='Class', dataset_type='training',\n",
    "                                image_root_dir='/home/estorrs/pollock/models/scratch/test_amb',\n",
    "                                n_per_cell_type=500, max_val_per_cell_type=500)"
   ]
  },
  {
   "cell_type": "code",
   "execution_count": 39,
   "metadata": {},
   "outputs": [
    {
     "data": {
      "text/plain": [
       "array([[  1.,   1.,   1., ..., 201., 201., 201.],\n",
       "       [  1.,   1.,   1., ..., 201., 201., 201.],\n",
       "       [  1.,   1.,   1., ..., 201., 201., 201.],\n",
       "       ...,\n",
       "       [  1.,   1.,   1., ...,   1.,   1.,   1.],\n",
       "       [  1.,   1.,   1., ...,   1.,   1.,   1.],\n",
       "       [  1.,   1.,   1., ...,   1.,   1.,   1.]])"
      ]
     },
     "execution_count": 39,
     "metadata": {},
     "output_type": "execute_result"
    },
    {
     "data": {
      "image/png": "[encoded data removed]",
      "text/plain": [
       "<Figure size 432x288 with 1 Axes>"
      ]
     },
     "metadata": {
      "needs_background": "light"
     },
     "output_type": "display_data"
    }
   ],
   "source": [
    "cell_id = adata.obs.index[0]\n",
    "pollock_dataset.get_cell_image(cell_id)"
   ]
  },
  {
   "cell_type": "code",
   "execution_count": 40,
   "metadata": {},
   "outputs": [
    {
     "data": {
      "text/plain": [
       "['GABAergic', 'Glutamatergic', 'Non-Neuronal']"
      ]
     },
     "execution_count": 40,
     "metadata": {},
     "output_type": "execute_result"
    }
   ],
   "source": [
    "pollock_dataset.cell_types"
   ]
  },
  {
   "cell_type": "code",
   "execution_count": 44,
   "metadata": {},
   "outputs": [
    {
     "data": {
      "text/plain": [
       "<matplotlib.image.AxesImage at 0x7f6236472550>"
      ]
     },
     "execution_count": 44,
     "metadata": {},
     "output_type": "execute_result"
    },
    {
     "data": {
      "image/png": "[encoded data removed]",
      "text/plain": [
       "<Figure size 432x288 with 1 Axes>"
      ]
     },
     "metadata": {
      "needs_background": "light"
     },
     "output_type": "display_data"
    }
   ],
   "source": [
    "plt.imshow(pollock_dataset.cell_type_template=='Glutamatergic')"
   ]
  },
  {
   "cell_type": "code",
   "execution_count": 45,
   "metadata": {},
   "outputs": [],
   "source": [
    "model = PollockModel(pollock_dataset.cell_types)"
   ]
  },
  {
   "cell_type": "code",
   "execution_count": 46,
   "metadata": {},
   "outputs": [
    {
     "name": "stdout",
     "output_type": "stream",
     "text": [
      "Train for 24 steps, validate for 7 steps\n",
      "Epoch 1/10\n",
      "24/24 [==============================] - 5s 217ms/step - loss: 0.1032 - accuracy: 0.9668 - val_loss: 2.9266e-04 - val_accuracy: 1.0000\n",
      "Epoch 2/10\n",
      "24/24 [==============================] - 4s 164ms/step - loss: 0.0021 - accuracy: 0.9993 - val_loss: 4.9605e-04 - val_accuracy: 1.0000\n",
      "Epoch 3/10\n",
      "24/24 [==============================] - 4s 155ms/step - loss: 0.0033 - accuracy: 0.9993 - val_loss: 1.0908e-05 - val_accuracy: 1.0000\n",
      "Epoch 4/10\n",
      "24/24 [==============================] - 4s 160ms/step - loss: 4.9441e-04 - accuracy: 0.9993 - val_loss: 6.7136e-06 - val_accuracy: 1.0000\n",
      "Epoch 5/10\n",
      "24/24 [==============================] - 4s 159ms/step - loss: 1.6949e-05 - accuracy: 1.0000 - val_loss: 1.5298e-05 - val_accuracy: 1.0000\n",
      "Epoch 6/10\n",
      "24/24 [==============================] - 4s 155ms/step - loss: 9.1147e-06 - accuracy: 1.0000 - val_loss: 5.7463e-06 - val_accuracy: 1.0000\n",
      "Epoch 7/10\n",
      "24/24 [==============================] - 4s 152ms/step - loss: 3.3805e-06 - accuracy: 1.0000 - val_loss: 4.5485e-06 - val_accuracy: 1.0000\n",
      "Epoch 8/10\n",
      "24/24 [==============================] - 4s 151ms/step - loss: 4.8425e-06 - accuracy: 1.0000 - val_loss: 4.2298e-06 - val_accuracy: 1.0000\n",
      "Epoch 9/10\n",
      "24/24 [==============================] - 4s 149ms/step - loss: 1.4864e-06 - accuracy: 1.0000 - val_loss: 4.0363e-06 - val_accuracy: 1.0000\n",
      "Epoch 10/10\n",
      "24/24 [==============================] - 4s 150ms/step - loss: 1.7072e-06 - accuracy: 1.0000 - val_loss: 3.8479e-06 - val_accuracy: 1.0000\n"
     ]
    },
    {
     "data": {
      "text/plain": [
       "<tensorflow.python.keras.callbacks.History at 0x7f623f912890>"
      ]
     },
     "execution_count": 46,
     "metadata": {},
     "output_type": "execute_result"
    }
   ],
   "source": [
    "model.fit(pollock_dataset)"
   ]
  },
  {
   "cell_type": "code",
   "execution_count": 47,
   "metadata": {},
   "outputs": [],
   "source": [
    "model.save(pollock_dataset, '/home/estorrs/pollock/models/abm_3class')"
   ]
  },
  {
   "cell_type": "code",
   "execution_count": 49,
   "metadata": {},
   "outputs": [
    {
     "name": "stderr",
     "output_type": "stream",
     "text": [
      "2020-02-10 15:18:59 INFO     writing images\n",
      "2020-02-10 15:18:59 INFO     0 cell images written\n",
      "2020-02-10 15:19:38 INFO     1000 cell images written\n",
      "2020-02-10 15:20:18 INFO     done writing images\n"
     ]
    },
    {
     "name": "stdout",
     "output_type": "stream",
     "text": [
      "Found 2000 images belonging to 1 classes.\n",
      "CPU times: user 1min 19s, sys: 625 ms, total: 1min 20s\n",
      "Wall time: 1min 20s\n"
     ]
    }
   ],
   "source": [
    "%%time\n",
    "prediction_dataset, model = load_from_directory(adata, '/home/estorrs/pollock/models/abm_3class',\n",
    "        image_root_dir = '/home/estorrs/pollock/models/scratch/test_amb_prediction')"
   ]
  },
  {
   "cell_type": "code",
   "execution_count": 50,
   "metadata": {},
   "outputs": [
    {
     "data": {
      "text/plain": [
       "(2000, 3)"
      ]
     },
     "execution_count": 50,
     "metadata": {},
     "output_type": "execute_result"
    }
   ],
   "source": [
    "probs = model.predict(prediction_dataset)\n",
    "probs.shape"
   ]
  },
  {
   "cell_type": "code",
   "execution_count": 51,
   "metadata": {},
   "outputs": [
    {
     "data": {
      "text/plain": [
       "(2000, array([0, 0, 0, 0, 0]))"
      ]
     },
     "execution_count": 51,
     "metadata": {},
     "output_type": "execute_result"
    }
   ],
   "source": [
    "predictions = np.argmax(probs, axis=1).flatten()\n",
    "predicted_labels = [prediction_dataset.cell_types[i] for i in predictions]\n",
    "len(predictions), predictions[:5]"
   ]
  },
  {
   "cell_type": "code",
   "execution_count": 58,
   "metadata": {},
   "outputs": [
    {
     "data": {
      "text/plain": [
       "array([0, 0, 0, ..., 1, 0, 1])"
      ]
     },
     "execution_count": 58,
     "metadata": {},
     "output_type": "execute_result"
    }
   ],
   "source": []
  },
  {
   "cell_type": "code",
   "execution_count": 53,
   "metadata": {},
   "outputs": [
    {
     "data": {
      "text/plain": [
       "(2000, [0, 0, 0, 0, 0])"
      ]
     },
     "execution_count": 53,
     "metadata": {},
     "output_type": "execute_result"
    }
   ],
   "source": [
    "cell_type_to_index = {v:k for k, v in enumerate(prediction_dataset.cell_types)}\n",
    "groundtruth = [cell_type_to_index[cell_type]\n",
    "               for cell_type in adata[prediction_dataset.cell_ids, :].obs['Class']]\n",
    "len(groundtruth), groundtruth[:5]"
   ]
  },
  {
   "cell_type": "code",
   "execution_count": 60,
   "metadata": {},
   "outputs": [
    {
     "data": {
      "text/plain": [
       "(array([0, 0, 0, 0, 0, 0, 0, 0, 0, 0, 0, 0, 0, 0, 0, 0, 0, 1, 1, 1]),\n",
       " [0, 0, 0, 0, 0, 0, 0, 0, 0, 0, 0, 0, 0, 0, 0, 0, 0, 1, 1, 1])"
      ]
     },
     "execution_count": 60,
     "metadata": {},
     "output_type": "execute_result"
    }
   ],
   "source": [
    "predictions[:20], groundtruth[:20]"
   ]
  },
  {
   "cell_type": "code",
   "execution_count": 54,
   "metadata": {},
   "outputs": [
    {
     "data": {
      "image/png": "[encoded data removed]",
      "text/plain": [
       "<Figure size 576x576 with 2 Axes>"
      ]
     },
     "metadata": {
      "needs_background": "light"
     },
     "output_type": "display_data"
    }
   ],
   "source": [
    "c_df = pollock_analysis.get_confusion_matrix(predictions, groundtruth, prediction_dataset.cell_types)"
   ]
  },
  {
   "cell_type": "code",
   "execution_count": 55,
   "metadata": {},
   "outputs": [
    {
     "data": {
      "text/plain": [
       "(2000, 2)"
      ]
     },
     "execution_count": 55,
     "metadata": {},
     "output_type": "execute_result"
    }
   ],
   "source": [
    "embedding = pollock_analysis.umap_final_layer(prediction_dataset.prediction_ds, model.model)\n",
    "embedding.shape"
   ]
  },
  {
   "cell_type": "code",
   "execution_count": 62,
   "metadata": {},
   "outputs": [
    {
     "name": "stderr",
     "output_type": "stream",
     "text": [
      "... storing 'predicted_cell_type' as categorical\n"
     ]
    },
    {
     "data": {
      "image/png": "[encoded data removed]",
      "text/plain": [
       "<Figure size 989.28x288 with 2 Axes>"
      ]
     },
     "metadata": {},
     "output_type": "display_data"
    }
   ],
   "source": [
    "ordered_adata = adata[prediction_dataset.cell_ids, :]\n",
    "ordered_adata.obsm['X_umap'] = embedding\n",
    "ordered_adata.obs['predicted_cell_type'] = predicted_labels\n",
    "sc.pl.umap(ordered_adata, color=['predicted_cell_type', 'Class'])"
   ]
  },
  {
   "cell_type": "code",
   "execution_count": null,
   "metadata": {},
   "outputs": [],
   "source": []
  }
 ],
 "metadata": {
  "kernelspec": {
   "display_name": "Python 3",
   "language": "python",
   "name": "python3"
  },
  "language_info": {
   "codemirror_mode": {
    "name": "ipython",
    "version": 3
   },
   "file_extension": ".py",
   "mimetype": "text/x-python",
   "name": "python",
   "nbconvert_exporter": "python",
   "pygments_lexer": "ipython3",
   "version": "3.7.6"
  }
 },
 "nbformat": 4,
 "nbformat_minor": 4
}
