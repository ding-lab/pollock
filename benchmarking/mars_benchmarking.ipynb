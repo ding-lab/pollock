{
 "cells": [
  {
   "cell_type": "code",
   "execution_count": 1,
   "metadata": {},
   "outputs": [],
   "source": [
    "from pathlib import Path\n",
    "from collections import Counter\n",
    "import os\n",
    "import re\n",
    "import random\n",
    "import subprocess\n",
    "\n",
    "import anndata\n",
    "import scanpy as sc\n",
    "import pandas as pd\n",
    "import numpy as np\n",
    "\n",
    "import mgitools.os_helpers as os_helpers"
   ]
  },
  {
   "cell_type": "code",
   "execution_count": 2,
   "metadata": {},
   "outputs": [],
   "source": [
    "# !pip install git+https://github.com/estorrs/mgitools\n"
   ]
  },
  {
   "cell_type": "code",
   "execution_count": 3,
   "metadata": {},
   "outputs": [],
   "source": [
    "CELL_TYPE_KEY = 'cell_type'\n",
    "N_PER_CELL_TYPE = 500\n",
    "DATA_DIR = '/home/estorrs/pollock/benchmarking/data/11302020_harmonized/teir_1/'\n",
    "RESULTS_DIR = '/home/estorrs/pollock/benchmarking/results/11302020_teir1'\n",
    "RESULTS_CROSS_DISEASE_DIR = '/home/estorrs/pollock/benchmarking/results/11302020_teir1_cross_disease'\n",
    "RESULTS_CROSS_DTYPE_DIR = '/home/estorrs/pollock/benchmarking/results/11302020_teir1_cross_datatype'\n",
    "SANDBOX_DIR = '/home/estorrs/pollock/benchmarking/sandbox'\n",
    "\n",
    "Path(RESULTS_DIR).mkdir(parents=True, exist_ok=True)\n",
    "Path(RESULTS_CROSS_DISEASE_DIR).mkdir(parents=True, exist_ok=True)\n",
    "Path(RESULTS_CROSS_DTYPE_DIR).mkdir(parents=True, exist_ok=True)"
   ]
  },
  {
   "cell_type": "markdown",
   "metadata": {},
   "source": [
    "read in train/val data"
   ]
  },
  {
   "cell_type": "code",
   "execution_count": 4,
   "metadata": {},
   "outputs": [
    {
     "name": "stdout",
     "output_type": "stream",
     "text": [
      "scRNAseq brca\n",
      "scRNAseq cesc\n",
      "scRNAseq hnscc\n",
      "scRNAseq melanoma\n",
      "scRNAseq pbmc\n",
      "scRNAseq pdac\n",
      "snATACseq brca_gene_activity\n",
      "snATACseq brca_motif\n",
      "snATACseq brca_peaks\n",
      "snATACseq ccrcc_gene_activity\n",
      "snATACseq ccrcc_motif\n",
      "snATACseq ccrcc_peaks\n",
      "snATACseq gbm_gene_activity\n",
      "snATACseq gbm_motif\n",
      "snATACseq gbm_peaks\n",
      "snRNAseq brca\n",
      "snRNAseq ccrcc\n",
      "snRNAseq gbm\n"
     ]
    }
   ],
   "source": [
    "fps = sorted(os_helpers.listfiles(DATA_DIR, regex='.h5ad$'))\n",
    "adata_map = {fp.split('/')[-2]:{} for fp in fps}\n",
    "for fp in fps:\n",
    "    dtype = fp.split('/')[-2]\n",
    "    disease = re.sub(r'^(.*)((_train)|(_val)).h5ad$', r'\\1', fp.split('/')[-1])\n",
    "    if disease not in adata_map[dtype] and '.h5ad' not in disease: adata_map[dtype][disease] = {}\n",
    "    if 'train.h5ad' in fp:\n",
    "        adata_map[dtype][disease]['train'] = fp\n",
    "    if 'val.h5ad' in fp:\n",
    "        adata_map[dtype][disease]['val'] = fp\n",
    "for dtype, d in adata_map.items():\n",
    "    for disease, m in d.items():\n",
    "        print(dtype, disease)"
   ]
  },
  {
   "cell_type": "code",
   "execution_count": 5,
   "metadata": {},
   "outputs": [],
   "source": [
    "def run_workflow_for_datasets(adata_map, workflow, workflow_identifier, output_dir):\n",
    "    for dtype, d in adata_map.items():\n",
    "#         if dtype != 'snATACseq':\n",
    "        for disease, m in d.items():\n",
    "            # make dir if doesnt exist yet\n",
    "            directory = os.path.join(output_dir, dtype, disease)\n",
    "            Path(directory).mkdir(parents=True, exist_ok=True)\n",
    "            train, val = sc.read_h5ad(m['train']), sc.read_h5ad(m['val'])\n",
    "\n",
    "            print(dtype, disease, train.shape, val.shape)\n",
    "            run_workflow(workflow, workflow_identifier,\n",
    "                train, val, directory)\n",
    "            \n",
    "def run_workflow_for_cross_disease(adata_map, workflow, workflow_identifier, output_dir):\n",
    "    for dtype, d in adata_map.items():\n",
    "        for disease1, m1 in d.items():\n",
    "            for disease2, m2 in d.items():\n",
    "#                 if disease1 != disease2:\n",
    "                # make dir if doesnt exist yet\n",
    "                directory = os.path.join(output_dir, dtype, f'{disease1}_train_{disease2}_val')\n",
    "                Path(directory).mkdir(parents=True, exist_ok=True)\n",
    "                train, val = sc.read_h5ad(m1['train']), sc.read_h5ad(m2['val'])\n",
    "\n",
    "                print(dtype, f'{disease1}_train_{disease2}_val', train.shape, val.shape)\n",
    "                run_workflow(workflow, workflow_identifier,\n",
    "                    train, val, directory)\n",
    "                    \n",
    "                    \n",
    "def run_workflow_for_cross_datatype(adata_map, workflow, workflow_identifier, output_dir):\n",
    "    for dtype1, d1 in adata_map.items():\n",
    "        for dtype2, d2 in adata_map.items():\n",
    "            for disease1, m1 in d1.items():\n",
    "                for disease2, m2 in d2.items():\n",
    "                    # make dir if doesnt exist yet\n",
    "                    directory = os.path.join(output_dir, f'{dtype1}_{dtype2}',\n",
    "                                             f'{dtype1}_{disease1}_train_{dtype2}_{disease2}_val')\n",
    "                    Path(directory).mkdir(parents=True, exist_ok=True)\n",
    "                    train, val = sc.read_h5ad(m1['train']), sc.read_h5ad(m2['val'])\n",
    "\n",
    "                    print(f'{dtype1}_{dtype2}',\n",
    "                          f'{dtype1}_{disease1}_train_{dtype2}_{disease2}_val', train.shape, val.shape)\n",
    "                    run_workflow(workflow, workflow_identifier,\n",
    "                        train, val, directory)\n",
    "\n",
    "def run_workflow(workflow, workflow_identifier, train, val, output_dir):\n",
    "    \"\"\"\n",
    "    Run the workflow defined by the workflow function.\n",
    "    \n",
    "    workflow function takes a train adata and a val adata as inputs,\n",
    "    and returns dataframe with cell_id, groundtruth, predicted, and probability columns\n",
    "    \"\"\"\n",
    "    try:\n",
    "        # if it is pollock it needs to know where to save the module\n",
    "        if workflow_identifier == 'pollock':\n",
    "            df = workflow(train, val, CELL_TYPE_KEY, os.path.join(output_dir, f'{workflow_identifier}_module'))\n",
    "        else:\n",
    "            df = workflow(train, val, CELL_TYPE_KEY)\n",
    "\n",
    "        df.to_csv(os.path.join(output_dir, f'{workflow_identifier}.tsv'), sep='\\t', index=False, header=True)\n",
    "    except Exception as e:\n",
    "        print('failed ' + os.path.join(output_dir, f'{workflow_identifier}.tsv'))\n",
    "        print(e)"
   ]
  },
  {
   "cell_type": "markdown",
   "metadata": {},
   "source": [
    "##### MARS"
   ]
  },
  {
   "cell_type": "code",
   "execution_count": 6,
   "metadata": {},
   "outputs": [],
   "source": [
    "def mars_preprocess(adata):\n",
    "    \n",
    "    sc.pp.normalize_per_cell(adata, counts_per_cell_after=1e4)\n",
    "    sc.pp.scale(adata, max_value=10, zero_center=True)\n",
    "    sc.pp.pca(adata, n_comps=50)\n",
    "    \n",
    "    \n",
    "def run_mars_workflow(train, val, cell_type_key):\n",
    "    var_names = train.var_names.intersection(val.var_names)\n",
    "    train = train[:, var_names]\n",
    "    val = val[:, var_names]\n",
    "    \n",
    "    train.obs['dataset'] = 'train'\n",
    "    val.obs['dataset'] = 'val'\n",
    "    \n",
    "    combined = train.concat(val)\n",
    "    \n",
    "\n",
    "    \n",
    "    sc.tl.ingest(val, train, obs=cell_type_key)\n",
    "    \n",
    "    df = pd.DataFrame.from_dict({\n",
    "        'cell_id': val.obs.index.to_list(),\n",
    "        'groundtruth': groundtruth,\n",
    "        'predicted': val.obs[cell_type_key].to_list(),\n",
    "        'probability': [np.nan] * val.shape[0]\n",
    "    })\n",
    "    \n",
    "    return df"
   ]
  },
  {
   "cell_type": "code",
   "execution_count": null,
   "metadata": {},
   "outputs": [],
   "source": []
  },
  {
   "cell_type": "markdown",
   "metadata": {},
   "source": [
    "###### testing stuff"
   ]
  },
  {
   "cell_type": "code",
   "execution_count": 7,
   "metadata": {},
   "outputs": [
    {
     "name": "stderr",
     "output_type": "stream",
     "text": [
      "/home/estorrs/miniconda3/envs/mars/lib/python3.7/site-packages/scanpy/api/__init__.py:6: FutureWarning: \n",
      "\n",
      "In a future version of Scanpy, `scanpy.api` will be removed.\n",
      "Simply use `import scanpy as sc` and `import scanpy.external as sce` instead.\n",
      "\n",
      "  FutureWarning\n"
     ]
    }
   ],
   "source": [
    "from args_parser import get_parser\n",
    "from model.mars import MARS\n",
    "from model.experiment_dataset import ExperimentDataset"
   ]
  },
  {
   "cell_type": "code",
   "execution_count": 8,
   "metadata": {},
   "outputs": [],
   "source": [
    "params, unknown = get_parser().parse_known_args()"
   ]
  },
  {
   "cell_type": "code",
   "execution_count": 9,
   "metadata": {},
   "outputs": [
    {
     "data": {
      "text/plain": [
       "'0.7.5'"
      ]
     },
     "execution_count": 9,
     "metadata": {},
     "output_type": "execute_result"
    }
   ],
   "source": [
    "anndata.__version__"
   ]
  },
  {
   "cell_type": "code",
   "execution_count": 10,
   "metadata": {},
   "outputs": [],
   "source": [
    "# !pip install anndata==0.7.5\n",
    "# !pip install anndata==0.6.22.post1"
   ]
  },
  {
   "cell_type": "code",
   "execution_count": 11,
   "metadata": {},
   "outputs": [],
   "source": [
    "train, val = (sc.read_h5ad(adata_map['scRNAseq']['pbmc']['train']),\n",
    "              sc.read_h5ad(adata_map['scRNAseq']['pbmc']['val']))"
   ]
  },
  {
   "cell_type": "code",
   "execution_count": 12,
   "metadata": {},
   "outputs": [],
   "source": [
    "if 'sparse' not in str(type(train.X)): train.X = scipy.sparse.csr_matrix(train.X)\n",
    "if 'sparse' not in str(type(val.X)): val.X = scipy.sparse.csr_matrix(val.X)\n"
   ]
  },
  {
   "cell_type": "code",
   "execution_count": 13,
   "metadata": {},
   "outputs": [
    {
     "name": "stderr",
     "output_type": "stream",
     "text": [
      "Trying to set attribute `.obs` of view, copying.\n",
      "Trying to set attribute `.obs` of view, copying.\n",
      "/home/estorrs/miniconda3/envs/mars/lib/python3.7/site-packages/scanpy/utils.py:618: DeprecationWarning: Use is_view instead of isview, isview will be removed in the future.\n",
      "  if adata.isview:\n",
      "/home/estorrs/miniconda3/envs/mars/lib/python3.7/site-packages/scanpy/neighbors/__init__.py:89: DeprecationWarning: Use is_view instead of isview, isview will be removed in the future.\n",
      "  if adata.isview:  # we shouldn't need this here...\n",
      "/home/estorrs/miniconda3/envs/mars/lib/python3.7/site-packages/umap/umap_.py:349: NumbaWarning: \n",
      "Compilation is falling back to object mode WITH looplifting enabled because Function \"fuzzy_simplicial_set\" failed type inference due to: Untyped global name 'nearest_neighbors': cannot determine Numba type of <class 'function'>\n",
      "\n",
      "File \"../miniconda3/envs/mars/lib/python3.7/site-packages/umap/umap_.py\", line 467:\n",
      "def fuzzy_simplicial_set(\n",
      "    <source elided>\n",
      "    if knn_indices is None or knn_dists is None:\n",
      "        knn_indices, knn_dists, _ = nearest_neighbors(\n",
      "        ^\n",
      "\n",
      "  @numba.jit()\n",
      "/home/estorrs/miniconda3/envs/mars/lib/python3.7/site-packages/numba/compiler.py:742: NumbaWarning: Function \"fuzzy_simplicial_set\" was compiled in object mode without forceobj=True.\n",
      "\n",
      "File \"../miniconda3/envs/mars/lib/python3.7/site-packages/umap/umap_.py\", line 350:\n",
      "@numba.jit()\n",
      "def fuzzy_simplicial_set(\n",
      "^\n",
      "\n",
      "  self.func_ir.loc))\n",
      "/home/estorrs/miniconda3/envs/mars/lib/python3.7/site-packages/numba/compiler.py:751: NumbaDeprecationWarning: \n",
      "Fall-back from the nopython compilation path to the object mode compilation path has been detected, this is deprecated behaviour.\n",
      "\n",
      "For more information visit http://numba.pydata.org/numba-doc/latest/reference/deprecation.html#deprecation-of-object-mode-fall-back-behaviour-when-using-jit\n",
      "\n",
      "File \"../miniconda3/envs/mars/lib/python3.7/site-packages/umap/umap_.py\", line 350:\n",
      "@numba.jit()\n",
      "def fuzzy_simplicial_set(\n",
      "^\n",
      "\n",
      "  warnings.warn(errors.NumbaDeprecationWarning(msg, self.func_ir.loc))\n",
      "/home/estorrs/miniconda3/envs/mars/lib/python3.7/site-packages/scanpy/neighbors/__init__.py:106: FutureWarning: This location for 'distances' is deprecated. It has been moved to .obsp[distances], and will not be accesible here in a future version of anndata.\n",
      "  adata.uns['neighbors']['distances'] = neighbors.distances\n",
      "/home/estorrs/miniconda3/envs/mars/lib/python3.7/site-packages/scanpy/neighbors/__init__.py:107: FutureWarning: This location for 'connectivities' is deprecated. It has been moved to .obsp[connectivities], and will not be accesible here in a future version of anndata.\n",
      "  adata.uns['neighbors']['connectivities'] = neighbors.connectivities\n"
     ]
    }
   ],
   "source": [
    "var_names = train.var_names.intersection(val.var_names)\n",
    "train = train[:, var_names]\n",
    "val = val[:, var_names]\n",
    "\n",
    "train.obs['dataset'] = 'train'\n",
    "val.obs['dataset'] = 'val'\n",
    "\n",
    "adata = anndata.concat((train, val))\n",
    "\n",
    "sc.pp.normalize_per_cell(adata, counts_per_cell_after=1e4)\n",
    "sc.pp.scale(adata, zero_center=True)\n",
    "\n",
    "sc.pp.neighbors(adata, n_neighbors=30, use_rep='X')\n",
    "sc.pp.pca(adata, n_comps=50)"
   ]
  },
  {
   "cell_type": "code",
   "execution_count": 14,
   "metadata": {},
   "outputs": [],
   "source": [
    "train = adata[adata.obs['dataset'] == 'train',:]\n",
    "val = adata[adata.obs['dataset'] == 'val',:]\n",
    "\n",
    "train = train[train.obs.sort_values('cell_type').index]\n",
    "val = val[val.obs.sort_values('cell_type').index]"
   ]
  },
  {
   "cell_type": "code",
   "execution_count": 15,
   "metadata": {},
   "outputs": [],
   "source": [
    "class_to_int = {c:i for i, c in enumerate(sorted(set(train.obs['cell_type'])))}\n",
    "int_to_class = {i:c for c, i in class_to_int.items()}"
   ]
  },
  {
   "cell_type": "code",
   "execution_count": 16,
   "metadata": {},
   "outputs": [
    {
     "name": "stdout",
     "output_type": "stream",
     "text": [
      "== Dataset: Found 1607 items \n",
      "== Dataset: Found 7 classes\n"
     ]
    }
   ],
   "source": [
    "y_train = np.array([class_to_int[c] for c in train.obs['cell_type']], dtype=np.int64)\n",
    "annotated = ExperimentDataset(train.X.toarray(), train.obs_names, train.var_names, 'train', y_train, )"
   ]
  },
  {
   "cell_type": "code",
   "execution_count": 17,
   "metadata": {},
   "outputs": [
    {
     "name": "stdout",
     "output_type": "stream",
     "text": [
      "== Dataset: Found 888 items \n",
      "== Dataset: Found 7 classes\n"
     ]
    }
   ],
   "source": [
    "y_val = np.array([class_to_int[c] for c in val.obs['cell_type']], dtype=np.int64)\n",
    "unannotated = ExperimentDataset(val.X.toarray(), val.obs_names, val.var_names, 'val', y_val)"
   ]
  },
  {
   "cell_type": "code",
   "execution_count": 18,
   "metadata": {},
   "outputs": [],
   "source": [
    "pretrain_data = ExperimentDataset(val.X.toarray(), val.obs_names, val.var_names, 'val')"
   ]
  },
  {
   "cell_type": "code",
   "execution_count": 19,
   "metadata": {},
   "outputs": [
    {
     "data": {
      "text/plain": [
       "7"
      ]
     },
     "execution_count": 19,
     "metadata": {},
     "output_type": "execute_result"
    }
   ],
   "source": [
    "\n",
    "n_clusters = len(np.unique(unannotated.y))\n",
    "n_clusters"
   ]
  },
  {
   "cell_type": "code",
   "execution_count": null,
   "metadata": {},
   "outputs": [],
   "source": []
  },
  {
   "cell_type": "code",
   "execution_count": 20,
   "metadata": {},
   "outputs": [],
   "source": [
    "params.device = 'cpu'"
   ]
  },
  {
   "cell_type": "code",
   "execution_count": 21,
   "metadata": {},
   "outputs": [
    {
     "name": "stdout",
     "output_type": "stream",
     "text": [
      "<class 'list'>\n"
     ]
    }
   ],
   "source": [
    "mars = MARS(n_clusters, params, [annotated], unannotated, pretrain_data, hid_dim_1=1000, hid_dim_2=100)"
   ]
  },
  {
   "cell_type": "code",
   "execution_count": 22,
   "metadata": {},
   "outputs": [
    {
     "name": "stdout",
     "output_type": "stream",
     "text": [
      "Pretraining..\n",
      "\n",
      "=== Epoch: 30 ===\n",
      "Train acc: 0.9968886375427246\n",
      "['CTAGGATGATCGTG-1', 'TATGGGTGCTAGCA-1', 'GTAACGTGATCGGT-1', 'TATGTCACGGAACG-1', 'ACGCACCTGTTAGC-1']\n",
      "tensor([[0., 0., 0.,  ..., 0., 0., 0.],\n",
      "        [0., 0., 0.,  ..., 0., 0., 0.],\n",
      "        [0., 0., 0.,  ..., 0., 0., 0.],\n",
      "        [0., 0., 0.,  ..., 0., 0., 0.],\n",
      "        [0., 0., 0.,  ..., 0., 0., 0.]])\n",
      "tensor([2, 2, 2, 2, 2])\n"
     ]
    }
   ],
   "source": [
    "# return both annotated and unannotated datasets with save_all_embeddings\n",
    "a, landmarks, scores = mars.train(evaluation_mode=True, save_all_embeddings=True) # evaluation mode"
   ]
  },
  {
   "cell_type": "code",
   "execution_count": 26,
   "metadata": {},
   "outputs": [
    {
     "data": {
      "text/plain": [
       "7"
      ]
     },
     "execution_count": 26,
     "metadata": {},
     "output_type": "execute_result"
    }
   ],
   "source": [
    "len(landmarks[-1])"
   ]
  },
  {
   "cell_type": "code",
   "execution_count": 27,
   "metadata": {},
   "outputs": [
    {
     "data": {
      "text/plain": [
       "{'precision': 0.5574168980375315,\n",
       " 'accuracy': 0.7274774774774775,\n",
       " 'recall': 0.508487892171794,\n",
       " 'f1_score': 0.5100364326275104,\n",
       " 'nmi': 0.4724061645165623,\n",
       " 'adj_mi': 0.38489017982364193,\n",
       " 'adj_rand': 0.4689671164538997}"
      ]
     },
     "execution_count": 27,
     "metadata": {},
     "output_type": "execute_result"
    }
   ],
   "source": [
    "scores"
   ]
  },
  {
   "cell_type": "code",
   "execution_count": 24,
   "metadata": {},
   "outputs": [
    {
     "data": {
      "text/html": [
       "<div>\n",
       "<style scoped>\n",
       "    .dataframe tbody tr th:only-of-type {\n",
       "        vertical-align: middle;\n",
       "    }\n",
       "\n",
       "    .dataframe tbody tr th {\n",
       "        vertical-align: top;\n",
       "    }\n",
       "\n",
       "    .dataframe thead th {\n",
       "        text-align: right;\n",
       "    }\n",
       "</style>\n",
       "<table border=\"1\" class=\"dataframe\">\n",
       "  <thead>\n",
       "    <tr style=\"text-align: right;\">\n",
       "      <th></th>\n",
       "      <th>truth_labels</th>\n",
       "      <th>MARS_labels</th>\n",
       "      <th>experiment</th>\n",
       "    </tr>\n",
       "  </thead>\n",
       "  <tbody>\n",
       "    <tr>\n",
       "      <th>TACATAGAACGCAT-1-train</th>\n",
       "      <td>2</td>\n",
       "      <td>NaN</td>\n",
       "      <td>train</td>\n",
       "    </tr>\n",
       "    <tr>\n",
       "      <th>ACTTAAGATTACTC-1-train</th>\n",
       "      <td>3</td>\n",
       "      <td>NaN</td>\n",
       "      <td>train</td>\n",
       "    </tr>\n",
       "    <tr>\n",
       "      <th>TACGGAACGCGTTA-1-train</th>\n",
       "      <td>0</td>\n",
       "      <td>NaN</td>\n",
       "      <td>train</td>\n",
       "    </tr>\n",
       "    <tr>\n",
       "      <th>GCTCAAGAACCATG-1-train</th>\n",
       "      <td>0</td>\n",
       "      <td>NaN</td>\n",
       "      <td>train</td>\n",
       "    </tr>\n",
       "    <tr>\n",
       "      <th>CACTTTGACTCTAT-1-train</th>\n",
       "      <td>2</td>\n",
       "      <td>NaN</td>\n",
       "      <td>train</td>\n",
       "    </tr>\n",
       "    <tr>\n",
       "      <th>...</th>\n",
       "      <td>...</td>\n",
       "      <td>...</td>\n",
       "      <td>...</td>\n",
       "    </tr>\n",
       "    <tr>\n",
       "      <th>TAAGAGGACTTGTT-1-val</th>\n",
       "      <td>6</td>\n",
       "      <td>1</td>\n",
       "      <td>val</td>\n",
       "    </tr>\n",
       "    <tr>\n",
       "      <th>TTCCCACTTGAGGG-1-val</th>\n",
       "      <td>6</td>\n",
       "      <td>2</td>\n",
       "      <td>val</td>\n",
       "    </tr>\n",
       "    <tr>\n",
       "      <th>CGACCACTGCCAAT-1-val</th>\n",
       "      <td>6</td>\n",
       "      <td>1</td>\n",
       "      <td>val</td>\n",
       "    </tr>\n",
       "    <tr>\n",
       "      <th>GGTGGAGACAGATC-1-val</th>\n",
       "      <td>6</td>\n",
       "      <td>1</td>\n",
       "      <td>val</td>\n",
       "    </tr>\n",
       "    <tr>\n",
       "      <th>CTCGACTGGTTGAC-1-val</th>\n",
       "      <td>6</td>\n",
       "      <td>6</td>\n",
       "      <td>val</td>\n",
       "    </tr>\n",
       "  </tbody>\n",
       "</table>\n",
       "<p>2495 rows × 3 columns</p>\n",
       "</div>"
      ],
      "text/plain": [
       "                       truth_labels MARS_labels experiment\n",
       "TACATAGAACGCAT-1-train            2         NaN      train\n",
       "ACTTAAGATTACTC-1-train            3         NaN      train\n",
       "TACGGAACGCGTTA-1-train            0         NaN      train\n",
       "GCTCAAGAACCATG-1-train            0         NaN      train\n",
       "CACTTTGACTCTAT-1-train            2         NaN      train\n",
       "...                             ...         ...        ...\n",
       "TAAGAGGACTTGTT-1-val              6           1        val\n",
       "TTCCCACTTGAGGG-1-val              6           2        val\n",
       "CGACCACTGCCAAT-1-val              6           1        val\n",
       "GGTGGAGACAGATC-1-val              6           1        val\n",
       "CTCGACTGGTTGAC-1-val              6           6        val\n",
       "\n",
       "[2495 rows x 3 columns]"
      ]
     },
     "execution_count": 24,
     "metadata": {},
     "output_type": "execute_result"
    }
   ],
   "source": [
    "a.obs"
   ]
  },
  {
   "cell_type": "code",
   "execution_count": null,
   "metadata": {},
   "outputs": [],
   "source": [
    "scores"
   ]
  },
  {
   "cell_type": "code",
   "execution_count": null,
   "metadata": {},
   "outputs": [],
   "source": [
    "a.obs"
   ]
  },
  {
   "cell_type": "code",
   "execution_count": 23,
   "metadata": {},
   "outputs": [
    {
     "data": {
      "text/html": [
       "<div>\n",
       "<style scoped>\n",
       "    .dataframe tbody tr th:only-of-type {\n",
       "        vertical-align: middle;\n",
       "    }\n",
       "\n",
       "    .dataframe tbody tr th {\n",
       "        vertical-align: top;\n",
       "    }\n",
       "\n",
       "    .dataframe thead th {\n",
       "        text-align: right;\n",
       "    }\n",
       "</style>\n",
       "<table border=\"1\" class=\"dataframe\">\n",
       "  <thead>\n",
       "    <tr style=\"text-align: right;\">\n",
       "      <th></th>\n",
       "      <th>truth_labels</th>\n",
       "      <th>MARS_labels</th>\n",
       "      <th>experiment</th>\n",
       "    </tr>\n",
       "  </thead>\n",
       "  <tbody>\n",
       "    <tr>\n",
       "      <th>CTAGGATGATCGTG-1</th>\n",
       "      <td>0</td>\n",
       "      <td>2</td>\n",
       "      <td>val</td>\n",
       "    </tr>\n",
       "    <tr>\n",
       "      <th>TATGGGTGCTAGCA-1</th>\n",
       "      <td>0</td>\n",
       "      <td>2</td>\n",
       "      <td>val</td>\n",
       "    </tr>\n",
       "    <tr>\n",
       "      <th>GTAACGTGATCGGT-1</th>\n",
       "      <td>0</td>\n",
       "      <td>2</td>\n",
       "      <td>val</td>\n",
       "    </tr>\n",
       "    <tr>\n",
       "      <th>TATGTCACGGAACG-1</th>\n",
       "      <td>0</td>\n",
       "      <td>2</td>\n",
       "      <td>val</td>\n",
       "    </tr>\n",
       "    <tr>\n",
       "      <th>ACGCACCTGTTAGC-1</th>\n",
       "      <td>0</td>\n",
       "      <td>2</td>\n",
       "      <td>val</td>\n",
       "    </tr>\n",
       "    <tr>\n",
       "      <th>...</th>\n",
       "      <td>...</td>\n",
       "      <td>...</td>\n",
       "      <td>...</td>\n",
       "    </tr>\n",
       "    <tr>\n",
       "      <th>TAAGAGGACTTGTT-1</th>\n",
       "      <td>6</td>\n",
       "      <td>1</td>\n",
       "      <td>val</td>\n",
       "    </tr>\n",
       "    <tr>\n",
       "      <th>TTCCCACTTGAGGG-1</th>\n",
       "      <td>6</td>\n",
       "      <td>2</td>\n",
       "      <td>val</td>\n",
       "    </tr>\n",
       "    <tr>\n",
       "      <th>CGACCACTGCCAAT-1</th>\n",
       "      <td>6</td>\n",
       "      <td>1</td>\n",
       "      <td>val</td>\n",
       "    </tr>\n",
       "    <tr>\n",
       "      <th>GGTGGAGACAGATC-1</th>\n",
       "      <td>6</td>\n",
       "      <td>1</td>\n",
       "      <td>val</td>\n",
       "    </tr>\n",
       "    <tr>\n",
       "      <th>CTCGACTGGTTGAC-1</th>\n",
       "      <td>6</td>\n",
       "      <td>6</td>\n",
       "      <td>val</td>\n",
       "    </tr>\n",
       "  </tbody>\n",
       "</table>\n",
       "<p>888 rows × 3 columns</p>\n",
       "</div>"
      ],
      "text/plain": [
       "                 truth_labels MARS_labels experiment\n",
       "CTAGGATGATCGTG-1            0           2        val\n",
       "TATGGGTGCTAGCA-1            0           2        val\n",
       "GTAACGTGATCGGT-1            0           2        val\n",
       "TATGTCACGGAACG-1            0           2        val\n",
       "ACGCACCTGTTAGC-1            0           2        val\n",
       "...                       ...         ...        ...\n",
       "TAAGAGGACTTGTT-1            6           1        val\n",
       "TTCCCACTTGAGGG-1            6           2        val\n",
       "CGACCACTGCCAAT-1            6           1        val\n",
       "GGTGGAGACAGATC-1            6           1        val\n",
       "CTCGACTGGTTGAC-1            6           6        val\n",
       "\n",
       "[888 rows x 3 columns]"
      ]
     },
     "execution_count": 23,
     "metadata": {},
     "output_type": "execute_result"
    }
   ],
   "source": [
    "preds = a[a.obs['experiment']=='val'].copy()\n",
    "preds.obs.index = [x.replace('-val', '') for x in preds.obs.index]\n",
    "preds.obs"
   ]
  },
  {
   "cell_type": "code",
   "execution_count": null,
   "metadata": {},
   "outputs": [],
   "source": [
    "preds.obs['groundtruth'] = [val.obs.loc[x, 'cell_type'] for x in preds.obs.index]\n",
    "preds.obs['predicted'] = [int_to_class[x] for x in preds.obs['MARS_labels']]\n",
    "preds.obs"
   ]
  },
  {
   "cell_type": "code",
   "execution_count": null,
   "metadata": {},
   "outputs": [],
   "source": [
    "# just map to the best group since there is a bug with MARS encodings\n",
    "cluster_map = {}\n",
    "for k in int_to_class.keys():\n",
    "    filtered = preds[preds.obs['truth_labels']==k]\n",
    "    counts = Counter(filtered.obs['MARS_labels'])\n",
    "    cluster_map[k] = counts.most_common()[0][0]\n",
    "    print(k, counts.most_common())\n",
    "r_cluster_map = {v:k for k, v in cluster_map.items()}\n",
    "cluster_map"
   ]
  },
  {
   "cell_type": "code",
   "execution_count": null,
   "metadata": {},
   "outputs": [],
   "source": [
    "preds.obs['adjusted_predictions'] = [cluster_map[c] for c in preds.obs['MARS_labels']]\n",
    "preds.obs"
   ]
  },
  {
   "cell_type": "code",
   "execution_count": null,
   "metadata": {},
   "outputs": [],
   "source": [
    "sc.pp.neighbors(preds)\n",
    "sc.tl.umap(preds)\n",
    "sc.pl.umap(preds)"
   ]
  },
  {
   "cell_type": "code",
   "execution_count": null,
   "metadata": {},
   "outputs": [],
   "source": [
    "sc.pl.umap(preds, color=['truth_labels', 'MARS_labels', 'groundtruth', 'predicted'])"
   ]
  },
  {
   "cell_type": "code",
   "execution_count": null,
   "metadata": {},
   "outputs": [],
   "source": [
    "collected = []\n",
    "for c in y_train:\n",
    "    if c not in collected: collected.append(c)\n",
    "collected"
   ]
  },
  {
   "cell_type": "code",
   "execution_count": null,
   "metadata": {},
   "outputs": [],
   "source": [
    "collected = []\n",
    "for c in y_val:\n",
    "    if c not in collected: collected.append(c)\n",
    "collected"
   ]
  },
  {
   "cell_type": "code",
   "execution_count": null,
   "metadata": {},
   "outputs": [],
   "source": []
  },
  {
   "cell_type": "code",
   "execution_count": null,
   "metadata": {},
   "outputs": [],
   "source": []
  },
  {
   "cell_type": "code",
   "execution_count": null,
   "metadata": {},
   "outputs": [],
   "source": [
    "int_to_class"
   ]
  },
  {
   "cell_type": "code",
   "execution_count": null,
   "metadata": {},
   "outputs": [],
   "source": [
    "annotated."
   ]
  },
  {
   "cell_type": "code",
   "execution_count": null,
   "metadata": {},
   "outputs": [],
   "source": []
  }
 ],
 "metadata": {
  "kernelspec": {
   "display_name": "Python 3",
   "language": "python",
   "name": "python3"
  },
  "language_info": {
   "codemirror_mode": {
    "name": "ipython",
    "version": 3
   },
   "file_extension": ".py",
   "mimetype": "text/x-python",
   "name": "python",
   "nbconvert_exporter": "python",
   "pygments_lexer": "ipython3",
   "version": "3.7.8"
  }
 },
 "nbformat": 4,
 "nbformat_minor": 2
}
