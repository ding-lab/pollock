{
 "cells": [
  {
   "cell_type": "code",
   "execution_count": null,
   "metadata": {},
   "outputs": [],
   "source": [
    "import os\n",
    "import re\n",
    "from collections import Counter\n",
    "\n",
    "import pandas as pd\n",
    "import scanpy as sc\n",
    "import seaborn as sns"
   ]
  },
  {
   "cell_type": "code",
   "execution_count": null,
   "metadata": {},
   "outputs": [],
   "source": [
    "%load_ext autoreload"
   ]
  },
  {
   "cell_type": "code",
   "execution_count": null,
   "metadata": {},
   "outputs": [],
   "source": [
    "%autoreload 2"
   ]
  },
  {
   "cell_type": "code",
   "execution_count": null,
   "metadata": {},
   "outputs": [],
   "source": [
    "import pollock"
   ]
  },
  {
   "cell_type": "code",
   "execution_count": null,
   "metadata": {},
   "outputs": [],
   "source": [
    "DATA_DIR = '/data/single_cell_classification'\n",
    "MODEL_DIR = '/models'"
   ]
  },
  {
   "cell_type": "code",
   "execution_count": null,
   "metadata": {},
   "outputs": [],
   "source": [
    "run_name = 'HTAN_breast_v9'\n",
    "adata = sc.read_h5ad('/data/single_cell_classification/tumor/BR/raw/houxiang_brca/merged.h5ad')\n",
    "\n",
    "malignant_cell_type = 'BR_Malignant'\n",
    "cell_type_key = 'cell_type'\n",
    "model_save_dir = os.path.join(MODEL_DIR, run_name)"
   ]
  },
  {
   "cell_type": "code",
   "execution_count": null,
   "metadata": {},
   "outputs": [],
   "source": [
    "run_name = 'pdac_caf_states_v1'\n",
    "adata = sc.read_h5ad('/data/single_cell_classification/tumor/PDAC/pdac_caf_subtypes.h5ad')\n",
    "\n",
    "cell_type_key = 'fibroblast_subtype'\n",
    "model_save_dir = os.path.join(MODEL_DIR, run_name)"
   ]
  },
  {
   "cell_type": "code",
   "execution_count": null,
   "metadata": {},
   "outputs": [],
   "source": [
    "run_name = 'melanoma_v1'\n",
    "adata = sc.read_h5ad('/data/single_cell_classification/tumor/melanoma/melanoma.h5ad')\n",
    "\n",
    "cell_type_key = 'cell_type'\n",
    "model_save_dir = os.path.join(MODEL_DIR, run_name)"
   ]
  },
  {
   "cell_type": "code",
   "execution_count": null,
   "metadata": {},
   "outputs": [],
   "source": [
    "sorted(set(adata.obs['sample_id']))"
   ]
  },
  {
   "cell_type": "code",
   "execution_count": null,
   "metadata": {},
   "outputs": [],
   "source": [
    "adata"
   ]
  },
  {
   "cell_type": "code",
   "execution_count": null,
   "metadata": {},
   "outputs": [],
   "source": [
    "counts = Counter(adata.obs[cell_type_key])\n",
    "counts.most_common()"
   ]
  },
  {
   "cell_type": "code",
   "execution_count": null,
   "metadata": {},
   "outputs": [],
   "source": [
    "pds = pollock.PollockDataset(adata.copy(), cell_type_key=cell_type_key, n_per_cell_type=500, batch_size=64,\n",
    "                    dataset_type='training', min_genes=10, min_cells=3, mito_threshold=None,\n",
    "                    max_n_genes=None, log=True, cpm=False, min_disp=None)"
   ]
  },
  {
   "cell_type": "code",
   "execution_count": null,
   "metadata": {},
   "outputs": [],
   "source": [
    "pm = pollock.PollockModel(pds.cell_types, pds.train_adata.shape[1], alpha=.001, latent_dim=100)"
   ]
  },
  {
   "cell_type": "code",
   "execution_count": null,
   "metadata": {},
   "outputs": [],
   "source": [
    "pm.fit(pds, epochs=40)"
   ]
  },
  {
   "cell_type": "code",
   "execution_count": null,
   "metadata": {},
   "outputs": [],
   "source": [
    "pm.save(pds, model_save_dir)"
   ]
  },
  {
   "cell_type": "code",
   "execution_count": null,
   "metadata": {},
   "outputs": [],
   "source": [
    "cdf = pd.DataFrame(data=pm.summary['validation']['confusion_matrix'], columns=pm.class_names,\n",
    "                  index=pm.class_names)\n",
    "print(pm.summary['validation']['metrics']['accuracy'])\n",
    "sns.heatmap(cdf, cmap='Blues')"
   ]
  },
  {
   "cell_type": "code",
   "execution_count": null,
   "metadata": {},
   "outputs": [],
   "source": [
    "pm.summary['validation']['metrics']['Fibroblast']"
   ]
  },
  {
   "cell_type": "code",
   "execution_count": null,
   "metadata": {},
   "outputs": [],
   "source": [
    "0.06629834254143646"
   ]
  },
  {
   "cell_type": "code",
   "execution_count": null,
   "metadata": {},
   "outputs": [],
   "source": [
    "l_pds, l_pm = pollock.load_from_directory(adata, model_save_dir)"
   ]
  },
  {
   "cell_type": "code",
   "execution_count": null,
   "metadata": {},
   "outputs": [],
   "source": [
    "labels, label_prob, all_probs = l_pm.predict_pollock_dataset(l_pds, labels=True, )"
   ]
  },
  {
   "cell_type": "code",
   "execution_count": null,
   "metadata": {},
   "outputs": [],
   "source": [
    "X_umap = l_pm.get_umap_cell_embeddings(l_pds.prediction_ds)\n",
    "X_umap"
   ]
  },
  {
   "cell_type": "code",
   "execution_count": null,
   "metadata": {},
   "outputs": [],
   "source": [
    "X_umap.shape"
   ]
  },
  {
   "cell_type": "code",
   "execution_count": null,
   "metadata": {},
   "outputs": [],
   "source": [
    "l_pds.prediction_adata.obsm['X_umap'] = X_umap\n",
    "l_pds.prediction_adata.obs['predicted_cell_type'] = labels"
   ]
  },
  {
   "cell_type": "code",
   "execution_count": null,
   "metadata": {},
   "outputs": [],
   "source": [
    "l_pm.summary['training'].keys()"
   ]
  },
  {
   "cell_type": "code",
   "execution_count": null,
   "metadata": {},
   "outputs": [],
   "source": [
    "sc.pl.umap(l_pds.prediction_adata, color=['cell_type', cell_type_key, 'predicted_cell_type', 'sample_id'], ncols=1)"
   ]
  },
  {
   "cell_type": "code",
   "execution_count": null,
   "metadata": {},
   "outputs": [],
   "source": [
    "sc.pl.umap(l_pds.prediction_adata, color=['ACTA2', 'PF4', 'PROM1', 'HLA-DRA'], ncols=1, color_map='Reds',)"
   ]
  },
  {
   "cell_type": "code",
   "execution_count": null,
   "metadata": {},
   "outputs": [],
   "source": [
    "pdac_adata = sc.read_h5ad('/data/single_cell_classification/tumor/PDAC/pdac.h5ad')\n",
    "l_pds, l_pm = pollock.load_from_directory(pdac_adata, model_save_dir)\n",
    "pdac_adata = pdac_adata[l_pds.prediction_adata.obs.index]\n",
    "labels, label_prob, all_probs = l_pm.predict_pollock_dataset(l_pds, labels=True, )\n",
    "X_umap = l_pm.get_umap_cell_embeddings(l_pds.prediction_ds)\n",
    "pdac_adata.obsm['X_umap'] = X_umap\n",
    "pdac_adata.obs['predicted_cell_type'] = labels"
   ]
  },
  {
   "cell_type": "code",
   "execution_count": null,
   "metadata": {},
   "outputs": [],
   "source": [
    "sc.pl.umap(pdac_adata[pdac_adata.obs['cell_type']=='Fibroblast'],\n",
    "           color=['cell_type', 'predicted_cell_type', 'sample'], ncols=1)"
   ]
  },
  {
   "cell_type": "code",
   "execution_count": null,
   "metadata": {},
   "outputs": [],
   "source": [
    "ccrcc_adata = sc.read_h5ad('/data/single_cell_classification/tumor/CCRCC/yige/adata.h5ad')\n",
    "l_pds, l_pm = pollock.load_from_directory(ccrcc_adata, model_save_dir)\n",
    "ccrcc_adata = ccrcc_adata[l_pds.prediction_adata.obs.index]\n",
    "labels, label_prob, all_probs = l_pm.predict_pollock_dataset(l_pds, labels=True, )\n",
    "X_umap = l_pm.get_umap_cell_embeddings(l_pds.prediction_ds)\n",
    "ccrcc_adata.obsm['X_umap'] = X_umap\n",
    "ccrcc_adata.obs['predicted_cell_type'] = labels"
   ]
  },
  {
   "cell_type": "code",
   "execution_count": null,
   "metadata": {},
   "outputs": [],
   "source": [
    "sc.pl.umap(ccrcc_adata[ccrcc_adata.obs['cell_type']=='Fibroblasts'],\n",
    "           color=['cell_type', 'predicted_cell_type', 'sample_id'], ncols=1)"
   ]
  },
  {
   "cell_type": "code",
   "execution_count": null,
   "metadata": {},
   "outputs": [],
   "source": [
    "sc.pl.umap(ccrcc_adata, color=['ACTA2', 'PF4', 'PROM1', 'HLA-DRA'], ncols=1, color_map='Reds',)"
   ]
  },
  {
   "cell_type": "code",
   "execution_count": null,
   "metadata": {},
   "outputs": [],
   "source": [
    "pm.summary['validation']['metrics']['accuracy']"
   ]
  },
  {
   "cell_type": "code",
   "execution_count": null,
   "metadata": {},
   "outputs": [],
   "source": []
  }
 ],
 "metadata": {
  "kernelspec": {
   "display_name": "Python 3",
   "language": "python",
   "name": "python3"
  },
  "language_info": {
   "codemirror_mode": {
    "name": "ipython",
    "version": 3
   },
   "file_extension": ".py",
   "mimetype": "text/x-python",
   "name": "python",
   "nbconvert_exporter": "python",
   "pygments_lexer": "ipython3",
   "version": "3.7.6"
  }
 },
 "nbformat": 4,
 "nbformat_minor": 4
}
