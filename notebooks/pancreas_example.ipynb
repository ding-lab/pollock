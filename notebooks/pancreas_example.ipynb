{
 "cells": [
  {
   "cell_type": "code",
   "execution_count": 66,
   "metadata": {},
   "outputs": [],
   "source": [
    "import logging\n",
    "import os\n",
    "import random\n",
    "from collections import Counter\n",
    "\n",
    "import numpy as np\n",
    "import scanpy as sc\n",
    "\n",
    "import pollock\n",
    "from pollock.models.model import PollockDataset, PollockModel\n",
    "import pollock.models.analysis as pollock_analysis"
   ]
  },
  {
   "cell_type": "code",
   "execution_count": 18,
   "metadata": {},
   "outputs": [
    {
     "name": "stdout",
     "output_type": "stream",
     "text": [
      "The autoreload extension is already loaded. To reload it, use:\n",
      "  %reload_ext autoreload\n"
     ]
    }
   ],
   "source": [
    "%load_ext autoreload"
   ]
  },
  {
   "cell_type": "markdown",
   "metadata": {},
   "source": [
    "## load in dataset\n"
   ]
  },
  {
   "cell_type": "code",
   "execution_count": 171,
   "metadata": {},
   "outputs": [
    {
     "name": "stderr",
     "output_type": "stream",
     "text": [
      "/Users/erikstorrs/miniconda3/envs/pollock_v2/lib/python3.7/site-packages/loompy/loom_layer.py:123: RuntimeWarning: invalid value encountered in not_equal\n",
      "  nonzeros = np.where(vals != 0)\n"
     ]
    },
    {
     "data": {
      "text/plain": [
       "AnnData object with n_obs × n_vars = 2131 × 19532 \n",
       "    obs: 'ClusterID', 'ClusterName', 'SCT_snn_res_0_5', 'cell_type', 'nCount_RNA', 'nCount_SCT', 'nFeature_RNA', 'nFeature_SCT', 'orig_ident', 'percent_mito', 'seurat_clusters'\n",
       "    var: 'Selected', 'detection_rate', 'gmean', 'residual_mean', 'residual_variance', 'variance'\n",
       "    obsm: 'pca_cell_embeddings', 'umap_cell_embeddings'\n",
       "    varm: 'pca_feature_loadings'\n",
       "    layers: 'norm_data', 'scale_data'"
      ]
     },
     "execution_count": 171,
     "metadata": {},
     "output_type": "execute_result"
    }
   ],
   "source": [
    "adata = sc.read_loom('/Users/erikstorrs/Documents/ding/imaging/data/htan/single_cell/TWCE-HT061P1-S1PAA1A1Z1B1_processed_annotated.loom')\n",
    "adata"
   ]
  },
  {
   "cell_type": "code",
   "execution_count": 176,
   "metadata": {},
   "outputs": [
    {
     "data": {
      "text/plain": [
       "View of AnnData object with n_obs × n_vars = 1991 × 19532 \n",
       "    obs: 'ClusterID', 'ClusterName', 'SCT_snn_res_0_5', 'cell_type', 'nCount_RNA', 'nCount_SCT', 'nFeature_RNA', 'nFeature_SCT', 'orig_ident', 'percent_mito', 'seurat_clusters'\n",
       "    var: 'Selected', 'detection_rate', 'gmean', 'residual_mean', 'residual_variance', 'variance'\n",
       "    obsm: 'pca_cell_embeddings', 'umap_cell_embeddings'\n",
       "    varm: 'pca_feature_loadings'\n",
       "    layers: 'norm_data', 'scale_data'"
      ]
     },
     "execution_count": 176,
     "metadata": {},
     "output_type": "execute_result"
    }
   ],
   "source": [
    "## get rid of unknown\n",
    "adata = adata[adata.obs['ClusterName']!='Unknown', :]\n",
    "adata"
   ]
  },
  {
   "cell_type": "code",
   "execution_count": 127,
   "metadata": {},
   "outputs": [
    {
     "data": {
      "text/plain": [
       "View of AnnData object with n_obs × n_vars = 1000 × 19532 \n",
       "    obs: 'ClusterID', 'ClusterName', 'SCT_snn_res_0_5', 'cell_type', 'nCount_RNA', 'nCount_SCT', 'nFeature_RNA', 'nFeature_SCT', 'orig_ident', 'percent_mito', 'seurat_clusters'\n",
       "    var: 'Selected', 'detection_rate', 'gmean', 'residual_mean', 'residual_variance', 'variance'\n",
       "    obsm: 'pca_cell_embeddings', 'umap_cell_embeddings'\n",
       "    varm: 'pca_feature_loadings'\n",
       "    layers: 'norm_data', 'scale_data'"
      ]
     },
     "execution_count": 127,
     "metadata": {},
     "output_type": "execute_result"
    }
   ],
   "source": [
    "# ## subsample for testing purposes\n",
    "# idxs = random.sample(list(range(adata.shape[0])), k=1000)\n",
    "# adata = adata[idxs, :]\n",
    "# adata"
   ]
  },
  {
   "cell_type": "code",
   "execution_count": 177,
   "metadata": {},
   "outputs": [
    {
     "data": {
      "text/plain": [
       "[('Ductal', 430),\n",
       " ('CD4_T', 361),\n",
       " ('Fibroblast', 285),\n",
       " ('CD8_T', 245),\n",
       " ('Macrophage', 146),\n",
       " ('Endothelial', 145),\n",
       " ('Mast', 117),\n",
       " ('Acinar', 108),\n",
       " ('NK', 67),\n",
       " ('Treg', 45),\n",
       " ('B', 21),\n",
       " ('Plasma', 21)]"
      ]
     },
     "execution_count": 177,
     "metadata": {},
     "output_type": "execute_result"
    }
   ],
   "source": [
    "c = Counter(adata.obs['ClusterName'])\n",
    "c.most_common()"
   ]
  },
  {
   "cell_type": "code",
   "execution_count": 175,
   "metadata": {},
   "outputs": [
    {
     "data": {
      "text/plain": [
       "['/Users/erikstorrs/Documents/ding/pollock/notebooks/validation.tfcache.index',\n",
       " '/Users/erikstorrs/Documents/ding/pollock/notebooks/training.tfcache.index',\n",
       " '/Users/erikstorrs/Documents/ding/pollock/notebooks/training.tfcache.data-00000-of-00001',\n",
       " '/Users/erikstorrs/Documents/ding/pollock/notebooks/validation.tfcache.data-00000-of-00001']"
      ]
     },
     "execution_count": 175,
     "metadata": {},
     "output_type": "execute_result"
    }
   ],
   "source": [
    "import pollock.preprocessing.preprocessing as pp\n",
    "list(pp.listfiles(os.getcwd(), regex=r'\\.tfcache'))"
   ]
  },
  {
   "cell_type": "markdown",
   "metadata": {},
   "source": [
    "## train with pollock"
   ]
  },
  {
   "cell_type": "code",
   "execution_count": 178,
   "metadata": {},
   "outputs": [
    {
     "name": "stderr",
     "output_type": "stream",
     "text": [
      "/Users/erikstorrs/miniconda3/envs/pollock_v2/lib/python3.7/site-packages/anndata/_core/anndata.py:1172: ImplicitModificationWarning: Initializing view as actual.\n",
      "  \"Initializing view as actual.\", ImplicitModificationWarning\n",
      "Trying to set attribute `.obs` of view, copying.\n",
      "... storing 'ClusterName' as categorical\n",
      "Trying to set attribute `.obs` of view, copying.\n",
      "... storing 'SCT_snn_res_0_5' as categorical\n",
      "Trying to set attribute `.obs` of view, copying.\n",
      "... storing 'cell_type' as categorical\n",
      "Trying to set attribute `.obs` of view, copying.\n",
      "... storing 'orig_ident' as categorical\n",
      "Trying to set attribute `.obs` of view, copying.\n",
      "... storing 'seurat_clusters' as categorical\n",
      "/Users/erikstorrs/miniconda3/envs/pollock_v2/lib/python3.7/site-packages/scanpy/tools/_rank_genes_groups.py:237: RuntimeWarning: overflow encountered in expm1\n",
      "  foldchanges = (expm1_func(mean_group) + 1e-9) / (expm1_func(mean_rest) + 1e-9)  # add small value to remove 0's\n"
     ]
    }
   ],
   "source": [
    "%autoreload 2\n",
    "\n",
    "pollock_dataset = PollockDataset(adata, dataset_type='training',\n",
    "                                image_root_dir=os.path.join(os.getcwd(), 'test_training'),\n",
    "                                n_per_cell_type=500, max_val_per_cell_type=500)"
   ]
  },
  {
   "cell_type": "code",
   "execution_count": 179,
   "metadata": {},
   "outputs": [
    {
     "data": {
      "text/plain": [
       "array([[6, 6, 6, ..., 2, 2, 2],\n",
       "       [6, 6, 6, ..., 2, 2, 2],\n",
       "       [6, 6, 6, ..., 2, 2, 2],\n",
       "       ...,\n",
       "       [1, 1, 1, ..., 1, 1, 1],\n",
       "       [1, 1, 1, ..., 1, 1, 1],\n",
       "       [1, 1, 1, ..., 1, 1, 1]])"
      ]
     },
     "execution_count": 179,
     "metadata": {},
     "output_type": "execute_result"
    },
    {
     "data": {
      "image/png": "[encoded data removed]",
      "text/plain": [
       "<Figure size 432x288 with 1 Axes>"
      ]
     },
     "metadata": {
      "needs_background": "light"
     },
     "output_type": "display_data"
    }
   ],
   "source": [
    "cell_id = adata.obs.index[0]\n",
    "pollock_dataset.get_cell_image(cell_id)"
   ]
  },
  {
   "cell_type": "code",
   "execution_count": 180,
   "metadata": {},
   "outputs": [
    {
     "data": {
      "text/plain": [
       "['Acinar',\n",
       " 'B',\n",
       " 'CD4_T',\n",
       " 'CD8_T',\n",
       " 'Ductal',\n",
       " 'Endothelial',\n",
       " 'Fibroblast',\n",
       " 'Macrophage',\n",
       " 'Mast',\n",
       " 'NK',\n",
       " 'Plasma',\n",
       " 'Treg']"
      ]
     },
     "execution_count": 180,
     "metadata": {},
     "output_type": "execute_result"
    }
   ],
   "source": [
    "pollock_dataset.cell_types"
   ]
  },
  {
   "cell_type": "code",
   "execution_count": 181,
   "metadata": {},
   "outputs": [
    {
     "data": {
      "text/plain": [
       "(TensorShape([64, 128, 128, 3]), TensorShape([64, 12]))"
      ]
     },
     "execution_count": 181,
     "metadata": {},
     "output_type": "execute_result"
    }
   ],
   "source": [
    "x, y = next(iter(pollock_dataset.train_ds))\n",
    "x.shape, y.shape"
   ]
  },
  {
   "cell_type": "code",
   "execution_count": 182,
   "metadata": {},
   "outputs": [],
   "source": [
    "model = PollockModel(pollock_dataset.cell_types)"
   ]
  },
  {
   "cell_type": "code",
   "execution_count": 183,
   "metadata": {},
   "outputs": [
    {
     "name": "stdout",
     "output_type": "stream",
     "text": [
      "Train for 94 steps, validate for 7 steps\n",
      "Epoch 1/10\n",
      "94/94 [==============================] - 31s 327ms/step - loss: 0.2964 - accuracy: 0.8983 - val_loss: 0.2523 - val_accuracy: 0.9040\n",
      "Epoch 2/10\n",
      "94/94 [==============================] - 28s 302ms/step - loss: 0.0865 - accuracy: 0.9701 - val_loss: 0.1746 - val_accuracy: 0.9464\n",
      "Epoch 3/10\n",
      "94/94 [==============================] - 28s 301ms/step - loss: 0.0512 - accuracy: 0.9809 - val_loss: 0.1622 - val_accuracy: 0.9621\n",
      "Epoch 4/10\n",
      "94/94 [==============================] - 28s 296ms/step - loss: 0.0442 - accuracy: 0.9825 - val_loss: 0.1295 - val_accuracy: 0.9576\n",
      "Epoch 5/10\n",
      "94/94 [==============================] - 28s 294ms/step - loss: 0.0306 - accuracy: 0.9895 - val_loss: 0.1663 - val_accuracy: 0.9576\n",
      "Epoch 6/10\n",
      "94/94 [==============================] - 28s 295ms/step - loss: 0.0193 - accuracy: 0.9930 - val_loss: 0.2024 - val_accuracy: 0.9554\n"
     ]
    },
    {
     "data": {
      "text/plain": [
       "<tensorflow.python.keras.callbacks.History at 0x1c4b2c510>"
      ]
     },
     "execution_count": 183,
     "metadata": {},
     "output_type": "execute_result"
    }
   ],
   "source": [
    "model.fit(pollock_dataset)"
   ]
  },
  {
   "cell_type": "code",
   "execution_count": 184,
   "metadata": {},
   "outputs": [
    {
     "name": "stdout",
     "output_type": "stream",
     "text": [
      "Found 1991 images belonging to 1 classes.\n"
     ]
    }
   ],
   "source": [
    "prediction_dataset = PollockDataset(adata, dataset_type='prediction',\n",
    "                                   image_root_dir=os.path.join(os.getcwd(), 'test_prediction'),\n",
    "                                   gene_template=pollock_dataset.gene_template,\n",
    "                                   cell_type_template=pollock_dataset.cell_type_template,\n",
    "                                   cell_types=pollock_dataset.cell_types,\n",
    "                                   batch_size=64)"
   ]
  },
  {
   "cell_type": "code",
   "execution_count": 185,
   "metadata": {},
   "outputs": [
    {
     "data": {
      "text/plain": [
       "(1991, 12)"
      ]
     },
     "execution_count": 185,
     "metadata": {},
     "output_type": "execute_result"
    }
   ],
   "source": [
    "probs = model.predict(prediction_dataset)\n",
    "probs.shape"
   ]
  },
  {
   "cell_type": "code",
   "execution_count": 186,
   "metadata": {},
   "outputs": [
    {
     "data": {
      "text/plain": [
       "(1991, array([2, 4, 6, 4, 2]))"
      ]
     },
     "execution_count": 186,
     "metadata": {},
     "output_type": "execute_result"
    }
   ],
   "source": [
    "predictions = np.argmax(probs, axis=1).flatten()\n",
    "predicted_labels = [prediction_dataset.cell_types[i] for i in predictions]\n",
    "len(predictions), predictions[:5]"
   ]
  },
  {
   "cell_type": "code",
   "execution_count": 187,
   "metadata": {},
   "outputs": [
    {
     "data": {
      "text/plain": [
       "1991"
      ]
     },
     "execution_count": 187,
     "metadata": {},
     "output_type": "execute_result"
    }
   ],
   "source": [
    "len(set(prediction_dataset.cell_ids))"
   ]
  },
  {
   "cell_type": "code",
   "execution_count": 188,
   "metadata": {},
   "outputs": [
    {
     "data": {
      "text/plain": [
       "(1991, [2, 4, 6, 4, 2])"
      ]
     },
     "execution_count": 188,
     "metadata": {},
     "output_type": "execute_result"
    }
   ],
   "source": [
    "cell_type_to_index = {v:k for k, v in enumerate(prediction_dataset.cell_types)}\n",
    "groundtruth = [cell_type_to_index[cell_type]\n",
    "               for cell_type in adata[prediction_dataset.cell_ids, :].obs['cell_type']]\n",
    "len(groundtruth), groundtruth[:5]"
   ]
  },
  {
   "cell_type": "code",
   "execution_count": 189,
   "metadata": {},
   "outputs": [
    {
     "data": {
      "image/png": "[encoded data removed]",
      "text/plain": [
       "<Figure size 576x576 with 2 Axes>"
      ]
     },
     "metadata": {
      "needs_background": "light"
     },
     "output_type": "display_data"
    }
   ],
   "source": [
    "c_df = pollock_analysis.get_confusion_matrix(predictions, groundtruth, prediction_dataset.cell_types)"
   ]
  },
  {
   "cell_type": "code",
   "execution_count": null,
   "metadata": {},
   "outputs": [],
   "source": []
  },
  {
   "cell_type": "code",
   "execution_count": 197,
   "metadata": {},
   "outputs": [
    {
     "data": {
      "text/plain": [
       "(1991, 2)"
      ]
     },
     "execution_count": 197,
     "metadata": {},
     "output_type": "execute_result"
    }
   ],
   "source": [
    "embedding = pollock_analysis.umap_final_layer(prediction_dataset.prediction_ds, model.model)\n",
    "embedding.shape"
   ]
  },
  {
   "cell_type": "code",
   "execution_count": 192,
   "metadata": {},
   "outputs": [
    {
     "data": {
      "text/plain": [
       "AnnData object with n_obs × n_vars = 1991 × 19532 \n",
       "    obs: 'ClusterID', 'ClusterName', 'SCT_snn_res_0_5', 'cell_type', 'nCount_RNA', 'nCount_SCT', 'nFeature_RNA', 'nFeature_SCT', 'orig_ident', 'percent_mito', 'seurat_clusters'\n",
       "    var: 'Selected', 'detection_rate', 'gmean', 'residual_mean', 'residual_variance', 'variance'\n",
       "    uns: 'rank_genes_groups'\n",
       "    obsm: 'pca_cell_embeddings', 'umap_cell_embeddings'\n",
       "    varm: 'pca_feature_loadings'\n",
       "    layers: 'norm_data', 'scale_data'"
      ]
     },
     "execution_count": 192,
     "metadata": {},
     "output_type": "execute_result"
    }
   ],
   "source": [
    "adata"
   ]
  },
  {
   "cell_type": "code",
   "execution_count": 193,
   "metadata": {},
   "outputs": [
    {
     "data": {
      "text/plain": [
       "1991"
      ]
     },
     "execution_count": 193,
     "metadata": {},
     "output_type": "execute_result"
    }
   ],
   "source": [
    "len(predicted_labels)"
   ]
  },
  {
   "cell_type": "code",
   "execution_count": 198,
   "metadata": {},
   "outputs": [
    {
     "name": "stderr",
     "output_type": "stream",
     "text": [
      "... storing 'predicted_cell_type' as categorical\n"
     ]
    },
    {
     "data": {
      "image/png": "[encoded data removed]",
      "text/plain": [
       "<Figure size 989.28x288 with 2 Axes>"
      ]
     },
     "metadata": {},
     "output_type": "display_data"
    }
   ],
   "source": [
    "adata.obsm['X_umap'] = embedding\n",
    "adata.obs['predicted_cell_type'] = predicted_labels\n",
    "sc.pl.umap(adata, color=['predicted_cell_type', 'ClusterName'])"
   ]
  },
  {
   "cell_type": "code",
   "execution_count": 210,
   "metadata": {},
   "outputs": [
    {
     "data": {
      "text/plain": [
       "['Acinar',\n",
       " 'B',\n",
       " 'CD4_T',\n",
       " 'CD8_T',\n",
       " 'Ductal',\n",
       " 'Endothelial',\n",
       " 'Fibroblast',\n",
       " 'Macrophage',\n",
       " 'Mast',\n",
       " 'NK',\n",
       " 'Plasma',\n",
       " 'Treg']"
      ]
     },
     "execution_count": 210,
     "metadata": {},
     "output_type": "execute_result"
    }
   ],
   "source": [
    "pollock_dataset.cell_types"
   ]
  },
  {
   "cell_type": "code",
   "execution_count": 206,
   "metadata": {},
   "outputs": [
    {
     "data": {
      "text/plain": [
       "(TensorShape([64, 128, 128, 3]), TensorShape([64, 12]))"
      ]
     },
     "execution_count": 206,
     "metadata": {},
     "output_type": "execute_result"
    }
   ],
   "source": [
    "x, y = next(iter(pollock_dataset.train_ds))\n",
    "x.shape, y.shape"
   ]
  },
  {
   "cell_type": "code",
   "execution_count": 209,
   "metadata": {},
   "outputs": [
    {
     "data": {
      "text/plain": [
       "TensorShape([2, 128, 128, 3])"
      ]
     },
     "execution_count": 209,
     "metadata": {},
     "output_type": "execute_result"
    }
   ],
   "source": [
    "y_labels = np.asarray([prediction_dataset.cell_types[i] for i in np.argmax(y, axis=1).flatten()])\n",
    "acinar_inputs = x[y_labels == 'Acinar']\n",
    "acinar_inputs.shape"
   ]
  },
  {
   "cell_type": "code",
   "execution_count": 211,
   "metadata": {},
   "outputs": [
    {
     "data": {
      "text/plain": [
       "array([[10, 15, 21, ...,  3,  8,  2],\n",
       "       [15, 18, 25, ...,  7, 12,  6],\n",
       "       [ 9, 11, 10, ...,  6,  9,  8],\n",
       "       ...,\n",
       "       [ 0,  0,  0, ...,  0,  0,  0],\n",
       "       [ 0,  0,  0, ...,  0,  0,  0],\n",
       "       [ 0,  0,  0, ...,  0,  0,  0]], dtype=uint8)"
      ]
     },
     "execution_count": 211,
     "metadata": {},
     "output_type": "execute_result"
    },
    {
     "data": {
      "image/png": "[encoded data removed]",
      "text/plain": [
       "<Figure size 432x288 with 1 Axes>"
      ]
     },
     "metadata": {
      "needs_background": "light"
     },
     "output_type": "display_data"
    }
   ],
   "source": [
    "pollock_analysis.explain_predictions(model.model, acinar_inputs, 0)"
   ]
  },
  {
   "cell_type": "code",
   "execution_count": 213,
   "metadata": {},
   "outputs": [
    {
     "data": {
      "text/plain": [
       "<matplotlib.image.AxesImage at 0x1c469e910>"
      ]
     },
     "execution_count": 213,
     "metadata": {},
     "output_type": "execute_result"
    },
    {
     "data": {
      "image/png": "[encoded data removed]",
      "text/plain": [
       "<Figure size 432x288 with 1 Axes>"
      ]
     },
     "metadata": {
      "needs_background": "light"
     },
     "output_type": "display_data"
    }
   ],
   "source": [
    "import matplotlib.pyplot as plt\n",
    "plt.imshow(pollock_dataset.cell_type_template=='Acinar')"
   ]
  },
  {
   "cell_type": "code",
   "execution_count": null,
   "metadata": {},
   "outputs": [],
   "source": []
  }
 ],
 "metadata": {
  "kernelspec": {
   "display_name": "Python 3",
   "language": "python",
   "name": "python3"
  },
  "language_info": {
   "codemirror_mode": {
    "name": "ipython",
    "version": 3
   },
   "file_extension": ".py",
   "mimetype": "text/x-python",
   "name": "python",
   "nbconvert_exporter": "python",
   "pygments_lexer": "ipython3",
   "version": "3.7.6"
  }
 },
 "nbformat": 4,
 "nbformat_minor": 4
}
