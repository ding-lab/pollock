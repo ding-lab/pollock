{
 "cells": [
  {
   "cell_type": "code",
   "execution_count": 31,
   "metadata": {},
   "outputs": [],
   "source": [
    "from pathlib import Path\n",
    "from collections import Counter\n",
    "import os\n",
    "import re\n",
    "import random\n",
    "import subprocess\n",
    "\n",
    "import anndata\n",
    "import scanpy as sc\n",
    "import pandas as pd\n",
    "import numpy as np\n",
    "\n",
    "import mgitools.os_helpers as os_helpers"
   ]
  },
  {
   "cell_type": "code",
   "execution_count": 32,
   "metadata": {},
   "outputs": [],
   "source": [
    "# !pip install git+https://github.com/estorrs/mgitools\n",
    "# !pip install tensorflow==2.1.0"
   ]
  },
  {
   "cell_type": "code",
   "execution_count": 33,
   "metadata": {},
   "outputs": [
    {
     "name": "stdout",
     "output_type": "stream",
     "text": [
      "The autoreload extension is already loaded. To reload it, use:\n",
      "  %reload_ext autoreload\n"
     ]
    }
   ],
   "source": [
    "%load_ext autoreload"
   ]
  },
  {
   "cell_type": "code",
   "execution_count": 34,
   "metadata": {},
   "outputs": [],
   "source": [
    "%autoreload 2"
   ]
  },
  {
   "cell_type": "code",
   "execution_count": 35,
   "metadata": {},
   "outputs": [],
   "source": [
    "# !pip install -e /home/estorrs/pollock/\n",
    "import pollock\n",
    "from pollock.models.model import PollockDataset, PollockModel, load_from_directory, predict_from_anndata"
   ]
  },
  {
   "cell_type": "code",
   "execution_count": 36,
   "metadata": {},
   "outputs": [],
   "source": [
    "# !conda install -y scanpy"
   ]
  },
  {
   "cell_type": "code",
   "execution_count": 37,
   "metadata": {},
   "outputs": [],
   "source": [
    "# !pip install git+https://github.com/estorrs/mgitools"
   ]
  },
  {
   "cell_type": "code",
   "execution_count": 68,
   "metadata": {},
   "outputs": [],
   "source": [
    "CELL_TYPE_KEY = 'cell_type'\n",
    "N_PER_CELL_TYPE = 200\n",
    "DATA_DIR = '/home/estorrs/pollock/benchmarking/data/10232020_harmonized/teir_1/'\n",
    "RESULTS_DIR = '/home/estorrs/pollock/benchmarking/results/10272020_teir1'\n",
    "RESULTS_CROSS_DISEASE_DIR = '/home/estorrs/pollock/benchmarking/results/10272020_teir1_cross_disease'\n",
    "SANDBOX_DIR = '/home/estorrs/pollock/benchmarking/sandbox'\n",
    "\n",
    "Path(RESULTS_DIR).mkdir(parents=True, exist_ok=True)\n",
    "Path(RESULTS_CROSS_DISEASE_DIR).mkdir(parents=True, exist_ok=True)"
   ]
  },
  {
   "cell_type": "markdown",
   "metadata": {
    "heading_collapsed": true
   },
   "source": [
    "##### create training and validation datasets"
   ]
  },
  {
   "cell_type": "markdown",
   "metadata": {
    "hidden": true
   },
   "source": [
    "only run if you haven't created these datasets yet"
   ]
  },
  {
   "cell_type": "code",
   "execution_count": 23,
   "metadata": {
    "hidden": true
   },
   "outputs": [],
   "source": [
    "def cap_list(ls, n=100, split=.8, oversample=True):\n",
    "    \"\"\"\n",
    "    Grabs items from a pool.\n",
    "    \n",
    "    if split * pool size is greater than n, then just randomly sample 80% of the pool\n",
    "    otherwise sample 80% of the pool, then oversample so you end up with a final size of n\n",
    "    \"\"\"\n",
    "    # just return list if it is of length 1\n",
    "    if len(ls) <= 1: return ls\n",
    "    cap = int(len(ls) * split)\n",
    "    if cap > n:\n",
    "        return random.sample(ls, n)\n",
    "\n",
    "    if oversample:\n",
    "        pool = random.sample(ls, cap)\n",
    "        ## oversample to\n",
    "        return random.choices(pool, k=n)\n",
    "\n",
    "    return random.sample(ls, cap)\n",
    "\n",
    "def balancedish_training_generator(adata, cell_type_key, n_per_cell_type, oversample=True, split=.8):\n",
    "    \"\"\"\n",
    "    Return balanced train and validation sets\n",
    "    \"\"\"\n",
    "    cell_type_to_idxs = {}\n",
    "    for cell_id, cell_type in zip(adata.obs.index, adata.obs[cell_type_key]):\n",
    "        if cell_type not in cell_type_to_idxs:\n",
    "            cell_type_to_idxs[cell_type] = [cell_id]\n",
    "        else:\n",
    "            cell_type_to_idxs[cell_type].append(cell_id)\n",
    "\n",
    "    cell_type_to_idxs = {k:cap_list(ls, n_per_cell_type, oversample=oversample, split=split)\n",
    "                         for k, ls in cell_type_to_idxs.items()}\n",
    "\n",
    "    train_ids = np.asarray([x for ls in cell_type_to_idxs.values() for x in ls])\n",
    "    train_idxs = np.arange(adata.shape[0])[np.isin(np.asarray(adata.obs.index), train_ids)]\n",
    "    val_idxs = np.delete(np.arange(adata.shape[0]), train_idxs)\n",
    "\n",
    "    train_adata = adata[train_idxs, :]\n",
    "    val_adata = adata[val_idxs, :]\n",
    "\n",
    "    return train_adata, val_adata\n",
    "\n",
    "# def create_train_val_datasets(adata, cell_type_key, oversample=True):\n",
    "#     counts = Counter(adata.obs[cell_type_key])\n",
    "#     min_count = counts.most_common()[-1][1]\n",
    "#     n_per_cell_type = max(min_count, )\n",
    "#     train_adata, val_adata = balancedish_training_generator(adata, cell_type_key,\n",
    "#                                                             n_per_cell_type, oversample=oversample)\n",
    "#     return train_adata, val_adata"
   ]
  },
  {
   "cell_type": "code",
   "execution_count": 24,
   "metadata": {
    "hidden": true
   },
   "outputs": [
    {
     "data": {
      "text/plain": [
       "{'scRNAseq': {'brca': '/home/estorrs/pollock/benchmarking/data/10232020_harmonized/teir_2/scRNAseq/brca.h5ad',\n",
       "  'cesc': '/home/estorrs/pollock/benchmarking/data/10232020_harmonized/teir_2/scRNAseq/cesc.h5ad',\n",
       "  'hnscc': '/home/estorrs/pollock/benchmarking/data/10232020_harmonized/teir_2/scRNAseq/hnscc.h5ad',\n",
       "  'melanoma': '/home/estorrs/pollock/benchmarking/data/10232020_harmonized/teir_2/scRNAseq/melanoma.h5ad',\n",
       "  'pbmc': '/home/estorrs/pollock/benchmarking/data/10232020_harmonized/teir_2/scRNAseq/pbmc.h5ad',\n",
       "  'pdac': '/home/estorrs/pollock/benchmarking/data/10232020_harmonized/teir_2/scRNAseq/pdac.h5ad'},\n",
       " 'snATACseq': {'brca': '/home/estorrs/pollock/benchmarking/data/10232020_harmonized/teir_2/snATACseq/brca.h5ad',\n",
       "  'ccrcc': '/home/estorrs/pollock/benchmarking/data/10232020_harmonized/teir_2/snATACseq/ccrcc.h5ad',\n",
       "  'gbm': '/home/estorrs/pollock/benchmarking/data/10232020_harmonized/teir_2/snATACseq/gbm.h5ad'},\n",
       " 'snRNAseq': {'brca': '/home/estorrs/pollock/benchmarking/data/10232020_harmonized/teir_2/snRNAseq/brca.h5ad',\n",
       "  'ccrcc': '/home/estorrs/pollock/benchmarking/data/10232020_harmonized/teir_2/snRNAseq/ccrcc.h5ad',\n",
       "  'gbm': '/home/estorrs/pollock/benchmarking/data/10232020_harmonized/teir_2/snRNAseq/gbm.h5ad'}}"
      ]
     },
     "execution_count": 24,
     "metadata": {},
     "output_type": "execute_result"
    }
   ],
   "source": [
    "fps = sorted(os_helpers.listfiles(DATA_DIR, regex='.h5ad$'))\n",
    "fp_map = {fp.split('/')[-2]:{} for fp in fps}\n",
    "for fp in fps:\n",
    "    if '/_train.h5ad' not in fp and '/_val.h5ad' not in fp:\n",
    "        dtype = fp.split('/')[-2]\n",
    "        disease = fp.split('/')[-1].replace('.h5ad', '')\n",
    "        fp_map[dtype][disease] = fp\n",
    "fp_map"
   ]
  },
  {
   "cell_type": "code",
   "execution_count": 25,
   "metadata": {
    "hidden": true
   },
   "outputs": [
    {
     "name": "stdout",
     "output_type": "stream",
     "text": [
      "scRNAseq brca\n",
      "scRNAseq cesc\n",
      "scRNAseq hnscc\n",
      "scRNAseq melanoma\n",
      "scRNAseq pbmc\n",
      "scRNAseq pdac\n",
      "snATACseq brca\n",
      "snATACseq ccrcc\n",
      "snATACseq gbm\n",
      "snRNAseq brca\n",
      "snRNAseq ccrcc\n",
      "snRNAseq gbm\n"
     ]
    }
   ],
   "source": [
    "for dtype, d in fp_map.items():\n",
    "    for disease, fp in d.items():\n",
    "        print(dtype, disease)\n",
    "        adata = sc.read_h5ad(fp)\n",
    "        # check for cell type key\n",
    "        if CELL_TYPE_KEY not in adata.obs: raise RuntimeError(f'{CELL_TYPE_KEY} not in {fp}')\n",
    "        \n",
    "        train_adata, val_adata = balancedish_training_generator(adata, CELL_TYPE_KEY, N_PER_CELL_TYPE)\n",
    "        # resample validation data to make dataset smaller while keeping rare cell types\n",
    "        val_adata, _ = balancedish_training_generator(val_adata, CELL_TYPE_KEY, 1000, oversample=False,\n",
    "                                                     split=1.)\n",
    "        train_adata.write_h5ad(fp.replace('.h5ad', '_train.h5ad'))\n",
    "        val_adata.write_h5ad(fp.replace('.h5ad', '_val.h5ad'))\n",
    "        "
   ]
  },
  {
   "cell_type": "markdown",
   "metadata": {},
   "source": [
    "##### load in training and validation datasets"
   ]
  },
  {
   "cell_type": "code",
   "execution_count": 71,
   "metadata": {},
   "outputs": [
    {
     "name": "stdout",
     "output_type": "stream",
     "text": [
      "scRNAseq brca\n",
      "scRNAseq cesc\n",
      "scRNAseq hnscc\n",
      "scRNAseq melanoma\n",
      "scRNAseq pbmc\n",
      "scRNAseq pdac\n",
      "snATACseq brca\n",
      "snATACseq ccrcc\n",
      "snATACseq gbm\n",
      "snRNAseq brca\n",
      "snRNAseq ccrcc\n",
      "snRNAseq gbm\n"
     ]
    }
   ],
   "source": [
    "fps = sorted(os_helpers.listfiles(DATA_DIR, regex='.h5ad$'))\n",
    "adata_map = {fp.split('/')[-2]:{} for fp in fps}\n",
    "for fp in fps:\n",
    "    dtype = fp.split('/')[-2]\n",
    "    disease = re.sub(r'^(.*)((_train)|(_val)).h5ad$', r'\\1', fp.split('/')[-1])\n",
    "    if disease not in adata_map[dtype] and '.h5ad' not in disease: adata_map[dtype][disease] = {}\n",
    "    if 'train.h5ad' in fp:\n",
    "        adata_map[dtype][disease]['train'] = fp\n",
    "    if 'val.h5ad' in fp:\n",
    "        adata_map[dtype][disease]['val'] = fp\n",
    "for dtype, d in adata_map.items():\n",
    "    for disease, m in d.items():\n",
    "        print(dtype, disease)"
   ]
  },
  {
   "cell_type": "code",
   "execution_count": 72,
   "metadata": {},
   "outputs": [
    {
     "data": {
      "text/plain": [
       "{'train': '/home/estorrs/pollock/benchmarking/data/10232020_harmonized/teir_1/snATACseq/ccrcc_train.h5ad',\n",
       " 'val': '/home/estorrs/pollock/benchmarking/data/10232020_harmonized/teir_1/snATACseq/ccrcc_val.h5ad'}"
      ]
     },
     "execution_count": 72,
     "metadata": {},
     "output_type": "execute_result"
    }
   ],
   "source": [
    "adata_map['snATACseq'].pop('ccrcc')"
   ]
  },
  {
   "cell_type": "markdown",
   "metadata": {},
   "source": [
    "### run workflows"
   ]
  },
  {
   "cell_type": "code",
   "execution_count": 85,
   "metadata": {},
   "outputs": [],
   "source": [
    "def run_workflow_for_datasets(adata_map, workflow, workflow_identifier, output_dir):\n",
    "    for dtype, d in adata_map.items():\n",
    "#         if dtype != 'snATACseq':\n",
    "        for disease, m in d.items():\n",
    "            # make dir if doesnt exist yet\n",
    "            directory = os.path.join(output_dir, dtype, disease)\n",
    "            Path(directory).mkdir(parents=True, exist_ok=True)\n",
    "            train, val = sc.read_h5ad(m['train']), sc.read_h5ad(m['val'])\n",
    "\n",
    "            print(dtype, disease, train.shape, val.shape)\n",
    "            run_workflow(workflow, workflow_identifier,\n",
    "                train, val, directory)\n",
    "            \n",
    "def run_workflow_for_cross_disease(adata_map, workflow, workflow_identifier, output_dir):\n",
    "    for dtype, d in adata_map.items():\n",
    "        for disease1, m1 in d.items():\n",
    "            for disease2, m2 in d.items():\n",
    "                if disease1 != disease2:\n",
    "                    # make dir if doesnt exist yet\n",
    "                    directory = os.path.join(output_dir, dtype, f'{disease1}_train_{disease2}_val')\n",
    "                    Path(directory).mkdir(parents=True, exist_ok=True)\n",
    "                    train, val = sc.read_h5ad(m1['train']), sc.read_h5ad(m2['val'])\n",
    "\n",
    "                    print(dtype, f'{disease1}_train_{disease2}_val', train.shape, val.shape)\n",
    "                    run_workflow(workflow, workflow_identifier,\n",
    "                        train, val, directory)\n",
    "                    \n",
    "                    \n",
    "# def run_workflow_for_cross_dataset(adata_map, workflow, workflow_identifier, output_dir):\n",
    "#     for dtype, d in adata_map.items():\n",
    "#         for disease1, m1 in d.items():\n",
    "#             for disease2, m2 in d.items():\n",
    "#                 if disease1 != disease2:\n",
    "#                     # make dir if doesnt exist yet\n",
    "#                     directory = os.path.join(output_dir, dtype, f'{disease1}_train_{disease2}_val')\n",
    "#                     Path(directory).mkdir(parents=True, exist_ok=True)\n",
    "#                     train, val = sc.read_h5ad(m1['train']), sc.read_h5ad(m2['val'])\n",
    "\n",
    "#                     print(dtype, f'{disease1}_train_{disease2}_val', train.shape, val.shape)\n",
    "#                     run_workflow(workflow, workflow_identifier,\n",
    "#                         train, val, directory)\n",
    "\n",
    "def run_workflow(workflow, workflow_identifier, train, val, output_dir):\n",
    "    \"\"\"\n",
    "    Run the workflow defined by the workflow function.\n",
    "    \n",
    "    workflow function takes a train adata and a val adata as inputs,\n",
    "    and returns dataframe with cell_id, groundtruth, predicted, and probability columns\n",
    "    \"\"\"\n",
    "    # if it is pollock it needs to know where to save the module\n",
    "    if workflow_identifier == 'pollock':\n",
    "        df = workflow(train, val, CELL_TYPE_KEY, os.path.join(output_dir, f'{workflow_identifier}_module'))\n",
    "    else:\n",
    "        df = workflow(train, val, CELL_TYPE_KEY)\n",
    "    df.to_csv(os.path.join(output_dir, f'{workflow_identifier}.tsv'), sep='\\t', index=False, header=True)"
   ]
  },
  {
   "cell_type": "markdown",
   "metadata": {},
   "source": [
    "##### pollock"
   ]
  },
  {
   "cell_type": "code",
   "execution_count": 86,
   "metadata": {},
   "outputs": [],
   "source": [
    "def run_pollock_workflow(train, val, cell_type_key, module_fp):\n",
    "    train.obs['is_validation'] = [False] * train.shape[0]\n",
    "    val.obs['is_validation'] = [True] * val.shape[0]\n",
    "    combined = train.concatenate(val)\n",
    "    \n",
    "    pds = PollockDataset(combined.copy(), cell_type_key=cell_type_key,\n",
    "                     dataset_type='training', validation_key='is_validation')\n",
    "    \n",
    "    pm = PollockModel(pds.cell_types, pds.train_adata.shape[1], alpha=.0001, latent_dim=25)\n",
    "    \n",
    "    pm.fit(pds, epochs=20)\n",
    "    \n",
    "    pm.save(pds, module_fp)\n",
    "\n",
    "    preds = predict_from_anndata(val.copy(), module_fp, adata_batch_size=10000)\n",
    "    \n",
    "    df = pd.DataFrame.from_dict({\n",
    "        'cell_id': preds.index.to_list(),\n",
    "        'groundtruth': val.obs.loc[preds.index][cell_type_key].to_list(),\n",
    "        'predicted': preds['predicted_cell_type'],\n",
    "        'probability': preds['cell_type_probability']\n",
    "    })\n",
    "\n",
    "    return df"
   ]
  },
  {
   "cell_type": "code",
   "execution_count": 30,
   "metadata": {
    "scrolled": true
   },
   "outputs": [
    {
     "name": "stdout",
     "output_type": "stream",
     "text": [
      "scRNAseq brca (2600, 27131) (11253, 27131)\n"
     ]
    },
    {
     "name": "stderr",
     "output_type": "stream",
     "text": [
      "2020-10-29 16:02:50,078 normalizing the expression counts for model training\n",
      "2020-10-29 16:03:07,475 input dataset shape: (13853, 27131)\n",
      "2020-10-29 16:03:07,478 possible cell types: ['B cell', 'CD4 T cell', 'CD8 T cell', 'Dendritic', 'Endothelial', 'Erythrocyte', 'Fibroblast', 'Macrophage', 'Malignant', 'Mast', 'NK', 'Plasma', 'Treg']\n",
      "2020-10-29 16:03:07,480 possible cell types: [('Endothelial', 1200), ('CD4 T cell', 1200), ('NK', 1200), ('Fibroblast', 1200), ('CD8 T cell', 1200), ('Macrophage', 1200), ('Malignant', 1200), ('Plasma', 1200), ('Treg', 1200), ('B cell', 1200), ('Mast', 746), ('Dendritic', 592), ('Erythrocyte', 515)]\n",
      "2020-10-29 16:03:14,346 training dataset shape: (6102, 27131)\n",
      "2020-10-29 16:03:14,348 validation dataset shape: (7751, 27131)\n",
      "2020-10-29 16:03:34,674 epoch: 1, train loss: 36.64873504638672, val loss: 38.795326232910156\n",
      "2020-10-29 16:03:51,631 epoch: 2, train loss: 35.816097259521484, val loss: 37.67295837402344\n",
      "2020-10-29 16:04:08,309 epoch: 3, train loss: 35.0948600769043, val loss: 36.97618865966797\n",
      "2020-10-29 16:04:25,092 epoch: 4, train loss: 34.72310256958008, val loss: 36.659034729003906\n",
      "2020-10-29 16:04:41,799 epoch: 5, train loss: 34.43080520629883, val loss: 36.47195816040039\n",
      "2020-10-29 16:04:58,517 epoch: 6, train loss: 34.25409698486328, val loss: 36.28585433959961\n",
      "2020-10-29 16:05:14,770 epoch: 7, train loss: 34.078678131103516, val loss: 36.14299392700195\n",
      "2020-10-29 16:05:31,295 epoch: 8, train loss: 33.90052032470703, val loss: 35.99033737182617\n",
      "2020-10-29 16:05:47,945 epoch: 9, train loss: 33.74544143676758, val loss: 35.86955261230469\n",
      "2020-10-29 16:06:04,771 epoch: 10, train loss: 33.64683151245117, val loss: 35.778778076171875\n",
      "2020-10-29 16:06:21,572 epoch: 11, train loss: 33.51705551147461, val loss: 35.71489715576172\n",
      "2020-10-29 16:06:38,293 epoch: 12, train loss: 33.40735626220703, val loss: 35.65973663330078\n",
      "2020-10-29 16:06:55,187 epoch: 13, train loss: 33.291831970214844, val loss: 35.60588073730469\n",
      "2020-10-29 16:07:12,086 epoch: 14, train loss: 33.20261001586914, val loss: 35.56267547607422\n",
      "2020-10-29 16:07:28,852 epoch: 15, train loss: 33.11207962036133, val loss: 35.53062438964844\n",
      "2020-10-29 16:07:45,714 epoch: 16, train loss: 32.98698043823242, val loss: 35.49513244628906\n",
      "2020-10-29 16:08:02,384 epoch: 17, train loss: 32.88819122314453, val loss: 35.46852111816406\n",
      "2020-10-29 16:08:19,261 epoch: 18, train loss: 32.76993942260742, val loss: 35.45713424682617\n",
      "2020-10-29 16:08:36,060 epoch: 19, train loss: 32.62105941772461, val loss: 35.43198776245117\n",
      "2020-10-29 16:08:52,873 epoch: 20, train loss: 32.54635238647461, val loss: 35.43013381958008\n",
      "2020-10-29 16:09:07,178 normalizing counts for prediction\n",
      "2020-10-29 16:09:07,179 filtering for genes in training set\n",
      "2020-10-29 16:09:07,190 0 genes in training set are missing from prediction set\n",
      "2020-10-29 16:09:07,672 starting batch 1 of 2\n",
      "2020-10-29 16:09:07,847 normalizing counts for prediction\n",
      "2020-10-29 16:09:07,847 filtering for genes in training set\n",
      "2020-10-29 16:09:07,856 0 genes in training set are missing from prediction set\n",
      "2020-10-29 16:09:31,883 starting batch 2 of 2\n",
      "2020-10-29 16:09:31,999 normalizing counts for prediction\n",
      "2020-10-29 16:09:31,999 filtering for genes in training set\n",
      "2020-10-29 16:09:32,011 0 genes in training set are missing from prediction set\n"
     ]
    },
    {
     "name": "stdout",
     "output_type": "stream",
     "text": [
      "scRNAseq cesc (1939, 22928) (8451, 22928)\n"
     ]
    },
    {
     "name": "stderr",
     "output_type": "stream",
     "text": [
      "2020-10-29 16:09:36,397 normalizing the expression counts for model training\n",
      "2020-10-29 16:09:42,886 input dataset shape: (10390, 22928)\n",
      "2020-10-29 16:09:42,887 possible cell types: ['CD4 T cell', 'CD8 T cell', 'Endothelial', 'Epithelial', 'Erythrocyte', 'Fibroblast', 'Malignant', 'Mast', 'Monocyte', 'NK', 'Plasma']\n",
      "2020-10-29 16:09:42,889 possible cell types: [('Fibroblast', 1200), ('Monocyte', 1200), ('CD8 T cell', 1200), ('Epithelial', 1200), ('NK', 1200), ('Malignant', 1200), ('Plasma', 1135), ('CD4 T cell', 1118), ('Endothelial', 732), ('Mast', 138), ('Erythrocyte', 67)]\n",
      "2020-10-29 16:09:45,684 training dataset shape: (4663, 22928)\n",
      "2020-10-29 16:09:45,685 validation dataset shape: (5727, 22928)\n",
      "2020-10-29 16:09:56,775 epoch: 1, train loss: 37.39118576049805, val loss: 33.17431640625\n",
      "2020-10-29 16:10:06,671 epoch: 2, train loss: 36.19399642944336, val loss: 32.364967346191406\n",
      "2020-10-29 16:10:16,554 epoch: 3, train loss: 35.4684944152832, val loss: 31.438339233398438\n",
      "2020-10-29 16:10:26,991 epoch: 4, train loss: 34.95967483520508, val loss: 30.926593780517578\n",
      "2020-10-29 16:10:37,085 epoch: 5, train loss: 34.6867790222168, val loss: 30.731359481811523\n",
      "2020-10-29 16:10:47,188 epoch: 6, train loss: 34.51985168457031, val loss: 30.610382080078125\n",
      "2020-10-29 16:10:57,450 epoch: 7, train loss: 34.37595748901367, val loss: 30.498916625976562\n",
      "2020-10-29 16:11:07,505 epoch: 8, train loss: 34.23540115356445, val loss: 30.398725509643555\n",
      "2020-10-29 16:11:17,823 epoch: 9, train loss: 34.117347717285156, val loss: 30.292888641357422\n",
      "2020-10-29 16:11:27,992 epoch: 10, train loss: 33.98704528808594, val loss: 30.189098358154297\n",
      "2020-10-29 16:11:38,187 epoch: 11, train loss: 33.87572479248047, val loss: 30.09112548828125\n",
      "2020-10-29 16:11:48,519 epoch: 12, train loss: 33.757171630859375, val loss: 30.014606475830078\n",
      "2020-10-29 16:11:58,695 epoch: 13, train loss: 33.64168167114258, val loss: 29.95485496520996\n",
      "2020-10-29 16:12:09,035 epoch: 14, train loss: 33.52769470214844, val loss: 29.894193649291992\n",
      "2020-10-29 16:12:19,397 epoch: 15, train loss: 33.39638137817383, val loss: 29.837337493896484\n",
      "2020-10-29 16:12:29,597 epoch: 16, train loss: 33.27322006225586, val loss: 29.796527862548828\n",
      "2020-10-29 16:12:39,956 epoch: 17, train loss: 33.148170471191406, val loss: 29.75106430053711\n",
      "2020-10-29 16:12:50,279 epoch: 18, train loss: 33.044647216796875, val loss: 29.71270751953125\n",
      "2020-10-29 16:13:00,528 epoch: 19, train loss: 32.94702911376953, val loss: 29.704877853393555\n",
      "2020-10-29 16:13:10,655 epoch: 20, train loss: 32.835140228271484, val loss: 29.681854248046875\n",
      "2020-10-29 16:13:20,449 normalizing counts for prediction\n",
      "2020-10-29 16:13:20,450 filtering for genes in training set\n",
      "2020-10-29 16:13:20,460 0 genes in training set are missing from prediction set\n",
      "2020-10-29 16:13:21,016 starting batch 1 of 1\n",
      "2020-10-29 16:13:21,166 normalizing counts for prediction\n",
      "2020-10-29 16:13:21,167 filtering for genes in training set\n",
      "2020-10-29 16:13:21,177 0 genes in training set are missing from prediction set\n"
     ]
    },
    {
     "name": "stdout",
     "output_type": "stream",
     "text": [
      "scRNAseq hnscc (2200, 26929) (10288, 26929)\n"
     ]
    },
    {
     "name": "stderr",
     "output_type": "stream",
     "text": [
      "2020-10-29 16:13:43,597 normalizing the expression counts for model training\n",
      "2020-10-29 16:13:52,696 input dataset shape: (12488, 26929)\n",
      "2020-10-29 16:13:52,700 possible cell types: ['B cell', 'CD4 T cell', 'CD8 T cell', 'Endothelial', 'Erythrocyte', 'Malignant', 'Mast', 'Monocyte', 'NK', 'Plasma', 'Treg']\n",
      "2020-10-29 16:13:52,702 possible cell types: [('Treg', 1200), ('Plasma', 1200), ('Mast', 1200), ('B cell', 1200), ('CD4 T cell', 1200), ('Malignant', 1200), ('CD8 T cell', 1200), ('Endothelial', 1200), ('Monocyte', 1200), ('NK', 1200), ('Erythrocyte', 488)]\n",
      "2020-10-29 16:13:56,412 training dataset shape: (5268, 26929)\n",
      "2020-10-29 16:13:56,413 validation dataset shape: (7220, 26929)\n",
      "2020-10-29 16:14:11,542 epoch: 1, train loss: 30.803085327148438, val loss: 16.803770065307617\n",
      "2020-10-29 16:14:25,990 epoch: 2, train loss: 29.932323455810547, val loss: 16.530471801757812\n",
      "2020-10-29 16:14:40,380 epoch: 3, train loss: 29.50837516784668, val loss: 16.330692291259766\n",
      "2020-10-29 16:14:54,867 epoch: 4, train loss: 29.254018783569336, val loss: 16.26865005493164\n",
      "2020-10-29 16:15:09,319 epoch: 5, train loss: 29.00770378112793, val loss: 16.210105895996094\n",
      "2020-10-29 16:15:23,922 epoch: 6, train loss: 28.785171508789062, val loss: 16.11096954345703\n",
      "2020-10-29 16:15:38,482 epoch: 7, train loss: 28.610980987548828, val loss: 16.062570571899414\n",
      "2020-10-29 16:15:52,991 epoch: 8, train loss: 28.44013214111328, val loss: 16.022254943847656\n",
      "2020-10-29 16:16:07,918 epoch: 9, train loss: 28.369510650634766, val loss: 15.984155654907227\n",
      "2020-10-29 16:16:22,530 epoch: 10, train loss: 28.21926498413086, val loss: 15.95577621459961\n",
      "2020-10-29 16:16:37,213 epoch: 11, train loss: 28.111709594726562, val loss: 15.926215171813965\n",
      "2020-10-29 16:16:52,124 epoch: 12, train loss: 28.036752700805664, val loss: 15.9054536819458\n",
      "2020-10-29 16:17:06,436 epoch: 13, train loss: 27.964126586914062, val loss: 15.882484436035156\n",
      "2020-10-29 16:17:21,061 epoch: 14, train loss: 27.813030242919922, val loss: 15.870465278625488\n",
      "2020-10-29 16:17:35,514 epoch: 15, train loss: 27.78537940979004, val loss: 15.862403869628906\n",
      "2020-10-29 16:17:50,100 epoch: 16, train loss: 27.648035049438477, val loss: 15.852729797363281\n",
      "2020-10-29 16:18:04,588 epoch: 17, train loss: 27.592994689941406, val loss: 15.850082397460938\n",
      "2020-10-29 16:18:19,226 epoch: 18, train loss: 27.526323318481445, val loss: 15.849648475646973\n",
      "2020-10-29 16:18:33,781 epoch: 19, train loss: 27.40068244934082, val loss: 15.840411186218262\n",
      "2020-10-29 16:18:48,525 epoch: 20, train loss: 27.39193344116211, val loss: 15.84196662902832\n",
      "2020-10-29 16:19:01,182 normalizing counts for prediction\n",
      "2020-10-29 16:19:01,183 filtering for genes in training set\n",
      "2020-10-29 16:19:01,196 0 genes in training set are missing from prediction set\n",
      "2020-10-29 16:19:01,842 starting batch 1 of 2\n",
      "2020-10-29 16:19:02,064 normalizing counts for prediction\n",
      "2020-10-29 16:19:02,065 filtering for genes in training set\n",
      "2020-10-29 16:19:02,073 0 genes in training set are missing from prediction set\n",
      "2020-10-29 16:19:26,744 starting batch 2 of 2\n",
      "2020-10-29 16:19:26,819 normalizing counts for prediction\n",
      "2020-10-29 16:19:26,820 filtering for genes in training set\n",
      "2020-10-29 16:19:26,829 0 genes in training set are missing from prediction set\n"
     ]
    },
    {
     "name": "stdout",
     "output_type": "stream",
     "text": [
      "scRNAseq melanoma (2824, 23452) (8028, 23452)\n"
     ]
    },
    {
     "name": "stderr",
     "output_type": "stream",
     "text": [
      "2020-10-29 16:19:28,964 normalizing the expression counts for model training\n",
      "2020-10-29 16:19:35,791 input dataset shape: (10852, 23452)\n",
      "2020-10-29 16:19:35,793 possible cell types: ['B cell', 'CD4 T cell naive', 'CD8 CTL', 'CD8 CTL exausted', 'CD8 follicular T-cell', 'Dendritic', 'Fibroblast', 'M1 Macrophage', 'M2 Macrophage', 'Malignant', 'Monocyte', 'NK', 'Plasma', 'Treg', 'pDC']\n",
      "2020-10-29 16:19:35,794 possible cell types: [('CD8 CTL', 1200), ('B cell', 1200), ('CD8 CTL exausted', 1200), ('M2 Macrophage', 1200), ('Malignant', 1200), ('CD4 T cell naive', 1200), ('Treg', 862), ('Monocyte', 539), ('NK', 538), ('pDC', 478), ('Fibroblast', 321), ('Plasma', 273), ('Dendritic', 263), ('M1 Macrophage', 200), ('CD8 follicular T-cell', 178)]\n",
      "2020-10-29 16:19:38,949 training dataset shape: (5289, 23452)\n",
      "2020-10-29 16:19:38,950 validation dataset shape: (5563, 23452)\n",
      "2020-10-29 16:19:51,993 epoch: 1, train loss: 35.766632080078125, val loss: 44.68608093261719\n",
      "2020-10-29 16:20:04,155 epoch: 2, train loss: 35.11302185058594, val loss: 43.87565231323242\n",
      "2020-10-29 16:20:16,437 epoch: 3, train loss: 34.26144027709961, val loss: 42.853797912597656\n",
      "2020-10-29 16:20:28,915 epoch: 4, train loss: 33.91318893432617, val loss: 42.46352005004883\n",
      "2020-10-29 16:20:41,100 epoch: 5, train loss: 33.707191467285156, val loss: 42.311920166015625\n",
      "2020-10-29 16:20:53,213 epoch: 6, train loss: 33.52660369873047, val loss: 42.21087646484375\n",
      "2020-10-29 16:21:05,586 epoch: 7, train loss: 33.34983444213867, val loss: 42.07263946533203\n",
      "2020-10-29 16:21:17,937 epoch: 8, train loss: 33.167537689208984, val loss: 41.973045349121094\n",
      "2020-10-29 16:21:30,277 epoch: 9, train loss: 33.01460266113281, val loss: 41.84784698486328\n",
      "2020-10-29 16:21:42,827 epoch: 10, train loss: 32.87617492675781, val loss: 41.78526306152344\n",
      "2020-10-29 16:21:54,968 epoch: 11, train loss: 32.74836730957031, val loss: 41.73044967651367\n",
      "2020-10-29 16:22:07,072 epoch: 12, train loss: 32.61457824707031, val loss: 41.685302734375\n",
      "2020-10-29 16:22:19,372 epoch: 13, train loss: 32.500160217285156, val loss: 41.65327835083008\n",
      "2020-10-29 16:22:31,671 epoch: 14, train loss: 32.38747024536133, val loss: 41.63983917236328\n",
      "2020-10-29 16:22:43,934 epoch: 15, train loss: 32.262603759765625, val loss: 41.61988067626953\n",
      "2020-10-29 16:22:56,060 epoch: 16, train loss: 32.14670944213867, val loss: 41.62724685668945\n",
      "2020-10-29 16:23:08,476 epoch: 17, train loss: 32.031803131103516, val loss: 41.60662078857422\n",
      "2020-10-29 16:23:20,466 epoch: 18, train loss: 31.906869888305664, val loss: 41.64200210571289\n",
      "2020-10-29 16:23:32,718 epoch: 19, train loss: 31.790559768676758, val loss: 41.67365264892578\n",
      "2020-10-29 16:23:45,108 epoch: 20, train loss: 31.657861709594727, val loss: 41.748443603515625\n",
      "2020-10-29 16:23:55,816 normalizing counts for prediction\n",
      "2020-10-29 16:23:55,818 filtering for genes in training set\n",
      "2020-10-29 16:23:55,832 0 genes in training set are missing from prediction set\n",
      "2020-10-29 16:23:56,447 starting batch 1 of 1\n",
      "2020-10-29 16:23:56,590 normalizing counts for prediction\n",
      "2020-10-29 16:23:56,591 filtering for genes in training set\n",
      "2020-10-29 16:23:56,601 0 genes in training set are missing from prediction set\n"
     ]
    },
    {
     "name": "stdout",
     "output_type": "stream",
     "text": [
      "scRNAseq pbmc (834, 32738) (1320, 32738)\n"
     ]
    },
    {
     "name": "stderr",
     "output_type": "stream",
     "text": [
      "2020-10-29 16:24:12,971 normalizing the expression counts for model training\n",
      "2020-10-29 16:24:14,895 input dataset shape: (2154, 32738)\n",
      "2020-10-29 16:24:14,896 possible cell types: ['B cell', 'CD4 T cell', 'CD8 T cell', 'Dendritic', 'FCGR3A Monocyte', 'Megakaryocyte', 'NK']\n",
      "2020-10-29 16:24:14,897 possible cell types: [('CD4 T cell', 1143), ('B cell', 341), ('CD8 T cell', 306), ('NK', 163), ('FCGR3A Monocyte', 150), ('Dendritic', 38), ('Megakaryocyte', 13)]\n",
      "2020-10-29 16:24:15,475 training dataset shape: (1220, 32738)\n",
      "2020-10-29 16:24:15,476 validation dataset shape: (934, 32738)\n"
     ]
    },
    {
     "name": "stdout",
     "output_type": "stream",
     "text": [
      "WARNING:tensorflow:5 out of the last 13 calls to <function compute_loss at 0x7f13991523b0> triggered tf.function retracing. Tracing is expensive and the excessive number of tracings is likely due to passing python objects instead of tensors. Also, tf.function has experimental_relax_shapes=True option that relaxes argument shapes that can avoid unnecessary retracing. Please refer to https://www.tensorflow.org/tutorials/customization/performance#python_or_tensor_args and https://www.tensorflow.org/api_docs/python/tf/function for more details.\n"
     ]
    },
    {
     "name": "stderr",
     "output_type": "stream",
     "text": [
      "2020-10-29 16:24:20,309 5 out of the last 13 calls to <function compute_loss at 0x7f13991523b0> triggered tf.function retracing. Tracing is expensive and the excessive number of tracings is likely due to passing python objects instead of tensors. Also, tf.function has experimental_relax_shapes=True option that relaxes argument shapes that can avoid unnecessary retracing. Please refer to https://www.tensorflow.org/tutorials/customization/performance#python_or_tensor_args and https://www.tensorflow.org/api_docs/python/tf/function for more details.\n"
     ]
    },
    {
     "name": "stdout",
     "output_type": "stream",
     "text": [
      "WARNING:tensorflow:5 out of the last 11 calls to <function compute_loss at 0x7f13991523b0> triggered tf.function retracing. Tracing is expensive and the excessive number of tracings is likely due to passing python objects instead of tensors. Also, tf.function has experimental_relax_shapes=True option that relaxes argument shapes that can avoid unnecessary retracing. Please refer to https://www.tensorflow.org/tutorials/customization/performance#python_or_tensor_args and https://www.tensorflow.org/api_docs/python/tf/function for more details.\n"
     ]
    },
    {
     "name": "stderr",
     "output_type": "stream",
     "text": [
      "2020-10-29 16:24:20,397 5 out of the last 11 calls to <function compute_loss at 0x7f13991523b0> triggered tf.function retracing. Tracing is expensive and the excessive number of tracings is likely due to passing python objects instead of tensors. Also, tf.function has experimental_relax_shapes=True option that relaxes argument shapes that can avoid unnecessary retracing. Please refer to https://www.tensorflow.org/tutorials/customization/performance#python_or_tensor_args and https://www.tensorflow.org/api_docs/python/tf/function for more details.\n"
     ]
    },
    {
     "name": "stdout",
     "output_type": "stream",
     "text": [
      "WARNING:tensorflow:6 out of the last 12 calls to <function compute_loss at 0x7f13991523b0> triggered tf.function retracing. Tracing is expensive and the excessive number of tracings is likely due to passing python objects instead of tensors. Also, tf.function has experimental_relax_shapes=True option that relaxes argument shapes that can avoid unnecessary retracing. Please refer to https://www.tensorflow.org/tutorials/customization/performance#python_or_tensor_args and https://www.tensorflow.org/api_docs/python/tf/function for more details.\n"
     ]
    },
    {
     "name": "stderr",
     "output_type": "stream",
     "text": [
      "2020-10-29 16:24:20,483 6 out of the last 12 calls to <function compute_loss at 0x7f13991523b0> triggered tf.function retracing. Tracing is expensive and the excessive number of tracings is likely due to passing python objects instead of tensors. Also, tf.function has experimental_relax_shapes=True option that relaxes argument shapes that can avoid unnecessary retracing. Please refer to https://www.tensorflow.org/tutorials/customization/performance#python_or_tensor_args and https://www.tensorflow.org/api_docs/python/tf/function for more details.\n"
     ]
    },
    {
     "name": "stdout",
     "output_type": "stream",
     "text": [
      "WARNING:tensorflow:7 out of the last 14 calls to <function compute_loss at 0x7f13991523b0> triggered tf.function retracing. Tracing is expensive and the excessive number of tracings is likely due to passing python objects instead of tensors. Also, tf.function has experimental_relax_shapes=True option that relaxes argument shapes that can avoid unnecessary retracing. Please refer to https://www.tensorflow.org/tutorials/customization/performance#python_or_tensor_args and https://www.tensorflow.org/api_docs/python/tf/function for more details.\n"
     ]
    },
    {
     "name": "stderr",
     "output_type": "stream",
     "text": [
      "2020-10-29 16:24:20,614 7 out of the last 14 calls to <function compute_loss at 0x7f13991523b0> triggered tf.function retracing. Tracing is expensive and the excessive number of tracings is likely due to passing python objects instead of tensors. Also, tf.function has experimental_relax_shapes=True option that relaxes argument shapes that can avoid unnecessary retracing. Please refer to https://www.tensorflow.org/tutorials/customization/performance#python_or_tensor_args and https://www.tensorflow.org/api_docs/python/tf/function for more details.\n",
      "2020-10-29 16:24:21,194 epoch: 1, train loss: 47.38005065917969, val loss: 48.97697448730469\n",
      "2020-10-29 16:24:25,415 epoch: 2, train loss: 45.49711608886719, val loss: 46.78955078125\n",
      "2020-10-29 16:24:29,654 epoch: 3, train loss: 45.3695068359375, val loss: 46.15694808959961\n",
      "2020-10-29 16:24:33,893 epoch: 4, train loss: 46.088008880615234, val loss: 45.939239501953125\n",
      "2020-10-29 16:24:38,090 epoch: 5, train loss: 45.7983283996582, val loss: 45.89154815673828\n",
      "2020-10-29 16:24:42,282 epoch: 6, train loss: 45.235084533691406, val loss: 45.87865447998047\n",
      "2020-10-29 16:24:46,597 epoch: 7, train loss: 45.21448516845703, val loss: 45.78720474243164\n",
      "2020-10-29 16:24:50,744 epoch: 8, train loss: 44.37274932861328, val loss: 45.64356231689453\n",
      "2020-10-29 16:24:54,911 epoch: 9, train loss: 45.39387893676758, val loss: 45.582969665527344\n",
      "2020-10-29 16:24:59,194 epoch: 10, train loss: 44.69259262084961, val loss: 45.552555084228516\n",
      "2020-10-29 16:25:03,292 epoch: 11, train loss: 43.57330322265625, val loss: 45.51705551147461\n",
      "2020-10-29 16:25:07,626 epoch: 12, train loss: 43.869476318359375, val loss: 45.49353790283203\n",
      "2020-10-29 16:25:11,952 epoch: 13, train loss: 44.129852294921875, val loss: 45.442073822021484\n",
      "2020-10-29 16:25:16,080 epoch: 14, train loss: 44.574737548828125, val loss: 45.41798782348633\n",
      "2020-10-29 16:25:20,229 epoch: 15, train loss: 43.43092727661133, val loss: 45.414146423339844\n",
      "2020-10-29 16:25:24,382 epoch: 16, train loss: 43.09816360473633, val loss: 45.382389068603516\n",
      "2020-10-29 16:25:28,785 epoch: 17, train loss: 43.51848220825195, val loss: 45.38694763183594\n",
      "2020-10-29 16:25:32,986 epoch: 18, train loss: 43.33462142944336, val loss: 45.436866760253906\n",
      "2020-10-29 16:25:37,231 epoch: 19, train loss: 43.328956604003906, val loss: 45.36065673828125\n",
      "2020-10-29 16:25:41,569 epoch: 20, train loss: 43.48333740234375, val loss: 45.32277297973633\n",
      "2020-10-29 16:25:44,893 normalizing counts for prediction\n",
      "2020-10-29 16:25:44,894 filtering for genes in training set\n",
      "2020-10-29 16:25:44,908 0 genes in training set are missing from prediction set\n",
      "2020-10-29 16:25:45,647 starting batch 1 of 1\n",
      "2020-10-29 16:25:45,698 normalizing counts for prediction\n",
      "2020-10-29 16:25:45,700 filtering for genes in training set\n",
      "2020-10-29 16:25:45,713 0 genes in training set are missing from prediction set\n"
     ]
    },
    {
     "name": "stdout",
     "output_type": "stream",
     "text": [
      "scRNAseq pdac (3703, 28756) (17428, 28756)\n"
     ]
    },
    {
     "name": "stderr",
     "output_type": "stream",
     "text": [
      "2020-10-29 16:25:51,707 normalizing the expression counts for model training\n",
      "2020-10-29 16:26:07,917 input dataset shape: (21131, 28756)\n",
      "2020-10-29 16:26:07,919 possible cell types: ['ADM', 'Acinar', 'B cell', 'CD4 T cell', 'CD4 T cell naive', 'CD8 T cell', 'Dendritic', 'Endothelial', 'Epithelial', 'Erythrocyte', 'Fibroblast', 'Islet', 'Macrophage', 'Malignant', 'Mast', 'NK', 'Plasma', 'Treg', 'Tuft']\n",
      "2020-10-29 16:26:07,921 possible cell types: [('Dendritic', 1200), ('CD4 T cell naive', 1200), ('Macrophage', 1200), ('NK', 1200), ('Plasma', 1200), ('CD8 T cell', 1200), ('Malignant', 1200), ('Treg', 1200), ('Fibroblast', 1200), ('Acinar', 1200), ('Islet', 1200), ('Endothelial', 1200), ('B cell', 1200), ('CD4 T cell', 1200), ('Mast', 1200), ('ADM', 1200), ('Epithelial', 1168), ('Erythrocyte', 612), ('Tuft', 151)]\n",
      "2020-10-29 16:26:16,050 training dataset shape: (8943, 28756)\n",
      "2020-10-29 16:26:16,051 validation dataset shape: (12188, 28756)\n",
      "2020-10-29 16:26:40,125 epoch: 1, train loss: 29.594036102294922, val loss: 29.98845100402832\n",
      "2020-10-29 16:27:03,052 epoch: 2, train loss: 28.532102584838867, val loss: 28.972333908081055\n",
      "2020-10-29 16:27:25,836 epoch: 3, train loss: 28.053813934326172, val loss: 28.546875\n",
      "2020-10-29 16:27:48,152 epoch: 4, train loss: 27.818349838256836, val loss: 28.37812042236328\n",
      "2020-10-29 16:28:11,199 epoch: 5, train loss: 27.647096633911133, val loss: 28.290712356567383\n",
      "2020-10-29 16:28:34,124 epoch: 6, train loss: 27.497285842895508, val loss: 28.142337799072266\n",
      "2020-10-29 16:28:57,351 epoch: 7, train loss: 27.352075576782227, val loss: 28.027956008911133\n",
      "2020-10-29 16:29:19,869 epoch: 8, train loss: 27.253406524658203, val loss: 27.932750701904297\n",
      "2020-10-29 16:29:42,382 epoch: 9, train loss: 27.144245147705078, val loss: 27.81976318359375\n",
      "2020-10-29 16:30:05,371 epoch: 10, train loss: 27.048105239868164, val loss: 27.715415954589844\n",
      "2020-10-29 16:30:28,389 epoch: 11, train loss: 26.969167709350586, val loss: 27.60640525817871\n",
      "2020-10-29 16:30:51,457 epoch: 12, train loss: 26.878944396972656, val loss: 27.524192810058594\n",
      "2020-10-29 16:31:15,107 epoch: 13, train loss: 26.801551818847656, val loss: 27.4566650390625\n",
      "2020-10-29 16:31:38,458 epoch: 14, train loss: 26.730621337890625, val loss: 27.411876678466797\n",
      "2020-10-29 16:32:01,469 epoch: 15, train loss: 26.651880264282227, val loss: 27.37677764892578\n",
      "2020-10-29 16:32:24,557 epoch: 16, train loss: 26.580001831054688, val loss: 27.354597091674805\n",
      "2020-10-29 16:32:47,741 epoch: 17, train loss: 26.503555297851562, val loss: 27.333139419555664\n",
      "2020-10-29 16:33:10,634 epoch: 18, train loss: 26.42627716064453, val loss: 27.32022476196289\n",
      "2020-10-29 16:33:33,918 epoch: 19, train loss: 26.35531234741211, val loss: 27.30548095703125\n",
      "2020-10-29 16:33:57,300 epoch: 20, train loss: 26.28415870666504, val loss: 27.302635192871094\n",
      "2020-10-29 16:34:19,381 normalizing counts for prediction\n",
      "2020-10-29 16:34:19,382 filtering for genes in training set\n",
      "2020-10-29 16:34:19,391 0 genes in training set are missing from prediction set\n",
      "2020-10-29 16:34:19,889 starting batch 1 of 2\n",
      "2020-10-29 16:34:20,075 normalizing counts for prediction\n",
      "2020-10-29 16:34:20,075 filtering for genes in training set\n",
      "2020-10-29 16:34:20,085 0 genes in training set are missing from prediction set\n",
      "2020-10-29 16:34:45,917 starting batch 2 of 2\n",
      "2020-10-29 16:34:46,281 normalizing counts for prediction\n",
      "2020-10-29 16:34:46,282 filtering for genes in training set\n",
      "2020-10-29 16:34:46,294 0 genes in training set are missing from prediction set\n"
     ]
    },
    {
     "name": "stdout",
     "output_type": "stream",
     "text": [
      "snATACseq brca (2552, 19891) (9304, 19891)\n"
     ]
    },
    {
     "name": "stderr",
     "output_type": "stream",
     "text": [
      "2020-10-29 16:35:06,960 normalizing the expression counts for model training\n",
      "2020-10-29 16:35:13,357 input dataset shape: (11856, 19891)\n",
      "2020-10-29 16:35:13,358 possible cell types: ['B cell', 'CD4 T cell', 'CD8 T cell', 'Endothelial', 'Macrophage', 'Malignant', 'Mast', 'NK', 'Treg', 'cCAF', 'cDC', 'mCAF', 'pDC', 'vCAF']\n",
      "2020-10-29 16:35:13,360 possible cell types: [('Malignant', 1200), ('mCAF', 1200), ('Macrophage', 1200), ('Endothelial', 1200), ('CD4 T cell', 1200), ('CD8 T cell', 1200), ('Treg', 1200), ('B cell', 1200), ('vCAF', 637), ('cDC', 519), ('pDC', 457), ('NK', 430), ('cCAF', 127), ('Mast', 86)]\n",
      "2020-10-29 16:35:16,451 training dataset shape: (5502, 19891)\n",
      "2020-10-29 16:35:16,452 validation dataset shape: (6354, 19891)\n",
      "2020-10-29 16:35:29,482 epoch: 1, train loss: 37.69630813598633, val loss: 43.788761138916016\n",
      "2020-10-29 16:35:41,436 epoch: 2, train loss: 37.37327194213867, val loss: 43.38957977294922\n",
      "2020-10-29 16:35:53,423 epoch: 3, train loss: 37.03084182739258, val loss: 43.08024597167969\n",
      "2020-10-29 16:36:05,385 epoch: 4, train loss: 36.7581901550293, val loss: 42.85714340209961\n",
      "2020-10-29 16:36:17,354 epoch: 5, train loss: 36.5737419128418, val loss: 42.715641021728516\n",
      "2020-10-29 16:36:29,419 epoch: 6, train loss: 36.47758102416992, val loss: 42.683982849121094\n",
      "2020-10-29 16:36:41,308 epoch: 7, train loss: 36.25856018066406, val loss: 42.466407775878906\n",
      "2020-10-29 16:36:53,563 epoch: 8, train loss: 36.127445220947266, val loss: 42.39442443847656\n",
      "2020-10-29 16:37:05,675 epoch: 9, train loss: 36.039772033691406, val loss: 42.37286376953125\n",
      "2020-10-29 16:37:17,823 epoch: 10, train loss: 35.96125793457031, val loss: 42.342620849609375\n",
      "2020-10-29 16:37:30,102 epoch: 11, train loss: 35.83303451538086, val loss: 42.259315490722656\n",
      "2020-10-29 16:37:42,194 epoch: 12, train loss: 35.899688720703125, val loss: 42.51783752441406\n",
      "2020-10-29 16:37:54,193 epoch: 13, train loss: 35.62050247192383, val loss: 42.265342712402344\n",
      "2020-10-29 16:38:06,425 epoch: 14, train loss: 35.414493560791016, val loss: 42.18931579589844\n",
      "2020-10-29 16:38:18,608 epoch: 15, train loss: 35.33607864379883, val loss: 42.245121002197266\n",
      "2020-10-29 16:38:30,649 epoch: 16, train loss: 35.172447204589844, val loss: 42.19993591308594\n",
      "2020-10-29 16:38:42,819 epoch: 17, train loss: 35.11769104003906, val loss: 42.19270706176758\n",
      "2020-10-29 16:38:54,919 epoch: 18, train loss: 35.016197204589844, val loss: 42.247398376464844\n",
      "2020-10-29 16:39:06,938 epoch: 19, train loss: 34.83606719970703, val loss: 42.23405456542969\n",
      "2020-10-29 16:39:18,819 epoch: 20, train loss: 34.691978454589844, val loss: 42.23775863647461\n",
      "2020-10-29 16:39:29,796 normalizing counts for prediction\n",
      "2020-10-29 16:39:29,797 filtering for genes in training set\n",
      "2020-10-29 16:39:29,808 0 genes in training set are missing from prediction set\n",
      "2020-10-29 16:39:30,317 starting batch 1 of 1\n",
      "2020-10-29 16:39:30,596 normalizing counts for prediction\n",
      "2020-10-29 16:39:30,597 filtering for genes in training set\n",
      "2020-10-29 16:39:30,603 0 genes in training set are missing from prediction set\n"
     ]
    },
    {
     "name": "stdout",
     "output_type": "stream",
     "text": [
      "snATACseq gbm (1316, 19891) (5650, 19891)\n"
     ]
    },
    {
     "name": "stderr",
     "output_type": "stream",
     "text": [
      "2020-10-29 16:40:08,714 normalizing the expression counts for model training\n",
      "2020-10-29 16:40:12,470 input dataset shape: (6966, 19891)\n",
      "2020-10-29 16:40:12,472 possible cell types: ['B cell', 'Endothelial', 'Fibroblast', 'Malignant', 'Microglia', 'Neuron', 'Oligodendrocytes', 'T cells']\n",
      "2020-10-29 16:40:12,473 possible cell types: [('Microglia', 1200), ('Neuron', 1200), ('Malignant', 1200), ('Oligodendrocytes', 1200), ('T cells', 1200), ('Fibroblast', 810), ('Endothelial', 101), ('B cell', 55)]\n",
      "2020-10-29 16:40:13,940 training dataset shape: (3124, 19891)\n",
      "2020-10-29 16:40:13,941 validation dataset shape: (3842, 19891)\n"
     ]
    },
    {
     "name": "stdout",
     "output_type": "stream",
     "text": [
      "WARNING:tensorflow:5 out of the last 54 calls to <function compute_loss at 0x7f13991523b0> triggered tf.function retracing. Tracing is expensive and the excessive number of tracings is likely due to passing python objects instead of tensors. Also, tf.function has experimental_relax_shapes=True option that relaxes argument shapes that can avoid unnecessary retracing. Please refer to https://www.tensorflow.org/tutorials/customization/performance#python_or_tensor_args and https://www.tensorflow.org/api_docs/python/tf/function for more details.\n"
     ]
    },
    {
     "name": "stderr",
     "output_type": "stream",
     "text": [
      "2020-10-29 16:40:21,281 5 out of the last 54 calls to <function compute_loss at 0x7f13991523b0> triggered tf.function retracing. Tracing is expensive and the excessive number of tracings is likely due to passing python objects instead of tensors. Also, tf.function has experimental_relax_shapes=True option that relaxes argument shapes that can avoid unnecessary retracing. Please refer to https://www.tensorflow.org/tutorials/customization/performance#python_or_tensor_args and https://www.tensorflow.org/api_docs/python/tf/function for more details.\n"
     ]
    },
    {
     "name": "stdout",
     "output_type": "stream",
     "text": [
      "WARNING:tensorflow:6 out of the last 55 calls to <function compute_loss at 0x7f13991523b0> triggered tf.function retracing. Tracing is expensive and the excessive number of tracings is likely due to passing python objects instead of tensors. Also, tf.function has experimental_relax_shapes=True option that relaxes argument shapes that can avoid unnecessary retracing. Please refer to https://www.tensorflow.org/tutorials/customization/performance#python_or_tensor_args and https://www.tensorflow.org/api_docs/python/tf/function for more details.\n"
     ]
    },
    {
     "name": "stderr",
     "output_type": "stream",
     "text": [
      "2020-10-29 16:40:21,373 6 out of the last 55 calls to <function compute_loss at 0x7f13991523b0> triggered tf.function retracing. Tracing is expensive and the excessive number of tracings is likely due to passing python objects instead of tensors. Also, tf.function has experimental_relax_shapes=True option that relaxes argument shapes that can avoid unnecessary retracing. Please refer to https://www.tensorflow.org/tutorials/customization/performance#python_or_tensor_args and https://www.tensorflow.org/api_docs/python/tf/function for more details.\n",
      "2020-10-29 16:40:22,452 epoch: 1, train loss: 44.33525085449219, val loss: 23.476886749267578\n",
      "2020-10-29 16:40:29,674 epoch: 2, train loss: 44.14936828613281, val loss: 23.278709411621094\n",
      "2020-10-29 16:40:36,817 epoch: 3, train loss: 43.8795280456543, val loss: 23.152862548828125\n",
      "2020-10-29 16:40:43,861 epoch: 4, train loss: 43.461429595947266, val loss: 23.063217163085938\n",
      "2020-10-29 16:40:50,911 epoch: 5, train loss: 43.23381042480469, val loss: 22.99054718017578\n",
      "2020-10-29 16:40:57,887 epoch: 6, train loss: 43.14479446411133, val loss: 22.982208251953125\n",
      "2020-10-29 16:41:04,868 epoch: 7, train loss: 42.79022979736328, val loss: 22.899829864501953\n",
      "2020-10-29 16:41:11,722 epoch: 8, train loss: 42.53595733642578, val loss: 22.867725372314453\n",
      "2020-10-29 16:41:18,584 epoch: 9, train loss: 42.330955505371094, val loss: 22.819311141967773\n",
      "2020-10-29 16:41:25,469 epoch: 10, train loss: 42.14524841308594, val loss: 22.79163932800293\n",
      "2020-10-29 16:41:32,359 epoch: 11, train loss: 41.98735427856445, val loss: 22.790882110595703\n",
      "2020-10-29 16:41:39,279 epoch: 12, train loss: 41.77195358276367, val loss: 22.768592834472656\n",
      "2020-10-29 16:41:46,108 epoch: 13, train loss: 41.61470031738281, val loss: 22.778533935546875\n",
      "2020-10-29 16:41:52,977 epoch: 14, train loss: 41.38120651245117, val loss: 22.77081298828125\n",
      "2020-10-29 16:41:59,856 epoch: 15, train loss: 41.37659454345703, val loss: 22.815570831298828\n",
      "2020-10-29 16:42:06,844 epoch: 16, train loss: 41.371856689453125, val loss: 22.893325805664062\n",
      "2020-10-29 16:42:13,831 epoch: 17, train loss: 40.80650329589844, val loss: 22.78122329711914\n",
      "2020-10-29 16:42:20,785 epoch: 18, train loss: 40.597015380859375, val loss: 22.76516342163086\n",
      "2020-10-29 16:42:27,614 epoch: 19, train loss: 40.42860794067383, val loss: 22.759004592895508\n",
      "2020-10-29 16:42:34,479 epoch: 20, train loss: 40.1353645324707, val loss: 22.75423812866211\n",
      "2020-10-29 16:42:40,877 normalizing counts for prediction\n",
      "2020-10-29 16:42:40,879 filtering for genes in training set\n",
      "2020-10-29 16:42:40,891 0 genes in training set are missing from prediction set\n",
      "2020-10-29 16:42:41,326 starting batch 1 of 1\n",
      "2020-10-29 16:42:41,507 normalizing counts for prediction\n",
      "2020-10-29 16:42:41,508 filtering for genes in training set\n",
      "2020-10-29 16:42:41,517 0 genes in training set are missing from prediction set\n"
     ]
    },
    {
     "name": "stdout",
     "output_type": "stream",
     "text": [
      "snRNAseq brca (2455, 29175) (9490, 29175)\n"
     ]
    },
    {
     "name": "stderr",
     "output_type": "stream",
     "text": [
      "2020-10-29 16:43:04,834 normalizing the expression counts for model training\n",
      "2020-10-29 16:43:14,110 input dataset shape: (11945, 29175)\n",
      "2020-10-29 16:43:14,112 possible cell types: ['Adipocyte', 'B cell', 'CD4 T cell', 'CD8 T cell', 'Dendritic', 'Endothelial', 'Fibroblast', 'Macrophage', 'Malignant', 'Mast', 'NK', 'Plasma', 'Treg']\n",
      "2020-10-29 16:43:14,114 possible cell types: [('Malignant', 1200), ('CD4 T cell', 1200), ('Endothelial', 1200), ('Fibroblast', 1200), ('CD8 T cell', 1200), ('Macrophage', 1200), ('B cell', 1200), ('Treg', 1200), ('Plasma', 1200), ('NK', 482), ('Mast', 318), ('Adipocyte', 273), ('Dendritic', 72)]\n",
      "2020-10-29 16:43:17,956 training dataset shape: (5247, 29175)\n",
      "2020-10-29 16:43:17,957 validation dataset shape: (6698, 29175)\n",
      "2020-10-29 16:43:33,817 epoch: 1, train loss: 39.688575744628906, val loss: 39.98768615722656\n",
      "2020-10-29 16:43:48,882 epoch: 2, train loss: 39.03700637817383, val loss: 39.365821838378906\n",
      "2020-10-29 16:44:03,968 epoch: 3, train loss: 38.410396575927734, val loss: 39.00123596191406\n",
      "2020-10-29 16:44:18,884 epoch: 4, train loss: 38.00253677368164, val loss: 38.79451370239258\n",
      "2020-10-29 16:44:33,826 epoch: 5, train loss: 37.74557113647461, val loss: 38.6587028503418\n",
      "2020-10-29 16:44:48,809 epoch: 6, train loss: 37.53438186645508, val loss: 38.55998992919922\n",
      "2020-10-29 16:45:04,103 epoch: 7, train loss: 37.362037658691406, val loss: 38.47416687011719\n",
      "2020-10-29 16:45:19,507 epoch: 8, train loss: 37.20846176147461, val loss: 38.39519500732422\n",
      "2020-10-29 16:45:34,531 epoch: 9, train loss: 37.07615280151367, val loss: 38.339263916015625\n",
      "2020-10-29 16:45:49,810 epoch: 10, train loss: 36.953086853027344, val loss: 38.289886474609375\n",
      "2020-10-29 16:46:04,948 epoch: 11, train loss: 36.83998107910156, val loss: 38.26863098144531\n",
      "2020-10-29 16:46:20,299 epoch: 12, train loss: 36.73271942138672, val loss: 38.23475646972656\n",
      "2020-10-29 16:46:35,669 epoch: 13, train loss: 36.60880661010742, val loss: 38.20606231689453\n",
      "2020-10-29 16:46:50,932 epoch: 14, train loss: 36.488624572753906, val loss: 38.171199798583984\n",
      "2020-10-29 16:47:06,337 epoch: 15, train loss: 36.36885070800781, val loss: 38.160118103027344\n",
      "2020-10-29 16:47:21,668 epoch: 16, train loss: 36.25281524658203, val loss: 38.141395568847656\n",
      "2020-10-29 16:47:37,109 epoch: 17, train loss: 36.13185501098633, val loss: 38.14171600341797\n",
      "2020-10-29 16:47:52,652 epoch: 18, train loss: 36.01603698730469, val loss: 38.14291763305664\n",
      "2020-10-29 16:48:07,770 epoch: 19, train loss: 35.87751770019531, val loss: 38.13323211669922\n",
      "2020-10-29 16:48:23,142 epoch: 20, train loss: 35.73862075805664, val loss: 38.13212966918945\n",
      "2020-10-29 16:48:36,306 normalizing counts for prediction\n",
      "2020-10-29 16:48:36,307 filtering for genes in training set\n",
      "2020-10-29 16:48:36,320 0 genes in training set are missing from prediction set\n",
      "2020-10-29 16:48:36,852 starting batch 1 of 1\n",
      "2020-10-29 16:48:36,957 normalizing counts for prediction\n",
      "2020-10-29 16:48:36,958 filtering for genes in training set\n",
      "2020-10-29 16:48:36,966 0 genes in training set are missing from prediction set\n"
     ]
    },
    {
     "name": "stdout",
     "output_type": "stream",
     "text": [
      "snRNAseq ccrcc (3867, 33538) (10444, 33538)\n"
     ]
    },
    {
     "name": "stderr",
     "output_type": "stream",
     "text": [
      "2020-10-29 16:49:05,670 normalizing the expression counts for model training\n",
      "2020-10-29 16:49:18,413 input dataset shape: (14311, 33538)\n",
      "2020-10-29 16:49:18,415 possible cell types: ['Basophil', 'CD4 CTL', 'CD4 T cell', 'CD4 T cell activated', 'CD4 T cell naive', 'CD4/CD8 proliferating', 'CD8 CTL', 'CD8 T cell preexhausted', 'Endothelial', 'Epithelial', 'Fibroblast', 'Macrophage', 'Macrophage proliferating', 'Malignant', 'NK cell strong', 'NK cell weak', 'Plasma', 'TRM', 'Treg', 'cDC', 'mCAF', 'pDC']\n",
      "2020-10-29 16:49:18,417 possible cell types: [('Malignant', 1200), ('Endothelial', 1200), ('mCAF', 1200), ('Macrophage', 1200), ('Epithelial', 1200), ('CD4 T cell', 1200), ('NK cell strong', 871), ('CD4 T cell activated', 791), ('CD4 T cell naive', 725), ('Fibroblast', 639), ('Treg', 574), ('TRM', 513), ('CD4/CD8 proliferating', 466), ('Macrophage proliferating', 466), ('cDC', 447), ('CD8 CTL', 439), ('NK cell weak', 409), ('CD4 CTL', 348), ('Plasma', 208), ('CD8 T cell preexhausted', 141), ('pDC', 43), ('Basophil', 31)]\n",
      "2020-10-29 16:49:24,203 training dataset shape: (7501, 33538)\n",
      "2020-10-29 16:49:24,204 validation dataset shape: (6810, 33538)\n"
     ]
    },
    {
     "name": "stdout",
     "output_type": "stream",
     "text": [
      "WARNING:tensorflow:5 out of the last 123 calls to <function compute_loss at 0x7f13991523b0> triggered tf.function retracing. Tracing is expensive and the excessive number of tracings is likely due to passing python objects instead of tensors. Also, tf.function has experimental_relax_shapes=True option that relaxes argument shapes that can avoid unnecessary retracing. Please refer to https://www.tensorflow.org/tutorials/customization/performance#python_or_tensor_args and https://www.tensorflow.org/api_docs/python/tf/function for more details.\n"
     ]
    },
    {
     "name": "stderr",
     "output_type": "stream",
     "text": [
      "2020-10-29 16:49:44,584 5 out of the last 123 calls to <function compute_loss at 0x7f13991523b0> triggered tf.function retracing. Tracing is expensive and the excessive number of tracings is likely due to passing python objects instead of tensors. Also, tf.function has experimental_relax_shapes=True option that relaxes argument shapes that can avoid unnecessary retracing. Please refer to https://www.tensorflow.org/tutorials/customization/performance#python_or_tensor_args and https://www.tensorflow.org/api_docs/python/tf/function for more details.\n",
      "2020-10-29 16:49:48,759 epoch: 1, train loss: 34.759559631347656, val loss: 50.450416564941406\n",
      "2020-10-29 16:50:12,131 epoch: 2, train loss: 34.12269592285156, val loss: 49.272796630859375\n",
      "2020-10-29 16:50:35,853 epoch: 3, train loss: 33.885658264160156, val loss: 48.648887634277344\n",
      "2020-10-29 16:50:59,535 epoch: 4, train loss: 33.5566291809082, val loss: 48.25336456298828\n",
      "2020-10-29 16:51:23,306 epoch: 5, train loss: 33.337772369384766, val loss: 47.949134826660156\n",
      "2020-10-29 16:51:47,379 epoch: 6, train loss: 33.17268371582031, val loss: 47.729736328125\n",
      "2020-10-29 16:52:11,993 epoch: 7, train loss: 33.026615142822266, val loss: 47.605316162109375\n",
      "2020-10-29 16:52:36,267 epoch: 8, train loss: 32.90724563598633, val loss: 47.515037536621094\n",
      "2020-10-29 16:53:00,803 epoch: 9, train loss: 32.83308410644531, val loss: 47.473426818847656\n",
      "2020-10-29 16:53:25,019 epoch: 10, train loss: 32.71847152709961, val loss: 47.41253662109375\n",
      "2020-10-29 16:53:49,491 epoch: 11, train loss: 32.65684127807617, val loss: 47.3516845703125\n",
      "2020-10-29 16:54:13,776 epoch: 12, train loss: 32.4649543762207, val loss: 47.359642028808594\n",
      "2020-10-29 16:54:38,078 epoch: 13, train loss: 32.3839225769043, val loss: 47.29639434814453\n",
      "2020-10-29 16:55:02,480 epoch: 14, train loss: 32.260074615478516, val loss: 47.25303268432617\n",
      "2020-10-29 16:55:26,870 epoch: 15, train loss: 32.30411148071289, val loss: 47.262367248535156\n",
      "2020-10-29 16:55:50,876 epoch: 16, train loss: 32.05318832397461, val loss: 47.24540328979492\n",
      "2020-10-29 16:56:14,892 epoch: 17, train loss: 31.95688819885254, val loss: 47.24498748779297\n",
      "2020-10-29 16:56:39,394 epoch: 18, train loss: 31.848459243774414, val loss: 47.267791748046875\n",
      "2020-10-29 16:57:03,766 epoch: 19, train loss: 31.759496688842773, val loss: 47.274131774902344\n",
      "2020-10-29 16:57:28,029 epoch: 20, train loss: 31.65078353881836, val loss: 47.323795318603516\n",
      "2020-10-29 16:57:46,499 normalizing counts for prediction\n",
      "2020-10-29 16:57:46,500 filtering for genes in training set\n",
      "2020-10-29 16:57:46,511 0 genes in training set are missing from prediction set\n",
      "2020-10-29 16:57:47,062 starting batch 1 of 2\n",
      "2020-10-29 16:57:47,524 normalizing counts for prediction\n",
      "2020-10-29 16:57:47,524 filtering for genes in training set\n",
      "2020-10-29 16:57:47,533 0 genes in training set are missing from prediction set\n",
      "2020-10-29 16:58:17,861 starting batch 2 of 2\n",
      "2020-10-29 16:58:18,020 normalizing counts for prediction\n",
      "2020-10-29 16:58:18,021 filtering for genes in training set\n",
      "2020-10-29 16:58:18,034 0 genes in training set are missing from prediction set\n"
     ]
    },
    {
     "name": "stdout",
     "output_type": "stream",
     "text": [
      "snRNAseq gbm (1692, 29748) (6807, 29748)\n"
     ]
    },
    {
     "name": "stderr",
     "output_type": "stream",
     "text": [
      "2020-10-29 16:58:21,082 normalizing the expression counts for model training\n",
      "2020-10-29 16:58:27,959 input dataset shape: (8499, 29748)\n",
      "2020-10-29 16:58:27,961 possible cell types: ['B cell', 'Endothelial', 'Fibroblast', 'Malignant', 'Microglia', 'Monocyte', 'Neuron', 'Oligodendrocytes', 'T cells']\n",
      "2020-10-29 16:58:27,962 possible cell types: [('Fibroblast', 1200), ('Neuron', 1200), ('Microglia', 1200), ('Oligodendrocytes', 1200), ('Malignant', 1200), ('T cells', 1200), ('Endothelial', 581), ('B cell', 578), ('Monocyte', 140)]\n",
      "2020-10-29 16:58:30,434 training dataset shape: (3723, 29748)\n",
      "2020-10-29 16:58:30,435 validation dataset shape: (4776, 29748)\n",
      "2020-10-29 16:58:41,820 epoch: 1, train loss: 45.88108825683594, val loss: 47.097232818603516\n",
      "2020-10-29 16:58:52,290 epoch: 2, train loss: 45.138607025146484, val loss: 46.600093841552734\n",
      "2020-10-29 16:59:02,919 epoch: 3, train loss: 44.354984283447266, val loss: 46.20143508911133\n",
      "2020-10-29 16:59:13,389 epoch: 4, train loss: 43.86900329589844, val loss: 45.875709533691406\n",
      "2020-10-29 16:59:23,762 epoch: 5, train loss: 43.49412536621094, val loss: 45.66602325439453\n",
      "2020-10-29 16:59:34,222 epoch: 6, train loss: 43.25929641723633, val loss: 45.56365966796875\n",
      "2020-10-29 16:59:44,671 epoch: 7, train loss: 43.137271881103516, val loss: 45.465782165527344\n",
      "2020-10-29 16:59:55,048 epoch: 8, train loss: 42.872947692871094, val loss: 45.39922332763672\n",
      "2020-10-29 17:00:05,484 epoch: 9, train loss: 42.7613410949707, val loss: 45.322242736816406\n",
      "2020-10-29 17:00:15,968 epoch: 10, train loss: 42.50483703613281, val loss: 45.27689743041992\n",
      "2020-10-29 17:00:26,383 epoch: 11, train loss: 42.39133834838867, val loss: 45.236427307128906\n",
      "2020-10-29 17:00:36,956 epoch: 12, train loss: 42.25358581542969, val loss: 45.207557678222656\n",
      "2020-10-29 17:00:47,536 epoch: 13, train loss: 42.06375503540039, val loss: 45.172698974609375\n",
      "2020-10-29 17:00:58,150 epoch: 14, train loss: 41.98573303222656, val loss: 45.17237091064453\n",
      "2020-10-29 17:01:08,603 epoch: 15, train loss: 41.86240768432617, val loss: 45.140625\n",
      "2020-10-29 17:01:19,319 epoch: 16, train loss: 41.62067413330078, val loss: 45.12571334838867\n",
      "2020-10-29 17:01:29,870 epoch: 17, train loss: 41.54057693481445, val loss: 45.1451301574707\n",
      "2020-10-29 17:01:40,696 epoch: 18, train loss: 41.376548767089844, val loss: 45.13019561767578\n",
      "2020-10-29 17:01:51,105 epoch: 19, train loss: 41.074642181396484, val loss: 45.139930725097656\n",
      "2020-10-29 17:02:01,838 epoch: 20, train loss: 40.997955322265625, val loss: 45.146461486816406\n",
      "2020-10-29 17:02:11,091 normalizing counts for prediction\n",
      "2020-10-29 17:02:11,092 filtering for genes in training set\n",
      "2020-10-29 17:02:11,106 0 genes in training set are missing from prediction set\n",
      "2020-10-29 17:02:11,835 starting batch 1 of 1\n",
      "2020-10-29 17:02:11,977 normalizing counts for prediction\n",
      "2020-10-29 17:02:11,979 filtering for genes in training set\n",
      "2020-10-29 17:02:11,992 0 genes in training set are missing from prediction set\n"
     ]
    }
   ],
   "source": [
    "run_workflow_for_datasets(adata_map, run_pollock_workflow, 'pollock', RESULTS_DIR)"
   ]
  },
  {
   "cell_type": "code",
   "execution_count": null,
   "metadata": {},
   "outputs": [
    {
     "name": "stdout",
     "output_type": "stream",
     "text": [
      "scRNAseq brca_train_cesc_val (2600, 27131) (8449, 22928)\n"
     ]
    },
    {
     "name": "stderr",
     "output_type": "stream",
     "text": [
      "2020-11-03 10:05:32,144 normalizing the expression counts for model training\n",
      "2020-11-03 10:05:39,440 input dataset shape: (11049, 22662)\n",
      "2020-11-03 10:05:39,442 possible cell types: ['B cell', 'CD4 T cell', 'CD8 T cell', 'Dendritic', 'Endothelial', 'Epithelial', 'Erythrocyte', 'Fibroblast', 'Malignant', 'Mast', 'Monocyte', 'NK', 'Plasma', 'Treg']\n",
      "2020-11-03 10:05:39,444 possible cell types: [('NK', 1200), ('CD8 T cell', 1200), ('Fibroblast', 1200), ('Malignant', 1200), ('Monocyte', 1200), ('Plasma', 1135), ('CD4 T cell', 1118), ('Epithelial', 1000), ('Endothelial', 732), ('Mast', 249), ('Erythrocyte', 215), ('Treg', 200), ('B cell', 200), ('Dendritic', 200)]\n",
      "2020-11-03 10:05:42,660 training dataset shape: (5315, 22662)\n",
      "2020-11-03 10:05:42,662 validation dataset shape: (5734, 22662)\n",
      "2020-11-03 10:05:55,843 epoch: 1, train loss: 34.00298309326172, val loss: 22.467525482177734\n",
      "2020-11-03 10:06:07,968 epoch: 2, train loss: 32.6106071472168, val loss: 21.930818557739258\n",
      "2020-11-03 10:06:20,045 epoch: 3, train loss: 32.40802764892578, val loss: 21.716251373291016\n",
      "2020-11-03 10:06:32,107 epoch: 4, train loss: 31.90435791015625, val loss: 21.60125732421875\n",
      "2020-11-03 10:06:44,279 epoch: 5, train loss: 31.62221908569336, val loss: 21.513755798339844\n",
      "2020-11-03 10:06:56,048 epoch: 6, train loss: 31.748605728149414, val loss: 21.465164184570312\n",
      "2020-11-03 10:07:08,179 epoch: 7, train loss: 31.404029846191406, val loss: 21.405818939208984\n",
      "2020-11-03 10:07:20,245 epoch: 8, train loss: 31.419601440429688, val loss: 21.35858917236328\n",
      "2020-11-03 10:07:32,680 epoch: 9, train loss: 31.196712493896484, val loss: 21.299983978271484\n",
      "2020-11-03 10:07:45,233 epoch: 10, train loss: 31.092208862304688, val loss: 21.261917114257812\n",
      "2020-11-03 10:07:57,535 epoch: 11, train loss: 31.21627426147461, val loss: 21.271453857421875\n",
      "2020-11-03 10:08:09,810 epoch: 12, train loss: 30.760873794555664, val loss: 21.184917449951172\n",
      "2020-11-03 10:08:22,259 epoch: 13, train loss: 30.7459774017334, val loss: 21.15358543395996\n",
      "2020-11-03 10:08:34,660 epoch: 14, train loss: 30.678428649902344, val loss: 21.11815643310547\n",
      "2020-11-03 10:08:46,815 epoch: 15, train loss: 30.747486114501953, val loss: 21.100873947143555\n",
      "2020-11-03 10:08:59,107 epoch: 16, train loss: 30.460763931274414, val loss: 21.06581687927246\n",
      "2020-11-03 10:09:11,310 epoch: 17, train loss: 30.30426597595215, val loss: 21.05541229248047\n",
      "2020-11-03 10:09:23,730 epoch: 18, train loss: 30.25824546813965, val loss: 21.037874221801758\n",
      "2020-11-03 10:09:36,153 epoch: 19, train loss: 30.011714935302734, val loss: 21.022621154785156\n",
      "2020-11-03 10:09:48,693 epoch: 20, train loss: 29.94379234313965, val loss: 21.022994995117188\n",
      "2020-11-03 10:09:59,761 normalizing counts for prediction\n",
      "2020-11-03 10:09:59,762 filtering for genes in training set\n",
      "2020-11-03 10:09:59,772 0 genes in training set are missing from prediction set\n",
      "2020-11-03 10:10:00,329 starting batch 1 of 1\n",
      "2020-11-03 10:10:00,502 normalizing counts for prediction\n",
      "2020-11-03 10:10:00,503 filtering for genes in training set\n",
      "2020-11-03 10:10:00,514 0 genes in training set are missing from prediction set\n"
     ]
    },
    {
     "name": "stdout",
     "output_type": "stream",
     "text": [
      "scRNAseq brca_train_hnscc_val (2600, 27131) (10288, 26929)\n"
     ]
    },
    {
     "name": "stderr",
     "output_type": "stream",
     "text": [
      "2020-11-03 10:10:27,648 normalizing the expression counts for model training\n",
      "2020-11-03 10:10:37,265 input dataset shape: (12888, 25823)\n",
      "2020-11-03 10:10:37,267 possible cell types: ['B cell', 'CD4 T cell', 'CD8 T cell', 'Dendritic', 'Endothelial', 'Erythrocyte', 'Fibroblast', 'Malignant', 'Mast', 'Monocyte', 'NK', 'Plasma', 'Treg']\n",
      "2020-11-03 10:10:37,269 possible cell types: [('NK', 1200), ('CD8 T cell', 1200), ('Endothelial', 1200), ('CD4 T cell', 1200), ('Treg', 1200), ('Malignant', 1200), ('Monocyte', 1200), ('B cell', 1200), ('Mast', 1200), ('Plasma', 1200), ('Erythrocyte', 488), ('Fibroblast', 200), ('Dendritic', 200)]\n",
      "2020-11-03 10:10:41,132 training dataset shape: (5596, 25823)\n",
      "2020-11-03 10:10:41,134 validation dataset shape: (7292, 25823)\n",
      "2020-11-03 10:10:56,815 epoch: 1, train loss: 30.21483612060547, val loss: 24.32537078857422\n",
      "2020-11-03 10:11:11,807 epoch: 2, train loss: 29.540552139282227, val loss: 23.86591339111328\n",
      "2020-11-03 10:11:26,608 epoch: 3, train loss: 29.025232315063477, val loss: 23.64142417907715\n",
      "2020-11-03 10:11:41,525 epoch: 4, train loss: 28.784914016723633, val loss: 23.551746368408203\n",
      "2020-11-03 10:11:56,139 epoch: 5, train loss: 28.550310134887695, val loss: 23.45391845703125\n",
      "2020-11-03 10:12:10,866 epoch: 6, train loss: 28.384410858154297, val loss: 23.385040283203125\n",
      "2020-11-03 10:12:25,904 epoch: 7, train loss: 28.31096839904785, val loss: 23.340166091918945\n",
      "2020-11-03 10:12:40,752 epoch: 8, train loss: 28.140108108520508, val loss: 23.303951263427734\n",
      "2020-11-03 10:12:55,789 epoch: 9, train loss: 28.020965576171875, val loss: 23.279808044433594\n",
      "2020-11-03 10:13:11,018 epoch: 10, train loss: 27.954051971435547, val loss: 23.246971130371094\n",
      "2020-11-03 10:13:25,836 epoch: 11, train loss: 27.810789108276367, val loss: 23.209148406982422\n",
      "2020-11-03 10:13:40,935 epoch: 12, train loss: 27.709735870361328, val loss: 23.172231674194336\n",
      "2020-11-03 10:13:55,815 epoch: 13, train loss: 27.623279571533203, val loss: 23.139896392822266\n",
      "2020-11-03 10:14:10,907 epoch: 14, train loss: 27.527320861816406, val loss: 23.102596282958984\n",
      "2020-11-03 10:14:25,975 epoch: 15, train loss: 27.410921096801758, val loss: 23.07596206665039\n",
      "2020-11-03 10:14:41,118 epoch: 16, train loss: 27.349102020263672, val loss: 23.056560516357422\n",
      "2020-11-03 10:14:56,272 epoch: 17, train loss: 27.242170333862305, val loss: 23.042346954345703\n",
      "2020-11-03 10:15:11,302 epoch: 18, train loss: 27.168903350830078, val loss: 23.018142700195312\n",
      "2020-11-03 10:15:26,581 epoch: 19, train loss: 27.078454971313477, val loss: 23.005878448486328\n",
      "2020-11-03 10:15:41,435 epoch: 20, train loss: 27.016355514526367, val loss: 22.98989486694336\n",
      "2020-11-03 10:15:55,134 normalizing counts for prediction\n",
      "2020-11-03 10:15:55,135 filtering for genes in training set\n",
      "2020-11-03 10:15:55,145 0 genes in training set are missing from prediction set\n",
      "2020-11-03 10:15:55,527 starting batch 1 of 2\n",
      "2020-11-03 10:15:55,721 normalizing counts for prediction\n",
      "2020-11-03 10:15:55,722 filtering for genes in training set\n",
      "2020-11-03 10:15:55,732 0 genes in training set are missing from prediction set\n",
      "2020-11-03 10:16:21,625 starting batch 2 of 2\n",
      "2020-11-03 10:16:21,743 normalizing counts for prediction\n",
      "2020-11-03 10:16:21,744 filtering for genes in training set\n",
      "2020-11-03 10:16:21,755 0 genes in training set are missing from prediction set\n"
     ]
    },
    {
     "name": "stdout",
     "output_type": "stream",
     "text": [
      "scRNAseq brca_train_melanoma_val (2600, 27131) (6735, 23452)\n"
     ]
    },
    {
     "name": "stderr",
     "output_type": "stream",
     "text": [
      "2020-11-03 10:16:24,276 normalizing the expression counts for model training\n",
      "2020-11-03 10:16:30,130 input dataset shape: (9335, 21538)\n",
      "2020-11-03 10:16:30,132 possible cell types: ['B cell', 'CD4 T cell', 'CD8 T cell', 'Dendritic', 'Endothelial', 'Erythrocyte', 'Fibroblast', 'Malignant', 'Mast', 'Monocyte', 'NK', 'Plasma', 'Treg']\n",
      "2020-11-03 10:16:30,133 possible cell types: [('CD8 T cell', 1200), ('CD4 T cell', 1200), ('Malignant', 1200), ('Monocyte', 1200), ('B cell', 1200), ('Treg', 862), ('Dendritic', 741), ('NK', 538), ('Fibroblast', 321), ('Plasma', 273), ('Endothelial', 200), ('Mast', 200), ('Erythrocyte', 200)]\n",
      "2020-11-03 10:16:32,486 training dataset shape: (4676, 21538)\n",
      "2020-11-03 10:16:32,487 validation dataset shape: (4659, 21538)\n",
      "2020-11-03 10:16:43,964 epoch: 1, train loss: 36.257877349853516, val loss: 46.29212951660156\n",
      "2020-11-03 10:16:54,352 epoch: 2, train loss: 35.411956787109375, val loss: 45.69017791748047\n",
      "2020-11-03 10:17:04,734 epoch: 3, train loss: 34.414100646972656, val loss: 44.82820129394531\n",
      "2020-11-03 10:17:15,215 epoch: 4, train loss: 34.2485466003418, val loss: 44.558082580566406\n",
      "2020-11-03 10:17:25,619 epoch: 5, train loss: 33.88395690917969, val loss: 44.37346649169922\n",
      "2020-11-03 10:17:36,029 epoch: 6, train loss: 33.473846435546875, val loss: 44.219146728515625\n",
      "2020-11-03 10:17:46,585 epoch: 7, train loss: 33.6269645690918, val loss: 44.10765838623047\n",
      "2020-11-03 10:17:56,875 epoch: 8, train loss: 33.3357048034668, val loss: 43.984371185302734\n",
      "2020-11-03 10:18:07,283 epoch: 9, train loss: 33.01499557495117, val loss: 43.848968505859375\n",
      "2020-11-03 10:18:17,917 epoch: 10, train loss: 32.97789001464844, val loss: 43.734344482421875\n",
      "2020-11-03 10:18:28,471 epoch: 11, train loss: 32.74220275878906, val loss: 43.651336669921875\n",
      "2020-11-03 10:18:39,296 epoch: 12, train loss: 32.84859848022461, val loss: 43.56760025024414\n",
      "2020-11-03 10:18:49,961 epoch: 13, train loss: 32.527137756347656, val loss: 43.52665710449219\n",
      "2020-11-03 10:19:00,708 epoch: 14, train loss: 32.4800910949707, val loss: 43.46372985839844\n",
      "2020-11-03 10:19:11,399 epoch: 15, train loss: 32.37306213378906, val loss: 43.43970489501953\n",
      "2020-11-03 10:19:22,074 epoch: 16, train loss: 32.5491828918457, val loss: 43.61335754394531\n",
      "2020-11-03 10:19:32,757 epoch: 17, train loss: 32.141380310058594, val loss: 43.371334075927734\n",
      "2020-11-03 10:19:43,503 epoch: 18, train loss: 31.986774444580078, val loss: 43.36054229736328\n",
      "2020-11-03 10:19:54,049 epoch: 19, train loss: 31.9576473236084, val loss: 43.357261657714844\n"
     ]
    }
   ],
   "source": [
    "run_workflow_for_cross_disease(adata_map, run_pollock_workflow, 'pollock', RESULTS_CROSS_DISEASE_DIR)"
   ]
  },
  {
   "cell_type": "markdown",
   "metadata": {
    "heading_collapsed": true
   },
   "source": [
    "###### testing stuff"
   ]
  },
  {
   "cell_type": "code",
   "execution_count": null,
   "metadata": {
    "hidden": true
   },
   "outputs": [],
   "source": [
    "train, val = sc.read_h5ad(adata_map['snRNAseq']['brca']['train']), sc.read_h5ad(adata_map['scRNAseq']['brca']['val'])"
   ]
  },
  {
   "cell_type": "code",
   "execution_count": null,
   "metadata": {
    "hidden": true
   },
   "outputs": [],
   "source": [
    "module_dir = os.path.join(SANDBOX_DIR, 'temp_module')"
   ]
  },
  {
   "cell_type": "code",
   "execution_count": null,
   "metadata": {
    "hidden": true
   },
   "outputs": [],
   "source": [
    "train.obs['is_validation'] = [False] * train.shape[0]\n",
    "val.obs['is_validation'] = [True] * val.shape[0]\n",
    "combined = train.concatenate(val)\n",
    "combined"
   ]
  },
  {
   "cell_type": "code",
   "execution_count": null,
   "metadata": {
    "hidden": true
   },
   "outputs": [],
   "source": [
    "# pds = PollockDataset(train, cell_type_key=CELL_TYPE_KEY,\n",
    "#                      dataset_type='training')"
   ]
  },
  {
   "cell_type": "code",
   "execution_count": null,
   "metadata": {
    "hidden": true
   },
   "outputs": [],
   "source": [
    "val.shape"
   ]
  },
  {
   "cell_type": "code",
   "execution_count": null,
   "metadata": {
    "hidden": true
   },
   "outputs": [],
   "source": [
    "pds = PollockDataset(combined, cell_type_key=CELL_TYPE_KEY,\n",
    "                     dataset_type='training', validation_key='is_validation')"
   ]
  },
  {
   "cell_type": "code",
   "execution_count": null,
   "metadata": {
    "hidden": true
   },
   "outputs": [],
   "source": [
    "pm = PollockModel(pds.cell_types, pds.train_adata.shape[1], alpha=.0001, latent_dim=25)"
   ]
  },
  {
   "cell_type": "code",
   "execution_count": null,
   "metadata": {
    "hidden": true,
    "scrolled": true
   },
   "outputs": [],
   "source": [
    "pm.fit(pds, epochs=2)"
   ]
  },
  {
   "cell_type": "code",
   "execution_count": null,
   "metadata": {
    "hidden": true
   },
   "outputs": [],
   "source": [
    "pm.save(pds, module_dir)"
   ]
  },
  {
   "cell_type": "code",
   "execution_count": null,
   "metadata": {
    "hidden": true
   },
   "outputs": [],
   "source": [
    "val.shape"
   ]
  },
  {
   "cell_type": "code",
   "execution_count": null,
   "metadata": {
    "hidden": true,
    "scrolled": true
   },
   "outputs": [],
   "source": [
    "preds = predict_from_anndata(val.copy(),\n",
    "        '/home/estorrs/pollock/benchmarking/sandbox/temp_module', adata_batch_size=10000)\n",
    "preds"
   ]
  },
  {
   "cell_type": "code",
   "execution_count": null,
   "metadata": {
    "hidden": true
   },
   "outputs": [],
   "source": [
    "df = pd.DataFrame.from_dict({\n",
    "    'cell_id': preds.index.to_list(),\n",
    "    'groundtruth': val.obs.loc[preds.index][CELL_TYPE_KEY].to_list(),\n",
    "    'predicted': preds['predicted_cell_type'],\n",
    "    'probability': preds['cell_type_probability']\n",
    "})\n",
    "df"
   ]
  },
  {
   "cell_type": "markdown",
   "metadata": {
    "heading_collapsed": true
   },
   "source": [
    "##### scanpy ingest"
   ]
  },
  {
   "cell_type": "code",
   "execution_count": 21,
   "metadata": {
    "hidden": true
   },
   "outputs": [],
   "source": [
    "def ingest_preprocess(adata):\n",
    "    adata.var['mt'] = adata.var_names.str.startswith('MT-')\n",
    "    sc.pp.calculate_qc_metrics(adata, qc_vars=['mt'], percent_top=None, log1p=False, inplace=True)\n",
    "    sc.pp.normalize_total(adata, target_sum=1e4)\n",
    "    sc.pp.log1p(adata)\n",
    "    sc.pp.highly_variable_genes(adata, flavor=\"seurat\", n_top_genes=2500)\n",
    "    adata.raw = adata\n",
    "    adata = adata[:, adata.var.highly_variable]\n",
    "    sc.pp.regress_out(adata, ['total_counts', 'pct_counts_mt'])\n",
    "    sc.pp.scale(adata)\n",
    "    \n",
    "    return adata\n",
    "\n",
    "def run_scanpy_workflow(train, val, cell_type_key):\n",
    "    var_names = train.var_names.intersection(val.var_names)\n",
    "    train = train[:, var_names]\n",
    "    val = val[:, var_names]\n",
    "    \n",
    "    groundtruth = val.obs[cell_type_key].to_list()\n",
    "\n",
    "    sc.pp.pca(train)\n",
    "    sc.pp.neighbors(train)\n",
    "    sc.tl.umap(train)\n",
    "    \n",
    "    sc.tl.ingest(val, train, obs=cell_type_key)\n",
    "    \n",
    "    df = pd.DataFrame.from_dict({\n",
    "        'cell_id': val.obs.index.to_list(),\n",
    "        'groundtruth': groundtruth,\n",
    "        'predicted': val.obs[cell_type_key].to_list(),\n",
    "        'probability': [np.nan] * val.shape[0]\n",
    "    })\n",
    "    \n",
    "    return df"
   ]
  },
  {
   "cell_type": "code",
   "execution_count": 22,
   "metadata": {
    "hidden": true
   },
   "outputs": [
    {
     "name": "stdout",
     "output_type": "stream",
     "text": [
      "scRNAseq brca (2600, 27131) (11253, 27131)\n"
     ]
    },
    {
     "name": "stderr",
     "output_type": "stream",
     "text": [
      "/home/estorrs/miniconda3/envs/pollock_dev/lib/python3.7/site-packages/anndata/_core/anndata.py:1094: FutureWarning: is_categorical is deprecated and will be removed in a future version.  Use is_categorical_dtype instead\n",
      "  if not is_categorical(df_full[k]):\n"
     ]
    },
    {
     "name": "stdout",
     "output_type": "stream",
     "text": [
      "scRNAseq cesc (1941, 22928) (8449, 22928)\n"
     ]
    },
    {
     "name": "stderr",
     "output_type": "stream",
     "text": [
      "/home/estorrs/miniconda3/envs/pollock_dev/lib/python3.7/site-packages/anndata/_core/anndata.py:1094: FutureWarning: is_categorical is deprecated and will be removed in a future version.  Use is_categorical_dtype instead\n",
      "  if not is_categorical(df_full[k]):\n"
     ]
    },
    {
     "name": "stdout",
     "output_type": "stream",
     "text": [
      "scRNAseq hnscc (2200, 26929) (10288, 26929)\n"
     ]
    },
    {
     "name": "stderr",
     "output_type": "stream",
     "text": [
      "/home/estorrs/miniconda3/envs/pollock_dev/lib/python3.7/site-packages/anndata/_core/anndata.py:1094: FutureWarning: is_categorical is deprecated and will be removed in a future version.  Use is_categorical_dtype instead\n",
      "  if not is_categorical(df_full[k]):\n"
     ]
    },
    {
     "name": "stdout",
     "output_type": "stream",
     "text": [
      "scRNAseq melanoma (2000, 23452) (6735, 23452)\n"
     ]
    },
    {
     "name": "stderr",
     "output_type": "stream",
     "text": [
      "/home/estorrs/miniconda3/envs/pollock_dev/lib/python3.7/site-packages/anndata/_core/anndata.py:1094: FutureWarning: is_categorical is deprecated and will be removed in a future version.  Use is_categorical_dtype instead\n",
      "  if not is_categorical(df_full[k]):\n"
     ]
    },
    {
     "name": "stdout",
     "output_type": "stream",
     "text": [
      "scRNAseq pbmc (940, 32738) (1698, 32738)\n"
     ]
    },
    {
     "name": "stderr",
     "output_type": "stream",
     "text": [
      "/home/estorrs/miniconda3/envs/pollock_dev/lib/python3.7/site-packages/anndata/_core/anndata.py:1094: FutureWarning: is_categorical is deprecated and will be removed in a future version.  Use is_categorical_dtype instead\n",
      "  if not is_categorical(df_full[k]):\n"
     ]
    },
    {
     "name": "stdout",
     "output_type": "stream",
     "text": [
      "scRNAseq pdac (3296, 28756) (15435, 28756)\n"
     ]
    },
    {
     "name": "stderr",
     "output_type": "stream",
     "text": [
      "/home/estorrs/miniconda3/envs/pollock_dev/lib/python3.7/site-packages/anndata/_core/anndata.py:1094: FutureWarning: is_categorical is deprecated and will be removed in a future version.  Use is_categorical_dtype instead\n",
      "  if not is_categorical(df_full[k]):\n"
     ]
    },
    {
     "name": "stdout",
     "output_type": "stream",
     "text": [
      "snATACseq brca (2064, 19891) (9028, 19891)\n"
     ]
    },
    {
     "name": "stderr",
     "output_type": "stream",
     "text": [
      "/home/estorrs/miniconda3/envs/pollock_dev/lib/python3.7/site-packages/anndata/_core/anndata.py:1094: FutureWarning: is_categorical is deprecated and will be removed in a future version.  Use is_categorical_dtype instead\n",
      "  if not is_categorical(df_full[k]):\n"
     ]
    },
    {
     "name": "stdout",
     "output_type": "stream",
     "text": [
      "snATACseq gbm (1316, 19891) (5650, 19891)\n"
     ]
    },
    {
     "name": "stderr",
     "output_type": "stream",
     "text": [
      "/home/estorrs/miniconda3/envs/pollock_dev/lib/python3.7/site-packages/anndata/_core/anndata.py:1094: FutureWarning: is_categorical is deprecated and will be removed in a future version.  Use is_categorical_dtype instead\n",
      "  if not is_categorical(df_full[k]):\n"
     ]
    },
    {
     "name": "stdout",
     "output_type": "stream",
     "text": [
      "snRNAseq brca (2455, 29175) (9490, 29175)\n"
     ]
    },
    {
     "name": "stderr",
     "output_type": "stream",
     "text": [
      "/home/estorrs/miniconda3/envs/pollock_dev/lib/python3.7/site-packages/anndata/_core/anndata.py:1094: FutureWarning: is_categorical is deprecated and will be removed in a future version.  Use is_categorical_dtype instead\n",
      "  if not is_categorical(df_full[k]):\n"
     ]
    },
    {
     "name": "stdout",
     "output_type": "stream",
     "text": [
      "snRNAseq ccrcc (2113, 33538) (8605, 33538)\n"
     ]
    },
    {
     "name": "stderr",
     "output_type": "stream",
     "text": [
      "/home/estorrs/miniconda3/envs/pollock_dev/lib/python3.7/site-packages/anndata/_core/anndata.py:1094: FutureWarning: is_categorical is deprecated and will be removed in a future version.  Use is_categorical_dtype instead\n",
      "  if not is_categorical(df_full[k]):\n"
     ]
    },
    {
     "name": "stdout",
     "output_type": "stream",
     "text": [
      "snRNAseq gbm (1689, 29748) (6810, 29748)\n"
     ]
    },
    {
     "name": "stderr",
     "output_type": "stream",
     "text": [
      "/home/estorrs/miniconda3/envs/pollock_dev/lib/python3.7/site-packages/anndata/_core/anndata.py:1094: FutureWarning: is_categorical is deprecated and will be removed in a future version.  Use is_categorical_dtype instead\n",
      "  if not is_categorical(df_full[k]):\n"
     ]
    }
   ],
   "source": [
    "run_workflow_for_datasets(adata_map, run_scanpy_workflow, 'scanpy_ingest', RESULTS_DIR)"
   ]
  },
  {
   "cell_type": "markdown",
   "metadata": {
    "heading_collapsed": true,
    "hidden": true
   },
   "source": [
    "###### testing stuff"
   ]
  },
  {
   "cell_type": "code",
   "execution_count": null,
   "metadata": {
    "hidden": true
   },
   "outputs": [],
   "source": [
    "train, val = adata_map['scRNAseq']['pbmc']['train'].copy(), adata_map['scRNAseq']['pbmc']['val'].copy()"
   ]
  },
  {
   "cell_type": "code",
   "execution_count": null,
   "metadata": {
    "hidden": true
   },
   "outputs": [],
   "source": [
    "train, val = ingest_preprocess(train), ingest_preprocess(val)\n",
    "\n",
    "var_names = train.var_names.intersection(val.var_names)\n",
    "train = train[:, var_names]\n",
    "val = val[:, var_names]\n",
    "\n",
    "sc.pp.pca(train)\n",
    "sc.pp.neighbors(train)\n",
    "sc.tl.umap(train)"
   ]
  },
  {
   "cell_type": "code",
   "execution_count": null,
   "metadata": {
    "hidden": true
   },
   "outputs": [],
   "source": [
    "sc.pl.umap(train, color='cell_type')"
   ]
  },
  {
   "cell_type": "code",
   "execution_count": null,
   "metadata": {
    "hidden": true
   },
   "outputs": [],
   "source": [
    "sc.tl.ingest(val, train, obs=CELL_TYPE_KEY)\n",
    "val.uns[f'{CELL_TYPE_KEY}_colors'] = train.uns[f'{CELL_TYPE_KEY}_colors']"
   ]
  },
  {
   "cell_type": "code",
   "execution_count": null,
   "metadata": {
    "hidden": true
   },
   "outputs": [],
   "source": [
    "sc.pl.umap(val, color=[CELL_TYPE_KEY], wspace=0.5)\n"
   ]
  },
  {
   "cell_type": "code",
   "execution_count": null,
   "metadata": {
    "hidden": true
   },
   "outputs": [],
   "source": [
    "val"
   ]
  },
  {
   "cell_type": "code",
   "execution_count": null,
   "metadata": {
    "hidden": true
   },
   "outputs": [],
   "source": [
    "val.obs"
   ]
  },
  {
   "cell_type": "markdown",
   "metadata": {
    "heading_collapsed": true
   },
   "source": [
    "##### ACTINN"
   ]
  },
  {
   "cell_type": "code",
   "execution_count": 9,
   "metadata": {
    "hidden": true
   },
   "outputs": [],
   "source": [
    "def run_actinn_workflow(train, val, cell_type_key):\n",
    "    X = train.X.toarray() if 'sparse' in str(type(train.X)) else train.X\n",
    "    train_counts_df = pd.DataFrame(data=X.transpose(), index=train.var.index.to_list(),\n",
    "                        columns=train.obs.index.to_list())\n",
    "    X = val.X.toarray() if 'sparse' in str(type(val.X)) else val.X\n",
    "    val_counts_df = pd.DataFrame(data=X.transpose(), index=val.var.index.to_list(),\n",
    "                        columns=val.obs.index.to_list())\n",
    "    \n",
    "    train_counts_fp = os.path.join(SANDBOX_DIR, 'train_counts.txt')\n",
    "    val_counts_fp = os.path.join(SANDBOX_DIR, 'val_counts.txt')\n",
    "    train_counts_df.to_csv(train_counts_fp, sep='\\t')\n",
    "    val_counts_df.to_csv(val_counts_fp, sep='\\t')\n",
    "    \n",
    "    train_h5_fp = os.path.join(SANDBOX_DIR, 'train.h5')\n",
    "    train_annotations_fp = os.path.join(SANDBOX_DIR, 'train_annotations.txt')\n",
    "    val_h5_fp = os.path.join(SANDBOX_DIR, 'val.h5')\n",
    "\n",
    "    train.obs[[CELL_TYPE_KEY]].to_csv(train_annotations_fp, sep='\\t', index=True, header=False)\n",
    "\n",
    "    subprocess.check_output(('python', ACTINN_FORMAT, '-i', train_counts_fp,\n",
    "                            '-o', train_h5_fp.replace('.h5', ''), '-f', 'txt'))\n",
    "    subprocess.check_output(('python', ACTINN_FORMAT, '-i', val_counts_fp,\n",
    "                            '-o', val_h5_fp.replace('.h5', ''), '-f', 'txt'))\n",
    "    # dont use probablity argument or it breaks\n",
    "    subprocess.check_output(('python', ACTINN_PREDICT, '-trs', train_h5_fp,\n",
    "                            '-trl', train_annotations_fp, '-ts', val_h5_fp))\n",
    "    \n",
    "    prediction_df = pd.read_csv('predicted_label.txt', sep='\\t')\n",
    "    \n",
    "    df = pd.DataFrame.from_dict({\n",
    "        'cell_id': prediction_df['cellname'].to_list(),\n",
    "        'predicted': prediction_df['celltype'].to_list(),\n",
    "        'probability': [np.nan] * prediction_df.shape[0]\n",
    "    })\n",
    "    \n",
    "    df = pd.merge(df, val.obs, left_on='cell_id', right_index=True)\n",
    "    df = df[['cell_id', 'cell_type', 'predicted', 'probability']]\n",
    "    df.columns = ['cell_id', 'groundtruth', 'predicted', 'probability']\n",
    "    \n",
    "    return df\n",
    "    \n",
    "    \n",
    "    \n",
    "    \n"
   ]
  },
  {
   "cell_type": "code",
   "execution_count": 10,
   "metadata": {
    "hidden": true
   },
   "outputs": [
    {
     "name": "stdout",
     "output_type": "stream",
     "text": [
      "scRNAseq brca (2600, 27131) (11253, 27131)\n",
      "scRNAseq cesc (1941, 22928) (8449, 22928)\n",
      "scRNAseq hnscc (2200, 26929) (10288, 26929)\n",
      "scRNAseq melanoma (2000, 23452) (6735, 23452)\n",
      "scRNAseq pbmc (940, 32738) (1698, 32738)\n",
      "scRNAseq pdac (3296, 28756) (15435, 28756)\n",
      "snATACseq brca (2064, 19891) (9028, 19891)\n",
      "snATACseq gbm (1316, 19891) (5650, 19891)\n",
      "snRNAseq brca (2455, 29175) (9490, 29175)\n",
      "snRNAseq ccrcc (2113, 33538) (8605, 33538)\n",
      "snRNAseq gbm (1689, 29748) (6810, 29748)\n"
     ]
    }
   ],
   "source": [
    "ACTINN_FORMAT = '/home/estorrs/ACTINN/actinn_format.py'\n",
    "ACTINN_PREDICT = '/home/estorrs/ACTINN/actinn_predict.py'\n",
    "\n",
    "run_workflow_for_datasets(adata_map, run_actinn_workflow, 'actinn', RESULTS_DIR)"
   ]
  },
  {
   "cell_type": "markdown",
   "metadata": {
    "heading_collapsed": true,
    "hidden": true
   },
   "source": [
    "###### testing stuff"
   ]
  },
  {
   "cell_type": "code",
   "execution_count": null,
   "metadata": {
    "hidden": true
   },
   "outputs": [],
   "source": []
  },
  {
   "cell_type": "code",
   "execution_count": null,
   "metadata": {
    "hidden": true
   },
   "outputs": [],
   "source": [
    "train, val = adata_map['scRNAseq']['pbmc']['train'].copy(), adata_map['scRNAseq']['pbmc']['val'].copy()"
   ]
  },
  {
   "cell_type": "code",
   "execution_count": null,
   "metadata": {
    "hidden": true
   },
   "outputs": [],
   "source": [
    "# train.obs['dataset'] = ['train'] * train.shape[0]\n",
    "# val.obs['dataset'] = ['val'] * val.shape[0]\n",
    "# combined = train.concatenate(val)\n",
    "# combined"
   ]
  },
  {
   "cell_type": "code",
   "execution_count": null,
   "metadata": {
    "hidden": true
   },
   "outputs": [],
   "source": [
    "train_counts_df = pd.DataFrame(data=train.X.transpose().toarray(), index=train.var.index.to_list(),\n",
    "                        columns=train.obs.index.to_list())\n",
    "val_counts_df = pd.DataFrame(data=val.X.transpose().toarray(), index=val.var.index.to_list(),\n",
    "                        columns=val.obs.index.to_list())\n",
    "train_counts_df"
   ]
  },
  {
   "cell_type": "code",
   "execution_count": null,
   "metadata": {
    "hidden": true
   },
   "outputs": [],
   "source": [
    "train_counts_fp = os.path.join(SANDBOX_DIR, 'train_counts.txt')\n",
    "val_counts_fp = os.path.join(SANDBOX_DIR, 'val_counts.txt')\n",
    "train_counts_df.to_csv(train_counts_fp, sep='\\t')\n",
    "val_counts_df.to_csv(val_counts_fp, sep='\\t')"
   ]
  },
  {
   "cell_type": "markdown",
   "metadata": {
    "hidden": true
   },
   "source": [
    "python actinn_format.py -i input_file -o output_prefix -f format\n",
    "\n",
    "python actinn_format.py -i ./test_data/train_set.txt.gz -o train_set -f txt\n"
   ]
  },
  {
   "cell_type": "code",
   "execution_count": null,
   "metadata": {
    "hidden": true
   },
   "outputs": [],
   "source": [
    "train_h5_fp = os.path.join(SANDBOX_DIR, 'train.h5')\n",
    "train_annotations_fp = os.path.join(SANDBOX_DIR, 'train_annotations.txt')\n",
    "val_h5_fp = os.path.join(SANDBOX_DIR, 'val.h5')\n",
    "\n",
    "train.obs[[CELL_TYPE_KEY]].to_csv(train_annotations_fp, sep='\\t', index=True, header=False)\n",
    "\n",
    "subprocess.check_output(('python', '/home/estorrs/ACTINN/actinn_format.py', '-i', train_counts_fp,\n",
    "                        '-o', train_h5_fp.replace('.h5', ''), '-f', 'txt'))"
   ]
  },
  {
   "cell_type": "code",
   "execution_count": null,
   "metadata": {
    "hidden": true
   },
   "outputs": [],
   "source": [
    "subprocess.check_output(('python', '/home/estorrs/ACTINN/actinn_format.py', '-i', val_counts_fp,\n",
    "                        '-o', val_h5_fp.replace('.h5', ''), '-f', 'txt'))"
   ]
  },
  {
   "cell_type": "code",
   "execution_count": null,
   "metadata": {
    "hidden": true
   },
   "outputs": [],
   "source": [
    "train.obs[[CELL_TYPE_KEY]]"
   ]
  },
  {
   "cell_type": "markdown",
   "metadata": {
    "hidden": true
   },
   "source": [
    "python actinn_predict.py -trs training_set -trl training_label -ts test_set -lr learning_rat -ne num_epoch -ms minibatch_size -pc print_cost -op output_probability\n",
    "\n",
    "\n",
    "-trs Path to the training set, must be HDF5 format with key \"dge\".\n",
    "\n",
    "-trl Path to the training label (the cell types for the training set), must be tab separated text file with no column and row names.\n",
    "\n",
    "-ts Path to test sets, must be HDF5 format with key \"dge\".\n",
    "\n",
    "-lr Learning rate (default: 0.0001). We can increase the learning rate if the cost drops too slow, or decrease the learning rate if the cost drops super fast in the beginning and starts to fluctuate in later epochs.\n",
    "\n",
    "-ne Number of epochs (default: 50). The number of epochs can be determined by looking at the cost after each epoch. If the cost starts to decrease very slowly after ceartain epoch, then the \"ne\" parameter should be set to that epoch number.\n",
    "\n",
    "-ms Minibatch size (default: 128). This parameter can be set larger when training a large dataset.\n",
    "\n",
    "-pc Print cost (default: True). Whether to print cost after each 5 epochs.\n",
    "\n",
    "-op Output probabilities for each cell being the cell types in the training data (default: False).\n"
   ]
  },
  {
   "cell_type": "code",
   "execution_count": null,
   "metadata": {
    "hidden": true
   },
   "outputs": [],
   "source": [
    "subprocess.check_output(('python', '/home/estorrs/ACTINN/actinn_predict.py', '-trs', train_h5_fp,\n",
    "                        '-trl', train_annotations_fp, '-ts', val_h5_fp))"
   ]
  },
  {
   "cell_type": "code",
   "execution_count": null,
   "metadata": {
    "hidden": true
   },
   "outputs": [],
   "source": [
    "' '.join(('python', '/home/estorrs/ACTINN/actinn_predict.py', '-trs', train_h5_fp,\n",
    "                        '-trl', train_annotations_fp, '-ts', val_h5_fp,\n",
    "                        '-op', 'True'))"
   ]
  },
  {
   "cell_type": "code",
   "execution_count": null,
   "metadata": {
    "hidden": true
   },
   "outputs": [],
   "source": [
    "prediction_df = pd.read_csv('predicted_label.txt', sep='\\t')\n",
    "prediction_df"
   ]
  },
  {
   "cell_type": "code",
   "execution_count": null,
   "metadata": {
    "hidden": true
   },
   "outputs": [],
   "source": [
    "df = pd.DataFrame.from_dict({\n",
    "        'cell_id': prediction_df['cellname'].to_list(),\n",
    "        'prediction': prediction_df['celltype'].to_list(),\n",
    "        'probability': [np.nan] * val.shape[0]\n",
    "    })\n",
    "df"
   ]
  },
  {
   "cell_type": "code",
   "execution_count": null,
   "metadata": {
    "hidden": true
   },
   "outputs": [],
   "source": [
    "val.obs"
   ]
  },
  {
   "cell_type": "code",
   "execution_count": null,
   "metadata": {
    "hidden": true
   },
   "outputs": [],
   "source": [
    "df = pd.merge(df, val.obs, left_on='cell_id', right_index=True)\n",
    "df = df[['cell_id', 'cell_type', 'prediction', 'probability']]\n",
    "df.columns = ['cell_id', 'groundtruth', 'prediction', 'probability']\n",
    "df\n"
   ]
  },
  {
   "cell_type": "markdown",
   "metadata": {},
   "source": [
    "##### Seurat"
   ]
  },
  {
   "cell_type": "code",
   "execution_count": 66,
   "metadata": {},
   "outputs": [],
   "source": [
    "def run_seurat_transfer(train, val, cell_type_key):\n",
    "    # save the input data for the seurat script\n",
    "    train_counts_fp, val_counts_fp = (os.path.join(SANDBOX_DIR, 'train_counts.txt'),\n",
    "                                        os.path.join(SANDBOX_DIR, 'val_counts.txt'))\n",
    "    train_annotations_fp, val_annotations_fp = (os.path.join(SANDBOX_DIR, 'train_annotations.txt'),\n",
    "                                                os.path.join(SANDBOX_DIR, 'val_annotations.txt'))\n",
    "\n",
    "    ## prepare train and val count matrices\n",
    "    X = train.X.toarray() if 'sparse' in str(type(train.X)) else train.X\n",
    "    train_counts = pd.DataFrame(data=X.transpose().astype(np.int32), index=train.var.index,\n",
    "                                columns=train.obs.index)\n",
    "    train_counts.index.name = ''\n",
    "    # for some reason SCTransform fails if the integer values are too high, so capping them here\n",
    "    cap = pow(2, 14)\n",
    "    train_counts.values[train_counts.values>cap] = cap\n",
    "    train_counts.to_csv(train_counts_fp, sep='\\t', header=True, index=True)\n",
    "    \n",
    "    X = val.X.toarray() if 'sparse' in str(type(val.X)) else val.X\n",
    "    val_counts = pd.DataFrame(data=X.transpose().astype(np.int32), index=val.var.index,\n",
    "                                columns=val.obs.index)\n",
    "    val_counts.index.name = ''\n",
    "    val_counts.values[val_counts.values>cap] = cap\n",
    "    val_counts.to_csv(val_counts_fp, sep='\\t', header=True, index=True)\n",
    "\n",
    "    train.obs[[CELL_TYPE_KEY]].to_csv(train_annotations_fp, sep='\\t', header=False, index=False)\n",
    "    val.obs[[CELL_TYPE_KEY]].to_csv(val_annotations_fp, sep='\\t', header=False, index=False)\n",
    "    \n",
    "    # actually run the script and read the results back in\n",
    "    prediction_fp = os.path.join(SANDBOX_DIR, 'seurat_predictions.txt')\n",
    "    subprocess.check_output(('Rscript', SEURAT_SCRIPT, train_counts_fp, train_annotations_fp,\n",
    "                        val_counts_fp, val_annotations_fp, prediction_fp))\n",
    "    \n",
    "    # format the predictions dataframe\n",
    "    df = pd.read_csv(prediction_fp, sep='\\t')\n",
    "    df.index = [x.replace('.', '-') for x in df.index]\n",
    "    # also remove that weird X thing seurat sometimes puts there if first char is _\n",
    "    df.index = [x[1:] if x[:2]=='X_' else x for x in df.index]\n",
    "    df = pd.merge(df, val.obs, left_index=True, right_index=True)\n",
    "    df['cell_id'] = df.index.to_list()\n",
    "    try:\n",
    "        df = df[['cell_id', 'cell_type', 'predicted.id', 'prediction.score.max']]        \n",
    "        df.columns = ['cell_id', 'groundtruth', 'predicted', 'probability']\n",
    "        return df\n",
    "    except KeyError as e:\n",
    "        print(f'key error', e)\n",
    "        return pd.DataFrame()"
   ]
  },
  {
   "cell_type": "code",
   "execution_count": 67,
   "metadata": {
    "scrolled": true
   },
   "outputs": [
    {
     "name": "stdout",
     "output_type": "stream",
     "text": [
      "scRNAseq brca (2600, 27131) (11253, 27131)\n",
      "scRNAseq cesc (1941, 22928) (8449, 22928)\n",
      "scRNAseq hnscc (2200, 26929) (10288, 26929)\n",
      "scRNAseq melanoma (2000, 23452) (6735, 23452)\n",
      "key error \"['predicted.id', 'prediction.score.max'] not in index\"\n",
      "scRNAseq pbmc (940, 32738) (1698, 32738)\n",
      "scRNAseq pdac (3296, 28756) (15435, 28756)\n",
      "snATACseq brca (2064, 19891) (9028, 19891)\n",
      "key error \"['predicted.id', 'prediction.score.max'] not in index\"\n",
      "snATACseq gbm (1316, 19891) (5650, 19891)\n",
      "key error \"['predicted.id', 'prediction.score.max'] not in index\"\n",
      "snRNAseq brca (2455, 29175) (9490, 29175)\n",
      "snRNAseq ccrcc (2113, 33538) (8605, 33538)\n",
      "snRNAseq gbm (1689, 29748) (6810, 29748)\n"
     ]
    }
   ],
   "source": [
    "SEURAT_SCRIPT = '/home/estorrs/pollock/benchmarking/tools/run_seurat_workflow.R'\n",
    "run_workflow_for_datasets(adata_map, run_seurat_transfer, 'seurat_transfer', RESULTS_DIR)"
   ]
  },
  {
   "cell_type": "markdown",
   "metadata": {},
   "source": [
    "###### testing stuff"
   ]
  },
  {
   "cell_type": "code",
   "execution_count": 55,
   "metadata": {},
   "outputs": [],
   "source": [
    "# train, val = adata_map['scRNAseq']['pbmc']['train'].copy(), adata_map['scRNAseq']['pbmc']['val'].copy()\n",
    "train, val = sc.read_h5ad(adata_map['scRNAseq']['brca']['train']), sc.read_h5ad(adata_map['scRNAseq']['brca']['val'])"
   ]
  },
  {
   "cell_type": "code",
   "execution_count": 56,
   "metadata": {},
   "outputs": [
    {
     "data": {
      "text/plain": [
       "16384"
      ]
     },
     "execution_count": 56,
     "metadata": {},
     "output_type": "execute_result"
    }
   ],
   "source": [
    "pow(2, 14)"
   ]
  },
  {
   "cell_type": "code",
   "execution_count": 57,
   "metadata": {},
   "outputs": [],
   "source": [
    "# save the input data for the seurat script\n",
    "train_counts_fp, val_counts_fp = (os.path.join(SANDBOX_DIR, 'train_counts.txt'),\n",
    "                                    os.path.join(SANDBOX_DIR, 'val_counts.txt'))\n",
    "train_annotations_fp, val_annotations_fp = (os.path.join(SANDBOX_DIR, 'train_annotations.txt'),\n",
    "                                            os.path.join(SANDBOX_DIR, 'val_annotations.txt'))\n",
    "\n",
    "## prepare train and val count matrices\n",
    "X = train.X.toarray() if 'sparse' in str(type(train.X)) else train.X\n",
    "train_counts = pd.DataFrame(data=X.transpose().astype(np.int32), index=train.var.index,\n",
    "                            columns=train.obs.index)\n",
    "train_counts.index.name = ''\n",
    "# for some reason SCTransform fails if the integer values are too high, so capping them here\n",
    "cap = pow(2, 14)\n",
    "train_counts.values[train_counts.values>cap] = cap\n",
    "train_counts.to_csv(train_counts_fp, sep='\\t', header=True, index=True)\n",
    "\n",
    "X = val.X.toarray() if 'sparse' in str(type(val.X)) else val.X\n",
    "val_counts = pd.DataFrame(data=X.transpose().astype(np.int32), index=val.var.index,\n",
    "                            columns=val.obs.index)\n",
    "val_counts.index.name = ''\n",
    "val_counts.values[val_counts.values>cap] = cap\n",
    "val_counts.to_csv(val_counts_fp, sep='\\t', header=True, index=True)\n",
    "\n",
    "train.obs[[CELL_TYPE_KEY]].to_csv(train_annotations_fp, sep='\\t', header=False, index=False)\n",
    "val.obs[[CELL_TYPE_KEY]].to_csv(val_annotations_fp, sep='\\t', header=False, index=False)"
   ]
  },
  {
   "cell_type": "code",
   "execution_count": 58,
   "metadata": {},
   "outputs": [
    {
     "data": {
      "text/html": [
       "<div>\n",
       "<style scoped>\n",
       "    .dataframe tbody tr th:only-of-type {\n",
       "        vertical-align: middle;\n",
       "    }\n",
       "\n",
       "    .dataframe tbody tr th {\n",
       "        vertical-align: top;\n",
       "    }\n",
       "\n",
       "    .dataframe thead th {\n",
       "        text-align: right;\n",
       "    }\n",
       "</style>\n",
       "<table border=\"1\" class=\"dataframe\">\n",
       "  <thead>\n",
       "    <tr style=\"text-align: right;\">\n",
       "      <th></th>\n",
       "      <th>_HT062B1_S1PA_AACCATGTCTCTGGTC-1</th>\n",
       "      <th>_HT062B1_S1PA_AAGCGAGAGAACAGGA-1</th>\n",
       "      <th>_HT062B1_S1PA_AAGTCGTCACAGAGAC-1</th>\n",
       "      <th>_HT062B1_S1PA_AATGACCTCAGGACAG-1</th>\n",
       "      <th>_HT062B1_S1PA_AATGGCTAGCACGGAT-1</th>\n",
       "      <th>_HT062B1_S1PA_ACATTTCGTACTAACC-1</th>\n",
       "      <th>_HT062B1_S1PA_ACGTCCTGTGTATACC-1</th>\n",
       "      <th>_HT062B1_S1PA_ACTGTGAGTGTGGACA-1</th>\n",
       "      <th>_HT062B1_S1PA_ACTTCGCCACAAGCAG-1</th>\n",
       "      <th>_HT062B1_S1PA_ATACTTCGTACAAGTA-1</th>\n",
       "      <th>...</th>\n",
       "      <th>_HT171B1_BC2_TTCGCTGGTATGGTAA-1</th>\n",
       "      <th>_HT171B1_BC2_TTCTAGTCAAGTTCCA-1</th>\n",
       "      <th>_HT171B1_BC2_TTCTTGACATGACTGT-1</th>\n",
       "      <th>_HT171B1_BC2_TTGAACGCAAACCACT-1</th>\n",
       "      <th>_HT171B1_BC2_TTGAACGTCAAGCCCG-1</th>\n",
       "      <th>_HT171B1_BC2_TTGAACGTCGGATACT-1</th>\n",
       "      <th>_HT171B1_BC2_TTGAGTGGTCCAATCA-1</th>\n",
       "      <th>_HT171B1_BC2_TTGATGGCAGAGTGTG-1</th>\n",
       "      <th>_HT171B1_BC2_TTGGGATTCGATGCAT-1</th>\n",
       "      <th>_HT171B1_BC2_TTTCAGTGTTCGGTAT-1</th>\n",
       "    </tr>\n",
       "    <tr>\n",
       "      <th></th>\n",
       "      <th></th>\n",
       "      <th></th>\n",
       "      <th></th>\n",
       "      <th></th>\n",
       "      <th></th>\n",
       "      <th></th>\n",
       "      <th></th>\n",
       "      <th></th>\n",
       "      <th></th>\n",
       "      <th></th>\n",
       "      <th></th>\n",
       "      <th></th>\n",
       "      <th></th>\n",
       "      <th></th>\n",
       "      <th></th>\n",
       "      <th></th>\n",
       "      <th></th>\n",
       "      <th></th>\n",
       "      <th></th>\n",
       "      <th></th>\n",
       "      <th></th>\n",
       "    </tr>\n",
       "  </thead>\n",
       "  <tbody>\n",
       "    <tr>\n",
       "      <th>AL627309.1</th>\n",
       "      <td>0</td>\n",
       "      <td>0</td>\n",
       "      <td>0</td>\n",
       "      <td>0</td>\n",
       "      <td>0</td>\n",
       "      <td>0</td>\n",
       "      <td>0</td>\n",
       "      <td>0</td>\n",
       "      <td>0</td>\n",
       "      <td>0</td>\n",
       "      <td>...</td>\n",
       "      <td>0</td>\n",
       "      <td>0</td>\n",
       "      <td>0</td>\n",
       "      <td>0</td>\n",
       "      <td>0</td>\n",
       "      <td>0</td>\n",
       "      <td>0</td>\n",
       "      <td>0</td>\n",
       "      <td>0</td>\n",
       "      <td>0</td>\n",
       "    </tr>\n",
       "    <tr>\n",
       "      <th>AL627309.3</th>\n",
       "      <td>0</td>\n",
       "      <td>0</td>\n",
       "      <td>0</td>\n",
       "      <td>0</td>\n",
       "      <td>0</td>\n",
       "      <td>0</td>\n",
       "      <td>0</td>\n",
       "      <td>0</td>\n",
       "      <td>0</td>\n",
       "      <td>0</td>\n",
       "      <td>...</td>\n",
       "      <td>0</td>\n",
       "      <td>0</td>\n",
       "      <td>0</td>\n",
       "      <td>0</td>\n",
       "      <td>0</td>\n",
       "      <td>0</td>\n",
       "      <td>0</td>\n",
       "      <td>0</td>\n",
       "      <td>0</td>\n",
       "      <td>0</td>\n",
       "    </tr>\n",
       "    <tr>\n",
       "      <th>AL627309.4</th>\n",
       "      <td>0</td>\n",
       "      <td>0</td>\n",
       "      <td>0</td>\n",
       "      <td>0</td>\n",
       "      <td>0</td>\n",
       "      <td>0</td>\n",
       "      <td>0</td>\n",
       "      <td>0</td>\n",
       "      <td>0</td>\n",
       "      <td>0</td>\n",
       "      <td>...</td>\n",
       "      <td>0</td>\n",
       "      <td>0</td>\n",
       "      <td>0</td>\n",
       "      <td>0</td>\n",
       "      <td>0</td>\n",
       "      <td>0</td>\n",
       "      <td>0</td>\n",
       "      <td>0</td>\n",
       "      <td>0</td>\n",
       "      <td>0</td>\n",
       "    </tr>\n",
       "    <tr>\n",
       "      <th>AL732372.1</th>\n",
       "      <td>0</td>\n",
       "      <td>0</td>\n",
       "      <td>0</td>\n",
       "      <td>0</td>\n",
       "      <td>0</td>\n",
       "      <td>0</td>\n",
       "      <td>0</td>\n",
       "      <td>0</td>\n",
       "      <td>0</td>\n",
       "      <td>0</td>\n",
       "      <td>...</td>\n",
       "      <td>0</td>\n",
       "      <td>0</td>\n",
       "      <td>0</td>\n",
       "      <td>0</td>\n",
       "      <td>0</td>\n",
       "      <td>0</td>\n",
       "      <td>0</td>\n",
       "      <td>0</td>\n",
       "      <td>0</td>\n",
       "      <td>0</td>\n",
       "    </tr>\n",
       "    <tr>\n",
       "      <th>AL669831.2</th>\n",
       "      <td>0</td>\n",
       "      <td>0</td>\n",
       "      <td>0</td>\n",
       "      <td>0</td>\n",
       "      <td>0</td>\n",
       "      <td>0</td>\n",
       "      <td>0</td>\n",
       "      <td>0</td>\n",
       "      <td>0</td>\n",
       "      <td>0</td>\n",
       "      <td>...</td>\n",
       "      <td>0</td>\n",
       "      <td>0</td>\n",
       "      <td>0</td>\n",
       "      <td>0</td>\n",
       "      <td>0</td>\n",
       "      <td>0</td>\n",
       "      <td>0</td>\n",
       "      <td>0</td>\n",
       "      <td>0</td>\n",
       "      <td>0</td>\n",
       "    </tr>\n",
       "    <tr>\n",
       "      <th>...</th>\n",
       "      <td>...</td>\n",
       "      <td>...</td>\n",
       "      <td>...</td>\n",
       "      <td>...</td>\n",
       "      <td>...</td>\n",
       "      <td>...</td>\n",
       "      <td>...</td>\n",
       "      <td>...</td>\n",
       "      <td>...</td>\n",
       "      <td>...</td>\n",
       "      <td>...</td>\n",
       "      <td>...</td>\n",
       "      <td>...</td>\n",
       "      <td>...</td>\n",
       "      <td>...</td>\n",
       "      <td>...</td>\n",
       "      <td>...</td>\n",
       "      <td>...</td>\n",
       "      <td>...</td>\n",
       "      <td>...</td>\n",
       "      <td>...</td>\n",
       "    </tr>\n",
       "    <tr>\n",
       "      <th>AL354822.1</th>\n",
       "      <td>0</td>\n",
       "      <td>0</td>\n",
       "      <td>0</td>\n",
       "      <td>0</td>\n",
       "      <td>0</td>\n",
       "      <td>0</td>\n",
       "      <td>0</td>\n",
       "      <td>0</td>\n",
       "      <td>0</td>\n",
       "      <td>0</td>\n",
       "      <td>...</td>\n",
       "      <td>0</td>\n",
       "      <td>0</td>\n",
       "      <td>0</td>\n",
       "      <td>0</td>\n",
       "      <td>0</td>\n",
       "      <td>0</td>\n",
       "      <td>0</td>\n",
       "      <td>0</td>\n",
       "      <td>0</td>\n",
       "      <td>0</td>\n",
       "    </tr>\n",
       "    <tr>\n",
       "      <th>AC004556.1</th>\n",
       "      <td>0</td>\n",
       "      <td>0</td>\n",
       "      <td>0</td>\n",
       "      <td>0</td>\n",
       "      <td>0</td>\n",
       "      <td>0</td>\n",
       "      <td>0</td>\n",
       "      <td>0</td>\n",
       "      <td>0</td>\n",
       "      <td>0</td>\n",
       "      <td>...</td>\n",
       "      <td>0</td>\n",
       "      <td>0</td>\n",
       "      <td>0</td>\n",
       "      <td>0</td>\n",
       "      <td>0</td>\n",
       "      <td>0</td>\n",
       "      <td>0</td>\n",
       "      <td>0</td>\n",
       "      <td>0</td>\n",
       "      <td>0</td>\n",
       "    </tr>\n",
       "    <tr>\n",
       "      <th>AC233755.2</th>\n",
       "      <td>0</td>\n",
       "      <td>0</td>\n",
       "      <td>0</td>\n",
       "      <td>0</td>\n",
       "      <td>0</td>\n",
       "      <td>0</td>\n",
       "      <td>0</td>\n",
       "      <td>0</td>\n",
       "      <td>0</td>\n",
       "      <td>0</td>\n",
       "      <td>...</td>\n",
       "      <td>0</td>\n",
       "      <td>0</td>\n",
       "      <td>0</td>\n",
       "      <td>0</td>\n",
       "      <td>0</td>\n",
       "      <td>0</td>\n",
       "      <td>0</td>\n",
       "      <td>0</td>\n",
       "      <td>0</td>\n",
       "      <td>0</td>\n",
       "    </tr>\n",
       "    <tr>\n",
       "      <th>AC233755.1</th>\n",
       "      <td>0</td>\n",
       "      <td>0</td>\n",
       "      <td>0</td>\n",
       "      <td>0</td>\n",
       "      <td>0</td>\n",
       "      <td>0</td>\n",
       "      <td>0</td>\n",
       "      <td>0</td>\n",
       "      <td>0</td>\n",
       "      <td>0</td>\n",
       "      <td>...</td>\n",
       "      <td>0</td>\n",
       "      <td>0</td>\n",
       "      <td>0</td>\n",
       "      <td>0</td>\n",
       "      <td>0</td>\n",
       "      <td>0</td>\n",
       "      <td>0</td>\n",
       "      <td>0</td>\n",
       "      <td>0</td>\n",
       "      <td>0</td>\n",
       "    </tr>\n",
       "    <tr>\n",
       "      <th>AC240274.1</th>\n",
       "      <td>0</td>\n",
       "      <td>0</td>\n",
       "      <td>0</td>\n",
       "      <td>0</td>\n",
       "      <td>0</td>\n",
       "      <td>0</td>\n",
       "      <td>0</td>\n",
       "      <td>0</td>\n",
       "      <td>0</td>\n",
       "      <td>0</td>\n",
       "      <td>...</td>\n",
       "      <td>0</td>\n",
       "      <td>0</td>\n",
       "      <td>0</td>\n",
       "      <td>0</td>\n",
       "      <td>0</td>\n",
       "      <td>0</td>\n",
       "      <td>0</td>\n",
       "      <td>0</td>\n",
       "      <td>0</td>\n",
       "      <td>0</td>\n",
       "    </tr>\n",
       "  </tbody>\n",
       "</table>\n",
       "<p>27131 rows × 2600 columns</p>\n",
       "</div>"
      ],
      "text/plain": [
       "            _HT062B1_S1PA_AACCATGTCTCTGGTC-1  \\\n",
       "                                               \n",
       "AL627309.1                                 0   \n",
       "AL627309.3                                 0   \n",
       "AL627309.4                                 0   \n",
       "AL732372.1                                 0   \n",
       "AL669831.2                                 0   \n",
       "...                                      ...   \n",
       "AL354822.1                                 0   \n",
       "AC004556.1                                 0   \n",
       "AC233755.2                                 0   \n",
       "AC233755.1                                 0   \n",
       "AC240274.1                                 0   \n",
       "\n",
       "            _HT062B1_S1PA_AAGCGAGAGAACAGGA-1  \\\n",
       "                                               \n",
       "AL627309.1                                 0   \n",
       "AL627309.3                                 0   \n",
       "AL627309.4                                 0   \n",
       "AL732372.1                                 0   \n",
       "AL669831.2                                 0   \n",
       "...                                      ...   \n",
       "AL354822.1                                 0   \n",
       "AC004556.1                                 0   \n",
       "AC233755.2                                 0   \n",
       "AC233755.1                                 0   \n",
       "AC240274.1                                 0   \n",
       "\n",
       "            _HT062B1_S1PA_AAGTCGTCACAGAGAC-1  \\\n",
       "                                               \n",
       "AL627309.1                                 0   \n",
       "AL627309.3                                 0   \n",
       "AL627309.4                                 0   \n",
       "AL732372.1                                 0   \n",
       "AL669831.2                                 0   \n",
       "...                                      ...   \n",
       "AL354822.1                                 0   \n",
       "AC004556.1                                 0   \n",
       "AC233755.2                                 0   \n",
       "AC233755.1                                 0   \n",
       "AC240274.1                                 0   \n",
       "\n",
       "            _HT062B1_S1PA_AATGACCTCAGGACAG-1  \\\n",
       "                                               \n",
       "AL627309.1                                 0   \n",
       "AL627309.3                                 0   \n",
       "AL627309.4                                 0   \n",
       "AL732372.1                                 0   \n",
       "AL669831.2                                 0   \n",
       "...                                      ...   \n",
       "AL354822.1                                 0   \n",
       "AC004556.1                                 0   \n",
       "AC233755.2                                 0   \n",
       "AC233755.1                                 0   \n",
       "AC240274.1                                 0   \n",
       "\n",
       "            _HT062B1_S1PA_AATGGCTAGCACGGAT-1  \\\n",
       "                                               \n",
       "AL627309.1                                 0   \n",
       "AL627309.3                                 0   \n",
       "AL627309.4                                 0   \n",
       "AL732372.1                                 0   \n",
       "AL669831.2                                 0   \n",
       "...                                      ...   \n",
       "AL354822.1                                 0   \n",
       "AC004556.1                                 0   \n",
       "AC233755.2                                 0   \n",
       "AC233755.1                                 0   \n",
       "AC240274.1                                 0   \n",
       "\n",
       "            _HT062B1_S1PA_ACATTTCGTACTAACC-1  \\\n",
       "                                               \n",
       "AL627309.1                                 0   \n",
       "AL627309.3                                 0   \n",
       "AL627309.4                                 0   \n",
       "AL732372.1                                 0   \n",
       "AL669831.2                                 0   \n",
       "...                                      ...   \n",
       "AL354822.1                                 0   \n",
       "AC004556.1                                 0   \n",
       "AC233755.2                                 0   \n",
       "AC233755.1                                 0   \n",
       "AC240274.1                                 0   \n",
       "\n",
       "            _HT062B1_S1PA_ACGTCCTGTGTATACC-1  \\\n",
       "                                               \n",
       "AL627309.1                                 0   \n",
       "AL627309.3                                 0   \n",
       "AL627309.4                                 0   \n",
       "AL732372.1                                 0   \n",
       "AL669831.2                                 0   \n",
       "...                                      ...   \n",
       "AL354822.1                                 0   \n",
       "AC004556.1                                 0   \n",
       "AC233755.2                                 0   \n",
       "AC233755.1                                 0   \n",
       "AC240274.1                                 0   \n",
       "\n",
       "            _HT062B1_S1PA_ACTGTGAGTGTGGACA-1  \\\n",
       "                                               \n",
       "AL627309.1                                 0   \n",
       "AL627309.3                                 0   \n",
       "AL627309.4                                 0   \n",
       "AL732372.1                                 0   \n",
       "AL669831.2                                 0   \n",
       "...                                      ...   \n",
       "AL354822.1                                 0   \n",
       "AC004556.1                                 0   \n",
       "AC233755.2                                 0   \n",
       "AC233755.1                                 0   \n",
       "AC240274.1                                 0   \n",
       "\n",
       "            _HT062B1_S1PA_ACTTCGCCACAAGCAG-1  \\\n",
       "                                               \n",
       "AL627309.1                                 0   \n",
       "AL627309.3                                 0   \n",
       "AL627309.4                                 0   \n",
       "AL732372.1                                 0   \n",
       "AL669831.2                                 0   \n",
       "...                                      ...   \n",
       "AL354822.1                                 0   \n",
       "AC004556.1                                 0   \n",
       "AC233755.2                                 0   \n",
       "AC233755.1                                 0   \n",
       "AC240274.1                                 0   \n",
       "\n",
       "            _HT062B1_S1PA_ATACTTCGTACAAGTA-1  ...  \\\n",
       "                                              ...   \n",
       "AL627309.1                                 0  ...   \n",
       "AL627309.3                                 0  ...   \n",
       "AL627309.4                                 0  ...   \n",
       "AL732372.1                                 0  ...   \n",
       "AL669831.2                                 0  ...   \n",
       "...                                      ...  ...   \n",
       "AL354822.1                                 0  ...   \n",
       "AC004556.1                                 0  ...   \n",
       "AC233755.2                                 0  ...   \n",
       "AC233755.1                                 0  ...   \n",
       "AC240274.1                                 0  ...   \n",
       "\n",
       "            _HT171B1_BC2_TTCGCTGGTATGGTAA-1  _HT171B1_BC2_TTCTAGTCAAGTTCCA-1  \\\n",
       "                                                                               \n",
       "AL627309.1                                0                                0   \n",
       "AL627309.3                                0                                0   \n",
       "AL627309.4                                0                                0   \n",
       "AL732372.1                                0                                0   \n",
       "AL669831.2                                0                                0   \n",
       "...                                     ...                              ...   \n",
       "AL354822.1                                0                                0   \n",
       "AC004556.1                                0                                0   \n",
       "AC233755.2                                0                                0   \n",
       "AC233755.1                                0                                0   \n",
       "AC240274.1                                0                                0   \n",
       "\n",
       "            _HT171B1_BC2_TTCTTGACATGACTGT-1  _HT171B1_BC2_TTGAACGCAAACCACT-1  \\\n",
       "                                                                               \n",
       "AL627309.1                                0                                0   \n",
       "AL627309.3                                0                                0   \n",
       "AL627309.4                                0                                0   \n",
       "AL732372.1                                0                                0   \n",
       "AL669831.2                                0                                0   \n",
       "...                                     ...                              ...   \n",
       "AL354822.1                                0                                0   \n",
       "AC004556.1                                0                                0   \n",
       "AC233755.2                                0                                0   \n",
       "AC233755.1                                0                                0   \n",
       "AC240274.1                                0                                0   \n",
       "\n",
       "            _HT171B1_BC2_TTGAACGTCAAGCCCG-1  _HT171B1_BC2_TTGAACGTCGGATACT-1  \\\n",
       "                                                                               \n",
       "AL627309.1                                0                                0   \n",
       "AL627309.3                                0                                0   \n",
       "AL627309.4                                0                                0   \n",
       "AL732372.1                                0                                0   \n",
       "AL669831.2                                0                                0   \n",
       "...                                     ...                              ...   \n",
       "AL354822.1                                0                                0   \n",
       "AC004556.1                                0                                0   \n",
       "AC233755.2                                0                                0   \n",
       "AC233755.1                                0                                0   \n",
       "AC240274.1                                0                                0   \n",
       "\n",
       "            _HT171B1_BC2_TTGAGTGGTCCAATCA-1  _HT171B1_BC2_TTGATGGCAGAGTGTG-1  \\\n",
       "                                                                               \n",
       "AL627309.1                                0                                0   \n",
       "AL627309.3                                0                                0   \n",
       "AL627309.4                                0                                0   \n",
       "AL732372.1                                0                                0   \n",
       "AL669831.2                                0                                0   \n",
       "...                                     ...                              ...   \n",
       "AL354822.1                                0                                0   \n",
       "AC004556.1                                0                                0   \n",
       "AC233755.2                                0                                0   \n",
       "AC233755.1                                0                                0   \n",
       "AC240274.1                                0                                0   \n",
       "\n",
       "            _HT171B1_BC2_TTGGGATTCGATGCAT-1  _HT171B1_BC2_TTTCAGTGTTCGGTAT-1  \n",
       "                                                                              \n",
       "AL627309.1                                0                                0  \n",
       "AL627309.3                                0                                0  \n",
       "AL627309.4                                0                                0  \n",
       "AL732372.1                                0                                0  \n",
       "AL669831.2                                0                                0  \n",
       "...                                     ...                              ...  \n",
       "AL354822.1                                0                                0  \n",
       "AC004556.1                                0                                0  \n",
       "AC233755.2                                0                                0  \n",
       "AC233755.1                                0                                0  \n",
       "AC240274.1                                0                                0  \n",
       "\n",
       "[27131 rows x 2600 columns]"
      ]
     },
     "execution_count": 58,
     "metadata": {},
     "output_type": "execute_result"
    }
   ],
   "source": [
    "train_counts"
   ]
  },
  {
   "cell_type": "code",
   "execution_count": null,
   "metadata": {},
   "outputs": [],
   "source": [
    "train_counts"
   ]
  },
  {
   "cell_type": "code",
   "execution_count": null,
   "metadata": {},
   "outputs": [],
   "source": [
    "type(train_counts.values), type(train_counts.values[0, 0])"
   ]
  },
  {
   "cell_type": "code",
   "execution_count": null,
   "metadata": {},
   "outputs": [],
   "source": [
    "vals = sorted(set(train_counts.values.flatten()))\n",
    "vals"
   ]
  },
  {
   "cell_type": "code",
   "execution_count": null,
   "metadata": {},
   "outputs": [],
   "source": [
    "vals[:10], vals[-10:]"
   ]
  },
  {
   "cell_type": "code",
   "execution_count": null,
   "metadata": {},
   "outputs": [],
   "source": [
    "train_counts.values[train_counts.values>1000] = 1000"
   ]
  },
  {
   "cell_type": "code",
   "execution_count": null,
   "metadata": {},
   "outputs": [],
   "source": [
    "np.where(train_counts>1)"
   ]
  },
  {
   "cell_type": "code",
   "execution_count": 59,
   "metadata": {},
   "outputs": [
    {
     "data": {
      "text/plain": [
       "b'\\r  |                                                                            \\r  |                                                                      |   0%\\r  |                                                                            \\r  |==================                                                    |  25%\\r  |                                                                            \\r  |===================================                                   |  50%\\r  |                                                                            \\r  |====================================================                  |  75%\\r  |                                                                            \\r  |======================================================================| 100%\\n\\r  |                                                                            \\r  |                                                                      |   0%\\r  |                                                                            \\r  |==                                                                    |   3%\\r  |                                                                            \\r  |====                                                                  |   6%\\r  |                                                                            \\r  |======                                                                |   9%\\r  |                                                                            \\r  |========                                                              |  11%\\r  |                                                                            \\r  |==========                                                            |  14%\\r  |                                                                            \\r  |============                                                          |  17%\\r  |                                                                            \\r  |==============                                                        |  20%\\r  |                                                                            \\r  |================                                                      |  23%\\r  |                                                                            \\r  |==================                                                    |  26%\\r  |                                                                            \\r  |====================                                                  |  29%\\r  |                                                                            \\r  |======================                                                |  31%\\r  |                                                                            \\r  |========================                                              |  34%\\r  |                                                                            \\r  |==========================                                            |  37%\\r  |                                                                            \\r  |============================                                          |  40%\\r  |                                                                            \\r  |==============================                                        |  43%\\r  |                                                                            \\r  |================================                                      |  46%\\r  |                                                                            \\r  |==================================                                    |  49%\\r  |                                                                            \\r  |====================================                                  |  51%\\r  |                                                                            \\r  |======================================                                |  54%\\r  |                                                                            \\r  |========================================                              |  57%\\r  |                                                                            \\r  |==========================================                            |  60%\\r  |                                                                            \\r  |============================================                          |  63%\\r  |                                                                            \\r  |==============================================                        |  66%\\r  |                                                                            \\r  |================================================                      |  69%\\r  |                                                                            \\r  |==================================================                    |  71%\\r  |                                                                            \\r  |====================================================                  |  74%\\r  |                                                                            \\r  |======================================================                |  77%\\r  |                                                                            \\r  |========================================================              |  80%\\r  |                                                                            \\r  |==========================================================            |  83%\\r  |                                                                            \\r  |============================================================          |  86%\\r  |                                                                            \\r  |==============================================================        |  89%\\r  |                                                                            \\r  |================================================================      |  91%\\r  |                                                                            \\r  |==================================================================    |  94%\\r  |                                                                            \\r  |====================================================================  |  97%\\r  |                                                                            \\r  |======================================================================| 100%\\n\\r  |                                                                            \\r  |                                                                      |   0%\\r  |                                                                            \\r  |==                                                                    |   3%\\r  |                                                                            \\r  |====                                                                  |   6%\\r  |                                                                            \\r  |======                                                                |   9%\\r  |                                                                            \\r  |========                                                              |  11%\\r  |                                                                            \\r  |==========                                                            |  14%\\r  |                                                                            \\r  |============                                                          |  17%\\r  |                                                                            \\r  |==============                                                        |  20%\\r  |                                                                            \\r  |================                                                      |  23%\\r  |                                                                            \\r  |==================                                                    |  26%\\r  |                                                                            \\r  |====================                                                  |  29%\\r  |                                                                            \\r  |======================                                                |  31%\\r  |                                                                            \\r  |========================                                              |  34%\\r  |                                                                            \\r  |==========================                                            |  37%\\r  |                                                                            \\r  |============================                                          |  40%\\r  |                                                                            \\r  |==============================                                        |  43%\\r  |                                                                            \\r  |================================                                      |  46%\\r  |                                                                            \\r  |==================================                                    |  49%\\r  |                                                                            \\r  |====================================                                  |  51%\\r  |                                                                            \\r  |======================================                                |  54%\\r  |                                                                            \\r  |========================================                              |  57%\\r  |                                                                            \\r  |==========================================                            |  60%\\r  |                                                                            \\r  |============================================                          |  63%\\r  |                                                                            \\r  |==============================================                        |  66%\\r  |                                                                            \\r  |================================================                      |  69%\\r  |                                                                            \\r  |==================================================                    |  71%\\r  |                                                                            \\r  |====================================================                  |  74%\\r  |                                                                            \\r  |======================================================                |  77%\\r  |                                                                            \\r  |========================================================              |  80%\\r  |                                                                            \\r  |==========================================================            |  83%\\r  |                                                                            \\r  |============================================================          |  86%\\r  |                                                                            \\r  |==============================================================        |  89%\\r  |                                                                            \\r  |================================================================      |  91%\\r  |                                                                            \\r  |==================================================================    |  94%\\r  |                                                                            \\r  |====================================================================  |  97%\\r  |                                                                            \\r  |======================================================================| 100%\\n\\r  |                                                                            \\r  |                                                                      |   0%\\r  |                                                                            \\r  |==================                                                    |  25%\\r  |                                                                            \\r  |===================================                                   |  50%\\r  |                                                                            \\r  |====================================================                  |  75%\\r  |                                                                            \\r  |======================================================================| 100%\\n\\r  |                                                                            \\r  |                                                                      |   0%\\r  |                                                                            \\r  |==                                                                    |   2%\\r  |                                                                            \\r  |===                                                                   |   5%\\r  |                                                                            \\r  |=====                                                                 |   7%\\r  |                                                                            \\r  |=======                                                               |  10%\\r  |                                                                            \\r  |========                                                              |  12%\\r  |                                                                            \\r  |==========                                                            |  14%\\r  |                                                                            \\r  |============                                                          |  17%\\r  |                                                                            \\r  |=============                                                         |  19%\\r  |                                                                            \\r  |===============                                                       |  21%\\r  |                                                                            \\r  |=================                                                     |  24%\\r  |                                                                            \\r  |==================                                                    |  26%\\r  |                                                                            \\r  |====================                                                  |  29%\\r  |                                                                            \\r  |======================                                                |  31%\\r  |                                                                            \\r  |=======================                                               |  33%\\r  |                                                                            \\r  |=========================                                             |  36%\\r  |                                                                            \\r  |===========================                                           |  38%\\r  |                                                                            \\r  |============================                                          |  40%\\r  |                                                                            \\r  |==============================                                        |  43%\\r  |                                                                            \\r  |================================                                      |  45%\\r  |                                                                            \\r  |=================================                                     |  48%\\r  |                                                                            \\r  |===================================                                   |  50%\\r  |                                                                            \\r  |=====================================                                 |  52%\\r  |                                                                            \\r  |======================================                                |  55%\\r  |                                                                            \\r  |========================================                              |  57%\\r  |                                                                            \\r  |==========================================                            |  60%\\r  |                                                                            \\r  |===========================================                           |  62%\\r  |                                                                            \\r  |=============================================                         |  64%\\r  |                                                                            \\r  |===============================================                       |  67%\\r  |                                                                            \\r  |================================================                      |  69%\\r  |                                                                            \\r  |==================================================                    |  71%\\r  |                                                                            \\r  |====================================================                  |  74%\\r  |                                                                            \\r  |=====================================================                 |  76%\\r  |                                                                            \\r  |=======================================================               |  79%\\r  |                                                                            \\r  |=========================================================             |  81%\\r  |                                                                            \\r  |==========================================================            |  83%\\r  |                                                                            \\r  |============================================================          |  86%\\r  |                                                                            \\r  |==============================================================        |  88%\\r  |                                                                            \\r  |===============================================================       |  90%\\r  |                                                                            \\r  |=================================================================     |  93%\\r  |                                                                            \\r  |===================================================================   |  95%\\r  |                                                                            \\r  |====================================================================  |  98%\\r  |                                                                            \\r  |======================================================================| 100%\\n\\r  |                                                                            \\r  |                                                                      |   0%\\r  |                                                                            \\r  |==                                                                    |   2%\\r  |                                                                            \\r  |===                                                                   |   5%\\r  |                                                                            \\r  |=====                                                                 |   7%\\r  |                                                                            \\r  |=======                                                               |  10%\\r  |                                                                            \\r  |========                                                              |  12%\\r  |                                                                            \\r  |==========                                                            |  14%\\r  |                                                                            \\r  |============                                                          |  17%\\r  |                                                                            \\r  |=============                                                         |  19%\\r  |                                                                            \\r  |===============                                                       |  21%\\r  |                                                                            \\r  |=================                                                     |  24%\\r  |                                                                            \\r  |==================                                                    |  26%\\r  |                                                                            \\r  |====================                                                  |  29%\\r  |                                                                            \\r  |======================                                                |  31%\\r  |                                                                            \\r  |=======================                                               |  33%\\r  |                                                                            \\r  |=========================                                             |  36%\\r  |                                                                            \\r  |===========================                                           |  38%\\r  |                                                                            \\r  |============================                                          |  40%\\r  |                                                                            \\r  |==============================                                        |  43%\\r  |                                                                            \\r  |================================                                      |  45%\\r  |                                                                            \\r  |=================================                                     |  48%\\r  |                                                                            \\r  |===================================                                   |  50%\\r  |                                                                            \\r  |=====================================                                 |  52%\\r  |                                                                            \\r  |======================================                                |  55%\\r  |                                                                            \\r  |========================================                              |  57%\\r  |                                                                            \\r  |==========================================                            |  60%\\r  |                                                                            \\r  |===========================================                           |  62%\\r  |                                                                            \\r  |=============================================                         |  64%\\r  |                                                                            \\r  |===============================================                       |  67%\\r  |                                                                            \\r  |================================================                      |  69%\\r  |                                                                            \\r  |==================================================                    |  71%\\r  |                                                                            \\r  |====================================================                  |  74%\\r  |                                                                            \\r  |=====================================================                 |  76%\\r  |                                                                            \\r  |=======================================================               |  79%\\r  |                                                                            \\r  |=========================================================             |  81%\\r  |                                                                            \\r  |==========================================================            |  83%\\r  |                                                                            \\r  |============================================================          |  86%\\r  |                                                                            \\r  |==============================================================        |  88%\\r  |                                                                            \\r  |===============================================================       |  90%\\r  |                                                                            \\r  |=================================================================     |  93%\\r  |                                                                            \\r  |===================================================================   |  95%\\r  |                                                                            \\r  |====================================================================  |  98%\\r  |                                                                            \\r  |======================================================================| 100%\\n[1] \"starting predictions\"\\n'"
      ]
     },
     "execution_count": 59,
     "metadata": {},
     "output_type": "execute_result"
    }
   ],
   "source": [
    "# actually run the script and read the results back in\n",
    "prediction_fp = os.path.join(SANDBOX_DIR, 'seurat_predictions.txt')\n",
    "subprocess.check_output(('Rscript', SEURAT_SCRIPT, train_counts_fp, train_annotations_fp,\n",
    "                    val_counts_fp, val_annotations_fp, prediction_fp))"
   ]
  },
  {
   "cell_type": "code",
   "execution_count": 65,
   "metadata": {},
   "outputs": [
    {
     "data": {
      "text/html": [
       "<div>\n",
       "<style scoped>\n",
       "    .dataframe tbody tr th:only-of-type {\n",
       "        vertical-align: middle;\n",
       "    }\n",
       "\n",
       "    .dataframe tbody tr th {\n",
       "        vertical-align: top;\n",
       "    }\n",
       "\n",
       "    .dataframe thead th {\n",
       "        text-align: right;\n",
       "    }\n",
       "</style>\n",
       "<table border=\"1\" class=\"dataframe\">\n",
       "  <thead>\n",
       "    <tr style=\"text-align: right;\">\n",
       "      <th></th>\n",
       "      <th>cell_id</th>\n",
       "      <th>groundtruth</th>\n",
       "      <th>predicted</th>\n",
       "      <th>probability</th>\n",
       "    </tr>\n",
       "  </thead>\n",
       "  <tbody>\n",
       "    <tr>\n",
       "      <th>_HT062B1_S1PA_AAACGAATCGTGGCGT-1</th>\n",
       "      <td>_HT062B1_S1PA_AAACGAATCGTGGCGT-1</td>\n",
       "      <td>CD8 T cell</td>\n",
       "      <td>CD8 T cell</td>\n",
       "      <td>0.928408</td>\n",
       "    </tr>\n",
       "    <tr>\n",
       "      <th>_HT062B1_S1PA_AAAGAACAGCTATCTG-1</th>\n",
       "      <td>_HT062B1_S1PA_AAAGAACAGCTATCTG-1</td>\n",
       "      <td>NK</td>\n",
       "      <td>NK</td>\n",
       "      <td>1.000000</td>\n",
       "    </tr>\n",
       "    <tr>\n",
       "      <th>_HT062B1_S1PA_AAAGGATTCTGCCTGT-1</th>\n",
       "      <td>_HT062B1_S1PA_AAAGGATTCTGCCTGT-1</td>\n",
       "      <td>Endothelial</td>\n",
       "      <td>Endothelial</td>\n",
       "      <td>1.000000</td>\n",
       "    </tr>\n",
       "    <tr>\n",
       "      <th>_HT062B1_S1PA_AAAGGTAGTGGAAGTC-1</th>\n",
       "      <td>_HT062B1_S1PA_AAAGGTAGTGGAAGTC-1</td>\n",
       "      <td>Treg</td>\n",
       "      <td>Treg</td>\n",
       "      <td>0.951956</td>\n",
       "    </tr>\n",
       "    <tr>\n",
       "      <th>_HT062B1_S1PA_AACAACCTCACTCACC-1</th>\n",
       "      <td>_HT062B1_S1PA_AACAACCTCACTCACC-1</td>\n",
       "      <td>Endothelial</td>\n",
       "      <td>Endothelial</td>\n",
       "      <td>1.000000</td>\n",
       "    </tr>\n",
       "    <tr>\n",
       "      <th>...</th>\n",
       "      <td>...</td>\n",
       "      <td>...</td>\n",
       "      <td>...</td>\n",
       "      <td>...</td>\n",
       "    </tr>\n",
       "    <tr>\n",
       "      <th>_HT171B1_BC2_TTTCGATGTGTAGGAC-1</th>\n",
       "      <td>_HT171B1_BC2_TTTCGATGTGTAGGAC-1</td>\n",
       "      <td>CD4 T cell</td>\n",
       "      <td>CD4 T cell</td>\n",
       "      <td>0.916704</td>\n",
       "    </tr>\n",
       "    <tr>\n",
       "      <th>_HT171B1_BC2_TTTGACTGTCGATTTG-1</th>\n",
       "      <td>_HT171B1_BC2_TTTGACTGTCGATTTG-1</td>\n",
       "      <td>CD8 T cell</td>\n",
       "      <td>CD8 T cell</td>\n",
       "      <td>0.931814</td>\n",
       "    </tr>\n",
       "    <tr>\n",
       "      <th>_HT171B1_BC2_TTTGACTGTCGGTGAA-1</th>\n",
       "      <td>_HT171B1_BC2_TTTGACTGTCGGTGAA-1</td>\n",
       "      <td>CD4 T cell</td>\n",
       "      <td>CD4 T cell</td>\n",
       "      <td>0.914046</td>\n",
       "    </tr>\n",
       "    <tr>\n",
       "      <th>_HT171B1_BC2_TTTGGTTCATAGACTC-1</th>\n",
       "      <td>_HT171B1_BC2_TTTGGTTCATAGACTC-1</td>\n",
       "      <td>CD4 T cell</td>\n",
       "      <td>CD4 T cell</td>\n",
       "      <td>0.801086</td>\n",
       "    </tr>\n",
       "    <tr>\n",
       "      <th>_HT171B1_BC2_TTTGGTTGTTGCTGAT-1</th>\n",
       "      <td>_HT171B1_BC2_TTTGGTTGTTGCTGAT-1</td>\n",
       "      <td>CD8 T cell</td>\n",
       "      <td>CD8 T cell</td>\n",
       "      <td>0.926039</td>\n",
       "    </tr>\n",
       "  </tbody>\n",
       "</table>\n",
       "<p>11253 rows × 4 columns</p>\n",
       "</div>"
      ],
      "text/plain": [
       "                                                           cell_id  \\\n",
       "_HT062B1_S1PA_AAACGAATCGTGGCGT-1  _HT062B1_S1PA_AAACGAATCGTGGCGT-1   \n",
       "_HT062B1_S1PA_AAAGAACAGCTATCTG-1  _HT062B1_S1PA_AAAGAACAGCTATCTG-1   \n",
       "_HT062B1_S1PA_AAAGGATTCTGCCTGT-1  _HT062B1_S1PA_AAAGGATTCTGCCTGT-1   \n",
       "_HT062B1_S1PA_AAAGGTAGTGGAAGTC-1  _HT062B1_S1PA_AAAGGTAGTGGAAGTC-1   \n",
       "_HT062B1_S1PA_AACAACCTCACTCACC-1  _HT062B1_S1PA_AACAACCTCACTCACC-1   \n",
       "...                                                            ...   \n",
       "_HT171B1_BC2_TTTCGATGTGTAGGAC-1    _HT171B1_BC2_TTTCGATGTGTAGGAC-1   \n",
       "_HT171B1_BC2_TTTGACTGTCGATTTG-1    _HT171B1_BC2_TTTGACTGTCGATTTG-1   \n",
       "_HT171B1_BC2_TTTGACTGTCGGTGAA-1    _HT171B1_BC2_TTTGACTGTCGGTGAA-1   \n",
       "_HT171B1_BC2_TTTGGTTCATAGACTC-1    _HT171B1_BC2_TTTGGTTCATAGACTC-1   \n",
       "_HT171B1_BC2_TTTGGTTGTTGCTGAT-1    _HT171B1_BC2_TTTGGTTGTTGCTGAT-1   \n",
       "\n",
       "                                  groundtruth    predicted  probability  \n",
       "_HT062B1_S1PA_AAACGAATCGTGGCGT-1   CD8 T cell   CD8 T cell     0.928408  \n",
       "_HT062B1_S1PA_AAAGAACAGCTATCTG-1           NK           NK     1.000000  \n",
       "_HT062B1_S1PA_AAAGGATTCTGCCTGT-1  Endothelial  Endothelial     1.000000  \n",
       "_HT062B1_S1PA_AAAGGTAGTGGAAGTC-1         Treg         Treg     0.951956  \n",
       "_HT062B1_S1PA_AACAACCTCACTCACC-1  Endothelial  Endothelial     1.000000  \n",
       "...                                       ...          ...          ...  \n",
       "_HT171B1_BC2_TTTCGATGTGTAGGAC-1    CD4 T cell   CD4 T cell     0.916704  \n",
       "_HT171B1_BC2_TTTGACTGTCGATTTG-1    CD8 T cell   CD8 T cell     0.931814  \n",
       "_HT171B1_BC2_TTTGACTGTCGGTGAA-1    CD4 T cell   CD4 T cell     0.914046  \n",
       "_HT171B1_BC2_TTTGGTTCATAGACTC-1    CD4 T cell   CD4 T cell     0.801086  \n",
       "_HT171B1_BC2_TTTGGTTGTTGCTGAT-1    CD8 T cell   CD8 T cell     0.926039  \n",
       "\n",
       "[11253 rows x 4 columns]"
      ]
     },
     "execution_count": 65,
     "metadata": {},
     "output_type": "execute_result"
    }
   ],
   "source": [
    "# format the predictions dataframe\n",
    "df = pd.read_csv(prediction_fp, sep='\\t')\n",
    "df.index = [x.replace('.', '-') for x in df.index]\n",
    "# also remove that weird X thing seurat sometimes puts there\n",
    "df.index = [x[1:] if x[:2]=='X_' else x for x in df.index]\n",
    "df = pd.merge(df, val.obs, left_index=True, right_index=True)\n",
    "df['cell_id'] = df.index.to_list()\n",
    "df = df[['cell_id', 'cell_type', 'predicted.id', 'prediction.score.max']]        \n",
    "df.columns = ['cell_id', 'groundtruth', 'predicted', 'probability']\n",
    "df"
   ]
  },
  {
   "cell_type": "code",
   "execution_count": 61,
   "metadata": {},
   "outputs": [
    {
     "data": {
      "text/html": [
       "<div>\n",
       "<style scoped>\n",
       "    .dataframe tbody tr th:only-of-type {\n",
       "        vertical-align: middle;\n",
       "    }\n",
       "\n",
       "    .dataframe tbody tr th {\n",
       "        vertical-align: top;\n",
       "    }\n",
       "\n",
       "    .dataframe thead th {\n",
       "        text-align: right;\n",
       "    }\n",
       "</style>\n",
       "<table border=\"1\" class=\"dataframe\">\n",
       "  <thead>\n",
       "    <tr style=\"text-align: right;\">\n",
       "      <th></th>\n",
       "      <th>orig.ident</th>\n",
       "      <th>nCount_RNA</th>\n",
       "      <th>nFeature_RNA</th>\n",
       "      <th>percent.mito</th>\n",
       "      <th>nCount_SCT</th>\n",
       "      <th>nFeature_SCT</th>\n",
       "      <th>SCT_snn_res.0.5</th>\n",
       "      <th>seurat_clusters</th>\n",
       "      <th>sample</th>\n",
       "      <th>tissue_type</th>\n",
       "      <th>cell_type</th>\n",
       "      <th>cell_type_specific</th>\n",
       "      <th>Piece_ID</th>\n",
       "      <th>Clinical_Subtype</th>\n",
       "      <th>Bulk_PAM50</th>\n",
       "      <th>doublet_score</th>\n",
       "      <th>predicted_doublet</th>\n",
       "      <th>ident</th>\n",
       "    </tr>\n",
       "  </thead>\n",
       "  <tbody>\n",
       "    <tr>\n",
       "      <th>_HT062B1_S1PA_AAACGAATCGTGGCGT-1</th>\n",
       "      <td>TWCE-HT062B1-S1PAA1A1Z1B1</td>\n",
       "      <td>3098.0</td>\n",
       "      <td>1172</td>\n",
       "      <td>0.096191</td>\n",
       "      <td>3487.0</td>\n",
       "      <td>1172</td>\n",
       "      <td>2</td>\n",
       "      <td>2</td>\n",
       "      <td>HT062B1</td>\n",
       "      <td>Tumor tissue</td>\n",
       "      <td>CD8 T cell</td>\n",
       "      <td>NK</td>\n",
       "      <td>HT062B1_S1PA</td>\n",
       "      <td>TNBC</td>\n",
       "      <td>Her2</td>\n",
       "      <td>0.030261</td>\n",
       "      <td>0</td>\n",
       "      <td>2</td>\n",
       "    </tr>\n",
       "    <tr>\n",
       "      <th>_HT062B1_S1PA_AAAGAACAGCTATCTG-1</th>\n",
       "      <td>TWCE-HT062B1-S1PAA1A1Z1B1</td>\n",
       "      <td>4761.0</td>\n",
       "      <td>1779</td>\n",
       "      <td>0.051250</td>\n",
       "      <td>4226.0</td>\n",
       "      <td>1779</td>\n",
       "      <td>11</td>\n",
       "      <td>11</td>\n",
       "      <td>HT062B1</td>\n",
       "      <td>Tumor tissue</td>\n",
       "      <td>NK</td>\n",
       "      <td>NK</td>\n",
       "      <td>HT062B1_S1PA</td>\n",
       "      <td>TNBC</td>\n",
       "      <td>Her2</td>\n",
       "      <td>0.018460</td>\n",
       "      <td>0</td>\n",
       "      <td>11</td>\n",
       "    </tr>\n",
       "    <tr>\n",
       "      <th>_HT062B1_S1PA_AAAGGATTCTGCCTGT-1</th>\n",
       "      <td>TWCE-HT062B1-S1PAA1A1Z1B1</td>\n",
       "      <td>74559.0</td>\n",
       "      <td>9098</td>\n",
       "      <td>0.003527</td>\n",
       "      <td>4737.0</td>\n",
       "      <td>2302</td>\n",
       "      <td>4</td>\n",
       "      <td>4</td>\n",
       "      <td>HT062B1</td>\n",
       "      <td>Tumor tissue</td>\n",
       "      <td>Endothelial</td>\n",
       "      <td>Endothelial</td>\n",
       "      <td>HT062B1_S1PA</td>\n",
       "      <td>TNBC</td>\n",
       "      <td>Her2</td>\n",
       "      <td>0.083898</td>\n",
       "      <td>0</td>\n",
       "      <td>4</td>\n",
       "    </tr>\n",
       "    <tr>\n",
       "      <th>_HT062B1_S1PA_AAAGGTAGTGGAAGTC-1</th>\n",
       "      <td>TWCE-HT062B1-S1PAA1A1Z1B1</td>\n",
       "      <td>3204.0</td>\n",
       "      <td>1250</td>\n",
       "      <td>0.031835</td>\n",
       "      <td>3514.0</td>\n",
       "      <td>1250</td>\n",
       "      <td>0</td>\n",
       "      <td>0</td>\n",
       "      <td>HT062B1</td>\n",
       "      <td>Tumor tissue</td>\n",
       "      <td>Treg</td>\n",
       "      <td>Treg</td>\n",
       "      <td>HT062B1_S1PA</td>\n",
       "      <td>TNBC</td>\n",
       "      <td>Her2</td>\n",
       "      <td>0.030261</td>\n",
       "      <td>0</td>\n",
       "      <td>0</td>\n",
       "    </tr>\n",
       "    <tr>\n",
       "      <th>_HT062B1_S1PA_AACAACCTCACTCACC-1</th>\n",
       "      <td>TWCE-HT062B1-S1PAA1A1Z1B1</td>\n",
       "      <td>15285.0</td>\n",
       "      <td>4271</td>\n",
       "      <td>0.054498</td>\n",
       "      <td>4281.0</td>\n",
       "      <td>1968</td>\n",
       "      <td>4</td>\n",
       "      <td>4</td>\n",
       "      <td>HT062B1</td>\n",
       "      <td>Tumor tissue</td>\n",
       "      <td>Endothelial</td>\n",
       "      <td>Endothelial</td>\n",
       "      <td>HT062B1_S1PA</td>\n",
       "      <td>TNBC</td>\n",
       "      <td>Her2</td>\n",
       "      <td>0.031609</td>\n",
       "      <td>0</td>\n",
       "      <td>4</td>\n",
       "    </tr>\n",
       "    <tr>\n",
       "      <th>...</th>\n",
       "      <td>...</td>\n",
       "      <td>...</td>\n",
       "      <td>...</td>\n",
       "      <td>...</td>\n",
       "      <td>...</td>\n",
       "      <td>...</td>\n",
       "      <td>...</td>\n",
       "      <td>...</td>\n",
       "      <td>...</td>\n",
       "      <td>...</td>\n",
       "      <td>...</td>\n",
       "      <td>...</td>\n",
       "      <td>...</td>\n",
       "      <td>...</td>\n",
       "      <td>...</td>\n",
       "      <td>...</td>\n",
       "      <td>...</td>\n",
       "      <td>...</td>\n",
       "    </tr>\n",
       "    <tr>\n",
       "      <th>_HT171B1_BC2_TTTCGATGTGTAGGAC-1</th>\n",
       "      <td>TWCE-HT171B1-BC2</td>\n",
       "      <td>3090.0</td>\n",
       "      <td>1231</td>\n",
       "      <td>0.030421</td>\n",
       "      <td>3479.0</td>\n",
       "      <td>1231</td>\n",
       "      <td>0</td>\n",
       "      <td>0</td>\n",
       "      <td>HT171B1</td>\n",
       "      <td>Tumor tissue</td>\n",
       "      <td>CD4 T cell</td>\n",
       "      <td>CD4_T</td>\n",
       "      <td>HT171B1_S1H8</td>\n",
       "      <td>TNBC</td>\n",
       "      <td>Basal</td>\n",
       "      <td>0.066288</td>\n",
       "      <td>0</td>\n",
       "      <td>0</td>\n",
       "    </tr>\n",
       "    <tr>\n",
       "      <th>_HT171B1_BC2_TTTGACTGTCGATTTG-1</th>\n",
       "      <td>TWCE-HT171B1-BC2</td>\n",
       "      <td>3594.0</td>\n",
       "      <td>1549</td>\n",
       "      <td>0.059265</td>\n",
       "      <td>3664.0</td>\n",
       "      <td>1549</td>\n",
       "      <td>8</td>\n",
       "      <td>8</td>\n",
       "      <td>HT171B1</td>\n",
       "      <td>Tumor tissue</td>\n",
       "      <td>CD8 T cell</td>\n",
       "      <td>NK</td>\n",
       "      <td>HT171B1_S1H8</td>\n",
       "      <td>TNBC</td>\n",
       "      <td>Basal</td>\n",
       "      <td>0.053524</td>\n",
       "      <td>0</td>\n",
       "      <td>8</td>\n",
       "    </tr>\n",
       "    <tr>\n",
       "      <th>_HT171B1_BC2_TTTGACTGTCGGTGAA-1</th>\n",
       "      <td>TWCE-HT171B1-BC2</td>\n",
       "      <td>1751.0</td>\n",
       "      <td>715</td>\n",
       "      <td>0.083952</td>\n",
       "      <td>3437.0</td>\n",
       "      <td>725</td>\n",
       "      <td>0</td>\n",
       "      <td>0</td>\n",
       "      <td>HT171B1</td>\n",
       "      <td>Tumor tissue</td>\n",
       "      <td>CD4 T cell</td>\n",
       "      <td>CD4_T</td>\n",
       "      <td>HT171B1_S1H8</td>\n",
       "      <td>TNBC</td>\n",
       "      <td>Basal</td>\n",
       "      <td>0.016301</td>\n",
       "      <td>0</td>\n",
       "      <td>0</td>\n",
       "    </tr>\n",
       "    <tr>\n",
       "      <th>_HT171B1_BC2_TTTGGTTCATAGACTC-1</th>\n",
       "      <td>TWCE-HT171B1-BC2</td>\n",
       "      <td>3185.0</td>\n",
       "      <td>1283</td>\n",
       "      <td>0.058713</td>\n",
       "      <td>3511.0</td>\n",
       "      <td>1283</td>\n",
       "      <td>0</td>\n",
       "      <td>0</td>\n",
       "      <td>HT171B1</td>\n",
       "      <td>Tumor tissue</td>\n",
       "      <td>CD4 T cell</td>\n",
       "      <td>CD4_T</td>\n",
       "      <td>HT171B1_S1H8</td>\n",
       "      <td>TNBC</td>\n",
       "      <td>Basal</td>\n",
       "      <td>0.072103</td>\n",
       "      <td>0</td>\n",
       "      <td>0</td>\n",
       "    </tr>\n",
       "    <tr>\n",
       "      <th>_HT171B1_BC2_TTTGGTTGTTGCTGAT-1</th>\n",
       "      <td>TWCE-HT171B1-BC2</td>\n",
       "      <td>4638.0</td>\n",
       "      <td>2033</td>\n",
       "      <td>0.099612</td>\n",
       "      <td>4229.0</td>\n",
       "      <td>2033</td>\n",
       "      <td>8</td>\n",
       "      <td>8</td>\n",
       "      <td>HT171B1</td>\n",
       "      <td>Tumor tissue</td>\n",
       "      <td>CD8 T cell</td>\n",
       "      <td>CD8_T_exhausted</td>\n",
       "      <td>HT171B1_S1H8</td>\n",
       "      <td>TNBC</td>\n",
       "      <td>Basal</td>\n",
       "      <td>0.049545</td>\n",
       "      <td>0</td>\n",
       "      <td>8</td>\n",
       "    </tr>\n",
       "  </tbody>\n",
       "</table>\n",
       "<p>11253 rows × 18 columns</p>\n",
       "</div>"
      ],
      "text/plain": [
       "                                                 orig.ident  nCount_RNA  \\\n",
       "_HT062B1_S1PA_AAACGAATCGTGGCGT-1  TWCE-HT062B1-S1PAA1A1Z1B1      3098.0   \n",
       "_HT062B1_S1PA_AAAGAACAGCTATCTG-1  TWCE-HT062B1-S1PAA1A1Z1B1      4761.0   \n",
       "_HT062B1_S1PA_AAAGGATTCTGCCTGT-1  TWCE-HT062B1-S1PAA1A1Z1B1     74559.0   \n",
       "_HT062B1_S1PA_AAAGGTAGTGGAAGTC-1  TWCE-HT062B1-S1PAA1A1Z1B1      3204.0   \n",
       "_HT062B1_S1PA_AACAACCTCACTCACC-1  TWCE-HT062B1-S1PAA1A1Z1B1     15285.0   \n",
       "...                                                     ...         ...   \n",
       "_HT171B1_BC2_TTTCGATGTGTAGGAC-1            TWCE-HT171B1-BC2      3090.0   \n",
       "_HT171B1_BC2_TTTGACTGTCGATTTG-1            TWCE-HT171B1-BC2      3594.0   \n",
       "_HT171B1_BC2_TTTGACTGTCGGTGAA-1            TWCE-HT171B1-BC2      1751.0   \n",
       "_HT171B1_BC2_TTTGGTTCATAGACTC-1            TWCE-HT171B1-BC2      3185.0   \n",
       "_HT171B1_BC2_TTTGGTTGTTGCTGAT-1            TWCE-HT171B1-BC2      4638.0   \n",
       "\n",
       "                                  nFeature_RNA  percent.mito  nCount_SCT  \\\n",
       "_HT062B1_S1PA_AAACGAATCGTGGCGT-1          1172      0.096191      3487.0   \n",
       "_HT062B1_S1PA_AAAGAACAGCTATCTG-1          1779      0.051250      4226.0   \n",
       "_HT062B1_S1PA_AAAGGATTCTGCCTGT-1          9098      0.003527      4737.0   \n",
       "_HT062B1_S1PA_AAAGGTAGTGGAAGTC-1          1250      0.031835      3514.0   \n",
       "_HT062B1_S1PA_AACAACCTCACTCACC-1          4271      0.054498      4281.0   \n",
       "...                                        ...           ...         ...   \n",
       "_HT171B1_BC2_TTTCGATGTGTAGGAC-1           1231      0.030421      3479.0   \n",
       "_HT171B1_BC2_TTTGACTGTCGATTTG-1           1549      0.059265      3664.0   \n",
       "_HT171B1_BC2_TTTGACTGTCGGTGAA-1            715      0.083952      3437.0   \n",
       "_HT171B1_BC2_TTTGGTTCATAGACTC-1           1283      0.058713      3511.0   \n",
       "_HT171B1_BC2_TTTGGTTGTTGCTGAT-1           2033      0.099612      4229.0   \n",
       "\n",
       "                                  nFeature_SCT SCT_snn_res.0.5  \\\n",
       "_HT062B1_S1PA_AAACGAATCGTGGCGT-1          1172               2   \n",
       "_HT062B1_S1PA_AAAGAACAGCTATCTG-1          1779              11   \n",
       "_HT062B1_S1PA_AAAGGATTCTGCCTGT-1          2302               4   \n",
       "_HT062B1_S1PA_AAAGGTAGTGGAAGTC-1          1250               0   \n",
       "_HT062B1_S1PA_AACAACCTCACTCACC-1          1968               4   \n",
       "...                                        ...             ...   \n",
       "_HT171B1_BC2_TTTCGATGTGTAGGAC-1           1231               0   \n",
       "_HT171B1_BC2_TTTGACTGTCGATTTG-1           1549               8   \n",
       "_HT171B1_BC2_TTTGACTGTCGGTGAA-1            725               0   \n",
       "_HT171B1_BC2_TTTGGTTCATAGACTC-1           1283               0   \n",
       "_HT171B1_BC2_TTTGGTTGTTGCTGAT-1           2033               8   \n",
       "\n",
       "                                 seurat_clusters   sample   tissue_type  \\\n",
       "_HT062B1_S1PA_AAACGAATCGTGGCGT-1               2  HT062B1  Tumor tissue   \n",
       "_HT062B1_S1PA_AAAGAACAGCTATCTG-1              11  HT062B1  Tumor tissue   \n",
       "_HT062B1_S1PA_AAAGGATTCTGCCTGT-1               4  HT062B1  Tumor tissue   \n",
       "_HT062B1_S1PA_AAAGGTAGTGGAAGTC-1               0  HT062B1  Tumor tissue   \n",
       "_HT062B1_S1PA_AACAACCTCACTCACC-1               4  HT062B1  Tumor tissue   \n",
       "...                                          ...      ...           ...   \n",
       "_HT171B1_BC2_TTTCGATGTGTAGGAC-1                0  HT171B1  Tumor tissue   \n",
       "_HT171B1_BC2_TTTGACTGTCGATTTG-1                8  HT171B1  Tumor tissue   \n",
       "_HT171B1_BC2_TTTGACTGTCGGTGAA-1                0  HT171B1  Tumor tissue   \n",
       "_HT171B1_BC2_TTTGGTTCATAGACTC-1                0  HT171B1  Tumor tissue   \n",
       "_HT171B1_BC2_TTTGGTTGTTGCTGAT-1                8  HT171B1  Tumor tissue   \n",
       "\n",
       "                                    cell_type cell_type_specific  \\\n",
       "_HT062B1_S1PA_AAACGAATCGTGGCGT-1   CD8 T cell                 NK   \n",
       "_HT062B1_S1PA_AAAGAACAGCTATCTG-1           NK                 NK   \n",
       "_HT062B1_S1PA_AAAGGATTCTGCCTGT-1  Endothelial        Endothelial   \n",
       "_HT062B1_S1PA_AAAGGTAGTGGAAGTC-1         Treg               Treg   \n",
       "_HT062B1_S1PA_AACAACCTCACTCACC-1  Endothelial        Endothelial   \n",
       "...                                       ...                ...   \n",
       "_HT171B1_BC2_TTTCGATGTGTAGGAC-1    CD4 T cell              CD4_T   \n",
       "_HT171B1_BC2_TTTGACTGTCGATTTG-1    CD8 T cell                 NK   \n",
       "_HT171B1_BC2_TTTGACTGTCGGTGAA-1    CD4 T cell              CD4_T   \n",
       "_HT171B1_BC2_TTTGGTTCATAGACTC-1    CD4 T cell              CD4_T   \n",
       "_HT171B1_BC2_TTTGGTTGTTGCTGAT-1    CD8 T cell    CD8_T_exhausted   \n",
       "\n",
       "                                      Piece_ID Clinical_Subtype Bulk_PAM50  \\\n",
       "_HT062B1_S1PA_AAACGAATCGTGGCGT-1  HT062B1_S1PA             TNBC       Her2   \n",
       "_HT062B1_S1PA_AAAGAACAGCTATCTG-1  HT062B1_S1PA             TNBC       Her2   \n",
       "_HT062B1_S1PA_AAAGGATTCTGCCTGT-1  HT062B1_S1PA             TNBC       Her2   \n",
       "_HT062B1_S1PA_AAAGGTAGTGGAAGTC-1  HT062B1_S1PA             TNBC       Her2   \n",
       "_HT062B1_S1PA_AACAACCTCACTCACC-1  HT062B1_S1PA             TNBC       Her2   \n",
       "...                                        ...              ...        ...   \n",
       "_HT171B1_BC2_TTTCGATGTGTAGGAC-1   HT171B1_S1H8             TNBC      Basal   \n",
       "_HT171B1_BC2_TTTGACTGTCGATTTG-1   HT171B1_S1H8             TNBC      Basal   \n",
       "_HT171B1_BC2_TTTGACTGTCGGTGAA-1   HT171B1_S1H8             TNBC      Basal   \n",
       "_HT171B1_BC2_TTTGGTTCATAGACTC-1   HT171B1_S1H8             TNBC      Basal   \n",
       "_HT171B1_BC2_TTTGGTTGTTGCTGAT-1   HT171B1_S1H8             TNBC      Basal   \n",
       "\n",
       "                                  doublet_score  predicted_doublet ident  \n",
       "_HT062B1_S1PA_AAACGAATCGTGGCGT-1       0.030261                  0     2  \n",
       "_HT062B1_S1PA_AAAGAACAGCTATCTG-1       0.018460                  0    11  \n",
       "_HT062B1_S1PA_AAAGGATTCTGCCTGT-1       0.083898                  0     4  \n",
       "_HT062B1_S1PA_AAAGGTAGTGGAAGTC-1       0.030261                  0     0  \n",
       "_HT062B1_S1PA_AACAACCTCACTCACC-1       0.031609                  0     4  \n",
       "...                                         ...                ...   ...  \n",
       "_HT171B1_BC2_TTTCGATGTGTAGGAC-1        0.066288                  0     0  \n",
       "_HT171B1_BC2_TTTGACTGTCGATTTG-1        0.053524                  0     8  \n",
       "_HT171B1_BC2_TTTGACTGTCGGTGAA-1        0.016301                  0     0  \n",
       "_HT171B1_BC2_TTTGGTTCATAGACTC-1        0.072103                  0     0  \n",
       "_HT171B1_BC2_TTTGGTTGTTGCTGAT-1        0.049545                  0     8  \n",
       "\n",
       "[11253 rows x 18 columns]"
      ]
     },
     "execution_count": 61,
     "metadata": {},
     "output_type": "execute_result"
    }
   ],
   "source": [
    "val.obs"
   ]
  },
  {
   "cell_type": "markdown",
   "metadata": {},
   "source": [
    "##### SingleCellNet"
   ]
  },
  {
   "cell_type": "code",
   "execution_count": 2,
   "metadata": {},
   "outputs": [],
   "source": [
    "# !pip install git+https://github.com/pcahan1/PySingleCellNet/"
   ]
  },
  {
   "cell_type": "code",
   "execution_count": 12,
   "metadata": {},
   "outputs": [],
   "source": [
    "import pySingleCellNet as pySCN"
   ]
  },
  {
   "cell_type": "code",
   "execution_count": 13,
   "metadata": {},
   "outputs": [],
   "source": [
    "def run_SingleCellNet(train, val, cell_type_key):\n",
    "    # save the input data for the seurat script\n",
    "    cgenesA, xpairs, tspRF = pySCN.scn_train(train,\n",
    "            nTopGenes=100, nRand=100, nTrees=1000, nTopGenePairs=100,\n",
    "            dLevel=cell_type_key, stratify=True, limitToHVG=True, )\n",
    "    predictions = pySCN.scn_classify(val, cgenesA, xpairs, tspRF, nrand = 0)\n",
    "    \n",
    "    df = pd.merge(predictions.obs[['SCN_class']], val.obs, left_index=True, right_index=True)\n",
    "    \n",
    "    df = df[['cell_type', 'SCN_class']]\n",
    "    df.columns = ['groundtruth', 'predicted']\n",
    "    df['cell_id'] = df.index.to_list()\n",
    "    df['probability'] = [np.nan] * df.shape[0]\n",
    "    df = df[['cell_id', 'groundtruth', 'predicted', 'probability']]\n",
    "    \n",
    "\n",
    "    return df"
   ]
  },
  {
   "cell_type": "code",
   "execution_count": 14,
   "metadata": {},
   "outputs": [
    {
     "name": "stdout",
     "output_type": "stream",
     "text": [
      "scRNAseq brca (2600, 27131) (11253, 27131)\n",
      "HVG\n",
      "Matrix normalized\n",
      "There are  1104  classification genes\n",
      "\n",
      "B cell\n",
      "CD4 T cell\n",
      "CD8 T cell\n",
      "Dendritic\n",
      "Endothelial\n",
      "Erythrocyte\n",
      "Fibroblast\n",
      "Malignant\n",
      "Mast\n",
      "Monocyte\n",
      "NK\n",
      "Plasma\n",
      "Treg\n",
      "There are 1270 top gene pairs\n",
      "\n",
      "Finished pair transforming the data\n",
      "\n",
      "scRNAseq cesc (1941, 22928) (8449, 22928)\n",
      "HVG\n",
      "Matrix normalized\n",
      "There are  976  classification genes\n",
      "\n",
      "CD4 T cell\n",
      "CD8 T cell\n",
      "Endothelial\n",
      "Epithelial\n",
      "Erythrocyte\n",
      "Fibroblast\n",
      "Malignant\n",
      "Mast\n",
      "Monocyte\n",
      "NK\n",
      "Plasma\n",
      "There are 1073 top gene pairs\n",
      "\n",
      "Finished pair transforming the data\n",
      "\n",
      "scRNAseq hnscc (2200, 26929) (10288, 26929)\n",
      "HVG\n",
      "Matrix normalized\n",
      "There are  1100  classification genes\n",
      "\n",
      "B cell\n",
      "CD4 T cell\n",
      "CD8 T cell\n",
      "Endothelial\n",
      "Erythrocyte\n",
      "Malignant\n",
      "Mast\n",
      "Monocyte\n",
      "NK\n",
      "Plasma\n",
      "Treg\n",
      "There are 1073 top gene pairs\n",
      "\n",
      "Finished pair transforming the data\n",
      "\n",
      "scRNAseq melanoma (2000, 23452) (6735, 23452)\n",
      "HVG\n",
      "Matrix normalized\n",
      "There are  900  classification genes\n",
      "\n",
      "B cell\n",
      "CD4 T cell\n",
      "CD8 T cell\n",
      "Dendritic\n",
      "Fibroblast\n",
      "Malignant\n",
      "Monocyte\n",
      "NK\n",
      "Plasma\n",
      "Treg\n",
      "There are 977 top gene pairs\n",
      "\n",
      "Finished pair transforming the data\n",
      "\n",
      "scRNAseq pbmc (940, 32738) (1698, 32738)\n",
      "HVG\n",
      "Matrix normalized\n",
      "There are  693  classification genes\n",
      "\n",
      "B cell\n",
      "CD4 T cell\n",
      "CD8 T cell\n",
      "Dendritic\n",
      "Megakaryocyte\n",
      "Monocyte\n",
      "NK\n",
      "There are 683 top gene pairs\n",
      "\n",
      "Finished pair transforming the data\n",
      "\n",
      "scRNAseq pdac (3296, 28756) (15435, 28756)\n",
      "HVG\n",
      "Matrix normalized\n",
      "There are  1358  classification genes\n",
      "\n",
      "Acinar\n",
      "B cell\n",
      "CD4 T cell\n",
      "CD8 T cell\n",
      "Dendritic\n",
      "Endothelial\n",
      "Epithelial\n",
      "Erythrocyte\n",
      "Fibroblast\n",
      "Islet\n",
      "Malignant\n",
      "Mast\n",
      "Monocyte\n",
      "NK\n",
      "Plasma\n",
      "Treg\n",
      "Tuft\n",
      "There are 1637 top gene pairs\n",
      "\n",
      "Finished pair transforming the data\n",
      "\n",
      "snATACseq brca (2064, 19891) (9028, 19891)\n",
      "HVG\n",
      "Matrix normalized\n",
      "There are  1119  classification genes\n",
      "\n",
      "B cell\n",
      "CD4 T cell\n",
      "CD8 T cell\n",
      "Dendritic\n",
      "Endothelial\n",
      "Fibroblast\n",
      "Malignant\n",
      "Mast\n",
      "Monocyte\n",
      "NK\n",
      "Treg\n",
      "There are 1080 top gene pairs\n",
      "\n",
      "Finished pair transforming the data\n",
      "\n",
      "snATACseq gbm (1316, 19891) (5650, 19891)\n",
      "HVG\n",
      "Matrix normalized\n",
      "There are  989  classification genes\n",
      "\n",
      "B cell\n",
      "Endothelial\n",
      "Fibroblast\n",
      "Malignant\n",
      "Microglia\n",
      "Neuron\n",
      "Oligodendrocytes\n",
      "T cells\n",
      "There are 792 top gene pairs\n",
      "\n",
      "Finished pair transforming the data\n",
      "\n",
      "snRNAseq brca (2455, 29175) (9490, 29175)\n",
      "HVG\n",
      "Matrix normalized\n",
      "There are  1163  classification genes\n",
      "\n",
      "Adipocyte\n",
      "B cell\n",
      "CD4 T cell\n",
      "CD8 T cell\n",
      "Dendritic\n",
      "Endothelial\n",
      "Fibroblast\n",
      "Malignant\n",
      "Mast\n",
      "Monocyte\n",
      "NK\n",
      "Plasma\n",
      "Treg\n",
      "There are 1251 top gene pairs\n",
      "\n",
      "Finished pair transforming the data\n",
      "\n",
      "snRNAseq ccrcc (2113, 33538) (8605, 33538)\n",
      "HVG\n",
      "Matrix normalized\n",
      "There are  1142  classification genes\n",
      "\n",
      "CD4 T cell\n",
      "CD8 T cell\n",
      "Dendritic\n",
      "Endothelial\n",
      "Epithelial\n",
      "Fibroblast\n",
      "Malignant\n",
      "Monocyte\n",
      "NK\n",
      "Plasma\n",
      "Treg\n",
      "There are 1074 top gene pairs\n",
      "\n",
      "Finished pair transforming the data\n",
      "\n",
      "snRNAseq gbm (1689, 29748) (6810, 29748)\n",
      "HVG\n",
      "Matrix normalized\n",
      "There are  1005  classification genes\n",
      "\n",
      "B cell\n",
      "Endothelial\n",
      "Fibroblast\n",
      "Malignant\n",
      "Microglia\n",
      "Monocyte\n",
      "Neuron\n",
      "Oligodendrocytes\n",
      "T cells\n",
      "There are 891 top gene pairs\n",
      "\n",
      "Finished pair transforming the data\n",
      "\n"
     ]
    }
   ],
   "source": [
    "run_workflow_for_datasets(adata_map, run_SingleCellNet, 'SingleCellNet', RESULTS_DIR)"
   ]
  },
  {
   "cell_type": "markdown",
   "metadata": {
    "heading_collapsed": true
   },
   "source": [
    "###### testing stuff"
   ]
  },
  {
   "cell_type": "code",
   "execution_count": null,
   "metadata": {
    "hidden": true
   },
   "outputs": [],
   "source": []
  },
  {
   "cell_type": "code",
   "execution_count": null,
   "metadata": {
    "hidden": true
   },
   "outputs": [],
   "source": [
    "train, val = adata_map['scRNAseq']['pbmc']['train'].copy(), adata_map['scRNAseq']['pbmc']['val'].copy()"
   ]
  },
  {
   "cell_type": "code",
   "execution_count": null,
   "metadata": {
    "hidden": true
   },
   "outputs": [],
   "source": [
    "cgenesA, xpairs, tspRF = pySCN.scn_train(train,\n",
    "            nTopGenes = 100, nRand = 100, nTrees = 1000 ,nTopGenePairs = 100,\n",
    "            dLevel = \"cell_type\", stratify=True, limitToHVG=True, )"
   ]
  },
  {
   "cell_type": "code",
   "execution_count": null,
   "metadata": {
    "hidden": true
   },
   "outputs": [],
   "source": [
    "predictions = pySCN.scn_classify(val, cgenesA, xpairs, tspRF, nrand = 0)\n"
   ]
  },
  {
   "cell_type": "code",
   "execution_count": null,
   "metadata": {
    "hidden": true
   },
   "outputs": [],
   "source": [
    "predictions.obs"
   ]
  },
  {
   "cell_type": "code",
   "execution_count": null,
   "metadata": {
    "hidden": true
   },
   "outputs": [],
   "source": [
    "df = pd.merge(predictions.obs[['SCN_class']], val.obs, left_index=True, right_index=True)\n",
    "\n",
    "df = df[['cell_type', 'SCN_class']]\n",
    "df.index.name = 'cell_id'\n",
    "df.columns = ['groundtruth', 'predictions']\n",
    "df['probability'] = [np.nan] * df.shape[0]\n",
    "df"
   ]
  },
  {
   "cell_type": "code",
   "execution_count": null,
   "metadata": {
    "hidden": true
   },
   "outputs": [],
   "source": []
  },
  {
   "cell_type": "markdown",
   "metadata": {},
   "source": [
    "##### pollock"
   ]
  },
  {
   "cell_type": "code",
   "execution_count": null,
   "metadata": {},
   "outputs": [],
   "source": []
  },
  {
   "cell_type": "code",
   "execution_count": null,
   "metadata": {},
   "outputs": [],
   "source": []
  },
  {
   "cell_type": "markdown",
   "metadata": {},
   "source": [
    "###### testing stuff"
   ]
  },
  {
   "cell_type": "code",
   "execution_count": null,
   "metadata": {},
   "outputs": [],
   "source": []
  }
 ],
 "metadata": {
  "kernelspec": {
   "display_name": "Python 3",
   "language": "python",
   "name": "python3"
  },
  "language_info": {
   "codemirror_mode": {
    "name": "ipython",
    "version": 3
   },
   "file_extension": ".py",
   "mimetype": "text/x-python",
   "name": "python",
   "nbconvert_exporter": "python",
   "pygments_lexer": "ipython3",
   "version": "3.7.8"
  }
 },
 "nbformat": 4,
 "nbformat_minor": 4
}
